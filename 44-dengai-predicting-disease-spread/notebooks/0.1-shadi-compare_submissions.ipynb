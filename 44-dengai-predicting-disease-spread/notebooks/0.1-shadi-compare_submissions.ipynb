{
 "cells": [
  {
   "cell_type": "code",
   "execution_count": null,
   "metadata": {},
   "outputs": [],
   "source": [
    "import pandas as pd\n",
    "from matplotlib import pyplot as plt"
   ]
  },
  {
   "cell_type": "code",
   "execution_count": null,
   "metadata": {},
   "outputs": [],
   "source": [
    "df_dates = pd.DataFrame({\n",
    "    'week_start_date': pd.date_range(start='1980-01-01', end='2018-01-01', freq='W-MON').values\n",
    "})\n",
    "df_dates['year'] = df_dates['week_start_date'].apply(lambda x: int(x.strftime(\"%Y\")))\n",
    "df_dates['weekofyear'] = df_dates['week_start_date'].apply(lambda x: int(x.strftime(\"%U\")))\n",
    "df_dates.head(n=2)"
   ]
  },
  {
   "cell_type": "code",
   "execution_count": null,
   "metadata": {},
   "outputs": [],
   "source": [
    "df_preds = []\n",
    "for fn_prev in [\n",
    "    '1-submission_20180530_092740-score_29.csv', # copy last year\n",
    "    ##'2.0-submission_20180530_111647-score_29.csv', # GLM for both cities\n",
    "    '2.1-submission_20180530_133617-score_26.csv', # GLM per city\n",
    "    #'3.0-submission_20180530_141052-score_26.csv', # RF basic\n",
    "    '3.0.1-submission_20180531_062302.csv', # RF with refit\n",
    "    # '3.1-submission_20180530_165638.csv', # RF with diff\n",
    "    # '3.1B-submission_20180531_062845.csv', # RF with diff and ...?\n",
    "    # '3.1.1-submission_20180531_104829.csv', # RF with target being diff\n",
    "    # '3.2-submission_20180531_095313.csv', # RF with diff and classifier\n",
    "    #'3.2-submission_20180531_134029-score_27.csv', # RF with classifier and regressor\n",
    "    '4.0-submission_20180531_083801-score_22.csv', # LSTM regression: basic\n",
    "    #'4.0.1A-submission_20180607_072148.csv', # LSTM regression with deseasoning and all features\n",
    "    #'4.0.1B-submission_20180607_082815.csv', # LSTM regression with deseasoning and using subset of features\n",
    "    #'4.0.1C-submission_20180607_090241.csv', # LSTM regression with deseason and subset from 3.0.1 and lookback=60\n",
    "    # '4.0.1D-submission_20180607_100818.csv', # ditto with all features\n",
    "    '4.0.1E-submission_20180607_102939.csv', # ditto with lstm(100)\n",
    "    #'5-submission_20180605_111301.csv',\n",
    "    # '5-submission_20180605_113132.csv',\n",
    "    #'5.1A-submission_20180606_092324-score_30.csv', # lasso + RF, n_back=10\n",
    "    #'5.1B-submission_20180606_093559-score_29.csv', # lasso + linear, n_back=10\n",
    "    # '5.1C-submission_20180606_100819-score_38.csv', # lasso + linear, n_back=50\n",
    "    ]:\n",
    "    df_prev = pd.read_csv('data/interim/%s'%fn_prev)\n",
    "    df_prev['fn'] = fn_prev\n",
    "    df_preds.append(df_prev)\n",
    "    \n",
    "df_preds = pd.concat(df_preds, axis=0)\n",
    "df_preds = df_preds.merge(df_dates, on=['year', 'weekofyear'], how='left')\n",
    "df_preds = df_preds.pivot_table(index=['city', 'week_start_date'], columns='fn', values='total_cases')\n",
    "df_preds.head(n=2)"
   ]
  },
  {
   "cell_type": "code",
   "execution_count": null,
   "metadata": {},
   "outputs": [],
   "source": [
    "for city in ['sj','iq']:\n",
    "    df_preds.loc[city].plot(cmap='Blues', figsize=(20,5))\n",
    "    plt.title(city)\n",
    "    plt.legend()\n",
    "    plt.show()"
   ]
  },
  {
   "cell_type": "markdown",
   "metadata": {},
   "source": [
    "## plot ensemble prediction for fun\n",
    "\n",
    "- '1-submission_20180530_092740-score_29.csv', # copy last year\n",
    "-  '2.1-submission_20180530_133617-score_26.csv', # GLM per city\n",
    "-    '3.0.1-submission_20180531_062302.csv', # RF with refit\n",
    "-    '4.0-submission_20180531_083801-score_22.csv', # LSTM regression: basic\n",
    "-    '4.0.1E-submission_20180607_102939.csv'\n",
    "\n",
    "got whooping score=23"
   ]
  },
  {
   "cell_type": "code",
   "execution_count": null,
   "metadata": {},
   "outputs": [],
   "source": [
    "for city in ['sj','iq']:\n",
    "    df_preds.loc[city].mean(axis=1).plot(figsize=(20,5))\n",
    "    plt.title(city)\n",
    "    plt.legend()\n",
    "    plt.show()"
   ]
  },
  {
   "cell_type": "code",
   "execution_count": null,
   "metadata": {},
   "outputs": [],
   "source": [
    "predictions = df_preds.mean(axis=1).reset_index().rename(columns={0: 'total_cases'})\n",
    "predictions['total_cases'] = predictions['total_cases'].astype('int')\n",
    "predictions = predictions.merge(df_dates, on=['week_start_date'], how='left')\n",
    "predictions = predictions.set_index(['city','week_start_date'])\n",
    "\n",
    "from src.features.build_features import load_raw\n",
    "df_all = load_raw()\n",
    "submit = df_all['submission'].copy().reset_index()\n",
    "\n",
    "submit = submit.merge(predictions, how='left', on=['city','year','weekofyear'], suffixes=['_zero', ''])\n",
    "\n",
    "del submit['total_cases_zero']\n",
    "submit = submit.fillna(value=0)\n",
    "submit['total_cases'] = submit['total_cases'].astype('int')\n",
    "\n",
    "submit.shape"
   ]
  },
  {
   "cell_type": "code",
   "execution_count": null,
   "metadata": {},
   "outputs": [],
   "source": [
    "submit.describe()"
   ]
  },
  {
   "cell_type": "code",
   "execution_count": null,
   "metadata": {},
   "outputs": [],
   "source": [
    "from src.features.build_features import make_submission\n",
    "make_submission(submit)"
   ]
  }
 ],
 "metadata": {
  "kernelspec": {
   "display_name": "Python 3",
   "language": "python",
   "name": "python3"
  },
  "language_info": {
   "codemirror_mode": {
    "name": "ipython",
    "version": 3
   },
   "file_extension": ".py",
   "mimetype": "text/x-python",
   "name": "python",
   "nbconvert_exporter": "python",
   "pygments_lexer": "ipython3",
   "version": "3.5.2"
  }
 },
 "nbformat": 4,
 "nbformat_minor": 2
}
