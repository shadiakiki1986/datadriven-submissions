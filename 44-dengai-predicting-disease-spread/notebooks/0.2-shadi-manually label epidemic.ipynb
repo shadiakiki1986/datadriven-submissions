{
 "cells": [
  {
   "cell_type": "code",
   "execution_count": null,
   "metadata": {},
   "outputs": [],
   "source": [
    "from matplotlib import pyplot as plt"
   ]
  },
  {
   "cell_type": "code",
   "execution_count": null,
   "metadata": {},
   "outputs": [],
   "source": [
    "from src.features.build_features import load_raw\n",
    "\n",
    "df_all = load_raw()\n",
    "df_all.keys()"
   ]
  },
  {
   "cell_type": "markdown",
   "metadata": {},
   "source": [
    "## plots of target"
   ]
  },
  {
   "cell_type": "code",
   "execution_count": null,
   "metadata": {},
   "outputs": [],
   "source": [
    "j = 'labels_train'\n",
    "k = 'total_cases'\n",
    "(df_all[j][k]+1).groupby('city').plot(figsize=(20,3), logy=True)\n",
    "plt.legend()\n",
    "plt.title(\"%s/%s\"%(j,k))\n",
    "plt.show()\n",
    "\n",
    "df_all[j][k].groupby('city').plot(figsize=(20,3), logy=False)\n",
    "plt.legend()\n",
    "plt.title(\"%s/%s\"%(j,k))\n",
    "plt.show()"
   ]
  },
  {
   "cell_type": "markdown",
   "metadata": {},
   "source": [
    "## construct half sin"
   ]
  },
  {
   "cell_type": "code",
   "execution_count": null,
   "metadata": {},
   "outputs": [],
   "source": [
    "# https://stackoverflow.com/a/22576622/4126114\n",
    "import numpy as np\n",
    "import pandas as pd\n",
    "\n",
    "# 5 peaks within 8000 points\n",
    "# Fs, f, sample, dlt = 8000, 5, 8000, 0\n",
    "\n",
    "Fs, f, sample, dlt = 26, 1, 26, -1*np.pi/2\n",
    "\n",
    "x = np.arange(sample)\n",
    "y = np.sin(2 * np.pi * f * x / Fs + dlt)\n",
    "z = pd.Series(y, index=x)\n",
    "\n",
    "# z.head()\n",
    "\n",
    "# plt.plot(x, y)\n",
    "z.plot()\n",
    "plt.xlabel('sample(n)')\n",
    "plt.ylabel('voltage(V)')\n",
    "plt.show()"
   ]
  },
  {
   "cell_type": "markdown",
   "metadata": {},
   "source": [
    "## correlate total cases with half-sin"
   ]
  },
  {
   "cell_type": "code",
   "execution_count": null,
   "metadata": {},
   "outputs": [],
   "source": [
    "df_all['labels_train']['log_cases'] = np.log(df_all['labels_train']['total_cases']+1)\n",
    "\n",
    "df_all['labels_train']['corr_signature'] = np.nan\n",
    "for city in ['sj','iq']:\n",
    "    df_all['labels_train'].loc[city,'corr_signature'] = np.correlate(\n",
    "        df_all['labels_train'].loc[city, 'log_cases'],\n",
    "        z,\n",
    "        \"same\"\n",
    "    )/3 + 1 # scaling for visualization\n",
    "    \n",
    "threshold = 2 # depends on scaling\n",
    "df_all['labels_train']['is_epidemic'] = df_all['labels_train']['corr_signature'].apply(lambda row: row > threshold)\n",
    "\n",
    "df_all['labels_train'].head(n=2)"
   ]
  },
  {
   "cell_type": "code",
   "execution_count": null,
   "metadata": {},
   "outputs": [],
   "source": [
    "for city in ['sj','iq']:\n",
    "    df_all['labels_train'].loc[city,['log_cases', 'corr_signature']].plot(figsize=(20,3))\n",
    "    plt.title(city)\n",
    "    plt.show()\n",
    "    \n",
    "    df_all['labels_train'].loc[city,['total_cases']].plot(style='.-', figsize=(20,3))\n",
    "    (\n",
    "        df_all['labels_train'].loc[city,['total_cases', 'is_epidemic']].apply(\n",
    "            lambda row: row['total_cases'] if row['is_epidemic'] else np.nan,\n",
    "            axis=1\n",
    "        )\n",
    "    ).plot(style='.', figsize=(20,3))\n",
    "    plt.title(city)\n",
    "    plt.show()"
   ]
  },
  {
   "cell_type": "markdown",
   "metadata": {},
   "source": [
    "## check that `is_epidemic` is smooth"
   ]
  },
  {
   "cell_type": "code",
   "execution_count": null,
   "metadata": {},
   "outputs": [],
   "source": [
    "for city in ['sj','iq']:\n",
    "    df_all['labels_train'].loc[city, 'is_epidemic'].astype('int').plot(figsize=(20,3))\n",
    "    plt.legend()\n",
    "    plt.title(city)\n",
    "    plt.show()"
   ]
  },
  {
   "cell_type": "markdown",
   "metadata": {},
   "source": [
    "## save to file"
   ]
  },
  {
   "cell_type": "code",
   "execution_count": null,
   "metadata": {},
   "outputs": [],
   "source": [
    "import os\n",
    "fn = 'data/processed/is_epidemic.pkl'\n",
    "if os.path.exists(fn):\n",
    "    raise ValueError(\"File exists: %s\"%fn)\n",
    "    \n",
    "df_all['labels_train'].to_pickle(fn)"
   ]
  }
 ],
 "metadata": {
  "kernelspec": {
   "display_name": "Python 3",
   "language": "python",
   "name": "python3"
  },
  "language_info": {
   "codemirror_mode": {
    "name": "ipython",
    "version": 3
   },
   "file_extension": ".py",
   "mimetype": "text/x-python",
   "name": "python",
   "nbconvert_exporter": "python",
   "pygments_lexer": "ipython3",
   "version": "3.5.2"
  }
 },
 "nbformat": 4,
 "nbformat_minor": 2
}
