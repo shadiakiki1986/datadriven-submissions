{
 "cells": [
  {
   "cell_type": "code",
   "execution_count": 10,
   "metadata": {},
   "outputs": [],
   "source": [
    "import pandas as pd\n",
    "from matplotlib import pyplot as plt"
   ]
  },
  {
   "cell_type": "markdown",
   "metadata": {},
   "source": [
    "## read all data and save in pickle"
   ]
  },
  {
   "cell_type": "code",
   "execution_count": 14,
   "metadata": {},
   "outputs": [
    {
     "data": {
      "text/plain": [
       "2233"
      ]
     },
     "execution_count": 14,
     "metadata": {},
     "output_type": "execute_result"
    }
   ],
   "source": [
    "import gc\n",
    "gc.collect()"
   ]
  },
  {
   "cell_type": "code",
   "execution_count": 15,
   "metadata": {
    "scrolled": true
   },
   "outputs": [
    {
     "name": "stdout",
     "output_type": "stream",
     "text": [
      "1 12 1 8\n",
      "1 12 2 8\n",
      "1 12 3 8\n",
      "1 12 4 8\n",
      "1 12 5 8\n",
      "1 12 6 8\n",
      "1 12 7 8\n",
      "1 12 8 8\n",
      "2 12 1 8\n",
      "2 12 2 8\n",
      "2 12 3 8\n",
      "2 12 4 8\n",
      "2 12 5 8\n",
      "2 12 6 8\n",
      "2 12 7 8\n",
      "2 12 8 8\n",
      "3 12 1 8\n",
      "3 12 2 8\n",
      "3 12 3 8\n",
      "3 12 4 8\n",
      "3 12 5 8\n",
      "3 12 6 8\n",
      "3 12 7 8\n",
      "3 12 8 8\n",
      "4 12 1 8\n",
      "4 12 2 8\n",
      "4 12 3 8\n",
      "4 12 4 8\n",
      "4 12 5 8\n",
      "4 12 6 8\n",
      "4 12 7 8\n",
      "4 12 8 8\n",
      "5 12 1 8\n",
      "5 12 2 8\n",
      "5 12 3 8\n",
      "5 12 4 8\n",
      "5 12 5 8\n",
      "5 12 6 8\n",
      "5 12 7 8\n",
      "5 12 8 8\n",
      "6 12 1 8\n",
      "6 12 2 8\n",
      "6 12 3 8\n",
      "6 12 4 8\n",
      "6 12 5 8\n",
      "6 12 6 8\n",
      "6 12 7 8\n",
      "6 12 8 8\n",
      "7 12 1 8\n",
      "7 12 2 8\n",
      "7 12 3 8\n",
      "7 12 4 8\n",
      "7 12 5 8\n",
      "7 12 6 8\n",
      "7 12 7 8\n",
      "7 12 8 8\n",
      "8 12 1 8\n",
      "8 12 2 8\n",
      "8 12 3 8\n",
      "8 12 4 8\n",
      "8 12 5 8\n",
      "8 12 6 8\n",
      "8 12 7 8\n",
      "8 12 8 8\n",
      "9 12 1 8\n",
      "9 12 2 8\n",
      "9 12 3 8\n",
      "9 12 4 8\n",
      "9 12 5 8\n",
      "9 12 6 8\n",
      "9 12 7 8\n",
      "9 12 8 8\n",
      "10 12 1 8\n",
      "10 12 2 8\n",
      "10 12 3 8\n",
      "10 12 4 8\n",
      "10 12 5 8\n",
      "10 12 6 8\n",
      "10 12 7 8\n",
      "10 12 8 8\n",
      "11 12 1 8\n",
      "11 12 2 8\n",
      "11 12 3 8\n",
      "11 12 4 8\n",
      "11 12 5 8\n",
      "11 12 6 8\n",
      "11 12 7 8\n",
      "11 12 8 8\n",
      "12 12 1 8\n",
      "12 12 2 8\n",
      "12 12 3 8\n",
      "12 12 4 8\n",
      "12 12 5 8\n",
      "12 12 6 8\n",
      "12 12 7 8\n",
      "12 12 8 8\n"
     ]
    }
   ],
   "source": [
    "n_subjects = 12\n",
    "n_series = 8\n",
    "data_all = []\n",
    "events_all = []\n",
    "for i1 in range(n_subjects):\n",
    "    i1 += 1\n",
    "    for i2 in range(n_series):\n",
    "        i2 += 1\n",
    "        print(i1, n_subjects, i2, n_series)\n",
    "        \n",
    "        data_i = pd.read_csv('data/raw/train/subj%i_series%i_data.csv'%(i1,i2))\n",
    "        data_i['subject_id'] = i1\n",
    "        data_i['series_id'] = i2\n",
    "        data_i = data_i.set_index('id').astype('int16')\n",
    "        data_all.append(data_i)\n",
    "        \n",
    "        events_i = pd.read_csv('data/raw/train/subj%i_series%i_events.csv'%(i1,i2))\n",
    "        events_i['subject_id'] = i1\n",
    "        events_i['series_id'] = i2\n",
    "        events_i = events_i.set_index('id').astype('int16')\n",
    "        events_all.append(events_i)\n",
    "        \n",
    "        gc.collect()"
   ]
  },
  {
   "cell_type": "code",
   "execution_count": 16,
   "metadata": {},
   "outputs": [
    {
     "data": {
      "text/plain": [
       "((17985754, 34), (17985754, 8))"
      ]
     },
     "execution_count": 16,
     "metadata": {},
     "output_type": "execute_result"
    }
   ],
   "source": [
    "# combine\n",
    "data_all = pd.concat(data_all, axis=0)\n",
    "events_all = pd.concat(events_all, axis=0)\n",
    "data_all.shape, events_all.shape"
   ]
  },
  {
   "cell_type": "code",
   "execution_count": 17,
   "metadata": {},
   "outputs": [
    {
     "data": {
      "text/plain": [
       "1330"
      ]
     },
     "execution_count": 17,
     "metadata": {},
     "output_type": "execute_result"
    }
   ],
   "source": [
    "gc.collect()"
   ]
  },
  {
   "cell_type": "code",
   "execution_count": 19,
   "metadata": {},
   "outputs": [
    {
     "ename": "MemoryError",
     "evalue": "",
     "output_type": "error",
     "traceback": [
      "\u001b[0;31m---------------------------------------------------------------------------\u001b[0m",
      "\u001b[0;31mMemoryError\u001b[0m                               Traceback (most recent call last)",
      "\u001b[0;32m<ipython-input-19-a88c49b64ae1>\u001b[0m in \u001b[0;36m<module>\u001b[0;34m()\u001b[0m\n\u001b[0;32m----> 1\u001b[0;31m \u001b[0mdata_all\u001b[0m\u001b[0;34m.\u001b[0m\u001b[0mto_pickle\u001b[0m\u001b[0;34m(\u001b[0m\u001b[0;34m'data/raw/train_features.pkl'\u001b[0m\u001b[0;34m)\u001b[0m\u001b[0;34m\u001b[0m\u001b[0m\n\u001b[0m\u001b[1;32m      2\u001b[0m \u001b[0mevents_all\u001b[0m\u001b[0;34m.\u001b[0m\u001b[0mto_pickle\u001b[0m\u001b[0;34m(\u001b[0m\u001b[0;34m'data/raw/train_targets.pkl'\u001b[0m\u001b[0;34m)\u001b[0m\u001b[0;34m\u001b[0m\u001b[0m\n",
      "\u001b[0;32m~/.local/share/virtualenvs/44-dengai-predicting-disease-spread/lib/python3.5/site-packages/pandas/core/generic.py\u001b[0m in \u001b[0;36mto_pickle\u001b[0;34m(self, path, compression, protocol)\u001b[0m\n\u001b[1;32m   2187\u001b[0m         \u001b[0;32mfrom\u001b[0m \u001b[0mpandas\u001b[0m\u001b[0;34m.\u001b[0m\u001b[0mio\u001b[0m\u001b[0;34m.\u001b[0m\u001b[0mpickle\u001b[0m \u001b[0;32mimport\u001b[0m \u001b[0mto_pickle\u001b[0m\u001b[0;34m\u001b[0m\u001b[0m\n\u001b[1;32m   2188\u001b[0m         return to_pickle(self, path, compression=compression,\n\u001b[0;32m-> 2189\u001b[0;31m                          protocol=protocol)\n\u001b[0m\u001b[1;32m   2190\u001b[0m \u001b[0;34m\u001b[0m\u001b[0m\n\u001b[1;32m   2191\u001b[0m     \u001b[0;32mdef\u001b[0m \u001b[0mto_clipboard\u001b[0m\u001b[0;34m(\u001b[0m\u001b[0mself\u001b[0m\u001b[0;34m,\u001b[0m \u001b[0mexcel\u001b[0m\u001b[0;34m=\u001b[0m\u001b[0;32mTrue\u001b[0m\u001b[0;34m,\u001b[0m \u001b[0msep\u001b[0m\u001b[0;34m=\u001b[0m\u001b[0;32mNone\u001b[0m\u001b[0;34m,\u001b[0m \u001b[0;34m**\u001b[0m\u001b[0mkwargs\u001b[0m\u001b[0;34m)\u001b[0m\u001b[0;34m:\u001b[0m\u001b[0;34m\u001b[0m\u001b[0m\n",
      "\u001b[0;32m~/.local/share/virtualenvs/44-dengai-predicting-disease-spread/lib/python3.5/site-packages/pandas/io/pickle.py\u001b[0m in \u001b[0;36mto_pickle\u001b[0;34m(obj, path, compression, protocol)\u001b[0m\n\u001b[1;32m     75\u001b[0m         \u001b[0mprotocol\u001b[0m \u001b[0;34m=\u001b[0m \u001b[0mpkl\u001b[0m\u001b[0;34m.\u001b[0m\u001b[0mHIGHEST_PROTOCOL\u001b[0m\u001b[0;34m\u001b[0m\u001b[0m\n\u001b[1;32m     76\u001b[0m     \u001b[0;32mtry\u001b[0m\u001b[0;34m:\u001b[0m\u001b[0;34m\u001b[0m\u001b[0m\n\u001b[0;32m---> 77\u001b[0;31m         \u001b[0mf\u001b[0m\u001b[0;34m.\u001b[0m\u001b[0mwrite\u001b[0m\u001b[0;34m(\u001b[0m\u001b[0mpkl\u001b[0m\u001b[0;34m.\u001b[0m\u001b[0mdumps\u001b[0m\u001b[0;34m(\u001b[0m\u001b[0mobj\u001b[0m\u001b[0;34m,\u001b[0m \u001b[0mprotocol\u001b[0m\u001b[0;34m=\u001b[0m\u001b[0mprotocol\u001b[0m\u001b[0;34m)\u001b[0m\u001b[0;34m)\u001b[0m\u001b[0;34m\u001b[0m\u001b[0m\n\u001b[0m\u001b[1;32m     78\u001b[0m     \u001b[0;32mfinally\u001b[0m\u001b[0;34m:\u001b[0m\u001b[0;34m\u001b[0m\u001b[0m\n\u001b[1;32m     79\u001b[0m         \u001b[0;32mfor\u001b[0m \u001b[0m_f\u001b[0m \u001b[0;32min\u001b[0m \u001b[0mfh\u001b[0m\u001b[0;34m:\u001b[0m\u001b[0;34m\u001b[0m\u001b[0m\n",
      "\u001b[0;31mMemoryError\u001b[0m: "
     ]
    }
   ],
   "source": [
    "data_all.to_pickle('data/raw/train_features.pkl')\n",
    "events_all.to_pickle('data/raw/train_targets.pkl')"
   ]
  },
  {
   "cell_type": "code",
   "execution_count": null,
   "metadata": {},
   "outputs": [],
   "source": []
  },
  {
   "cell_type": "code",
   "execution_count": null,
   "metadata": {},
   "outputs": [],
   "source": []
  }
 ],
 "metadata": {
  "kernelspec": {
   "display_name": "Python 3",
   "language": "python",
   "name": "python3"
  },
  "language_info": {
   "codemirror_mode": {
    "name": "ipython",
    "version": 3
   },
   "file_extension": ".py",
   "mimetype": "text/x-python",
   "name": "python",
   "nbconvert_exporter": "python",
   "pygments_lexer": "ipython3",
   "version": "3.5.2"
  }
 },
 "nbformat": 4,
 "nbformat_minor": 2
}
