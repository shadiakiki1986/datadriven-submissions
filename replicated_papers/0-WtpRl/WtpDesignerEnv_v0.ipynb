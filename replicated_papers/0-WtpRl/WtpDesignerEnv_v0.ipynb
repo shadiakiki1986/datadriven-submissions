{
  "nbformat": 4,
  "nbformat_minor": 0,
  "metadata": {
    "colab": {
      "name": "t0-0e WtpDesignerEnv v0 - cleaned.ipynb",
      "version": "0.3.2",
      "provenance": [],
      "collapsed_sections": [],
      "toc_visible": true,
      "include_colab_link": true
    },
    "kernelspec": {
      "name": "python3",
      "display_name": "Python 3"
    }
  },
  "cells": [
    {
      "cell_type": "markdown",
      "metadata": {
        "id": "view-in-github",
        "colab_type": "text"
      },
      "source": [
        "<a href=\"https://colab.research.google.com/github/shadiakiki1986/ml-competitions/blob/master/replicated_papers/0-WtpRl/WtpDesignerEnv_v0.ipynb\" target=\"_parent\"><img src=\"https://colab.research.google.com/assets/colab-badge.svg\" alt=\"Open In Colab\"/></a>"
      ]
    },
    {
      "metadata": {
        "id": "NiIjx-0Rwjze",
        "colab_type": "code",
        "outputId": "9560cdf1-9553-460b-adc1-e68d426197ff",
        "colab": {
          "base_uri": "https://localhost:8080/",
          "height": 248
        }
      },
      "cell_type": "code",
      "source": [
        "# install openai gym\n",
        "!pip install gym | tail"
      ],
      "execution_count": 1,
      "outputs": [
        {
          "output_type": "stream",
          "text": [
            "Requirement already satisfied: scipy in /usr/local/lib/python3.6/dist-packages (from gym) (1.1.0)\n",
            "Requirement already satisfied: numpy>=1.10.4 in /usr/local/lib/python3.6/dist-packages (from gym) (1.14.6)\n",
            "Requirement already satisfied: requests>=2.0 in /usr/local/lib/python3.6/dist-packages (from gym) (2.18.4)\n",
            "Requirement already satisfied: six in /usr/local/lib/python3.6/dist-packages (from gym) (1.11.0)\n",
            "Requirement already satisfied: pyglet>=1.2.0 in /usr/local/lib/python3.6/dist-packages (from gym) (1.3.2)\n",
            "Requirement already satisfied: urllib3<1.23,>=1.21.1 in /usr/local/lib/python3.6/dist-packages (from requests>=2.0->gym) (1.22)\n",
            "Requirement already satisfied: chardet<3.1.0,>=3.0.2 in /usr/local/lib/python3.6/dist-packages (from requests>=2.0->gym) (3.0.4)\n",
            "Requirement already satisfied: idna<2.7,>=2.5 in /usr/local/lib/python3.6/dist-packages (from requests>=2.0->gym) (2.6)\n",
            "Requirement already satisfied: certifi>=2017.4.17 in /usr/local/lib/python3.6/dist-packages (from requests>=2.0->gym) (2018.11.29)\n",
            "Requirement already satisfied: future in /usr/local/lib/python3.6/dist-packages (from pyglet>=1.2.0->gym) (0.16.0)\n"
          ],
          "name": "stdout"
        }
      ]
    },
    {
      "metadata": {
        "id": "DspfHxVA6Pnj",
        "colab_type": "code",
        "outputId": "25a01097-adf7-400d-dd39-982aee789149",
        "colab": {
          "base_uri": "https://localhost:8080/",
          "height": 809
        }
      },
      "cell_type": "code",
      "source": [
        "# install rlworkgroup/garage\n",
        "# Copied from colab/2019-01-21/t3.ipynb\n",
        "#------------------------------------\n",
        "\n",
        "# Install dependencies (copied from garage/environment.yml)\n",
        "!apt-get install libglfw3 libglfw3-dev | tail\n",
        "\n",
        "# >>>>>>>>   requires restart of runtime in colab.research.google.com due to joblib and rsa <<<<<<\n",
        "!pip install awscli  boto3  cached_property  cloudpickle  cma==1.1.06 flask  gym  \"box2d-py>=2.3.4\"  hyperopt  ipdb  ipywidgets  jsonmerge  \"joblib<0.13,>=0.12\"  jupyter  mako  matplotlib  memory_profiler  pandas  path.py    polling  pre_commit  protobuf  psutil  pygame  pyglet  PyOpenGL  pyprind  python-dateutil  pyzmq  scikit-image  scipy  tensorboard  | tail\n",
        "#\"tensorflow<1.10,>=1.9.0\"  Theano==1.0.2    \"mujoco-py<1.50.2,>=1.50.1\" gym[all]==0.10.8\n",
        "#!pip install jsonmerge glfw mako pygame\n",
        "!pip install pyprind cma glfw | tail\n",
        "\n",
        "# Install garage (continued in next cell)\n",
        "!git clone https://github.com/rlworkgroup/garage\n",
        "# !cd garage && pip install -e . # >>>>>>>>   requires restart of runtime in colab.research.google.com due to joblib and rsa <<<<<<\n",
        "#!pip show rlgarage garage"
      ],
      "execution_count": 2,
      "outputs": [
        {
          "output_type": "stream",
          "text": [
            "Preparing to unpack .../5-libxrandr-dev_2%3a1.5.1-1_amd64.deb ...\n",
            "Unpacking libxrandr-dev:amd64 (2:1.5.1-1) ...\n",
            "Setting up libvulkan1:amd64 (1.1.82.0-0ubuntu0.18.04.1~gpu1) ...\n",
            "Setting up libvulkan-dev:amd64 (1.1.82.0-0ubuntu0.18.04.1~gpu1) ...\n",
            "Setting up libglfw3:amd64 (3.2.1-1) ...\n",
            "Processing triggers for libc-bin (2.27-3ubuntu1) ...\n",
            "Setting up x11proto-randr-dev (2018.4-4) ...\n",
            "Processing triggers for man-db (2.8.3-2ubuntu0.1) ...\n",
            "Setting up libglfw3-dev:amd64 (3.2.1-1) ...\n",
            "Setting up libxrandr-dev:amd64 (2:1.5.1-1) ...\n",
            "\u001b[31mfeaturetools 0.4.1 has requirement pandas>=0.23.0, but you'll have pandas 0.22.0 which is incompatible.\u001b[0m\n",
            "  Found existing installation: rsa 4.0\n",
            "    Uninstalling rsa-4.0:\n",
            "      Successfully uninstalled rsa-4.0\n",
            "  Found existing installation: botocore 1.12.89\n",
            "    Uninstalling botocore-1.12.89:\n",
            "      Successfully uninstalled botocore-1.12.89\n",
            "  Found existing installation: joblib 0.13.1\n",
            "    Uninstalling joblib-0.13.1:\n",
            "      Successfully uninstalled joblib-0.13.1\n",
            "Successfully installed aspy.yaml-1.1.2 awscli-1.16.101 botocore-1.12.91 box2d-py-2.3.8 cached-property-1.5.1 cfgv-1.4.0 cma-1.1.6 colorama-0.3.9 identify-1.2.1 importlib-metadata-0.8 importlib-resources-1.0.2 ipdb-0.11 joblib-0.12.5 jsonmerge-1.5.2 mako-1.0.7 memory-profiler-0.55.0 nodeenv-1.3.3 path.py-11.5.0 polling-0.3.0 pre-commit-1.14.3 pygame-1.9.4 pyprind-2.11.2 rsa-3.4.2 toml-0.10.0 virtualenv-16.4.0 zipp-0.3.3\n"
          ],
          "name": "stdout"
        },
        {
          "output_type": "display_data",
          "data": {
            "application/vnd.colab-display-data+json": {
              "pip_warning": {
                "packages": [
                  "joblib",
                  "rsa"
                ]
              }
            }
          },
          "metadata": {
            "tags": []
          }
        },
        {
          "output_type": "stream",
          "text": [
            "Requirement already satisfied: cma in /usr/local/lib/python3.6/dist-packages (1.1.6)\n",
            "Collecting glfw\n",
            "  Downloading https://files.pythonhosted.org/packages/5d/65/c6275744a01425195f1f446e022e5dfa6497aa68479a3952e434e04b2fa0/glfw-1.7.1.tar.gz\n",
            "Building wheels for collected packages: glfw\n",
            "  Building wheel for glfw (setup.py): started\n",
            "  Building wheel for glfw (setup.py): finished with status 'done'\n",
            "  Stored in directory: /root/.cache/pip/wheels/c5/53/f9/fd31798dce7e10aa49f8354e4111b9c9cad10c894184658663\n",
            "Successfully built glfw\n",
            "Installing collected packages: glfw\n",
            "Successfully installed glfw-1.7.1\n",
            "Cloning into 'garage'...\n",
            "remote: Enumerating objects: 347, done.\u001b[K\n",
            "remote: Counting objects: 100% (347/347), done.\u001b[K\n",
            "remote: Compressing objects: 100% (194/194), done.\u001b[K\n",
            "remote: Total 10267 (delta 218), reused 218 (delta 153), pack-reused 9920\u001b[K\n",
            "Receiving objects: 100% (10267/10267), 9.13 MiB | 15.90 MiB/s, done.\n",
            "Resolving deltas: 100% (7126/7126), done.\n"
          ],
          "name": "stdout"
        }
      ]
    },
    {
      "metadata": {
        "id": "TXWtR1vm99vx",
        "colab_type": "code",
        "outputId": "9c2d31de-32af-4fee-c4f9-9c2a2293366b",
        "colab": {
          "base_uri": "https://localhost:8080/",
          "height": 320
        }
      },
      "cell_type": "code",
      "source": [
        "# Install garage, commit e7324a68dedd94b4ea15a9c761bab2af032e2480 before the upcoming commits related to bumping gym/dm-control/mujoco versions\n",
        "!cd garage && git checkout e7324a68dedd94b4ea15a9c761bab2af032e2480\n",
        "!cd garage && pip install -e . # >>>>>>>>   requires restart of runtime in colab.research.google.com due to joblib and rsa <<<<<<"
      ],
      "execution_count": 1,
      "outputs": [
        {
          "output_type": "stream",
          "text": [
            "Note: checking out 'e7324a68dedd94b4ea15a9c761bab2af032e2480'.\n",
            "\n",
            "You are in 'detached HEAD' state. You can look around, make experimental\n",
            "changes and commit them, and you can discard any commits you make in this\n",
            "state without impacting any branches by performing another checkout.\n",
            "\n",
            "If you want to create a new branch to retain commits you create, you may\n",
            "do so (now or later) by using -b with the checkout command again. Example:\n",
            "\n",
            "  git checkout -b <new-branch-name>\n",
            "\n",
            "HEAD is now at e7324a6 Move nb_utils.py to garage.experiment\n",
            "Obtaining file:///content/garage\n",
            "Installing collected packages: rlgarage\n",
            "  Running setup.py develop for rlgarage\n",
            "Successfully installed rlgarage\n"
          ],
          "name": "stdout"
        }
      ]
    },
    {
      "metadata": {
        "id": "iMQ4ibxk8jQw",
        "colab_type": "text"
      },
      "cell_type": "markdown",
      "source": [
        "\n",
        "\n",
        "---\n",
        "\n",
        "\n",
        "\n",
        "---\n",
        "\n",
        "\n",
        "\n",
        "---\n",
        "\n"
      ]
    },
    {
      "metadata": {
        "id": "34oLOKVb5t8l",
        "colab_type": "text"
      },
      "cell_type": "markdown",
      "source": [
        "# Start"
      ]
    },
    {
      "metadata": {
        "id": "MTFzvBH4wm21",
        "colab_type": "code",
        "colab": {
          "base_uri": "https://localhost:8080/",
          "height": 102
        },
        "outputId": "fe4a8d25-0f7d-422e-8f42-988d255ec112"
      },
      "cell_type": "code",
      "source": [
        "# Create a gym env that simulates the current water treatment plant\n",
        "# Based on https://github.com/openai/gym/blob/master/gym/envs/toy_text/nchain.py\n",
        "\n",
        "import gym\n",
        "from gym import spaces\n",
        "#from gym.utils import seeding\n",
        "import numpy as np\n",
        "import random\n",
        "\n",
        "\n",
        "\n",
        "def act_on_water(water_in, water_parameter):\n",
        "  \"\"\"\n",
        "  Parameters\n",
        "  - water_in: water sample parameters before \"filtering\"\n",
        "  - water_parameter: specific parameter that is being filtered\n",
        "  \n",
        "  Returns\n",
        "  - water_out: water sample parameters after the targeted parameter\n",
        "  - reward:\n",
        "    - if water quality is improvable and made improvement and improvement is relevant, then +2\n",
        "    - if water quality is not improvable and did not try to make improvement, then +1\n",
        "    - if water quality is improvable and made improvement but improvement is not relevant, then 0\n",
        "    - if water quality is improvable and did not make improvement, then -1\n",
        "    - if water quality is not improvable and tried to make improvement, then -2\n",
        "  \"\"\"\n",
        "  # debugging\n",
        "  #print(\"water_in\", water_in, \"water_parameter\", water_parameter)\n",
        "  \n",
        "  # utility variable\n",
        "  is_improvable = any(water_in[k] for k in water_in)\n",
        "  \n",
        "  # if chose pipe (do nothing)\n",
        "  if water_parameter is None:\n",
        "    # if any parameter is \"high\"\n",
        "    if is_improvable:\n",
        "      # water was improvable but didn't try\n",
        "      return water_in, -1\n",
        "    \n",
        "    # water was not improvable to begin with\n",
        "    return water_in, +1\n",
        "\n",
        "  # sanity check\n",
        "  if water_parameter not in water_in:\n",
        "    raise ValueError(\"water parameter = %s not a property of the water\"%water_parameter)\n",
        "\n",
        "  # if water is not improvable to begin with, but tried to make an improvement\n",
        "  if not is_improvable:\n",
        "    return water_in, -2\n",
        "    \n",
        "  # water is improvable, but chose an irrelevant parameter\n",
        "  if not water_in[water_parameter]:\n",
        "    # returning a reward of +1 here caused the best policy to use a few\n",
        "    # irrelevant target parameters at first (to ramp up points)\n",
        "    # and then start installing the relevant elements.\n",
        "    # This is similar to a salesman who sells useless WTP elements first\n",
        "    # to ramp up sales, and then sells the right system to close.\n",
        "    return water_in, 0\n",
        "  \n",
        "  # water is improvable, and chose a relevant parameter\n",
        "  water_out = water_in.copy()\n",
        "  water_out[water_parameter] = False\n",
        "  return water_out, +2\n",
        "\n",
        "\n",
        "# test\n",
        "print(\"TDS: High, action: TDS\",      act_on_water({\"TDS\": True }, \"TDS\"))\n",
        "print(\"TDS: Low , action: TDS\",      act_on_water({\"TDS\": False}, \"TDS\"))\n",
        "print(\"TDS: High, action: pipe\",      act_on_water({\"TDS\": True }, None))\n",
        "print(\"TDS: Low , action: pipe\",      act_on_water({\"TDS\": False}, None))\n",
        "try:\n",
        "  print(\"TDS: High, action: hardness\", act_on_water({\"TDS\": True }, \"hardness\"))\n",
        "except:\n",
        "  print(\"TDS: High, action: hardness\", \"error: parameter not in water\")\n",
        "  \n",
        "#print(\"state = 1, action: pipe\",      act_on_water(1, None))"
      ],
      "execution_count": 1,
      "outputs": [
        {
          "output_type": "stream",
          "text": [
            "TDS: High, action: TDS ({'TDS': False}, 2)\n",
            "TDS: Low , action: TDS ({'TDS': False}, -2)\n",
            "TDS: High, action: pipe ({'TDS': True}, -1)\n",
            "TDS: Low , action: pipe ({'TDS': False}, 1)\n",
            "TDS: High, action: hardness error: parameter not in water\n"
          ],
          "name": "stdout"
        }
      ]
    },
    {
      "metadata": {
        "id": "oBv4mojWRT6v",
        "colab_type": "code",
        "colab": {}
      },
      "cell_type": "code",
      "source": [
        "\n",
        "# Gym env\n",
        "class WtpDesignerEnv_v0(gym.Env):\n",
        "    \"\"\"Water Treatment Plant environment\n",
        "    \n",
        "    This is a simulation of a water treatment plant (WTP).\n",
        "    \n",
        "    Observation:\n",
        "      Parameters in water\n",
        "      Type: Dict of 3 keys, each of which is Discrete(2)\n",
        "      TDS       True/False (= High/Low)\n",
        "      Hardness  True/False (= High/Low)\n",
        "      Bacteria  True/False (= High/Low)\n",
        "      \n",
        "    Actions:\n",
        "      WTP Element to implement at i-th stage\n",
        "      Type: Discrete(4)\n",
        "      0 pipe\n",
        "      2 sediment\n",
        "      3 softener\n",
        "      4 uv\n",
        "      \n",
        "    Reward: check function \"act_on_water\"\n",
        "      \n",
        "    Episode termination:\n",
        "      All elements of WTP are chosen\n",
        "    \"\"\"\n",
        "    def __init__(self, attempts_max = 1000):\n",
        "        self.wtp_elements = [None, \"TDS\", \"hardness\", \"bacteria\"]\n",
        "        \n",
        "        \n",
        "        # number of elements in the WTP system generated\n",
        "        self.n_elements = 5\n",
        "        \n",
        "         # choose the element for the current step\n",
        "        self.action_space = spaces.Discrete(len(self.wtp_elements))\n",
        "        \n",
        "        # https://github.com/openai/gym/blob/master/gym/spaces/dict_space.py\n",
        "        # the observation space is a Dict of 3 key-value pairs\n",
        "        # Note that the \"FlatDictWrapper\" later just flattens this to a single Discrete(8) observation\n",
        "        # for the sake of being able to use the CategoricalMLPPolicy\n",
        "        self.observation_space = spaces.Dict({\n",
        "            \"TDS\": spaces.Discrete(2), \n",
        "            \"hardness\": spaces.Discrete(2), \n",
        "            \"bacteria\": spaces.Discrete(2),\n",
        "        })\n",
        "        \n",
        "        self.reset()\n",
        "        #self.seed()\n",
        "\n",
        "    #def seed(self, seed=None):\n",
        "    #    self.np_random, seed = seeding.np_random(seed)\n",
        "    #    return [seed]\n",
        "\n",
        "    def step(self, action):\n",
        "        assert self.action_space.contains(action), \"action not in action space!\"\n",
        "        assert self.element_i < self.n_elements\n",
        "        \n",
        "        # increment number of attempts taken\n",
        "        self.element_i += 1\n",
        "\n",
        "        # calculate reward of this element\n",
        "        wtp_i = self.wtp_elements[action]\n",
        "        self.state, reward = act_on_water(self.state, wtp_i)\n",
        "        #print(\"\\t state + element -> state after + reward\", wtp_i, self.state, reward_i)\n",
        "                                      \n",
        "        # init\n",
        "        done = False\n",
        "\n",
        "        # allow a maximum number of attempts to get the WTP selection to work\n",
        "        if self.element_i >= self.n_elements:\n",
        "          done = True\n",
        "          \n",
        "        return self.state, reward, done, {}\n",
        "      \n",
        "    def reset(self, s0=None):\n",
        "      # s0 - desired state\n",
        "      if s0 is None:\n",
        "        s0 = {\n",
        "          \"TDS\":  np.random.rand() < 0.5,\n",
        "          \"hardness\": np.random.rand() < 0.5,\n",
        "          \"bacteria\": np.random.rand() < 0.5,                \n",
        "        }\n",
        "      self.state = s0.copy()\n",
        "      self.element_i = 0\n",
        "      return self.state"
      ],
      "execution_count": 0,
      "outputs": []
    },
    {
      "metadata": {
        "id": "Xi3SwHSJO3xm",
        "colab_type": "code",
        "outputId": "2698e5f5-2002-49ec-ba5f-8e3c93e8218d",
        "colab": {
          "base_uri": "https://localhost:8080/",
          "height": 119
        }
      },
      "cell_type": "code",
      "source": [
        "\n",
        "# some smoke testing\n",
        "print(\"smoke test\")\n",
        "\n",
        "# example\n",
        "env_test = WtpDesignerEnv_v0()\n",
        "state_initial = env_test.reset().copy()\n",
        "print(\"water in:\")\n",
        "print(\"reset()\", state_initial)\n",
        "print(\"env.state\", env_test.state)\n",
        "\n",
        "print(\"grid search .. start\")\n",
        "solution = dict(act=None, rew=-99999, water_out=None)\n",
        "done = False\n",
        "\n",
        "# builds all possible wtp of these elements\n",
        "import itertools\n",
        "wtp_all1 = list(itertools.product(range(len(env_test.wtp_elements)), repeat=env_test.n_elements))\n",
        "wtp_all2 = []\n",
        "# append last 2 pipes\n",
        "for wtp_i in wtp_all1:\n",
        "  wtp_i = list(wtp_i)\n",
        "  # 0 is the index of None in env_test.wtp_elements\n",
        "  wtp_i.append(0)\n",
        "  wtp_all2.append(wtp_i)\n",
        "\n",
        "print(\"grid search .. end\")\n",
        "#print(\"all wtp\")\n",
        "#print(wtp_all2)"
      ],
      "execution_count": 3,
      "outputs": [
        {
          "output_type": "stream",
          "text": [
            "smoke test\n",
            "water in:\n",
            "reset() {'TDS': False, 'hardness': False, 'bacteria': True}\n",
            "env.state {'TDS': False, 'hardness': False, 'bacteria': True}\n",
            "grid search .. start\n",
            "grid search .. end\n"
          ],
          "name": "stdout"
        }
      ]
    },
    {
      "metadata": {
        "id": "ccLhrtydaOZr",
        "colab_type": "code",
        "outputId": "b2252374-f756-4111-b259-368cfdfaa0e8",
        "colab": {
          "base_uri": "https://localhost:8080/",
          "height": 119
        }
      },
      "cell_type": "code",
      "source": [
        "\n",
        "# iterate\n",
        "for wtp_i in wtp_all2:\n",
        "  reward_sum = 0\n",
        "  env_test.reset(s0=state_initial)\n",
        "  #print(\"-\"*10)\n",
        "  for action in wtp_i:\n",
        "    water_out, reward_i, done, _ = env_test.step(action)\n",
        "    reward_sum += reward_i\n",
        "    if done:\n",
        "      break\n",
        "    \n",
        "  #print(\"water in\", env_test.state, \"wtp\", [env_test.wtp_elements[x] for x in wtp_i], \"water out\", water_out, \"reward\", reward_sum)\n",
        "  if reward_sum > solution['rew']:\n",
        "    solution['act'] = wtp_i\n",
        "    solution['rew'] = reward_sum\n",
        "    solution['water_out'] = water_out # last result\n",
        "\n",
        "\n",
        "print(\"grid search .. end\")\n",
        "\n",
        "# show result of grid search\n",
        "print(\"*\"*30)\n",
        "print(\"water in:\", state_initial)\n",
        "print(\"wtp chosen\", [env_test.wtp_elements[x] for x in solution['act']])\n",
        "print(\"total reward\", solution['rew'])\n",
        "print(\"water out\", solution['water_out'])"
      ],
      "execution_count": 4,
      "outputs": [
        {
          "output_type": "stream",
          "text": [
            "grid search .. end\n",
            "******************************\n",
            "water in: {'TDS': False, 'hardness': False, 'bacteria': True}\n",
            "wtp chosen ['bacteria', None, None, None, None, None]\n",
            "total reward 6\n",
            "water out {'TDS': False, 'hardness': False, 'bacteria': False}\n"
          ],
          "name": "stdout"
        }
      ]
    },
    {
      "metadata": {
        "id": "UNoyVv0tA23n",
        "colab_type": "code",
        "colab": {}
      },
      "cell_type": "code",
      "source": [
        "# register the env with gym\n",
        "# https://github.com/openai/gym/tree/master/gym/envs#how-to-create-new-environments-for-gym\n",
        "from gym.envs.registration import register\n",
        "\n",
        "register(\n",
        "    id='WtpDesignerEnv-v0',\n",
        "    #entry_point='gym_foo.envs:FooEnv',\n",
        "    entry_point=WtpDesignerEnv_v0,\n",
        ")\n",
        "\n",
        "# test registration was successful\n",
        "env = gym.make(\"WtpDesignerEnv-v0\")"
      ],
      "execution_count": 0,
      "outputs": []
    },
    {
      "metadata": {
        "id": "9j8M1L9S6rvU",
        "colab_type": "code",
        "colab": {}
      },
      "cell_type": "code",
      "source": [
        "# The contents of this cell are mostly copied from garage/examples/...\n",
        "# NEED TO run this twice for the first run in the runtime in colab, 1st for creating the personal config\n",
        "\n",
        "from garage.baselines import LinearFeatureBaseline # <<<<<< requires restarting the runtime in colab after the 1st dependency installation above\n",
        "from garage.envs import normalize\n",
        "#from garage.envs.box2d import CartpoleEnv # no need since will use WtpDesignerEnv_v0 defined above\n",
        "from garage.experiment import run_experiment\n",
        "from garage.tf.algos import TRPO\n",
        "from garage.tf.envs import TfEnv\n",
        "#from garage.tf.policies import GaussianMLPPolicy\n",
        "from garage.tf.policies import CategoricalMLPPolicy\n",
        "\n",
        "import gym # already imported before"
      ],
      "execution_count": 0,
      "outputs": []
    },
    {
      "metadata": {
        "id": "eBk8B2h36pMw",
        "colab_type": "code",
        "colab": {}
      },
      "cell_type": "code",
      "source": [
        "# start a tensorflow session so that we can keep it open after training and use the trained network to see it performing\n",
        "import tensorflow as tf\n",
        "sess = tf.InteractiveSession()\n",
        "\n",
        "# no need to initialize\n",
        "#sess.run(tf.global_variables_initializer())\n"
      ],
      "execution_count": 0,
      "outputs": []
    },
    {
      "metadata": {
        "id": "3TSGjJIua47q",
        "colab_type": "code",
        "colab": {}
      },
      "cell_type": "code",
      "source": [
        "class FlattenDictWrapper2(gym.ObservationWrapper):\n",
        "    \"\"\"Flattens selected keys of a Dict observation space into\n",
        "    an array.\n",
        "    \"\"\"\n",
        "    def __init__(self, env, dict_keys):\n",
        "        super().__init__(env)\n",
        "        self.dict_keys = dict_keys\n",
        "\n",
        "        # Figure out observation_space dimension.\n",
        "        size = 1\n",
        "        for key in dict_keys:\n",
        "            shape = self.env.observation_space.spaces[key].n\n",
        "            size *= shape\n",
        "        self.observation_space = gym.spaces.Discrete(size)\n",
        "\n",
        "    def observation(self, observation):\n",
        "        assert isinstance(observation, dict)\n",
        "        obs = []\n",
        "        dims = []\n",
        "        for key in self.dict_keys:\n",
        "            obs.append(observation[key])\n",
        "            dims.append(self.env.observation_space.spaces[key].n)\n",
        "            \n",
        "        dims = np.array(dims).cumprod()\n",
        "        dims = (dims / dims[0]).astype('int')\n",
        "        \n",
        "        obs = np.array(obs).astype('int')\n",
        "\n",
        "        #print(\"X\"*10)\n",
        "        #print(obs)\n",
        "        #print(dims)\n",
        "\n",
        "        return (obs * dims).sum()\n"
      ],
      "execution_count": 0,
      "outputs": []
    },
    {
      "metadata": {
        "id": "tx8_cmOe63QK",
        "colab_type": "code",
        "outputId": "51360aed-cfb0-41d2-92f4-d6a7c747ffec",
        "colab": {
          "base_uri": "https://localhost:8080/",
          "height": 144
        }
      },
      "cell_type": "code",
      "source": [
        "# Train the policy (neural network) on the environment\n",
        "#----------------------------------\n",
        "from gym import wrappers\n",
        "\n",
        "# env = TfEnv(normalize(gym.make(\"CartPole-v0\")))\n",
        "env = gym.make(\"WtpDesignerEnv-v0\")\n",
        "#env = wrappers.FlattenDictWrapper(env, [\"TDS\", \"hardness\", \"bacteria\"])\n",
        "wq_elements = [\"TDS\", \"hardness\", \"bacteria\"]\n",
        "env = FlattenDictWrapper2(env, wq_elements)\n",
        "env = TfEnv(normalize(env))\n",
        "\n",
        "policy = CategoricalMLPPolicy(\n",
        "#policy = DictCategoricalMLPPolicy(\n",
        "    name=\"policy\", env_spec=env.spec, hidden_sizes=(32, 32))\n",
        "\n",
        "baseline = LinearFeatureBaseline(env_spec=env.spec)\n"
      ],
      "execution_count": 10,
      "outputs": [
        {
          "output_type": "stream",
          "text": [
            "WARNING:tensorflow:From /usr/local/lib/python3.6/dist-packages/tensorflow/python/framework/op_def_library.py:263: colocate_with (from tensorflow.python.framework.ops) is deprecated and will be removed in a future version.\n",
            "Instructions for updating:\n",
            "Colocations handled automatically by placer.\n",
            "WARNING:tensorflow:From /content/garage/garage/tf/distributions/categorical.py:27: multinomial (from tensorflow.python.ops.random_ops) is deprecated and will be removed in a future version.\n",
            "Instructions for updating:\n",
            "Use tf.random.categorical instead.\n"
          ],
          "name": "stdout"
        }
      ]
    },
    {
      "metadata": {
        "id": "sxJmqeGMLA4M",
        "colab_type": "code",
        "outputId": "8d3bfeb1-ca38-406d-c249-d8f9b5d58b9d",
        "colab": {
          "base_uri": "https://localhost:8080/",
          "height": 98
        }
      },
      "cell_type": "code",
      "source": [
        "\n",
        "algo = TRPO(\n",
        "    env=env,\n",
        "    policy=policy,\n",
        "    baseline=baseline,\n",
        "    batch_size=4000,\n",
        "    max_path_length=5+2, #env.n_elements+2, # add 2 since this is just a safety measure\n",
        "    n_itr=50, # 50 is enough to reach steady state: average return 6.5, max return 8, min return 5\n",
        "    discount=0.99,\n",
        "    max_kl_step=0.01,\n",
        "    plot=False)\n"
      ],
      "execution_count": 11,
      "outputs": [
        {
          "output_type": "stream",
          "text": [
            "WARNING:tensorflow:From /content/garage/garage/tf/misc/tensor_utils.py:29: to_int32 (from tensorflow.python.ops.math_ops) is deprecated and will be removed in a future version.\n",
            "Instructions for updating:\n",
            "Use tf.cast instead.\n"
          ],
          "name": "stdout"
        }
      ]
    },
    {
      "metadata": {
        "id": "v7LQO4zBp8h4",
        "colab_type": "code",
        "outputId": "5a6fe25c-28ff-4cb9-b5d7-bc9cf9b0ca42",
        "colab": {
          "base_uri": "https://localhost:8080/",
          "height": 40854
        }
      },
      "cell_type": "code",
      "source": [
        "\n",
        "algo.train(sess=sess)"
      ],
      "execution_count": 12,
      "outputs": [
        {
          "output_type": "stream",
          "text": [
            "2019-02-11 14:58:42 | itr #0 | Obtaining samples...\n",
            "2019-02-11 14:58:42 | itr #0 | Obtaining samples for iteration 0...\n"
          ],
          "name": "stdout"
        },
        {
          "output_type": "stream",
          "text": [
            "0% [##############################] 100% | ETA: 00:00:00"
          ],
          "name": "stderr"
        },
        {
          "output_type": "stream",
          "text": [
            "2019-02-11 14:58:43 | itr #0 | Processing samples...\n"
          ],
          "name": "stdout"
        },
        {
          "output_type": "stream",
          "text": [
            "\n",
            "Total time elapsed: 00:00:00\n"
          ],
          "name": "stderr"
        },
        {
          "output_type": "stream",
          "text": [
            "2019-02-11 14:58:43 | itr #0 | Logging diagnostics...\n",
            "2019-02-11 14:58:43 | itr #0 | Optimizing policy...\n",
            "2019-02-11 14:58:43 | itr #0 | Computing loss before\n",
            "2019-02-11 14:58:43 | itr #0 | Computing KL before\n",
            "2019-02-11 14:58:43 | itr #0 | Optimizing\n",
            "2019-02-11 14:58:43 | itr #0 | Start CG optimization: #parameters: 1476, #inputs: 800, #subsample_inputs: 800\n",
            "2019-02-11 14:58:43 | itr #0 | computing loss before\n",
            "2019-02-11 14:58:43 | itr #0 | performing update\n",
            "2019-02-11 14:58:43 | itr #0 | computing gradient\n",
            "2019-02-11 14:58:43 | itr #0 | gradient computed\n",
            "2019-02-11 14:58:43 | itr #0 | computing descent direction\n",
            "2019-02-11 14:58:44 | itr #0 | descent direction computed\n",
            "2019-02-11 14:58:44 | itr #0 | backtrack iters: 1\n",
            "2019-02-11 14:58:44 | itr #0 | computing loss after\n",
            "2019-02-11 14:58:44 | itr #0 | optimization finished\n",
            "2019-02-11 14:58:44 | itr #0 | Computing KL after\n",
            "2019-02-11 14:58:44 | itr #0 | Computing loss after\n",
            "2019-02-11 14:58:44 | itr #0 | Fitting baseline...\n",
            "2019-02-11 14:58:44 | itr #0 | Saving snapshot...\n",
            "2019-02-11 14:58:44 | itr #0 | Saved\n",
            "2019-02-11 14:58:44 | --------------------------  -------------\n",
            "2019-02-11 14:58:44 | AverageDiscountedReturn      -0.97042\n",
            "2019-02-11 14:58:44 | AverageReturn                -1.015\n",
            "2019-02-11 14:58:44 | Baseline/ExplainedVariance   -7.10133e-08\n",
            "2019-02-11 14:58:44 | Entropy                       1.35178\n",
            "2019-02-11 14:58:44 | EnvExecTime                   0.11888\n",
            "2019-02-11 14:58:44 | Iteration                     0\n",
            "2019-02-11 14:58:44 | ItrTime                       1.50515\n",
            "2019-02-11 14:58:44 | MaxReturn                     7\n",
            "2019-02-11 14:58:44 | MinReturn                   -10\n",
            "2019-02-11 14:58:44 | NumTrajs                    800\n",
            "2019-02-11 14:58:44 | Perplexity                    3.86429\n",
            "2019-02-11 14:58:44 | PolicyExecTime                0.170195\n",
            "2019-02-11 14:58:44 | ProcessExecTime               0.0286894\n",
            "2019-02-11 14:58:44 | StdReturn                     3.65784\n",
            "2019-02-11 14:58:44 | Time                          1.5051\n",
            "2019-02-11 14:58:44 | policy/Entropy                0.16764\n",
            "2019-02-11 14:58:44 | policy/KL                     0.00660142\n",
            "2019-02-11 14:58:44 | policy/KLBefore               0\n",
            "2019-02-11 14:58:44 | policy/LossAfter             -0.0356218\n",
            "2019-02-11 14:58:44 | policy/LossBefore             1.95026e-07\n",
            "2019-02-11 14:58:44 | policy/dLoss                  0.035622\n",
            "2019-02-11 14:58:44 | --------------------------  -------------\n",
            "2019-02-11 14:58:44 | itr #1 | Obtaining samples...\n",
            "2019-02-11 14:58:44 | itr #1 | Obtaining samples for iteration 1...\n"
          ],
          "name": "stdout"
        },
        {
          "output_type": "stream",
          "text": [
            "0% [##############################] 100% | ETA: 00:00:00"
          ],
          "name": "stderr"
        },
        {
          "output_type": "stream",
          "text": [
            "2019-02-11 14:58:44 | itr #1 | Processing samples...\n"
          ],
          "name": "stdout"
        },
        {
          "output_type": "stream",
          "text": [
            "\n",
            "Total time elapsed: 00:00:00\n"
          ],
          "name": "stderr"
        },
        {
          "output_type": "stream",
          "text": [
            "2019-02-11 14:58:44 | itr #1 | Logging diagnostics...\n",
            "2019-02-11 14:58:44 | itr #1 | Optimizing policy...\n",
            "2019-02-11 14:58:44 | itr #1 | Computing loss before\n",
            "2019-02-11 14:58:44 | itr #1 | Computing KL before\n",
            "2019-02-11 14:58:44 | itr #1 | Optimizing\n",
            "2019-02-11 14:58:44 | itr #1 | Start CG optimization: #parameters: 1476, #inputs: 800, #subsample_inputs: 800\n",
            "2019-02-11 14:58:44 | itr #1 | computing loss before\n",
            "2019-02-11 14:58:44 | itr #1 | performing update\n",
            "2019-02-11 14:58:44 | itr #1 | computing gradient\n",
            "2019-02-11 14:58:44 | itr #1 | gradient computed\n",
            "2019-02-11 14:58:44 | itr #1 | computing descent direction\n",
            "2019-02-11 14:58:45 | itr #1 | descent direction computed\n",
            "2019-02-11 14:58:45 | itr #1 | backtrack iters: 1\n",
            "2019-02-11 14:58:45 | itr #1 | computing loss after\n",
            "2019-02-11 14:58:45 | itr #1 | optimization finished\n",
            "2019-02-11 14:58:45 | itr #1 | Computing KL after\n",
            "2019-02-11 14:58:45 | itr #1 | Computing loss after\n",
            "2019-02-11 14:58:45 | itr #1 | Fitting baseline...\n",
            "2019-02-11 14:58:45 | itr #1 | Saving snapshot...\n",
            "2019-02-11 14:58:45 | itr #1 | Saved\n",
            "2019-02-11 14:58:45 | --------------------------  -------------\n",
            "2019-02-11 14:58:45 | AverageDiscountedReturn      -0.683742\n",
            "2019-02-11 14:58:45 | AverageReturn                -0.72375\n",
            "2019-02-11 14:58:45 | Baseline/ExplainedVariance    0.514487\n",
            "2019-02-11 14:58:45 | Entropy                       1.35511\n",
            "2019-02-11 14:58:45 | EnvExecTime                   0.162335\n",
            "2019-02-11 14:58:45 | Iteration                     1\n",
            "2019-02-11 14:58:45 | ItrTime                       0.820877\n",
            "2019-02-11 14:58:45 | MaxReturn                     8\n",
            "2019-02-11 14:58:45 | MinReturn                   -10\n",
            "2019-02-11 14:58:45 | NumTrajs                    800\n",
            "2019-02-11 14:58:45 | Perplexity                    3.8772\n",
            "2019-02-11 14:58:45 | PolicyExecTime                0.172172\n",
            "2019-02-11 14:58:45 | ProcessExecTime               0.0373356\n",
            "2019-02-11 14:58:45 | StdReturn                     3.39079\n",
            "2019-02-11 14:58:45 | Time                          2.37124\n",
            "2019-02-11 14:58:45 | policy/Entropy                0.167203\n",
            "2019-02-11 14:58:45 | policy/KL                     0.00694608\n",
            "2019-02-11 14:58:45 | policy/KLBefore               0\n",
            "2019-02-11 14:58:45 | policy/LossAfter             -0.0575411\n",
            "2019-02-11 14:58:45 | policy/LossBefore             2.83718e-08\n",
            "2019-02-11 14:58:45 | policy/dLoss                  0.0575411\n",
            "2019-02-11 14:58:45 | --------------------------  -------------\n",
            "2019-02-11 14:58:45 | itr #2 | Obtaining samples...\n",
            "2019-02-11 14:58:45 | itr #2 | Obtaining samples for iteration 2...\n"
          ],
          "name": "stdout"
        },
        {
          "output_type": "stream",
          "text": [
            "0% [##############################] 100% | ETA: 00:00:00"
          ],
          "name": "stderr"
        },
        {
          "output_type": "stream",
          "text": [
            "2019-02-11 14:58:45 | itr #2 | Processing samples...\n"
          ],
          "name": "stdout"
        },
        {
          "output_type": "stream",
          "text": [
            "\n",
            "Total time elapsed: 00:00:00\n"
          ],
          "name": "stderr"
        },
        {
          "output_type": "stream",
          "text": [
            "2019-02-11 14:58:45 | itr #2 | Logging diagnostics...\n",
            "2019-02-11 14:58:45 | itr #2 | Optimizing policy...\n",
            "2019-02-11 14:58:45 | itr #2 | Computing loss before\n",
            "2019-02-11 14:58:45 | itr #2 | Computing KL before\n",
            "2019-02-11 14:58:45 | itr #2 | Optimizing\n",
            "2019-02-11 14:58:45 | itr #2 | Start CG optimization: #parameters: 1476, #inputs: 800, #subsample_inputs: 800\n",
            "2019-02-11 14:58:45 | itr #2 | computing loss before\n",
            "2019-02-11 14:58:45 | itr #2 | performing update\n",
            "2019-02-11 14:58:45 | itr #2 | computing gradient\n",
            "2019-02-11 14:58:45 | itr #2 | gradient computed\n",
            "2019-02-11 14:58:45 | itr #2 | computing descent direction\n",
            "2019-02-11 14:58:45 | itr #2 | descent direction computed\n",
            "2019-02-11 14:58:45 | itr #2 | backtrack iters: 1\n",
            "2019-02-11 14:58:45 | itr #2 | computing loss after\n",
            "2019-02-11 14:58:45 | itr #2 | optimization finished\n",
            "2019-02-11 14:58:45 | itr #2 | Computing KL after\n",
            "2019-02-11 14:58:45 | itr #2 | Computing loss after\n",
            "2019-02-11 14:58:45 | itr #2 | Fitting baseline...\n",
            "2019-02-11 14:58:45 | itr #2 | Saving snapshot...\n",
            "2019-02-11 14:58:45 | itr #2 | Saved\n",
            "2019-02-11 14:58:46 | --------------------------  -------------\n",
            "2019-02-11 14:58:46 | AverageDiscountedReturn       0.16176\n",
            "2019-02-11 14:58:46 | AverageReturn                 0.13875\n",
            "2019-02-11 14:58:46 | Baseline/ExplainedVariance    0.403175\n",
            "2019-02-11 14:58:46 | Entropy                       1.34468\n",
            "2019-02-11 14:58:46 | EnvExecTime                   0.163834\n",
            "2019-02-11 14:58:46 | Iteration                     2\n",
            "2019-02-11 14:58:46 | ItrTime                       0.83062\n",
            "2019-02-11 14:58:46 | MaxReturn                     8\n",
            "2019-02-11 14:58:46 | MinReturn                   -10\n",
            "2019-02-11 14:58:46 | NumTrajs                    800\n",
            "2019-02-11 14:58:46 | Perplexity                    3.83694\n",
            "2019-02-11 14:58:46 | PolicyExecTime                0.164822\n",
            "2019-02-11 14:58:46 | ProcessExecTime               0.0363431\n",
            "2019-02-11 14:58:46 | StdReturn                     3.19053\n",
            "2019-02-11 14:58:46 | Time                          3.22407\n",
            "2019-02-11 14:58:46 | policy/Entropy                0.172762\n",
            "2019-02-11 14:58:46 | policy/KL                     0.00719355\n",
            "2019-02-11 14:58:46 | policy/KLBefore               0\n",
            "2019-02-11 14:58:46 | policy/LossAfter             -0.0617964\n",
            "2019-02-11 14:58:46 | policy/LossBefore            -1.21593e-07\n",
            "2019-02-11 14:58:46 | policy/dLoss                  0.0617963\n",
            "2019-02-11 14:58:46 | --------------------------  -------------\n",
            "2019-02-11 14:58:46 | itr #3 | Obtaining samples...\n",
            "2019-02-11 14:58:46 | itr #3 | Obtaining samples for iteration 3...\n"
          ],
          "name": "stdout"
        },
        {
          "output_type": "stream",
          "text": [
            "0% [##############################] 100% | ETA: 00:00:00"
          ],
          "name": "stderr"
        },
        {
          "output_type": "stream",
          "text": [
            "2019-02-11 14:58:46 | itr #3 | Processing samples...\n"
          ],
          "name": "stdout"
        },
        {
          "output_type": "stream",
          "text": [
            "\n",
            "Total time elapsed: 00:00:00\n"
          ],
          "name": "stderr"
        },
        {
          "output_type": "stream",
          "text": [
            "2019-02-11 14:58:46 | itr #3 | Logging diagnostics...\n",
            "2019-02-11 14:58:46 | itr #3 | Optimizing policy...\n",
            "2019-02-11 14:58:46 | itr #3 | Computing loss before\n",
            "2019-02-11 14:58:46 | itr #3 | Computing KL before\n",
            "2019-02-11 14:58:46 | itr #3 | Optimizing\n",
            "2019-02-11 14:58:46 | itr #3 | Start CG optimization: #parameters: 1476, #inputs: 800, #subsample_inputs: 800\n",
            "2019-02-11 14:58:46 | itr #3 | computing loss before\n",
            "2019-02-11 14:58:46 | itr #3 | performing update\n",
            "2019-02-11 14:58:46 | itr #3 | computing gradient\n",
            "2019-02-11 14:58:46 | itr #3 | gradient computed\n",
            "2019-02-11 14:58:46 | itr #3 | computing descent direction\n",
            "2019-02-11 14:58:46 | itr #3 | descent direction computed\n",
            "2019-02-11 14:58:46 | itr #3 | backtrack iters: 1\n",
            "2019-02-11 14:58:46 | itr #3 | computing loss after\n",
            "2019-02-11 14:58:46 | itr #3 | optimization finished\n",
            "2019-02-11 14:58:46 | itr #3 | Computing KL after\n",
            "2019-02-11 14:58:46 | itr #3 | Computing loss after\n",
            "2019-02-11 14:58:46 | itr #3 | Fitting baseline...\n",
            "2019-02-11 14:58:46 | itr #3 | Saving snapshot...\n",
            "2019-02-11 14:58:46 | itr #3 | Saved\n",
            "2019-02-11 14:58:46 | --------------------------  -------------\n",
            "2019-02-11 14:58:46 | AverageDiscountedReturn       0.389045\n",
            "2019-02-11 14:58:46 | AverageReturn                 0.3725\n",
            "2019-02-11 14:58:46 | Baseline/ExplainedVariance    0.339479\n",
            "2019-02-11 14:58:46 | Entropy                       1.32245\n",
            "2019-02-11 14:58:46 | EnvExecTime                   0.151475\n",
            "2019-02-11 14:58:46 | Iteration                     3\n",
            "2019-02-11 14:58:46 | ItrTime                       0.793276\n",
            "2019-02-11 14:58:46 | MaxReturn                     7\n",
            "2019-02-11 14:58:46 | MinReturn                   -10\n",
            "2019-02-11 14:58:46 | NumTrajs                    800\n",
            "2019-02-11 14:58:46 | Perplexity                    3.75261\n",
            "2019-02-11 14:58:46 | PolicyExecTime                0.170336\n",
            "2019-02-11 14:58:46 | ProcessExecTime               0.0294621\n",
            "2019-02-11 14:58:46 | StdReturn                     2.96711\n",
            "2019-02-11 14:58:46 | Time                          4.07314\n",
            "2019-02-11 14:58:46 | policy/Entropy                0.180037\n",
            "2019-02-11 14:58:46 | policy/KL                     0.0070037\n",
            "2019-02-11 14:58:46 | policy/KLBefore               0\n",
            "2019-02-11 14:58:46 | policy/LossAfter             -0.0587294\n",
            "2019-02-11 14:58:46 | policy/LossBefore             1.00136e-08\n",
            "2019-02-11 14:58:46 | policy/dLoss                  0.0587294\n",
            "2019-02-11 14:58:46 | --------------------------  -------------\n",
            "2019-02-11 14:58:46 | itr #4 | Obtaining samples...\n",
            "2019-02-11 14:58:46 | itr #4 | Obtaining samples for iteration 4...\n"
          ],
          "name": "stdout"
        },
        {
          "output_type": "stream",
          "text": [
            "0% [##############################] 100% | ETA: 00:00:00"
          ],
          "name": "stderr"
        },
        {
          "output_type": "stream",
          "text": [
            "2019-02-11 14:58:47 | itr #4 | Processing samples...\n"
          ],
          "name": "stdout"
        },
        {
          "output_type": "stream",
          "text": [
            "\n",
            "Total time elapsed: 00:00:00\n"
          ],
          "name": "stderr"
        },
        {
          "output_type": "stream",
          "text": [
            "2019-02-11 14:58:47 | itr #4 | Logging diagnostics...\n",
            "2019-02-11 14:58:47 | itr #4 | Optimizing policy...\n",
            "2019-02-11 14:58:47 | itr #4 | Computing loss before\n",
            "2019-02-11 14:58:47 | itr #4 | Computing KL before\n",
            "2019-02-11 14:58:47 | itr #4 | Optimizing\n",
            "2019-02-11 14:58:47 | itr #4 | Start CG optimization: #parameters: 1476, #inputs: 800, #subsample_inputs: 800\n",
            "2019-02-11 14:58:47 | itr #4 | computing loss before\n",
            "2019-02-11 14:58:47 | itr #4 | performing update\n",
            "2019-02-11 14:58:47 | itr #4 | computing gradient\n",
            "2019-02-11 14:58:47 | itr #4 | gradient computed\n",
            "2019-02-11 14:58:47 | itr #4 | computing descent direction\n",
            "2019-02-11 14:58:47 | itr #4 | descent direction computed\n",
            "2019-02-11 14:58:47 | itr #4 | backtrack iters: 1\n",
            "2019-02-11 14:58:47 | itr #4 | computing loss after\n",
            "2019-02-11 14:58:47 | itr #4 | optimization finished\n",
            "2019-02-11 14:58:47 | itr #4 | Computing KL after\n",
            "2019-02-11 14:58:47 | itr #4 | Computing loss after\n",
            "2019-02-11 14:58:47 | itr #4 | Fitting baseline...\n",
            "2019-02-11 14:58:47 | itr #4 | Saving snapshot...\n",
            "2019-02-11 14:58:47 | itr #4 | Saved\n",
            "2019-02-11 14:58:47 | --------------------------  -------------\n",
            "2019-02-11 14:58:47 | AverageDiscountedReturn       0.897672\n",
            "2019-02-11 14:58:47 | AverageReturn                 0.8925\n",
            "2019-02-11 14:58:47 | Baseline/ExplainedVariance    0.302539\n",
            "2019-02-11 14:58:47 | Entropy                       1.28759\n",
            "2019-02-11 14:58:47 | EnvExecTime                   0.158821\n",
            "2019-02-11 14:58:47 | Iteration                     4\n",
            "2019-02-11 14:58:47 | ItrTime                       0.836364\n",
            "2019-02-11 14:58:47 | MaxReturn                     7\n",
            "2019-02-11 14:58:47 | MinReturn                   -10\n",
            "2019-02-11 14:58:47 | NumTrajs                    800\n",
            "2019-02-11 14:58:47 | Perplexity                    3.62405\n",
            "2019-02-11 14:58:47 | PolicyExecTime                0.171493\n",
            "2019-02-11 14:58:47 | ProcessExecTime               0.033216\n",
            "2019-02-11 14:58:47 | StdReturn                     2.92634\n",
            "2019-02-11 14:58:47 | Time                          4.93545\n",
            "2019-02-11 14:58:47 | policy/Entropy                0.188037\n",
            "2019-02-11 14:58:47 | policy/KL                     0.00688474\n",
            "2019-02-11 14:58:47 | policy/KLBefore               0\n",
            "2019-02-11 14:58:47 | policy/LossAfter             -0.0601969\n",
            "2019-02-11 14:58:47 | policy/LossBefore            -6.10352e-08\n",
            "2019-02-11 14:58:47 | policy/dLoss                  0.0601969\n",
            "2019-02-11 14:58:47 | --------------------------  -------------\n",
            "2019-02-11 14:58:47 | itr #5 | Obtaining samples...\n",
            "2019-02-11 14:58:47 | itr #5 | Obtaining samples for iteration 5...\n"
          ],
          "name": "stdout"
        },
        {
          "output_type": "stream",
          "text": [
            "0% [##############################] 100% | ETA: 00:00:00"
          ],
          "name": "stderr"
        },
        {
          "output_type": "stream",
          "text": [
            "2019-02-11 14:58:48 | itr #5 | Processing samples...\n"
          ],
          "name": "stdout"
        },
        {
          "output_type": "stream",
          "text": [
            "\n",
            "Total time elapsed: 00:00:00\n"
          ],
          "name": "stderr"
        },
        {
          "output_type": "stream",
          "text": [
            "2019-02-11 14:58:48 | itr #5 | Logging diagnostics...\n",
            "2019-02-11 14:58:48 | itr #5 | Optimizing policy...\n",
            "2019-02-11 14:58:48 | itr #5 | Computing loss before\n",
            "2019-02-11 14:58:48 | itr #5 | Computing KL before\n",
            "2019-02-11 14:58:48 | itr #5 | Optimizing\n",
            "2019-02-11 14:58:48 | itr #5 | Start CG optimization: #parameters: 1476, #inputs: 800, #subsample_inputs: 800\n",
            "2019-02-11 14:58:48 | itr #5 | computing loss before\n",
            "2019-02-11 14:58:48 | itr #5 | performing update\n",
            "2019-02-11 14:58:48 | itr #5 | computing gradient\n",
            "2019-02-11 14:58:48 | itr #5 | gradient computed\n",
            "2019-02-11 14:58:48 | itr #5 | computing descent direction\n",
            "2019-02-11 14:58:48 | itr #5 | descent direction computed\n",
            "2019-02-11 14:58:48 | itr #5 | backtrack iters: 1\n",
            "2019-02-11 14:58:48 | itr #5 | computing loss after\n",
            "2019-02-11 14:58:48 | itr #5 | optimization finished\n",
            "2019-02-11 14:58:48 | itr #5 | Computing KL after\n",
            "2019-02-11 14:58:48 | itr #5 | Computing loss after\n",
            "2019-02-11 14:58:48 | itr #5 | Fitting baseline...\n",
            "2019-02-11 14:58:48 | itr #5 | Saving snapshot...\n",
            "2019-02-11 14:58:48 | itr #5 | Saved\n",
            "2019-02-11 14:58:48 | --------------------------  -------------\n",
            "2019-02-11 14:58:48 | AverageDiscountedReturn       1.51916\n",
            "2019-02-11 14:58:48 | AverageReturn                 1.53\n",
            "2019-02-11 14:58:48 | Baseline/ExplainedVariance    0.196413\n",
            "2019-02-11 14:58:48 | Entropy                       1.23692\n",
            "2019-02-11 14:58:48 | EnvExecTime                   0.173349\n",
            "2019-02-11 14:58:48 | Iteration                     5\n",
            "2019-02-11 14:58:48 | ItrTime                       0.833954\n",
            "2019-02-11 14:58:48 | MaxReturn                     8\n",
            "2019-02-11 14:58:48 | MinReturn                   -10\n",
            "2019-02-11 14:58:48 | NumTrajs                    800\n",
            "2019-02-11 14:58:48 | Perplexity                    3.44499\n",
            "2019-02-11 14:58:48 | PolicyExecTime                0.172159\n",
            "2019-02-11 14:58:48 | ProcessExecTime               0.0380144\n",
            "2019-02-11 14:58:48 | StdReturn                     2.79358\n",
            "2019-02-11 14:58:48 | Time                          5.79374\n",
            "2019-02-11 14:58:48 | policy/Entropy                0.206261\n",
            "2019-02-11 14:58:48 | policy/KL                     0.00673047\n",
            "2019-02-11 14:58:48 | policy/KLBefore               0\n",
            "2019-02-11 14:58:48 | policy/LossAfter             -0.0592427\n",
            "2019-02-11 14:58:48 | policy/LossBefore             9.53674e-08\n",
            "2019-02-11 14:58:48 | policy/dLoss                  0.0592428\n",
            "2019-02-11 14:58:48 | --------------------------  -------------\n",
            "2019-02-11 14:58:48 | itr #6 | Obtaining samples...\n",
            "2019-02-11 14:58:48 | itr #6 | Obtaining samples for iteration 6...\n"
          ],
          "name": "stdout"
        },
        {
          "output_type": "stream",
          "text": [
            "0% [##############################] 100% | ETA: 00:00:00"
          ],
          "name": "stderr"
        },
        {
          "output_type": "stream",
          "text": [
            "2019-02-11 14:58:49 | itr #6 | Processing samples...\n"
          ],
          "name": "stdout"
        },
        {
          "output_type": "stream",
          "text": [
            "\n",
            "Total time elapsed: 00:00:00\n"
          ],
          "name": "stderr"
        },
        {
          "output_type": "stream",
          "text": [
            "2019-02-11 14:58:49 | itr #6 | Logging diagnostics...\n",
            "2019-02-11 14:58:49 | itr #6 | Optimizing policy...\n",
            "2019-02-11 14:58:49 | itr #6 | Computing loss before\n",
            "2019-02-11 14:58:49 | itr #6 | Computing KL before\n",
            "2019-02-11 14:58:49 | itr #6 | Optimizing\n",
            "2019-02-11 14:58:49 | itr #6 | Start CG optimization: #parameters: 1476, #inputs: 800, #subsample_inputs: 800\n",
            "2019-02-11 14:58:49 | itr #6 | computing loss before\n",
            "2019-02-11 14:58:49 | itr #6 | performing update\n",
            "2019-02-11 14:58:49 | itr #6 | computing gradient\n",
            "2019-02-11 14:58:49 | itr #6 | gradient computed\n",
            "2019-02-11 14:58:49 | itr #6 | computing descent direction\n",
            "2019-02-11 14:58:49 | itr #6 | descent direction computed\n",
            "2019-02-11 14:58:49 | itr #6 | backtrack iters: 1\n",
            "2019-02-11 14:58:49 | itr #6 | computing loss after\n",
            "2019-02-11 14:58:49 | itr #6 | optimization finished\n",
            "2019-02-11 14:58:49 | itr #6 | Computing KL after\n",
            "2019-02-11 14:58:49 | itr #6 | Computing loss after\n",
            "2019-02-11 14:58:49 | itr #6 | Fitting baseline...\n",
            "2019-02-11 14:58:49 | itr #6 | Saving snapshot...\n",
            "2019-02-11 14:58:49 | itr #6 | Saved\n",
            "2019-02-11 14:58:49 | --------------------------  -------------\n",
            "2019-02-11 14:58:49 | AverageDiscountedReturn       2.23694\n",
            "2019-02-11 14:58:49 | AverageReturn                 2.26625\n",
            "2019-02-11 14:58:49 | Baseline/ExplainedVariance    0.252693\n",
            "2019-02-11 14:58:49 | Entropy                       1.16882\n",
            "2019-02-11 14:58:49 | EnvExecTime                   0.164146\n",
            "2019-02-11 14:58:49 | Iteration                     6\n",
            "2019-02-11 14:58:49 | ItrTime                       0.840993\n",
            "2019-02-11 14:58:49 | MaxReturn                     8\n",
            "2019-02-11 14:58:49 | MinReturn                    -7\n",
            "2019-02-11 14:58:49 | NumTrajs                    800\n",
            "2019-02-11 14:58:49 | Perplexity                    3.2182\n",
            "2019-02-11 14:58:49 | PolicyExecTime                0.185205\n",
            "2019-02-11 14:58:49 | ProcessExecTime               0.0329947\n",
            "2019-02-11 14:58:49 | StdReturn                     2.62495\n",
            "2019-02-11 14:58:49 | Time                          6.67127\n",
            "2019-02-11 14:58:49 | policy/Entropy                0.226606\n",
            "2019-02-11 14:58:49 | policy/KL                     0.0066058\n",
            "2019-02-11 14:58:49 | policy/KLBefore               0\n",
            "2019-02-11 14:58:49 | policy/LossAfter             -0.0587532\n",
            "2019-02-11 14:58:49 | policy/LossBefore            -3.92199e-08\n",
            "2019-02-11 14:58:49 | policy/dLoss                  0.0587531\n",
            "2019-02-11 14:58:49 | --------------------------  -------------\n",
            "2019-02-11 14:58:49 | itr #7 | Obtaining samples...\n",
            "2019-02-11 14:58:49 | itr #7 | Obtaining samples for iteration 7...\n"
          ],
          "name": "stdout"
        },
        {
          "output_type": "stream",
          "text": [
            "0% [##############################] 100% | ETA: 00:00:00"
          ],
          "name": "stderr"
        },
        {
          "output_type": "stream",
          "text": [
            "2019-02-11 14:58:49 | itr #7 | Processing samples...\n"
          ],
          "name": "stdout"
        },
        {
          "output_type": "stream",
          "text": [
            "\n",
            "Total time elapsed: 00:00:00\n"
          ],
          "name": "stderr"
        },
        {
          "output_type": "stream",
          "text": [
            "2019-02-11 14:58:49 | itr #7 | Logging diagnostics...\n",
            "2019-02-11 14:58:49 | itr #7 | Optimizing policy...\n",
            "2019-02-11 14:58:49 | itr #7 | Computing loss before\n",
            "2019-02-11 14:58:49 | itr #7 | Computing KL before\n",
            "2019-02-11 14:58:49 | itr #7 | Optimizing\n",
            "2019-02-11 14:58:49 | itr #7 | Start CG optimization: #parameters: 1476, #inputs: 800, #subsample_inputs: 800\n",
            "2019-02-11 14:58:49 | itr #7 | computing loss before\n",
            "2019-02-11 14:58:49 | itr #7 | performing update\n",
            "2019-02-11 14:58:49 | itr #7 | computing gradient\n",
            "2019-02-11 14:58:50 | itr #7 | gradient computed\n",
            "2019-02-11 14:58:50 | itr #7 | computing descent direction\n",
            "2019-02-11 14:58:50 | itr #7 | descent direction computed\n",
            "2019-02-11 14:58:50 | itr #7 | backtrack iters: 1\n",
            "2019-02-11 14:58:50 | itr #7 | computing loss after\n",
            "2019-02-11 14:58:50 | itr #7 | optimization finished\n",
            "2019-02-11 14:58:50 | itr #7 | Computing KL after\n",
            "2019-02-11 14:58:50 | itr #7 | Computing loss after\n",
            "2019-02-11 14:58:50 | itr #7 | Fitting baseline...\n",
            "2019-02-11 14:58:50 | itr #7 | Saving snapshot...\n",
            "2019-02-11 14:58:50 | itr #7 | Saved\n",
            "2019-02-11 14:58:50 | --------------------------  ------------\n",
            "2019-02-11 14:58:50 | AverageDiscountedReturn       2.77379\n",
            "2019-02-11 14:58:50 | AverageReturn                 2.81375\n",
            "2019-02-11 14:58:50 | Baseline/ExplainedVariance    0.232945\n",
            "2019-02-11 14:58:50 | Entropy                       1.09216\n",
            "2019-02-11 14:58:50 | EnvExecTime                   0.167229\n",
            "2019-02-11 14:58:50 | Iteration                     7\n",
            "2019-02-11 14:58:50 | ItrTime                       0.805643\n",
            "2019-02-11 14:58:50 | MaxReturn                     8\n",
            "2019-02-11 14:58:50 | MinReturn                   -10\n",
            "2019-02-11 14:58:50 | NumTrajs                    800\n",
            "2019-02-11 14:58:50 | Perplexity                    2.98069\n",
            "2019-02-11 14:58:50 | PolicyExecTime                0.158164\n",
            "2019-02-11 14:58:50 | ProcessExecTime               0.0426493\n",
            "2019-02-11 14:58:50 | StdReturn                     2.51725\n",
            "2019-02-11 14:58:50 | Time                          7.50079\n",
            "2019-02-11 14:58:50 | policy/Entropy                0.246113\n",
            "2019-02-11 14:58:50 | policy/KL                     0.00650131\n",
            "2019-02-11 14:58:50 | policy/KLBefore               0\n",
            "2019-02-11 14:58:50 | policy/LossAfter             -0.0596651\n",
            "2019-02-11 14:58:50 | policy/LossBefore            -1.9455e-07\n",
            "2019-02-11 14:58:50 | policy/dLoss                  0.0596649\n",
            "2019-02-11 14:58:50 | --------------------------  ------------\n",
            "2019-02-11 14:58:50 | itr #8 | Obtaining samples...\n",
            "2019-02-11 14:58:50 | itr #8 | Obtaining samples for iteration 8...\n"
          ],
          "name": "stdout"
        },
        {
          "output_type": "stream",
          "text": [
            "0% [##############################] 100% | ETA: 00:00:00\n",
            "Total time elapsed: 00:00:00"
          ],
          "name": "stderr"
        },
        {
          "output_type": "stream",
          "text": [
            "2019-02-11 14:58:50 | itr #8 | Processing samples...\n"
          ],
          "name": "stdout"
        },
        {
          "output_type": "stream",
          "text": [
            "\n"
          ],
          "name": "stderr"
        },
        {
          "output_type": "stream",
          "text": [
            "2019-02-11 14:58:50 | itr #8 | Logging diagnostics...\n",
            "2019-02-11 14:58:50 | itr #8 | Optimizing policy...\n",
            "2019-02-11 14:58:50 | itr #8 | Computing loss before\n",
            "2019-02-11 14:58:50 | itr #8 | Computing KL before\n",
            "2019-02-11 14:58:50 | itr #8 | Optimizing\n",
            "2019-02-11 14:58:50 | itr #8 | Start CG optimization: #parameters: 1476, #inputs: 800, #subsample_inputs: 800\n",
            "2019-02-11 14:58:50 | itr #8 | computing loss before\n",
            "2019-02-11 14:58:50 | itr #8 | performing update\n",
            "2019-02-11 14:58:50 | itr #8 | computing gradient\n",
            "2019-02-11 14:58:50 | itr #8 | gradient computed\n",
            "2019-02-11 14:58:50 | itr #8 | computing descent direction\n",
            "2019-02-11 14:58:51 | itr #8 | descent direction computed\n",
            "2019-02-11 14:58:51 | itr #8 | backtrack iters: 1\n",
            "2019-02-11 14:58:51 | itr #8 | computing loss after\n",
            "2019-02-11 14:58:51 | itr #8 | optimization finished\n",
            "2019-02-11 14:58:51 | itr #8 | Computing KL after\n",
            "2019-02-11 14:58:51 | itr #8 | Computing loss after\n",
            "2019-02-11 14:58:51 | itr #8 | Fitting baseline...\n",
            "2019-02-11 14:58:51 | itr #8 | Saving snapshot...\n",
            "2019-02-11 14:58:51 | itr #8 | Saved\n",
            "2019-02-11 14:58:51 | --------------------------  -------------\n",
            "2019-02-11 14:58:51 | AverageDiscountedReturn       3.53429\n",
            "2019-02-11 14:58:51 | AverageReturn                 3.59125\n",
            "2019-02-11 14:58:51 | Baseline/ExplainedVariance    0.292331\n",
            "2019-02-11 14:58:51 | Entropy                       1.01\n",
            "2019-02-11 14:58:51 | EnvExecTime                   0.153622\n",
            "2019-02-11 14:58:51 | Iteration                     8\n",
            "2019-02-11 14:58:51 | ItrTime                       0.82749\n",
            "2019-02-11 14:58:51 | MaxReturn                     8\n",
            "2019-02-11 14:58:51 | MinReturn                    -4\n",
            "2019-02-11 14:58:51 | NumTrajs                    800\n",
            "2019-02-11 14:58:51 | Perplexity                    2.74561\n",
            "2019-02-11 14:58:51 | PolicyExecTime                0.185302\n",
            "2019-02-11 14:58:51 | ProcessExecTime               0.0404887\n",
            "2019-02-11 14:58:51 | StdReturn                     2.33274\n",
            "2019-02-11 14:58:51 | Time                          8.35392\n",
            "2019-02-11 14:58:51 | policy/Entropy                0.271675\n",
            "2019-02-11 14:58:51 | policy/KL                     0.00644989\n",
            "2019-02-11 14:58:51 | policy/KLBefore               0\n",
            "2019-02-11 14:58:51 | policy/LossAfter             -0.0575486\n",
            "2019-02-11 14:58:51 | policy/LossBefore            -3.41892e-07\n",
            "2019-02-11 14:58:51 | policy/dLoss                  0.0575483\n",
            "2019-02-11 14:58:51 | --------------------------  -------------\n",
            "2019-02-11 14:58:51 | itr #9 | Obtaining samples...\n",
            "2019-02-11 14:58:51 | itr #9 | Obtaining samples for iteration 9...\n"
          ],
          "name": "stdout"
        },
        {
          "output_type": "stream",
          "text": [
            "0% [##############################] 100% | ETA: 00:00:00"
          ],
          "name": "stderr"
        },
        {
          "output_type": "stream",
          "text": [
            "2019-02-11 14:58:51 | itr #9 | Processing samples...\n"
          ],
          "name": "stdout"
        },
        {
          "output_type": "stream",
          "text": [
            "\n",
            "Total time elapsed: 00:00:00\n"
          ],
          "name": "stderr"
        },
        {
          "output_type": "stream",
          "text": [
            "2019-02-11 14:58:51 | itr #9 | Logging diagnostics...\n",
            "2019-02-11 14:58:51 | itr #9 | Optimizing policy...\n",
            "2019-02-11 14:58:51 | itr #9 | Computing loss before\n",
            "2019-02-11 14:58:51 | itr #9 | Computing KL before\n",
            "2019-02-11 14:58:51 | itr #9 | Optimizing\n",
            "2019-02-11 14:58:51 | itr #9 | Start CG optimization: #parameters: 1476, #inputs: 800, #subsample_inputs: 800\n",
            "2019-02-11 14:58:51 | itr #9 | computing loss before\n",
            "2019-02-11 14:58:51 | itr #9 | performing update\n",
            "2019-02-11 14:58:51 | itr #9 | computing gradient\n",
            "2019-02-11 14:58:51 | itr #9 | gradient computed\n",
            "2019-02-11 14:58:51 | itr #9 | computing descent direction\n",
            "2019-02-11 14:58:51 | itr #9 | descent direction computed\n",
            "2019-02-11 14:58:51 | itr #9 | backtrack iters: 1\n",
            "2019-02-11 14:58:51 | itr #9 | computing loss after\n",
            "2019-02-11 14:58:51 | itr #9 | optimization finished\n",
            "2019-02-11 14:58:51 | itr #9 | Computing KL after\n",
            "2019-02-11 14:58:51 | itr #9 | Computing loss after\n",
            "2019-02-11 14:58:51 | itr #9 | Fitting baseline...\n",
            "2019-02-11 14:58:51 | itr #9 | Saving snapshot...\n",
            "2019-02-11 14:58:51 | itr #9 | Saved\n",
            "2019-02-11 14:58:52 | --------------------------  -------------\n",
            "2019-02-11 14:58:52 | AverageDiscountedReturn       3.87385\n",
            "2019-02-11 14:58:52 | AverageReturn                 3.93875\n",
            "2019-02-11 14:58:52 | Baseline/ExplainedVariance    0.342944\n",
            "2019-02-11 14:58:52 | Entropy                       0.905077\n",
            "2019-02-11 14:58:52 | EnvExecTime                   0.155471\n",
            "2019-02-11 14:58:52 | Iteration                     9\n",
            "2019-02-11 14:58:52 | ItrTime                       0.846359\n",
            "2019-02-11 14:58:52 | MaxReturn                     8\n",
            "2019-02-11 14:58:52 | MinReturn                    -5\n",
            "2019-02-11 14:58:52 | NumTrajs                    800\n",
            "2019-02-11 14:58:52 | Perplexity                    2.47212\n",
            "2019-02-11 14:58:52 | PolicyExecTime                0.204713\n",
            "2019-02-11 14:58:52 | ProcessExecTime               0.0394087\n",
            "2019-02-11 14:58:52 | StdReturn                     2.31948\n",
            "2019-02-11 14:58:52 | Time                          9.22542\n",
            "2019-02-11 14:58:52 | policy/Entropy                0.29653\n",
            "2019-02-11 14:58:52 | policy/KL                     0.00641061\n",
            "2019-02-11 14:58:52 | policy/KLBefore               0\n",
            "2019-02-11 14:58:52 | policy/LossAfter             -0.060875\n",
            "2019-02-11 14:58:52 | policy/LossBefore            -1.43528e-07\n",
            "2019-02-11 14:58:52 | policy/dLoss                  0.0608749\n",
            "2019-02-11 14:58:52 | --------------------------  -------------\n",
            "2019-02-11 14:58:52 | itr #10 | Obtaining samples...\n",
            "2019-02-11 14:58:52 | itr #10 | Obtaining samples for iteration 10...\n"
          ],
          "name": "stdout"
        },
        {
          "output_type": "stream",
          "text": [
            "0% [##############################] 100% | ETA: 00:00:00"
          ],
          "name": "stderr"
        },
        {
          "output_type": "stream",
          "text": [
            "2019-02-11 14:58:52 | itr #10 | Processing samples...\n"
          ],
          "name": "stdout"
        },
        {
          "output_type": "stream",
          "text": [
            "\n",
            "Total time elapsed: 00:00:00\n"
          ],
          "name": "stderr"
        },
        {
          "output_type": "stream",
          "text": [
            "2019-02-11 14:58:52 | itr #10 | Logging diagnostics...\n",
            "2019-02-11 14:58:52 | itr #10 | Optimizing policy...\n",
            "2019-02-11 14:58:52 | itr #10 | Computing loss before\n",
            "2019-02-11 14:58:52 | itr #10 | Computing KL before\n",
            "2019-02-11 14:58:52 | itr #10 | Optimizing\n",
            "2019-02-11 14:58:52 | itr #10 | Start CG optimization: #parameters: 1476, #inputs: 800, #subsample_inputs: 800\n",
            "2019-02-11 14:58:52 | itr #10 | computing loss before\n",
            "2019-02-11 14:58:52 | itr #10 | performing update\n",
            "2019-02-11 14:58:52 | itr #10 | computing gradient\n",
            "2019-02-11 14:58:52 | itr #10 | gradient computed\n",
            "2019-02-11 14:58:52 | itr #10 | computing descent direction\n",
            "2019-02-11 14:58:52 | itr #10 | descent direction computed\n",
            "2019-02-11 14:58:52 | itr #10 | backtrack iters: 0\n",
            "2019-02-11 14:58:52 | itr #10 | computing loss after\n",
            "2019-02-11 14:58:52 | itr #10 | optimization finished\n",
            "2019-02-11 14:58:52 | itr #10 | Computing KL after\n",
            "2019-02-11 14:58:52 | itr #10 | Computing loss after\n",
            "2019-02-11 14:58:52 | itr #10 | Fitting baseline...\n",
            "2019-02-11 14:58:52 | itr #10 | Saving snapshot...\n",
            "2019-02-11 14:58:52 | itr #10 | Saved\n",
            "2019-02-11 14:58:52 | --------------------------  -------------\n",
            "2019-02-11 14:58:52 | AverageDiscountedReturn       4.20438\n",
            "2019-02-11 14:58:52 | AverageReturn                 4.27625\n",
            "2019-02-11 14:58:52 | Baseline/ExplainedVariance    0.401158\n",
            "2019-02-11 14:58:52 | Entropy                       0.827469\n",
            "2019-02-11 14:58:52 | EnvExecTime                   0.164279\n",
            "2019-02-11 14:58:52 | Iteration                    10\n",
            "2019-02-11 14:58:52 | ItrTime                       0.785062\n",
            "2019-02-11 14:58:52 | MaxReturn                     8\n",
            "2019-02-11 14:58:52 | MinReturn                    -4\n",
            "2019-02-11 14:58:52 | NumTrajs                    800\n",
            "2019-02-11 14:58:52 | Perplexity                    2.28752\n",
            "2019-02-11 14:58:52 | PolicyExecTime                0.16245\n",
            "2019-02-11 14:58:52 | ProcessExecTime               0.0410929\n",
            "2019-02-11 14:58:52 | StdReturn                     2.22372\n",
            "2019-02-11 14:58:52 | Time                         10.0314\n",
            "2019-02-11 14:58:52 | policy/Entropy                0.311794\n",
            "2019-02-11 14:58:52 | policy/KL                     0.0098153\n",
            "2019-02-11 14:58:52 | policy/KLBefore               0\n",
            "2019-02-11 14:58:52 | policy/LossAfter             -0.074249\n",
            "2019-02-11 14:58:52 | policy/LossBefore             5.05447e-08\n",
            "2019-02-11 14:58:52 | policy/dLoss                  0.074249\n",
            "2019-02-11 14:58:52 | --------------------------  -------------\n",
            "2019-02-11 14:58:52 | itr #11 | Obtaining samples...\n",
            "2019-02-11 14:58:52 | itr #11 | Obtaining samples for iteration 11...\n"
          ],
          "name": "stdout"
        },
        {
          "output_type": "stream",
          "text": [
            "0% [##############################] 100% | ETA: 00:00:00"
          ],
          "name": "stderr"
        },
        {
          "output_type": "stream",
          "text": [
            "2019-02-11 14:58:53 | itr #11 | Processing samples...\n"
          ],
          "name": "stdout"
        },
        {
          "output_type": "stream",
          "text": [
            "\n",
            "Total time elapsed: 00:00:00\n"
          ],
          "name": "stderr"
        },
        {
          "output_type": "stream",
          "text": [
            "2019-02-11 14:58:53 | itr #11 | Logging diagnostics...\n",
            "2019-02-11 14:58:53 | itr #11 | Optimizing policy...\n",
            "2019-02-11 14:58:53 | itr #11 | Computing loss before\n",
            "2019-02-11 14:58:53 | itr #11 | Computing KL before\n",
            "2019-02-11 14:58:53 | itr #11 | Optimizing\n",
            "2019-02-11 14:58:53 | itr #11 | Start CG optimization: #parameters: 1476, #inputs: 800, #subsample_inputs: 800\n",
            "2019-02-11 14:58:53 | itr #11 | computing loss before\n",
            "2019-02-11 14:58:53 | itr #11 | performing update\n",
            "2019-02-11 14:58:53 | itr #11 | computing gradient\n",
            "2019-02-11 14:58:53 | itr #11 | gradient computed\n",
            "2019-02-11 14:58:53 | itr #11 | computing descent direction\n",
            "2019-02-11 14:58:53 | itr #11 | descent direction computed\n",
            "2019-02-11 14:58:53 | itr #11 | backtrack iters: 0\n",
            "2019-02-11 14:58:53 | itr #11 | computing loss after\n",
            "2019-02-11 14:58:53 | itr #11 | optimization finished\n",
            "2019-02-11 14:58:53 | itr #11 | Computing KL after\n",
            "2019-02-11 14:58:53 | itr #11 | Computing loss after\n",
            "2019-02-11 14:58:53 | itr #11 | Fitting baseline...\n",
            "2019-02-11 14:58:53 | itr #11 | Saving snapshot...\n",
            "2019-02-11 14:58:53 | itr #11 | Saved\n",
            "2019-02-11 14:58:53 | --------------------------  -------------\n",
            "2019-02-11 14:58:53 | AverageDiscountedReturn       4.8334\n",
            "2019-02-11 14:58:53 | AverageReturn                 4.91875\n",
            "2019-02-11 14:58:53 | Baseline/ExplainedVariance    0.531947\n",
            "2019-02-11 14:58:53 | Entropy                       0.667897\n",
            "2019-02-11 14:58:53 | EnvExecTime                   0.167119\n",
            "2019-02-11 14:58:53 | Iteration                    11\n",
            "2019-02-11 14:58:53 | ItrTime                       0.837982\n",
            "2019-02-11 14:58:53 | MaxReturn                     8\n",
            "2019-02-11 14:58:53 | MinReturn                    -4\n",
            "2019-02-11 14:58:53 | NumTrajs                    800\n",
            "2019-02-11 14:58:53 | Perplexity                    1.95013\n",
            "2019-02-11 14:58:53 | PolicyExecTime                0.189706\n",
            "2019-02-11 14:58:53 | ProcessExecTime               0.0329242\n",
            "2019-02-11 14:58:53 | StdReturn                     1.93705\n",
            "2019-02-11 14:58:53 | Time                         10.8952\n",
            "2019-02-11 14:58:53 | policy/Entropy                0.352977\n",
            "2019-02-11 14:58:53 | policy/KL                     0.00957734\n",
            "2019-02-11 14:58:53 | policy/KLBefore               0\n",
            "2019-02-11 14:58:53 | policy/LossAfter             -0.0760665\n",
            "2019-02-11 14:58:53 | policy/LossBefore             8.10623e-08\n",
            "2019-02-11 14:58:53 | policy/dLoss                  0.0760665\n",
            "2019-02-11 14:58:53 | --------------------------  -------------\n",
            "2019-02-11 14:58:53 | itr #12 | Obtaining samples...\n",
            "2019-02-11 14:58:53 | itr #12 | Obtaining samples for iteration 12...\n"
          ],
          "name": "stdout"
        },
        {
          "output_type": "stream",
          "text": [
            "0% [##############################] 100% | ETA: 00:00:00"
          ],
          "name": "stderr"
        },
        {
          "output_type": "stream",
          "text": [
            "2019-02-11 14:58:54 | itr #12 | Processing samples...\n"
          ],
          "name": "stdout"
        },
        {
          "output_type": "stream",
          "text": [
            "\n",
            "Total time elapsed: 00:00:00\n"
          ],
          "name": "stderr"
        },
        {
          "output_type": "stream",
          "text": [
            "2019-02-11 14:58:54 | itr #12 | Logging diagnostics...\n",
            "2019-02-11 14:58:54 | itr #12 | Optimizing policy...\n",
            "2019-02-11 14:58:54 | itr #12 | Computing loss before\n",
            "2019-02-11 14:58:54 | itr #12 | Computing KL before\n",
            "2019-02-11 14:58:54 | itr #12 | Optimizing\n",
            "2019-02-11 14:58:54 | itr #12 | Start CG optimization: #parameters: 1476, #inputs: 800, #subsample_inputs: 800\n",
            "2019-02-11 14:58:54 | itr #12 | computing loss before\n",
            "2019-02-11 14:58:54 | itr #12 | performing update\n",
            "2019-02-11 14:58:54 | itr #12 | computing gradient\n",
            "2019-02-11 14:58:54 | itr #12 | gradient computed\n",
            "2019-02-11 14:58:54 | itr #12 | computing descent direction\n",
            "2019-02-11 14:58:54 | itr #12 | descent direction computed\n",
            "2019-02-11 14:58:54 | itr #12 | backtrack iters: 0\n",
            "2019-02-11 14:58:54 | itr #12 | computing loss after\n",
            "2019-02-11 14:58:54 | itr #12 | optimization finished\n",
            "2019-02-11 14:58:54 | itr #12 | Computing KL after\n",
            "2019-02-11 14:58:54 | itr #12 | Computing loss after\n",
            "2019-02-11 14:58:54 | itr #12 | Fitting baseline...\n",
            "2019-02-11 14:58:54 | itr #12 | Saving snapshot...\n",
            "2019-02-11 14:58:54 | itr #12 | Saved\n",
            "2019-02-11 14:58:54 | --------------------------  ------------\n",
            "2019-02-11 14:58:54 | AverageDiscountedReturn       5.19279\n",
            "2019-02-11 14:58:54 | AverageReturn                 5.28625\n",
            "2019-02-11 14:58:54 | Baseline/ExplainedVariance    0.634783\n",
            "2019-02-11 14:58:54 | Entropy                       0.568758\n",
            "2019-02-11 14:58:54 | EnvExecTime                   0.162376\n",
            "2019-02-11 14:58:54 | Iteration                    12\n",
            "2019-02-11 14:58:54 | ItrTime                       0.838449\n",
            "2019-02-11 14:58:54 | MaxReturn                     8\n",
            "2019-02-11 14:58:54 | MinReturn                    -2\n",
            "2019-02-11 14:58:54 | NumTrajs                    800\n",
            "2019-02-11 14:58:54 | Perplexity                    1.76607\n",
            "2019-02-11 14:58:54 | PolicyExecTime                0.181887\n",
            "2019-02-11 14:58:54 | ProcessExecTime               0.0364604\n",
            "2019-02-11 14:58:54 | StdReturn                     1.71006\n",
            "2019-02-11 14:58:54 | Time                         11.7588\n",
            "2019-02-11 14:58:54 | policy/Entropy                0.370982\n",
            "2019-02-11 14:58:54 | policy/KL                     0.00975295\n",
            "2019-02-11 14:58:54 | policy/KLBefore               0\n",
            "2019-02-11 14:58:54 | policy/LossAfter             -0.0781111\n",
            "2019-02-11 14:58:54 | policy/LossBefore            -1.8692e-07\n",
            "2019-02-11 14:58:54 | policy/dLoss                  0.0781109\n",
            "2019-02-11 14:58:54 | --------------------------  ------------\n",
            "2019-02-11 14:58:54 | itr #13 | Obtaining samples...\n",
            "2019-02-11 14:58:54 | itr #13 | Obtaining samples for iteration 13...\n"
          ],
          "name": "stdout"
        },
        {
          "output_type": "stream",
          "text": [
            "0% [##############################] 100% | ETA: 00:00:00"
          ],
          "name": "stderr"
        },
        {
          "output_type": "stream",
          "text": [
            "2019-02-11 14:58:54 | itr #13 | Processing samples...\n"
          ],
          "name": "stdout"
        },
        {
          "output_type": "stream",
          "text": [
            "\n",
            "Total time elapsed: 00:00:00\n"
          ],
          "name": "stderr"
        },
        {
          "output_type": "stream",
          "text": [
            "2019-02-11 14:58:55 | itr #13 | Logging diagnostics...\n",
            "2019-02-11 14:58:55 | itr #13 | Optimizing policy...\n",
            "2019-02-11 14:58:55 | itr #13 | Computing loss before\n",
            "2019-02-11 14:58:55 | itr #13 | Computing KL before\n",
            "2019-02-11 14:58:55 | itr #13 | Optimizing\n",
            "2019-02-11 14:58:55 | itr #13 | Start CG optimization: #parameters: 1476, #inputs: 800, #subsample_inputs: 800\n",
            "2019-02-11 14:58:55 | itr #13 | computing loss before\n",
            "2019-02-11 14:58:55 | itr #13 | performing update\n",
            "2019-02-11 14:58:55 | itr #13 | computing gradient\n",
            "2019-02-11 14:58:55 | itr #13 | gradient computed\n",
            "2019-02-11 14:58:55 | itr #13 | computing descent direction\n",
            "2019-02-11 14:58:55 | itr #13 | descent direction computed\n",
            "2019-02-11 14:58:55 | itr #13 | backtrack iters: 0\n",
            "2019-02-11 14:58:55 | itr #13 | computing loss after\n",
            "2019-02-11 14:58:55 | itr #13 | optimization finished\n",
            "2019-02-11 14:58:55 | itr #13 | Computing KL after\n",
            "2019-02-11 14:58:55 | itr #13 | Computing loss after\n",
            "2019-02-11 14:58:55 | itr #13 | Fitting baseline...\n",
            "2019-02-11 14:58:55 | itr #13 | Saving snapshot...\n",
            "2019-02-11 14:58:55 | itr #13 | Saved\n",
            "2019-02-11 14:58:55 | --------------------------  -------------\n",
            "2019-02-11 14:58:55 | AverageDiscountedReturn       5.76941\n",
            "2019-02-11 14:58:55 | AverageReturn                 5.87125\n",
            "2019-02-11 14:58:55 | Baseline/ExplainedVariance    0.798605\n",
            "2019-02-11 14:58:55 | Entropy                       0.451007\n",
            "2019-02-11 14:58:55 | EnvExecTime                   0.172095\n",
            "2019-02-11 14:58:55 | Iteration                    13\n",
            "2019-02-11 14:58:55 | ItrTime                       0.802999\n",
            "2019-02-11 14:58:55 | MaxReturn                     8\n",
            "2019-02-11 14:58:55 | MinReturn                    -1\n",
            "2019-02-11 14:58:55 | NumTrajs                    800\n",
            "2019-02-11 14:58:55 | Perplexity                    1.56989\n",
            "2019-02-11 14:58:55 | PolicyExecTime                0.16362\n",
            "2019-02-11 14:58:55 | ProcessExecTime               0.0327804\n",
            "2019-02-11 14:58:55 | StdReturn                     1.41851\n",
            "2019-02-11 14:58:55 | Time                         12.5862\n",
            "2019-02-11 14:58:55 | policy/Entropy                0.402041\n",
            "2019-02-11 14:58:55 | policy/KL                     0.00958736\n",
            "2019-02-11 14:58:55 | policy/KLBefore               0\n",
            "2019-02-11 14:58:55 | policy/LossAfter             -0.0704889\n",
            "2019-02-11 14:58:55 | policy/LossBefore             3.13163e-07\n",
            "2019-02-11 14:58:55 | policy/dLoss                  0.0704893\n",
            "2019-02-11 14:58:55 | --------------------------  -------------\n",
            "2019-02-11 14:58:55 | itr #14 | Obtaining samples...\n",
            "2019-02-11 14:58:55 | itr #14 | Obtaining samples for iteration 14...\n"
          ],
          "name": "stdout"
        },
        {
          "output_type": "stream",
          "text": [
            "0% [##############################] 100% | ETA: 00:00:00"
          ],
          "name": "stderr"
        },
        {
          "output_type": "stream",
          "text": [
            "2019-02-11 14:58:55 | itr #14 | Processing samples...\n"
          ],
          "name": "stdout"
        },
        {
          "output_type": "stream",
          "text": [
            "\n",
            "Total time elapsed: 00:00:00\n"
          ],
          "name": "stderr"
        },
        {
          "output_type": "stream",
          "text": [
            "2019-02-11 14:58:55 | itr #14 | Logging diagnostics...\n",
            "2019-02-11 14:58:55 | itr #14 | Optimizing policy...\n",
            "2019-02-11 14:58:55 | itr #14 | Computing loss before\n",
            "2019-02-11 14:58:55 | itr #14 | Computing KL before\n",
            "2019-02-11 14:58:55 | itr #14 | Optimizing\n",
            "2019-02-11 14:58:55 | itr #14 | Start CG optimization: #parameters: 1476, #inputs: 800, #subsample_inputs: 800\n",
            "2019-02-11 14:58:55 | itr #14 | computing loss before\n",
            "2019-02-11 14:58:55 | itr #14 | performing update\n",
            "2019-02-11 14:58:55 | itr #14 | computing gradient\n",
            "2019-02-11 14:58:55 | itr #14 | gradient computed\n",
            "2019-02-11 14:58:55 | itr #14 | computing descent direction\n",
            "2019-02-11 14:58:56 | itr #14 | descent direction computed\n",
            "2019-02-11 14:58:56 | itr #14 | backtrack iters: 0\n",
            "2019-02-11 14:58:56 | itr #14 | computing loss after\n",
            "2019-02-11 14:58:56 | itr #14 | optimization finished\n",
            "2019-02-11 14:58:56 | itr #14 | Computing KL after\n",
            "2019-02-11 14:58:56 | itr #14 | Computing loss after\n",
            "2019-02-11 14:58:56 | itr #14 | Fitting baseline...\n",
            "2019-02-11 14:58:56 | itr #14 | Saving snapshot...\n",
            "2019-02-11 14:58:56 | itr #14 | Saved\n",
            "2019-02-11 14:58:56 | --------------------------  -------------\n",
            "2019-02-11 14:58:56 | AverageDiscountedReturn       5.96747\n",
            "2019-02-11 14:58:56 | AverageReturn                 6.07125\n",
            "2019-02-11 14:58:56 | Baseline/ExplainedVariance    0.880416\n",
            "2019-02-11 14:58:56 | Entropy                       0.337385\n",
            "2019-02-11 14:58:56 | EnvExecTime                   0.171226\n",
            "2019-02-11 14:58:56 | Iteration                    14\n",
            "2019-02-11 14:58:56 | ItrTime                       0.834356\n",
            "2019-02-11 14:58:56 | MaxReturn                     8\n",
            "2019-02-11 14:58:56 | MinReturn                     1\n",
            "2019-02-11 14:58:56 | NumTrajs                    800\n",
            "2019-02-11 14:58:56 | Perplexity                    1.40128\n",
            "2019-02-11 14:58:56 | PolicyExecTime                0.173728\n",
            "2019-02-11 14:58:56 | ProcessExecTime               0.037863\n",
            "2019-02-11 14:58:56 | StdReturn                     1.17204\n",
            "2019-02-11 14:58:56 | Time                         13.4445\n",
            "2019-02-11 14:58:56 | policy/Entropy                0.424453\n",
            "2019-02-11 14:58:56 | policy/KL                     0.00852427\n",
            "2019-02-11 14:58:56 | policy/KLBefore               0\n",
            "2019-02-11 14:58:56 | policy/LossAfter             -0.070119\n",
            "2019-02-11 14:58:56 | policy/LossBefore            -1.19448e-07\n",
            "2019-02-11 14:58:56 | policy/dLoss                  0.0701189\n",
            "2019-02-11 14:58:56 | --------------------------  -------------\n",
            "2019-02-11 14:58:56 | itr #15 | Obtaining samples...\n",
            "2019-02-11 14:58:56 | itr #15 | Obtaining samples for iteration 15...\n"
          ],
          "name": "stdout"
        },
        {
          "output_type": "stream",
          "text": [
            "0% [##############################] 100% | ETA: 00:00:00"
          ],
          "name": "stderr"
        },
        {
          "output_type": "stream",
          "text": [
            "2019-02-11 14:58:56 | itr #15 | Processing samples...\n"
          ],
          "name": "stdout"
        },
        {
          "output_type": "stream",
          "text": [
            "\n",
            "Total time elapsed: 00:00:00\n"
          ],
          "name": "stderr"
        },
        {
          "output_type": "stream",
          "text": [
            "2019-02-11 14:58:56 | itr #15 | Logging diagnostics...\n",
            "2019-02-11 14:58:56 | itr #15 | Optimizing policy...\n",
            "2019-02-11 14:58:56 | itr #15 | Computing loss before\n",
            "2019-02-11 14:58:56 | itr #15 | Computing KL before\n",
            "2019-02-11 14:58:56 | itr #15 | Optimizing\n",
            "2019-02-11 14:58:56 | itr #15 | Start CG optimization: #parameters: 1476, #inputs: 800, #subsample_inputs: 800\n",
            "2019-02-11 14:58:56 | itr #15 | computing loss before\n",
            "2019-02-11 14:58:56 | itr #15 | performing update\n",
            "2019-02-11 14:58:56 | itr #15 | computing gradient\n",
            "2019-02-11 14:58:56 | itr #15 | gradient computed\n",
            "2019-02-11 14:58:56 | itr #15 | computing descent direction\n",
            "2019-02-11 14:58:56 | itr #15 | descent direction computed\n",
            "2019-02-11 14:58:57 | itr #15 | backtrack iters: 0\n",
            "2019-02-11 14:58:57 | itr #15 | computing loss after\n",
            "2019-02-11 14:58:57 | itr #15 | optimization finished\n",
            "2019-02-11 14:58:57 | itr #15 | Computing KL after\n",
            "2019-02-11 14:58:57 | itr #15 | Computing loss after\n",
            "2019-02-11 14:58:57 | itr #15 | Fitting baseline...\n",
            "2019-02-11 14:58:57 | itr #15 | Saving snapshot...\n",
            "2019-02-11 14:58:57 | itr #15 | Saved\n",
            "2019-02-11 14:58:57 | --------------------------  -------------\n",
            "2019-02-11 14:58:57 | AverageDiscountedReturn       6.13664\n",
            "2019-02-11 14:58:57 | AverageReturn                 6.2425\n",
            "2019-02-11 14:58:57 | Baseline/ExplainedVariance    0.94722\n",
            "2019-02-11 14:58:57 | Entropy                       0.247218\n",
            "2019-02-11 14:58:57 | EnvExecTime                   0.168497\n",
            "2019-02-11 14:58:57 | Iteration                    15\n",
            "2019-02-11 14:58:57 | ItrTime                       0.813869\n",
            "2019-02-11 14:58:57 | MaxReturn                     8\n",
            "2019-02-11 14:58:57 | MinReturn                     2\n",
            "2019-02-11 14:58:57 | NumTrajs                    800\n",
            "2019-02-11 14:58:57 | Perplexity                    1.28046\n",
            "2019-02-11 14:58:57 | PolicyExecTime                0.172468\n",
            "2019-02-11 14:58:57 | ProcessExecTime               0.0375571\n",
            "2019-02-11 14:58:57 | StdReturn                     1.03136\n",
            "2019-02-11 14:58:57 | Time                         14.2992\n",
            "2019-02-11 14:58:57 | policy/Entropy                0.443705\n",
            "2019-02-11 14:58:57 | policy/KL                     0.00829983\n",
            "2019-02-11 14:58:57 | policy/KLBefore               0\n",
            "2019-02-11 14:58:57 | policy/LossAfter             -0.0611574\n",
            "2019-02-11 14:58:57 | policy/LossBefore             5.53608e-07\n",
            "2019-02-11 14:58:57 | policy/dLoss                  0.0611579\n",
            "2019-02-11 14:58:57 | --------------------------  -------------\n",
            "2019-02-11 14:58:57 | itr #16 | Obtaining samples...\n",
            "2019-02-11 14:58:57 | itr #16 | Obtaining samples for iteration 16...\n"
          ],
          "name": "stdout"
        },
        {
          "output_type": "stream",
          "text": [
            "0% [##############################] 100% | ETA: 00:00:00"
          ],
          "name": "stderr"
        },
        {
          "output_type": "stream",
          "text": [
            "2019-02-11 14:58:57 | itr #16 | Processing samples...\n"
          ],
          "name": "stdout"
        },
        {
          "output_type": "stream",
          "text": [
            "\n",
            "Total time elapsed: 00:00:00\n"
          ],
          "name": "stderr"
        },
        {
          "output_type": "stream",
          "text": [
            "2019-02-11 14:58:57 | itr #16 | Logging diagnostics...\n",
            "2019-02-11 14:58:57 | itr #16 | Optimizing policy...\n",
            "2019-02-11 14:58:57 | itr #16 | Computing loss before\n",
            "2019-02-11 14:58:57 | itr #16 | Computing KL before\n",
            "2019-02-11 14:58:57 | itr #16 | Optimizing\n",
            "2019-02-11 14:58:57 | itr #16 | Start CG optimization: #parameters: 1476, #inputs: 800, #subsample_inputs: 800\n",
            "2019-02-11 14:58:57 | itr #16 | computing loss before\n",
            "2019-02-11 14:58:57 | itr #16 | performing update\n",
            "2019-02-11 14:58:57 | itr #16 | computing gradient\n",
            "2019-02-11 14:58:57 | itr #16 | gradient computed\n",
            "2019-02-11 14:58:57 | itr #16 | computing descent direction\n",
            "2019-02-11 14:58:57 | itr #16 | descent direction computed\n",
            "2019-02-11 14:58:57 | itr #16 | backtrack iters: 0\n",
            "2019-02-11 14:58:57 | itr #16 | computing loss after\n",
            "2019-02-11 14:58:57 | itr #16 | optimization finished\n",
            "2019-02-11 14:58:57 | itr #16 | Computing KL after\n",
            "2019-02-11 14:58:57 | itr #16 | Computing loss after\n",
            "2019-02-11 14:58:57 | itr #16 | Fitting baseline...\n",
            "2019-02-11 14:58:57 | itr #16 | Saving snapshot...\n",
            "2019-02-11 14:58:57 | itr #16 | Saved\n",
            "2019-02-11 14:58:57 | --------------------------  -------------\n",
            "2019-02-11 14:58:57 | AverageDiscountedReturn       6.33409\n",
            "2019-02-11 14:58:57 | AverageReturn                 6.44125\n",
            "2019-02-11 14:58:57 | Baseline/ExplainedVariance    0.982013\n",
            "2019-02-11 14:58:57 | Entropy                       0.19182\n",
            "2019-02-11 14:58:57 | EnvExecTime                   0.161617\n",
            "2019-02-11 14:58:57 | Iteration                    16\n",
            "2019-02-11 14:58:57 | ItrTime                       0.821291\n",
            "2019-02-11 14:58:57 | MaxReturn                     8\n",
            "2019-02-11 14:58:57 | MinReturn                     3\n",
            "2019-02-11 14:58:57 | NumTrajs                    800\n",
            "2019-02-11 14:58:57 | Perplexity                    1.21145\n",
            "2019-02-11 14:58:57 | PolicyExecTime                0.180275\n",
            "2019-02-11 14:58:57 | ProcessExecTime               0.0345688\n",
            "2019-02-11 14:58:57 | StdReturn                     0.885465\n",
            "2019-02-11 14:58:57 | Time                         15.145\n",
            "2019-02-11 14:58:57 | policy/Entropy                0.452746\n",
            "2019-02-11 14:58:57 | policy/KL                     0.00729764\n",
            "2019-02-11 14:58:57 | policy/KLBefore               0\n",
            "2019-02-11 14:58:57 | policy/LossAfter             -0.0587883\n",
            "2019-02-11 14:58:57 | policy/LossBefore             2.01941e-07\n",
            "2019-02-11 14:58:57 | policy/dLoss                  0.0587885\n",
            "2019-02-11 14:58:57 | --------------------------  -------------\n",
            "2019-02-11 14:58:57 | itr #17 | Obtaining samples...\n",
            "2019-02-11 14:58:57 | itr #17 | Obtaining samples for iteration 17...\n"
          ],
          "name": "stdout"
        },
        {
          "output_type": "stream",
          "text": [
            "0% [##############################] 100% | ETA: 00:00:00"
          ],
          "name": "stderr"
        },
        {
          "output_type": "stream",
          "text": [
            "2019-02-11 14:58:58 | itr #17 | Processing samples...\n"
          ],
          "name": "stdout"
        },
        {
          "output_type": "stream",
          "text": [
            "\n",
            "Total time elapsed: 00:00:00\n"
          ],
          "name": "stderr"
        },
        {
          "output_type": "stream",
          "text": [
            "2019-02-11 14:58:58 | itr #17 | Logging diagnostics...\n",
            "2019-02-11 14:58:58 | itr #17 | Optimizing policy...\n",
            "2019-02-11 14:58:58 | itr #17 | Computing loss before\n",
            "2019-02-11 14:58:58 | itr #17 | Computing KL before\n",
            "2019-02-11 14:58:58 | itr #17 | Optimizing\n",
            "2019-02-11 14:58:58 | itr #17 | Start CG optimization: #parameters: 1476, #inputs: 800, #subsample_inputs: 800\n",
            "2019-02-11 14:58:58 | itr #17 | computing loss before\n",
            "2019-02-11 14:58:58 | itr #17 | performing update\n",
            "2019-02-11 14:58:58 | itr #17 | computing gradient\n",
            "2019-02-11 14:58:58 | itr #17 | gradient computed\n",
            "2019-02-11 14:58:58 | itr #17 | computing descent direction\n",
            "2019-02-11 14:58:58 | itr #17 | descent direction computed\n",
            "2019-02-11 14:58:58 | itr #17 | backtrack iters: 0\n",
            "2019-02-11 14:58:58 | itr #17 | computing loss after\n",
            "2019-02-11 14:58:58 | itr #17 | optimization finished\n",
            "2019-02-11 14:58:58 | itr #17 | Computing KL after\n",
            "2019-02-11 14:58:58 | itr #17 | Computing loss after\n",
            "2019-02-11 14:58:58 | itr #17 | Fitting baseline...\n",
            "2019-02-11 14:58:58 | itr #17 | Saving snapshot...\n",
            "2019-02-11 14:58:58 | itr #17 | Saved\n",
            "2019-02-11 14:58:58 | --------------------------  -------------\n",
            "2019-02-11 14:58:58 | AverageDiscountedReturn       6.39277\n",
            "2019-02-11 14:58:58 | AverageReturn                 6.5\n",
            "2019-02-11 14:58:58 | Baseline/ExplainedVariance    0.995023\n",
            "2019-02-11 14:58:58 | Entropy                       0.147748\n",
            "2019-02-11 14:58:58 | EnvExecTime                   0.162974\n",
            "2019-02-11 14:58:58 | Iteration                    17\n",
            "2019-02-11 14:58:58 | ItrTime                       0.789524\n",
            "2019-02-11 14:58:58 | MaxReturn                     8\n",
            "2019-02-11 14:58:58 | MinReturn                     5\n",
            "2019-02-11 14:58:58 | NumTrajs                    800\n",
            "2019-02-11 14:58:58 | Perplexity                    1.15922\n",
            "2019-02-11 14:58:58 | PolicyExecTime                0.155573\n",
            "2019-02-11 14:58:58 | ProcessExecTime               0.0346057\n",
            "2019-02-11 14:58:58 | StdReturn                     0.891628\n",
            "2019-02-11 14:58:58 | Time                         15.9587\n",
            "2019-02-11 14:58:58 | policy/Entropy                0.460528\n",
            "2019-02-11 14:58:58 | policy/KL                     0.00551044\n",
            "2019-02-11 14:58:58 | policy/KLBefore               0\n",
            "2019-02-11 14:58:58 | policy/LossAfter             -0.0496211\n",
            "2019-02-11 14:58:58 | policy/LossBefore             4.02451e-07\n",
            "2019-02-11 14:58:58 | policy/dLoss                  0.0496215\n",
            "2019-02-11 14:58:58 | --------------------------  -------------\n",
            "2019-02-11 14:58:58 | itr #18 | Obtaining samples...\n",
            "2019-02-11 14:58:58 | itr #18 | Obtaining samples for iteration 18...\n"
          ],
          "name": "stdout"
        },
        {
          "output_type": "stream",
          "text": [
            "0% [##############################] 100% | ETA: 00:00:00"
          ],
          "name": "stderr"
        },
        {
          "output_type": "stream",
          "text": [
            "2019-02-11 14:58:59 | itr #18 | Processing samples...\n"
          ],
          "name": "stdout"
        },
        {
          "output_type": "stream",
          "text": [
            "\n",
            "Total time elapsed: 00:00:00\n"
          ],
          "name": "stderr"
        },
        {
          "output_type": "stream",
          "text": [
            "2019-02-11 14:58:59 | itr #18 | Logging diagnostics...\n",
            "2019-02-11 14:58:59 | itr #18 | Optimizing policy...\n",
            "2019-02-11 14:58:59 | itr #18 | Computing loss before\n",
            "2019-02-11 14:58:59 | itr #18 | Computing KL before\n",
            "2019-02-11 14:58:59 | itr #18 | Optimizing\n",
            "2019-02-11 14:58:59 | itr #18 | Start CG optimization: #parameters: 1476, #inputs: 800, #subsample_inputs: 800\n",
            "2019-02-11 14:58:59 | itr #18 | computing loss before\n",
            "2019-02-11 14:58:59 | itr #18 | performing update\n",
            "2019-02-11 14:58:59 | itr #18 | computing gradient\n",
            "2019-02-11 14:58:59 | itr #18 | gradient computed\n",
            "2019-02-11 14:58:59 | itr #18 | computing descent direction\n",
            "2019-02-11 14:58:59 | itr #18 | descent direction computed\n",
            "2019-02-11 14:58:59 | itr #18 | backtrack iters: 0\n",
            "2019-02-11 14:58:59 | itr #18 | computing loss after\n",
            "2019-02-11 14:58:59 | itr #18 | optimization finished\n",
            "2019-02-11 14:58:59 | itr #18 | Computing KL after\n",
            "2019-02-11 14:58:59 | itr #18 | Computing loss after\n",
            "2019-02-11 14:58:59 | itr #18 | Fitting baseline...\n",
            "2019-02-11 14:58:59 | itr #18 | Saving snapshot...\n",
            "2019-02-11 14:58:59 | itr #18 | Saved\n",
            "2019-02-11 14:58:59 | --------------------------  -------------\n",
            "2019-02-11 14:58:59 | AverageDiscountedReturn       6.3613\n",
            "2019-02-11 14:58:59 | AverageReturn                 6.4675\n",
            "2019-02-11 14:58:59 | Baseline/ExplainedVariance    0.99837\n",
            "2019-02-11 14:58:59 | Entropy                       0.110314\n",
            "2019-02-11 14:58:59 | EnvExecTime                   0.165536\n",
            "2019-02-11 14:58:59 | Iteration                    18\n",
            "2019-02-11 14:58:59 | ItrTime                       0.804839\n",
            "2019-02-11 14:58:59 | MaxReturn                     8\n",
            "2019-02-11 14:58:59 | MinReturn                     5\n",
            "2019-02-11 14:58:59 | NumTrajs                    800\n",
            "2019-02-11 14:58:59 | Perplexity                    1.11663\n",
            "2019-02-11 14:58:59 | PolicyExecTime                0.171638\n",
            "2019-02-11 14:58:59 | ProcessExecTime               0.0321021\n",
            "2019-02-11 14:58:59 | StdReturn                     0.850849\n",
            "2019-02-11 14:58:59 | Time                         16.7982\n",
            "2019-02-11 14:58:59 | policy/Entropy                0.467354\n",
            "2019-02-11 14:58:59 | policy/KL                     0.00386369\n",
            "2019-02-11 14:58:59 | policy/KLBefore               0\n",
            "2019-02-11 14:58:59 | policy/LossAfter             -0.0335408\n",
            "2019-02-11 14:58:59 | policy/LossBefore            -2.00033e-07\n",
            "2019-02-11 14:58:59 | policy/dLoss                  0.0335406\n",
            "2019-02-11 14:58:59 | --------------------------  -------------\n",
            "2019-02-11 14:58:59 | itr #19 | Obtaining samples...\n",
            "2019-02-11 14:58:59 | itr #19 | Obtaining samples for iteration 19...\n"
          ],
          "name": "stdout"
        },
        {
          "output_type": "stream",
          "text": [
            "0% [##############################] 100% | ETA: 00:00:00"
          ],
          "name": "stderr"
        },
        {
          "output_type": "stream",
          "text": [
            "2019-02-11 14:59:00 | itr #19 | Processing samples...\n"
          ],
          "name": "stdout"
        },
        {
          "output_type": "stream",
          "text": [
            "\n",
            "Total time elapsed: 00:00:00\n"
          ],
          "name": "stderr"
        },
        {
          "output_type": "stream",
          "text": [
            "2019-02-11 14:59:00 | itr #19 | Logging diagnostics...\n",
            "2019-02-11 14:59:00 | itr #19 | Optimizing policy...\n",
            "2019-02-11 14:59:00 | itr #19 | Computing loss before\n",
            "2019-02-11 14:59:00 | itr #19 | Computing KL before\n",
            "2019-02-11 14:59:00 | itr #19 | Optimizing\n",
            "2019-02-11 14:59:00 | itr #19 | Start CG optimization: #parameters: 1476, #inputs: 800, #subsample_inputs: 800\n",
            "2019-02-11 14:59:00 | itr #19 | computing loss before\n",
            "2019-02-11 14:59:00 | itr #19 | performing update\n",
            "2019-02-11 14:59:00 | itr #19 | computing gradient\n",
            "2019-02-11 14:59:00 | itr #19 | gradient computed\n",
            "2019-02-11 14:59:00 | itr #19 | computing descent direction\n",
            "2019-02-11 14:59:00 | itr #19 | descent direction computed\n",
            "2019-02-11 14:59:00 | itr #19 | backtrack iters: 0\n",
            "2019-02-11 14:59:00 | itr #19 | computing loss after\n",
            "2019-02-11 14:59:00 | itr #19 | optimization finished\n",
            "2019-02-11 14:59:00 | itr #19 | Computing KL after\n",
            "2019-02-11 14:59:00 | itr #19 | Computing loss after\n",
            "2019-02-11 14:59:00 | itr #19 | Fitting baseline...\n",
            "2019-02-11 14:59:00 | itr #19 | Saving snapshot...\n",
            "2019-02-11 14:59:00 | itr #19 | Saved\n",
            "2019-02-11 14:59:00 | --------------------------  ------------\n",
            "2019-02-11 14:59:00 | AverageDiscountedReturn       6.36735\n",
            "2019-02-11 14:59:00 | AverageReturn                 6.47375\n",
            "2019-02-11 14:59:00 | Baseline/ExplainedVariance    0.999391\n",
            "2019-02-11 14:59:00 | Entropy                       0.102463\n",
            "2019-02-11 14:59:00 | EnvExecTime                   0.165643\n",
            "2019-02-11 14:59:00 | Iteration                    19\n",
            "2019-02-11 14:59:00 | ItrTime                       0.803736\n",
            "2019-02-11 14:59:00 | MaxReturn                     8\n",
            "2019-02-11 14:59:00 | MinReturn                     5\n",
            "2019-02-11 14:59:00 | NumTrajs                    800\n",
            "2019-02-11 14:59:00 | Perplexity                    1.1079\n",
            "2019-02-11 14:59:00 | PolicyExecTime                0.170734\n",
            "2019-02-11 14:59:00 | ProcessExecTime               0.0334492\n",
            "2019-02-11 14:59:00 | StdReturn                     0.871384\n",
            "2019-02-11 14:59:00 | Time                         17.6449\n",
            "2019-02-11 14:59:00 | policy/Entropy                0.467128\n",
            "2019-02-11 14:59:00 | policy/KL                     0.00427083\n",
            "2019-02-11 14:59:00 | policy/KLBefore               0\n",
            "2019-02-11 14:59:00 | policy/LossAfter             -0.0264318\n",
            "2019-02-11 14:59:00 | policy/LossBefore             1.4782e-07\n",
            "2019-02-11 14:59:00 | policy/dLoss                  0.026432\n",
            "2019-02-11 14:59:00 | --------------------------  ------------\n",
            "2019-02-11 14:59:00 | itr #20 | Obtaining samples...\n",
            "2019-02-11 14:59:00 | itr #20 | Obtaining samples for iteration 20...\n"
          ],
          "name": "stdout"
        },
        {
          "output_type": "stream",
          "text": [
            "0% [##############################] 100% | ETA: 00:00:00"
          ],
          "name": "stderr"
        },
        {
          "output_type": "stream",
          "text": [
            "2019-02-11 14:59:00 | itr #20 | Processing samples...\n"
          ],
          "name": "stdout"
        },
        {
          "output_type": "stream",
          "text": [
            "\n",
            "Total time elapsed: 00:00:00\n"
          ],
          "name": "stderr"
        },
        {
          "output_type": "stream",
          "text": [
            "2019-02-11 14:59:00 | itr #20 | Logging diagnostics...\n",
            "2019-02-11 14:59:00 | itr #20 | Optimizing policy...\n",
            "2019-02-11 14:59:00 | itr #20 | Computing loss before\n",
            "2019-02-11 14:59:00 | itr #20 | Computing KL before\n",
            "2019-02-11 14:59:00 | itr #20 | Optimizing\n",
            "2019-02-11 14:59:00 | itr #20 | Start CG optimization: #parameters: 1476, #inputs: 800, #subsample_inputs: 800\n",
            "2019-02-11 14:59:00 | itr #20 | computing loss before\n",
            "2019-02-11 14:59:00 | itr #20 | performing update\n",
            "2019-02-11 14:59:00 | itr #20 | computing gradient\n",
            "2019-02-11 14:59:01 | itr #20 | gradient computed\n",
            "2019-02-11 14:59:01 | itr #20 | computing descent direction\n",
            "2019-02-11 14:59:01 | itr #20 | descent direction computed\n",
            "2019-02-11 14:59:01 | itr #20 | backtrack iters: 0\n",
            "2019-02-11 14:59:01 | itr #20 | computing loss after\n",
            "2019-02-11 14:59:01 | itr #20 | optimization finished\n",
            "2019-02-11 14:59:01 | itr #20 | Computing KL after\n",
            "2019-02-11 14:59:01 | itr #20 | Computing loss after\n",
            "2019-02-11 14:59:01 | itr #20 | Fitting baseline...\n",
            "2019-02-11 14:59:01 | itr #20 | Saving snapshot...\n",
            "2019-02-11 14:59:01 | itr #20 | Saved\n",
            "2019-02-11 14:59:01 | --------------------------  -------------\n",
            "2019-02-11 14:59:01 | AverageDiscountedReturn       6.41572\n",
            "2019-02-11 14:59:01 | AverageReturn                 6.5225\n",
            "2019-02-11 14:59:01 | Baseline/ExplainedVariance    0.99848\n",
            "2019-02-11 14:59:01 | Entropy                       0.11159\n",
            "2019-02-11 14:59:01 | EnvExecTime                   0.145005\n",
            "2019-02-11 14:59:01 | Iteration                    20\n",
            "2019-02-11 14:59:01 | ItrTime                       0.806212\n",
            "2019-02-11 14:59:01 | MaxReturn                     8\n",
            "2019-02-11 14:59:01 | MinReturn                     5\n",
            "2019-02-11 14:59:01 | NumTrajs                    800\n",
            "2019-02-11 14:59:01 | Perplexity                    1.11805\n",
            "2019-02-11 14:59:01 | PolicyExecTime                0.173868\n",
            "2019-02-11 14:59:01 | ProcessExecTime               0.0306914\n",
            "2019-02-11 14:59:01 | StdReturn                     0.852639\n",
            "2019-02-11 14:59:01 | Time                         18.5068\n",
            "2019-02-11 14:59:01 | policy/Entropy                0.465198\n",
            "2019-02-11 14:59:01 | policy/KL                     0.00374188\n",
            "2019-02-11 14:59:01 | policy/KLBefore               0\n",
            "2019-02-11 14:59:01 | policy/LossAfter             -0.0367511\n",
            "2019-02-11 14:59:01 | policy/LossBefore            -3.24249e-08\n",
            "2019-02-11 14:59:01 | policy/dLoss                  0.036751\n",
            "2019-02-11 14:59:01 | --------------------------  -------------\n",
            "2019-02-11 14:59:01 | itr #21 | Obtaining samples...\n",
            "2019-02-11 14:59:01 | itr #21 | Obtaining samples for iteration 21...\n"
          ],
          "name": "stdout"
        },
        {
          "output_type": "stream",
          "text": [
            "0% [##############################] 100% | ETA: 00:00:00"
          ],
          "name": "stderr"
        },
        {
          "output_type": "stream",
          "text": [
            "2019-02-11 14:59:01 | itr #21 | Processing samples...\n"
          ],
          "name": "stdout"
        },
        {
          "output_type": "stream",
          "text": [
            "\n",
            "Total time elapsed: 00:00:00\n"
          ],
          "name": "stderr"
        },
        {
          "output_type": "stream",
          "text": [
            "2019-02-11 14:59:01 | itr #21 | Logging diagnostics...\n",
            "2019-02-11 14:59:01 | itr #21 | Optimizing policy...\n",
            "2019-02-11 14:59:01 | itr #21 | Computing loss before\n",
            "2019-02-11 14:59:01 | itr #21 | Computing KL before\n",
            "2019-02-11 14:59:01 | itr #21 | Optimizing\n",
            "2019-02-11 14:59:01 | itr #21 | Start CG optimization: #parameters: 1476, #inputs: 800, #subsample_inputs: 800\n",
            "2019-02-11 14:59:01 | itr #21 | computing loss before\n",
            "2019-02-11 14:59:01 | itr #21 | performing update\n",
            "2019-02-11 14:59:01 | itr #21 | computing gradient\n",
            "2019-02-11 14:59:01 | itr #21 | gradient computed\n",
            "2019-02-11 14:59:01 | itr #21 | computing descent direction\n",
            "2019-02-11 14:59:02 | itr #21 | descent direction computed\n",
            "2019-02-11 14:59:02 | itr #21 | backtrack iters: 0\n",
            "2019-02-11 14:59:02 | itr #21 | computing loss after\n",
            "2019-02-11 14:59:02 | itr #21 | optimization finished\n",
            "2019-02-11 14:59:02 | itr #21 | Computing KL after\n",
            "2019-02-11 14:59:02 | itr #21 | Computing loss after\n",
            "2019-02-11 14:59:02 | itr #21 | Fitting baseline...\n",
            "2019-02-11 14:59:02 | itr #21 | Saving snapshot...\n",
            "2019-02-11 14:59:02 | itr #21 | Saved\n",
            "2019-02-11 14:59:02 | --------------------------  -------------\n",
            "2019-02-11 14:59:02 | AverageDiscountedReturn       6.37093\n",
            "2019-02-11 14:59:02 | AverageReturn                 6.4775\n",
            "2019-02-11 14:59:02 | Baseline/ExplainedVariance    0.999842\n",
            "2019-02-11 14:59:02 | Entropy                       0.0993987\n",
            "2019-02-11 14:59:02 | EnvExecTime                   0.151454\n",
            "2019-02-11 14:59:02 | Iteration                    21\n",
            "2019-02-11 14:59:02 | ItrTime                       0.820185\n",
            "2019-02-11 14:59:02 | MaxReturn                     8\n",
            "2019-02-11 14:59:02 | MinReturn                     5\n",
            "2019-02-11 14:59:02 | NumTrajs                    800\n",
            "2019-02-11 14:59:02 | Perplexity                    1.10451\n",
            "2019-02-11 14:59:02 | PolicyExecTime                0.172642\n",
            "2019-02-11 14:59:02 | ProcessExecTime               0.0392048\n",
            "2019-02-11 14:59:02 | StdReturn                     0.895541\n",
            "2019-02-11 14:59:02 | Time                         19.3501\n",
            "2019-02-11 14:59:02 | policy/Entropy                0.467533\n",
            "2019-02-11 14:59:02 | policy/KL                     0.00264085\n",
            "2019-02-11 14:59:02 | policy/KLBefore               0\n",
            "2019-02-11 14:59:02 | policy/LossAfter             -0.00959413\n",
            "2019-02-11 14:59:02 | policy/LossBefore            -2.67029e-07\n",
            "2019-02-11 14:59:02 | policy/dLoss                  0.00959386\n",
            "2019-02-11 14:59:02 | --------------------------  -------------\n",
            "2019-02-11 14:59:02 | itr #22 | Obtaining samples...\n",
            "2019-02-11 14:59:02 | itr #22 | Obtaining samples for iteration 22...\n"
          ],
          "name": "stdout"
        },
        {
          "output_type": "stream",
          "text": [
            "0% [##############################] 100% | ETA: 00:00:00"
          ],
          "name": "stderr"
        },
        {
          "output_type": "stream",
          "text": [
            "2019-02-11 14:59:02 | itr #22 | Processing samples...\n"
          ],
          "name": "stdout"
        },
        {
          "output_type": "stream",
          "text": [
            "\n",
            "Total time elapsed: 00:00:00\n"
          ],
          "name": "stderr"
        },
        {
          "output_type": "stream",
          "text": [
            "2019-02-11 14:59:02 | itr #22 | Logging diagnostics...\n",
            "2019-02-11 14:59:02 | itr #22 | Optimizing policy...\n",
            "2019-02-11 14:59:02 | itr #22 | Computing loss before\n",
            "2019-02-11 14:59:02 | itr #22 | Computing KL before\n",
            "2019-02-11 14:59:02 | itr #22 | Optimizing\n",
            "2019-02-11 14:59:02 | itr #22 | Start CG optimization: #parameters: 1476, #inputs: 800, #subsample_inputs: 800\n",
            "2019-02-11 14:59:02 | itr #22 | computing loss before\n",
            "2019-02-11 14:59:02 | itr #22 | performing update\n",
            "2019-02-11 14:59:02 | itr #22 | computing gradient\n",
            "2019-02-11 14:59:02 | itr #22 | gradient computed\n",
            "2019-02-11 14:59:02 | itr #22 | computing descent direction\n",
            "2019-02-11 14:59:02 | itr #22 | descent direction computed\n",
            "2019-02-11 14:59:02 | itr #22 | backtrack iters: 3\n",
            "2019-02-11 14:59:02 | itr #22 | computing loss after\n",
            "2019-02-11 14:59:02 | itr #22 | optimization finished\n",
            "2019-02-11 14:59:02 | itr #22 | Computing KL after\n",
            "2019-02-11 14:59:02 | itr #22 | Computing loss after\n",
            "2019-02-11 14:59:02 | itr #22 | Fitting baseline...\n",
            "2019-02-11 14:59:02 | itr #22 | Saving snapshot...\n",
            "2019-02-11 14:59:02 | itr #22 | Saved\n",
            "2019-02-11 14:59:02 | --------------------------  -------------\n",
            "2019-02-11 14:59:02 | AverageDiscountedReturn       6.36394\n",
            "2019-02-11 14:59:02 | AverageReturn                 6.47\n",
            "2019-02-11 14:59:02 | Baseline/ExplainedVariance    0.995431\n",
            "2019-02-11 14:59:02 | Entropy                       0.0938505\n",
            "2019-02-11 14:59:02 | EnvExecTime                   0.155747\n",
            "2019-02-11 14:59:02 | Iteration                    22\n",
            "2019-02-11 14:59:02 | ItrTime                       0.810555\n",
            "2019-02-11 14:59:02 | MaxReturn                     8\n",
            "2019-02-11 14:59:02 | MinReturn                     4\n",
            "2019-02-11 14:59:02 | NumTrajs                    800\n",
            "2019-02-11 14:59:02 | Perplexity                    1.0984\n",
            "2019-02-11 14:59:02 | PolicyExecTime                0.162283\n",
            "2019-02-11 14:59:02 | ProcessExecTime               0.0355556\n",
            "2019-02-11 14:59:02 | StdReturn                     0.874128\n",
            "2019-02-11 14:59:02 | Time                         20.1844\n",
            "2019-02-11 14:59:02 | policy/Entropy                0.467511\n",
            "2019-02-11 14:59:02 | policy/KL                     0.00468488\n",
            "2019-02-11 14:59:02 | policy/KLBefore               0\n",
            "2019-02-11 14:59:02 | policy/LossAfter             -0.0133776\n",
            "2019-02-11 14:59:02 | policy/LossBefore            -2.37942e-07\n",
            "2019-02-11 14:59:02 | policy/dLoss                  0.0133773\n",
            "2019-02-11 14:59:02 | --------------------------  -------------\n",
            "2019-02-11 14:59:02 | itr #23 | Obtaining samples...\n",
            "2019-02-11 14:59:02 | itr #23 | Obtaining samples for iteration 23...\n"
          ],
          "name": "stdout"
        },
        {
          "output_type": "stream",
          "text": [
            "0% [##############################] 100% | ETA: 00:00:00"
          ],
          "name": "stderr"
        },
        {
          "output_type": "stream",
          "text": [
            "2019-02-11 14:59:03 | itr #23 | Processing samples...\n"
          ],
          "name": "stdout"
        },
        {
          "output_type": "stream",
          "text": [
            "\n",
            "Total time elapsed: 00:00:00\n"
          ],
          "name": "stderr"
        },
        {
          "output_type": "stream",
          "text": [
            "2019-02-11 14:59:03 | itr #23 | Logging diagnostics...\n",
            "2019-02-11 14:59:03 | itr #23 | Optimizing policy...\n",
            "2019-02-11 14:59:03 | itr #23 | Computing loss before\n",
            "2019-02-11 14:59:03 | itr #23 | Computing KL before\n",
            "2019-02-11 14:59:03 | itr #23 | Optimizing\n",
            "2019-02-11 14:59:03 | itr #23 | Start CG optimization: #parameters: 1476, #inputs: 800, #subsample_inputs: 800\n",
            "2019-02-11 14:59:03 | itr #23 | computing loss before\n",
            "2019-02-11 14:59:03 | itr #23 | performing update\n",
            "2019-02-11 14:59:03 | itr #23 | computing gradient\n",
            "2019-02-11 14:59:03 | itr #23 | gradient computed\n",
            "2019-02-11 14:59:03 | itr #23 | computing descent direction\n",
            "2019-02-11 14:59:03 | itr #23 | descent direction computed\n",
            "2019-02-11 14:59:03 | itr #23 | backtrack iters: 0\n",
            "2019-02-11 14:59:03 | itr #23 | computing loss after\n",
            "2019-02-11 14:59:03 | itr #23 | optimization finished\n",
            "2019-02-11 14:59:03 | itr #23 | Computing KL after\n",
            "2019-02-11 14:59:03 | itr #23 | Computing loss after\n",
            "2019-02-11 14:59:03 | itr #23 | Fitting baseline...\n",
            "2019-02-11 14:59:03 | itr #23 | Saving snapshot...\n",
            "2019-02-11 14:59:03 | itr #23 | Saved\n",
            "2019-02-11 14:59:03 | --------------------------  -------------\n",
            "2019-02-11 14:59:03 | AverageDiscountedReturn       6.402\n",
            "2019-02-11 14:59:03 | AverageReturn                 6.50875\n",
            "2019-02-11 14:59:03 | Baseline/ExplainedVariance    0.999862\n",
            "2019-02-11 14:59:03 | Entropy                       0.101193\n",
            "2019-02-11 14:59:03 | EnvExecTime                   0.155288\n",
            "2019-02-11 14:59:03 | Iteration                    23\n",
            "2019-02-11 14:59:03 | ItrTime                       0.77468\n",
            "2019-02-11 14:59:03 | MaxReturn                     8\n",
            "2019-02-11 14:59:03 | MinReturn                     5\n",
            "2019-02-11 14:59:03 | NumTrajs                    800\n",
            "2019-02-11 14:59:03 | Perplexity                    1.10649\n",
            "2019-02-11 14:59:03 | PolicyExecTime                0.158875\n",
            "2019-02-11 14:59:03 | ProcessExecTime               0.0372558\n",
            "2019-02-11 14:59:03 | StdReturn                     0.884547\n",
            "2019-02-11 14:59:03 | Time                         20.9794\n",
            "2019-02-11 14:59:03 | policy/Entropy                0.467381\n",
            "2019-02-11 14:59:03 | policy/KL                     0.00661948\n",
            "2019-02-11 14:59:03 | policy/KLBefore               0\n",
            "2019-02-11 14:59:03 | policy/LossAfter             -0.00645323\n",
            "2019-02-11 14:59:03 | policy/LossBefore             1.44005e-07\n",
            "2019-02-11 14:59:03 | policy/dLoss                  0.00645337\n",
            "2019-02-11 14:59:03 | --------------------------  -------------\n",
            "2019-02-11 14:59:03 | itr #24 | Obtaining samples...\n",
            "2019-02-11 14:59:03 | itr #24 | Obtaining samples for iteration 24...\n"
          ],
          "name": "stdout"
        },
        {
          "output_type": "stream",
          "text": [
            "0% [##############################] 100% | ETA: 00:00:00"
          ],
          "name": "stderr"
        },
        {
          "output_type": "stream",
          "text": [
            "2019-02-11 14:59:04 | itr #24 | Processing samples...\n"
          ],
          "name": "stdout"
        },
        {
          "output_type": "stream",
          "text": [
            "\n",
            "Total time elapsed: 00:00:00\n"
          ],
          "name": "stderr"
        },
        {
          "output_type": "stream",
          "text": [
            "2019-02-11 14:59:04 | itr #24 | Logging diagnostics...\n",
            "2019-02-11 14:59:04 | itr #24 | Optimizing policy...\n",
            "2019-02-11 14:59:04 | itr #24 | Computing loss before\n",
            "2019-02-11 14:59:04 | itr #24 | Computing KL before\n",
            "2019-02-11 14:59:04 | itr #24 | Optimizing\n",
            "2019-02-11 14:59:04 | itr #24 | Start CG optimization: #parameters: 1476, #inputs: 800, #subsample_inputs: 800\n",
            "2019-02-11 14:59:04 | itr #24 | computing loss before\n",
            "2019-02-11 14:59:04 | itr #24 | performing update\n",
            "2019-02-11 14:59:04 | itr #24 | computing gradient\n",
            "2019-02-11 14:59:04 | itr #24 | gradient computed\n",
            "2019-02-11 14:59:04 | itr #24 | computing descent direction\n",
            "2019-02-11 14:59:04 | itr #24 | descent direction computed\n",
            "2019-02-11 14:59:04 | itr #24 | backtrack iters: 0\n",
            "2019-02-11 14:59:04 | itr #24 | computing loss after\n",
            "2019-02-11 14:59:04 | itr #24 | optimization finished\n",
            "2019-02-11 14:59:04 | itr #24 | Computing KL after\n",
            "2019-02-11 14:59:04 | itr #24 | Computing loss after\n",
            "2019-02-11 14:59:04 | itr #24 | Fitting baseline...\n",
            "2019-02-11 14:59:04 | itr #24 | Saving snapshot...\n",
            "2019-02-11 14:59:04 | itr #24 | Saved\n",
            "2019-02-11 14:59:04 | --------------------------  -------------\n",
            "2019-02-11 14:59:04 | AverageDiscountedReturn       6.40097\n",
            "2019-02-11 14:59:04 | AverageReturn                 6.5075\n",
            "2019-02-11 14:59:04 | Baseline/ExplainedVariance    0.99886\n",
            "2019-02-11 14:59:04 | Entropy                       0.0921894\n",
            "2019-02-11 14:59:04 | EnvExecTime                   0.155927\n",
            "2019-02-11 14:59:04 | Iteration                    24\n",
            "2019-02-11 14:59:04 | ItrTime                       0.778085\n",
            "2019-02-11 14:59:04 | MaxReturn                     8\n",
            "2019-02-11 14:59:04 | MinReturn                     3\n",
            "2019-02-11 14:59:04 | NumTrajs                    800\n",
            "2019-02-11 14:59:04 | Perplexity                    1.09657\n",
            "2019-02-11 14:59:04 | PolicyExecTime                0.168577\n",
            "2019-02-11 14:59:04 | ProcessExecTime               0.0342073\n",
            "2019-02-11 14:59:04 | StdReturn                     0.870312\n",
            "2019-02-11 14:59:04 | Time                         21.7871\n",
            "2019-02-11 14:59:04 | policy/Entropy                0.469932\n",
            "2019-02-11 14:59:04 | policy/KL                     0.00226592\n",
            "2019-02-11 14:59:04 | policy/KLBefore               0\n",
            "2019-02-11 14:59:04 | policy/LossAfter             -0.0112167\n",
            "2019-02-11 14:59:04 | policy/LossBefore            -7.62939e-09\n",
            "2019-02-11 14:59:04 | policy/dLoss                  0.0112167\n",
            "2019-02-11 14:59:04 | --------------------------  -------------\n",
            "2019-02-11 14:59:04 | itr #25 | Obtaining samples...\n",
            "2019-02-11 14:59:04 | itr #25 | Obtaining samples for iteration 25...\n"
          ],
          "name": "stdout"
        },
        {
          "output_type": "stream",
          "text": [
            "0% [##############################] 100% | ETA: 00:00:00"
          ],
          "name": "stderr"
        },
        {
          "output_type": "stream",
          "text": [
            "2019-02-11 14:59:05 | itr #25 | Processing samples...\n"
          ],
          "name": "stdout"
        },
        {
          "output_type": "stream",
          "text": [
            "\n",
            "Total time elapsed: 00:00:00\n"
          ],
          "name": "stderr"
        },
        {
          "output_type": "stream",
          "text": [
            "2019-02-11 14:59:05 | itr #25 | Logging diagnostics...\n",
            "2019-02-11 14:59:05 | itr #25 | Optimizing policy...\n",
            "2019-02-11 14:59:05 | itr #25 | Computing loss before\n",
            "2019-02-11 14:59:05 | itr #25 | Computing KL before\n",
            "2019-02-11 14:59:05 | itr #25 | Optimizing\n",
            "2019-02-11 14:59:05 | itr #25 | Start CG optimization: #parameters: 1476, #inputs: 800, #subsample_inputs: 800\n",
            "2019-02-11 14:59:05 | itr #25 | computing loss before\n",
            "2019-02-11 14:59:05 | itr #25 | performing update\n",
            "2019-02-11 14:59:05 | itr #25 | computing gradient\n",
            "2019-02-11 14:59:05 | itr #25 | gradient computed\n",
            "2019-02-11 14:59:05 | itr #25 | computing descent direction\n",
            "2019-02-11 14:59:05 | itr #25 | descent direction computed\n",
            "2019-02-11 14:59:05 | itr #25 | backtrack iters: 1\n",
            "2019-02-11 14:59:05 | itr #25 | computing loss after\n",
            "2019-02-11 14:59:05 | itr #25 | optimization finished\n",
            "2019-02-11 14:59:05 | itr #25 | Computing KL after\n",
            "2019-02-11 14:59:05 | itr #25 | Computing loss after\n",
            "2019-02-11 14:59:05 | itr #25 | Fitting baseline...\n",
            "2019-02-11 14:59:05 | itr #25 | Saving snapshot...\n",
            "2019-02-11 14:59:05 | itr #25 | Saved\n",
            "2019-02-11 14:59:05 | --------------------------  -------------\n",
            "2019-02-11 14:59:05 | AverageDiscountedReturn       6.37639\n",
            "2019-02-11 14:59:05 | AverageReturn                 6.4825\n",
            "2019-02-11 14:59:05 | Baseline/ExplainedVariance    0.999997\n",
            "2019-02-11 14:59:05 | Entropy                       0.0859214\n",
            "2019-02-11 14:59:05 | EnvExecTime                   0.16691\n",
            "2019-02-11 14:59:05 | Iteration                    25\n",
            "2019-02-11 14:59:05 | ItrTime                       0.827455\n",
            "2019-02-11 14:59:05 | MaxReturn                     8\n",
            "2019-02-11 14:59:05 | MinReturn                     5\n",
            "2019-02-11 14:59:05 | NumTrajs                    800\n",
            "2019-02-11 14:59:05 | Perplexity                    1.08972\n",
            "2019-02-11 14:59:05 | PolicyExecTime                0.17171\n",
            "2019-02-11 14:59:05 | ProcessExecTime               0.0314851\n",
            "2019-02-11 14:59:05 | StdReturn                     0.840948\n",
            "2019-02-11 14:59:05 | Time                         22.6442\n",
            "2019-02-11 14:59:05 | policy/Entropy                0.46926\n",
            "2019-02-11 14:59:05 | policy/KL                     0.00773322\n",
            "2019-02-11 14:59:05 | policy/KLBefore               0\n",
            "2019-02-11 14:59:05 | policy/LossAfter             -0.0018003\n",
            "2019-02-11 14:59:05 | policy/LossBefore             1.31607e-07\n",
            "2019-02-11 14:59:05 | policy/dLoss                  0.00180043\n",
            "2019-02-11 14:59:05 | --------------------------  -------------\n",
            "2019-02-11 14:59:05 | itr #26 | Obtaining samples...\n",
            "2019-02-11 14:59:05 | itr #26 | Obtaining samples for iteration 26...\n"
          ],
          "name": "stdout"
        },
        {
          "output_type": "stream",
          "text": [
            "0% [##############################] 100% | ETA: 00:00:00"
          ],
          "name": "stderr"
        },
        {
          "output_type": "stream",
          "text": [
            "2019-02-11 14:59:05 | itr #26 | Processing samples...\n"
          ],
          "name": "stdout"
        },
        {
          "output_type": "stream",
          "text": [
            "\n",
            "Total time elapsed: 00:00:00\n"
          ],
          "name": "stderr"
        },
        {
          "output_type": "stream",
          "text": [
            "2019-02-11 14:59:06 | itr #26 | Logging diagnostics...\n",
            "2019-02-11 14:59:06 | itr #26 | Optimizing policy...\n",
            "2019-02-11 14:59:06 | itr #26 | Computing loss before\n",
            "2019-02-11 14:59:06 | itr #26 | Computing KL before\n",
            "2019-02-11 14:59:06 | itr #26 | Optimizing\n",
            "2019-02-11 14:59:06 | itr #26 | Start CG optimization: #parameters: 1476, #inputs: 800, #subsample_inputs: 800\n",
            "2019-02-11 14:59:06 | itr #26 | computing loss before\n",
            "2019-02-11 14:59:06 | itr #26 | performing update\n",
            "2019-02-11 14:59:06 | itr #26 | computing gradient\n",
            "2019-02-11 14:59:06 | itr #26 | gradient computed\n",
            "2019-02-11 14:59:06 | itr #26 | computing descent direction\n",
            "2019-02-11 14:59:06 | itr #26 | descent direction computed\n",
            "2019-02-11 14:59:06 | itr #26 | backtrack iters: 1\n",
            "2019-02-11 14:59:06 | itr #26 | computing loss after\n",
            "2019-02-11 14:59:06 | itr #26 | optimization finished\n",
            "2019-02-11 14:59:06 | itr #26 | Computing KL after\n",
            "2019-02-11 14:59:06 | itr #26 | Computing loss after\n",
            "2019-02-11 14:59:06 | itr #26 | Fitting baseline...\n",
            "2019-02-11 14:59:06 | itr #26 | Saving snapshot...\n",
            "2019-02-11 14:59:06 | itr #26 | Saved\n",
            "2019-02-11 14:59:06 | --------------------------  -------------\n",
            "2019-02-11 14:59:06 | AverageDiscountedReturn       6.41336\n",
            "2019-02-11 14:59:06 | AverageReturn                 6.52\n",
            "2019-02-11 14:59:06 | Baseline/ExplainedVariance    1\n",
            "2019-02-11 14:59:06 | Entropy                       0.0908279\n",
            "2019-02-11 14:59:06 | EnvExecTime                   0.298713\n",
            "2019-02-11 14:59:06 | Iteration                    26\n",
            "2019-02-11 14:59:06 | ItrTime                       0.897033\n",
            "2019-02-11 14:59:06 | MaxReturn                     8\n",
            "2019-02-11 14:59:06 | MinReturn                     5\n",
            "2019-02-11 14:59:06 | NumTrajs                    800\n",
            "2019-02-11 14:59:06 | Perplexity                    1.09508\n",
            "2019-02-11 14:59:06 | PolicyExecTime                0.164117\n",
            "2019-02-11 14:59:06 | ProcessExecTime               0.0348616\n",
            "2019-02-11 14:59:06 | StdReturn                     0.86\n",
            "2019-02-11 14:59:06 | Time                         23.5655\n",
            "2019-02-11 14:59:06 | policy/Entropy                0.467389\n",
            "2019-02-11 14:59:06 | policy/KL                     0.00732586\n",
            "2019-02-11 14:59:06 | policy/KLBefore               0\n",
            "2019-02-11 14:59:06 | policy/LossAfter             -0.00258341\n",
            "2019-02-11 14:59:06 | policy/LossBefore            -7.92742e-09\n",
            "2019-02-11 14:59:06 | policy/dLoss                  0.0025834\n",
            "2019-02-11 14:59:06 | --------------------------  -------------\n",
            "2019-02-11 14:59:06 | itr #27 | Obtaining samples...\n",
            "2019-02-11 14:59:06 | itr #27 | Obtaining samples for iteration 27...\n"
          ],
          "name": "stdout"
        },
        {
          "output_type": "stream",
          "text": [
            "0% [##############################] 100% | ETA: 00:00:00"
          ],
          "name": "stderr"
        },
        {
          "output_type": "stream",
          "text": [
            "2019-02-11 14:59:06 | itr #27 | Processing samples...\n"
          ],
          "name": "stdout"
        },
        {
          "output_type": "stream",
          "text": [
            "\n",
            "Total time elapsed: 00:00:00\n"
          ],
          "name": "stderr"
        },
        {
          "output_type": "stream",
          "text": [
            "2019-02-11 14:59:06 | itr #27 | Logging diagnostics...\n",
            "2019-02-11 14:59:06 | itr #27 | Optimizing policy...\n",
            "2019-02-11 14:59:06 | itr #27 | Computing loss before\n",
            "2019-02-11 14:59:06 | itr #27 | Computing KL before\n",
            "2019-02-11 14:59:06 | itr #27 | Optimizing\n",
            "2019-02-11 14:59:06 | itr #27 | Start CG optimization: #parameters: 1476, #inputs: 800, #subsample_inputs: 800\n",
            "2019-02-11 14:59:06 | itr #27 | computing loss before\n",
            "2019-02-11 14:59:06 | itr #27 | performing update\n",
            "2019-02-11 14:59:06 | itr #27 | computing gradient\n",
            "2019-02-11 14:59:06 | itr #27 | gradient computed\n",
            "2019-02-11 14:59:06 | itr #27 | computing descent direction\n",
            "2019-02-11 14:59:07 | itr #27 | descent direction computed\n",
            "2019-02-11 14:59:07 | itr #27 | backtrack iters: 0\n",
            "2019-02-11 14:59:07 | itr #27 | computing loss after\n",
            "2019-02-11 14:59:07 | itr #27 | optimization finished\n",
            "2019-02-11 14:59:07 | itr #27 | Computing KL after\n",
            "2019-02-11 14:59:07 | itr #27 | Computing loss after\n",
            "2019-02-11 14:59:07 | itr #27 | Fitting baseline...\n",
            "2019-02-11 14:59:07 | itr #27 | Saving snapshot...\n",
            "2019-02-11 14:59:07 | itr #27 | Saved\n",
            "2019-02-11 14:59:07 | --------------------------  -------------\n",
            "2019-02-11 14:59:07 | AverageDiscountedReturn       6.43058\n",
            "2019-02-11 14:59:07 | AverageReturn                 6.5375\n",
            "2019-02-11 14:59:07 | Baseline/ExplainedVariance    1\n",
            "2019-02-11 14:59:07 | Entropy                       0.100638\n",
            "2019-02-11 14:59:07 | EnvExecTime                   0.160907\n",
            "2019-02-11 14:59:07 | Iteration                    27\n",
            "2019-02-11 14:59:07 | ItrTime                       0.749946\n",
            "2019-02-11 14:59:07 | MaxReturn                     8\n",
            "2019-02-11 14:59:07 | MinReturn                     5\n",
            "2019-02-11 14:59:07 | NumTrajs                    800\n",
            "2019-02-11 14:59:07 | Perplexity                    1.10588\n",
            "2019-02-11 14:59:07 | PolicyExecTime                0.168091\n",
            "2019-02-11 14:59:07 | ProcessExecTime               0.0357523\n",
            "2019-02-11 14:59:07 | StdReturn                     0.870973\n",
            "2019-02-11 14:59:07 | Time                         24.3361\n",
            "2019-02-11 14:59:07 | policy/Entropy                0.465657\n",
            "2019-02-11 14:59:07 | policy/KL                     0.00907693\n",
            "2019-02-11 14:59:07 | policy/KLBefore               0\n",
            "2019-02-11 14:59:07 | policy/LossAfter             -0.00305142\n",
            "2019-02-11 14:59:07 | policy/LossBefore            -1.38283e-08\n",
            "2019-02-11 14:59:07 | policy/dLoss                  0.00305141\n",
            "2019-02-11 14:59:07 | --------------------------  -------------\n",
            "2019-02-11 14:59:07 | itr #28 | Obtaining samples...\n",
            "2019-02-11 14:59:07 | itr #28 | Obtaining samples for iteration 28...\n"
          ],
          "name": "stdout"
        },
        {
          "output_type": "stream",
          "text": [
            "0% [##############################] 100% | ETA: 00:00:00"
          ],
          "name": "stderr"
        },
        {
          "output_type": "stream",
          "text": [
            "2019-02-11 14:59:07 | itr #28 | Processing samples...\n"
          ],
          "name": "stdout"
        },
        {
          "output_type": "stream",
          "text": [
            "\n",
            "Total time elapsed: 00:00:00\n"
          ],
          "name": "stderr"
        },
        {
          "output_type": "stream",
          "text": [
            "2019-02-11 14:59:07 | itr #28 | Logging diagnostics...\n",
            "2019-02-11 14:59:07 | itr #28 | Optimizing policy...\n",
            "2019-02-11 14:59:07 | itr #28 | Computing loss before\n",
            "2019-02-11 14:59:07 | itr #28 | Computing KL before\n",
            "2019-02-11 14:59:07 | itr #28 | Optimizing\n",
            "2019-02-11 14:59:07 | itr #28 | Start CG optimization: #parameters: 1476, #inputs: 800, #subsample_inputs: 800\n",
            "2019-02-11 14:59:07 | itr #28 | computing loss before\n",
            "2019-02-11 14:59:07 | itr #28 | performing update\n",
            "2019-02-11 14:59:07 | itr #28 | computing gradient\n",
            "2019-02-11 14:59:07 | itr #28 | gradient computed\n",
            "2019-02-11 14:59:07 | itr #28 | computing descent direction\n",
            "2019-02-11 14:59:07 | itr #28 | descent direction computed\n",
            "2019-02-11 14:59:07 | itr #28 | backtrack iters: 1\n",
            "2019-02-11 14:59:07 | itr #28 | computing loss after\n",
            "2019-02-11 14:59:07 | itr #28 | optimization finished\n",
            "2019-02-11 14:59:07 | itr #28 | Computing KL after\n",
            "2019-02-11 14:59:07 | itr #28 | Computing loss after\n",
            "2019-02-11 14:59:07 | itr #28 | Fitting baseline...\n",
            "2019-02-11 14:59:07 | itr #28 | Saving snapshot...\n",
            "2019-02-11 14:59:07 | itr #28 | Saved\n",
            "2019-02-11 14:59:07 | --------------------------  -------------\n",
            "2019-02-11 14:59:07 | AverageDiscountedReturn       6.40336\n",
            "2019-02-11 14:59:07 | AverageReturn                 6.51\n",
            "2019-02-11 14:59:07 | Baseline/ExplainedVariance    1\n",
            "2019-02-11 14:59:07 | Entropy                       0.0878092\n",
            "2019-02-11 14:59:07 | EnvExecTime                   0.151815\n",
            "2019-02-11 14:59:07 | Iteration                    28\n",
            "2019-02-11 14:59:07 | ItrTime                       0.777193\n",
            "2019-02-11 14:59:07 | MaxReturn                     8\n",
            "2019-02-11 14:59:07 | MinReturn                     5\n",
            "2019-02-11 14:59:07 | NumTrajs                    800\n",
            "2019-02-11 14:59:07 | Perplexity                    1.09178\n",
            "2019-02-11 14:59:07 | PolicyExecTime                0.202201\n",
            "2019-02-11 14:59:07 | ProcessExecTime               0.0325387\n",
            "2019-02-11 14:59:07 | StdReturn                     0.871722\n",
            "2019-02-11 14:59:07 | Time                         25.1465\n",
            "2019-02-11 14:59:07 | policy/Entropy                0.467359\n",
            "2019-02-11 14:59:07 | policy/KL                     0.00858933\n",
            "2019-02-11 14:59:07 | policy/KLBefore               0\n",
            "2019-02-11 14:59:07 | policy/LossAfter             -0.00210494\n",
            "2019-02-11 14:59:07 | policy/LossBefore            -3.15905e-08\n",
            "2019-02-11 14:59:07 | policy/dLoss                  0.00210491\n",
            "2019-02-11 14:59:07 | --------------------------  -------------\n",
            "2019-02-11 14:59:07 | itr #29 | Obtaining samples...\n",
            "2019-02-11 14:59:07 | itr #29 | Obtaining samples for iteration 29...\n"
          ],
          "name": "stdout"
        },
        {
          "output_type": "stream",
          "text": [
            "0% [##############################] 100% | ETA: 00:00:00"
          ],
          "name": "stderr"
        },
        {
          "output_type": "stream",
          "text": [
            "2019-02-11 14:59:08 | itr #29 | Processing samples...\n"
          ],
          "name": "stdout"
        },
        {
          "output_type": "stream",
          "text": [
            "\n",
            "Total time elapsed: 00:00:00\n"
          ],
          "name": "stderr"
        },
        {
          "output_type": "stream",
          "text": [
            "2019-02-11 14:59:08 | itr #29 | Logging diagnostics...\n",
            "2019-02-11 14:59:08 | itr #29 | Optimizing policy...\n",
            "2019-02-11 14:59:08 | itr #29 | Computing loss before\n",
            "2019-02-11 14:59:08 | itr #29 | Computing KL before\n",
            "2019-02-11 14:59:08 | itr #29 | Optimizing\n",
            "2019-02-11 14:59:08 | itr #29 | Start CG optimization: #parameters: 1476, #inputs: 800, #subsample_inputs: 800\n",
            "2019-02-11 14:59:08 | itr #29 | computing loss before\n",
            "2019-02-11 14:59:08 | itr #29 | performing update\n",
            "2019-02-11 14:59:08 | itr #29 | computing gradient\n",
            "2019-02-11 14:59:08 | itr #29 | gradient computed\n",
            "2019-02-11 14:59:08 | itr #29 | computing descent direction\n",
            "2019-02-11 14:59:08 | itr #29 | descent direction computed\n",
            "2019-02-11 14:59:08 | itr #29 | backtrack iters: 0\n",
            "2019-02-11 14:59:08 | itr #29 | computing loss after\n",
            "2019-02-11 14:59:08 | itr #29 | optimization finished\n",
            "2019-02-11 14:59:08 | itr #29 | Computing KL after\n",
            "2019-02-11 14:59:08 | itr #29 | Computing loss after\n",
            "2019-02-11 14:59:08 | itr #29 | Fitting baseline...\n",
            "2019-02-11 14:59:08 | itr #29 | Saving snapshot...\n",
            "2019-02-11 14:59:08 | itr #29 | Saved\n",
            "2019-02-11 14:59:08 | --------------------------  -------------\n",
            "2019-02-11 14:59:08 | AverageDiscountedReturn       6.38845\n",
            "2019-02-11 14:59:08 | AverageReturn                 6.495\n",
            "2019-02-11 14:59:08 | Baseline/ExplainedVariance    1\n",
            "2019-02-11 14:59:08 | Entropy                       0.0964352\n",
            "2019-02-11 14:59:08 | EnvExecTime                   0.157191\n",
            "2019-02-11 14:59:08 | Iteration                    29\n",
            "2019-02-11 14:59:08 | ItrTime                       0.705977\n",
            "2019-02-11 14:59:08 | MaxReturn                     8\n",
            "2019-02-11 14:59:08 | MinReturn                     5\n",
            "2019-02-11 14:59:08 | NumTrajs                    800\n",
            "2019-02-11 14:59:08 | Perplexity                    1.10124\n",
            "2019-02-11 14:59:08 | PolicyExecTime                0.167797\n",
            "2019-02-11 14:59:08 | ProcessExecTime               0.0345161\n",
            "2019-02-11 14:59:08 | StdReturn                     0.878906\n",
            "2019-02-11 14:59:08 | Time                         25.8772\n",
            "2019-02-11 14:59:08 | policy/Entropy                0.467081\n",
            "2019-02-11 14:59:08 | policy/KL                     0.00991276\n",
            "2019-02-11 14:59:08 | policy/KLBefore               0\n",
            "2019-02-11 14:59:08 | policy/LossAfter             -0.00233273\n",
            "2019-02-11 14:59:08 | policy/LossBefore            -4.17233e-09\n",
            "2019-02-11 14:59:08 | policy/dLoss                  0.00233273\n",
            "2019-02-11 14:59:08 | --------------------------  -------------\n",
            "2019-02-11 14:59:08 | itr #30 | Obtaining samples...\n",
            "2019-02-11 14:59:08 | itr #30 | Obtaining samples for iteration 30...\n"
          ],
          "name": "stdout"
        },
        {
          "output_type": "stream",
          "text": [
            "0% [##############################] 100% | ETA: 00:00:00"
          ],
          "name": "stderr"
        },
        {
          "output_type": "stream",
          "text": [
            "2019-02-11 14:59:09 | itr #30 | Processing samples...\n"
          ],
          "name": "stdout"
        },
        {
          "output_type": "stream",
          "text": [
            "\n",
            "Total time elapsed: 00:00:00\n"
          ],
          "name": "stderr"
        },
        {
          "output_type": "stream",
          "text": [
            "2019-02-11 14:59:09 | itr #30 | Logging diagnostics...\n",
            "2019-02-11 14:59:09 | itr #30 | Optimizing policy...\n",
            "2019-02-11 14:59:09 | itr #30 | Computing loss before\n",
            "2019-02-11 14:59:09 | itr #30 | Computing KL before\n",
            "2019-02-11 14:59:09 | itr #30 | Optimizing\n",
            "2019-02-11 14:59:09 | itr #30 | Start CG optimization: #parameters: 1476, #inputs: 800, #subsample_inputs: 800\n",
            "2019-02-11 14:59:09 | itr #30 | computing loss before\n",
            "2019-02-11 14:59:09 | itr #30 | performing update\n",
            "2019-02-11 14:59:09 | itr #30 | computing gradient\n",
            "2019-02-11 14:59:09 | itr #30 | gradient computed\n",
            "2019-02-11 14:59:09 | itr #30 | computing descent direction\n",
            "2019-02-11 14:59:09 | itr #30 | descent direction computed\n",
            "2019-02-11 14:59:09 | itr #30 | backtrack iters: 1\n",
            "2019-02-11 14:59:09 | itr #30 | computing loss after\n",
            "2019-02-11 14:59:09 | itr #30 | optimization finished\n",
            "2019-02-11 14:59:09 | itr #30 | Computing KL after\n",
            "2019-02-11 14:59:09 | itr #30 | Computing loss after\n",
            "2019-02-11 14:59:09 | itr #30 | Fitting baseline...\n",
            "2019-02-11 14:59:09 | itr #30 | Saving snapshot...\n",
            "2019-02-11 14:59:09 | itr #30 | Saved\n",
            "2019-02-11 14:59:09 | --------------------------  -------------\n",
            "2019-02-11 14:59:09 | AverageDiscountedReturn       6.36406\n",
            "2019-02-11 14:59:09 | AverageReturn                 6.47\n",
            "2019-02-11 14:59:09 | Baseline/ExplainedVariance    1\n",
            "2019-02-11 14:59:09 | Entropy                       0.0831512\n",
            "2019-02-11 14:59:09 | EnvExecTime                   0.167584\n",
            "2019-02-11 14:59:09 | Iteration                    30\n",
            "2019-02-11 14:59:09 | ItrTime                       0.771156\n",
            "2019-02-11 14:59:09 | MaxReturn                     8\n",
            "2019-02-11 14:59:09 | MinReturn                     5\n",
            "2019-02-11 14:59:09 | NumTrajs                    800\n",
            "2019-02-11 14:59:09 | Perplexity                    1.08671\n",
            "2019-02-11 14:59:09 | PolicyExecTime                0.178576\n",
            "2019-02-11 14:59:09 | ProcessExecTime               0.0335796\n",
            "2019-02-11 14:59:09 | StdReturn                     0.836122\n",
            "2019-02-11 14:59:09 | Time                         26.6747\n",
            "2019-02-11 14:59:09 | policy/Entropy                0.470252\n",
            "2019-02-11 14:59:09 | policy/KL                     0.00649587\n",
            "2019-02-11 14:59:09 | policy/KLBefore               0\n",
            "2019-02-11 14:59:09 | policy/LossAfter             -0.00258135\n",
            "2019-02-11 14:59:09 | policy/LossBefore            -3.00705e-08\n",
            "2019-02-11 14:59:09 | policy/dLoss                  0.00258132\n",
            "2019-02-11 14:59:09 | --------------------------  -------------\n",
            "2019-02-11 14:59:09 | itr #31 | Obtaining samples...\n",
            "2019-02-11 14:59:09 | itr #31 | Obtaining samples for iteration 31...\n"
          ],
          "name": "stdout"
        },
        {
          "output_type": "stream",
          "text": [
            "0% [##############################] 100% | ETA: 00:00:00"
          ],
          "name": "stderr"
        },
        {
          "output_type": "stream",
          "text": [
            "2019-02-11 14:59:09 | itr #31 | Processing samples...\n"
          ],
          "name": "stdout"
        },
        {
          "output_type": "stream",
          "text": [
            "\n",
            "Total time elapsed: 00:00:00\n"
          ],
          "name": "stderr"
        },
        {
          "output_type": "stream",
          "text": [
            "2019-02-11 14:59:09 | itr #31 | Logging diagnostics...\n",
            "2019-02-11 14:59:09 | itr #31 | Optimizing policy...\n",
            "2019-02-11 14:59:09 | itr #31 | Computing loss before\n",
            "2019-02-11 14:59:09 | itr #31 | Computing KL before\n",
            "2019-02-11 14:59:09 | itr #31 | Optimizing\n",
            "2019-02-11 14:59:09 | itr #31 | Start CG optimization: #parameters: 1476, #inputs: 800, #subsample_inputs: 800\n",
            "2019-02-11 14:59:09 | itr #31 | computing loss before\n",
            "2019-02-11 14:59:09 | itr #31 | performing update\n",
            "2019-02-11 14:59:09 | itr #31 | computing gradient\n",
            "2019-02-11 14:59:10 | itr #31 | gradient computed\n",
            "2019-02-11 14:59:10 | itr #31 | computing descent direction\n",
            "2019-02-11 14:59:10 | itr #31 | descent direction computed\n",
            "2019-02-11 14:59:10 | itr #31 | backtrack iters: 1\n",
            "2019-02-11 14:59:10 | itr #31 | computing loss after\n",
            "2019-02-11 14:59:10 | itr #31 | optimization finished\n",
            "2019-02-11 14:59:10 | itr #31 | Computing KL after\n",
            "2019-02-11 14:59:10 | itr #31 | Computing loss after\n",
            "2019-02-11 14:59:10 | itr #31 | Fitting baseline...\n",
            "2019-02-11 14:59:10 | itr #31 | Saving snapshot...\n",
            "2019-02-11 14:59:10 | itr #31 | Saved\n",
            "2019-02-11 14:59:10 | --------------------------  -------------\n",
            "2019-02-11 14:59:10 | AverageDiscountedReturn       6.40106\n",
            "2019-02-11 14:59:10 | AverageReturn                 6.5075\n",
            "2019-02-11 14:59:10 | Baseline/ExplainedVariance    1\n",
            "2019-02-11 14:59:10 | Entropy                       0.0856731\n",
            "2019-02-11 14:59:10 | EnvExecTime                   0.159688\n",
            "2019-02-11 14:59:10 | Iteration                    31\n",
            "2019-02-11 14:59:10 | ItrTime                       0.759814\n",
            "2019-02-11 14:59:10 | MaxReturn                     8\n",
            "2019-02-11 14:59:10 | MinReturn                     5\n",
            "2019-02-11 14:59:10 | NumTrajs                    800\n",
            "2019-02-11 14:59:10 | Perplexity                    1.08945\n",
            "2019-02-11 14:59:10 | PolicyExecTime                0.161458\n",
            "2019-02-11 14:59:10 | ProcessExecTime               0.0365169\n",
            "2019-02-11 14:59:10 | StdReturn                     0.851436\n",
            "2019-02-11 14:59:10 | Time                         27.4593\n",
            "2019-02-11 14:59:10 | policy/Entropy                0.469296\n",
            "2019-02-11 14:59:10 | policy/KL                     0.00711441\n",
            "2019-02-11 14:59:10 | policy/KLBefore               0\n",
            "2019-02-11 14:59:10 | policy/LossAfter             -0.00234635\n",
            "2019-02-11 14:59:10 | policy/LossBefore             6.07967e-09\n",
            "2019-02-11 14:59:10 | policy/dLoss                  0.00234635\n",
            "2019-02-11 14:59:10 | --------------------------  -------------\n",
            "2019-02-11 14:59:10 | itr #32 | Obtaining samples...\n",
            "2019-02-11 14:59:10 | itr #32 | Obtaining samples for iteration 32...\n"
          ],
          "name": "stdout"
        },
        {
          "output_type": "stream",
          "text": [
            "0% [##############################] 100% | ETA: 00:00:00"
          ],
          "name": "stderr"
        },
        {
          "output_type": "stream",
          "text": [
            "2019-02-11 14:59:10 | itr #32 | Processing samples...\n"
          ],
          "name": "stdout"
        },
        {
          "output_type": "stream",
          "text": [
            "\n",
            "Total time elapsed: 00:00:00\n"
          ],
          "name": "stderr"
        },
        {
          "output_type": "stream",
          "text": [
            "2019-02-11 14:59:10 | itr #32 | Logging diagnostics...\n",
            "2019-02-11 14:59:10 | itr #32 | Optimizing policy...\n",
            "2019-02-11 14:59:10 | itr #32 | Computing loss before\n",
            "2019-02-11 14:59:10 | itr #32 | Computing KL before\n",
            "2019-02-11 14:59:10 | itr #32 | Optimizing\n",
            "2019-02-11 14:59:10 | itr #32 | Start CG optimization: #parameters: 1476, #inputs: 800, #subsample_inputs: 800\n",
            "2019-02-11 14:59:10 | itr #32 | computing loss before\n",
            "2019-02-11 14:59:10 | itr #32 | performing update\n",
            "2019-02-11 14:59:10 | itr #32 | computing gradient\n",
            "2019-02-11 14:59:10 | itr #32 | gradient computed\n",
            "2019-02-11 14:59:10 | itr #32 | computing descent direction\n",
            "2019-02-11 14:59:10 | itr #32 | descent direction computed\n",
            "2019-02-11 14:59:10 | itr #32 | backtrack iters: 0\n",
            "2019-02-11 14:59:10 | itr #32 | computing loss after\n",
            "2019-02-11 14:59:10 | itr #32 | optimization finished\n",
            "2019-02-11 14:59:10 | itr #32 | Computing KL after\n",
            "2019-02-11 14:59:10 | itr #32 | Computing loss after\n",
            "2019-02-11 14:59:10 | itr #32 | Fitting baseline...\n",
            "2019-02-11 14:59:10 | itr #32 | Saving snapshot...\n",
            "2019-02-11 14:59:10 | itr #32 | Saved\n",
            "2019-02-11 14:59:10 | --------------------------  -------------\n",
            "2019-02-11 14:59:10 | AverageDiscountedReturn       6.38848\n",
            "2019-02-11 14:59:10 | AverageReturn                 6.495\n",
            "2019-02-11 14:59:10 | Baseline/ExplainedVariance    1\n",
            "2019-02-11 14:59:10 | Entropy                       0.0867563\n",
            "2019-02-11 14:59:10 | EnvExecTime                   0.162311\n",
            "2019-02-11 14:59:10 | Iteration                    32\n",
            "2019-02-11 14:59:10 | ItrTime                       0.711748\n",
            "2019-02-11 14:59:10 | MaxReturn                     8\n",
            "2019-02-11 14:59:10 | MinReturn                     5\n",
            "2019-02-11 14:59:10 | NumTrajs                    800\n",
            "2019-02-11 14:59:10 | Perplexity                    1.09063\n",
            "2019-02-11 14:59:10 | PolicyExecTime                0.169836\n",
            "2019-02-11 14:59:10 | ProcessExecTime               0.0327365\n",
            "2019-02-11 14:59:10 | StdReturn                     0.874628\n",
            "2019-02-11 14:59:10 | Time                         28.1955\n",
            "2019-02-11 14:59:10 | policy/Entropy                0.473147\n",
            "2019-02-11 14:59:10 | policy/KL                     0.00817997\n",
            "2019-02-11 14:59:10 | policy/KLBefore               0\n",
            "2019-02-11 14:59:10 | policy/LossAfter             -0.00108925\n",
            "2019-02-11 14:59:10 | policy/LossBefore            -2.26498e-08\n",
            "2019-02-11 14:59:10 | policy/dLoss                  0.00108923\n",
            "2019-02-11 14:59:10 | --------------------------  -------------\n",
            "2019-02-11 14:59:10 | itr #33 | Obtaining samples...\n",
            "2019-02-11 14:59:10 | itr #33 | Obtaining samples for iteration 33...\n"
          ],
          "name": "stdout"
        },
        {
          "output_type": "stream",
          "text": [
            "0% [##############################] 100% | ETA: 00:00:00"
          ],
          "name": "stderr"
        },
        {
          "output_type": "stream",
          "text": [
            "2019-02-11 14:59:11 | itr #33 | Processing samples...\n"
          ],
          "name": "stdout"
        },
        {
          "output_type": "stream",
          "text": [
            "\n",
            "Total time elapsed: 00:00:00\n"
          ],
          "name": "stderr"
        },
        {
          "output_type": "stream",
          "text": [
            "2019-02-11 14:59:11 | itr #33 | Logging diagnostics...\n",
            "2019-02-11 14:59:11 | itr #33 | Optimizing policy...\n",
            "2019-02-11 14:59:11 | itr #33 | Computing loss before\n",
            "2019-02-11 14:59:11 | itr #33 | Computing KL before\n",
            "2019-02-11 14:59:11 | itr #33 | Optimizing\n",
            "2019-02-11 14:59:11 | itr #33 | Start CG optimization: #parameters: 1476, #inputs: 800, #subsample_inputs: 800\n",
            "2019-02-11 14:59:11 | itr #33 | computing loss before\n",
            "2019-02-11 14:59:11 | itr #33 | performing update\n",
            "2019-02-11 14:59:11 | itr #33 | computing gradient\n",
            "2019-02-11 14:59:11 | itr #33 | gradient computed\n",
            "2019-02-11 14:59:11 | itr #33 | computing descent direction\n",
            "2019-02-11 14:59:11 | itr #33 | descent direction computed\n",
            "2019-02-11 14:59:11 | itr #33 | backtrack iters: 0\n",
            "2019-02-11 14:59:11 | itr #33 | computing loss after\n",
            "2019-02-11 14:59:11 | itr #33 | optimization finished\n",
            "2019-02-11 14:59:11 | itr #33 | Computing KL after\n",
            "2019-02-11 14:59:11 | itr #33 | Computing loss after\n",
            "2019-02-11 14:59:11 | itr #33 | Fitting baseline...\n",
            "2019-02-11 14:59:11 | itr #33 | Saving snapshot...\n",
            "2019-02-11 14:59:11 | itr #33 | Saved\n",
            "2019-02-11 14:59:11 | --------------------------  -------------\n",
            "2019-02-11 14:59:11 | AverageDiscountedReturn       6.40724\n",
            "2019-02-11 14:59:11 | AverageReturn                 6.51375\n",
            "2019-02-11 14:59:11 | Baseline/ExplainedVariance    1\n",
            "2019-02-11 14:59:11 | Entropy                       0.0672324\n",
            "2019-02-11 14:59:11 | EnvExecTime                   0.16031\n",
            "2019-02-11 14:59:11 | Iteration                    33\n",
            "2019-02-11 14:59:11 | ItrTime                       0.713755\n",
            "2019-02-11 14:59:11 | MaxReturn                     8\n",
            "2019-02-11 14:59:11 | MinReturn                     5\n",
            "2019-02-11 14:59:11 | NumTrajs                    800\n",
            "2019-02-11 14:59:11 | Perplexity                    1.06954\n",
            "2019-02-11 14:59:11 | PolicyExecTime                0.16461\n",
            "2019-02-11 14:59:11 | ProcessExecTime               0.0339389\n",
            "2019-02-11 14:59:11 | StdReturn                     0.851358\n",
            "2019-02-11 14:59:11 | Time                         28.9342\n",
            "2019-02-11 14:59:11 | policy/Entropy                0.477821\n",
            "2019-02-11 14:59:11 | policy/KL                     0.00879383\n",
            "2019-02-11 14:59:11 | policy/KLBefore               0\n",
            "2019-02-11 14:59:11 | policy/LossAfter             -0.00190688\n",
            "2019-02-11 14:59:11 | policy/LossBefore            -9.29832e-09\n",
            "2019-02-11 14:59:11 | policy/dLoss                  0.00190687\n",
            "2019-02-11 14:59:11 | --------------------------  -------------\n",
            "2019-02-11 14:59:11 | itr #34 | Obtaining samples...\n",
            "2019-02-11 14:59:11 | itr #34 | Obtaining samples for iteration 34...\n"
          ],
          "name": "stdout"
        },
        {
          "output_type": "stream",
          "text": [
            "0% [##############################] 100% | ETA: 00:00:00"
          ],
          "name": "stderr"
        },
        {
          "output_type": "stream",
          "text": [
            "2019-02-11 14:59:12 | itr #34 | Processing samples...\n"
          ],
          "name": "stdout"
        },
        {
          "output_type": "stream",
          "text": [
            "\n",
            "Total time elapsed: 00:00:00\n"
          ],
          "name": "stderr"
        },
        {
          "output_type": "stream",
          "text": [
            "2019-02-11 14:59:12 | itr #34 | Logging diagnostics...\n",
            "2019-02-11 14:59:12 | itr #34 | Optimizing policy...\n",
            "2019-02-11 14:59:12 | itr #34 | Computing loss before\n",
            "2019-02-11 14:59:12 | itr #34 | Computing KL before\n",
            "2019-02-11 14:59:12 | itr #34 | Optimizing\n",
            "2019-02-11 14:59:12 | itr #34 | Start CG optimization: #parameters: 1476, #inputs: 800, #subsample_inputs: 800\n",
            "2019-02-11 14:59:12 | itr #34 | computing loss before\n",
            "2019-02-11 14:59:12 | itr #34 | performing update\n",
            "2019-02-11 14:59:12 | itr #34 | computing gradient\n",
            "2019-02-11 14:59:12 | itr #34 | gradient computed\n",
            "2019-02-11 14:59:12 | itr #34 | computing descent direction\n",
            "2019-02-11 14:59:12 | itr #34 | descent direction computed\n",
            "2019-02-11 14:59:12 | itr #34 | backtrack iters: 0\n",
            "2019-02-11 14:59:12 | itr #34 | computing loss after\n",
            "2019-02-11 14:59:12 | itr #34 | optimization finished\n",
            "2019-02-11 14:59:12 | itr #34 | Computing KL after\n",
            "2019-02-11 14:59:12 | itr #34 | Computing loss after\n",
            "2019-02-11 14:59:12 | itr #34 | Fitting baseline...\n",
            "2019-02-11 14:59:12 | itr #34 | Saving snapshot...\n",
            "2019-02-11 14:59:12 | itr #34 | Saved\n",
            "2019-02-11 14:59:12 | --------------------------  -------------\n",
            "2019-02-11 14:59:12 | AverageDiscountedReturn       6.40062\n",
            "2019-02-11 14:59:12 | AverageReturn                 6.5075\n",
            "2019-02-11 14:59:12 | Baseline/ExplainedVariance    1\n",
            "2019-02-11 14:59:12 | Entropy                       0.0652983\n",
            "2019-02-11 14:59:12 | EnvExecTime                   0.152262\n",
            "2019-02-11 14:59:12 | Iteration                    34\n",
            "2019-02-11 14:59:12 | ItrTime                       0.762414\n",
            "2019-02-11 14:59:12 | MaxReturn                     8\n",
            "2019-02-11 14:59:12 | MinReturn                     5\n",
            "2019-02-11 14:59:12 | NumTrajs                    800\n",
            "2019-02-11 14:59:12 | Perplexity                    1.06748\n",
            "2019-02-11 14:59:12 | PolicyExecTime                0.176504\n",
            "2019-02-11 14:59:12 | ProcessExecTime               0.0299413\n",
            "2019-02-11 14:59:12 | StdReturn                     0.901357\n",
            "2019-02-11 14:59:12 | Time                         29.7413\n",
            "2019-02-11 14:59:12 | policy/Entropy                0.478973\n",
            "2019-02-11 14:59:12 | policy/KL                     0.00455485\n",
            "2019-02-11 14:59:12 | policy/KLBefore               0\n",
            "2019-02-11 14:59:12 | policy/LossAfter             -0.00141301\n",
            "2019-02-11 14:59:12 | policy/LossBefore            -4.98295e-08\n",
            "2019-02-11 14:59:12 | policy/dLoss                  0.00141297\n",
            "2019-02-11 14:59:12 | --------------------------  -------------\n",
            "2019-02-11 14:59:12 | itr #35 | Obtaining samples...\n",
            "2019-02-11 14:59:12 | itr #35 | Obtaining samples for iteration 35...\n"
          ],
          "name": "stdout"
        },
        {
          "output_type": "stream",
          "text": [
            "0% [##############################] 100% | ETA: 00:00:00"
          ],
          "name": "stderr"
        },
        {
          "output_type": "stream",
          "text": [
            "2019-02-11 14:59:12 | itr #35 | Processing samples...\n"
          ],
          "name": "stdout"
        },
        {
          "output_type": "stream",
          "text": [
            "\n",
            "Total time elapsed: 00:00:00\n"
          ],
          "name": "stderr"
        },
        {
          "output_type": "stream",
          "text": [
            "2019-02-11 14:59:13 | itr #35 | Logging diagnostics...\n",
            "2019-02-11 14:59:13 | itr #35 | Optimizing policy...\n",
            "2019-02-11 14:59:13 | itr #35 | Computing loss before\n",
            "2019-02-11 14:59:13 | itr #35 | Computing KL before\n",
            "2019-02-11 14:59:13 | itr #35 | Optimizing\n",
            "2019-02-11 14:59:13 | itr #35 | Start CG optimization: #parameters: 1476, #inputs: 800, #subsample_inputs: 800\n",
            "2019-02-11 14:59:13 | itr #35 | computing loss before\n",
            "2019-02-11 14:59:13 | itr #35 | performing update\n",
            "2019-02-11 14:59:13 | itr #35 | computing gradient\n",
            "2019-02-11 14:59:13 | itr #35 | gradient computed\n",
            "2019-02-11 14:59:13 | itr #35 | computing descent direction\n",
            "2019-02-11 14:59:13 | itr #35 | descent direction computed\n",
            "2019-02-11 14:59:13 | itr #35 | backtrack iters: 0\n",
            "2019-02-11 14:59:13 | itr #35 | computing loss after\n",
            "2019-02-11 14:59:13 | itr #35 | optimization finished\n",
            "2019-02-11 14:59:13 | itr #35 | Computing KL after\n",
            "2019-02-11 14:59:13 | itr #35 | Computing loss after\n",
            "2019-02-11 14:59:13 | itr #35 | Fitting baseline...\n",
            "2019-02-11 14:59:13 | itr #35 | Saving snapshot...\n",
            "2019-02-11 14:59:13 | itr #35 | Saved\n",
            "2019-02-11 14:59:13 | --------------------------  -------------\n",
            "2019-02-11 14:59:13 | AverageDiscountedReturn       6.39116\n",
            "2019-02-11 14:59:13 | AverageReturn                 6.4975\n",
            "2019-02-11 14:59:13 | Baseline/ExplainedVariance    1\n",
            "2019-02-11 14:59:13 | Entropy                       0.0516193\n",
            "2019-02-11 14:59:13 | EnvExecTime                   0.153417\n",
            "2019-02-11 14:59:13 | Iteration                    35\n",
            "2019-02-11 14:59:13 | ItrTime                       0.768435\n",
            "2019-02-11 14:59:13 | MaxReturn                     8\n",
            "2019-02-11 14:59:13 | MinReturn                     5\n",
            "2019-02-11 14:59:13 | NumTrajs                    800\n",
            "2019-02-11 14:59:13 | Perplexity                    1.05297\n",
            "2019-02-11 14:59:13 | PolicyExecTime                0.173872\n",
            "2019-02-11 14:59:13 | ProcessExecTime               0.0329151\n",
            "2019-02-11 14:59:13 | StdReturn                     0.851466\n",
            "2019-02-11 14:59:13 | Time                         30.5635\n",
            "2019-02-11 14:59:13 | policy/Entropy                0.482064\n",
            "2019-02-11 14:59:13 | policy/KL                     0.00514708\n",
            "2019-02-11 14:59:13 | policy/KLBefore               0\n",
            "2019-02-11 14:59:13 | policy/LossAfter             -0.000612516\n",
            "2019-02-11 14:59:13 | policy/LossBefore             6.7234e-08\n",
            "2019-02-11 14:59:13 | policy/dLoss                  0.000612583\n",
            "2019-02-11 14:59:13 | --------------------------  -------------\n",
            "2019-02-11 14:59:13 | itr #36 | Obtaining samples...\n",
            "2019-02-11 14:59:13 | itr #36 | Obtaining samples for iteration 36...\n"
          ],
          "name": "stdout"
        },
        {
          "output_type": "stream",
          "text": [
            "0% [##############################] 100% | ETA: 00:00:00"
          ],
          "name": "stderr"
        },
        {
          "output_type": "stream",
          "text": [
            "2019-02-11 14:59:13 | itr #36 | Processing samples...\n"
          ],
          "name": "stdout"
        },
        {
          "output_type": "stream",
          "text": [
            "\n",
            "Total time elapsed: 00:00:00\n"
          ],
          "name": "stderr"
        },
        {
          "output_type": "stream",
          "text": [
            "2019-02-11 14:59:13 | itr #36 | Logging diagnostics...\n",
            "2019-02-11 14:59:13 | itr #36 | Optimizing policy...\n",
            "2019-02-11 14:59:13 | itr #36 | Computing loss before\n",
            "2019-02-11 14:59:13 | itr #36 | Computing KL before\n",
            "2019-02-11 14:59:13 | itr #36 | Optimizing\n",
            "2019-02-11 14:59:13 | itr #36 | Start CG optimization: #parameters: 1476, #inputs: 800, #subsample_inputs: 800\n",
            "2019-02-11 14:59:13 | itr #36 | computing loss before\n",
            "2019-02-11 14:59:13 | itr #36 | performing update\n",
            "2019-02-11 14:59:13 | itr #36 | computing gradient\n",
            "2019-02-11 14:59:13 | itr #36 | gradient computed\n",
            "2019-02-11 14:59:13 | itr #36 | computing descent direction\n",
            "2019-02-11 14:59:14 | itr #36 | descent direction computed\n",
            "2019-02-11 14:59:14 | itr #36 | backtrack iters: 5\n",
            "2019-02-11 14:59:14 | itr #36 | computing loss after\n",
            "2019-02-11 14:59:14 | itr #36 | optimization finished\n",
            "2019-02-11 14:59:14 | itr #36 | Computing KL after\n",
            "2019-02-11 14:59:14 | itr #36 | Computing loss after\n",
            "2019-02-11 14:59:14 | itr #36 | Fitting baseline...\n",
            "2019-02-11 14:59:14 | itr #36 | Saving snapshot...\n",
            "2019-02-11 14:59:14 | itr #36 | Saved\n",
            "2019-02-11 14:59:14 | --------------------------  -------------\n",
            "2019-02-11 14:59:14 | AverageDiscountedReturn       6.4145\n",
            "2019-02-11 14:59:14 | AverageReturn                 6.52125\n",
            "2019-02-11 14:59:14 | Baseline/ExplainedVariance    1\n",
            "2019-02-11 14:59:14 | Entropy                       0.0463745\n",
            "2019-02-11 14:59:14 | EnvExecTime                   0.165427\n",
            "2019-02-11 14:59:14 | Iteration                    36\n",
            "2019-02-11 14:59:14 | ItrTime                       0.850131\n",
            "2019-02-11 14:59:14 | MaxReturn                     8\n",
            "2019-02-11 14:59:14 | MinReturn                     5\n",
            "2019-02-11 14:59:14 | NumTrajs                    800\n",
            "2019-02-11 14:59:14 | Perplexity                    1.04747\n",
            "2019-02-11 14:59:14 | PolicyExecTime                0.176689\n",
            "2019-02-11 14:59:14 | ProcessExecTime               0.0413566\n",
            "2019-02-11 14:59:14 | StdReturn                     0.871521\n",
            "2019-02-11 14:59:14 | Time                         31.439\n",
            "2019-02-11 14:59:14 | policy/Entropy                0.480236\n",
            "2019-02-11 14:59:14 | policy/KL                     0.00575272\n",
            "2019-02-11 14:59:14 | policy/KLBefore               0\n",
            "2019-02-11 14:59:14 | policy/LossAfter             -0.0150603\n",
            "2019-02-11 14:59:14 | policy/LossBefore             5.11408e-08\n",
            "2019-02-11 14:59:14 | policy/dLoss                  0.0150604\n",
            "2019-02-11 14:59:14 | --------------------------  -------------\n",
            "2019-02-11 14:59:14 | itr #37 | Obtaining samples...\n",
            "2019-02-11 14:59:14 | itr #37 | Obtaining samples for iteration 37...\n"
          ],
          "name": "stdout"
        },
        {
          "output_type": "stream",
          "text": [
            "0% [##############################] 100% | ETA: 00:00:00"
          ],
          "name": "stderr"
        },
        {
          "output_type": "stream",
          "text": [
            "2019-02-11 14:59:14 | itr #37 | Processing samples...\n"
          ],
          "name": "stdout"
        },
        {
          "output_type": "stream",
          "text": [
            "\n",
            "Total time elapsed: 00:00:00\n"
          ],
          "name": "stderr"
        },
        {
          "output_type": "stream",
          "text": [
            "2019-02-11 14:59:14 | itr #37 | Logging diagnostics...\n",
            "2019-02-11 14:59:14 | itr #37 | Optimizing policy...\n",
            "2019-02-11 14:59:14 | itr #37 | Computing loss before\n",
            "2019-02-11 14:59:14 | itr #37 | Computing KL before\n",
            "2019-02-11 14:59:14 | itr #37 | Optimizing\n",
            "2019-02-11 14:59:14 | itr #37 | Start CG optimization: #parameters: 1476, #inputs: 800, #subsample_inputs: 800\n",
            "2019-02-11 14:59:14 | itr #37 | computing loss before\n",
            "2019-02-11 14:59:14 | itr #37 | performing update\n",
            "2019-02-11 14:59:14 | itr #37 | computing gradient\n",
            "2019-02-11 14:59:14 | itr #37 | gradient computed\n",
            "2019-02-11 14:59:14 | itr #37 | computing descent direction\n",
            "2019-02-11 14:59:14 | itr #37 | descent direction computed\n",
            "2019-02-11 14:59:14 | itr #37 | backtrack iters: 1\n",
            "2019-02-11 14:59:14 | itr #37 | computing loss after\n",
            "2019-02-11 14:59:14 | itr #37 | optimization finished\n",
            "2019-02-11 14:59:14 | itr #37 | Computing KL after\n",
            "2019-02-11 14:59:14 | itr #37 | Computing loss after\n",
            "2019-02-11 14:59:14 | itr #37 | Fitting baseline...\n",
            "2019-02-11 14:59:14 | itr #37 | Saving snapshot...\n",
            "2019-02-11 14:59:14 | itr #37 | Saved\n",
            "2019-02-11 14:59:14 | --------------------------  -------------\n",
            "2019-02-11 14:59:14 | AverageDiscountedReturn       6.36139\n",
            "2019-02-11 14:59:14 | AverageReturn                 6.4675\n",
            "2019-02-11 14:59:14 | Baseline/ExplainedVariance    1\n",
            "2019-02-11 14:59:14 | Entropy                       0.0552693\n",
            "2019-02-11 14:59:14 | EnvExecTime                   0.156585\n",
            "2019-02-11 14:59:14 | Iteration                    37\n",
            "2019-02-11 14:59:14 | ItrTime                       0.728377\n",
            "2019-02-11 14:59:14 | MaxReturn                     8\n",
            "2019-02-11 14:59:14 | MinReturn                     5\n",
            "2019-02-11 14:59:14 | NumTrajs                    800\n",
            "2019-02-11 14:59:14 | Perplexity                    1.05683\n",
            "2019-02-11 14:59:14 | PolicyExecTime                0.166847\n",
            "2019-02-11 14:59:14 | ProcessExecTime               0.0357404\n",
            "2019-02-11 14:59:14 | StdReturn                     0.858163\n",
            "2019-02-11 14:59:14 | Time                         32.1885\n",
            "2019-02-11 14:59:14 | policy/Entropy                0.477375\n",
            "2019-02-11 14:59:14 | policy/KL                     0.00867322\n",
            "2019-02-11 14:59:14 | policy/KLBefore               0\n",
            "2019-02-11 14:59:14 | policy/LossAfter             -0.00106681\n",
            "2019-02-11 14:59:14 | policy/LossBefore             1.54972e-09\n",
            "2019-02-11 14:59:14 | policy/dLoss                  0.00106682\n",
            "2019-02-11 14:59:14 | --------------------------  -------------\n",
            "2019-02-11 14:59:14 | itr #38 | Obtaining samples...\n",
            "2019-02-11 14:59:14 | itr #38 | Obtaining samples for iteration 38...\n"
          ],
          "name": "stdout"
        },
        {
          "output_type": "stream",
          "text": [
            "0% [##############################] 100% | ETA: 00:00:00"
          ],
          "name": "stderr"
        },
        {
          "output_type": "stream",
          "text": [
            "2019-02-11 14:59:15 | itr #38 | Processing samples...\n"
          ],
          "name": "stdout"
        },
        {
          "output_type": "stream",
          "text": [
            "\n",
            "Total time elapsed: 00:00:00\n"
          ],
          "name": "stderr"
        },
        {
          "output_type": "stream",
          "text": [
            "2019-02-11 14:59:15 | itr #38 | Logging diagnostics...\n",
            "2019-02-11 14:59:15 | itr #38 | Optimizing policy...\n",
            "2019-02-11 14:59:15 | itr #38 | Computing loss before\n",
            "2019-02-11 14:59:15 | itr #38 | Computing KL before\n",
            "2019-02-11 14:59:15 | itr #38 | Optimizing\n",
            "2019-02-11 14:59:15 | itr #38 | Start CG optimization: #parameters: 1476, #inputs: 800, #subsample_inputs: 800\n",
            "2019-02-11 14:59:15 | itr #38 | computing loss before\n",
            "2019-02-11 14:59:15 | itr #38 | performing update\n",
            "2019-02-11 14:59:15 | itr #38 | computing gradient\n",
            "2019-02-11 14:59:15 | itr #38 | gradient computed\n",
            "2019-02-11 14:59:15 | itr #38 | computing descent direction\n",
            "2019-02-11 14:59:15 | itr #38 | descent direction computed\n",
            "2019-02-11 14:59:15 | itr #38 | backtrack iters: 0\n",
            "2019-02-11 14:59:15 | itr #38 | computing loss after\n",
            "2019-02-11 14:59:15 | itr #38 | optimization finished\n",
            "2019-02-11 14:59:15 | itr #38 | Computing KL after\n",
            "2019-02-11 14:59:15 | itr #38 | Computing loss after\n",
            "2019-02-11 14:59:15 | itr #38 | Fitting baseline...\n",
            "2019-02-11 14:59:15 | itr #38 | Saving snapshot...\n",
            "2019-02-11 14:59:15 | itr #38 | Saved\n",
            "2019-02-11 14:59:15 | --------------------------  -------------\n",
            "2019-02-11 14:59:15 | AverageDiscountedReturn       6.39717\n",
            "2019-02-11 14:59:15 | AverageReturn                 6.50375\n",
            "2019-02-11 14:59:15 | Baseline/ExplainedVariance    1\n",
            "2019-02-11 14:59:15 | Entropy                       0.0701321\n",
            "2019-02-11 14:59:15 | EnvExecTime                   0.165837\n",
            "2019-02-11 14:59:15 | Iteration                    38\n",
            "2019-02-11 14:59:15 | ItrTime                       0.710658\n",
            "2019-02-11 14:59:15 | MaxReturn                     8\n",
            "2019-02-11 14:59:15 | MinReturn                     5\n",
            "2019-02-11 14:59:15 | NumTrajs                    800\n",
            "2019-02-11 14:59:15 | Perplexity                    1.07265\n",
            "2019-02-11 14:59:15 | PolicyExecTime                0.163588\n",
            "2019-02-11 14:59:15 | ProcessExecTime               0.0333815\n",
            "2019-02-11 14:59:15 | StdReturn                     0.871772\n",
            "2019-02-11 14:59:15 | Time                         32.9223\n",
            "2019-02-11 14:59:15 | policy/Entropy                0.477127\n",
            "2019-02-11 14:59:15 | policy/KL                     0.00761217\n",
            "2019-02-11 14:59:15 | policy/KLBefore               0\n",
            "2019-02-11 14:59:15 | policy/LossAfter             -0.000889467\n",
            "2019-02-11 14:59:15 | policy/LossBefore             1.0252e-08\n",
            "2019-02-11 14:59:15 | policy/dLoss                  0.000889477\n",
            "2019-02-11 14:59:15 | --------------------------  -------------\n",
            "2019-02-11 14:59:15 | itr #39 | Obtaining samples...\n",
            "2019-02-11 14:59:15 | itr #39 | Obtaining samples for iteration 39...\n"
          ],
          "name": "stdout"
        },
        {
          "output_type": "stream",
          "text": [
            "0% [##############################] 100% | ETA: 00:00:00"
          ],
          "name": "stderr"
        },
        {
          "output_type": "stream",
          "text": [
            "2019-02-11 14:59:16 | itr #39 | Processing samples...\n"
          ],
          "name": "stdout"
        },
        {
          "output_type": "stream",
          "text": [
            "\n",
            "Total time elapsed: 00:00:00\n"
          ],
          "name": "stderr"
        },
        {
          "output_type": "stream",
          "text": [
            "2019-02-11 14:59:16 | itr #39 | Logging diagnostics...\n",
            "2019-02-11 14:59:16 | itr #39 | Optimizing policy...\n",
            "2019-02-11 14:59:16 | itr #39 | Computing loss before\n",
            "2019-02-11 14:59:16 | itr #39 | Computing KL before\n",
            "2019-02-11 14:59:16 | itr #39 | Optimizing\n",
            "2019-02-11 14:59:16 | itr #39 | Start CG optimization: #parameters: 1476, #inputs: 800, #subsample_inputs: 800\n",
            "2019-02-11 14:59:16 | itr #39 | computing loss before\n",
            "2019-02-11 14:59:16 | itr #39 | performing update\n",
            "2019-02-11 14:59:16 | itr #39 | computing gradient\n",
            "2019-02-11 14:59:16 | itr #39 | gradient computed\n",
            "2019-02-11 14:59:16 | itr #39 | computing descent direction\n",
            "2019-02-11 14:59:16 | itr #39 | descent direction computed\n",
            "2019-02-11 14:59:16 | itr #39 | backtrack iters: 1\n",
            "2019-02-11 14:59:16 | itr #39 | computing loss after\n",
            "2019-02-11 14:59:16 | itr #39 | optimization finished\n",
            "2019-02-11 14:59:16 | itr #39 | Computing KL after\n",
            "2019-02-11 14:59:16 | itr #39 | Computing loss after\n",
            "2019-02-11 14:59:16 | itr #39 | Fitting baseline...\n",
            "2019-02-11 14:59:16 | itr #39 | Saving snapshot...\n",
            "2019-02-11 14:59:16 | itr #39 | Saved\n",
            "2019-02-11 14:59:16 | --------------------------  -------------\n",
            "2019-02-11 14:59:16 | AverageDiscountedReturn       6.35283\n",
            "2019-02-11 14:59:16 | AverageReturn                 6.45875\n",
            "2019-02-11 14:59:16 | Baseline/ExplainedVariance    1\n",
            "2019-02-11 14:59:16 | Entropy                       0.0527137\n",
            "2019-02-11 14:59:16 | EnvExecTime                   0.159367\n",
            "2019-02-11 14:59:16 | Iteration                    39\n",
            "2019-02-11 14:59:16 | ItrTime                       0.767329\n",
            "2019-02-11 14:59:16 | MaxReturn                     8\n",
            "2019-02-11 14:59:16 | MinReturn                     5\n",
            "2019-02-11 14:59:16 | NumTrajs                    800\n",
            "2019-02-11 14:59:16 | Perplexity                    1.05413\n",
            "2019-02-11 14:59:16 | PolicyExecTime                0.17392\n",
            "2019-02-11 14:59:16 | ProcessExecTime               0.0341904\n",
            "2019-02-11 14:59:16 | StdReturn                     0.846049\n",
            "2019-02-11 14:59:16 | Time                         33.7276\n",
            "2019-02-11 14:59:16 | policy/Entropy                0.48036\n",
            "2019-02-11 14:59:16 | policy/KL                     0.00656962\n",
            "2019-02-11 14:59:16 | policy/KLBefore               0\n",
            "2019-02-11 14:59:16 | policy/LossAfter             -0.00107727\n",
            "2019-02-11 14:59:16 | policy/LossBefore            -8.58307e-09\n",
            "2019-02-11 14:59:16 | policy/dLoss                  0.00107726\n",
            "2019-02-11 14:59:16 | --------------------------  -------------\n",
            "2019-02-11 14:59:16 | itr #40 | Obtaining samples...\n",
            "2019-02-11 14:59:16 | itr #40 | Obtaining samples for iteration 40...\n"
          ],
          "name": "stdout"
        },
        {
          "output_type": "stream",
          "text": [
            "0% [##############################] 100% | ETA: 00:00:00"
          ],
          "name": "stderr"
        },
        {
          "output_type": "stream",
          "text": [
            "2019-02-11 14:59:16 | itr #40 | Processing samples...\n"
          ],
          "name": "stdout"
        },
        {
          "output_type": "stream",
          "text": [
            "\n",
            "Total time elapsed: 00:00:00\n"
          ],
          "name": "stderr"
        },
        {
          "output_type": "stream",
          "text": [
            "2019-02-11 14:59:17 | itr #40 | Logging diagnostics...\n",
            "2019-02-11 14:59:17 | itr #40 | Optimizing policy...\n",
            "2019-02-11 14:59:17 | itr #40 | Computing loss before\n",
            "2019-02-11 14:59:17 | itr #40 | Computing KL before\n",
            "2019-02-11 14:59:17 | itr #40 | Optimizing\n",
            "2019-02-11 14:59:17 | itr #40 | Start CG optimization: #parameters: 1476, #inputs: 800, #subsample_inputs: 800\n",
            "2019-02-11 14:59:17 | itr #40 | computing loss before\n",
            "2019-02-11 14:59:17 | itr #40 | performing update\n",
            "2019-02-11 14:59:17 | itr #40 | computing gradient\n",
            "2019-02-11 14:59:17 | itr #40 | gradient computed\n",
            "2019-02-11 14:59:17 | itr #40 | computing descent direction\n",
            "2019-02-11 14:59:17 | itr #40 | descent direction computed\n",
            "2019-02-11 14:59:17 | itr #40 | backtrack iters: 2\n",
            "2019-02-11 14:59:17 | itr #40 | computing loss after\n",
            "2019-02-11 14:59:17 | itr #40 | optimization finished\n",
            "2019-02-11 14:59:17 | itr #40 | Computing KL after\n",
            "2019-02-11 14:59:17 | itr #40 | Computing loss after\n",
            "2019-02-11 14:59:17 | itr #40 | Fitting baseline...\n",
            "2019-02-11 14:59:17 | itr #40 | Saving snapshot...\n",
            "2019-02-11 14:59:17 | itr #40 | Saved\n",
            "2019-02-11 14:59:17 | --------------------------  -------------\n",
            "2019-02-11 14:59:17 | AverageDiscountedReturn       6.42181\n",
            "2019-02-11 14:59:17 | AverageReturn                 6.52875\n",
            "2019-02-11 14:59:17 | Baseline/ExplainedVariance    1\n",
            "2019-02-11 14:59:17 | Entropy                       0.0646465\n",
            "2019-02-11 14:59:17 | EnvExecTime                   0.158705\n",
            "2019-02-11 14:59:17 | Iteration                    40\n",
            "2019-02-11 14:59:17 | ItrTime                       0.792556\n",
            "2019-02-11 14:59:17 | MaxReturn                     8\n",
            "2019-02-11 14:59:17 | MinReturn                     5\n",
            "2019-02-11 14:59:17 | NumTrajs                    800\n",
            "2019-02-11 14:59:17 | Perplexity                    1.06678\n",
            "2019-02-11 14:59:17 | PolicyExecTime                0.157492\n",
            "2019-02-11 14:59:17 | ProcessExecTime               0.0361757\n",
            "2019-02-11 14:59:17 | StdReturn                     0.884123\n",
            "2019-02-11 14:59:17 | Time                         34.5426\n",
            "2019-02-11 14:59:17 | policy/Entropy                0.475933\n",
            "2019-02-11 14:59:17 | policy/KL                     0.00585493\n",
            "2019-02-11 14:59:17 | policy/KLBefore               0\n",
            "2019-02-11 14:59:17 | policy/LossAfter             -0.00644984\n",
            "2019-02-11 14:59:17 | policy/LossBefore             3.31402e-08\n",
            "2019-02-11 14:59:17 | policy/dLoss                  0.00644987\n",
            "2019-02-11 14:59:17 | --------------------------  -------------\n",
            "2019-02-11 14:59:17 | itr #41 | Obtaining samples...\n",
            "2019-02-11 14:59:17 | itr #41 | Obtaining samples for iteration 41...\n"
          ],
          "name": "stdout"
        },
        {
          "output_type": "stream",
          "text": [
            "0% [##############################] 100% | ETA: 00:00:00"
          ],
          "name": "stderr"
        },
        {
          "output_type": "stream",
          "text": [
            "2019-02-11 14:59:17 | itr #41 | Processing samples...\n"
          ],
          "name": "stdout"
        },
        {
          "output_type": "stream",
          "text": [
            "\n",
            "Total time elapsed: 00:00:00\n"
          ],
          "name": "stderr"
        },
        {
          "output_type": "stream",
          "text": [
            "2019-02-11 14:59:17 | itr #41 | Logging diagnostics...\n",
            "2019-02-11 14:59:17 | itr #41 | Optimizing policy...\n",
            "2019-02-11 14:59:17 | itr #41 | Computing loss before\n",
            "2019-02-11 14:59:17 | itr #41 | Computing KL before\n",
            "2019-02-11 14:59:17 | itr #41 | Optimizing\n",
            "2019-02-11 14:59:17 | itr #41 | Start CG optimization: #parameters: 1476, #inputs: 800, #subsample_inputs: 800\n",
            "2019-02-11 14:59:17 | itr #41 | computing loss before\n",
            "2019-02-11 14:59:17 | itr #41 | performing update\n",
            "2019-02-11 14:59:17 | itr #41 | computing gradient\n",
            "2019-02-11 14:59:17 | itr #41 | gradient computed\n",
            "2019-02-11 14:59:17 | itr #41 | computing descent direction\n",
            "2019-02-11 14:59:17 | itr #41 | descent direction computed\n",
            "2019-02-11 14:59:17 | itr #41 | backtrack iters: 0\n",
            "2019-02-11 14:59:17 | itr #41 | computing loss after\n",
            "2019-02-11 14:59:17 | itr #41 | optimization finished\n",
            "2019-02-11 14:59:17 | itr #41 | Computing KL after\n",
            "2019-02-11 14:59:18 | itr #41 | Computing loss after\n",
            "2019-02-11 14:59:18 | itr #41 | Fitting baseline...\n",
            "2019-02-11 14:59:18 | itr #41 | Saving snapshot...\n",
            "2019-02-11 14:59:18 | itr #41 | Saved\n",
            "2019-02-11 14:59:18 | --------------------------  -------------\n",
            "2019-02-11 14:59:18 | AverageDiscountedReturn       6.43806\n",
            "2019-02-11 14:59:18 | AverageReturn                 6.545\n",
            "2019-02-11 14:59:18 | Baseline/ExplainedVariance    1\n",
            "2019-02-11 14:59:18 | Entropy                       0.0748452\n",
            "2019-02-11 14:59:18 | EnvExecTime                   0.163302\n",
            "2019-02-11 14:59:18 | Iteration                    41\n",
            "2019-02-11 14:59:18 | ItrTime                       0.732505\n",
            "2019-02-11 14:59:18 | MaxReturn                     8\n",
            "2019-02-11 14:59:18 | MinReturn                     5\n",
            "2019-02-11 14:59:18 | NumTrajs                    800\n",
            "2019-02-11 14:59:18 | Perplexity                    1.07772\n",
            "2019-02-11 14:59:18 | PolicyExecTime                0.167565\n",
            "2019-02-11 14:59:18 | ProcessExecTime               0.0354154\n",
            "2019-02-11 14:59:18 | StdReturn                     0.864855\n",
            "2019-02-11 14:59:18 | Time                         35.2961\n",
            "2019-02-11 14:59:18 | policy/Entropy                0.473249\n",
            "2019-02-11 14:59:18 | policy/KL                     0.00897656\n",
            "2019-02-11 14:59:18 | policy/KLBefore               0\n",
            "2019-02-11 14:59:18 | policy/LossAfter             -0.00197772\n",
            "2019-02-11 14:59:18 | policy/LossBefore            -1.09673e-08\n",
            "2019-02-11 14:59:18 | policy/dLoss                  0.00197771\n",
            "2019-02-11 14:59:18 | --------------------------  -------------\n",
            "2019-02-11 14:59:18 | itr #42 | Obtaining samples...\n",
            "2019-02-11 14:59:18 | itr #42 | Obtaining samples for iteration 42...\n"
          ],
          "name": "stdout"
        },
        {
          "output_type": "stream",
          "text": [
            "0% [##############################] 100% | ETA: 00:00:00"
          ],
          "name": "stderr"
        },
        {
          "output_type": "stream",
          "text": [
            "2019-02-11 14:59:18 | itr #42 | Processing samples...\n"
          ],
          "name": "stdout"
        },
        {
          "output_type": "stream",
          "text": [
            "\n",
            "Total time elapsed: 00:00:00\n"
          ],
          "name": "stderr"
        },
        {
          "output_type": "stream",
          "text": [
            "2019-02-11 14:59:18 | itr #42 | Logging diagnostics...\n",
            "2019-02-11 14:59:18 | itr #42 | Optimizing policy...\n",
            "2019-02-11 14:59:18 | itr #42 | Computing loss before\n",
            "2019-02-11 14:59:18 | itr #42 | Computing KL before\n",
            "2019-02-11 14:59:18 | itr #42 | Optimizing\n",
            "2019-02-11 14:59:18 | itr #42 | Start CG optimization: #parameters: 1476, #inputs: 800, #subsample_inputs: 800\n",
            "2019-02-11 14:59:18 | itr #42 | computing loss before\n",
            "2019-02-11 14:59:18 | itr #42 | performing update\n",
            "2019-02-11 14:59:18 | itr #42 | computing gradient\n",
            "2019-02-11 14:59:18 | itr #42 | gradient computed\n",
            "2019-02-11 14:59:18 | itr #42 | computing descent direction\n",
            "2019-02-11 14:59:18 | itr #42 | descent direction computed\n",
            "2019-02-11 14:59:18 | itr #42 | backtrack iters: 0\n",
            "2019-02-11 14:59:18 | itr #42 | computing loss after\n",
            "2019-02-11 14:59:18 | itr #42 | optimization finished\n",
            "2019-02-11 14:59:18 | itr #42 | Computing KL after\n",
            "2019-02-11 14:59:18 | itr #42 | Computing loss after\n",
            "2019-02-11 14:59:18 | itr #42 | Fitting baseline...\n",
            "2019-02-11 14:59:18 | itr #42 | Saving snapshot...\n",
            "2019-02-11 14:59:18 | itr #42 | Saved\n",
            "2019-02-11 14:59:18 | --------------------------  -------------\n",
            "2019-02-11 14:59:18 | AverageDiscountedReturn       6.4098\n",
            "2019-02-11 14:59:18 | AverageReturn                 6.51625\n",
            "2019-02-11 14:59:18 | Baseline/ExplainedVariance    1\n",
            "2019-02-11 14:59:18 | Entropy                       0.0733391\n",
            "2019-02-11 14:59:18 | EnvExecTime                   0.150835\n",
            "2019-02-11 14:59:18 | Iteration                    42\n",
            "2019-02-11 14:59:18 | ItrTime                       0.730025\n",
            "2019-02-11 14:59:18 | MaxReturn                     8\n",
            "2019-02-11 14:59:18 | MinReturn                     5\n",
            "2019-02-11 14:59:18 | NumTrajs                    800\n",
            "2019-02-11 14:59:18 | Perplexity                    1.0761\n",
            "2019-02-11 14:59:18 | PolicyExecTime                0.174095\n",
            "2019-02-11 14:59:18 | ProcessExecTime               0.0312457\n",
            "2019-02-11 14:59:18 | StdReturn                     0.842458\n",
            "2019-02-11 14:59:18 | Time                         36.0754\n",
            "2019-02-11 14:59:18 | policy/Entropy                0.474547\n",
            "2019-02-11 14:59:18 | policy/KL                     0.00748838\n",
            "2019-02-11 14:59:18 | policy/KLBefore               0\n",
            "2019-02-11 14:59:18 | policy/LossAfter             -0.00120309\n",
            "2019-02-11 14:59:18 | policy/LossBefore             2.70009e-08\n",
            "2019-02-11 14:59:18 | policy/dLoss                  0.00120312\n",
            "2019-02-11 14:59:18 | --------------------------  -------------\n",
            "2019-02-11 14:59:18 | itr #43 | Obtaining samples...\n",
            "2019-02-11 14:59:18 | itr #43 | Obtaining samples for iteration 43...\n"
          ],
          "name": "stdout"
        },
        {
          "output_type": "stream",
          "text": [
            "0% [##############################] 100% | ETA: 00:00:00"
          ],
          "name": "stderr"
        },
        {
          "output_type": "stream",
          "text": [
            "2019-02-11 14:59:19 | itr #43 | Processing samples...\n"
          ],
          "name": "stdout"
        },
        {
          "output_type": "stream",
          "text": [
            "\n",
            "Total time elapsed: 00:00:00\n"
          ],
          "name": "stderr"
        },
        {
          "output_type": "stream",
          "text": [
            "2019-02-11 14:59:19 | itr #43 | Logging diagnostics...\n",
            "2019-02-11 14:59:19 | itr #43 | Optimizing policy...\n",
            "2019-02-11 14:59:19 | itr #43 | Computing loss before\n",
            "2019-02-11 14:59:19 | itr #43 | Computing KL before\n",
            "2019-02-11 14:59:19 | itr #43 | Optimizing\n",
            "2019-02-11 14:59:19 | itr #43 | Start CG optimization: #parameters: 1476, #inputs: 800, #subsample_inputs: 800\n",
            "2019-02-11 14:59:19 | itr #43 | computing loss before\n",
            "2019-02-11 14:59:19 | itr #43 | performing update\n",
            "2019-02-11 14:59:19 | itr #43 | computing gradient\n",
            "2019-02-11 14:59:19 | itr #43 | gradient computed\n",
            "2019-02-11 14:59:19 | itr #43 | computing descent direction\n",
            "2019-02-11 14:59:19 | itr #43 | descent direction computed\n",
            "2019-02-11 14:59:19 | itr #43 | backtrack iters: 0\n",
            "2019-02-11 14:59:19 | itr #43 | computing loss after\n",
            "2019-02-11 14:59:19 | itr #43 | optimization finished\n",
            "2019-02-11 14:59:19 | itr #43 | Computing KL after\n",
            "2019-02-11 14:59:19 | itr #43 | Computing loss after\n",
            "2019-02-11 14:59:19 | itr #43 | Fitting baseline...\n",
            "2019-02-11 14:59:19 | itr #43 | Saving snapshot...\n",
            "2019-02-11 14:59:19 | itr #43 | Saved\n",
            "2019-02-11 14:59:19 | --------------------------  -------------\n",
            "2019-02-11 14:59:19 | AverageDiscountedReturn       6.36034\n",
            "2019-02-11 14:59:19 | AverageReturn                 6.46625\n",
            "2019-02-11 14:59:19 | Baseline/ExplainedVariance    1\n",
            "2019-02-11 14:59:19 | Entropy                       0.0626166\n",
            "2019-02-11 14:59:19 | EnvExecTime                   0.159601\n",
            "2019-02-11 14:59:19 | Iteration                    43\n",
            "2019-02-11 14:59:19 | ItrTime                       0.695399\n",
            "2019-02-11 14:59:19 | MaxReturn                     8\n",
            "2019-02-11 14:59:19 | MinReturn                     5\n",
            "2019-02-11 14:59:19 | NumTrajs                    800\n",
            "2019-02-11 14:59:19 | Perplexity                    1.06462\n",
            "2019-02-11 14:59:19 | PolicyExecTime                0.169883\n",
            "2019-02-11 14:59:19 | ProcessExecTime               0.0309401\n",
            "2019-02-11 14:59:19 | StdReturn                     0.835979\n",
            "2019-02-11 14:59:19 | Time                         36.8155\n",
            "2019-02-11 14:59:19 | policy/Entropy                0.479782\n",
            "2019-02-11 14:59:19 | policy/KL                     0.0073329\n",
            "2019-02-11 14:59:19 | policy/KLBefore               0\n",
            "2019-02-11 14:59:19 | policy/LossAfter             -0.000855517\n",
            "2019-02-11 14:59:19 | policy/LossBefore            -1.20401e-08\n",
            "2019-02-11 14:59:19 | policy/dLoss                  0.000855505\n",
            "2019-02-11 14:59:19 | --------------------------  -------------\n",
            "2019-02-11 14:59:19 | itr #44 | Obtaining samples...\n",
            "2019-02-11 14:59:19 | itr #44 | Obtaining samples for iteration 44...\n"
          ],
          "name": "stdout"
        },
        {
          "output_type": "stream",
          "text": [
            "0% [##############################] 100% | ETA: 00:00:00"
          ],
          "name": "stderr"
        },
        {
          "output_type": "stream",
          "text": [
            "2019-02-11 14:59:20 | itr #44 | Processing samples...\n"
          ],
          "name": "stdout"
        },
        {
          "output_type": "stream",
          "text": [
            "\n",
            "Total time elapsed: 00:00:00\n"
          ],
          "name": "stderr"
        },
        {
          "output_type": "stream",
          "text": [
            "2019-02-11 14:59:20 | itr #44 | Logging diagnostics...\n",
            "2019-02-11 14:59:20 | itr #44 | Optimizing policy...\n",
            "2019-02-11 14:59:20 | itr #44 | Computing loss before\n",
            "2019-02-11 14:59:20 | itr #44 | Computing KL before\n",
            "2019-02-11 14:59:20 | itr #44 | Optimizing\n",
            "2019-02-11 14:59:20 | itr #44 | Start CG optimization: #parameters: 1476, #inputs: 800, #subsample_inputs: 800\n",
            "2019-02-11 14:59:20 | itr #44 | computing loss before\n",
            "2019-02-11 14:59:20 | itr #44 | performing update\n",
            "2019-02-11 14:59:20 | itr #44 | computing gradient\n",
            "2019-02-11 14:59:20 | itr #44 | gradient computed\n",
            "2019-02-11 14:59:20 | itr #44 | computing descent direction\n",
            "2019-02-11 14:59:20 | itr #44 | descent direction computed\n",
            "2019-02-11 14:59:20 | itr #44 | backtrack iters: 1\n",
            "2019-02-11 14:59:20 | itr #44 | computing loss after\n",
            "2019-02-11 14:59:20 | itr #44 | optimization finished\n",
            "2019-02-11 14:59:20 | itr #44 | Computing KL after\n",
            "2019-02-11 14:59:20 | itr #44 | Computing loss after\n",
            "2019-02-11 14:59:20 | itr #44 | Fitting baseline...\n",
            "2019-02-11 14:59:20 | itr #44 | Saving snapshot...\n",
            "2019-02-11 14:59:20 | itr #44 | Saved\n",
            "2019-02-11 14:59:20 | --------------------------  -------------\n",
            "2019-02-11 14:59:20 | AverageDiscountedReturn       6.38105\n",
            "2019-02-11 14:59:20 | AverageReturn                 6.4875\n",
            "2019-02-11 14:59:20 | Baseline/ExplainedVariance    1\n",
            "2019-02-11 14:59:20 | Entropy                       0.0516479\n",
            "2019-02-11 14:59:20 | EnvExecTime                   0.172398\n",
            "2019-02-11 14:59:20 | Iteration                    44\n",
            "2019-02-11 14:59:20 | ItrTime                       0.728956\n",
            "2019-02-11 14:59:20 | MaxReturn                     8\n",
            "2019-02-11 14:59:20 | MinReturn                     5\n",
            "2019-02-11 14:59:20 | NumTrajs                    800\n",
            "2019-02-11 14:59:20 | Perplexity                    1.053\n",
            "2019-02-11 14:59:20 | PolicyExecTime                0.175441\n",
            "2019-02-11 14:59:20 | ProcessExecTime               0.0328817\n",
            "2019-02-11 14:59:20 | StdReturn                     0.875982\n",
            "2019-02-11 14:59:20 | Time                         37.5698\n",
            "2019-02-11 14:59:20 | policy/Entropy                0.478645\n",
            "2019-02-11 14:59:20 | policy/KL                     0.00813523\n",
            "2019-02-11 14:59:20 | policy/KLBefore               0\n",
            "2019-02-11 14:59:20 | policy/LossAfter             -0.00186869\n",
            "2019-02-11 14:59:20 | policy/LossBefore            -2.50936e-08\n",
            "2019-02-11 14:59:20 | policy/dLoss                  0.00186866\n",
            "2019-02-11 14:59:20 | --------------------------  -------------\n",
            "2019-02-11 14:59:20 | itr #45 | Obtaining samples...\n",
            "2019-02-11 14:59:20 | itr #45 | Obtaining samples for iteration 45...\n"
          ],
          "name": "stdout"
        },
        {
          "output_type": "stream",
          "text": [
            "0% [##############################] 100% | ETA: 00:00:00"
          ],
          "name": "stderr"
        },
        {
          "output_type": "stream",
          "text": [
            "2019-02-11 14:59:20 | itr #45 | Processing samples...\n"
          ],
          "name": "stdout"
        },
        {
          "output_type": "stream",
          "text": [
            "\n",
            "Total time elapsed: 00:00:00\n"
          ],
          "name": "stderr"
        },
        {
          "output_type": "stream",
          "text": [
            "2019-02-11 14:59:20 | itr #45 | Logging diagnostics...\n",
            "2019-02-11 14:59:20 | itr #45 | Optimizing policy...\n",
            "2019-02-11 14:59:20 | itr #45 | Computing loss before\n",
            "2019-02-11 14:59:20 | itr #45 | Computing KL before\n",
            "2019-02-11 14:59:20 | itr #45 | Optimizing\n",
            "2019-02-11 14:59:20 | itr #45 | Start CG optimization: #parameters: 1476, #inputs: 800, #subsample_inputs: 800\n",
            "2019-02-11 14:59:20 | itr #45 | computing loss before\n",
            "2019-02-11 14:59:20 | itr #45 | performing update\n",
            "2019-02-11 14:59:20 | itr #45 | computing gradient\n",
            "2019-02-11 14:59:20 | itr #45 | gradient computed\n",
            "2019-02-11 14:59:20 | itr #45 | computing descent direction\n",
            "2019-02-11 14:59:20 | itr #45 | descent direction computed\n",
            "2019-02-11 14:59:21 | itr #45 | backtrack iters: 0\n",
            "2019-02-11 14:59:21 | itr #45 | computing loss after\n",
            "2019-02-11 14:59:21 | itr #45 | optimization finished\n",
            "2019-02-11 14:59:21 | itr #45 | Computing KL after\n",
            "2019-02-11 14:59:21 | itr #45 | Computing loss after\n",
            "2019-02-11 14:59:21 | itr #45 | Fitting baseline...\n",
            "2019-02-11 14:59:21 | itr #45 | Saving snapshot...\n",
            "2019-02-11 14:59:21 | itr #45 | Saved\n",
            "2019-02-11 14:59:21 | --------------------------  ------------\n",
            "2019-02-11 14:59:21 | AverageDiscountedReturn       6.37847\n",
            "2019-02-11 14:59:21 | AverageReturn                 6.485\n",
            "2019-02-11 14:59:21 | Baseline/ExplainedVariance    1\n",
            "2019-02-11 14:59:21 | Entropy                       0.0580086\n",
            "2019-02-11 14:59:21 | EnvExecTime                   0.151634\n",
            "2019-02-11 14:59:21 | Iteration                    45\n",
            "2019-02-11 14:59:21 | ItrTime                       0.719312\n",
            "2019-02-11 14:59:21 | MaxReturn                     8\n",
            "2019-02-11 14:59:21 | MinReturn                     5\n",
            "2019-02-11 14:59:21 | NumTrajs                    800\n",
            "2019-02-11 14:59:21 | Perplexity                    1.05972\n",
            "2019-02-11 14:59:21 | PolicyExecTime                0.166695\n",
            "2019-02-11 14:59:21 | ProcessExecTime               0.0485861\n",
            "2019-02-11 14:59:21 | StdReturn                     0.887285\n",
            "2019-02-11 14:59:21 | Time                         38.3085\n",
            "2019-02-11 14:59:21 | policy/Entropy                0.479614\n",
            "2019-02-11 14:59:21 | policy/KL                     0.00872128\n",
            "2019-02-11 14:59:21 | policy/KLBefore               0\n",
            "2019-02-11 14:59:21 | policy/LossAfter             -0.00197303\n",
            "2019-02-11 14:59:21 | policy/LossBefore            -3.6478e-08\n",
            "2019-02-11 14:59:21 | policy/dLoss                  0.00197299\n",
            "2019-02-11 14:59:21 | --------------------------  ------------\n",
            "2019-02-11 14:59:21 | itr #46 | Obtaining samples...\n",
            "2019-02-11 14:59:21 | itr #46 | Obtaining samples for iteration 46...\n"
          ],
          "name": "stdout"
        },
        {
          "output_type": "stream",
          "text": [
            "0% [##############################] 100% | ETA: 00:00:00"
          ],
          "name": "stderr"
        },
        {
          "output_type": "stream",
          "text": [
            "2019-02-11 14:59:21 | itr #46 | Processing samples...\n"
          ],
          "name": "stdout"
        },
        {
          "output_type": "stream",
          "text": [
            "\n",
            "Total time elapsed: 00:00:00\n"
          ],
          "name": "stderr"
        },
        {
          "output_type": "stream",
          "text": [
            "2019-02-11 14:59:21 | itr #46 | Logging diagnostics...\n",
            "2019-02-11 14:59:21 | itr #46 | Optimizing policy...\n",
            "2019-02-11 14:59:21 | itr #46 | Computing loss before\n",
            "2019-02-11 14:59:21 | itr #46 | Computing KL before\n",
            "2019-02-11 14:59:21 | itr #46 | Optimizing\n",
            "2019-02-11 14:59:21 | itr #46 | Start CG optimization: #parameters: 1476, #inputs: 800, #subsample_inputs: 800\n",
            "2019-02-11 14:59:21 | itr #46 | computing loss before\n",
            "2019-02-11 14:59:21 | itr #46 | performing update\n",
            "2019-02-11 14:59:21 | itr #46 | computing gradient\n",
            "2019-02-11 14:59:21 | itr #46 | gradient computed\n",
            "2019-02-11 14:59:21 | itr #46 | computing descent direction\n",
            "2019-02-11 14:59:21 | itr #46 | descent direction computed\n",
            "2019-02-11 14:59:21 | itr #46 | backtrack iters: 0\n",
            "2019-02-11 14:59:21 | itr #46 | computing loss after\n",
            "2019-02-11 14:59:21 | itr #46 | optimization finished\n",
            "2019-02-11 14:59:21 | itr #46 | Computing KL after\n",
            "2019-02-11 14:59:21 | itr #46 | Computing loss after\n",
            "2019-02-11 14:59:21 | itr #46 | Fitting baseline...\n",
            "2019-02-11 14:59:21 | itr #46 | Saving snapshot...\n",
            "2019-02-11 14:59:21 | itr #46 | Saved\n",
            "2019-02-11 14:59:21 | --------------------------  -------------\n",
            "2019-02-11 14:59:21 | AverageDiscountedReturn       6.38749\n",
            "2019-02-11 14:59:21 | AverageReturn                 6.49375\n",
            "2019-02-11 14:59:21 | Baseline/ExplainedVariance    1\n",
            "2019-02-11 14:59:21 | Entropy                       0.0468329\n",
            "2019-02-11 14:59:21 | EnvExecTime                   0.166063\n",
            "2019-02-11 14:59:21 | Iteration                    46\n",
            "2019-02-11 14:59:21 | ItrTime                       0.703475\n",
            "2019-02-11 14:59:21 | MaxReturn                     8\n",
            "2019-02-11 14:59:21 | MinReturn                     5\n",
            "2019-02-11 14:59:21 | NumTrajs                    800\n",
            "2019-02-11 14:59:21 | Perplexity                    1.04795\n",
            "2019-02-11 14:59:21 | PolicyExecTime                0.158898\n",
            "2019-02-11 14:59:21 | ProcessExecTime               0.0366628\n",
            "2019-02-11 14:59:21 | StdReturn                     0.845554\n",
            "2019-02-11 14:59:21 | Time                         39.0349\n",
            "2019-02-11 14:59:21 | policy/Entropy                0.484712\n",
            "2019-02-11 14:59:21 | policy/KL                     0.00513772\n",
            "2019-02-11 14:59:21 | policy/KLBefore               0\n",
            "2019-02-11 14:59:21 | policy/LossAfter             -0.000752372\n",
            "2019-02-11 14:59:21 | policy/LossBefore             2.98023e-09\n",
            "2019-02-11 14:59:21 | policy/dLoss                  0.000752375\n",
            "2019-02-11 14:59:21 | --------------------------  -------------\n",
            "2019-02-11 14:59:21 | itr #47 | Obtaining samples...\n",
            "2019-02-11 14:59:21 | itr #47 | Obtaining samples for iteration 47...\n"
          ],
          "name": "stdout"
        },
        {
          "output_type": "stream",
          "text": [
            "0% [##############################] 100% | ETA: 00:00:00"
          ],
          "name": "stderr"
        },
        {
          "output_type": "stream",
          "text": [
            "2019-02-11 14:59:22 | itr #47 | Processing samples...\n"
          ],
          "name": "stdout"
        },
        {
          "output_type": "stream",
          "text": [
            "\n",
            "Total time elapsed: 00:00:00\n"
          ],
          "name": "stderr"
        },
        {
          "output_type": "stream",
          "text": [
            "2019-02-11 14:59:22 | itr #47 | Logging diagnostics...\n",
            "2019-02-11 14:59:22 | itr #47 | Optimizing policy...\n",
            "2019-02-11 14:59:22 | itr #47 | Computing loss before\n",
            "2019-02-11 14:59:22 | itr #47 | Computing KL before\n",
            "2019-02-11 14:59:22 | itr #47 | Optimizing\n",
            "2019-02-11 14:59:22 | itr #47 | Start CG optimization: #parameters: 1476, #inputs: 800, #subsample_inputs: 800\n",
            "2019-02-11 14:59:22 | itr #47 | computing loss before\n",
            "2019-02-11 14:59:22 | itr #47 | performing update\n",
            "2019-02-11 14:59:22 | itr #47 | computing gradient\n",
            "2019-02-11 14:59:22 | itr #47 | gradient computed\n",
            "2019-02-11 14:59:22 | itr #47 | computing descent direction\n",
            "2019-02-11 14:59:22 | itr #47 | descent direction computed\n",
            "2019-02-11 14:59:22 | itr #47 | backtrack iters: 2\n",
            "2019-02-11 14:59:22 | itr #47 | computing loss after\n",
            "2019-02-11 14:59:22 | itr #47 | optimization finished\n",
            "2019-02-11 14:59:22 | itr #47 | Computing KL after\n",
            "2019-02-11 14:59:22 | itr #47 | Computing loss after\n",
            "2019-02-11 14:59:22 | itr #47 | Fitting baseline...\n",
            "2019-02-11 14:59:22 | itr #47 | Saving snapshot...\n",
            "2019-02-11 14:59:22 | itr #47 | Saved\n",
            "2019-02-11 14:59:22 | --------------------------  -------------\n",
            "2019-02-11 14:59:22 | AverageDiscountedReturn       6.38247\n",
            "2019-02-11 14:59:22 | AverageReturn                 6.48875\n",
            "2019-02-11 14:59:22 | Baseline/ExplainedVariance    1\n",
            "2019-02-11 14:59:22 | Entropy                       0.0354615\n",
            "2019-02-11 14:59:22 | EnvExecTime                   0.155715\n",
            "2019-02-11 14:59:22 | Iteration                    47\n",
            "2019-02-11 14:59:22 | ItrTime                       0.782618\n",
            "2019-02-11 14:59:22 | MaxReturn                     8\n",
            "2019-02-11 14:59:22 | MinReturn                     5\n",
            "2019-02-11 14:59:22 | NumTrajs                    800\n",
            "2019-02-11 14:59:22 | Perplexity                    1.0361\n",
            "2019-02-11 14:59:22 | PolicyExecTime                0.166856\n",
            "2019-02-11 14:59:22 | ProcessExecTime               0.0330381\n",
            "2019-02-11 14:59:22 | StdReturn                     0.854326\n",
            "2019-02-11 14:59:22 | Time                         39.858\n",
            "2019-02-11 14:59:22 | policy/Entropy                0.482925\n",
            "2019-02-11 14:59:22 | policy/KL                     0.00774147\n",
            "2019-02-11 14:59:22 | policy/KLBefore               0\n",
            "2019-02-11 14:59:22 | policy/LossAfter             -0.00465536\n",
            "2019-02-11 14:59:22 | policy/LossBefore            -2.31266e-08\n",
            "2019-02-11 14:59:22 | policy/dLoss                  0.00465534\n",
            "2019-02-11 14:59:22 | --------------------------  -------------\n",
            "2019-02-11 14:59:22 | itr #48 | Obtaining samples...\n",
            "2019-02-11 14:59:22 | itr #48 | Obtaining samples for iteration 48...\n"
          ],
          "name": "stdout"
        },
        {
          "output_type": "stream",
          "text": [
            "0% [##############################] 100% | ETA: 00:00:00"
          ],
          "name": "stderr"
        },
        {
          "output_type": "stream",
          "text": [
            "2019-02-11 14:59:23 | itr #48 | Processing samples...\n"
          ],
          "name": "stdout"
        },
        {
          "output_type": "stream",
          "text": [
            "\n",
            "Total time elapsed: 00:00:00\n"
          ],
          "name": "stderr"
        },
        {
          "output_type": "stream",
          "text": [
            "2019-02-11 14:59:23 | itr #48 | Logging diagnostics...\n",
            "2019-02-11 14:59:23 | itr #48 | Optimizing policy...\n",
            "2019-02-11 14:59:23 | itr #48 | Computing loss before\n",
            "2019-02-11 14:59:23 | itr #48 | Computing KL before\n",
            "2019-02-11 14:59:23 | itr #48 | Optimizing\n",
            "2019-02-11 14:59:23 | itr #48 | Start CG optimization: #parameters: 1476, #inputs: 800, #subsample_inputs: 800\n",
            "2019-02-11 14:59:23 | itr #48 | computing loss before\n",
            "2019-02-11 14:59:23 | itr #48 | performing update\n",
            "2019-02-11 14:59:23 | itr #48 | computing gradient\n",
            "2019-02-11 14:59:23 | itr #48 | gradient computed\n",
            "2019-02-11 14:59:23 | itr #48 | computing descent direction\n",
            "2019-02-11 14:59:23 | itr #48 | descent direction computed\n",
            "2019-02-11 14:59:23 | itr #48 | backtrack iters: 0\n",
            "2019-02-11 14:59:23 | itr #48 | computing loss after\n",
            "2019-02-11 14:59:23 | itr #48 | optimization finished\n",
            "2019-02-11 14:59:23 | itr #48 | Computing KL after\n",
            "2019-02-11 14:59:23 | itr #48 | Computing loss after\n",
            "2019-02-11 14:59:23 | itr #48 | Fitting baseline...\n",
            "2019-02-11 14:59:23 | itr #48 | Saving snapshot...\n",
            "2019-02-11 14:59:23 | itr #48 | Saved\n",
            "2019-02-11 14:59:23 | --------------------------  -------------\n",
            "2019-02-11 14:59:23 | AverageDiscountedReturn       6.36144\n",
            "2019-02-11 14:59:23 | AverageReturn                 6.4675\n",
            "2019-02-11 14:59:23 | Baseline/ExplainedVariance    1\n",
            "2019-02-11 14:59:23 | Entropy                       0.0493443\n",
            "2019-02-11 14:59:23 | EnvExecTime                   0.154934\n",
            "2019-02-11 14:59:23 | Iteration                    48\n",
            "2019-02-11 14:59:23 | ItrTime                       0.674473\n",
            "2019-02-11 14:59:23 | MaxReturn                     8\n",
            "2019-02-11 14:59:23 | MinReturn                     5\n",
            "2019-02-11 14:59:23 | NumTrajs                    800\n",
            "2019-02-11 14:59:23 | Perplexity                    1.05058\n",
            "2019-02-11 14:59:23 | PolicyExecTime                0.161472\n",
            "2019-02-11 14:59:23 | ProcessExecTime               0.0365357\n",
            "2019-02-11 14:59:23 | StdReturn                     0.852317\n",
            "2019-02-11 14:59:23 | Time                         40.5588\n",
            "2019-02-11 14:59:23 | policy/Entropy                0.479901\n",
            "2019-02-11 14:59:23 | policy/KL                     0.00864111\n",
            "2019-02-11 14:59:23 | policy/KLBefore               0\n",
            "2019-02-11 14:59:23 | policy/LossAfter             -0.00291931\n",
            "2019-02-11 14:59:23 | policy/LossBefore             2.14577e-09\n",
            "2019-02-11 14:59:23 | policy/dLoss                  0.00291931\n",
            "2019-02-11 14:59:23 | --------------------------  -------------\n",
            "2019-02-11 14:59:23 | itr #49 | Obtaining samples...\n",
            "2019-02-11 14:59:23 | itr #49 | Obtaining samples for iteration 49...\n"
          ],
          "name": "stdout"
        },
        {
          "output_type": "stream",
          "text": [
            "0% [##############################] 100% | ETA: 00:00:00"
          ],
          "name": "stderr"
        },
        {
          "output_type": "stream",
          "text": [
            "2019-02-11 14:59:23 | itr #49 | Processing samples...\n"
          ],
          "name": "stdout"
        },
        {
          "output_type": "stream",
          "text": [
            "\n",
            "Total time elapsed: 00:00:00\n"
          ],
          "name": "stderr"
        },
        {
          "output_type": "stream",
          "text": [
            "2019-02-11 14:59:23 | itr #49 | Logging diagnostics...\n",
            "2019-02-11 14:59:23 | itr #49 | Optimizing policy...\n",
            "2019-02-11 14:59:23 | itr #49 | Computing loss before\n",
            "2019-02-11 14:59:23 | itr #49 | Computing KL before\n",
            "2019-02-11 14:59:23 | itr #49 | Optimizing\n",
            "2019-02-11 14:59:23 | itr #49 | Start CG optimization: #parameters: 1476, #inputs: 800, #subsample_inputs: 800\n",
            "2019-02-11 14:59:23 | itr #49 | computing loss before\n",
            "2019-02-11 14:59:23 | itr #49 | performing update\n",
            "2019-02-11 14:59:23 | itr #49 | computing gradient\n",
            "2019-02-11 14:59:23 | itr #49 | gradient computed\n",
            "2019-02-11 14:59:23 | itr #49 | computing descent direction\n",
            "2019-02-11 14:59:23 | itr #49 | descent direction computed\n",
            "2019-02-11 14:59:23 | itr #49 | backtrack iters: 0\n",
            "2019-02-11 14:59:23 | itr #49 | computing loss after\n",
            "2019-02-11 14:59:23 | itr #49 | optimization finished\n",
            "2019-02-11 14:59:23 | itr #49 | Computing KL after\n",
            "2019-02-11 14:59:23 | itr #49 | Computing loss after\n",
            "2019-02-11 14:59:24 | itr #49 | Fitting baseline...\n",
            "2019-02-11 14:59:24 | itr #49 | Saving snapshot...\n",
            "2019-02-11 14:59:24 | itr #49 | Saved\n",
            "2019-02-11 14:59:24 | --------------------------  -------------\n",
            "2019-02-11 14:59:24 | AverageDiscountedReturn       6.36758\n",
            "2019-02-11 14:59:24 | AverageReturn                 6.47375\n",
            "2019-02-11 14:59:24 | Baseline/ExplainedVariance    1\n",
            "2019-02-11 14:59:24 | Entropy                       0.0480235\n",
            "2019-02-11 14:59:24 | EnvExecTime                   0.144074\n",
            "2019-02-11 14:59:24 | Iteration                    49\n",
            "2019-02-11 14:59:24 | ItrTime                       0.655857\n",
            "2019-02-11 14:59:24 | MaxReturn                     8\n",
            "2019-02-11 14:59:24 | MinReturn                     5\n",
            "2019-02-11 14:59:24 | NumTrajs                    800\n",
            "2019-02-11 14:59:24 | Perplexity                    1.0492\n",
            "2019-02-11 14:59:24 | PolicyExecTime                0.161729\n",
            "2019-02-11 14:59:24 | ProcessExecTime               0.0308356\n",
            "2019-02-11 14:59:24 | StdReturn                     0.858377\n",
            "2019-02-11 14:59:24 | Time                         41.2773\n",
            "2019-02-11 14:59:24 | policy/Entropy                0.483121\n",
            "2019-02-11 14:59:24 | policy/KL                     0.00775972\n",
            "2019-02-11 14:59:24 | policy/KLBefore               0\n",
            "2019-02-11 14:59:24 | policy/LossAfter             -0.000656899\n",
            "2019-02-11 14:59:24 | policy/LossBefore            -2.76566e-08\n",
            "2019-02-11 14:59:24 | policy/dLoss                  0.000656872\n",
            "2019-02-11 14:59:24 | --------------------------  -------------\n"
          ],
          "name": "stdout"
        },
        {
          "output_type": "execute_result",
          "data": {
            "text/plain": [
              "6.47375"
            ]
          },
          "metadata": {
            "tags": []
          },
          "execution_count": 12
        }
      ]
    },
    {
      "metadata": {
        "id": "X07F8BVO7cOq",
        "colab_type": "code",
        "colab": {}
      },
      "cell_type": "code",
      "source": [
        "# list of water elements\n",
        "wq_elements = [\"TDS\", \"hardness\", \"bacteria\"]"
      ],
      "execution_count": 0,
      "outputs": []
    },
    {
      "metadata": {
        "id": "zEXyy1NhiCOB",
        "colab_type": "code",
        "outputId": "4bbc2b46-7f1b-4bac-d571-4006488151ea",
        "colab": {
          "base_uri": "https://localhost:8080/",
          "height": 153
        }
      },
      "cell_type": "code",
      "source": [
        "# utility function for experiments below\n",
        "def wqi_to_watersample(wqi):\n",
        "  # https://stackoverflow.com/a/699891\n",
        "  #x = \"{0:b}\".format(wqi)\n",
        "  x = format(wqi, '03b')\n",
        "  x = list(x)\n",
        "  x = x[::-1] # reverse FIXME!?\n",
        "  #print(x)\n",
        "  x = [bool(int(y)) for y in x]\n",
        "  x = dict(zip(wq_elements,x))\n",
        "  return x\n",
        "\n",
        "# test\n",
        "for i in range(8):\n",
        "  print(i, wqi_to_watersample(i))\n"
      ],
      "execution_count": 14,
      "outputs": [
        {
          "output_type": "stream",
          "text": [
            "0 {'TDS': False, 'hardness': False, 'bacteria': False}\n",
            "1 {'TDS': True, 'hardness': False, 'bacteria': False}\n",
            "2 {'TDS': False, 'hardness': True, 'bacteria': False}\n",
            "3 {'TDS': True, 'hardness': True, 'bacteria': False}\n",
            "4 {'TDS': False, 'hardness': False, 'bacteria': True}\n",
            "5 {'TDS': True, 'hardness': False, 'bacteria': True}\n",
            "6 {'TDS': False, 'hardness': True, 'bacteria': True}\n",
            "7 {'TDS': True, 'hardness': True, 'bacteria': True}\n"
          ],
          "name": "stdout"
        }
      ]
    },
    {
      "metadata": {
        "id": "5M61vZ-LFRUs",
        "colab_type": "code",
        "outputId": "5520f730-a613-47e8-ec35-def85b5ae3e2",
        "colab": {
          "base_uri": "https://localhost:8080/",
          "height": 266
        }
      },
      "cell_type": "code",
      "source": [
        "# Utility function for experiments below\n",
        "\n",
        "# convert to dicts for readability\n",
        "#wtp_elements = [None, \"TDS\", \"hardness\", \"bacteria\"]\n",
        "# rename the elements for readability\n",
        "wtp_elements = [\"pipe\", \"sand filter\", \"softener\", \"UV\"]\n",
        "\n",
        "import pandas as pd\n",
        "\n",
        "def convert_results_to_df(obs_all, act_all, out_all, rew_all):\n",
        "    df = []\n",
        "    for i in range(len(obs_all)):\n",
        "      in_i = wqi_to_watersample(obs_all[i])\n",
        "      wtp_i = [wtp_elements[x] for x in act_all[i]]\n",
        "      out_i = wqi_to_watersample(out_all[i])\n",
        "      df.append({\n",
        "          \"in_TDS\": in_i[\"TDS\"],\n",
        "          \"in_hardness\": in_i[\"hardness\"],\n",
        "          \"in_bacteria\": in_i[\"bacteria\"],\n",
        "          \"wtp/1\": wtp_i[0],\n",
        "          \"wtp/2\": wtp_i[1],\n",
        "          \"wtp/3\": wtp_i[2],\n",
        "          \"wtp/4\": wtp_i[3],\n",
        "          \"wtp/5\": wtp_i[4],\n",
        "          \"out_TDS\": out_i[\"TDS\"],\n",
        "          \"out_hardness\": out_i[\"hardness\"],\n",
        "          \"out_bacteria\": out_i[\"bacteria\"],\n",
        "          \"reward\": rew_all[i],\n",
        "      })\n",
        "\n",
        "    # gather results in pandas dataframe for simplicity of viewing\n",
        "    df = pd.DataFrame(df)\n",
        "    df = df[[\n",
        "          \"in_TDS\",\n",
        "          \"in_hardness\",\n",
        "          \"in_bacteria\",\n",
        "          \"wtp/1\",\n",
        "          \"wtp/2\",\n",
        "          \"wtp/3\",\n",
        "          \"wtp/4\",\n",
        "          \"wtp/5\",\n",
        "          \"out_TDS\",\n",
        "          \"out_hardness\",\n",
        "          \"out_bacteria\",\n",
        "          \"reward\",\n",
        "    ]]\n",
        "\n",
        "    df = df.sort_values([\"in_TDS\", \"in_hardness\", \"in_bacteria\", \"reward\"]).set_index([\"in_TDS\", \"in_hardness\", \"in_bacteria\"])\n",
        "    \n",
        "    return df\n",
        "\n",
        "# test\n",
        "print(\"TESTING\")\n",
        "convert_results_to_df([0,1,2], [ [0,1,2,0,0], [0,1,2,0,0], [0,1,2,0,0]], [0,1,2], [0,0,0])"
      ],
      "execution_count": 15,
      "outputs": [
        {
          "output_type": "stream",
          "text": [
            "TESTING\n"
          ],
          "name": "stdout"
        },
        {
          "output_type": "execute_result",
          "data": {
            "text/html": [
              "<div>\n",
              "<style scoped>\n",
              "    .dataframe tbody tr th:only-of-type {\n",
              "        vertical-align: middle;\n",
              "    }\n",
              "\n",
              "    .dataframe tbody tr th {\n",
              "        vertical-align: top;\n",
              "    }\n",
              "\n",
              "    .dataframe thead th {\n",
              "        text-align: right;\n",
              "    }\n",
              "</style>\n",
              "<table border=\"1\" class=\"dataframe\">\n",
              "  <thead>\n",
              "    <tr style=\"text-align: right;\">\n",
              "      <th></th>\n",
              "      <th></th>\n",
              "      <th></th>\n",
              "      <th>wtp/1</th>\n",
              "      <th>wtp/2</th>\n",
              "      <th>wtp/3</th>\n",
              "      <th>wtp/4</th>\n",
              "      <th>wtp/5</th>\n",
              "      <th>out_TDS</th>\n",
              "      <th>out_hardness</th>\n",
              "      <th>out_bacteria</th>\n",
              "      <th>reward</th>\n",
              "    </tr>\n",
              "    <tr>\n",
              "      <th>in_TDS</th>\n",
              "      <th>in_hardness</th>\n",
              "      <th>in_bacteria</th>\n",
              "      <th></th>\n",
              "      <th></th>\n",
              "      <th></th>\n",
              "      <th></th>\n",
              "      <th></th>\n",
              "      <th></th>\n",
              "      <th></th>\n",
              "      <th></th>\n",
              "      <th></th>\n",
              "    </tr>\n",
              "  </thead>\n",
              "  <tbody>\n",
              "    <tr>\n",
              "      <th rowspan=\"2\" valign=\"top\">False</th>\n",
              "      <th>False</th>\n",
              "      <th>False</th>\n",
              "      <td>pipe</td>\n",
              "      <td>sand filter</td>\n",
              "      <td>softener</td>\n",
              "      <td>pipe</td>\n",
              "      <td>pipe</td>\n",
              "      <td>False</td>\n",
              "      <td>False</td>\n",
              "      <td>False</td>\n",
              "      <td>0</td>\n",
              "    </tr>\n",
              "    <tr>\n",
              "      <th>True</th>\n",
              "      <th>False</th>\n",
              "      <td>pipe</td>\n",
              "      <td>sand filter</td>\n",
              "      <td>softener</td>\n",
              "      <td>pipe</td>\n",
              "      <td>pipe</td>\n",
              "      <td>False</td>\n",
              "      <td>True</td>\n",
              "      <td>False</td>\n",
              "      <td>0</td>\n",
              "    </tr>\n",
              "    <tr>\n",
              "      <th>True</th>\n",
              "      <th>False</th>\n",
              "      <th>False</th>\n",
              "      <td>pipe</td>\n",
              "      <td>sand filter</td>\n",
              "      <td>softener</td>\n",
              "      <td>pipe</td>\n",
              "      <td>pipe</td>\n",
              "      <td>True</td>\n",
              "      <td>False</td>\n",
              "      <td>False</td>\n",
              "      <td>0</td>\n",
              "    </tr>\n",
              "  </tbody>\n",
              "</table>\n",
              "</div>"
            ],
            "text/plain": [
              "                               wtp/1        wtp/2     wtp/3 wtp/4 wtp/5  \\\n",
              "in_TDS in_hardness in_bacteria                                            \n",
              "False  False       False        pipe  sand filter  softener  pipe  pipe   \n",
              "       True        False        pipe  sand filter  softener  pipe  pipe   \n",
              "True   False       False        pipe  sand filter  softener  pipe  pipe   \n",
              "\n",
              "                                out_TDS  out_hardness  out_bacteria  reward  \n",
              "in_TDS in_hardness in_bacteria                                               \n",
              "False  False       False          False         False         False       0  \n",
              "       True        False          False          True         False       0  \n",
              "True   False       False           True         False         False       0  "
            ]
          },
          "metadata": {
            "tags": []
          },
          "execution_count": 15
        }
      ]
    },
    {
      "metadata": {
        "id": "VK8TSUApLmEN",
        "colab_type": "text"
      },
      "cell_type": "markdown",
      "source": [
        "# Experiment set 1"
      ]
    },
    {
      "metadata": {
        "id": "XEJhIXJrJFI_",
        "colab_type": "code",
        "outputId": "218b17fd-c3ab-4c1d-9041-1b973ef8be7a",
        "colab": {
          "base_uri": "https://localhost:8080/",
          "height": 51
        }
      },
      "cell_type": "code",
      "source": [
        "\n",
        "n_experiments = 100 # 8 # len(wq_all) # 100\n",
        "obs_all = [None] * n_experiments\n",
        "act_all = [None] * n_experiments\n",
        "rew_all = [None] * n_experiments\n",
        "out_all = [None] * n_experiments\n",
        "\n",
        "print(\"start experiments\")\n",
        "for i in range(n_experiments):\n",
        "  #print(\"experiment \", i+1)\n",
        "\n",
        "  # use random initial states\n",
        "  state_in = env.reset()\n",
        "\n",
        "  # use random initial states\n",
        "  # _ = env.reset()\n",
        "  # obs_initial = i # wq_all[i]\n",
        "  # env.state = i # wq_all[i]\n",
        "  \n",
        "  # start\n",
        "  obs_i = state_in\n",
        "  act_list = []\n",
        "  rew_sum = 0\n",
        "  for j in range(5): # env.n_elements\n",
        "    #action = env.action_space.sample()\n",
        "    act_i, _ = policy.get_action(obs_i)\n",
        "    act_list.append(act_i)\n",
        "    obs_i, rew_i, done, _ = env.step(act_i)\n",
        "    rew_sum += rew_i\n",
        "    \n",
        "    if done: break\n",
        "    \n",
        "  obs_all[i] = state_in\n",
        "  out_all[i] = obs_i\n",
        "  act_all[i] = act_list\n",
        "  rew_all[i] = rew_sum\n",
        "\n",
        "#env.close()\n",
        "\n",
        "print(\"done\")"
      ],
      "execution_count": 16,
      "outputs": [
        {
          "output_type": "stream",
          "text": [
            "start experiments\n",
            "done\n"
          ],
          "name": "stdout"
        }
      ]
    },
    {
      "metadata": {
        "id": "-ApI0khJMdLz",
        "colab_type": "code",
        "colab": {}
      },
      "cell_type": "code",
      "source": [
        "df = convert_results_to_df(obs_all, act_all, out_all, rew_all)"
      ],
      "execution_count": 0,
      "outputs": []
    },
    {
      "metadata": {
        "id": "LX4B7qwRKtUn",
        "colab_type": "code",
        "outputId": "52848a14-c5b5-4181-f85a-56fef68e1355",
        "colab": {
          "base_uri": "https://localhost:8080/",
          "height": 136
        }
      },
      "cell_type": "code",
      "source": [
        "df_1 = df.loc[False, False, False]\n",
        "df_1[~df_1.duplicated([\"wtp/1\", \"wtp/2\", \"wtp/3\", \"wtp/4\", \"wtp/5\"])]"
      ],
      "execution_count": 18,
      "outputs": [
        {
          "output_type": "execute_result",
          "data": {
            "text/html": [
              "<div>\n",
              "<style scoped>\n",
              "    .dataframe tbody tr th:only-of-type {\n",
              "        vertical-align: middle;\n",
              "    }\n",
              "\n",
              "    .dataframe tbody tr th {\n",
              "        vertical-align: top;\n",
              "    }\n",
              "\n",
              "    .dataframe thead th {\n",
              "        text-align: right;\n",
              "    }\n",
              "</style>\n",
              "<table border=\"1\" class=\"dataframe\">\n",
              "  <thead>\n",
              "    <tr style=\"text-align: right;\">\n",
              "      <th></th>\n",
              "      <th></th>\n",
              "      <th></th>\n",
              "      <th>wtp/1</th>\n",
              "      <th>wtp/2</th>\n",
              "      <th>wtp/3</th>\n",
              "      <th>wtp/4</th>\n",
              "      <th>wtp/5</th>\n",
              "      <th>out_TDS</th>\n",
              "      <th>out_hardness</th>\n",
              "      <th>out_bacteria</th>\n",
              "      <th>reward</th>\n",
              "    </tr>\n",
              "    <tr>\n",
              "      <th>in_TDS</th>\n",
              "      <th>in_hardness</th>\n",
              "      <th>in_bacteria</th>\n",
              "      <th></th>\n",
              "      <th></th>\n",
              "      <th></th>\n",
              "      <th></th>\n",
              "      <th></th>\n",
              "      <th></th>\n",
              "      <th></th>\n",
              "      <th></th>\n",
              "      <th></th>\n",
              "    </tr>\n",
              "  </thead>\n",
              "  <tbody>\n",
              "    <tr>\n",
              "      <th>False</th>\n",
              "      <th>False</th>\n",
              "      <th>False</th>\n",
              "      <td>pipe</td>\n",
              "      <td>pipe</td>\n",
              "      <td>pipe</td>\n",
              "      <td>pipe</td>\n",
              "      <td>pipe</td>\n",
              "      <td>False</td>\n",
              "      <td>False</td>\n",
              "      <td>False</td>\n",
              "      <td>5.0</td>\n",
              "    </tr>\n",
              "  </tbody>\n",
              "</table>\n",
              "</div>"
            ],
            "text/plain": [
              "                               wtp/1 wtp/2 wtp/3 wtp/4 wtp/5  out_TDS  \\\n",
              "in_TDS in_hardness in_bacteria                                          \n",
              "False  False       False        pipe  pipe  pipe  pipe  pipe    False   \n",
              "\n",
              "                                out_hardness  out_bacteria  reward  \n",
              "in_TDS in_hardness in_bacteria                                      \n",
              "False  False       False               False         False     5.0  "
            ]
          },
          "metadata": {
            "tags": []
          },
          "execution_count": 18
        }
      ]
    },
    {
      "metadata": {
        "id": "KTs1hGM-LFpd",
        "colab_type": "code",
        "outputId": "0aa3a910-e370-4228-a49f-2c20cce006b9",
        "colab": {
          "base_uri": "https://localhost:8080/",
          "height": 153
        }
      },
      "cell_type": "code",
      "source": [
        "df_1 = df.loc[True, False, False]\n",
        "df_1[~df_1.duplicated([\"wtp/1\", \"wtp/2\", \"wtp/3\", \"wtp/4\", \"wtp/5\"])]"
      ],
      "execution_count": 19,
      "outputs": [
        {
          "output_type": "execute_result",
          "data": {
            "text/html": [
              "<div>\n",
              "<style scoped>\n",
              "    .dataframe tbody tr th:only-of-type {\n",
              "        vertical-align: middle;\n",
              "    }\n",
              "\n",
              "    .dataframe tbody tr th {\n",
              "        vertical-align: top;\n",
              "    }\n",
              "\n",
              "    .dataframe thead th {\n",
              "        text-align: right;\n",
              "    }\n",
              "</style>\n",
              "<table border=\"1\" class=\"dataframe\">\n",
              "  <thead>\n",
              "    <tr style=\"text-align: right;\">\n",
              "      <th></th>\n",
              "      <th></th>\n",
              "      <th></th>\n",
              "      <th>wtp/1</th>\n",
              "      <th>wtp/2</th>\n",
              "      <th>wtp/3</th>\n",
              "      <th>wtp/4</th>\n",
              "      <th>wtp/5</th>\n",
              "      <th>out_TDS</th>\n",
              "      <th>out_hardness</th>\n",
              "      <th>out_bacteria</th>\n",
              "      <th>reward</th>\n",
              "    </tr>\n",
              "    <tr>\n",
              "      <th>in_TDS</th>\n",
              "      <th>in_hardness</th>\n",
              "      <th>in_bacteria</th>\n",
              "      <th></th>\n",
              "      <th></th>\n",
              "      <th></th>\n",
              "      <th></th>\n",
              "      <th></th>\n",
              "      <th></th>\n",
              "      <th></th>\n",
              "      <th></th>\n",
              "      <th></th>\n",
              "    </tr>\n",
              "  </thead>\n",
              "  <tbody>\n",
              "    <tr>\n",
              "      <th>True</th>\n",
              "      <th>False</th>\n",
              "      <th>False</th>\n",
              "      <td>sand filter</td>\n",
              "      <td>pipe</td>\n",
              "      <td>pipe</td>\n",
              "      <td>pipe</td>\n",
              "      <td>pipe</td>\n",
              "      <td>False</td>\n",
              "      <td>False</td>\n",
              "      <td>False</td>\n",
              "      <td>6.0</td>\n",
              "    </tr>\n",
              "  </tbody>\n",
              "</table>\n",
              "</div>"
            ],
            "text/plain": [
              "                                      wtp/1 wtp/2 wtp/3 wtp/4 wtp/5  out_TDS  \\\n",
              "in_TDS in_hardness in_bacteria                                                 \n",
              "True   False       False        sand filter  pipe  pipe  pipe  pipe    False   \n",
              "\n",
              "                                out_hardness  out_bacteria  reward  \n",
              "in_TDS in_hardness in_bacteria                                      \n",
              "True   False       False               False         False     6.0  "
            ]
          },
          "metadata": {
            "tags": []
          },
          "execution_count": 19
        }
      ]
    },
    {
      "metadata": {
        "id": "YVAba1VMLJ0a",
        "colab_type": "code",
        "outputId": "26b9b489-0243-4e8d-dc27-7fefcca9b10b",
        "colab": {
          "base_uri": "https://localhost:8080/",
          "height": 136
        }
      },
      "cell_type": "code",
      "source": [
        "df_1 = df.loc[False, True, False]\n",
        "df_1[~df_1.duplicated([\"wtp/1\", \"wtp/2\", \"wtp/3\", \"wtp/4\", \"wtp/5\"])]"
      ],
      "execution_count": 20,
      "outputs": [
        {
          "output_type": "execute_result",
          "data": {
            "text/html": [
              "<div>\n",
              "<style scoped>\n",
              "    .dataframe tbody tr th:only-of-type {\n",
              "        vertical-align: middle;\n",
              "    }\n",
              "\n",
              "    .dataframe tbody tr th {\n",
              "        vertical-align: top;\n",
              "    }\n",
              "\n",
              "    .dataframe thead th {\n",
              "        text-align: right;\n",
              "    }\n",
              "</style>\n",
              "<table border=\"1\" class=\"dataframe\">\n",
              "  <thead>\n",
              "    <tr style=\"text-align: right;\">\n",
              "      <th></th>\n",
              "      <th></th>\n",
              "      <th></th>\n",
              "      <th>wtp/1</th>\n",
              "      <th>wtp/2</th>\n",
              "      <th>wtp/3</th>\n",
              "      <th>wtp/4</th>\n",
              "      <th>wtp/5</th>\n",
              "      <th>out_TDS</th>\n",
              "      <th>out_hardness</th>\n",
              "      <th>out_bacteria</th>\n",
              "      <th>reward</th>\n",
              "    </tr>\n",
              "    <tr>\n",
              "      <th>in_TDS</th>\n",
              "      <th>in_hardness</th>\n",
              "      <th>in_bacteria</th>\n",
              "      <th></th>\n",
              "      <th></th>\n",
              "      <th></th>\n",
              "      <th></th>\n",
              "      <th></th>\n",
              "      <th></th>\n",
              "      <th></th>\n",
              "      <th></th>\n",
              "      <th></th>\n",
              "    </tr>\n",
              "  </thead>\n",
              "  <tbody>\n",
              "    <tr>\n",
              "      <th>False</th>\n",
              "      <th>True</th>\n",
              "      <th>False</th>\n",
              "      <td>softener</td>\n",
              "      <td>pipe</td>\n",
              "      <td>pipe</td>\n",
              "      <td>pipe</td>\n",
              "      <td>pipe</td>\n",
              "      <td>False</td>\n",
              "      <td>False</td>\n",
              "      <td>False</td>\n",
              "      <td>6.0</td>\n",
              "    </tr>\n",
              "  </tbody>\n",
              "</table>\n",
              "</div>"
            ],
            "text/plain": [
              "                                   wtp/1 wtp/2 wtp/3 wtp/4 wtp/5  out_TDS  \\\n",
              "in_TDS in_hardness in_bacteria                                              \n",
              "False  True        False        softener  pipe  pipe  pipe  pipe    False   \n",
              "\n",
              "                                out_hardness  out_bacteria  reward  \n",
              "in_TDS in_hardness in_bacteria                                      \n",
              "False  True        False               False         False     6.0  "
            ]
          },
          "metadata": {
            "tags": []
          },
          "execution_count": 20
        }
      ]
    },
    {
      "metadata": {
        "id": "-ksRCfMELPYe",
        "colab_type": "code",
        "outputId": "feff8dc1-84bd-4134-c2b2-e58c3c703e1e",
        "colab": {
          "base_uri": "https://localhost:8080/",
          "height": 136
        }
      },
      "cell_type": "code",
      "source": [
        "df_1 = df.loc[False, False, True]\n",
        "df_1[~df_1.duplicated([\"wtp/1\", \"wtp/2\", \"wtp/3\", \"wtp/4\", \"wtp/5\"])]"
      ],
      "execution_count": 21,
      "outputs": [
        {
          "output_type": "execute_result",
          "data": {
            "text/html": [
              "<div>\n",
              "<style scoped>\n",
              "    .dataframe tbody tr th:only-of-type {\n",
              "        vertical-align: middle;\n",
              "    }\n",
              "\n",
              "    .dataframe tbody tr th {\n",
              "        vertical-align: top;\n",
              "    }\n",
              "\n",
              "    .dataframe thead th {\n",
              "        text-align: right;\n",
              "    }\n",
              "</style>\n",
              "<table border=\"1\" class=\"dataframe\">\n",
              "  <thead>\n",
              "    <tr style=\"text-align: right;\">\n",
              "      <th></th>\n",
              "      <th></th>\n",
              "      <th></th>\n",
              "      <th>wtp/1</th>\n",
              "      <th>wtp/2</th>\n",
              "      <th>wtp/3</th>\n",
              "      <th>wtp/4</th>\n",
              "      <th>wtp/5</th>\n",
              "      <th>out_TDS</th>\n",
              "      <th>out_hardness</th>\n",
              "      <th>out_bacteria</th>\n",
              "      <th>reward</th>\n",
              "    </tr>\n",
              "    <tr>\n",
              "      <th>in_TDS</th>\n",
              "      <th>in_hardness</th>\n",
              "      <th>in_bacteria</th>\n",
              "      <th></th>\n",
              "      <th></th>\n",
              "      <th></th>\n",
              "      <th></th>\n",
              "      <th></th>\n",
              "      <th></th>\n",
              "      <th></th>\n",
              "      <th></th>\n",
              "      <th></th>\n",
              "    </tr>\n",
              "  </thead>\n",
              "  <tbody>\n",
              "    <tr>\n",
              "      <th>False</th>\n",
              "      <th>False</th>\n",
              "      <th>True</th>\n",
              "      <td>UV</td>\n",
              "      <td>pipe</td>\n",
              "      <td>pipe</td>\n",
              "      <td>pipe</td>\n",
              "      <td>pipe</td>\n",
              "      <td>False</td>\n",
              "      <td>False</td>\n",
              "      <td>False</td>\n",
              "      <td>6.0</td>\n",
              "    </tr>\n",
              "  </tbody>\n",
              "</table>\n",
              "</div>"
            ],
            "text/plain": [
              "                               wtp/1 wtp/2 wtp/3 wtp/4 wtp/5  out_TDS  \\\n",
              "in_TDS in_hardness in_bacteria                                          \n",
              "False  False       True           UV  pipe  pipe  pipe  pipe    False   \n",
              "\n",
              "                                out_hardness  out_bacteria  reward  \n",
              "in_TDS in_hardness in_bacteria                                      \n",
              "False  False       True                False         False     6.0  "
            ]
          },
          "metadata": {
            "tags": []
          },
          "execution_count": 21
        }
      ]
    },
    {
      "metadata": {
        "id": "jwNkeTIPLSJa",
        "colab_type": "code",
        "outputId": "4bd2e875-97a5-486b-f53e-f860621e9990",
        "colab": {
          "base_uri": "https://localhost:8080/",
          "height": 153
        }
      },
      "cell_type": "code",
      "source": [
        "df_1 = df.loc[True, True, False]\n",
        "df_1[~df_1.duplicated([\"wtp/1\", \"wtp/2\", \"wtp/3\", \"wtp/4\", \"wtp/5\"])]"
      ],
      "execution_count": 22,
      "outputs": [
        {
          "output_type": "execute_result",
          "data": {
            "text/html": [
              "<div>\n",
              "<style scoped>\n",
              "    .dataframe tbody tr th:only-of-type {\n",
              "        vertical-align: middle;\n",
              "    }\n",
              "\n",
              "    .dataframe tbody tr th {\n",
              "        vertical-align: top;\n",
              "    }\n",
              "\n",
              "    .dataframe thead th {\n",
              "        text-align: right;\n",
              "    }\n",
              "</style>\n",
              "<table border=\"1\" class=\"dataframe\">\n",
              "  <thead>\n",
              "    <tr style=\"text-align: right;\">\n",
              "      <th></th>\n",
              "      <th></th>\n",
              "      <th></th>\n",
              "      <th>wtp/1</th>\n",
              "      <th>wtp/2</th>\n",
              "      <th>wtp/3</th>\n",
              "      <th>wtp/4</th>\n",
              "      <th>wtp/5</th>\n",
              "      <th>out_TDS</th>\n",
              "      <th>out_hardness</th>\n",
              "      <th>out_bacteria</th>\n",
              "      <th>reward</th>\n",
              "    </tr>\n",
              "    <tr>\n",
              "      <th>in_TDS</th>\n",
              "      <th>in_hardness</th>\n",
              "      <th>in_bacteria</th>\n",
              "      <th></th>\n",
              "      <th></th>\n",
              "      <th></th>\n",
              "      <th></th>\n",
              "      <th></th>\n",
              "      <th></th>\n",
              "      <th></th>\n",
              "      <th></th>\n",
              "      <th></th>\n",
              "    </tr>\n",
              "  </thead>\n",
              "  <tbody>\n",
              "    <tr>\n",
              "      <th>True</th>\n",
              "      <th>True</th>\n",
              "      <th>False</th>\n",
              "      <td>softener</td>\n",
              "      <td>sand filter</td>\n",
              "      <td>pipe</td>\n",
              "      <td>pipe</td>\n",
              "      <td>pipe</td>\n",
              "      <td>False</td>\n",
              "      <td>False</td>\n",
              "      <td>False</td>\n",
              "      <td>7.0</td>\n",
              "    </tr>\n",
              "  </tbody>\n",
              "</table>\n",
              "</div>"
            ],
            "text/plain": [
              "                                   wtp/1        wtp/2 wtp/3 wtp/4 wtp/5  \\\n",
              "in_TDS in_hardness in_bacteria                                            \n",
              "True   True        False        softener  sand filter  pipe  pipe  pipe   \n",
              "\n",
              "                                out_TDS  out_hardness  out_bacteria  reward  \n",
              "in_TDS in_hardness in_bacteria                                               \n",
              "True   True        False          False         False         False     7.0  "
            ]
          },
          "metadata": {
            "tags": []
          },
          "execution_count": 22
        }
      ]
    },
    {
      "metadata": {
        "id": "zwYJ2RhqKapo",
        "colab_type": "code",
        "outputId": "44192d03-3aee-4358-c137-e8f23cb7f0dd",
        "colab": {
          "base_uri": "https://localhost:8080/",
          "height": 201
        }
      },
      "cell_type": "code",
      "source": [
        "df_1 = df.loc[True, False, True]\n",
        "df_1[~df_1.duplicated([\"wtp/1\", \"wtp/2\", \"wtp/3\", \"wtp/4\", \"wtp/5\"])]"
      ],
      "execution_count": 23,
      "outputs": [
        {
          "output_type": "execute_result",
          "data": {
            "text/html": [
              "<div>\n",
              "<style scoped>\n",
              "    .dataframe tbody tr th:only-of-type {\n",
              "        vertical-align: middle;\n",
              "    }\n",
              "\n",
              "    .dataframe tbody tr th {\n",
              "        vertical-align: top;\n",
              "    }\n",
              "\n",
              "    .dataframe thead th {\n",
              "        text-align: right;\n",
              "    }\n",
              "</style>\n",
              "<table border=\"1\" class=\"dataframe\">\n",
              "  <thead>\n",
              "    <tr style=\"text-align: right;\">\n",
              "      <th></th>\n",
              "      <th></th>\n",
              "      <th></th>\n",
              "      <th>wtp/1</th>\n",
              "      <th>wtp/2</th>\n",
              "      <th>wtp/3</th>\n",
              "      <th>wtp/4</th>\n",
              "      <th>wtp/5</th>\n",
              "      <th>out_TDS</th>\n",
              "      <th>out_hardness</th>\n",
              "      <th>out_bacteria</th>\n",
              "      <th>reward</th>\n",
              "    </tr>\n",
              "    <tr>\n",
              "      <th>in_TDS</th>\n",
              "      <th>in_hardness</th>\n",
              "      <th>in_bacteria</th>\n",
              "      <th></th>\n",
              "      <th></th>\n",
              "      <th></th>\n",
              "      <th></th>\n",
              "      <th></th>\n",
              "      <th></th>\n",
              "      <th></th>\n",
              "      <th></th>\n",
              "      <th></th>\n",
              "    </tr>\n",
              "  </thead>\n",
              "  <tbody>\n",
              "    <tr>\n",
              "      <th rowspan=\"2\" valign=\"top\">True</th>\n",
              "      <th rowspan=\"2\" valign=\"top\">False</th>\n",
              "      <th>True</th>\n",
              "      <td>sand filter</td>\n",
              "      <td>UV</td>\n",
              "      <td>pipe</td>\n",
              "      <td>pipe</td>\n",
              "      <td>pipe</td>\n",
              "      <td>False</td>\n",
              "      <td>False</td>\n",
              "      <td>False</td>\n",
              "      <td>7.0</td>\n",
              "    </tr>\n",
              "    <tr>\n",
              "      <th>True</th>\n",
              "      <td>UV</td>\n",
              "      <td>sand filter</td>\n",
              "      <td>pipe</td>\n",
              "      <td>pipe</td>\n",
              "      <td>pipe</td>\n",
              "      <td>False</td>\n",
              "      <td>False</td>\n",
              "      <td>False</td>\n",
              "      <td>7.0</td>\n",
              "    </tr>\n",
              "  </tbody>\n",
              "</table>\n",
              "</div>"
            ],
            "text/plain": [
              "                                      wtp/1        wtp/2 wtp/3 wtp/4 wtp/5  \\\n",
              "in_TDS in_hardness in_bacteria                                               \n",
              "True   False       True         sand filter           UV  pipe  pipe  pipe   \n",
              "                   True                  UV  sand filter  pipe  pipe  pipe   \n",
              "\n",
              "                                out_TDS  out_hardness  out_bacteria  reward  \n",
              "in_TDS in_hardness in_bacteria                                               \n",
              "True   False       True           False         False         False     7.0  \n",
              "                   True           False         False         False     7.0  "
            ]
          },
          "metadata": {
            "tags": []
          },
          "execution_count": 23
        }
      ]
    },
    {
      "metadata": {
        "id": "rXA4qx7iLXWB",
        "colab_type": "code",
        "outputId": "4493a5ca-fb23-47a3-af5b-1a11fdd2d674",
        "colab": {
          "base_uri": "https://localhost:8080/",
          "height": 136
        }
      },
      "cell_type": "code",
      "source": [
        "df_1 = df.loc[False, True, True]\n",
        "df_1[~df_1.duplicated([\"wtp/1\", \"wtp/2\", \"wtp/3\", \"wtp/4\", \"wtp/5\"])]"
      ],
      "execution_count": 24,
      "outputs": [
        {
          "output_type": "execute_result",
          "data": {
            "text/html": [
              "<div>\n",
              "<style scoped>\n",
              "    .dataframe tbody tr th:only-of-type {\n",
              "        vertical-align: middle;\n",
              "    }\n",
              "\n",
              "    .dataframe tbody tr th {\n",
              "        vertical-align: top;\n",
              "    }\n",
              "\n",
              "    .dataframe thead th {\n",
              "        text-align: right;\n",
              "    }\n",
              "</style>\n",
              "<table border=\"1\" class=\"dataframe\">\n",
              "  <thead>\n",
              "    <tr style=\"text-align: right;\">\n",
              "      <th></th>\n",
              "      <th></th>\n",
              "      <th></th>\n",
              "      <th>wtp/1</th>\n",
              "      <th>wtp/2</th>\n",
              "      <th>wtp/3</th>\n",
              "      <th>wtp/4</th>\n",
              "      <th>wtp/5</th>\n",
              "      <th>out_TDS</th>\n",
              "      <th>out_hardness</th>\n",
              "      <th>out_bacteria</th>\n",
              "      <th>reward</th>\n",
              "    </tr>\n",
              "    <tr>\n",
              "      <th>in_TDS</th>\n",
              "      <th>in_hardness</th>\n",
              "      <th>in_bacteria</th>\n",
              "      <th></th>\n",
              "      <th></th>\n",
              "      <th></th>\n",
              "      <th></th>\n",
              "      <th></th>\n",
              "      <th></th>\n",
              "      <th></th>\n",
              "      <th></th>\n",
              "      <th></th>\n",
              "    </tr>\n",
              "  </thead>\n",
              "  <tbody>\n",
              "    <tr>\n",
              "      <th>False</th>\n",
              "      <th>True</th>\n",
              "      <th>True</th>\n",
              "      <td>UV</td>\n",
              "      <td>softener</td>\n",
              "      <td>pipe</td>\n",
              "      <td>pipe</td>\n",
              "      <td>pipe</td>\n",
              "      <td>False</td>\n",
              "      <td>False</td>\n",
              "      <td>False</td>\n",
              "      <td>7.0</td>\n",
              "    </tr>\n",
              "  </tbody>\n",
              "</table>\n",
              "</div>"
            ],
            "text/plain": [
              "                               wtp/1     wtp/2 wtp/3 wtp/4 wtp/5  out_TDS  \\\n",
              "in_TDS in_hardness in_bacteria                                              \n",
              "False  True        True           UV  softener  pipe  pipe  pipe    False   \n",
              "\n",
              "                                out_hardness  out_bacteria  reward  \n",
              "in_TDS in_hardness in_bacteria                                      \n",
              "False  True        True                False         False     7.0  "
            ]
          },
          "metadata": {
            "tags": []
          },
          "execution_count": 24
        }
      ]
    },
    {
      "metadata": {
        "id": "7_f4CNHILZt1",
        "colab_type": "code",
        "outputId": "38e1dfd8-f6aa-4d0c-840b-ab7fe2b5e7b2",
        "colab": {
          "base_uri": "https://localhost:8080/",
          "height": 249
        }
      },
      "cell_type": "code",
      "source": [
        "df_1 = df.loc[True, True, True]\n",
        "df_1[~df_1.duplicated([\"wtp/1\", \"wtp/2\", \"wtp/3\", \"wtp/4\", \"wtp/5\"])]"
      ],
      "execution_count": 25,
      "outputs": [
        {
          "output_type": "execute_result",
          "data": {
            "text/html": [
              "<div>\n",
              "<style scoped>\n",
              "    .dataframe tbody tr th:only-of-type {\n",
              "        vertical-align: middle;\n",
              "    }\n",
              "\n",
              "    .dataframe tbody tr th {\n",
              "        vertical-align: top;\n",
              "    }\n",
              "\n",
              "    .dataframe thead th {\n",
              "        text-align: right;\n",
              "    }\n",
              "</style>\n",
              "<table border=\"1\" class=\"dataframe\">\n",
              "  <thead>\n",
              "    <tr style=\"text-align: right;\">\n",
              "      <th></th>\n",
              "      <th></th>\n",
              "      <th></th>\n",
              "      <th>wtp/1</th>\n",
              "      <th>wtp/2</th>\n",
              "      <th>wtp/3</th>\n",
              "      <th>wtp/4</th>\n",
              "      <th>wtp/5</th>\n",
              "      <th>out_TDS</th>\n",
              "      <th>out_hardness</th>\n",
              "      <th>out_bacteria</th>\n",
              "      <th>reward</th>\n",
              "    </tr>\n",
              "    <tr>\n",
              "      <th>in_TDS</th>\n",
              "      <th>in_hardness</th>\n",
              "      <th>in_bacteria</th>\n",
              "      <th></th>\n",
              "      <th></th>\n",
              "      <th></th>\n",
              "      <th></th>\n",
              "      <th></th>\n",
              "      <th></th>\n",
              "      <th></th>\n",
              "      <th></th>\n",
              "      <th></th>\n",
              "    </tr>\n",
              "  </thead>\n",
              "  <tbody>\n",
              "    <tr>\n",
              "      <th rowspan=\"3\" valign=\"top\">True</th>\n",
              "      <th rowspan=\"3\" valign=\"top\">True</th>\n",
              "      <th>True</th>\n",
              "      <td>softener</td>\n",
              "      <td>sand filter</td>\n",
              "      <td>UV</td>\n",
              "      <td>pipe</td>\n",
              "      <td>pipe</td>\n",
              "      <td>False</td>\n",
              "      <td>False</td>\n",
              "      <td>False</td>\n",
              "      <td>8.0</td>\n",
              "    </tr>\n",
              "    <tr>\n",
              "      <th>True</th>\n",
              "      <td>UV</td>\n",
              "      <td>softener</td>\n",
              "      <td>sand filter</td>\n",
              "      <td>pipe</td>\n",
              "      <td>pipe</td>\n",
              "      <td>False</td>\n",
              "      <td>False</td>\n",
              "      <td>False</td>\n",
              "      <td>8.0</td>\n",
              "    </tr>\n",
              "    <tr>\n",
              "      <th>True</th>\n",
              "      <td>sand filter</td>\n",
              "      <td>UV</td>\n",
              "      <td>softener</td>\n",
              "      <td>pipe</td>\n",
              "      <td>pipe</td>\n",
              "      <td>False</td>\n",
              "      <td>False</td>\n",
              "      <td>False</td>\n",
              "      <td>8.0</td>\n",
              "    </tr>\n",
              "  </tbody>\n",
              "</table>\n",
              "</div>"
            ],
            "text/plain": [
              "                                      wtp/1        wtp/2        wtp/3 wtp/4  \\\n",
              "in_TDS in_hardness in_bacteria                                                \n",
              "True   True        True            softener  sand filter           UV  pipe   \n",
              "                   True                  UV     softener  sand filter  pipe   \n",
              "                   True         sand filter           UV     softener  pipe   \n",
              "\n",
              "                               wtp/5  out_TDS  out_hardness  out_bacteria  \\\n",
              "in_TDS in_hardness in_bacteria                                              \n",
              "True   True        True         pipe    False         False         False   \n",
              "                   True         pipe    False         False         False   \n",
              "                   True         pipe    False         False         False   \n",
              "\n",
              "                                reward  \n",
              "in_TDS in_hardness in_bacteria          \n",
              "True   True        True            8.0  \n",
              "                   True            8.0  \n",
              "                   True            8.0  "
            ]
          },
          "metadata": {
            "tags": []
          },
          "execution_count": 25
        }
      ]
    },
    {
      "metadata": {
        "id": "OGhvNWYqL4Zy",
        "colab_type": "text"
      },
      "cell_type": "markdown",
      "source": [
        "# Experiment set 2"
      ]
    },
    {
      "metadata": {
        "id": "LfG7tMG4LbtF",
        "colab_type": "code",
        "outputId": "34aaabf0-794d-4b8f-edc6-6e1ed51997dc",
        "colab": {
          "base_uri": "https://localhost:8080/",
          "height": 51
        }
      },
      "cell_type": "code",
      "source": [
        "\n",
        "n_experiments2 = 8 # len(wq_all) # 100\n",
        "obs_all2 = [None] * n_experiments2\n",
        "act_all2 = [None] * n_experiments2\n",
        "rew_all2 = [None] * n_experiments2\n",
        "out_all2 = [None] * n_experiments2\n",
        "\n",
        "print(\"start experiments\")\n",
        "for i in range(n_experiments2):\n",
        "  #print(\"experiment \", i+1)\n",
        "\n",
        "  # reset\n",
        "  s0 = wqi_to_watersample(i)\n",
        "  obs_initial = env.reset(s0 = s0)\n",
        "\n",
        "  #print(\"-\"*10)\n",
        "  #print(\"obs init\", obs_initial)\n",
        "  \n",
        "  # start\n",
        "  obs_i = obs_initial\n",
        "  act_list = []\n",
        "  rew_sum = 0\n",
        "  for j in range(5): # env.n_elements\n",
        "    #action = env.action_space.sample()\n",
        "    act_i, _ = policy.get_action(obs_i)\n",
        "    #print(\"obs_i\", obs_i, \"act i\", act_i)\n",
        "    act_list.append(act_i)\n",
        "    obs_i, rew_i, done, _ = env.step(act_i)\n",
        "    rew_sum += rew_i\n",
        "    \n",
        "    if done: break\n",
        "    \n",
        "  obs_all2[i] = obs_initial\n",
        "  out_all2[i] = obs_i\n",
        "  act_all2[i] = act_list\n",
        "  rew_all2[i] = rew_sum\n",
        "\n",
        "#env.close()\n",
        "\n",
        "print(\"done\")"
      ],
      "execution_count": 26,
      "outputs": [
        {
          "output_type": "stream",
          "text": [
            "start experiments\n",
            "done\n"
          ],
          "name": "stdout"
        }
      ]
    },
    {
      "metadata": {
        "id": "nN7TQHlGMCZq",
        "colab_type": "code",
        "colab": {}
      },
      "cell_type": "code",
      "source": [
        "df_deterministic = convert_results_to_df(obs_all2, act_all2, out_all2, rew_all2)"
      ],
      "execution_count": 0,
      "outputs": []
    },
    {
      "metadata": {
        "id": "PrleJiJfMEoF",
        "colab_type": "code",
        "outputId": "94e759ba-9126-4cf2-da2c-f17431c86729",
        "colab": {
          "base_uri": "https://localhost:8080/",
          "height": 421
        }
      },
      "cell_type": "code",
      "source": [
        "df_deterministic"
      ],
      "execution_count": 28,
      "outputs": [
        {
          "output_type": "execute_result",
          "data": {
            "text/html": [
              "<div>\n",
              "<style scoped>\n",
              "    .dataframe tbody tr th:only-of-type {\n",
              "        vertical-align: middle;\n",
              "    }\n",
              "\n",
              "    .dataframe tbody tr th {\n",
              "        vertical-align: top;\n",
              "    }\n",
              "\n",
              "    .dataframe thead th {\n",
              "        text-align: right;\n",
              "    }\n",
              "</style>\n",
              "<table border=\"1\" class=\"dataframe\">\n",
              "  <thead>\n",
              "    <tr style=\"text-align: right;\">\n",
              "      <th></th>\n",
              "      <th></th>\n",
              "      <th></th>\n",
              "      <th>wtp/1</th>\n",
              "      <th>wtp/2</th>\n",
              "      <th>wtp/3</th>\n",
              "      <th>wtp/4</th>\n",
              "      <th>wtp/5</th>\n",
              "      <th>out_TDS</th>\n",
              "      <th>out_hardness</th>\n",
              "      <th>out_bacteria</th>\n",
              "      <th>reward</th>\n",
              "    </tr>\n",
              "    <tr>\n",
              "      <th>in_TDS</th>\n",
              "      <th>in_hardness</th>\n",
              "      <th>in_bacteria</th>\n",
              "      <th></th>\n",
              "      <th></th>\n",
              "      <th></th>\n",
              "      <th></th>\n",
              "      <th></th>\n",
              "      <th></th>\n",
              "      <th></th>\n",
              "      <th></th>\n",
              "      <th></th>\n",
              "    </tr>\n",
              "  </thead>\n",
              "  <tbody>\n",
              "    <tr>\n",
              "      <th rowspan=\"4\" valign=\"top\">False</th>\n",
              "      <th rowspan=\"2\" valign=\"top\">False</th>\n",
              "      <th>False</th>\n",
              "      <td>pipe</td>\n",
              "      <td>pipe</td>\n",
              "      <td>pipe</td>\n",
              "      <td>pipe</td>\n",
              "      <td>pipe</td>\n",
              "      <td>False</td>\n",
              "      <td>False</td>\n",
              "      <td>False</td>\n",
              "      <td>5.0</td>\n",
              "    </tr>\n",
              "    <tr>\n",
              "      <th>True</th>\n",
              "      <td>UV</td>\n",
              "      <td>pipe</td>\n",
              "      <td>pipe</td>\n",
              "      <td>pipe</td>\n",
              "      <td>pipe</td>\n",
              "      <td>False</td>\n",
              "      <td>False</td>\n",
              "      <td>False</td>\n",
              "      <td>6.0</td>\n",
              "    </tr>\n",
              "    <tr>\n",
              "      <th rowspan=\"2\" valign=\"top\">True</th>\n",
              "      <th>False</th>\n",
              "      <td>softener</td>\n",
              "      <td>pipe</td>\n",
              "      <td>pipe</td>\n",
              "      <td>pipe</td>\n",
              "      <td>pipe</td>\n",
              "      <td>False</td>\n",
              "      <td>False</td>\n",
              "      <td>False</td>\n",
              "      <td>6.0</td>\n",
              "    </tr>\n",
              "    <tr>\n",
              "      <th>True</th>\n",
              "      <td>UV</td>\n",
              "      <td>softener</td>\n",
              "      <td>pipe</td>\n",
              "      <td>pipe</td>\n",
              "      <td>pipe</td>\n",
              "      <td>False</td>\n",
              "      <td>False</td>\n",
              "      <td>False</td>\n",
              "      <td>7.0</td>\n",
              "    </tr>\n",
              "    <tr>\n",
              "      <th rowspan=\"4\" valign=\"top\">True</th>\n",
              "      <th rowspan=\"2\" valign=\"top\">False</th>\n",
              "      <th>False</th>\n",
              "      <td>sand filter</td>\n",
              "      <td>pipe</td>\n",
              "      <td>pipe</td>\n",
              "      <td>pipe</td>\n",
              "      <td>pipe</td>\n",
              "      <td>False</td>\n",
              "      <td>False</td>\n",
              "      <td>False</td>\n",
              "      <td>6.0</td>\n",
              "    </tr>\n",
              "    <tr>\n",
              "      <th>True</th>\n",
              "      <td>sand filter</td>\n",
              "      <td>UV</td>\n",
              "      <td>pipe</td>\n",
              "      <td>pipe</td>\n",
              "      <td>pipe</td>\n",
              "      <td>False</td>\n",
              "      <td>False</td>\n",
              "      <td>False</td>\n",
              "      <td>7.0</td>\n",
              "    </tr>\n",
              "    <tr>\n",
              "      <th rowspan=\"2\" valign=\"top\">True</th>\n",
              "      <th>False</th>\n",
              "      <td>softener</td>\n",
              "      <td>sand filter</td>\n",
              "      <td>pipe</td>\n",
              "      <td>pipe</td>\n",
              "      <td>pipe</td>\n",
              "      <td>False</td>\n",
              "      <td>False</td>\n",
              "      <td>False</td>\n",
              "      <td>7.0</td>\n",
              "    </tr>\n",
              "    <tr>\n",
              "      <th>True</th>\n",
              "      <td>UV</td>\n",
              "      <td>softener</td>\n",
              "      <td>sand filter</td>\n",
              "      <td>pipe</td>\n",
              "      <td>pipe</td>\n",
              "      <td>False</td>\n",
              "      <td>False</td>\n",
              "      <td>False</td>\n",
              "      <td>8.0</td>\n",
              "    </tr>\n",
              "  </tbody>\n",
              "</table>\n",
              "</div>"
            ],
            "text/plain": [
              "                                      wtp/1        wtp/2        wtp/3 wtp/4  \\\n",
              "in_TDS in_hardness in_bacteria                                                \n",
              "False  False       False               pipe         pipe         pipe  pipe   \n",
              "                   True                  UV         pipe         pipe  pipe   \n",
              "       True        False           softener         pipe         pipe  pipe   \n",
              "                   True                  UV     softener         pipe  pipe   \n",
              "True   False       False        sand filter         pipe         pipe  pipe   \n",
              "                   True         sand filter           UV         pipe  pipe   \n",
              "       True        False           softener  sand filter         pipe  pipe   \n",
              "                   True                  UV     softener  sand filter  pipe   \n",
              "\n",
              "                               wtp/5  out_TDS  out_hardness  out_bacteria  \\\n",
              "in_TDS in_hardness in_bacteria                                              \n",
              "False  False       False        pipe    False         False         False   \n",
              "                   True         pipe    False         False         False   \n",
              "       True        False        pipe    False         False         False   \n",
              "                   True         pipe    False         False         False   \n",
              "True   False       False        pipe    False         False         False   \n",
              "                   True         pipe    False         False         False   \n",
              "       True        False        pipe    False         False         False   \n",
              "                   True         pipe    False         False         False   \n",
              "\n",
              "                                reward  \n",
              "in_TDS in_hardness in_bacteria          \n",
              "False  False       False           5.0  \n",
              "                   True            6.0  \n",
              "       True        False           6.0  \n",
              "                   True            7.0  \n",
              "True   False       False           6.0  \n",
              "                   True            7.0  \n",
              "       True        False           7.0  \n",
              "                   True            8.0  "
            ]
          },
          "metadata": {
            "tags": []
          },
          "execution_count": 28
        }
      ]
    },
    {
      "metadata": {
        "id": "nbhLEvkVmQHJ",
        "colab_type": "code",
        "colab": {}
      },
      "cell_type": "code",
      "source": [
        ""
      ],
      "execution_count": 0,
      "outputs": []
    }
  ]
}