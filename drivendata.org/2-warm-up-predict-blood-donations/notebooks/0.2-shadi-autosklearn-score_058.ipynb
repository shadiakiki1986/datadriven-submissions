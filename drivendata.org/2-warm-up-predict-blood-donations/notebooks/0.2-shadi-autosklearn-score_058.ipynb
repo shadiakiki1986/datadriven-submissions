{
 "cells": [
  {
   "cell_type": "code",
   "execution_count": 1,
   "metadata": {},
   "outputs": [],
   "source": [
    "import pandas as pd\n",
    "import os\n",
    "import seaborn as sns\n",
    "from matplotlib import pyplot as plt\n",
    "import numpy as np"
   ]
  },
  {
   "cell_type": "markdown",
   "metadata": {},
   "source": [
    "## Read data"
   ]
  },
  {
   "cell_type": "code",
   "execution_count": 43,
   "metadata": {},
   "outputs": [],
   "source": [
    "train = pd.read_csv(os.path.join(os.path.pardir,'data','raw','train.csv'))\n",
    "test = pd.read_csv(os.path.join(os.path.pardir,'data','raw','test.csv'))"
   ]
  },
  {
   "cell_type": "code",
   "execution_count": 3,
   "metadata": {},
   "outputs": [],
   "source": [
    "assert not train['Unnamed: 0'].duplicated().any()\n",
    "\n",
    "#test = test[~test['Unnamed: 0'].duplicated()]\n",
    "#assert not test['Unnamed: 0'].duplicated().any()"
   ]
  },
  {
   "cell_type": "code",
   "execution_count": 4,
   "metadata": {},
   "outputs": [],
   "source": [
    "train = train.set_index('Unnamed: 0')\n",
    "#test  = test.set_index('Unnamed: 0')"
   ]
  },
  {
   "cell_type": "code",
   "execution_count": 5,
   "metadata": {},
   "outputs": [
    {
     "data": {
      "text/plain": [
       "((576, 5), Index(['Months since Last Donation', 'Number of Donations',\n",
       "        'Total Volume Donated (c.c.)', 'Months since First Donation',\n",
       "        'Made Donation in March 2007'],\n",
       "       dtype='object'))"
      ]
     },
     "execution_count": 5,
     "metadata": {},
     "output_type": "execute_result"
    }
   ],
   "source": [
    "train.shape, train.columns"
   ]
  },
  {
   "cell_type": "code",
   "execution_count": 6,
   "metadata": {},
   "outputs": [
    {
     "data": {
      "text/html": [
       "<div>\n",
       "<style scoped>\n",
       "    .dataframe tbody tr th:only-of-type {\n",
       "        vertical-align: middle;\n",
       "    }\n",
       "\n",
       "    .dataframe tbody tr th {\n",
       "        vertical-align: top;\n",
       "    }\n",
       "\n",
       "    .dataframe thead th {\n",
       "        text-align: right;\n",
       "    }\n",
       "</style>\n",
       "<table border=\"1\" class=\"dataframe\">\n",
       "  <thead>\n",
       "    <tr style=\"text-align: right;\">\n",
       "      <th></th>\n",
       "      <th>Months since Last Donation</th>\n",
       "      <th>Number of Donations</th>\n",
       "      <th>Total Volume Donated (c.c.)</th>\n",
       "      <th>Months since First Donation</th>\n",
       "      <th>Made Donation in March 2007</th>\n",
       "    </tr>\n",
       "    <tr>\n",
       "      <th>Unnamed: 0</th>\n",
       "      <th></th>\n",
       "      <th></th>\n",
       "      <th></th>\n",
       "      <th></th>\n",
       "      <th></th>\n",
       "    </tr>\n",
       "  </thead>\n",
       "  <tbody>\n",
       "    <tr>\n",
       "      <th>619</th>\n",
       "      <td>2</td>\n",
       "      <td>50</td>\n",
       "      <td>12500</td>\n",
       "      <td>98</td>\n",
       "      <td>1</td>\n",
       "    </tr>\n",
       "    <tr>\n",
       "      <th>664</th>\n",
       "      <td>0</td>\n",
       "      <td>13</td>\n",
       "      <td>3250</td>\n",
       "      <td>28</td>\n",
       "      <td>1</td>\n",
       "    </tr>\n",
       "    <tr>\n",
       "      <th>441</th>\n",
       "      <td>1</td>\n",
       "      <td>16</td>\n",
       "      <td>4000</td>\n",
       "      <td>35</td>\n",
       "      <td>1</td>\n",
       "    </tr>\n",
       "    <tr>\n",
       "      <th>160</th>\n",
       "      <td>2</td>\n",
       "      <td>20</td>\n",
       "      <td>5000</td>\n",
       "      <td>45</td>\n",
       "      <td>1</td>\n",
       "    </tr>\n",
       "    <tr>\n",
       "      <th>358</th>\n",
       "      <td>1</td>\n",
       "      <td>24</td>\n",
       "      <td>6000</td>\n",
       "      <td>77</td>\n",
       "      <td>0</td>\n",
       "    </tr>\n",
       "  </tbody>\n",
       "</table>\n",
       "</div>"
      ],
      "text/plain": [
       "            Months since Last Donation  Number of Donations  \\\n",
       "Unnamed: 0                                                    \n",
       "619                                  2                   50   \n",
       "664                                  0                   13   \n",
       "441                                  1                   16   \n",
       "160                                  2                   20   \n",
       "358                                  1                   24   \n",
       "\n",
       "            Total Volume Donated (c.c.)  Months since First Donation  \\\n",
       "Unnamed: 0                                                             \n",
       "619                               12500                           98   \n",
       "664                                3250                           28   \n",
       "441                                4000                           35   \n",
       "160                                5000                           45   \n",
       "358                                6000                           77   \n",
       "\n",
       "            Made Donation in March 2007  \n",
       "Unnamed: 0                               \n",
       "619                                   1  \n",
       "664                                   1  \n",
       "441                                   1  \n",
       "160                                   1  \n",
       "358                                   0  "
      ]
     },
     "execution_count": 6,
     "metadata": {},
     "output_type": "execute_result"
    }
   ],
   "source": [
    "train.head()"
   ]
  },
  {
   "cell_type": "code",
   "execution_count": 44,
   "metadata": {},
   "outputs": [
    {
     "data": {
      "text/plain": [
       "((200, 5),\n",
       " Index(['Unnamed: 0', 'Months since Last Donation', 'Number of Donations',\n",
       "        'Total Volume Donated (c.c.)', 'Months since First Donation'],\n",
       "       dtype='object'))"
      ]
     },
     "execution_count": 44,
     "metadata": {},
     "output_type": "execute_result"
    }
   ],
   "source": [
    "test.shape, test.columns"
   ]
  },
  {
   "cell_type": "code",
   "execution_count": 8,
   "metadata": {},
   "outputs": [
    {
     "data": {
      "text/html": [
       "<div>\n",
       "<style scoped>\n",
       "    .dataframe tbody tr th:only-of-type {\n",
       "        vertical-align: middle;\n",
       "    }\n",
       "\n",
       "    .dataframe tbody tr th {\n",
       "        vertical-align: top;\n",
       "    }\n",
       "\n",
       "    .dataframe thead th {\n",
       "        text-align: right;\n",
       "    }\n",
       "</style>\n",
       "<table border=\"1\" class=\"dataframe\">\n",
       "  <thead>\n",
       "    <tr style=\"text-align: right;\">\n",
       "      <th></th>\n",
       "      <th>Months since Last Donation</th>\n",
       "      <th>Number of Donations</th>\n",
       "      <th>Total Volume Donated (c.c.)</th>\n",
       "      <th>Months since First Donation</th>\n",
       "    </tr>\n",
       "    <tr>\n",
       "      <th>Unnamed: 0</th>\n",
       "      <th></th>\n",
       "      <th></th>\n",
       "      <th></th>\n",
       "      <th></th>\n",
       "    </tr>\n",
       "  </thead>\n",
       "  <tbody>\n",
       "    <tr>\n",
       "      <th>659</th>\n",
       "      <td>2</td>\n",
       "      <td>12</td>\n",
       "      <td>3000</td>\n",
       "      <td>52</td>\n",
       "    </tr>\n",
       "    <tr>\n",
       "      <th>276</th>\n",
       "      <td>21</td>\n",
       "      <td>7</td>\n",
       "      <td>1750</td>\n",
       "      <td>38</td>\n",
       "    </tr>\n",
       "    <tr>\n",
       "      <th>263</th>\n",
       "      <td>4</td>\n",
       "      <td>1</td>\n",
       "      <td>250</td>\n",
       "      <td>4</td>\n",
       "    </tr>\n",
       "    <tr>\n",
       "      <th>303</th>\n",
       "      <td>11</td>\n",
       "      <td>11</td>\n",
       "      <td>2750</td>\n",
       "      <td>38</td>\n",
       "    </tr>\n",
       "    <tr>\n",
       "      <th>83</th>\n",
       "      <td>4</td>\n",
       "      <td>12</td>\n",
       "      <td>3000</td>\n",
       "      <td>34</td>\n",
       "    </tr>\n",
       "  </tbody>\n",
       "</table>\n",
       "</div>"
      ],
      "text/plain": [
       "            Months since Last Donation  Number of Donations  \\\n",
       "Unnamed: 0                                                    \n",
       "659                                  2                   12   \n",
       "276                                 21                    7   \n",
       "263                                  4                    1   \n",
       "303                                 11                   11   \n",
       "83                                   4                   12   \n",
       "\n",
       "            Total Volume Donated (c.c.)  Months since First Donation  \n",
       "Unnamed: 0                                                            \n",
       "659                                3000                           52  \n",
       "276                                1750                           38  \n",
       "263                                 250                            4  \n",
       "303                                2750                           38  \n",
       "83                                 3000                           34  "
      ]
     },
     "execution_count": 8,
     "metadata": {},
     "output_type": "execute_result"
    }
   ],
   "source": [
    "test.head()"
   ]
  },
  {
   "cell_type": "code",
   "execution_count": 9,
   "metadata": {},
   "outputs": [
    {
     "data": {
      "text/plain": [
       "['Months since First Donation',\n",
       " 'Months since Last Donation',\n",
       " 'Number of Donations',\n",
       " 'Total Volume Donated (c.c.)']"
      ]
     },
     "execution_count": 9,
     "metadata": {},
     "output_type": "execute_result"
    }
   ],
   "source": [
    "cols_target = ['Made Donation in March 2007']\n",
    "cols_features = list(set(train.columns) - set(cols_target))\n",
    "cols_features.sort()\n",
    "cols_features"
   ]
  },
  {
   "cell_type": "markdown",
   "metadata": {},
   "source": [
    "## train/validation split"
   ]
  },
  {
   "cell_type": "code",
   "execution_count": 59,
   "metadata": {},
   "outputs": [
    {
     "data": {
      "text/plain": [
       "((576, 4), (0, 4), (576, 1), (0, 1))"
      ]
     },
     "execution_count": 59,
     "metadata": {},
     "output_type": "execute_result"
    }
   ],
   "source": [
    "from sklearn.model_selection import train_test_split\n",
    "test_size=0. # 0.3 FIXME\n",
    "x_train, x_valid, y_train, y_valid = train_test_split(train[cols_features], train[cols_target], test_size=test_size)\n",
    "x_train.shape, x_valid.shape, y_train.shape, y_valid.shape"
   ]
  },
  {
   "cell_type": "markdown",
   "metadata": {},
   "source": [
    "## auto-sklearn"
   ]
  },
  {
   "cell_type": "code",
   "execution_count": 11,
   "metadata": {},
   "outputs": [],
   "source": [
    "import autosklearn.classification\n",
    "import sklearn.model_selection\n",
    "import sklearn.metrics"
   ]
  },
  {
   "cell_type": "code",
   "execution_count": null,
   "metadata": {},
   "outputs": [
    {
     "name": "stdout",
     "output_type": "stream",
     "text": [
      "[WARNING] [2018-04-27 14:25:59,357:smac.intensification.intensification.Intensifier] Challenger was the same as the current incumbent; Skipping challenger\n",
      "[WARNING] [2018-04-27 14:25:59,357:smac.intensification.intensification.Intensifier] Challenger was the same as the current incumbent; Skipping challenger\n",
      "[WARNING] [2018-04-27 14:32:21,710:smac.intensification.intensification.Intensifier] Challenger was the same as the current incumbent; Skipping challenger\n",
      "[WARNING] [2018-04-27 14:32:21,710:smac.intensification.intensification.Intensifier] Challenger was the same as the current incumbent; Skipping challenger\n",
      "[WARNING] [2018-04-27 14:44:15,441:smac.intensification.intensification.Intensifier] Challenger was the same as the current incumbent; Skipping challenger\n",
      "[WARNING] [2018-04-27 14:44:15,441:smac.intensification.intensification.Intensifier] Challenger was the same as the current incumbent; Skipping challenger\n"
     ]
    }
   ],
   "source": [
    "# Auto-sklearn API\n",
    "# http://automl.github.io/auto-sklearn/dev/api.html\n",
    "#\n",
    "# Cross-validation from\n",
    "# https://github.com/automl/auto-sklearn/blob/master/example/example_crossvalidation.py\n",
    "\n",
    "automl = autosklearn.classification.AutoSklearnClassifier(\n",
    "    # time_left_for_this_task=60*60,\n",
    "    # per_run_time_limit=60,\n",
    "    resampling_strategy='cv',\n",
    "    resampling_strategy_arguments={'folds': 5}\n",
    ")\n",
    "\n",
    "# raw data\n",
    "import time\n",
    "print(time.ctime(), 'start fit')\n",
    "automl.fit(x_train.values.copy(), y_train.squeeze().copy())\n",
    "print(time.ctime(), 'start refit')\n",
    "automl.refit(x_train.values.copy(), y_train.squeeze().copy())\n",
    "print(time.ctime(), 'end')\n",
    "    \n",
    "# log(x+1)\n",
    "# automl.fit(np.log(x_train.values+1), y_train.squeeze())\n",
    "\n",
    "print(automl.sprint_statistics())"
   ]
  },
  {
   "cell_type": "code",
   "execution_count": 61,
   "metadata": {},
   "outputs": [
    {
     "name": "stdout",
     "output_type": "stream",
     "text": [
      "auto-sklearn results:\n",
      "  Dataset name: 2d2dcee1b79ffb23ed1259f25c937587\n",
      "  Metric: accuracy\n",
      "  Best validation score: 0.779514\n",
      "  Number of target algorithm runs: 33\n",
      "  Number of successful target algorithm runs: 31\n",
      "  Number of crashed target algorithm runs: 2\n",
      "  Number of target algorithms that exceeded the memory limit: 0\n",
      "  Number of target algorithms that exceeded the time limit: 0\n",
      "\n"
     ]
    }
   ],
   "source": []
  },
  {
   "cell_type": "code",
   "execution_count": 65,
   "metadata": {},
   "outputs": [
    {
     "data": {
      "text/plain": [
       "((576, 4), (576, 1))"
      ]
     },
     "execution_count": 65,
     "metadata": {},
     "output_type": "execute_result"
    }
   ],
   "source": [
    "x_valid = x_train\n",
    "y_valid = y_train\n",
    "x_valid.shape, y_valid.shape"
   ]
  },
  {
   "cell_type": "code",
   "execution_count": 73,
   "metadata": {},
   "outputs": [
    {
     "name": "stdout",
     "output_type": "stream",
     "text": [
      "Accuracy score 0.8402777777777778\n",
      "Log loss 0.4736615021872018\n"
     ]
    }
   ],
   "source": [
    "# raw data/\n",
    "y_hat = automl.predict(x_valid.values)\n",
    "y_prob = automl.predict_proba(x_valid.values)\n",
    "\n",
    "# log(x+1)\n",
    "# y_hat = automl.predict(np.log(x_valid.values+1))\n",
    "# y_prob = automl.predict_proba(np.log(x_valid.values+1))\n",
    "\n",
    "print(\"Accuracy score\", sklearn.metrics.accuracy_score(y_valid, y_hat))\n",
    "\n",
    "y_prob = y_prob[:,automl._automl._classes[0] == 1]\n",
    "\n",
    "print(\"Log loss\", sklearn.metrics.log_loss(y_valid, y_prob))\n",
    "\n",
    "# On raw data\n",
    "# time_left_for_this_task=120, per_run_time_limit=20: Accuracy score 0.75, log loss: 0.55\n",
    "# time_left_for_this_task=240, per_run_time_limit=20: same\n",
    "#\n",
    "# On log(x+1)\n",
    "# time_left_for_this_task=120, per_run_time_limit=20: Accuracy score 0.70, log loss: 0.62"
   ]
  },
  {
   "cell_type": "code",
   "execution_count": 58,
   "metadata": {},
   "outputs": [],
   "source": [
    "# print(automl.show_models())"
   ]
  },
  {
   "cell_type": "markdown",
   "metadata": {},
   "source": [
    "## make a submission from automl"
   ]
  },
  {
   "cell_type": "code",
   "execution_count": 67,
   "metadata": {},
   "outputs": [],
   "source": [
    "y_pred = automl.predict_proba(test[cols_features].values)\n",
    "test[cols_target[0]] = y_pred[:,automl._automl._classes[0] == 1]\n",
    "\n",
    "# test[cols_target[0]].head().reset_index()"
   ]
  },
  {
   "cell_type": "code",
   "execution_count": 68,
   "metadata": {},
   "outputs": [
    {
     "data": {
      "text/html": [
       "<div>\n",
       "<style scoped>\n",
       "    .dataframe tbody tr th:only-of-type {\n",
       "        vertical-align: middle;\n",
       "    }\n",
       "\n",
       "    .dataframe tbody tr th {\n",
       "        vertical-align: top;\n",
       "    }\n",
       "\n",
       "    .dataframe thead th {\n",
       "        text-align: right;\n",
       "    }\n",
       "</style>\n",
       "<table border=\"1\" class=\"dataframe\">\n",
       "  <thead>\n",
       "    <tr style=\"text-align: right;\">\n",
       "      <th></th>\n",
       "      <th></th>\n",
       "      <th>Made Donation in March 2007</th>\n",
       "    </tr>\n",
       "  </thead>\n",
       "  <tbody>\n",
       "    <tr>\n",
       "      <th>0</th>\n",
       "      <td>659</td>\n",
       "      <td>0.515962</td>\n",
       "    </tr>\n",
       "    <tr>\n",
       "      <th>1</th>\n",
       "      <td>276</td>\n",
       "      <td>0.465728</td>\n",
       "    </tr>\n",
       "    <tr>\n",
       "      <th>2</th>\n",
       "      <td>263</td>\n",
       "      <td>0.480432</td>\n",
       "    </tr>\n",
       "    <tr>\n",
       "      <th>3</th>\n",
       "      <td>303</td>\n",
       "      <td>0.482545</td>\n",
       "    </tr>\n",
       "    <tr>\n",
       "      <th>4</th>\n",
       "      <td>83</td>\n",
       "      <td>0.503988</td>\n",
       "    </tr>\n",
       "  </tbody>\n",
       "</table>\n",
       "</div>"
      ],
      "text/plain": [
       "        Made Donation in March 2007\n",
       "0  659                     0.515962\n",
       "1  276                     0.465728\n",
       "2  263                     0.480432\n",
       "3  303                     0.482545\n",
       "4   83                     0.503988"
      ]
     },
     "execution_count": 68,
     "metadata": {},
     "output_type": "execute_result"
    }
   ],
   "source": [
    "to_submit = test[['Unnamed: 0', cols_target[0]]].rename(columns={'Unnamed: 0': ''})\n",
    "to_submit.head()"
   ]
  },
  {
   "cell_type": "code",
   "execution_count": 69,
   "metadata": {},
   "outputs": [],
   "source": [
    "import datetime as dt\n",
    "\n",
    "fn = 'submission_%s.csv'%(dt.datetime.today().strftime('%Y%m%d_%H%M%S'))\n",
    "fn = os.path.join(os.path.pardir, 'data', 'interim', fn)\n",
    "#fn\n",
    "to_submit.to_csv(fn, index=False)\n",
    "\n",
    "from zipfile import ZipFile, ZIP_DEFLATED\n",
    "with ZipFile('%s.zip'%fn, 'w', ZIP_DEFLATED) as myzip:\n",
    "    myzip.write(fn)"
   ]
  }
 ],
 "metadata": {
  "kernelspec": {
   "display_name": "Python 3",
   "language": "python",
   "name": "python3"
  },
  "language_info": {
   "codemirror_mode": {
    "name": "ipython",
    "version": 3
   },
   "file_extension": ".py",
   "mimetype": "text/x-python",
   "name": "python",
   "nbconvert_exporter": "python",
   "pygments_lexer": "ipython3",
   "version": "3.5.2"
  }
 },
 "nbformat": 4,
 "nbformat_minor": 2
}
