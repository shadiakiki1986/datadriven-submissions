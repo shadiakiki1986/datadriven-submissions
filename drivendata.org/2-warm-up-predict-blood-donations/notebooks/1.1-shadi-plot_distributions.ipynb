{
 "cells": [
  {
   "cell_type": "code",
   "execution_count": null,
   "metadata": {},
   "outputs": [],
   "source": [
    "import seaborn as sns\n",
    "from matplotlib import pyplot as plt\n",
    "import numpy as np\n",
    "import time"
   ]
  },
  {
   "cell_type": "markdown",
   "metadata": {},
   "source": [
    "## Read data"
   ]
  },
  {
   "cell_type": "code",
   "execution_count": null,
   "metadata": {},
   "outputs": [],
   "source": [
    "from src.features import load_raw, imply_columns"
   ]
  },
  {
   "cell_type": "code",
   "execution_count": null,
   "metadata": {},
   "outputs": [],
   "source": [
    "df = load_raw()\n",
    "\n",
    "from src.features import append_features\n",
    "\n",
    "df['train'], df['submit'] = map(append_features, [df['train'], df['submit']])\n",
    "\n",
    "cols = imply_columns(df)"
   ]
  },
  {
   "cell_type": "code",
   "execution_count": null,
   "metadata": {},
   "outputs": [],
   "source": [
    "df['train'].shape, df['train'].columns"
   ]
  },
  {
   "cell_type": "code",
   "execution_count": null,
   "metadata": {},
   "outputs": [],
   "source": [
    "df['train'].head()"
   ]
  },
  {
   "cell_type": "code",
   "execution_count": null,
   "metadata": {},
   "outputs": [],
   "source": [
    "df['submit'].shape, df['submit'].columns"
   ]
  },
  {
   "cell_type": "code",
   "execution_count": null,
   "metadata": {},
   "outputs": [],
   "source": [
    "df['submit'].head()"
   ]
  },
  {
   "cell_type": "code",
   "execution_count": null,
   "metadata": {},
   "outputs": [],
   "source": [
    "cols"
   ]
  },
  {
   "cell_type": "raw",
   "metadata": {},
   "source": [
    "# useless\n",
    "for i in range(len(cols['features'])):\n",
    "    df_in = df['train'].sort_values(cols['features'][i]).reset_index()\n",
    "    x_in = df_in[cols['features'][i]]\n",
    "    y_in = df_in[cols['target'][0]].values\n",
    "    #plt.plot(x_in[y_in==0], '.', alpha=0.3, label='0')\n",
    "    plt.plot(x_in[y_in==1], '.', alpha=0.1, label='1')\n",
    "    plt.plot(x_in[y_in==0], '.', alpha=0.1, label='0')\n",
    "    plt.legend()\n",
    "    plt.title('before %s'%i)\n",
    "    plt.show()"
   ]
  },
  {
   "cell_type": "markdown",
   "metadata": {},
   "source": [
    "## plot distributions per target class"
   ]
  },
  {
   "cell_type": "code",
   "execution_count": null,
   "metadata": {
    "scrolled": false
   },
   "outputs": [],
   "source": [
    "for col in cols['features']:\n",
    "    df_in = df['train']\n",
    "    x_in = df_in[col]\n",
    "    y_in = df_in[cols['target'][0]].values\n",
    "    sns.distplot(x_in[y_in==0])\n",
    "    sns.distplot(x_in[y_in==1])\n",
    "    plt.legend(['0', '1'])\n",
    "    #plt.title(col)\n",
    "    plt.show()"
   ]
  },
  {
   "cell_type": "code",
   "execution_count": null,
   "metadata": {},
   "outputs": [],
   "source": []
  },
  {
   "cell_type": "markdown",
   "metadata": {
    "scrolled": false
   },
   "source": [
    "## joint distribution: feature vs target"
   ]
  },
  {
   "cell_type": "code",
   "execution_count": null,
   "metadata": {
    "scrolled": true
   },
   "outputs": [],
   "source": [
    "c2 = cols['target'][0]\n",
    "for c1 in cols['features']:\n",
    "    sns.jointplot(c1, c2,\n",
    "                  data=df['train'],\n",
    "                  kind=\"kde\", space=0, color=\"g\")"
   ]
  },
  {
   "cell_type": "markdown",
   "metadata": {
    "scrolled": true
   },
   "source": [
    "## joint distributions: feature 1 and feature 2 vs target"
   ]
  },
  {
   "cell_type": "code",
   "execution_count": null,
   "metadata": {
    "scrolled": true
   },
   "outputs": [],
   "source": [
    "import itertools\n",
    "y_in = df['train'][cols['target'][0]]\n",
    "for c1, c2 in itertools.combinations(cols['features'], 2):\n",
    "    sns.jointplot(c1, c2,\n",
    "                  data=df['train'][y_in==0],\n",
    "                  kind=\"kde\", space=0, color=\"g\")\n",
    "    plt.show()\n",
    "    sns.jointplot(c1, c2,\n",
    "                  data=df['train'][y_in==1],\n",
    "                  kind=\"kde\", space=0, color=\"r\")\n",
    "    plt.show()\n",
    "    #break"
   ]
  },
  {
   "cell_type": "markdown",
   "metadata": {},
   "source": [
    "## select k best features using chi2 test"
   ]
  },
  {
   "cell_type": "code",
   "execution_count": null,
   "metadata": {},
   "outputs": [],
   "source": [
    "# copied from http://scikit-learn.org/stable/auto_examples/text/document_classification_20newsgroups.html#sphx-glr-auto-examples-text-document-classification-20newsgroups-py\n",
    "from sklearn.feature_selection import SelectKBest, chi2, f_classif\n",
    "from time import time\n",
    "\n",
    "t0 = time()\n",
    "# ch2 = SelectKBest(chi2, k=3)\n",
    "ch2 = SelectKBest(f_classif, k=3)\n",
    "X_train = ch2.fit_transform(df['train'][cols['features']], df['train'][cols['target'][0]])\n",
    "selected_features = [cols['features'][i] for i in ch2.get_support(indices=True)]\n",
    "print(\"done in %fs\" % (time() - t0))\n",
    "\n",
    "selected_features"
   ]
  },
  {
   "cell_type": "code",
   "execution_count": null,
   "metadata": {},
   "outputs": [],
   "source": []
  },
  {
   "cell_type": "markdown",
   "metadata": {},
   "source": [
    "## calculate mutual information\n",
    "http://scikit-learn.org/stable/modules/generated/sklearn.feature_selection.mutual_info_classif.html#sklearn.feature_selection.mutual_info_classif"
   ]
  },
  {
   "cell_type": "code",
   "execution_count": null,
   "metadata": {},
   "outputs": [],
   "source": [
    "from sklearn.feature_selection import mutual_info_classif\n",
    "result = mutual_info_classif(\n",
    "    df['train'][cols['features']],\n",
    "    df['train'][cols['target'][0]],\n",
    "    # df['train'][cols['features'][0]], # to hint at colinearity\n",
    "    discrete_features='auto',\n",
    "    n_neighbors=20,\n",
    "    copy=True,\n",
    "    random_state=None\n",
    ")\n",
    "import pandas as pd\n",
    "pd.DataFrame({'mi': result, 'feat': cols['features']}).sort_values('mi', ascending=False)\n",
    "# , np.argsort(result), np.array(cols['features'])[np.argsort(result)]\n",
    "# result, np.array(cols['features'])[np.argsort(result)]"
   ]
  },
  {
   "cell_type": "code",
   "execution_count": null,
   "metadata": {},
   "outputs": [],
   "source": []
  }
 ],
 "metadata": {
  "kernelspec": {
   "display_name": "Python 3",
   "language": "python",
   "name": "python3"
  },
  "language_info": {
   "codemirror_mode": {
    "name": "ipython",
    "version": 3
   },
   "file_extension": ".py",
   "mimetype": "text/x-python",
   "name": "python",
   "nbconvert_exporter": "python",
   "pygments_lexer": "ipython3",
   "version": "3.5.2"
  }
 },
 "nbformat": 4,
 "nbformat_minor": 2
}
