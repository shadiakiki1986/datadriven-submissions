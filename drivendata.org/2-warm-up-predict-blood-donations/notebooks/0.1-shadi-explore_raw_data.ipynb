{
 "cells": [
  {
   "cell_type": "code",
   "execution_count": null,
   "metadata": {},
   "outputs": [],
   "source": [
    "import pandas as pd\n",
    "import os\n",
    "import seaborn as sns\n",
    "from matplotlib import pyplot as plt\n",
    "import numpy as np"
   ]
  },
  {
   "cell_type": "markdown",
   "metadata": {},
   "source": [
    "## Read data"
   ]
  },
  {
   "cell_type": "code",
   "execution_count": null,
   "metadata": {},
   "outputs": [],
   "source": [
    "train = pd.read_csv(os.path.join(os.path.pardir,'data','raw','train.csv'))\n",
    "test = pd.read_csv(os.path.join(os.path.pardir,'data','raw','test.csv'))"
   ]
  },
  {
   "cell_type": "code",
   "execution_count": null,
   "metadata": {},
   "outputs": [],
   "source": [
    "assert not train['Unnamed: 0'].duplicated().any()\n",
    "\n",
    "test = test[~test['Unnamed: 0'].duplicated()]\n",
    "assert not test['Unnamed: 0'].duplicated().any()"
   ]
  },
  {
   "cell_type": "code",
   "execution_count": null,
   "metadata": {},
   "outputs": [],
   "source": [
    "train = train.set_index('Unnamed: 0')\n",
    "test  = test.set_index('Unnamed: 0')"
   ]
  },
  {
   "cell_type": "code",
   "execution_count": null,
   "metadata": {},
   "outputs": [],
   "source": [
    "train.shape, train.columns"
   ]
  },
  {
   "cell_type": "code",
   "execution_count": null,
   "metadata": {},
   "outputs": [],
   "source": [
    "train.head()"
   ]
  },
  {
   "cell_type": "code",
   "execution_count": null,
   "metadata": {},
   "outputs": [],
   "source": [
    "test.shape, test.columns"
   ]
  },
  {
   "cell_type": "code",
   "execution_count": null,
   "metadata": {},
   "outputs": [],
   "source": [
    "test.head()"
   ]
  },
  {
   "cell_type": "code",
   "execution_count": null,
   "metadata": {},
   "outputs": [],
   "source": [
    "cols_target = ['Made Donation in March 2007']\n",
    "cols_features = list(set(train.columns) - set(cols_target))\n",
    "cols_features.sort()\n",
    "cols_features"
   ]
  },
  {
   "cell_type": "markdown",
   "metadata": {},
   "source": [
    "## Plot"
   ]
  },
  {
   "cell_type": "raw",
   "metadata": {},
   "source": [
    "for col in train.columns:\n",
    "    # sns.tsplot(train['Months since Last Donation'])\n",
    "    sns.tsplot(train[col].sort_values())\n",
    "    plt.title(col)\n",
    "    plt.show()\n",
    "    sns.distplot(train[col])\n",
    "    plt.title(col)\n",
    "    plt.show()\n",
    "    sns.tsplot(np.log(train[col].sort_values()+1))\n",
    "    plt.title(col)\n",
    "    plt.show()\n"
   ]
  },
  {
   "cell_type": "markdown",
   "metadata": {},
   "source": [
    "## train/test split"
   ]
  },
  {
   "cell_type": "code",
   "execution_count": null,
   "metadata": {},
   "outputs": [],
   "source": [
    "from sklearn.model_selection import train_test_split\n",
    "x_train, x_valid, y_train, y_valid = train_test_split(train[cols_features], train[cols_target], test_size=0.3)\n",
    "x_train.shape, x_valid.shape, y_train.shape, y_valid.shape"
   ]
  },
  {
   "cell_type": "markdown",
   "metadata": {},
   "source": [
    "## sklearn SVM classification"
   ]
  },
  {
   "cell_type": "code",
   "execution_count": null,
   "metadata": {},
   "outputs": [],
   "source": [
    "from sklearn.svm import LinearSVC\n",
    "clf = LinearSVC()\n",
    "clf.fit(x_train, y_train.squeeze())\n",
    "# ratio of number of correct to total number\n",
    "clf.score(x_valid, y_valid.squeeze())"
   ]
  },
  {
   "cell_type": "code",
   "execution_count": null,
   "metadata": {},
   "outputs": [],
   "source": [
    "from sklearn.svm import LinearSVC\n",
    "clf = LinearSVC()\n",
    "clf.fit(np.log(x_train+1), y_train.squeeze())\n",
    "# ratio of number of correct to total number\n",
    "clf.score(np.log(x_valid+1), y_valid.squeeze())"
   ]
  },
  {
   "cell_type": "raw",
   "metadata": {},
   "source": [
    "from sklearn.svm import NuSVC\n",
    "clf = NuSVC()\n",
    "clf.fit(x_train, y_train.squeeze())\n",
    "# ratio of number of correct to total number\n",
    "clf.score(x_valid, y_valid.squeeze())"
   ]
  },
  {
   "cell_type": "code",
   "execution_count": null,
   "metadata": {},
   "outputs": [],
   "source": [
    "from sklearn.svm import SVC\n",
    "clf = SVC()\n",
    "clf.fit(x_train, y_train.squeeze())\n",
    "# ratio of number of correct to total number\n",
    "clf.score(x_valid, y_valid.squeeze())"
   ]
  },
  {
   "cell_type": "code",
   "execution_count": null,
   "metadata": {},
   "outputs": [],
   "source": [
    "from sklearn.svm import SVC\n",
    "clf = SVC()\n",
    "clf.fit(np.log(x_train+1), y_train.squeeze())\n",
    "# ratio of number of correct to total number\n",
    "clf.score(np.log(x_valid+1), y_valid.squeeze())"
   ]
  },
  {
   "cell_type": "markdown",
   "metadata": {},
   "source": [
    "## sklearn Decision trees"
   ]
  },
  {
   "cell_type": "code",
   "execution_count": null,
   "metadata": {},
   "outputs": [],
   "source": [
    "from sklearn.tree import DecisionTreeClassifier\n",
    "clf = DecisionTreeClassifier()\n",
    "clf.fit(x_train, y_train.squeeze())\n",
    "# ratio of number of correct to total number\n",
    "clf.score(x_valid, y_valid.squeeze())"
   ]
  },
  {
   "cell_type": "code",
   "execution_count": null,
   "metadata": {},
   "outputs": [],
   "source": [
    "from sklearn.tree import DecisionTreeClassifier\n",
    "clf = DecisionTreeClassifier()\n",
    "clf.fit(np.log(x_train+1), y_train.squeeze())\n",
    "# ratio of number of correct to total number\n",
    "clf.score(np.log(x_valid+1), y_valid.squeeze())"
   ]
  },
  {
   "cell_type": "markdown",
   "metadata": {},
   "source": [
    "## sklearn ensemble method"
   ]
  },
  {
   "cell_type": "code",
   "execution_count": null,
   "metadata": {},
   "outputs": [],
   "source": [
    "from sklearn.ensemble import RandomForestClassifier\n",
    "clf = RandomForestClassifier()\n",
    "clf.fit(x_train, y_train.squeeze())\n",
    "# ratio of number of correct to total number\n",
    "clf.score(x_valid, y_valid.squeeze())"
   ]
  },
  {
   "cell_type": "code",
   "execution_count": null,
   "metadata": {},
   "outputs": [],
   "source": [
    "from sklearn.ensemble import RandomForestClassifier\n",
    "clf = RandomForestClassifier()\n",
    "clf.fit(np.log(x_train+1), y_train.squeeze())\n",
    "# ratio of number of correct to total number\n",
    "clf.score(np.log(x_valid+1), y_valid.squeeze())"
   ]
  },
  {
   "cell_type": "markdown",
   "metadata": {},
   "source": [
    "## sklearn RF embedding followed by bayes\n",
    "\n",
    "http://scikit-learn.org/stable/auto_examples/ensemble/plot_random_forest_embedding.html#sphx-glr-auto-examples-ensemble-plot-random-forest-embedding-py\n",
    "    "
   ]
  },
  {
   "cell_type": "code",
   "execution_count": null,
   "metadata": {},
   "outputs": [],
   "source": [
    "from sklearn.ensemble import RandomTreesEmbedding, ExtraTreesClassifier\n",
    "from sklearn.decomposition import TruncatedSVD\n",
    "from sklearn.naive_bayes import BernoulliNB\n",
    "import numpy as np"
   ]
  },
  {
   "cell_type": "code",
   "execution_count": null,
   "metadata": {},
   "outputs": [],
   "source": [
    "def calc_1(X, y):\n",
    "    # use RandomTreesEmbedding to transform data\n",
    "    hasher = RandomTreesEmbedding(n_estimators=10, random_state=0, max_depth=10)\n",
    "    X_transformed = hasher.fit_transform(X)\n",
    "\n",
    "    # Visualize result after dimensionality reduction using truncated SVD\n",
    "    svd = TruncatedSVD(n_components=2)\n",
    "    X_reduced = svd.fit_transform(X_transformed)\n",
    "\n",
    "    svd = TruncatedSVD(n_components=2)\n",
    "    X_raw_2d = svd.fit_transform(X)\n",
    "\n",
    "    # scatter plot of original and reduced data\n",
    "    fig = plt.figure(figsize=(9, 8))\n",
    "\n",
    "    ax = plt.subplot(221)\n",
    "    ax.scatter(X_raw_2d[:, 0], X_raw_2d[:, 1], c=y, s=50, edgecolor='k')\n",
    "    ax.set_title(\"Original Data (2d)\")\n",
    "    ax.set_xticks(())\n",
    "    ax.set_yticks(())\n",
    "\n",
    "    ax = plt.subplot(222)\n",
    "    ax.scatter(X_reduced[:, 0], X_reduced[:, 1], c=y, s=50, edgecolor='k')\n",
    "    ax.set_title(\"Truncated SVD reduction (2d) of transformed data (%dd)\" %\n",
    "                 X_transformed.shape[1])\n",
    "    ax.set_xticks(())\n",
    "    ax.set_yticks(())\n",
    "    \n",
    "    plt.show()\n",
    "    \n",
    "    return X_transformed, hasher"
   ]
  },
  {
   "cell_type": "code",
   "execution_count": null,
   "metadata": {},
   "outputs": [],
   "source": [
    "X_transformed_raw, hasher_raw = calc_1(     x_train.values, y_train.squeeze())\n",
    "X_transformed_log, hasher_log = calc_1(np.log(x_train.values + 1), y_train.squeeze())"
   ]
  },
  {
   "cell_type": "code",
   "execution_count": null,
   "metadata": {},
   "outputs": [],
   "source": [
    "import gc\n",
    "gc.collect()"
   ]
  },
  {
   "cell_type": "code",
   "execution_count": null,
   "metadata": {},
   "outputs": [],
   "source": [
    "def calc_2(X_transformed, y):\n",
    "    # Learn a Naive Bayes classifier on the transformed data\n",
    "    nb = BernoulliNB()\n",
    "    nb.fit(X_transformed, y)\n",
    "\n",
    "    # Learn an ExtraTreesClassifier for comparison\n",
    "    trees = ExtraTreesClassifier(max_depth=30, n_estimators=100, random_state=0)\n",
    "    trees.fit(X_transformed, y)\n",
    "\n",
    "    rf = RandomForestClassifier(max_depth=30, n_estimators=100, random_state=0)\n",
    "    rf.fit(X_transformed, y)\n",
    "    \n",
    "    return nb, trees, rf"
   ]
  },
  {
   "cell_type": "code",
   "execution_count": null,
   "metadata": {},
   "outputs": [],
   "source": [
    "nb_raw, trees_raw, rf_raw = calc_2(       x_train.values   , y_train.squeeze())\n",
    "nb_log, trees_log, rf_log = calc_2(np.log(x_train.values+1), y_train.squeeze())\n",
    "\n",
    "nb_t_raw, trees_t_raw, rf_t_raw = calc_2(X_transformed_raw, y_train.squeeze())\n",
    "nb_t_log, trees_t_log, rf_t_log = calc_2(X_transformed_log, y_train.squeeze())"
   ]
  },
  {
   "cell_type": "code",
   "execution_count": null,
   "metadata": {},
   "outputs": [],
   "source": [
    "y2=y_valid.squeeze()\n",
    "\n",
    "X2_transformed_raw = hasher_raw.transform(       x_valid.values)\n",
    "X2_transformed_log = hasher_log.transform(np.log(x_valid.values + 1))"
   ]
  },
  {
   "cell_type": "code",
   "execution_count": null,
   "metadata": {},
   "outputs": [],
   "source": [
    "nb_raw.score(x_valid.values, y2), trees_raw.score(x_valid.values, y2), rf_raw.score(x_valid.values, y2)"
   ]
  },
  {
   "cell_type": "code",
   "execution_count": null,
   "metadata": {},
   "outputs": [],
   "source": [
    "x_in = np.log(x_valid.values+1)\n",
    "nb_log.score(x_in, y2), trees_log.score(x_in, y2), rf_log.score(x_in, y2)"
   ]
  },
  {
   "cell_type": "code",
   "execution_count": null,
   "metadata": {},
   "outputs": [],
   "source": [
    "nb_t_raw.score(X2_transformed_raw, y2), trees_t_raw.score(X2_transformed_raw, y2), rf_t_raw.score(X2_transformed_raw, y2)"
   ]
  },
  {
   "cell_type": "code",
   "execution_count": null,
   "metadata": {},
   "outputs": [],
   "source": [
    "nb_t_log.score(X2_transformed_log, y2), trees_t_log.score(X2_transformed_log, y2), rf_t_log.score(X2_transformed_log, y2)"
   ]
  },
  {
   "cell_type": "code",
   "execution_count": null,
   "metadata": {},
   "outputs": [],
   "source": []
  },
  {
   "cell_type": "markdown",
   "metadata": {},
   "source": [
    "## auto-sklearn"
   ]
  },
  {
   "cell_type": "code",
   "execution_count": null,
   "metadata": {},
   "outputs": [],
   "source": [
    "import autosklearn.classification\n",
    "import sklearn.model_selection\n",
    "import sklearn.metrics"
   ]
  },
  {
   "cell_type": "code",
   "execution_count": null,
   "metadata": {},
   "outputs": [],
   "source": [
    "automl = autosklearn.classification.AutoSklearnClassifier(time_left_for_this_task=120, per_run_time_limit=10)\n",
    "automl.fit(x_train.values, y_train.squeeze())\n",
    "y_hat = automl.predict(x_valid.values)\n",
    "print(\"Accuracy score\", sklearn.metrics.accuracy_score(y_valid, y_hat))"
   ]
  },
  {
   "cell_type": "code",
   "execution_count": null,
   "metadata": {},
   "outputs": [],
   "source": [
    "# print(automl.show_models())"
   ]
  },
  {
   "cell_type": "markdown",
   "metadata": {},
   "source": [
    "### try on log"
   ]
  },
  {
   "cell_type": "code",
   "execution_count": null,
   "metadata": {},
   "outputs": [],
   "source": [
    "import time\n",
    "print(time.ctime(), 'start')\n",
    "automl_log = autosklearn.classification.AutoSklearnClassifier(time_left_for_this_task=120, per_run_time_limit=10)\n",
    "automl_log.fit(np.log(x_train.values+1), y_train.squeeze())\n",
    "y_hat2 = automl_log.predict(np.log(x_valid.values+1))\n",
    "print(time.ctime(), 'end')\n",
    "print(\"Accuracy score\", sklearn.metrics.accuracy_score(y_valid, y_hat2))"
   ]
  },
  {
   "cell_type": "markdown",
   "metadata": {},
   "source": [
    "## make a submission from automl"
   ]
  },
  {
   "cell_type": "code",
   "execution_count": null,
   "metadata": {},
   "outputs": [],
   "source": [
    "y_pred = automl.predict_proba(test[cols_features].values)\n",
    "y_pred.shape\n",
    "#test[cols_target[0]] = y_pred\n",
    "#test.head()"
   ]
  }
 ],
 "metadata": {
  "kernelspec": {
   "display_name": "Python 3",
   "language": "python",
   "name": "python3"
  },
  "language_info": {
   "codemirror_mode": {
    "name": "ipython",
    "version": 3
   },
   "file_extension": ".py",
   "mimetype": "text/x-python",
   "name": "python",
   "nbconvert_exporter": "python",
   "pygments_lexer": "ipython3",
   "version": "3.5.2"
  }
 },
 "nbformat": 4,
 "nbformat_minor": 2
}
