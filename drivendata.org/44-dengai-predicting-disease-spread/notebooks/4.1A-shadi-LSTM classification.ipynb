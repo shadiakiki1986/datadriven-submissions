{
 "cells": [
  {
   "cell_type": "markdown",
   "metadata": {},
   "source": [
    "Change from 3\n",
    "\n",
    "- LSTM instead of RF\n",
    "- normalizing data to [-1,+1]\n",
    "\n",
    "For reference, check https://github.com/drivendata/benchmarks/blob/master/dengue-benchmark-statsmodels.ipynb"
   ]
  },
  {
   "cell_type": "code",
   "execution_count": null,
   "metadata": {},
   "outputs": [],
   "source": [
    "from matplotlib import pyplot as plt\n",
    "import pandas as pd\n",
    "import time"
   ]
  },
  {
   "cell_type": "code",
   "execution_count": null,
   "metadata": {},
   "outputs": [],
   "source": [
    "# use 0.2 data\n",
    "df_is_epidemic = pd.read_pickle('data/processed/0.2A-is_epidemic.pkl')"
   ]
  },
  {
   "cell_type": "code",
   "execution_count": null,
   "metadata": {},
   "outputs": [],
   "source": [
    "# load 5.1 data\n",
    "df_targ = pd.read_pickle('data/processed/5.1B-df_targ.pkl')\n",
    "df_feat_2 = pd.read_pickle('data/processed/5.1B-df_feat_2.pkl')\n",
    "df_meta = pd.read_pickle('data/processed/5.1B-df_meta.pkl')"
   ]
  },
  {
   "cell_type": "code",
   "execution_count": null,
   "metadata": {},
   "outputs": [],
   "source": [
    "df_targ.shape, df_is_epidemic.shape"
   ]
  },
  {
   "cell_type": "code",
   "execution_count": null,
   "metadata": {},
   "outputs": [],
   "source": [
    "# note automatic index matching eventhough not same dimensions\n",
    "df_targ['is_epidemic'] = df_is_epidemic['is_epidemic']"
   ]
  },
  {
   "cell_type": "code",
   "execution_count": null,
   "metadata": {},
   "outputs": [],
   "source": [
    "df_targ.tail(n=2)"
   ]
  },
  {
   "cell_type": "code",
   "execution_count": null,
   "metadata": {},
   "outputs": [],
   "source": [
    "df_is_epidemic.head(n=2)"
   ]
  },
  {
   "cell_type": "markdown",
   "metadata": {},
   "source": [
    "## selected features"
   ]
  },
  {
   "cell_type": "code",
   "execution_count": null,
   "metadata": {},
   "outputs": [],
   "source": [
    "# all that make sense\n",
    "selected_features = [x for x in df_feat_2.columns\n",
    "                     if (x.endswith('_trend') and not x.startswith('weekofyear'))\n",
    "                    or x=='weekofyear_original']\n",
    "\n",
    "selected_features"
   ]
  },
  {
   "cell_type": "markdown",
   "metadata": {},
   "source": [
    "## LSTM params"
   ]
  },
  {
   "cell_type": "code",
   "execution_count": null,
   "metadata": {},
   "outputs": [],
   "source": [
    "lahead = 10 # 60 yields no classification results\n",
    "batch_size = 16 # smaller batches lead to less loss of data when truncating non-multiples of batch_size"
   ]
  },
  {
   "cell_type": "markdown",
   "metadata": {},
   "source": [
    "## create rolling windows for LSTM"
   ]
  },
  {
   "cell_type": "code",
   "execution_count": null,
   "metadata": {},
   "outputs": [],
   "source": [
    "import numpy as np"
   ]
  },
  {
   "cell_type": "code",
   "execution_count": null,
   "metadata": {},
   "outputs": [],
   "source": [
    "def stride_group(group, n_back):\n",
    "    out = []\n",
    "    for i in range(n_back):\n",
    "        out.append(group.shift(i).values)\n",
    "        \n",
    "    out = np.stack(out, axis=2)[(n_back-1):, :, :] # drop first lahead\n",
    "    out = np.swapaxes(out, 1, 2)\n",
    "    out = np.flip(out, axis=1) # so that the index=0 is the oldest, and index=4 is latest\n",
    "    return out\n",
    "\n",
    "stride_group_2 = lambda x: stride_group(x, lahead)"
   ]
  },
  {
   "cell_type": "markdown",
   "metadata": {},
   "source": [
    "## drop 1st x rows if they are not a multiple of batch_size\n"
   ]
  },
  {
   "cell_type": "code",
   "execution_count": null,
   "metadata": {},
   "outputs": [],
   "source": [
    "def my_truncate(df):\n",
    "    return (df.groupby(level='city', as_index=False)\n",
    "              .apply(lambda group: group.tail(group.shape[0] - (group.shape[0]%batch_size)))\n",
    "              .reset_index(level=0, drop=True)\n",
    "            )"
   ]
  },
  {
   "cell_type": "markdown",
   "metadata": {},
   "source": [
    "## prepare data to fit"
   ]
  },
  {
   "cell_type": "code",
   "execution_count": null,
   "metadata": {},
   "outputs": [],
   "source": [
    "# https://keras.io/layers/recurrent/#lstm\n",
    "from keras.models import Sequential\n",
    "from keras.layers import Dense, LSTM, Lambda, Dropout\n"
   ]
  },
  {
   "cell_type": "code",
   "execution_count": null,
   "metadata": {},
   "outputs": [],
   "source": [
    "def create_model():\n",
    "    model = Sequential()\n",
    "    model.add(LSTM(100,\n",
    "              input_shape=(lahead, len(selected_features)),\n",
    "              batch_size=batch_size,\n",
    "              activation='linear'))\n",
    "    model.add(Dense(50, activation='relu'))\n",
    "    model.add(Dense(1, activation='sigmoid'))\n",
    "    model.add(Dropout(0.2))\n",
    "    model.compile(loss='binary_crossentropy', optimizer='adam')\n",
    "    return model"
   ]
  },
  {
   "cell_type": "code",
   "execution_count": null,
   "metadata": {},
   "outputs": [],
   "source": [
    "df_train = df_feat_2.loc[~df_meta['submit']]"
   ]
  },
  {
   "cell_type": "code",
   "execution_count": null,
   "metadata": {},
   "outputs": [],
   "source": [
    "# note avoiding class bias\n",
    "x_retrain = df_train[selected_features]\n",
    "y_retrain = df_targ.loc[~df_meta['submit']][['is_epidemic']].astype('int') # [['total_cases']]\n",
    "x_retrain.shape, y_retrain.shape, y_retrain.groupby('city').size()"
   ]
  },
  {
   "cell_type": "code",
   "execution_count": null,
   "metadata": {},
   "outputs": [],
   "source": [
    "y_retrain['is_epidemic'].loc['sj'].plot(label='sj')\n",
    "(y_retrain['is_epidemic']+1.2).loc['iq'].plot(label='iq+1.2')\n",
    "plt.legend()\n",
    "plt.show()"
   ]
  },
  {
   "cell_type": "code",
   "execution_count": null,
   "metadata": {},
   "outputs": [],
   "source": [
    "xretrain_roll = x_retrain.groupby(level='city').apply(stride_group_2)\n",
    "yretrain_roll = (y_retrain\n",
    "                 .groupby(level='city', as_index=False)\n",
    "                 .apply(lambda group: group.iloc[(lahead-1):])\n",
    "                 .reset_index(level=0, drop=True)\n",
    "                )\n",
    "\n",
    "# drop lahead per city\n",
    "for city in ['sj','iq']:\n",
    "    to_drop = xretrain_roll.loc[city].shape[0]%batch_size\n",
    "    print('drop non-multiple', city, to_drop)\n",
    "    xretrain_roll.loc[city] = xretrain_roll.loc[city][(to_drop):]\n",
    "    \n",
    "yretrain_roll = my_truncate(yretrain_roll)\n"
   ]
  },
  {
   "cell_type": "code",
   "execution_count": null,
   "metadata": {},
   "outputs": [],
   "source": [
    "xretrain_roll.loc['sj'].shape, xretrain_roll.loc['iq'].shape, yretrain_roll.shape"
   ]
  },
  {
   "cell_type": "markdown",
   "metadata": {},
   "source": [
    "## fit model"
   ]
  },
  {
   "cell_type": "code",
   "execution_count": null,
   "metadata": {},
   "outputs": [],
   "source": [
    "# initialize\n",
    "mod1 = {}"
   ]
  },
  {
   "cell_type": "code",
   "execution_count": null,
   "metadata": {},
   "outputs": [],
   "source": [
    "for city in ['sj', 'iq']:\n",
    "    #if city=='sj': continue\n",
    "    print(city)\n",
    "    #if city=='sj': continue # FIXME fitting sj model\n",
    "    mod1[city] = create_model()\n",
    "    #if city=='iq': continue # FIXME skipping iq model\n",
    "    mod1[city].summary()\n",
    "    "
   ]
  },
  {
   "cell_type": "code",
   "execution_count": null,
   "metadata": {
    "scrolled": true
   },
   "outputs": [],
   "source": [
    "# actual fit\n",
    "for city in ['sj', 'iq']:\n",
    "    #if city=='sj': continue\n",
    "    print(city)\n",
    "    print(time.ctime(),'fit start')\n",
    "    history = mod1[city].fit(\n",
    "             xretrain_roll.loc[city],\n",
    "             yretrain_roll.loc[city],\n",
    "             batch_size=batch_size,\n",
    "             epochs=250, #500, # 1000,\n",
    "             verbose=2,\n",
    "             #validation_data=None,\n",
    "             shuffle=False\n",
    "        )\n",
    "    print(time.ctime(),'fit end')\n",
    "    \n",
    "    plt.plot(history.history['loss'], label='loss')\n",
    "    #plt.plot(history.history['val_loss'], label='val_loss')\n",
    "    plt.legend()\n",
    "    plt.title(city)\n",
    "    plt.show()"
   ]
  },
  {
   "cell_type": "markdown",
   "metadata": {},
   "source": [
    "## plot trained result"
   ]
  },
  {
   "cell_type": "code",
   "execution_count": null,
   "metadata": {},
   "outputs": [],
   "source": [
    "xretrain_roll.index"
   ]
  },
  {
   "cell_type": "code",
   "execution_count": null,
   "metadata": {},
   "outputs": [],
   "source": [
    "yretrain_roll.groupby('city').head()"
   ]
  },
  {
   "cell_type": "code",
   "execution_count": null,
   "metadata": {},
   "outputs": [],
   "source": [
    "def my_predict(city, np_in, index):\n",
    "    np_pred = mod1[city].predict(np_in, batch_size=batch_size)\n",
    "    out = pd.DataFrame({\n",
    "        'is_epidemic': np_pred.squeeze(), \n",
    "        'city': city, \n",
    "        'week_of_year': index,\n",
    "    }).set_index(['city', 'week_of_year'])\n",
    "    return out\n",
    "\n",
    "yretrain_pred = pd.concat([my_predict(city, xretrain_roll.loc[city], yretrain_roll.loc[city].index) for city in ['sj','iq']], axis=0)\n",
    "\n",
    "# reverse log10 transform\n",
    "# y_pred['total_cases'] = ((10**((y_pred['total_cases']).clip(upper=3)))-1).astype(int)"
   ]
  },
  {
   "cell_type": "code",
   "execution_count": null,
   "metadata": {},
   "outputs": [],
   "source": [
    "yretrain_pred.head()"
   ]
  },
  {
   "cell_type": "code",
   "execution_count": null,
   "metadata": {},
   "outputs": [],
   "source": [
    "for city in ['sj','iq']:\n",
    "    (yretrain_pred.loc[city]['is_epidemic']).plot(label='predicted + 1.2')\n",
    "    yretrain_roll.loc[city]['is_epidemic'].astype('int').plot(label='actual', figsize=(20,3))\n",
    "    plt.show()"
   ]
  },
  {
   "cell_type": "markdown",
   "metadata": {},
   "source": [
    "## predict `is_epidemic` on submission"
   ]
  },
  {
   "cell_type": "code",
   "execution_count": null,
   "metadata": {},
   "outputs": [],
   "source": [
    "x_submit = df_feat_2.loc[ df_meta['submit'], selected_features]\n",
    "\n",
    "xsubmit_roll = x_submit.groupby(level='city').apply(stride_group_2)\n",
    "\n",
    "# drop non-batch_size multiple\n",
    "for city in ['sj','iq']:\n",
    "    xsubmit_roll.loc[city] = xsubmit_roll.loc[city][(xsubmit_roll.loc[city].shape[0]%batch_size):]\n",
    "    \n",
    "# choose any field from x_submit just to get the index\n",
    "ysubmit_roll = (x_submit[['weekofyear_original']]\n",
    "                 .groupby(level='city', as_index=False)\n",
    "                 .apply(lambda group: group.iloc[(lahead-1):])\n",
    "                 .reset_index(level=0, drop=True)\n",
    "                *0\n",
    "                )    \n",
    "ysubmit_roll = my_truncate(ysubmit_roll)\n",
    "\n",
    "ysubmit_pred = pd.concat([my_predict(city, xsubmit_roll.loc[city], ysubmit_roll.loc[city].index) for city in ['sj','iq']], axis=0)\n",
    "\n",
    "# reverse log10 transform\n",
    "# y_pred['total_cases'] = ((10**((y_pred['total_cases']).clip(upper=3)))-1).astype(int)"
   ]
  },
  {
   "cell_type": "code",
   "execution_count": null,
   "metadata": {},
   "outputs": [],
   "source": [
    "for city in ['sj','iq']:\n",
    "    (ysubmit_pred.loc[city]['is_epidemic']).plot(figsize=(20,3), label=city)\n",
    "\n",
    "plt.title('submission')\n",
    "plt.legend()\n",
    "plt.show()"
   ]
  },
  {
   "cell_type": "markdown",
   "metadata": {},
   "source": [
    "## save"
   ]
  },
  {
   "cell_type": "raw",
   "metadata": {},
   "source": [
    "# convert cell from raw to code and run\n",
    "ysubmit_pred.to_pickle('data/processed/4.1A-ysubmit_pred.pkl')"
   ]
  }
 ],
 "metadata": {
  "kernelspec": {
   "display_name": "Python 3",
   "language": "python",
   "name": "python3"
  },
  "language_info": {
   "codemirror_mode": {
    "name": "ipython",
    "version": 3
   },
   "file_extension": ".py",
   "mimetype": "text/x-python",
   "name": "python",
   "nbconvert_exporter": "python",
   "pygments_lexer": "ipython3",
   "version": "3.5.2"
  }
 },
 "nbformat": 4,
 "nbformat_minor": 2
}
