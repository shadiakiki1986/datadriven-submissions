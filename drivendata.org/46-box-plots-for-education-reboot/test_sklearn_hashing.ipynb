{
 "cells": [
  {
   "cell_type": "code",
   "execution_count": 1,
   "metadata": {},
   "outputs": [
    {
     "data": {
      "text/plain": [
       "array([[ 0.,  0., -4., -1.,  0.,  0.,  0.,  0.,  0.,  2.],\n",
       "       [ 0.,  0.,  0., -2., -5.,  0.,  0.,  0.,  0.,  0.]])"
      ]
     },
     "execution_count": 1,
     "metadata": {},
     "output_type": "execute_result"
    }
   ],
   "source": [
    "from sklearn.feature_extraction import FeatureHasher\n",
    "h = FeatureHasher(n_features=10)\n",
    "D = [{'dog': 1, 'cat':2, 'elephant':4},{'dog': 2, 'run': 5}]\n",
    "f = h.transform(D)\n",
    "f.toarray()"
   ]
  },
  {
   "cell_type": "code",
   "execution_count": null,
   "metadata": {},
   "outputs": [],
   "source": []
  },
  {
   "cell_type": "code",
   "execution_count": 3,
   "metadata": {},
   "outputs": [
    {
     "name": "stderr",
     "output_type": "stream",
     "text": [
      "Downloading 20news dataset. This may take a few minutes.\n",
      "Downloading dataset from https://ndownloader.figshare.com/files/5975967 (14 MB)\n"
     ]
    },
    {
     "name": "stdout",
     "output_type": "stream",
     "text": [
      "Automatically created module for IPython interactive environment\n",
      "Usage: /home/ubuntu/.local/share/virtualenvs/DRIVENDATA_SUBMISSIONS/lib/python3.5/site-packages/ipykernel_launcher.py [n_features_for_hashing]\n",
      "    The default number of features is 2**18.\n",
      "\n",
      "n features: 262144\n",
      "Loading 20 newsgroups training data\n",
      "3803 documents - 6.245MB\n",
      "\n",
      "DictVectorizer\n",
      "done in 1.344018s at 4.646MB/s\n",
      "Found 47928 unique terms\n",
      "\n",
      "FeatureHasher on frequency dicts\n",
      "done in 0.921371s at 6.778MB/s\n",
      "Found 43873 unique terms\n",
      "\n",
      "FeatureHasher on raw tokens\n",
      "done in 0.845424s at 7.387MB/s\n",
      "Found 43873 unique terms\n"
     ]
    }
   ],
   "source": [
    "# Author: Lars Buitinck\n",
    "# License: BSD 3 clause\n",
    "\n",
    "from __future__ import print_function\n",
    "from collections import defaultdict\n",
    "import re\n",
    "import sys\n",
    "from time import time\n",
    "\n",
    "import numpy as np\n",
    "\n",
    "from sklearn.datasets import fetch_20newsgroups\n",
    "from sklearn.feature_extraction import DictVectorizer, FeatureHasher\n",
    "\n",
    "\n",
    "def n_nonzero_columns(X):\n",
    "    \"\"\"Returns the number of non-zero columns in a CSR matrix X.\"\"\"\n",
    "    return len(np.unique(X.nonzero()[1]))\n",
    "\n",
    "\n",
    "def tokens(doc):\n",
    "    \"\"\"Extract tokens from doc.\n",
    "\n",
    "    This uses a simple regex to break strings into tokens. For a more\n",
    "    principled approach, see CountVectorizer or TfidfVectorizer.\n",
    "    \"\"\"\n",
    "    return (tok.lower() for tok in re.findall(r\"\\w+\", doc))\n",
    "\n",
    "\n",
    "def token_freqs(doc):\n",
    "    \"\"\"Extract a dict mapping tokens from doc to their frequencies.\"\"\"\n",
    "    freq = defaultdict(int)\n",
    "    for tok in tokens(doc):\n",
    "        freq[tok] += 1\n",
    "    return freq\n",
    "\n",
    "\n",
    "categories = [\n",
    "    'alt.atheism',\n",
    "    'comp.graphics',\n",
    "    'comp.sys.ibm.pc.hardware',\n",
    "    'misc.forsale',\n",
    "    'rec.autos',\n",
    "    'sci.space',\n",
    "    'talk.religion.misc',\n",
    "]\n",
    "# Uncomment the following line to use a larger set (11k+ documents)\n",
    "#categories = None\n",
    "\n",
    "print(__doc__)\n",
    "print(\"Usage: %s [n_features_for_hashing]\" % sys.argv[0])\n",
    "print(\"    The default number of features is 2**18.\")\n",
    "print()\n",
    "\n",
    "n_features = 2 ** 18\n",
    "print('n features: %s'%n_features)\n",
    "\n",
    "print(\"Loading 20 newsgroups training data\")\n",
    "raw_data = fetch_20newsgroups(subset='train', categories=categories).data\n",
    "data_size_mb = sum(len(s.encode('utf-8')) for s in raw_data) / 1e6\n",
    "print(\"%d documents - %0.3fMB\" % (len(raw_data), data_size_mb))\n",
    "print()\n",
    "\n",
    "print(\"DictVectorizer\")\n",
    "t0 = time()\n",
    "vectorizer = DictVectorizer()\n",
    "vectorizer.fit_transform(token_freqs(d) for d in raw_data)\n",
    "duration = time() - t0\n",
    "print(\"done in %fs at %0.3fMB/s\" % (duration, data_size_mb / duration))\n",
    "print(\"Found %d unique terms\" % len(vectorizer.get_feature_names()))\n",
    "print()\n",
    "\n",
    "print(\"FeatureHasher on frequency dicts\")\n",
    "t0 = time()\n",
    "hasher = FeatureHasher(n_features=n_features)\n",
    "X = hasher.transform(token_freqs(d) for d in raw_data)\n",
    "duration = time() - t0\n",
    "print(\"done in %fs at %0.3fMB/s\" % (duration, data_size_mb / duration))\n",
    "print(\"Found %d unique terms\" % n_nonzero_columns(X))\n",
    "print()\n",
    "\n",
    "print(\"FeatureHasher on raw tokens\")\n",
    "t0 = time()\n",
    "hasher = FeatureHasher(n_features=n_features, input_type=\"string\")\n",
    "X = hasher.transform(tokens(d) for d in raw_data)\n",
    "duration = time() - t0\n",
    "print(\"done in %fs at %0.3fMB/s\" % (duration, data_size_mb / duration))\n",
    "print(\"Found %d unique terms\" % n_nonzero_columns(X))"
   ]
  },
  {
   "cell_type": "code",
   "execution_count": 6,
   "metadata": {},
   "outputs": [
    {
     "data": {
      "text/plain": [
       "'Subject: Re: Christian Daemons? [Biblical Demons, the u\\nFrom: stigaard@mhd.moorhead.msus.edu\\nReply-To: stigaard@mhd.moorhead.msus.edu\\nOrganization: Moorhead State University, Moorhead, MN\\nNntp-Posting-Host: 134.29.97.2\\nLines: 23\\n\\n>>>667\\n>>>the neighbor of the beast\\n>>\\n>>No, 667 is across the street from the beast.  664 and 668 are the\\n>>neighbors of the beast.\\n>\\n>I think some people are still not clear on this:\\n>667 is *not* the neighbor of the beast, but, rather, across the\\n>street. It is, in fact, 668 which is the neighbor of the beast.\\n\\nno, sheesh, didn\\'t you know 666 is the beast\\'s apartment?  667 is across the\\nhall from the beast, and is his neighbor along with the rest of the 6th floor.\\n\\n>Justin (still trying to figure out what this has to do with alt.discordia)\\n\\nThis doesn\\'t seem discordant to you?\\n\\n-----------------------     ----------------------     -----------------------\\n\\t-Paul W. Stigaard, Lokean Discordian Libertarian\\n  !XOA!\\t\\tinternet:  stigaard@mhd1.moorhead.msus.edu\\n (fnord)       Episkopos and Chair, Moorhead State University Campus Discordians\\n\\t\\tRectal neufotomist at large\\n     \"If I left a quote here, someone would think it meant something.\"\\n'"
      ]
     },
     "execution_count": 6,
     "metadata": {},
     "output_type": "execute_result"
    }
   ],
   "source": [
    "raw_data[0]"
   ]
  },
  {
   "cell_type": "code",
   "execution_count": 7,
   "metadata": {},
   "outputs": [
    {
     "data": {
      "text/plain": [
       "\"From: matmcinn@nuscc.nus.sg (Matthew MacIntyre at the National University of Senegal)\\nSubject: Re: WARNING.....(please read)...\\nOrganization: National University of Singapore\\nX-Newsreader: Tin 1.1 PL4\\nLines: 9\\n\\ncallison@uokmax.ecn.uoknor.edu (James P. Callison) writes:\\n: >> \\n: >I'm not going to argue the issue of carrying weapons, but I would ask you if \\n: >you would have thought seriously about shooting a kid for setting off your\\n: >alarm?  I can think of worse things in the world.  Glad you got out of there\\n: >before they did anything to give you a reason to fire your gun.\\n: \\nI think people have a right to kill to defend their property. Why not? Be\\nhonest: do you really care more about scum than about your  car?\\n\""
      ]
     },
     "execution_count": 7,
     "metadata": {},
     "output_type": "execute_result"
    }
   ],
   "source": [
    "raw_data[1]"
   ]
  },
  {
   "cell_type": "code",
   "execution_count": 22,
   "metadata": {},
   "outputs": [
    {
     "data": {
      "text/plain": [
       "110"
      ]
     },
     "execution_count": 22,
     "metadata": {},
     "output_type": "execute_result"
    }
   ],
   "source": [
    "y = token_freqs(raw_data[0])\n",
    "len(y.items())"
   ]
  },
  {
   "cell_type": "code",
   "execution_count": 14,
   "metadata": {},
   "outputs": [
    {
     "data": {
      "text/plain": [
       "(110, 262144)"
      ]
     },
     "execution_count": 14,
     "metadata": {},
     "output_type": "execute_result"
    }
   ],
   "source": [
    "X = hasher.transform(token_freqs(raw_data[0]))\n",
    "X.shape"
   ]
  },
  {
   "cell_type": "code",
   "execution_count": 32,
   "metadata": {},
   "outputs": [
    {
     "data": {
      "text/plain": [
       "(1, 1, 104, 80)"
      ]
     },
     "execution_count": 32,
     "metadata": {},
     "output_type": "execute_result"
    }
   ],
   "source": [
    "y['daemons'], y['demons'], list(y.keys()).index('daemons'), list(y.keys()).index('demons')"
   ]
  },
  {
   "cell_type": "code",
   "execution_count": 49,
   "metadata": {},
   "outputs": [
    {
     "data": {
      "text/plain": [
       "(0.0, 1.0, 2.449489742783178)"
      ]
     },
     "execution_count": 49,
     "metadata": {},
     "output_type": "execute_result"
    }
   ],
   "source": [
    "# (X[104,:] != X[80,:]).sum()\n",
    "import scipy\n",
    "scipy.sparse.linalg.norm(X[104,:] - X[104,:]), scipy.sparse.linalg.norm(X[104,:] - X[80,:]), scipy.sparse.linalg.norm(X[104,:] - X[0,:])"
   ]
  },
  {
   "cell_type": "code",
   "execution_count": 36,
   "metadata": {},
   "outputs": [
    {
     "data": {
      "text/plain": [
       "7"
      ]
     },
     "execution_count": 36,
     "metadata": {},
     "output_type": "execute_result"
    }
   ],
   "source": [
    "(X[104,:] != X[81,:]).sum()"
   ]
  },
  {
   "cell_type": "code",
   "execution_count": null,
   "metadata": {},
   "outputs": [],
   "source": []
  },
  {
   "cell_type": "code",
   "execution_count": null,
   "metadata": {},
   "outputs": [],
   "source": []
  },
  {
   "cell_type": "code",
   "execution_count": 59,
   "metadata": {},
   "outputs": [
    {
     "data": {
      "text/plain": [
       "(3.7416573867739413, 3.7416573867739413, 1.4142135623730951, 4.123105625617661)"
      ]
     },
     "execution_count": 59,
     "metadata": {},
     "output_type": "execute_result"
    }
   ],
   "source": [
    "X = hasher.transform(['some words', 'some/words', 'disaster recovery'])\n",
    "scipy.sparse.linalg.norm(X[0,:]), scipy.sparse.linalg.norm(X[1,:]), scipy.sparse.linalg.norm(X[0,:] - X[1,:]), scipy.sparse.linalg.norm(X[0,:] - X[2,:]), "
   ]
  },
  {
   "cell_type": "code",
   "execution_count": 66,
   "metadata": {},
   "outputs": [
    {
     "name": "stdout",
     "output_type": "stream",
     "text": [
      "[0.18533332 0.73818206]\n",
      "0.9235153782662598\n",
      "[6.94278062 3.1351222 ]\n"
     ]
    }
   ],
   "source": [
    "from sklearn.decomposition import TruncatedSVD\n",
    "from sklearn.random_projection import sparse_random_matrix\n",
    "# X = sparse_random_matrix(100, 100, density=0.01, random_state=42)\n",
    "svd = TruncatedSVD(n_components=2, n_iter=7, random_state=42)\n",
    "svd.fit(X)  \n",
    "\n",
    "\n",
    "print(svd.explained_variance_ratio_)  \n",
    "\n",
    "print(svd.explained_variance_ratio_.sum())  \n",
    "\n",
    "print(svd.singular_values_)  "
   ]
  },
  {
   "cell_type": "code",
   "execution_count": 73,
   "metadata": {},
   "outputs": [
    {
     "data": {
      "image/png": "[encoded data removed]",
      "text/plain": [
       "<Figure size 432x288 with 1 Axes>"
      ]
     },
     "metadata": {},
     "output_type": "display_data"
    }
   ],
   "source": [
    "from matplotlib import pyplot as plt\n",
    "\n",
    "Y = svd.transform(X)\n",
    "plt.plot(Y[0,0], Y[0,1], 'r.')\n",
    "plt.plot(Y[1,0], Y[1,1], 'g.')\n",
    "plt.plot(Y[2,0], Y[2,1], 'b.')\n",
    "plt.show()"
   ]
  },
  {
   "cell_type": "code",
   "execution_count": null,
   "metadata": {},
   "outputs": [],
   "source": []
  },
  {
   "cell_type": "code",
   "execution_count": null,
   "metadata": {},
   "outputs": [],
   "source": []
  },
  {
   "cell_type": "code",
   "execution_count": null,
   "metadata": {},
   "outputs": [],
   "source": [
    "# https://keras.io/preprocessing/text/\n",
    "from keras.preprocessing.text import *"
   ]
  },
  {
   "cell_type": "code",
   "execution_count": 79,
   "metadata": {},
   "outputs": [
    {
     "data": {
      "text/plain": [
       "[9, 4, 9, 4, 9, 6, 4]"
      ]
     },
     "execution_count": 79,
     "metadata": {},
     "output_type": "execute_result"
    }
   ],
   "source": [
    "hashing_trick(\"some words some/words some-more words\", 15)"
   ]
  },
  {
   "cell_type": "code",
   "execution_count": 92,
   "metadata": {},
   "outputs": [
    {
     "data": {
      "text/plain": [
       "['1.2', '1.2', '3.4']"
      ]
     },
     "execution_count": 92,
     "metadata": {},
     "output_type": "execute_result"
    }
   ],
   "source": [
    "tt=Tokenizer()\n",
    "x_in = ['some words', 'some/words', 'function hashing']\n",
    "tt.fit_on_texts(x_in)\n",
    "[\".\".join([str(y) for y in x]) for x in tt.texts_to_sequences(x_in)]\n",
    "# tt.sequences_to_matrix(tt.texts_to_sequences(x_in))"
   ]
  }
 ],
 "metadata": {
  "kernelspec": {
   "display_name": "Python 3",
   "language": "python",
   "name": "python3"
  },
  "language_info": {
   "codemirror_mode": {
    "name": "ipython",
    "version": 3
   },
   "file_extension": ".py",
   "mimetype": "text/x-python",
   "name": "python",
   "nbconvert_exporter": "python",
   "pygments_lexer": "ipython3",
   "version": "3.5.2"
  }
 },
 "nbformat": 4,
 "nbformat_minor": 2
}
