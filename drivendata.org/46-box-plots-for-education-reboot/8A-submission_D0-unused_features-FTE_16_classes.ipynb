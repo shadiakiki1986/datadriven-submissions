{
 "cells": [
  {
   "cell_type": "code",
   "execution_count": 1,
   "metadata": {},
   "outputs": [
    {
     "name": "stderr",
     "output_type": "stream",
     "text": [
      "/home/ubuntu/.local/share/virtualenvs/DRIVENDATA_SUBMISSIONS/lib/python3.6/site-packages/matplotlib/__init__.py:1067: UserWarning: Duplicate key in file \"/home/ubuntu/.config/matplotlib/matplotlibrc\", line #2\n",
      "  (fname, cnt))\n",
      "/home/ubuntu/.local/share/virtualenvs/DRIVENDATA_SUBMISSIONS/lib/python3.6/site-packages/matplotlib/__init__.py:1067: UserWarning: Duplicate key in file \"/home/ubuntu/.config/matplotlib/matplotlibrc\", line #3\n",
      "  (fname, cnt))\n"
     ]
    },
    {
     "name": "stdout",
     "output_type": "stream",
     "text": [
      "[name: \"/device:CPU:0\"\n",
      "device_type: \"CPU\"\n",
      "memory_limit: 268435456\n",
      "locality {\n",
      "}\n",
      "incarnation: 5301909290838469762\n",
      ", name: \"/device:GPU:0\"\n",
      "device_type: \"GPU\"\n",
      "memory_limit: 230948864\n",
      "locality {\n",
      "  bus_id: 1\n",
      "  links {\n",
      "  }\n",
      "}\n",
      "incarnation: 1005330540379171404\n",
      "physical_device_desc: \"device: 0, name: Tesla K80, pci bus id: 0000:00:1e.0, compute capability: 3.7\"\n",
      "]\n"
     ]
    }
   ],
   "source": [
    "# http://stackoverflow.com/questions/44544766/ddg#44547144\n",
    "from tensorflow.python.client import device_lib\n",
    "print(device_lib.list_local_devices())"
   ]
  },
  {
   "cell_type": "code",
   "execution_count": 2,
   "metadata": {},
   "outputs": [
    {
     "name": "stderr",
     "output_type": "stream",
     "text": [
      "Using TensorFlow backend.\n"
     ]
    }
   ],
   "source": [
    "import numpy as np\n",
    "import pandas as pd\n",
    "import time\n",
    "import seaborn as sns\n",
    "from matplotlib import pyplot as plt\n",
    "import keras"
   ]
  },
  {
   "cell_type": "code",
   "execution_count": 3,
   "metadata": {},
   "outputs": [],
   "source": [
    "def pd_read_csv(fn:str):\n",
    "    x = pd.read_csv(fn, na_values=['NO_LABEL', '(blank)'])\n",
    "    assert not x['Unnamed: 0'].duplicated().any()\n",
    "    x = x.set_index(\"Unnamed: 0\")\n",
    "    return x"
   ]
  },
  {
   "cell_type": "markdown",
   "metadata": {},
   "source": [
    "## Read data"
   ]
  },
  {
   "cell_type": "code",
   "execution_count": 4,
   "metadata": {},
   "outputs": [
    {
     "name": "stderr",
     "output_type": "stream",
     "text": [
      "/home/ubuntu/.local/share/virtualenvs/DRIVENDATA_SUBMISSIONS/lib/python3.6/site-packages/IPython/core/interactiveshell.py:2903: DtypeWarning: Columns (5,11) have mixed types. Specify dtype option on import or set low_memory=False.\n",
      "  if self.run_code(code, result):\n"
     ]
    }
   ],
   "source": [
    "train = pd_read_csv('data_in/TrainingData.csv')\n",
    "test = pd_read_csv('data_in/TestData.csv')"
   ]
  },
  {
   "cell_type": "code",
   "execution_count": 5,
   "metadata": {},
   "outputs": [
    {
     "data": {
      "text/plain": [
       "Unnamed: 0\n",
       "134338       Teacher\n",
       "206341           NaN\n",
       "326408       Teacher\n",
       "364634    Substitute\n",
       "47683        Teacher\n",
       "Name: Position_Type, dtype: object"
      ]
     },
     "execution_count": 5,
     "metadata": {},
     "output_type": "execute_result"
    }
   ],
   "source": [
    "# train.columns\n",
    "train['Position_Type'].head()"
   ]
  },
  {
   "cell_type": "code",
   "execution_count": 6,
   "metadata": {},
   "outputs": [
    {
     "data": {
      "text/plain": [
       "['Facility_or_Department',\n",
       " 'Function_Description',\n",
       " 'Fund_Description',\n",
       " 'Job_Title_Description',\n",
       " 'Location_Description',\n",
       " 'Object_Description',\n",
       " 'Position_Extra',\n",
       " 'Program_Description',\n",
       " 'SubFund_Description',\n",
       " 'Sub_Object_Description',\n",
       " 'Text_1',\n",
       " 'Text_2',\n",
       " 'Text_3',\n",
       " 'Text_4']"
      ]
     },
     "execution_count": 6,
     "metadata": {},
     "output_type": "execute_result"
    }
   ],
   "source": [
    "features = list(set(train.columns).intersection(set(test.columns)) - set(['FTE','Total']))\n",
    "features.sort()\n",
    "features"
   ]
  },
  {
   "cell_type": "code",
   "execution_count": 7,
   "metadata": {},
   "outputs": [
    {
     "data": {
      "text/plain": [
       "['Function',\n",
       " 'Object_Type',\n",
       " 'Operating_Status',\n",
       " 'Position_Type',\n",
       " 'Pre_K',\n",
       " 'Reporting',\n",
       " 'Sharing',\n",
       " 'Student_Type',\n",
       " 'Use']"
      ]
     },
     "execution_count": 7,
     "metadata": {},
     "output_type": "execute_result"
    }
   ],
   "source": [
    "target = set(train.columns) - set(test.columns)\n",
    "target = list(target)\n",
    "target.sort()\n",
    "target"
   ]
  },
  {
   "cell_type": "code",
   "execution_count": 8,
   "metadata": {},
   "outputs": [],
   "source": [
    "for col in target:\n",
    "    test[col] = np.nan"
   ]
  },
  {
   "cell_type": "code",
   "execution_count": 9,
   "metadata": {},
   "outputs": [
    {
     "data": {
      "text/plain": [
       "((400277, 25), (50064, 25))"
      ]
     },
     "execution_count": 9,
     "metadata": {},
     "output_type": "execute_result"
    }
   ],
   "source": [
    "train.shape, test.shape"
   ]
  },
  {
   "cell_type": "code",
   "execution_count": 10,
   "metadata": {},
   "outputs": [
    {
     "data": {
      "text/plain": [
       "(450341, 26)"
      ]
     },
     "execution_count": 10,
     "metadata": {},
     "output_type": "execute_result"
    }
   ],
   "source": [
    "train['is_holdout'] = False\n",
    "test ['is_holdout'] = True\n",
    "df = pd.concat([train,test], axis=0)\n",
    "df.shape"
   ]
  },
  {
   "cell_type": "code",
   "execution_count": 11,
   "metadata": {},
   "outputs": [],
   "source": [
    "# Analyse FTE for classification\n",
    "# df['FTE'].value_counts().iloc[:60].sum(), df['FTE'].value_counts().iloc[60:].sum(), pd.isnull(df['FTE']).sum()\n",
    "# df['FTE'].value_counts().head(n=40).sum()\n",
    "# df['FTE2'] = df['FTE'].round(1)\n",
    "# df['FTE'].apply(lambda x: 'nan' if pd.isnull(x) else ( str(round(x,1)) if x <=1 else '>1' ) ).value_counts() # .shape # .tail()"
   ]
  },
  {
   "cell_type": "code",
   "execution_count": 12,
   "metadata": {},
   "outputs": [
    {
     "data": {
      "text/plain": [
       "['FTE',\n",
       " 'Facility_or_Department',\n",
       " 'Function_Description',\n",
       " 'Fund_Description',\n",
       " 'Job_Title_Description',\n",
       " 'Location_Description',\n",
       " 'Object_Description',\n",
       " 'Position_Extra',\n",
       " 'Program_Description',\n",
       " 'SubFund_Description',\n",
       " 'Sub_Object_Description',\n",
       " 'Text_1',\n",
       " 'Text_2',\n",
       " 'Text_3',\n",
       " 'Text_4']"
      ]
     },
     "execution_count": 12,
     "metadata": {},
     "output_type": "execute_result"
    }
   ],
   "source": [
    "# convert FTE to string boolean and append to list of features\n",
    "# df['FTE'] = ~pd.isnull(df['FTE']).astype('str')\n",
    "df['FTE'] = df['FTE'].apply(lambda x: 'nan' if pd.isnull(x) else ( str(round(x,1)) if x <=1 else '>1' ) )\n",
    "features = features + ['FTE']\n",
    "features.sort()\n",
    "features"
   ]
  },
  {
   "cell_type": "code",
   "execution_count": 13,
   "metadata": {},
   "outputs": [
    {
     "data": {
      "text/plain": [
       "{1.5: '1',\n",
       " 3.43: '3',\n",
       " 15: '10',\n",
       " 153: '100',\n",
       " 2153: '2000',\n",
       " 9123: '9000',\n",
       " 42153: '40000',\n",
       " 142153: '> 100000'}"
      ]
     },
     "execution_count": 13,
     "metadata": {},
     "output_type": "execute_result"
    }
   ],
   "source": [
    "# categorize Total field\n",
    "def total_to_category(x):\n",
    "    if pd.isnull(x): return 'nan'\n",
    "    # if x < 1000: return str(round(x,1)) if x <=1 else '>1' ) )\n",
    "    ranges = [10,100,1000,10000, 1e5]\n",
    "    for i in ranges:\n",
    "        if x < i: return str(int(x//(i//10)*(i//10)))\n",
    "        \n",
    "    return \"> %s\"%str(int(max(ranges)))\n",
    "\n",
    "{x: total_to_category(x) for x in [1.5, 3.43, 15, 153, 2153, 9123, 42153, 142153]}"
   ]
  },
  {
   "cell_type": "code",
   "execution_count": 14,
   "metadata": {},
   "outputs": [
    {
     "data": {
      "text/plain": [
       "100         42082\n",
       "1000        37297\n",
       "200         23974\n",
       "2000        18006\n",
       "300         16289\n",
       "10000       16143\n",
       "50000       13880\n",
       "400         13630\n",
       "20000       13488\n",
       "500         12885\n",
       "3000        12012\n",
       "30000       10052\n",
       "40000        9452\n",
       "> 100000     8750\n",
       "600          8595\n",
       "4000         8559\n",
       "60000        7815\n",
       "70           7780\n",
       "700          7630\n",
       "5000         7322\n",
       "Name: Total, dtype: int64"
      ]
     },
     "execution_count": 14,
     "metadata": {},
     "output_type": "execute_result"
    }
   ],
   "source": [
    "df['Total'].apply(lambda x: total_to_category(x)).value_counts().head(n=20)"
   ]
  },
  {
   "cell_type": "code",
   "execution_count": 15,
   "metadata": {},
   "outputs": [
    {
     "data": {
      "text/plain": [
       "['FTE',\n",
       " 'Facility_or_Department',\n",
       " 'Function_Description',\n",
       " 'Fund_Description',\n",
       " 'Job_Title_Description',\n",
       " 'Location_Description',\n",
       " 'Object_Description',\n",
       " 'Position_Extra',\n",
       " 'Program_Description',\n",
       " 'SubFund_Description',\n",
       " 'Sub_Object_Description',\n",
       " 'Text_1',\n",
       " 'Text_2',\n",
       " 'Text_3',\n",
       " 'Text_4',\n",
       " 'Total']"
      ]
     },
     "execution_count": 15,
     "metadata": {},
     "output_type": "execute_result"
    }
   ],
   "source": [
    "df['Total'] = df['Total'].apply(lambda x: total_to_category(x))\n",
    "features = features + ['Total']\n",
    "features.sort()\n",
    "features"
   ]
  },
  {
   "cell_type": "code",
   "execution_count": 16,
   "metadata": {},
   "outputs": [
    {
     "data": {
      "text/plain": [
       "['is_holdout']"
      ]
     },
     "execution_count": 16,
     "metadata": {},
     "output_type": "execute_result"
    }
   ],
   "source": [
    "meta = list(set(df.columns) - set(features) - set(target))\n",
    "meta"
   ]
  },
  {
   "cell_type": "code",
   "execution_count": 17,
   "metadata": {},
   "outputs": [
    {
     "data": {
      "text/plain": [
       "((450341, 26), (450341, 16), (450341, 9), (450341, 1))"
      ]
     },
     "execution_count": 17,
     "metadata": {},
     "output_type": "execute_result"
    }
   ],
   "source": [
    "df.shape, df[features].shape, df[target].shape, df[meta].shape"
   ]
  },
  {
   "cell_type": "markdown",
   "metadata": {},
   "source": [
    "## Analyze how close the train and test features are"
   ]
  },
  {
   "cell_type": "code",
   "execution_count": 18,
   "metadata": {},
   "outputs": [],
   "source": [
    "results = []\n",
    "for ff in features:\n",
    "    vc_train = train[ff].value_counts()\n",
    "    vc_test  = test [ff].value_counts()\n",
    "    # vc_train.shape, vc_test.shape\n",
    "    vc_both  = vc_train.reset_index().merge(\n",
    "        vc_test.reset_index(), \n",
    "        left_on = 'index', \n",
    "        right_on='index', \n",
    "        how='outer', \n",
    "        suffixes=['_train', '_test']\n",
    "    )\n",
    "    vc_both = vc_both.set_index('index')\n",
    "    # vc_both.head()\n",
    "    # vc_both[pd.isnull(vc_both['Facility_or_Department_test'])].head()\n",
    "    out = {\n",
    "        'feature': ff,\n",
    "        'train all': train.shape[0],\n",
    "        # 'train': vc_both['%s_train'%ff].sum(),\n",
    "        'train non-null': (~pd.isnull(train[ff])).sum(),\n",
    "        'train_minus_test': vc_both['%s_train'%ff][pd.isnull(vc_both['%s_test'%ff ])].sum(), \n",
    "        'test_minus_train': vc_both['%s_test'%ff ][pd.isnull(vc_both['%s_train'%ff])].sum(),\n",
    "    }\n",
    "    out['tmt_pct'] = out['test_minus_train'] * 100 // out['train non-null']\n",
    "    results.append(out)\n",
    "\n",
    "\n",
    "results = pd.DataFrame(results)\n",
    "results = results.set_index('feature').sort_index()\n",
    "results = results.astype('uint32')"
   ]
  },
  {
   "cell_type": "code",
   "execution_count": 19,
   "metadata": {},
   "outputs": [
    {
     "data": {
      "text/html": [
       "<div>\n",
       "<style scoped>\n",
       "    .dataframe tbody tr th:only-of-type {\n",
       "        vertical-align: middle;\n",
       "    }\n",
       "\n",
       "    .dataframe tbody tr th {\n",
       "        vertical-align: top;\n",
       "    }\n",
       "\n",
       "    .dataframe thead th {\n",
       "        text-align: right;\n",
       "    }\n",
       "</style>\n",
       "<table border=\"1\" class=\"dataframe\">\n",
       "  <thead>\n",
       "    <tr style=\"text-align: right;\">\n",
       "      <th></th>\n",
       "      <th>train all</th>\n",
       "      <th>train non-null</th>\n",
       "      <th>train_minus_test</th>\n",
       "      <th>test_minus_train</th>\n",
       "      <th>tmt_pct</th>\n",
       "    </tr>\n",
       "    <tr>\n",
       "      <th>feature</th>\n",
       "      <th></th>\n",
       "      <th></th>\n",
       "      <th></th>\n",
       "      <th></th>\n",
       "      <th></th>\n",
       "    </tr>\n",
       "  </thead>\n",
       "  <tbody>\n",
       "    <tr>\n",
       "      <th>FTE</th>\n",
       "      <td>400277</td>\n",
       "      <td>126071</td>\n",
       "      <td>25537</td>\n",
       "      <td>1669</td>\n",
       "      <td>1</td>\n",
       "    </tr>\n",
       "    <tr>\n",
       "      <th>Facility_or_Department</th>\n",
       "      <td>400277</td>\n",
       "      <td>53886</td>\n",
       "      <td>542</td>\n",
       "      <td>1</td>\n",
       "      <td>0</td>\n",
       "    </tr>\n",
       "    <tr>\n",
       "      <th>Function_Description</th>\n",
       "      <td>400277</td>\n",
       "      <td>342152</td>\n",
       "      <td>1476</td>\n",
       "      <td>9344</td>\n",
       "      <td>2</td>\n",
       "    </tr>\n",
       "    <tr>\n",
       "      <th>Fund_Description</th>\n",
       "      <td>400277</td>\n",
       "      <td>202877</td>\n",
       "      <td>326</td>\n",
       "      <td>6765</td>\n",
       "      <td>3</td>\n",
       "    </tr>\n",
       "    <tr>\n",
       "      <th>Job_Title_Description</th>\n",
       "      <td>400277</td>\n",
       "      <td>277508</td>\n",
       "      <td>10378</td>\n",
       "      <td>16998</td>\n",
       "      <td>6</td>\n",
       "    </tr>\n",
       "    <tr>\n",
       "      <th>Location_Description</th>\n",
       "      <td>400277</td>\n",
       "      <td>162054</td>\n",
       "      <td>1018</td>\n",
       "      <td>6581</td>\n",
       "      <td>4</td>\n",
       "    </tr>\n",
       "    <tr>\n",
       "      <th>Object_Description</th>\n",
       "      <td>400277</td>\n",
       "      <td>375493</td>\n",
       "      <td>1119</td>\n",
       "      <td>25986</td>\n",
       "      <td>6</td>\n",
       "    </tr>\n",
       "    <tr>\n",
       "      <th>Position_Extra</th>\n",
       "      <td>400277</td>\n",
       "      <td>264764</td>\n",
       "      <td>2013</td>\n",
       "      <td>2</td>\n",
       "      <td>0</td>\n",
       "    </tr>\n",
       "    <tr>\n",
       "      <th>Program_Description</th>\n",
       "      <td>400277</td>\n",
       "      <td>304659</td>\n",
       "      <td>1186</td>\n",
       "      <td>10300</td>\n",
       "      <td>3</td>\n",
       "    </tr>\n",
       "    <tr>\n",
       "      <th>SubFund_Description</th>\n",
       "      <td>400277</td>\n",
       "      <td>306836</td>\n",
       "      <td>599</td>\n",
       "      <td>0</td>\n",
       "      <td>0</td>\n",
       "    </tr>\n",
       "    <tr>\n",
       "      <th>Sub_Object_Description</th>\n",
       "      <td>400277</td>\n",
       "      <td>91603</td>\n",
       "      <td>243</td>\n",
       "      <td>28747</td>\n",
       "      <td>31</td>\n",
       "    </tr>\n",
       "    <tr>\n",
       "      <th>Text_1</th>\n",
       "      <td>400277</td>\n",
       "      <td>292285</td>\n",
       "      <td>4797</td>\n",
       "      <td>6</td>\n",
       "      <td>0</td>\n",
       "    </tr>\n",
       "    <tr>\n",
       "      <th>Text_2</th>\n",
       "      <td>400277</td>\n",
       "      <td>88217</td>\n",
       "      <td>799</td>\n",
       "      <td>3</td>\n",
       "      <td>0</td>\n",
       "    </tr>\n",
       "    <tr>\n",
       "      <th>Text_3</th>\n",
       "      <td>400277</td>\n",
       "      <td>109152</td>\n",
       "      <td>44</td>\n",
       "      <td>0</td>\n",
       "      <td>0</td>\n",
       "    </tr>\n",
       "    <tr>\n",
       "      <th>Text_4</th>\n",
       "      <td>400277</td>\n",
       "      <td>53746</td>\n",
       "      <td>759</td>\n",
       "      <td>2</td>\n",
       "      <td>0</td>\n",
       "    </tr>\n",
       "    <tr>\n",
       "      <th>Total</th>\n",
       "      <td>400277</td>\n",
       "      <td>395722</td>\n",
       "      <td>354345</td>\n",
       "      <td>36399</td>\n",
       "      <td>9</td>\n",
       "    </tr>\n",
       "  </tbody>\n",
       "</table>\n",
       "</div>"
      ],
      "text/plain": [
       "                        train all  train non-null  train_minus_test  \\\n",
       "feature                                                               \n",
       "FTE                        400277          126071             25537   \n",
       "Facility_or_Department     400277           53886               542   \n",
       "Function_Description       400277          342152              1476   \n",
       "Fund_Description           400277          202877               326   \n",
       "Job_Title_Description      400277          277508             10378   \n",
       "Location_Description       400277          162054              1018   \n",
       "Object_Description         400277          375493              1119   \n",
       "Position_Extra             400277          264764              2013   \n",
       "Program_Description        400277          304659              1186   \n",
       "SubFund_Description        400277          306836               599   \n",
       "Sub_Object_Description     400277           91603               243   \n",
       "Text_1                     400277          292285              4797   \n",
       "Text_2                     400277           88217               799   \n",
       "Text_3                     400277          109152                44   \n",
       "Text_4                     400277           53746               759   \n",
       "Total                      400277          395722            354345   \n",
       "\n",
       "                        test_minus_train  tmt_pct  \n",
       "feature                                            \n",
       "FTE                                 1669        1  \n",
       "Facility_or_Department                 1        0  \n",
       "Function_Description                9344        2  \n",
       "Fund_Description                    6765        3  \n",
       "Job_Title_Description              16998        6  \n",
       "Location_Description                6581        4  \n",
       "Object_Description                 25986        6  \n",
       "Position_Extra                         2        0  \n",
       "Program_Description                10300        3  \n",
       "SubFund_Description                    0        0  \n",
       "Sub_Object_Description             28747       31  \n",
       "Text_1                                 6        0  \n",
       "Text_2                                 3        0  \n",
       "Text_3                                 0        0  \n",
       "Text_4                                 2        0  \n",
       "Total                              36399        9  "
      ]
     },
     "execution_count": 19,
     "metadata": {},
     "output_type": "execute_result"
    }
   ],
   "source": [
    "# results.shape\n",
    "# results.head()\n",
    "results[['train all', 'train non-null', 'train_minus_test', 'test_minus_train', 'tmt_pct']]"
   ]
  },
  {
   "cell_type": "code",
   "execution_count": 20,
   "metadata": {},
   "outputs": [],
   "source": [
    "# sod = train['Sub_Object_Description'].value_counts()\n",
    "sod = test['Sub_Object_Description'].value_counts()"
   ]
  },
  {
   "cell_type": "code",
   "execution_count": 21,
   "metadata": {},
   "outputs": [
    {
     "data": {
      "text/plain": [
       "General                                               19704\n",
       "Line Item that is paid with Campus' money              2281\n",
       "Cycle  (used for grants)                                607\n",
       "Mobile Phone                                            499\n",
       "Extra Duty Pay/Overtime For Support Personnel           459\n",
       "Certificated Employees Salaries And Wages               437\n",
       "Special Education                                       361\n",
       "Salaries And Wages For Teachers And Other Professi      360\n",
       "Salaries And Wages For Substitute Teachers              320\n",
       "Pre-K                                                   317\n",
       "General Supplies *                                      314\n",
       "National Board                                          239\n",
       "Choral Music                                            238\n",
       "Salaries Or Wages For Support Personnel                 230\n",
       "Band                                                    218\n",
       "Account For Learning                                    218\n",
       "Speech Therapist                                        199\n",
       "Extended Day                                            167\n",
       "Supplies And Materials                                  147\n",
       "Extra Duty Wages                                        144\n",
       "Name: Sub_Object_Description, dtype: int64"
      ]
     },
     "execution_count": 21,
     "metadata": {},
     "output_type": "execute_result"
    }
   ],
   "source": [
    "sod.head(n=20)"
   ]
  },
  {
   "cell_type": "code",
   "execution_count": 22,
   "metadata": {},
   "outputs": [
    {
     "data": {
      "image/png": "[encoded data removed]",
      "text/plain": [
       "<Figure size 432x288 with 1 Axes>"
      ]
     },
     "metadata": {},
     "output_type": "display_data"
    }
   ],
   "source": [
    "from matplotlib import pyplot as plt\n",
    "# plt.bar(x=range(sod.shape[0]), height=sod.values)\n",
    "plt.bar(x=range(sod.shape[0]-5), height=sod.iloc[5:].values)\n",
    "plt.show()"
   ]
  },
  {
   "cell_type": "code",
   "execution_count": 23,
   "metadata": {},
   "outputs": [
    {
     "data": {
      "text/plain": [
       "Miscellaneous Operating Costs                    9\n",
       "Consultants                                      9\n",
       "Career Orientation                               9\n",
       "English as a Second Language                     9\n",
       "Extra Substitute Teachers Grant Funded           9\n",
       "Community Ed-After School                        9\n",
       "Community Ed-English/Sec Lang                    9\n",
       "Energy Conservation - M & O                      9\n",
       "Bus Charge from Transportation Department        9\n",
       "Incentives (Participatory Activity)              8\n",
       "Food                                             8\n",
       "Test Prep                                        8\n",
       "Student Discipline                               8\n",
       "PAL                                              8\n",
       "Dues And Fees *                                  8\n",
       "Principal & Asst. Principal Support              8\n",
       "Inservice Substitute Teachers Grant Funded       8\n",
       "Teacher Induction Program                        7\n",
       "Proportionate Shares of Funds-Special Ed Dept    7\n",
       "Speech/Debate                                    7\n",
       "Intergovernment Relation                         7\n",
       "Technology                                       7\n",
       "Sick Leave Bonus                                 7\n",
       "Usda Donated Commodities                         7\n",
       "Telephone And Telecommunication Charges          7\n",
       "Dual language                                    6\n",
       "Recruiting (HR)                                  6\n",
       "Special Olympics                                 6\n",
       "Items For Sale In Vending MacHines               6\n",
       "Other Wages And Salaries *                       6\n",
       "                                                ..\n",
       "Class-Size Reduced                               1\n",
       "Ground                                           1\n",
       "Quality of Life Initiative                       1\n",
       "Graduation Expenses                              1\n",
       "Other Capital Outlay *                           1\n",
       "Item A                                           1\n",
       "Elementary Campuses                              1\n",
       "Dell Lease Purchase                              1\n",
       "Retainage                                        1\n",
       "Playoff Games                                    1\n",
       "Student Record                                   1\n",
       "Cataloging (HR)                                  1\n",
       "Insurance-Vehicles                               1\n",
       "Library Support                                  1\n",
       "Positive Behavior Support                        1\n",
       "Tactical Compensation                            1\n",
       "Rentals - Vehicles                               1\n",
       "Property Tax                                     1\n",
       "Kindergarten                                     1\n",
       "Pest control                                     1\n",
       "Commercial Driver                                1\n",
       "Building                                         1\n",
       "UIL Activity                                     1\n",
       "African American Heritage                        1\n",
       "New Principal                                    1\n",
       "Shop Equipment                                   1\n",
       "Tuition And Other Similar Payments               1\n",
       "Insurance-Property                               1\n",
       "Rentals - Land, Buildings And Grounds            1\n",
       "ESC (Fee)                                        1\n",
       "Name: Sub_Object_Description, Length: 186, dtype: int64"
      ]
     },
     "execution_count": 23,
     "metadata": {},
     "output_type": "execute_result"
    }
   ],
   "source": [
    "# sod[sod<10].shape[0], sod.shape[0]\n",
    "sod[sod<10]"
   ]
  },
  {
   "cell_type": "code",
   "execution_count": 24,
   "metadata": {},
   "outputs": [],
   "source": [
    "subtest = test['Sub_Object_Description'].apply(lambda x: (~pd.isnull(x)) & ('community' in str(x).lower())) # .sum()"
   ]
  },
  {
   "cell_type": "code",
   "execution_count": 25,
   "metadata": {},
   "outputs": [
    {
     "data": {
      "text/plain": [
       "Unnamed: 0\n",
       "0    Salaries Or Wages For Support Personnel\n",
       "0    Salaries Or Wages For Support Personnel\n",
       "0    Salaries Or Wages For Support Personnel\n",
       "0    Salaries Or Wages For Support Personnel\n",
       "0    Salaries Or Wages For Support Personnel\n",
       "Name: Sub_Object_Description, dtype: object"
      ]
     },
     "execution_count": 25,
     "metadata": {},
     "output_type": "execute_result"
    }
   ],
   "source": [
    "test['Sub_Object_Description'][subtest].head()"
   ]
  },
  {
   "cell_type": "markdown",
   "metadata": {},
   "source": [
    "## Read target labels"
   ]
  },
  {
   "cell_type": "code",
   "execution_count": 26,
   "metadata": {},
   "outputs": [],
   "source": [
    "import yaml\n",
    "labels = yaml.load(open(\"labels.yml\",'r'))"
   ]
  },
  {
   "cell_type": "code",
   "execution_count": 27,
   "metadata": {},
   "outputs": [
    {
     "data": {
      "text/plain": [
       "['Function__Aides Compensation',\n",
       " 'Function__Career & Academic Counseling',\n",
       " 'Function__Communications',\n",
       " 'Function__Curriculum Development',\n",
       " 'Function__Data Processing & Information Services']"
      ]
     },
     "execution_count": 27,
     "metadata": {},
     "output_type": "execute_result"
    }
   ],
   "source": [
    "# Function': ['Aides Compensation\n",
    "prediction_names = []\n",
    "for k,v1 in labels.items():\n",
    "    for v2 in v1:\n",
    "        pn = \"%s__%s\"%(k,v2)\n",
    "        prediction_names.append(pn)\n",
    "        \n",
    "        \n",
    "assert 'Function__Aides Compensation' in prediction_names\n",
    "prediction_names.sort()\n",
    "prediction_names[:5]"
   ]
  },
  {
   "cell_type": "markdown",
   "metadata": {},
   "source": [
    "## one-hot encode each target by its classes"
   ]
  },
  {
   "cell_type": "code",
   "execution_count": 28,
   "metadata": {},
   "outputs": [],
   "source": [
    "for p in prediction_names: df[p] = False"
   ]
  },
  {
   "cell_type": "code",
   "execution_count": 29,
   "metadata": {},
   "outputs": [],
   "source": [
    "for k,v1 in labels.items():\n",
    "    for v2 in v1:\n",
    "        pn = \"%s__%s\"%(k,v2)\n",
    "        # print(pn)\n",
    "        df[pn] = df[k] == v2"
   ]
  },
  {
   "cell_type": "code",
   "execution_count": 30,
   "metadata": {},
   "outputs": [],
   "source": [
    "# since NO_LABEL is replaced with NaN, need this\n",
    "for dependent in labels.keys():\n",
    "    target_sub = [x for x in df.columns if x.startswith(\"%s__\"%dependent)]\n",
    "    df.loc[~df[target_sub].any(axis=1), '%s__NO_LABEL'%dependent]=True"
   ]
  },
  {
   "cell_type": "code",
   "execution_count": 31,
   "metadata": {},
   "outputs": [
    {
     "data": {
      "text/html": [
       "<div>\n",
       "<style scoped>\n",
       "    .dataframe tbody tr th:only-of-type {\n",
       "        vertical-align: middle;\n",
       "    }\n",
       "\n",
       "    .dataframe tbody tr th {\n",
       "        vertical-align: top;\n",
       "    }\n",
       "\n",
       "    .dataframe thead th {\n",
       "        text-align: right;\n",
       "    }\n",
       "</style>\n",
       "<table border=\"1\" class=\"dataframe\">\n",
       "  <thead>\n",
       "    <tr style=\"text-align: right;\">\n",
       "      <th></th>\n",
       "      <th>Function</th>\n",
       "      <th>Function__Teacher Compensation</th>\n",
       "      <th>Function__Substitute Compensation</th>\n",
       "      <th>Function__NO_LABEL</th>\n",
       "    </tr>\n",
       "    <tr>\n",
       "      <th>Unnamed: 0</th>\n",
       "      <th></th>\n",
       "      <th></th>\n",
       "      <th></th>\n",
       "      <th></th>\n",
       "    </tr>\n",
       "  </thead>\n",
       "  <tbody>\n",
       "    <tr>\n",
       "      <th>134338</th>\n",
       "      <td>Teacher Compensation</td>\n",
       "      <td>True</td>\n",
       "      <td>False</td>\n",
       "      <td>False</td>\n",
       "    </tr>\n",
       "    <tr>\n",
       "      <th>206341</th>\n",
       "      <td>NaN</td>\n",
       "      <td>False</td>\n",
       "      <td>False</td>\n",
       "      <td>True</td>\n",
       "    </tr>\n",
       "    <tr>\n",
       "      <th>326408</th>\n",
       "      <td>Teacher Compensation</td>\n",
       "      <td>True</td>\n",
       "      <td>False</td>\n",
       "      <td>False</td>\n",
       "    </tr>\n",
       "    <tr>\n",
       "      <th>364634</th>\n",
       "      <td>Substitute Compensation</td>\n",
       "      <td>False</td>\n",
       "      <td>True</td>\n",
       "      <td>False</td>\n",
       "    </tr>\n",
       "    <tr>\n",
       "      <th>47683</th>\n",
       "      <td>Substitute Compensation</td>\n",
       "      <td>False</td>\n",
       "      <td>True</td>\n",
       "      <td>False</td>\n",
       "    </tr>\n",
       "  </tbody>\n",
       "</table>\n",
       "</div>"
      ],
      "text/plain": [
       "                           Function  Function__Teacher Compensation  \\\n",
       "Unnamed: 0                                                            \n",
       "134338         Teacher Compensation                            True   \n",
       "206341                          NaN                           False   \n",
       "326408         Teacher Compensation                            True   \n",
       "364634      Substitute Compensation                           False   \n",
       "47683       Substitute Compensation                           False   \n",
       "\n",
       "            Function__Substitute Compensation  Function__NO_LABEL  \n",
       "Unnamed: 0                                                         \n",
       "134338                                  False               False  \n",
       "206341                                  False                True  \n",
       "326408                                  False               False  \n",
       "364634                                   True               False  \n",
       "47683                                    True               False  "
      ]
     },
     "execution_count": 31,
     "metadata": {},
     "output_type": "execute_result"
    }
   ],
   "source": [
    "df[['Function', 'Function__Teacher Compensation', 'Function__Substitute Compensation', 'Function__NO_LABEL']].head()"
   ]
  },
  {
   "cell_type": "code",
   "execution_count": 32,
   "metadata": {},
   "outputs": [
    {
     "data": {
      "text/plain": [
       "((450341, 131), (0, 131), (0, 131))"
      ]
     },
     "execution_count": 32,
     "metadata": {},
     "output_type": "execute_result"
    }
   ],
   "source": [
    "df.shape, df[pd.isnull(df[prediction_names]).all(axis=1)].shape, df.loc[~df[prediction_names].any(axis=1)].shape"
   ]
  },
  {
   "cell_type": "code",
   "execution_count": 33,
   "metadata": {},
   "outputs": [],
   "source": [
    "assert ~pd.isnull(df[prediction_names]).any().any()"
   ]
  },
  {
   "cell_type": "code",
   "execution_count": 34,
   "metadata": {
    "scrolled": true
   },
   "outputs": [],
   "source": [
    "df[prediction_names] = df[prediction_names].astype('uint8')"
   ]
  },
  {
   "cell_type": "markdown",
   "metadata": {},
   "source": [
    "## Factorize features"
   ]
  },
  {
   "cell_type": "code",
   "execution_count": 35,
   "metadata": {},
   "outputs": [
    {
     "name": "stdout",
     "output_type": "stream",
     "text": [
      "Tue Apr 10 10:37:29 2018\n",
      "Tue Apr 10 10:37:29 2018\n"
     ]
    }
   ],
   "source": [
    "print(time.ctime())\n",
    "df_feat = df[features].apply(lambda x: pd.factorize(x)[0], axis=0)\n",
    "df_feat = df_feat + 1 # +1 for the -1 from pd.factorize on nan (keras Embedding supports [0,N) )    \n",
    "print(time.ctime())"
   ]
  },
  {
   "cell_type": "code",
   "execution_count": 36,
   "metadata": {},
   "outputs": [
    {
     "data": {
      "text/plain": [
       "(10786, 0)"
      ]
     },
     "execution_count": 36,
     "metadata": {},
     "output_type": "execute_result"
    }
   ],
   "source": [
    "df_feat.max().max(), df_feat.min().min()"
   ]
  },
  {
   "cell_type": "code",
   "execution_count": 37,
   "metadata": {},
   "outputs": [
    {
     "data": {
      "text/plain": [
       "FTE                          16\n",
       "Facility_or_Department      181\n",
       "Function_Description        705\n",
       "Fund_Description            194\n",
       "Job_Title_Description      4491\n",
       "Location_Description        498\n",
       "Object_Description          676\n",
       "Position_Extra              583\n",
       "Program_Description         433\n",
       "SubFund_Description         274\n",
       "Sub_Object_Description      421\n",
       "Text_1                     1429\n",
       "Text_2                      305\n",
       "Text_3                       35\n",
       "Text_4                      247\n",
       "Total                     10787\n",
       "dtype: int64"
      ]
     },
     "execution_count": 37,
     "metadata": {},
     "output_type": "execute_result"
    }
   ],
   "source": [
    "vocab_size = df_feat.max(axis=0) + 1 # +1 to count the 0 index\n",
    "vocab_size = vocab_size.sort_index()\n",
    "vocab_size"
   ]
  },
  {
   "cell_type": "code",
   "execution_count": 38,
   "metadata": {},
   "outputs": [],
   "source": [
    "assert df[prediction_names].max().max()==1"
   ]
  },
  {
   "cell_type": "markdown",
   "metadata": {},
   "source": [
    "## split the non-holdout into train/test"
   ]
  },
  {
   "cell_type": "code",
   "execution_count": 39,
   "metadata": {},
   "outputs": [
    {
     "data": {
      "text/plain": [
       "((400277, 16), (0, 16), (400277, 105), (0, 105))"
      ]
     },
     "execution_count": 39,
     "metadata": {},
     "output_type": "execute_result"
    }
   ],
   "source": [
    "x = df_feat[~df['is_holdout']]\n",
    "y = df[prediction_names][~df['is_holdout']] # .fillna(0)\n",
    "\n",
    "from sklearn.model_selection import train_test_split\n",
    "# test_size=0.33\n",
    "test_size=0\n",
    "x_train, x_test, y_train, y_test = train_test_split(x, y, test_size=test_size, random_state=42)\n",
    "\n",
    "x_train.shape, x_test.shape, y_train.shape, y_test.shape"
   ]
  },
  {
   "cell_type": "code",
   "execution_count": 40,
   "metadata": {},
   "outputs": [],
   "source": [
    "# calculate label_keys array whose order is replicable\n",
    "label_keys = labels.keys()\n",
    "label_keys = list(label_keys)\n",
    "label_keys.sort()\n"
   ]
  },
  {
   "cell_type": "markdown",
   "metadata": {},
   "source": [
    "## build a dummy equi-probable target"
   ]
  },
  {
   "cell_type": "code",
   "execution_count": 41,
   "metadata": {},
   "outputs": [
    {
     "data": {
      "text/plain": [
       "(400277, 105)"
      ]
     },
     "execution_count": 41,
     "metadata": {},
     "output_type": "execute_result"
    }
   ],
   "source": [
    "y_equi = {}\n",
    "for k in label_keys:\n",
    "    y_equi[k] = np.ones(shape=(y_train.shape[0], len(labels[k]))) / len(labels[k])\n",
    "\n",
    "y_equi = [y_equi[k] for k in label_keys]\n",
    "y_equi = np.concatenate(y_equi, axis=1)\n",
    "y_equi = pd.DataFrame(y_equi, columns=y_train.columns, index=y_train.index)\n",
    "y_equi.shape"
   ]
  },
  {
   "cell_type": "code",
   "execution_count": 42,
   "metadata": {},
   "outputs": [
    {
     "data": {
      "text/html": [
       "<div>\n",
       "<style scoped>\n",
       "    .dataframe tbody tr th:only-of-type {\n",
       "        vertical-align: middle;\n",
       "    }\n",
       "\n",
       "    .dataframe tbody tr th {\n",
       "        vertical-align: top;\n",
       "    }\n",
       "\n",
       "    .dataframe thead th {\n",
       "        text-align: right;\n",
       "    }\n",
       "</style>\n",
       "<table border=\"1\" class=\"dataframe\">\n",
       "  <thead>\n",
       "    <tr style=\"text-align: right;\">\n",
       "      <th></th>\n",
       "      <th>Function__Aides Compensation</th>\n",
       "      <th>Function__Career &amp; Academic Counseling</th>\n",
       "      <th>Function__Communications</th>\n",
       "      <th>Function__Curriculum Development</th>\n",
       "      <th>Function__Data Processing &amp; Information Services</th>\n",
       "      <th>Function__Development &amp; Fundraising</th>\n",
       "      <th>Function__Enrichment</th>\n",
       "      <th>Function__Extended Time &amp; Tutoring</th>\n",
       "      <th>Function__Facilities &amp; Maintenance</th>\n",
       "      <th>Function__Facilities Planning</th>\n",
       "      <th>...</th>\n",
       "      <th>Student_Type__Special Education</th>\n",
       "      <th>Student_Type__Unspecified</th>\n",
       "      <th>Use__Business Services</th>\n",
       "      <th>Use__ISPD</th>\n",
       "      <th>Use__Instruction</th>\n",
       "      <th>Use__Leadership</th>\n",
       "      <th>Use__NO_LABEL</th>\n",
       "      <th>Use__O&amp;M</th>\n",
       "      <th>Use__Pupil Services &amp; Enrichment</th>\n",
       "      <th>Use__Untracked Budget Set-Aside</th>\n",
       "    </tr>\n",
       "    <tr>\n",
       "      <th>Unnamed: 0</th>\n",
       "      <th></th>\n",
       "      <th></th>\n",
       "      <th></th>\n",
       "      <th></th>\n",
       "      <th></th>\n",
       "      <th></th>\n",
       "      <th></th>\n",
       "      <th></th>\n",
       "      <th></th>\n",
       "      <th></th>\n",
       "      <th></th>\n",
       "      <th></th>\n",
       "      <th></th>\n",
       "      <th></th>\n",
       "      <th></th>\n",
       "      <th></th>\n",
       "      <th></th>\n",
       "      <th></th>\n",
       "      <th></th>\n",
       "      <th></th>\n",
       "      <th></th>\n",
       "    </tr>\n",
       "  </thead>\n",
       "  <tbody>\n",
       "    <tr>\n",
       "      <th>139668</th>\n",
       "      <td>0.027027</td>\n",
       "      <td>0.027027</td>\n",
       "      <td>0.027027</td>\n",
       "      <td>0.027027</td>\n",
       "      <td>0.027027</td>\n",
       "      <td>0.027027</td>\n",
       "      <td>0.027027</td>\n",
       "      <td>0.027027</td>\n",
       "      <td>0.027027</td>\n",
       "      <td>0.027027</td>\n",
       "      <td>...</td>\n",
       "      <td>0.111111</td>\n",
       "      <td>0.111111</td>\n",
       "      <td>0.125</td>\n",
       "      <td>0.125</td>\n",
       "      <td>0.125</td>\n",
       "      <td>0.125</td>\n",
       "      <td>0.125</td>\n",
       "      <td>0.125</td>\n",
       "      <td>0.125</td>\n",
       "      <td>0.125</td>\n",
       "    </tr>\n",
       "    <tr>\n",
       "      <th>446779</th>\n",
       "      <td>0.027027</td>\n",
       "      <td>0.027027</td>\n",
       "      <td>0.027027</td>\n",
       "      <td>0.027027</td>\n",
       "      <td>0.027027</td>\n",
       "      <td>0.027027</td>\n",
       "      <td>0.027027</td>\n",
       "      <td>0.027027</td>\n",
       "      <td>0.027027</td>\n",
       "      <td>0.027027</td>\n",
       "      <td>...</td>\n",
       "      <td>0.111111</td>\n",
       "      <td>0.111111</td>\n",
       "      <td>0.125</td>\n",
       "      <td>0.125</td>\n",
       "      <td>0.125</td>\n",
       "      <td>0.125</td>\n",
       "      <td>0.125</td>\n",
       "      <td>0.125</td>\n",
       "      <td>0.125</td>\n",
       "      <td>0.125</td>\n",
       "    </tr>\n",
       "    <tr>\n",
       "      <th>224958</th>\n",
       "      <td>0.027027</td>\n",
       "      <td>0.027027</td>\n",
       "      <td>0.027027</td>\n",
       "      <td>0.027027</td>\n",
       "      <td>0.027027</td>\n",
       "      <td>0.027027</td>\n",
       "      <td>0.027027</td>\n",
       "      <td>0.027027</td>\n",
       "      <td>0.027027</td>\n",
       "      <td>0.027027</td>\n",
       "      <td>...</td>\n",
       "      <td>0.111111</td>\n",
       "      <td>0.111111</td>\n",
       "      <td>0.125</td>\n",
       "      <td>0.125</td>\n",
       "      <td>0.125</td>\n",
       "      <td>0.125</td>\n",
       "      <td>0.125</td>\n",
       "      <td>0.125</td>\n",
       "      <td>0.125</td>\n",
       "      <td>0.125</td>\n",
       "    </tr>\n",
       "    <tr>\n",
       "      <th>386138</th>\n",
       "      <td>0.027027</td>\n",
       "      <td>0.027027</td>\n",
       "      <td>0.027027</td>\n",
       "      <td>0.027027</td>\n",
       "      <td>0.027027</td>\n",
       "      <td>0.027027</td>\n",
       "      <td>0.027027</td>\n",
       "      <td>0.027027</td>\n",
       "      <td>0.027027</td>\n",
       "      <td>0.027027</td>\n",
       "      <td>...</td>\n",
       "      <td>0.111111</td>\n",
       "      <td>0.111111</td>\n",
       "      <td>0.125</td>\n",
       "      <td>0.125</td>\n",
       "      <td>0.125</td>\n",
       "      <td>0.125</td>\n",
       "      <td>0.125</td>\n",
       "      <td>0.125</td>\n",
       "      <td>0.125</td>\n",
       "      <td>0.125</td>\n",
       "    </tr>\n",
       "    <tr>\n",
       "      <th>440032</th>\n",
       "      <td>0.027027</td>\n",
       "      <td>0.027027</td>\n",
       "      <td>0.027027</td>\n",
       "      <td>0.027027</td>\n",
       "      <td>0.027027</td>\n",
       "      <td>0.027027</td>\n",
       "      <td>0.027027</td>\n",
       "      <td>0.027027</td>\n",
       "      <td>0.027027</td>\n",
       "      <td>0.027027</td>\n",
       "      <td>...</td>\n",
       "      <td>0.111111</td>\n",
       "      <td>0.111111</td>\n",
       "      <td>0.125</td>\n",
       "      <td>0.125</td>\n",
       "      <td>0.125</td>\n",
       "      <td>0.125</td>\n",
       "      <td>0.125</td>\n",
       "      <td>0.125</td>\n",
       "      <td>0.125</td>\n",
       "      <td>0.125</td>\n",
       "    </tr>\n",
       "  </tbody>\n",
       "</table>\n",
       "<p>5 rows × 105 columns</p>\n",
       "</div>"
      ],
      "text/plain": [
       "            Function__Aides Compensation  \\\n",
       "Unnamed: 0                                 \n",
       "139668                          0.027027   \n",
       "446779                          0.027027   \n",
       "224958                          0.027027   \n",
       "386138                          0.027027   \n",
       "440032                          0.027027   \n",
       "\n",
       "            Function__Career & Academic Counseling  Function__Communications  \\\n",
       "Unnamed: 0                                                                     \n",
       "139668                                    0.027027                  0.027027   \n",
       "446779                                    0.027027                  0.027027   \n",
       "224958                                    0.027027                  0.027027   \n",
       "386138                                    0.027027                  0.027027   \n",
       "440032                                    0.027027                  0.027027   \n",
       "\n",
       "            Function__Curriculum Development  \\\n",
       "Unnamed: 0                                     \n",
       "139668                              0.027027   \n",
       "446779                              0.027027   \n",
       "224958                              0.027027   \n",
       "386138                              0.027027   \n",
       "440032                              0.027027   \n",
       "\n",
       "            Function__Data Processing & Information Services  \\\n",
       "Unnamed: 0                                                     \n",
       "139668                                              0.027027   \n",
       "446779                                              0.027027   \n",
       "224958                                              0.027027   \n",
       "386138                                              0.027027   \n",
       "440032                                              0.027027   \n",
       "\n",
       "            Function__Development & Fundraising  Function__Enrichment  \\\n",
       "Unnamed: 0                                                              \n",
       "139668                                 0.027027              0.027027   \n",
       "446779                                 0.027027              0.027027   \n",
       "224958                                 0.027027              0.027027   \n",
       "386138                                 0.027027              0.027027   \n",
       "440032                                 0.027027              0.027027   \n",
       "\n",
       "            Function__Extended Time & Tutoring  \\\n",
       "Unnamed: 0                                       \n",
       "139668                                0.027027   \n",
       "446779                                0.027027   \n",
       "224958                                0.027027   \n",
       "386138                                0.027027   \n",
       "440032                                0.027027   \n",
       "\n",
       "            Function__Facilities & Maintenance  Function__Facilities Planning  \\\n",
       "Unnamed: 0                                                                      \n",
       "139668                                0.027027                       0.027027   \n",
       "446779                                0.027027                       0.027027   \n",
       "224958                                0.027027                       0.027027   \n",
       "386138                                0.027027                       0.027027   \n",
       "440032                                0.027027                       0.027027   \n",
       "\n",
       "                         ...                 Student_Type__Special Education  \\\n",
       "Unnamed: 0               ...                                                   \n",
       "139668                   ...                                        0.111111   \n",
       "446779                   ...                                        0.111111   \n",
       "224958                   ...                                        0.111111   \n",
       "386138                   ...                                        0.111111   \n",
       "440032                   ...                                        0.111111   \n",
       "\n",
       "            Student_Type__Unspecified  Use__Business Services  Use__ISPD  \\\n",
       "Unnamed: 0                                                                 \n",
       "139668                       0.111111                   0.125      0.125   \n",
       "446779                       0.111111                   0.125      0.125   \n",
       "224958                       0.111111                   0.125      0.125   \n",
       "386138                       0.111111                   0.125      0.125   \n",
       "440032                       0.111111                   0.125      0.125   \n",
       "\n",
       "            Use__Instruction  Use__Leadership  Use__NO_LABEL  Use__O&M  \\\n",
       "Unnamed: 0                                                               \n",
       "139668                 0.125            0.125          0.125     0.125   \n",
       "446779                 0.125            0.125          0.125     0.125   \n",
       "224958                 0.125            0.125          0.125     0.125   \n",
       "386138                 0.125            0.125          0.125     0.125   \n",
       "440032                 0.125            0.125          0.125     0.125   \n",
       "\n",
       "            Use__Pupil Services & Enrichment  Use__Untracked Budget Set-Aside  \n",
       "Unnamed: 0                                                                     \n",
       "139668                                 0.125                            0.125  \n",
       "446779                                 0.125                            0.125  \n",
       "224958                                 0.125                            0.125  \n",
       "386138                                 0.125                            0.125  \n",
       "440032                                 0.125                            0.125  \n",
       "\n",
       "[5 rows x 105 columns]"
      ]
     },
     "execution_count": 42,
     "metadata": {},
     "output_type": "execute_result"
    }
   ],
   "source": [
    "y_equi.head()\n",
    "# y_equi[0].head()"
   ]
  },
  {
   "cell_type": "markdown",
   "metadata": {},
   "source": [
    "## keras embedding + Dense/LSTM"
   ]
  },
  {
   "cell_type": "code",
   "execution_count": 43,
   "metadata": {
    "scrolled": false
   },
   "outputs": [],
   "source": [
    "from keras.layers import Embedding, Dense, Flatten, LSTM, Input, Concatenate, Add, Lambda, Dropout\n",
    "from keras.models import Sequential, Model\n",
    "from keras import backend as K\n",
    "\n",
    "def build_fn():\n",
    "\n",
    "    # vocab_size = stats.shape[0]\n",
    "\n",
    "    # inputs = [Input(shape=(prob3.shape[1],)) for f in vocab_size.index]\n",
    "    inputs = {f: Input(shape=(1,), name=f) for f in vocab_size.index}\n",
    "\n",
    "    # embeddings = [Embedding(vocab_size[f], embedding_dim, input_length=prob3.shape[1]) for f in vocab_size.index]\n",
    "\n",
    "    if True:\n",
    "        embedding_dim = 10 # 3 # 12 # 2 # 64 # FIXME\n",
    "        embeddings = {f: Embedding(vocab_size[f], embedding_dim, input_length=1)(inputs[f]) for f in vocab_size.index}\n",
    "    else:\n",
    "        embeddings = {f: Embedding(vocab_size[f], max(3, vocab_size[f]//15//10), input_length=1)(inputs[f]) for f in vocab_size.index}\n",
    "\n",
    "    # the model will take as input an integer matrix of size (batch, input_length).\n",
    "    # the largest integer (i.e. word index) in the input should be no larger than 999 (vocabulary size).\n",
    "    # now model.output_shape == (None, input_length, embedding_dim), where None is the batch dimension.\n",
    "\n",
    "    # dummy variable\n",
    "    x1= embeddings\n",
    "\n",
    "    #  flatten each feature since no sequences anyway\n",
    "    x1 = {f: Flatten(name=\"%s_flat\"%f)(x1[f]) for f in vocab_size.index}\n",
    "\n",
    "    # dense layer for each feature\n",
    "    # x1 = {f: Dense(10, activation = 'relu', name=\"%s_d01\"%f)(x1[f]) for f in vocab_size.index}\n",
    "    # x1 = {f: Dense( 3, activation = 'relu', name=\"%s_d02\"%f)(x1[f]) for f in vocab_size.index}\n",
    "\n",
    "    # a dropout for each feature, this way, the network is more robust to dependencies on a single feature\n",
    "    x1 = {f: Dropout(0.3, name=\"%s_dropout\"%f)(x1[f]) for f in vocab_size.index}\n",
    "\n",
    "    x1 = [x1[f] for f in vocab_size.index]\n",
    "    x1 = Concatenate()(x1)\n",
    "    # x1 = Flatten()(x1)\n",
    "    x1 = Dropout(0.3)(x1)\n",
    "\n",
    "    x1 = Dense(1000, activation='relu')(x1)\n",
    "    x1 = Dense( 300, activation='relu')(x1)\n",
    "\n",
    "    # x1 = Dense( 50, activation='relu')(x1)\n",
    "    # o1 = {dependent: Dense(50, activation = 'relu', name=\"%s_d1\"%dependent)(x1) for dependent in label_keys}\n",
    "    # o1 = {dependent: Dense(50, activation = 'relu', name=\"%s_d2\"%dependent)(o1[dependent]) for dependent in label_keys}\n",
    "\n",
    "    # outputs = [Dense(len(labels[dependent]), activation = 'softmax', name=\"%s_out\"%dependent)(o1[dependent]) for dependent in label_keys]\n",
    "    outputs = [Dense(len(labels[dependent]), activation = 'softmax', name=\"%s_out\"%dependent)(x1) for dependent in label_keys]\n",
    "\n",
    "    inputs = [inputs[f] for f in vocab_size.index]\n",
    "    model = Model(inputs=inputs, outputs=outputs)\n",
    "    model.summary()\n",
    "    \n",
    "    # model.compile('rmsprop', loss=multi_multiclass_logloss, metrics=['acc'])\n",
    "    # model.compile('rmsprop', loss='categorical_crossentropy', metrics=['acc'])\n",
    "    model.compile('adam', loss='categorical_crossentropy', metrics=['acc'])\n",
    "    \n",
    "    return model"
   ]
  },
  {
   "cell_type": "code",
   "execution_count": 44,
   "metadata": {},
   "outputs": [],
   "source": [
    "from keras.wrappers.scikit_learn import BaseWrapper\n",
    "\n",
    "class BaseWrapper2(BaseWrapper):\n",
    "    \"\"\"\n",
    "    Mostly just a copy of the original class in order to introduce preprocess_feature and preprocess_target\n",
    "    \"\"\"\n",
    "    def fit(self, x, y, **kwargs):\n",
    "        if self.build_fn is None:\n",
    "            self.model = self.__call__(**self.filter_sk_params(self.__call__))\n",
    "        elif (not isinstance(self.build_fn, types.FunctionType) and\n",
    "              not isinstance(self.build_fn, types.MethodType)):\n",
    "            self.model = self.build_fn(\n",
    "                **self.filter_sk_params(self.build_fn.__call__))\n",
    "        else:\n",
    "            self.model = self.build_fn(**self.filter_sk_params(self.build_fn))\n",
    "\n",
    "        loss_name = self.model.loss\n",
    "        if hasattr(loss_name, '__name__'):\n",
    "            loss_name = loss_name.__name__\n",
    "        if loss_name == 'categorical_crossentropy' and len(y.shape) != 2:\n",
    "            y = to_categorical(y)\n",
    "\n",
    "        fit_args = copy.deepcopy(self.filter_sk_params(Sequential.fit))\n",
    "        fit_args.update(kwargs)\n",
    "        \n",
    "        # new lines\n",
    "        x = self.preprocess_feature(x) # <<<<<<<\n",
    "        y = self.preprocess_target(y) # <<<<<<<\n",
    "\n",
    "        history = self.model.fit(x, y, **fit_args)\n",
    "\n",
    "        return history"
   ]
  },
  {
   "cell_type": "code",
   "execution_count": null,
   "metadata": {},
   "outputs": [],
   "source": [
    "from keras.wrappers.scikit_learn import KerasClassifier\n",
    "\n",
    "class KerasClassifier2(KerasClassifier):\n",
    "    def fit(self, x, y, **kwargs):\n",
    "        y = np.array(y)\n",
    "        if len(y.shape) == 2 and y.shape[1] > 1:\n",
    "            self.classes_ = np.arange(y.shape[1])\n",
    "        elif (len(y.shape) == 2 and y.shape[1] == 1) or len(y.shape) == 1:\n",
    "            self.classes_ = np.unique(y)\n",
    "            y = np.searchsorted(self.classes_, y)\n",
    "        else:\n",
    "            raise ValueError('Invalid shape for y: ' + str(y.shape))\n",
    "        self.n_classes_ = len(self.classes_)\n",
    "        return super(KerasClassifier, self).fit(x, y, **kwargs)\n"
   ]
  },
  {
   "cell_type": "code",
   "execution_count": null,
   "metadata": {},
   "outputs": [],
   "source": [
    "class MyNetwork(KerasClassifier):\n",
    "    def preprocess_feature(self, x):\n",
    "        \"\"\"\n",
    "        convert 2-D matrix of features into array of 1-D features\n",
    "        This is needed because each feature has a different vocabulary for its embedding\n",
    "        \"\"\"\n",
    "        x = [x[f].values for f in vocab_size.index]\n",
    "        return x\n",
    "    \n",
    "    def preprocess_target(self, y):\n",
    "        \"\"\"\n",
    "        convert 2-D matrix of targets into K arrays of C-D matrices \n",
    "        where C is the number of classes of each target\n",
    "        \"\"\"\n",
    "        y = [y[[x for x in prediction_names if x.startswith(\"%s__\"%f)]].values for f in label_keys]\n",
    "        return y\n",
    "    \n",
    "    def fit(self, x, y, **kwargs):\n",
    "        x = self.preprocess_feature(x)\n",
    "        y = self.preprocess_target(y)\n",
    "        super().fit(x,y,**kwargs)\n",
    "        \n",
    "    def predict(self, x, **kwargs):\n",
    "        x = self.preprocess_feature(x)\n",
    "        super().predict(x,**kwargs)\n",
    "        \n",
    "    def predict_proba(self, x, **kwargs):\n",
    "        x = self.preprocess_feature(x)\n",
    "        super().predict_proba(x,**kwargs)\n",
    "        \n",
    "    def score(self, x, y, **kwargs):\n",
    "        x = self.preprocess_feature(x)\n",
    "        super().score(x,**kwargs)\n",
    "        \n",
    "    def __call__():\n",
    "        build_fn()"
   ]
  },
  {
   "cell_type": "code",
   "execution_count": null,
   "metadata": {},
   "outputs": [],
   "source": [
    "keras_clf = MyNetwork(build_fn=None, epochs=30, batch_size=32*32, verbose=0)\n",
    "\n",
    "# from sklearn.cross_validation import StratifiedKFold\n",
    "# skf = cross_validation.StratifiedKFold(y_train, n_folds=3, shuffle=True)\n",
    "\n",
    "from sklearn.model_selection import StratifiedKFold\n",
    "skf = StratifiedKFold(n_splits=3, shuffle=True)\n",
    "\n",
    "from sklearn.calibration import CalibratedClassifierCV\n",
    "model = CalibratedClassifierCV(keras_clf, cv=skf, method='sigmoid')"
   ]
  },
  {
   "cell_type": "code",
   "execution_count": null,
   "metadata": {},
   "outputs": [],
   "source": [
    "keras_clf.fit(x_train, y_train)"
   ]
  },
  {
   "cell_type": "code",
   "execution_count": null,
   "metadata": {},
   "outputs": [],
   "source": [
    "# then train to actual probabilities\n",
    "history = model.fit(x_train, y_train)"
   ]
  },
  {
   "cell_type": "code",
   "execution_count": null,
   "metadata": {},
   "outputs": [],
   "source": []
  },
  {
   "cell_type": "code",
   "execution_count": null,
   "metadata": {
    "scrolled": true
   },
   "outputs": [],
   "source": []
  },
  {
   "cell_type": "code",
   "execution_count": null,
   "metadata": {},
   "outputs": [],
   "source": [
    "from matplotlib import pyplot as plt\n",
    "\n",
    "plt.plot(history.history['loss'])\n",
    "plt.plot(history.history['val_loss'])\n",
    "plt.show()"
   ]
  },
  {
   "cell_type": "code",
   "execution_count": null,
   "metadata": {},
   "outputs": [],
   "source": [
    "model.evaluate(x_test, y_test, batch_size = 32*32)"
   ]
  },
  {
   "cell_type": "markdown",
   "metadata": {},
   "source": [
    "## argmax accuracy"
   ]
  },
  {
   "cell_type": "raw",
   "metadata": {},
   "source": [
    "my_score = np.zeros(y_test.shape[0], dtype='uint8')\n",
    "# y_pred, sum_pred = model.predict([x_test[f].values for f in vocab_size.index])\n",
    "y_pred = model.predict([x_test[f].values for f in vocab_size.index])\n",
    "for i in range(y_test.shape[0]):\n",
    "    v1 = y_test.iloc[i].idxmax()\n",
    "    v2 = probabilities.columns[np.argmax(y_pred[i])]\n",
    "    my_score[i] = 1 if (v1 == v2) else 0"
   ]
  },
  {
   "cell_type": "raw",
   "metadata": {},
   "source": [
    "sum(my_score), my_score.shape[0], sum(my_score)*100 // my_score.shape[0]"
   ]
  },
  {
   "cell_type": "markdown",
   "metadata": {},
   "source": [
    "## Spatial comparison"
   ]
  },
  {
   "cell_type": "code",
   "execution_count": null,
   "metadata": {},
   "outputs": [],
   "source": [
    "# sub_labels = labels\n",
    "sub_labels = {k:labels[k] for k in label_keys if k in ['Function']}\n",
    "\n",
    "n_show = 1000\n",
    "y_pred = model.predict(x_test)"
   ]
  },
  {
   "cell_type": "code",
   "execution_count": null,
   "metadata": {
    "scrolled": true
   },
   "outputs": [],
   "source": [
    "for i,v0 in enumerate(sub_labels.items()):\n",
    "    k,v1 = v0\n",
    "    y_pred2 = pd.DataFrame(y_pred[i], columns=v1)\n",
    "    y_test2 = pd.DataFrame(y_test[i], columns=v1)\n",
    "    for v2 in v1:\n",
    "        plt.figure(figsize=(20,3))\n",
    "        plt.plot(y_pred2.loc[:n_show,v2], label='pred')\n",
    "        #plt.plot(sum_pred, label='sum_pred', alpha=0.2)\n",
    "        plt.plot(y_test2.loc[:n_show,v2], '.', label='actual')\n",
    "        plt.legend(loc='best')\n",
    "        plt.title(\"%s: %s\"%(k,v2))\n",
    "\n",
    "        axes = plt.gca()\n",
    "        axes.set_ylim([-.1,1.1])\n",
    "        plt.show()"
   ]
  },
  {
   "cell_type": "code",
   "execution_count": null,
   "metadata": {},
   "outputs": [],
   "source": [
    "y_test[0][0,:].sum(), y_pred[0][0,:].sum() # , y_pred[0]"
   ]
  },
  {
   "cell_type": "markdown",
   "metadata": {},
   "source": [
    "## temporal comparison"
   ]
  },
  {
   "cell_type": "code",
   "execution_count": null,
   "metadata": {
    "scrolled": false
   },
   "outputs": [],
   "source": [
    "y_pred = model.predict(x_test)\n",
    "y_pred2 = {label_keys[i]: y_pred[i] for i in range(len(label_keys))}\n",
    "y_test2 = {label_keys[i]: y_test[i] for i in range(len(label_keys))}\n",
    "\n",
    "k2 = 'Function'\n",
    "y_pred3 = y_pred2[k2]\n",
    "y_test3 = y_test2[k2]\n",
    "\n",
    "for i in range(15):\n",
    "    plt.figure(figsize=(10,3))\n",
    "    \n",
    "    plt.subplot(121)\n",
    "    plt.bar(x=range(y_pred3.shape[1]), height=y_test3[i])\n",
    "    plt.title('%s. actual, argmax=%s'%(i,np.argmax(y_test3[i])))\n",
    "    axes = plt.gca()\n",
    "    axes.set_ylim([-.1,1.1])\n",
    "    \n",
    "    plt.subplot(122)\n",
    "    plt.bar(x=range(y_pred3.shape[1]), height=y_pred3[i])\n",
    "    plt.title('%s. prediction, argmax=%s'%(i,np.argmax(y_pred3[i])))\n",
    "    axes = plt.gca()\n",
    "    axes.set_ylim([-.1,1.1])\n",
    "    \n",
    "    # plt.title(y_test.index[i])\n",
    "    \n",
    "    plt.show()"
   ]
  },
  {
   "cell_type": "code",
   "execution_count": null,
   "metadata": {},
   "outputs": [],
   "source": [
    "i=6\n",
    "y_test3[i,:]"
   ]
  },
  {
   "cell_type": "markdown",
   "metadata": {},
   "source": [
    "## Mock submission"
   ]
  },
  {
   "cell_type": "code",
   "execution_count": null,
   "metadata": {},
   "outputs": [],
   "source": [
    "x_ho = df_feat[features][~df['is_holdout']].head()\n",
    "x_ho  = [x_ho [f].values for f in vocab_size.index]\n",
    "y_ho = model.predict(x_ho)\n",
    "df_submit = pd.DataFrame(np.concatenate(y_ho, axis=1), columns=prediction_names)\n",
    "df_submit.shape"
   ]
  },
  {
   "cell_type": "code",
   "execution_count": null,
   "metadata": {},
   "outputs": [],
   "source": [
    "df_submit.head()"
   ]
  },
  {
   "cell_type": "code",
   "execution_count": null,
   "metadata": {},
   "outputs": [],
   "source": [
    "df[target].head()"
   ]
  },
  {
   "cell_type": "markdown",
   "metadata": {},
   "source": [
    "## Prepare submission"
   ]
  },
  {
   "cell_type": "code",
   "execution_count": null,
   "metadata": {},
   "outputs": [],
   "source": [
    "df.shape, df_feat.shape"
   ]
  },
  {
   "cell_type": "code",
   "execution_count": null,
   "metadata": {},
   "outputs": [],
   "source": [
    "x_ho = df_feat[features][ df['is_holdout']]\n",
    "x_ho  = [x_ho [f].values for f in vocab_size.index]\n",
    "y_ho = model.predict(x_ho)"
   ]
  },
  {
   "cell_type": "code",
   "execution_count": null,
   "metadata": {},
   "outputs": [],
   "source": [
    "len(y_ho), y_ho[0].shape, y_ho[1].shape"
   ]
  },
  {
   "cell_type": "raw",
   "metadata": {},
   "source": [
    "df_ho  = df[ df['is_holdout']]\n",
    "df_nho = df[~df['is_holdout']]\n",
    "df_ho.shape, df_ho[df_ho['joined'].isin(df_nho['joined'])].shape"
   ]
  },
  {
   "cell_type": "raw",
   "metadata": {},
   "source": [
    "df_ho[features].shape"
   ]
  },
  {
   "cell_type": "raw",
   "metadata": {},
   "source": [
    "df_ho[features].head(n=2)"
   ]
  },
  {
   "cell_type": "raw",
   "metadata": {},
   "source": [
    "df_ho['joined'].head(n=2)"
   ]
  },
  {
   "cell_type": "raw",
   "metadata": {},
   "source": [
    "df_nho[df_nho['Sub_Object_Description']==\"Line Item that is paid with Campus' money\"].shape"
   ]
  },
  {
   "cell_type": "raw",
   "metadata": {},
   "source": [
    "df['is_holdout'].index"
   ]
  },
  {
   "cell_type": "code",
   "execution_count": null,
   "metadata": {},
   "outputs": [],
   "source": [
    "df_submit = pd.DataFrame(np.concatenate(y_ho, axis=1), columns=prediction_names, index=df_feat[ df['is_holdout']].index)\n",
    "df_submit.shape"
   ]
  },
  {
   "cell_type": "code",
   "execution_count": null,
   "metadata": {},
   "outputs": [],
   "source": [
    "df_submit.head()"
   ]
  },
  {
   "cell_type": "code",
   "execution_count": null,
   "metadata": {},
   "outputs": [],
   "source": [
    "# plt.plot(df_submit['Use__NO_LABEL'].sort_values().values)\n",
    "plt.plot(df_submit['Operating_Status__NO_LABEL'].sort_values().values)\n",
    "plt.show()"
   ]
  },
  {
   "cell_type": "code",
   "execution_count": null,
   "metadata": {},
   "outputs": [],
   "source": [
    "test.head()"
   ]
  },
  {
   "cell_type": "code",
   "execution_count": null,
   "metadata": {},
   "outputs": [],
   "source": [
    "assert (df_submit['Operating_Status__NO_LABEL']<0.0001).all()\n",
    "del df_submit['Operating_Status__NO_LABEL']"
   ]
  },
  {
   "cell_type": "code",
   "execution_count": null,
   "metadata": {},
   "outputs": [],
   "source": [
    "fn = 'data_out/submission_C4_%s.csv'%(time.strftime(\"%Y%m%d_%H%M%S\"))\n",
    "df_submit.to_csv(fn)"
   ]
  },
  {
   "cell_type": "markdown",
   "metadata": {},
   "source": [
    "## compare to C3"
   ]
  },
  {
   "cell_type": "code",
   "execution_count": null,
   "metadata": {},
   "outputs": [],
   "source": [
    "fn = 'data_out/submission_C3_20180409_120904.csv'\n",
    "df_c3 = pd.read_csv(fn).set_index(\"Unnamed: 0\")"
   ]
  },
  {
   "cell_type": "code",
   "execution_count": null,
   "metadata": {},
   "outputs": [],
   "source": [
    "(df_submit - df_c3).head(n=2).apply(lambda x: x.idxmax(), axis=1)"
   ]
  },
  {
   "cell_type": "code",
   "execution_count": null,
   "metadata": {},
   "outputs": [],
   "source": [
    "df.loc[[180042,28872], ['FTE']].head(n=2)"
   ]
  },
  {
   "cell_type": "code",
   "execution_count": null,
   "metadata": {},
   "outputs": [],
   "source": [
    "result = (df_submit - df_c3).max(axis=1)"
   ]
  },
  {
   "cell_type": "code",
   "execution_count": null,
   "metadata": {},
   "outputs": [],
   "source": [
    "result.shape[0], result[abs(result) > 0.4].shape[0]"
   ]
  },
  {
   "cell_type": "code",
   "execution_count": null,
   "metadata": {},
   "outputs": [],
   "source": [
    "result = df_submit.apply(lambda x: x.idxmax(), axis=1) != df_c3.apply(lambda x: x.idxmax(), axis=1)"
   ]
  },
  {
   "cell_type": "code",
   "execution_count": null,
   "metadata": {},
   "outputs": [],
   "source": [
    "result.value_counts()"
   ]
  },
  {
   "cell_type": "code",
   "execution_count": null,
   "metadata": {},
   "outputs": [],
   "source": []
  },
  {
   "cell_type": "code",
   "execution_count": null,
   "metadata": {},
   "outputs": [],
   "source": []
  },
  {
   "cell_type": "code",
   "execution_count": null,
   "metadata": {},
   "outputs": [],
   "source": []
  },
  {
   "cell_type": "markdown",
   "metadata": {},
   "source": [
    "## RF"
   ]
  },
  {
   "cell_type": "raw",
   "metadata": {},
   "source": [
    "from sklearn.ensemble import RandomForestRegressor\n",
    "from sklearn.datasets import make_regression\n",
    "\n",
    "regr = RandomForestRegressor(max_depth=None, random_state=0, verbose=2, n_jobs=-1)\n",
    "\n",
    "\n",
    "regr.fit(x_train, y_train)"
   ]
  },
  {
   "cell_type": "raw",
   "metadata": {},
   "source": [
    "print(prob3.columns, regr.feature_importances_)"
   ]
  },
  {
   "cell_type": "raw",
   "metadata": {},
   "source": [
    "print(regr.score(x_test, y_test))"
   ]
  },
  {
   "cell_type": "raw",
   "metadata": {},
   "source": [
    "y_pred_rf = regr.predict(x_test[:3]) # .round(1)"
   ]
  },
  {
   "cell_type": "raw",
   "metadata": {},
   "source": [
    "y_pred_rf.sum(axis=1), y_pred_rf[0], y_test[:3].values"
   ]
  }
 ],
 "metadata": {
  "kernelspec": {
   "display_name": "Python 3",
   "language": "python",
   "name": "python3"
  },
  "language_info": {
   "codemirror_mode": {
    "name": "ipython",
    "version": 3
   },
   "file_extension": ".py",
   "mimetype": "text/x-python",
   "name": "python",
   "nbconvert_exporter": "python",
   "pygments_lexer": "ipython3",
   "version": "3.6.3"
  }
 },
 "nbformat": 4,
 "nbformat_minor": 2
}
