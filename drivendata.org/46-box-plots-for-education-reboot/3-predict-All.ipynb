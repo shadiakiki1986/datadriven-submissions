{
 "cells": [
  {
   "cell_type": "code",
   "execution_count": null,
   "metadata": {},
   "outputs": [],
   "source": [
    "# http://stackoverflow.com/questions/44544766/ddg#44547144\n",
    "from tensorflow.python.client import device_lib\n",
    "print(device_lib.list_local_devices())"
   ]
  },
  {
   "cell_type": "code",
   "execution_count": null,
   "metadata": {},
   "outputs": [],
   "source": [
    "import numpy as np\n",
    "import pandas as pd\n",
    "import time\n",
    "import seaborn as sns\n",
    "from matplotlib import pyplot as plt\n",
    "import keras"
   ]
  },
  {
   "cell_type": "code",
   "execution_count": null,
   "metadata": {},
   "outputs": [],
   "source": [
    "def pd_read_csv(fn:str):\n",
    "    x = pd.read_csv(fn, na_values=['NO_LABEL', '(blank)'])\n",
    "    assert not x['Unnamed: 0'].duplicated().any()\n",
    "    x = x.set_index(\"Unnamed: 0\")\n",
    "    return x"
   ]
  },
  {
   "cell_type": "markdown",
   "metadata": {},
   "source": [
    "## Peek at train"
   ]
  },
  {
   "cell_type": "code",
   "execution_count": null,
   "metadata": {},
   "outputs": [],
   "source": [
    "train = pd_read_csv('data_in/TrainingData.csv')\n",
    "train.shape"
   ]
  },
  {
   "cell_type": "code",
   "execution_count": null,
   "metadata": {},
   "outputs": [],
   "source": [
    "train.columns"
   ]
  },
  {
   "cell_type": "markdown",
   "metadata": {},
   "source": [
    "## Peek at test"
   ]
  },
  {
   "cell_type": "code",
   "execution_count": null,
   "metadata": {},
   "outputs": [],
   "source": [
    "test = pd_read_csv('data_in/TestData.csv')\n",
    "test.shape"
   ]
  },
  {
   "cell_type": "code",
   "execution_count": null,
   "metadata": {},
   "outputs": [],
   "source": [
    "test.columns"
   ]
  },
  {
   "cell_type": "markdown",
   "metadata": {},
   "source": [
    "## Diff columns"
   ]
  },
  {
   "cell_type": "code",
   "execution_count": null,
   "metadata": {},
   "outputs": [],
   "source": [
    "#train.loc[134338]\n",
    "# pd.isnull(train['Function']).any()\n",
    "# pd.isnull(test['Function']).any()\n",
    "set(train.columns) - set(test.columns), set(test.columns) - set(train.columns)"
   ]
  },
  {
   "cell_type": "markdown",
   "metadata": {},
   "source": [
    "## Read labels"
   ]
  },
  {
   "cell_type": "code",
   "execution_count": null,
   "metadata": {},
   "outputs": [],
   "source": [
    "import yaml\n",
    "labels = yaml.load(open(\"labels.yml\",'r'))"
   ]
  },
  {
   "cell_type": "code",
   "execution_count": null,
   "metadata": {},
   "outputs": [],
   "source": [
    "# Function': ['Aides Compensation\n",
    "prediction_names = []\n",
    "for k,v1 in labels.items():\n",
    "    for v2 in v1:\n",
    "        prediction_names.append(\"%s__%s\"%(k,v2))\n",
    "        \n",
    "        \n",
    "assert 'Function__Aides Compensation' in prediction_names\n",
    "prediction_names.sort()\n",
    "prediction_names[:5]"
   ]
  },
  {
   "cell_type": "markdown",
   "metadata": {},
   "source": [
    "## Calculate counts"
   ]
  },
  {
   "cell_type": "code",
   "execution_count": null,
   "metadata": {},
   "outputs": [],
   "source": [
    "features = list(set(train.columns).intersection(set(test.columns)) - set(['FTE','Total']))\n",
    "features.sort()\n",
    "features"
   ]
  },
  {
   "cell_type": "code",
   "execution_count": null,
   "metadata": {},
   "outputs": [],
   "source": [
    "train[features].loc[134338].fillna('')"
   ]
  },
  {
   "cell_type": "code",
   "execution_count": null,
   "metadata": {},
   "outputs": [],
   "source": [
    "def calc_joined(df):\n",
    "    return df[features].fillna('').apply(lambda x: \"~\".join([y.replace(' ','').replace('\"','') for y in x]), axis=1)\n",
    "    \n",
    "train['joined'] = calc_joined(train)"
   ]
  },
  {
   "cell_type": "code",
   "execution_count": null,
   "metadata": {},
   "outputs": [],
   "source": [
    "stats = train['joined'].value_counts()"
   ]
  },
  {
   "cell_type": "code",
   "execution_count": null,
   "metadata": {},
   "outputs": [],
   "source": [
    "stats.sort_values(ascending=False).head(n=15).reset_index()"
   ]
  },
  {
   "cell_type": "code",
   "execution_count": null,
   "metadata": {},
   "outputs": [],
   "source": [
    "stats = stats.sort_index()\n",
    "stats.head()"
   ]
  },
  {
   "cell_type": "code",
   "execution_count": null,
   "metadata": {},
   "outputs": [],
   "source": [
    "k1=stats.index[10]\n",
    "stats.index.get_loc(k1)"
   ]
  },
  {
   "cell_type": "code",
   "execution_count": null,
   "metadata": {},
   "outputs": [],
   "source": [
    "# plt.bar(x=range(stats.shape[0]), height=stats.values)\n",
    "# n_pts = 500000\n",
    "# plt.bar(x=range(n_pts), height=stats.iloc[:n_pts])\n",
    "plt.plot(stats.sort_values(ascending=False).values.cumsum())\n",
    "plt.title(\"%s, %s\"%(stats.values.sum(), stats.shape[0]))\n",
    "plt.show()"
   ]
  },
  {
   "cell_type": "code",
   "execution_count": null,
   "metadata": {},
   "outputs": [],
   "source": [
    "k1 = stats.sort_values(ascending=False).reset_index().loc[0]['index']"
   ]
  },
  {
   "cell_type": "code",
   "execution_count": null,
   "metadata": {},
   "outputs": [],
   "source": [
    "train[train['joined']==k1].shape, train.shape[0]"
   ]
  },
  {
   "cell_type": "code",
   "execution_count": null,
   "metadata": {},
   "outputs": [],
   "source": [
    "train[train['joined']==k1]['Function'].value_counts().reset_index()"
   ]
  },
  {
   "cell_type": "code",
   "execution_count": null,
   "metadata": {},
   "outputs": [],
   "source": [
    "import os\n",
    "\n",
    "# The 1st version turned out to have indeces not in stats.index .. weird\n",
    "# prob_fn = 'data_out/t1_probabilities_function.pkl'\n",
    "\n",
    "# Fixing the above in the 2nd version\n",
    "# prob_fn = 'data_out/t1_probabilities_function_v2.pkl'\n",
    "\n",
    "# Set \".sort()\" on features so that they're replicable\n",
    "# prob_fn = 'data_out/t1_probabilities_function_v3.pkl'\n",
    "\n",
    "# Calculate for all targets, not only Functions\n",
    "prob_fn = 'data_out/t1_probabilities_function_v4.pkl'\n",
    "\n",
    "os.path.exists(prob_fn)"
   ]
  },
  {
   "cell_type": "code",
   "execution_count": null,
   "metadata": {},
   "outputs": [],
   "source": [
    "if os.path.exists(prob_fn):\n",
    "    print(\"Loading from file %s\"%prob_fn)\n",
    "    probabilities = pd.read_pickle(prob_fn)\n",
    "else:\n",
    "    probabilities = pd.DataFrame(\n",
    "        np.zeros(shape=(len(prediction_names), stats.shape[0])),\n",
    "        columns=stats.index,\n",
    "        index=prediction_names\n",
    "    )\n",
    "    #probabilities.head(n=2)\n",
    "    \n",
    "    # k1 = stats.index[0]\n",
    "    # probabilities[k1].update(train[train['joined']==k1]['Function'].value_counts())\n",
    "    # probabilities[k1]\n",
    "\n",
    "    n = len(stats.index)\n",
    "    dependents = list(labels.keys())\n",
    "    dependents.sort()\n",
    "    \n",
    "    n = len(dependents)\n",
    "    for i,k2 in enumerate(dependents):\n",
    "        print(\"%s .. %s: %s / %s\"%(time.ctime(), k2, i+1, n))\n",
    "        counts = train.groupby(['joined']).apply(lambda x: x[k2].value_counts().add_prefix('%s__'%k2)).unstack(0)\n",
    "        probabilities.update(counts)\n",
    "    \n",
    "    \"\"\"\n",
    "    for k2 in dependents:\n",
    "        for i,k1 in enumerate(stats.index):\n",
    "            if i % 1000 == 0: print(\"%s .. %s: %s / %s\"%(time.ctime(), k2, i, n))\n",
    "            # counts = train[train['joined']==k1][k2].value_counts()\n",
    "            counts = train.groupby(['joined']).apply(lambda x: x[k2].value_counts())\n",
    "            counts.index = [\"%s__%s\"%(k2, x) for x in counts.index]\n",
    "            probabilities[k1].update(counts)\n",
    "    \"\"\"\n",
    "\n",
    "    # save\n",
    "    probabilities.to_pickle(prob_fn)"
   ]
  },
  {
   "cell_type": "code",
   "execution_count": null,
   "metadata": {},
   "outputs": [],
   "source": [
    "probabilities.shape"
   ]
  },
  {
   "cell_type": "code",
   "execution_count": null,
   "metadata": {},
   "outputs": [],
   "source": [
    "probabilities.head().values.sum(axis=1)"
   ]
  },
  {
   "cell_type": "code",
   "execution_count": null,
   "metadata": {},
   "outputs": [],
   "source": [
    "# since NO_LABEL is replaced with NaN, need this\n",
    "for dependent in labels.keys():\n",
    "    target_sub = [x for x in probabilities.index if x.startswith(\"%s__\"%dependent)]\n",
    "    probabilities.loc['%s__NO_LABEL'%dependent, probabilities.loc[target_sub].sum(axis=0)==0]=1"
   ]
  },
  {
   "cell_type": "code",
   "execution_count": null,
   "metadata": {},
   "outputs": [],
   "source": [
    "probabilities.shape, probabilities[pd.isnull(probabilities).all(axis=1)].shape, probabilities.loc[:,probabilities.sum(axis=0)==0].shape"
   ]
  },
  {
   "cell_type": "code",
   "execution_count": null,
   "metadata": {},
   "outputs": [],
   "source": [
    "assert ~pd.isnull(probabilities).any().any()"
   ]
  },
  {
   "cell_type": "code",
   "execution_count": null,
   "metadata": {
    "scrolled": true
   },
   "outputs": [],
   "source": [
    "probabilities.iloc[:,1]"
   ]
  },
  {
   "cell_type": "code",
   "execution_count": null,
   "metadata": {},
   "outputs": [],
   "source": [
    "# k1 = stats.index[1]\n",
    "# probabilities[k1], (probabilities / probabilities.sum(axis=0))[k1]\n",
    "\n",
    "for k1 in labels.keys():\n",
    "    sub_index = [x for x in probabilities.index if x.startswith(\"%s__\"%k1)]\n",
    "    probabilities.loc[sub_index] = probabilities.loc[sub_index] / probabilities.loc[sub_index].sum(axis=0)\n",
    "                                                                        \n",
    "probabilities = probabilities.transpose()\n",
    "probabilities = probabilities.sort_index()\n",
    "probabilities.shape"
   ]
  },
  {
   "cell_type": "code",
   "execution_count": null,
   "metadata": {},
   "outputs": [],
   "source": [
    "probabilities.iloc[1,:]"
   ]
  },
  {
   "cell_type": "code",
   "execution_count": null,
   "metadata": {},
   "outputs": [],
   "source": [
    "probabilities.shape, probabilities[pd.isnull(probabilities).all(axis=1)].shape, probabilities[probabilities.sum(axis=1)==0].shape"
   ]
  },
  {
   "cell_type": "code",
   "execution_count": null,
   "metadata": {},
   "outputs": [],
   "source": [
    "assert set(stats.index) == set(probabilities.index)\n",
    "assert len(set(stats.index) - set(probabilities.index)) == 0\n",
    "assert len(set(probabilities.index) - set(stats.index)) == 0"
   ]
  },
  {
   "cell_type": "markdown",
   "metadata": {},
   "source": [
    "## Bring back original set of columns\n",
    "These are the fields that got joined with ~"
   ]
  },
  {
   "cell_type": "code",
   "execution_count": null,
   "metadata": {},
   "outputs": [],
   "source": [
    "vocabulary = train[~train.duplicated(['joined'])][features+['joined']].set_index('joined').sort_index()"
   ]
  },
  {
   "cell_type": "code",
   "execution_count": null,
   "metadata": {},
   "outputs": [],
   "source": [
    "vocabulary.head(n=2)"
   ]
  },
  {
   "cell_type": "code",
   "execution_count": null,
   "metadata": {},
   "outputs": [],
   "source": [
    "assert set(probabilities.index) == set(vocabulary.index)\n",
    "assert len(set(probabilities.index) - set(vocabulary.index)) == 0\n",
    "assert len(set(vocabulary.index) - set(probabilities.index)) == 0"
   ]
  },
  {
   "cell_type": "code",
   "execution_count": null,
   "metadata": {
    "scrolled": false
   },
   "outputs": [],
   "source": [
    "# append \"set_index\" as recommended in pandas github issue 7632\n",
    "# https://github.com/pandas-dev/pandas/issues/7632#issuecomment-316806258\n",
    "# prob2 = probabilities.merge(vocabulary, left_index=True, right_on='joined', how='left').set_index('joined')\n",
    "\n",
    "prob2 = probabilities.merge(vocabulary, left_index=True, right_index=True, how='left') # .set_index('joined')\n",
    "probabilities.shape, prob2.shape # , prob2.head(n=2), prob2.head(n=2).index # , train.loc[70455]"
   ]
  },
  {
   "cell_type": "code",
   "execution_count": null,
   "metadata": {},
   "outputs": [],
   "source": [
    "prob2[features].sort_index().head(n=2)"
   ]
  },
  {
   "cell_type": "code",
   "execution_count": null,
   "metadata": {},
   "outputs": [],
   "source": [
    "print(time.ctime())\n",
    "prob3 = prob2[features].apply(lambda x: pd.factorize(x)[0], axis=0)\n",
    "prob3 = prob3 + 1 # +1 for the -1 (keras Embedding supports [0,N) )    \n",
    "print(time.ctime())"
   ]
  },
  {
   "cell_type": "code",
   "execution_count": null,
   "metadata": {},
   "outputs": [],
   "source": [
    "prob3.max().max(), prob3.min().min()"
   ]
  },
  {
   "cell_type": "code",
   "execution_count": null,
   "metadata": {},
   "outputs": [],
   "source": [
    "prob3.shape, probabilities.shape"
   ]
  },
  {
   "cell_type": "code",
   "execution_count": null,
   "metadata": {},
   "outputs": [],
   "source": [
    "prob3.max(axis=0)"
   ]
  },
  {
   "cell_type": "code",
   "execution_count": null,
   "metadata": {},
   "outputs": [],
   "source": [
    "assert probabilities.max().max()==1"
   ]
  },
  {
   "cell_type": "markdown",
   "metadata": {},
   "source": [
    "## split hold-out"
   ]
  },
  {
   "cell_type": "code",
   "execution_count": null,
   "metadata": {},
   "outputs": [],
   "source": [
    "x = prob3\n",
    "y = probabilities # .fillna(0)\n",
    "\n",
    "from sklearn.model_selection import train_test_split\n",
    "x_train, x_test, y_train, y_test = train_test_split(x, y, test_size=0.33, random_state=42)\n"
   ]
  },
  {
   "cell_type": "markdown",
   "metadata": {},
   "source": [
    "## keras embedding + Dense/LSTM"
   ]
  },
  {
   "cell_type": "code",
   "execution_count": null,
   "metadata": {},
   "outputs": [],
   "source": [
    "vocab_size = prob3.max(axis=0) + 1 # +1 for the 0\n",
    "\n",
    "# make array of features\n",
    "x_train = [x_train[f].values for f in vocab_size.index]\n",
    "x_test  = [x_test [f].values for f in vocab_size.index]"
   ]
  },
  {
   "cell_type": "code",
   "execution_count": null,
   "metadata": {},
   "outputs": [],
   "source": [
    "label_keys = labels.keys()\n",
    "label_keys = list(label_keys)\n",
    "label_keys.sort()\n",
    "y_train = [y_train[[x for x in prediction_names if x.startswith(\"%s__\"%f)]].values for f in label_keys]\n",
    "y_test  = [y_test [[x for x in prediction_names if x.startswith(\"%s__\"%f)]].values for f in label_keys]"
   ]
  },
  {
   "cell_type": "code",
   "execution_count": null,
   "metadata": {},
   "outputs": [],
   "source": [
    "len(y_train), y_train[0].shape, y_train[1].shape"
   ]
  },
  {
   "cell_type": "code",
   "execution_count": null,
   "metadata": {},
   "outputs": [],
   "source": [
    "#vocab_size.index, prob3.columns\n",
    "vocab_size"
   ]
  },
  {
   "cell_type": "code",
   "execution_count": null,
   "metadata": {},
   "outputs": [],
   "source": [
    "probabilities.shape[1]"
   ]
  },
  {
   "cell_type": "code",
   "execution_count": null,
   "metadata": {},
   "outputs": [],
   "source": [
    "from keras.layers import Embedding, Dense, Flatten, LSTM, Input, Concatenate, Add, Lambda\n",
    "from keras.models import Sequential, Model\n",
    "from keras import backend as K\n",
    "\n",
    "# vocab_size = stats.shape[0]\n",
    "\n",
    "# inputs = [Input(shape=(prob3.shape[1],)) for f in vocab_size.index]\n",
    "inputs = {f: Input(shape=(1,), name=f) for f in vocab_size.index}\n",
    "\n",
    "# embeddings = [Embedding(vocab_size[f], embedding_dim, input_length=prob3.shape[1]) for f in vocab_size.index]\n",
    "\n",
    "if True:\n",
    "    embedding_dim = 3 # 12 # 2 # 64 # FIXME\n",
    "    embeddings = [Embedding(vocab_size[f], embedding_dim, input_length=1)(inputs[f]) for f in vocab_size.index]\n",
    "else:\n",
    "    embeddings = [Embedding(vocab_size[f], max(3, vocab_size[f]//15//10), input_length=1)(inputs[f]) for f in vocab_size.index]\n",
    "\n",
    "# the model will take as input an integer matrix of size (batch, input_length).\n",
    "# the largest integer (i.e. word index) in the input should be no larger than 999 (vocabulary size).\n",
    "# now model.output_shape == (None, input_length, embedding_dim), where None is the batch dimension.\n",
    "\n",
    "x1 = Concatenate()(embeddings)\n",
    "\n",
    "x1 = Flatten()(x1)\n",
    "#x1 = Dense( 500, activation='relu')(x1)\n",
    "# x1 = Dense(  50, activation='relu')(x1)\n",
    "\n",
    "# x1 = Dense(  50, activation='relu')(x1)\n",
    "# x1 = Dense(  50, activation='relu')(x1)\n",
    "\n",
    "x1 = Dense( 50, activation='relu')(x1)\n",
    "x1 = Dense( 50, activation='relu')(x1)\n",
    "\n",
    "o1 = {dependent: Dense(50, activation = 'relu', name=\"%s_d1\"%dependent)(x1) for dependent in label_keys}\n",
    "o1 = {dependent: Dense(50, activation = 'relu', name=\"%s_d2\"%dependent)(o1[dependent]) for dependent in label_keys}\n",
    "\n",
    "outputs = [Dense(len(labels[dependent]), activation = 'softmax', name=\"%s_out\"%dependent)(o1[dependent]) for dependent in label_keys]\n",
    "\n",
    "inputs = [inputs[f] for f in vocab_size.index]\n",
    "model = Model(inputs=inputs, outputs=outputs)\n",
    "model.summary()"
   ]
  },
  {
   "cell_type": "code",
   "execution_count": null,
   "metadata": {},
   "outputs": [],
   "source": [
    "def multi_multiclass_logloss(y_true, y_pred):\n",
    "    # when statring to use Function and others, use this\n",
    "    # return K.mean(-1*K.mean(K.batch_dot(y_true, K.log(y_pred)), axis=-1), axis=-1)\n",
    "    # _epsilon = K.epsilon() * K.ones_like(y_true)\n",
    "    y_pred2 = K.clip(y_pred, K.epsilon(), 1 - K.epsilon())\n",
    "    output = -1*K.mean(K.batch_dot(K.transpose(y_true), K.log(y_pred2), axes=[0,1]), axis=-1)\n",
    "    return output\n",
    "\n",
    "# model.compile('rmsprop', loss='categorical_crossentropy', metrics=['acc'])\n",
    "model.compile('rmsprop', loss=multi_multiclass_logloss, metrics=['acc'])"
   ]
  },
  {
   "cell_type": "code",
   "execution_count": null,
   "metadata": {},
   "outputs": [],
   "source": [
    "# test K.batch_dot\n",
    "# Need to specify axes due to issue\n",
    "# https://github.com/keras-team/keras/issues/9847\n",
    "x_batch = K.ones(shape=(32, 37))\n",
    "y_batch = K.ones(shape=(32, 37))\n",
    "# xy_batch_dot = K.batch_dot(K.transpose(x_batch), y_batch, axes=[0, 1])\n",
    "xy_batch_dot = multi_multiclass_logloss(x_batch, y_batch)\n",
    "K.int_shape(xy_batch_dot), K.eval(xy_batch_dot)"
   ]
  },
  {
   "cell_type": "code",
   "execution_count": null,
   "metadata": {
    "scrolled": true
   },
   "outputs": [],
   "source": [
    "# from keras.utils import to_categorical\n",
    "# y_binary = to_categorical(np.argmax(y_train.values, axis=1))\n",
    "# y_binary = np.argmax(y_train.values, axis=1).squeeze()\n",
    "\n",
    "model.fit(\n",
    "    # pd.get_dummies(train3['x'].values),\n",
    "    # # train2[list(set(train2.columns) - set(['joined']))],\n",
    "    # train3['y'].values,\n",
    "    x_train,\n",
    "    y_train,\n",
    "    batch_size=32*32, # 32, # FIXME\n",
    "    epochs=300,\n",
    "    verbose=2,\n",
    "    validation_split = 0.2,\n",
    "    shuffle=False\n",
    ")"
   ]
  },
  {
   "cell_type": "code",
   "execution_count": null,
   "metadata": {},
   "outputs": [],
   "source": [
    "model.evaluate(x_test, y_test)"
   ]
  },
  {
   "cell_type": "markdown",
   "metadata": {},
   "source": [
    "## argmax accuracy"
   ]
  },
  {
   "cell_type": "code",
   "execution_count": null,
   "metadata": {},
   "outputs": [],
   "source": [
    "my_score = np.zeros(y_test.shape[0], dtype='uint8')\n",
    "# y_pred, sum_pred = model.predict([x_test[f].values for f in vocab_size.index])\n",
    "y_pred = model.predict([x_test[f].values for f in vocab_size.index])\n",
    "for i in range(y_test.shape[0]):\n",
    "    v1 = y_test.iloc[i].idxmax()\n",
    "    v2 = probabilities.columns[np.argmax(y_pred[i])]\n",
    "    my_score[i] = 1 if (v1 == v2) else 0"
   ]
  },
  {
   "cell_type": "code",
   "execution_count": null,
   "metadata": {},
   "outputs": [],
   "source": [
    "sum(my_score), my_score.shape[0], sum(my_score)*100 // my_score.shape[0]"
   ]
  },
  {
   "cell_type": "markdown",
   "metadata": {},
   "source": [
    "## Spatial comparison"
   ]
  },
  {
   "cell_type": "code",
   "execution_count": null,
   "metadata": {
    "scrolled": false
   },
   "outputs": [],
   "source": [
    "for i in range(min(10,probabilities.shape[1])):\n",
    "    n_show = 1000\n",
    "    y_pred = model.predict(x_test)\n",
    "    y_pred2 = y_pred[0]\n",
    "    y_test2 = y_test[0]\n",
    "\n",
    "    plt.figure(figsize=(20,3))\n",
    "    plt.plot(y_pred2[:n_show,i], label='pred')\n",
    "    #plt.plot(sum_pred, label='sum_pred', alpha=0.2)\n",
    "    plt.plot(y_test2[:n_show,i], '.', label='actual')\n",
    "    plt.legend(loc='best')\n",
    "    plt.title(probabilities.columns[i])\n",
    "    \n",
    "    axes = plt.gca()\n",
    "    axes.set_ylim([-.1,1.1])\n",
    "    plt.show()"
   ]
  },
  {
   "cell_type": "code",
   "execution_count": null,
   "metadata": {},
   "outputs": [],
   "source": [
    "y_test.iloc[0].sum(), y_pred[0].sum() # , y_pred[0]"
   ]
  },
  {
   "cell_type": "markdown",
   "metadata": {},
   "source": [
    "## temporal comparison"
   ]
  },
  {
   "cell_type": "code",
   "execution_count": null,
   "metadata": {
    "scrolled": false
   },
   "outputs": [],
   "source": [
    "y_pred = model.predict(x_test)\n",
    "y_pred = {label_keys[i]: y_pred[i] for i in range(len(label_keys))}\n",
    "\n",
    "k2 = 'Function'\n",
    "y_pred2 = y_pred[k2]\n",
    "y_test2 = y_test[0]\n",
    "for i in range(15):\n",
    "    plt.figure(figsize=(10,3))\n",
    "    \n",
    "    plt.subplot(121)\n",
    "    plt.bar(x=range(y_pred2.shape[1]), height=y_test2[i])\n",
    "    plt.title('%s. actual, argmax=%s'%(i,np.argmax(y_test2[i])))\n",
    "    axes = plt.gca()\n",
    "    axes.set_ylim([-.1,1.1])\n",
    "    \n",
    "    plt.subplot(122)\n",
    "    plt.bar(x=range(y_pred2.shape[1]), height=y_pred2[i])\n",
    "    plt.title('%s. prediction, argmax=%s'%(i,np.argmax(y_pred2[i])))\n",
    "    axes = plt.gca()\n",
    "    axes.set_ylim([-.1,1.1])\n",
    "    \n",
    "    # plt.title(y_test.index[i])\n",
    "    \n",
    "    plt.show()"
   ]
  },
  {
   "cell_type": "code",
   "execution_count": null,
   "metadata": {},
   "outputs": [],
   "source": [
    "i=6\n",
    "y_test.iloc[i].values"
   ]
  },
  {
   "cell_type": "code",
   "execution_count": null,
   "metadata": {},
   "outputs": [],
   "source": []
  },
  {
   "cell_type": "markdown",
   "metadata": {},
   "source": [
    "## Prepare submission"
   ]
  },
  {
   "cell_type": "code",
   "execution_count": null,
   "metadata": {},
   "outputs": [],
   "source": [
    "print(test.shape)\n",
    "test['joined'] = calc_joined(test)\n",
    "print(test.shape)"
   ]
  },
  {
   "cell_type": "code",
   "execution_count": null,
   "metadata": {},
   "outputs": [],
   "source": [
    "test.shape, test[test['joined'].isin(train['joined'])].shape"
   ]
  },
  {
   "cell_type": "code",
   "execution_count": null,
   "metadata": {},
   "outputs": [],
   "source": [
    "test[features].shape"
   ]
  },
  {
   "cell_type": "code",
   "execution_count": null,
   "metadata": {},
   "outputs": [],
   "source": [
    "test[features].head(n=2)"
   ]
  },
  {
   "cell_type": "code",
   "execution_count": null,
   "metadata": {},
   "outputs": [],
   "source": [
    "test['joined'].head(n=2)"
   ]
  },
  {
   "cell_type": "code",
   "execution_count": null,
   "metadata": {},
   "outputs": [],
   "source": [
    "train[train['Sub_Object_Description']==\"Line Item that is paid with Campus' money\"].shape"
   ]
  },
  {
   "cell_type": "code",
   "execution_count": null,
   "metadata": {},
   "outputs": [],
   "source": []
  },
  {
   "cell_type": "code",
   "execution_count": null,
   "metadata": {},
   "outputs": [],
   "source": []
  },
  {
   "cell_type": "markdown",
   "metadata": {},
   "source": [
    "## RF"
   ]
  },
  {
   "cell_type": "raw",
   "metadata": {},
   "source": [
    "from sklearn.ensemble import RandomForestRegressor\n",
    "from sklearn.datasets import make_regression\n",
    "\n",
    "regr = RandomForestRegressor(max_depth=None, random_state=0, verbose=2, n_jobs=-1)\n",
    "\n",
    "\n",
    "regr.fit(x_train, y_train)"
   ]
  },
  {
   "cell_type": "raw",
   "metadata": {},
   "source": [
    "print(prob3.columns, regr.feature_importances_)"
   ]
  },
  {
   "cell_type": "raw",
   "metadata": {},
   "source": [
    "print(regr.score(x_test, y_test))"
   ]
  },
  {
   "cell_type": "raw",
   "metadata": {},
   "source": [
    "y_pred_rf = regr.predict(x_test[:3]) # .round(1)"
   ]
  },
  {
   "cell_type": "raw",
   "metadata": {},
   "source": [
    "y_pred_rf.sum(axis=1), y_pred_rf[0], y_test[:3].values"
   ]
  }
 ],
 "metadata": {
  "kernelspec": {
   "display_name": "Python 3",
   "language": "python",
   "name": "python3"
  },
  "language_info": {
   "codemirror_mode": {
    "name": "ipython",
    "version": 3
   },
   "file_extension": ".py",
   "mimetype": "text/x-python",
   "name": "python",
   "nbconvert_exporter": "python",
   "pygments_lexer": "ipython3",
   "version": "3.6.3"
  }
 },
 "nbformat": 4,
 "nbformat_minor": 2
}
