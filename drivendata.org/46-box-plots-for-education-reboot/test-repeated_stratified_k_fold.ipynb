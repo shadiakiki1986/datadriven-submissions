{
 "cells": [
  {
   "cell_type": "code",
   "execution_count": 18,
   "metadata": {},
   "outputs": [
    {
     "name": "stdout",
     "output_type": "stream",
     "text": [
      "TRAIN: [1 3 4 5] TEST: [0 2]\n",
      "TRAIN: [0 1 2 3] TEST: [4 5]\n",
      "TRAIN: [0 2 4 5] TEST: [1 3]\n",
      "TRAIN: [1 3 4 5] TEST: [0 2]\n",
      "TRAIN: [0 2 3 4] TEST: [1 5]\n",
      "TRAIN: [0 1 2 5] TEST: [3 4]\n",
      "TRAIN: [0 1 3 4] TEST: [2 5]\n",
      "TRAIN: [0 1 2 5] TEST: [3 4]\n",
      "TRAIN: [2 3 4 5] TEST: [0 1]\n"
     ]
    }
   ],
   "source": [
    "import numpy as np\n",
    "from sklearn.model_selection import RepeatedStratifiedKFold\n",
    "X = np.array([[1, 2], [3, 4], [1, 2], [3, 4], [3, 7], [9, 4]])\n",
    "# y = np.array([0, 0, 1, 1, 0, 1])\n",
    "y = X\n",
    "rskf = RepeatedStratifiedKFold(n_splits=3, n_repeats=3, random_state=36851234)\n",
    "for train_index, test_index in rskf.split(X, np.zeros(shape=(X.shape[0], 1))):\n",
    "    print(\"TRAIN:\", train_index, \"TEST:\", test_index)\n",
    "    X_train, X_test = X[train_index], X[test_index]\n",
    "    y_train, y_test = y[train_index], y[test_index]"
   ]
  }
 ],
 "metadata": {
  "kernelspec": {
   "display_name": "Python 3",
   "language": "python",
   "name": "python3"
  },
  "language_info": {
   "codemirror_mode": {
    "name": "ipython",
    "version": 3
   },
   "file_extension": ".py",
   "mimetype": "text/x-python",
   "name": "python",
   "nbconvert_exporter": "python",
   "pygments_lexer": "ipython3",
   "version": "3.6.3"
  }
 },
 "nbformat": 4,
 "nbformat_minor": 2
}
