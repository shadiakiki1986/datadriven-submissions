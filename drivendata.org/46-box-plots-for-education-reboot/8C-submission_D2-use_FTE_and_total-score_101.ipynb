{
 "cells": [
  {
   "cell_type": "code",
   "execution_count": null,
   "metadata": {},
   "outputs": [],
   "source": [
    "# http://stackoverflow.com/questions/44544766/ddg#44547144\n",
    "from tensorflow.python.client import device_lib\n",
    "print(device_lib.list_local_devices())"
   ]
  },
  {
   "cell_type": "code",
   "execution_count": null,
   "metadata": {},
   "outputs": [],
   "source": [
    "import numpy as np\n",
    "import pandas as pd\n",
    "import time\n",
    "import seaborn as sns\n",
    "from matplotlib import pyplot as plt\n",
    "import keras"
   ]
  },
  {
   "cell_type": "code",
   "execution_count": null,
   "metadata": {},
   "outputs": [],
   "source": [
    "def pd_read_csv(fn:str):\n",
    "    x = pd.read_csv(fn, na_values=['NO_LABEL', '(blank)'])\n",
    "    assert not x['Unnamed: 0'].duplicated().any()\n",
    "    x = x.set_index(\"Unnamed: 0\")\n",
    "    return x"
   ]
  },
  {
   "cell_type": "markdown",
   "metadata": {},
   "source": [
    "## Read data"
   ]
  },
  {
   "cell_type": "code",
   "execution_count": null,
   "metadata": {},
   "outputs": [],
   "source": [
    "train = pd_read_csv('data_in/TrainingData.csv')\n",
    "test = pd_read_csv('data_in/TestData.csv')"
   ]
  },
  {
   "cell_type": "code",
   "execution_count": null,
   "metadata": {},
   "outputs": [],
   "source": [
    "# train.columns\n",
    "# train['Position_Type'].head()"
   ]
  },
  {
   "cell_type": "code",
   "execution_count": null,
   "metadata": {},
   "outputs": [],
   "source": [
    "features = list(set(train.columns).intersection(set(test.columns)) - set(['FTE','Total']))\n",
    "features.sort()\n",
    "features"
   ]
  },
  {
   "cell_type": "code",
   "execution_count": null,
   "metadata": {},
   "outputs": [],
   "source": [
    "target = set(train.columns) - set(test.columns)\n",
    "target = list(target)\n",
    "target.sort()\n",
    "target"
   ]
  },
  {
   "cell_type": "code",
   "execution_count": null,
   "metadata": {},
   "outputs": [],
   "source": [
    "for col in target:\n",
    "    test[col] = np.nan"
   ]
  },
  {
   "cell_type": "code",
   "execution_count": null,
   "metadata": {},
   "outputs": [],
   "source": [
    "train.shape, test.shape"
   ]
  },
  {
   "cell_type": "code",
   "execution_count": null,
   "metadata": {},
   "outputs": [],
   "source": [
    "train['is_holdout'] = False\n",
    "test ['is_holdout'] = True\n",
    "df = pd.concat([train,test], axis=0)\n",
    "df.shape"
   ]
  },
  {
   "cell_type": "code",
   "execution_count": null,
   "metadata": {},
   "outputs": [],
   "source": [
    "# convert FTE to string boolean and append to list of features\n",
    "# df['FTE'] = ~pd.isnull(df['FTE']).astype('str')\n",
    "df['FTE'] = df['FTE'].apply(lambda x: 'nan' if pd.isnull(x) else ( str(round(x,1)) if x <=1 else '>1' ) )\n",
    "features = features + ['FTE']\n",
    "features.sort()"
   ]
  },
  {
   "cell_type": "code",
   "execution_count": null,
   "metadata": {},
   "outputs": [],
   "source": [
    "# categorize Total field\n",
    "def total_to_category(x):\n",
    "    if pd.isnull(x): return 'nan'\n",
    "    # if x < 1000: return str(round(x,1)) if x <=1 else '>1' ) )\n",
    "    ranges = [10,100,1000,10000, 1e5]\n",
    "    for i in ranges:\n",
    "        if abs(x) < i: return str(int(x//(i//10)*(i//10)))\n",
    "        \n",
    "    return \"> %s\"%str(int(max(ranges)))\n",
    "\n",
    "{x: total_to_category(x) for x in [1.5, 3.43, 15, 153, 2153, 9123, 42153, 142153]}"
   ]
  },
  {
   "cell_type": "code",
   "execution_count": null,
   "metadata": {},
   "outputs": [],
   "source": [
    "df['Total_sign'] = df['Total'].apply(lambda x: 'nan' if pd.isnull(x) else ('0' if x==0 else ('+' if x>0 else '-')))\n",
    "df['Total_bin'] = df['Total'].apply(lambda x: total_to_category(x))\n",
    "features = features + ['Total_sign', 'Total_bin']\n",
    "features.sort()"
   ]
  },
  {
   "cell_type": "code",
   "execution_count": null,
   "metadata": {},
   "outputs": [],
   "source": [
    "df['Total_sign'].value_counts().head(n=20)"
   ]
  },
  {
   "cell_type": "code",
   "execution_count": null,
   "metadata": {},
   "outputs": [],
   "source": [
    "df['Total_bin'].value_counts().shape"
   ]
  },
  {
   "cell_type": "code",
   "execution_count": null,
   "metadata": {},
   "outputs": [],
   "source": [
    "df['Total_bin'].value_counts().head(n=20)"
   ]
  },
  {
   "cell_type": "code",
   "execution_count": null,
   "metadata": {},
   "outputs": [],
   "source": [
    "features"
   ]
  },
  {
   "cell_type": "code",
   "execution_count": null,
   "metadata": {},
   "outputs": [],
   "source": [
    "meta = list(set(df.columns) - set(features) - set(target))\n",
    "meta"
   ]
  },
  {
   "cell_type": "code",
   "execution_count": null,
   "metadata": {},
   "outputs": [],
   "source": [
    "df.shape, df[features].shape, df[target].shape, df[meta].shape"
   ]
  },
  {
   "cell_type": "markdown",
   "metadata": {},
   "source": [
    "## Analyze how close the train and test features are"
   ]
  },
  {
   "cell_type": "code",
   "execution_count": null,
   "metadata": {},
   "outputs": [],
   "source": [
    "results = []\n",
    "for ff in features:\n",
    "    vc_train = df[ff][~df['is_holdout']].value_counts()\n",
    "    vc_test  = df[ff][ df['is_holdout']].value_counts()\n",
    "    # vc_train.shape, vc_test.shape\n",
    "    vc_both  = vc_train.reset_index().merge(\n",
    "        vc_test.reset_index(), \n",
    "        left_on = 'index', \n",
    "        right_on='index', \n",
    "        how='outer', \n",
    "        suffixes=['_train', '_test']\n",
    "    )\n",
    "    vc_both = vc_both.set_index('index')\n",
    "    # vc_both.head()\n",
    "    # vc_both[pd.isnull(vc_both['Facility_or_Department_test'])].head()\n",
    "    out = {\n",
    "        'feature': ff,\n",
    "        'train all': df[~df['is_holdout']].shape[0],\n",
    "        # 'train': vc_both['%s_train'%ff].sum(),\n",
    "        'train non-null': (~pd.isnull(df[ff][~df['is_holdout']])).sum(),\n",
    "        'train_minus_test': vc_both['%s_train'%ff][pd.isnull(vc_both['%s_test'%ff ])].sum(), \n",
    "        'test_minus_train': vc_both['%s_test'%ff ][pd.isnull(vc_both['%s_train'%ff])].sum(),\n",
    "    }\n",
    "    out['tmt_pct'] = out['test_minus_train'] * 100 // out['train non-null']\n",
    "    results.append(out)\n",
    "\n",
    "\n",
    "results = pd.DataFrame(results)\n",
    "results = results.set_index('feature').sort_index()\n",
    "results = results.astype('uint32')"
   ]
  },
  {
   "cell_type": "code",
   "execution_count": null,
   "metadata": {},
   "outputs": [],
   "source": [
    "# results.shape\n",
    "# results.head()\n",
    "results[['train all', 'train non-null', 'train_minus_test', 'test_minus_train', 'tmt_pct']]"
   ]
  },
  {
   "cell_type": "code",
   "execution_count": null,
   "metadata": {},
   "outputs": [],
   "source": [
    "# sod = train['Sub_Object_Description'].value_counts()\n",
    "sod = test['Sub_Object_Description'].value_counts()"
   ]
  },
  {
   "cell_type": "code",
   "execution_count": null,
   "metadata": {},
   "outputs": [],
   "source": [
    "sod.head(n=20)"
   ]
  },
  {
   "cell_type": "code",
   "execution_count": null,
   "metadata": {},
   "outputs": [],
   "source": [
    "from matplotlib import pyplot as plt\n",
    "# plt.bar(x=range(sod.shape[0]), height=sod.values)\n",
    "plt.bar(x=range(sod.shape[0]-5), height=sod.iloc[5:].values)\n",
    "plt.show()"
   ]
  },
  {
   "cell_type": "code",
   "execution_count": null,
   "metadata": {},
   "outputs": [],
   "source": [
    "# sod[sod<10].shape[0], sod.shape[0]\n",
    "sod[sod<10]"
   ]
  },
  {
   "cell_type": "code",
   "execution_count": null,
   "metadata": {},
   "outputs": [],
   "source": [
    "subtest = test['Sub_Object_Description'].apply(lambda x: (~pd.isnull(x)) & ('community' in str(x).lower())) # .sum()"
   ]
  },
  {
   "cell_type": "code",
   "execution_count": null,
   "metadata": {},
   "outputs": [],
   "source": [
    "test['Sub_Object_Description'][subtest].head()"
   ]
  },
  {
   "cell_type": "markdown",
   "metadata": {},
   "source": [
    "## Read target labels"
   ]
  },
  {
   "cell_type": "code",
   "execution_count": null,
   "metadata": {},
   "outputs": [],
   "source": [
    "import yaml\n",
    "labels = yaml.load(open(\"labels.yml\",'r'))"
   ]
  },
  {
   "cell_type": "code",
   "execution_count": null,
   "metadata": {},
   "outputs": [],
   "source": [
    "# Function': ['Aides Compensation\n",
    "prediction_names = []\n",
    "for k,v1 in labels.items():\n",
    "    for v2 in v1:\n",
    "        pn = \"%s__%s\"%(k,v2)\n",
    "        prediction_names.append(pn)\n",
    "        \n",
    "        \n",
    "assert 'Function__Aides Compensation' in prediction_names\n",
    "prediction_names.sort()\n",
    "prediction_names[:5]"
   ]
  },
  {
   "cell_type": "markdown",
   "metadata": {},
   "source": [
    "## one-hot encode each target by its classes"
   ]
  },
  {
   "cell_type": "code",
   "execution_count": null,
   "metadata": {},
   "outputs": [],
   "source": [
    "for p in prediction_names: df[p] = False"
   ]
  },
  {
   "cell_type": "code",
   "execution_count": null,
   "metadata": {},
   "outputs": [],
   "source": [
    "for k,v1 in labels.items():\n",
    "    for v2 in v1:\n",
    "        pn = \"%s__%s\"%(k,v2)\n",
    "        # print(pn)\n",
    "        df[pn] = df[k] == v2"
   ]
  },
  {
   "cell_type": "code",
   "execution_count": null,
   "metadata": {},
   "outputs": [],
   "source": [
    "# since NO_LABEL is replaced with NaN, need this\n",
    "for dependent in labels.keys():\n",
    "    target_sub = [x for x in df.columns if x.startswith(\"%s__\"%dependent)]\n",
    "    df.loc[~df[target_sub].any(axis=1), '%s__NO_LABEL'%dependent]=True"
   ]
  },
  {
   "cell_type": "code",
   "execution_count": null,
   "metadata": {},
   "outputs": [],
   "source": [
    "df[['Function', 'Function__Teacher Compensation', 'Function__Substitute Compensation', 'Function__NO_LABEL']].head()"
   ]
  },
  {
   "cell_type": "code",
   "execution_count": null,
   "metadata": {},
   "outputs": [],
   "source": [
    "df.shape, df[pd.isnull(df[prediction_names]).all(axis=1)].shape, df.loc[~df[prediction_names].any(axis=1)].shape"
   ]
  },
  {
   "cell_type": "code",
   "execution_count": null,
   "metadata": {},
   "outputs": [],
   "source": [
    "assert ~pd.isnull(df[prediction_names]).any().any()"
   ]
  },
  {
   "cell_type": "code",
   "execution_count": null,
   "metadata": {
    "scrolled": true
   },
   "outputs": [],
   "source": [
    "df[prediction_names] = df[prediction_names].astype('uint8')"
   ]
  },
  {
   "cell_type": "markdown",
   "metadata": {},
   "source": [
    "## Factorize features"
   ]
  },
  {
   "cell_type": "code",
   "execution_count": null,
   "metadata": {},
   "outputs": [],
   "source": [
    "print(time.ctime())\n",
    "df_feat = df[features].apply(lambda x: pd.factorize(x)[0], axis=0)\n",
    "df_feat = df_feat + 1 # +1 for the -1 from pd.factorize on nan (keras Embedding supports [0,N) )    \n",
    "print(time.ctime())"
   ]
  },
  {
   "cell_type": "code",
   "execution_count": null,
   "metadata": {},
   "outputs": [],
   "source": [
    "df_feat.max().max(), df_feat.min().min()"
   ]
  },
  {
   "cell_type": "code",
   "execution_count": null,
   "metadata": {},
   "outputs": [],
   "source": [
    "vocab_size = df_feat.max(axis=0) + 1 # +1 to count the 0 index\n",
    "vocab_size = vocab_size.sort_index()\n",
    "vocab_size"
   ]
  },
  {
   "cell_type": "code",
   "execution_count": null,
   "metadata": {},
   "outputs": [],
   "source": [
    "assert df[prediction_names].max().max()==1"
   ]
  },
  {
   "cell_type": "code",
   "execution_count": null,
   "metadata": {},
   "outputs": [],
   "source": [
    "df['Total_sign'].value_counts()#.tail()#head(n=100).tail()"
   ]
  },
  {
   "cell_type": "markdown",
   "metadata": {},
   "source": [
    "## split the non-holdout into train/test\n"
   ]
  },
  {
   "cell_type": "code",
   "execution_count": null,
   "metadata": {},
   "outputs": [],
   "source": [
    "# calculate label_keys array whose order is replicable\n",
    "label_keys = labels.keys()\n",
    "label_keys = list(label_keys)\n",
    "label_keys.sort()\n"
   ]
  },
  {
   "cell_type": "code",
   "execution_count": null,
   "metadata": {},
   "outputs": [],
   "source": [
    "df_x = df_feat[~df['is_holdout']]\n",
    "df_y = df[prediction_names][~df['is_holdout']] # .fillna(0)"
   ]
  },
  {
   "cell_type": "raw",
   "metadata": {},
   "source": [
    "# simple train/test split with sklearn    \n",
    "from sklearn.model_selection import train_test_split\n",
    "test_size=0.33\n",
    "# test_size=0\n",
    "x_train, x_test, y_train, y_test = train_test_split(df_x, df_y, test_size=test_size, random_state=42)\n",
    "\n",
    "x_train.shape, x_test.shape, y_train.shape, y_test.shape"
   ]
  },
  {
   "cell_type": "code",
   "execution_count": null,
   "metadata": {},
   "outputs": [],
   "source": [
    "import numpy as np\n",
    "from sklearn.model_selection import RepeatedStratifiedKFold\n",
    "\n",
    "rskf = RepeatedStratifiedKFold(n_splits=3, n_repeats=3, random_state=36851234)"
   ]
  },
  {
   "cell_type": "markdown",
   "metadata": {},
   "source": [
    "## build a dummy equi-probable target"
   ]
  },
  {
   "cell_type": "code",
   "execution_count": null,
   "metadata": {},
   "outputs": [],
   "source": [
    "def get_y_equi(n):\n",
    "    y_equi = {}\n",
    "    for k in label_keys:\n",
    "        y_equi[k] = np.ones(shape=(n, len(labels[k]))) / len(labels[k])\n",
    "\n",
    "    y_equi = [y_equi[k] for k in label_keys]\n",
    "    y_equi = np.concatenate(y_equi, axis=1)\n",
    "    y_equi = pd.DataFrame(y_equi, columns=y_train.columns, index=y_train.index)\n",
    "    # y_equi.shape\n",
    "    \n",
    "    return y_equi"
   ]
  },
  {
   "cell_type": "markdown",
   "metadata": {},
   "source": [
    "## keras embedding + Dense/LSTM"
   ]
  },
  {
   "cell_type": "code",
   "execution_count": null,
   "metadata": {
    "scrolled": false
   },
   "outputs": [],
   "source": [
    "from keras.layers import Embedding, Dense, Flatten, LSTM, Input, Concatenate, Add, Lambda, Dropout\n",
    "from keras.models import Sequential, Model\n",
    "from keras import backend as K\n",
    "\n",
    "\n",
    "def build_fn():\n",
    "    # vocab_size = stats.shape[0]\n",
    "\n",
    "    # inputs = [Input(shape=(prob3.shape[1],)) for f in vocab_size.index]\n",
    "    inputs = {f: Input(shape=(1,), name=f) for f in vocab_size.index}\n",
    "\n",
    "    # embeddings = [Embedding(vocab_size[f], embedding_dim, input_length=prob3.shape[1]) for f in vocab_size.index]\n",
    "\n",
    "    if True:\n",
    "        embedding_dim = 10 # 3 # 12 # 2 # 64 # FIXME\n",
    "        embeddings = {f: Embedding(vocab_size[f], embedding_dim, input_length=1)(inputs[f]) for f in vocab_size.index}\n",
    "    else:\n",
    "        embeddings = {f: Embedding(vocab_size[f], max(3, vocab_size[f]//15//10), input_length=1)(inputs[f]) for f in vocab_size.index}\n",
    "\n",
    "    # the model will take as input an integer matrix of size (batch, input_length).\n",
    "    # the largest integer (i.e. word index) in the input should be no larger than 999 (vocabulary size).\n",
    "    # now model.output_shape == (None, input_length, embedding_dim), where None is the batch dimension.\n",
    "\n",
    "    # dummy variable\n",
    "    x1= embeddings\n",
    "\n",
    "    #  flatten each feature since no sequences anyway\n",
    "    x1 = {f: Flatten(name=\"%s_flat\"%f)(x1[f]) for f in vocab_size.index}\n",
    "\n",
    "    # dense layer for each feature\n",
    "    # x1 = {f: Dense(10, activation = 'relu', name=\"%s_d01\"%f)(x1[f]) for f in vocab_size.index}\n",
    "    # x1 = {f: Dense( 3, activation = 'relu', name=\"%s_d02\"%f)(x1[f]) for f in vocab_size.index}\n",
    "\n",
    "    # a dropout for each feature, this way, the network is more robust to dependencies on a single feature\n",
    "    x1 = {f: Dropout(0.3, name=\"%s_dropout\"%f)(x1[f]) for f in vocab_size.index}\n",
    "\n",
    "    x1 = [x1[f] for f in vocab_size.index]\n",
    "    x1 = Concatenate()(x1)\n",
    "    # x1 = Flatten()(x1)\n",
    "    x1 = Dropout(0.3)(x1)\n",
    "\n",
    "    x1 = Dense(1000, activation='relu')(x1)\n",
    "    x1 = Dense( 300, activation='relu')(x1)\n",
    "\n",
    "    # x1 = Dense( 50, activation='relu')(x1)\n",
    "    # o1 = {dependent: Dense(50, activation = 'relu', name=\"%s_d1\"%dependent)(x1) for dependent in label_keys}\n",
    "    # o1 = {dependent: Dense(50, activation = 'relu', name=\"%s_d2\"%dependent)(o1[dependent]) for dependent in label_keys}\n",
    "\n",
    "    # outputs = [Dense(len(labels[dependent]), activation = 'softmax', name=\"%s_out\"%dependent)(o1[dependent]) for dependent in label_keys]\n",
    "    outputs = [Dense(len(labels[dependent]), activation = 'softmax', name=\"%s_out\"%dependent)(x1) for dependent in label_keys]\n",
    "\n",
    "    inputs = [inputs[f] for f in vocab_size.index]\n",
    "    model = Model(inputs=inputs, outputs=outputs)\n",
    "    \n",
    "    # model.compile('rmsprop', loss=multi_multiclass_logloss, metrics=['acc'])\n",
    "    # model.compile('rmsprop', loss='categorical_crossentropy', metrics=['acc'])\n",
    "    model.compile('adam', loss='categorical_crossentropy', metrics=['acc'])\n",
    "    \n",
    "    return model"
   ]
  },
  {
   "cell_type": "code",
   "execution_count": null,
   "metadata": {
    "scrolled": true
   },
   "outputs": [],
   "source": [
    "model_test = build_fn()\n",
    "model_test.summary()"
   ]
  },
  {
   "cell_type": "code",
   "execution_count": null,
   "metadata": {},
   "outputs": [],
   "source": [
    "from matplotlib import pyplot as plt"
   ]
  },
  {
   "cell_type": "code",
   "execution_count": null,
   "metadata": {},
   "outputs": [],
   "source": [
    "import time"
   ]
  },
  {
   "cell_type": "code",
   "execution_count": null,
   "metadata": {
    "scrolled": true
   },
   "outputs": [],
   "source": [
    "models_k = []\n",
    "\n",
    "# instead of df_y, use y_zeros below\n",
    "# otherwise will get error \n",
    "# \"ValueError: Supported target types are: ('binary', 'multiclass'). Got 'multilabel-indicator' instead.\"\n",
    "y_zeros = np.zeros(shape=(df_x.shape[0], 1))\n",
    "\n",
    "for k, indeces in enumerate(rskf.split(df_x.values, y_zeros)):\n",
    "    print('%s .. fold %s'%(time.ctime(), k))\n",
    "    train_index, test_index = indeces\n",
    "    \n",
    "    print(\"TRAIN:\", train_index, \"TEST:\", test_index)\n",
    "    x_train, x_test = df_x.iloc[train_index], df_x.iloc[test_index]\n",
    "    y_train, y_test = df_y.iloc[train_index], df_y.iloc[test_index]\n",
    "    \n",
    "    y_equi = get_y_equi(y_train.shape[0])\n",
    "    \n",
    "    # convert 2-D matrix of features into array of 1-D features\n",
    "    # This is needed because each feature has a different vocabulary for its embedding\n",
    "    x_train = [x_train[f].values for f in vocab_size.index]\n",
    "    x_test  = [x_test [f].values for f in vocab_size.index]\n",
    "    \n",
    "    # convert 2-D matrix of targets into K arrays of C-D matrices \n",
    "    # where C is the number of classes of each target\n",
    "    y_train = [y_train[[x for x in prediction_names if x.startswith(\"%s__\"%f)]].values for f in label_keys]\n",
    "    y_test  = [y_test [[x for x in prediction_names if x.startswith(\"%s__\"%f)]].values for f in label_keys]\n",
    "    y_equi  = [y_equi [[x for x in prediction_names if x.startswith(\"%s__\"%f)]].values for f in label_keys]\n",
    "    \n",
    "    # len(y_train), y_train[0].shape, y_train[1].shape, len(y_test), y_test[0].shape, len(y_equi), y_equi[0].shape\n",
    "    \n",
    "    # y_equi[0][:2], y_equi[1][:2]\n",
    "    \n",
    "    model = build_fn()\n",
    "    \n",
    "    print('first train to equi-probable')\n",
    "    model.fit(\n",
    "        x_train,\n",
    "        y_equi,\n",
    "        batch_size=32*32, # 32, # FIXME\n",
    "        epochs=5,\n",
    "        verbose=0,#2,\n",
    "        validation_split = 0.2,\n",
    "        # validation_split = 0,\n",
    "        shuffle=True\n",
    "    )\n",
    "    \n",
    "    # y_pred = model.predict(x_train, batch_size=32*32)\n",
    "    y_pred = model.predict(x_test,  batch_size=32*32)\n",
    "    assert abs(y_pred[0][0,0] - 0.027) < .001\n",
    "    assert abs(y_pred[1][0,0] - 0.090) < .001\n",
    "    \n",
    "    # evaluate on the real data\n",
    "    score = model.evaluate(x_train, y_train, batch_size = 32*32)\n",
    "    assert abs(score[0] - 18.69) < 0.01\n",
    "    \n",
    "    print('then train to actual probabilities')\n",
    "    history = model.fit(\n",
    "        # pd.get_dummies(train3['x'].values),\n",
    "        # # train2[list(set(train2.columns) - set(['joined']))],\n",
    "        # train3['y'].values,\n",
    "        x_train,\n",
    "        y_train,\n",
    "        batch_size=32*32, # 32, # FIXME\n",
    "        epochs=30,\n",
    "        #initial_epoch=30,\n",
    "        verbose=0, #2,\n",
    "        validation_split = 0.2,\n",
    "        # validation_split = 0,\n",
    "        shuffle=True\n",
    "    )\n",
    "    \n",
    "    \n",
    "    plt.plot(history.history['loss'])\n",
    "    plt.plot(history.history['val_loss'])\n",
    "    plt.show()\n",
    "    \n",
    "    print('model.evaluate', model.evaluate(x_test, y_test, batch_size = 32*32))\n",
    "    \n",
    "    models_k.append(model)\n",
    "    \n",
    "    print('')\n",
    "    print('')\n",
    "    print('')"
   ]
  },
  {
   "cell_type": "markdown",
   "metadata": {},
   "source": [
    "## Predict complete dataset for visualization"
   ]
  },
  {
   "cell_type": "code",
   "execution_count": null,
   "metadata": {},
   "outputs": [],
   "source": [
    "len(models_k)"
   ]
  },
  {
   "cell_type": "code",
   "execution_count": null,
   "metadata": {},
   "outputs": [],
   "source": [
    "def predict_k_models(x_in):\n",
    "    y_pred = []\n",
    "    n = len(models_k)\n",
    "    for k,model in enumerate(models_k):\n",
    "        print('fold %s / %s'%(k,n))\n",
    "        y_pred.append(model.predict(x_in, verbose=2))\n",
    "        \n",
    "    # y_pred = pd.Panel(y_pred).mean(axis=2)\n",
    "    \n",
    "    # TODO replace pd.Panel with xarray\n",
    "    # http://xarray.pydata.org/en/stable/\n",
    "    y_out = []\n",
    "    for fi in range(len(label_keys)):\n",
    "        # print(fi)\n",
    "        y_out.append(pd.Panel([yyy[fi] for yyy in y_pred]).mean(axis=0))\n",
    "        \n",
    "    for i,k in enumerate(label_keys):\n",
    "        y_out[i].columns = labels[k]\n",
    "        \n",
    "    return y_out"
   ]
  },
  {
   "cell_type": "code",
   "execution_count": null,
   "metadata": {},
   "outputs": [],
   "source": [
    "x_test = df_x # .head()\n",
    "y_test = df_y # .head()\n",
    "\n",
    "x_test  = [x_test [f].values for f in vocab_size.index]\n",
    "y_test  = [y_test [[x for x in prediction_names if x.startswith(\"%s__\"%f)]].values for f in label_keys]\n",
    "\n",
    "y_pred = predict_k_models(x_test)\n",
    "\n",
    "# y_pred = pd.Panel(y_pred).mean(axis=2)\n",
    "# y_pred.shape"
   ]
  },
  {
   "cell_type": "code",
   "execution_count": null,
   "metadata": {},
   "outputs": [],
   "source": [
    "y_test[0][0,:].sum(), y_pred[0].iloc[0,:].sum() # , y_pred[0]"
   ]
  },
  {
   "cell_type": "markdown",
   "metadata": {},
   "source": [
    "## Spatial comparison"
   ]
  },
  {
   "cell_type": "code",
   "execution_count": null,
   "metadata": {
    "scrolled": true
   },
   "outputs": [],
   "source": [
    "# sub_labels = labels\n",
    "sub_labels = {k:labels[k] for k in label_keys if k in ['Function']}\n",
    "\n",
    "n_show = 1000\n",
    "\n",
    "for i,v0 in enumerate(sub_labels.items()):\n",
    "    k,v1 = v0\n",
    "    # y_pred2 = pd.DataFrame(y_pred[i], columns=v1)\n",
    "    y_pred2 = y_pred[i]\n",
    "    y_test2 = pd.DataFrame(y_test[i], columns=v1)\n",
    "    for v2 in v1:\n",
    "        plt.figure(figsize=(20,3))\n",
    "        plt.plot(y_pred2.loc[:n_show,v2], label='pred')\n",
    "        #plt.plot(sum_pred, label='sum_pred', alpha=0.2)\n",
    "        plt.plot(y_test2.loc[:n_show,v2], '.', label='actual')\n",
    "        plt.legend(loc='best')\n",
    "        plt.title(\"%s: %s\"%(k,v2))\n",
    "\n",
    "        axes = plt.gca()\n",
    "        axes.set_ylim([-.1,1.1])\n",
    "        plt.show()"
   ]
  },
  {
   "cell_type": "markdown",
   "metadata": {},
   "source": [
    "## temporal comparison"
   ]
  },
  {
   "cell_type": "code",
   "execution_count": null,
   "metadata": {
    "scrolled": true
   },
   "outputs": [],
   "source": [
    "y_pred2 = {label_keys[i]: y_pred[i] for i in range(len(label_keys))}\n",
    "y_test2 = {label_keys[i]: y_test[i] for i in range(len(label_keys))}\n",
    "\n",
    "k2 = 'Function'\n",
    "y_pred3 = y_pred2[k2].values\n",
    "y_test3 = y_test2[k2]\n",
    "\n",
    "for i in range(15):\n",
    "    plt.figure(figsize=(10,3))\n",
    "    \n",
    "    plt.subplot(121)\n",
    "    plt.bar(x=range(y_pred3.shape[1]), height=y_test3[i])\n",
    "    plt.title('%s. actual, argmax=%s'%(i,np.argmax(y_test3[i])))\n",
    "    axes = plt.gca()\n",
    "    axes.set_ylim([-.1,1.1])\n",
    "    \n",
    "    plt.subplot(122)\n",
    "    plt.bar(x=range(y_pred3.shape[1]), height=y_pred3[i])\n",
    "    plt.title('%s. prediction, argmax=%s'%(i,np.argmax(y_pred3[i])))\n",
    "    axes = plt.gca()\n",
    "    axes.set_ylim([-.1,1.1])\n",
    "    \n",
    "    # plt.title(y_test.index[i])\n",
    "    \n",
    "    plt.show()"
   ]
  },
  {
   "cell_type": "code",
   "execution_count": null,
   "metadata": {},
   "outputs": [],
   "source": [
    "i=6\n",
    "y_test3[i,:]"
   ]
  },
  {
   "cell_type": "code",
   "execution_count": null,
   "metadata": {},
   "outputs": [],
   "source": [
    "from keras.losses import categorical_crossentropy\n",
    "from keras import backend as K\n",
    "\n",
    "result_all = []\n",
    "for yi in range(len(y_test)):\n",
    "    result_i = categorical_crossentropy(K.variable(y_test[yi]), K.variable(y_pred[yi].values))\n",
    "    result_all.append(K.eval(result_i))"
   ]
  },
  {
   "cell_type": "code",
   "execution_count": null,
   "metadata": {},
   "outputs": [],
   "source": [
    "# len(result_all), result_all[0].shape\n",
    "# result_all[0].mean()\n",
    "# result_all[0][0:5], result_all[1][0:5], len(y_test)\n",
    "pd.Series([r.mean() for r in result_all]).sum()"
   ]
  },
  {
   "cell_type": "markdown",
   "metadata": {},
   "source": [
    "## Mock submission"
   ]
  },
  {
   "cell_type": "code",
   "execution_count": null,
   "metadata": {},
   "outputs": [],
   "source": [
    "x_ho = df_feat[features][~df['is_holdout']].head()\n",
    "x_ho  = [x_ho [f].values for f in vocab_size.index]\n",
    "y_ho = predict_k_models(x_ho)\n",
    "df_submit = pd.DataFrame(np.concatenate(y_ho, axis=1), columns=prediction_names)\n",
    "df_submit.shape"
   ]
  },
  {
   "cell_type": "code",
   "execution_count": null,
   "metadata": {},
   "outputs": [],
   "source": [
    "df_submit.head().round(1)"
   ]
  },
  {
   "cell_type": "code",
   "execution_count": null,
   "metadata": {},
   "outputs": [],
   "source": [
    "df[target].head()"
   ]
  },
  {
   "cell_type": "markdown",
   "metadata": {},
   "source": [
    "## Prepare submission"
   ]
  },
  {
   "cell_type": "code",
   "execution_count": null,
   "metadata": {},
   "outputs": [],
   "source": [
    "df.shape, df_feat.shape"
   ]
  },
  {
   "cell_type": "code",
   "execution_count": null,
   "metadata": {},
   "outputs": [],
   "source": [
    "x_ho = df_feat[features][ df['is_holdout']]\n",
    "x_ho  = [x_ho [f].values for f in vocab_size.index]\n",
    "y_ho = predict_k_models(x_ho)"
   ]
  },
  {
   "cell_type": "code",
   "execution_count": null,
   "metadata": {},
   "outputs": [],
   "source": [
    "len(y_ho), y_ho[0].shape, y_ho[1].shape"
   ]
  },
  {
   "cell_type": "raw",
   "metadata": {},
   "source": [
    "df_ho  = df[ df['is_holdout']]\n",
    "df_nho = df[~df['is_holdout']]\n",
    "df_ho.shape, df_ho[df_ho['joined'].isin(df_nho['joined'])].shape"
   ]
  },
  {
   "cell_type": "raw",
   "metadata": {},
   "source": [
    "df_ho[features].shape"
   ]
  },
  {
   "cell_type": "raw",
   "metadata": {},
   "source": [
    "df_ho[features].head(n=2)"
   ]
  },
  {
   "cell_type": "raw",
   "metadata": {},
   "source": [
    "df_ho['joined'].head(n=2)"
   ]
  },
  {
   "cell_type": "raw",
   "metadata": {},
   "source": [
    "df_nho[df_nho['Sub_Object_Description']==\"Line Item that is paid with Campus' money\"].shape"
   ]
  },
  {
   "cell_type": "raw",
   "metadata": {},
   "source": [
    "df['is_holdout'].index"
   ]
  },
  {
   "cell_type": "code",
   "execution_count": null,
   "metadata": {},
   "outputs": [],
   "source": [
    "df_submit = pd.DataFrame(np.concatenate(y_ho, axis=1), columns=prediction_names, index=df_feat[ df['is_holdout']].index)\n",
    "df_submit.shape"
   ]
  },
  {
   "cell_type": "code",
   "execution_count": null,
   "metadata": {},
   "outputs": [],
   "source": [
    "df_submit.head()"
   ]
  },
  {
   "cell_type": "code",
   "execution_count": null,
   "metadata": {},
   "outputs": [],
   "source": [
    "# plt.plot(df_submit['Use__NO_LABEL'].sort_values().values)\n",
    "plt.plot(df_submit['Operating_Status__NO_LABEL'].sort_values().values)\n",
    "plt.show()"
   ]
  },
  {
   "cell_type": "code",
   "execution_count": null,
   "metadata": {},
   "outputs": [],
   "source": [
    "test.head()"
   ]
  },
  {
   "cell_type": "code",
   "execution_count": null,
   "metadata": {},
   "outputs": [],
   "source": [
    "assert (df_submit['Operating_Status__NO_LABEL']<0.0001).all()\n",
    "del df_submit['Operating_Status__NO_LABEL']"
   ]
  },
  {
   "cell_type": "code",
   "execution_count": null,
   "metadata": {},
   "outputs": [],
   "source": [
    "fn = 'data_out/submission_D2_%s.csv'%(time.strftime(\"%Y%m%d_%H%M%S\"))\n",
    "df_submit.to_csv(fn)"
   ]
  },
  {
   "cell_type": "code",
   "execution_count": null,
   "metadata": {},
   "outputs": [],
   "source": []
  },
  {
   "cell_type": "code",
   "execution_count": null,
   "metadata": {},
   "outputs": [],
   "source": []
  },
  {
   "cell_type": "code",
   "execution_count": null,
   "metadata": {},
   "outputs": [],
   "source": []
  },
  {
   "cell_type": "code",
   "execution_count": null,
   "metadata": {},
   "outputs": [],
   "source": []
  },
  {
   "cell_type": "code",
   "execution_count": null,
   "metadata": {},
   "outputs": [],
   "source": []
  }
 ],
 "metadata": {
  "kernelspec": {
   "display_name": "Python 3",
   "language": "python",
   "name": "python3"
  },
  "language_info": {
   "codemirror_mode": {
    "name": "ipython",
    "version": 3
   },
   "file_extension": ".py",
   "mimetype": "text/x-python",
   "name": "python",
   "nbconvert_exporter": "python",
   "pygments_lexer": "ipython3",
   "version": "3.6.3"
  }
 },
 "nbformat": 4,
 "nbformat_minor": 2
}
