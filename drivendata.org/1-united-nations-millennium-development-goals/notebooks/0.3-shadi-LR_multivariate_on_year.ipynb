{
 "cells": [
  {
   "cell_type": "code",
   "execution_count": 1,
   "metadata": {},
   "outputs": [],
   "source": [
    "import pandas as pd\n",
    "import os\n",
    "import seaborn as sns\n",
    "from matplotlib import pyplot as plt\n",
    "import numpy as np\n",
    "import time"
   ]
  },
  {
   "cell_type": "markdown",
   "metadata": {},
   "source": [
    "## Read data"
   ]
  },
  {
   "cell_type": "code",
   "execution_count": 2,
   "metadata": {},
   "outputs": [],
   "source": [
    "from src.features import *\n",
    "train = load_raw()\n",
    "cols = imply_columns(train)"
   ]
  },
  {
   "cell_type": "code",
   "execution_count": 3,
   "metadata": {},
   "outputs": [],
   "source": [
    "assert not train['Unnamed: 0'].duplicated().any()"
   ]
  },
  {
   "cell_type": "code",
   "execution_count": 4,
   "metadata": {},
   "outputs": [],
   "source": [
    "train = train.set_index('Unnamed: 0')"
   ]
  },
  {
   "cell_type": "code",
   "execution_count": 5,
   "metadata": {},
   "outputs": [
    {
     "data": {
      "text/plain": [
       "((195402, 39),\n",
       " Index(['1972 [YR1972]', '1973 [YR1973]', '1974 [YR1974]', '1975 [YR1975]',\n",
       "        '1976 [YR1976]', '1977 [YR1977]', '1978 [YR1978]', '1979 [YR1979]',\n",
       "        '1980 [YR1980]', '1981 [YR1981]', '1982 [YR1982]', '1983 [YR1983]',\n",
       "        '1984 [YR1984]', '1985 [YR1985]', '1986 [YR1986]', '1987 [YR1987]',\n",
       "        '1988 [YR1988]', '1989 [YR1989]', '1990 [YR1990]', '1991 [YR1991]',\n",
       "        '1992 [YR1992]', '1993 [YR1993]', '1994 [YR1994]', '1995 [YR1995]',\n",
       "        '1996 [YR1996]', '1997 [YR1997]', '1998 [YR1998]', '1999 [YR1999]',\n",
       "        '2000 [YR2000]', '2001 [YR2001]', '2002 [YR2002]', '2003 [YR2003]',\n",
       "        '2004 [YR2004]', '2005 [YR2005]', '2006 [YR2006]', '2007 [YR2007]',\n",
       "        'Country Name', 'Series Code', 'Series Name'],\n",
       "       dtype='object'))"
      ]
     },
     "execution_count": 5,
     "metadata": {},
     "output_type": "execute_result"
    }
   ],
   "source": [
    "train.shape, train.columns"
   ]
  },
  {
   "cell_type": "code",
   "execution_count": 6,
   "metadata": {},
   "outputs": [
    {
     "data": {
      "text/plain": [
       "(195402, 61280)"
      ]
     },
     "execution_count": 6,
     "metadata": {},
     "output_type": "execute_result"
    }
   ],
   "source": [
    "# pd.isnull(train[cols['features']]).sum(axis=1).sort_values(ascending=True).head(n=20)\n",
    "train.shape[0], len(np.where(pd.isnull(train[cols['features']]).sum(axis=1) < 5)[0])\n",
    "# train.iloc[0,'1972 [YR1972]']\n",
    "# pd.isnull(train.loc[0,'1972 [YR1972]'])\n",
    "# train.head()\n",
    "# train.loc[131876]"
   ]
  },
  {
   "cell_type": "markdown",
   "metadata": {},
   "source": [
    "## read submission file"
   ]
  },
  {
   "cell_type": "code",
   "execution_count": 7,
   "metadata": {
    "scrolled": true
   },
   "outputs": [
    {
     "data": {
      "text/html": [
       "<div>\n",
       "<style scoped>\n",
       "    .dataframe tbody tr th:only-of-type {\n",
       "        vertical-align: middle;\n",
       "    }\n",
       "\n",
       "    .dataframe tbody tr th {\n",
       "        vertical-align: top;\n",
       "    }\n",
       "\n",
       "    .dataframe thead th {\n",
       "        text-align: right;\n",
       "    }\n",
       "</style>\n",
       "<table border=\"1\" class=\"dataframe\">\n",
       "  <thead>\n",
       "    <tr style=\"text-align: right;\">\n",
       "      <th></th>\n",
       "      <th>2008 [YR2008]</th>\n",
       "      <th>2012 [YR2012]</th>\n",
       "    </tr>\n",
       "    <tr>\n",
       "      <th>Unnamed: 0</th>\n",
       "      <th></th>\n",
       "      <th></th>\n",
       "    </tr>\n",
       "  </thead>\n",
       "  <tbody>\n",
       "    <tr>\n",
       "      <th>559</th>\n",
       "      <td>NaN</td>\n",
       "      <td>NaN</td>\n",
       "    </tr>\n",
       "    <tr>\n",
       "      <th>618</th>\n",
       "      <td>NaN</td>\n",
       "      <td>NaN</td>\n",
       "    </tr>\n",
       "    <tr>\n",
       "      <th>753</th>\n",
       "      <td>NaN</td>\n",
       "      <td>NaN</td>\n",
       "    </tr>\n",
       "    <tr>\n",
       "      <th>1030</th>\n",
       "      <td>NaN</td>\n",
       "      <td>NaN</td>\n",
       "    </tr>\n",
       "    <tr>\n",
       "      <th>1896</th>\n",
       "      <td>NaN</td>\n",
       "      <td>NaN</td>\n",
       "    </tr>\n",
       "  </tbody>\n",
       "</table>\n",
       "</div>"
      ],
      "text/plain": [
       "            2008 [YR2008]  2012 [YR2012]\n",
       "Unnamed: 0                              \n",
       "559                   NaN            NaN\n",
       "618                   NaN            NaN\n",
       "753                   NaN            NaN\n",
       "1030                  NaN            NaN\n",
       "1896                  NaN            NaN"
      ]
     },
     "execution_count": 7,
     "metadata": {},
     "output_type": "execute_result"
    }
   ],
   "source": [
    "df_submit = pd.read_csv('data/raw/submission.csv').set_index('Unnamed: 0')\n",
    "df_submit.head()"
   ]
  },
  {
   "cell_type": "code",
   "execution_count": 8,
   "metadata": {},
   "outputs": [
    {
     "data": {
      "text/plain": [
       "206"
      ]
     },
     "execution_count": 8,
     "metadata": {},
     "output_type": "execute_result"
    }
   ],
   "source": [
    "len(set(train.loc[df_submit.index]['Country Name']))"
   ]
  },
  {
   "cell_type": "code",
   "execution_count": 9,
   "metadata": {},
   "outputs": [
    {
     "data": {
      "text/plain": [
       "{'2.1', '4.1', '5.1', '6.1', '6.7', '7.8', '8.16'}"
      ]
     },
     "execution_count": 9,
     "metadata": {},
     "output_type": "execute_result"
    }
   ],
   "source": [
    "set(train.loc[df_submit.index]['Series Code'])"
   ]
  },
  {
   "cell_type": "code",
   "execution_count": 76,
   "metadata": {},
   "outputs": [
    {
     "data": {
      "text/plain": [
       "[559, 618, 753, 1030, 1896, 1955, 2090, 2690, 3233, 3292]"
      ]
     },
     "execution_count": 76,
     "metadata": {},
     "output_type": "execute_result"
    }
   ],
   "source": [
    "submit_inds = list(set(df_submit.index))\n",
    "submit_inds.sort()\n",
    "submit_inds[:10]"
   ]
  },
  {
   "cell_type": "markdown",
   "metadata": {},
   "source": [
    "## preprocess data to backfill nan"
   ]
  },
  {
   "cell_type": "code",
   "execution_count": 10,
   "metadata": {},
   "outputs": [],
   "source": [
    "my_rename = {x: x[6:-1] for x in cols['features']}\n",
    "train.rename(columns=my_rename, inplace=True)"
   ]
  },
  {
   "cell_type": "code",
   "execution_count": 11,
   "metadata": {},
   "outputs": [
    {
     "data": {
      "text/plain": [
       "['YR1972', 'YR1973', 'YR1974', 'YR1975', 'YR1976']"
      ]
     },
     "execution_count": 11,
     "metadata": {},
     "output_type": "execute_result"
    }
   ],
   "source": [
    "cols['features'] = list(my_rename.values())\n",
    "cols['features'].sort()\n",
    "cols['features'][:5]"
   ]
  },
  {
   "cell_type": "code",
   "execution_count": 12,
   "metadata": {},
   "outputs": [],
   "source": [
    "# wide to long format so that years are an index along the rows\n",
    "train = pd.wide_to_long(train.reset_index(), [\"YR\"], i=\"Unnamed: 0\", j=\"year\").reset_index(level='year')"
   ]
  },
  {
   "cell_type": "code",
   "execution_count": 13,
   "metadata": {},
   "outputs": [],
   "source": [
    "# rename YR to \"value\"\n",
    "train.rename(columns={'YR': 'value'}, inplace=True)"
   ]
  },
  {
   "cell_type": "code",
   "execution_count": 14,
   "metadata": {},
   "outputs": [
    {
     "data": {
      "text/plain": [
       "array([1972, 1972, 1972, 1972, 1972])"
      ]
     },
     "execution_count": 14,
     "metadata": {},
     "output_type": "execute_result"
    }
   ],
   "source": [
    "train['year'] = train['year'].apply(lambda x: int(x))\n",
    "train['year'].head().values"
   ]
  },
  {
   "cell_type": "code",
   "execution_count": 15,
   "metadata": {},
   "outputs": [
    {
     "data": {
      "text/html": [
       "<div>\n",
       "<style scoped>\n",
       "    .dataframe tbody tr th:only-of-type {\n",
       "        vertical-align: middle;\n",
       "    }\n",
       "\n",
       "    .dataframe tbody tr th {\n",
       "        vertical-align: top;\n",
       "    }\n",
       "\n",
       "    .dataframe thead th {\n",
       "        text-align: right;\n",
       "    }\n",
       "</style>\n",
       "<table border=\"1\" class=\"dataframe\">\n",
       "  <thead>\n",
       "    <tr style=\"text-align: right;\">\n",
       "      <th></th>\n",
       "      <th>Series Code</th>\n",
       "      <th>Country Name</th>\n",
       "      <th>Series Name</th>\n",
       "      <th>value</th>\n",
       "    </tr>\n",
       "    <tr>\n",
       "      <th>year</th>\n",
       "      <th></th>\n",
       "      <th></th>\n",
       "      <th></th>\n",
       "      <th></th>\n",
       "    </tr>\n",
       "  </thead>\n",
       "  <tbody>\n",
       "    <tr>\n",
       "      <th>1972</th>\n",
       "      <td>NY.TAX.NIND.CN</td>\n",
       "      <td>Kenya</td>\n",
       "      <td>Net taxes on products (current LCU)</td>\n",
       "      <td>1.276000e+09</td>\n",
       "    </tr>\n",
       "    <tr>\n",
       "      <th>1973</th>\n",
       "      <td>NY.TAX.NIND.CN</td>\n",
       "      <td>Kenya</td>\n",
       "      <td>Net taxes on products (current LCU)</td>\n",
       "      <td>1.776000e+09</td>\n",
       "    </tr>\n",
       "    <tr>\n",
       "      <th>1974</th>\n",
       "      <td>NY.TAX.NIND.CN</td>\n",
       "      <td>Kenya</td>\n",
       "      <td>Net taxes on products (current LCU)</td>\n",
       "      <td>2.438000e+09</td>\n",
       "    </tr>\n",
       "    <tr>\n",
       "      <th>1975</th>\n",
       "      <td>NY.TAX.NIND.CN</td>\n",
       "      <td>Kenya</td>\n",
       "      <td>Net taxes on products (current LCU)</td>\n",
       "      <td>2.790000e+09</td>\n",
       "    </tr>\n",
       "    <tr>\n",
       "      <th>1976</th>\n",
       "      <td>NY.TAX.NIND.CN</td>\n",
       "      <td>Kenya</td>\n",
       "      <td>Net taxes on products (current LCU)</td>\n",
       "      <td>3.510000e+09</td>\n",
       "    </tr>\n",
       "  </tbody>\n",
       "</table>\n",
       "</div>"
      ],
      "text/plain": [
       "         Series Code Country Name                          Series Name  \\\n",
       "year                                                                     \n",
       "1972  NY.TAX.NIND.CN        Kenya  Net taxes on products (current LCU)   \n",
       "1973  NY.TAX.NIND.CN        Kenya  Net taxes on products (current LCU)   \n",
       "1974  NY.TAX.NIND.CN        Kenya  Net taxes on products (current LCU)   \n",
       "1975  NY.TAX.NIND.CN        Kenya  Net taxes on products (current LCU)   \n",
       "1976  NY.TAX.NIND.CN        Kenya  Net taxes on products (current LCU)   \n",
       "\n",
       "             value  \n",
       "year                \n",
       "1972  1.276000e+09  \n",
       "1973  1.776000e+09  \n",
       "1974  2.438000e+09  \n",
       "1975  2.790000e+09  \n",
       "1976  3.510000e+09  "
      ]
     },
     "execution_count": 15,
     "metadata": {},
     "output_type": "execute_result"
    }
   ],
   "source": [
    "# plot again just to confirm that wide-to-long worked\n",
    "country = 'Kenya' # 'Poland'\n",
    "series = 'Net taxes on products (current LCU)'\n",
    "subtrain = train[(train['Country Name']==country) & (train['Series Name']==series)]\n",
    "subtrain = subtrain.set_index('year')\n",
    "subtrain.head()"
   ]
  },
  {
   "cell_type": "code",
   "execution_count": 16,
   "metadata": {},
   "outputs": [
    {
     "data": {
      "text/plain": [
       "year\n",
       "1972    1.276000e+09\n",
       "1973    1.776000e+09\n",
       "1974    2.438000e+09\n",
       "1975    2.790000e+09\n",
       "1976    3.510000e+09\n",
       "Name: value, dtype: float64"
      ]
     },
     "execution_count": 16,
     "metadata": {},
     "output_type": "execute_result"
    }
   ],
   "source": [
    "subtrain['value'].head()"
   ]
  },
  {
   "cell_type": "code",
   "execution_count": 18,
   "metadata": {},
   "outputs": [
    {
     "data": {
      "image/png": "[encoded data removed]",
      "text/plain": [
       "<Figure size 432x288 with 1 Axes>"
      ]
     },
     "metadata": {},
     "output_type": "display_data"
    }
   ],
   "source": [
    "plt.plot(subtrain['value'])\n",
    "plt.title(\"%s: %s\"%(country, series))\n",
    "plt.show()"
   ]
  },
  {
   "cell_type": "markdown",
   "metadata": {},
   "source": [
    "## group and backfill"
   ]
  },
  {
   "cell_type": "code",
   "execution_count": 19,
   "metadata": {},
   "outputs": [
    {
     "data": {
      "text/plain": [
       "(7034472, 5)"
      ]
     },
     "execution_count": 19,
     "metadata": {},
     "output_type": "execute_result"
    }
   ],
   "source": [
    "train.shape"
   ]
  },
  {
   "cell_type": "code",
   "execution_count": 20,
   "metadata": {},
   "outputs": [
    {
     "data": {
      "text/html": [
       "<div>\n",
       "<style scoped>\n",
       "    .dataframe tbody tr th:only-of-type {\n",
       "        vertical-align: middle;\n",
       "    }\n",
       "\n",
       "    .dataframe tbody tr th {\n",
       "        vertical-align: top;\n",
       "    }\n",
       "\n",
       "    .dataframe thead th {\n",
       "        text-align: right;\n",
       "    }\n",
       "</style>\n",
       "<table border=\"1\" class=\"dataframe\">\n",
       "  <thead>\n",
       "    <tr style=\"text-align: right;\">\n",
       "      <th></th>\n",
       "      <th>A</th>\n",
       "      <th>B</th>\n",
       "      <th>C</th>\n",
       "      <th>D</th>\n",
       "      <th>E</th>\n",
       "      <th>F</th>\n",
       "    </tr>\n",
       "  </thead>\n",
       "  <tbody>\n",
       "    <tr>\n",
       "      <th>0</th>\n",
       "      <td>NaN</td>\n",
       "      <td>2.0</td>\n",
       "      <td>NaN</td>\n",
       "      <td>0</td>\n",
       "      <td>2</td>\n",
       "      <td>2</td>\n",
       "    </tr>\n",
       "    <tr>\n",
       "      <th>1</th>\n",
       "      <td>3.0</td>\n",
       "      <td>4.0</td>\n",
       "      <td>NaN</td>\n",
       "      <td>1</td>\n",
       "      <td>1</td>\n",
       "      <td>2</td>\n",
       "    </tr>\n",
       "    <tr>\n",
       "      <th>2</th>\n",
       "      <td>NaN</td>\n",
       "      <td>4.0</td>\n",
       "      <td>NaN</td>\n",
       "      <td>5</td>\n",
       "      <td>1</td>\n",
       "      <td>3</td>\n",
       "    </tr>\n",
       "    <tr>\n",
       "      <th>3</th>\n",
       "      <td>NaN</td>\n",
       "      <td>3.0</td>\n",
       "      <td>NaN</td>\n",
       "      <td>4</td>\n",
       "      <td>1</td>\n",
       "      <td>4</td>\n",
       "    </tr>\n",
       "  </tbody>\n",
       "</table>\n",
       "</div>"
      ],
      "text/plain": [
       "     A    B   C  D  E  F\n",
       "0  NaN  2.0 NaN  0  2  2\n",
       "1  3.0  4.0 NaN  1  1  2\n",
       "2  NaN  4.0 NaN  5  1  3\n",
       "3  NaN  3.0 NaN  4  1  4"
      ]
     },
     "execution_count": 20,
     "metadata": {},
     "output_type": "execute_result"
    }
   ],
   "source": [
    "# test\n",
    "df = pd.DataFrame([[np.nan, 2, np.nan, 0, 2, 2],\n",
    "                   [3, 4, np.nan, 1, 1, 2],\n",
    "                   [np.nan, np.nan, np.nan, 5, 1, 3],\n",
    "                   [np.nan, 3, np.nan, 4, 1, 4],\n",
    "                  ],\n",
    "                  columns=list('ABCDEF'))\n",
    "df['B'] = df.sort_values('F', ascending=True).groupby(['E'])['B'].fillna(method='ffill')\n",
    "df"
   ]
  },
  {
   "cell_type": "code",
   "execution_count": 21,
   "metadata": {},
   "outputs": [
    {
     "data": {
      "text/plain": [
       "(7034472, 5)"
      ]
     },
     "execution_count": 21,
     "metadata": {},
     "output_type": "execute_result"
    }
   ],
   "source": [
    "train.shape"
   ]
  },
  {
   "cell_type": "code",
   "execution_count": 22,
   "metadata": {},
   "outputs": [
    {
     "name": "stdout",
     "output_type": "stream",
     "text": [
      "before: number of nan: 3320285\n"
     ]
    }
   ],
   "source": [
    "n_nan_before = pd.isnull(train['value']).sum()\n",
    "print('before: number of nan: %s'%n_nan_before)"
   ]
  },
  {
   "cell_type": "code",
   "execution_count": 23,
   "metadata": {},
   "outputs": [
    {
     "name": "stdout",
     "output_type": "stream",
     "text": [
      "Wed May 16 00:47:53 2018 start group\n",
      "Wed May 16 00:47:58 2018 end group\n"
     ]
    }
   ],
   "source": [
    "# around 15 seconds\n",
    "print(time.ctime(), 'start group')\n",
    "train2 = train.copy()\n",
    "train2 = train2.sort_values(['Country Name', 'Series Code', 'year'], ascending=True)\n",
    "t_group = train2.groupby(['Country Name', 'Series Code'])\n",
    "print(time.ctime(), 'end group')"
   ]
  },
  {
   "cell_type": "code",
   "execution_count": 24,
   "metadata": {},
   "outputs": [
    {
     "name": "stdout",
     "output_type": "stream",
     "text": [
      "Wed May 16 00:47:58 2018 start fill\n",
      "Wed May 16 00:48:45 2018 end fill\n"
     ]
    }
   ],
   "source": [
    "# around 1 minute\n",
    "print(time.ctime(), 'start fill')\n",
    "train2['value'] = t_group['value'].fillna(method='ffill')\n",
    "print(time.ctime(), 'end fill')"
   ]
  },
  {
   "cell_type": "code",
   "execution_count": 25,
   "metadata": {},
   "outputs": [
    {
     "name": "stdout",
     "output_type": "stream",
     "text": [
      "after: number of nan: 2789631\n"
     ]
    }
   ],
   "source": [
    "n_nan_after = pd.isnull(train2['value']).sum()\n",
    "print('after: number of nan: %s'%n_nan_after)"
   ]
  },
  {
   "cell_type": "markdown",
   "metadata": {},
   "source": [
    "## Fill remaining nan with bfill"
   ]
  },
  {
   "cell_type": "code",
   "execution_count": 34,
   "metadata": {},
   "outputs": [
    {
     "name": "stdout",
     "output_type": "stream",
     "text": [
      "Wed May 16 01:00:51 2018 start fill\n",
      "Wed May 16 01:01:36 2018 end fill\n",
      "after: number of nan: 0\n"
     ]
    }
   ],
   "source": [
    "# group again and backfill this time ... this is kind of cheating\n",
    "# ~ 1 minute\n",
    "print(time.ctime(), 'start fill')\n",
    "t_group = train2.groupby(['Country Name', 'Series Code'])\n",
    "train2['value'] = t_group['value'].fillna(method='bfill')\n",
    "print(time.ctime(), 'end fill')\n",
    "n_nan_after2 = pd.isnull(train2['value']).sum()\n",
    "print('after: number of nan: %s'%n_nan_after2)"
   ]
  },
  {
   "cell_type": "code",
   "execution_count": 35,
   "metadata": {},
   "outputs": [
    {
     "data": {
      "text/html": [
       "<div>\n",
       "<style scoped>\n",
       "    .dataframe tbody tr th:only-of-type {\n",
       "        vertical-align: middle;\n",
       "    }\n",
       "\n",
       "    .dataframe tbody tr th {\n",
       "        vertical-align: top;\n",
       "    }\n",
       "\n",
       "    .dataframe thead th {\n",
       "        text-align: right;\n",
       "    }\n",
       "</style>\n",
       "<table border=\"1\" class=\"dataframe\">\n",
       "  <thead>\n",
       "    <tr style=\"text-align: right;\">\n",
       "      <th></th>\n",
       "      <th>Unnamed: 0</th>\n",
       "      <th>year</th>\n",
       "      <th>Series Code</th>\n",
       "      <th>Country Name</th>\n",
       "      <th>Series Name</th>\n",
       "      <th>value</th>\n",
       "    </tr>\n",
       "  </thead>\n",
       "  <tbody>\n",
       "    <tr>\n",
       "      <th>0</th>\n",
       "      <td>16</td>\n",
       "      <td>1972</td>\n",
       "      <td>2.1</td>\n",
       "      <td>Afghanistan</td>\n",
       "      <td>Achieve universal primary education</td>\n",
       "      <td>0.267007</td>\n",
       "    </tr>\n",
       "    <tr>\n",
       "      <th>1</th>\n",
       "      <td>16</td>\n",
       "      <td>1973</td>\n",
       "      <td>2.1</td>\n",
       "      <td>Afghanistan</td>\n",
       "      <td>Achieve universal primary education</td>\n",
       "      <td>0.267007</td>\n",
       "    </tr>\n",
       "    <tr>\n",
       "      <th>2</th>\n",
       "      <td>16</td>\n",
       "      <td>1974</td>\n",
       "      <td>2.1</td>\n",
       "      <td>Afghanistan</td>\n",
       "      <td>Achieve universal primary education</td>\n",
       "      <td>0.267007</td>\n",
       "    </tr>\n",
       "    <tr>\n",
       "      <th>3</th>\n",
       "      <td>16</td>\n",
       "      <td>1975</td>\n",
       "      <td>2.1</td>\n",
       "      <td>Afghanistan</td>\n",
       "      <td>Achieve universal primary education</td>\n",
       "      <td>0.267007</td>\n",
       "    </tr>\n",
       "    <tr>\n",
       "      <th>4</th>\n",
       "      <td>16</td>\n",
       "      <td>1976</td>\n",
       "      <td>2.1</td>\n",
       "      <td>Afghanistan</td>\n",
       "      <td>Achieve universal primary education</td>\n",
       "      <td>0.267007</td>\n",
       "    </tr>\n",
       "  </tbody>\n",
       "</table>\n",
       "</div>"
      ],
      "text/plain": [
       "   Unnamed: 0  year Series Code Country Name  \\\n",
       "0          16  1972         2.1  Afghanistan   \n",
       "1          16  1973         2.1  Afghanistan   \n",
       "2          16  1974         2.1  Afghanistan   \n",
       "3          16  1975         2.1  Afghanistan   \n",
       "4          16  1976         2.1  Afghanistan   \n",
       "\n",
       "                           Series Name     value  \n",
       "0  Achieve universal primary education  0.267007  \n",
       "1  Achieve universal primary education  0.267007  \n",
       "2  Achieve universal primary education  0.267007  \n",
       "3  Achieve universal primary education  0.267007  \n",
       "4  Achieve universal primary education  0.267007  "
      ]
     },
     "execution_count": 35,
     "metadata": {},
     "output_type": "execute_result"
    }
   ],
   "source": [
    "train2.reset_index().head()"
   ]
  },
  {
   "cell_type": "markdown",
   "metadata": {},
   "source": [
    "## pivot table\n",
    "\n",
    "- temporal dimension: year\n",
    "- spatial dimension: country/series pair\n",
    "\n",
    "This results in a transpose of the original dataframe"
   ]
  },
  {
   "cell_type": "code",
   "execution_count": 36,
   "metadata": {},
   "outputs": [
    {
     "data": {
      "text/html": [
       "<div>\n",
       "<style scoped>\n",
       "    .dataframe tbody tr th:only-of-type {\n",
       "        vertical-align: middle;\n",
       "    }\n",
       "\n",
       "    .dataframe tbody tr th {\n",
       "        vertical-align: top;\n",
       "    }\n",
       "\n",
       "    .dataframe thead th {\n",
       "        text-align: right;\n",
       "    }\n",
       "</style>\n",
       "<table border=\"1\" class=\"dataframe\">\n",
       "  <thead>\n",
       "    <tr style=\"text-align: right;\">\n",
       "      <th>Unnamed: 0</th>\n",
       "      <th>0</th>\n",
       "      <th>1</th>\n",
       "      <th>2</th>\n",
       "      <th>4</th>\n",
       "      <th>5</th>\n",
       "      <th>6</th>\n",
       "      <th>8</th>\n",
       "      <th>9</th>\n",
       "      <th>10</th>\n",
       "      <th>11</th>\n",
       "      <th>...</th>\n",
       "      <th>286107</th>\n",
       "      <th>286108</th>\n",
       "      <th>286109</th>\n",
       "      <th>286110</th>\n",
       "      <th>286112</th>\n",
       "      <th>286113</th>\n",
       "      <th>286114</th>\n",
       "      <th>286115</th>\n",
       "      <th>286116</th>\n",
       "      <th>286117</th>\n",
       "    </tr>\n",
       "    <tr>\n",
       "      <th>year</th>\n",
       "      <th></th>\n",
       "      <th></th>\n",
       "      <th></th>\n",
       "      <th></th>\n",
       "      <th></th>\n",
       "      <th></th>\n",
       "      <th></th>\n",
       "      <th></th>\n",
       "      <th></th>\n",
       "      <th></th>\n",
       "      <th></th>\n",
       "      <th></th>\n",
       "      <th></th>\n",
       "      <th></th>\n",
       "      <th></th>\n",
       "      <th></th>\n",
       "      <th></th>\n",
       "      <th></th>\n",
       "      <th></th>\n",
       "      <th></th>\n",
       "      <th></th>\n",
       "    </tr>\n",
       "  </thead>\n",
       "  <tbody>\n",
       "    <tr>\n",
       "      <th>1972</th>\n",
       "      <td>3.769214</td>\n",
       "      <td>7.027746</td>\n",
       "      <td>8.244887</td>\n",
       "      <td>12.933105</td>\n",
       "      <td>18.996814</td>\n",
       "      <td>22.423064</td>\n",
       "      <td>0.52056</td>\n",
       "      <td>14.963125</td>\n",
       "      <td>14.513759</td>\n",
       "      <td>0.0</td>\n",
       "      <td>...</td>\n",
       "      <td>25.18783</td>\n",
       "      <td>1.73152</td>\n",
       "      <td>4.806812</td>\n",
       "      <td>19.41161</td>\n",
       "      <td>31.7</td>\n",
       "      <td>12.0</td>\n",
       "      <td>27.8</td>\n",
       "      <td>31.2</td>\n",
       "      <td>22.3</td>\n",
       "      <td>54.5</td>\n",
       "    </tr>\n",
       "    <tr>\n",
       "      <th>1973</th>\n",
       "      <td>3.769214</td>\n",
       "      <td>7.027746</td>\n",
       "      <td>8.244887</td>\n",
       "      <td>12.933105</td>\n",
       "      <td>18.996814</td>\n",
       "      <td>22.423064</td>\n",
       "      <td>0.52056</td>\n",
       "      <td>14.963125</td>\n",
       "      <td>14.513759</td>\n",
       "      <td>0.0</td>\n",
       "      <td>...</td>\n",
       "      <td>25.18783</td>\n",
       "      <td>1.73152</td>\n",
       "      <td>4.806812</td>\n",
       "      <td>19.41161</td>\n",
       "      <td>31.7</td>\n",
       "      <td>12.0</td>\n",
       "      <td>27.8</td>\n",
       "      <td>31.2</td>\n",
       "      <td>22.3</td>\n",
       "      <td>54.5</td>\n",
       "    </tr>\n",
       "    <tr>\n",
       "      <th>1974</th>\n",
       "      <td>3.769214</td>\n",
       "      <td>7.027746</td>\n",
       "      <td>8.244887</td>\n",
       "      <td>12.933105</td>\n",
       "      <td>18.996814</td>\n",
       "      <td>22.423064</td>\n",
       "      <td>0.52056</td>\n",
       "      <td>14.963125</td>\n",
       "      <td>14.513759</td>\n",
       "      <td>0.0</td>\n",
       "      <td>...</td>\n",
       "      <td>25.18783</td>\n",
       "      <td>1.73152</td>\n",
       "      <td>4.806812</td>\n",
       "      <td>19.41161</td>\n",
       "      <td>31.7</td>\n",
       "      <td>12.0</td>\n",
       "      <td>27.8</td>\n",
       "      <td>31.2</td>\n",
       "      <td>22.3</td>\n",
       "      <td>54.5</td>\n",
       "    </tr>\n",
       "    <tr>\n",
       "      <th>1975</th>\n",
       "      <td>3.769214</td>\n",
       "      <td>7.027746</td>\n",
       "      <td>8.244887</td>\n",
       "      <td>12.933105</td>\n",
       "      <td>18.996814</td>\n",
       "      <td>22.423064</td>\n",
       "      <td>0.52056</td>\n",
       "      <td>14.963125</td>\n",
       "      <td>14.513759</td>\n",
       "      <td>0.0</td>\n",
       "      <td>...</td>\n",
       "      <td>25.18783</td>\n",
       "      <td>1.73152</td>\n",
       "      <td>4.806812</td>\n",
       "      <td>19.41161</td>\n",
       "      <td>31.7</td>\n",
       "      <td>12.0</td>\n",
       "      <td>27.8</td>\n",
       "      <td>31.2</td>\n",
       "      <td>22.3</td>\n",
       "      <td>54.5</td>\n",
       "    </tr>\n",
       "    <tr>\n",
       "      <th>1976</th>\n",
       "      <td>3.769214</td>\n",
       "      <td>7.027746</td>\n",
       "      <td>8.244887</td>\n",
       "      <td>12.933105</td>\n",
       "      <td>18.996814</td>\n",
       "      <td>22.423064</td>\n",
       "      <td>0.52056</td>\n",
       "      <td>14.963125</td>\n",
       "      <td>14.513759</td>\n",
       "      <td>0.0</td>\n",
       "      <td>...</td>\n",
       "      <td>25.18783</td>\n",
       "      <td>1.73152</td>\n",
       "      <td>4.806812</td>\n",
       "      <td>19.41161</td>\n",
       "      <td>31.7</td>\n",
       "      <td>12.0</td>\n",
       "      <td>27.8</td>\n",
       "      <td>31.2</td>\n",
       "      <td>22.3</td>\n",
       "      <td>54.5</td>\n",
       "    </tr>\n",
       "  </tbody>\n",
       "</table>\n",
       "<p>5 rows × 195402 columns</p>\n",
       "</div>"
      ],
      "text/plain": [
       "Unnamed: 0    0         1         2          4          5          6       \\\n",
       "year                                                                        \n",
       "1972        3.769214  7.027746  8.244887  12.933105  18.996814  22.423064   \n",
       "1973        3.769214  7.027746  8.244887  12.933105  18.996814  22.423064   \n",
       "1974        3.769214  7.027746  8.244887  12.933105  18.996814  22.423064   \n",
       "1975        3.769214  7.027746  8.244887  12.933105  18.996814  22.423064   \n",
       "1976        3.769214  7.027746  8.244887  12.933105  18.996814  22.423064   \n",
       "\n",
       "Unnamed: 0   8          9          10      11       ...      286107   286108  \\\n",
       "year                                                ...                        \n",
       "1972        0.52056  14.963125  14.513759     0.0   ...    25.18783  1.73152   \n",
       "1973        0.52056  14.963125  14.513759     0.0   ...    25.18783  1.73152   \n",
       "1974        0.52056  14.963125  14.513759     0.0   ...    25.18783  1.73152   \n",
       "1975        0.52056  14.963125  14.513759     0.0   ...    25.18783  1.73152   \n",
       "1976        0.52056  14.963125  14.513759     0.0   ...    25.18783  1.73152   \n",
       "\n",
       "Unnamed: 0    286109    286110  286112  286113  286114  286115  286116  286117  \n",
       "year                                                                            \n",
       "1972        4.806812  19.41161    31.7    12.0    27.8    31.2    22.3    54.5  \n",
       "1973        4.806812  19.41161    31.7    12.0    27.8    31.2    22.3    54.5  \n",
       "1974        4.806812  19.41161    31.7    12.0    27.8    31.2    22.3    54.5  \n",
       "1975        4.806812  19.41161    31.7    12.0    27.8    31.2    22.3    54.5  \n",
       "1976        4.806812  19.41161    31.7    12.0    27.8    31.2    22.3    54.5  \n",
       "\n",
       "[5 rows x 195402 columns]"
      ]
     },
     "execution_count": 36,
     "metadata": {},
     "output_type": "execute_result"
    }
   ],
   "source": [
    "train3 = train2.reset_index().pivot(index='year', columns='Unnamed: 0', values='value')\n",
    "train3.head()"
   ]
  },
  {
   "cell_type": "code",
   "execution_count": 53,
   "metadata": {},
   "outputs": [
    {
     "data": {
      "text/html": [
       "<div>\n",
       "<style scoped>\n",
       "    .dataframe tbody tr th:only-of-type {\n",
       "        vertical-align: middle;\n",
       "    }\n",
       "\n",
       "    .dataframe tbody tr th {\n",
       "        vertical-align: top;\n",
       "    }\n",
       "\n",
       "    .dataframe thead th {\n",
       "        text-align: right;\n",
       "    }\n",
       "</style>\n",
       "<table border=\"1\" class=\"dataframe\">\n",
       "  <thead>\n",
       "    <tr style=\"text-align: right;\">\n",
       "      <th>Unnamed: 0</th>\n",
       "      <th>16</th>\n",
       "      <th>559</th>\n",
       "    </tr>\n",
       "    <tr>\n",
       "      <th>year</th>\n",
       "      <th></th>\n",
       "      <th></th>\n",
       "    </tr>\n",
       "  </thead>\n",
       "  <tbody>\n",
       "    <tr>\n",
       "      <th>2003</th>\n",
       "      <td>0.279609</td>\n",
       "      <td>0.325</td>\n",
       "    </tr>\n",
       "    <tr>\n",
       "      <th>2004</th>\n",
       "      <td>0.279609</td>\n",
       "      <td>0.360</td>\n",
       "    </tr>\n",
       "    <tr>\n",
       "      <th>2005</th>\n",
       "      <td>0.279609</td>\n",
       "      <td>0.395</td>\n",
       "    </tr>\n",
       "    <tr>\n",
       "      <th>2006</th>\n",
       "      <td>0.279609</td>\n",
       "      <td>0.430</td>\n",
       "    </tr>\n",
       "    <tr>\n",
       "      <th>2007</th>\n",
       "      <td>0.279609</td>\n",
       "      <td>0.465</td>\n",
       "    </tr>\n",
       "  </tbody>\n",
       "</table>\n",
       "</div>"
      ],
      "text/plain": [
       "Unnamed: 0       16     559\n",
       "year                       \n",
       "2003        0.279609  0.325\n",
       "2004        0.279609  0.360\n",
       "2005        0.279609  0.395\n",
       "2006        0.279609  0.430\n",
       "2007        0.279609  0.465"
      ]
     },
     "execution_count": 53,
     "metadata": {},
     "output_type": "execute_result"
    }
   ],
   "source": [
    "train3[[16,559]].tail()"
   ]
  },
  {
   "cell_type": "code",
   "execution_count": 33,
   "metadata": {},
   "outputs": [
    {
     "data": {
      "text/plain": [
       "(36, 195402)"
      ]
     },
     "execution_count": 33,
     "metadata": {},
     "output_type": "execute_result"
    }
   ],
   "source": [
    "train3.shape"
   ]
  },
  {
   "cell_type": "code",
   "execution_count": null,
   "metadata": {},
   "outputs": [],
   "source": []
  },
  {
   "cell_type": "markdown",
   "metadata": {},
   "source": [
    "## multi-variate LR\n",
    "\n",
    "Versus 0.2 multiple fits of uni-variate LR"
   ]
  },
  {
   "cell_type": "code",
   "execution_count": 103,
   "metadata": {
    "scrolled": false
   },
   "outputs": [
    {
     "name": "stdout",
     "output_type": "stream",
     "text": [
      "0 / 737 .. 559\n",
      "Coefficients: \n",
      " [-2.88169357e-17 -6.65914948e-18  1.72463147e-18 ...  9.48227640e-32\n",
      " -1.93966024e-31  5.06180341e-31]\n",
      "Mean squared error: 0.00\n",
      "Variance score: 0.00\n"
     ]
    },
    {
     "data": {
      "image/png": "[encoded data removed]",
      "text/plain": [
       "<Figure size 432x288 with 1 Axes>"
      ]
     },
     "metadata": {},
     "output_type": "display_data"
    },
    {
     "name": "stdout",
     "output_type": "stream",
     "text": [
      "Coefficients: \n",
      " [-3.39755548e-19 -7.85122679e-20  2.03336370e-20 ... -2.16218447e-32\n",
      "  4.31927502e-32 -9.42366600e-33]\n",
      "Mean squared error: 0.00\n",
      "Variance score: 0.00\n"
     ]
    },
    {
     "data": {
      "image/png": "[encoded data removed]",
      "text/plain": [
       "<Figure size 432x288 with 1 Axes>"
      ]
     },
     "metadata": {},
     "output_type": "display_data"
    }
   ],
   "source": [
    "from sklearn import datasets, linear_model\n",
    "from sklearn.metrics import mean_squared_error, r2_score\n",
    "from sklearn.feature_selection import SelectKBest, f_regression\n",
    "# from sklearn.decomposition import PCA\n",
    "\n",
    "# reset so that years becomes a feature\n",
    "diabetes_0 = train3.reset_index()\n",
    "\n",
    "n = len(submit_inds)\n",
    "for j, index in enumerate(submit_inds[:5]):\n",
    "    if j%20==0: print(\"%s / %s .. %s\"%(j, n, index))\n",
    "    # target is a single country/series pair, features are all else\n",
    "    diabetes_X = diabetes_0[list(set(diabetes_0.columns) - set([index]))].values\n",
    "    diabetes_y = train3[index].values\n",
    "\n",
    "    # to avoid multi-colinearity, reduce features\n",
    "\n",
    "    # Method 1: select top n features\n",
    "    # http://scikit-learn.org/stable/auto_examples/plot_compare_reduction.html#sphx-glr-auto-examples-plot-compare-reduction-py\n",
    "    # This beats the performance of the PCA\n",
    "    # mdl = SelectKBest(f_regression, k=40) # 20 and 40 are good\n",
    "    # diabetes_X = mdl.fit_transform(diabetes_X, diabetes_y)\n",
    "\n",
    "    # Method 2: PCA to reduce features\n",
    "    # # mdl = PCA(n_components='mle') # TODO report bug\n",
    "    # # mdl = PCA(n_components='mle', svd_solver = 'full') # mle not supported for n_samples < n_features\n",
    "    # mdl = PCA(n_components=20, svd_solver = 'full') # 20 is too small resulting in too large error\n",
    "    # diabetes_X = mdl.fit_transform(diabetes_X)\n",
    "\n",
    "    # Split the data into training/testing sets\n",
    "    n_test = 1\n",
    "    diabetes_X_train = diabetes_X[:-1*n_test]\n",
    "    diabetes_X_test = diabetes_X[-1*n_test:]\n",
    "\n",
    "    # Split the targets into training/testing sets\n",
    "    diabetes_y_train = diabetes_y[:-1*n_test]\n",
    "    diabetes_y_test = diabetes_y[-1*n_test:]\n",
    "\n",
    "    # Create linear regression object\n",
    "    regr = linear_model.LinearRegression()\n",
    "\n",
    "    # Train the model using the training sets\n",
    "    regr.fit(diabetes_X_train, diabetes_y_train)\n",
    "\n",
    "    # Make predictions using the testing set\n",
    "    diabetes_y_pred = regr.predict(diabetes_X_test)\n",
    "    \n",
    "    pred_r2 = r2_score(diabetes_y_test, diabetes_y_pred)\n",
    "\n",
    "    if index in [559, 618]:\n",
    "        # The coefficients\n",
    "        print('Coefficients: \\n', regr.coef_)\n",
    "        # The mean squared error\n",
    "        print(\"Mean squared error: %.2f\"\n",
    "              % mean_squared_error(diabetes_y_test, diabetes_y_pred))\n",
    "        # Explained variance score: 1 is perfect prediction\n",
    "        print('Variance score: %.2f' % pred_r2)\n",
    "\n",
    "        # Plot outputs\n",
    "        # plt.scatter(train3.index, np.concatenate([diabetes_y_train, diabetes_y_test], axis=0),  color='black')\n",
    "        plt.scatter(train3.index[:-1*n_test], diabetes_y_train, color='black')\n",
    "        plt.scatter(train3.index[-1*n_test:], diabetes_y_test, color='green')\n",
    "        plt.scatter(train3.index[-1*n_test:], diabetes_y_pred, color='red')\n",
    "\n",
    "        #plt.xticks(())\n",
    "        #plt.yticks(())\n",
    "\n",
    "        plt.show()\n",
    "        \n",
    "    \n",
    "    #if pred_r2 > 1 or pred_r2 < -1.1:\n",
    "    #    raise ValueError(\"prediction r2 on %s = %.2f > 1 or < 0. Aborting\"%(index, pred_r2))\n"
   ]
  },
  {
   "cell_type": "code",
   "execution_count": null,
   "metadata": {},
   "outputs": [],
   "source": []
  },
  {
   "cell_type": "code",
   "execution_count": 101,
   "metadata": {},
   "outputs": [
    {
     "data": {
      "text/plain": [
       "([1, 2, 3, 4], [5], [], [1, 2, 3, 4, 5])"
      ]
     },
     "execution_count": 101,
     "metadata": {},
     "output_type": "execute_result"
    }
   ],
   "source": [
    "x=[1,2,3,4,5]\n",
    "x[:-1], x[-1:], x[:-0], x[-0:]"
   ]
  },
  {
   "cell_type": "code",
   "execution_count": null,
   "metadata": {},
   "outputs": [],
   "source": []
  },
  {
   "cell_type": "code",
   "execution_count": null,
   "metadata": {},
   "outputs": [],
   "source": [
    "df_submit['slope'] = np.nan\n",
    "df_submit['intercept'] = np.nan\n",
    "df_submit['r_value'] = np.nan\n",
    "df_submit['p_value'] = np.nan\n",
    "df_submit['std_err'] = np.nan"
   ]
  },
  {
   "cell_type": "code",
   "execution_count": null,
   "metadata": {
    "scrolled": true
   },
   "outputs": [],
   "source": [
    "# least squares\n",
    "# https://docs.scipy.org/doc/scipy-0.13.0/reference/generated/scipy.stats.linregress.html\n",
    "n = len(submit_inds)\n",
    "for j, index in enumerate(submit_inds):\n",
    "    if j%20==0: print(\"%s / %s .. %s\"%(j, n, index))\n",
    "    n_avail = len(np.where(train3.index == index)[0])\n",
    "    if n_avail <= 1:\n",
    "        print(\"skipping %s since only %s point available\"%(index, n_avail))\n",
    "        continue\n",
    "\n",
    "    x = train3.loc[index, 'year'].values\n",
    "    y = train3.loc[index, 'value'].fillna(value=0)\n",
    "    y = y.values\n",
    "    slope, intercept, r_value, p_value, std_err = stats.linregress(x,y)\n",
    "    df_submit.loc[index, 'slope'] = slope\n",
    "    df_submit.loc[index, 'intercept'] = intercept\n",
    "    df_submit.loc[index, 'r_value'] = r_value\n",
    "    df_submit.loc[index, 'p_value'] = p_value\n",
    "    df_submit.loc[index, 'std_err'] = std_err\n",
    "    df_submit.loc[index, '2008 [YR2008]'] = slope*2008 + intercept\n",
    "    df_submit.loc[index, '2012 [YR2012]'] = slope*2012 + intercept"
   ]
  },
  {
   "cell_type": "markdown",
   "metadata": {},
   "source": [
    "## prepare submission file"
   ]
  },
  {
   "cell_type": "code",
   "execution_count": null,
   "metadata": {},
   "outputs": [],
   "source": [
    "df_submit2 = df_submit.copy()\n",
    "df_submit2 = df_submit2.fillna(value=0)\n",
    "df_submit2 = df_submit2.reset_index()[['Unnamed: 0', '2008 [YR2008]', '2012 [YR2012]']]\n",
    "df_submit2.rename(columns={'Unnamed: 0': ''}, inplace=True)\n",
    "fn1, fn2 = make_submission(df_submit2)\n",
    "fn1, fn2"
   ]
  }
 ],
 "metadata": {
  "kernelspec": {
   "display_name": "Python 3",
   "language": "python",
   "name": "python3"
  },
  "language_info": {
   "codemirror_mode": {
    "name": "ipython",
    "version": 3
   },
   "file_extension": ".py",
   "mimetype": "text/x-python",
   "name": "python",
   "nbconvert_exporter": "python",
   "pygments_lexer": "ipython3",
   "version": "3.5.2"
  }
 },
 "nbformat": 4,
 "nbformat_minor": 2
}
