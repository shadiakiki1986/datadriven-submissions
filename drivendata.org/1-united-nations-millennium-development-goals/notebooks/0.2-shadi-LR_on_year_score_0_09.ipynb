{
 "cells": [
  {
   "cell_type": "code",
   "execution_count": null,
   "metadata": {},
   "outputs": [],
   "source": [
    "import pandas as pd\n",
    "import os\n",
    "import seaborn as sns\n",
    "from matplotlib import pyplot as plt\n",
    "import numpy as np\n",
    "import time"
   ]
  },
  {
   "cell_type": "markdown",
   "metadata": {},
   "source": [
    "## Read data"
   ]
  },
  {
   "cell_type": "code",
   "execution_count": null,
   "metadata": {},
   "outputs": [],
   "source": [
    "from src.features import *\n",
    "train = load_raw()\n",
    "cols = imply_columns(train)"
   ]
  },
  {
   "cell_type": "code",
   "execution_count": null,
   "metadata": {},
   "outputs": [],
   "source": [
    "assert not train['Unnamed: 0'].duplicated().any()"
   ]
  },
  {
   "cell_type": "code",
   "execution_count": null,
   "metadata": {},
   "outputs": [],
   "source": [
    "train = train.set_index('Unnamed: 0')"
   ]
  },
  {
   "cell_type": "code",
   "execution_count": null,
   "metadata": {},
   "outputs": [],
   "source": [
    "train.shape, train.columns"
   ]
  },
  {
   "cell_type": "code",
   "execution_count": null,
   "metadata": {},
   "outputs": [],
   "source": [
    "# pd.isnull(train[cols['features']]).sum(axis=1).sort_values(ascending=True).head(n=20)\n",
    "train.shape[0], len(np.where(pd.isnull(train[cols['features']]).sum(axis=1) < 5)[0])\n",
    "# train.iloc[0,'1972 [YR1972]']\n",
    "# pd.isnull(train.loc[0,'1972 [YR1972]'])\n",
    "# train.head()\n",
    "# train.loc[131876]"
   ]
  },
  {
   "cell_type": "markdown",
   "metadata": {},
   "source": [
    "## read submission file"
   ]
  },
  {
   "cell_type": "code",
   "execution_count": null,
   "metadata": {
    "scrolled": true
   },
   "outputs": [],
   "source": [
    "df_submit = pd.read_csv('data/raw/submission.csv').set_index('Unnamed: 0')\n",
    "df_submit.head()"
   ]
  },
  {
   "cell_type": "code",
   "execution_count": null,
   "metadata": {},
   "outputs": [],
   "source": [
    "len(set(train.loc[df_submit.index]['Country Name']))"
   ]
  },
  {
   "cell_type": "code",
   "execution_count": null,
   "metadata": {},
   "outputs": [],
   "source": [
    "set(train.loc[df_submit.index]['Series Code'])"
   ]
  },
  {
   "cell_type": "markdown",
   "metadata": {},
   "source": [
    "## preprocess data to backfill nan"
   ]
  },
  {
   "cell_type": "code",
   "execution_count": null,
   "metadata": {},
   "outputs": [],
   "source": [
    "my_rename = {x: x[6:-1] for x in cols['features']}\n",
    "train.rename(columns=my_rename, inplace=True)"
   ]
  },
  {
   "cell_type": "code",
   "execution_count": null,
   "metadata": {},
   "outputs": [],
   "source": [
    "cols['features'] = list(my_rename.values())\n",
    "cols['features'].sort()\n",
    "cols['features'][:5]"
   ]
  },
  {
   "cell_type": "code",
   "execution_count": null,
   "metadata": {},
   "outputs": [],
   "source": [
    "# wide to long format so that years are an index along the rows\n",
    "train = pd.wide_to_long(train.reset_index(), [\"YR\"], i=\"Unnamed: 0\", j=\"year\").reset_index(level='year')"
   ]
  },
  {
   "cell_type": "code",
   "execution_count": null,
   "metadata": {},
   "outputs": [],
   "source": [
    "# rename YR to \"value\"\n",
    "train.rename(columns={'YR': 'value'}, inplace=True)"
   ]
  },
  {
   "cell_type": "code",
   "execution_count": null,
   "metadata": {},
   "outputs": [],
   "source": [
    "train['year'] = train['year'].apply(lambda x: int(x))\n",
    "train['year'].head().values"
   ]
  },
  {
   "cell_type": "code",
   "execution_count": null,
   "metadata": {},
   "outputs": [],
   "source": [
    "# plot again just to confirm that wide-to-long worked\n",
    "country = 'Kenya' # 'Poland'\n",
    "series = 'Net taxes on products (current LCU)'\n",
    "subtrain = train[(train['Country Name']==country) & (train['Series Name']==series)]\n",
    "subtrain = subtrain.set_index('year')\n",
    "subtrain.head()"
   ]
  },
  {
   "cell_type": "code",
   "execution_count": null,
   "metadata": {},
   "outputs": [],
   "source": [
    "subtrain['value'].head()"
   ]
  },
  {
   "cell_type": "code",
   "execution_count": null,
   "metadata": {},
   "outputs": [],
   "source": [
    "sns.tsplot(subtrain['value'])\n",
    "plt.title(\"%s: %s\"%(country, series))\n",
    "plt.show()"
   ]
  },
  {
   "cell_type": "markdown",
   "metadata": {},
   "source": [
    "## group and backfill"
   ]
  },
  {
   "cell_type": "code",
   "execution_count": null,
   "metadata": {},
   "outputs": [],
   "source": [
    "train.shape"
   ]
  },
  {
   "cell_type": "code",
   "execution_count": null,
   "metadata": {},
   "outputs": [],
   "source": [
    "# test\n",
    "df = pd.DataFrame([[np.nan, 2, np.nan, 0, 2, 2],\n",
    "                   [3, 4, np.nan, 1, 1, 2],\n",
    "                   [np.nan, np.nan, np.nan, 5, 1, 3],\n",
    "                   [np.nan, 3, np.nan, 4, 1, 4],\n",
    "                  ],\n",
    "                  columns=list('ABCDEF'))\n",
    "df['B'] = df.sort_values('F', ascending=True).groupby(['E'])['B'].fillna(method='ffill')\n",
    "df"
   ]
  },
  {
   "cell_type": "code",
   "execution_count": null,
   "metadata": {},
   "outputs": [],
   "source": [
    "train.shape"
   ]
  },
  {
   "cell_type": "code",
   "execution_count": null,
   "metadata": {},
   "outputs": [],
   "source": [
    "n_nan_before = pd.isnull(train['value']).sum()\n",
    "print('before: number of nan: %s'%n_nan_before)"
   ]
  },
  {
   "cell_type": "code",
   "execution_count": null,
   "metadata": {},
   "outputs": [],
   "source": [
    "# around 15 seconds\n",
    "print(time.ctime(), 'start group')\n",
    "train2 = train.copy()\n",
    "train2 = train2.sort_values(['Country Name', 'Series Code', 'year'], ascending=True)\n",
    "t_group = train2.groupby(['Country Name', 'Series Code'])\n",
    "print(time.ctime(), 'end group')"
   ]
  },
  {
   "cell_type": "code",
   "execution_count": null,
   "metadata": {},
   "outputs": [],
   "source": [
    "# around 1 minute\n",
    "print(time.ctime(), 'start fill')\n",
    "train2['value'] = t_group['value'].fillna(method='ffill')\n",
    "print(time.ctime(), 'end fill')"
   ]
  },
  {
   "cell_type": "code",
   "execution_count": null,
   "metadata": {},
   "outputs": [],
   "source": [
    "n_nan_after = pd.isnull(train2['value']).sum()\n",
    "print('after: number of nan: %s'%n_nan_after)"
   ]
  },
  {
   "cell_type": "code",
   "execution_count": null,
   "metadata": {},
   "outputs": [],
   "source": [
    "train2.head()"
   ]
  },
  {
   "cell_type": "markdown",
   "metadata": {},
   "source": [
    "## check some of the remaining nans"
   ]
  },
  {
   "cell_type": "code",
   "execution_count": null,
   "metadata": {},
   "outputs": [],
   "source": [
    "train2[pd.isnull(train2['value'])].head()"
   ]
  },
  {
   "cell_type": "code",
   "execution_count": null,
   "metadata": {},
   "outputs": [],
   "source": [
    "subtrain = train[(train['Country Name']=='Afghanistan') & (train['Series Code']=='2.1')]\n",
    "subtrain"
   ]
  },
  {
   "cell_type": "code",
   "execution_count": null,
   "metadata": {},
   "outputs": [],
   "source": [
    "subtrain = train2[(train2['Country Name']=='Afghanistan') & (train2['Series Code']=='2.1')]\n",
    "subtrain"
   ]
  },
  {
   "cell_type": "code",
   "execution_count": null,
   "metadata": {},
   "outputs": [],
   "source": [
    "plt.plot(train.loc[559].reset_index().set_index('year')['value'], 'b.')\n",
    "plt.plot(train.loc[618].reset_index().set_index('year')['value'], 'r.')\n",
    "plt.show()"
   ]
  },
  {
   "cell_type": "code",
   "execution_count": null,
   "metadata": {},
   "outputs": [],
   "source": [
    "for sc in ['2.1', '7.8']:\n",
    "    # subtrain = train[train['Series Code']=='7.8'].set_index('year')\n",
    "    subtrain = train2[train2['Series Code']==sc].set_index('year')\n",
    "    plt.plot(subtrain[subtrain['Country Name']=='Afghanistan']['value'], label='Afghanistan')\n",
    "    plt.plot(subtrain[subtrain['Country Name']=='Albania']['value'], label='Albania')\n",
    "    plt.plot(subtrain[subtrain['Country Name']=='Algeria']['value'], label='Algeria')\n",
    "    plt.title(sc)\n",
    "    plt.legend()\n",
    "    plt.show()"
   ]
  },
  {
   "cell_type": "markdown",
   "metadata": {},
   "source": [
    "## drop the remaining nan"
   ]
  },
  {
   "cell_type": "code",
   "execution_count": null,
   "metadata": {},
   "outputs": [],
   "source": [
    "print(train2.shape)\n",
    "train2 = train2[~pd.isnull(train2['value'])]\n",
    "print(train2.shape)"
   ]
  },
  {
   "cell_type": "code",
   "execution_count": null,
   "metadata": {},
   "outputs": [],
   "source": [
    "len(set(train['Series Code'])), len(set(train['Country Name'])), len(set(train.index))"
   ]
  },
  {
   "cell_type": "code",
   "execution_count": null,
   "metadata": {},
   "outputs": [],
   "source": [
    "len(set(train2['Series Code'])), len(set(train2['Country Name'])), len(set(train2.index))"
   ]
  },
  {
   "cell_type": "markdown",
   "metadata": {},
   "source": [
    "## fit linear regression for a single country/code pair\n",
    "\n",
    "model is simply `value = a * year + b`"
   ]
  },
  {
   "cell_type": "code",
   "execution_count": null,
   "metadata": {},
   "outputs": [],
   "source": [
    "train.loc[df_submit.index[0], ['Series Code', 'Country Name']].head()"
   ]
  },
  {
   "cell_type": "code",
   "execution_count": null,
   "metadata": {},
   "outputs": [],
   "source": [
    "# multi-indexing in pandas\n",
    "# https://pandas.pydata.org/pandas-docs/stable/advanced.html#\n",
    "# Note that first usage of train3 will be slow\n",
    "train3 = train2.reset_index().set_index(['Series Code', 'Country Name'])"
   ]
  },
  {
   "cell_type": "code",
   "execution_count": null,
   "metadata": {},
   "outputs": [],
   "source": [
    "# least squares\n",
    "# https://docs.scipy.org/doc/scipy-0.13.0/reference/generated/scipy.stats.linregress.html\n",
    "\n",
    "x = train3['year']['7.8']['Afghanistan'].values\n",
    "y = train3['value']['7.8']['Afghanistan'].fillna(value=0).values\n",
    "\n",
    "x, y"
   ]
  },
  {
   "cell_type": "code",
   "execution_count": null,
   "metadata": {},
   "outputs": [],
   "source": [
    "from scipy import stats\n",
    "import numpy as np\n",
    "slope, intercept, r_value, p_value, std_err = stats.linregress(x,y)\n",
    "\n",
    "slope, intercept, r_value, p_value, std_err"
   ]
  },
  {
   "cell_type": "code",
   "execution_count": null,
   "metadata": {},
   "outputs": [],
   "source": [
    "[slope*year + intercept for year in [2008, 2012]]"
   ]
  },
  {
   "cell_type": "code",
   "execution_count": null,
   "metadata": {},
   "outputs": [],
   "source": [
    "set(train3['Unnamed: 0']['7.8']['Afghanistan'])"
   ]
  },
  {
   "cell_type": "code",
   "execution_count": null,
   "metadata": {},
   "outputs": [],
   "source": [
    "df_submit.loc[559, '2008 [YR2008]']"
   ]
  },
  {
   "cell_type": "markdown",
   "metadata": {},
   "source": [
    "## Fit for all country/code pairs"
   ]
  },
  {
   "cell_type": "code",
   "execution_count": null,
   "metadata": {},
   "outputs": [],
   "source": [
    "submit_inds[:5]"
   ]
  },
  {
   "cell_type": "code",
   "execution_count": null,
   "metadata": {},
   "outputs": [],
   "source": [
    "train3 = train3.reset_index().set_index(\"Unnamed: 0\")\n",
    "train3.head()"
   ]
  },
  {
   "cell_type": "code",
   "execution_count": null,
   "metadata": {},
   "outputs": [],
   "source": [
    "df_submit['slope'] = np.nan\n",
    "df_submit['intercept'] = np.nan\n",
    "df_submit['r_value'] = np.nan\n",
    "df_submit['p_value'] = np.nan\n",
    "df_submit['std_err'] = np.nan"
   ]
  },
  {
   "cell_type": "code",
   "execution_count": null,
   "metadata": {
    "scrolled": true
   },
   "outputs": [],
   "source": [
    "# least squares\n",
    "# https://docs.scipy.org/doc/scipy-0.13.0/reference/generated/scipy.stats.linregress.html\n",
    "n = len(submit_inds)\n",
    "for j, index in enumerate(submit_inds):\n",
    "    if j%20==0: print(\"%s / %s .. %s\"%(j, n, index))\n",
    "    n_avail = len(np.where(train3.index == index)[0])\n",
    "    if n_avail <= 1:\n",
    "        print(\"skipping %s since only %s point available\"%(index, n_avail))\n",
    "        continue\n",
    "\n",
    "    x = train3.loc[index, 'year'].values\n",
    "    y = train3.loc[index, 'value'].fillna(value=0)\n",
    "    y = y.values\n",
    "    slope, intercept, r_value, p_value, std_err = stats.linregress(x,y)\n",
    "    df_submit.loc[index, 'slope'] = slope\n",
    "    df_submit.loc[index, 'intercept'] = intercept\n",
    "    df_submit.loc[index, 'r_value'] = r_value\n",
    "    df_submit.loc[index, 'p_value'] = p_value\n",
    "    df_submit.loc[index, 'std_err'] = std_err\n",
    "    df_submit.loc[index, '2008 [YR2008]'] = slope*2008 + intercept\n",
    "    df_submit.loc[index, '2012 [YR2012]'] = slope*2012 + intercept"
   ]
  },
  {
   "cell_type": "markdown",
   "metadata": {},
   "source": [
    "## prepare submission file"
   ]
  },
  {
   "cell_type": "code",
   "execution_count": null,
   "metadata": {},
   "outputs": [],
   "source": [
    "df_submit2 = df_submit.copy()\n",
    "df_submit2 = df_submit2.fillna(value=0)\n",
    "df_submit2 = df_submit2.reset_index()[['Unnamed: 0', '2008 [YR2008]', '2012 [YR2012]']]\n",
    "df_submit2.rename(columns={'Unnamed: 0': ''}, inplace=True)\n",
    "fn1, fn2 = make_submission(df_submit2)\n",
    "fn1, fn2"
   ]
  }
 ],
 "metadata": {
  "kernelspec": {
   "display_name": "Python 3",
   "language": "python",
   "name": "python3"
  },
  "language_info": {
   "codemirror_mode": {
    "name": "ipython",
    "version": 3
   },
   "file_extension": ".py",
   "mimetype": "text/x-python",
   "name": "python",
   "nbconvert_exporter": "python",
   "pygments_lexer": "ipython3",
   "version": "3.5.2"
  }
 },
 "nbformat": 4,
 "nbformat_minor": 2
}
