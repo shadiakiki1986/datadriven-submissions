{
 "cells": [
  {
   "cell_type": "markdown",
   "metadata": {},
   "source": [
    "Same as 0.4 with linear regression, but here using Random Forest"
   ]
  },
  {
   "cell_type": "code",
   "execution_count": null,
   "metadata": {},
   "outputs": [],
   "source": [
    "import pandas as pd\n",
    "import os\n",
    "import seaborn as sns\n",
    "from matplotlib import pyplot as plt\n",
    "import numpy as np\n",
    "import time"
   ]
  },
  {
   "cell_type": "markdown",
   "metadata": {},
   "source": [
    "## Read data"
   ]
  },
  {
   "cell_type": "code",
   "execution_count": null,
   "metadata": {},
   "outputs": [],
   "source": [
    "from src.features import *\n",
    "train = load_raw()\n",
    "cols = imply_columns(train)"
   ]
  },
  {
   "cell_type": "code",
   "execution_count": null,
   "metadata": {},
   "outputs": [],
   "source": [
    "assert not train['Unnamed: 0'].duplicated().any()"
   ]
  },
  {
   "cell_type": "code",
   "execution_count": null,
   "metadata": {},
   "outputs": [],
   "source": [
    "train = train.set_index('Unnamed: 0')"
   ]
  },
  {
   "cell_type": "code",
   "execution_count": null,
   "metadata": {},
   "outputs": [],
   "source": [
    "train.shape, train.columns"
   ]
  },
  {
   "cell_type": "code",
   "execution_count": null,
   "metadata": {},
   "outputs": [],
   "source": [
    "# pd.isnull(train[cols['features']]).sum(axis=1).sort_values(ascending=True).head(n=20)\n",
    "train.shape[0], len(np.where(pd.isnull(train[cols['features']]).sum(axis=1) < 5)[0])\n",
    "# train.iloc[0,'1972 [YR1972]']\n",
    "# pd.isnull(train.loc[0,'1972 [YR1972]'])\n",
    "# train.head()\n",
    "# train.loc[131876]"
   ]
  },
  {
   "cell_type": "markdown",
   "metadata": {},
   "source": [
    "## read submission file"
   ]
  },
  {
   "cell_type": "code",
   "execution_count": null,
   "metadata": {
    "scrolled": true
   },
   "outputs": [],
   "source": [
    "df_submit = pd.read_csv('data/raw/submission.csv').set_index('Unnamed: 0')\n",
    "df_submit.head()"
   ]
  },
  {
   "cell_type": "code",
   "execution_count": null,
   "metadata": {},
   "outputs": [],
   "source": [
    "len(set(train.loc[df_submit.index]['Country Name']))"
   ]
  },
  {
   "cell_type": "code",
   "execution_count": null,
   "metadata": {},
   "outputs": [],
   "source": [
    "set(train.loc[df_submit.index]['Series Code'])"
   ]
  },
  {
   "cell_type": "code",
   "execution_count": null,
   "metadata": {},
   "outputs": [],
   "source": [
    "submit_inds = list(set(df_submit.index))\n",
    "submit_inds.sort()\n",
    "submit_inds[:10]"
   ]
  },
  {
   "cell_type": "markdown",
   "metadata": {},
   "source": [
    "## split out meta"
   ]
  },
  {
   "cell_type": "code",
   "execution_count": null,
   "metadata": {},
   "outputs": [],
   "source": [
    "df_meta = train[cols['meta'][1:]]\n",
    "for ccc in cols['meta'][1:]: del train[ccc]\n",
    "df_meta.head()"
   ]
  },
  {
   "cell_type": "code",
   "execution_count": null,
   "metadata": {},
   "outputs": [],
   "source": [
    "df_meta.loc[:,\"Country Code\"] = pd.factorize(df_meta[\"Country Name\"])[0]\n",
    "df_meta.head(n=2)"
   ]
  },
  {
   "cell_type": "markdown",
   "metadata": {},
   "source": [
    "## preprocess data to backfill nan"
   ]
  },
  {
   "cell_type": "code",
   "execution_count": null,
   "metadata": {},
   "outputs": [],
   "source": [
    "print(time.ctime(), 'start')\n",
    "train2 = train.copy()\n",
    "print(train2.shape)\n",
    "train2 = train2.transpose().sort_index(ascending=True)\n",
    "train2 = train2.fillna(method='bfill')\n",
    "train2 = train2.fillna(method='ffill') # sort of cheating, but better than just 0\n",
    "print(time.ctime(), 'end')"
   ]
  },
  {
   "cell_type": "code",
   "execution_count": null,
   "metadata": {},
   "outputs": [],
   "source": [
    "train2.index = [int(x[:4]) for x in train2.index]"
   ]
  },
  {
   "cell_type": "code",
   "execution_count": null,
   "metadata": {},
   "outputs": [],
   "source": [
    "# plot again just to confirm that wide-to-long worked\n",
    "country = 'Kenya' # 'Poland'\n",
    "series = 'Net taxes on products (current LCU)'\n",
    "subtrain = df_meta[(df_meta['Country Name']==country) & (df_meta['Series Name']==series)]\n",
    "assert subtrain.shape[0]==1\n",
    "subtrain = subtrain.index[0]\n",
    "subtrain = train2[subtrain]\n",
    "subtrain.head()"
   ]
  },
  {
   "cell_type": "code",
   "execution_count": null,
   "metadata": {},
   "outputs": [],
   "source": [
    "plt.plot(subtrain)\n",
    "plt.title(\"%s: %s\"%(country, series))\n",
    "plt.show()"
   ]
  },
  {
   "cell_type": "code",
   "execution_count": null,
   "metadata": {},
   "outputs": [],
   "source": [
    "n_nan = pd.isnull(train2).sum().sum()\n",
    "assert n_nan==0"
   ]
  },
  {
   "cell_type": "code",
   "execution_count": null,
   "metadata": {},
   "outputs": [],
   "source": [
    "train2 = train2.reset_index().rename(columns={'index': 'year'}).set_index('year')\n",
    "train2.head()"
   ]
  },
  {
   "cell_type": "markdown",
   "metadata": {},
   "source": [
    "## unpivot table"
   ]
  },
  {
   "cell_type": "code",
   "execution_count": null,
   "metadata": {},
   "outputs": [],
   "source": [
    "train2 = (\n",
    "    train2.reset_index()\n",
    "       .melt(id_vars=['year'])\n",
    "       .sort_values(['year'])\n",
    "       .merge(df_meta.reset_index()[['Unnamed: 0', 'Country Name', 'Series Code']], on='Unnamed: 0', how='left')\n",
    ")"
   ]
  },
  {
   "cell_type": "code",
   "execution_count": null,
   "metadata": {},
   "outputs": [],
   "source": [
    "train2.head()"
   ]
  },
  {
   "cell_type": "markdown",
   "metadata": {},
   "source": [
    "## pivot on the series code"
   ]
  },
  {
   "cell_type": "code",
   "execution_count": null,
   "metadata": {},
   "outputs": [],
   "source": [
    "print(time.ctime(), 1.1)\n",
    "train3 = train2.copy()\n",
    "print(time.ctime(), 1.2)\n",
    "\n",
    "\n",
    "# slow # train3['year-country'] = train3.apply(lambda row: \"%s-%s\"%(row['year'], row['Country Name']), axis=1)\n",
    "# train3['year-country'] = train3['year']*1000000 + train3['Country Code']\n",
    "# print(time.ctime(), 2)\n",
    "# train3 = train3.pivot(index='year-country', columns='Series Code', values='value')\n",
    "train3 = train3.pivot_table(index=['year','Country Name'], columns='Series Code', values='value')\n",
    "print(time.ctime(), 3)\n",
    "\n",
    "train3 = train3.fillna(value=0) # filling .. chose 0's for no specific reason\n",
    "print(time.ctime(), 4)\n",
    "train3.head()"
   ]
  },
  {
   "cell_type": "code",
   "execution_count": null,
   "metadata": {},
   "outputs": [],
   "source": [
    "train3.shape"
   ]
  },
  {
   "cell_type": "code",
   "execution_count": null,
   "metadata": {},
   "outputs": [],
   "source": [
    "cols_target = list(set(df_meta.loc[df_submit.index, 'Series Code']))\n",
    "cols_target"
   ]
  },
  {
   "cell_type": "code",
   "execution_count": null,
   "metadata": {},
   "outputs": [],
   "source": [
    "target3 = train3[cols_target].loc[1973:]\n",
    "features3 = train3.loc[:2006]"
   ]
  },
  {
   "cell_type": "code",
   "execution_count": null,
   "metadata": {},
   "outputs": [],
   "source": [
    "target3.head(n=2)"
   ]
  },
  {
   "cell_type": "code",
   "execution_count": null,
   "metadata": {},
   "outputs": [],
   "source": [
    "features3.tail(n=2)"
   ]
  },
  {
   "cell_type": "code",
   "execution_count": null,
   "metadata": {},
   "outputs": [],
   "source": [
    "plt.plot(train3['1.2'][1972], '.')\n",
    "plt.show()"
   ]
  },
  {
   "cell_type": "raw",
   "metadata": {},
   "source": [
    "import math\n",
    "train3.max(axis=0).apply(lambda x: math.ceil(math.log10(1+x)))"
   ]
  },
  {
   "cell_type": "markdown",
   "metadata": {},
   "source": [
    "## <strike>multi-variate OLS</strike> Random Forest"
   ]
  },
  {
   "cell_type": "code",
   "execution_count": null,
   "metadata": {},
   "outputs": [],
   "source": [
    "from sklearn import ensemble\n",
    "\n",
    "\n",
    "# Create linear regression object\n",
    "regr = ensemble.RandomForestRegressor(n_estimators=100, min_samples_split=4, verbose=2, n_jobs=-1)\n",
    "\n",
    "# Train the model using the training sets\n",
    "print('fit', features3.shape, target3.shape)\n",
    "print(time.ctime(), 'start')\n",
    "regr.fit(features3, target3)\n",
    "print(time.ctime(), 'done')"
   ]
  },
  {
   "cell_type": "code",
   "execution_count": null,
   "metadata": {},
   "outputs": [],
   "source": [
    "# check most important features\n",
    "f_imp = regr.feature_importances_.argsort()\n",
    "# regr.feature_importances_[f_imp[-20:]]\n",
    "features3.columns[f_imp[-10:]]"
   ]
  },
  {
   "cell_type": "code",
   "execution_count": null,
   "metadata": {},
   "outputs": [],
   "source": [
    "# make feature importances into dataframe for saving\n",
    "df_importances = (\n",
    "    pd.DataFrame({'imp': regr.feature_importances_, 'feat': features3.columns})\n",
    "      .sort_values('imp', ascending=False)\n",
    ")\n",
    "df_importances.head()"
   ]
  },
  {
   "cell_type": "code",
   "execution_count": null,
   "metadata": {},
   "outputs": [],
   "source": [
    "df_importances.to_pickle('data/interim/rf_feature_importances.pkl')"
   ]
  },
  {
   "cell_type": "markdown",
   "metadata": {},
   "source": [
    "## prediction 2008\n",
    "\n",
    "- 2008 is straight-forward\n",
    "- ~~2012 is recursive prediction since 2008~~"
   ]
  },
  {
   "cell_type": "code",
   "execution_count": null,
   "metadata": {},
   "outputs": [],
   "source": [
    "def year2col(x):\n",
    "    return \"%.0f [YR%.0f]\"%(x, x)\n",
    "\n",
    "year2col(2008), year2col(2012)"
   ]
  },
  {
   "cell_type": "code",
   "execution_count": null,
   "metadata": {},
   "outputs": [],
   "source": [
    "df_submit.head()"
   ]
  },
  {
   "cell_type": "code",
   "execution_count": null,
   "metadata": {},
   "outputs": [],
   "source": [
    "def get_prediction(df_in, regr, df_target):\n",
    "    df_pred1 = regr.predict(df_in)\n",
    "    df_pred1 = pd.DataFrame(df_pred1, columns=df_target.columns, index=df_target.loc[2007].index.values)\n",
    "    df_pred1 = df_pred1.reset_index().rename(columns={'index':'Country Name'}).melt(id_vars=['Country Name'])\n",
    "    \n",
    "    df_pred2 = df_pred1.merge(\n",
    "        df_meta.reset_index()[['Unnamed: 0', 'Country Name', 'Series Code']], \n",
    "        on=['Country Name', 'Series Code'], \n",
    "        how='left'\n",
    "    )\n",
    "    df_pred2 = df_pred2[~pd.isnull(df_pred2['Unnamed: 0'])]\n",
    "    df_pred2 = df_pred2.set_index('Unnamed: 0')\n",
    "    df_pred2 = df_pred2.loc[df_submit.index]\n",
    "    \n",
    "    df_pred1 = df_pred1.pivot_table(index='Country Name', columns='Series Code', values='value')\n",
    "    return df_pred1, df_pred2\n",
    "    \n"
   ]
  },
  {
   "cell_type": "code",
   "execution_count": null,
   "metadata": {},
   "outputs": [],
   "source": [
    "df_pred1, df_pred2 = get_prediction(train3.loc[2007:], regr, target3)\n",
    "df_submit[year2col(2008)] = df_pred2['value']\n",
    "df_submit.head()"
   ]
  },
  {
   "cell_type": "markdown",
   "metadata": {},
   "source": [
    "## Repeat for 2012\n",
    "\n",
    "- 5-year prediction for 2012 from data till 2007\n",
    "- horizontally stack features of T-1, T-2, ... T-5 (T-5 here is not the same as in 2012-2007 being 5-year pred)\n",
    "- use the feature importances from the 2008 RF regression and choose top 10 only"
   ]
  },
  {
   "cell_type": "code",
   "execution_count": null,
   "metadata": {},
   "outputs": [],
   "source": [
    "top_cols = features3.columns[f_imp[-10:]]\n",
    "# top_cols = features3.columns # no filtering for top feature importances"
   ]
  },
  {
   "cell_type": "code",
   "execution_count": null,
   "metadata": {},
   "outputs": [],
   "source": [
    "def do_pre(prefix):\n",
    "    return {c1: \"%s_%s\"%(prefix,c1) for c1 in train3.columns}\n",
    "\n",
    "def get_features(n_pred):\n",
    "    return pd.concat([\n",
    "            #train3[top_cols].loc[1972+5-5:2007-4-n_pred].rename(columns=do_pre('t5')).reset_index(drop=True),\n",
    "            #train3[top_cols].loc[1972+5-4:2007-3-n_pred].rename(columns=do_pre('t4')).reset_index(drop=True),\n",
    "            #train3[top_cols].loc[1972+5-3:2007-2-n_pred].rename(columns=do_pre('t3')).reset_index(drop=True),\n",
    "            #train3[top_cols].loc[1972+5-2:2007-1-n_pred].rename(columns=do_pre('t2')).reset_index(drop=True),\n",
    "            train3[top_cols].loc[1972+5-1:2007-0-n_pred].rename(columns=do_pre('t1')).reset_index(drop=True)\n",
    "        ],\n",
    "        axis=1)\n",
    "\n",
    "def get_feat_targ(n_pred):\n",
    "    features4 = get_features(n_pred = n_pred)\n",
    "    target4 = train3[cols_target].loc[1972+5-1+n_pred:2007-0+n_pred]\n",
    "\n",
    "    print(train3.shape, features4.shape, target4.shape)\n",
    "    return features4, target4"
   ]
  },
  {
   "cell_type": "code",
   "execution_count": null,
   "metadata": {},
   "outputs": [],
   "source": [
    "features4, target4 = get_feat_targ(n_pred=5)"
   ]
  },
  {
   "cell_type": "code",
   "execution_count": null,
   "metadata": {
    "scrolled": true
   },
   "outputs": [],
   "source": [
    "regr2012 = ensemble.RandomForestRegressor(n_estimators=100, min_samples_split=4, verbose=2, n_jobs=-1)\n",
    "\n",
    "# Train the model using the training sets\n",
    "print(time.ctime(), 'start')\n",
    "regr2012.fit(features4, target4)\n",
    "print(time.ctime(), 'done')"
   ]
  },
  {
   "cell_type": "code",
   "execution_count": null,
   "metadata": {},
   "outputs": [],
   "source": [
    "# Predict\n",
    "features42 = pd.concat([\n",
    "        #train3[top_cols].loc[2007-9].rename(columns=do_pre('t5')).reset_index(drop=True),\n",
    "        #train3[top_cols].loc[2007-8].rename(columns=do_pre('t4')).reset_index(drop=True),\n",
    "        #train3[top_cols].loc[2007-7].rename(columns=do_pre('t3')).reset_index(drop=True),\n",
    "        #train3[top_cols].loc[2007-6].rename(columns=do_pre('t2')).reset_index(drop=True),\n",
    "        train3[top_cols].loc[2007-5].rename(columns=do_pre('t1')).reset_index(drop=True)\n",
    "    ],\n",
    "    axis=1\n",
    ")   \n",
    "\n",
    "print(features4.shape, features42.shape)\n",
    "\n",
    "df_pred1, df_pred2 = get_prediction(features42, regr2012, target4)\n",
    "df_pred1.shape, df_pred2.shape"
   ]
  },
  {
   "cell_type": "code",
   "execution_count": null,
   "metadata": {},
   "outputs": [],
   "source": [
    "#df_submit[year2col(2012)+' (old)'] = df_submit[year2col(2012)]\n",
    "df_submit[year2col(2012)] = df_pred2['value']\n",
    "df_submit.head()"
   ]
  },
  {
   "cell_type": "code",
   "execution_count": null,
   "metadata": {},
   "outputs": [],
   "source": [
    "# feat impo when using top feature importances from RF 2008"
   ]
  },
  {
   "cell_type": "code",
   "execution_count": null,
   "metadata": {},
   "outputs": [],
   "source": [
    "# check feature importances\n",
    "# The same when the original features are filtered for the top feature importances from\n",
    "# 2008 regression 1-year prediction with 1-year back\n",
    "regr2012.feature_importances_[regr2012.feature_importances_.argsort()[-10:]], features4.columns[regr2012.feature_importances_.argsort()[-10:]]"
   ]
  },
  {
   "cell_type": "markdown",
   "metadata": {},
   "source": [
    "## Repeat 2008 prediction using 5-y history"
   ]
  },
  {
   "cell_type": "code",
   "execution_count": null,
   "metadata": {},
   "outputs": [],
   "source": [
    "features5, target5 = get_feat_targ(n_pred=1)"
   ]
  },
  {
   "cell_type": "code",
   "execution_count": null,
   "metadata": {
    "scrolled": true
   },
   "outputs": [],
   "source": [
    "regr2008 = ensemble.RandomForestRegressor(n_estimators=100, min_samples_split=4, verbose=2, n_jobs=-1)\n",
    "\n",
    "print(time.ctime(), 'start')\n",
    "regr2008.fit(features5, target5)\n",
    "print(time.ctime(), 'done')"
   ]
  },
  {
   "cell_type": "code",
   "execution_count": null,
   "metadata": {},
   "outputs": [],
   "source": [
    "# Predict\n",
    "n_pred = 1\n",
    "features52 = pd.concat([\n",
    "        #train3[top_cols].loc[2007-4-n_pred].rename(columns=do_pre('t5')).reset_index(drop=True),\n",
    "        #train3[top_cols].loc[2007-3-n_pred].rename(columns=do_pre('t4')).reset_index(drop=True),\n",
    "        #train3[top_cols].loc[2007-2-n_pred].rename(columns=do_pre('t3')).reset_index(drop=True),\n",
    "        #train3[top_cols].loc[2007-1-n_pred].rename(columns=do_pre('t2')).reset_index(drop=True),\n",
    "        train3[top_cols].loc[2007-0-n_pred].rename(columns=do_pre('t1')).reset_index(drop=True)\n",
    "    ],\n",
    "    axis=1\n",
    ")   \n",
    "\n",
    "print(features5.shape, features52.shape)\n",
    "\n",
    "df_pred1, df_pred2 = get_prediction(features52, regr2008, target5)\n",
    "df_pred1.shape, df_pred2.shape"
   ]
  },
  {
   "cell_type": "code",
   "execution_count": null,
   "metadata": {},
   "outputs": [],
   "source": [
    "#df_submit[year2col(2008)+' (old)'] = df_submit[year2col(2008)]\n",
    "df_submit[year2col(2008)] = df_pred2['value']\n",
    "df_submit.head()"
   ]
  },
  {
   "cell_type": "markdown",
   "metadata": {},
   "source": [
    "## compare to previous submission"
   ]
  },
  {
   "cell_type": "code",
   "execution_count": null,
   "metadata": {},
   "outputs": [],
   "source": [
    "df_previous = pd.read_csv('data/interim/submission_20180516_041403_score_0_05.csv').set_index('Unnamed: 0')\n",
    "df_previous.head()"
   ]
  },
  {
   "cell_type": "code",
   "execution_count": null,
   "metadata": {},
   "outputs": [],
   "source": [
    "diff_2008 = df_submit.merge(df_previous, left_index=True, right_index=True)\n",
    "diff_2008['diff 2008'] = diff_2008['2008 [YR2008]_x'] - diff_2008['2008 [YR2008]_y']\n",
    "diff_2008['diff 2012'] = diff_2008['2012 [YR2012]_x'] - diff_2008['2012 [YR2012]_y']\n",
    "diff_2008.head()"
   ]
  },
  {
   "cell_type": "code",
   "execution_count": null,
   "metadata": {},
   "outputs": [],
   "source": [
    "plt.plot(diff_2008.sort_values('diff 2008')['diff 2008'].values, 'r', label='2008')\n",
    "plt.plot(diff_2008.sort_values('diff 2012')['diff 2012'].values, 'b', label='2012')\n",
    "plt.legend()\n",
    "plt.show()"
   ]
  },
  {
   "cell_type": "code",
   "execution_count": null,
   "metadata": {},
   "outputs": [],
   "source": [
    "target4.head()"
   ]
  },
  {
   "cell_type": "code",
   "execution_count": null,
   "metadata": {},
   "outputs": [],
   "source": [
    "target4.tail()"
   ]
  },
  {
   "cell_type": "code",
   "execution_count": null,
   "metadata": {},
   "outputs": [],
   "source": [
    "df_meta.loc[df_submit.head().index]"
   ]
  },
  {
   "cell_type": "code",
   "execution_count": null,
   "metadata": {},
   "outputs": [],
   "source": [
    "df_meta.reset_index().set_index(['Country Name', 'Series Code'])['Unnamed: 0']['Afghanistan']['2.1']"
   ]
  },
  {
   "cell_type": "code",
   "execution_count": null,
   "metadata": {
    "scrolled": false
   },
   "outputs": [],
   "source": [
    "for country in ['Afghanistan', 'Poland']:\n",
    "    for indicator in target4.columns:\n",
    "        print(country, indicator)\n",
    "        plt.scatter(\n",
    "            pd.date_range('1981', '2007', freq='YS'),\n",
    "            target4[indicator].loc[:,country],\n",
    "            color='black'\n",
    "        )\n",
    "\n",
    "        to_plot = df_meta.reset_index().set_index(['Country Name', 'Series Code'])['Unnamed: 0']\n",
    "        if country in to_plot.index:\n",
    "            if indicator in to_plot[country].index:\n",
    "                to_plot = to_plot[country][indicator]\n",
    "                if to_plot in df_submit.index:\n",
    "                    plt.scatter(\n",
    "                        '2008-01-01',\n",
    "                        df_submit.loc[to_plot, '2008 [YR2008]'],\n",
    "                        color='red'\n",
    "                    )\n",
    "                    plt.scatter(\n",
    "                        '2012-01-01',\n",
    "                        df_submit.loc[to_plot, '2012 [YR2012]'],\n",
    "                        color='red'\n",
    "                    )\n",
    "\n",
    "        plt.show()"
   ]
  },
  {
   "cell_type": "markdown",
   "metadata": {},
   "source": [
    "## prepare submission file"
   ]
  },
  {
   "cell_type": "code",
   "execution_count": null,
   "metadata": {},
   "outputs": [],
   "source": [
    "df_submit3 = df_submit[['2008 [YR2008]', '2012 [YR2012]']].copy()\n",
    "df_submit3 = df_submit3.fillna(value=0)\n",
    "df_submit3 = df_submit3.reset_index()[['Unnamed: 0', '2008 [YR2008]', '2012 [YR2012]']]\n",
    "df_submit3.rename(columns={'Unnamed: 0': ''}, inplace=True)\n",
    "fn1, fn2 = make_submission(df_submit3)\n",
    "fn1, fn2"
   ]
  },
  {
   "cell_type": "code",
   "execution_count": null,
   "metadata": {},
   "outputs": [],
   "source": []
  }
 ],
 "metadata": {
  "kernelspec": {
   "display_name": "Python 3",
   "language": "python",
   "name": "python3"
  },
  "language_info": {
   "codemirror_mode": {
    "name": "ipython",
    "version": 3
   },
   "file_extension": ".py",
   "mimetype": "text/x-python",
   "name": "python",
   "nbconvert_exporter": "python",
   "pygments_lexer": "ipython3",
   "version": "3.5.2"
  }
 },
 "nbformat": 4,
 "nbformat_minor": 2
}
