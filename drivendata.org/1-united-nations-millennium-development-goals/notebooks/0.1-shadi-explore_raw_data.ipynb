{
 "cells": [
  {
   "cell_type": "code",
   "execution_count": null,
   "metadata": {},
   "outputs": [],
   "source": [
    "import pandas as pd\n",
    "import os\n",
    "import seaborn as sns\n",
    "from matplotlib import pyplot as plt\n",
    "import numpy as np\n",
    "import time"
   ]
  },
  {
   "cell_type": "markdown",
   "metadata": {},
   "source": [
    "## Read data"
   ]
  },
  {
   "cell_type": "code",
   "execution_count": null,
   "metadata": {},
   "outputs": [],
   "source": [
    "from src.features import *\n",
    "train = load_raw()\n",
    "cols = imply_columns(train)"
   ]
  },
  {
   "cell_type": "code",
   "execution_count": null,
   "metadata": {},
   "outputs": [],
   "source": [
    "assert not train['Unnamed: 0'].duplicated().any()"
   ]
  },
  {
   "cell_type": "code",
   "execution_count": null,
   "metadata": {},
   "outputs": [],
   "source": [
    "train = train.set_index('Unnamed: 0')"
   ]
  },
  {
   "cell_type": "code",
   "execution_count": null,
   "metadata": {},
   "outputs": [],
   "source": [
    "train.shape, train.columns"
   ]
  },
  {
   "cell_type": "code",
   "execution_count": null,
   "metadata": {},
   "outputs": [],
   "source": [
    "# pd.isnull(train[cols['features']]).sum(axis=1).sort_values(ascending=True).head(n=20)\n",
    "train.shape[0], len(np.where(pd.isnull(train[cols['features']]).sum(axis=1) < 5)[0])\n",
    "# train.iloc[0,'1972 [YR1972]']\n",
    "# pd.isnull(train.loc[0,'1972 [YR1972]'])\n",
    "# train.head()\n",
    "# train.loc[131876]"
   ]
  },
  {
   "cell_type": "code",
   "execution_count": null,
   "metadata": {},
   "outputs": [],
   "source": [
    "series_stats = pd.isnull(train[cols['features']]).sum(axis=1).sort_values(ascending=True)\n",
    "series_stats.tail()"
   ]
  },
  {
   "cell_type": "code",
   "execution_count": null,
   "metadata": {},
   "outputs": [],
   "source": [
    "plt.plot(series_stats.values)\n",
    "plt.show()"
   ]
  },
  {
   "cell_type": "markdown",
   "metadata": {},
   "source": [
    "## Plot"
   ]
  },
  {
   "cell_type": "code",
   "execution_count": null,
   "metadata": {},
   "outputs": [],
   "source": [
    "country = 'Kenya' # 'Poland'\n",
    "# series = list(set(train['Series Name']))\n",
    "# series.sort()\n",
    "# series = series[0]\n",
    "series = 'Net taxes on products (current LCU)'\n",
    "subtrain = train[(train['Country Name']==country) & (train['Series Name']==series)]\n",
    "\n",
    "\n",
    "plt.plot(subtrain[cols['features']].values.squeeze())\n",
    "plt.title(\"%s: %s\"%(country, series))\n",
    "plt.show()\n",
    "#sns.distplot(train[col])\n",
    "#plt.title(col)\n",
    "#plt.show()\n",
    "#sns.tsplot(np.log(train[col].sort_values()+1))\n",
    "#plt.title(col)\n",
    "#plt.show()"
   ]
  },
  {
   "cell_type": "markdown",
   "metadata": {},
   "source": [
    "## read submission file"
   ]
  },
  {
   "cell_type": "code",
   "execution_count": null,
   "metadata": {
    "scrolled": true
   },
   "outputs": [],
   "source": [
    "df_submit = pd.read_csv('data/raw/submission.csv').set_index('Unnamed: 0')\n",
    "df_submit.head()"
   ]
  },
  {
   "cell_type": "code",
   "execution_count": null,
   "metadata": {},
   "outputs": [],
   "source": [
    "len(set(train.loc[df_submit.index]['Country Name']))"
   ]
  },
  {
   "cell_type": "code",
   "execution_count": null,
   "metadata": {},
   "outputs": [],
   "source": [
    "set(train.loc[df_submit.index]['Series Code'])"
   ]
  },
  {
   "cell_type": "markdown",
   "metadata": {},
   "source": [
    "## check what indeces are in submission but not in train"
   ]
  },
  {
   "cell_type": "code",
   "execution_count": null,
   "metadata": {},
   "outputs": [],
   "source": [
    "# indices = list(set(train3['Unnamed: 0']))\n",
    "submit_inds = list(set(df_submit.index))\n",
    "submit_inds.sort()\n",
    "submit_inds[:5]"
   ]
  },
  {
   "cell_type": "code",
   "execution_count": null,
   "metadata": {},
   "outputs": [],
   "source": [
    "train_inds = list(set(train.index))\n",
    "train_inds.sort()\n",
    "train_inds[:5]"
   ]
  },
  {
   "cell_type": "code",
   "execution_count": null,
   "metadata": {},
   "outputs": [],
   "source": [
    "len(set(submit_inds) - set(train_inds)), len(submit_inds)"
   ]
  },
  {
   "cell_type": "code",
   "execution_count": null,
   "metadata": {},
   "outputs": [],
   "source": [
    "train.loc[submit_inds,'Series Code'].unique()"
   ]
  },
  {
   "cell_type": "markdown",
   "metadata": {},
   "source": [
    "## re-plot"
   ]
  },
  {
   "cell_type": "code",
   "execution_count": null,
   "metadata": {
    "scrolled": false
   },
   "outputs": [],
   "source": [
    "# for country in ['Kenya', 'Poland']:\n",
    "#series1 = list(set(train['Series Name']))\n",
    "#series1.sort()\n",
    "series1 = train.loc[submit_inds,'Series Name'].unique()\n",
    "countries = list(set(train['Country Name']))\n",
    "countries.sort()\n",
    "\n",
    "for series2 in series1[-10:]:\n",
    "    print(series2)\n",
    "    for country in countries:#[:30]:\n",
    "        subtrain = train[(train['Country Name']==country) & (train['Series Name']==series2)]\n",
    "        subtrain = subtrain[cols['features']].values.squeeze()\n",
    "        if subtrain.shape[0]==0:\n",
    "            continue\n",
    "        plt.plot(subtrain, '.-', label=country, alpha=0.5)\n",
    "\n",
    "    #plt.legend()\n",
    "    plt.title(\"%s\"%(series2))\n",
    "    plt.show()"
   ]
  },
  {
   "cell_type": "markdown",
   "metadata": {},
   "source": [
    "## checking 2690 which seems to be concave"
   ]
  },
  {
   "cell_type": "code",
   "execution_count": null,
   "metadata": {},
   "outputs": [],
   "source": [
    "def plot_by_unnamed0(unnamed0):\n",
    "    subtrain = train.loc[unnamed0][['Country Name', 'Series Code', 'Series Name']]\n",
    "\n",
    "    country, series2 = subtrain['Country Name'], subtrain['Series Name']\n",
    "    subtrain = train[(train['Country Name']==country) & (train['Series Name']==series2)]\n",
    "    subtrain = subtrain[cols['features']].values.squeeze()\n",
    "    if subtrain.shape[0]==0:\n",
    "        print('no data')\n",
    "    else:\n",
    "        plt.plot(subtrain, '.-', label=country, alpha=0.5)\n",
    "        plt.legend()\n",
    "        plt.title(\"%s\"%(series2))\n",
    "        plt.show()"
   ]
  },
  {
   "cell_type": "code",
   "execution_count": null,
   "metadata": {},
   "outputs": [],
   "source": [
    "plot_by_unnamed0(2690)"
   ]
  },
  {
   "cell_type": "code",
   "execution_count": null,
   "metadata": {},
   "outputs": [],
   "source": [
    "plot_by_unnamed0(618)"
   ]
  }
 ],
 "metadata": {
  "kernelspec": {
   "display_name": "Python 3",
   "language": "python",
   "name": "python3"
  },
  "language_info": {
   "codemirror_mode": {
    "name": "ipython",
    "version": 3
   },
   "file_extension": ".py",
   "mimetype": "text/x-python",
   "name": "python",
   "nbconvert_exporter": "python",
   "pygments_lexer": "ipython3",
   "version": "3.5.2"
  }
 },
 "nbformat": 4,
 "nbformat_minor": 2
}
