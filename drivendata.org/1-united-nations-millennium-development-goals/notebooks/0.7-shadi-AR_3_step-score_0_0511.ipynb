{
 "cells": [
  {
   "cell_type": "code",
   "execution_count": 1,
   "metadata": {},
   "outputs": [],
   "source": [
    "import pandas as pd\n",
    "import os\n",
    "import seaborn as sns\n",
    "from matplotlib import pyplot as plt\n",
    "import numpy as np\n",
    "import time"
   ]
  },
  {
   "cell_type": "markdown",
   "metadata": {},
   "source": [
    "## Read data"
   ]
  },
  {
   "cell_type": "code",
   "execution_count": 2,
   "metadata": {},
   "outputs": [],
   "source": [
    "from src.features import *\n",
    "train = load_raw()\n",
    "cols = imply_columns(train)"
   ]
  },
  {
   "cell_type": "code",
   "execution_count": 3,
   "metadata": {},
   "outputs": [],
   "source": [
    "assert not train['Unnamed: 0'].duplicated().any()"
   ]
  },
  {
   "cell_type": "code",
   "execution_count": 4,
   "metadata": {},
   "outputs": [],
   "source": [
    "train = train.set_index('Unnamed: 0')"
   ]
  },
  {
   "cell_type": "code",
   "execution_count": 5,
   "metadata": {},
   "outputs": [
    {
     "data": {
      "text/plain": [
       "((195402, 39),\n",
       " Index(['1972 [YR1972]', '1973 [YR1973]', '1974 [YR1974]', '1975 [YR1975]',\n",
       "        '1976 [YR1976]', '1977 [YR1977]', '1978 [YR1978]', '1979 [YR1979]',\n",
       "        '1980 [YR1980]', '1981 [YR1981]', '1982 [YR1982]', '1983 [YR1983]',\n",
       "        '1984 [YR1984]', '1985 [YR1985]', '1986 [YR1986]', '1987 [YR1987]',\n",
       "        '1988 [YR1988]', '1989 [YR1989]', '1990 [YR1990]', '1991 [YR1991]',\n",
       "        '1992 [YR1992]', '1993 [YR1993]', '1994 [YR1994]', '1995 [YR1995]',\n",
       "        '1996 [YR1996]', '1997 [YR1997]', '1998 [YR1998]', '1999 [YR1999]',\n",
       "        '2000 [YR2000]', '2001 [YR2001]', '2002 [YR2002]', '2003 [YR2003]',\n",
       "        '2004 [YR2004]', '2005 [YR2005]', '2006 [YR2006]', '2007 [YR2007]',\n",
       "        'Country Name', 'Series Code', 'Series Name'],\n",
       "       dtype='object'))"
      ]
     },
     "execution_count": 5,
     "metadata": {},
     "output_type": "execute_result"
    }
   ],
   "source": [
    "train.shape, train.columns"
   ]
  },
  {
   "cell_type": "code",
   "execution_count": 6,
   "metadata": {},
   "outputs": [
    {
     "data": {
      "text/plain": [
       "(195402, 61280)"
      ]
     },
     "execution_count": 6,
     "metadata": {},
     "output_type": "execute_result"
    }
   ],
   "source": [
    "# pd.isnull(train[cols['features']]).sum(axis=1).sort_values(ascending=True).head(n=20)\n",
    "train.shape[0], len(np.where(pd.isnull(train[cols['features']]).sum(axis=1) < 5)[0])\n",
    "# train.iloc[0,'1972 [YR1972]']\n",
    "# pd.isnull(train.loc[0,'1972 [YR1972]'])\n",
    "# train.head()\n",
    "# train.loc[131876]"
   ]
  },
  {
   "cell_type": "markdown",
   "metadata": {},
   "source": [
    "## read submission file"
   ]
  },
  {
   "cell_type": "code",
   "execution_count": 7,
   "metadata": {
    "scrolled": true
   },
   "outputs": [
    {
     "data": {
      "text/html": [
       "<div>\n",
       "<style scoped>\n",
       "    .dataframe tbody tr th:only-of-type {\n",
       "        vertical-align: middle;\n",
       "    }\n",
       "\n",
       "    .dataframe tbody tr th {\n",
       "        vertical-align: top;\n",
       "    }\n",
       "\n",
       "    .dataframe thead th {\n",
       "        text-align: right;\n",
       "    }\n",
       "</style>\n",
       "<table border=\"1\" class=\"dataframe\">\n",
       "  <thead>\n",
       "    <tr style=\"text-align: right;\">\n",
       "      <th></th>\n",
       "      <th>2008 [YR2008]</th>\n",
       "      <th>2012 [YR2012]</th>\n",
       "    </tr>\n",
       "    <tr>\n",
       "      <th>Unnamed: 0</th>\n",
       "      <th></th>\n",
       "      <th></th>\n",
       "    </tr>\n",
       "  </thead>\n",
       "  <tbody>\n",
       "    <tr>\n",
       "      <th>559</th>\n",
       "      <td>NaN</td>\n",
       "      <td>NaN</td>\n",
       "    </tr>\n",
       "    <tr>\n",
       "      <th>618</th>\n",
       "      <td>NaN</td>\n",
       "      <td>NaN</td>\n",
       "    </tr>\n",
       "    <tr>\n",
       "      <th>753</th>\n",
       "      <td>NaN</td>\n",
       "      <td>NaN</td>\n",
       "    </tr>\n",
       "    <tr>\n",
       "      <th>1030</th>\n",
       "      <td>NaN</td>\n",
       "      <td>NaN</td>\n",
       "    </tr>\n",
       "    <tr>\n",
       "      <th>1896</th>\n",
       "      <td>NaN</td>\n",
       "      <td>NaN</td>\n",
       "    </tr>\n",
       "  </tbody>\n",
       "</table>\n",
       "</div>"
      ],
      "text/plain": [
       "            2008 [YR2008]  2012 [YR2012]\n",
       "Unnamed: 0                              \n",
       "559                   NaN            NaN\n",
       "618                   NaN            NaN\n",
       "753                   NaN            NaN\n",
       "1030                  NaN            NaN\n",
       "1896                  NaN            NaN"
      ]
     },
     "execution_count": 7,
     "metadata": {},
     "output_type": "execute_result"
    }
   ],
   "source": [
    "df_submit = pd.read_csv('data/raw/submission.csv').set_index('Unnamed: 0')\n",
    "df_submit.head()"
   ]
  },
  {
   "cell_type": "code",
   "execution_count": 8,
   "metadata": {},
   "outputs": [
    {
     "data": {
      "text/plain": [
       "206"
      ]
     },
     "execution_count": 8,
     "metadata": {},
     "output_type": "execute_result"
    }
   ],
   "source": [
    "len(set(train.loc[df_submit.index]['Country Name']))"
   ]
  },
  {
   "cell_type": "code",
   "execution_count": 9,
   "metadata": {},
   "outputs": [
    {
     "data": {
      "text/plain": [
       "{'2.1', '4.1', '5.1', '6.1', '6.7', '7.8', '8.16'}"
      ]
     },
     "execution_count": 9,
     "metadata": {},
     "output_type": "execute_result"
    }
   ],
   "source": [
    "set(train.loc[df_submit.index]['Series Code'])"
   ]
  },
  {
   "cell_type": "code",
   "execution_count": 10,
   "metadata": {},
   "outputs": [
    {
     "data": {
      "text/plain": [
       "[559, 618, 753, 1030, 1896, 1955, 2090, 2690, 3233, 3292]"
      ]
     },
     "execution_count": 10,
     "metadata": {},
     "output_type": "execute_result"
    }
   ],
   "source": [
    "submit_inds = list(set(df_submit.index))\n",
    "submit_inds.sort()\n",
    "submit_inds[:10]"
   ]
  },
  {
   "cell_type": "markdown",
   "metadata": {},
   "source": [
    "## preprocess data to backfill nan"
   ]
  },
  {
   "cell_type": "code",
   "execution_count": 11,
   "metadata": {},
   "outputs": [],
   "source": [
    "my_rename = {x: x[6:-1] for x in cols['features']}\n",
    "train.rename(columns=my_rename, inplace=True)"
   ]
  },
  {
   "cell_type": "code",
   "execution_count": 12,
   "metadata": {},
   "outputs": [
    {
     "data": {
      "text/plain": [
       "['YR1972', 'YR1973', 'YR1974', 'YR1975', 'YR1976']"
      ]
     },
     "execution_count": 12,
     "metadata": {},
     "output_type": "execute_result"
    }
   ],
   "source": [
    "cols['features'] = list(my_rename.values())\n",
    "cols['features'].sort()\n",
    "cols['features'][:5]"
   ]
  },
  {
   "cell_type": "code",
   "execution_count": 13,
   "metadata": {},
   "outputs": [],
   "source": [
    "# wide to long format so that years are an index along the rows\n",
    "train = pd.wide_to_long(train.reset_index(), [\"YR\"], i=\"Unnamed: 0\", j=\"year\").reset_index(level='year')"
   ]
  },
  {
   "cell_type": "code",
   "execution_count": 14,
   "metadata": {},
   "outputs": [],
   "source": [
    "# rename YR to \"value\"\n",
    "train.rename(columns={'YR': 'value'}, inplace=True)"
   ]
  },
  {
   "cell_type": "code",
   "execution_count": 15,
   "metadata": {},
   "outputs": [
    {
     "data": {
      "text/plain": [
       "array([1972, 1972, 1972, 1972, 1972])"
      ]
     },
     "execution_count": 15,
     "metadata": {},
     "output_type": "execute_result"
    }
   ],
   "source": [
    "train['year'] = train['year'].apply(lambda x: int(x))\n",
    "train['year'].head().values"
   ]
  },
  {
   "cell_type": "code",
   "execution_count": 16,
   "metadata": {},
   "outputs": [
    {
     "data": {
      "text/html": [
       "<div>\n",
       "<style scoped>\n",
       "    .dataframe tbody tr th:only-of-type {\n",
       "        vertical-align: middle;\n",
       "    }\n",
       "\n",
       "    .dataframe tbody tr th {\n",
       "        vertical-align: top;\n",
       "    }\n",
       "\n",
       "    .dataframe thead th {\n",
       "        text-align: right;\n",
       "    }\n",
       "</style>\n",
       "<table border=\"1\" class=\"dataframe\">\n",
       "  <thead>\n",
       "    <tr style=\"text-align: right;\">\n",
       "      <th></th>\n",
       "      <th>Country Name</th>\n",
       "      <th>Series Name</th>\n",
       "      <th>Series Code</th>\n",
       "      <th>value</th>\n",
       "    </tr>\n",
       "    <tr>\n",
       "      <th>year</th>\n",
       "      <th></th>\n",
       "      <th></th>\n",
       "      <th></th>\n",
       "      <th></th>\n",
       "    </tr>\n",
       "  </thead>\n",
       "  <tbody>\n",
       "    <tr>\n",
       "      <th>1972</th>\n",
       "      <td>Kenya</td>\n",
       "      <td>Net taxes on products (current LCU)</td>\n",
       "      <td>NY.TAX.NIND.CN</td>\n",
       "      <td>1.276000e+09</td>\n",
       "    </tr>\n",
       "    <tr>\n",
       "      <th>1973</th>\n",
       "      <td>Kenya</td>\n",
       "      <td>Net taxes on products (current LCU)</td>\n",
       "      <td>NY.TAX.NIND.CN</td>\n",
       "      <td>1.776000e+09</td>\n",
       "    </tr>\n",
       "    <tr>\n",
       "      <th>1974</th>\n",
       "      <td>Kenya</td>\n",
       "      <td>Net taxes on products (current LCU)</td>\n",
       "      <td>NY.TAX.NIND.CN</td>\n",
       "      <td>2.438000e+09</td>\n",
       "    </tr>\n",
       "    <tr>\n",
       "      <th>1975</th>\n",
       "      <td>Kenya</td>\n",
       "      <td>Net taxes on products (current LCU)</td>\n",
       "      <td>NY.TAX.NIND.CN</td>\n",
       "      <td>2.790000e+09</td>\n",
       "    </tr>\n",
       "    <tr>\n",
       "      <th>1976</th>\n",
       "      <td>Kenya</td>\n",
       "      <td>Net taxes on products (current LCU)</td>\n",
       "      <td>NY.TAX.NIND.CN</td>\n",
       "      <td>3.510000e+09</td>\n",
       "    </tr>\n",
       "  </tbody>\n",
       "</table>\n",
       "</div>"
      ],
      "text/plain": [
       "     Country Name                          Series Name     Series Code  \\\n",
       "year                                                                     \n",
       "1972        Kenya  Net taxes on products (current LCU)  NY.TAX.NIND.CN   \n",
       "1973        Kenya  Net taxes on products (current LCU)  NY.TAX.NIND.CN   \n",
       "1974        Kenya  Net taxes on products (current LCU)  NY.TAX.NIND.CN   \n",
       "1975        Kenya  Net taxes on products (current LCU)  NY.TAX.NIND.CN   \n",
       "1976        Kenya  Net taxes on products (current LCU)  NY.TAX.NIND.CN   \n",
       "\n",
       "             value  \n",
       "year                \n",
       "1972  1.276000e+09  \n",
       "1973  1.776000e+09  \n",
       "1974  2.438000e+09  \n",
       "1975  2.790000e+09  \n",
       "1976  3.510000e+09  "
      ]
     },
     "execution_count": 16,
     "metadata": {},
     "output_type": "execute_result"
    }
   ],
   "source": [
    "# plot again just to confirm that wide-to-long worked\n",
    "country = 'Kenya' # 'Poland'\n",
    "series = 'Net taxes on products (current LCU)'\n",
    "subtrain = train[(train['Country Name']==country) & (train['Series Name']==series)]\n",
    "subtrain = subtrain.set_index('year')\n",
    "subtrain.head()"
   ]
  },
  {
   "cell_type": "code",
   "execution_count": 17,
   "metadata": {},
   "outputs": [
    {
     "data": {
      "text/plain": [
       "year\n",
       "1972    1.276000e+09\n",
       "1973    1.776000e+09\n",
       "1974    2.438000e+09\n",
       "1975    2.790000e+09\n",
       "1976    3.510000e+09\n",
       "Name: value, dtype: float64"
      ]
     },
     "execution_count": 17,
     "metadata": {},
     "output_type": "execute_result"
    }
   ],
   "source": [
    "subtrain['value'].head()"
   ]
  },
  {
   "cell_type": "code",
   "execution_count": 18,
   "metadata": {},
   "outputs": [
    {
     "data": {
      "image/png": "[encoded data removed]",
      "text/plain": [
       "<Figure size 432x288 with 1 Axes>"
      ]
     },
     "metadata": {},
     "output_type": "display_data"
    }
   ],
   "source": [
    "plt.plot(subtrain['value'])\n",
    "plt.title(\"%s: %s\"%(country, series))\n",
    "plt.show()"
   ]
  },
  {
   "cell_type": "markdown",
   "metadata": {},
   "source": [
    "## group and backfill"
   ]
  },
  {
   "cell_type": "code",
   "execution_count": 19,
   "metadata": {},
   "outputs": [
    {
     "data": {
      "text/plain": [
       "(7034472, 5)"
      ]
     },
     "execution_count": 19,
     "metadata": {},
     "output_type": "execute_result"
    }
   ],
   "source": [
    "train.shape"
   ]
  },
  {
   "cell_type": "code",
   "execution_count": 20,
   "metadata": {},
   "outputs": [
    {
     "data": {
      "text/html": [
       "<div>\n",
       "<style scoped>\n",
       "    .dataframe tbody tr th:only-of-type {\n",
       "        vertical-align: middle;\n",
       "    }\n",
       "\n",
       "    .dataframe tbody tr th {\n",
       "        vertical-align: top;\n",
       "    }\n",
       "\n",
       "    .dataframe thead th {\n",
       "        text-align: right;\n",
       "    }\n",
       "</style>\n",
       "<table border=\"1\" class=\"dataframe\">\n",
       "  <thead>\n",
       "    <tr style=\"text-align: right;\">\n",
       "      <th></th>\n",
       "      <th>A</th>\n",
       "      <th>B</th>\n",
       "      <th>C</th>\n",
       "      <th>D</th>\n",
       "      <th>E</th>\n",
       "      <th>F</th>\n",
       "    </tr>\n",
       "  </thead>\n",
       "  <tbody>\n",
       "    <tr>\n",
       "      <th>0</th>\n",
       "      <td>NaN</td>\n",
       "      <td>2.0</td>\n",
       "      <td>NaN</td>\n",
       "      <td>0</td>\n",
       "      <td>2</td>\n",
       "      <td>2</td>\n",
       "    </tr>\n",
       "    <tr>\n",
       "      <th>1</th>\n",
       "      <td>3.0</td>\n",
       "      <td>4.0</td>\n",
       "      <td>NaN</td>\n",
       "      <td>1</td>\n",
       "      <td>1</td>\n",
       "      <td>2</td>\n",
       "    </tr>\n",
       "    <tr>\n",
       "      <th>2</th>\n",
       "      <td>NaN</td>\n",
       "      <td>4.0</td>\n",
       "      <td>NaN</td>\n",
       "      <td>5</td>\n",
       "      <td>1</td>\n",
       "      <td>3</td>\n",
       "    </tr>\n",
       "    <tr>\n",
       "      <th>3</th>\n",
       "      <td>NaN</td>\n",
       "      <td>3.0</td>\n",
       "      <td>NaN</td>\n",
       "      <td>4</td>\n",
       "      <td>1</td>\n",
       "      <td>4</td>\n",
       "    </tr>\n",
       "  </tbody>\n",
       "</table>\n",
       "</div>"
      ],
      "text/plain": [
       "     A    B   C  D  E  F\n",
       "0  NaN  2.0 NaN  0  2  2\n",
       "1  3.0  4.0 NaN  1  1  2\n",
       "2  NaN  4.0 NaN  5  1  3\n",
       "3  NaN  3.0 NaN  4  1  4"
      ]
     },
     "execution_count": 20,
     "metadata": {},
     "output_type": "execute_result"
    }
   ],
   "source": [
    "# test\n",
    "df = pd.DataFrame([[np.nan, 2, np.nan, 0, 2, 2],\n",
    "                   [3, 4, np.nan, 1, 1, 2],\n",
    "                   [np.nan, np.nan, np.nan, 5, 1, 3],\n",
    "                   [np.nan, 3, np.nan, 4, 1, 4],\n",
    "                  ],\n",
    "                  columns=list('ABCDEF'))\n",
    "df['B'] = df.sort_values('F', ascending=True).groupby(['E'])['B'].fillna(method='ffill')\n",
    "df"
   ]
  },
  {
   "cell_type": "code",
   "execution_count": 21,
   "metadata": {},
   "outputs": [
    {
     "data": {
      "text/plain": [
       "(7034472, 5)"
      ]
     },
     "execution_count": 21,
     "metadata": {},
     "output_type": "execute_result"
    }
   ],
   "source": [
    "train.shape"
   ]
  },
  {
   "cell_type": "code",
   "execution_count": 22,
   "metadata": {},
   "outputs": [
    {
     "name": "stdout",
     "output_type": "stream",
     "text": [
      "before: number of nan: 3320285\n"
     ]
    }
   ],
   "source": [
    "n_nan_before = pd.isnull(train['value']).sum()\n",
    "print('before: number of nan: %s'%n_nan_before)"
   ]
  },
  {
   "cell_type": "code",
   "execution_count": 23,
   "metadata": {},
   "outputs": [
    {
     "name": "stdout",
     "output_type": "stream",
     "text": [
      "Mon May 21 14:19:01 2018 start group\n",
      "Mon May 21 14:19:06 2018 end group\n"
     ]
    }
   ],
   "source": [
    "# around 15 seconds\n",
    "print(time.ctime(), 'start group')\n",
    "train2 = train.copy()\n",
    "train2 = train2.sort_values(['Country Name', 'Series Code', 'year'], ascending=True)\n",
    "t_group = train2.groupby(['Country Name', 'Series Code'])\n",
    "print(time.ctime(), 'end group')"
   ]
  },
  {
   "cell_type": "code",
   "execution_count": 24,
   "metadata": {},
   "outputs": [
    {
     "name": "stdout",
     "output_type": "stream",
     "text": [
      "Mon May 21 14:19:06 2018 start fill\n",
      "Mon May 21 14:19:52 2018 end fill\n"
     ]
    }
   ],
   "source": [
    "# around 1 minute\n",
    "print(time.ctime(), 'start fill')\n",
    "train2['value'] = t_group['value'].fillna(method='ffill')\n",
    "print(time.ctime(), 'end fill')"
   ]
  },
  {
   "cell_type": "code",
   "execution_count": 25,
   "metadata": {},
   "outputs": [
    {
     "name": "stdout",
     "output_type": "stream",
     "text": [
      "after: number of nan: 2789631\n"
     ]
    }
   ],
   "source": [
    "n_nan_after = pd.isnull(train2['value']).sum()\n",
    "print('after: number of nan: %s'%n_nan_after)"
   ]
  },
  {
   "cell_type": "markdown",
   "metadata": {},
   "source": [
    "## Fill remaining nan with bfill"
   ]
  },
  {
   "cell_type": "code",
   "execution_count": 26,
   "metadata": {},
   "outputs": [
    {
     "name": "stdout",
     "output_type": "stream",
     "text": [
      "Mon May 21 14:19:52 2018 start fill\n",
      "Mon May 21 14:20:38 2018 end fill\n",
      "after: number of nan: 0\n"
     ]
    }
   ],
   "source": [
    "# group again and backfill this time ... this is kind of cheating\n",
    "# ~ 1 minute\n",
    "print(time.ctime(), 'start fill')\n",
    "t_group = train2.groupby(['Country Name', 'Series Code'])\n",
    "train2['value'] = t_group['value'].fillna(method='bfill')\n",
    "print(time.ctime(), 'end fill')\n",
    "n_nan_after2 = pd.isnull(train2['value']).sum()\n",
    "print('after: number of nan: %s'%n_nan_after2)"
   ]
  },
  {
   "cell_type": "code",
   "execution_count": 27,
   "metadata": {},
   "outputs": [
    {
     "data": {
      "text/html": [
       "<div>\n",
       "<style scoped>\n",
       "    .dataframe tbody tr th:only-of-type {\n",
       "        vertical-align: middle;\n",
       "    }\n",
       "\n",
       "    .dataframe tbody tr th {\n",
       "        vertical-align: top;\n",
       "    }\n",
       "\n",
       "    .dataframe thead th {\n",
       "        text-align: right;\n",
       "    }\n",
       "</style>\n",
       "<table border=\"1\" class=\"dataframe\">\n",
       "  <thead>\n",
       "    <tr style=\"text-align: right;\">\n",
       "      <th></th>\n",
       "      <th>Unnamed: 0</th>\n",
       "      <th>year</th>\n",
       "      <th>Country Name</th>\n",
       "      <th>Series Name</th>\n",
       "      <th>Series Code</th>\n",
       "      <th>value</th>\n",
       "    </tr>\n",
       "  </thead>\n",
       "  <tbody>\n",
       "    <tr>\n",
       "      <th>0</th>\n",
       "      <td>16</td>\n",
       "      <td>1972</td>\n",
       "      <td>Afghanistan</td>\n",
       "      <td>Achieve universal primary education</td>\n",
       "      <td>2.1</td>\n",
       "      <td>0.267007</td>\n",
       "    </tr>\n",
       "    <tr>\n",
       "      <th>1</th>\n",
       "      <td>16</td>\n",
       "      <td>1973</td>\n",
       "      <td>Afghanistan</td>\n",
       "      <td>Achieve universal primary education</td>\n",
       "      <td>2.1</td>\n",
       "      <td>0.267007</td>\n",
       "    </tr>\n",
       "    <tr>\n",
       "      <th>2</th>\n",
       "      <td>16</td>\n",
       "      <td>1974</td>\n",
       "      <td>Afghanistan</td>\n",
       "      <td>Achieve universal primary education</td>\n",
       "      <td>2.1</td>\n",
       "      <td>0.267007</td>\n",
       "    </tr>\n",
       "    <tr>\n",
       "      <th>3</th>\n",
       "      <td>16</td>\n",
       "      <td>1975</td>\n",
       "      <td>Afghanistan</td>\n",
       "      <td>Achieve universal primary education</td>\n",
       "      <td>2.1</td>\n",
       "      <td>0.267007</td>\n",
       "    </tr>\n",
       "    <tr>\n",
       "      <th>4</th>\n",
       "      <td>16</td>\n",
       "      <td>1976</td>\n",
       "      <td>Afghanistan</td>\n",
       "      <td>Achieve universal primary education</td>\n",
       "      <td>2.1</td>\n",
       "      <td>0.267007</td>\n",
       "    </tr>\n",
       "  </tbody>\n",
       "</table>\n",
       "</div>"
      ],
      "text/plain": [
       "   Unnamed: 0  year Country Name                          Series Name  \\\n",
       "0          16  1972  Afghanistan  Achieve universal primary education   \n",
       "1          16  1973  Afghanistan  Achieve universal primary education   \n",
       "2          16  1974  Afghanistan  Achieve universal primary education   \n",
       "3          16  1975  Afghanistan  Achieve universal primary education   \n",
       "4          16  1976  Afghanistan  Achieve universal primary education   \n",
       "\n",
       "  Series Code     value  \n",
       "0         2.1  0.267007  \n",
       "1         2.1  0.267007  \n",
       "2         2.1  0.267007  \n",
       "3         2.1  0.267007  \n",
       "4         2.1  0.267007  "
      ]
     },
     "execution_count": 27,
     "metadata": {},
     "output_type": "execute_result"
    }
   ],
   "source": [
    "train2.reset_index().head()"
   ]
  },
  {
   "cell_type": "markdown",
   "metadata": {},
   "source": [
    "## pivot table\n",
    "\n",
    "- temporal dimension: year\n",
    "- spatial dimension: country/series pair\n",
    "\n",
    "This results in a transpose of the original dataframe"
   ]
  },
  {
   "cell_type": "code",
   "execution_count": 94,
   "metadata": {},
   "outputs": [
    {
     "data": {
      "text/html": [
       "<div>\n",
       "<style scoped>\n",
       "    .dataframe tbody tr th:only-of-type {\n",
       "        vertical-align: middle;\n",
       "    }\n",
       "\n",
       "    .dataframe tbody tr th {\n",
       "        vertical-align: top;\n",
       "    }\n",
       "\n",
       "    .dataframe thead th {\n",
       "        text-align: right;\n",
       "    }\n",
       "</style>\n",
       "<table border=\"1\" class=\"dataframe\">\n",
       "  <thead>\n",
       "    <tr style=\"text-align: right;\">\n",
       "      <th>Unnamed: 0</th>\n",
       "      <th>0</th>\n",
       "      <th>1</th>\n",
       "      <th>2</th>\n",
       "      <th>4</th>\n",
       "      <th>5</th>\n",
       "      <th>6</th>\n",
       "      <th>8</th>\n",
       "      <th>9</th>\n",
       "      <th>10</th>\n",
       "      <th>11</th>\n",
       "      <th>...</th>\n",
       "      <th>286107</th>\n",
       "      <th>286108</th>\n",
       "      <th>286109</th>\n",
       "      <th>286110</th>\n",
       "      <th>286112</th>\n",
       "      <th>286113</th>\n",
       "      <th>286114</th>\n",
       "      <th>286115</th>\n",
       "      <th>286116</th>\n",
       "      <th>286117</th>\n",
       "    </tr>\n",
       "    <tr>\n",
       "      <th>year</th>\n",
       "      <th></th>\n",
       "      <th></th>\n",
       "      <th></th>\n",
       "      <th></th>\n",
       "      <th></th>\n",
       "      <th></th>\n",
       "      <th></th>\n",
       "      <th></th>\n",
       "      <th></th>\n",
       "      <th></th>\n",
       "      <th></th>\n",
       "      <th></th>\n",
       "      <th></th>\n",
       "      <th></th>\n",
       "      <th></th>\n",
       "      <th></th>\n",
       "      <th></th>\n",
       "      <th></th>\n",
       "      <th></th>\n",
       "      <th></th>\n",
       "      <th></th>\n",
       "    </tr>\n",
       "  </thead>\n",
       "  <tbody>\n",
       "    <tr>\n",
       "      <th>1972</th>\n",
       "      <td>3.769214</td>\n",
       "      <td>7.027746</td>\n",
       "      <td>8.244887</td>\n",
       "      <td>12.933105</td>\n",
       "      <td>18.996814</td>\n",
       "      <td>22.423064</td>\n",
       "      <td>0.52056</td>\n",
       "      <td>14.963125</td>\n",
       "      <td>14.513759</td>\n",
       "      <td>0.0</td>\n",
       "      <td>...</td>\n",
       "      <td>25.18783</td>\n",
       "      <td>1.73152</td>\n",
       "      <td>4.806812</td>\n",
       "      <td>19.41161</td>\n",
       "      <td>31.7</td>\n",
       "      <td>12.0</td>\n",
       "      <td>27.8</td>\n",
       "      <td>31.2</td>\n",
       "      <td>22.3</td>\n",
       "      <td>54.5</td>\n",
       "    </tr>\n",
       "    <tr>\n",
       "      <th>1973</th>\n",
       "      <td>3.769214</td>\n",
       "      <td>7.027746</td>\n",
       "      <td>8.244887</td>\n",
       "      <td>12.933105</td>\n",
       "      <td>18.996814</td>\n",
       "      <td>22.423064</td>\n",
       "      <td>0.52056</td>\n",
       "      <td>14.963125</td>\n",
       "      <td>14.513759</td>\n",
       "      <td>0.0</td>\n",
       "      <td>...</td>\n",
       "      <td>25.18783</td>\n",
       "      <td>1.73152</td>\n",
       "      <td>4.806812</td>\n",
       "      <td>19.41161</td>\n",
       "      <td>31.7</td>\n",
       "      <td>12.0</td>\n",
       "      <td>27.8</td>\n",
       "      <td>31.2</td>\n",
       "      <td>22.3</td>\n",
       "      <td>54.5</td>\n",
       "    </tr>\n",
       "    <tr>\n",
       "      <th>1974</th>\n",
       "      <td>3.769214</td>\n",
       "      <td>7.027746</td>\n",
       "      <td>8.244887</td>\n",
       "      <td>12.933105</td>\n",
       "      <td>18.996814</td>\n",
       "      <td>22.423064</td>\n",
       "      <td>0.52056</td>\n",
       "      <td>14.963125</td>\n",
       "      <td>14.513759</td>\n",
       "      <td>0.0</td>\n",
       "      <td>...</td>\n",
       "      <td>25.18783</td>\n",
       "      <td>1.73152</td>\n",
       "      <td>4.806812</td>\n",
       "      <td>19.41161</td>\n",
       "      <td>31.7</td>\n",
       "      <td>12.0</td>\n",
       "      <td>27.8</td>\n",
       "      <td>31.2</td>\n",
       "      <td>22.3</td>\n",
       "      <td>54.5</td>\n",
       "    </tr>\n",
       "    <tr>\n",
       "      <th>1975</th>\n",
       "      <td>3.769214</td>\n",
       "      <td>7.027746</td>\n",
       "      <td>8.244887</td>\n",
       "      <td>12.933105</td>\n",
       "      <td>18.996814</td>\n",
       "      <td>22.423064</td>\n",
       "      <td>0.52056</td>\n",
       "      <td>14.963125</td>\n",
       "      <td>14.513759</td>\n",
       "      <td>0.0</td>\n",
       "      <td>...</td>\n",
       "      <td>25.18783</td>\n",
       "      <td>1.73152</td>\n",
       "      <td>4.806812</td>\n",
       "      <td>19.41161</td>\n",
       "      <td>31.7</td>\n",
       "      <td>12.0</td>\n",
       "      <td>27.8</td>\n",
       "      <td>31.2</td>\n",
       "      <td>22.3</td>\n",
       "      <td>54.5</td>\n",
       "    </tr>\n",
       "    <tr>\n",
       "      <th>1976</th>\n",
       "      <td>3.769214</td>\n",
       "      <td>7.027746</td>\n",
       "      <td>8.244887</td>\n",
       "      <td>12.933105</td>\n",
       "      <td>18.996814</td>\n",
       "      <td>22.423064</td>\n",
       "      <td>0.52056</td>\n",
       "      <td>14.963125</td>\n",
       "      <td>14.513759</td>\n",
       "      <td>0.0</td>\n",
       "      <td>...</td>\n",
       "      <td>25.18783</td>\n",
       "      <td>1.73152</td>\n",
       "      <td>4.806812</td>\n",
       "      <td>19.41161</td>\n",
       "      <td>31.7</td>\n",
       "      <td>12.0</td>\n",
       "      <td>27.8</td>\n",
       "      <td>31.2</td>\n",
       "      <td>22.3</td>\n",
       "      <td>54.5</td>\n",
       "    </tr>\n",
       "  </tbody>\n",
       "</table>\n",
       "<p>5 rows × 195402 columns</p>\n",
       "</div>"
      ],
      "text/plain": [
       "Unnamed: 0    0         1         2          4          5          6       \\\n",
       "year                                                                        \n",
       "1972        3.769214  7.027746  8.244887  12.933105  18.996814  22.423064   \n",
       "1973        3.769214  7.027746  8.244887  12.933105  18.996814  22.423064   \n",
       "1974        3.769214  7.027746  8.244887  12.933105  18.996814  22.423064   \n",
       "1975        3.769214  7.027746  8.244887  12.933105  18.996814  22.423064   \n",
       "1976        3.769214  7.027746  8.244887  12.933105  18.996814  22.423064   \n",
       "\n",
       "Unnamed: 0   8          9          10      11       ...      286107   286108  \\\n",
       "year                                                ...                        \n",
       "1972        0.52056  14.963125  14.513759     0.0   ...    25.18783  1.73152   \n",
       "1973        0.52056  14.963125  14.513759     0.0   ...    25.18783  1.73152   \n",
       "1974        0.52056  14.963125  14.513759     0.0   ...    25.18783  1.73152   \n",
       "1975        0.52056  14.963125  14.513759     0.0   ...    25.18783  1.73152   \n",
       "1976        0.52056  14.963125  14.513759     0.0   ...    25.18783  1.73152   \n",
       "\n",
       "Unnamed: 0    286109    286110  286112  286113  286114  286115  286116  286117  \n",
       "year                                                                            \n",
       "1972        4.806812  19.41161    31.7    12.0    27.8    31.2    22.3    54.5  \n",
       "1973        4.806812  19.41161    31.7    12.0    27.8    31.2    22.3    54.5  \n",
       "1974        4.806812  19.41161    31.7    12.0    27.8    31.2    22.3    54.5  \n",
       "1975        4.806812  19.41161    31.7    12.0    27.8    31.2    22.3    54.5  \n",
       "1976        4.806812  19.41161    31.7    12.0    27.8    31.2    22.3    54.5  \n",
       "\n",
       "[5 rows x 195402 columns]"
      ]
     },
     "execution_count": 94,
     "metadata": {},
     "output_type": "execute_result"
    }
   ],
   "source": [
    "train3 = train2.reset_index().pivot(index='year', columns='Unnamed: 0', values='value')\n",
    "train3.head()"
   ]
  },
  {
   "cell_type": "code",
   "execution_count": 29,
   "metadata": {},
   "outputs": [
    {
     "data": {
      "text/html": [
       "<div>\n",
       "<style scoped>\n",
       "    .dataframe tbody tr th:only-of-type {\n",
       "        vertical-align: middle;\n",
       "    }\n",
       "\n",
       "    .dataframe tbody tr th {\n",
       "        vertical-align: top;\n",
       "    }\n",
       "\n",
       "    .dataframe thead th {\n",
       "        text-align: right;\n",
       "    }\n",
       "</style>\n",
       "<table border=\"1\" class=\"dataframe\">\n",
       "  <thead>\n",
       "    <tr style=\"text-align: right;\">\n",
       "      <th>Unnamed: 0</th>\n",
       "      <th>16</th>\n",
       "      <th>559</th>\n",
       "    </tr>\n",
       "    <tr>\n",
       "      <th>year</th>\n",
       "      <th></th>\n",
       "      <th></th>\n",
       "    </tr>\n",
       "  </thead>\n",
       "  <tbody>\n",
       "    <tr>\n",
       "      <th>2003</th>\n",
       "      <td>0.279609</td>\n",
       "      <td>0.325</td>\n",
       "    </tr>\n",
       "    <tr>\n",
       "      <th>2004</th>\n",
       "      <td>0.279609</td>\n",
       "      <td>0.360</td>\n",
       "    </tr>\n",
       "    <tr>\n",
       "      <th>2005</th>\n",
       "      <td>0.279609</td>\n",
       "      <td>0.395</td>\n",
       "    </tr>\n",
       "    <tr>\n",
       "      <th>2006</th>\n",
       "      <td>0.279609</td>\n",
       "      <td>0.430</td>\n",
       "    </tr>\n",
       "    <tr>\n",
       "      <th>2007</th>\n",
       "      <td>0.279609</td>\n",
       "      <td>0.465</td>\n",
       "    </tr>\n",
       "  </tbody>\n",
       "</table>\n",
       "</div>"
      ],
      "text/plain": [
       "Unnamed: 0       16     559\n",
       "year                       \n",
       "2003        0.279609  0.325\n",
       "2004        0.279609  0.360\n",
       "2005        0.279609  0.395\n",
       "2006        0.279609  0.430\n",
       "2007        0.279609  0.465"
      ]
     },
     "execution_count": 29,
     "metadata": {},
     "output_type": "execute_result"
    }
   ],
   "source": [
    "train3[[16,559]].tail()"
   ]
  },
  {
   "cell_type": "code",
   "execution_count": 30,
   "metadata": {},
   "outputs": [
    {
     "data": {
      "text/plain": [
       "(36, 195402)"
      ]
     },
     "execution_count": 30,
     "metadata": {},
     "output_type": "execute_result"
    }
   ],
   "source": [
    "train3.shape"
   ]
  },
  {
   "cell_type": "code",
   "execution_count": 42,
   "metadata": {},
   "outputs": [
    {
     "data": {
      "text/plain": [
       "0"
      ]
     },
     "execution_count": 42,
     "metadata": {},
     "output_type": "execute_result"
    }
   ],
   "source": [
    "pd.isnull(train3[submit_inds]).sum(axis=0).max()"
   ]
  },
  {
   "cell_type": "markdown",
   "metadata": {},
   "source": [
    "## use RF feature importances from 0.5/0.6"
   ]
  },
  {
   "cell_type": "raw",
   "metadata": {},
   "source": [
    "df_feat_imp = pd.read_pickle('data/interim/rf_feature_importances.pkl')\n",
    "df_feat_imp.head(n=5)"
   ]
  },
  {
   "cell_type": "raw",
   "metadata": {},
   "source": [
    "sub_feats = set(train2[train2['Series Code'].isin(df_feat_imp['feat'].head(n=5))].index)\n",
    "print(train3.shape)\n",
    "train3 = train3[list(sub_feats)]\n",
    "print(train3.shape)"
   ]
  },
  {
   "cell_type": "markdown",
   "metadata": {},
   "source": [
    "## multi-variate AR"
   ]
  },
  {
   "cell_type": "code",
   "execution_count": 132,
   "metadata": {},
   "outputs": [
    {
     "data": {
      "text/plain": [
       "((33, 2212), (33, 737))"
      ]
     },
     "execution_count": 132,
     "metadata": {},
     "output_type": "execute_result"
    }
   ],
   "source": [
    "from sklearn import datasets, linear_model\n",
    "from sklearn.metrics import mean_squared_error, r2_score\n",
    "# from sklearn.feature_selection import SelectKBest, f_regression\n",
    "# from sklearn.decomposition import PCA\n",
    "\n",
    "# Method 1: target is a single country/series pair, features are all else\n",
    "# diabetes_X = diabetes_0[list(set(diabetes_0.columns) - set([index]))].values\n",
    "# diabetes_y = train3[index].values\n",
    "\n",
    "# Method 2: features are lagged data (drop 1st row since cannot predict)\n",
    "diabetes_X = []\n",
    "n_shift = 3\n",
    "for i in range(n_shift):\n",
    "    diabetes_X.append(train3[submit_inds].shift(i+1))\n",
    "\n",
    "diabetes_X.append(train3.reset_index()[['year']])\n",
    "diabetes_X = np.concatenate(diabetes_X, axis=1)\n",
    "diabetes_y = train3[submit_inds]\n",
    "\n",
    "# to avoid multi-colinearity, reduce features\n",
    "\n",
    "# Method 1: select top n features\n",
    "# http://scikit-learn.org/stable/auto_examples/plot_compare_reduction.html#sphx-glr-auto-examples-plot-compare-reduction-py\n",
    "# This beats the performance of the PCA\n",
    "# mdl = SelectKBest(f_regression, k=40) # 20 and 40 are good\n",
    "# diabetes_X = mdl.fit_transform(diabetes_X, diabetes_y)\n",
    "\n",
    "# Method 2: PCA to reduce features\n",
    "# # mdl = PCA(n_components='mle') # TODO report bug\n",
    "# # mdl = PCA(n_components='mle', svd_solver = 'full') # mle not supported for n_samples < n_features\n",
    "# mdl = PCA(n_components=20, svd_solver = 'full') # 20 is too small resulting in too large error\n",
    "# diabetes_X = mdl.fit_transform(diabetes_X)\n",
    "\n",
    "\n",
    "diabetes_X = diabetes_X[n_shift:]\n",
    "diabetes_y = diabetes_y[n_shift:]\n",
    "\n",
    "diabetes_X.shape, diabetes_y.shape"
   ]
  },
  {
   "cell_type": "code",
   "execution_count": 133,
   "metadata": {},
   "outputs": [],
   "source": [
    "# Split the data into training/testing sets\n",
    "n_test = 0 # FIXME: 0 2"
   ]
  },
  {
   "cell_type": "code",
   "execution_count": 134,
   "metadata": {},
   "outputs": [
    {
     "name": "stdout",
     "output_type": "stream",
     "text": [
      "fit (33, 2212) (33, 737)\n"
     ]
    }
   ],
   "source": [
    "if n_test > 0:\n",
    "    diabetes_X_train = diabetes_X[:-1*n_test]\n",
    "    diabetes_X_test = diabetes_X[-1*n_test:]\n",
    "else:\n",
    "    diabetes_X_train = diabetes_X\n",
    "\n",
    "# Split the targets into training/testing sets\n",
    "if n_test > 0:\n",
    "    diabetes_y_train = diabetes_y[:-1*n_test]\n",
    "    diabetes_y_test = diabetes_y[-1*n_test:]\n",
    "else:\n",
    "    diabetes_y_train = diabetes_y\n",
    "\n",
    "# Create linear regression object\n",
    "regr = linear_model.LinearRegression()\n",
    "\n",
    "# Train the model using the training sets\n",
    "print('fit', diabetes_X_train.shape, diabetes_y_train.shape)\n",
    "regr.fit(diabetes_X_train, diabetes_y_train)\n",
    "\n",
    "# Make predictions using the testing set\n",
    "if n_test > 0:\n",
    "    diabetes_y_pred = regr.predict(diabetes_X_test)\n",
    "\n",
    "    pred_r2 = r2_score(diabetes_y_test, diabetes_y_pred)\n",
    "\n",
    "    # The coefficients\n",
    "    print('Coefficients: \\n', regr.coef_)\n",
    "    # The mean squared error\n",
    "    print(\"Mean squared error: %.2f\"\n",
    "          % mean_squared_error(diabetes_y_test, diabetes_y_pred))\n",
    "    # Explained variance score: 1 is perfect prediction\n",
    "    print('Variance score: %.2f' % pred_r2)\n",
    "    \n",
    "    #if pred_r2 > 1 or pred_r2 < -1.1:\n",
    "    #    raise ValueError(\"prediction r2 on %s = %.2f > 1 or < 0. Aborting\"%(index, pred_r2))"
   ]
  },
  {
   "cell_type": "markdown",
   "metadata": {},
   "source": [
    "## predict"
   ]
  },
  {
   "cell_type": "code",
   "execution_count": 135,
   "metadata": {},
   "outputs": [
    {
     "data": {
      "text/plain": [
       "('2008 [YR2008]', '2012 [YR2012]')"
      ]
     },
     "execution_count": 135,
     "metadata": {},
     "output_type": "execute_result"
    }
   ],
   "source": [
    "def year2col(x):\n",
    "    return \"%.0f [YR%.0f]\"%(x, x)\n",
    "\n",
    "year2col(2008), year2col(2012)"
   ]
  },
  {
   "cell_type": "code",
   "execution_count": 138,
   "metadata": {},
   "outputs": [
    {
     "data": {
      "text/html": [
       "<div>\n",
       "<style scoped>\n",
       "    .dataframe tbody tr th:only-of-type {\n",
       "        vertical-align: middle;\n",
       "    }\n",
       "\n",
       "    .dataframe tbody tr th {\n",
       "        vertical-align: top;\n",
       "    }\n",
       "\n",
       "    .dataframe thead th {\n",
       "        text-align: right;\n",
       "    }\n",
       "</style>\n",
       "<table border=\"1\" class=\"dataframe\">\n",
       "  <thead>\n",
       "    <tr style=\"text-align: right;\">\n",
       "      <th></th>\n",
       "      <th>2008 [YR2008]</th>\n",
       "      <th>2012 [YR2012]</th>\n",
       "      <th>2005 [YR2005]</th>\n",
       "      <th>2006 [YR2006]</th>\n",
       "      <th>2007 [YR2007]</th>\n",
       "      <th>2009 [YR2009]</th>\n",
       "      <th>2010 [YR2010]</th>\n",
       "      <th>2011 [YR2011]</th>\n",
       "    </tr>\n",
       "    <tr>\n",
       "      <th>Unnamed: 0</th>\n",
       "      <th></th>\n",
       "      <th></th>\n",
       "      <th></th>\n",
       "      <th></th>\n",
       "      <th></th>\n",
       "      <th></th>\n",
       "      <th></th>\n",
       "      <th></th>\n",
       "    </tr>\n",
       "  </thead>\n",
       "  <tbody>\n",
       "    <tr>\n",
       "      <th>559</th>\n",
       "      <td>NaN</td>\n",
       "      <td>NaN</td>\n",
       "      <td>0.395000</td>\n",
       "      <td>0.430000</td>\n",
       "      <td>0.4650</td>\n",
       "      <td>NaN</td>\n",
       "      <td>NaN</td>\n",
       "      <td>NaN</td>\n",
       "    </tr>\n",
       "    <tr>\n",
       "      <th>618</th>\n",
       "      <td>NaN</td>\n",
       "      <td>NaN</td>\n",
       "      <td>0.012241</td>\n",
       "      <td>0.021071</td>\n",
       "      <td>0.0190</td>\n",
       "      <td>NaN</td>\n",
       "      <td>NaN</td>\n",
       "      <td>NaN</td>\n",
       "    </tr>\n",
       "    <tr>\n",
       "      <th>753</th>\n",
       "      <td>NaN</td>\n",
       "      <td>NaN</td>\n",
       "      <td>0.117700</td>\n",
       "      <td>0.114500</td>\n",
       "      <td>0.1115</td>\n",
       "      <td>NaN</td>\n",
       "      <td>NaN</td>\n",
       "      <td>NaN</td>\n",
       "    </tr>\n",
       "    <tr>\n",
       "      <th>1030</th>\n",
       "      <td>NaN</td>\n",
       "      <td>NaN</td>\n",
       "      <td>0.001000</td>\n",
       "      <td>0.001000</td>\n",
       "      <td>0.0010</td>\n",
       "      <td>NaN</td>\n",
       "      <td>NaN</td>\n",
       "      <td>NaN</td>\n",
       "    </tr>\n",
       "    <tr>\n",
       "      <th>1896</th>\n",
       "      <td>NaN</td>\n",
       "      <td>NaN</td>\n",
       "      <td>0.962000</td>\n",
       "      <td>0.962000</td>\n",
       "      <td>0.9610</td>\n",
       "      <td>NaN</td>\n",
       "      <td>NaN</td>\n",
       "      <td>NaN</td>\n",
       "    </tr>\n",
       "  </tbody>\n",
       "</table>\n",
       "</div>"
      ],
      "text/plain": [
       "            2008 [YR2008]  2012 [YR2012]  2005 [YR2005]  2006 [YR2006]  \\\n",
       "Unnamed: 0                                                               \n",
       "559                   NaN            NaN       0.395000       0.430000   \n",
       "618                   NaN            NaN       0.012241       0.021071   \n",
       "753                   NaN            NaN       0.117700       0.114500   \n",
       "1030                  NaN            NaN       0.001000       0.001000   \n",
       "1896                  NaN            NaN       0.962000       0.962000   \n",
       "\n",
       "            2007 [YR2007]  2009 [YR2009]  2010 [YR2010]  2011 [YR2011]  \n",
       "Unnamed: 0                                                              \n",
       "559                0.4650            NaN            NaN            NaN  \n",
       "618                0.0190            NaN            NaN            NaN  \n",
       "753                0.1115            NaN            NaN            NaN  \n",
       "1030               0.0010            NaN            NaN            NaN  \n",
       "1896               0.9610            NaN            NaN            NaN  "
      ]
     },
     "execution_count": 138,
     "metadata": {},
     "output_type": "execute_result"
    }
   ],
   "source": [
    "df_submit2 = df_submit.copy()\n",
    "\n",
    "df_submit2[year2col(2005)] = train3.loc[2005, df_submit2.index].transpose()\n",
    "df_submit2[year2col(2006)] = train3.loc[2006, df_submit2.index].transpose()\n",
    "df_submit2[year2col(2007)] = train3.loc[2007, df_submit2.index].transpose()\n",
    "\n",
    "# df_submit2[year2col(2008)] = np.nan\n",
    "df_submit2[year2col(2009)] = np.nan\n",
    "df_submit2[year2col(2010)] = np.nan\n",
    "df_submit2[year2col(2011)] = np.nan\n",
    "# df_submit2[year2col(2012)] = np.nan\n",
    "\n",
    "df_submit2.head()"
   ]
  },
  {
   "cell_type": "code",
   "execution_count": 139,
   "metadata": {
    "scrolled": false
   },
   "outputs": [
    {
     "name": "stdout",
     "output_type": "stream",
     "text": [
      "Unnamed: 0  year\n",
      "35          2008\n",
      "Unnamed: 0  year\n",
      "35          2009\n",
      "Unnamed: 0  year\n",
      "35          2010\n",
      "Unnamed: 0  year\n",
      "35          2011\n",
      "Unnamed: 0  year\n",
      "35          2012\n"
     ]
    },
    {
     "data": {
      "image/png": "[encoded data removed]",
      "text/plain": [
       "<Figure size 432x288 with 1 Axes>"
      ]
     },
     "metadata": {},
     "output_type": "display_data"
    },
    {
     "data": {
      "image/png": "[encoded data removed]",
      "text/plain": [
       "<Figure size 432x288 with 1 Axes>"
      ]
     },
     "metadata": {},
     "output_type": "display_data"
    },
    {
     "data": {
      "image/png": "[encoded data removed]",
      "text/plain": [
       "<Figure size 432x288 with 1 Axes>"
      ]
     },
     "metadata": {},
     "output_type": "display_data"
    },
    {
     "data": {
      "image/png": "[encoded data removed]",
      "text/plain": [
       "<Figure size 432x288 with 1 Axes>"
      ]
     },
     "metadata": {},
     "output_type": "display_data"
    },
    {
     "data": {
      "image/png": "[encoded data removed]",
      "text/plain": [
       "<Figure size 432x288 with 1 Axes>"
      ]
     },
     "metadata": {},
     "output_type": "display_data"
    },
    {
     "data": {
      "image/png": "[encoded data removed]",
      "text/plain": [
       "<Figure size 432x288 with 1 Axes>"
      ]
     },
     "metadata": {},
     "output_type": "display_data"
    },
    {
     "data": {
      "image/png": "[encoded data removed]",
      "text/plain": [
       "<Figure size 432x288 with 1 Axes>"
      ]
     },
     "metadata": {},
     "output_type": "display_data"
    },
    {
     "data": {
      "image/png": "[encoded data removed]",
      "text/plain": [
       "<Figure size 432x288 with 1 Axes>"
      ]
     },
     "metadata": {},
     "output_type": "display_data"
    },
    {
     "data": {
      "image/png": "[encoded data removed]",
      "text/plain": [
       "<Figure size 432x288 with 1 Axes>"
      ]
     },
     "metadata": {},
     "output_type": "display_data"
    },
    {
     "data": {
      "image/png": "[encoded data removed]",
      "text/plain": [
       "<Figure size 432x288 with 1 Axes>"
      ]
     },
     "metadata": {},
     "output_type": "display_data"
    }
   ],
   "source": [
    "for i_pred2 in range(5):\n",
    "    diabetes_y_pred23 = train3.reset_index()[['year']][-1:]+1+i_pred2\n",
    "    print(diabetes_y_pred23)\n",
    "\n",
    "    # FIXME original had year2-1+i_pred2 ... now doing year2+1+i_pred2\n",
    "    # diabetes_y_pred2 = np.concatenate([diabetes_y_pred2, year2-1+i_pred2], axis=1)\n",
    "    ## diabetes_y_pred20 = np.concatenate([diabetes_y_pred21, diabetes_y_pred22, diabetes_y_pred23], axis=1)\n",
    "    diabetes_y_pred20 = [df_submit2[year2col(2008+i_pred2-j-1)].transpose().values.reshape((1,-1)) for j in range(n_shift)]\n",
    "    diabetes_y_pred20 += [diabetes_y_pred23]\n",
    "    diabetes_y_pred20 = np.concatenate(diabetes_y_pred20, axis=1)\n",
    "    diabetes_y_pred21 = regr.predict(diabetes_y_pred20)\n",
    "    df_submit2.loc[:,year2col(diabetes_y_pred23.values[0])] = diabetes_y_pred21.transpose()\n",
    "\n",
    "\n",
    "for index in submit_inds[:10]: #[559, 618]:\n",
    "    # print(train3.index[1:][:-1*n_test].shape, diabetes_y_train.shape, diabetes_y_train[:,submit_inds.index(index)].squeeze().shape)\n",
    "    \n",
    "    # Plot outputs\n",
    "    plt.scatter(train3.index[n_shift:], diabetes_y[index].squeeze(), color='black')\n",
    "        \n",
    "    # print(year2)\n",
    "    for i_pred2 in range(5):\n",
    "        plt.scatter(2007+1+i_pred2, df_submit2.loc[index, year2col(2007+1+i_pred2)].squeeze(), color='orange', alpha=0.5)\n",
    "\n",
    "    plt.title(index)\n",
    "    plt.show()"
   ]
  },
  {
   "cell_type": "code",
   "execution_count": 140,
   "metadata": {},
   "outputs": [
    {
     "data": {
      "text/html": [
       "<div>\n",
       "<style scoped>\n",
       "    .dataframe tbody tr th:only-of-type {\n",
       "        vertical-align: middle;\n",
       "    }\n",
       "\n",
       "    .dataframe tbody tr th {\n",
       "        vertical-align: top;\n",
       "    }\n",
       "\n",
       "    .dataframe thead th {\n",
       "        text-align: right;\n",
       "    }\n",
       "</style>\n",
       "<table border=\"1\" class=\"dataframe\">\n",
       "  <thead>\n",
       "    <tr style=\"text-align: right;\">\n",
       "      <th></th>\n",
       "      <th>2008 [YR2008]</th>\n",
       "      <th>2012 [YR2012]</th>\n",
       "      <th>2005 [YR2005]</th>\n",
       "      <th>2006 [YR2006]</th>\n",
       "      <th>2007 [YR2007]</th>\n",
       "      <th>2009 [YR2009]</th>\n",
       "      <th>2010 [YR2010]</th>\n",
       "      <th>2011 [YR2011]</th>\n",
       "    </tr>\n",
       "    <tr>\n",
       "      <th>Unnamed: 0</th>\n",
       "      <th></th>\n",
       "      <th></th>\n",
       "      <th></th>\n",
       "      <th></th>\n",
       "      <th></th>\n",
       "      <th></th>\n",
       "      <th></th>\n",
       "      <th></th>\n",
       "    </tr>\n",
       "  </thead>\n",
       "  <tbody>\n",
       "    <tr>\n",
       "      <th>559</th>\n",
       "      <td>0.491784</td>\n",
       "      <td>0.585715</td>\n",
       "      <td>0.395000</td>\n",
       "      <td>0.430000</td>\n",
       "      <td>0.4650</td>\n",
       "      <td>0.518896</td>\n",
       "      <td>0.544683</td>\n",
       "      <td>0.569177</td>\n",
       "    </tr>\n",
       "    <tr>\n",
       "      <th>618</th>\n",
       "      <td>0.021078</td>\n",
       "      <td>0.028353</td>\n",
       "      <td>0.012241</td>\n",
       "      <td>0.021071</td>\n",
       "      <td>0.0190</td>\n",
       "      <td>0.022892</td>\n",
       "      <td>0.024657</td>\n",
       "      <td>0.026461</td>\n",
       "    </tr>\n",
       "    <tr>\n",
       "      <th>753</th>\n",
       "      <td>0.107793</td>\n",
       "      <td>0.091867</td>\n",
       "      <td>0.117700</td>\n",
       "      <td>0.114500</td>\n",
       "      <td>0.1115</td>\n",
       "      <td>0.103898</td>\n",
       "      <td>0.100086</td>\n",
       "      <td>0.096137</td>\n",
       "    </tr>\n",
       "    <tr>\n",
       "      <th>1030</th>\n",
       "      <td>0.001000</td>\n",
       "      <td>0.001008</td>\n",
       "      <td>0.001000</td>\n",
       "      <td>0.001000</td>\n",
       "      <td>0.0010</td>\n",
       "      <td>0.001001</td>\n",
       "      <td>0.001003</td>\n",
       "      <td>0.001006</td>\n",
       "    </tr>\n",
       "    <tr>\n",
       "      <th>1896</th>\n",
       "      <td>0.960465</td>\n",
       "      <td>0.957823</td>\n",
       "      <td>0.962000</td>\n",
       "      <td>0.962000</td>\n",
       "      <td>0.9610</td>\n",
       "      <td>0.959936</td>\n",
       "      <td>0.959229</td>\n",
       "      <td>0.958663</td>\n",
       "    </tr>\n",
       "  </tbody>\n",
       "</table>\n",
       "</div>"
      ],
      "text/plain": [
       "            2008 [YR2008]  2012 [YR2012]  2005 [YR2005]  2006 [YR2006]  \\\n",
       "Unnamed: 0                                                               \n",
       "559              0.491784       0.585715       0.395000       0.430000   \n",
       "618              0.021078       0.028353       0.012241       0.021071   \n",
       "753              0.107793       0.091867       0.117700       0.114500   \n",
       "1030             0.001000       0.001008       0.001000       0.001000   \n",
       "1896             0.960465       0.957823       0.962000       0.962000   \n",
       "\n",
       "            2007 [YR2007]  2009 [YR2009]  2010 [YR2010]  2011 [YR2011]  \n",
       "Unnamed: 0                                                              \n",
       "559                0.4650       0.518896       0.544683       0.569177  \n",
       "618                0.0190       0.022892       0.024657       0.026461  \n",
       "753                0.1115       0.103898       0.100086       0.096137  \n",
       "1030               0.0010       0.001001       0.001003       0.001006  \n",
       "1896               0.9610       0.959936       0.959229       0.958663  "
      ]
     },
     "execution_count": 140,
     "metadata": {},
     "output_type": "execute_result"
    }
   ],
   "source": [
    "df_submit2.head()"
   ]
  },
  {
   "cell_type": "markdown",
   "metadata": {},
   "source": [
    "## prepare submission file"
   ]
  },
  {
   "cell_type": "code",
   "execution_count": 141,
   "metadata": {},
   "outputs": [
    {
     "data": {
      "text/plain": [
       "('../data/interim/submission_20180521_151500.csv',\n",
       " '../data/interim/submission_20180521_151500.csv.zip')"
      ]
     },
     "execution_count": 141,
     "metadata": {},
     "output_type": "execute_result"
    }
   ],
   "source": [
    "df_submit3 = df_submit2[['2008 [YR2008]', '2012 [YR2012]']].copy()\n",
    "df_submit3 = df_submit3.fillna(value=0)\n",
    "df_submit3 = df_submit3.reset_index()[['Unnamed: 0', '2008 [YR2008]', '2012 [YR2012]']]\n",
    "df_submit3.rename(columns={'Unnamed: 0': ''}, inplace=True)\n",
    "fn1, fn2 = make_submission(df_submit3)\n",
    "fn1, fn2"
   ]
  }
 ],
 "metadata": {
  "kernelspec": {
   "display_name": "Python 3",
   "language": "python",
   "name": "python3"
  },
  "language_info": {
   "codemirror_mode": {
    "name": "ipython",
    "version": 3
   },
   "file_extension": ".py",
   "mimetype": "text/x-python",
   "name": "python",
   "nbconvert_exporter": "python",
   "pygments_lexer": "ipython3",
   "version": "3.5.2"
  }
 },
 "nbformat": 4,
 "nbformat_minor": 2
}
