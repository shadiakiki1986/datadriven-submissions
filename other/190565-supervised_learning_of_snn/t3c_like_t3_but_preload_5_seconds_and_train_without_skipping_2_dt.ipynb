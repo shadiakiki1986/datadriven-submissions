{
  "nbformat": 4,
  "nbformat_minor": 0,
  "metadata": {
    "colab": {
      "name": "t3c like t3 but preload 5 seconds and train without skipping 2 dt.ipynb",
      "version": "0.3.2",
      "provenance": [],
      "collapsed_sections": [],
      "toc_visible": true,
      "include_colab_link": true
    },
    "kernelspec": {
      "name": "python3",
      "display_name": "Python 3"
    },
    "accelerator": "GPU"
  },
  "cells": [
    {
      "cell_type": "markdown",
      "metadata": {
        "id": "view-in-github",
        "colab_type": "text"
      },
      "source": [
        "<a href=\"https://colab.research.google.com/github/shadiakiki1986/ml-competitions/blob/master/replicated_papers/190565-supervised_learning_of_snn/t3c_like_t3_but_preload_5_seconds_and_train_without_skipping_2_dt.ipynb\" target=\"_parent\"><img src=\"https://colab.research.google.com/assets/colab-badge.svg\" alt=\"Open In Colab\"/></a>"
      ]
    },
    {
      "metadata": {
        "id": "Pmg9jv3u7PJn",
        "colab_type": "text"
      },
      "cell_type": "markdown",
      "source": [
        "Replicate Figure <strike>1</strike> 2 of Supervised learning in spiking neural networks with FORCE training\n",
        "https://www.nature.com/articles/s41467-017-01827-3\n",
        "\n",
        "Copy from tensorflow implementation of SNN and <strike>modify for the rate equations provided in the paper</strike> from the open-source code of the paper (github + ModelDB)\n",
        "\n",
        "Note that https://www.tensorflow.org/tutorials/non-ml/pdes has a good example on how to use tensorflow for PDEs\n",
        "\n",
        "Based on https://github.com/ModelDBRepository/190565/blob/master/CODE%20FOR%20FIGURE%202/THETAFORCESINE.m\n",
        "\n",
        "Note: In t3b, after pre-loading the 5-seconds without input, I accidentally skipped 2 dt steps in the simulation. This may have been the reason for the blow up in the initial neuronal spiking after 5 seconds. This notebook aims at re-running the training, but without this mistake, to see if this is what's responsible for the jump in spiking"
      ]
    },
    {
      "metadata": {
        "id": "WWfG8LBfrqUr",
        "colab_type": "code",
        "outputId": "3345fc8b-229c-4d91-86ab-685bb581ee08",
        "colab": {
          "base_uri": "https://localhost:8080/",
          "height": 35
        }
      },
      "cell_type": "code",
      "source": [
        "#!rm -rf t3_after_5sec_no_input\n",
        "!tar -xzf /content/t3_after_5sec_no_input.tgz && ls"
      ],
      "execution_count": 1,
      "outputs": [
        {
          "output_type": "stream",
          "text": [
            "sample_data  t3_after_5sec_no_input  t3_after_5sec_no_input.tgz\n"
          ],
          "name": "stdout"
        }
      ]
    },
    {
      "metadata": {
        "id": "8OkXr7-pd0LG",
        "colab_type": "code",
        "colab": {}
      },
      "cell_type": "code",
      "source": [
        "import numpy as np\n",
        "import tensorflow as tf\n",
        "import matplotlib.pyplot as plt\n",
        "from mpl_toolkits.mplot3d import Axes3D\n",
        "import math\n",
        "%matplotlib inline\n"
      ],
      "execution_count": 0,
      "outputs": []
    },
    {
      "metadata": {
        "id": "Il5x4Xzt7VZN",
        "colab_type": "code",
        "colab": {}
      },
      "cell_type": "code",
      "source": [
        "\n",
        "## Model parameters\n",
        "#dt = .01 # 0.00001 # time step\n",
        "dt = 10e-6 # 0.00001 # time step # 0.01 will unstabilize the simulation upon \"current\" input\n",
        "N = 2000 # network size\n",
        "td = 0.02 # decay time\n",
        "tr = .002 # rise time\n",
        "\n",
        "T = 15e5*dt #15\n",
        "tmin = 5e5*dt #5\n",
        "tcrit = 10e5*dt # 10\n",
        "tx = np.arange(dt, T, dt)\n",
        "G = 10\n",
        "Q = 10000\n",
        "\n",
        "#%% Compute Neuronal Intercepts and Tuning Curves \n",
        "initial = 0\n",
        "p = 0.1 # ; %Sparse Coupling \n",
        "\n",
        "\n",
        "vpeak = math.pi#; %peak and reset\n",
        "vreset = -math.pi#;\n",
        "\n",
        "j = 1;\n",
        "ns = 0;\n",
        "SD = 0;\n",
        "rls_step = 50#; %Sets the frequency of RLS  \n",
        "\n",
        "#list(range(len(tx)))[-1]"
      ],
      "execution_count": 0,
      "outputs": []
    },
    {
      "metadata": {
        "id": "5Ji5kazW3cWl",
        "colab_type": "code",
        "outputId": "20c56417-3b64-4803-adc7-c7fbaadad217",
        "colab": {
          "base_uri": "https://localhost:8080/",
          "height": 298
        }
      },
      "cell_type": "code",
      "source": [
        "\n",
        "# input\n",
        "xz = np.sin(2*tx*math.pi*5).reshape(-1,1) # input\n",
        "xz[(tx<tmin) | (tx>tcrit),0]=0\n",
        "m = 1 # xz.shape.min() # dimensionality of teacher \n",
        "\n",
        "plt.plot(tx, xz)\n",
        "plt.title(\"input (teacher)\")\n",
        "\n",
        "print(\"input shape\", xz.shape)"
      ],
      "execution_count": 4,
      "outputs": [
        {
          "output_type": "stream",
          "text": [
            "input shape (1499999, 1)\n"
          ],
          "name": "stdout"
        },
        {
          "output_type": "display_data",
          "data": {
            "image/png": "[encoded data removed]",
            "text/plain": [
              "<Figure size 432x288 with 1 Axes>"
            ]
          },
          "metadata": {
            "tags": []
          }
        }
      ]
    },
    {
      "metadata": {
        "id": "DjRl33_vNbNv",
        "colab_type": "code",
        "outputId": "05e98a85-ae84-4228-c7bc-aac28fe591b9",
        "colab": {
          "base_uri": "https://localhost:8080/",
          "height": 35
        }
      },
      "cell_type": "code",
      "source": [
        "# initializers for the graph variables or constants\n",
        "v_init = vreset + (vpeak-vreset)*np.random.uniform(size=(N,1))#; %initialze voltage as per original paper\n",
        "# v_init = np.ones([N, 1]) * -70.0  # jotia1 uses -70mV starting condition\n",
        "# v_init = v_init / 10 # reduce the v_init to avoid having to wait 5 seconds for the network to cool down FIXME\n",
        "\n",
        "OMEGA_init = G*np.random.normal(size=(N,N))\n",
        "OMEGA_init = np.multiply(np.random.uniform(N,N)<p, OMEGA_init) # keep only uniform random selection of values with probability p\n",
        "OMEGA_init = OMEGA_init/(math.sqrt(N)*p)\n",
        "OMEGA_init  = OMEGA_init - OMEGA_init.mean(axis=1).reshape(-1,1).repeat(OMEGA_init.shape[1], axis=1)\n",
        "\n",
        "v_init.shape, OMEGA_init.shape"
      ],
      "execution_count": 5,
      "outputs": [
        {
          "output_type": "execute_result",
          "data": {
            "text/plain": [
              "((2000, 1), (2000, 2000))"
            ]
          },
          "metadata": {
            "tags": []
          },
          "execution_count": 5
        }
      ]
    },
    {
      "metadata": {
        "id": "_4A6gLOwHEbh",
        "colab_type": "code",
        "outputId": "a04abd99-e850-4757-db66-d70ef9f6eabc",
        "colab": {
          "base_uri": "https://localhost:8080/",
          "height": 280
        }
      },
      "cell_type": "code",
      "source": [
        "plt.plot(v_init)\n",
        "plt.title(\"v\")\n",
        "plt.show()\n"
      ],
      "execution_count": 6,
      "outputs": [
        {
          "output_type": "display_data",
          "data": {
            "image/png": "[encoded data removed]",
            "text/plain": [
              "<Figure size 432x288 with 1 Axes>"
            ]
          },
          "metadata": {
            "tags": []
          }
        }
      ]
    },
    {
      "metadata": {
        "id": "9q2AjnMh0sqe",
        "colab_type": "code",
        "outputId": "898d453b-d404-45ab-f291-5db4546c7322",
        "colab": {
          "base_uri": "https://localhost:8080/",
          "height": 35
        }
      },
      "cell_type": "code",
      "source": [
        "1/tr/td, np.exp(-dt/td)"
      ],
      "execution_count": 7,
      "outputs": [
        {
          "output_type": "execute_result",
          "data": {
            "text/plain": [
              "(25000.0, 0.9995001249791693)"
            ]
          },
          "metadata": {
            "tags": []
          },
          "execution_count": 7
        }
      ]
    },
    {
      "metadata": {
        "id": "fSaOqMYl7n2h",
        "colab_type": "code",
        "colab": {
          "base_uri": "https://localhost:8080/",
          "height": 91
        },
        "outputId": "91b96056-efbf-413e-b43b-5e4e901e4044"
      },
      "cell_type": "code",
      "source": [
        "\n",
        "## Make graph\n",
        "with tf.Graph().as_default() as tf_graph:\n",
        "    \n",
        "    ## inputs\n",
        "    I_app = tf.placeholder(tf.float32, shape=[m, 1])\n",
        "    do_train = tf.placeholder(tf.bool, shape=[N, m])\n",
        "    \n",
        "    ## Variables in model\n",
        "    # voltage\n",
        "    v = tf.Variable(tf.ones(shape=v_init.shape) * v_init, dtype=tf.float32, name='v')\n",
        "    # current\n",
        "    z = tf.Variable(tf.zeros(shape=(m,1), dtype=tf.float32), name='z')\n",
        "    # boolean whether a neuron fired or not\n",
        "    fired = tf.Variable(tf.zeros(v_init.shape, dtype=bool), dtype=tf.bool, name='fired')\n",
        "    # ;  %Decoders\n",
        "    BPhi = tf.Variable(tf.zeros(shape=(N,m)), dtype=tf.float32, name='BPhi')\n",
        "    # post-synaptic current\n",
        "    IPSC = tf.Variable(tf.zeros(shape=(N,1)), dtype=tf.float32, name='IPSC')\n",
        "    # other\n",
        "    h  = tf.Variable(tf.zeros(shape=(N,1)), dtype=tf.float32, name='h')\n",
        "    r  = tf.Variable(tf.zeros(shape=(N,1)), dtype=tf.float32, name='r')\n",
        "    hr = tf.Variable(tf.zeros(shape=(N,1)), dtype=tf.float32, name='hr')\n",
        "    Pinv = tf.Variable(tf.eye(N)*dt, dtype=tf.float32, name='Pinv')\n",
        "    err = tf.Variable(tf.zeros(shape=(m,1)), dtype=tf.float32, name='err')\n",
        "    cd = tf.Variable(tf.zeros(shape=(N,1)), dtype=tf.float32, name='cd')\n",
        "    \n",
        "    ## Other inputs\n",
        "    # encoders\n",
        "    E = Q*(2*tf.random.uniform([N,m])-1)\n",
        "\n",
        "    # ; %Random initial weight matrix \n",
        "    # %Set the sample row mean of the weight matrix to be 0 to strictly enforce\n",
        "    # %balance.  \n",
        "    OMEGA = tf.constant(OMEGA_init, dtype=tf.float32, name='OMEGA')\n",
        "\n",
        "\n",
        "    ## Computation\n",
        "    JX = tf.add(IPSC, tf.matmul(E, z)) #; %current \n",
        "    dv = tf.add(\n",
        "        1 - tf.math.cos(v),\n",
        "        tf.multiply(\n",
        "          1 + tf.math.cos(v),\n",
        "          JX * (math.pi**2)\n",
        "        )\n",
        "    )\n",
        "    v_updated = v + dv*dt\n",
        "    \n",
        "    # Deal with spikes\n",
        "    # Limit anything above threshold to threshold value (35)\n",
        "    # We are saving which fired to use again in the next iteration\n",
        "    fired_updated = tf.greater_equal(v_updated, tf.ones(tf.shape(v)) * vpeak)\n",
        "\n",
        "    # ; %compute the increase in current due to spiking  \n",
        "    JD = tf.math.reduce_sum(\n",
        "        tf.boolean_mask(\n",
        "          OMEGA,\n",
        "          tf.squeeze(fired_updated),\n",
        "          axis=1\n",
        "        ),\n",
        "        axis=1,\n",
        "        keepdims=True\n",
        "    )\n",
        "\n",
        "    # Integrate the current\n",
        "    IPSC_updated = IPSC * tf.exp(-dt/tr) + h*dt\n",
        "    h_updated = h * tf.exp(-dt/td) + JD / tr / td\n",
        "    r_updated = tf.add(\n",
        "      r * tf.exp(-dt/tr), # + or tf.add (since vectors) ?\n",
        "      hr*dt\n",
        "    )\n",
        "    hr_updated = tf.where(\n",
        "        fired_updated,\n",
        "        hr * tf.exp(-dt/td) + 1/tr/td,\n",
        "        hr * tf.exp(-dt/td)\n",
        "    )\n",
        "\n",
        "    # update voltage and current\n",
        "    v_updated = tf.where(fired_updated, tf.ones(tf.shape(v)) * vreset, v_updated)\n",
        "    z_updated = tf.matmul(tf.transpose(BPhi), r_updated)\n",
        "    \n",
        "    # now perform optimization step to update BPhi and Pinv\n",
        "    err_updated = tf.subtract(z_updated, I_app) # output current should match with input current\n",
        "    cd_ = tf.matmul(Pinv, r_updated)\n",
        "    BPhi_updated = tf.where(\n",
        "        do_train, \n",
        "        tf.subtract(BPhi, tf.matmul(cd_, tf.transpose(err_updated))),\n",
        "        BPhi\n",
        "    )\n",
        "    #print(\"cd_\", cd_, \"r_updated\", r_updated)\n",
        "    #print(\"r\", r, \"Pinv\", Pinv)\n",
        "    #print(\"Pinv_deno\", Pinv_deno)\n",
        "    Pinv_deno = (1 + tf.matmul(tf.transpose(r_updated), cd_))\n",
        "    do_train2 = tf.cast(do_train, dtype=tf.float32)\n",
        "    do_train2 = tf.matmul(do_train2, tf.transpose(do_train2))\n",
        "    do_train2 = tf.cast(do_train2, dtype=tf.bool)\n",
        "    #print(\"do_train\", do_train, \"do_train2\", do_train2)\n",
        "    Pinv_updated = tf.where(\n",
        "        do_train2,\n",
        "        tf.subtract(\n",
        "          Pinv,\n",
        "          tf.matmul(cd_, tf.transpose(cd_)) / Pinv_deno\n",
        "        ),\n",
        "        Pinv\n",
        "    )\n",
        "    \n",
        "    # i.e. from https://www.tensorflow.org/tutorials/non-ml/pdes \"# Operation to update the state\"\n",
        "    state_ops = tf.group(\n",
        "      # all ops for voltage/current\n",
        "      IPSC.assign(IPSC_updated),\n",
        "      BPhi.assign(BPhi_updated),\n",
        "      Pinv.assign(Pinv_updated),\n",
        "      h.assign(h_updated),\n",
        "      r.assign(r_updated),\n",
        "      hr.assign(hr_updated),\n",
        "        \n",
        "      # finally perform voltage/current update of variables\n",
        "      v.assign(v_updated),\n",
        "      z.assign(z_updated),\n",
        "      fired.assign(fired_updated),\n",
        "        \n",
        "      # other internal variables\n",
        "      err.assign(err_updated),\n",
        "      cd.assign(cd_)\n",
        "    )\n",
        "\n",
        "    \n"
      ],
      "execution_count": 8,
      "outputs": [
        {
          "output_type": "stream",
          "text": [
            "WARNING:tensorflow:From /usr/local/lib/python3.6/dist-packages/tensorflow/python/framework/op_def_library.py:263: colocate_with (from tensorflow.python.framework.ops) is deprecated and will be removed in a future version.\n",
            "Instructions for updating:\n",
            "Colocations handled automatically by placer.\n"
          ],
          "name": "stdout"
        }
      ]
    },
    {
      "metadata": {
        "id": "jH2kxo65y5ls",
        "colab_type": "code",
        "outputId": "76b2a47e-cf66-4f7b-d76f-d9799bd8bb8b",
        "colab": {
          "base_uri": "https://localhost:8080/",
          "height": 35
        }
      },
      "cell_type": "code",
      "source": [
        "tr*td"
      ],
      "execution_count": 9,
      "outputs": [
        {
          "output_type": "execute_result",
          "data": {
            "text/plain": [
              "4e-05"
            ]
          },
          "metadata": {
            "tags": []
          },
          "execution_count": 9
        }
      ]
    },
    {
      "metadata": {
        "id": "ZLY6wFttMq2A",
        "colab_type": "code",
        "outputId": "125b5817-0a97-4b76-898b-307fc3480e2d",
        "colab": {
          "base_uri": "https://localhost:8080/",
          "height": 35
        }
      },
      "cell_type": "code",
      "source": [
        "record_step = 1000 # int(1000*dt/dt) # int(1/dt) # 10 # record data every n steps to avoid running out of memory\n",
        "record_step"
      ],
      "execution_count": 10,
      "outputs": [
        {
          "output_type": "execute_result",
          "data": {
            "text/plain": [
              "1000"
            ]
          },
          "metadata": {
            "tags": []
          },
          "execution_count": 10
        }
      ]
    },
    {
      "metadata": {
        "id": "s0HPH09Rg9YY",
        "colab_type": "code",
        "colab": {}
      },
      "cell_type": "code",
      "source": [
        "vs = []\n",
        "zs = []\n",
        "bps = []\n",
        "rs=[]\n",
        "ss=[]\n",
        "es=[]\n",
        "cds=[]\n",
        "hrs=[]\n",
        "pinvs=[]\n",
        "\n",
        "#      current = np.zeros(tx.shape[0],m)#;  %storage variable for output current \n",
        "#      IPSC = np.zeros(N,1)#; %post synaptic current \n",
        "\n",
        "#      REC\n",
        "#      RECB\n",
        "#      z\n",
        "      \n",
        "import time\n"
      ],
      "execution_count": 0,
      "outputs": []
    },
    {
      "metadata": {
        "id": "YDXrfufKtRUN",
        "colab_type": "code",
        "outputId": "ac88affb-8a2d-42ef-9810-a447d15db12d",
        "colab": {
          "base_uri": "https://localhost:8080/",
          "height": 35
        }
      },
      "cell_type": "code",
      "source": [
        "import pickle\n",
        "with open(r\"/content/t3_after_5sec_no_input/recordings.pkl\", \"rb\") as fh:\n",
        "  vs = pickle.load(fh)\n",
        "  zs = pickle.load(fh)\n",
        "  \n",
        "len(vs), len(zs)"
      ],
      "execution_count": 13,
      "outputs": [
        {
          "output_type": "execute_result",
          "data": {
            "text/plain": [
              "(501, 501)"
            ]
          },
          "metadata": {
            "tags": []
          },
          "execution_count": 13
        }
      ]
    },
    {
      "metadata": {
        "id": "kK_rZAeWhGRV",
        "colab_type": "code",
        "outputId": "da2564b9-caf0-44a0-a985-f65cc18a71e6",
        "colab": {
          "base_uri": "https://localhost:8080/",
          "height": 35
        }
      },
      "cell_type": "code",
      "source": [
        "len(tx)"
      ],
      "execution_count": 14,
      "outputs": [
        {
          "output_type": "execute_result",
          "data": {
            "text/plain": [
              "1499999"
            ]
          },
          "metadata": {
            "tags": []
          },
          "execution_count": 14
        }
      ]
    },
    {
      "metadata": {
        "id": "xZofQfN8jS4U",
        "colab_type": "code",
        "colab": {}
      },
      "cell_type": "code",
      "source": [
        "# with tf.Session(graph=tf_graph) as sess:\n",
        "sess = tf.InteractiveSession(graph=tf_graph)\n",
        "\n",
        "# Comment out to avoid \"restarting\"\n",
        "sess.run(tf.global_variables_initializer())"
      ],
      "execution_count": 0,
      "outputs": []
    },
    {
      "metadata": {
        "id": "eMqAFAVutco4",
        "colab_type": "code",
        "outputId": "718b399d-78b4-4697-a477-bf299a3829f4",
        "colab": {
          "base_uri": "https://localhost:8080/",
          "height": 127
        }
      },
      "cell_type": "code",
      "source": [
        "# Restore variables from disk.\n",
        "saver = tf.train.Saver()\n",
        "saver.restore(sess, \"/content/t3_after_5sec_no_input/model.ckpt\")\n",
        "print(\"Model restored.\")\n"
      ],
      "execution_count": 16,
      "outputs": [
        {
          "output_type": "stream",
          "text": [
            "WARNING:tensorflow:From /usr/local/lib/python3.6/dist-packages/tensorflow/python/training/saver.py:1266: checkpoint_exists (from tensorflow.python.training.checkpoint_management) is deprecated and will be removed in a future version.\n",
            "Instructions for updating:\n",
            "Use standard file APIs to check for files with this prefix.\n",
            "INFO:tensorflow:Restoring parameters from /content/t3_after_5sec_no_input/model.ckpt\n",
            "Model restored.\n"
          ],
          "name": "stdout"
        }
      ]
    },
    {
      "metadata": {
        "id": "bg2iG_AIUj5q",
        "colab_type": "code",
        "outputId": "bc0d223c-2715-46e5-d02b-15032da40e90",
        "colab": {
          "base_uri": "https://localhost:8080/",
          "height": 169
        }
      },
      "cell_type": "code",
      "source": [
        "ti"
      ],
      "execution_count": 20,
      "outputs": [
        {
          "output_type": "error",
          "ename": "NameError",
          "evalue": "ignored",
          "traceback": [
            "\u001b[0;31m---------------------------------------------------------------------------\u001b[0m",
            "\u001b[0;31mNameError\u001b[0m                                 Traceback (most recent call last)",
            "\u001b[0;32m<ipython-input-20-db206ee4a2be>\u001b[0m in \u001b[0;36m<module>\u001b[0;34m()\u001b[0m\n\u001b[0;32m----> 1\u001b[0;31m \u001b[0mti\u001b[0m\u001b[0;34m\u001b[0m\u001b[0;34m\u001b[0m\u001b[0m\n\u001b[0m",
            "\u001b[0;31mNameError\u001b[0m: name 'ti' is not defined"
          ]
        }
      ]
    },
    {
      "metadata": {
        "id": "2UM4XTHxNoQ3",
        "colab_type": "code",
        "outputId": "ec48315d-3b97-4e7b-cc53-8e45e2ff55ab",
        "colab": {
          "base_uri": "https://localhost:8080/",
          "height": 13463
        }
      },
      "cell_type": "code",
      "source": [
        "# t_last = 999998 # 199998 # 400e3\n",
        "t_last = 499998\n",
        "for ti in range(len(tx)):    ## Timesteps\n",
        "  if ti<=t_last: continue\n",
        "  if (ti % record_step) == 0: print(\"%i / %i .. %0.4f sec .. %s\" % (ti, len(tx), tx[ti], time.ctime()))\n",
        "  xzi = xz[ti,:].reshape(1,-1)\n",
        "  do_train_scalar = (tx[ti]>tmin) & (tx[ti]<tcrit) & ((ti%rls_step)==1)\n",
        "  sess.run(\n",
        "   state_ops,\n",
        "   feed_dict={\n",
        "      I_app: xzi,\n",
        "      do_train: do_train_scalar.reshape(1,m).repeat(N, axis=0),\n",
        "   }\n",
        "  )\n",
        "\n",
        "  # evaluate every 10 steps\n",
        "  if (ti % record_step) == 0:\n",
        "    vs.append(v.eval())\n",
        "    zs.append(z.eval())\n",
        "\n",
        "    # Useless to store firing points at subsampling\n",
        "    # because this would miss spikes that are not aligned with the subsampling\n",
        "    # Unless we gather all steps between \"record_steps\"\n",
        "    # and mark a spike if any point has spiked\n",
        "    # ss.append(fired.eval())\n",
        "\n",
        "    # other variables\n",
        "    #bps.append(BPhi.eval())\n",
        "    #rs.append(r.eval())\n",
        "    #es.append(err.eval())\n",
        "    #cds.append(cd.eval())\n",
        "    #hrs.append(hr.eval())\n",
        "    #pinvs.append(Pinv.eval())"
      ],
      "execution_count": 0,
      "outputs": [
        {
          "output_type": "stream",
          "text": [
            "500000 / 1499999 .. 5.0000 sec .. Wed Feb  6 12:32:25 2019\n",
            "501000 / 1499999 .. 5.0100 sec .. Wed Feb  6 12:32:28 2019\n",
            "502000 / 1499999 .. 5.0200 sec .. Wed Feb  6 12:32:31 2019\n",
            "503000 / 1499999 .. 5.0300 sec .. Wed Feb  6 12:32:34 2019\n",
            "504000 / 1499999 .. 5.0400 sec .. Wed Feb  6 12:32:37 2019\n",
            "505000 / 1499999 .. 5.0500 sec .. Wed Feb  6 12:32:41 2019\n",
            "506000 / 1499999 .. 5.0600 sec .. Wed Feb  6 12:32:44 2019\n",
            "507000 / 1499999 .. 5.0700 sec .. Wed Feb  6 12:32:47 2019\n",
            "508000 / 1499999 .. 5.0800 sec .. Wed Feb  6 12:32:50 2019\n",
            "509000 / 1499999 .. 5.0900 sec .. Wed Feb  6 12:32:53 2019\n",
            "510000 / 1499999 .. 5.1000 sec .. Wed Feb  6 12:32:56 2019\n",
            "511000 / 1499999 .. 5.1100 sec .. Wed Feb  6 12:32:59 2019\n",
            "512000 / 1499999 .. 5.1200 sec .. Wed Feb  6 12:33:02 2019\n",
            "513000 / 1499999 .. 5.1300 sec .. Wed Feb  6 12:33:05 2019\n",
            "514000 / 1499999 .. 5.1400 sec .. Wed Feb  6 12:33:08 2019\n",
            "515000 / 1499999 .. 5.1500 sec .. Wed Feb  6 12:33:11 2019\n",
            "516000 / 1499999 .. 5.1600 sec .. Wed Feb  6 12:33:14 2019\n",
            "517000 / 1499999 .. 5.1700 sec .. Wed Feb  6 12:33:17 2019\n",
            "518000 / 1499999 .. 5.1800 sec .. Wed Feb  6 12:33:20 2019\n",
            "519000 / 1499999 .. 5.1900 sec .. Wed Feb  6 12:33:23 2019\n",
            "520000 / 1499999 .. 5.2000 sec .. Wed Feb  6 12:33:26 2019\n",
            "521000 / 1499999 .. 5.2100 sec .. Wed Feb  6 12:33:29 2019\n",
            "522000 / 1499999 .. 5.2200 sec .. Wed Feb  6 12:33:33 2019\n",
            "523000 / 1499999 .. 5.2300 sec .. Wed Feb  6 12:33:36 2019\n",
            "524000 / 1499999 .. 5.2400 sec .. Wed Feb  6 12:33:39 2019\n",
            "525000 / 1499999 .. 5.2500 sec .. Wed Feb  6 12:33:42 2019\n",
            "526000 / 1499999 .. 5.2600 sec .. Wed Feb  6 12:33:45 2019\n",
            "527000 / 1499999 .. 5.2700 sec .. Wed Feb  6 12:33:48 2019\n",
            "528000 / 1499999 .. 5.2800 sec .. Wed Feb  6 12:33:51 2019\n",
            "529000 / 1499999 .. 5.2900 sec .. Wed Feb  6 12:33:54 2019\n",
            "530000 / 1499999 .. 5.3000 sec .. Wed Feb  6 12:33:57 2019\n",
            "531000 / 1499999 .. 5.3100 sec .. Wed Feb  6 12:34:00 2019\n",
            "532000 / 1499999 .. 5.3200 sec .. Wed Feb  6 12:34:03 2019\n",
            "533000 / 1499999 .. 5.3300 sec .. Wed Feb  6 12:34:06 2019\n",
            "534000 / 1499999 .. 5.3400 sec .. Wed Feb  6 12:34:09 2019\n",
            "535000 / 1499999 .. 5.3500 sec .. Wed Feb  6 12:34:12 2019\n",
            "536000 / 1499999 .. 5.3600 sec .. Wed Feb  6 12:34:15 2019\n",
            "537000 / 1499999 .. 5.3700 sec .. Wed Feb  6 12:34:18 2019\n",
            "538000 / 1499999 .. 5.3800 sec .. Wed Feb  6 12:34:21 2019\n",
            "539000 / 1499999 .. 5.3900 sec .. Wed Feb  6 12:34:24 2019\n",
            "540000 / 1499999 .. 5.4000 sec .. Wed Feb  6 12:34:28 2019\n",
            "541000 / 1499999 .. 5.4100 sec .. Wed Feb  6 12:34:31 2019\n",
            "542000 / 1499999 .. 5.4200 sec .. Wed Feb  6 12:34:34 2019\n",
            "543000 / 1499999 .. 5.4300 sec .. Wed Feb  6 12:34:37 2019\n",
            "544000 / 1499999 .. 5.4400 sec .. Wed Feb  6 12:34:40 2019\n",
            "545000 / 1499999 .. 5.4500 sec .. Wed Feb  6 12:34:43 2019\n",
            "546000 / 1499999 .. 5.4600 sec .. Wed Feb  6 12:34:46 2019\n",
            "547000 / 1499999 .. 5.4700 sec .. Wed Feb  6 12:34:49 2019\n",
            "548000 / 1499999 .. 5.4800 sec .. Wed Feb  6 12:34:52 2019\n",
            "549000 / 1499999 .. 5.4900 sec .. Wed Feb  6 12:34:55 2019\n",
            "550000 / 1499999 .. 5.5000 sec .. Wed Feb  6 12:34:58 2019\n",
            "551000 / 1499999 .. 5.5100 sec .. Wed Feb  6 12:35:01 2019\n",
            "552000 / 1499999 .. 5.5200 sec .. Wed Feb  6 12:35:04 2019\n",
            "553000 / 1499999 .. 5.5300 sec .. Wed Feb  6 12:35:07 2019\n",
            "554000 / 1499999 .. 5.5400 sec .. Wed Feb  6 12:35:10 2019\n",
            "555000 / 1499999 .. 5.5500 sec .. Wed Feb  6 12:35:13 2019\n",
            "556000 / 1499999 .. 5.5600 sec .. Wed Feb  6 12:35:16 2019\n",
            "557000 / 1499999 .. 5.5700 sec .. Wed Feb  6 12:35:20 2019\n",
            "558000 / 1499999 .. 5.5800 sec .. Wed Feb  6 12:35:23 2019\n",
            "559000 / 1499999 .. 5.5900 sec .. Wed Feb  6 12:35:26 2019\n",
            "560000 / 1499999 .. 5.6000 sec .. Wed Feb  6 12:35:29 2019\n",
            "561000 / 1499999 .. 5.6100 sec .. Wed Feb  6 12:35:32 2019\n",
            "562000 / 1499999 .. 5.6200 sec .. Wed Feb  6 12:35:35 2019\n",
            "563000 / 1499999 .. 5.6300 sec .. Wed Feb  6 12:35:38 2019\n",
            "564000 / 1499999 .. 5.6400 sec .. Wed Feb  6 12:35:41 2019\n",
            "565000 / 1499999 .. 5.6500 sec .. Wed Feb  6 12:35:44 2019\n",
            "566000 / 1499999 .. 5.6600 sec .. Wed Feb  6 12:35:47 2019\n",
            "567000 / 1499999 .. 5.6700 sec .. Wed Feb  6 12:35:50 2019\n",
            "568000 / 1499999 .. 5.6800 sec .. Wed Feb  6 12:35:53 2019\n",
            "569000 / 1499999 .. 5.6900 sec .. Wed Feb  6 12:35:56 2019\n",
            "570000 / 1499999 .. 5.7000 sec .. Wed Feb  6 12:35:59 2019\n",
            "571000 / 1499999 .. 5.7100 sec .. Wed Feb  6 12:36:02 2019\n",
            "572000 / 1499999 .. 5.7200 sec .. Wed Feb  6 12:36:05 2019\n",
            "573000 / 1499999 .. 5.7300 sec .. Wed Feb  6 12:36:08 2019\n",
            "574000 / 1499999 .. 5.7400 sec .. Wed Feb  6 12:36:11 2019\n",
            "575000 / 1499999 .. 5.7500 sec .. Wed Feb  6 12:36:14 2019\n",
            "576000 / 1499999 .. 5.7600 sec .. Wed Feb  6 12:36:18 2019\n",
            "577000 / 1499999 .. 5.7700 sec .. Wed Feb  6 12:36:21 2019\n",
            "578000 / 1499999 .. 5.7800 sec .. Wed Feb  6 12:36:24 2019\n",
            "579000 / 1499999 .. 5.7900 sec .. Wed Feb  6 12:36:27 2019\n",
            "580000 / 1499999 .. 5.8000 sec .. Wed Feb  6 12:36:30 2019\n",
            "581000 / 1499999 .. 5.8100 sec .. Wed Feb  6 12:36:33 2019\n",
            "582000 / 1499999 .. 5.8200 sec .. Wed Feb  6 12:36:36 2019\n",
            "583000 / 1499999 .. 5.8300 sec .. Wed Feb  6 12:36:39 2019\n",
            "584000 / 1499999 .. 5.8400 sec .. Wed Feb  6 12:36:42 2019\n",
            "585000 / 1499999 .. 5.8500 sec .. Wed Feb  6 12:36:45 2019\n",
            "586000 / 1499999 .. 5.8600 sec .. Wed Feb  6 12:36:48 2019\n",
            "587000 / 1499999 .. 5.8700 sec .. Wed Feb  6 12:36:51 2019\n",
            "588000 / 1499999 .. 5.8800 sec .. Wed Feb  6 12:36:54 2019\n",
            "589000 / 1499999 .. 5.8900 sec .. Wed Feb  6 12:36:57 2019\n",
            "590000 / 1499999 .. 5.9000 sec .. Wed Feb  6 12:37:00 2019\n",
            "591000 / 1499999 .. 5.9100 sec .. Wed Feb  6 12:37:03 2019\n",
            "592000 / 1499999 .. 5.9200 sec .. Wed Feb  6 12:37:06 2019\n",
            "593000 / 1499999 .. 5.9300 sec .. Wed Feb  6 12:37:09 2019\n",
            "594000 / 1499999 .. 5.9400 sec .. Wed Feb  6 12:37:13 2019\n",
            "595000 / 1499999 .. 5.9500 sec .. Wed Feb  6 12:37:16 2019\n",
            "596000 / 1499999 .. 5.9600 sec .. Wed Feb  6 12:37:19 2019\n",
            "597000 / 1499999 .. 5.9700 sec .. Wed Feb  6 12:37:22 2019\n",
            "598000 / 1499999 .. 5.9800 sec .. Wed Feb  6 12:37:25 2019\n",
            "599000 / 1499999 .. 5.9900 sec .. Wed Feb  6 12:37:28 2019\n",
            "600000 / 1499999 .. 6.0000 sec .. Wed Feb  6 12:37:31 2019\n",
            "601000 / 1499999 .. 6.0100 sec .. Wed Feb  6 12:37:34 2019\n",
            "602000 / 1499999 .. 6.0200 sec .. Wed Feb  6 12:37:37 2019\n",
            "603000 / 1499999 .. 6.0300 sec .. Wed Feb  6 12:37:40 2019\n",
            "604000 / 1499999 .. 6.0400 sec .. Wed Feb  6 12:37:43 2019\n",
            "605000 / 1499999 .. 6.0500 sec .. Wed Feb  6 12:37:46 2019\n",
            "606000 / 1499999 .. 6.0600 sec .. Wed Feb  6 12:37:49 2019\n",
            "607000 / 1499999 .. 6.0700 sec .. Wed Feb  6 12:37:52 2019\n",
            "608000 / 1499999 .. 6.0800 sec .. Wed Feb  6 12:37:55 2019\n",
            "609000 / 1499999 .. 6.0900 sec .. Wed Feb  6 12:37:58 2019\n",
            "610000 / 1499999 .. 6.1000 sec .. Wed Feb  6 12:38:01 2019\n",
            "611000 / 1499999 .. 6.1100 sec .. Wed Feb  6 12:38:04 2019\n",
            "612000 / 1499999 .. 6.1200 sec .. Wed Feb  6 12:38:07 2019\n",
            "613000 / 1499999 .. 6.1300 sec .. Wed Feb  6 12:38:10 2019\n",
            "614000 / 1499999 .. 6.1400 sec .. Wed Feb  6 12:38:14 2019\n",
            "615000 / 1499999 .. 6.1500 sec .. Wed Feb  6 12:38:17 2019\n",
            "616000 / 1499999 .. 6.1600 sec .. Wed Feb  6 12:38:20 2019\n",
            "617000 / 1499999 .. 6.1700 sec .. Wed Feb  6 12:38:23 2019\n",
            "618000 / 1499999 .. 6.1800 sec .. Wed Feb  6 12:38:26 2019\n",
            "619000 / 1499999 .. 6.1900 sec .. Wed Feb  6 12:38:29 2019\n",
            "620000 / 1499999 .. 6.2000 sec .. Wed Feb  6 12:38:32 2019\n",
            "621000 / 1499999 .. 6.2100 sec .. Wed Feb  6 12:38:35 2019\n",
            "622000 / 1499999 .. 6.2200 sec .. Wed Feb  6 12:38:38 2019\n",
            "623000 / 1499999 .. 6.2300 sec .. Wed Feb  6 12:38:41 2019\n",
            "624000 / 1499999 .. 6.2400 sec .. Wed Feb  6 12:38:44 2019\n",
            "625000 / 1499999 .. 6.2500 sec .. Wed Feb  6 12:38:47 2019\n",
            "626000 / 1499999 .. 6.2600 sec .. Wed Feb  6 12:38:50 2019\n",
            "627000 / 1499999 .. 6.2700 sec .. Wed Feb  6 12:38:53 2019\n",
            "628000 / 1499999 .. 6.2800 sec .. Wed Feb  6 12:38:56 2019\n",
            "629000 / 1499999 .. 6.2900 sec .. Wed Feb  6 12:38:59 2019\n",
            "630000 / 1499999 .. 6.3000 sec .. Wed Feb  6 12:39:02 2019\n",
            "631000 / 1499999 .. 6.3100 sec .. Wed Feb  6 12:39:05 2019\n",
            "632000 / 1499999 .. 6.3200 sec .. Wed Feb  6 12:39:08 2019\n",
            "633000 / 1499999 .. 6.3300 sec .. Wed Feb  6 12:39:11 2019\n",
            "634000 / 1499999 .. 6.3400 sec .. Wed Feb  6 12:39:15 2019\n",
            "635000 / 1499999 .. 6.3500 sec .. Wed Feb  6 12:39:18 2019\n",
            "636000 / 1499999 .. 6.3600 sec .. Wed Feb  6 12:39:21 2019\n",
            "637000 / 1499999 .. 6.3700 sec .. Wed Feb  6 12:39:24 2019\n",
            "638000 / 1499999 .. 6.3800 sec .. Wed Feb  6 12:39:27 2019\n",
            "639000 / 1499999 .. 6.3900 sec .. Wed Feb  6 12:39:30 2019\n",
            "640000 / 1499999 .. 6.4000 sec .. Wed Feb  6 12:39:33 2019\n",
            "641000 / 1499999 .. 6.4100 sec .. Wed Feb  6 12:39:36 2019\n",
            "642000 / 1499999 .. 6.4200 sec .. Wed Feb  6 12:39:39 2019\n",
            "643000 / 1499999 .. 6.4300 sec .. Wed Feb  6 12:39:42 2019\n",
            "644000 / 1499999 .. 6.4400 sec .. Wed Feb  6 12:39:45 2019\n",
            "645000 / 1499999 .. 6.4500 sec .. Wed Feb  6 12:39:48 2019\n",
            "646000 / 1499999 .. 6.4600 sec .. Wed Feb  6 12:39:51 2019\n",
            "647000 / 1499999 .. 6.4700 sec .. Wed Feb  6 12:39:54 2019\n",
            "648000 / 1499999 .. 6.4800 sec .. Wed Feb  6 12:39:57 2019\n",
            "649000 / 1499999 .. 6.4900 sec .. Wed Feb  6 12:40:00 2019\n",
            "650000 / 1499999 .. 6.5000 sec .. Wed Feb  6 12:40:03 2019\n",
            "651000 / 1499999 .. 6.5100 sec .. Wed Feb  6 12:40:06 2019\n",
            "652000 / 1499999 .. 6.5200 sec .. Wed Feb  6 12:40:09 2019\n",
            "653000 / 1499999 .. 6.5300 sec .. Wed Feb  6 12:40:12 2019\n",
            "654000 / 1499999 .. 6.5400 sec .. Wed Feb  6 12:40:15 2019\n",
            "655000 / 1499999 .. 6.5500 sec .. Wed Feb  6 12:40:19 2019\n",
            "656000 / 1499999 .. 6.5600 sec .. Wed Feb  6 12:40:22 2019\n",
            "657000 / 1499999 .. 6.5700 sec .. Wed Feb  6 12:40:25 2019\n",
            "658000 / 1499999 .. 6.5800 sec .. Wed Feb  6 12:40:28 2019\n",
            "659000 / 1499999 .. 6.5900 sec .. Wed Feb  6 12:40:31 2019\n",
            "660000 / 1499999 .. 6.6000 sec .. Wed Feb  6 12:40:34 2019\n",
            "661000 / 1499999 .. 6.6100 sec .. Wed Feb  6 12:40:37 2019\n",
            "662000 / 1499999 .. 6.6200 sec .. Wed Feb  6 12:40:40 2019\n",
            "663000 / 1499999 .. 6.6300 sec .. Wed Feb  6 12:40:43 2019\n",
            "664000 / 1499999 .. 6.6400 sec .. Wed Feb  6 12:40:46 2019\n",
            "665000 / 1499999 .. 6.6500 sec .. Wed Feb  6 12:40:49 2019\n",
            "666000 / 1499999 .. 6.6600 sec .. Wed Feb  6 12:40:52 2019\n",
            "667000 / 1499999 .. 6.6700 sec .. Wed Feb  6 12:40:55 2019\n",
            "668000 / 1499999 .. 6.6800 sec .. Wed Feb  6 12:40:58 2019\n",
            "669000 / 1499999 .. 6.6900 sec .. Wed Feb  6 12:41:01 2019\n",
            "670000 / 1499999 .. 6.7000 sec .. Wed Feb  6 12:41:05 2019\n",
            "671000 / 1499999 .. 6.7100 sec .. Wed Feb  6 12:41:08 2019\n",
            "672000 / 1499999 .. 6.7200 sec .. Wed Feb  6 12:41:11 2019\n",
            "673000 / 1499999 .. 6.7300 sec .. Wed Feb  6 12:41:14 2019\n",
            "674000 / 1499999 .. 6.7400 sec .. Wed Feb  6 12:41:17 2019\n",
            "675000 / 1499999 .. 6.7500 sec .. Wed Feb  6 12:41:20 2019\n",
            "676000 / 1499999 .. 6.7600 sec .. Wed Feb  6 12:41:23 2019\n",
            "677000 / 1499999 .. 6.7700 sec .. Wed Feb  6 12:41:26 2019\n",
            "678000 / 1499999 .. 6.7800 sec .. Wed Feb  6 12:41:29 2019\n",
            "679000 / 1499999 .. 6.7900 sec .. Wed Feb  6 12:41:32 2019\n",
            "680000 / 1499999 .. 6.8000 sec .. Wed Feb  6 12:41:35 2019\n",
            "681000 / 1499999 .. 6.8100 sec .. Wed Feb  6 12:41:38 2019\n",
            "682000 / 1499999 .. 6.8200 sec .. Wed Feb  6 12:41:41 2019\n",
            "683000 / 1499999 .. 6.8300 sec .. Wed Feb  6 12:41:44 2019\n",
            "684000 / 1499999 .. 6.8400 sec .. Wed Feb  6 12:41:47 2019\n",
            "685000 / 1499999 .. 6.8500 sec .. Wed Feb  6 12:41:51 2019\n",
            "686000 / 1499999 .. 6.8600 sec .. Wed Feb  6 12:41:54 2019\n",
            "687000 / 1499999 .. 6.8700 sec .. Wed Feb  6 12:41:57 2019\n",
            "688000 / 1499999 .. 6.8800 sec .. Wed Feb  6 12:42:00 2019\n",
            "689000 / 1499999 .. 6.8900 sec .. Wed Feb  6 12:42:03 2019\n",
            "690000 / 1499999 .. 6.9000 sec .. Wed Feb  6 12:42:06 2019\n",
            "691000 / 1499999 .. 6.9100 sec .. Wed Feb  6 12:42:09 2019\n",
            "692000 / 1499999 .. 6.9200 sec .. Wed Feb  6 12:42:12 2019\n",
            "693000 / 1499999 .. 6.9300 sec .. Wed Feb  6 12:42:15 2019\n",
            "694000 / 1499999 .. 6.9400 sec .. Wed Feb  6 12:42:18 2019\n",
            "695000 / 1499999 .. 6.9500 sec .. Wed Feb  6 12:42:21 2019\n",
            "696000 / 1499999 .. 6.9600 sec .. Wed Feb  6 12:42:24 2019\n",
            "697000 / 1499999 .. 6.9700 sec .. Wed Feb  6 12:42:27 2019\n",
            "698000 / 1499999 .. 6.9800 sec .. Wed Feb  6 12:42:30 2019\n",
            "699000 / 1499999 .. 6.9900 sec .. Wed Feb  6 12:42:33 2019\n",
            "700000 / 1499999 .. 7.0000 sec .. Wed Feb  6 12:42:36 2019\n",
            "701000 / 1499999 .. 7.0100 sec .. Wed Feb  6 12:42:39 2019\n",
            "702000 / 1499999 .. 7.0200 sec .. Wed Feb  6 12:42:43 2019\n",
            "703000 / 1499999 .. 7.0300 sec .. Wed Feb  6 12:42:46 2019\n",
            "704000 / 1499999 .. 7.0400 sec .. Wed Feb  6 12:42:49 2019\n",
            "705000 / 1499999 .. 7.0500 sec .. Wed Feb  6 12:42:52 2019\n",
            "706000 / 1499999 .. 7.0600 sec .. Wed Feb  6 12:42:55 2019\n",
            "707000 / 1499999 .. 7.0700 sec .. Wed Feb  6 12:42:58 2019\n",
            "708000 / 1499999 .. 7.0800 sec .. Wed Feb  6 12:43:01 2019\n",
            "709000 / 1499999 .. 7.0900 sec .. Wed Feb  6 12:43:04 2019\n",
            "710000 / 1499999 .. 7.1000 sec .. Wed Feb  6 12:43:07 2019\n",
            "711000 / 1499999 .. 7.1100 sec .. Wed Feb  6 12:43:10 2019\n",
            "712000 / 1499999 .. 7.1200 sec .. Wed Feb  6 12:43:13 2019\n",
            "713000 / 1499999 .. 7.1300 sec .. Wed Feb  6 12:43:16 2019\n",
            "714000 / 1499999 .. 7.1400 sec .. Wed Feb  6 12:43:19 2019\n",
            "715000 / 1499999 .. 7.1500 sec .. Wed Feb  6 12:43:22 2019\n",
            "716000 / 1499999 .. 7.1600 sec .. Wed Feb  6 12:43:25 2019\n",
            "717000 / 1499999 .. 7.1700 sec .. Wed Feb  6 12:43:28 2019\n",
            "718000 / 1499999 .. 7.1800 sec .. Wed Feb  6 12:43:31 2019\n",
            "719000 / 1499999 .. 7.1900 sec .. Wed Feb  6 12:43:35 2019\n",
            "720000 / 1499999 .. 7.2000 sec .. Wed Feb  6 12:43:38 2019\n",
            "721000 / 1499999 .. 7.2100 sec .. Wed Feb  6 12:43:41 2019\n",
            "722000 / 1499999 .. 7.2200 sec .. Wed Feb  6 12:43:44 2019\n",
            "723000 / 1499999 .. 7.2300 sec .. Wed Feb  6 12:43:47 2019\n",
            "724000 / 1499999 .. 7.2400 sec .. Wed Feb  6 12:43:50 2019\n",
            "725000 / 1499999 .. 7.2500 sec .. Wed Feb  6 12:43:53 2019\n",
            "726000 / 1499999 .. 7.2600 sec .. Wed Feb  6 12:43:56 2019\n",
            "727000 / 1499999 .. 7.2700 sec .. Wed Feb  6 12:43:59 2019\n",
            "728000 / 1499999 .. 7.2800 sec .. Wed Feb  6 12:44:02 2019\n",
            "729000 / 1499999 .. 7.2900 sec .. Wed Feb  6 12:44:05 2019\n",
            "730000 / 1499999 .. 7.3000 sec .. Wed Feb  6 12:44:08 2019\n",
            "731000 / 1499999 .. 7.3100 sec .. Wed Feb  6 12:44:11 2019\n",
            "732000 / 1499999 .. 7.3200 sec .. Wed Feb  6 12:44:14 2019\n",
            "733000 / 1499999 .. 7.3300 sec .. Wed Feb  6 12:44:17 2019\n",
            "734000 / 1499999 .. 7.3400 sec .. Wed Feb  6 12:44:20 2019\n",
            "735000 / 1499999 .. 7.3500 sec .. Wed Feb  6 12:44:23 2019\n",
            "736000 / 1499999 .. 7.3600 sec .. Wed Feb  6 12:44:26 2019\n",
            "737000 / 1499999 .. 7.3700 sec .. Wed Feb  6 12:44:30 2019\n",
            "738000 / 1499999 .. 7.3800 sec .. Wed Feb  6 12:44:33 2019\n",
            "739000 / 1499999 .. 7.3900 sec .. Wed Feb  6 12:44:36 2019\n",
            "740000 / 1499999 .. 7.4000 sec .. Wed Feb  6 12:44:39 2019\n",
            "741000 / 1499999 .. 7.4100 sec .. Wed Feb  6 12:44:42 2019\n",
            "742000 / 1499999 .. 7.4200 sec .. Wed Feb  6 12:44:45 2019\n",
            "743000 / 1499999 .. 7.4300 sec .. Wed Feb  6 12:44:48 2019\n",
            "744000 / 1499999 .. 7.4400 sec .. Wed Feb  6 12:44:51 2019\n",
            "745000 / 1499999 .. 7.4500 sec .. Wed Feb  6 12:44:54 2019\n",
            "746000 / 1499999 .. 7.4600 sec .. Wed Feb  6 12:44:57 2019\n",
            "747000 / 1499999 .. 7.4700 sec .. Wed Feb  6 12:45:00 2019\n",
            "748000 / 1499999 .. 7.4800 sec .. Wed Feb  6 12:45:03 2019\n",
            "749000 / 1499999 .. 7.4900 sec .. Wed Feb  6 12:45:06 2019\n",
            "750000 / 1499999 .. 7.5000 sec .. Wed Feb  6 12:45:09 2019\n",
            "751000 / 1499999 .. 7.5100 sec .. Wed Feb  6 12:45:12 2019\n",
            "752000 / 1499999 .. 7.5200 sec .. Wed Feb  6 12:45:15 2019\n",
            "753000 / 1499999 .. 7.5300 sec .. Wed Feb  6 12:45:18 2019\n",
            "754000 / 1499999 .. 7.5400 sec .. Wed Feb  6 12:45:21 2019\n",
            "755000 / 1499999 .. 7.5500 sec .. Wed Feb  6 12:45:24 2019\n",
            "756000 / 1499999 .. 7.5600 sec .. Wed Feb  6 12:45:27 2019\n",
            "757000 / 1499999 .. 7.5700 sec .. Wed Feb  6 12:45:30 2019\n",
            "758000 / 1499999 .. 7.5800 sec .. Wed Feb  6 12:45:33 2019\n",
            "759000 / 1499999 .. 7.5900 sec .. Wed Feb  6 12:45:36 2019\n",
            "760000 / 1499999 .. 7.6000 sec .. Wed Feb  6 12:45:40 2019\n",
            "761000 / 1499999 .. 7.6100 sec .. Wed Feb  6 12:45:43 2019\n",
            "762000 / 1499999 .. 7.6200 sec .. Wed Feb  6 12:45:46 2019\n",
            "763000 / 1499999 .. 7.6300 sec .. Wed Feb  6 12:45:49 2019\n",
            "764000 / 1499999 .. 7.6400 sec .. Wed Feb  6 12:45:52 2019\n",
            "765000 / 1499999 .. 7.6500 sec .. Wed Feb  6 12:45:55 2019\n",
            "766000 / 1499999 .. 7.6600 sec .. Wed Feb  6 12:45:58 2019\n",
            "767000 / 1499999 .. 7.6700 sec .. Wed Feb  6 12:46:01 2019\n",
            "768000 / 1499999 .. 7.6800 sec .. Wed Feb  6 12:46:04 2019\n",
            "769000 / 1499999 .. 7.6900 sec .. Wed Feb  6 12:46:07 2019\n",
            "770000 / 1499999 .. 7.7000 sec .. Wed Feb  6 12:46:10 2019\n",
            "771000 / 1499999 .. 7.7100 sec .. Wed Feb  6 12:46:13 2019\n",
            "772000 / 1499999 .. 7.7200 sec .. Wed Feb  6 12:46:16 2019\n",
            "773000 / 1499999 .. 7.7300 sec .. Wed Feb  6 12:46:19 2019\n",
            "774000 / 1499999 .. 7.7400 sec .. Wed Feb  6 12:46:22 2019\n",
            "775000 / 1499999 .. 7.7500 sec .. Wed Feb  6 12:46:25 2019\n",
            "776000 / 1499999 .. 7.7600 sec .. Wed Feb  6 12:46:28 2019\n",
            "777000 / 1499999 .. 7.7700 sec .. Wed Feb  6 12:46:31 2019\n",
            "778000 / 1499999 .. 7.7800 sec .. Wed Feb  6 12:46:34 2019\n",
            "779000 / 1499999 .. 7.7900 sec .. Wed Feb  6 12:46:37 2019\n",
            "780000 / 1499999 .. 7.8000 sec .. Wed Feb  6 12:46:40 2019\n",
            "781000 / 1499999 .. 7.8100 sec .. Wed Feb  6 12:46:43 2019\n",
            "782000 / 1499999 .. 7.8200 sec .. Wed Feb  6 12:46:46 2019\n",
            "783000 / 1499999 .. 7.8300 sec .. Wed Feb  6 12:46:49 2019\n",
            "784000 / 1499999 .. 7.8400 sec .. Wed Feb  6 12:46:53 2019\n",
            "785000 / 1499999 .. 7.8500 sec .. Wed Feb  6 12:46:56 2019\n",
            "786000 / 1499999 .. 7.8600 sec .. Wed Feb  6 12:46:59 2019\n",
            "787000 / 1499999 .. 7.8700 sec .. Wed Feb  6 12:47:02 2019\n",
            "788000 / 1499999 .. 7.8800 sec .. Wed Feb  6 12:47:05 2019\n",
            "789000 / 1499999 .. 7.8900 sec .. Wed Feb  6 12:47:08 2019\n",
            "790000 / 1499999 .. 7.9000 sec .. Wed Feb  6 12:47:11 2019\n",
            "791000 / 1499999 .. 7.9100 sec .. Wed Feb  6 12:47:14 2019\n",
            "792000 / 1499999 .. 7.9200 sec .. Wed Feb  6 12:47:17 2019\n",
            "793000 / 1499999 .. 7.9300 sec .. Wed Feb  6 12:47:20 2019\n",
            "794000 / 1499999 .. 7.9400 sec .. Wed Feb  6 12:47:23 2019\n",
            "795000 / 1499999 .. 7.9500 sec .. Wed Feb  6 12:47:26 2019\n",
            "796000 / 1499999 .. 7.9600 sec .. Wed Feb  6 12:47:29 2019\n",
            "797000 / 1499999 .. 7.9700 sec .. Wed Feb  6 12:47:32 2019\n",
            "798000 / 1499999 .. 7.9800 sec .. Wed Feb  6 12:47:35 2019\n",
            "799000 / 1499999 .. 7.9900 sec .. Wed Feb  6 12:47:38 2019\n",
            "800000 / 1499999 .. 8.0000 sec .. Wed Feb  6 12:47:41 2019\n",
            "801000 / 1499999 .. 8.0100 sec .. Wed Feb  6 12:47:44 2019\n",
            "802000 / 1499999 .. 8.0200 sec .. Wed Feb  6 12:47:47 2019\n",
            "803000 / 1499999 .. 8.0300 sec .. Wed Feb  6 12:47:51 2019\n",
            "804000 / 1499999 .. 8.0400 sec .. Wed Feb  6 12:47:54 2019\n",
            "805000 / 1499999 .. 8.0500 sec .. Wed Feb  6 12:47:57 2019\n",
            "806000 / 1499999 .. 8.0600 sec .. Wed Feb  6 12:48:00 2019\n",
            "807000 / 1499999 .. 8.0700 sec .. Wed Feb  6 12:48:03 2019\n",
            "808000 / 1499999 .. 8.0800 sec .. Wed Feb  6 12:48:06 2019\n",
            "809000 / 1499999 .. 8.0900 sec .. Wed Feb  6 12:48:09 2019\n",
            "810000 / 1499999 .. 8.1000 sec .. Wed Feb  6 12:48:12 2019\n",
            "811000 / 1499999 .. 8.1100 sec .. Wed Feb  6 12:48:15 2019\n",
            "812000 / 1499999 .. 8.1200 sec .. Wed Feb  6 12:48:18 2019\n",
            "813000 / 1499999 .. 8.1300 sec .. Wed Feb  6 12:48:21 2019\n",
            "814000 / 1499999 .. 8.1400 sec .. Wed Feb  6 12:48:24 2019\n",
            "815000 / 1499999 .. 8.1500 sec .. Wed Feb  6 12:48:27 2019\n",
            "816000 / 1499999 .. 8.1600 sec .. Wed Feb  6 12:48:30 2019\n",
            "817000 / 1499999 .. 8.1700 sec .. Wed Feb  6 12:48:33 2019\n",
            "818000 / 1499999 .. 8.1800 sec .. Wed Feb  6 12:48:36 2019\n",
            "819000 / 1499999 .. 8.1900 sec .. Wed Feb  6 12:48:39 2019\n",
            "820000 / 1499999 .. 8.2000 sec .. Wed Feb  6 12:48:42 2019\n",
            "821000 / 1499999 .. 8.2100 sec .. Wed Feb  6 12:48:45 2019\n",
            "822000 / 1499999 .. 8.2200 sec .. Wed Feb  6 12:48:48 2019\n",
            "823000 / 1499999 .. 8.2300 sec .. Wed Feb  6 12:48:52 2019\n",
            "824000 / 1499999 .. 8.2400 sec .. Wed Feb  6 12:48:55 2019\n",
            "825000 / 1499999 .. 8.2500 sec .. Wed Feb  6 12:48:58 2019\n",
            "826000 / 1499999 .. 8.2600 sec .. Wed Feb  6 12:49:01 2019\n",
            "827000 / 1499999 .. 8.2700 sec .. Wed Feb  6 12:49:04 2019\n",
            "828000 / 1499999 .. 8.2800 sec .. Wed Feb  6 12:49:07 2019\n",
            "829000 / 1499999 .. 8.2900 sec .. Wed Feb  6 12:49:10 2019\n",
            "830000 / 1499999 .. 8.3000 sec .. Wed Feb  6 12:49:13 2019\n",
            "831000 / 1499999 .. 8.3100 sec .. Wed Feb  6 12:49:16 2019\n",
            "832000 / 1499999 .. 8.3200 sec .. Wed Feb  6 12:49:19 2019\n",
            "833000 / 1499999 .. 8.3300 sec .. Wed Feb  6 12:49:22 2019\n",
            "834000 / 1499999 .. 8.3400 sec .. Wed Feb  6 12:49:25 2019\n",
            "835000 / 1499999 .. 8.3500 sec .. Wed Feb  6 12:49:28 2019\n",
            "836000 / 1499999 .. 8.3600 sec .. Wed Feb  6 12:49:31 2019\n",
            "837000 / 1499999 .. 8.3700 sec .. Wed Feb  6 12:49:34 2019\n",
            "838000 / 1499999 .. 8.3800 sec .. Wed Feb  6 12:49:37 2019\n",
            "839000 / 1499999 .. 8.3900 sec .. Wed Feb  6 12:49:40 2019\n",
            "840000 / 1499999 .. 8.4000 sec .. Wed Feb  6 12:49:43 2019\n",
            "841000 / 1499999 .. 8.4100 sec .. Wed Feb  6 12:49:46 2019\n",
            "842000 / 1499999 .. 8.4200 sec .. Wed Feb  6 12:49:49 2019\n",
            "843000 / 1499999 .. 8.4300 sec .. Wed Feb  6 12:49:52 2019\n",
            "844000 / 1499999 .. 8.4400 sec .. Wed Feb  6 12:49:55 2019\n",
            "845000 / 1499999 .. 8.4500 sec .. Wed Feb  6 12:49:58 2019\n",
            "846000 / 1499999 .. 8.4600 sec .. Wed Feb  6 12:50:02 2019\n",
            "847000 / 1499999 .. 8.4700 sec .. Wed Feb  6 12:50:05 2019\n",
            "848000 / 1499999 .. 8.4800 sec .. Wed Feb  6 12:50:08 2019\n",
            "849000 / 1499999 .. 8.4900 sec .. Wed Feb  6 12:50:11 2019\n",
            "850000 / 1499999 .. 8.5000 sec .. Wed Feb  6 12:50:14 2019\n",
            "851000 / 1499999 .. 8.5100 sec .. Wed Feb  6 12:50:17 2019\n",
            "852000 / 1499999 .. 8.5200 sec .. Wed Feb  6 12:50:20 2019\n",
            "853000 / 1499999 .. 8.5300 sec .. Wed Feb  6 12:50:23 2019\n",
            "854000 / 1499999 .. 8.5400 sec .. Wed Feb  6 12:50:26 2019\n",
            "855000 / 1499999 .. 8.5500 sec .. Wed Feb  6 12:50:29 2019\n",
            "856000 / 1499999 .. 8.5600 sec .. Wed Feb  6 12:50:32 2019\n",
            "857000 / 1499999 .. 8.5700 sec .. Wed Feb  6 12:50:35 2019\n",
            "858000 / 1499999 .. 8.5800 sec .. Wed Feb  6 12:50:38 2019\n",
            "859000 / 1499999 .. 8.5900 sec .. Wed Feb  6 12:50:41 2019\n",
            "860000 / 1499999 .. 8.6000 sec .. Wed Feb  6 12:50:44 2019\n",
            "861000 / 1499999 .. 8.6100 sec .. Wed Feb  6 12:50:47 2019\n",
            "862000 / 1499999 .. 8.6200 sec .. Wed Feb  6 12:50:50 2019\n",
            "863000 / 1499999 .. 8.6300 sec .. Wed Feb  6 12:50:53 2019\n",
            "864000 / 1499999 .. 8.6400 sec .. Wed Feb  6 12:50:56 2019\n",
            "865000 / 1499999 .. 8.6500 sec .. Wed Feb  6 12:51:00 2019\n",
            "866000 / 1499999 .. 8.6600 sec .. Wed Feb  6 12:51:03 2019\n",
            "867000 / 1499999 .. 8.6700 sec .. Wed Feb  6 12:51:06 2019\n",
            "868000 / 1499999 .. 8.6800 sec .. Wed Feb  6 12:51:09 2019\n",
            "869000 / 1499999 .. 8.6900 sec .. Wed Feb  6 12:51:12 2019\n",
            "870000 / 1499999 .. 8.7000 sec .. Wed Feb  6 12:51:15 2019\n",
            "871000 / 1499999 .. 8.7100 sec .. Wed Feb  6 12:51:18 2019\n",
            "872000 / 1499999 .. 8.7200 sec .. Wed Feb  6 12:51:21 2019\n",
            "873000 / 1499999 .. 8.7300 sec .. Wed Feb  6 12:51:24 2019\n",
            "874000 / 1499999 .. 8.7400 sec .. Wed Feb  6 12:51:27 2019\n",
            "875000 / 1499999 .. 8.7500 sec .. Wed Feb  6 12:51:30 2019\n",
            "876000 / 1499999 .. 8.7600 sec .. Wed Feb  6 12:51:33 2019\n",
            "877000 / 1499999 .. 8.7700 sec .. Wed Feb  6 12:51:36 2019\n",
            "878000 / 1499999 .. 8.7800 sec .. Wed Feb  6 12:51:39 2019\n",
            "879000 / 1499999 .. 8.7900 sec .. Wed Feb  6 12:51:42 2019\n",
            "880000 / 1499999 .. 8.8000 sec .. Wed Feb  6 12:51:45 2019\n",
            "881000 / 1499999 .. 8.8100 sec .. Wed Feb  6 12:51:48 2019\n",
            "882000 / 1499999 .. 8.8200 sec .. Wed Feb  6 12:51:51 2019\n",
            "883000 / 1499999 .. 8.8300 sec .. Wed Feb  6 12:51:54 2019\n",
            "884000 / 1499999 .. 8.8400 sec .. Wed Feb  6 12:51:57 2019\n",
            "885000 / 1499999 .. 8.8500 sec .. Wed Feb  6 12:52:00 2019\n",
            "886000 / 1499999 .. 8.8600 sec .. Wed Feb  6 12:52:04 2019\n",
            "887000 / 1499999 .. 8.8700 sec .. Wed Feb  6 12:52:07 2019\n",
            "888000 / 1499999 .. 8.8800 sec .. Wed Feb  6 12:52:10 2019\n",
            "889000 / 1499999 .. 8.8900 sec .. Wed Feb  6 12:52:13 2019\n",
            "890000 / 1499999 .. 8.9000 sec .. Wed Feb  6 12:52:16 2019\n",
            "891000 / 1499999 .. 8.9100 sec .. Wed Feb  6 12:52:19 2019\n",
            "892000 / 1499999 .. 8.9200 sec .. Wed Feb  6 12:52:22 2019\n",
            "893000 / 1499999 .. 8.9300 sec .. Wed Feb  6 12:52:25 2019\n",
            "894000 / 1499999 .. 8.9400 sec .. Wed Feb  6 12:52:28 2019\n",
            "895000 / 1499999 .. 8.9500 sec .. Wed Feb  6 12:52:31 2019\n",
            "896000 / 1499999 .. 8.9600 sec .. Wed Feb  6 12:52:34 2019\n",
            "897000 / 1499999 .. 8.9700 sec .. Wed Feb  6 12:52:37 2019\n",
            "898000 / 1499999 .. 8.9800 sec .. Wed Feb  6 12:52:40 2019\n",
            "899000 / 1499999 .. 8.9900 sec .. Wed Feb  6 12:52:43 2019\n",
            "900000 / 1499999 .. 9.0000 sec .. Wed Feb  6 12:52:46 2019\n",
            "901000 / 1499999 .. 9.0100 sec .. Wed Feb  6 12:52:49 2019\n",
            "902000 / 1499999 .. 9.0200 sec .. Wed Feb  6 12:52:52 2019\n",
            "903000 / 1499999 .. 9.0300 sec .. Wed Feb  6 12:52:55 2019\n",
            "904000 / 1499999 .. 9.0400 sec .. Wed Feb  6 12:52:58 2019\n",
            "905000 / 1499999 .. 9.0500 sec .. Wed Feb  6 12:53:01 2019\n",
            "906000 / 1499999 .. 9.0600 sec .. Wed Feb  6 12:53:04 2019\n",
            "907000 / 1499999 .. 9.0700 sec .. Wed Feb  6 12:53:07 2019\n",
            "908000 / 1499999 .. 9.0800 sec .. Wed Feb  6 12:53:10 2019\n",
            "909000 / 1499999 .. 9.0900 sec .. Wed Feb  6 12:53:13 2019\n",
            "910000 / 1499999 .. 9.1000 sec .. Wed Feb  6 12:53:16 2019\n",
            "911000 / 1499999 .. 9.1100 sec .. Wed Feb  6 12:53:19 2019\n",
            "912000 / 1499999 .. 9.1200 sec .. Wed Feb  6 12:53:22 2019\n",
            "913000 / 1499999 .. 9.1300 sec .. Wed Feb  6 12:53:25 2019\n",
            "914000 / 1499999 .. 9.1400 sec .. Wed Feb  6 12:53:28 2019\n",
            "915000 / 1499999 .. 9.1500 sec .. Wed Feb  6 12:53:31 2019\n",
            "916000 / 1499999 .. 9.1600 sec .. Wed Feb  6 12:53:34 2019\n",
            "917000 / 1499999 .. 9.1700 sec .. Wed Feb  6 12:53:37 2019\n",
            "918000 / 1499999 .. 9.1800 sec .. Wed Feb  6 12:53:41 2019\n",
            "919000 / 1499999 .. 9.1900 sec .. Wed Feb  6 12:53:44 2019\n",
            "920000 / 1499999 .. 9.2000 sec .. Wed Feb  6 12:53:47 2019\n",
            "921000 / 1499999 .. 9.2100 sec .. Wed Feb  6 12:53:50 2019\n",
            "922000 / 1499999 .. 9.2200 sec .. Wed Feb  6 12:53:53 2019\n",
            "923000 / 1499999 .. 9.2300 sec .. Wed Feb  6 12:53:56 2019\n",
            "924000 / 1499999 .. 9.2400 sec .. Wed Feb  6 12:53:59 2019\n",
            "925000 / 1499999 .. 9.2500 sec .. Wed Feb  6 12:54:02 2019\n",
            "926000 / 1499999 .. 9.2600 sec .. Wed Feb  6 12:54:05 2019\n",
            "927000 / 1499999 .. 9.2700 sec .. Wed Feb  6 12:54:08 2019\n",
            "928000 / 1499999 .. 9.2800 sec .. Wed Feb  6 12:54:11 2019\n",
            "929000 / 1499999 .. 9.2900 sec .. Wed Feb  6 12:54:14 2019\n",
            "930000 / 1499999 .. 9.3000 sec .. Wed Feb  6 12:54:17 2019\n",
            "931000 / 1499999 .. 9.3100 sec .. Wed Feb  6 12:54:20 2019\n",
            "932000 / 1499999 .. 9.3200 sec .. Wed Feb  6 12:54:23 2019\n",
            "933000 / 1499999 .. 9.3300 sec .. Wed Feb  6 12:54:26 2019\n",
            "934000 / 1499999 .. 9.3400 sec .. Wed Feb  6 12:54:29 2019\n",
            "935000 / 1499999 .. 9.3500 sec .. Wed Feb  6 12:54:32 2019\n",
            "936000 / 1499999 .. 9.3600 sec .. Wed Feb  6 12:54:35 2019\n",
            "937000 / 1499999 .. 9.3700 sec .. Wed Feb  6 12:54:38 2019\n",
            "938000 / 1499999 .. 9.3800 sec .. Wed Feb  6 12:54:42 2019\n",
            "939000 / 1499999 .. 9.3900 sec .. Wed Feb  6 12:54:45 2019\n",
            "940000 / 1499999 .. 9.4000 sec .. Wed Feb  6 12:54:48 2019\n",
            "941000 / 1499999 .. 9.4100 sec .. Wed Feb  6 12:54:51 2019\n",
            "942000 / 1499999 .. 9.4200 sec .. Wed Feb  6 12:54:54 2019\n",
            "943000 / 1499999 .. 9.4300 sec .. Wed Feb  6 12:54:57 2019\n",
            "944000 / 1499999 .. 9.4400 sec .. Wed Feb  6 12:55:00 2019\n",
            "945000 / 1499999 .. 9.4500 sec .. Wed Feb  6 12:55:03 2019\n",
            "946000 / 1499999 .. 9.4600 sec .. Wed Feb  6 12:55:06 2019\n",
            "947000 / 1499999 .. 9.4700 sec .. Wed Feb  6 12:55:09 2019\n",
            "948000 / 1499999 .. 9.4800 sec .. Wed Feb  6 12:55:12 2019\n",
            "949000 / 1499999 .. 9.4900 sec .. Wed Feb  6 12:55:15 2019\n",
            "950000 / 1499999 .. 9.5000 sec .. Wed Feb  6 12:55:18 2019\n",
            "951000 / 1499999 .. 9.5100 sec .. Wed Feb  6 12:55:21 2019\n",
            "952000 / 1499999 .. 9.5200 sec .. Wed Feb  6 12:55:24 2019\n",
            "953000 / 1499999 .. 9.5300 sec .. Wed Feb  6 12:55:27 2019\n",
            "954000 / 1499999 .. 9.5400 sec .. Wed Feb  6 12:55:30 2019\n",
            "955000 / 1499999 .. 9.5500 sec .. Wed Feb  6 12:55:33 2019\n",
            "956000 / 1499999 .. 9.5600 sec .. Wed Feb  6 12:55:36 2019\n",
            "957000 / 1499999 .. 9.5700 sec .. Wed Feb  6 12:55:39 2019\n",
            "958000 / 1499999 .. 9.5800 sec .. Wed Feb  6 12:55:42 2019\n",
            "959000 / 1499999 .. 9.5900 sec .. Wed Feb  6 12:55:45 2019\n",
            "960000 / 1499999 .. 9.6000 sec .. Wed Feb  6 12:55:48 2019\n",
            "961000 / 1499999 .. 9.6100 sec .. Wed Feb  6 12:55:52 2019\n",
            "962000 / 1499999 .. 9.6200 sec .. Wed Feb  6 12:55:55 2019\n",
            "963000 / 1499999 .. 9.6300 sec .. Wed Feb  6 12:55:58 2019\n",
            "964000 / 1499999 .. 9.6400 sec .. Wed Feb  6 12:56:01 2019\n",
            "965000 / 1499999 .. 9.6500 sec .. Wed Feb  6 12:56:04 2019\n",
            "966000 / 1499999 .. 9.6600 sec .. Wed Feb  6 12:56:07 2019\n",
            "967000 / 1499999 .. 9.6700 sec .. Wed Feb  6 12:56:10 2019\n",
            "968000 / 1499999 .. 9.6800 sec .. Wed Feb  6 12:56:13 2019\n",
            "969000 / 1499999 .. 9.6900 sec .. Wed Feb  6 12:56:16 2019\n",
            "970000 / 1499999 .. 9.7000 sec .. Wed Feb  6 12:56:19 2019\n",
            "971000 / 1499999 .. 9.7100 sec .. Wed Feb  6 12:56:22 2019\n",
            "972000 / 1499999 .. 9.7200 sec .. Wed Feb  6 12:56:25 2019\n",
            "973000 / 1499999 .. 9.7300 sec .. Wed Feb  6 12:56:28 2019\n",
            "974000 / 1499999 .. 9.7400 sec .. Wed Feb  6 12:56:31 2019\n",
            "975000 / 1499999 .. 9.7500 sec .. Wed Feb  6 12:56:34 2019\n",
            "976000 / 1499999 .. 9.7600 sec .. Wed Feb  6 12:56:37 2019\n",
            "977000 / 1499999 .. 9.7700 sec .. Wed Feb  6 12:56:40 2019\n",
            "978000 / 1499999 .. 9.7800 sec .. Wed Feb  6 12:56:43 2019\n",
            "979000 / 1499999 .. 9.7900 sec .. Wed Feb  6 12:56:46 2019\n",
            "980000 / 1499999 .. 9.8000 sec .. Wed Feb  6 12:56:49 2019\n",
            "981000 / 1499999 .. 9.8100 sec .. Wed Feb  6 12:56:52 2019\n",
            "982000 / 1499999 .. 9.8200 sec .. Wed Feb  6 12:56:55 2019\n",
            "983000 / 1499999 .. 9.8300 sec .. Wed Feb  6 12:56:58 2019\n",
            "984000 / 1499999 .. 9.8400 sec .. Wed Feb  6 12:57:02 2019\n",
            "985000 / 1499999 .. 9.8500 sec .. Wed Feb  6 12:57:05 2019\n",
            "986000 / 1499999 .. 9.8600 sec .. Wed Feb  6 12:57:08 2019\n",
            "987000 / 1499999 .. 9.8700 sec .. Wed Feb  6 12:57:11 2019\n",
            "988000 / 1499999 .. 9.8800 sec .. Wed Feb  6 12:57:14 2019\n",
            "989000 / 1499999 .. 9.8900 sec .. Wed Feb  6 12:57:17 2019\n",
            "990000 / 1499999 .. 9.9000 sec .. Wed Feb  6 12:57:20 2019\n",
            "991000 / 1499999 .. 9.9100 sec .. Wed Feb  6 12:57:23 2019\n",
            "992000 / 1499999 .. 9.9200 sec .. Wed Feb  6 12:57:26 2019\n",
            "993000 / 1499999 .. 9.9300 sec .. Wed Feb  6 12:57:29 2019\n",
            "994000 / 1499999 .. 9.9400 sec .. Wed Feb  6 12:57:32 2019\n",
            "995000 / 1499999 .. 9.9500 sec .. Wed Feb  6 12:57:35 2019\n",
            "996000 / 1499999 .. 9.9600 sec .. Wed Feb  6 12:57:38 2019\n",
            "997000 / 1499999 .. 9.9700 sec .. Wed Feb  6 12:57:41 2019\n",
            "998000 / 1499999 .. 9.9800 sec .. Wed Feb  6 12:57:44 2019\n",
            "999000 / 1499999 .. 9.9900 sec .. Wed Feb  6 12:57:47 2019\n",
            "1000000 / 1499999 .. 10.0000 sec .. Wed Feb  6 12:57:50 2019\n",
            "1001000 / 1499999 .. 10.0100 sec .. Wed Feb  6 12:57:53 2019\n",
            "1002000 / 1499999 .. 10.0200 sec .. Wed Feb  6 12:57:56 2019\n",
            "1003000 / 1499999 .. 10.0300 sec .. Wed Feb  6 12:57:59 2019\n",
            "1004000 / 1499999 .. 10.0400 sec .. Wed Feb  6 12:58:02 2019\n",
            "1005000 / 1499999 .. 10.0500 sec .. Wed Feb  6 12:58:05 2019\n",
            "1006000 / 1499999 .. 10.0600 sec .. Wed Feb  6 12:58:08 2019\n",
            "1007000 / 1499999 .. 10.0700 sec .. Wed Feb  6 12:58:12 2019\n",
            "1008000 / 1499999 .. 10.0800 sec .. Wed Feb  6 12:58:15 2019\n",
            "1009000 / 1499999 .. 10.0900 sec .. Wed Feb  6 12:58:18 2019\n",
            "1010000 / 1499999 .. 10.1000 sec .. Wed Feb  6 12:58:21 2019\n",
            "1011000 / 1499999 .. 10.1100 sec .. Wed Feb  6 12:58:24 2019\n",
            "1012000 / 1499999 .. 10.1200 sec .. Wed Feb  6 12:58:27 2019\n",
            "1013000 / 1499999 .. 10.1300 sec .. Wed Feb  6 12:58:30 2019\n",
            "1014000 / 1499999 .. 10.1400 sec .. Wed Feb  6 12:58:33 2019\n",
            "1015000 / 1499999 .. 10.1500 sec .. Wed Feb  6 12:58:36 2019\n",
            "1016000 / 1499999 .. 10.1600 sec .. Wed Feb  6 12:58:39 2019\n",
            "1017000 / 1499999 .. 10.1700 sec .. Wed Feb  6 12:58:42 2019\n",
            "1018000 / 1499999 .. 10.1800 sec .. Wed Feb  6 12:58:45 2019\n",
            "1019000 / 1499999 .. 10.1900 sec .. Wed Feb  6 12:58:48 2019\n",
            "1020000 / 1499999 .. 10.2000 sec .. Wed Feb  6 12:58:51 2019\n",
            "1021000 / 1499999 .. 10.2100 sec .. Wed Feb  6 12:58:54 2019\n",
            "1022000 / 1499999 .. 10.2200 sec .. Wed Feb  6 12:58:57 2019\n",
            "1023000 / 1499999 .. 10.2300 sec .. Wed Feb  6 12:59:00 2019\n",
            "1024000 / 1499999 .. 10.2400 sec .. Wed Feb  6 12:59:03 2019\n",
            "1025000 / 1499999 .. 10.2500 sec .. Wed Feb  6 12:59:06 2019\n",
            "1026000 / 1499999 .. 10.2600 sec .. Wed Feb  6 12:59:09 2019\n",
            "1027000 / 1499999 .. 10.2700 sec .. Wed Feb  6 12:59:12 2019\n",
            "1028000 / 1499999 .. 10.2800 sec .. Wed Feb  6 12:59:15 2019\n",
            "1029000 / 1499999 .. 10.2900 sec .. Wed Feb  6 12:59:19 2019\n",
            "1030000 / 1499999 .. 10.3000 sec .. Wed Feb  6 12:59:22 2019\n",
            "1031000 / 1499999 .. 10.3100 sec .. Wed Feb  6 12:59:25 2019\n",
            "1032000 / 1499999 .. 10.3200 sec .. Wed Feb  6 12:59:28 2019\n",
            "1033000 / 1499999 .. 10.3300 sec .. Wed Feb  6 12:59:31 2019\n",
            "1034000 / 1499999 .. 10.3400 sec .. Wed Feb  6 12:59:34 2019\n",
            "1035000 / 1499999 .. 10.3500 sec .. Wed Feb  6 12:59:37 2019\n",
            "1036000 / 1499999 .. 10.3600 sec .. Wed Feb  6 12:59:40 2019\n",
            "1037000 / 1499999 .. 10.3700 sec .. Wed Feb  6 12:59:43 2019\n",
            "1038000 / 1499999 .. 10.3800 sec .. Wed Feb  6 12:59:46 2019\n",
            "1039000 / 1499999 .. 10.3900 sec .. Wed Feb  6 12:59:49 2019\n",
            "1040000 / 1499999 .. 10.4000 sec .. Wed Feb  6 12:59:52 2019\n",
            "1041000 / 1499999 .. 10.4100 sec .. Wed Feb  6 12:59:55 2019\n",
            "1042000 / 1499999 .. 10.4200 sec .. Wed Feb  6 12:59:58 2019\n",
            "1043000 / 1499999 .. 10.4300 sec .. Wed Feb  6 13:00:01 2019\n",
            "1044000 / 1499999 .. 10.4400 sec .. Wed Feb  6 13:00:04 2019\n",
            "1045000 / 1499999 .. 10.4500 sec .. Wed Feb  6 13:00:07 2019\n",
            "1046000 / 1499999 .. 10.4600 sec .. Wed Feb  6 13:00:10 2019\n",
            "1047000 / 1499999 .. 10.4700 sec .. Wed Feb  6 13:00:13 2019\n",
            "1048000 / 1499999 .. 10.4800 sec .. Wed Feb  6 13:00:17 2019\n",
            "1049000 / 1499999 .. 10.4900 sec .. Wed Feb  6 13:00:20 2019\n",
            "1050000 / 1499999 .. 10.5000 sec .. Wed Feb  6 13:00:23 2019\n",
            "1051000 / 1499999 .. 10.5100 sec .. Wed Feb  6 13:00:26 2019\n",
            "1052000 / 1499999 .. 10.5200 sec .. Wed Feb  6 13:00:29 2019\n",
            "1053000 / 1499999 .. 10.5300 sec .. Wed Feb  6 13:00:32 2019\n",
            "1054000 / 1499999 .. 10.5400 sec .. Wed Feb  6 13:00:35 2019\n",
            "1055000 / 1499999 .. 10.5500 sec .. Wed Feb  6 13:00:38 2019\n",
            "1056000 / 1499999 .. 10.5600 sec .. Wed Feb  6 13:00:41 2019\n",
            "1057000 / 1499999 .. 10.5700 sec .. Wed Feb  6 13:00:44 2019\n",
            "1058000 / 1499999 .. 10.5800 sec .. Wed Feb  6 13:00:47 2019\n",
            "1059000 / 1499999 .. 10.5900 sec .. Wed Feb  6 13:00:50 2019\n",
            "1060000 / 1499999 .. 10.6000 sec .. Wed Feb  6 13:00:53 2019\n",
            "1061000 / 1499999 .. 10.6100 sec .. Wed Feb  6 13:00:56 2019\n",
            "1062000 / 1499999 .. 10.6200 sec .. Wed Feb  6 13:00:59 2019\n",
            "1063000 / 1499999 .. 10.6300 sec .. Wed Feb  6 13:01:02 2019\n",
            "1064000 / 1499999 .. 10.6400 sec .. Wed Feb  6 13:01:05 2019\n",
            "1065000 / 1499999 .. 10.6500 sec .. Wed Feb  6 13:01:09 2019\n",
            "1066000 / 1499999 .. 10.6600 sec .. Wed Feb  6 13:01:12 2019\n",
            "1067000 / 1499999 .. 10.6700 sec .. Wed Feb  6 13:01:15 2019\n",
            "1068000 / 1499999 .. 10.6800 sec .. Wed Feb  6 13:01:18 2019\n",
            "1069000 / 1499999 .. 10.6900 sec .. Wed Feb  6 13:01:21 2019\n",
            "1070000 / 1499999 .. 10.7000 sec .. Wed Feb  6 13:01:24 2019\n",
            "1071000 / 1499999 .. 10.7100 sec .. Wed Feb  6 13:01:27 2019\n",
            "1072000 / 1499999 .. 10.7200 sec .. Wed Feb  6 13:01:30 2019\n",
            "1073000 / 1499999 .. 10.7300 sec .. Wed Feb  6 13:01:33 2019\n",
            "1074000 / 1499999 .. 10.7400 sec .. Wed Feb  6 13:01:36 2019\n",
            "1075000 / 1499999 .. 10.7500 sec .. Wed Feb  6 13:01:39 2019\n",
            "1076000 / 1499999 .. 10.7600 sec .. Wed Feb  6 13:01:42 2019\n",
            "1077000 / 1499999 .. 10.7700 sec .. Wed Feb  6 13:01:45 2019\n",
            "1078000 / 1499999 .. 10.7800 sec .. Wed Feb  6 13:01:48 2019\n",
            "1079000 / 1499999 .. 10.7900 sec .. Wed Feb  6 13:01:51 2019\n",
            "1080000 / 1499999 .. 10.8000 sec .. Wed Feb  6 13:01:54 2019\n",
            "1081000 / 1499999 .. 10.8100 sec .. Wed Feb  6 13:01:57 2019\n",
            "1082000 / 1499999 .. 10.8200 sec .. Wed Feb  6 13:02:00 2019\n",
            "1083000 / 1499999 .. 10.8300 sec .. Wed Feb  6 13:02:03 2019\n",
            "1084000 / 1499999 .. 10.8400 sec .. Wed Feb  6 13:02:06 2019\n",
            "1085000 / 1499999 .. 10.8500 sec .. Wed Feb  6 13:02:10 2019\n",
            "1086000 / 1499999 .. 10.8600 sec .. Wed Feb  6 13:02:13 2019\n",
            "1087000 / 1499999 .. 10.8700 sec .. Wed Feb  6 13:02:16 2019\n",
            "1088000 / 1499999 .. 10.8800 sec .. Wed Feb  6 13:02:19 2019\n",
            "1089000 / 1499999 .. 10.8900 sec .. Wed Feb  6 13:02:22 2019\n",
            "1090000 / 1499999 .. 10.9000 sec .. Wed Feb  6 13:02:25 2019\n",
            "1091000 / 1499999 .. 10.9100 sec .. Wed Feb  6 13:02:28 2019\n",
            "1092000 / 1499999 .. 10.9200 sec .. Wed Feb  6 13:02:31 2019\n",
            "1093000 / 1499999 .. 10.9300 sec .. Wed Feb  6 13:02:34 2019\n",
            "1094000 / 1499999 .. 10.9400 sec .. Wed Feb  6 13:02:37 2019\n",
            "1095000 / 1499999 .. 10.9500 sec .. Wed Feb  6 13:02:40 2019\n",
            "1096000 / 1499999 .. 10.9600 sec .. Wed Feb  6 13:02:43 2019\n",
            "1097000 / 1499999 .. 10.9700 sec .. Wed Feb  6 13:02:46 2019\n",
            "1098000 / 1499999 .. 10.9800 sec .. Wed Feb  6 13:02:49 2019\n",
            "1099000 / 1499999 .. 10.9900 sec .. Wed Feb  6 13:02:52 2019\n",
            "1100000 / 1499999 .. 11.0000 sec .. Wed Feb  6 13:02:55 2019\n",
            "1101000 / 1499999 .. 11.0100 sec .. Wed Feb  6 13:02:58 2019\n",
            "1102000 / 1499999 .. 11.0200 sec .. Wed Feb  6 13:03:01 2019\n",
            "1103000 / 1499999 .. 11.0300 sec .. Wed Feb  6 13:03:04 2019\n",
            "1104000 / 1499999 .. 11.0400 sec .. Wed Feb  6 13:03:07 2019\n",
            "1105000 / 1499999 .. 11.0500 sec .. Wed Feb  6 13:03:10 2019\n",
            "1106000 / 1499999 .. 11.0600 sec .. Wed Feb  6 13:03:13 2019\n",
            "1107000 / 1499999 .. 11.0700 sec .. Wed Feb  6 13:03:16 2019\n",
            "1108000 / 1499999 .. 11.0800 sec .. Wed Feb  6 13:03:20 2019\n",
            "1109000 / 1499999 .. 11.0900 sec .. Wed Feb  6 13:03:23 2019\n",
            "1110000 / 1499999 .. 11.1000 sec .. Wed Feb  6 13:03:26 2019\n",
            "1111000 / 1499999 .. 11.1100 sec .. Wed Feb  6 13:03:29 2019\n",
            "1112000 / 1499999 .. 11.1200 sec .. Wed Feb  6 13:03:32 2019\n",
            "1113000 / 1499999 .. 11.1300 sec .. Wed Feb  6 13:03:35 2019\n",
            "1114000 / 1499999 .. 11.1400 sec .. Wed Feb  6 13:03:38 2019\n",
            "1115000 / 1499999 .. 11.1500 sec .. Wed Feb  6 13:03:41 2019\n",
            "1116000 / 1499999 .. 11.1600 sec .. Wed Feb  6 13:03:44 2019\n",
            "1117000 / 1499999 .. 11.1700 sec .. Wed Feb  6 13:03:47 2019\n",
            "1118000 / 1499999 .. 11.1800 sec .. Wed Feb  6 13:03:50 2019\n",
            "1119000 / 1499999 .. 11.1900 sec .. Wed Feb  6 13:03:53 2019\n",
            "1120000 / 1499999 .. 11.2000 sec .. Wed Feb  6 13:03:56 2019\n",
            "1121000 / 1499999 .. 11.2100 sec .. Wed Feb  6 13:03:59 2019\n",
            "1122000 / 1499999 .. 11.2200 sec .. Wed Feb  6 13:04:02 2019\n",
            "1123000 / 1499999 .. 11.2300 sec .. Wed Feb  6 13:04:05 2019\n",
            "1124000 / 1499999 .. 11.2400 sec .. Wed Feb  6 13:04:08 2019\n",
            "1125000 / 1499999 .. 11.2500 sec .. Wed Feb  6 13:04:11 2019\n",
            "1126000 / 1499999 .. 11.2600 sec .. Wed Feb  6 13:04:14 2019\n",
            "1127000 / 1499999 .. 11.2700 sec .. Wed Feb  6 13:04:17 2019\n",
            "1128000 / 1499999 .. 11.2800 sec .. Wed Feb  6 13:04:20 2019\n",
            "1129000 / 1499999 .. 11.2900 sec .. Wed Feb  6 13:04:23 2019\n",
            "1130000 / 1499999 .. 11.3000 sec .. Wed Feb  6 13:04:26 2019\n",
            "1131000 / 1499999 .. 11.3100 sec .. Wed Feb  6 13:04:30 2019\n",
            "1132000 / 1499999 .. 11.3200 sec .. Wed Feb  6 13:04:33 2019\n",
            "1133000 / 1499999 .. 11.3300 sec .. Wed Feb  6 13:04:36 2019\n",
            "1134000 / 1499999 .. 11.3400 sec .. Wed Feb  6 13:04:39 2019\n",
            "1135000 / 1499999 .. 11.3500 sec .. Wed Feb  6 13:04:42 2019\n",
            "1136000 / 1499999 .. 11.3600 sec .. Wed Feb  6 13:04:45 2019\n",
            "1137000 / 1499999 .. 11.3700 sec .. Wed Feb  6 13:04:48 2019\n",
            "1138000 / 1499999 .. 11.3800 sec .. Wed Feb  6 13:04:51 2019\n",
            "1139000 / 1499999 .. 11.3900 sec .. Wed Feb  6 13:04:54 2019\n",
            "1140000 / 1499999 .. 11.4000 sec .. Wed Feb  6 13:04:57 2019\n",
            "1141000 / 1499999 .. 11.4100 sec .. Wed Feb  6 13:05:00 2019\n",
            "1142000 / 1499999 .. 11.4200 sec .. Wed Feb  6 13:05:03 2019\n",
            "1143000 / 1499999 .. 11.4300 sec .. Wed Feb  6 13:05:06 2019\n",
            "1144000 / 1499999 .. 11.4400 sec .. Wed Feb  6 13:05:09 2019\n",
            "1145000 / 1499999 .. 11.4500 sec .. Wed Feb  6 13:05:12 2019\n",
            "1146000 / 1499999 .. 11.4600 sec .. Wed Feb  6 13:05:15 2019\n",
            "1147000 / 1499999 .. 11.4700 sec .. Wed Feb  6 13:05:18 2019\n",
            "1148000 / 1499999 .. 11.4800 sec .. Wed Feb  6 13:05:21 2019\n",
            "1149000 / 1499999 .. 11.4900 sec .. Wed Feb  6 13:05:24 2019\n",
            "1150000 / 1499999 .. 11.5000 sec .. Wed Feb  6 13:05:27 2019\n",
            "1151000 / 1499999 .. 11.5100 sec .. Wed Feb  6 13:05:30 2019\n",
            "1152000 / 1499999 .. 11.5200 sec .. Wed Feb  6 13:05:33 2019\n",
            "1153000 / 1499999 .. 11.5300 sec .. Wed Feb  6 13:05:36 2019\n",
            "1154000 / 1499999 .. 11.5400 sec .. Wed Feb  6 13:05:39 2019\n",
            "1155000 / 1499999 .. 11.5500 sec .. Wed Feb  6 13:05:42 2019\n",
            "1156000 / 1499999 .. 11.5600 sec .. Wed Feb  6 13:05:45 2019\n",
            "1157000 / 1499999 .. 11.5700 sec .. Wed Feb  6 13:05:49 2019\n",
            "1158000 / 1499999 .. 11.5800 sec .. Wed Feb  6 13:05:52 2019\n",
            "1159000 / 1499999 .. 11.5900 sec .. Wed Feb  6 13:05:55 2019\n",
            "1160000 / 1499999 .. 11.6000 sec .. Wed Feb  6 13:05:58 2019\n",
            "1161000 / 1499999 .. 11.6100 sec .. Wed Feb  6 13:06:01 2019\n",
            "1162000 / 1499999 .. 11.6200 sec .. Wed Feb  6 13:06:04 2019\n",
            "1163000 / 1499999 .. 11.6300 sec .. Wed Feb  6 13:06:07 2019\n",
            "1164000 / 1499999 .. 11.6400 sec .. Wed Feb  6 13:06:10 2019\n",
            "1165000 / 1499999 .. 11.6500 sec .. Wed Feb  6 13:06:13 2019\n",
            "1166000 / 1499999 .. 11.6600 sec .. Wed Feb  6 13:06:16 2019\n",
            "1167000 / 1499999 .. 11.6700 sec .. Wed Feb  6 13:06:19 2019\n",
            "1168000 / 1499999 .. 11.6800 sec .. Wed Feb  6 13:06:22 2019\n",
            "1169000 / 1499999 .. 11.6900 sec .. Wed Feb  6 13:06:25 2019\n",
            "1170000 / 1499999 .. 11.7000 sec .. Wed Feb  6 13:06:28 2019\n",
            "1171000 / 1499999 .. 11.7100 sec .. Wed Feb  6 13:06:31 2019\n",
            "1172000 / 1499999 .. 11.7200 sec .. Wed Feb  6 13:06:34 2019\n",
            "1173000 / 1499999 .. 11.7300 sec .. Wed Feb  6 13:06:37 2019\n",
            "1174000 / 1499999 .. 11.7400 sec .. Wed Feb  6 13:06:40 2019\n",
            "1175000 / 1499999 .. 11.7500 sec .. Wed Feb  6 13:06:43 2019\n",
            "1176000 / 1499999 .. 11.7600 sec .. Wed Feb  6 13:06:46 2019\n",
            "1177000 / 1499999 .. 11.7700 sec .. Wed Feb  6 13:06:49 2019\n",
            "1178000 / 1499999 .. 11.7800 sec .. Wed Feb  6 13:06:53 2019\n",
            "1179000 / 1499999 .. 11.7900 sec .. Wed Feb  6 13:06:56 2019\n",
            "1180000 / 1499999 .. 11.8000 sec .. Wed Feb  6 13:06:59 2019\n",
            "1181000 / 1499999 .. 11.8100 sec .. Wed Feb  6 13:07:02 2019\n",
            "1182000 / 1499999 .. 11.8200 sec .. Wed Feb  6 13:07:05 2019\n",
            "1183000 / 1499999 .. 11.8300 sec .. Wed Feb  6 13:07:08 2019\n",
            "1184000 / 1499999 .. 11.8400 sec .. Wed Feb  6 13:07:11 2019\n",
            "1185000 / 1499999 .. 11.8500 sec .. Wed Feb  6 13:07:14 2019\n",
            "1186000 / 1499999 .. 11.8600 sec .. Wed Feb  6 13:07:17 2019\n",
            "1187000 / 1499999 .. 11.8700 sec .. Wed Feb  6 13:07:20 2019\n",
            "1188000 / 1499999 .. 11.8800 sec .. Wed Feb  6 13:07:23 2019\n",
            "1189000 / 1499999 .. 11.8900 sec .. Wed Feb  6 13:07:26 2019\n",
            "1190000 / 1499999 .. 11.9000 sec .. Wed Feb  6 13:07:29 2019\n",
            "1191000 / 1499999 .. 11.9100 sec .. Wed Feb  6 13:07:32 2019\n",
            "1192000 / 1499999 .. 11.9200 sec .. Wed Feb  6 13:07:35 2019\n",
            "1193000 / 1499999 .. 11.9300 sec .. Wed Feb  6 13:07:38 2019\n",
            "1194000 / 1499999 .. 11.9400 sec .. Wed Feb  6 13:07:41 2019\n",
            "1195000 / 1499999 .. 11.9500 sec .. Wed Feb  6 13:07:44 2019\n",
            "1196000 / 1499999 .. 11.9600 sec .. Wed Feb  6 13:07:47 2019\n",
            "1197000 / 1499999 .. 11.9700 sec .. Wed Feb  6 13:07:51 2019\n",
            "1198000 / 1499999 .. 11.9800 sec .. Wed Feb  6 13:07:54 2019\n",
            "1199000 / 1499999 .. 11.9900 sec .. Wed Feb  6 13:07:57 2019\n",
            "1200000 / 1499999 .. 12.0000 sec .. Wed Feb  6 13:08:00 2019\n",
            "1201000 / 1499999 .. 12.0100 sec .. Wed Feb  6 13:08:03 2019\n",
            "1202000 / 1499999 .. 12.0200 sec .. Wed Feb  6 13:08:06 2019\n",
            "1203000 / 1499999 .. 12.0300 sec .. Wed Feb  6 13:08:09 2019\n",
            "1204000 / 1499999 .. 12.0400 sec .. Wed Feb  6 13:08:12 2019\n",
            "1205000 / 1499999 .. 12.0500 sec .. Wed Feb  6 13:08:16 2019\n",
            "1206000 / 1499999 .. 12.0600 sec .. Wed Feb  6 13:08:19 2019\n",
            "1207000 / 1499999 .. 12.0700 sec .. Wed Feb  6 13:08:22 2019\n",
            "1208000 / 1499999 .. 12.0800 sec .. Wed Feb  6 13:08:25 2019\n",
            "1209000 / 1499999 .. 12.0900 sec .. Wed Feb  6 13:08:28 2019\n",
            "1210000 / 1499999 .. 12.1000 sec .. Wed Feb  6 13:08:31 2019\n",
            "1211000 / 1499999 .. 12.1100 sec .. Wed Feb  6 13:08:34 2019\n",
            "1212000 / 1499999 .. 12.1200 sec .. Wed Feb  6 13:08:38 2019\n",
            "1213000 / 1499999 .. 12.1300 sec .. Wed Feb  6 13:08:41 2019\n",
            "1214000 / 1499999 .. 12.1400 sec .. Wed Feb  6 13:08:44 2019\n",
            "1215000 / 1499999 .. 12.1500 sec .. Wed Feb  6 13:08:47 2019\n",
            "1216000 / 1499999 .. 12.1600 sec .. Wed Feb  6 13:08:50 2019\n",
            "1217000 / 1499999 .. 12.1700 sec .. Wed Feb  6 13:08:53 2019\n",
            "1218000 / 1499999 .. 12.1800 sec .. Wed Feb  6 13:08:56 2019\n",
            "1219000 / 1499999 .. 12.1900 sec .. Wed Feb  6 13:08:59 2019\n",
            "1220000 / 1499999 .. 12.2000 sec .. Wed Feb  6 13:09:02 2019\n",
            "1221000 / 1499999 .. 12.2100 sec .. Wed Feb  6 13:09:05 2019\n",
            "1222000 / 1499999 .. 12.2200 sec .. Wed Feb  6 13:09:08 2019\n",
            "1223000 / 1499999 .. 12.2300 sec .. Wed Feb  6 13:09:11 2019\n",
            "1224000 / 1499999 .. 12.2400 sec .. Wed Feb  6 13:09:14 2019\n",
            "1225000 / 1499999 .. 12.2500 sec .. Wed Feb  6 13:09:17 2019\n",
            "1226000 / 1499999 .. 12.2600 sec .. Wed Feb  6 13:09:21 2019\n",
            "1227000 / 1499999 .. 12.2700 sec .. Wed Feb  6 13:09:24 2019\n",
            "1228000 / 1499999 .. 12.2800 sec .. Wed Feb  6 13:09:27 2019\n",
            "1229000 / 1499999 .. 12.2900 sec .. Wed Feb  6 13:09:30 2019\n",
            "1230000 / 1499999 .. 12.3000 sec .. Wed Feb  6 13:09:33 2019\n",
            "1231000 / 1499999 .. 12.3100 sec .. Wed Feb  6 13:09:36 2019\n",
            "1232000 / 1499999 .. 12.3200 sec .. Wed Feb  6 13:09:39 2019\n",
            "1233000 / 1499999 .. 12.3300 sec .. Wed Feb  6 13:09:42 2019\n",
            "1234000 / 1499999 .. 12.3400 sec .. Wed Feb  6 13:09:45 2019\n",
            "1235000 / 1499999 .. 12.3500 sec .. Wed Feb  6 13:09:48 2019\n",
            "1236000 / 1499999 .. 12.3600 sec .. Wed Feb  6 13:09:51 2019\n",
            "1237000 / 1499999 .. 12.3700 sec .. Wed Feb  6 13:09:54 2019\n",
            "1238000 / 1499999 .. 12.3800 sec .. Wed Feb  6 13:09:57 2019\n",
            "1239000 / 1499999 .. 12.3900 sec .. Wed Feb  6 13:10:00 2019\n",
            "1240000 / 1499999 .. 12.4000 sec .. Wed Feb  6 13:10:03 2019\n",
            "1241000 / 1499999 .. 12.4100 sec .. Wed Feb  6 13:10:06 2019\n",
            "1242000 / 1499999 .. 12.4200 sec .. Wed Feb  6 13:10:09 2019\n",
            "1243000 / 1499999 .. 12.4300 sec .. Wed Feb  6 13:10:12 2019\n",
            "1244000 / 1499999 .. 12.4400 sec .. Wed Feb  6 13:10:15 2019\n",
            "1245000 / 1499999 .. 12.4500 sec .. Wed Feb  6 13:10:18 2019\n",
            "1246000 / 1499999 .. 12.4600 sec .. Wed Feb  6 13:10:21 2019\n"
          ],
          "name": "stdout"
        }
      ]
    },
    {
      "metadata": {
        "id": "kesUvND_uwcj",
        "colab_type": "code",
        "colab": {}
      },
      "cell_type": "code",
      "source": [
        "#ti = 250\n",
        "#ti, tx[ti], ((tx[ti]>tmin) & (tx[ti]<tcrit))"
      ],
      "execution_count": 0,
      "outputs": []
    },
    {
      "metadata": {
        "id": "aZQWFN36so6-",
        "colab_type": "code",
        "outputId": "39c9383d-cb19-4f0c-c613-f0f894f43b0f",
        "colab": {
          "base_uri": "https://localhost:8080/",
          "height": 34
        }
      },
      "cell_type": "code",
      "source": [
        "len(vs), len(zs), len(bps), len(rs), len(ss), len(es)"
      ],
      "execution_count": 0,
      "outputs": [
        {
          "output_type": "execute_result",
          "data": {
            "text/plain": [
              "(1500, 1500, 0, 0, 0, 0)"
            ]
          },
          "metadata": {
            "tags": []
          },
          "execution_count": 62
        }
      ]
    },
    {
      "metadata": {
        "id": "PlyCnBIfstIG",
        "colab_type": "code",
        "colab": {}
      },
      "cell_type": "code",
      "source": [
        "#vs[0].shape, zs[0], bps[0].shape, rs[0].shape, ss[0].shape, es[0].shape, cds[0].shape, hrs[0].shape, pinvs[0].shape"
      ],
      "execution_count": 0,
      "outputs": []
    },
    {
      "metadata": {
        "id": "2IQbSUIAMKhB",
        "colab_type": "code",
        "outputId": "d73b909c-2ee2-4bc6-d5b2-2bb897f63e6d",
        "colab": {
          "base_uri": "https://localhost:8080/",
          "height": 34
        }
      },
      "cell_type": "code",
      "source": [
        "tx2 = tx[::record_step]\n",
        "tx.shape, tx2.shape"
      ],
      "execution_count": 0,
      "outputs": [
        {
          "output_type": "execute_result",
          "data": {
            "text/plain": [
              "((1499999,), (1500,))"
            ]
          },
          "metadata": {
            "tags": []
          },
          "execution_count": 64
        }
      ]
    },
    {
      "metadata": {
        "id": "tEWnImO7d-dQ",
        "colab_type": "code",
        "outputId": "02ac1bc2-1b59-4327-f778-e305b11f844e",
        "colab": {
          "base_uri": "https://localhost:8080/",
          "height": 34
        }
      },
      "cell_type": "code",
      "source": [
        "#len(vs), vs[0].shape\n",
        "#len(zs), zs[0].shape\n",
        "vv = np.concatenate(vs, axis=1)[:, :tx2.shape[0]]\n",
        "zv = np.concatenate(zs, axis=1)[:, :tx2.shape[0]]\n",
        "#sv = np.concatenate(ss, axis=1)\n",
        "\n",
        "vv.shape, zv.shape # , sv.shape"
      ],
      "execution_count": 0,
      "outputs": [
        {
          "output_type": "execute_result",
          "data": {
            "text/plain": [
              "((2000, 1500), (1, 1500))"
            ]
          },
          "metadata": {
            "tags": []
          },
          "execution_count": 65
        }
      ]
    },
    {
      "metadata": {
        "id": "6gbevZDrWo6Y",
        "colab_type": "code",
        "outputId": "8aaa25c3-35b5-4072-e991-753a7828bb9e",
        "colab": {
          "base_uri": "https://localhost:8080/",
          "height": 59
        }
      },
      "cell_type": "code",
      "source": [
        "\"\"\"\n",
        "bpv = np.concatenate(bps, axis=1)\n",
        "rv = np.concatenate(rs, axis=1)\n",
        "ev = np.concatenate(es, axis=1)\n",
        "cdv = np.concatenate(cds, axis=1)\n",
        "hrv = np.concatenate(hrs, axis=1)\n",
        "pinvv = np.concatenate([np.expand_dims(x, 2) for x in pinvs], axis=2)\n",
        "\n",
        "tx.shape, xz.shape, bpv.shape, rv.shape, ev.shape, cdv.shape, hrv.shape, pinvv.shape\n",
        "\"\"\""
      ],
      "execution_count": 0,
      "outputs": [
        {
          "output_type": "execute_result",
          "data": {
            "text/plain": [
              "'\\nbpv = np.concatenate(bps, axis=1)\\nrv = np.concatenate(rs, axis=1)\\nev = np.concatenate(es, axis=1)\\ncdv = np.concatenate(cds, axis=1)\\nhrv = np.concatenate(hrs, axis=1)\\npinvv = np.concatenate([np.expand_dims(x, 2) for x in pinvs], axis=2)\\n\\ntx.shape, xz.shape, bpv.shape, rv.shape, ev.shape, cdv.shape, hrv.shape, pinvv.shape\\n'"
            ]
          },
          "metadata": {
            "tags": []
          },
          "execution_count": 66
        }
      ]
    },
    {
      "metadata": {
        "colab_type": "code",
        "outputId": "dd675a01-4f6e-43a2-892f-dc6c2ab18ee3",
        "id": "9gO1BzpxbjPt",
        "colab": {
          "base_uri": "https://localhost:8080/",
          "height": 34
        }
      },
      "cell_type": "code",
      "source": [
        "te = zv.shape[1]\n",
        "te, tx.shape"
      ],
      "execution_count": 0,
      "outputs": [
        {
          "output_type": "execute_result",
          "data": {
            "text/plain": [
              "(1500, (1499999,))"
            ]
          },
          "metadata": {
            "tags": []
          },
          "execution_count": 67
        }
      ]
    },
    {
      "metadata": {
        "id": "ZoORbRfXtoVf",
        "colab_type": "code",
        "outputId": "d3dc1733-a581-4d73-b53b-b9be2b64f2aa",
        "colab": {
          "base_uri": "https://localhost:8080/",
          "height": 560
        }
      },
      "cell_type": "code",
      "source": [
        "plt.plot(tx2, zv.transpose())\n",
        "plt.title(\"current\")\n",
        "plt.show()\n",
        "\n",
        "plt.plot(tx, xz)\n",
        "plt.title(\"teacher\")\n",
        "plt.show()\n",
        "\n",
        "\"\"\"\n",
        "plt.plot(tx2, ev.transpose(), '--')\n",
        "plt.title(\"err\")\n",
        "plt.show()\n",
        "\"\"\""
      ],
      "execution_count": 0,
      "outputs": [
        {
          "output_type": "display_data",
          "data": {
            "image/png": "[encoded data removed]",
            "text/plain": [
              "<Figure size 432x288 with 1 Axes>"
            ]
          },
          "metadata": {
            "tags": []
          }
        },
        {
          "output_type": "display_data",
          "data": {
            "image/png": "[encoded data removed]",
            "text/plain": [
              "<Figure size 432x288 with 1 Axes>"
            ]
          },
          "metadata": {
            "tags": []
          }
        },
        {
          "output_type": "execute_result",
          "data": {
            "text/plain": [
              "'\\nplt.plot(tx2, ev.transpose(), \\'--\\')\\nplt.title(\"err\")\\nplt.show()\\n'"
            ]
          },
          "metadata": {
            "tags": []
          },
          "execution_count": 68
        }
      ]
    },
    {
      "metadata": {
        "id": "dKBB1eflmJgP",
        "colab_type": "code",
        "outputId": "87e45dda-0795-4e2f-edfa-f8fe40b0c8a3",
        "colab": {
          "base_uri": "https://localhost:8080/",
          "height": 280
        }
      },
      "cell_type": "code",
      "source": [
        "plt.plot(tx2, vv[0:20,:].transpose())\n",
        "plt.title(\"voltage of neuron 0:x\")\n",
        "plt.show()"
      ],
      "execution_count": 0,
      "outputs": [
        {
          "output_type": "display_data",
          "data": {
            "image/png": "[encoded data removed]",
            "text/plain": [
              "<Figure size 432x288 with 1 Axes>"
            ]
          },
          "metadata": {
            "tags": []
          }
        }
      ]
    },
    {
      "metadata": {
        "id": "BpnBvSbNNbYe",
        "colab_type": "code",
        "outputId": "e10a29b3-e420-4753-9ca5-4afc16ae15b2",
        "colab": {
          "base_uri": "https://localhost:8080/",
          "height": 34
        }
      },
      "cell_type": "code",
      "source": [
        "\"\"\"\n",
        "plt.plot(tx2, sv[0:20,:].transpose())\n",
        "plt.title(\"fired 0:x\")\n",
        "plt.show()\n",
        "\"\"\""
      ],
      "execution_count": 0,
      "outputs": [
        {
          "output_type": "execute_result",
          "data": {
            "text/plain": [
              "'\\nplt.plot(tx2, sv[0:20,:].transpose())\\nplt.title(\"fired 0:x\")\\nplt.show()\\n'"
            ]
          },
          "metadata": {
            "tags": []
          },
          "execution_count": 70
        }
      ]
    },
    {
      "metadata": {
        "id": "Oo_WRPoZ342R",
        "colab_type": "code",
        "outputId": "1d96a51b-b17a-4ce6-d45a-cc57a180b5da",
        "colab": {
          "base_uri": "https://localhost:8080/",
          "height": 265
        }
      },
      "cell_type": "code",
      "source": [
        "#plt.plot(tx, range(N), sv)\n",
        "#plt.title(\"fired matrix\")\n",
        "#plt.show()\n",
        "\n",
        "\n",
        "#inha, inhb = np.nonzero(sv.transpose())\n",
        "inha, inhb = np.nonzero((vv >= vpeak-.01).transpose()) # approximate firing from voltages\n",
        "plt.plot(tx2[inha], inhb, 'k.')\n",
        "plt.show()"
      ],
      "execution_count": 0,
      "outputs": [
        {
          "output_type": "display_data",
          "data": {
            "image/png": "[encoded data removed]",
            "text/plain": [
              "<Figure size 432x288 with 1 Axes>"
            ]
          },
          "metadata": {
            "tags": []
          }
        }
      ]
    },
    {
      "metadata": {
        "id": "oD-B_ipvRpty",
        "colab_type": "code",
        "outputId": "a8671dc1-41f0-4070-bee1-57861e6ef41e",
        "colab": {
          "base_uri": "https://localhost:8080/",
          "height": 265
        }
      },
      "cell_type": "code",
      "source": [
        "# plot of number of neurons firing\n",
        "# approximate firing from voltages\n",
        "\n",
        "import pandas as pd\n",
        "fire_count = (vv >= vpeak-.01).sum(axis=0)\n",
        "\n",
        "# moving average\n",
        "# n=10 corresponds to 0.1 seconds at dt=10e-6\n",
        "fire_count = pd.Series(fire_count).rolling(10).sum()\n",
        "\n",
        "# plot\n",
        "plt.plot(tx2, fire_count)\n",
        "plt.show()"
      ],
      "execution_count": 0,
      "outputs": [
        {
          "output_type": "display_data",
          "data": {
            "image/png": "[encoded data removed]",
            "text/plain": [
              "<Figure size 432x288 with 1 Axes>"
            ]
          },
          "metadata": {
            "tags": []
          }
        }
      ]
    },
    {
      "metadata": {
        "id": "E4K5n_FGYvY0",
        "colab_type": "text"
      },
      "cell_type": "markdown",
      "source": [
        "\n",
        "\n",
        "---\n",
        "\n",
        "\n",
        "\n",
        "---\n",
        "\n",
        "\n",
        "\n",
        "---\n",
        "\n",
        "\n",
        "\n",
        "---\n",
        "\n",
        "\n",
        "\n",
        "---\n",
        "\n"
      ]
    },
    {
      "metadata": {
        "id": "XBqUnWvLc5lv",
        "colab_type": "code",
        "colab": {}
      },
      "cell_type": "code",
      "source": [
        "# save model and recorded data\n",
        "saver = tf.train.Saver()\n",
        "\n",
        "#!mkdir /content/t3b_after_10sec_sin_input/\n",
        "#save_path = saver.save(sess, \"/content/t3b_after_10sec_sin_input/model.ckpt\")\n",
        "\n",
        "!rm -rf /content/t3b_after_15sec_none_sin_none/\n",
        "!mkdir /content/t3b_after_15sec_none_sin_none/\n",
        "save_path = saver.save(sess, \"/content/t3b_after_15sec_none_sin_none/model.ckpt\")\n"
      ],
      "execution_count": 0,
      "outputs": []
    },
    {
      "metadata": {
        "id": "jyB5zkjNdiKE",
        "colab_type": "code",
        "colab": {}
      },
      "cell_type": "code",
      "source": [
        "import pickle\n",
        "#with open(\"/content/t3b_after_10sec_sin_input/recordings.pkl\", \"wb\") as fh:\n",
        "with open(\"/content/t3b_after_15sec_none_sin_none/recordings.pkl\", \"wb\") as fh:\n",
        "  pickle.dump(vs, fh)\n",
        "  pickle.dump(zs, fh)"
      ],
      "execution_count": 0,
      "outputs": []
    },
    {
      "metadata": {
        "id": "vOZfWo1GeK1B",
        "colab_type": "code",
        "colab": {}
      },
      "cell_type": "code",
      "source": [
        "#!tar -czf t3b_after_10sec_sin_input.tgz t3b_after_10sec_sin_input/*\n",
        "!tar -czf t3b_after_15sec_none_sin_none.tgz t3b_after_15sec_none_sin_none/*"
      ],
      "execution_count": 0,
      "outputs": []
    },
    {
      "metadata": {
        "id": "3b-WfizSc5zw",
        "colab_type": "text"
      },
      "cell_type": "markdown",
      "source": [
        "\n",
        "\n",
        "---\n",
        "\n",
        "\n",
        "\n",
        "---\n",
        "\n",
        "\n",
        "\n",
        "---\n",
        "\n",
        "\n",
        "\n",
        "---\n",
        "\n",
        "\n",
        "\n",
        "---\n",
        "\n",
        "\n",
        "\n",
        "---\n",
        "\n",
        "\n",
        "\n",
        "---\n",
        "\n",
        "\n",
        "\n",
        "---\n",
        "\n",
        "\n",
        "\n",
        "---\n",
        "\n"
      ]
    },
    {
      "metadata": {
        "id": "IvnzZvljs4IK",
        "colab_type": "code",
        "outputId": "6306772b-71c8-4922-a26d-8aebfb4d6f18",
        "colab": {
          "base_uri": "https://localhost:8080/",
          "height": 197
        }
      },
      "cell_type": "code",
      "source": [
        "plt.plot(tx2, bpv[0:20,:].transpose())\n",
        "plt.title(\"BPhi 0:x\")\n",
        "plt.show()"
      ],
      "execution_count": 0,
      "outputs": [
        {
          "output_type": "error",
          "ename": "NameError",
          "evalue": "ignored",
          "traceback": [
            "\u001b[0;31m---------------------------------------------------------------------------\u001b[0m",
            "\u001b[0;31mNameError\u001b[0m                                 Traceback (most recent call last)",
            "\u001b[0;32m<ipython-input-25-ef776de8eb5b>\u001b[0m in \u001b[0;36m<module>\u001b[0;34m()\u001b[0m\n\u001b[0;32m----> 1\u001b[0;31m \u001b[0mplt\u001b[0m\u001b[0;34m.\u001b[0m\u001b[0mplot\u001b[0m\u001b[0;34m(\u001b[0m\u001b[0mtx2\u001b[0m\u001b[0;34m,\u001b[0m \u001b[0mbpv\u001b[0m\u001b[0;34m[\u001b[0m\u001b[0;36m0\u001b[0m\u001b[0;34m:\u001b[0m\u001b[0;36m20\u001b[0m\u001b[0;34m,\u001b[0m\u001b[0;34m:\u001b[0m\u001b[0;34m]\u001b[0m\u001b[0;34m.\u001b[0m\u001b[0mtranspose\u001b[0m\u001b[0;34m(\u001b[0m\u001b[0;34m)\u001b[0m\u001b[0;34m)\u001b[0m\u001b[0;34m\u001b[0m\u001b[0;34m\u001b[0m\u001b[0m\n\u001b[0m\u001b[1;32m      2\u001b[0m \u001b[0mplt\u001b[0m\u001b[0;34m.\u001b[0m\u001b[0mtitle\u001b[0m\u001b[0;34m(\u001b[0m\u001b[0;34m\"BPhi 0:x\"\u001b[0m\u001b[0;34m)\u001b[0m\u001b[0;34m\u001b[0m\u001b[0;34m\u001b[0m\u001b[0m\n\u001b[1;32m      3\u001b[0m \u001b[0mplt\u001b[0m\u001b[0;34m.\u001b[0m\u001b[0mshow\u001b[0m\u001b[0;34m(\u001b[0m\u001b[0;34m)\u001b[0m\u001b[0;34m\u001b[0m\u001b[0;34m\u001b[0m\u001b[0m\n",
            "\u001b[0;31mNameError\u001b[0m: name 'bpv' is not defined"
          ]
        }
      ]
    },
    {
      "metadata": {
        "id": "8G5FupLiTk4Q",
        "colab_type": "code",
        "colab": {}
      },
      "cell_type": "code",
      "source": [
        "plt.plot(tx2, rv[0:20,:].transpose())\n",
        "plt.title(\"r 0:x\")\n",
        "plt.show()"
      ],
      "execution_count": 0,
      "outputs": []
    },
    {
      "metadata": {
        "id": "DZFKegh2ufBI",
        "colab_type": "code",
        "colab": {}
      },
      "cell_type": "code",
      "source": [
        "plt.plot(tx2, cdv[0:20,:].transpose())\n",
        "plt.title(\"cd 0:x\")\n",
        "plt.show()"
      ],
      "execution_count": 0,
      "outputs": []
    },
    {
      "metadata": {
        "id": "lndCC4yVw1xf",
        "colab_type": "code",
        "colab": {}
      },
      "cell_type": "code",
      "source": [
        "plt.plot(tx2, hrv[0:20,:].transpose())\n",
        "plt.title(\"hr 0:x\")\n",
        "plt.show()"
      ],
      "execution_count": 0,
      "outputs": []
    },
    {
      "metadata": {
        "id": "7tZzRFQkyxVU",
        "colab_type": "code",
        "colab": {}
      },
      "cell_type": "code",
      "source": [
        "plt.plot(tx2, hrv.mean(axis=0, keepdims=True).transpose())\n",
        "plt.title(\"hr.mean 0:x\")\n",
        "plt.show()"
      ],
      "execution_count": 0,
      "outputs": []
    },
    {
      "metadata": {
        "id": "2f9SQyVnNz_8",
        "colab_type": "code",
        "colab": {}
      },
      "cell_type": "code",
      "source": [
        "pinvv.shape"
      ],
      "execution_count": 0,
      "outputs": []
    },
    {
      "metadata": {
        "id": "rkVao3BSzmAf",
        "colab_type": "code",
        "colab": {}
      },
      "cell_type": "code",
      "source": [
        "plt.plot(tx2, pinvv.mean(axis=0).mean(axis=0).transpose())\n",
        "plt.title(\"pinv.m.m 0:x\")\n",
        "plt.show()"
      ],
      "execution_count": 0,
      "outputs": []
    },
    {
      "metadata": {
        "id": "Z2C80Sw0KvhQ",
        "colab_type": "code",
        "colab": {}
      },
      "cell_type": "code",
      "source": [
        ""
      ],
      "execution_count": 0,
      "outputs": []
    }
  ]
}