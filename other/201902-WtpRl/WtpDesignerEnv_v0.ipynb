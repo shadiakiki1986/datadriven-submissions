{
  "nbformat": 4,
  "nbformat_minor": 0,
  "metadata": {
    "colab": {
      "name": "t0-0e WtpDesignerEnv v0 - cleaned.ipynb",
      "version": "0.3.2",
      "provenance": [],
      "collapsed_sections": [],
      "toc_visible": true,
      "include_colab_link": true
    },
    "kernelspec": {
      "name": "python3",
      "display_name": "Python 3"
    }
  },
  "cells": [
    {
      "cell_type": "markdown",
      "metadata": {
        "id": "view-in-github",
        "colab_type": "text"
      },
      "source": [
        "<a href=\"https://colab.research.google.com/github/shadiakiki1986/ml-competitions/blob/master/other/201902-WtpRl/WtpDesignerEnv_v0.ipynb\" target=\"_parent\"><img src=\"https://colab.research.google.com/assets/colab-badge.svg\" alt=\"Open In Colab\"/></a>"
      ]
    },
    {
      "metadata": {
        "id": "Za0nLGHy5jyP",
        "colab_type": "text"
      },
      "cell_type": "markdown",
      "source": [
        "# Water Treatment Plant designer\n",
        "\n",
        "This notebook demonstrates a simulation environment for the design of a water treatment plant as well as training an agent to design the WTP to improve the feed water quality.\n",
        "\n",
        "The simulation is then used to train a feed-forward neural network to propose a water treatment plant design based on water quality parameters.\n",
        "\n",
        "The water parameters are low/high level of: turbidity, hardness, bacteria.\n",
        "\n",
        "The allowed elements in the system are: pipe, sand filter, softener, UV."
      ]
    },
    {
      "metadata": {
        "id": "MPHTGuXa5gzc",
        "colab_type": "text"
      },
      "cell_type": "markdown",
      "source": [
        "# install pre-reqs"
      ]
    },
    {
      "metadata": {
        "id": "NiIjx-0Rwjze",
        "colab_type": "code",
        "outputId": "43501820-1973-4084-8960-1d1b49dabf85",
        "colab": {
          "base_uri": "https://localhost:8080/",
          "height": 216
        }
      },
      "cell_type": "code",
      "source": [
        "# install openai gym\n",
        "!pip install gym | tail"
      ],
      "execution_count": 1,
      "outputs": [
        {
          "output_type": "stream",
          "text": [
            "Requirement already satisfied: scipy in /usr/local/lib/python3.6/dist-packages (from gym) (1.1.0)\n",
            "Requirement already satisfied: numpy>=1.10.4 in /usr/local/lib/python3.6/dist-packages (from gym) (1.14.6)\n",
            "Requirement already satisfied: requests>=2.0 in /usr/local/lib/python3.6/dist-packages (from gym) (2.18.4)\n",
            "Requirement already satisfied: six in /usr/local/lib/python3.6/dist-packages (from gym) (1.11.0)\n",
            "Requirement already satisfied: pyglet>=1.2.0 in /usr/local/lib/python3.6/dist-packages (from gym) (1.3.2)\n",
            "Requirement already satisfied: urllib3<1.23,>=1.21.1 in /usr/local/lib/python3.6/dist-packages (from requests>=2.0->gym) (1.22)\n",
            "Requirement already satisfied: chardet<3.1.0,>=3.0.2 in /usr/local/lib/python3.6/dist-packages (from requests>=2.0->gym) (3.0.4)\n",
            "Requirement already satisfied: certifi>=2017.4.17 in /usr/local/lib/python3.6/dist-packages (from requests>=2.0->gym) (2018.11.29)\n",
            "Requirement already satisfied: idna<2.7,>=2.5 in /usr/local/lib/python3.6/dist-packages (from requests>=2.0->gym) (2.6)\n",
            "Requirement already satisfied: future in /usr/local/lib/python3.6/dist-packages (from pyglet>=1.2.0->gym) (0.16.0)\n"
          ],
          "name": "stdout"
        }
      ]
    },
    {
      "metadata": {
        "id": "DspfHxVA6Pnj",
        "colab_type": "code",
        "outputId": "0b56ddbc-7254-46ea-91f4-cd59c1f1963a",
        "colab": {
          "base_uri": "https://localhost:8080/",
          "height": 807
        }
      },
      "cell_type": "code",
      "source": [
        "# install rlworkgroup/garage\n",
        "# Copied from colab/2019-01-21/t3.ipynb\n",
        "#------------------------------------\n",
        "\n",
        "# Install dependencies (copied from garage/environment.yml)\n",
        "!apt-get install libglfw3 libglfw3-dev | tail\n",
        "\n",
        "# >>>>>>>>   requires restart of runtime in colab.research.google.com due to joblib and rsa <<<<<<\n",
        "!pip install awscli  boto3  cached_property  cloudpickle  cma==1.1.06 flask  gym  \"box2d-py>=2.3.4\"  hyperopt  ipdb  ipywidgets  jsonmerge  \"joblib<0.13,>=0.12\"  jupyter  mako  matplotlib  memory_profiler  pandas  path.py    polling  pre_commit  protobuf  psutil  pygame  pyglet  PyOpenGL  pyprind  python-dateutil  pyzmq  scikit-image  scipy  tensorboard  | tail\n",
        "#\"tensorflow<1.10,>=1.9.0\"  Theano==1.0.2    \"mujoco-py<1.50.2,>=1.50.1\" gym[all]==0.10.8\n",
        "#!pip install jsonmerge glfw mako pygame\n",
        "!pip install pyprind cma glfw | tail\n",
        "\n",
        "# Install garage (continued in next cell)\n",
        "!git clone https://github.com/rlworkgroup/garage\n",
        "# !cd garage && pip install -e . # >>>>>>>>   requires restart of runtime in colab.research.google.com due to joblib and rsa <<<<<<\n",
        "#!pip show rlgarage garage"
      ],
      "execution_count": 2,
      "outputs": [
        {
          "output_type": "stream",
          "text": [
            "Preparing to unpack .../5-libxrandr-dev_2%3a1.5.1-1_amd64.deb ...\n",
            "Unpacking libxrandr-dev:amd64 (2:1.5.1-1) ...\n",
            "Setting up libvulkan1:amd64 (1.1.82.0-0ubuntu0.18.04.1~gpu1) ...\n",
            "Setting up libvulkan-dev:amd64 (1.1.82.0-0ubuntu0.18.04.1~gpu1) ...\n",
            "Setting up libglfw3:amd64 (3.2.1-1) ...\n",
            "Processing triggers for libc-bin (2.27-3ubuntu1) ...\n",
            "Setting up x11proto-randr-dev (2018.4-4) ...\n",
            "Processing triggers for man-db (2.8.3-2ubuntu0.1) ...\n",
            "Setting up libglfw3-dev:amd64 (3.2.1-1) ...\n",
            "Setting up libxrandr-dev:amd64 (2:1.5.1-1) ...\n",
            "\u001b[31mfeaturetools 0.4.1 has requirement pandas>=0.23.0, but you'll have pandas 0.22.0 which is incompatible.\u001b[0m\n",
            "  Found existing installation: rsa 4.0\n",
            "    Uninstalling rsa-4.0:\n",
            "      Successfully uninstalled rsa-4.0\n",
            "  Found existing installation: botocore 1.12.94\n",
            "    Uninstalling botocore-1.12.94:\n",
            "      Successfully uninstalled botocore-1.12.94\n",
            "  Found existing installation: joblib 0.13.2\n",
            "    Uninstalling joblib-0.13.2:\n",
            "      Successfully uninstalled joblib-0.13.2\n",
            "Successfully installed aspy.yaml-1.1.2 awscli-1.16.106 botocore-1.12.96 box2d-py-2.3.8 cached-property-1.5.1 cfgv-1.4.0 cma-1.1.6 colorama-0.3.9 identify-1.2.2 importlib-metadata-0.8 importlib-resources-1.0.2 ipdb-0.11 joblib-0.12.5 jsonmerge-1.5.2 mako-1.0.7 memory-profiler-0.55.0 nodeenv-1.3.3 path.py-11.5.0 polling-0.3.0 pre-commit-1.14.3 pygame-1.9.4 pyprind-2.11.2 rsa-3.4.2 toml-0.10.0 virtualenv-16.4.0 zipp-0.3.3\n"
          ],
          "name": "stdout"
        },
        {
          "output_type": "display_data",
          "data": {
            "application/vnd.colab-display-data+json": {
              "pip_warning": {
                "packages": [
                  "joblib",
                  "rsa"
                ]
              }
            }
          },
          "metadata": {
            "tags": []
          }
        },
        {
          "output_type": "stream",
          "text": [
            "Requirement already satisfied: cma in /usr/local/lib/python3.6/dist-packages (1.1.6)\n",
            "Collecting glfw\n",
            "  Downloading https://files.pythonhosted.org/packages/5d/65/c6275744a01425195f1f446e022e5dfa6497aa68479a3952e434e04b2fa0/glfw-1.7.1.tar.gz\n",
            "Building wheels for collected packages: glfw\n",
            "  Building wheel for glfw (setup.py): started\n",
            "  Building wheel for glfw (setup.py): finished with status 'done'\n",
            "  Stored in directory: /root/.cache/pip/wheels/c5/53/f9/fd31798dce7e10aa49f8354e4111b9c9cad10c894184658663\n",
            "Successfully built glfw\n",
            "Installing collected packages: glfw\n",
            "Successfully installed glfw-1.7.1\n",
            "Cloning into 'garage'...\n",
            "remote: Enumerating objects: 116, done.\u001b[K\n",
            "remote: Counting objects: 100% (116/116), done.\u001b[K\n",
            "remote: Compressing objects: 100% (81/81), done.\u001b[K\n",
            "remote: Total 10472 (delta 54), reused 60 (delta 35), pack-reused 10356\u001b[K\n",
            "Receiving objects: 100% (10472/10472), 9.13 MiB | 17.31 MiB/s, done.\n",
            "Resolving deltas: 100% (7322/7322), done.\n"
          ],
          "name": "stdout"
        }
      ]
    },
    {
      "metadata": {
        "id": "TXWtR1vm99vx",
        "colab_type": "code",
        "outputId": "012453df-9e14-48e6-e6a6-cd0d44414753",
        "colab": {
          "base_uri": "https://localhost:8080/",
          "height": 318
        }
      },
      "cell_type": "code",
      "source": [
        "# Install garage, commit e7324a68dedd94b4ea15a9c761bab2af032e2480 before the upcoming commits related to bumping gym/dm-control/mujoco versions\n",
        "!cd garage && git checkout e7324a68dedd94b4ea15a9c761bab2af032e2480\n",
        "!cd garage && pip install -e . # >>>>>>>>   requires restart of runtime in colab.research.google.com due to joblib and rsa <<<<<<"
      ],
      "execution_count": 1,
      "outputs": [
        {
          "output_type": "stream",
          "text": [
            "Note: checking out 'e7324a68dedd94b4ea15a9c761bab2af032e2480'.\n",
            "\n",
            "You are in 'detached HEAD' state. You can look around, make experimental\n",
            "changes and commit them, and you can discard any commits you make in this\n",
            "state without impacting any branches by performing another checkout.\n",
            "\n",
            "If you want to create a new branch to retain commits you create, you may\n",
            "do so (now or later) by using -b with the checkout command again. Example:\n",
            "\n",
            "  git checkout -b <new-branch-name>\n",
            "\n",
            "HEAD is now at e7324a6 Move nb_utils.py to garage.experiment\n",
            "Obtaining file:///content/garage\n",
            "Installing collected packages: rlgarage\n",
            "  Running setup.py develop for rlgarage\n",
            "Successfully installed rlgarage\n"
          ],
          "name": "stdout"
        }
      ]
    },
    {
      "metadata": {
        "id": "iMQ4ibxk8jQw",
        "colab_type": "text"
      },
      "cell_type": "markdown",
      "source": [
        "\n",
        "\n",
        "---\n",
        "\n",
        "\n",
        "\n",
        "---\n",
        "\n",
        "\n",
        "\n",
        "---\n",
        "\n"
      ]
    },
    {
      "metadata": {
        "id": "34oLOKVb5t8l",
        "colab_type": "text"
      },
      "cell_type": "markdown",
      "source": [
        "# gym environment for WTP design"
      ]
    },
    {
      "metadata": {
        "id": "MTFzvBH4wm21",
        "colab_type": "code",
        "outputId": "fddc2623-a749-4bd9-f4f4-a626def0efe6",
        "colab": {
          "base_uri": "https://localhost:8080/",
          "height": 102
        }
      },
      "cell_type": "code",
      "source": [
        "# Create a gym env that simulates the current water treatment plant\n",
        "# Based on https://github.com/openai/gym/blob/master/gym/envs/toy_text/nchain.py\n",
        "\n",
        "import gym\n",
        "from gym import spaces\n",
        "#from gym.utils import seeding\n",
        "import numpy as np\n",
        "import random\n",
        "\n",
        "\n",
        "\n",
        "def act_on_water(water_in, water_parameter):\n",
        "  \"\"\"\n",
        "  Parameters\n",
        "  - water_in: water sample parameters before \"filtering\"\n",
        "  - water_parameter: specific parameter that is being filtered\n",
        "  \n",
        "  Returns\n",
        "  - water_out: water sample parameters after the targeted parameter\n",
        "  - reward:\n",
        "    - if water quality is improvable and made improvement and improvement is relevant, then +2\n",
        "    - if water quality is not improvable and did not try to make improvement, then +1\n",
        "    - if water quality is improvable and made improvement but improvement is not relevant, then 0\n",
        "    - if water quality is improvable and did not make improvement, then -1\n",
        "    - if water quality is not improvable and tried to make improvement, then -2\n",
        "  \"\"\"\n",
        "  # debugging\n",
        "  #print(\"water_in\", water_in, \"water_parameter\", water_parameter)\n",
        "  \n",
        "  # utility variable\n",
        "  is_improvable = any(water_in[k] for k in water_in)\n",
        "  \n",
        "  # if chose pipe (do nothing)\n",
        "  if water_parameter is None:\n",
        "    # if any parameter is \"high\"\n",
        "    if is_improvable:\n",
        "      # water was improvable but didn't try\n",
        "      return water_in, -1\n",
        "    \n",
        "    # water was not improvable to begin with\n",
        "    return water_in, +1\n",
        "\n",
        "  # sanity check\n",
        "  if water_parameter not in water_in:\n",
        "    raise ValueError(\"water parameter = %s not a property of the water\"%water_parameter)\n",
        "\n",
        "  # if water is not improvable to begin with, but tried to make an improvement\n",
        "  if not is_improvable:\n",
        "    return water_in, -2\n",
        "    \n",
        "  # water is improvable, but chose an irrelevant parameter\n",
        "  if not water_in[water_parameter]:\n",
        "    # returning a reward of +1 here caused the best policy to use a few\n",
        "    # irrelevant target parameters at first (to ramp up points)\n",
        "    # and then start installing the relevant elements.\n",
        "    # This is similar to a salesman who sells useless WTP elements first\n",
        "    # to ramp up sales, and then sells the right system to close.\n",
        "    return water_in, 0\n",
        "  \n",
        "  # water is improvable, and chose a relevant parameter\n",
        "  water_out = water_in.copy()\n",
        "  water_out[water_parameter] = False\n",
        "  return water_out, +2\n",
        "\n",
        "\n",
        "# test\n",
        "print(\"turbidity: High, action: turbidity\",      act_on_water({\"turbidity\": True }, \"turbidity\"))\n",
        "print(\"turbidity: Low , action: turbidity\",      act_on_water({\"turbidity\": False}, \"turbidity\"))\n",
        "print(\"turbidity: High, action: pipe\",      act_on_water({\"turbidity\": True }, None))\n",
        "print(\"turbidity: Low , action: pipe\",      act_on_water({\"turbidity\": False}, None))\n",
        "try:\n",
        "  print(\"turbidity: High, action: hardness\", act_on_water({\"turbidity\": True }, \"hardness\"))\n",
        "except:\n",
        "  print(\"turbidity: High, action: hardness\", \"error: parameter not in water\")\n",
        "  \n",
        "#print(\"state = 1, action: pipe\",      act_on_water(1, None))"
      ],
      "execution_count": 1,
      "outputs": [
        {
          "output_type": "stream",
          "text": [
            "turbidity: High, action: turbidity ({'turbidity': False}, 2)\n",
            "turbidity: Low , action: turbidity ({'turbidity': False}, -2)\n",
            "turbidity: High, action: pipe ({'turbidity': True}, -1)\n",
            "turbidity: Low , action: pipe ({'turbidity': False}, 1)\n",
            "turbidity: High, action: hardness error: parameter not in water\n"
          ],
          "name": "stdout"
        }
      ]
    },
    {
      "metadata": {
        "id": "oBv4mojWRT6v",
        "colab_type": "code",
        "colab": {}
      },
      "cell_type": "code",
      "source": [
        "\n",
        "# Gym env\n",
        "class WtpDesignerEnv_v0(gym.Env):\n",
        "    \"\"\"Water Treatment Plant environment\n",
        "    \n",
        "    This is a simulation of a water treatment plant (WTP).\n",
        "    \n",
        "    Observation:\n",
        "      Parameters in water\n",
        "      Type: Dict of 3 keys, each of which is Discrete(2)\n",
        "      turbidity       True/False (= High/Low)\n",
        "      Hardness  True/False (= High/Low)\n",
        "      Bacteria  True/False (= High/Low)\n",
        "      \n",
        "    Actions:\n",
        "      WTP Element to implement at i-th stage\n",
        "      Type: Discrete(4)\n",
        "      0 pipe\n",
        "      2 sediment\n",
        "      3 softener\n",
        "      4 uv\n",
        "      \n",
        "    Reward: check function \"act_on_water\"\n",
        "      \n",
        "    Episode termination:\n",
        "      All elements of WTP are chosen\n",
        "    \"\"\"\n",
        "    def __init__(self, attempts_max = 1000):\n",
        "        self.wtp_elements = [None, \"turbidity\", \"hardness\", \"bacteria\"]\n",
        "        \n",
        "        \n",
        "        # number of elements in the WTP system generated\n",
        "        self.n_elements = 5\n",
        "        \n",
        "         # choose the element for the current step\n",
        "        self.action_space = spaces.Discrete(len(self.wtp_elements))\n",
        "        \n",
        "        # https://github.com/openai/gym/blob/master/gym/spaces/dict_space.py\n",
        "        # the observation space is a Dict of 3 key-value pairs\n",
        "        # Note that the \"FlatDictWrapper\" later just flattens this to a single Discrete(8) observation\n",
        "        # for the sake of being able to use the CategoricalMLPPolicy\n",
        "        self.observation_space = spaces.Dict({\n",
        "            \"turbidity\": spaces.Discrete(2), \n",
        "            \"hardness\": spaces.Discrete(2), \n",
        "            \"bacteria\": spaces.Discrete(2),\n",
        "        })\n",
        "        \n",
        "        self.reset()\n",
        "        #self.seed()\n",
        "\n",
        "    #def seed(self, seed=None):\n",
        "    #    self.np_random, seed = seeding.np_random(seed)\n",
        "    #    return [seed]\n",
        "\n",
        "    def step(self, action):\n",
        "        assert self.action_space.contains(action), \"action not in action space!\"\n",
        "        assert self.element_i < self.n_elements\n",
        "        \n",
        "        # increment number of attempts taken\n",
        "        self.element_i += 1\n",
        "\n",
        "        # calculate reward of this element\n",
        "        wtp_i = self.wtp_elements[action]\n",
        "        self.state, reward = act_on_water(self.state, wtp_i)\n",
        "        #print(\"\\t state + element -> state after + reward\", wtp_i, self.state, reward_i)\n",
        "                                      \n",
        "        # init\n",
        "        done = False\n",
        "\n",
        "        # allow a maximum number of attempts to get the WTP selection to work\n",
        "        if self.element_i >= self.n_elements:\n",
        "          done = True\n",
        "          \n",
        "        return self.state, reward, done, {}\n",
        "      \n",
        "    def reset(self, s0=None):\n",
        "      # s0 - desired state\n",
        "      if s0 is None:\n",
        "        s0 = {\n",
        "          \"turbidity\":  np.random.rand() < 0.5,\n",
        "          \"hardness\": np.random.rand() < 0.5,\n",
        "          \"bacteria\": np.random.rand() < 0.5,                \n",
        "        }\n",
        "      self.state = s0.copy()\n",
        "      self.element_i = 0\n",
        "      return self.state"
      ],
      "execution_count": 0,
      "outputs": []
    },
    {
      "metadata": {
        "id": "Xi3SwHSJO3xm",
        "colab_type": "code",
        "outputId": "ce7d78fc-9492-4ec0-f4cc-14084c4f09c2",
        "colab": {
          "base_uri": "https://localhost:8080/",
          "height": 119
        }
      },
      "cell_type": "code",
      "source": [
        "\n",
        "# some smoke testing\n",
        "print(\"smoke test\")\n",
        "\n",
        "# example\n",
        "env_test = WtpDesignerEnv_v0()\n",
        "state_initial = env_test.reset().copy()\n",
        "print(\"water in:\")\n",
        "print(\"reset()\", state_initial)\n",
        "print(\"env.state\", env_test.state)\n",
        "\n",
        "print(\"grid search .. start\")\n",
        "solution = dict(act=None, rew=-99999, water_out=None)\n",
        "done = False\n",
        "\n",
        "# builds all possible wtp of these elements\n",
        "import itertools\n",
        "wtp_all1 = list(itertools.product(range(len(env_test.wtp_elements)), repeat=env_test.n_elements))\n",
        "wtp_all2 = []\n",
        "# append last 2 pipes\n",
        "for wtp_i in wtp_all1:\n",
        "  wtp_i = list(wtp_i)\n",
        "  # 0 is the index of None in env_test.wtp_elements\n",
        "  wtp_i.append(0)\n",
        "  wtp_all2.append(wtp_i)\n",
        "\n",
        "print(\"grid search .. end\")\n",
        "#print(\"all wtp\")\n",
        "#print(wtp_all2)"
      ],
      "execution_count": 3,
      "outputs": [
        {
          "output_type": "stream",
          "text": [
            "smoke test\n",
            "water in:\n",
            "reset() {'turbidity': False, 'hardness': False, 'bacteria': False}\n",
            "env.state {'turbidity': False, 'hardness': False, 'bacteria': False}\n",
            "grid search .. start\n",
            "grid search .. end\n"
          ],
          "name": "stdout"
        }
      ]
    },
    {
      "metadata": {
        "id": "ccLhrtydaOZr",
        "colab_type": "code",
        "outputId": "e1aea7f9-0b09-4d08-dc39-670167c7b601",
        "colab": {
          "base_uri": "https://localhost:8080/",
          "height": 119
        }
      },
      "cell_type": "code",
      "source": [
        "\n",
        "# iterate\n",
        "for wtp_i in wtp_all2:\n",
        "  reward_sum = 0\n",
        "  env_test.reset(s0=state_initial)\n",
        "  #print(\"-\"*10)\n",
        "  for action in wtp_i:\n",
        "    water_out, reward_i, done, _ = env_test.step(action)\n",
        "    reward_sum += reward_i\n",
        "    if done:\n",
        "      break\n",
        "    \n",
        "  #print(\"water in\", env_test.state, \"wtp\", [env_test.wtp_elements[x] for x in wtp_i], \"water out\", water_out, \"reward\", reward_sum)\n",
        "  if reward_sum > solution['rew']:\n",
        "    solution['act'] = wtp_i\n",
        "    solution['rew'] = reward_sum\n",
        "    solution['water_out'] = water_out # last result\n",
        "\n",
        "\n",
        "print(\"grid search .. end\")\n",
        "\n",
        "# show result of grid search\n",
        "print(\"*\"*30)\n",
        "print(\"water in:\", state_initial)\n",
        "print(\"wtp chosen\", [env_test.wtp_elements[x] for x in solution['act']])\n",
        "print(\"total reward\", solution['rew'])\n",
        "print(\"water out\", solution['water_out'])"
      ],
      "execution_count": 4,
      "outputs": [
        {
          "output_type": "stream",
          "text": [
            "grid search .. end\n",
            "******************************\n",
            "water in: {'turbidity': False, 'hardness': False, 'bacteria': False}\n",
            "wtp chosen [None, None, None, None, None, None]\n",
            "total reward 5\n",
            "water out {'turbidity': False, 'hardness': False, 'bacteria': False}\n"
          ],
          "name": "stdout"
        }
      ]
    },
    {
      "metadata": {
        "id": "Nd-RbAhH6Kx8",
        "colab_type": "text"
      },
      "cell_type": "markdown",
      "source": [
        "# Train agent"
      ]
    },
    {
      "metadata": {
        "id": "UNoyVv0tA23n",
        "colab_type": "code",
        "colab": {}
      },
      "cell_type": "code",
      "source": [
        "# register the env with gym\n",
        "# https://github.com/openai/gym/tree/master/gym/envs#how-to-create-new-environments-for-gym\n",
        "from gym.envs.registration import register\n",
        "\n",
        "register(\n",
        "    id='WtpDesignerEnv-v0',\n",
        "    #entry_point='gym_foo.envs:FooEnv',\n",
        "    entry_point=WtpDesignerEnv_v0,\n",
        ")\n",
        "\n",
        "# test registration was successful\n",
        "env = gym.make(\"WtpDesignerEnv-v0\")"
      ],
      "execution_count": 0,
      "outputs": []
    },
    {
      "metadata": {
        "id": "9j8M1L9S6rvU",
        "colab_type": "code",
        "colab": {}
      },
      "cell_type": "code",
      "source": [
        "# The contents of this cell are mostly copied from garage/examples/...\n",
        "# NEED TO run this twice for the first run in the runtime in colab, 1st for creating the personal config\n",
        "\n",
        "from garage.baselines import LinearFeatureBaseline # <<<<<< requires restarting the runtime in colab after the 1st dependency installation above\n",
        "from garage.envs import normalize\n",
        "#from garage.envs.box2d import CartpoleEnv # no need since will use WtpDesignerEnv_v0 defined above\n",
        "from garage.experiment import run_experiment\n",
        "from garage.tf.algos import TRPO\n",
        "from garage.tf.envs import TfEnv\n",
        "#from garage.tf.policies import GaussianMLPPolicy\n",
        "from garage.tf.policies import CategoricalMLPPolicy\n",
        "\n",
        "import gym # already imported before"
      ],
      "execution_count": 0,
      "outputs": []
    },
    {
      "metadata": {
        "id": "eBk8B2h36pMw",
        "colab_type": "code",
        "colab": {}
      },
      "cell_type": "code",
      "source": [
        "# start a tensorflow session so that we can keep it open after training and use the trained network to see it performing\n",
        "import tensorflow as tf\n",
        "sess = tf.InteractiveSession()\n",
        "\n",
        "# no need to initialize\n",
        "#sess.run(tf.global_variables_initializer())\n"
      ],
      "execution_count": 0,
      "outputs": []
    },
    {
      "metadata": {
        "id": "3TSGjJIua47q",
        "colab_type": "code",
        "colab": {}
      },
      "cell_type": "code",
      "source": [
        "# based on https://github.com/openai/gym/blob/5404b39d06f72012f562ec41f60734bd4b5ceb4b/gym/wrappers/dict.py\n",
        "class FlattenDictWrapper2(gym.ObservationWrapper):\n",
        "    \"\"\"Flattens selected keys of a Dict observation space into\n",
        "    an array.\n",
        "    \"\"\"\n",
        "    def __init__(self, env, dict_keys):\n",
        "        super().__init__(env)\n",
        "        self.dict_keys = dict_keys\n",
        "\n",
        "        # Figure out observation_space dimension.\n",
        "        # FIXME this is never used .. ref https://github.com/openai/gym/blob/6497c9f1c6e43066c8945f02ed3ed4d234f45dc1/gym/core.py\n",
        "        size = 1\n",
        "        for key in dict_keys:\n",
        "            shape = self.env.observation_space.spaces[key].n\n",
        "            size *= shape\n",
        "        self.observation_space = gym.spaces.Discrete(size)\n",
        "\n",
        "    def observation(self, observation):\n",
        "        \"\"\"\n",
        "        flatten the dict observation\n",
        "        idea is same as the following\n",
        "        \n",
        "        >>> import itertools\n",
        "        >>> x=np.array(list(itertools.product(range(4), range(3), range(2))))\n",
        "        >>> y=x[:,0]*2*3 + x[:,1]*2 + x[:,2]\n",
        "        >>> y.sort()\n",
        "        >>> y\n",
        "        array([ 0,  1,  2,  3,  4,  5,  6,  7,  8,  9, 10, 11, 12, 13, 14, 15, 16,\n",
        "               17, 18, 19, 20, 21, 22, 23])\n",
        "        \n",
        "        Notice how \"y\" has no duplicates, and hence is a one-to-one mapping from the original matrix \"x\"\n",
        "        \n",
        "        Now convert y back to x\n",
        "        \n",
        "        >>> z1 = y//(2*3)\n",
        "        >>> z2 = (y%(2*3))//2\n",
        "        >>> z3 = (   (y%(2*3))%2  )\n",
        "        >>> z = np.array([np.array(z1), np.array(z2), np.array(z3)]).T\n",
        "        \n",
        "        Notice that z == x\n",
        "        \"\"\"\n",
        "        assert isinstance(observation, dict)\n",
        "        obs = []\n",
        "        dims = []\n",
        "        for key in self.dict_keys:\n",
        "            obs.append(observation[key])\n",
        "            dims.append(self.env.observation_space.spaces[key].n)\n",
        "            \n",
        "        dims = np.array(dims).cumprod()\n",
        "        dims = (dims / dims[0]).astype('int')\n",
        "        \n",
        "        obs = np.array(obs).astype('int')\n",
        "\n",
        "        #print(\"X\"*10)\n",
        "        #print(obs)\n",
        "        #print(dims)\n",
        "\n",
        "        return (obs * dims).sum()\n"
      ],
      "execution_count": 0,
      "outputs": []
    },
    {
      "metadata": {
        "id": "tx8_cmOe63QK",
        "colab_type": "code",
        "outputId": "aa8f8f0f-f812-4c02-ce61-846d6f5a7dae",
        "colab": {
          "base_uri": "https://localhost:8080/",
          "height": 144
        }
      },
      "cell_type": "code",
      "source": [
        "# Train the policy (neural network) on the environment\n",
        "#----------------------------------\n",
        "from gym import wrappers\n",
        "\n",
        "# env = TfEnv(normalize(gym.make(\"CartPole-v0\")))\n",
        "env = gym.make(\"WtpDesignerEnv-v0\")\n",
        "#env = wrappers.FlattenDictWrapper(env, [\"turbidity\", \"hardness\", \"bacteria\"])\n",
        "wq_elements = [\"turbidity\", \"hardness\", \"bacteria\"]\n",
        "env = FlattenDictWrapper2(env, wq_elements)\n",
        "env = TfEnv(normalize(env))\n",
        "\n",
        "policy = CategoricalMLPPolicy(\n",
        "#policy = DictCategoricalMLPPolicy(\n",
        "    name=\"policy\", env_spec=env.spec, hidden_sizes=(32, 32))\n",
        "\n",
        "baseline = LinearFeatureBaseline(env_spec=env.spec)\n"
      ],
      "execution_count": 9,
      "outputs": [
        {
          "output_type": "stream",
          "text": [
            "WARNING:tensorflow:From /usr/local/lib/python3.6/dist-packages/tensorflow/python/framework/op_def_library.py:263: colocate_with (from tensorflow.python.framework.ops) is deprecated and will be removed in a future version.\n",
            "Instructions for updating:\n",
            "Colocations handled automatically by placer.\n",
            "WARNING:tensorflow:From /content/garage/garage/tf/distributions/categorical.py:27: multinomial (from tensorflow.python.ops.random_ops) is deprecated and will be removed in a future version.\n",
            "Instructions for updating:\n",
            "Use tf.random.categorical instead.\n"
          ],
          "name": "stdout"
        }
      ]
    },
    {
      "metadata": {
        "id": "sxJmqeGMLA4M",
        "colab_type": "code",
        "outputId": "a6e47fb9-df0e-49c7-d2e1-ced57fd76f02",
        "colab": {
          "base_uri": "https://localhost:8080/",
          "height": 98
        }
      },
      "cell_type": "code",
      "source": [
        "\n",
        "algo = TRPO(\n",
        "    env=env,\n",
        "    policy=policy,\n",
        "    baseline=baseline,\n",
        "    batch_size=4000,\n",
        "    max_path_length=5+2, #env.n_elements+2, # add 2 since this is just a safety measure\n",
        "    n_itr=50, # 50 is enough to reach steady state: average return 6.5, max return 8, min return 5\n",
        "    discount=0.99,\n",
        "    max_kl_step=0.01,\n",
        "    plot=False)\n"
      ],
      "execution_count": 10,
      "outputs": [
        {
          "output_type": "stream",
          "text": [
            "WARNING:tensorflow:From /content/garage/garage/tf/misc/tensor_utils.py:29: to_int32 (from tensorflow.python.ops.math_ops) is deprecated and will be removed in a future version.\n",
            "Instructions for updating:\n",
            "Use tf.cast instead.\n"
          ],
          "name": "stdout"
        }
      ]
    },
    {
      "metadata": {
        "id": "v7LQO4zBp8h4",
        "colab_type": "code",
        "outputId": "207c5156-f32e-4456-d6b2-e47067c2b721",
        "colab": {
          "base_uri": "https://localhost:8080/",
          "height": 40834
        }
      },
      "cell_type": "code",
      "source": [
        "\n",
        "algo.train(sess=sess)"
      ],
      "execution_count": 11,
      "outputs": [
        {
          "output_type": "stream",
          "text": [
            "2019-02-16 20:14:04 | itr #0 | Obtaining samples...\n",
            "2019-02-16 20:14:04 | itr #0 | Obtaining samples for iteration 0...\n"
          ],
          "name": "stdout"
        },
        {
          "output_type": "stream",
          "text": [
            "0% [##############################] 100% | ETA: 00:00:00\n",
            "Total time elapsed: 00:00:00"
          ],
          "name": "stderr"
        },
        {
          "output_type": "stream",
          "text": [
            "2019-02-16 20:14:04 | itr #0 | Processing samples...\n"
          ],
          "name": "stdout"
        },
        {
          "output_type": "stream",
          "text": [
            "\n"
          ],
          "name": "stderr"
        },
        {
          "output_type": "stream",
          "text": [
            "2019-02-16 20:14:04 | itr #0 | Logging diagnostics...\n",
            "2019-02-16 20:14:04 | itr #0 | Optimizing policy...\n",
            "2019-02-16 20:14:04 | itr #0 | Computing loss before\n",
            "2019-02-16 20:14:04 | itr #0 | Computing KL before\n",
            "2019-02-16 20:14:04 | itr #0 | Optimizing\n",
            "2019-02-16 20:14:04 | itr #0 | Start CG optimization: #parameters: 1476, #inputs: 800, #subsample_inputs: 800\n",
            "2019-02-16 20:14:04 | itr #0 | computing loss before\n",
            "2019-02-16 20:14:04 | itr #0 | performing update\n",
            "2019-02-16 20:14:04 | itr #0 | computing gradient\n",
            "2019-02-16 20:14:04 | itr #0 | gradient computed\n",
            "2019-02-16 20:14:04 | itr #0 | computing descent direction\n",
            "2019-02-16 20:14:05 | itr #0 | descent direction computed\n",
            "2019-02-16 20:14:05 | itr #0 | backtrack iters: 1\n",
            "2019-02-16 20:14:05 | itr #0 | computing loss after\n",
            "2019-02-16 20:14:05 | itr #0 | optimization finished\n",
            "2019-02-16 20:14:05 | itr #0 | Computing KL after\n",
            "2019-02-16 20:14:05 | itr #0 | Computing loss after\n",
            "2019-02-16 20:14:05 | itr #0 | Fitting baseline...\n",
            "2019-02-16 20:14:05 | itr #0 | Saving snapshot...\n",
            "2019-02-16 20:14:05 | itr #0 | Saved\n",
            "2019-02-16 20:14:05 | --------------------------  -------------\n",
            "2019-02-16 20:14:05 | AverageDiscountedReturn      -0.876738\n",
            "2019-02-16 20:14:05 | AverageReturn                -0.925\n",
            "2019-02-16 20:14:05 | Baseline/ExplainedVariance   -3.85834e-09\n",
            "2019-02-16 20:14:05 | Entropy                       1.34661\n",
            "2019-02-16 20:14:05 | EnvExecTime                   0.141769\n",
            "2019-02-16 20:14:05 | Iteration                     0\n",
            "2019-02-16 20:14:05 | ItrTime                       1.22728\n",
            "2019-02-16 20:14:05 | MaxReturn                     7\n",
            "2019-02-16 20:14:05 | MinReturn                   -10\n",
            "2019-02-16 20:14:05 | NumTrajs                    800\n",
            "2019-02-16 20:14:05 | Perplexity                    3.84439\n",
            "2019-02-16 20:14:05 | PolicyExecTime                0.155176\n",
            "2019-02-16 20:14:05 | ProcessExecTime               0.0287776\n",
            "2019-02-16 20:14:05 | StdReturn                     3.58669\n",
            "2019-02-16 20:14:05 | Time                          1.22723\n",
            "2019-02-16 20:14:05 | policy/Entropy                0.168893\n",
            "2019-02-16 20:14:05 | policy/KL                     0.00665026\n",
            "2019-02-16 20:14:05 | policy/KLBefore               0\n",
            "2019-02-16 20:14:05 | policy/LossAfter             -0.038506\n",
            "2019-02-16 20:14:05 | policy/LossBefore             2.59876e-07\n",
            "2019-02-16 20:14:05 | policy/dLoss                  0.0385062\n",
            "2019-02-16 20:14:05 | --------------------------  -------------\n",
            "2019-02-16 20:14:05 | itr #1 | Obtaining samples...\n",
            "2019-02-16 20:14:05 | itr #1 | Obtaining samples for iteration 1...\n"
          ],
          "name": "stdout"
        },
        {
          "output_type": "stream",
          "text": [
            "0% [##############################] 100% | ETA: 00:00:00"
          ],
          "name": "stderr"
        },
        {
          "output_type": "stream",
          "text": [
            "2019-02-16 20:14:06 | itr #1 | Processing samples...\n"
          ],
          "name": "stdout"
        },
        {
          "output_type": "stream",
          "text": [
            "\n",
            "Total time elapsed: 00:00:00\n"
          ],
          "name": "stderr"
        },
        {
          "output_type": "stream",
          "text": [
            "2019-02-16 20:14:06 | itr #1 | Logging diagnostics...\n",
            "2019-02-16 20:14:06 | itr #1 | Optimizing policy...\n",
            "2019-02-16 20:14:06 | itr #1 | Computing loss before\n",
            "2019-02-16 20:14:06 | itr #1 | Computing KL before\n",
            "2019-02-16 20:14:06 | itr #1 | Optimizing\n",
            "2019-02-16 20:14:06 | itr #1 | Start CG optimization: #parameters: 1476, #inputs: 800, #subsample_inputs: 800\n",
            "2019-02-16 20:14:06 | itr #1 | computing loss before\n",
            "2019-02-16 20:14:06 | itr #1 | performing update\n",
            "2019-02-16 20:14:06 | itr #1 | computing gradient\n",
            "2019-02-16 20:14:06 | itr #1 | gradient computed\n",
            "2019-02-16 20:14:06 | itr #1 | computing descent direction\n",
            "2019-02-16 20:14:06 | itr #1 | descent direction computed\n",
            "2019-02-16 20:14:06 | itr #1 | backtrack iters: 1\n",
            "2019-02-16 20:14:06 | itr #1 | computing loss after\n",
            "2019-02-16 20:14:06 | itr #1 | optimization finished\n",
            "2019-02-16 20:14:06 | itr #1 | Computing KL after\n",
            "2019-02-16 20:14:06 | itr #1 | Computing loss after\n",
            "2019-02-16 20:14:06 | itr #1 | Fitting baseline...\n",
            "2019-02-16 20:14:06 | itr #1 | Saving snapshot...\n",
            "2019-02-16 20:14:06 | itr #1 | Saved\n",
            "2019-02-16 20:14:06 | --------------------------  -------------\n",
            "2019-02-16 20:14:06 | AverageDiscountedReturn      -0.459903\n",
            "2019-02-16 20:14:06 | AverageReturn                -0.49625\n",
            "2019-02-16 20:14:06 | Baseline/ExplainedVariance    0.472123\n",
            "2019-02-16 20:14:06 | Entropy                       1.3498\n",
            "2019-02-16 20:14:06 | EnvExecTime                   0.156704\n",
            "2019-02-16 20:14:06 | Iteration                     1\n",
            "2019-02-16 20:14:06 | ItrTime                       0.775252\n",
            "2019-02-16 20:14:06 | MaxReturn                     8\n",
            "2019-02-16 20:14:06 | MinReturn                   -10\n",
            "2019-02-16 20:14:06 | NumTrajs                    800\n",
            "2019-02-16 20:14:06 | Perplexity                    3.85666\n",
            "2019-02-16 20:14:06 | PolicyExecTime                0.165141\n",
            "2019-02-16 20:14:06 | ProcessExecTime               0.0312967\n",
            "2019-02-16 20:14:06 | StdReturn                     3.55457\n",
            "2019-02-16 20:14:06 | Time                          2.05633\n",
            "2019-02-16 20:14:06 | policy/Entropy                0.168983\n",
            "2019-02-16 20:14:06 | policy/KL                     0.00720408\n",
            "2019-02-16 20:14:06 | policy/KLBefore               0\n",
            "2019-02-16 20:14:06 | policy/LossAfter             -0.0593465\n",
            "2019-02-16 20:14:06 | policy/LossBefore             2.00272e-08\n",
            "2019-02-16 20:14:06 | policy/dLoss                  0.0593465\n",
            "2019-02-16 20:14:06 | --------------------------  -------------\n",
            "2019-02-16 20:14:06 | itr #2 | Obtaining samples...\n",
            "2019-02-16 20:14:06 | itr #2 | Obtaining samples for iteration 2...\n"
          ],
          "name": "stdout"
        },
        {
          "output_type": "stream",
          "text": [
            "0% [##############################] 100% | ETA: 00:00:00"
          ],
          "name": "stderr"
        },
        {
          "output_type": "stream",
          "text": [
            "2019-02-16 20:14:06 | itr #2 | Processing samples...\n"
          ],
          "name": "stdout"
        },
        {
          "output_type": "stream",
          "text": [
            "\n",
            "Total time elapsed: 00:00:00\n"
          ],
          "name": "stderr"
        },
        {
          "output_type": "stream",
          "text": [
            "2019-02-16 20:14:06 | itr #2 | Logging diagnostics...\n",
            "2019-02-16 20:14:06 | itr #2 | Optimizing policy...\n",
            "2019-02-16 20:14:06 | itr #2 | Computing loss before\n",
            "2019-02-16 20:14:06 | itr #2 | Computing KL before\n",
            "2019-02-16 20:14:06 | itr #2 | Optimizing\n",
            "2019-02-16 20:14:06 | itr #2 | Start CG optimization: #parameters: 1476, #inputs: 800, #subsample_inputs: 800\n",
            "2019-02-16 20:14:06 | itr #2 | computing loss before\n",
            "2019-02-16 20:14:06 | itr #2 | performing update\n",
            "2019-02-16 20:14:06 | itr #2 | computing gradient\n",
            "2019-02-16 20:14:07 | itr #2 | gradient computed\n",
            "2019-02-16 20:14:07 | itr #2 | computing descent direction\n",
            "2019-02-16 20:14:07 | itr #2 | descent direction computed\n",
            "2019-02-16 20:14:07 | itr #2 | backtrack iters: 1\n",
            "2019-02-16 20:14:07 | itr #2 | computing loss after\n",
            "2019-02-16 20:14:07 | itr #2 | optimization finished\n",
            "2019-02-16 20:14:07 | itr #2 | Computing KL after\n",
            "2019-02-16 20:14:07 | itr #2 | Computing loss after\n",
            "2019-02-16 20:14:07 | itr #2 | Fitting baseline...\n",
            "2019-02-16 20:14:07 | itr #2 | Saving snapshot...\n",
            "2019-02-16 20:14:07 | itr #2 | Saved\n",
            "2019-02-16 20:14:07 | --------------------------  -------------\n",
            "2019-02-16 20:14:07 | AverageDiscountedReturn       0.201387\n",
            "2019-02-16 20:14:07 | AverageReturn                 0.18\n",
            "2019-02-16 20:14:07 | Baseline/ExplainedVariance    0.408651\n",
            "2019-02-16 20:14:07 | Entropy                       1.33469\n",
            "2019-02-16 20:14:07 | EnvExecTime                   0.176224\n",
            "2019-02-16 20:14:07 | Iteration                     2\n",
            "2019-02-16 20:14:07 | ItrTime                       0.840626\n",
            "2019-02-16 20:14:07 | MaxReturn                     8\n",
            "2019-02-16 20:14:07 | MinReturn                   -10\n",
            "2019-02-16 20:14:07 | NumTrajs                    800\n",
            "2019-02-16 20:14:07 | Perplexity                    3.79882\n",
            "2019-02-16 20:14:07 | PolicyExecTime                0.176737\n",
            "2019-02-16 20:14:07 | ProcessExecTime               0.0374413\n",
            "2019-02-16 20:14:07 | StdReturn                     3.27797\n",
            "2019-02-16 20:14:07 | Time                          2.92091\n",
            "2019-02-16 20:14:07 | policy/Entropy                0.175422\n",
            "2019-02-16 20:14:07 | policy/KL                     0.00710615\n",
            "2019-02-16 20:14:07 | policy/KLBefore               0\n",
            "2019-02-16 20:14:07 | policy/LossAfter             -0.0605729\n",
            "2019-02-16 20:14:07 | policy/LossBefore             1.54972e-07\n",
            "2019-02-16 20:14:07 | policy/dLoss                  0.0605731\n",
            "2019-02-16 20:14:07 | --------------------------  -------------\n",
            "2019-02-16 20:14:07 | itr #3 | Obtaining samples...\n",
            "2019-02-16 20:14:07 | itr #3 | Obtaining samples for iteration 3...\n"
          ],
          "name": "stdout"
        },
        {
          "output_type": "stream",
          "text": [
            "0% [##############################] 100% | ETA: 00:00:00"
          ],
          "name": "stderr"
        },
        {
          "output_type": "stream",
          "text": [
            "2019-02-16 20:14:07 | itr #3 | Processing samples...\n"
          ],
          "name": "stdout"
        },
        {
          "output_type": "stream",
          "text": [
            "\n",
            "Total time elapsed: 00:00:00\n"
          ],
          "name": "stderr"
        },
        {
          "output_type": "stream",
          "text": [
            "2019-02-16 20:14:07 | itr #3 | Logging diagnostics...\n",
            "2019-02-16 20:14:07 | itr #3 | Optimizing policy...\n",
            "2019-02-16 20:14:07 | itr #3 | Computing loss before\n",
            "2019-02-16 20:14:07 | itr #3 | Computing KL before\n",
            "2019-02-16 20:14:07 | itr #3 | Optimizing\n",
            "2019-02-16 20:14:07 | itr #3 | Start CG optimization: #parameters: 1476, #inputs: 800, #subsample_inputs: 800\n",
            "2019-02-16 20:14:07 | itr #3 | computing loss before\n",
            "2019-02-16 20:14:07 | itr #3 | performing update\n",
            "2019-02-16 20:14:07 | itr #3 | computing gradient\n",
            "2019-02-16 20:14:07 | itr #3 | gradient computed\n",
            "2019-02-16 20:14:07 | itr #3 | computing descent direction\n",
            "2019-02-16 20:14:08 | itr #3 | descent direction computed\n",
            "2019-02-16 20:14:08 | itr #3 | backtrack iters: 1\n",
            "2019-02-16 20:14:08 | itr #3 | computing loss after\n",
            "2019-02-16 20:14:08 | itr #3 | optimization finished\n",
            "2019-02-16 20:14:08 | itr #3 | Computing KL after\n",
            "2019-02-16 20:14:08 | itr #3 | Computing loss after\n",
            "2019-02-16 20:14:08 | itr #3 | Fitting baseline...\n",
            "2019-02-16 20:14:08 | itr #3 | Saving snapshot...\n",
            "2019-02-16 20:14:08 | itr #3 | Saved\n",
            "2019-02-16 20:14:08 | --------------------------  -------------\n",
            "2019-02-16 20:14:08 | AverageDiscountedReturn       0.944026\n",
            "2019-02-16 20:14:08 | AverageReturn                 0.93875\n",
            "2019-02-16 20:14:08 | Baseline/ExplainedVariance    0.301152\n",
            "2019-02-16 20:14:08 | Entropy                       1.30733\n",
            "2019-02-16 20:14:08 | EnvExecTime                   0.171808\n",
            "2019-02-16 20:14:08 | Iteration                     3\n",
            "2019-02-16 20:14:08 | ItrTime                       0.844637\n",
            "2019-02-16 20:14:08 | MaxReturn                     8\n",
            "2019-02-16 20:14:08 | MinReturn                   -10\n",
            "2019-02-16 20:14:08 | NumTrajs                    800\n",
            "2019-02-16 20:14:08 | Perplexity                    3.69629\n",
            "2019-02-16 20:14:08 | PolicyExecTime                0.169413\n",
            "2019-02-16 20:14:08 | ProcessExecTime               0.0412869\n",
            "2019-02-16 20:14:08 | StdReturn                     3.0818\n",
            "2019-02-16 20:14:08 | Time                          3.79117\n",
            "2019-02-16 20:14:08 | policy/Entropy                0.185047\n",
            "2019-02-16 20:14:08 | policy/KL                     0.0069541\n",
            "2019-02-16 20:14:08 | policy/KLBefore               0\n",
            "2019-02-16 20:14:08 | policy/LossAfter             -0.0608693\n",
            "2019-02-16 20:14:08 | policy/LossBefore            -1.44482e-07\n",
            "2019-02-16 20:14:08 | policy/dLoss                  0.0608691\n",
            "2019-02-16 20:14:08 | --------------------------  -------------\n",
            "2019-02-16 20:14:08 | itr #4 | Obtaining samples...\n",
            "2019-02-16 20:14:08 | itr #4 | Obtaining samples for iteration 4...\n"
          ],
          "name": "stdout"
        },
        {
          "output_type": "stream",
          "text": [
            "0% [##############################] 100% | ETA: 00:00:00\n",
            "Total time elapsed: 00:00:00"
          ],
          "name": "stderr"
        },
        {
          "output_type": "stream",
          "text": [
            "2019-02-16 20:14:08 | itr #4 | Processing samples...\n"
          ],
          "name": "stdout"
        },
        {
          "output_type": "stream",
          "text": [
            "\n"
          ],
          "name": "stderr"
        },
        {
          "output_type": "stream",
          "text": [
            "2019-02-16 20:14:08 | itr #4 | Logging diagnostics...\n",
            "2019-02-16 20:14:08 | itr #4 | Optimizing policy...\n",
            "2019-02-16 20:14:08 | itr #4 | Computing loss before\n",
            "2019-02-16 20:14:08 | itr #4 | Computing KL before\n",
            "2019-02-16 20:14:08 | itr #4 | Optimizing\n",
            "2019-02-16 20:14:08 | itr #4 | Start CG optimization: #parameters: 1476, #inputs: 800, #subsample_inputs: 800\n",
            "2019-02-16 20:14:08 | itr #4 | computing loss before\n",
            "2019-02-16 20:14:08 | itr #4 | performing update\n",
            "2019-02-16 20:14:08 | itr #4 | computing gradient\n",
            "2019-02-16 20:14:08 | itr #4 | gradient computed\n",
            "2019-02-16 20:14:08 | itr #4 | computing descent direction\n",
            "2019-02-16 20:14:08 | itr #4 | descent direction computed\n",
            "2019-02-16 20:14:08 | itr #4 | backtrack iters: 1\n",
            "2019-02-16 20:14:08 | itr #4 | computing loss after\n",
            "2019-02-16 20:14:08 | itr #4 | optimization finished\n",
            "2019-02-16 20:14:08 | itr #4 | Computing KL after\n",
            "2019-02-16 20:14:08 | itr #4 | Computing loss after\n",
            "2019-02-16 20:14:09 | itr #4 | Fitting baseline...\n",
            "2019-02-16 20:14:09 | itr #4 | Saving snapshot...\n",
            "2019-02-16 20:14:09 | itr #4 | Saved\n",
            "2019-02-16 20:14:09 | --------------------------  -------------\n",
            "2019-02-16 20:14:09 | AverageDiscountedReturn       1.36659\n",
            "2019-02-16 20:14:09 | AverageReturn                 1.375\n",
            "2019-02-16 20:14:09 | Baseline/ExplainedVariance    0.274612\n",
            "2019-02-16 20:14:09 | Entropy                       1.26381\n",
            "2019-02-16 20:14:09 | EnvExecTime                   0.175463\n",
            "2019-02-16 20:14:09 | Iteration                     4\n",
            "2019-02-16 20:14:09 | ItrTime                       0.846092\n",
            "2019-02-16 20:14:09 | MaxReturn                     8\n",
            "2019-02-16 20:14:09 | MinReturn                   -10\n",
            "2019-02-16 20:14:09 | NumTrajs                    800\n",
            "2019-02-16 20:14:09 | Perplexity                    3.53888\n",
            "2019-02-16 20:14:09 | PolicyExecTime                0.179633\n",
            "2019-02-16 20:14:09 | ProcessExecTime               0.033402\n",
            "2019-02-16 20:14:09 | StdReturn                     2.9928\n",
            "2019-02-16 20:14:09 | Time                          4.68127\n",
            "2019-02-16 20:14:09 | policy/Entropy                0.197945\n",
            "2019-02-16 20:14:09 | policy/KL                     0.00687222\n",
            "2019-02-16 20:14:09 | policy/KLBefore               0\n",
            "2019-02-16 20:14:09 | policy/LossAfter             -0.0595296\n",
            "2019-02-16 20:14:09 | policy/LossBefore             4.79221e-08\n",
            "2019-02-16 20:14:09 | policy/dLoss                  0.0595297\n",
            "2019-02-16 20:14:09 | --------------------------  -------------\n",
            "2019-02-16 20:14:09 | itr #5 | Obtaining samples...\n",
            "2019-02-16 20:14:09 | itr #5 | Obtaining samples for iteration 5...\n"
          ],
          "name": "stdout"
        },
        {
          "output_type": "stream",
          "text": [
            "0% [##############################] 100% | ETA: 00:00:00"
          ],
          "name": "stderr"
        },
        {
          "output_type": "stream",
          "text": [
            "2019-02-16 20:14:09 | itr #5 | Processing samples...\n"
          ],
          "name": "stdout"
        },
        {
          "output_type": "stream",
          "text": [
            "\n",
            "Total time elapsed: 00:00:00\n"
          ],
          "name": "stderr"
        },
        {
          "output_type": "stream",
          "text": [
            "2019-02-16 20:14:09 | itr #5 | Logging diagnostics...\n",
            "2019-02-16 20:14:09 | itr #5 | Optimizing policy...\n",
            "2019-02-16 20:14:09 | itr #5 | Computing loss before\n",
            "2019-02-16 20:14:09 | itr #5 | Computing KL before\n",
            "2019-02-16 20:14:09 | itr #5 | Optimizing\n",
            "2019-02-16 20:14:09 | itr #5 | Start CG optimization: #parameters: 1476, #inputs: 800, #subsample_inputs: 800\n",
            "2019-02-16 20:14:09 | itr #5 | computing loss before\n",
            "2019-02-16 20:14:09 | itr #5 | performing update\n",
            "2019-02-16 20:14:09 | itr #5 | computing gradient\n",
            "2019-02-16 20:14:09 | itr #5 | gradient computed\n",
            "2019-02-16 20:14:09 | itr #5 | computing descent direction\n",
            "2019-02-16 20:14:09 | itr #5 | descent direction computed\n",
            "2019-02-16 20:14:09 | itr #5 | backtrack iters: 1\n",
            "2019-02-16 20:14:09 | itr #5 | computing loss after\n",
            "2019-02-16 20:14:09 | itr #5 | optimization finished\n",
            "2019-02-16 20:14:09 | itr #5 | Computing KL after\n",
            "2019-02-16 20:14:09 | itr #5 | Computing loss after\n",
            "2019-02-16 20:14:09 | itr #5 | Fitting baseline...\n",
            "2019-02-16 20:14:09 | itr #5 | Saving snapshot...\n",
            "2019-02-16 20:14:09 | itr #5 | Saved\n",
            "2019-02-16 20:14:09 | --------------------------  -------------\n",
            "2019-02-16 20:14:09 | AverageDiscountedReturn       1.82659\n",
            "2019-02-16 20:14:09 | AverageReturn                 1.84625\n",
            "2019-02-16 20:14:09 | Baseline/ExplainedVariance    0.19671\n",
            "2019-02-16 20:14:09 | Entropy                       1.20815\n",
            "2019-02-16 20:14:09 | EnvExecTime                   0.176489\n",
            "2019-02-16 20:14:09 | Iteration                     5\n",
            "2019-02-16 20:14:09 | ItrTime                       0.840084\n",
            "2019-02-16 20:14:09 | MaxReturn                     8\n",
            "2019-02-16 20:14:09 | MinReturn                    -7\n",
            "2019-02-16 20:14:09 | NumTrajs                    800\n",
            "2019-02-16 20:14:09 | Perplexity                    3.34727\n",
            "2019-02-16 20:14:09 | PolicyExecTime                0.1783\n",
            "2019-02-16 20:14:09 | ProcessExecTime               0.0338194\n",
            "2019-02-16 20:14:09 | StdReturn                     2.73086\n",
            "2019-02-16 20:14:09 | Time                          5.55098\n",
            "2019-02-16 20:14:09 | policy/Entropy                0.212531\n",
            "2019-02-16 20:14:09 | policy/KL                     0.00675523\n",
            "2019-02-16 20:14:09 | policy/KLBefore               0\n",
            "2019-02-16 20:14:09 | policy/LossAfter             -0.060584\n",
            "2019-02-16 20:14:09 | policy/LossBefore            -2.67029e-08\n",
            "2019-02-16 20:14:09 | policy/dLoss                  0.060584\n",
            "2019-02-16 20:14:09 | --------------------------  -------------\n",
            "2019-02-16 20:14:09 | itr #6 | Obtaining samples...\n",
            "2019-02-16 20:14:09 | itr #6 | Obtaining samples for iteration 6...\n"
          ],
          "name": "stdout"
        },
        {
          "output_type": "stream",
          "text": [
            "0% [##############################] 100% | ETA: 00:00:00"
          ],
          "name": "stderr"
        },
        {
          "output_type": "stream",
          "text": [
            "2019-02-16 20:14:10 | itr #6 | Processing samples...\n"
          ],
          "name": "stdout"
        },
        {
          "output_type": "stream",
          "text": [
            "\n",
            "Total time elapsed: 00:00:00\n"
          ],
          "name": "stderr"
        },
        {
          "output_type": "stream",
          "text": [
            "2019-02-16 20:14:10 | itr #6 | Logging diagnostics...\n",
            "2019-02-16 20:14:10 | itr #6 | Optimizing policy...\n",
            "2019-02-16 20:14:10 | itr #6 | Computing loss before\n",
            "2019-02-16 20:14:10 | itr #6 | Computing KL before\n",
            "2019-02-16 20:14:10 | itr #6 | Optimizing\n",
            "2019-02-16 20:14:10 | itr #6 | Start CG optimization: #parameters: 1476, #inputs: 800, #subsample_inputs: 800\n",
            "2019-02-16 20:14:10 | itr #6 | computing loss before\n",
            "2019-02-16 20:14:10 | itr #6 | performing update\n",
            "2019-02-16 20:14:10 | itr #6 | computing gradient\n",
            "2019-02-16 20:14:10 | itr #6 | gradient computed\n",
            "2019-02-16 20:14:10 | itr #6 | computing descent direction\n",
            "2019-02-16 20:14:10 | itr #6 | descent direction computed\n",
            "2019-02-16 20:14:10 | itr #6 | backtrack iters: 1\n",
            "2019-02-16 20:14:10 | itr #6 | computing loss after\n",
            "2019-02-16 20:14:10 | itr #6 | optimization finished\n",
            "2019-02-16 20:14:10 | itr #6 | Computing KL after\n",
            "2019-02-16 20:14:10 | itr #6 | Computing loss after\n",
            "2019-02-16 20:14:10 | itr #6 | Fitting baseline...\n",
            "2019-02-16 20:14:10 | itr #6 | Saving snapshot...\n",
            "2019-02-16 20:14:10 | itr #6 | Saved\n",
            "2019-02-16 20:14:10 | --------------------------  -------------\n",
            "2019-02-16 20:14:10 | AverageDiscountedReturn       2.51509\n",
            "2019-02-16 20:14:10 | AverageReturn                 2.55\n",
            "2019-02-16 20:14:10 | Baseline/ExplainedVariance    0.222917\n",
            "2019-02-16 20:14:10 | Entropy                       1.1394\n",
            "2019-02-16 20:14:10 | EnvExecTime                   0.174556\n",
            "2019-02-16 20:14:10 | Iteration                     6\n",
            "2019-02-16 20:14:10 | ItrTime                       0.84425\n",
            "2019-02-16 20:14:10 | MaxReturn                     8\n",
            "2019-02-16 20:14:10 | MinReturn                    -7\n",
            "2019-02-16 20:14:10 | NumTrajs                    800\n",
            "2019-02-16 20:14:10 | Perplexity                    3.12489\n",
            "2019-02-16 20:14:10 | PolicyExecTime                0.176652\n",
            "2019-02-16 20:14:10 | ProcessExecTime               0.0392568\n",
            "2019-02-16 20:14:10 | StdReturn                     2.67815\n",
            "2019-02-16 20:14:10 | Time                          6.41702\n",
            "2019-02-16 20:14:10 | policy/Entropy                0.234176\n",
            "2019-02-16 20:14:10 | policy/KL                     0.00654388\n",
            "2019-02-16 20:14:10 | policy/KLBefore               0\n",
            "2019-02-16 20:14:10 | policy/LossAfter             -0.0583667\n",
            "2019-02-16 20:14:10 | policy/LossBefore            -1.10507e-07\n",
            "2019-02-16 20:14:10 | policy/dLoss                  0.0583666\n",
            "2019-02-16 20:14:10 | --------------------------  -------------\n",
            "2019-02-16 20:14:10 | itr #7 | Obtaining samples...\n",
            "2019-02-16 20:14:10 | itr #7 | Obtaining samples for iteration 7...\n"
          ],
          "name": "stdout"
        },
        {
          "output_type": "stream",
          "text": [
            "0% [##############################] 100% | ETA: 00:00:00\n",
            "Total time elapsed: 00:00:00"
          ],
          "name": "stderr"
        },
        {
          "output_type": "stream",
          "text": [
            "2019-02-16 20:14:11 | itr #7 | Processing samples...\n"
          ],
          "name": "stdout"
        },
        {
          "output_type": "stream",
          "text": [
            "\n"
          ],
          "name": "stderr"
        },
        {
          "output_type": "stream",
          "text": [
            "2019-02-16 20:14:11 | itr #7 | Logging diagnostics...\n",
            "2019-02-16 20:14:11 | itr #7 | Optimizing policy...\n",
            "2019-02-16 20:14:11 | itr #7 | Computing loss before\n",
            "2019-02-16 20:14:11 | itr #7 | Computing KL before\n",
            "2019-02-16 20:14:11 | itr #7 | Optimizing\n",
            "2019-02-16 20:14:11 | itr #7 | Start CG optimization: #parameters: 1476, #inputs: 800, #subsample_inputs: 800\n",
            "2019-02-16 20:14:11 | itr #7 | computing loss before\n",
            "2019-02-16 20:14:11 | itr #7 | performing update\n",
            "2019-02-16 20:14:11 | itr #7 | computing gradient\n",
            "2019-02-16 20:14:11 | itr #7 | gradient computed\n",
            "2019-02-16 20:14:11 | itr #7 | computing descent direction\n",
            "2019-02-16 20:14:11 | itr #7 | descent direction computed\n",
            "2019-02-16 20:14:11 | itr #7 | backtrack iters: 1\n",
            "2019-02-16 20:14:11 | itr #7 | computing loss after\n",
            "2019-02-16 20:14:11 | itr #7 | optimization finished\n",
            "2019-02-16 20:14:11 | itr #7 | Computing KL after\n",
            "2019-02-16 20:14:11 | itr #7 | Computing loss after\n",
            "2019-02-16 20:14:11 | itr #7 | Fitting baseline...\n",
            "2019-02-16 20:14:11 | itr #7 | Saving snapshot...\n",
            "2019-02-16 20:14:11 | itr #7 | Saved\n",
            "2019-02-16 20:14:11 | --------------------------  -------------\n",
            "2019-02-16 20:14:11 | AverageDiscountedReturn       3.09032\n",
            "2019-02-16 20:14:11 | AverageReturn                 3.13625\n",
            "2019-02-16 20:14:11 | Baseline/ExplainedVariance    0.287421\n",
            "2019-02-16 20:14:11 | Entropy                       1.04328\n",
            "2019-02-16 20:14:11 | EnvExecTime                   0.174994\n",
            "2019-02-16 20:14:11 | Iteration                     7\n",
            "2019-02-16 20:14:11 | ItrTime                       0.842132\n",
            "2019-02-16 20:14:11 | MaxReturn                     8\n",
            "2019-02-16 20:14:11 | MinReturn                    -7\n",
            "2019-02-16 20:14:11 | NumTrajs                    800\n",
            "2019-02-16 20:14:11 | Perplexity                    2.83852\n",
            "2019-02-16 20:14:11 | PolicyExecTime                0.178688\n",
            "2019-02-16 20:14:11 | ProcessExecTime               0.040494\n",
            "2019-02-16 20:14:11 | StdReturn                     2.5264\n",
            "2019-02-16 20:14:11 | Time                          7.29966\n",
            "2019-02-16 20:14:11 | policy/Entropy                0.26022\n",
            "2019-02-16 20:14:11 | policy/KL                     0.00645036\n",
            "2019-02-16 20:14:11 | policy/KLBefore               0\n",
            "2019-02-16 20:14:11 | policy/LossAfter             -0.058628\n",
            "2019-02-16 20:14:11 | policy/LossBefore             1.31607e-07\n",
            "2019-02-16 20:14:11 | policy/dLoss                  0.0586282\n",
            "2019-02-16 20:14:11 | --------------------------  -------------\n",
            "2019-02-16 20:14:11 | itr #8 | Obtaining samples...\n",
            "2019-02-16 20:14:11 | itr #8 | Obtaining samples for iteration 8...\n"
          ],
          "name": "stdout"
        },
        {
          "output_type": "stream",
          "text": [
            "0% [##############################] 100% | ETA: 00:00:00"
          ],
          "name": "stderr"
        },
        {
          "output_type": "stream",
          "text": [
            "2019-02-16 20:14:12 | itr #8 | Processing samples...\n"
          ],
          "name": "stdout"
        },
        {
          "output_type": "stream",
          "text": [
            "\n",
            "Total time elapsed: 00:00:00\n"
          ],
          "name": "stderr"
        },
        {
          "output_type": "stream",
          "text": [
            "2019-02-16 20:14:12 | itr #8 | Logging diagnostics...\n",
            "2019-02-16 20:14:12 | itr #8 | Optimizing policy...\n",
            "2019-02-16 20:14:12 | itr #8 | Computing loss before\n",
            "2019-02-16 20:14:12 | itr #8 | Computing KL before\n",
            "2019-02-16 20:14:12 | itr #8 | Optimizing\n",
            "2019-02-16 20:14:12 | itr #8 | Start CG optimization: #parameters: 1476, #inputs: 800, #subsample_inputs: 800\n",
            "2019-02-16 20:14:12 | itr #8 | computing loss before\n",
            "2019-02-16 20:14:12 | itr #8 | performing update\n",
            "2019-02-16 20:14:12 | itr #8 | computing gradient\n",
            "2019-02-16 20:14:12 | itr #8 | gradient computed\n",
            "2019-02-16 20:14:12 | itr #8 | computing descent direction\n",
            "2019-02-16 20:14:12 | itr #8 | descent direction computed\n",
            "2019-02-16 20:14:12 | itr #8 | backtrack iters: 0\n",
            "2019-02-16 20:14:12 | itr #8 | computing loss after\n",
            "2019-02-16 20:14:12 | itr #8 | optimization finished\n",
            "2019-02-16 20:14:12 | itr #8 | Computing KL after\n",
            "2019-02-16 20:14:12 | itr #8 | Computing loss after\n",
            "2019-02-16 20:14:12 | itr #8 | Fitting baseline...\n",
            "2019-02-16 20:14:12 | itr #8 | Saving snapshot...\n",
            "2019-02-16 20:14:12 | itr #8 | Saved\n",
            "2019-02-16 20:14:12 | --------------------------  -------------\n",
            "2019-02-16 20:14:12 | AverageDiscountedReturn       3.5814\n",
            "2019-02-16 20:14:12 | AverageReturn                 3.63875\n",
            "2019-02-16 20:14:12 | Baseline/ExplainedVariance    0.312532\n",
            "2019-02-16 20:14:12 | Entropy                       0.954359\n",
            "2019-02-16 20:14:12 | EnvExecTime                   0.180879\n",
            "2019-02-16 20:14:12 | Iteration                     8\n",
            "2019-02-16 20:14:12 | ItrTime                       0.847201\n",
            "2019-02-16 20:14:12 | MaxReturn                     8\n",
            "2019-02-16 20:14:12 | MinReturn                    -4\n",
            "2019-02-16 20:14:12 | NumTrajs                    800\n",
            "2019-02-16 20:14:12 | Perplexity                    2.59701\n",
            "2019-02-16 20:14:12 | PolicyExecTime                0.183134\n",
            "2019-02-16 20:14:12 | ProcessExecTime               0.0339744\n",
            "2019-02-16 20:14:12 | StdReturn                     2.2969\n",
            "2019-02-16 20:14:12 | Time                          8.16883\n",
            "2019-02-16 20:14:12 | policy/Entropy                0.284909\n",
            "2019-02-16 20:14:12 | policy/KL                     0.00990367\n",
            "2019-02-16 20:14:12 | policy/KLBefore               0\n",
            "2019-02-16 20:14:12 | policy/LossAfter             -0.0720884\n",
            "2019-02-16 20:14:12 | policy/LossBefore             7.05719e-08\n",
            "2019-02-16 20:14:12 | policy/dLoss                  0.0720885\n",
            "2019-02-16 20:14:12 | --------------------------  -------------\n",
            "2019-02-16 20:14:12 | itr #9 | Obtaining samples...\n",
            "2019-02-16 20:14:12 | itr #9 | Obtaining samples for iteration 9...\n"
          ],
          "name": "stdout"
        },
        {
          "output_type": "stream",
          "text": [
            "0% [##############################] 100% | ETA: 00:00:00"
          ],
          "name": "stderr"
        },
        {
          "output_type": "stream",
          "text": [
            "2019-02-16 20:14:12 | itr #9 | Processing samples...\n"
          ],
          "name": "stdout"
        },
        {
          "output_type": "stream",
          "text": [
            "\n",
            "Total time elapsed: 00:00:00\n"
          ],
          "name": "stderr"
        },
        {
          "output_type": "stream",
          "text": [
            "2019-02-16 20:14:13 | itr #9 | Logging diagnostics...\n",
            "2019-02-16 20:14:13 | itr #9 | Optimizing policy...\n",
            "2019-02-16 20:14:13 | itr #9 | Computing loss before\n",
            "2019-02-16 20:14:13 | itr #9 | Computing KL before\n",
            "2019-02-16 20:14:13 | itr #9 | Optimizing\n",
            "2019-02-16 20:14:13 | itr #9 | Start CG optimization: #parameters: 1476, #inputs: 800, #subsample_inputs: 800\n",
            "2019-02-16 20:14:13 | itr #9 | computing loss before\n",
            "2019-02-16 20:14:13 | itr #9 | performing update\n",
            "2019-02-16 20:14:13 | itr #9 | computing gradient\n",
            "2019-02-16 20:14:13 | itr #9 | gradient computed\n",
            "2019-02-16 20:14:13 | itr #9 | computing descent direction\n",
            "2019-02-16 20:14:13 | itr #9 | descent direction computed\n",
            "2019-02-16 20:14:13 | itr #9 | backtrack iters: 0\n",
            "2019-02-16 20:14:13 | itr #9 | computing loss after\n",
            "2019-02-16 20:14:13 | itr #9 | optimization finished\n",
            "2019-02-16 20:14:13 | itr #9 | Computing KL after\n",
            "2019-02-16 20:14:13 | itr #9 | Computing loss after\n",
            "2019-02-16 20:14:13 | itr #9 | Fitting baseline...\n",
            "2019-02-16 20:14:13 | itr #9 | Saving snapshot...\n",
            "2019-02-16 20:14:13 | itr #9 | Saved\n",
            "2019-02-16 20:14:13 | --------------------------  -------------\n",
            "2019-02-16 20:14:13 | AverageDiscountedReturn       4.21636\n",
            "2019-02-16 20:14:13 | AverageReturn                 4.2875\n",
            "2019-02-16 20:14:13 | Baseline/ExplainedVariance    0.386252\n",
            "2019-02-16 20:14:13 | Entropy                       0.826917\n",
            "2019-02-16 20:14:13 | EnvExecTime                   0.188647\n",
            "2019-02-16 20:14:13 | Iteration                     9\n",
            "2019-02-16 20:14:13 | ItrTime                       0.839434\n",
            "2019-02-16 20:14:13 | MaxReturn                     8\n",
            "2019-02-16 20:14:13 | MinReturn                    -4\n",
            "2019-02-16 20:14:13 | NumTrajs                    800\n",
            "2019-02-16 20:14:13 | Perplexity                    2.28626\n",
            "2019-02-16 20:14:13 | PolicyExecTime                0.171297\n",
            "2019-02-16 20:14:13 | ProcessExecTime               0.0363917\n",
            "2019-02-16 20:14:13 | StdReturn                     2.26492\n",
            "2019-02-16 20:14:13 | Time                          9.03133\n",
            "2019-02-16 20:14:13 | policy/Entropy                0.316314\n",
            "2019-02-16 20:14:13 | policy/KL                     0.00978757\n",
            "2019-02-16 20:14:13 | policy/KLBefore               0\n",
            "2019-02-16 20:14:13 | policy/LossAfter             -0.0738436\n",
            "2019-02-16 20:14:13 | policy/LossBefore             2.27213e-07\n",
            "2019-02-16 20:14:13 | policy/dLoss                  0.0738439\n",
            "2019-02-16 20:14:13 | --------------------------  -------------\n",
            "2019-02-16 20:14:13 | itr #10 | Obtaining samples...\n",
            "2019-02-16 20:14:13 | itr #10 | Obtaining samples for iteration 10...\n"
          ],
          "name": "stdout"
        },
        {
          "output_type": "stream",
          "text": [
            "0% [##############################] 100% | ETA: 00:00:00"
          ],
          "name": "stderr"
        },
        {
          "output_type": "stream",
          "text": [
            "2019-02-16 20:14:13 | itr #10 | Processing samples...\n"
          ],
          "name": "stdout"
        },
        {
          "output_type": "stream",
          "text": [
            "\n",
            "Total time elapsed: 00:00:00\n"
          ],
          "name": "stderr"
        },
        {
          "output_type": "stream",
          "text": [
            "2019-02-16 20:14:13 | itr #10 | Logging diagnostics...\n",
            "2019-02-16 20:14:13 | itr #10 | Optimizing policy...\n",
            "2019-02-16 20:14:13 | itr #10 | Computing loss before\n",
            "2019-02-16 20:14:13 | itr #10 | Computing KL before\n",
            "2019-02-16 20:14:13 | itr #10 | Optimizing\n",
            "2019-02-16 20:14:13 | itr #10 | Start CG optimization: #parameters: 1476, #inputs: 800, #subsample_inputs: 800\n",
            "2019-02-16 20:14:13 | itr #10 | computing loss before\n",
            "2019-02-16 20:14:13 | itr #10 | performing update\n",
            "2019-02-16 20:14:13 | itr #10 | computing gradient\n",
            "2019-02-16 20:14:13 | itr #10 | gradient computed\n",
            "2019-02-16 20:14:13 | itr #10 | computing descent direction\n",
            "2019-02-16 20:14:14 | itr #10 | descent direction computed\n",
            "2019-02-16 20:14:14 | itr #10 | backtrack iters: 0\n",
            "2019-02-16 20:14:14 | itr #10 | computing loss after\n",
            "2019-02-16 20:14:14 | itr #10 | optimization finished\n",
            "2019-02-16 20:14:14 | itr #10 | Computing KL after\n",
            "2019-02-16 20:14:14 | itr #10 | Computing loss after\n",
            "2019-02-16 20:14:14 | itr #10 | Fitting baseline...\n",
            "2019-02-16 20:14:14 | itr #10 | Saving snapshot...\n",
            "2019-02-16 20:14:14 | itr #10 | Saved\n",
            "2019-02-16 20:14:14 | --------------------------  -------------\n",
            "2019-02-16 20:14:14 | AverageDiscountedReturn       4.74777\n",
            "2019-02-16 20:14:14 | AverageReturn                 4.83\n",
            "2019-02-16 20:14:14 | Baseline/ExplainedVariance    0.516969\n",
            "2019-02-16 20:14:14 | Entropy                       0.708339\n",
            "2019-02-16 20:14:14 | EnvExecTime                   0.176387\n",
            "2019-02-16 20:14:14 | Iteration                    10\n",
            "2019-02-16 20:14:14 | ItrTime                       0.834789\n",
            "2019-02-16 20:14:14 | MaxReturn                     8\n",
            "2019-02-16 20:14:14 | MinReturn                    -2\n",
            "2019-02-16 20:14:14 | NumTrajs                    800\n",
            "2019-02-16 20:14:14 | Perplexity                    2.03062\n",
            "2019-02-16 20:14:14 | PolicyExecTime                0.1806\n",
            "2019-02-16 20:14:14 | ProcessExecTime               0.0350244\n",
            "2019-02-16 20:14:14 | StdReturn                     1.90817\n",
            "2019-02-16 20:14:14 | Time                          9.88835\n",
            "2019-02-16 20:14:14 | policy/Entropy                0.342725\n",
            "2019-02-16 20:14:14 | policy/KL                     0.00958233\n",
            "2019-02-16 20:14:14 | policy/KLBefore               0\n",
            "2019-02-16 20:14:14 | policy/LossAfter             -0.0700892\n",
            "2019-02-16 20:14:14 | policy/LossBefore             1.21117e-07\n",
            "2019-02-16 20:14:14 | policy/dLoss                  0.0700893\n",
            "2019-02-16 20:14:14 | --------------------------  -------------\n",
            "2019-02-16 20:14:14 | itr #11 | Obtaining samples...\n",
            "2019-02-16 20:14:14 | itr #11 | Obtaining samples for iteration 11...\n"
          ],
          "name": "stdout"
        },
        {
          "output_type": "stream",
          "text": [
            "0% [##############################] 100% | ETA: 00:00:00"
          ],
          "name": "stderr"
        },
        {
          "output_type": "stream",
          "text": [
            "2019-02-16 20:14:14 | itr #11 | Processing samples...\n"
          ],
          "name": "stdout"
        },
        {
          "output_type": "stream",
          "text": [
            "\n",
            "Total time elapsed: 00:00:00\n"
          ],
          "name": "stderr"
        },
        {
          "output_type": "stream",
          "text": [
            "2019-02-16 20:14:14 | itr #11 | Logging diagnostics...\n",
            "2019-02-16 20:14:14 | itr #11 | Optimizing policy...\n",
            "2019-02-16 20:14:14 | itr #11 | Computing loss before\n",
            "2019-02-16 20:14:14 | itr #11 | Computing KL before\n",
            "2019-02-16 20:14:14 | itr #11 | Optimizing\n",
            "2019-02-16 20:14:14 | itr #11 | Start CG optimization: #parameters: 1476, #inputs: 800, #subsample_inputs: 800\n",
            "2019-02-16 20:14:14 | itr #11 | computing loss before\n",
            "2019-02-16 20:14:14 | itr #11 | performing update\n",
            "2019-02-16 20:14:14 | itr #11 | computing gradient\n",
            "2019-02-16 20:14:14 | itr #11 | gradient computed\n",
            "2019-02-16 20:14:14 | itr #11 | computing descent direction\n",
            "2019-02-16 20:14:15 | itr #11 | descent direction computed\n",
            "2019-02-16 20:14:15 | itr #11 | backtrack iters: 0\n",
            "2019-02-16 20:14:15 | itr #11 | computing loss after\n",
            "2019-02-16 20:14:15 | itr #11 | optimization finished\n",
            "2019-02-16 20:14:15 | itr #11 | Computing KL after\n",
            "2019-02-16 20:14:15 | itr #11 | Computing loss after\n",
            "2019-02-16 20:14:15 | itr #11 | Fitting baseline...\n",
            "2019-02-16 20:14:15 | itr #11 | Saving snapshot...\n",
            "2019-02-16 20:14:15 | itr #11 | Saved\n",
            "2019-02-16 20:14:15 | --------------------------  -------------\n",
            "2019-02-16 20:14:15 | AverageDiscountedReturn       5.21987\n",
            "2019-02-16 20:14:15 | AverageReturn                 5.3125\n",
            "2019-02-16 20:14:15 | Baseline/ExplainedVariance    0.626618\n",
            "2019-02-16 20:14:15 | Entropy                       0.579574\n",
            "2019-02-16 20:14:15 | EnvExecTime                   0.160113\n",
            "2019-02-16 20:14:15 | Iteration                    11\n",
            "2019-02-16 20:14:15 | ItrTime                       0.819245\n",
            "2019-02-16 20:14:15 | MaxReturn                     8\n",
            "2019-02-16 20:14:15 | MinReturn                    -2\n",
            "2019-02-16 20:14:15 | NumTrajs                    800\n",
            "2019-02-16 20:14:15 | Perplexity                    1.78528\n",
            "2019-02-16 20:14:15 | PolicyExecTime                0.186382\n",
            "2019-02-16 20:14:15 | ProcessExecTime               0.0334039\n",
            "2019-02-16 20:14:15 | StdReturn                     1.71387\n",
            "2019-02-16 20:14:15 | Time                         10.7437\n",
            "2019-02-16 20:14:15 | policy/Entropy                0.371458\n",
            "2019-02-16 20:14:15 | policy/KL                     0.00928464\n",
            "2019-02-16 20:14:15 | policy/KLBefore               0\n",
            "2019-02-16 20:14:15 | policy/LossAfter             -0.0729635\n",
            "2019-02-16 20:14:15 | policy/LossBefore             2.72274e-07\n",
            "2019-02-16 20:14:15 | policy/dLoss                  0.0729638\n",
            "2019-02-16 20:14:15 | --------------------------  -------------\n",
            "2019-02-16 20:14:15 | itr #12 | Obtaining samples...\n",
            "2019-02-16 20:14:15 | itr #12 | Obtaining samples for iteration 12...\n"
          ],
          "name": "stdout"
        },
        {
          "output_type": "stream",
          "text": [
            "0% [##############################] 100% | ETA: 00:00:00"
          ],
          "name": "stderr"
        },
        {
          "output_type": "stream",
          "text": [
            "2019-02-16 20:14:15 | itr #12 | Processing samples...\n"
          ],
          "name": "stdout"
        },
        {
          "output_type": "stream",
          "text": [
            "\n",
            "Total time elapsed: 00:00:00\n"
          ],
          "name": "stderr"
        },
        {
          "output_type": "stream",
          "text": [
            "2019-02-16 20:14:15 | itr #12 | Logging diagnostics...\n",
            "2019-02-16 20:14:15 | itr #12 | Optimizing policy...\n",
            "2019-02-16 20:14:15 | itr #12 | Computing loss before\n",
            "2019-02-16 20:14:15 | itr #12 | Computing KL before\n",
            "2019-02-16 20:14:15 | itr #12 | Optimizing\n",
            "2019-02-16 20:14:15 | itr #12 | Start CG optimization: #parameters: 1476, #inputs: 800, #subsample_inputs: 800\n",
            "2019-02-16 20:14:15 | itr #12 | computing loss before\n",
            "2019-02-16 20:14:15 | itr #12 | performing update\n",
            "2019-02-16 20:14:15 | itr #12 | computing gradient\n",
            "2019-02-16 20:14:15 | itr #12 | gradient computed\n",
            "2019-02-16 20:14:15 | itr #12 | computing descent direction\n",
            "2019-02-16 20:14:15 | itr #12 | descent direction computed\n",
            "2019-02-16 20:14:15 | itr #12 | backtrack iters: 0\n",
            "2019-02-16 20:14:15 | itr #12 | computing loss after\n",
            "2019-02-16 20:14:15 | itr #12 | optimization finished\n",
            "2019-02-16 20:14:15 | itr #12 | Computing KL after\n",
            "2019-02-16 20:14:15 | itr #12 | Computing loss after\n",
            "2019-02-16 20:14:15 | itr #12 | Fitting baseline...\n",
            "2019-02-16 20:14:15 | itr #12 | Saving snapshot...\n",
            "2019-02-16 20:14:15 | itr #12 | Saved\n",
            "2019-02-16 20:14:15 | --------------------------  -------------\n",
            "2019-02-16 20:14:15 | AverageDiscountedReturn       5.62566\n",
            "2019-02-16 20:14:15 | AverageReturn                 5.725\n",
            "2019-02-16 20:14:15 | Baseline/ExplainedVariance    0.772356\n",
            "2019-02-16 20:14:15 | Entropy                       0.449142\n",
            "2019-02-16 20:14:15 | EnvExecTime                   0.152245\n",
            "2019-02-16 20:14:15 | Iteration                    12\n",
            "2019-02-16 20:14:15 | ItrTime                       0.800598\n",
            "2019-02-16 20:14:15 | MaxReturn                     8\n",
            "2019-02-16 20:14:15 | MinReturn                    -2\n",
            "2019-02-16 20:14:15 | NumTrajs                    800\n",
            "2019-02-16 20:14:15 | Perplexity                    1.56697\n",
            "2019-02-16 20:14:15 | PolicyExecTime                0.177088\n",
            "2019-02-16 20:14:16 | ProcessExecTime               0.0318823\n",
            "2019-02-16 20:14:16 | StdReturn                     1.42632\n",
            "2019-02-16 20:14:16 | Time                         11.6022\n",
            "2019-02-16 20:14:16 | policy/Entropy                0.403168\n",
            "2019-02-16 20:14:16 | policy/KL                     0.0091085\n",
            "2019-02-16 20:14:16 | policy/KLBefore               0\n",
            "2019-02-16 20:14:16 | policy/LossAfter             -0.0677129\n",
            "2019-02-16 20:14:16 | policy/LossBefore             1.18256e-07\n",
            "2019-02-16 20:14:16 | policy/dLoss                  0.067713\n",
            "2019-02-16 20:14:16 | --------------------------  -------------\n",
            "2019-02-16 20:14:16 | itr #13 | Obtaining samples...\n",
            "2019-02-16 20:14:16 | itr #13 | Obtaining samples for iteration 13...\n"
          ],
          "name": "stdout"
        },
        {
          "output_type": "stream",
          "text": [
            "0% [##############################] 100% | ETA: 00:00:00"
          ],
          "name": "stderr"
        },
        {
          "output_type": "stream",
          "text": [
            "2019-02-16 20:14:16 | itr #13 | Processing samples...\n"
          ],
          "name": "stdout"
        },
        {
          "output_type": "stream",
          "text": [
            "\n",
            "Total time elapsed: 00:00:00\n"
          ],
          "name": "stderr"
        },
        {
          "output_type": "stream",
          "text": [
            "2019-02-16 20:14:16 | itr #13 | Logging diagnostics...\n",
            "2019-02-16 20:14:16 | itr #13 | Optimizing policy...\n",
            "2019-02-16 20:14:16 | itr #13 | Computing loss before\n",
            "2019-02-16 20:14:16 | itr #13 | Computing KL before\n",
            "2019-02-16 20:14:16 | itr #13 | Optimizing\n",
            "2019-02-16 20:14:16 | itr #13 | Start CG optimization: #parameters: 1476, #inputs: 800, #subsample_inputs: 800\n",
            "2019-02-16 20:14:16 | itr #13 | computing loss before\n",
            "2019-02-16 20:14:16 | itr #13 | performing update\n",
            "2019-02-16 20:14:16 | itr #13 | computing gradient\n",
            "2019-02-16 20:14:16 | itr #13 | gradient computed\n",
            "2019-02-16 20:14:16 | itr #13 | computing descent direction\n",
            "2019-02-16 20:14:16 | itr #13 | descent direction computed\n",
            "2019-02-16 20:14:16 | itr #13 | backtrack iters: 0\n",
            "2019-02-16 20:14:16 | itr #13 | computing loss after\n",
            "2019-02-16 20:14:16 | itr #13 | optimization finished\n",
            "2019-02-16 20:14:16 | itr #13 | Computing KL after\n",
            "2019-02-16 20:14:16 | itr #13 | Computing loss after\n",
            "2019-02-16 20:14:16 | itr #13 | Fitting baseline...\n",
            "2019-02-16 20:14:16 | itr #13 | Saving snapshot...\n",
            "2019-02-16 20:14:16 | itr #13 | Saved\n",
            "2019-02-16 20:14:16 | --------------------------  ------------\n",
            "2019-02-16 20:14:16 | AverageDiscountedReturn       5.98768\n",
            "2019-02-16 20:14:16 | AverageReturn                 6.09125\n",
            "2019-02-16 20:14:16 | Baseline/ExplainedVariance    0.875528\n",
            "2019-02-16 20:14:16 | Entropy                       0.350643\n",
            "2019-02-16 20:14:16 | EnvExecTime                   0.155941\n",
            "2019-02-16 20:14:16 | Iteration                    13\n",
            "2019-02-16 20:14:16 | ItrTime                       0.817976\n",
            "2019-02-16 20:14:16 | MaxReturn                     8\n",
            "2019-02-16 20:14:16 | MinReturn                    -1\n",
            "2019-02-16 20:14:16 | NumTrajs                    800\n",
            "2019-02-16 20:14:16 | Perplexity                    1.41998\n",
            "2019-02-16 20:14:16 | PolicyExecTime                0.181219\n",
            "2019-02-16 20:14:16 | ProcessExecTime               0.0319223\n",
            "2019-02-16 20:14:16 | StdReturn                     1.19182\n",
            "2019-02-16 20:14:16 | Time                         12.4803\n",
            "2019-02-16 20:14:16 | policy/Entropy                0.423975\n",
            "2019-02-16 20:14:16 | policy/KL                     0.00876939\n",
            "2019-02-16 20:14:16 | policy/KLBefore               0\n",
            "2019-02-16 20:14:16 | policy/LossAfter             -0.0640047\n",
            "2019-02-16 20:14:16 | policy/LossBefore             2.7585e-07\n",
            "2019-02-16 20:14:16 | policy/dLoss                  0.0640049\n",
            "2019-02-16 20:14:16 | --------------------------  ------------\n",
            "2019-02-16 20:14:16 | itr #14 | Obtaining samples...\n",
            "2019-02-16 20:14:16 | itr #14 | Obtaining samples for iteration 14...\n"
          ],
          "name": "stdout"
        },
        {
          "output_type": "stream",
          "text": [
            "0% [##############################] 100% | ETA: 00:00:00"
          ],
          "name": "stderr"
        },
        {
          "output_type": "stream",
          "text": [
            "2019-02-16 20:14:17 | itr #14 | Processing samples...\n"
          ],
          "name": "stdout"
        },
        {
          "output_type": "stream",
          "text": [
            "\n",
            "Total time elapsed: 00:00:00\n"
          ],
          "name": "stderr"
        },
        {
          "output_type": "stream",
          "text": [
            "2019-02-16 20:14:17 | itr #14 | Logging diagnostics...\n",
            "2019-02-16 20:14:17 | itr #14 | Optimizing policy...\n",
            "2019-02-16 20:14:17 | itr #14 | Computing loss before\n",
            "2019-02-16 20:14:17 | itr #14 | Computing KL before\n",
            "2019-02-16 20:14:17 | itr #14 | Optimizing\n",
            "2019-02-16 20:14:17 | itr #14 | Start CG optimization: #parameters: 1476, #inputs: 800, #subsample_inputs: 800\n",
            "2019-02-16 20:14:17 | itr #14 | computing loss before\n",
            "2019-02-16 20:14:17 | itr #14 | performing update\n",
            "2019-02-16 20:14:17 | itr #14 | computing gradient\n",
            "2019-02-16 20:14:17 | itr #14 | gradient computed\n",
            "2019-02-16 20:14:17 | itr #14 | computing descent direction\n",
            "2019-02-16 20:14:17 | itr #14 | descent direction computed\n",
            "2019-02-16 20:14:17 | itr #14 | backtrack iters: 0\n",
            "2019-02-16 20:14:17 | itr #14 | computing loss after\n",
            "2019-02-16 20:14:17 | itr #14 | optimization finished\n",
            "2019-02-16 20:14:17 | itr #14 | Computing KL after\n",
            "2019-02-16 20:14:17 | itr #14 | Computing loss after\n",
            "2019-02-16 20:14:17 | itr #14 | Fitting baseline...\n",
            "2019-02-16 20:14:17 | itr #14 | Saving snapshot...\n",
            "2019-02-16 20:14:17 | itr #14 | Saved\n",
            "2019-02-16 20:14:17 | --------------------------  -------------\n",
            "2019-02-16 20:14:17 | AverageDiscountedReturn       6.14227\n",
            "2019-02-16 20:14:17 | AverageReturn                 6.24875\n",
            "2019-02-16 20:14:17 | Baseline/ExplainedVariance    0.954991\n",
            "2019-02-16 20:14:17 | Entropy                       0.262955\n",
            "2019-02-16 20:14:17 | EnvExecTime                   0.161041\n",
            "2019-02-16 20:14:17 | Iteration                    14\n",
            "2019-02-16 20:14:17 | ItrTime                       0.780538\n",
            "2019-02-16 20:14:17 | MaxReturn                     8\n",
            "2019-02-16 20:14:17 | MinReturn                     2\n",
            "2019-02-16 20:14:17 | NumTrajs                    800\n",
            "2019-02-16 20:14:17 | Perplexity                    1.30077\n",
            "2019-02-16 20:14:17 | PolicyExecTime                0.168775\n",
            "2019-02-16 20:14:17 | ProcessExecTime               0.0327058\n",
            "2019-02-16 20:14:17 | StdReturn                     0.97564\n",
            "2019-02-16 20:14:17 | Time                         13.2881\n",
            "2019-02-16 20:14:17 | policy/Entropy                0.440781\n",
            "2019-02-16 20:14:17 | policy/KL                     0.00864763\n",
            "2019-02-16 20:14:17 | policy/KLBefore               0\n",
            "2019-02-16 20:14:17 | policy/LossAfter             -0.0661158\n",
            "2019-02-16 20:14:17 | policy/LossBefore            -2.11477e-07\n",
            "2019-02-16 20:14:17 | policy/dLoss                  0.0661155\n",
            "2019-02-16 20:14:17 | --------------------------  -------------\n",
            "2019-02-16 20:14:17 | itr #15 | Obtaining samples...\n",
            "2019-02-16 20:14:17 | itr #15 | Obtaining samples for iteration 15...\n"
          ],
          "name": "stdout"
        },
        {
          "output_type": "stream",
          "text": [
            "0% [##############################] 100% | ETA: 00:00:00"
          ],
          "name": "stderr"
        },
        {
          "output_type": "stream",
          "text": [
            "2019-02-16 20:14:18 | itr #15 | Processing samples...\n"
          ],
          "name": "stdout"
        },
        {
          "output_type": "stream",
          "text": [
            "\n",
            "Total time elapsed: 00:00:00\n"
          ],
          "name": "stderr"
        },
        {
          "output_type": "stream",
          "text": [
            "2019-02-16 20:14:18 | itr #15 | Logging diagnostics...\n",
            "2019-02-16 20:14:18 | itr #15 | Optimizing policy...\n",
            "2019-02-16 20:14:18 | itr #15 | Computing loss before\n",
            "2019-02-16 20:14:18 | itr #15 | Computing KL before\n",
            "2019-02-16 20:14:18 | itr #15 | Optimizing\n",
            "2019-02-16 20:14:18 | itr #15 | Start CG optimization: #parameters: 1476, #inputs: 800, #subsample_inputs: 800\n",
            "2019-02-16 20:14:18 | itr #15 | computing loss before\n",
            "2019-02-16 20:14:18 | itr #15 | performing update\n",
            "2019-02-16 20:14:18 | itr #15 | computing gradient\n",
            "2019-02-16 20:14:18 | itr #15 | gradient computed\n",
            "2019-02-16 20:14:18 | itr #15 | computing descent direction\n",
            "2019-02-16 20:14:18 | itr #15 | descent direction computed\n",
            "2019-02-16 20:14:18 | itr #15 | backtrack iters: 0\n",
            "2019-02-16 20:14:18 | itr #15 | computing loss after\n",
            "2019-02-16 20:14:18 | itr #15 | optimization finished\n",
            "2019-02-16 20:14:18 | itr #15 | Computing KL after\n",
            "2019-02-16 20:14:18 | itr #15 | Computing loss after\n",
            "2019-02-16 20:14:18 | itr #15 | Fitting baseline...\n",
            "2019-02-16 20:14:18 | itr #15 | Saving snapshot...\n",
            "2019-02-16 20:14:18 | itr #15 | Saved\n",
            "2019-02-16 20:14:18 | --------------------------  -------------\n",
            "2019-02-16 20:14:18 | AverageDiscountedReturn       6.29315\n",
            "2019-02-16 20:14:18 | AverageReturn                 6.4\n",
            "2019-02-16 20:14:18 | Baseline/ExplainedVariance    0.98233\n",
            "2019-02-16 20:14:18 | Entropy                       0.193699\n",
            "2019-02-16 20:14:18 | EnvExecTime                   0.160025\n",
            "2019-02-16 20:14:18 | Iteration                    15\n",
            "2019-02-16 20:14:18 | ItrTime                       0.765023\n",
            "2019-02-16 20:14:18 | MaxReturn                     8\n",
            "2019-02-16 20:14:18 | MinReturn                     3\n",
            "2019-02-16 20:14:18 | NumTrajs                    800\n",
            "2019-02-16 20:14:18 | Perplexity                    1.21373\n",
            "2019-02-16 20:14:18 | PolicyExecTime                0.164887\n",
            "2019-02-16 20:14:18 | ProcessExecTime               0.0344064\n",
            "2019-02-16 20:14:18 | StdReturn                     0.91515\n",
            "2019-02-16 20:14:18 | Time                         14.0777\n",
            "2019-02-16 20:14:18 | policy/Entropy                0.45424\n",
            "2019-02-16 20:14:18 | policy/KL                     0.00704037\n",
            "2019-02-16 20:14:18 | policy/KLBefore               0\n",
            "2019-02-16 20:14:18 | policy/LossAfter             -0.0580991\n",
            "2019-02-16 20:14:18 | policy/LossBefore            -1.25885e-07\n",
            "2019-02-16 20:14:18 | policy/dLoss                  0.058099\n",
            "2019-02-16 20:14:18 | --------------------------  -------------\n",
            "2019-02-16 20:14:18 | itr #16 | Obtaining samples...\n",
            "2019-02-16 20:14:18 | itr #16 | Obtaining samples for iteration 16...\n"
          ],
          "name": "stdout"
        },
        {
          "output_type": "stream",
          "text": [
            "0% [##############################] 100% | ETA: 00:00:00\n",
            "Total time elapsed: 00:00:00\n"
          ],
          "name": "stderr"
        },
        {
          "output_type": "stream",
          "text": [
            "2019-02-16 20:14:18 | itr #16 | Processing samples...\n",
            "2019-02-16 20:14:18 | itr #16 | Logging diagnostics...\n",
            "2019-02-16 20:14:18 | itr #16 | Optimizing policy...\n",
            "2019-02-16 20:14:18 | itr #16 | Computing loss before\n",
            "2019-02-16 20:14:18 | itr #16 | Computing KL before\n",
            "2019-02-16 20:14:18 | itr #16 | Optimizing\n",
            "2019-02-16 20:14:18 | itr #16 | Start CG optimization: #parameters: 1476, #inputs: 800, #subsample_inputs: 800\n",
            "2019-02-16 20:14:18 | itr #16 | computing loss before\n",
            "2019-02-16 20:14:18 | itr #16 | performing update\n",
            "2019-02-16 20:14:18 | itr #16 | computing gradient\n",
            "2019-02-16 20:14:18 | itr #16 | gradient computed\n",
            "2019-02-16 20:14:18 | itr #16 | computing descent direction\n",
            "2019-02-16 20:14:19 | itr #16 | descent direction computed\n",
            "2019-02-16 20:14:19 | itr #16 | backtrack iters: 1\n",
            "2019-02-16 20:14:19 | itr #16 | computing loss after\n",
            "2019-02-16 20:14:19 | itr #16 | optimization finished\n",
            "2019-02-16 20:14:19 | itr #16 | Computing KL after\n",
            "2019-02-16 20:14:19 | itr #16 | Computing loss after\n",
            "2019-02-16 20:14:19 | itr #16 | Fitting baseline...\n",
            "2019-02-16 20:14:19 | itr #16 | Saving snapshot...\n",
            "2019-02-16 20:14:19 | itr #16 | Saved\n",
            "2019-02-16 20:14:19 | --------------------------  -------------\n",
            "2019-02-16 20:14:19 | AverageDiscountedReturn       6.36333\n",
            "2019-02-16 20:14:19 | AverageReturn                 6.47\n",
            "2019-02-16 20:14:19 | Baseline/ExplainedVariance    0.993578\n",
            "2019-02-16 20:14:19 | Entropy                       0.146656\n",
            "2019-02-16 20:14:19 | EnvExecTime                   0.156384\n",
            "2019-02-16 20:14:19 | Iteration                    16\n",
            "2019-02-16 20:14:19 | ItrTime                       0.778009\n",
            "2019-02-16 20:14:19 | MaxReturn                     8\n",
            "2019-02-16 20:14:19 | MinReturn                     3\n",
            "2019-02-16 20:14:19 | NumTrajs                    800\n",
            "2019-02-16 20:14:19 | Perplexity                    1.15796\n",
            "2019-02-16 20:14:19 | PolicyExecTime                0.167423\n",
            "2019-02-16 20:14:19 | ProcessExecTime               0.0358691\n",
            "2019-02-16 20:14:19 | StdReturn                     0.872697\n",
            "2019-02-16 20:14:19 | Time                         14.8758\n",
            "2019-02-16 20:14:19 | policy/Entropy                0.46257\n",
            "2019-02-16 20:14:19 | policy/KL                     0.00602408\n",
            "2019-02-16 20:14:19 | policy/KLBefore               0\n",
            "2019-02-16 20:14:19 | policy/LossAfter             -0.0424974\n",
            "2019-02-16 20:14:19 | policy/LossBefore            -2.36511e-07\n",
            "2019-02-16 20:14:19 | policy/dLoss                  0.0424972\n",
            "2019-02-16 20:14:19 | --------------------------  -------------\n",
            "2019-02-16 20:14:19 | itr #17 | Obtaining samples...\n",
            "2019-02-16 20:14:19 | itr #17 | Obtaining samples for iteration 17...\n"
          ],
          "name": "stdout"
        },
        {
          "output_type": "stream",
          "text": [
            "0% [##############################] 100% | ETA: 00:00:00"
          ],
          "name": "stderr"
        },
        {
          "output_type": "stream",
          "text": [
            "2019-02-16 20:14:19 | itr #17 | Processing samples...\n"
          ],
          "name": "stdout"
        },
        {
          "output_type": "stream",
          "text": [
            "\n",
            "Total time elapsed: 00:00:00\n"
          ],
          "name": "stderr"
        },
        {
          "output_type": "stream",
          "text": [
            "2019-02-16 20:14:19 | itr #17 | Logging diagnostics...\n",
            "2019-02-16 20:14:19 | itr #17 | Optimizing policy...\n",
            "2019-02-16 20:14:19 | itr #17 | Computing loss before\n",
            "2019-02-16 20:14:19 | itr #17 | Computing KL before\n",
            "2019-02-16 20:14:19 | itr #17 | Optimizing\n",
            "2019-02-16 20:14:19 | itr #17 | Start CG optimization: #parameters: 1476, #inputs: 800, #subsample_inputs: 800\n",
            "2019-02-16 20:14:19 | itr #17 | computing loss before\n",
            "2019-02-16 20:14:19 | itr #17 | performing update\n",
            "2019-02-16 20:14:19 | itr #17 | computing gradient\n",
            "2019-02-16 20:14:19 | itr #17 | gradient computed\n",
            "2019-02-16 20:14:19 | itr #17 | computing descent direction\n",
            "2019-02-16 20:14:19 | itr #17 | descent direction computed\n",
            "2019-02-16 20:14:19 | itr #17 | backtrack iters: 0\n",
            "2019-02-16 20:14:19 | itr #17 | computing loss after\n",
            "2019-02-16 20:14:19 | itr #17 | optimization finished\n",
            "2019-02-16 20:14:19 | itr #17 | Computing KL after\n",
            "2019-02-16 20:14:19 | itr #17 | Computing loss after\n",
            "2019-02-16 20:14:20 | itr #17 | Fitting baseline...\n",
            "2019-02-16 20:14:20 | itr #17 | Saving snapshot...\n",
            "2019-02-16 20:14:20 | itr #17 | Saved\n",
            "2019-02-16 20:14:20 | --------------------------  -------------\n",
            "2019-02-16 20:14:20 | AverageDiscountedReturn       6.38226\n",
            "2019-02-16 20:14:20 | AverageReturn                 6.48875\n",
            "2019-02-16 20:14:20 | Baseline/ExplainedVariance    0.997852\n",
            "2019-02-16 20:14:20 | Entropy                       0.117707\n",
            "2019-02-16 20:14:20 | EnvExecTime                   0.147796\n",
            "2019-02-16 20:14:20 | Iteration                    17\n",
            "2019-02-16 20:14:20 | ItrTime                       0.775467\n",
            "2019-02-16 20:14:20 | MaxReturn                     8\n",
            "2019-02-16 20:14:20 | MinReturn                     4\n",
            "2019-02-16 20:14:20 | NumTrajs                    800\n",
            "2019-02-16 20:14:20 | Perplexity                    1.12491\n",
            "2019-02-16 20:14:20 | PolicyExecTime                0.177922\n",
            "2019-02-16 20:14:20 | ProcessExecTime               0.035435\n",
            "2019-02-16 20:14:20 | StdReturn                     0.858705\n",
            "2019-02-16 20:14:20 | Time                         15.6766\n",
            "2019-02-16 20:14:20 | policy/Entropy                0.466007\n",
            "2019-02-16 20:14:20 | policy/KL                     0.00402461\n",
            "2019-02-16 20:14:20 | policy/KLBefore               0\n",
            "2019-02-16 20:14:20 | policy/LossAfter             -0.0400112\n",
            "2019-02-16 20:14:20 | policy/LossBefore             2.47955e-08\n",
            "2019-02-16 20:14:20 | policy/dLoss                  0.0400112\n",
            "2019-02-16 20:14:20 | --------------------------  -------------\n",
            "2019-02-16 20:14:20 | itr #18 | Obtaining samples...\n",
            "2019-02-16 20:14:20 | itr #18 | Obtaining samples for iteration 18...\n"
          ],
          "name": "stdout"
        },
        {
          "output_type": "stream",
          "text": [
            "0% [##############################] 100% | ETA: 00:00:00"
          ],
          "name": "stderr"
        },
        {
          "output_type": "stream",
          "text": [
            "2019-02-16 20:14:20 | itr #18 | Processing samples...\n"
          ],
          "name": "stdout"
        },
        {
          "output_type": "stream",
          "text": [
            "\n",
            "Total time elapsed: 00:00:00\n"
          ],
          "name": "stderr"
        },
        {
          "output_type": "stream",
          "text": [
            "2019-02-16 20:14:20 | itr #18 | Logging diagnostics...\n",
            "2019-02-16 20:14:20 | itr #18 | Optimizing policy...\n",
            "2019-02-16 20:14:20 | itr #18 | Computing loss before\n",
            "2019-02-16 20:14:20 | itr #18 | Computing KL before\n",
            "2019-02-16 20:14:20 | itr #18 | Optimizing\n",
            "2019-02-16 20:14:20 | itr #18 | Start CG optimization: #parameters: 1476, #inputs: 800, #subsample_inputs: 800\n",
            "2019-02-16 20:14:20 | itr #18 | computing loss before\n",
            "2019-02-16 20:14:20 | itr #18 | performing update\n",
            "2019-02-16 20:14:20 | itr #18 | computing gradient\n",
            "2019-02-16 20:14:20 | itr #18 | gradient computed\n",
            "2019-02-16 20:14:20 | itr #18 | computing descent direction\n",
            "2019-02-16 20:14:20 | itr #18 | descent direction computed\n",
            "2019-02-16 20:14:20 | itr #18 | backtrack iters: 4\n",
            "2019-02-16 20:14:20 | itr #18 | computing loss after\n",
            "2019-02-16 20:14:20 | itr #18 | optimization finished\n",
            "2019-02-16 20:14:20 | itr #18 | Computing KL after\n",
            "2019-02-16 20:14:20 | itr #18 | Computing loss after\n",
            "2019-02-16 20:14:20 | itr #18 | Fitting baseline...\n",
            "2019-02-16 20:14:20 | itr #18 | Saving snapshot...\n",
            "2019-02-16 20:14:20 | itr #18 | Saved\n",
            "2019-02-16 20:14:20 | --------------------------  -------------\n",
            "2019-02-16 20:14:20 | AverageDiscountedReturn       6.40979\n",
            "2019-02-16 20:14:20 | AverageReturn                 6.51625\n",
            "2019-02-16 20:14:20 | Baseline/ExplainedVariance    0.997556\n",
            "2019-02-16 20:14:20 | Entropy                       0.104314\n",
            "2019-02-16 20:14:20 | EnvExecTime                   0.137254\n",
            "2019-02-16 20:14:20 | Iteration                    18\n",
            "2019-02-16 20:14:20 | ItrTime                       0.799815\n",
            "2019-02-16 20:14:20 | MaxReturn                     8\n",
            "2019-02-16 20:14:20 | MinReturn                     3\n",
            "2019-02-16 20:14:20 | NumTrajs                    800\n",
            "2019-02-16 20:14:20 | Perplexity                    1.10995\n",
            "2019-02-16 20:14:20 | PolicyExecTime                0.171981\n",
            "2019-02-16 20:14:20 | ProcessExecTime               0.0384004\n",
            "2019-02-16 20:14:20 | StdReturn                     0.857167\n",
            "2019-02-16 20:14:20 | Time                         16.5074\n",
            "2019-02-16 20:14:20 | policy/Entropy                0.465802\n",
            "2019-02-16 20:14:20 | policy/KL                     0.0060826\n",
            "2019-02-16 20:14:20 | policy/KLBefore               0\n",
            "2019-02-16 20:14:20 | policy/LossAfter             -0.00975979\n",
            "2019-02-16 20:14:20 | policy/LossBefore             1.23024e-07\n",
            "2019-02-16 20:14:20 | policy/dLoss                  0.00975991\n",
            "2019-02-16 20:14:20 | --------------------------  -------------\n",
            "2019-02-16 20:14:20 | itr #19 | Obtaining samples...\n",
            "2019-02-16 20:14:20 | itr #19 | Obtaining samples for iteration 19...\n"
          ],
          "name": "stdout"
        },
        {
          "output_type": "stream",
          "text": [
            "0% [##############################] 100% | ETA: 00:00:00"
          ],
          "name": "stderr"
        },
        {
          "output_type": "stream",
          "text": [
            "2019-02-16 20:14:21 | itr #19 | Processing samples...\n"
          ],
          "name": "stdout"
        },
        {
          "output_type": "stream",
          "text": [
            "\n",
            "Total time elapsed: 00:00:00\n"
          ],
          "name": "stderr"
        },
        {
          "output_type": "stream",
          "text": [
            "2019-02-16 20:14:21 | itr #19 | Logging diagnostics...\n",
            "2019-02-16 20:14:21 | itr #19 | Optimizing policy...\n",
            "2019-02-16 20:14:21 | itr #19 | Computing loss before\n",
            "2019-02-16 20:14:21 | itr #19 | Computing KL before\n",
            "2019-02-16 20:14:21 | itr #19 | Optimizing\n",
            "2019-02-16 20:14:21 | itr #19 | Start CG optimization: #parameters: 1476, #inputs: 800, #subsample_inputs: 800\n",
            "2019-02-16 20:14:21 | itr #19 | computing loss before\n",
            "2019-02-16 20:14:21 | itr #19 | performing update\n",
            "2019-02-16 20:14:21 | itr #19 | computing gradient\n",
            "2019-02-16 20:14:21 | itr #19 | gradient computed\n",
            "2019-02-16 20:14:21 | itr #19 | computing descent direction\n",
            "2019-02-16 20:14:21 | itr #19 | descent direction computed\n",
            "2019-02-16 20:14:21 | itr #19 | backtrack iters: 0\n",
            "2019-02-16 20:14:21 | itr #19 | computing loss after\n",
            "2019-02-16 20:14:21 | itr #19 | optimization finished\n",
            "2019-02-16 20:14:21 | itr #19 | Computing KL after\n",
            "2019-02-16 20:14:21 | itr #19 | Computing loss after\n",
            "2019-02-16 20:14:21 | itr #19 | Fitting baseline...\n",
            "2019-02-16 20:14:21 | itr #19 | Saving snapshot...\n",
            "2019-02-16 20:14:21 | itr #19 | Saved\n",
            "2019-02-16 20:14:21 | --------------------------  -------------\n",
            "2019-02-16 20:14:21 | AverageDiscountedReturn       6.35903\n",
            "2019-02-16 20:14:21 | AverageReturn                 6.465\n",
            "2019-02-16 20:14:21 | Baseline/ExplainedVariance    0.995345\n",
            "2019-02-16 20:14:21 | Entropy                       0.0979722\n",
            "2019-02-16 20:14:21 | EnvExecTime                   0.150468\n",
            "2019-02-16 20:14:21 | Iteration                    19\n",
            "2019-02-16 20:14:21 | ItrTime                       0.755827\n",
            "2019-02-16 20:14:21 | MaxReturn                     8\n",
            "2019-02-16 20:14:21 | MinReturn                     4\n",
            "2019-02-16 20:14:21 | NumTrajs                    800\n",
            "2019-02-16 20:14:21 | Perplexity                    1.10293\n",
            "2019-02-16 20:14:21 | PolicyExecTime                0.167687\n",
            "2019-02-16 20:14:21 | ProcessExecTime               0.0323107\n",
            "2019-02-16 20:14:21 | StdReturn                     0.862424\n",
            "2019-02-16 20:14:21 | Time                         17.299\n",
            "2019-02-16 20:14:21 | policy/Entropy                0.469588\n",
            "2019-02-16 20:14:21 | policy/KL                     0.00340819\n",
            "2019-02-16 20:14:21 | policy/KLBefore               0\n",
            "2019-02-16 20:14:21 | policy/LossAfter             -0.013446\n",
            "2019-02-16 20:14:21 | policy/LossBefore            -2.50936e-08\n",
            "2019-02-16 20:14:21 | policy/dLoss                  0.013446\n",
            "2019-02-16 20:14:21 | --------------------------  -------------\n",
            "2019-02-16 20:14:21 | itr #20 | Obtaining samples...\n",
            "2019-02-16 20:14:21 | itr #20 | Obtaining samples for iteration 20...\n"
          ],
          "name": "stdout"
        },
        {
          "output_type": "stream",
          "text": [
            "0% [##############################] 100% | ETA: 00:00:00"
          ],
          "name": "stderr"
        },
        {
          "output_type": "stream",
          "text": [
            "2019-02-16 20:14:22 | itr #20 | Processing samples...\n"
          ],
          "name": "stdout"
        },
        {
          "output_type": "stream",
          "text": [
            "\n",
            "Total time elapsed: 00:00:00\n"
          ],
          "name": "stderr"
        },
        {
          "output_type": "stream",
          "text": [
            "2019-02-16 20:14:22 | itr #20 | Logging diagnostics...\n",
            "2019-02-16 20:14:22 | itr #20 | Optimizing policy...\n",
            "2019-02-16 20:14:22 | itr #20 | Computing loss before\n",
            "2019-02-16 20:14:22 | itr #20 | Computing KL before\n",
            "2019-02-16 20:14:22 | itr #20 | Optimizing\n",
            "2019-02-16 20:14:22 | itr #20 | Start CG optimization: #parameters: 1476, #inputs: 800, #subsample_inputs: 800\n",
            "2019-02-16 20:14:22 | itr #20 | computing loss before\n",
            "2019-02-16 20:14:22 | itr #20 | performing update\n",
            "2019-02-16 20:14:22 | itr #20 | computing gradient\n",
            "2019-02-16 20:14:22 | itr #20 | gradient computed\n",
            "2019-02-16 20:14:22 | itr #20 | computing descent direction\n",
            "2019-02-16 20:14:22 | itr #20 | descent direction computed\n",
            "2019-02-16 20:14:22 | itr #20 | backtrack iters: 0\n",
            "2019-02-16 20:14:22 | itr #20 | computing loss after\n",
            "2019-02-16 20:14:22 | itr #20 | optimization finished\n",
            "2019-02-16 20:14:22 | itr #20 | Computing KL after\n",
            "2019-02-16 20:14:22 | itr #20 | Computing loss after\n",
            "2019-02-16 20:14:22 | itr #20 | Fitting baseline...\n",
            "2019-02-16 20:14:22 | itr #20 | Saving snapshot...\n",
            "2019-02-16 20:14:22 | itr #20 | Saved\n",
            "2019-02-16 20:14:22 | --------------------------  -------------\n",
            "2019-02-16 20:14:22 | AverageDiscountedReturn       6.3959\n",
            "2019-02-16 20:14:22 | AverageReturn                 6.5025\n",
            "2019-02-16 20:14:22 | Baseline/ExplainedVariance    0.999598\n",
            "2019-02-16 20:14:22 | Entropy                       0.0988329\n",
            "2019-02-16 20:14:22 | EnvExecTime                   0.162087\n",
            "2019-02-16 20:14:22 | Iteration                    20\n",
            "2019-02-16 20:14:22 | ItrTime                       0.77013\n",
            "2019-02-16 20:14:22 | MaxReturn                     8\n",
            "2019-02-16 20:14:22 | MinReturn                     5\n",
            "2019-02-16 20:14:22 | NumTrajs                    800\n",
            "2019-02-16 20:14:22 | Perplexity                    1.10388\n",
            "2019-02-16 20:14:22 | PolicyExecTime                0.158031\n",
            "2019-02-16 20:14:22 | ProcessExecTime               0.0359621\n",
            "2019-02-16 20:14:22 | StdReturn                     0.864577\n",
            "2019-02-16 20:14:22 | Time                         18.0949\n",
            "2019-02-16 20:14:22 | policy/Entropy                0.468004\n",
            "2019-02-16 20:14:22 | policy/KL                     0.00377734\n",
            "2019-02-16 20:14:22 | policy/KLBefore               0\n",
            "2019-02-16 20:14:22 | policy/LossAfter             -0.0248755\n",
            "2019-02-16 20:14:22 | policy/LossBefore            -1.87635e-07\n",
            "2019-02-16 20:14:22 | policy/dLoss                  0.0248753\n",
            "2019-02-16 20:14:22 | --------------------------  -------------\n",
            "2019-02-16 20:14:22 | itr #21 | Obtaining samples...\n",
            "2019-02-16 20:14:22 | itr #21 | Obtaining samples for iteration 21...\n"
          ],
          "name": "stdout"
        },
        {
          "output_type": "stream",
          "text": [
            "0% [##############################] 100% | ETA: 00:00:00"
          ],
          "name": "stderr"
        },
        {
          "output_type": "stream",
          "text": [
            "2019-02-16 20:14:22 | itr #21 | Processing samples...\n"
          ],
          "name": "stdout"
        },
        {
          "output_type": "stream",
          "text": [
            "\n",
            "Total time elapsed: 00:00:00\n"
          ],
          "name": "stderr"
        },
        {
          "output_type": "stream",
          "text": [
            "2019-02-16 20:14:22 | itr #21 | Logging diagnostics...\n",
            "2019-02-16 20:14:22 | itr #21 | Optimizing policy...\n",
            "2019-02-16 20:14:22 | itr #21 | Computing loss before\n",
            "2019-02-16 20:14:22 | itr #21 | Computing KL before\n",
            "2019-02-16 20:14:22 | itr #21 | Optimizing\n",
            "2019-02-16 20:14:22 | itr #21 | Start CG optimization: #parameters: 1476, #inputs: 800, #subsample_inputs: 800\n",
            "2019-02-16 20:14:22 | itr #21 | computing loss before\n",
            "2019-02-16 20:14:22 | itr #21 | performing update\n",
            "2019-02-16 20:14:22 | itr #21 | computing gradient\n",
            "2019-02-16 20:14:23 | itr #21 | gradient computed\n",
            "2019-02-16 20:14:23 | itr #21 | computing descent direction\n",
            "2019-02-16 20:14:23 | itr #21 | descent direction computed\n",
            "2019-02-16 20:14:23 | itr #21 | backtrack iters: 1\n",
            "2019-02-16 20:14:23 | itr #21 | computing loss after\n",
            "2019-02-16 20:14:23 | itr #21 | optimization finished\n",
            "2019-02-16 20:14:23 | itr #21 | Computing KL after\n",
            "2019-02-16 20:14:23 | itr #21 | Computing loss after\n",
            "2019-02-16 20:14:23 | itr #21 | Fitting baseline...\n",
            "2019-02-16 20:14:23 | itr #21 | Saving snapshot...\n",
            "2019-02-16 20:14:23 | itr #21 | Saved\n",
            "2019-02-16 20:14:23 | --------------------------  -------------\n",
            "2019-02-16 20:14:23 | AverageDiscountedReturn       6.4344\n",
            "2019-02-16 20:14:23 | AverageReturn                 6.54125\n",
            "2019-02-16 20:14:23 | Baseline/ExplainedVariance    0.999804\n",
            "2019-02-16 20:14:23 | Entropy                       0.0959773\n",
            "2019-02-16 20:14:23 | EnvExecTime                   0.145846\n",
            "2019-02-16 20:14:23 | Iteration                    21\n",
            "2019-02-16 20:14:23 | ItrTime                       0.779334\n",
            "2019-02-16 20:14:23 | MaxReturn                     8\n",
            "2019-02-16 20:14:23 | MinReturn                     5\n",
            "2019-02-16 20:14:23 | NumTrajs                    800\n",
            "2019-02-16 20:14:23 | Perplexity                    1.10073\n",
            "2019-02-16 20:14:23 | PolicyExecTime                0.178295\n",
            "2019-02-16 20:14:23 | ProcessExecTime               0.0337722\n",
            "2019-02-16 20:14:23 | StdReturn                     0.854867\n",
            "2019-02-16 20:14:23 | Time                         18.8987\n",
            "2019-02-16 20:14:23 | policy/Entropy                0.467037\n",
            "2019-02-16 20:14:23 | policy/KL                     0.00553243\n",
            "2019-02-16 20:14:23 | policy/KLBefore               0\n",
            "2019-02-16 20:14:23 | policy/LossAfter             -0.0278458\n",
            "2019-02-16 20:14:23 | policy/LossBefore             1.33514e-08\n",
            "2019-02-16 20:14:23 | policy/dLoss                  0.0278458\n",
            "2019-02-16 20:14:23 | --------------------------  -------------\n",
            "2019-02-16 20:14:23 | itr #22 | Obtaining samples...\n",
            "2019-02-16 20:14:23 | itr #22 | Obtaining samples for iteration 22...\n"
          ],
          "name": "stdout"
        },
        {
          "output_type": "stream",
          "text": [
            "0% [##############################] 100% | ETA: 00:00:00"
          ],
          "name": "stderr"
        },
        {
          "output_type": "stream",
          "text": [
            "2019-02-16 20:14:23 | itr #22 | Processing samples...\n"
          ],
          "name": "stdout"
        },
        {
          "output_type": "stream",
          "text": [
            "\n",
            "Total time elapsed: 00:00:00\n"
          ],
          "name": "stderr"
        },
        {
          "output_type": "stream",
          "text": [
            "2019-02-16 20:14:23 | itr #22 | Logging diagnostics...\n",
            "2019-02-16 20:14:23 | itr #22 | Optimizing policy...\n",
            "2019-02-16 20:14:23 | itr #22 | Computing loss before\n",
            "2019-02-16 20:14:23 | itr #22 | Computing KL before\n",
            "2019-02-16 20:14:23 | itr #22 | Optimizing\n",
            "2019-02-16 20:14:23 | itr #22 | Start CG optimization: #parameters: 1476, #inputs: 800, #subsample_inputs: 800\n",
            "2019-02-16 20:14:23 | itr #22 | computing loss before\n",
            "2019-02-16 20:14:23 | itr #22 | performing update\n",
            "2019-02-16 20:14:23 | itr #22 | computing gradient\n",
            "2019-02-16 20:14:23 | itr #22 | gradient computed\n",
            "2019-02-16 20:14:23 | itr #22 | computing descent direction\n",
            "2019-02-16 20:14:23 | itr #22 | descent direction computed\n",
            "2019-02-16 20:14:23 | itr #22 | backtrack iters: 0\n",
            "2019-02-16 20:14:23 | itr #22 | computing loss after\n",
            "2019-02-16 20:14:23 | itr #22 | optimization finished\n",
            "2019-02-16 20:14:23 | itr #22 | Computing KL after\n",
            "2019-02-16 20:14:23 | itr #22 | Computing loss after\n",
            "2019-02-16 20:14:24 | itr #22 | Fitting baseline...\n",
            "2019-02-16 20:14:24 | itr #22 | Saving snapshot...\n",
            "2019-02-16 20:14:24 | itr #22 | Saved\n",
            "2019-02-16 20:14:24 | --------------------------  -------------\n",
            "2019-02-16 20:14:24 | AverageDiscountedReturn       6.33383\n",
            "2019-02-16 20:14:24 | AverageReturn                 6.44\n",
            "2019-02-16 20:14:24 | Baseline/ExplainedVariance    0.999931\n",
            "2019-02-16 20:14:24 | Entropy                       0.0925173\n",
            "2019-02-16 20:14:24 | EnvExecTime                   0.159297\n",
            "2019-02-16 20:14:24 | Iteration                    22\n",
            "2019-02-16 20:14:24 | ItrTime                       0.748375\n",
            "2019-02-16 20:14:24 | MaxReturn                     8\n",
            "2019-02-16 20:14:24 | MinReturn                     5\n",
            "2019-02-16 20:14:24 | NumTrajs                    800\n",
            "2019-02-16 20:14:24 | Perplexity                    1.09693\n",
            "2019-02-16 20:14:24 | PolicyExecTime                0.159073\n",
            "2019-02-16 20:14:24 | ProcessExecTime               0.032444\n",
            "2019-02-16 20:14:24 | StdReturn                     0.891011\n",
            "2019-02-16 20:14:24 | Time                         19.6735\n",
            "2019-02-16 20:14:24 | policy/Entropy                0.468528\n",
            "2019-02-16 20:14:24 | policy/KL                     0.00432013\n",
            "2019-02-16 20:14:24 | policy/KLBefore               0\n",
            "2019-02-16 20:14:24 | policy/LossAfter             -0.0157156\n",
            "2019-02-16 20:14:24 | policy/LossBefore            -4.48227e-08\n",
            "2019-02-16 20:14:24 | policy/dLoss                  0.0157155\n",
            "2019-02-16 20:14:24 | --------------------------  -------------\n",
            "2019-02-16 20:14:24 | itr #23 | Obtaining samples...\n",
            "2019-02-16 20:14:24 | itr #23 | Obtaining samples for iteration 23...\n"
          ],
          "name": "stdout"
        },
        {
          "output_type": "stream",
          "text": [
            "0% [##############################] 100% | ETA: 00:00:00"
          ],
          "name": "stderr"
        },
        {
          "output_type": "stream",
          "text": [
            "2019-02-16 20:14:24 | itr #23 | Processing samples...\n"
          ],
          "name": "stdout"
        },
        {
          "output_type": "stream",
          "text": [
            "\n",
            "Total time elapsed: 00:00:00\n"
          ],
          "name": "stderr"
        },
        {
          "output_type": "stream",
          "text": [
            "2019-02-16 20:14:24 | itr #23 | Logging diagnostics...\n",
            "2019-02-16 20:14:24 | itr #23 | Optimizing policy...\n",
            "2019-02-16 20:14:24 | itr #23 | Computing loss before\n",
            "2019-02-16 20:14:24 | itr #23 | Computing KL before\n",
            "2019-02-16 20:14:24 | itr #23 | Optimizing\n",
            "2019-02-16 20:14:24 | itr #23 | Start CG optimization: #parameters: 1476, #inputs: 800, #subsample_inputs: 800\n",
            "2019-02-16 20:14:24 | itr #23 | computing loss before\n",
            "2019-02-16 20:14:24 | itr #23 | performing update\n",
            "2019-02-16 20:14:24 | itr #23 | computing gradient\n",
            "2019-02-16 20:14:24 | itr #23 | gradient computed\n",
            "2019-02-16 20:14:24 | itr #23 | computing descent direction\n",
            "2019-02-16 20:14:24 | itr #23 | descent direction computed\n",
            "2019-02-16 20:14:24 | itr #23 | backtrack iters: 4\n",
            "2019-02-16 20:14:24 | itr #23 | computing loss after\n",
            "2019-02-16 20:14:24 | itr #23 | optimization finished\n",
            "2019-02-16 20:14:24 | itr #23 | Computing KL after\n",
            "2019-02-16 20:14:24 | itr #23 | Computing loss after\n",
            "2019-02-16 20:14:24 | itr #23 | Fitting baseline...\n",
            "2019-02-16 20:14:24 | itr #23 | Saving snapshot...\n",
            "2019-02-16 20:14:24 | itr #23 | Saved\n",
            "2019-02-16 20:14:24 | --------------------------  -------------\n",
            "2019-02-16 20:14:24 | AverageDiscountedReturn       6.32812\n",
            "2019-02-16 20:14:24 | AverageReturn                 6.43375\n",
            "2019-02-16 20:14:24 | Baseline/ExplainedVariance    0.999198\n",
            "2019-02-16 20:14:24 | Entropy                       0.0863992\n",
            "2019-02-16 20:14:24 | EnvExecTime                   0.148787\n",
            "2019-02-16 20:14:24 | Iteration                    23\n",
            "2019-02-16 20:14:24 | ItrTime                       0.771253\n",
            "2019-02-16 20:14:24 | MaxReturn                     8\n",
            "2019-02-16 20:14:24 | MinReturn                     5\n",
            "2019-02-16 20:14:24 | NumTrajs                    800\n",
            "2019-02-16 20:14:24 | Perplexity                    1.09024\n",
            "2019-02-16 20:14:24 | PolicyExecTime                0.152865\n",
            "2019-02-16 20:14:24 | ProcessExecTime               0.0304639\n",
            "2019-02-16 20:14:24 | StdReturn                     0.829525\n",
            "2019-02-16 20:14:24 | Time                         20.4918\n",
            "2019-02-16 20:14:24 | policy/Entropy                0.470044\n",
            "2019-02-16 20:14:24 | policy/KL                     0.00939008\n",
            "2019-02-16 20:14:24 | policy/KLBefore               0\n",
            "2019-02-16 20:14:24 | policy/LossAfter             -0.0235075\n",
            "2019-02-16 20:14:24 | policy/LossBefore             1.09673e-08\n",
            "2019-02-16 20:14:24 | policy/dLoss                  0.0235076\n",
            "2019-02-16 20:14:24 | --------------------------  -------------\n",
            "2019-02-16 20:14:24 | itr #24 | Obtaining samples...\n",
            "2019-02-16 20:14:24 | itr #24 | Obtaining samples for iteration 24...\n"
          ],
          "name": "stdout"
        },
        {
          "output_type": "stream",
          "text": [
            "0% [##############################] 100% | ETA: 00:00:00"
          ],
          "name": "stderr"
        },
        {
          "output_type": "stream",
          "text": [
            "2019-02-16 20:14:25 | itr #24 | Processing samples...\n"
          ],
          "name": "stdout"
        },
        {
          "output_type": "stream",
          "text": [
            "\n",
            "Total time elapsed: 00:00:00\n"
          ],
          "name": "stderr"
        },
        {
          "output_type": "stream",
          "text": [
            "2019-02-16 20:14:25 | itr #24 | Logging diagnostics...\n",
            "2019-02-16 20:14:25 | itr #24 | Optimizing policy...\n",
            "2019-02-16 20:14:25 | itr #24 | Computing loss before\n",
            "2019-02-16 20:14:25 | itr #24 | Computing KL before\n",
            "2019-02-16 20:14:25 | itr #24 | Optimizing\n",
            "2019-02-16 20:14:25 | itr #24 | Start CG optimization: #parameters: 1476, #inputs: 800, #subsample_inputs: 800\n",
            "2019-02-16 20:14:25 | itr #24 | computing loss before\n",
            "2019-02-16 20:14:25 | itr #24 | performing update\n",
            "2019-02-16 20:14:25 | itr #24 | computing gradient\n",
            "2019-02-16 20:14:25 | itr #24 | gradient computed\n",
            "2019-02-16 20:14:25 | itr #24 | computing descent direction\n",
            "2019-02-16 20:14:25 | itr #24 | descent direction computed\n",
            "2019-02-16 20:14:25 | itr #24 | backtrack iters: 0\n",
            "2019-02-16 20:14:25 | itr #24 | computing loss after\n",
            "2019-02-16 20:14:25 | itr #24 | optimization finished\n",
            "2019-02-16 20:14:25 | itr #24 | Computing KL after\n",
            "2019-02-16 20:14:25 | itr #24 | Computing loss after\n",
            "2019-02-16 20:14:25 | itr #24 | Fitting baseline...\n",
            "2019-02-16 20:14:25 | itr #24 | Saving snapshot...\n",
            "2019-02-16 20:14:25 | itr #24 | Saved\n",
            "2019-02-16 20:14:25 | --------------------------  -------------\n",
            "2019-02-16 20:14:25 | AverageDiscountedReturn       6.40708\n",
            "2019-02-16 20:14:25 | AverageReturn                 6.51375\n",
            "2019-02-16 20:14:25 | Baseline/ExplainedVariance    0.999541\n",
            "2019-02-16 20:14:25 | Entropy                       0.0933712\n",
            "2019-02-16 20:14:25 | EnvExecTime                   0.290565\n",
            "2019-02-16 20:14:25 | Iteration                    24\n",
            "2019-02-16 20:14:25 | ItrTime                       0.883783\n",
            "2019-02-16 20:14:25 | MaxReturn                     8\n",
            "2019-02-16 20:14:25 | MinReturn                     5\n",
            "2019-02-16 20:14:25 | NumTrajs                    800\n",
            "2019-02-16 20:14:25 | Perplexity                    1.09787\n",
            "2019-02-16 20:14:25 | PolicyExecTime                0.157647\n",
            "2019-02-16 20:14:25 | ProcessExecTime               0.0345521\n",
            "2019-02-16 20:14:25 | StdReturn                     0.863024\n",
            "2019-02-16 20:14:25 | Time                         21.3957\n",
            "2019-02-16 20:14:25 | policy/Entropy                0.469743\n",
            "2019-02-16 20:14:25 | policy/KL                     0.00199153\n",
            "2019-02-16 20:14:25 | policy/KLBefore               0\n",
            "2019-02-16 20:14:25 | policy/LossAfter             -0.023916\n",
            "2019-02-16 20:14:25 | policy/LossBefore             2.86102e-09\n",
            "2019-02-16 20:14:25 | policy/dLoss                  0.023916\n",
            "2019-02-16 20:14:25 | --------------------------  -------------\n",
            "2019-02-16 20:14:25 | itr #25 | Obtaining samples...\n",
            "2019-02-16 20:14:25 | itr #25 | Obtaining samples for iteration 25...\n"
          ],
          "name": "stdout"
        },
        {
          "output_type": "stream",
          "text": [
            "0% [##############################] 100% | ETA: 00:00:00"
          ],
          "name": "stderr"
        },
        {
          "output_type": "stream",
          "text": [
            "2019-02-16 20:14:26 | itr #25 | Processing samples...\n"
          ],
          "name": "stdout"
        },
        {
          "output_type": "stream",
          "text": [
            "\n",
            "Total time elapsed: 00:00:00\n"
          ],
          "name": "stderr"
        },
        {
          "output_type": "stream",
          "text": [
            "2019-02-16 20:14:26 | itr #25 | Logging diagnostics...\n",
            "2019-02-16 20:14:26 | itr #25 | Optimizing policy...\n",
            "2019-02-16 20:14:26 | itr #25 | Computing loss before\n",
            "2019-02-16 20:14:26 | itr #25 | Computing KL before\n",
            "2019-02-16 20:14:26 | itr #25 | Optimizing\n",
            "2019-02-16 20:14:26 | itr #25 | Start CG optimization: #parameters: 1476, #inputs: 800, #subsample_inputs: 800\n",
            "2019-02-16 20:14:26 | itr #25 | computing loss before\n",
            "2019-02-16 20:14:26 | itr #25 | performing update\n",
            "2019-02-16 20:14:26 | itr #25 | computing gradient\n",
            "2019-02-16 20:14:26 | itr #25 | gradient computed\n",
            "2019-02-16 20:14:26 | itr #25 | computing descent direction\n",
            "2019-02-16 20:14:26 | itr #25 | descent direction computed\n",
            "2019-02-16 20:14:26 | itr #25 | backtrack iters: 0\n",
            "2019-02-16 20:14:26 | itr #25 | computing loss after\n",
            "2019-02-16 20:14:26 | itr #25 | optimization finished\n",
            "2019-02-16 20:14:26 | itr #25 | Computing KL after\n",
            "2019-02-16 20:14:26 | itr #25 | Computing loss after\n",
            "2019-02-16 20:14:26 | itr #25 | Fitting baseline...\n",
            "2019-02-16 20:14:26 | itr #25 | Saving snapshot...\n",
            "2019-02-16 20:14:26 | itr #25 | Saved\n",
            "2019-02-16 20:14:26 | --------------------------  -------------\n",
            "2019-02-16 20:14:26 | AverageDiscountedReturn       6.43558\n",
            "2019-02-16 20:14:26 | AverageReturn                 6.5425\n",
            "2019-02-16 20:14:26 | Baseline/ExplainedVariance    0.999996\n",
            "2019-02-16 20:14:26 | Entropy                       0.095719\n",
            "2019-02-16 20:14:26 | EnvExecTime                   0.15243\n",
            "2019-02-16 20:14:26 | Iteration                    25\n",
            "2019-02-16 20:14:26 | ItrTime                       0.749273\n",
            "2019-02-16 20:14:26 | MaxReturn                     8\n",
            "2019-02-16 20:14:26 | MinReturn                     5\n",
            "2019-02-16 20:14:26 | NumTrajs                    800\n",
            "2019-02-16 20:14:26 | Perplexity                    1.10045\n",
            "2019-02-16 20:14:26 | PolicyExecTime                0.1655\n",
            "2019-02-16 20:14:26 | ProcessExecTime               0.0339212\n",
            "2019-02-16 20:14:26 | StdReturn                     0.864982\n",
            "2019-02-16 20:14:26 | Time                         22.168\n",
            "2019-02-16 20:14:26 | policy/Entropy                0.470857\n",
            "2019-02-16 20:14:26 | policy/KL                     0.00417201\n",
            "2019-02-16 20:14:26 | policy/KLBefore               0\n",
            "2019-02-16 20:14:26 | policy/LossAfter             -0.00543341\n",
            "2019-02-16 20:14:26 | policy/LossBefore            -2.68459e-07\n",
            "2019-02-16 20:14:26 | policy/dLoss                  0.00543314\n",
            "2019-02-16 20:14:26 | --------------------------  -------------\n",
            "2019-02-16 20:14:26 | itr #26 | Obtaining samples...\n",
            "2019-02-16 20:14:26 | itr #26 | Obtaining samples for iteration 26...\n"
          ],
          "name": "stdout"
        },
        {
          "output_type": "stream",
          "text": [
            "0% [##############################] 100% | ETA: 00:00:00"
          ],
          "name": "stderr"
        },
        {
          "output_type": "stream",
          "text": [
            "2019-02-16 20:14:26 | itr #26 | Processing samples...\n"
          ],
          "name": "stdout"
        },
        {
          "output_type": "stream",
          "text": [
            "\n",
            "Total time elapsed: 00:00:00\n"
          ],
          "name": "stderr"
        },
        {
          "output_type": "stream",
          "text": [
            "2019-02-16 20:14:27 | itr #26 | Logging diagnostics...\n",
            "2019-02-16 20:14:27 | itr #26 | Optimizing policy...\n",
            "2019-02-16 20:14:27 | itr #26 | Computing loss before\n",
            "2019-02-16 20:14:27 | itr #26 | Computing KL before\n",
            "2019-02-16 20:14:27 | itr #26 | Optimizing\n",
            "2019-02-16 20:14:27 | itr #26 | Start CG optimization: #parameters: 1476, #inputs: 800, #subsample_inputs: 800\n",
            "2019-02-16 20:14:27 | itr #26 | computing loss before\n",
            "2019-02-16 20:14:27 | itr #26 | performing update\n",
            "2019-02-16 20:14:27 | itr #26 | computing gradient\n",
            "2019-02-16 20:14:27 | itr #26 | gradient computed\n",
            "2019-02-16 20:14:27 | itr #26 | computing descent direction\n",
            "2019-02-16 20:14:27 | itr #26 | descent direction computed\n",
            "2019-02-16 20:14:27 | itr #26 | backtrack iters: 2\n",
            "2019-02-16 20:14:27 | itr #26 | computing loss after\n",
            "2019-02-16 20:14:27 | itr #26 | optimization finished\n",
            "2019-02-16 20:14:27 | itr #26 | Computing KL after\n",
            "2019-02-16 20:14:27 | itr #26 | Computing loss after\n",
            "2019-02-16 20:14:27 | itr #26 | Fitting baseline...\n",
            "2019-02-16 20:14:27 | itr #26 | Saving snapshot...\n",
            "2019-02-16 20:14:27 | itr #26 | Saved\n",
            "2019-02-16 20:14:27 | --------------------------  -------------\n",
            "2019-02-16 20:14:27 | AverageDiscountedReturn       6.38139\n",
            "2019-02-16 20:14:27 | AverageReturn                 6.4875\n",
            "2019-02-16 20:14:27 | Baseline/ExplainedVariance    0.998291\n",
            "2019-02-16 20:14:27 | Entropy                       0.0786384\n",
            "2019-02-16 20:14:27 | EnvExecTime                   0.142325\n",
            "2019-02-16 20:14:27 | Iteration                    26\n",
            "2019-02-16 20:14:27 | ItrTime                       0.781071\n",
            "2019-02-16 20:14:27 | MaxReturn                     8\n",
            "2019-02-16 20:14:27 | MinReturn                     2\n",
            "2019-02-16 20:14:27 | NumTrajs                    800\n",
            "2019-02-16 20:14:27 | Perplexity                    1.08181\n",
            "2019-02-16 20:14:27 | PolicyExecTime                0.159048\n",
            "2019-02-16 20:14:27 | ProcessExecTime               0.0293846\n",
            "2019-02-16 20:14:27 | StdReturn                     0.852845\n",
            "2019-02-16 20:14:27 | Time                         22.9978\n",
            "2019-02-16 20:14:27 | policy/Entropy                0.473958\n",
            "2019-02-16 20:14:27 | policy/KL                     0.00492543\n",
            "2019-02-16 20:14:27 | policy/KLBefore               0\n",
            "2019-02-16 20:14:27 | policy/LossAfter             -0.00921202\n",
            "2019-02-16 20:14:27 | policy/LossBefore            -8.58307e-09\n",
            "2019-02-16 20:14:27 | policy/dLoss                  0.00921201\n",
            "2019-02-16 20:14:27 | --------------------------  -------------\n",
            "2019-02-16 20:14:27 | itr #27 | Obtaining samples...\n",
            "2019-02-16 20:14:27 | itr #27 | Obtaining samples for iteration 27...\n"
          ],
          "name": "stdout"
        },
        {
          "output_type": "stream",
          "text": [
            "0% [##############################] 100% | ETA: 00:00:00"
          ],
          "name": "stderr"
        },
        {
          "output_type": "stream",
          "text": [
            "2019-02-16 20:14:27 | itr #27 | Processing samples...\n"
          ],
          "name": "stdout"
        },
        {
          "output_type": "stream",
          "text": [
            "\n",
            "Total time elapsed: 00:00:00\n"
          ],
          "name": "stderr"
        },
        {
          "output_type": "stream",
          "text": [
            "2019-02-16 20:14:27 | itr #27 | Logging diagnostics...\n",
            "2019-02-16 20:14:27 | itr #27 | Optimizing policy...\n",
            "2019-02-16 20:14:27 | itr #27 | Computing loss before\n",
            "2019-02-16 20:14:27 | itr #27 | Computing KL before\n",
            "2019-02-16 20:14:27 | itr #27 | Optimizing\n",
            "2019-02-16 20:14:27 | itr #27 | Start CG optimization: #parameters: 1476, #inputs: 800, #subsample_inputs: 800\n",
            "2019-02-16 20:14:27 | itr #27 | computing loss before\n",
            "2019-02-16 20:14:27 | itr #27 | performing update\n",
            "2019-02-16 20:14:27 | itr #27 | computing gradient\n",
            "2019-02-16 20:14:27 | itr #27 | gradient computed\n",
            "2019-02-16 20:14:27 | itr #27 | computing descent direction\n",
            "2019-02-16 20:14:28 | itr #27 | descent direction computed\n",
            "2019-02-16 20:14:28 | itr #27 | backtrack iters: 1\n",
            "2019-02-16 20:14:28 | itr #27 | computing loss after\n",
            "2019-02-16 20:14:28 | itr #27 | optimization finished\n",
            "2019-02-16 20:14:28 | itr #27 | Computing KL after\n",
            "2019-02-16 20:14:28 | itr #27 | Computing loss after\n",
            "2019-02-16 20:14:28 | itr #27 | Fitting baseline...\n",
            "2019-02-16 20:14:28 | itr #27 | Saving snapshot...\n",
            "2019-02-16 20:14:28 | itr #27 | Saved\n",
            "2019-02-16 20:14:28 | --------------------------  -------------\n",
            "2019-02-16 20:14:28 | AverageDiscountedReturn       6.45177\n",
            "2019-02-16 20:14:28 | AverageReturn                 6.55875\n",
            "2019-02-16 20:14:28 | Baseline/ExplainedVariance    0.999996\n",
            "2019-02-16 20:14:28 | Entropy                       0.0871053\n",
            "2019-02-16 20:14:28 | EnvExecTime                   0.160377\n",
            "2019-02-16 20:14:28 | Iteration                    27\n",
            "2019-02-16 20:14:28 | ItrTime                       0.782887\n",
            "2019-02-16 20:14:28 | MaxReturn                     8\n",
            "2019-02-16 20:14:28 | MinReturn                     5\n",
            "2019-02-16 20:14:28 | NumTrajs                    800\n",
            "2019-02-16 20:14:28 | Perplexity                    1.09101\n",
            "2019-02-16 20:14:28 | PolicyExecTime                0.155595\n",
            "2019-02-16 20:14:28 | ProcessExecTime               0.037065\n",
            "2019-02-16 20:14:28 | StdReturn                     0.852378\n",
            "2019-02-16 20:14:28 | Time                         23.8024\n",
            "2019-02-16 20:14:28 | policy/Entropy                0.470611\n",
            "2019-02-16 20:14:28 | policy/KL                     0.00949703\n",
            "2019-02-16 20:14:28 | policy/KLBefore               0\n",
            "2019-02-16 20:14:28 | policy/LossAfter             -0.00574228\n",
            "2019-02-16 20:14:28 | policy/LossBefore            -4.62055e-07\n",
            "2019-02-16 20:14:28 | policy/dLoss                  0.00574182\n",
            "2019-02-16 20:14:28 | --------------------------  -------------\n",
            "2019-02-16 20:14:28 | itr #28 | Obtaining samples...\n",
            "2019-02-16 20:14:28 | itr #28 | Obtaining samples for iteration 28...\n"
          ],
          "name": "stdout"
        },
        {
          "output_type": "stream",
          "text": [
            "0% [##############################] 100% | ETA: 00:00:00"
          ],
          "name": "stderr"
        },
        {
          "output_type": "stream",
          "text": [
            "2019-02-16 20:14:28 | itr #28 | Processing samples...\n"
          ],
          "name": "stdout"
        },
        {
          "output_type": "stream",
          "text": [
            "\n",
            "Total time elapsed: 00:00:00\n"
          ],
          "name": "stderr"
        },
        {
          "output_type": "stream",
          "text": [
            "2019-02-16 20:14:28 | itr #28 | Logging diagnostics...\n",
            "2019-02-16 20:14:28 | itr #28 | Optimizing policy...\n",
            "2019-02-16 20:14:28 | itr #28 | Computing loss before\n",
            "2019-02-16 20:14:28 | itr #28 | Computing KL before\n",
            "2019-02-16 20:14:28 | itr #28 | Optimizing\n",
            "2019-02-16 20:14:28 | itr #28 | Start CG optimization: #parameters: 1476, #inputs: 800, #subsample_inputs: 800\n",
            "2019-02-16 20:14:28 | itr #28 | computing loss before\n",
            "2019-02-16 20:14:28 | itr #28 | performing update\n",
            "2019-02-16 20:14:28 | itr #28 | computing gradient\n",
            "2019-02-16 20:14:28 | itr #28 | gradient computed\n",
            "2019-02-16 20:14:28 | itr #28 | computing descent direction\n",
            "2019-02-16 20:14:28 | itr #28 | descent direction computed\n",
            "2019-02-16 20:14:28 | itr #28 | backtrack iters: 0\n",
            "2019-02-16 20:14:28 | itr #28 | computing loss after\n",
            "2019-02-16 20:14:28 | itr #28 | optimization finished\n",
            "2019-02-16 20:14:28 | itr #28 | Computing KL after\n",
            "2019-02-16 20:14:28 | itr #28 | Computing loss after\n",
            "2019-02-16 20:14:28 | itr #28 | Fitting baseline...\n",
            "2019-02-16 20:14:28 | itr #28 | Saving snapshot...\n",
            "2019-02-16 20:14:28 | itr #28 | Saved\n",
            "2019-02-16 20:14:28 | --------------------------  -------------\n",
            "2019-02-16 20:14:28 | AverageDiscountedReturn       6.38666\n",
            "2019-02-16 20:14:28 | AverageReturn                 6.49375\n",
            "2019-02-16 20:14:28 | Baseline/ExplainedVariance    0.995744\n",
            "2019-02-16 20:14:28 | Entropy                       0.100554\n",
            "2019-02-16 20:14:28 | EnvExecTime                   0.141356\n",
            "2019-02-16 20:14:28 | Iteration                    28\n",
            "2019-02-16 20:14:28 | ItrTime                       0.768904\n",
            "2019-02-16 20:14:28 | MaxReturn                     8\n",
            "2019-02-16 20:14:28 | MinReturn                     5\n",
            "2019-02-16 20:14:28 | NumTrajs                    800\n",
            "2019-02-16 20:14:28 | Perplexity                    1.10578\n",
            "2019-02-16 20:14:28 | PolicyExecTime                0.170294\n",
            "2019-02-16 20:14:28 | ProcessExecTime               0.0293329\n",
            "2019-02-16 20:14:28 | StdReturn                     0.866003\n",
            "2019-02-16 20:14:28 | Time                         24.6178\n",
            "2019-02-16 20:14:28 | policy/Entropy                0.473594\n",
            "2019-02-16 20:14:28 | policy/KL                     0.00552265\n",
            "2019-02-16 20:14:28 | policy/KLBefore               0\n",
            "2019-02-16 20:14:28 | policy/LossAfter             -0.0536827\n",
            "2019-02-16 20:14:28 | policy/LossBefore            -4.00543e-08\n",
            "2019-02-16 20:14:29 | policy/dLoss                  0.0536826\n",
            "2019-02-16 20:14:29 | --------------------------  -------------\n",
            "2019-02-16 20:14:29 | itr #29 | Obtaining samples...\n",
            "2019-02-16 20:14:29 | itr #29 | Obtaining samples for iteration 29...\n"
          ],
          "name": "stdout"
        },
        {
          "output_type": "stream",
          "text": [
            "0% [##############################] 100% | ETA: 00:00:00"
          ],
          "name": "stderr"
        },
        {
          "output_type": "stream",
          "text": [
            "2019-02-16 20:14:29 | itr #29 | Processing samples...\n"
          ],
          "name": "stdout"
        },
        {
          "output_type": "stream",
          "text": [
            "\n",
            "Total time elapsed: 00:00:00\n"
          ],
          "name": "stderr"
        },
        {
          "output_type": "stream",
          "text": [
            "2019-02-16 20:14:29 | itr #29 | Logging diagnostics...\n",
            "2019-02-16 20:14:29 | itr #29 | Optimizing policy...\n",
            "2019-02-16 20:14:29 | itr #29 | Computing loss before\n",
            "2019-02-16 20:14:29 | itr #29 | Computing KL before\n",
            "2019-02-16 20:14:29 | itr #29 | Optimizing\n",
            "2019-02-16 20:14:29 | itr #29 | Start CG optimization: #parameters: 1476, #inputs: 800, #subsample_inputs: 800\n",
            "2019-02-16 20:14:29 | itr #29 | computing loss before\n",
            "2019-02-16 20:14:29 | itr #29 | performing update\n",
            "2019-02-16 20:14:29 | itr #29 | computing gradient\n",
            "2019-02-16 20:14:29 | itr #29 | gradient computed\n",
            "2019-02-16 20:14:29 | itr #29 | computing descent direction\n",
            "2019-02-16 20:14:29 | itr #29 | descent direction computed\n",
            "2019-02-16 20:14:29 | itr #29 | backtrack iters: 0\n",
            "2019-02-16 20:14:29 | itr #29 | computing loss after\n",
            "2019-02-16 20:14:29 | itr #29 | optimization finished\n",
            "2019-02-16 20:14:29 | itr #29 | Computing KL after\n",
            "2019-02-16 20:14:29 | itr #29 | Computing loss after\n",
            "2019-02-16 20:14:29 | itr #29 | Fitting baseline...\n",
            "2019-02-16 20:14:29 | itr #29 | Saving snapshot...\n",
            "2019-02-16 20:14:29 | itr #29 | Saved\n",
            "2019-02-16 20:14:29 | --------------------------  -------------\n",
            "2019-02-16 20:14:29 | AverageDiscountedReturn       6.38823\n",
            "2019-02-16 20:14:29 | AverageReturn                 6.495\n",
            "2019-02-16 20:14:29 | Baseline/ExplainedVariance    0.999284\n",
            "2019-02-16 20:14:29 | Entropy                       0.0808849\n",
            "2019-02-16 20:14:29 | EnvExecTime                   0.166158\n",
            "2019-02-16 20:14:29 | Iteration                    29\n",
            "2019-02-16 20:14:29 | ItrTime                       0.78718\n",
            "2019-02-16 20:14:29 | MaxReturn                     8\n",
            "2019-02-16 20:14:29 | MinReturn                     5\n",
            "2019-02-16 20:14:29 | NumTrajs                    800\n",
            "2019-02-16 20:14:29 | Perplexity                    1.08425\n",
            "2019-02-16 20:14:29 | PolicyExecTime                0.160492\n",
            "2019-02-16 20:14:29 | ProcessExecTime               0.0387123\n",
            "2019-02-16 20:14:29 | StdReturn                     0.890211\n",
            "2019-02-16 20:14:29 | Time                         25.425\n",
            "2019-02-16 20:14:29 | policy/Entropy                0.47601\n",
            "2019-02-16 20:14:29 | policy/KL                     0.00360127\n",
            "2019-02-16 20:14:29 | policy/KLBefore               0\n",
            "2019-02-16 20:14:29 | policy/LossAfter             -0.0258712\n",
            "2019-02-16 20:14:29 | policy/LossBefore            -6.38962e-08\n",
            "2019-02-16 20:14:29 | policy/dLoss                  0.0258712\n",
            "2019-02-16 20:14:29 | --------------------------  -------------\n",
            "2019-02-16 20:14:29 | itr #30 | Obtaining samples...\n",
            "2019-02-16 20:14:29 | itr #30 | Obtaining samples for iteration 30...\n"
          ],
          "name": "stdout"
        },
        {
          "output_type": "stream",
          "text": [
            "0% [##############################] 100% | ETA: 00:00:00"
          ],
          "name": "stderr"
        },
        {
          "output_type": "stream",
          "text": [
            "2019-02-16 20:14:30 | itr #30 | Processing samples...\n"
          ],
          "name": "stdout"
        },
        {
          "output_type": "stream",
          "text": [
            "\n",
            "Total time elapsed: 00:00:00\n"
          ],
          "name": "stderr"
        },
        {
          "output_type": "stream",
          "text": [
            "2019-02-16 20:14:30 | itr #30 | Logging diagnostics...\n",
            "2019-02-16 20:14:30 | itr #30 | Optimizing policy...\n",
            "2019-02-16 20:14:30 | itr #30 | Computing loss before\n",
            "2019-02-16 20:14:30 | itr #30 | Computing KL before\n",
            "2019-02-16 20:14:30 | itr #30 | Optimizing\n",
            "2019-02-16 20:14:30 | itr #30 | Start CG optimization: #parameters: 1476, #inputs: 800, #subsample_inputs: 800\n",
            "2019-02-16 20:14:30 | itr #30 | computing loss before\n",
            "2019-02-16 20:14:30 | itr #30 | performing update\n",
            "2019-02-16 20:14:30 | itr #30 | computing gradient\n",
            "2019-02-16 20:14:30 | itr #30 | gradient computed\n",
            "2019-02-16 20:14:30 | itr #30 | computing descent direction\n",
            "2019-02-16 20:14:30 | itr #30 | descent direction computed\n",
            "2019-02-16 20:14:30 | itr #30 | backtrack iters: 0\n",
            "2019-02-16 20:14:30 | itr #30 | computing loss after\n",
            "2019-02-16 20:14:30 | itr #30 | optimization finished\n",
            "2019-02-16 20:14:30 | itr #30 | Computing KL after\n",
            "2019-02-16 20:14:30 | itr #30 | Computing loss after\n",
            "2019-02-16 20:14:30 | itr #30 | Fitting baseline...\n",
            "2019-02-16 20:14:30 | itr #30 | Saving snapshot...\n",
            "2019-02-16 20:14:30 | itr #30 | Saved\n",
            "2019-02-16 20:14:30 | --------------------------  -------------\n",
            "2019-02-16 20:14:30 | AverageDiscountedReturn       6.3711\n",
            "2019-02-16 20:14:30 | AverageReturn                 6.4775\n",
            "2019-02-16 20:14:30 | Baseline/ExplainedVariance    0.999798\n",
            "2019-02-16 20:14:30 | Entropy                       0.0689131\n",
            "2019-02-16 20:14:30 | EnvExecTime                   0.16047\n",
            "2019-02-16 20:14:30 | Iteration                    30\n",
            "2019-02-16 20:14:30 | ItrTime                       0.766496\n",
            "2019-02-16 20:14:30 | MaxReturn                     8\n",
            "2019-02-16 20:14:30 | MinReturn                     5\n",
            "2019-02-16 20:14:30 | NumTrajs                    800\n",
            "2019-02-16 20:14:30 | Perplexity                    1.07134\n",
            "2019-02-16 20:14:30 | PolicyExecTime                0.160318\n",
            "2019-02-16 20:14:30 | ProcessExecTime               0.0334594\n",
            "2019-02-16 20:14:30 | StdReturn                     0.874353\n",
            "2019-02-16 20:14:30 | Time                         26.2166\n",
            "2019-02-16 20:14:30 | policy/Entropy                0.475916\n",
            "2019-02-16 20:14:30 | policy/KL                     0.00653305\n",
            "2019-02-16 20:14:30 | policy/KLBefore               0\n",
            "2019-02-16 20:14:30 | policy/LossAfter             -0.0271989\n",
            "2019-02-16 20:14:30 | policy/LossBefore            -1.46389e-07\n",
            "2019-02-16 20:14:30 | policy/dLoss                  0.0271987\n",
            "2019-02-16 20:14:30 | --------------------------  -------------\n",
            "2019-02-16 20:14:30 | itr #31 | Obtaining samples...\n",
            "2019-02-16 20:14:30 | itr #31 | Obtaining samples for iteration 31...\n"
          ],
          "name": "stdout"
        },
        {
          "output_type": "stream",
          "text": [
            "0% [##############################] 100% | ETA: 00:00:00"
          ],
          "name": "stderr"
        },
        {
          "output_type": "stream",
          "text": [
            "2019-02-16 20:14:30 | itr #31 | Processing samples...\n"
          ],
          "name": "stdout"
        },
        {
          "output_type": "stream",
          "text": [
            "\n",
            "Total time elapsed: 00:00:00\n"
          ],
          "name": "stderr"
        },
        {
          "output_type": "stream",
          "text": [
            "2019-02-16 20:14:31 | itr #31 | Logging diagnostics...\n",
            "2019-02-16 20:14:31 | itr #31 | Optimizing policy...\n",
            "2019-02-16 20:14:31 | itr #31 | Computing loss before\n",
            "2019-02-16 20:14:31 | itr #31 | Computing KL before\n",
            "2019-02-16 20:14:31 | itr #31 | Optimizing\n",
            "2019-02-16 20:14:31 | itr #31 | Start CG optimization: #parameters: 1476, #inputs: 800, #subsample_inputs: 800\n",
            "2019-02-16 20:14:31 | itr #31 | computing loss before\n",
            "2019-02-16 20:14:31 | itr #31 | performing update\n",
            "2019-02-16 20:14:31 | itr #31 | computing gradient\n",
            "2019-02-16 20:14:31 | itr #31 | gradient computed\n",
            "2019-02-16 20:14:31 | itr #31 | computing descent direction\n",
            "2019-02-16 20:14:31 | itr #31 | descent direction computed\n",
            "2019-02-16 20:14:31 | itr #31 | backtrack iters: 0\n",
            "2019-02-16 20:14:31 | itr #31 | computing loss after\n",
            "2019-02-16 20:14:31 | itr #31 | optimization finished\n",
            "2019-02-16 20:14:31 | itr #31 | Computing KL after\n",
            "2019-02-16 20:14:31 | itr #31 | Computing loss after\n",
            "2019-02-16 20:14:31 | itr #31 | Fitting baseline...\n",
            "2019-02-16 20:14:31 | itr #31 | Saving snapshot...\n",
            "2019-02-16 20:14:31 | itr #31 | Saved\n",
            "2019-02-16 20:14:31 | --------------------------  -------------\n",
            "2019-02-16 20:14:31 | AverageDiscountedReturn       6.39721\n",
            "2019-02-16 20:14:31 | AverageReturn                 6.50375\n",
            "2019-02-16 20:14:31 | Baseline/ExplainedVariance    0.999999\n",
            "2019-02-16 20:14:31 | Entropy                       0.07183\n",
            "2019-02-16 20:14:31 | EnvExecTime                   0.153505\n",
            "2019-02-16 20:14:31 | Iteration                    31\n",
            "2019-02-16 20:14:31 | ItrTime                       0.765639\n",
            "2019-02-16 20:14:31 | MaxReturn                     8\n",
            "2019-02-16 20:14:31 | MinReturn                     5\n",
            "2019-02-16 20:14:31 | NumTrajs                    800\n",
            "2019-02-16 20:14:31 | Perplexity                    1.07447\n",
            "2019-02-16 20:14:31 | PolicyExecTime                0.165361\n",
            "2019-02-16 20:14:31 | ProcessExecTime               0.0347202\n",
            "2019-02-16 20:14:31 | StdReturn                     0.867459\n",
            "2019-02-16 20:14:31 | Time                         27.0026\n",
            "2019-02-16 20:14:31 | policy/Entropy                0.476042\n",
            "2019-02-16 20:14:31 | policy/KL                     0.00222901\n",
            "2019-02-16 20:14:31 | policy/KLBefore               0\n",
            "2019-02-16 20:14:31 | policy/LossAfter             -0.00181382\n",
            "2019-02-16 20:14:31 | policy/LossBefore             9.65118e-07\n",
            "2019-02-16 20:14:31 | policy/dLoss                  0.00181479\n",
            "2019-02-16 20:14:31 | --------------------------  -------------\n",
            "2019-02-16 20:14:31 | itr #32 | Obtaining samples...\n",
            "2019-02-16 20:14:31 | itr #32 | Obtaining samples for iteration 32...\n"
          ],
          "name": "stdout"
        },
        {
          "output_type": "stream",
          "text": [
            "0% [##############################] 100% | ETA: 00:00:00"
          ],
          "name": "stderr"
        },
        {
          "output_type": "stream",
          "text": [
            "2019-02-16 20:14:31 | itr #32 | Processing samples...\n"
          ],
          "name": "stdout"
        },
        {
          "output_type": "stream",
          "text": [
            "\n",
            "Total time elapsed: 00:00:00\n"
          ],
          "name": "stderr"
        },
        {
          "output_type": "stream",
          "text": [
            "2019-02-16 20:14:31 | itr #32 | Logging diagnostics...\n",
            "2019-02-16 20:14:31 | itr #32 | Optimizing policy...\n",
            "2019-02-16 20:14:31 | itr #32 | Computing loss before\n",
            "2019-02-16 20:14:31 | itr #32 | Computing KL before\n",
            "2019-02-16 20:14:31 | itr #32 | Optimizing\n",
            "2019-02-16 20:14:31 | itr #32 | Start CG optimization: #parameters: 1476, #inputs: 800, #subsample_inputs: 800\n",
            "2019-02-16 20:14:31 | itr #32 | computing loss before\n",
            "2019-02-16 20:14:31 | itr #32 | performing update\n",
            "2019-02-16 20:14:31 | itr #32 | computing gradient\n",
            "2019-02-16 20:14:31 | itr #32 | gradient computed\n",
            "2019-02-16 20:14:31 | itr #32 | computing descent direction\n",
            "2019-02-16 20:14:32 | itr #32 | descent direction computed\n",
            "2019-02-16 20:14:32 | itr #32 | backtrack iters: 1\n",
            "2019-02-16 20:14:32 | itr #32 | computing loss after\n",
            "2019-02-16 20:14:32 | itr #32 | optimization finished\n",
            "2019-02-16 20:14:32 | itr #32 | Computing KL after\n",
            "2019-02-16 20:14:32 | itr #32 | Computing loss after\n",
            "2019-02-16 20:14:32 | itr #32 | Fitting baseline...\n",
            "2019-02-16 20:14:32 | itr #32 | Saving snapshot...\n",
            "2019-02-16 20:14:32 | itr #32 | Saved\n",
            "2019-02-16 20:14:32 | --------------------------  -------------\n",
            "2019-02-16 20:14:32 | AverageDiscountedReturn       6.42086\n",
            "2019-02-16 20:14:32 | AverageReturn                 6.5275\n",
            "2019-02-16 20:14:32 | Baseline/ExplainedVariance    1\n",
            "2019-02-16 20:14:32 | Entropy                       0.068945\n",
            "2019-02-16 20:14:32 | EnvExecTime                   0.141513\n",
            "2019-02-16 20:14:32 | Iteration                    32\n",
            "2019-02-16 20:14:32 | ItrTime                       0.789258\n",
            "2019-02-16 20:14:32 | MaxReturn                     8\n",
            "2019-02-16 20:14:32 | MinReturn                     5\n",
            "2019-02-16 20:14:32 | NumTrajs                    800\n",
            "2019-02-16 20:14:32 | Perplexity                    1.07138\n",
            "2019-02-16 20:14:32 | PolicyExecTime                0.183738\n",
            "2019-02-16 20:14:32 | ProcessExecTime               0.0310338\n",
            "2019-02-16 20:14:32 | StdReturn                     0.851025\n",
            "2019-02-16 20:14:32 | Time                         27.8423\n",
            "2019-02-16 20:14:32 | policy/Entropy                0.475467\n",
            "2019-02-16 20:14:32 | policy/KL                     0.00675424\n",
            "2019-02-16 20:14:32 | policy/KLBefore               0\n",
            "2019-02-16 20:14:32 | policy/LossAfter             -0.00152822\n",
            "2019-02-16 20:14:32 | policy/LossBefore            -1.21593e-08\n",
            "2019-02-16 20:14:32 | policy/dLoss                  0.0015282\n",
            "2019-02-16 20:14:32 | --------------------------  -------------\n",
            "2019-02-16 20:14:32 | itr #33 | Obtaining samples...\n",
            "2019-02-16 20:14:32 | itr #33 | Obtaining samples for iteration 33...\n"
          ],
          "name": "stdout"
        },
        {
          "output_type": "stream",
          "text": [
            "0% [##############################] 100% | ETA: 00:00:00"
          ],
          "name": "stderr"
        },
        {
          "output_type": "stream",
          "text": [
            "2019-02-16 20:14:32 | itr #33 | Processing samples...\n"
          ],
          "name": "stdout"
        },
        {
          "output_type": "stream",
          "text": [
            "\n",
            "Total time elapsed: 00:00:00\n"
          ],
          "name": "stderr"
        },
        {
          "output_type": "stream",
          "text": [
            "2019-02-16 20:14:32 | itr #33 | Logging diagnostics...\n",
            "2019-02-16 20:14:32 | itr #33 | Optimizing policy...\n",
            "2019-02-16 20:14:32 | itr #33 | Computing loss before\n",
            "2019-02-16 20:14:32 | itr #33 | Computing KL before\n",
            "2019-02-16 20:14:32 | itr #33 | Optimizing\n",
            "2019-02-16 20:14:32 | itr #33 | Start CG optimization: #parameters: 1476, #inputs: 800, #subsample_inputs: 800\n",
            "2019-02-16 20:14:32 | itr #33 | computing loss before\n",
            "2019-02-16 20:14:32 | itr #33 | performing update\n",
            "2019-02-16 20:14:32 | itr #33 | computing gradient\n",
            "2019-02-16 20:14:32 | itr #33 | gradient computed\n",
            "2019-02-16 20:14:32 | itr #33 | computing descent direction\n",
            "2019-02-16 20:14:32 | itr #33 | descent direction computed\n",
            "2019-02-16 20:14:32 | itr #33 | backtrack iters: 0\n",
            "2019-02-16 20:14:32 | itr #33 | computing loss after\n",
            "2019-02-16 20:14:32 | itr #33 | optimization finished\n",
            "2019-02-16 20:14:32 | itr #33 | Computing KL after\n",
            "2019-02-16 20:14:32 | itr #33 | Computing loss after\n",
            "2019-02-16 20:14:33 | itr #33 | Fitting baseline...\n",
            "2019-02-16 20:14:33 | itr #33 | Saving snapshot...\n",
            "2019-02-16 20:14:33 | itr #33 | Saved\n",
            "2019-02-16 20:14:33 | --------------------------  -------------\n",
            "2019-02-16 20:14:33 | AverageDiscountedReturn       6.3637\n",
            "2019-02-16 20:14:33 | AverageReturn                 6.47\n",
            "2019-02-16 20:14:33 | Baseline/ExplainedVariance    0.998497\n",
            "2019-02-16 20:14:33 | Entropy                       0.0652783\n",
            "2019-02-16 20:14:33 | EnvExecTime                   0.161036\n",
            "2019-02-16 20:14:33 | Iteration                    33\n",
            "2019-02-16 20:14:33 | ItrTime                       0.787786\n",
            "2019-02-16 20:14:33 | MaxReturn                     8\n",
            "2019-02-16 20:14:33 | MinReturn                     3\n",
            "2019-02-16 20:14:33 | NumTrajs                    800\n",
            "2019-02-16 20:14:33 | Perplexity                    1.06746\n",
            "2019-02-16 20:14:33 | PolicyExecTime                0.177449\n",
            "2019-02-16 20:14:33 | ProcessExecTime               0.0317121\n",
            "2019-02-16 20:14:33 | StdReturn                     0.871263\n",
            "2019-02-16 20:14:33 | Time                         28.6686\n",
            "2019-02-16 20:14:33 | policy/Entropy                0.478869\n",
            "2019-02-16 20:14:33 | policy/KL                     0.00408789\n",
            "2019-02-16 20:14:33 | policy/KLBefore               0\n",
            "2019-02-16 20:14:33 | policy/LossAfter             -0.0439587\n",
            "2019-02-16 20:14:33 | policy/LossBefore             7.86781e-08\n",
            "2019-02-16 20:14:33 | policy/dLoss                  0.0439588\n",
            "2019-02-16 20:14:33 | --------------------------  -------------\n",
            "2019-02-16 20:14:33 | itr #34 | Obtaining samples...\n",
            "2019-02-16 20:14:33 | itr #34 | Obtaining samples for iteration 34...\n"
          ],
          "name": "stdout"
        },
        {
          "output_type": "stream",
          "text": [
            "0% [##############################] 100% | ETA: 00:00:00"
          ],
          "name": "stderr"
        },
        {
          "output_type": "stream",
          "text": [
            "2019-02-16 20:14:33 | itr #34 | Processing samples...\n"
          ],
          "name": "stdout"
        },
        {
          "output_type": "stream",
          "text": [
            "\n",
            "Total time elapsed: 00:00:00\n"
          ],
          "name": "stderr"
        },
        {
          "output_type": "stream",
          "text": [
            "2019-02-16 20:14:33 | itr #34 | Logging diagnostics...\n",
            "2019-02-16 20:14:33 | itr #34 | Optimizing policy...\n",
            "2019-02-16 20:14:33 | itr #34 | Computing loss before\n",
            "2019-02-16 20:14:33 | itr #34 | Computing KL before\n",
            "2019-02-16 20:14:33 | itr #34 | Optimizing\n",
            "2019-02-16 20:14:33 | itr #34 | Start CG optimization: #parameters: 1476, #inputs: 800, #subsample_inputs: 800\n",
            "2019-02-16 20:14:33 | itr #34 | computing loss before\n",
            "2019-02-16 20:14:33 | itr #34 | performing update\n",
            "2019-02-16 20:14:33 | itr #34 | computing gradient\n",
            "2019-02-16 20:14:33 | itr #34 | gradient computed\n",
            "2019-02-16 20:14:33 | itr #34 | computing descent direction\n",
            "2019-02-16 20:14:33 | itr #34 | descent direction computed\n",
            "2019-02-16 20:14:33 | itr #34 | backtrack iters: 0\n",
            "2019-02-16 20:14:33 | itr #34 | computing loss after\n",
            "2019-02-16 20:14:33 | itr #34 | optimization finished\n",
            "2019-02-16 20:14:33 | itr #34 | Computing KL after\n",
            "2019-02-16 20:14:33 | itr #34 | Computing loss after\n",
            "2019-02-16 20:14:33 | itr #34 | Fitting baseline...\n",
            "2019-02-16 20:14:33 | itr #34 | Saving snapshot...\n",
            "2019-02-16 20:14:33 | itr #34 | Saved\n",
            "2019-02-16 20:14:33 | --------------------------  -------------\n",
            "2019-02-16 20:14:33 | AverageDiscountedReturn       6.38841\n",
            "2019-02-16 20:14:33 | AverageReturn                 6.495\n",
            "2019-02-16 20:14:33 | Baseline/ExplainedVariance    0.999942\n",
            "2019-02-16 20:14:33 | Entropy                       0.0606166\n",
            "2019-02-16 20:14:33 | EnvExecTime                   0.164672\n",
            "2019-02-16 20:14:33 | Iteration                    34\n",
            "2019-02-16 20:14:33 | ItrTime                       0.790437\n",
            "2019-02-16 20:14:33 | MaxReturn                     8\n",
            "2019-02-16 20:14:33 | MinReturn                     5\n",
            "2019-02-16 20:14:33 | NumTrajs                    800\n",
            "2019-02-16 20:14:33 | Perplexity                    1.06249\n",
            "2019-02-16 20:14:33 | PolicyExecTime                0.15734\n",
            "2019-02-16 20:14:33 | ProcessExecTime               0.0331426\n",
            "2019-02-16 20:14:33 | StdReturn                     0.883162\n",
            "2019-02-16 20:14:33 | Time                         29.4816\n",
            "2019-02-16 20:14:33 | policy/Entropy                0.479894\n",
            "2019-02-16 20:14:33 | policy/KL                     0.00222652\n",
            "2019-02-16 20:14:33 | policy/KLBefore               0\n",
            "2019-02-16 20:14:33 | policy/LossAfter             -0.00079099\n",
            "2019-02-16 20:14:33 | policy/LossBefore            -8.29697e-08\n",
            "2019-02-16 20:14:33 | policy/dLoss                  0.000790907\n",
            "2019-02-16 20:14:33 | --------------------------  -------------\n",
            "2019-02-16 20:14:33 | itr #35 | Obtaining samples...\n",
            "2019-02-16 20:14:33 | itr #35 | Obtaining samples for iteration 35...\n"
          ],
          "name": "stdout"
        },
        {
          "output_type": "stream",
          "text": [
            "0% [##############################] 100% | ETA: 00:00:00"
          ],
          "name": "stderr"
        },
        {
          "output_type": "stream",
          "text": [
            "2019-02-16 20:14:34 | itr #35 | Processing samples...\n"
          ],
          "name": "stdout"
        },
        {
          "output_type": "stream",
          "text": [
            "\n",
            "Total time elapsed: 00:00:00\n"
          ],
          "name": "stderr"
        },
        {
          "output_type": "stream",
          "text": [
            "2019-02-16 20:14:34 | itr #35 | Logging diagnostics...\n",
            "2019-02-16 20:14:34 | itr #35 | Optimizing policy...\n",
            "2019-02-16 20:14:34 | itr #35 | Computing loss before\n",
            "2019-02-16 20:14:34 | itr #35 | Computing KL before\n",
            "2019-02-16 20:14:34 | itr #35 | Optimizing\n",
            "2019-02-16 20:14:34 | itr #35 | Start CG optimization: #parameters: 1476, #inputs: 800, #subsample_inputs: 800\n",
            "2019-02-16 20:14:34 | itr #35 | computing loss before\n",
            "2019-02-16 20:14:34 | itr #35 | performing update\n",
            "2019-02-16 20:14:34 | itr #35 | computing gradient\n",
            "2019-02-16 20:14:34 | itr #35 | gradient computed\n",
            "2019-02-16 20:14:34 | itr #35 | computing descent direction\n",
            "2019-02-16 20:14:34 | itr #35 | descent direction computed\n",
            "2019-02-16 20:14:34 | itr #35 | backtrack iters: 1\n",
            "2019-02-16 20:14:34 | itr #35 | computing loss after\n",
            "2019-02-16 20:14:34 | itr #35 | optimization finished\n",
            "2019-02-16 20:14:34 | itr #35 | Computing KL after\n",
            "2019-02-16 20:14:34 | itr #35 | Computing loss after\n",
            "2019-02-16 20:14:34 | itr #35 | Fitting baseline...\n",
            "2019-02-16 20:14:34 | itr #35 | Saving snapshot...\n",
            "2019-02-16 20:14:34 | itr #35 | Saved\n",
            "2019-02-16 20:14:34 | --------------------------  -------------\n",
            "2019-02-16 20:14:34 | AverageDiscountedReturn       6.41573\n",
            "2019-02-16 20:14:34 | AverageReturn                 6.5225\n",
            "2019-02-16 20:14:34 | Baseline/ExplainedVariance    1\n",
            "2019-02-16 20:14:34 | Entropy                       0.0616643\n",
            "2019-02-16 20:14:34 | EnvExecTime                   0.148552\n",
            "2019-02-16 20:14:34 | Iteration                    35\n",
            "2019-02-16 20:14:34 | ItrTime                       0.66862\n",
            "2019-02-16 20:14:34 | MaxReturn                     8\n",
            "2019-02-16 20:14:34 | MinReturn                     5\n",
            "2019-02-16 20:14:34 | NumTrajs                    800\n",
            "2019-02-16 20:14:34 | Perplexity                    1.06361\n",
            "2019-02-16 20:14:34 | PolicyExecTime                0.155682\n",
            "2019-02-16 20:14:34 | ProcessExecTime               0.0386958\n",
            "2019-02-16 20:14:34 | StdReturn                     0.871489\n",
            "2019-02-16 20:14:34 | Time                         30.1897\n",
            "2019-02-16 20:14:34 | policy/Entropy                0.475704\n",
            "2019-02-16 20:14:34 | policy/KL                     0.0074581\n",
            "2019-02-16 20:14:34 | policy/KLBefore               0\n",
            "2019-02-16 20:14:34 | policy/LossAfter             -0.00408084\n",
            "2019-02-16 20:14:34 | policy/LossBefore             1.49012e-09\n",
            "2019-02-16 20:14:34 | policy/dLoss                  0.00408085\n",
            "2019-02-16 20:14:34 | --------------------------  -------------\n",
            "2019-02-16 20:14:34 | itr #36 | Obtaining samples...\n",
            "2019-02-16 20:14:34 | itr #36 | Obtaining samples for iteration 36...\n"
          ],
          "name": "stdout"
        },
        {
          "output_type": "stream",
          "text": [
            "0% [##############################] 100% | ETA: 00:00:00"
          ],
          "name": "stderr"
        },
        {
          "output_type": "stream",
          "text": [
            "2019-02-16 20:14:34 | itr #36 | Processing samples...\n"
          ],
          "name": "stdout"
        },
        {
          "output_type": "stream",
          "text": [
            "\n",
            "Total time elapsed: 00:00:00\n"
          ],
          "name": "stderr"
        },
        {
          "output_type": "stream",
          "text": [
            "2019-02-16 20:14:35 | itr #36 | Logging diagnostics...\n",
            "2019-02-16 20:14:35 | itr #36 | Optimizing policy...\n",
            "2019-02-16 20:14:35 | itr #36 | Computing loss before\n",
            "2019-02-16 20:14:35 | itr #36 | Computing KL before\n",
            "2019-02-16 20:14:35 | itr #36 | Optimizing\n",
            "2019-02-16 20:14:35 | itr #36 | Start CG optimization: #parameters: 1476, #inputs: 800, #subsample_inputs: 800\n",
            "2019-02-16 20:14:35 | itr #36 | computing loss before\n",
            "2019-02-16 20:14:35 | itr #36 | performing update\n",
            "2019-02-16 20:14:35 | itr #36 | computing gradient\n",
            "2019-02-16 20:14:35 | itr #36 | gradient computed\n",
            "2019-02-16 20:14:35 | itr #36 | computing descent direction\n",
            "2019-02-16 20:14:35 | itr #36 | descent direction computed\n",
            "2019-02-16 20:14:35 | itr #36 | backtrack iters: 0\n",
            "2019-02-16 20:14:35 | itr #36 | computing loss after\n",
            "2019-02-16 20:14:35 | itr #36 | optimization finished\n",
            "2019-02-16 20:14:35 | itr #36 | Computing KL after\n",
            "2019-02-16 20:14:35 | itr #36 | Computing loss after\n",
            "2019-02-16 20:14:35 | itr #36 | Fitting baseline...\n",
            "2019-02-16 20:14:35 | itr #36 | Saving snapshot...\n",
            "2019-02-16 20:14:35 | itr #36 | Saved\n",
            "2019-02-16 20:14:35 | --------------------------  -------------\n",
            "2019-02-16 20:14:35 | AverageDiscountedReturn       6.44477\n",
            "2019-02-16 20:14:35 | AverageReturn                 6.55125\n",
            "2019-02-16 20:14:35 | Baseline/ExplainedVariance    0.995569\n",
            "2019-02-16 20:14:35 | Entropy                       0.0690924\n",
            "2019-02-16 20:14:35 | EnvExecTime                   0.155258\n",
            "2019-02-16 20:14:35 | Iteration                    36\n",
            "2019-02-16 20:14:35 | ItrTime                       0.793512\n",
            "2019-02-16 20:14:35 | MaxReturn                     8\n",
            "2019-02-16 20:14:35 | MinReturn                     2\n",
            "2019-02-16 20:14:35 | NumTrajs                    800\n",
            "2019-02-16 20:14:35 | Perplexity                    1.07154\n",
            "2019-02-16 20:14:35 | PolicyExecTime                0.162018\n",
            "2019-02-16 20:14:35 | ProcessExecTime               0.0459347\n",
            "2019-02-16 20:14:35 | StdReturn                     0.833591\n",
            "2019-02-16 20:14:35 | Time                         31.0082\n",
            "2019-02-16 20:14:35 | policy/Entropy                0.474781\n",
            "2019-02-16 20:14:35 | policy/KL                     0.00212023\n",
            "2019-02-16 20:14:35 | policy/KLBefore               0\n",
            "2019-02-16 20:14:35 | policy/LossAfter             -0.019709\n",
            "2019-02-16 20:14:35 | policy/LossBefore            -1.82137e-07\n",
            "2019-02-16 20:14:35 | policy/dLoss                  0.0197088\n",
            "2019-02-16 20:14:35 | --------------------------  -------------\n",
            "2019-02-16 20:14:35 | itr #37 | Obtaining samples...\n",
            "2019-02-16 20:14:35 | itr #37 | Obtaining samples for iteration 37...\n"
          ],
          "name": "stdout"
        },
        {
          "output_type": "stream",
          "text": [
            "0% [##############################] 100% | ETA: 00:00:00"
          ],
          "name": "stderr"
        },
        {
          "output_type": "stream",
          "text": [
            "2019-02-16 20:14:35 | itr #37 | Processing samples...\n"
          ],
          "name": "stdout"
        },
        {
          "output_type": "stream",
          "text": [
            "\n",
            "Total time elapsed: 00:00:00\n"
          ],
          "name": "stderr"
        },
        {
          "output_type": "stream",
          "text": [
            "2019-02-16 20:14:35 | itr #37 | Logging diagnostics...\n",
            "2019-02-16 20:14:35 | itr #37 | Optimizing policy...\n",
            "2019-02-16 20:14:35 | itr #37 | Computing loss before\n",
            "2019-02-16 20:14:35 | itr #37 | Computing KL before\n",
            "2019-02-16 20:14:35 | itr #37 | Optimizing\n",
            "2019-02-16 20:14:35 | itr #37 | Start CG optimization: #parameters: 1476, #inputs: 800, #subsample_inputs: 800\n",
            "2019-02-16 20:14:35 | itr #37 | computing loss before\n",
            "2019-02-16 20:14:35 | itr #37 | performing update\n",
            "2019-02-16 20:14:35 | itr #37 | computing gradient\n",
            "2019-02-16 20:14:35 | itr #37 | gradient computed\n",
            "2019-02-16 20:14:35 | itr #37 | computing descent direction\n",
            "2019-02-16 20:14:36 | itr #37 | descent direction computed\n",
            "2019-02-16 20:14:36 | itr #37 | backtrack iters: 2\n",
            "2019-02-16 20:14:36 | itr #37 | computing loss after\n",
            "2019-02-16 20:14:36 | itr #37 | optimization finished\n",
            "2019-02-16 20:14:36 | itr #37 | Computing KL after\n",
            "2019-02-16 20:14:36 | itr #37 | Computing loss after\n",
            "2019-02-16 20:14:36 | itr #37 | Fitting baseline...\n",
            "2019-02-16 20:14:36 | itr #37 | Saving snapshot...\n",
            "2019-02-16 20:14:36 | itr #37 | Saved\n",
            "2019-02-16 20:14:36 | --------------------------  -------------\n",
            "2019-02-16 20:14:36 | AverageDiscountedReturn       6.34404\n",
            "2019-02-16 20:14:36 | AverageReturn                 6.45\n",
            "2019-02-16 20:14:36 | Baseline/ExplainedVariance    0.999458\n",
            "2019-02-16 20:14:36 | Entropy                       0.0660908\n",
            "2019-02-16 20:14:36 | EnvExecTime                   0.160285\n",
            "2019-02-16 20:14:36 | Iteration                    37\n",
            "2019-02-16 20:14:36 | ItrTime                       0.798881\n",
            "2019-02-16 20:14:36 | MaxReturn                     8\n",
            "2019-02-16 20:14:36 | MinReturn                     4\n",
            "2019-02-16 20:14:36 | NumTrajs                    800\n",
            "2019-02-16 20:14:36 | Perplexity                    1.06832\n",
            "2019-02-16 20:14:36 | PolicyExecTime                0.156656\n",
            "2019-02-16 20:14:36 | ProcessExecTime               0.0325489\n",
            "2019-02-16 20:14:36 | StdReturn                     0.855862\n",
            "2019-02-16 20:14:36 | Time                         31.8583\n",
            "2019-02-16 20:14:36 | policy/Entropy                0.47699\n",
            "2019-02-16 20:14:36 | policy/KL                     0.00545523\n",
            "2019-02-16 20:14:36 | policy/KLBefore               0\n",
            "2019-02-16 20:14:36 | policy/LossAfter             -0.0201558\n",
            "2019-02-16 20:14:36 | policy/LossBefore            -3.17574e-07\n",
            "2019-02-16 20:14:36 | policy/dLoss                  0.0201555\n",
            "2019-02-16 20:14:36 | --------------------------  -------------\n",
            "2019-02-16 20:14:36 | itr #38 | Obtaining samples...\n",
            "2019-02-16 20:14:36 | itr #38 | Obtaining samples for iteration 38...\n"
          ],
          "name": "stdout"
        },
        {
          "output_type": "stream",
          "text": [
            "0% [##############################] 100% | ETA: 00:00:00"
          ],
          "name": "stderr"
        },
        {
          "output_type": "stream",
          "text": [
            "2019-02-16 20:14:36 | itr #38 | Processing samples...\n"
          ],
          "name": "stdout"
        },
        {
          "output_type": "stream",
          "text": [
            "\n",
            "Total time elapsed: 00:00:00\n"
          ],
          "name": "stderr"
        },
        {
          "output_type": "stream",
          "text": [
            "2019-02-16 20:14:36 | itr #38 | Logging diagnostics...\n",
            "2019-02-16 20:14:36 | itr #38 | Optimizing policy...\n",
            "2019-02-16 20:14:36 | itr #38 | Computing loss before\n",
            "2019-02-16 20:14:36 | itr #38 | Computing KL before\n",
            "2019-02-16 20:14:36 | itr #38 | Optimizing\n",
            "2019-02-16 20:14:36 | itr #38 | Start CG optimization: #parameters: 1476, #inputs: 800, #subsample_inputs: 800\n",
            "2019-02-16 20:14:36 | itr #38 | computing loss before\n",
            "2019-02-16 20:14:36 | itr #38 | performing update\n",
            "2019-02-16 20:14:36 | itr #38 | computing gradient\n",
            "2019-02-16 20:14:36 | itr #38 | gradient computed\n",
            "2019-02-16 20:14:36 | itr #38 | computing descent direction\n",
            "2019-02-16 20:14:37 | itr #38 | descent direction computed\n",
            "2019-02-16 20:14:37 | itr #38 | backtrack iters: 0\n",
            "2019-02-16 20:14:37 | itr #38 | computing loss after\n",
            "2019-02-16 20:14:37 | itr #38 | optimization finished\n",
            "2019-02-16 20:14:37 | itr #38 | Computing KL after\n",
            "2019-02-16 20:14:37 | itr #38 | Computing loss after\n",
            "2019-02-16 20:14:37 | itr #38 | Fitting baseline...\n",
            "2019-02-16 20:14:37 | itr #38 | Saving snapshot...\n",
            "2019-02-16 20:14:37 | itr #38 | Saved\n",
            "2019-02-16 20:14:37 | --------------------------  -------------\n",
            "2019-02-16 20:14:37 | AverageDiscountedReturn       6.41922\n",
            "2019-02-16 20:14:37 | AverageReturn                 6.52625\n",
            "2019-02-16 20:14:37 | Baseline/ExplainedVariance    0.999157\n",
            "2019-02-16 20:14:37 | Entropy                       0.0683325\n",
            "2019-02-16 20:14:37 | EnvExecTime                   0.178393\n",
            "2019-02-16 20:14:37 | Iteration                    38\n",
            "2019-02-16 20:14:37 | ItrTime                       0.822493\n",
            "2019-02-16 20:14:37 | MaxReturn                     8\n",
            "2019-02-16 20:14:37 | MinReturn                     5\n",
            "2019-02-16 20:14:37 | NumTrajs                    800\n",
            "2019-02-16 20:14:37 | Perplexity                    1.07072\n",
            "2019-02-16 20:14:37 | PolicyExecTime                0.170575\n",
            "2019-02-16 20:14:37 | ProcessExecTime               0.0361705\n",
            "2019-02-16 20:14:37 | StdReturn                     0.862735\n",
            "2019-02-16 20:14:37 | Time                         32.7247\n",
            "2019-02-16 20:14:37 | policy/Entropy                0.476012\n",
            "2019-02-16 20:14:37 | policy/KL                     0.00484303\n",
            "2019-02-16 20:14:37 | policy/KLBefore               0\n",
            "2019-02-16 20:14:37 | policy/LossAfter             -0.0309905\n",
            "2019-02-16 20:14:37 | policy/LossBefore             6.19888e-09\n",
            "2019-02-16 20:14:37 | policy/dLoss                  0.0309905\n",
            "2019-02-16 20:14:37 | --------------------------  -------------\n",
            "2019-02-16 20:14:37 | itr #39 | Obtaining samples...\n",
            "2019-02-16 20:14:37 | itr #39 | Obtaining samples for iteration 39...\n"
          ],
          "name": "stdout"
        },
        {
          "output_type": "stream",
          "text": [
            "0% [##############################] 100% | ETA: 00:00:00"
          ],
          "name": "stderr"
        },
        {
          "output_type": "stream",
          "text": [
            "2019-02-16 20:14:37 | itr #39 | Processing samples...\n"
          ],
          "name": "stdout"
        },
        {
          "output_type": "stream",
          "text": [
            "\n",
            "Total time elapsed: 00:00:00\n"
          ],
          "name": "stderr"
        },
        {
          "output_type": "stream",
          "text": [
            "2019-02-16 20:14:37 | itr #39 | Logging diagnostics...\n",
            "2019-02-16 20:14:37 | itr #39 | Optimizing policy...\n",
            "2019-02-16 20:14:37 | itr #39 | Computing loss before\n",
            "2019-02-16 20:14:37 | itr #39 | Computing KL before\n",
            "2019-02-16 20:14:37 | itr #39 | Optimizing\n",
            "2019-02-16 20:14:37 | itr #39 | Start CG optimization: #parameters: 1476, #inputs: 800, #subsample_inputs: 800\n",
            "2019-02-16 20:14:37 | itr #39 | computing loss before\n",
            "2019-02-16 20:14:37 | itr #39 | performing update\n",
            "2019-02-16 20:14:37 | itr #39 | computing gradient\n",
            "2019-02-16 20:14:37 | itr #39 | gradient computed\n",
            "2019-02-16 20:14:37 | itr #39 | computing descent direction\n",
            "2019-02-16 20:14:37 | itr #39 | descent direction computed\n",
            "2019-02-16 20:14:37 | itr #39 | backtrack iters: 0\n",
            "2019-02-16 20:14:37 | itr #39 | computing loss after\n",
            "2019-02-16 20:14:37 | itr #39 | optimization finished\n",
            "2019-02-16 20:14:37 | itr #39 | Computing KL after\n",
            "2019-02-16 20:14:37 | itr #39 | Computing loss after\n",
            "2019-02-16 20:14:37 | itr #39 | Fitting baseline...\n",
            "2019-02-16 20:14:37 | itr #39 | Saving snapshot...\n",
            "2019-02-16 20:14:37 | itr #39 | Saved\n",
            "2019-02-16 20:14:37 | --------------------------  -------------\n",
            "2019-02-16 20:14:37 | AverageDiscountedReturn       6.40586\n",
            "2019-02-16 20:14:37 | AverageReturn                 6.5125\n",
            "2019-02-16 20:14:37 | Baseline/ExplainedVariance    0.999669\n",
            "2019-02-16 20:14:37 | Entropy                       0.0605323\n",
            "2019-02-16 20:14:37 | EnvExecTime                   0.174165\n",
            "2019-02-16 20:14:37 | Iteration                    39\n",
            "2019-02-16 20:14:37 | ItrTime                       0.788667\n",
            "2019-02-16 20:14:37 | MaxReturn                     8\n",
            "2019-02-16 20:14:37 | MinReturn                     5\n",
            "2019-02-16 20:14:37 | NumTrajs                    800\n",
            "2019-02-16 20:14:37 | Perplexity                    1.0624\n",
            "2019-02-16 20:14:37 | PolicyExecTime                0.155146\n",
            "2019-02-16 20:14:37 | ProcessExecTime               0.0412958\n",
            "2019-02-16 20:14:37 | StdReturn                     0.846961\n",
            "2019-02-16 20:14:37 | Time                         33.5328\n",
            "2019-02-16 20:14:37 | policy/Entropy                0.478096\n",
            "2019-02-16 20:14:37 | policy/KL                     0.0018776\n",
            "2019-02-16 20:14:37 | policy/KLBefore               0\n",
            "2019-02-16 20:14:37 | policy/LossAfter             -0.034144\n",
            "2019-02-16 20:14:37 | policy/LossBefore            -5.17368e-08\n",
            "2019-02-16 20:14:37 | policy/dLoss                  0.0341439\n",
            "2019-02-16 20:14:37 | --------------------------  -------------\n",
            "2019-02-16 20:14:37 | itr #40 | Obtaining samples...\n",
            "2019-02-16 20:14:37 | itr #40 | Obtaining samples for iteration 40...\n"
          ],
          "name": "stdout"
        },
        {
          "output_type": "stream",
          "text": [
            "0% [##############################] 100% | ETA: 00:00:00"
          ],
          "name": "stderr"
        },
        {
          "output_type": "stream",
          "text": [
            "2019-02-16 20:14:38 | itr #40 | Processing samples...\n"
          ],
          "name": "stdout"
        },
        {
          "output_type": "stream",
          "text": [
            "\n",
            "Total time elapsed: 00:00:00\n"
          ],
          "name": "stderr"
        },
        {
          "output_type": "stream",
          "text": [
            "2019-02-16 20:14:38 | itr #40 | Logging diagnostics...\n",
            "2019-02-16 20:14:38 | itr #40 | Optimizing policy...\n",
            "2019-02-16 20:14:38 | itr #40 | Computing loss before\n",
            "2019-02-16 20:14:38 | itr #40 | Computing KL before\n",
            "2019-02-16 20:14:38 | itr #40 | Optimizing\n",
            "2019-02-16 20:14:38 | itr #40 | Start CG optimization: #parameters: 1476, #inputs: 800, #subsample_inputs: 800\n",
            "2019-02-16 20:14:38 | itr #40 | computing loss before\n",
            "2019-02-16 20:14:38 | itr #40 | performing update\n",
            "2019-02-16 20:14:38 | itr #40 | computing gradient\n",
            "2019-02-16 20:14:38 | itr #40 | gradient computed\n",
            "2019-02-16 20:14:38 | itr #40 | computing descent direction\n",
            "2019-02-16 20:14:38 | itr #40 | descent direction computed\n",
            "2019-02-16 20:14:38 | itr #40 | backtrack iters: 0\n",
            "2019-02-16 20:14:38 | itr #40 | computing loss after\n",
            "2019-02-16 20:14:38 | itr #40 | optimization finished\n",
            "2019-02-16 20:14:38 | itr #40 | Computing KL after\n",
            "2019-02-16 20:14:38 | itr #40 | Computing loss after\n",
            "2019-02-16 20:14:38 | itr #40 | Fitting baseline...\n",
            "2019-02-16 20:14:38 | itr #40 | Saving snapshot...\n",
            "2019-02-16 20:14:38 | itr #40 | Saved\n",
            "2019-02-16 20:14:38 | --------------------------  -------------\n",
            "2019-02-16 20:14:38 | AverageDiscountedReturn       6.40683\n",
            "2019-02-16 20:14:38 | AverageReturn                 6.51375\n",
            "2019-02-16 20:14:38 | Baseline/ExplainedVariance    0.999984\n",
            "2019-02-16 20:14:38 | Entropy                       0.060745\n",
            "2019-02-16 20:14:38 | EnvExecTime                   0.163677\n",
            "2019-02-16 20:14:38 | Iteration                    40\n",
            "2019-02-16 20:14:38 | ItrTime                       0.781619\n",
            "2019-02-16 20:14:38 | MaxReturn                     8\n",
            "2019-02-16 20:14:38 | MinReturn                     5\n",
            "2019-02-16 20:14:38 | NumTrajs                    800\n",
            "2019-02-16 20:14:38 | Perplexity                    1.06263\n",
            "2019-02-16 20:14:38 | PolicyExecTime                0.170022\n",
            "2019-02-16 20:14:38 | ProcessExecTime               0.0358102\n",
            "2019-02-16 20:14:38 | StdReturn                     0.898505\n",
            "2019-02-16 20:14:38 | Time                         34.3366\n",
            "2019-02-16 20:14:38 | policy/Entropy                0.479644\n",
            "2019-02-16 20:14:38 | policy/KL                     0.00465364\n",
            "2019-02-16 20:14:38 | policy/KLBefore               0\n",
            "2019-02-16 20:14:38 | policy/LossAfter             -0.00732942\n",
            "2019-02-16 20:14:38 | policy/LossBefore             4.57764e-08\n",
            "2019-02-16 20:14:38 | policy/dLoss                  0.00732947\n",
            "2019-02-16 20:14:38 | --------------------------  -------------\n",
            "2019-02-16 20:14:38 | itr #41 | Obtaining samples...\n",
            "2019-02-16 20:14:38 | itr #41 | Obtaining samples for iteration 41...\n"
          ],
          "name": "stdout"
        },
        {
          "output_type": "stream",
          "text": [
            "0% [##############################] 100% | ETA: 00:00:00"
          ],
          "name": "stderr"
        },
        {
          "output_type": "stream",
          "text": [
            "2019-02-16 20:14:39 | itr #41 | Processing samples...\n"
          ],
          "name": "stdout"
        },
        {
          "output_type": "stream",
          "text": [
            "\n",
            "Total time elapsed: 00:00:00\n"
          ],
          "name": "stderr"
        },
        {
          "output_type": "stream",
          "text": [
            "2019-02-16 20:14:39 | itr #41 | Logging diagnostics...\n",
            "2019-02-16 20:14:39 | itr #41 | Optimizing policy...\n",
            "2019-02-16 20:14:39 | itr #41 | Computing loss before\n",
            "2019-02-16 20:14:39 | itr #41 | Computing KL before\n",
            "2019-02-16 20:14:39 | itr #41 | Optimizing\n",
            "2019-02-16 20:14:39 | itr #41 | Start CG optimization: #parameters: 1476, #inputs: 800, #subsample_inputs: 800\n",
            "2019-02-16 20:14:39 | itr #41 | computing loss before\n",
            "2019-02-16 20:14:39 | itr #41 | performing update\n",
            "2019-02-16 20:14:39 | itr #41 | computing gradient\n",
            "2019-02-16 20:14:39 | itr #41 | gradient computed\n",
            "2019-02-16 20:14:39 | itr #41 | computing descent direction\n",
            "2019-02-16 20:14:39 | itr #41 | descent direction computed\n",
            "2019-02-16 20:14:39 | itr #41 | backtrack iters: 1\n",
            "2019-02-16 20:14:39 | itr #41 | computing loss after\n",
            "2019-02-16 20:14:39 | itr #41 | optimization finished\n",
            "2019-02-16 20:14:39 | itr #41 | Computing KL after\n",
            "2019-02-16 20:14:39 | itr #41 | Computing loss after\n",
            "2019-02-16 20:14:39 | itr #41 | Fitting baseline...\n",
            "2019-02-16 20:14:39 | itr #41 | Saving snapshot...\n",
            "2019-02-16 20:14:39 | itr #41 | Saved\n",
            "2019-02-16 20:14:39 | --------------------------  -------------\n",
            "2019-02-16 20:14:39 | AverageDiscountedReturn       6.43427\n",
            "2019-02-16 20:14:39 | AverageReturn                 6.54125\n",
            "2019-02-16 20:14:39 | Baseline/ExplainedVariance    1\n",
            "2019-02-16 20:14:39 | Entropy                       0.0539147\n",
            "2019-02-16 20:14:39 | EnvExecTime                   0.148226\n",
            "2019-02-16 20:14:39 | Iteration                    41\n",
            "2019-02-16 20:14:39 | ItrTime                       0.747898\n",
            "2019-02-16 20:14:39 | MaxReturn                     8\n",
            "2019-02-16 20:14:39 | MinReturn                     5\n",
            "2019-02-16 20:14:39 | NumTrajs                    800\n",
            "2019-02-16 20:14:39 | Perplexity                    1.05539\n",
            "2019-02-16 20:14:39 | PolicyExecTime                0.175106\n",
            "2019-02-16 20:14:39 | ProcessExecTime               0.035264\n",
            "2019-02-16 20:14:39 | StdReturn                     0.87367\n",
            "2019-02-16 20:14:39 | Time                         35.113\n",
            "2019-02-16 20:14:39 | policy/Entropy                0.480862\n",
            "2019-02-16 20:14:39 | policy/KL                     0.00657317\n",
            "2019-02-16 20:14:39 | policy/KLBefore               0\n",
            "2019-02-16 20:14:39 | policy/LossAfter             -0.000380783\n",
            "2019-02-16 20:14:39 | policy/LossBefore             2.09808e-08\n",
            "2019-02-16 20:14:39 | policy/dLoss                  0.000380804\n",
            "2019-02-16 20:14:39 | --------------------------  -------------\n",
            "2019-02-16 20:14:39 | itr #42 | Obtaining samples...\n",
            "2019-02-16 20:14:39 | itr #42 | Obtaining samples for iteration 42...\n"
          ],
          "name": "stdout"
        },
        {
          "output_type": "stream",
          "text": [
            "0% [##############################] 100% | ETA: 00:00:00"
          ],
          "name": "stderr"
        },
        {
          "output_type": "stream",
          "text": [
            "2019-02-16 20:14:39 | itr #42 | Processing samples...\n"
          ],
          "name": "stdout"
        },
        {
          "output_type": "stream",
          "text": [
            "\n",
            "Total time elapsed: 00:00:00\n"
          ],
          "name": "stderr"
        },
        {
          "output_type": "stream",
          "text": [
            "2019-02-16 20:14:39 | itr #42 | Logging diagnostics...\n",
            "2019-02-16 20:14:39 | itr #42 | Optimizing policy...\n",
            "2019-02-16 20:14:39 | itr #42 | Computing loss before\n",
            "2019-02-16 20:14:39 | itr #42 | Computing KL before\n",
            "2019-02-16 20:14:39 | itr #42 | Optimizing\n",
            "2019-02-16 20:14:39 | itr #42 | Start CG optimization: #parameters: 1476, #inputs: 800, #subsample_inputs: 800\n",
            "2019-02-16 20:14:40 | itr #42 | computing loss before\n",
            "2019-02-16 20:14:40 | itr #42 | performing update\n",
            "2019-02-16 20:14:40 | itr #42 | computing gradient\n",
            "2019-02-16 20:14:40 | itr #42 | gradient computed\n",
            "2019-02-16 20:14:40 | itr #42 | computing descent direction\n",
            "2019-02-16 20:14:40 | itr #42 | descent direction computed\n",
            "2019-02-16 20:14:40 | itr #42 | backtrack iters: 0\n",
            "2019-02-16 20:14:40 | itr #42 | computing loss after\n",
            "2019-02-16 20:14:40 | itr #42 | optimization finished\n",
            "2019-02-16 20:14:40 | itr #42 | Computing KL after\n",
            "2019-02-16 20:14:40 | itr #42 | Computing loss after\n",
            "2019-02-16 20:14:40 | itr #42 | Fitting baseline...\n",
            "2019-02-16 20:14:40 | itr #42 | Saving snapshot...\n",
            "2019-02-16 20:14:40 | itr #42 | Saved\n",
            "2019-02-16 20:14:40 | --------------------------  -------------\n",
            "2019-02-16 20:14:40 | AverageDiscountedReturn       6.37362\n",
            "2019-02-16 20:14:40 | AverageReturn                 6.48\n",
            "2019-02-16 20:14:40 | Baseline/ExplainedVariance    0.998718\n",
            "2019-02-16 20:14:40 | Entropy                       0.044575\n",
            "2019-02-16 20:14:40 | EnvExecTime                   0.169709\n",
            "2019-02-16 20:14:40 | Iteration                    42\n",
            "2019-02-16 20:14:40 | ItrTime                       0.782394\n",
            "2019-02-16 20:14:40 | MaxReturn                     8\n",
            "2019-02-16 20:14:40 | MinReturn                     5\n",
            "2019-02-16 20:14:40 | NumTrajs                    800\n",
            "2019-02-16 20:14:40 | Perplexity                    1.04558\n",
            "2019-02-16 20:14:40 | PolicyExecTime                0.162609\n",
            "2019-02-16 20:14:40 | ProcessExecTime               0.0342195\n",
            "2019-02-16 20:14:40 | StdReturn                     0.875842\n",
            "2019-02-16 20:14:40 | Time                         35.9209\n",
            "2019-02-16 20:14:40 | policy/Entropy                0.483623\n",
            "2019-02-16 20:14:40 | policy/KL                     0.00234266\n",
            "2019-02-16 20:14:40 | policy/KLBefore               0\n",
            "2019-02-16 20:14:40 | policy/LossAfter             -0.0147125\n",
            "2019-02-16 20:14:40 | policy/LossBefore             1.00136e-08\n",
            "2019-02-16 20:14:40 | policy/dLoss                  0.0147125\n",
            "2019-02-16 20:14:40 | --------------------------  -------------\n",
            "2019-02-16 20:14:40 | itr #43 | Obtaining samples...\n",
            "2019-02-16 20:14:40 | itr #43 | Obtaining samples for iteration 43...\n"
          ],
          "name": "stdout"
        },
        {
          "output_type": "stream",
          "text": [
            "0% [##############################] 100% | ETA: 00:00:00"
          ],
          "name": "stderr"
        },
        {
          "output_type": "stream",
          "text": [
            "2019-02-16 20:14:40 | itr #43 | Processing samples...\n"
          ],
          "name": "stdout"
        },
        {
          "output_type": "stream",
          "text": [
            "\n",
            "Total time elapsed: 00:00:00\n"
          ],
          "name": "stderr"
        },
        {
          "output_type": "stream",
          "text": [
            "2019-02-16 20:14:40 | itr #43 | Logging diagnostics...\n",
            "2019-02-16 20:14:40 | itr #43 | Optimizing policy...\n",
            "2019-02-16 20:14:40 | itr #43 | Computing loss before\n",
            "2019-02-16 20:14:40 | itr #43 | Computing KL before\n",
            "2019-02-16 20:14:40 | itr #43 | Optimizing\n",
            "2019-02-16 20:14:40 | itr #43 | Start CG optimization: #parameters: 1476, #inputs: 800, #subsample_inputs: 800\n",
            "2019-02-16 20:14:40 | itr #43 | computing loss before\n",
            "2019-02-16 20:14:40 | itr #43 | performing update\n",
            "2019-02-16 20:14:40 | itr #43 | computing gradient\n",
            "2019-02-16 20:14:40 | itr #43 | gradient computed\n",
            "2019-02-16 20:14:40 | itr #43 | computing descent direction\n",
            "2019-02-16 20:14:40 | itr #43 | descent direction computed\n",
            "2019-02-16 20:14:41 | itr #43 | backtrack iters: 3\n",
            "2019-02-16 20:14:41 | itr #43 | computing loss after\n",
            "2019-02-16 20:14:41 | itr #43 | optimization finished\n",
            "2019-02-16 20:14:41 | itr #43 | Computing KL after\n",
            "2019-02-16 20:14:41 | itr #43 | Computing loss after\n",
            "2019-02-16 20:14:41 | itr #43 | Fitting baseline...\n",
            "2019-02-16 20:14:41 | itr #43 | Saving snapshot...\n",
            "2019-02-16 20:14:41 | itr #43 | Saved\n",
            "2019-02-16 20:14:41 | --------------------------  -------------\n",
            "2019-02-16 20:14:41 | AverageDiscountedReturn       6.37124\n",
            "2019-02-16 20:14:41 | AverageReturn                 6.4775\n",
            "2019-02-16 20:14:41 | Baseline/ExplainedVariance    0.999991\n",
            "2019-02-16 20:14:41 | Entropy                       0.042812\n",
            "2019-02-16 20:14:41 | EnvExecTime                   0.163558\n",
            "2019-02-16 20:14:41 | Iteration                    43\n",
            "2019-02-16 20:14:41 | ItrTime                       0.782642\n",
            "2019-02-16 20:14:41 | MaxReturn                     8\n",
            "2019-02-16 20:14:41 | MinReturn                     5\n",
            "2019-02-16 20:14:41 | NumTrajs                    800\n",
            "2019-02-16 20:14:41 | Perplexity                    1.04374\n",
            "2019-02-16 20:14:41 | PolicyExecTime                0.158785\n",
            "2019-02-16 20:14:41 | ProcessExecTime               0.0363836\n",
            "2019-02-16 20:14:41 | StdReturn                     0.864288\n",
            "2019-02-16 20:14:41 | Time                         36.7259\n",
            "2019-02-16 20:14:41 | policy/Entropy                0.481981\n",
            "2019-02-16 20:14:41 | policy/KL                     0.00561692\n",
            "2019-02-16 20:14:41 | policy/KLBefore               0\n",
            "2019-02-16 20:14:41 | policy/LossAfter             -0.0120613\n",
            "2019-02-16 20:14:41 | policy/LossBefore            -9.87053e-08\n",
            "2019-02-16 20:14:41 | policy/dLoss                  0.0120612\n",
            "2019-02-16 20:14:41 | --------------------------  -------------\n",
            "2019-02-16 20:14:41 | itr #44 | Obtaining samples...\n",
            "2019-02-16 20:14:41 | itr #44 | Obtaining samples for iteration 44...\n"
          ],
          "name": "stdout"
        },
        {
          "output_type": "stream",
          "text": [
            "0% [##############################] 100% | ETA: 00:00:00"
          ],
          "name": "stderr"
        },
        {
          "output_type": "stream",
          "text": [
            "2019-02-16 20:14:41 | itr #44 | Processing samples...\n"
          ],
          "name": "stdout"
        },
        {
          "output_type": "stream",
          "text": [
            "\n",
            "Total time elapsed: 00:00:00\n"
          ],
          "name": "stderr"
        },
        {
          "output_type": "stream",
          "text": [
            "2019-02-16 20:14:41 | itr #44 | Logging diagnostics...\n",
            "2019-02-16 20:14:41 | itr #44 | Optimizing policy...\n",
            "2019-02-16 20:14:41 | itr #44 | Computing loss before\n",
            "2019-02-16 20:14:41 | itr #44 | Computing KL before\n",
            "2019-02-16 20:14:41 | itr #44 | Optimizing\n",
            "2019-02-16 20:14:41 | itr #44 | Start CG optimization: #parameters: 1476, #inputs: 800, #subsample_inputs: 800\n",
            "2019-02-16 20:14:41 | itr #44 | computing loss before\n",
            "2019-02-16 20:14:41 | itr #44 | performing update\n",
            "2019-02-16 20:14:41 | itr #44 | computing gradient\n",
            "2019-02-16 20:14:41 | itr #44 | gradient computed\n",
            "2019-02-16 20:14:41 | itr #44 | computing descent direction\n",
            "2019-02-16 20:14:41 | itr #44 | descent direction computed\n",
            "2019-02-16 20:14:41 | itr #44 | backtrack iters: 2\n",
            "2019-02-16 20:14:41 | itr #44 | computing loss after\n",
            "2019-02-16 20:14:41 | itr #44 | optimization finished\n",
            "2019-02-16 20:14:41 | itr #44 | Computing KL after\n",
            "2019-02-16 20:14:41 | itr #44 | Computing loss after\n",
            "2019-02-16 20:14:41 | itr #44 | Fitting baseline...\n",
            "2019-02-16 20:14:41 | itr #44 | Saving snapshot...\n",
            "2019-02-16 20:14:41 | itr #44 | Saved\n",
            "2019-02-16 20:14:41 | --------------------------  -------------\n",
            "2019-02-16 20:14:41 | AverageDiscountedReturn       6.42825\n",
            "2019-02-16 20:14:41 | AverageReturn                 6.535\n",
            "2019-02-16 20:14:41 | Baseline/ExplainedVariance    1\n",
            "2019-02-16 20:14:41 | Entropy                       0.0498182\n",
            "2019-02-16 20:14:41 | EnvExecTime                   0.170805\n",
            "2019-02-16 20:14:41 | Iteration                    44\n",
            "2019-02-16 20:14:41 | ItrTime                       0.733639\n",
            "2019-02-16 20:14:41 | MaxReturn                     8\n",
            "2019-02-16 20:14:41 | MinReturn                     5\n",
            "2019-02-16 20:14:41 | NumTrajs                    800\n",
            "2019-02-16 20:14:41 | Perplexity                    1.05108\n",
            "2019-02-16 20:14:41 | PolicyExecTime                0.170944\n",
            "2019-02-16 20:14:41 | ProcessExecTime               0.0335855\n",
            "2019-02-16 20:14:41 | StdReturn                     0.855146\n",
            "2019-02-16 20:14:41 | Time                         37.4989\n",
            "2019-02-16 20:14:41 | policy/Entropy                0.477978\n",
            "2019-02-16 20:14:41 | policy/KL                     0.00963941\n",
            "2019-02-16 20:14:41 | policy/KLBefore               0\n",
            "2019-02-16 20:14:41 | policy/LossAfter             -0.00340596\n",
            "2019-02-16 20:14:41 | policy/LossBefore            -8.09431e-08\n",
            "2019-02-16 20:14:41 | policy/dLoss                  0.00340588\n",
            "2019-02-16 20:14:41 | --------------------------  -------------\n",
            "2019-02-16 20:14:41 | itr #45 | Obtaining samples...\n",
            "2019-02-16 20:14:41 | itr #45 | Obtaining samples for iteration 45...\n"
          ],
          "name": "stdout"
        },
        {
          "output_type": "stream",
          "text": [
            "0% [##############################] 100% | ETA: 00:00:00"
          ],
          "name": "stderr"
        },
        {
          "output_type": "stream",
          "text": [
            "2019-02-16 20:14:42 | itr #45 | Processing samples...\n"
          ],
          "name": "stdout"
        },
        {
          "output_type": "stream",
          "text": [
            "\n",
            "Total time elapsed: 00:00:00\n"
          ],
          "name": "stderr"
        },
        {
          "output_type": "stream",
          "text": [
            "2019-02-16 20:14:42 | itr #45 | Logging diagnostics...\n",
            "2019-02-16 20:14:42 | itr #45 | Optimizing policy...\n",
            "2019-02-16 20:14:42 | itr #45 | Computing loss before\n",
            "2019-02-16 20:14:42 | itr #45 | Computing KL before\n",
            "2019-02-16 20:14:42 | itr #45 | Optimizing\n",
            "2019-02-16 20:14:42 | itr #45 | Start CG optimization: #parameters: 1476, #inputs: 800, #subsample_inputs: 800\n",
            "2019-02-16 20:14:42 | itr #45 | computing loss before\n",
            "2019-02-16 20:14:42 | itr #45 | performing update\n",
            "2019-02-16 20:14:42 | itr #45 | computing gradient\n",
            "2019-02-16 20:14:42 | itr #45 | gradient computed\n",
            "2019-02-16 20:14:42 | itr #45 | computing descent direction\n",
            "2019-02-16 20:14:42 | itr #45 | descent direction computed\n",
            "2019-02-16 20:14:42 | itr #45 | backtrack iters: 1\n",
            "2019-02-16 20:14:42 | itr #45 | computing loss after\n",
            "2019-02-16 20:14:42 | itr #45 | optimization finished\n",
            "2019-02-16 20:14:42 | itr #45 | Computing KL after\n",
            "2019-02-16 20:14:42 | itr #45 | Computing loss after\n",
            "2019-02-16 20:14:42 | itr #45 | Fitting baseline...\n",
            "2019-02-16 20:14:42 | itr #45 | Saving snapshot...\n",
            "2019-02-16 20:14:42 | itr #45 | Saved\n",
            "2019-02-16 20:14:42 | --------------------------  -------------\n",
            "2019-02-16 20:14:42 | AverageDiscountedReturn       6.4468\n",
            "2019-02-16 20:14:42 | AverageReturn                 6.55375\n",
            "2019-02-16 20:14:42 | Baseline/ExplainedVariance    1\n",
            "2019-02-16 20:14:42 | Entropy                       0.0724608\n",
            "2019-02-16 20:14:42 | EnvExecTime                   0.166207\n",
            "2019-02-16 20:14:42 | Iteration                    45\n",
            "2019-02-16 20:14:42 | ItrTime                       0.736369\n",
            "2019-02-16 20:14:42 | MaxReturn                     8\n",
            "2019-02-16 20:14:42 | MinReturn                     5\n",
            "2019-02-16 20:14:42 | NumTrajs                    800\n",
            "2019-02-16 20:14:42 | Perplexity                    1.07515\n",
            "2019-02-16 20:14:42 | PolicyExecTime                0.165813\n",
            "2019-02-16 20:14:42 | ProcessExecTime               0.0346007\n",
            "2019-02-16 20:14:42 | StdReturn                     0.855635\n",
            "2019-02-16 20:14:42 | Time                         38.2614\n",
            "2019-02-16 20:14:42 | policy/Entropy                0.473387\n",
            "2019-02-16 20:14:42 | policy/KL                     0.00669772\n",
            "2019-02-16 20:14:42 | policy/KLBefore               0\n",
            "2019-02-16 20:14:42 | policy/LossAfter             -0.0010214\n",
            "2019-02-16 20:14:42 | policy/LossBefore            -1.43051e-09\n",
            "2019-02-16 20:14:42 | policy/dLoss                  0.0010214\n",
            "2019-02-16 20:14:42 | --------------------------  -------------\n",
            "2019-02-16 20:14:42 | itr #46 | Obtaining samples...\n",
            "2019-02-16 20:14:42 | itr #46 | Obtaining samples for iteration 46...\n"
          ],
          "name": "stdout"
        },
        {
          "output_type": "stream",
          "text": [
            "0% [##############################] 100% | ETA: 00:00:00"
          ],
          "name": "stderr"
        },
        {
          "output_type": "stream",
          "text": [
            "2019-02-16 20:14:43 | itr #46 | Processing samples...\n"
          ],
          "name": "stdout"
        },
        {
          "output_type": "stream",
          "text": [
            "\n",
            "Total time elapsed: 00:00:00\n"
          ],
          "name": "stderr"
        },
        {
          "output_type": "stream",
          "text": [
            "2019-02-16 20:14:43 | itr #46 | Logging diagnostics...\n",
            "2019-02-16 20:14:43 | itr #46 | Optimizing policy...\n",
            "2019-02-16 20:14:43 | itr #46 | Computing loss before\n",
            "2019-02-16 20:14:43 | itr #46 | Computing KL before\n",
            "2019-02-16 20:14:43 | itr #46 | Optimizing\n",
            "2019-02-16 20:14:43 | itr #46 | Start CG optimization: #parameters: 1476, #inputs: 800, #subsample_inputs: 800\n",
            "2019-02-16 20:14:43 | itr #46 | computing loss before\n",
            "2019-02-16 20:14:43 | itr #46 | performing update\n",
            "2019-02-16 20:14:43 | itr #46 | computing gradient\n",
            "2019-02-16 20:14:43 | itr #46 | gradient computed\n",
            "2019-02-16 20:14:43 | itr #46 | computing descent direction\n",
            "2019-02-16 20:14:43 | itr #46 | descent direction computed\n",
            "2019-02-16 20:14:43 | itr #46 | backtrack iters: 0\n",
            "2019-02-16 20:14:43 | itr #46 | computing loss after\n",
            "2019-02-16 20:14:43 | itr #46 | optimization finished\n",
            "2019-02-16 20:14:43 | itr #46 | Computing KL after\n",
            "2019-02-16 20:14:43 | itr #46 | Computing loss after\n",
            "2019-02-16 20:14:43 | itr #46 | Fitting baseline...\n",
            "2019-02-16 20:14:43 | itr #46 | Saving snapshot...\n",
            "2019-02-16 20:14:43 | itr #46 | Saved\n",
            "2019-02-16 20:14:43 | --------------------------  -------------\n",
            "2019-02-16 20:14:43 | AverageDiscountedReturn       6.38381\n",
            "2019-02-16 20:14:43 | AverageReturn                 6.49\n",
            "2019-02-16 20:14:43 | Baseline/ExplainedVariance    1\n",
            "2019-02-16 20:14:43 | Entropy                       0.0672079\n",
            "2019-02-16 20:14:43 | EnvExecTime                   0.153571\n",
            "2019-02-16 20:14:43 | Iteration                    46\n",
            "2019-02-16 20:14:43 | ItrTime                       0.682765\n",
            "2019-02-16 20:14:43 | MaxReturn                     8\n",
            "2019-02-16 20:14:43 | MinReturn                     5\n",
            "2019-02-16 20:14:43 | NumTrajs                    800\n",
            "2019-02-16 20:14:43 | Perplexity                    1.06952\n",
            "2019-02-16 20:14:43 | PolicyExecTime                0.168042\n",
            "2019-02-16 20:14:43 | ProcessExecTime               0.0322981\n",
            "2019-02-16 20:14:43 | StdReturn                     0.842556\n",
            "2019-02-16 20:14:43 | Time                         38.9843\n",
            "2019-02-16 20:14:43 | policy/Entropy                0.474491\n",
            "2019-02-16 20:14:43 | policy/KL                     0.00901492\n",
            "2019-02-16 20:14:43 | policy/KLBefore               0\n",
            "2019-02-16 20:14:43 | policy/LossAfter             -0.00428405\n",
            "2019-02-16 20:14:43 | policy/LossBefore             4.94719e-09\n",
            "2019-02-16 20:14:43 | policy/dLoss                  0.00428405\n",
            "2019-02-16 20:14:43 | --------------------------  -------------\n",
            "2019-02-16 20:14:43 | itr #47 | Obtaining samples...\n",
            "2019-02-16 20:14:43 | itr #47 | Obtaining samples for iteration 47...\n"
          ],
          "name": "stdout"
        },
        {
          "output_type": "stream",
          "text": [
            "0% [##############################] 100% | ETA: 00:00:00"
          ],
          "name": "stderr"
        },
        {
          "output_type": "stream",
          "text": [
            "2019-02-16 20:14:43 | itr #47 | Processing samples...\n"
          ],
          "name": "stdout"
        },
        {
          "output_type": "stream",
          "text": [
            "\n",
            "Total time elapsed: 00:00:00\n"
          ],
          "name": "stderr"
        },
        {
          "output_type": "stream",
          "text": [
            "2019-02-16 20:14:43 | itr #47 | Logging diagnostics...\n",
            "2019-02-16 20:14:43 | itr #47 | Optimizing policy...\n",
            "2019-02-16 20:14:43 | itr #47 | Computing loss before\n",
            "2019-02-16 20:14:43 | itr #47 | Computing KL before\n",
            "2019-02-16 20:14:43 | itr #47 | Optimizing\n",
            "2019-02-16 20:14:43 | itr #47 | Start CG optimization: #parameters: 1476, #inputs: 800, #subsample_inputs: 800\n",
            "2019-02-16 20:14:43 | itr #47 | computing loss before\n",
            "2019-02-16 20:14:43 | itr #47 | performing update\n",
            "2019-02-16 20:14:43 | itr #47 | computing gradient\n",
            "2019-02-16 20:14:43 | itr #47 | gradient computed\n",
            "2019-02-16 20:14:43 | itr #47 | computing descent direction\n",
            "2019-02-16 20:14:43 | itr #47 | descent direction computed\n",
            "2019-02-16 20:14:44 | itr #47 | backtrack iters: 0\n",
            "2019-02-16 20:14:44 | itr #47 | computing loss after\n",
            "2019-02-16 20:14:44 | itr #47 | optimization finished\n",
            "2019-02-16 20:14:44 | itr #47 | Computing KL after\n",
            "2019-02-16 20:14:44 | itr #47 | Computing loss after\n",
            "2019-02-16 20:14:44 | itr #47 | Fitting baseline...\n",
            "2019-02-16 20:14:44 | itr #47 | Saving snapshot...\n",
            "2019-02-16 20:14:44 | itr #47 | Saved\n",
            "2019-02-16 20:14:44 | --------------------------  -------------\n",
            "2019-02-16 20:14:44 | AverageDiscountedReturn       6.41085\n",
            "2019-02-16 20:14:44 | AverageReturn                 6.5175\n",
            "2019-02-16 20:14:44 | Baseline/ExplainedVariance    1\n",
            "2019-02-16 20:14:44 | Entropy                       0.0648774\n",
            "2019-02-16 20:14:44 | EnvExecTime                   0.158027\n",
            "2019-02-16 20:14:44 | Iteration                    47\n",
            "2019-02-16 20:14:44 | ItrTime                       0.674638\n",
            "2019-02-16 20:14:44 | MaxReturn                     8\n",
            "2019-02-16 20:14:44 | MinReturn                     5\n",
            "2019-02-16 20:14:44 | NumTrajs                    800\n",
            "2019-02-16 20:14:44 | Perplexity                    1.06703\n",
            "2019-02-16 20:14:44 | PolicyExecTime                0.161835\n",
            "2019-02-16 20:14:44 | ProcessExecTime               0.0332375\n",
            "2019-02-16 20:14:44 | StdReturn                     0.864404\n",
            "2019-02-16 20:14:44 | Time                         39.711\n",
            "2019-02-16 20:14:44 | policy/Entropy                0.476562\n",
            "2019-02-16 20:14:44 | policy/KL                     0.00913494\n",
            "2019-02-16 20:14:44 | policy/KLBefore               0\n",
            "2019-02-16 20:14:44 | policy/LossAfter             -0.00144165\n",
            "2019-02-16 20:14:44 | policy/LossBefore             1.57952e-08\n",
            "2019-02-16 20:14:44 | policy/dLoss                  0.00144167\n",
            "2019-02-16 20:14:44 | --------------------------  -------------\n",
            "2019-02-16 20:14:44 | itr #48 | Obtaining samples...\n",
            "2019-02-16 20:14:44 | itr #48 | Obtaining samples for iteration 48...\n"
          ],
          "name": "stdout"
        },
        {
          "output_type": "stream",
          "text": [
            "0% [##############################] 100% | ETA: 00:00:00"
          ],
          "name": "stderr"
        },
        {
          "output_type": "stream",
          "text": [
            "2019-02-16 20:14:44 | itr #48 | Processing samples...\n"
          ],
          "name": "stdout"
        },
        {
          "output_type": "stream",
          "text": [
            "\n",
            "Total time elapsed: 00:00:00\n"
          ],
          "name": "stderr"
        },
        {
          "output_type": "stream",
          "text": [
            "2019-02-16 20:14:44 | itr #48 | Logging diagnostics...\n",
            "2019-02-16 20:14:44 | itr #48 | Optimizing policy...\n",
            "2019-02-16 20:14:44 | itr #48 | Computing loss before\n",
            "2019-02-16 20:14:44 | itr #48 | Computing KL before\n",
            "2019-02-16 20:14:44 | itr #48 | Optimizing\n",
            "2019-02-16 20:14:44 | itr #48 | Start CG optimization: #parameters: 1476, #inputs: 800, #subsample_inputs: 800\n",
            "2019-02-16 20:14:44 | itr #48 | computing loss before\n",
            "2019-02-16 20:14:44 | itr #48 | performing update\n",
            "2019-02-16 20:14:44 | itr #48 | computing gradient\n",
            "2019-02-16 20:14:44 | itr #48 | gradient computed\n",
            "2019-02-16 20:14:44 | itr #48 | computing descent direction\n",
            "2019-02-16 20:14:44 | itr #48 | descent direction computed\n",
            "2019-02-16 20:14:44 | itr #48 | backtrack iters: 1\n",
            "2019-02-16 20:14:44 | itr #48 | computing loss after\n",
            "2019-02-16 20:14:44 | itr #48 | optimization finished\n",
            "2019-02-16 20:14:44 | itr #48 | Computing KL after\n",
            "2019-02-16 20:14:44 | itr #48 | Computing loss after\n",
            "2019-02-16 20:14:44 | itr #48 | Fitting baseline...\n",
            "2019-02-16 20:14:44 | itr #48 | Saving snapshot...\n",
            "2019-02-16 20:14:44 | itr #48 | Saved\n",
            "2019-02-16 20:14:44 | --------------------------  -------------\n",
            "2019-02-16 20:14:44 | AverageDiscountedReturn       6.40092\n",
            "2019-02-16 20:14:44 | AverageReturn                 6.5075\n",
            "2019-02-16 20:14:44 | Baseline/ExplainedVariance    1\n",
            "2019-02-16 20:14:44 | Entropy                       0.0538024\n",
            "2019-02-16 20:14:44 | EnvExecTime                   0.150939\n",
            "2019-02-16 20:14:44 | Iteration                    48\n",
            "2019-02-16 20:14:44 | ItrTime                       0.674123\n",
            "2019-02-16 20:14:44 | MaxReturn                     8\n",
            "2019-02-16 20:14:44 | MinReturn                     5\n",
            "2019-02-16 20:14:44 | NumTrajs                    800\n",
            "2019-02-16 20:14:44 | Perplexity                    1.05528\n",
            "2019-02-16 20:14:44 | PolicyExecTime                0.161921\n",
            "2019-02-16 20:14:44 | ProcessExecTime               0.033381\n",
            "2019-02-16 20:14:44 | StdReturn                     0.867435\n",
            "2019-02-16 20:14:44 | Time                         40.4136\n",
            "2019-02-16 20:14:44 | policy/Entropy                0.479328\n",
            "2019-02-16 20:14:44 | policy/KL                     0.0082652\n",
            "2019-02-16 20:14:44 | policy/KLBefore               0\n",
            "2019-02-16 20:14:44 | policy/LossAfter             -0.00354108\n",
            "2019-02-16 20:14:44 | policy/LossBefore            -4.31538e-08\n",
            "2019-02-16 20:14:44 | policy/dLoss                  0.00354103\n",
            "2019-02-16 20:14:44 | --------------------------  -------------\n",
            "2019-02-16 20:14:44 | itr #49 | Obtaining samples...\n",
            "2019-02-16 20:14:44 | itr #49 | Obtaining samples for iteration 49...\n"
          ],
          "name": "stdout"
        },
        {
          "output_type": "stream",
          "text": [
            "0% [##############################] 100% | ETA: 00:00:00"
          ],
          "name": "stderr"
        },
        {
          "output_type": "stream",
          "text": [
            "2019-02-16 20:14:45 | itr #49 | Processing samples...\n"
          ],
          "name": "stdout"
        },
        {
          "output_type": "stream",
          "text": [
            "\n",
            "Total time elapsed: 00:00:00\n"
          ],
          "name": "stderr"
        },
        {
          "output_type": "stream",
          "text": [
            "2019-02-16 20:14:45 | itr #49 | Logging diagnostics...\n",
            "2019-02-16 20:14:45 | itr #49 | Optimizing policy...\n",
            "2019-02-16 20:14:45 | itr #49 | Computing loss before\n",
            "2019-02-16 20:14:45 | itr #49 | Computing KL before\n",
            "2019-02-16 20:14:45 | itr #49 | Optimizing\n",
            "2019-02-16 20:14:45 | itr #49 | Start CG optimization: #parameters: 1476, #inputs: 800, #subsample_inputs: 800\n",
            "2019-02-16 20:14:45 | itr #49 | computing loss before\n",
            "2019-02-16 20:14:45 | itr #49 | performing update\n",
            "2019-02-16 20:14:45 | itr #49 | computing gradient\n",
            "2019-02-16 20:14:45 | itr #49 | gradient computed\n",
            "2019-02-16 20:14:45 | itr #49 | computing descent direction\n",
            "2019-02-16 20:14:45 | itr #49 | descent direction computed\n",
            "2019-02-16 20:14:45 | itr #49 | backtrack iters: 0\n",
            "2019-02-16 20:14:45 | itr #49 | computing loss after\n",
            "2019-02-16 20:14:45 | itr #49 | optimization finished\n",
            "2019-02-16 20:14:45 | itr #49 | Computing KL after\n",
            "2019-02-16 20:14:45 | itr #49 | Computing loss after\n",
            "2019-02-16 20:14:45 | itr #49 | Fitting baseline...\n",
            "2019-02-16 20:14:45 | itr #49 | Saving snapshot...\n",
            "2019-02-16 20:14:45 | itr #49 | Saved\n",
            "2019-02-16 20:14:45 | --------------------------  -------------\n",
            "2019-02-16 20:14:45 | AverageDiscountedReturn       6.38597\n",
            "2019-02-16 20:14:45 | AverageReturn                 6.4925\n",
            "2019-02-16 20:14:45 | Baseline/ExplainedVariance    1\n",
            "2019-02-16 20:14:45 | Entropy                       0.0552957\n",
            "2019-02-16 20:14:45 | EnvExecTime                   0.165199\n",
            "2019-02-16 20:14:45 | Iteration                    49\n",
            "2019-02-16 20:14:45 | ItrTime                       0.70867\n",
            "2019-02-16 20:14:45 | MaxReturn                     8\n",
            "2019-02-16 20:14:45 | MinReturn                     5\n",
            "2019-02-16 20:14:45 | NumTrajs                    800\n",
            "2019-02-16 20:14:45 | Perplexity                    1.05685\n",
            "2019-02-16 20:14:45 | PolicyExecTime                0.173781\n",
            "2019-02-16 20:14:45 | ProcessExecTime               0.0484912\n",
            "2019-02-16 20:14:45 | StdReturn                     0.878888\n",
            "2019-02-16 20:14:45 | Time                         41.1416\n",
            "2019-02-16 20:14:45 | policy/Entropy                0.480949\n",
            "2019-02-16 20:14:45 | policy/KL                     0.00495027\n",
            "2019-02-16 20:14:45 | policy/KLBefore               0\n",
            "2019-02-16 20:14:45 | policy/LossAfter             -0.00130793\n",
            "2019-02-16 20:14:45 | policy/LossBefore            -2.90871e-08\n",
            "2019-02-16 20:14:45 | policy/dLoss                  0.0013079\n",
            "2019-02-16 20:14:45 | --------------------------  -------------\n"
          ],
          "name": "stdout"
        },
        {
          "output_type": "execute_result",
          "data": {
            "text/plain": [
              "6.4925"
            ]
          },
          "metadata": {
            "tags": []
          },
          "execution_count": 11
        }
      ]
    },
    {
      "metadata": {
        "id": "X07F8BVO7cOq",
        "colab_type": "code",
        "colab": {}
      },
      "cell_type": "code",
      "source": [
        "# list of water elements\n",
        "wq_elements = [\"turbidity\", \"hardness\", \"bacteria\"]"
      ],
      "execution_count": 0,
      "outputs": []
    },
    {
      "metadata": {
        "id": "zEXyy1NhiCOB",
        "colab_type": "code",
        "outputId": "6a5c577c-b821-49c8-909a-2dd3c60f4942",
        "colab": {
          "base_uri": "https://localhost:8080/",
          "height": 153
        }
      },
      "cell_type": "code",
      "source": [
        "# utility function for experiments below\n",
        "def wqi_to_watersample(wqi):\n",
        "  # https://stackoverflow.com/a/699891\n",
        "  #x = \"{0:b}\".format(wqi)\n",
        "  x = format(wqi, '03b')\n",
        "  x = list(x)\n",
        "  x = x[::-1] # reverse FIXME!?\n",
        "  #print(x)\n",
        "  x = [bool(int(y)) for y in x]\n",
        "  x = dict(zip(wq_elements,x))\n",
        "  return x\n",
        "\n",
        "# test\n",
        "for i in range(8):\n",
        "  print(i, wqi_to_watersample(i))\n"
      ],
      "execution_count": 13,
      "outputs": [
        {
          "output_type": "stream",
          "text": [
            "0 {'turbidity': False, 'hardness': False, 'bacteria': False}\n",
            "1 {'turbidity': True, 'hardness': False, 'bacteria': False}\n",
            "2 {'turbidity': False, 'hardness': True, 'bacteria': False}\n",
            "3 {'turbidity': True, 'hardness': True, 'bacteria': False}\n",
            "4 {'turbidity': False, 'hardness': False, 'bacteria': True}\n",
            "5 {'turbidity': True, 'hardness': False, 'bacteria': True}\n",
            "6 {'turbidity': False, 'hardness': True, 'bacteria': True}\n",
            "7 {'turbidity': True, 'hardness': True, 'bacteria': True}\n"
          ],
          "name": "stdout"
        }
      ]
    },
    {
      "metadata": {
        "id": "5M61vZ-LFRUs",
        "colab_type": "code",
        "outputId": "8824bbb5-ff42-404e-9254-617b0b0d27d0",
        "colab": {
          "base_uri": "https://localhost:8080/",
          "height": 190
        }
      },
      "cell_type": "code",
      "source": [
        "# Utility function for experiments below\n",
        "\n",
        "# convert to dicts for readability\n",
        "#wtp_elements = [None, \"turbidity\", \"hardness\", \"bacteria\"]\n",
        "# rename the elements for readability\n",
        "wtp_elements = [\"pipe\", \"sand filter\", \"softener\", \"UV\"]\n",
        "\n",
        "import pandas as pd\n",
        "\n",
        "def convert_results_to_df(obs_all, act_all, out_all, rew_all):\n",
        "    df = []\n",
        "    for i in range(len(obs_all)):\n",
        "      in_i = wqi_to_watersample(obs_all[i])\n",
        "      wtp_i = [wtp_elements[x] for x in act_all[i]]\n",
        "      out_i = wqi_to_watersample(out_all[i])\n",
        "      df.append({\n",
        "          \"in_turbidity\": in_i[\"turbidity\"],\n",
        "          \"in_hardness\": in_i[\"hardness\"],\n",
        "          \"in_bacteria\": in_i[\"bacteria\"],\n",
        "          \"wtp/1\": wtp_i[0],\n",
        "          \"wtp/2\": wtp_i[1],\n",
        "          \"wtp/3\": wtp_i[2],\n",
        "          \"wtp/4\": wtp_i[3],\n",
        "          \"wtp/5\": wtp_i[4],\n",
        "          \"out_turbidity\": out_i[\"turbidity\"],\n",
        "          \"out_hardness\": out_i[\"hardness\"],\n",
        "          \"out_bacteria\": out_i[\"bacteria\"],\n",
        "          \"reward\": rew_all[i],\n",
        "      })\n",
        "\n",
        "    # gather results in pandas dataframe for simplicity of viewing\n",
        "    df = pd.DataFrame(df)\n",
        "    df = df[[\n",
        "          \"in_turbidity\",\n",
        "          \"in_hardness\",\n",
        "          \"in_bacteria\",\n",
        "          \"wtp/1\",\n",
        "          \"wtp/2\",\n",
        "          \"wtp/3\",\n",
        "          \"wtp/4\",\n",
        "          \"wtp/5\",\n",
        "          \"out_turbidity\",\n",
        "          \"out_hardness\",\n",
        "          \"out_bacteria\",\n",
        "          \"reward\",\n",
        "    ]]\n",
        "\n",
        "    df = df.sort_values([\"in_turbidity\", \"in_hardness\", \"in_bacteria\", \"reward\"]).set_index([\"in_turbidity\", \"in_hardness\", \"in_bacteria\"])\n",
        "    \n",
        "    return df\n",
        "\n",
        "# test\n",
        "print(\"TESTING\")\n",
        "convert_results_to_df([0,1,2], [ [0,1,2,0,0], [0,1,2,0,0], [0,1,2,0,0]], [0,1,2], [0,0,0])"
      ],
      "execution_count": 14,
      "outputs": [
        {
          "output_type": "stream",
          "text": [
            "TESTING\n"
          ],
          "name": "stdout"
        },
        {
          "output_type": "execute_result",
          "data": {
            "text/html": [
              "<div>\n",
              "<style scoped>\n",
              "    .dataframe tbody tr th:only-of-type {\n",
              "        vertical-align: middle;\n",
              "    }\n",
              "\n",
              "    .dataframe tbody tr th {\n",
              "        vertical-align: top;\n",
              "    }\n",
              "\n",
              "    .dataframe thead th {\n",
              "        text-align: right;\n",
              "    }\n",
              "</style>\n",
              "<table border=\"1\" class=\"dataframe\">\n",
              "  <thead>\n",
              "    <tr style=\"text-align: right;\">\n",
              "      <th></th>\n",
              "      <th></th>\n",
              "      <th></th>\n",
              "      <th>wtp/1</th>\n",
              "      <th>wtp/2</th>\n",
              "      <th>wtp/3</th>\n",
              "      <th>wtp/4</th>\n",
              "      <th>wtp/5</th>\n",
              "      <th>out_turbidity</th>\n",
              "      <th>out_hardness</th>\n",
              "      <th>out_bacteria</th>\n",
              "      <th>reward</th>\n",
              "    </tr>\n",
              "    <tr>\n",
              "      <th>in_turbidity</th>\n",
              "      <th>in_hardness</th>\n",
              "      <th>in_bacteria</th>\n",
              "      <th></th>\n",
              "      <th></th>\n",
              "      <th></th>\n",
              "      <th></th>\n",
              "      <th></th>\n",
              "      <th></th>\n",
              "      <th></th>\n",
              "      <th></th>\n",
              "      <th></th>\n",
              "    </tr>\n",
              "  </thead>\n",
              "  <tbody>\n",
              "    <tr>\n",
              "      <th rowspan=\"2\" valign=\"top\">False</th>\n",
              "      <th>False</th>\n",
              "      <th>False</th>\n",
              "      <td>pipe</td>\n",
              "      <td>sand filter</td>\n",
              "      <td>softener</td>\n",
              "      <td>pipe</td>\n",
              "      <td>pipe</td>\n",
              "      <td>False</td>\n",
              "      <td>False</td>\n",
              "      <td>False</td>\n",
              "      <td>0</td>\n",
              "    </tr>\n",
              "    <tr>\n",
              "      <th>True</th>\n",
              "      <th>False</th>\n",
              "      <td>pipe</td>\n",
              "      <td>sand filter</td>\n",
              "      <td>softener</td>\n",
              "      <td>pipe</td>\n",
              "      <td>pipe</td>\n",
              "      <td>False</td>\n",
              "      <td>True</td>\n",
              "      <td>False</td>\n",
              "      <td>0</td>\n",
              "    </tr>\n",
              "    <tr>\n",
              "      <th>True</th>\n",
              "      <th>False</th>\n",
              "      <th>False</th>\n",
              "      <td>pipe</td>\n",
              "      <td>sand filter</td>\n",
              "      <td>softener</td>\n",
              "      <td>pipe</td>\n",
              "      <td>pipe</td>\n",
              "      <td>True</td>\n",
              "      <td>False</td>\n",
              "      <td>False</td>\n",
              "      <td>0</td>\n",
              "    </tr>\n",
              "  </tbody>\n",
              "</table>\n",
              "</div>"
            ],
            "text/plain": [
              "                                     wtp/1        wtp/2     wtp/3 wtp/4 wtp/5  \\\n",
              "in_turbidity in_hardness in_bacteria                                            \n",
              "False        False       False        pipe  sand filter  softener  pipe  pipe   \n",
              "             True        False        pipe  sand filter  softener  pipe  pipe   \n",
              "True         False       False        pipe  sand filter  softener  pipe  pipe   \n",
              "\n",
              "                                      out_turbidity  out_hardness  \\\n",
              "in_turbidity in_hardness in_bacteria                                \n",
              "False        False       False                False         False   \n",
              "             True        False                False          True   \n",
              "True         False       False                 True         False   \n",
              "\n",
              "                                      out_bacteria  reward  \n",
              "in_turbidity in_hardness in_bacteria                        \n",
              "False        False       False               False       0  \n",
              "             True        False               False       0  \n",
              "True         False       False               False       0  "
            ]
          },
          "metadata": {
            "tags": []
          },
          "execution_count": 14
        }
      ]
    },
    {
      "metadata": {
        "id": "OGhvNWYqL4Zy",
        "colab_type": "text"
      },
      "cell_type": "markdown",
      "source": [
        "# Results: test all 8 cases for combinations of 3 parameters"
      ]
    },
    {
      "metadata": {
        "id": "COYDkWvW8zqQ",
        "colab_type": "text"
      },
      "cell_type": "markdown",
      "source": [
        "The below table shows that the trained designer proposes the correct element to treat the undesired water parameter, i.e. sand filter for turbidity, softener for hardness, UV for bacteria, or combinations thereof. It also simply installs pipes when no special treatment is further needed."
      ]
    },
    {
      "metadata": {
        "id": "LfG7tMG4LbtF",
        "colab_type": "code",
        "outputId": "6b1bab4d-58c1-437a-a6f7-5def30b833be",
        "colab": {
          "base_uri": "https://localhost:8080/",
          "height": 51
        }
      },
      "cell_type": "code",
      "source": [
        "\n",
        "n_experiments2 = 8 # len(wq_all) # 100\n",
        "obs_all2 = [None] * n_experiments2\n",
        "act_all2 = [None] * n_experiments2\n",
        "rew_all2 = [None] * n_experiments2\n",
        "out_all2 = [None] * n_experiments2\n",
        "\n",
        "print(\"start experiments\")\n",
        "for i in range(n_experiments2):\n",
        "  #print(\"experiment \", i+1)\n",
        "\n",
        "  # reset\n",
        "  s0 = wqi_to_watersample(i)\n",
        "  obs_initial = env.reset(s0 = s0)\n",
        "\n",
        "  #print(\"-\"*10)\n",
        "  #print(\"obs init\", obs_initial)\n",
        "  \n",
        "  # start\n",
        "  obs_i = obs_initial\n",
        "  act_list = []\n",
        "  rew_sum = 0\n",
        "  for j in range(5): # env.n_elements\n",
        "    #action = env.action_space.sample()\n",
        "    act_i, _ = policy.get_action(obs_i)\n",
        "    #print(\"obs_i\", obs_i, \"act i\", act_i)\n",
        "    act_list.append(act_i)\n",
        "    obs_i, rew_i, done, _ = env.step(act_i)\n",
        "    rew_sum += rew_i\n",
        "    \n",
        "    if done: break\n",
        "    \n",
        "  obs_all2[i] = obs_initial\n",
        "  out_all2[i] = obs_i\n",
        "  act_all2[i] = act_list\n",
        "  rew_all2[i] = rew_sum\n",
        "\n",
        "#env.close()\n",
        "\n",
        "print(\"done\")"
      ],
      "execution_count": 25,
      "outputs": [
        {
          "output_type": "stream",
          "text": [
            "start experiments\n",
            "done\n"
          ],
          "name": "stdout"
        }
      ]
    },
    {
      "metadata": {
        "id": "nN7TQHlGMCZq",
        "colab_type": "code",
        "colab": {}
      },
      "cell_type": "code",
      "source": [
        "df_deterministic = convert_results_to_df(obs_all2, act_all2, out_all2, rew_all2)"
      ],
      "execution_count": 0,
      "outputs": []
    },
    {
      "metadata": {
        "id": "PrleJiJfMEoF",
        "colab_type": "code",
        "outputId": "2ea31ccd-e84f-4fd8-c679-269438185946",
        "colab": {
          "base_uri": "https://localhost:8080/",
          "height": 328
        }
      },
      "cell_type": "code",
      "source": [
        "df_deterministic"
      ],
      "execution_count": 27,
      "outputs": [
        {
          "output_type": "execute_result",
          "data": {
            "text/html": [
              "<div>\n",
              "<style scoped>\n",
              "    .dataframe tbody tr th:only-of-type {\n",
              "        vertical-align: middle;\n",
              "    }\n",
              "\n",
              "    .dataframe tbody tr th {\n",
              "        vertical-align: top;\n",
              "    }\n",
              "\n",
              "    .dataframe thead th {\n",
              "        text-align: right;\n",
              "    }\n",
              "</style>\n",
              "<table border=\"1\" class=\"dataframe\">\n",
              "  <thead>\n",
              "    <tr style=\"text-align: right;\">\n",
              "      <th></th>\n",
              "      <th></th>\n",
              "      <th></th>\n",
              "      <th>wtp/1</th>\n",
              "      <th>wtp/2</th>\n",
              "      <th>wtp/3</th>\n",
              "      <th>wtp/4</th>\n",
              "      <th>wtp/5</th>\n",
              "      <th>out_turbidity</th>\n",
              "      <th>out_hardness</th>\n",
              "      <th>out_bacteria</th>\n",
              "      <th>reward</th>\n",
              "    </tr>\n",
              "    <tr>\n",
              "      <th>in_turbidity</th>\n",
              "      <th>in_hardness</th>\n",
              "      <th>in_bacteria</th>\n",
              "      <th></th>\n",
              "      <th></th>\n",
              "      <th></th>\n",
              "      <th></th>\n",
              "      <th></th>\n",
              "      <th></th>\n",
              "      <th></th>\n",
              "      <th></th>\n",
              "      <th></th>\n",
              "    </tr>\n",
              "  </thead>\n",
              "  <tbody>\n",
              "    <tr>\n",
              "      <th rowspan=\"4\" valign=\"top\">False</th>\n",
              "      <th rowspan=\"2\" valign=\"top\">False</th>\n",
              "      <th>False</th>\n",
              "      <td>pipe</td>\n",
              "      <td>pipe</td>\n",
              "      <td>pipe</td>\n",
              "      <td>pipe</td>\n",
              "      <td>pipe</td>\n",
              "      <td>False</td>\n",
              "      <td>False</td>\n",
              "      <td>False</td>\n",
              "      <td>5.0</td>\n",
              "    </tr>\n",
              "    <tr>\n",
              "      <th>True</th>\n",
              "      <td>UV</td>\n",
              "      <td>pipe</td>\n",
              "      <td>pipe</td>\n",
              "      <td>pipe</td>\n",
              "      <td>pipe</td>\n",
              "      <td>False</td>\n",
              "      <td>False</td>\n",
              "      <td>False</td>\n",
              "      <td>6.0</td>\n",
              "    </tr>\n",
              "    <tr>\n",
              "      <th rowspan=\"2\" valign=\"top\">True</th>\n",
              "      <th>False</th>\n",
              "      <td>softener</td>\n",
              "      <td>pipe</td>\n",
              "      <td>pipe</td>\n",
              "      <td>pipe</td>\n",
              "      <td>pipe</td>\n",
              "      <td>False</td>\n",
              "      <td>False</td>\n",
              "      <td>False</td>\n",
              "      <td>6.0</td>\n",
              "    </tr>\n",
              "    <tr>\n",
              "      <th>True</th>\n",
              "      <td>softener</td>\n",
              "      <td>UV</td>\n",
              "      <td>pipe</td>\n",
              "      <td>pipe</td>\n",
              "      <td>pipe</td>\n",
              "      <td>False</td>\n",
              "      <td>False</td>\n",
              "      <td>False</td>\n",
              "      <td>7.0</td>\n",
              "    </tr>\n",
              "    <tr>\n",
              "      <th rowspan=\"4\" valign=\"top\">True</th>\n",
              "      <th rowspan=\"2\" valign=\"top\">False</th>\n",
              "      <th>False</th>\n",
              "      <td>sand filter</td>\n",
              "      <td>pipe</td>\n",
              "      <td>pipe</td>\n",
              "      <td>pipe</td>\n",
              "      <td>pipe</td>\n",
              "      <td>False</td>\n",
              "      <td>False</td>\n",
              "      <td>False</td>\n",
              "      <td>6.0</td>\n",
              "    </tr>\n",
              "    <tr>\n",
              "      <th>True</th>\n",
              "      <td>sand filter</td>\n",
              "      <td>UV</td>\n",
              "      <td>pipe</td>\n",
              "      <td>pipe</td>\n",
              "      <td>pipe</td>\n",
              "      <td>False</td>\n",
              "      <td>False</td>\n",
              "      <td>False</td>\n",
              "      <td>7.0</td>\n",
              "    </tr>\n",
              "    <tr>\n",
              "      <th rowspan=\"2\" valign=\"top\">True</th>\n",
              "      <th>False</th>\n",
              "      <td>sand filter</td>\n",
              "      <td>softener</td>\n",
              "      <td>pipe</td>\n",
              "      <td>pipe</td>\n",
              "      <td>pipe</td>\n",
              "      <td>False</td>\n",
              "      <td>False</td>\n",
              "      <td>False</td>\n",
              "      <td>7.0</td>\n",
              "    </tr>\n",
              "    <tr>\n",
              "      <th>True</th>\n",
              "      <td>UV</td>\n",
              "      <td>sand filter</td>\n",
              "      <td>softener</td>\n",
              "      <td>pipe</td>\n",
              "      <td>pipe</td>\n",
              "      <td>False</td>\n",
              "      <td>False</td>\n",
              "      <td>False</td>\n",
              "      <td>8.0</td>\n",
              "    </tr>\n",
              "  </tbody>\n",
              "</table>\n",
              "</div>"
            ],
            "text/plain": [
              "                                            wtp/1        wtp/2     wtp/3  \\\n",
              "in_turbidity in_hardness in_bacteria                                       \n",
              "False        False       False               pipe         pipe      pipe   \n",
              "                         True                  UV         pipe      pipe   \n",
              "             True        False           softener         pipe      pipe   \n",
              "                         True            softener           UV      pipe   \n",
              "True         False       False        sand filter         pipe      pipe   \n",
              "                         True         sand filter           UV      pipe   \n",
              "             True        False        sand filter     softener      pipe   \n",
              "                         True                  UV  sand filter  softener   \n",
              "\n",
              "                                     wtp/4 wtp/5  out_turbidity  out_hardness  \\\n",
              "in_turbidity in_hardness in_bacteria                                            \n",
              "False        False       False        pipe  pipe          False         False   \n",
              "                         True         pipe  pipe          False         False   \n",
              "             True        False        pipe  pipe          False         False   \n",
              "                         True         pipe  pipe          False         False   \n",
              "True         False       False        pipe  pipe          False         False   \n",
              "                         True         pipe  pipe          False         False   \n",
              "             True        False        pipe  pipe          False         False   \n",
              "                         True         pipe  pipe          False         False   \n",
              "\n",
              "                                      out_bacteria  reward  \n",
              "in_turbidity in_hardness in_bacteria                        \n",
              "False        False       False               False     5.0  \n",
              "                         True                False     6.0  \n",
              "             True        False               False     6.0  \n",
              "                         True                False     7.0  \n",
              "True         False       False               False     6.0  \n",
              "                         True                False     7.0  \n",
              "             True        False               False     7.0  \n",
              "                         True                False     8.0  "
            ]
          },
          "metadata": {
            "tags": []
          },
          "execution_count": 27
        }
      ]
    },
    {
      "metadata": {
        "id": "nbhLEvkVmQHJ",
        "colab_type": "code",
        "colab": {}
      },
      "cell_type": "code",
      "source": [
        ""
      ],
      "execution_count": 0,
      "outputs": []
    }
  ]
}