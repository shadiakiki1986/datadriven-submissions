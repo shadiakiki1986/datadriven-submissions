{
  "nbformat": 4,
  "nbformat_minor": 0,
  "metadata": {
    "colab": {
      "name": "WtpDesignerEnv_v0.ipynb",
      "version": "0.3.2",
      "provenance": [],
      "collapsed_sections": [],
      "toc_visible": true,
      "include_colab_link": true
    },
    "kernelspec": {
      "name": "python3",
      "display_name": "Python 3"
    }
  },
  "cells": [
    {
      "cell_type": "markdown",
      "metadata": {
        "id": "view-in-github",
        "colab_type": "text"
      },
      "source": [
        "<a href=\"https://colab.research.google.com/github/shadiakiki1986/ml-competitions/blob/master/other/201902-gym-wtp/WtpDesignerEnv_v0.ipynb\" target=\"_parent\"><img src=\"https://colab.research.google.com/assets/colab-badge.svg\" alt=\"Open In Colab\"/></a>"
      ]
    },
    {
      "metadata": {
        "id": "Za0nLGHy5jyP",
        "colab_type": "text"
      },
      "cell_type": "markdown",
      "source": [
        "# Water Treatment Plant designer\n",
        "\n",
        "This notebook demonstrates a simulation environment for the design of a water treatment plant as well as training an agent to design the WTP to improve the feed water quality.\n",
        "\n",
        "The simulation is then used to train a feed-forward neural network to propose a water treatment plant design based on water quality parameters.\n",
        "\n",
        "The water parameters are low/high level of: turbidity, hardness, bacteria.\n",
        "\n",
        "The allowed elements in the system are: pipe, sand filter, softener, UV.\n",
        "\n",
        "This notebook is part of [gym-wtp](https://github.com/shadiakiki1986/ml-competitions/tree/master/other/201902-gym-wtp)"
      ]
    },
    {
      "metadata": {
        "id": "MPHTGuXa5gzc",
        "colab_type": "text"
      },
      "cell_type": "markdown",
      "source": [
        "## Install pre-requisites\n",
        "\n",
        "The main requirements for this notebook are [openai/gym](https://github.com/openai/gym/) and [rlworkgroup/garage](https://github.com/rlworkgroup/garage)"
      ]
    },
    {
      "metadata": {
        "id": "NiIjx-0Rwjze",
        "colab_type": "code",
        "outputId": "43501820-1973-4084-8960-1d1b49dabf85",
        "colab": {
          "base_uri": "https://localhost:8080/",
          "height": 216
        }
      },
      "cell_type": "code",
      "source": [
        "# Install openai/gym\n",
        "!pip install gym | tail"
      ],
      "execution_count": 0,
      "outputs": [
        {
          "output_type": "stream",
          "text": [
            "Requirement already satisfied: scipy in /usr/local/lib/python3.6/dist-packages (from gym) (1.1.0)\n",
            "Requirement already satisfied: numpy>=1.10.4 in /usr/local/lib/python3.6/dist-packages (from gym) (1.14.6)\n",
            "Requirement already satisfied: requests>=2.0 in /usr/local/lib/python3.6/dist-packages (from gym) (2.18.4)\n",
            "Requirement already satisfied: six in /usr/local/lib/python3.6/dist-packages (from gym) (1.11.0)\n",
            "Requirement already satisfied: pyglet>=1.2.0 in /usr/local/lib/python3.6/dist-packages (from gym) (1.3.2)\n",
            "Requirement already satisfied: urllib3<1.23,>=1.21.1 in /usr/local/lib/python3.6/dist-packages (from requests>=2.0->gym) (1.22)\n",
            "Requirement already satisfied: chardet<3.1.0,>=3.0.2 in /usr/local/lib/python3.6/dist-packages (from requests>=2.0->gym) (3.0.4)\n",
            "Requirement already satisfied: certifi>=2017.4.17 in /usr/local/lib/python3.6/dist-packages (from requests>=2.0->gym) (2018.11.29)\n",
            "Requirement already satisfied: idna<2.7,>=2.5 in /usr/local/lib/python3.6/dist-packages (from requests>=2.0->gym) (2.6)\n",
            "Requirement already satisfied: future in /usr/local/lib/python3.6/dist-packages (from pyglet>=1.2.0->gym) (0.16.0)\n"
          ],
          "name": "stdout"
        }
      ]
    },
    {
      "metadata": {
        "id": "DspfHxVA6Pnj",
        "colab_type": "code",
        "outputId": "0b56ddbc-7254-46ea-91f4-cd59c1f1963a",
        "colab": {
          "base_uri": "https://localhost:8080/",
          "height": 807
        }
      },
      "cell_type": "code",
      "source": [
        "# Install rlworkgroup/garage\n",
        "# Copied from https://github.com/shadiakiki1986/garage/blob/shadi-example_jupyter/examples/jupyter/trpo_gym_tf_cartpole.ipynb\n",
        "\n",
        "echo \"abcd\" > mujoco_fake_key\n",
        "\n",
        "# FIXME should be udpated to \"rlworkgroup\" once PR is merged\n",
        "# https://github.com/rlworkgroup/garage/pull/476\n",
        "# git clone --depth 1 https://github.com/rlworkgroup/garage/\n",
        "git clone --branch shadi-example_jupyter --depth 1 https://github.com/shadiakiki1986/garage.git\n",
        "\n",
        "cd garage\n",
        "bash scripts/setup_colab.sh --mjkey ../mujoco_fake_key --no-modify-bashrc > /dev/null"
      ],
      "execution_count": 0,
      "outputs": [
        {
          "output_type": "stream",
          "text": [
            "Preparing to unpack .../5-libxrandr-dev_2%3a1.5.1-1_amd64.deb ...\n",
            "Unpacking libxrandr-dev:amd64 (2:1.5.1-1) ...\n",
            "Setting up libvulkan1:amd64 (1.1.82.0-0ubuntu0.18.04.1~gpu1) ...\n",
            "Setting up libvulkan-dev:amd64 (1.1.82.0-0ubuntu0.18.04.1~gpu1) ...\n",
            "Setting up libglfw3:amd64 (3.2.1-1) ...\n",
            "Processing triggers for libc-bin (2.27-3ubuntu1) ...\n",
            "Setting up x11proto-randr-dev (2018.4-4) ...\n",
            "Processing triggers for man-db (2.8.3-2ubuntu0.1) ...\n",
            "Setting up libglfw3-dev:amd64 (3.2.1-1) ...\n",
            "Setting up libxrandr-dev:amd64 (2:1.5.1-1) ...\n",
            "\u001b[31mfeaturetools 0.4.1 has requirement pandas>=0.23.0, but you'll have pandas 0.22.0 which is incompatible.\u001b[0m\n",
            "  Found existing installation: rsa 4.0\n",
            "    Uninstalling rsa-4.0:\n",
            "      Successfully uninstalled rsa-4.0\n",
            "  Found existing installation: botocore 1.12.94\n",
            "    Uninstalling botocore-1.12.94:\n",
            "      Successfully uninstalled botocore-1.12.94\n",
            "  Found existing installation: joblib 0.13.2\n",
            "    Uninstalling joblib-0.13.2:\n",
            "      Successfully uninstalled joblib-0.13.2\n",
            "Successfully installed aspy.yaml-1.1.2 awscli-1.16.106 botocore-1.12.96 box2d-py-2.3.8 cached-property-1.5.1 cfgv-1.4.0 cma-1.1.6 colorama-0.3.9 identify-1.2.2 importlib-metadata-0.8 importlib-resources-1.0.2 ipdb-0.11 joblib-0.12.5 jsonmerge-1.5.2 mako-1.0.7 memory-profiler-0.55.0 nodeenv-1.3.3 path.py-11.5.0 polling-0.3.0 pre-commit-1.14.3 pygame-1.9.4 pyprind-2.11.2 rsa-3.4.2 toml-0.10.0 virtualenv-16.4.0 zipp-0.3.3\n"
          ],
          "name": "stdout"
        },
        {
          "output_type": "display_data",
          "data": {
            "application/vnd.colab-display-data+json": {
              "pip_warning": {
                "packages": [
                  "joblib",
                  "rsa"
                ]
              }
            }
          },
          "metadata": {
            "tags": []
          }
        },
        {
          "output_type": "stream",
          "text": [
            "Requirement already satisfied: cma in /usr/local/lib/python3.6/dist-packages (1.1.6)\n",
            "Collecting glfw\n",
            "  Downloading https://files.pythonhosted.org/packages/5d/65/c6275744a01425195f1f446e022e5dfa6497aa68479a3952e434e04b2fa0/glfw-1.7.1.tar.gz\n",
            "Building wheels for collected packages: glfw\n",
            "  Building wheel for glfw (setup.py): started\n",
            "  Building wheel for glfw (setup.py): finished with status 'done'\n",
            "  Stored in directory: /root/.cache/pip/wheels/c5/53/f9/fd31798dce7e10aa49f8354e4111b9c9cad10c894184658663\n",
            "Successfully built glfw\n",
            "Installing collected packages: glfw\n",
            "Successfully installed glfw-1.7.1\n",
            "Cloning into 'garage'...\n",
            "remote: Enumerating objects: 116, done.\u001b[K\n",
            "remote: Counting objects: 100% (116/116), done.\u001b[K\n",
            "remote: Compressing objects: 100% (81/81), done.\u001b[K\n",
            "remote: Total 10472 (delta 54), reused 60 (delta 35), pack-reused 10356\u001b[K\n",
            "Receiving objects: 100% (10472/10472), 9.13 MiB | 17.31 MiB/s, done.\n",
            "Resolving deltas: 100% (7322/7322), done.\n"
          ],
          "name": "stdout"
        }
      ]
    },
    {
      "metadata": {
        "id": "TXWtR1vm99vx",
        "colab_type": "code",
        "outputId": "012453df-9e14-48e6-e6a6-cd0d44414753",
        "colab": {
          "base_uri": "https://localhost:8080/",
          "height": 318
        }
      },
      "cell_type": "code",
      "source": [
        "raise Exception(\"Please restart your runtime so that the installed dependencies for 'garage' can be loaded, and then resume running the notebook\")"
      ],
      "execution_count": 0,
      "outputs": [
        {
          "output_type": "stream",
          "text": [
            "Note: checking out 'e7324a68dedd94b4ea15a9c761bab2af032e2480'.\n",
            "\n",
            "You are in 'detached HEAD' state. You can look around, make experimental\n",
            "changes and commit them, and you can discard any commits you make in this\n",
            "state without impacting any branches by performing another checkout.\n",
            "\n",
            "If you want to create a new branch to retain commits you create, you may\n",
            "do so (now or later) by using -b with the checkout command again. Example:\n",
            "\n",
            "  git checkout -b <new-branch-name>\n",
            "\n",
            "HEAD is now at e7324a6 Move nb_utils.py to garage.experiment\n",
            "Obtaining file:///content/garage\n",
            "Installing collected packages: rlgarage\n",
            "  Running setup.py develop for rlgarage\n",
            "Successfully installed rlgarage\n"
          ],
          "name": "stdout"
        }
      ]
    },
    {
      "metadata": {
        "id": "iMQ4ibxk8jQw",
        "colab_type": "text"
      },
      "cell_type": "markdown",
      "source": [
        "\n",
        "\n",
        "---\n",
        "\n",
        "\n",
        "\n",
        "---\n",
        "\n",
        "\n",
        "\n",
        "---\n",
        "\n"
      ]
    },
    {
      "metadata": {
        "id": "34oLOKVb5t8l",
        "colab_type": "text"
      },
      "cell_type": "markdown",
      "source": [
        "## Simulation environment\n",
        "\n",
        "Create the environment that simulates a water sample going through a water treatment plant (WTP).\n",
        "\n",
        "It is done here in two parts\n",
        "1. a function `act_on_water` which is the core calculator of state transitions\n",
        "2. a `openai/gym`environment class `WtpDesignerEnv_v0` that wraps `act_on_water` and handles everything other than state transition"
      ]
    },
    {
      "metadata": {
        "id": "pmQmWOv_Vz7P",
        "colab_type": "text"
      },
      "cell_type": "markdown",
      "source": [
        "### State transition function"
      ]
    },
    {
      "metadata": {
        "id": "MTFzvBH4wm21",
        "colab_type": "code",
        "outputId": "fddc2623-a749-4bd9-f4f4-a626def0efe6",
        "colab": {
          "base_uri": "https://localhost:8080/",
          "height": 102
        }
      },
      "cell_type": "code",
      "source": [
        "# Create a function for the state transitions\n",
        "\n",
        "import gym\n",
        "from gym import spaces\n",
        "#from gym.utils import seeding\n",
        "import numpy as np\n",
        "import random\n",
        "\n",
        "\n",
        "\n",
        "def act_on_water(water_in, water_parameter):\n",
        "  \"\"\"\n",
        "  Function for\n",
        "  - transition from current state of water parameters (argument `water_parameters`)\n",
        "  - using the water treatment elements (argument `water_in`)\n",
        "  - to the next state of water parameters (output of function)\n",
        "  \n",
        "  Parameters\n",
        "  - water_in: water sample parameters before \"filtering\"\n",
        "  - water_parameter: specific parameter that is being filtered\n",
        "  \n",
        "  Returns\n",
        "  - water_out: water sample parameters after the targeted parameter\n",
        "  - reward:\n",
        "    - if water quality is improvable and made improvement and improvement is relevant, then +2\n",
        "    - if water quality is not improvable and did not try to make improvement, then +1\n",
        "    - if water quality is improvable and made improvement but improvement is not relevant, then 0\n",
        "    - if water quality is improvable and did not make improvement, then -1\n",
        "    - if water quality is not improvable and tried to make improvement, then -2\n",
        "  \"\"\"\n",
        "  # debugging\n",
        "  #print(\"water_in\", water_in, \"water_parameter\", water_parameter)\n",
        "  \n",
        "  # utility variable\n",
        "  is_improvable = any(water_in[k] for k in water_in)\n",
        "  \n",
        "  # if chose pipe (do nothing)\n",
        "  if water_parameter is None:\n",
        "    # if any parameter is \"high\"\n",
        "    if is_improvable:\n",
        "      # water was improvable but didn't try\n",
        "      return water_in, -1\n",
        "    \n",
        "    # water was not improvable to begin with\n",
        "    return water_in, +1\n",
        "\n",
        "  # sanity check\n",
        "  if water_parameter not in water_in:\n",
        "    raise ValueError(\"water parameter = %s not a property of the water\"%water_parameter)\n",
        "\n",
        "  # if water is not improvable to begin with, but tried to make an improvement\n",
        "  if not is_improvable:\n",
        "    return water_in, -2\n",
        "    \n",
        "  # water is improvable, but chose an irrelevant parameter\n",
        "  if not water_in[water_parameter]:\n",
        "    # returning a reward of +1 here caused the best policy to use a few\n",
        "    # irrelevant target parameters at first (to ramp up points)\n",
        "    # and then start installing the relevant elements.\n",
        "    # This is similar to a salesman who sells useless WTP elements first\n",
        "    # to ramp up sales, and then sells the right system to close.\n",
        "    return water_in, 0\n",
        "  \n",
        "  # water is improvable, and chose a relevant parameter\n",
        "  water_out = water_in.copy()\n",
        "  water_out[water_parameter] = False\n",
        "  return water_out, +2\n",
        "\n",
        "\n",
        "# smoke testing via a few examples\n",
        "print(\"Here are some examples of input/output pairs for the state transition function `act_on_water` defined above\")\n",
        "print(\"turbidity: High, action: turbidity\",      act_on_water({\"turbidity\": True }, \"turbidity\"))\n",
        "print(\"turbidity: Low , action: turbidity\",      act_on_water({\"turbidity\": False}, \"turbidity\"))\n",
        "print(\"turbidity: High, action: pipe\",      act_on_water({\"turbidity\": True }, None))\n",
        "print(\"turbidity: Low , action: pipe\",      act_on_water({\"turbidity\": False}, None))\n",
        "try:\n",
        "  print(\"turbidity: High, action: hardness\", act_on_water({\"turbidity\": True }, \"hardness\"))\n",
        "except:\n",
        "  print(\"turbidity: High, action: hardness\", \"error: parameter not in water\")\n",
        "  \n",
        "#print(\"state = 1, action: pipe\",      act_on_water(1, None))"
      ],
      "execution_count": 0,
      "outputs": [
        {
          "output_type": "stream",
          "text": [
            "turbidity: High, action: turbidity ({'turbidity': False}, 2)\n",
            "turbidity: Low , action: turbidity ({'turbidity': False}, -2)\n",
            "turbidity: High, action: pipe ({'turbidity': True}, -1)\n",
            "turbidity: Low , action: pipe ({'turbidity': False}, 1)\n",
            "turbidity: High, action: hardness error: parameter not in water\n"
          ],
          "name": "stdout"
        }
      ]
    },
    {
      "metadata": {
        "id": "5wF-6ZmDV2zO",
        "colab_type": "text"
      },
      "cell_type": "markdown",
      "source": [
        "### Openai/gym environment class"
      ]
    },
    {
      "metadata": {
        "id": "oBv4mojWRT6v",
        "colab_type": "code",
        "colab": {}
      },
      "cell_type": "code",
      "source": [
        "# Create a gym env that simulates the current water treatment plant\n",
        "# Based on https://github.com/openai/gym/blob/master/gym/envs/toy_text/nchain.py\n",
        "\n",
        "# Gym env\n",
        "class WtpDesignerEnv_v0(gym.Env):\n",
        "    \"\"\"Water Treatment Plant environment\n",
        "    \n",
        "    This is a simulation of a water treatment plant (WTP).\n",
        "    \n",
        "    Observation:\n",
        "      Parameters in water\n",
        "      Type: Dict of 3 keys, each of which is Discrete(2)\n",
        "      turbidity       True/False (= High/Low)\n",
        "      Hardness  True/False (= High/Low)\n",
        "      Bacteria  True/False (= High/Low)\n",
        "      \n",
        "    Actions:\n",
        "      WTP Element to implement at i-th stage\n",
        "      Type: Discrete(4)\n",
        "      0 pipe\n",
        "      2 sediment\n",
        "      3 softener\n",
        "      4 uv\n",
        "      \n",
        "    Reward: check function \"act_on_water\"\n",
        "      \n",
        "    Episode termination:\n",
        "      All elements of WTP are chosen\n",
        "    \"\"\"\n",
        "    def __init__(self, attempts_max = 1000):\n",
        "        self.wtp_elements = [None, \"turbidity\", \"hardness\", \"bacteria\"]\n",
        "        \n",
        "        \n",
        "        # number of elements in the WTP system generated\n",
        "        self.n_elements = 5\n",
        "        \n",
        "         # choose the element for the current step\n",
        "        self.action_space = spaces.Discrete(len(self.wtp_elements))\n",
        "        \n",
        "        # https://github.com/openai/gym/blob/master/gym/spaces/dict_space.py\n",
        "        # the observation space is a Dict of 3 key-value pairs\n",
        "        # Note that the \"FlatDictWrapper\" later just flattens this to a single Discrete(8) observation\n",
        "        # for the sake of being able to use the CategoricalMLPPolicy\n",
        "        self.observation_space = spaces.Dict({\n",
        "            \"turbidity\": spaces.Discrete(2), \n",
        "            \"hardness\": spaces.Discrete(2), \n",
        "            \"bacteria\": spaces.Discrete(2),\n",
        "        })\n",
        "        \n",
        "        self.reset()\n",
        "        #self.seed()\n",
        "\n",
        "    #def seed(self, seed=None):\n",
        "    #    self.np_random, seed = seeding.np_random(seed)\n",
        "    #    return [seed]\n",
        "\n",
        "    def step(self, action):\n",
        "        assert self.action_space.contains(action), \"action not in action space!\"\n",
        "        assert self.element_i < self.n_elements\n",
        "        \n",
        "        # increment number of attempts taken\n",
        "        self.element_i += 1\n",
        "\n",
        "        # calculate reward of this element\n",
        "        wtp_i = self.wtp_elements[action]\n",
        "        self.state, reward = act_on_water(self.state, wtp_i)\n",
        "        #print(\"\\t state + element -> state after + reward\", wtp_i, self.state, reward_i)\n",
        "                                      \n",
        "        # init\n",
        "        done = False\n",
        "\n",
        "        # allow a maximum number of attempts to get the WTP selection to work\n",
        "        if self.element_i >= self.n_elements:\n",
        "          done = True\n",
        "          \n",
        "        return self.state, reward, done, {}\n",
        "      \n",
        "    def reset(self, s0=None):\n",
        "      # s0 - desired state\n",
        "      if s0 is None:\n",
        "        s0 = {\n",
        "          \"turbidity\":  np.random.rand() < 0.5,\n",
        "          \"hardness\": np.random.rand() < 0.5,\n",
        "          \"bacteria\": np.random.rand() < 0.5,                \n",
        "        }\n",
        "      self.state = s0.copy()\n",
        "      self.element_i = 0\n",
        "      return self.state"
      ],
      "execution_count": 0,
      "outputs": []
    },
    {
      "metadata": {
        "id": "CfZWapDiV7-x",
        "colab_type": "text"
      },
      "cell_type": "markdown",
      "source": [
        "Smoke-test the environment implementation above by performing\n",
        "grid search to find the optimal water treatment plant system for a random water sample"
      ]
    },
    {
      "metadata": {
        "id": "Xi3SwHSJO3xm",
        "colab_type": "code",
        "outputId": "ce7d78fc-9492-4ec0-f4cc-14084c4f09c2",
        "colab": {
          "base_uri": "https://localhost:8080/",
          "height": 119
        }
      },
      "cell_type": "code",
      "source": [
        "\n",
        "# some smoke testing\n",
        "print(\"smoke test\")\n",
        "\n",
        "# example\n",
        "env_test = WtpDesignerEnv_v0()\n",
        "state_initial = env_test.reset().copy()\n",
        "print(\"water in:\")\n",
        "print(\"reset()\", state_initial)\n",
        "print(\"env.state\", env_test.state)\n",
        "\n",
        "print(\"generate grid universe of WTP .. start\")\n",
        "solution = dict(act=None, rew=-99999, water_out=None)\n",
        "done = False\n",
        "\n",
        "# builds all possible wtp of these elements\n",
        "import itertools\n",
        "wtp_all1 = list(itertools.product(range(len(env_test.wtp_elements)), repeat=env_test.n_elements))\n",
        "wtp_all2 = []\n",
        "# append last 2 pipes\n",
        "for wtp_i in wtp_all1:\n",
        "  wtp_i = list(wtp_i)\n",
        "  # 0 is the index of None in env_test.wtp_elements\n",
        "  wtp_i.append(0)\n",
        "  wtp_all2.append(wtp_i)\n",
        "\n",
        "print(\"generate grid universe of WTP .. end\")\n",
        "#print(\"all wtp\")\n",
        "#print(wtp_all2)\n",
        "\n",
        "#############################################\n",
        "\n",
        "print(\"grid search .. start\")\n",
        "\n",
        "# iterate\n",
        "for wtp_i in wtp_all2:\n",
        "  reward_sum = 0\n",
        "  env_test.reset(s0=state_initial)\n",
        "  #print(\"-\"*10)\n",
        "  for action in wtp_i:\n",
        "    water_out, reward_i, done, _ = env_test.step(action)\n",
        "    reward_sum += reward_i\n",
        "    if done:\n",
        "      break\n",
        "    \n",
        "  #print(\"water in\", env_test.state, \"wtp\", [env_test.wtp_elements[x] for x in wtp_i], \"water out\", water_out, \"reward\", reward_sum)\n",
        "  if reward_sum > solution['rew']:\n",
        "    solution['act'] = wtp_i\n",
        "    solution['rew'] = reward_sum\n",
        "    solution['water_out'] = water_out # last result\n",
        "\n",
        "\n",
        "print(\"grid search .. end\")\n",
        "\n",
        "#############################################\n",
        "\n",
        "# show result of grid search\n",
        "print(\"*\"*30)\n",
        "print(\"Results of grid search\")\n",
        "print(\"*\"*30)\n",
        "\n",
        "print(\"water in:\", state_initial)\n",
        "print(\"wtp chosen\", [env_test.wtp_elements[x] for x in solution['act']])\n",
        "print(\"total reward\", solution['rew'])\n",
        "print(\"water out\", solution['water_out'])"
      ],
      "execution_count": 0,
      "outputs": [
        {
          "output_type": "stream",
          "text": [
            "smoke test\n",
            "water in:\n",
            "reset() {'turbidity': False, 'hardness': False, 'bacteria': False}\n",
            "env.state {'turbidity': False, 'hardness': False, 'bacteria': False}\n",
            "grid search .. start\n",
            "grid search .. end\n"
          ],
          "name": "stdout"
        }
      ]
    },
    {
      "metadata": {
        "id": "cARuchY8WyaH",
        "colab_type": "text"
      },
      "cell_type": "markdown",
      "source": [
        "At this stage, the openai/gym environment is ready to be registered for later usage in reinforcement learning."
      ]
    },
    {
      "metadata": {
        "id": "UNoyVv0tA23n",
        "colab_type": "code",
        "colab": {}
      },
      "cell_type": "code",
      "source": [
        "# register the env with gym\n",
        "# https://github.com/openai/gym/tree/master/gym/envs#how-to-create-new-environments-for-gym\n",
        "from gym.envs.registration import register\n",
        "\n",
        "register(\n",
        "    id='WtpDesignerEnv-v0',\n",
        "    #entry_point='gym_foo.envs:FooEnv',\n",
        "    entry_point=WtpDesignerEnv_v0,\n",
        ")\n",
        "\n",
        "# test registration was successful\n",
        "env = gym.make(\"WtpDesignerEnv-v0\")"
      ],
      "execution_count": 0,
      "outputs": []
    },
    {
      "metadata": {
        "id": "Nd-RbAhH6Kx8",
        "colab_type": "text"
      },
      "cell_type": "markdown",
      "source": [
        "## Reinforcement learning"
      ]
    },
    {
      "metadata": {
        "id": "4sKBQ51KWvIw",
        "colab_type": "text"
      },
      "cell_type": "markdown",
      "source": [
        "### Rlworkgroup/garage policy and algorithm"
      ]
    },
    {
      "metadata": {
        "id": "xEewxdhkXPLG",
        "colab_type": "text"
      },
      "cell_type": "markdown",
      "source": [
        "Some class imports"
      ]
    },
    {
      "metadata": {
        "id": "9j8M1L9S6rvU",
        "colab_type": "code",
        "colab": {}
      },
      "cell_type": "code",
      "source": [
        "# The contents of this cell are mostly copied from garage/examples/...\n",
        "\n",
        "from garage.np.baselines import LinearFeatureBaseline\n",
        "from garage.envs import normalize\n",
        "from garage.experiment import run_experiment\n",
        "from garage.tf.algos import TRPO\n",
        "from garage.tf.envs import TfEnv\n",
        "from garage.tf.policies import CategoricalMLPPolicy"
      ],
      "execution_count": 0,
      "outputs": []
    },
    {
      "metadata": {
        "id": "zIT1cYbvXQnF",
        "colab_type": "text"
      },
      "cell_type": "markdown",
      "source": [
        "Define a utility class `FlattenDictWrapper2` that will wrap the gym environment and flatten the observation space's multiple components into a single component of higher dimensionality.\n",
        "\n",
        "This is necessary for using the existing `garage.tf.policies.CategoricalMLPPolicy` (garage policy) that supports \"single-output\" environments.\n",
        "\n",
        "This does not affect the quality of the training.\n",
        "\n",
        "Alternatively, a new policy (`garage.tf.policies.DictCategoricalMLPPolicy`) could be implemented without needing the below wrapper."
      ]
    },
    {
      "metadata": {
        "id": "3TSGjJIua47q",
        "colab_type": "code",
        "colab": {}
      },
      "cell_type": "code",
      "source": [
        "class FlattenDictWrapper2(gym.ObservationWrapper):\n",
        "    \"\"\"Flattens selected keys of a Dict observation space into an array.\n",
        "    \n",
        "    Based on https://github.com/openai/gym/blob/5404b39d06f72012f562ec41f60734bd4b5ceb4b/gym/wrappers/dict.py\n",
        "    \n",
        "    Notice that there already is an implementation in gym.wrappers\n",
        "    I tried using it as follows\n",
        "\n",
        "        env = wrappers.FlattenDictWrapper(env, [\"turbidity\", \"hardness\", \"bacteria\"])\n",
        "\n",
        "    but that didn't work\n",
        "    \"\"\"\n",
        "    def __init__(self, env, dict_keys):\n",
        "        super().__init__(env)\n",
        "        self.dict_keys = dict_keys\n",
        "\n",
        "        # Figure out observation_space dimension.\n",
        "        # FIXME this is never used .. ref https://github.com/openai/gym/blob/6497c9f1c6e43066c8945f02ed3ed4d234f45dc1/gym/core.py\n",
        "        size = 1\n",
        "        for key in dict_keys:\n",
        "            shape = self.env.observation_space.spaces[key].n\n",
        "            size *= shape\n",
        "        self.observation_space = gym.spaces.Discrete(size)\n",
        "\n",
        "    def observation(self, observation):\n",
        "        \"\"\"\n",
        "        flatten the dict observation\n",
        "        idea is same as the following\n",
        "        \n",
        "        >>> import itertools\n",
        "        >>> x=np.array(list(itertools.product(range(4), range(3), range(2))))\n",
        "        >>> y=x[:,0]*2*3 + x[:,1]*2 + x[:,2]\n",
        "        >>> y.sort()\n",
        "        >>> y\n",
        "        array([ 0,  1,  2,  3,  4,  5,  6,  7,  8,  9, 10, 11, 12, 13, 14, 15, 16,\n",
        "               17, 18, 19, 20, 21, 22, 23])\n",
        "        \n",
        "        Notice how \"y\" has no duplicates, and hence is a one-to-one mapping from the original matrix \"x\"\n",
        "        \n",
        "        Now convert y back to x\n",
        "        \n",
        "        >>> z1 = y//(2*3)\n",
        "        >>> z2 = (y%(2*3))//2\n",
        "        >>> z3 = (   (y%(2*3))%2  )\n",
        "        >>> z = np.array([np.array(z1), np.array(z2), np.array(z3)]).T\n",
        "        \n",
        "        Notice that z == x\n",
        "        \"\"\"\n",
        "        assert isinstance(observation, dict)\n",
        "        obs = []\n",
        "        dims = []\n",
        "        for key in self.dict_keys:\n",
        "            obs.append(observation[key])\n",
        "            dims.append(self.env.observation_space.spaces[key].n)\n",
        "            \n",
        "        dims = np.array(dims).cumprod()\n",
        "        dims = (dims / dims[0]).astype('int')\n",
        "        \n",
        "        obs = np.array(obs).astype('int')\n",
        "\n",
        "        #print(\"X\"*10)\n",
        "        #print(obs)\n",
        "        #print(dims)\n",
        "\n",
        "        return (obs * dims).sum()\n"
      ],
      "execution_count": 0,
      "outputs": []
    },
    {
      "metadata": {
        "id": "RGo5PBBIZ8Ez",
        "colab_type": "text"
      },
      "cell_type": "markdown",
      "source": [
        "Instantiate the `WtpDesignerEnv-v0` environment, policy, baseline, and TRPO training algorithm.\n",
        "\n",
        "The policy chosen is a fully-connected feed-forward neural network."
      ]
    },
    {
      "metadata": {
        "id": "tx8_cmOe63QK",
        "colab_type": "code",
        "outputId": "aa8f8f0f-f812-4c02-ce61-846d6f5a7dae",
        "colab": {
          "base_uri": "https://localhost:8080/",
          "height": 144
        }
      },
      "cell_type": "code",
      "source": [
        "# Instantiate the environment, policy, baseline, and algorithm for training\n",
        "#----------------------------------\n",
        "from gym import wrappers\n",
        "\n",
        "env = gym.make(\"WtpDesignerEnv-v0\")\n",
        "wq_elements = [\"turbidity\", \"hardness\", \"bacteria\"]\n",
        "env = FlattenDictWrapper2(env, wq_elements)\n",
        "env = TfEnv(normalize(env))\n",
        "\n",
        "policy = CategoricalMLPPolicy(\n",
        "    name=\"policy\", env_spec=env.spec, hidden_sizes=(32, 32))\n",
        "\n",
        "baseline = LinearFeatureBaseline(env_spec=env.spec)\n",
        "\n",
        "\n",
        "algo = TRPO(\n",
        "    env=env,\n",
        "    policy=policy,\n",
        "    baseline=baseline,\n",
        "    batch_size=4000,\n",
        "    max_path_length=5+2, #env.n_elements+2, # add 2 since this is just a safety measure\n",
        "    n_itr=50, # 50 is enough to reach steady state: average return 6.5, max return 8, min return 5\n",
        "    discount=0.99,\n",
        "    max_kl_step=0.01,\n",
        "    plot=False\n",
        ")"
      ],
      "execution_count": 0,
      "outputs": [
        {
          "output_type": "stream",
          "text": [
            "WARNING:tensorflow:From /usr/local/lib/python3.6/dist-packages/tensorflow/python/framework/op_def_library.py:263: colocate_with (from tensorflow.python.framework.ops) is deprecated and will be removed in a future version.\n",
            "Instructions for updating:\n",
            "Colocations handled automatically by placer.\n",
            "WARNING:tensorflow:From /content/garage/garage/tf/distributions/categorical.py:27: multinomial (from tensorflow.python.ops.random_ops) is deprecated and will be removed in a future version.\n",
            "Instructions for updating:\n",
            "Use tf.random.categorical instead.\n"
          ],
          "name": "stdout"
        }
      ]
    },
    {
      "metadata": {
        "id": "7naFq_15ZUFO",
        "colab_type": "text"
      },
      "cell_type": "markdown",
      "source": [
        "### Train the policy"
      ]
    },
    {
      "metadata": {
        "id": "eBk8B2h36pMw",
        "colab_type": "code",
        "colab": {}
      },
      "cell_type": "code",
      "source": [
        "# start a tensorflow session so that we can keep it open after training and use the trained network to see it performing\n",
        "import tensorflow as tf\n",
        "sess = tf.InteractiveSession()\n",
        "\n",
        "# no need to initialize\n",
        "#sess.run(tf.global_variables_initializer())\n"
      ],
      "execution_count": 0,
      "outputs": []
    },
    {
      "metadata": {
        "id": "v7LQO4zBp8h4",
        "colab_type": "code",
        "colab": {}
      },
      "cell_type": "code",
      "source": [
        "# Train the policy (neural network) on the environment\n",
        "\n",
        "algo.train(sess=sess)"
      ],
      "execution_count": 0,
      "outputs": []
    },
    {
      "metadata": {
        "id": "59ERI6aPZgHG",
        "colab_type": "code",
        "colab": {}
      },
      "cell_type": "code",
      "source": [
        ""
      ],
      "execution_count": 0,
      "outputs": []
    },
    {
      "metadata": {
        "id": "mGOx_gaAZgc9",
        "colab_type": "text"
      },
      "cell_type": "markdown",
      "source": [
        "### Conduct some experiments using the trained policy"
      ]
    },
    {
      "metadata": {
        "id": "z7L2O_lXad9Q",
        "colab_type": "text"
      },
      "cell_type": "markdown",
      "source": [
        "Define some utility variables and functions"
      ]
    },
    {
      "metadata": {
        "id": "zEXyy1NhiCOB",
        "colab_type": "code",
        "outputId": "6a5c577c-b821-49c8-909a-2dd3c60f4942",
        "colab": {
          "base_uri": "https://localhost:8080/",
          "height": 153
        }
      },
      "cell_type": "code",
      "source": [
        "# utility function/variable for experiments below\n",
        "\n",
        "# list of water elements\n",
        "wq_elements = [\"turbidity\", \"hardness\", \"bacteria\"]\n",
        "\n",
        "def wqi_to_watersample(wqi):\n",
        "  \"\"\"\n",
        "  Convert an index to water-quality table to a dictionary of parameter-value key-value pairs.\n",
        "  The list which corresponds to the index is `wq_elements` (defined above).\n",
        "  e.g.\n",
        "  wqi_to_watersample(0) == {'turbidity': False, 'hardness': False, 'bacteria': False}\n",
        "  wqi_to_watersample(1) == {'turbidity': False, 'hardness': False, 'bacteria': True}\n",
        "  ...\n",
        "  \n",
        "  Check the list of examples below\n",
        "  \"\"\"\n",
        "  # https://stackoverflow.com/a/699891\n",
        "  #x = \"{0:b}\".format(wqi)\n",
        "  x = format(wqi, '03b')\n",
        "  x = list(x)\n",
        "  x = x[::-1] # reverse (FIXME!?)\n",
        "  #print(x)\n",
        "  x = [bool(int(y)) for y in x]\n",
        "  x = dict(zip(wq_elements,x))\n",
        "  return x\n",
        "\n",
        "# Show a list of example input-output pairs for `wqi_to_watersample`\n",
        "for i in range(8):\n",
        "  print(i, wqi_to_watersample(i))"
      ],
      "execution_count": 0,
      "outputs": [
        {
          "output_type": "stream",
          "text": [
            "0 {'turbidity': False, 'hardness': False, 'bacteria': False}\n",
            "1 {'turbidity': True, 'hardness': False, 'bacteria': False}\n",
            "2 {'turbidity': False, 'hardness': True, 'bacteria': False}\n",
            "3 {'turbidity': True, 'hardness': True, 'bacteria': False}\n",
            "4 {'turbidity': False, 'hardness': False, 'bacteria': True}\n",
            "5 {'turbidity': True, 'hardness': False, 'bacteria': True}\n",
            "6 {'turbidity': False, 'hardness': True, 'bacteria': True}\n",
            "7 {'turbidity': True, 'hardness': True, 'bacteria': True}\n"
          ],
          "name": "stdout"
        }
      ]
    },
    {
      "metadata": {
        "id": "5M61vZ-LFRUs",
        "colab_type": "code",
        "outputId": "8824bbb5-ff42-404e-9254-617b0b0d27d0",
        "colab": {
          "base_uri": "https://localhost:8080/",
          "height": 190
        }
      },
      "cell_type": "code",
      "source": [
        "# Utility function for experiments below\n",
        "\n",
        "# convert to dicts for readability\n",
        "#wtp_elements = [None, \"turbidity\", \"hardness\", \"bacteria\"]\n",
        "# rename the elements for readability\n",
        "wtp_elements = [\"pipe\", \"sand filter\", \"softener\", \"UV\"]\n",
        "\n",
        "import pandas as pd\n",
        "\n",
        "def convert_results_to_df(obs_all, act_all, out_all, rew_all):\n",
        "    \"\"\"\n",
        "    Gather lists of observations, actions, outputs, rewards\n",
        "    into a pandas dataframe\n",
        "    \"\"\"\n",
        "    df = []\n",
        "    for i in range(len(obs_all)):\n",
        "      in_i = wqi_to_watersample(obs_all[i])\n",
        "      wtp_i = [wtp_elements[x] for x in act_all[i]]\n",
        "      out_i = wqi_to_watersample(out_all[i])\n",
        "      df.append({\n",
        "          \"in_turbidity\": in_i[\"turbidity\"],\n",
        "          \"in_hardness\": in_i[\"hardness\"],\n",
        "          \"in_bacteria\": in_i[\"bacteria\"],\n",
        "          \"wtp/1\": wtp_i[0],\n",
        "          \"wtp/2\": wtp_i[1],\n",
        "          \"wtp/3\": wtp_i[2],\n",
        "          \"wtp/4\": wtp_i[3],\n",
        "          \"wtp/5\": wtp_i[4],\n",
        "          \"out_turbidity\": out_i[\"turbidity\"],\n",
        "          \"out_hardness\": out_i[\"hardness\"],\n",
        "          \"out_bacteria\": out_i[\"bacteria\"],\n",
        "          \"reward\": rew_all[i],\n",
        "      })\n",
        "\n",
        "    # gather results in pandas dataframe for simplicity of viewing\n",
        "    df = pd.DataFrame(df)\n",
        "    df = df[[\n",
        "          \"in_turbidity\",\n",
        "          \"in_hardness\",\n",
        "          \"in_bacteria\",\n",
        "          \"wtp/1\",\n",
        "          \"wtp/2\",\n",
        "          \"wtp/3\",\n",
        "          \"wtp/4\",\n",
        "          \"wtp/5\",\n",
        "          \"out_turbidity\",\n",
        "          \"out_hardness\",\n",
        "          \"out_bacteria\",\n",
        "          \"reward\",\n",
        "    ]]\n",
        "\n",
        "    df = df.sort_values([\"in_turbidity\", \"in_hardness\", \"in_bacteria\", \"reward\"]).set_index([\"in_turbidity\", \"in_hardness\", \"in_bacteria\"])\n",
        "    \n",
        "    return df\n",
        "\n",
        "# Show an example usage of the above\n",
        "print(\"Example usage\")\n",
        "convert_results_to_df([0,1,2], [ [0,1,2,0,0], [0,1,2,0,0], [0,1,2,0,0]], [0,1,2], [0,0,0])"
      ],
      "execution_count": 0,
      "outputs": [
        {
          "output_type": "stream",
          "text": [
            "TESTING\n"
          ],
          "name": "stdout"
        },
        {
          "output_type": "execute_result",
          "data": {
            "text/html": [
              "<div>\n",
              "<style scoped>\n",
              "    .dataframe tbody tr th:only-of-type {\n",
              "        vertical-align: middle;\n",
              "    }\n",
              "\n",
              "    .dataframe tbody tr th {\n",
              "        vertical-align: top;\n",
              "    }\n",
              "\n",
              "    .dataframe thead th {\n",
              "        text-align: right;\n",
              "    }\n",
              "</style>\n",
              "<table border=\"1\" class=\"dataframe\">\n",
              "  <thead>\n",
              "    <tr style=\"text-align: right;\">\n",
              "      <th></th>\n",
              "      <th></th>\n",
              "      <th></th>\n",
              "      <th>wtp/1</th>\n",
              "      <th>wtp/2</th>\n",
              "      <th>wtp/3</th>\n",
              "      <th>wtp/4</th>\n",
              "      <th>wtp/5</th>\n",
              "      <th>out_turbidity</th>\n",
              "      <th>out_hardness</th>\n",
              "      <th>out_bacteria</th>\n",
              "      <th>reward</th>\n",
              "    </tr>\n",
              "    <tr>\n",
              "      <th>in_turbidity</th>\n",
              "      <th>in_hardness</th>\n",
              "      <th>in_bacteria</th>\n",
              "      <th></th>\n",
              "      <th></th>\n",
              "      <th></th>\n",
              "      <th></th>\n",
              "      <th></th>\n",
              "      <th></th>\n",
              "      <th></th>\n",
              "      <th></th>\n",
              "      <th></th>\n",
              "    </tr>\n",
              "  </thead>\n",
              "  <tbody>\n",
              "    <tr>\n",
              "      <th rowspan=\"2\" valign=\"top\">False</th>\n",
              "      <th>False</th>\n",
              "      <th>False</th>\n",
              "      <td>pipe</td>\n",
              "      <td>sand filter</td>\n",
              "      <td>softener</td>\n",
              "      <td>pipe</td>\n",
              "      <td>pipe</td>\n",
              "      <td>False</td>\n",
              "      <td>False</td>\n",
              "      <td>False</td>\n",
              "      <td>0</td>\n",
              "    </tr>\n",
              "    <tr>\n",
              "      <th>True</th>\n",
              "      <th>False</th>\n",
              "      <td>pipe</td>\n",
              "      <td>sand filter</td>\n",
              "      <td>softener</td>\n",
              "      <td>pipe</td>\n",
              "      <td>pipe</td>\n",
              "      <td>False</td>\n",
              "      <td>True</td>\n",
              "      <td>False</td>\n",
              "      <td>0</td>\n",
              "    </tr>\n",
              "    <tr>\n",
              "      <th>True</th>\n",
              "      <th>False</th>\n",
              "      <th>False</th>\n",
              "      <td>pipe</td>\n",
              "      <td>sand filter</td>\n",
              "      <td>softener</td>\n",
              "      <td>pipe</td>\n",
              "      <td>pipe</td>\n",
              "      <td>True</td>\n",
              "      <td>False</td>\n",
              "      <td>False</td>\n",
              "      <td>0</td>\n",
              "    </tr>\n",
              "  </tbody>\n",
              "</table>\n",
              "</div>"
            ],
            "text/plain": [
              "                                     wtp/1        wtp/2     wtp/3 wtp/4 wtp/5  \\\n",
              "in_turbidity in_hardness in_bacteria                                            \n",
              "False        False       False        pipe  sand filter  softener  pipe  pipe   \n",
              "             True        False        pipe  sand filter  softener  pipe  pipe   \n",
              "True         False       False        pipe  sand filter  softener  pipe  pipe   \n",
              "\n",
              "                                      out_turbidity  out_hardness  \\\n",
              "in_turbidity in_hardness in_bacteria                                \n",
              "False        False       False                False         False   \n",
              "             True        False                False          True   \n",
              "True         False       False                 True         False   \n",
              "\n",
              "                                      out_bacteria  reward  \n",
              "in_turbidity in_hardness in_bacteria                        \n",
              "False        False       False               False       0  \n",
              "             True        False               False       0  \n",
              "True         False       False               False       0  "
            ]
          },
          "metadata": {
            "tags": []
          },
          "execution_count": 14
        }
      ]
    },
    {
      "metadata": {
        "id": "OGhvNWYqL4Zy",
        "colab_type": "text"
      },
      "cell_type": "markdown",
      "source": [
        "### Results\n",
        "\n",
        "Test all 8 cases for combinations of 3 parameters"
      ]
    },
    {
      "metadata": {
        "id": "COYDkWvW8zqQ",
        "colab_type": "text"
      },
      "cell_type": "markdown",
      "source": [
        "The below table shows that the trained designer proposes the correct element to treat the undesired water parameter, i.e. sand filter for turbidity, softener for hardness, UV for bacteria, or combinations thereof. It also simply installs pipes when no special treatment is further needed."
      ]
    },
    {
      "metadata": {
        "id": "LfG7tMG4LbtF",
        "colab_type": "code",
        "outputId": "6b1bab4d-58c1-437a-a6f7-5def30b833be",
        "colab": {
          "base_uri": "https://localhost:8080/",
          "height": 51
        }
      },
      "cell_type": "code",
      "source": [
        "n_experiments2 = 8 # Total number of permutations possible by the 3 water parameters\n",
        "obs_all2 = [None] * n_experiments2\n",
        "act_all2 = [None] * n_experiments2\n",
        "rew_all2 = [None] * n_experiments2\n",
        "out_all2 = [None] * n_experiments2\n",
        "\n",
        "print(\"start experiments\")\n",
        "for i in range(n_experiments2):\n",
        "  #print(\"experiment \", i+1)\n",
        "\n",
        "  # reset\n",
        "  s0 = wqi_to_watersample(i) # convert the index to a dictionary\n",
        "  obs_initial = env.reset(s0 = s0) # use the current water input quality as a starting state\n",
        "\n",
        "  #print(\"-\"*10)\n",
        "  #print(\"obs init\", obs_initial)\n",
        "  \n",
        "  # start\n",
        "  obs_i = obs_initial\n",
        "  act_list = []\n",
        "  rew_sum = 0\n",
        "  for j in range(5): # env.n_elements\n",
        "    act_i, _ = policy.get_action(obs_i)\n",
        "    #print(\"obs_i\", obs_i, \"act i\", act_i)\n",
        "    act_list.append(act_i)\n",
        "    obs_i, rew_i, done, _ = env.step(act_i)\n",
        "    rew_sum += rew_i\n",
        "    \n",
        "    if done: break\n",
        "    \n",
        "  obs_all2[i] = obs_initial\n",
        "  out_all2[i] = obs_i\n",
        "  act_all2[i] = act_list\n",
        "  rew_all2[i] = rew_sum\n",
        "\n",
        "#env.close()\n",
        "\n",
        "print(\"done\")"
      ],
      "execution_count": 0,
      "outputs": [
        {
          "output_type": "stream",
          "text": [
            "start experiments\n",
            "done\n"
          ],
          "name": "stdout"
        }
      ]
    },
    {
      "metadata": {
        "id": "nN7TQHlGMCZq",
        "colab_type": "code",
        "colab": {}
      },
      "cell_type": "code",
      "source": [
        "df_deterministic = convert_results_to_df(obs_all2, act_all2, out_all2, rew_all2)"
      ],
      "execution_count": 0,
      "outputs": []
    },
    {
      "metadata": {
        "id": "PrleJiJfMEoF",
        "colab_type": "code",
        "outputId": "2ea31ccd-e84f-4fd8-c679-269438185946",
        "colab": {
          "base_uri": "https://localhost:8080/",
          "height": 328
        }
      },
      "cell_type": "code",
      "source": [
        "df_deterministic"
      ],
      "execution_count": 0,
      "outputs": [
        {
          "output_type": "execute_result",
          "data": {
            "text/html": [
              "<div>\n",
              "<style scoped>\n",
              "    .dataframe tbody tr th:only-of-type {\n",
              "        vertical-align: middle;\n",
              "    }\n",
              "\n",
              "    .dataframe tbody tr th {\n",
              "        vertical-align: top;\n",
              "    }\n",
              "\n",
              "    .dataframe thead th {\n",
              "        text-align: right;\n",
              "    }\n",
              "</style>\n",
              "<table border=\"1\" class=\"dataframe\">\n",
              "  <thead>\n",
              "    <tr style=\"text-align: right;\">\n",
              "      <th></th>\n",
              "      <th></th>\n",
              "      <th></th>\n",
              "      <th>wtp/1</th>\n",
              "      <th>wtp/2</th>\n",
              "      <th>wtp/3</th>\n",
              "      <th>wtp/4</th>\n",
              "      <th>wtp/5</th>\n",
              "      <th>out_turbidity</th>\n",
              "      <th>out_hardness</th>\n",
              "      <th>out_bacteria</th>\n",
              "      <th>reward</th>\n",
              "    </tr>\n",
              "    <tr>\n",
              "      <th>in_turbidity</th>\n",
              "      <th>in_hardness</th>\n",
              "      <th>in_bacteria</th>\n",
              "      <th></th>\n",
              "      <th></th>\n",
              "      <th></th>\n",
              "      <th></th>\n",
              "      <th></th>\n",
              "      <th></th>\n",
              "      <th></th>\n",
              "      <th></th>\n",
              "      <th></th>\n",
              "    </tr>\n",
              "  </thead>\n",
              "  <tbody>\n",
              "    <tr>\n",
              "      <th rowspan=\"4\" valign=\"top\">False</th>\n",
              "      <th rowspan=\"2\" valign=\"top\">False</th>\n",
              "      <th>False</th>\n",
              "      <td>pipe</td>\n",
              "      <td>pipe</td>\n",
              "      <td>pipe</td>\n",
              "      <td>pipe</td>\n",
              "      <td>pipe</td>\n",
              "      <td>False</td>\n",
              "      <td>False</td>\n",
              "      <td>False</td>\n",
              "      <td>5.0</td>\n",
              "    </tr>\n",
              "    <tr>\n",
              "      <th>True</th>\n",
              "      <td>UV</td>\n",
              "      <td>pipe</td>\n",
              "      <td>pipe</td>\n",
              "      <td>pipe</td>\n",
              "      <td>pipe</td>\n",
              "      <td>False</td>\n",
              "      <td>False</td>\n",
              "      <td>False</td>\n",
              "      <td>6.0</td>\n",
              "    </tr>\n",
              "    <tr>\n",
              "      <th rowspan=\"2\" valign=\"top\">True</th>\n",
              "      <th>False</th>\n",
              "      <td>softener</td>\n",
              "      <td>pipe</td>\n",
              "      <td>pipe</td>\n",
              "      <td>pipe</td>\n",
              "      <td>pipe</td>\n",
              "      <td>False</td>\n",
              "      <td>False</td>\n",
              "      <td>False</td>\n",
              "      <td>6.0</td>\n",
              "    </tr>\n",
              "    <tr>\n",
              "      <th>True</th>\n",
              "      <td>softener</td>\n",
              "      <td>UV</td>\n",
              "      <td>pipe</td>\n",
              "      <td>pipe</td>\n",
              "      <td>pipe</td>\n",
              "      <td>False</td>\n",
              "      <td>False</td>\n",
              "      <td>False</td>\n",
              "      <td>7.0</td>\n",
              "    </tr>\n",
              "    <tr>\n",
              "      <th rowspan=\"4\" valign=\"top\">True</th>\n",
              "      <th rowspan=\"2\" valign=\"top\">False</th>\n",
              "      <th>False</th>\n",
              "      <td>sand filter</td>\n",
              "      <td>pipe</td>\n",
              "      <td>pipe</td>\n",
              "      <td>pipe</td>\n",
              "      <td>pipe</td>\n",
              "      <td>False</td>\n",
              "      <td>False</td>\n",
              "      <td>False</td>\n",
              "      <td>6.0</td>\n",
              "    </tr>\n",
              "    <tr>\n",
              "      <th>True</th>\n",
              "      <td>sand filter</td>\n",
              "      <td>UV</td>\n",
              "      <td>pipe</td>\n",
              "      <td>pipe</td>\n",
              "      <td>pipe</td>\n",
              "      <td>False</td>\n",
              "      <td>False</td>\n",
              "      <td>False</td>\n",
              "      <td>7.0</td>\n",
              "    </tr>\n",
              "    <tr>\n",
              "      <th rowspan=\"2\" valign=\"top\">True</th>\n",
              "      <th>False</th>\n",
              "      <td>sand filter</td>\n",
              "      <td>softener</td>\n",
              "      <td>pipe</td>\n",
              "      <td>pipe</td>\n",
              "      <td>pipe</td>\n",
              "      <td>False</td>\n",
              "      <td>False</td>\n",
              "      <td>False</td>\n",
              "      <td>7.0</td>\n",
              "    </tr>\n",
              "    <tr>\n",
              "      <th>True</th>\n",
              "      <td>UV</td>\n",
              "      <td>sand filter</td>\n",
              "      <td>softener</td>\n",
              "      <td>pipe</td>\n",
              "      <td>pipe</td>\n",
              "      <td>False</td>\n",
              "      <td>False</td>\n",
              "      <td>False</td>\n",
              "      <td>8.0</td>\n",
              "    </tr>\n",
              "  </tbody>\n",
              "</table>\n",
              "</div>"
            ],
            "text/plain": [
              "                                            wtp/1        wtp/2     wtp/3  \\\n",
              "in_turbidity in_hardness in_bacteria                                       \n",
              "False        False       False               pipe         pipe      pipe   \n",
              "                         True                  UV         pipe      pipe   \n",
              "             True        False           softener         pipe      pipe   \n",
              "                         True            softener           UV      pipe   \n",
              "True         False       False        sand filter         pipe      pipe   \n",
              "                         True         sand filter           UV      pipe   \n",
              "             True        False        sand filter     softener      pipe   \n",
              "                         True                  UV  sand filter  softener   \n",
              "\n",
              "                                     wtp/4 wtp/5  out_turbidity  out_hardness  \\\n",
              "in_turbidity in_hardness in_bacteria                                            \n",
              "False        False       False        pipe  pipe          False         False   \n",
              "                         True         pipe  pipe          False         False   \n",
              "             True        False        pipe  pipe          False         False   \n",
              "                         True         pipe  pipe          False         False   \n",
              "True         False       False        pipe  pipe          False         False   \n",
              "                         True         pipe  pipe          False         False   \n",
              "             True        False        pipe  pipe          False         False   \n",
              "                         True         pipe  pipe          False         False   \n",
              "\n",
              "                                      out_bacteria  reward  \n",
              "in_turbidity in_hardness in_bacteria                        \n",
              "False        False       False               False     5.0  \n",
              "                         True                False     6.0  \n",
              "             True        False               False     6.0  \n",
              "                         True                False     7.0  \n",
              "True         False       False               False     6.0  \n",
              "                         True                False     7.0  \n",
              "             True        False               False     7.0  \n",
              "                         True                False     8.0  "
            ]
          },
          "metadata": {
            "tags": []
          },
          "execution_count": 27
        }
      ]
    },
    {
      "metadata": {
        "id": "nbhLEvkVmQHJ",
        "colab_type": "code",
        "colab": {}
      },
      "cell_type": "code",
      "source": [
        ""
      ],
      "execution_count": 0,
      "outputs": []
    }
  ]
}