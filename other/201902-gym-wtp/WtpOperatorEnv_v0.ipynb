{
  "nbformat": 4,
  "nbformat_minor": 0,
  "metadata": {
    "colab": {
      "name": "WtpOperatorEnv_v0.ipynb",
      "version": "0.3.2",
      "provenance": [],
      "collapsed_sections": [],
      "toc_visible": true,
      "include_colab_link": true
    },
    "kernelspec": {
      "name": "python3",
      "display_name": "Python 3"
    },
    "accelerator": "GPU"
  },
  "cells": [
    {
      "cell_type": "markdown",
      "metadata": {
        "id": "view-in-github",
        "colab_type": "text"
      },
      "source": [
        "<a href=\"https://colab.research.google.com/github/shadiakiki1986/ml-competitions/blob/master/other/201902-gym-wtp/WtpOperatorEnv_v0.ipynb\" target=\"_parent\"><img src=\"https://colab.research.google.com/assets/colab-badge.svg\" alt=\"Open In Colab\"/></a>"
      ]
    },
    {
      "metadata": {
        "id": "fampYnGf-d_2",
        "colab_type": "text"
      },
      "cell_type": "markdown",
      "source": [
        "# WTP operator\n",
        "\n",
        "This notebook provides\n",
        "- a simulation environment for the *operation* of a water treatment plant]\n",
        "- as well as training an agent to operate the WTP under different starting conditions and random system failures\n",
        "\n",
        "The agent learns to \n",
        "- start/stop the feed pump to transfer water from the raw water tank to the product water tank without overflow nor overdraw.\n",
        "-  bypass a blocked element\n",
        "\n",
        "This notebook is part of [gym-wtp](https://github.com/shadiakiki1986/ml-competitions/tree/master/other/201902-gym-wtp)"
      ]
    },
    {
      "metadata": {
        "id": "uH8OK4YfDc0_",
        "colab_type": "text"
      },
      "cell_type": "markdown",
      "source": [
        "## Install pre-requisites\n",
        "\n",
        "The main requirements for this notebook are [openai/gym](https://github.com/openai/gym/) and [rlworkgroup/garage](https://github.com/rlworkgroup/garage)"
      ]
    },
    {
      "metadata": {
        "id": "NiIjx-0Rwjze",
        "colab_type": "code",
        "colab": {}
      },
      "cell_type": "code",
      "source": [
        "# install openai gym\n",
        "!pip install gym==0.10.11 | tail\n",
        "!pip show gym"
      ],
      "execution_count": 0,
      "outputs": []
    },
    {
      "metadata": {
        "id": "DspfHxVA6Pnj",
        "colab_type": "code",
        "colab": {}
      },
      "cell_type": "code",
      "source": [
        "%%shell\n",
        "\n",
        "# Install rlworkgroup/garage\n",
        "# Copied from https://github.com/shadiakiki1986/garage/blob/shadi-example_jupyter/examples/jupyter/trpo_gym_tf_cartpole.ipynb\n",
        "\n",
        "echo \"abcd\" > mujoco_fake_key\n",
        "\n",
        "# FIXME should be udpated to \"rlworkgroup\" once PR is merged\n",
        "# https://github.com/rlworkgroup/garage/pull/476\n",
        "# git clone --depth 1 https://github.com/rlworkgroup/garage/\n",
        "git clone --branch shadi-example_jupyter --depth 1 https://github.com/shadiakiki1986/garage.git\n",
        "\n",
        "cd garage\n",
        "bash scripts/setup_colab.sh --mjkey ../mujoco_fake_key --no-modify-bashrc > /dev/null"
      ],
      "execution_count": 0,
      "outputs": []
    },
    {
      "metadata": {
        "id": "TXWtR1vm99vx",
        "colab_type": "code",
        "colab": {}
      },
      "cell_type": "code",
      "source": [
        "raise Exception(\"Please restart your runtime so that the installed dependencies for 'garage' can be loaded, and then resume running the notebook\")"
      ],
      "execution_count": 0,
      "outputs": []
    },
    {
      "metadata": {
        "id": "iMQ4ibxk8jQw",
        "colab_type": "text"
      },
      "cell_type": "markdown",
      "source": [
        "\n",
        "\n",
        "---\n",
        "\n",
        "\n",
        "\n",
        "---\n",
        "\n",
        "\n",
        "\n",
        "---\n",
        "\n"
      ]
    },
    {
      "metadata": {
        "id": "34oLOKVb5t8l",
        "colab_type": "text"
      },
      "cell_type": "markdown",
      "source": [
        "## Simulation environment\n",
        "\n",
        "Create the environment that simulates operation a water treatment plant.\n",
        "\n",
        "Available actions are:\n",
        "- turn on pump\n",
        "- open bypass 1\n",
        "- open bypass 2\n",
        "\n",
        " The bypasses are necessary when the differential pressure switch reaches `100` indicating complete blockage.\n",
        " \n",
        " The goal of this environment is to transfer water from an input tank to an output tank\n",
        " with minimal usage of bypasses (i.e. no bypass needed if no blockage)\n",
        " and without overflowing the product tank\n",
        " nor running the pump with an empty input tank.\n",
        "\n",
        "\n",
        "The environment is implemented here in two parts\n",
        "- a function `act_on_wtp` which is the core calculator of state transitions\n",
        "- a `openai/gym` environment class `WtpOperatorEnv_v0` that wraps `act_on_wtp` and handles everything other than state transition\n"
      ]
    },
    {
      "metadata": {
        "id": "5jYrBH2tON_r",
        "colab_type": "text"
      },
      "cell_type": "markdown",
      "source": [
        "### State transition function"
      ]
    },
    {
      "metadata": {
        "id": "48v00yBXHmur",
        "colab_type": "code",
        "colab": {}
      },
      "cell_type": "code",
      "source": [
        "import pandas as pd"
      ],
      "execution_count": 0,
      "outputs": []
    },
    {
      "metadata": {
        "id": "_JInZOBkzjxO",
        "colab_type": "code",
        "colab": {}
      },
      "cell_type": "code",
      "source": [
        "# utility\n",
        "state_keys = [\n",
        "    \"wl_in\", # wl: water level\n",
        "    \"pd1\", # pd: pressure difference\n",
        "    \"pd2\", \n",
        "    \"wl_out\"\n",
        "]\n",
        "\n",
        "action_keys = [\"pump\", \"bp1\", \"bp2\"]\n",
        "\n",
        "\n",
        "def s_tp1_d2l(s_tp1):\n",
        "    # convert state_tp1 from dict back to list\n",
        "    #print(\"s in:\", s_tp1)\n",
        "    s_tp1 = [s_tp1[k] for k in state_keys]\n",
        "    return s_tp1\n",
        "\n",
        "\n",
        "def act_on_wtp(state_t, action_t):\n",
        "  \"\"\"\n",
        "  Parameters\n",
        "  state_t - state values, dict with keys being in `state_keys`\n",
        "  action_t - action values, dict with keys being in `action_keys`\n",
        "  \n",
        "  Returns\n",
        "  state_tp1 - state at t+1 after action\n",
        "  reward - reward after action\n",
        "  \"\"\"\n",
        "  debug=False\n",
        "  \n",
        "  #print(\"state/act(t)\", state_t, action_t)\n",
        "  \n",
        "  # convert list to dict\n",
        "  # state_t = dict(zip(state_keys, state_t))\n",
        "  \n",
        "  #print(\"----------\")\n",
        "  #print(state_t)\n",
        "  #print(\"action_t\", action_t)\n",
        "  \n",
        "  # any action taken\n",
        "  any_action = any(action_t[x] for x in action_t)\n",
        "  if not any_action:\n",
        "    if debug: print(\"not doing anything and system is off\")\n",
        "    return state_t, 0\n",
        "\n",
        "  # initialize\n",
        "  state_tp1 = state_t.copy()\n",
        "  reward = 0\n",
        "  pump_capacity = 10 # pump capacity per time step\n",
        "  \n",
        "  # first, apply cost reward for energy to take action\n",
        "  #action_t = dict(zip(action_keys, action_t))\n",
        "  if action_t[\"pump\"]:\n",
        "    if debug: print(\"small punishment for electric power consumption\")\n",
        "    reward -= 1\n",
        "\n",
        "  # continue applying actions to other elements\n",
        "  if action_t[\"bp1\"]:\n",
        "    if debug: print(\"small punishment for electric power consumption\")\n",
        "    reward -= 1\n",
        "    \n",
        "  if action_t[\"bp2\"]:\n",
        "    if debug: print(\"small punishment for electric power consumption\")\n",
        "    reward -= 1\n",
        "\n",
        "  if not action_t[\"pump\"]:\n",
        "    if debug: print(\"system is still off\")\n",
        "    return state_tp1, reward\n",
        "\n",
        "  # when pump is in action\n",
        "  if (\n",
        "      # no blockage\n",
        "      (state_t[\"pd1\"] < 50) & (state_t[\"pd2\"] < 50)\n",
        "     ) | (\n",
        "      # blockage present, but correct bypass is on\n",
        "      (\n",
        "          not ( (state_t[\"pd1\"] >= 50) ^ action_t[\"bp1\"] ) # not a xor b\n",
        "      ) & (\n",
        "          not ( (state_t[\"pd2\"] >= 50) ^ action_t[\"bp2\"] )\n",
        "      )\n",
        "     ):\n",
        "    if debug: print(\"pump is on and water is flowing\")\n",
        "    if state_t[\"wl_in\"] >= pump_capacity:\n",
        "      if debug: print(\"positive reward for moving water\")\n",
        "      state_tp1[\"wl_out\"] += pump_capacity\n",
        "      state_tp1[\"wl_in\"] -= pump_capacity\n",
        "      reward += 7\n",
        "    else:\n",
        "      if debug: print(\"pump will overdraw from raw water tank\")\n",
        "      state_tp1[\"wl_out\"] += state_t[\"wl_in\"]\n",
        "      state_tp1[\"wl_in\"] = 0\n",
        "      reward -= 20 # pump burning due to no water\n",
        "          \n",
        "  if state_tp1[\"wl_out\"] > 100:\n",
        "    if debug: print(\"punish for product tank overflowing\")\n",
        "    state_tp1[\"wl_out\"] = 100\n",
        "    reward -= 20\n",
        "    \n",
        "  if action_t[\"bp1\"]:\n",
        "    if debug: print(\"punish for lower water quality .. element 1\")\n",
        "    reward -= 1\n",
        "\n",
        "  if action_t[\"bp2\"]:\n",
        "    if debug: print(\"punish for lower water quality .. element 2\")\n",
        "    reward -= 1\n",
        "\n",
        "  if (state_t['wl_out']<100) & (state_tp1['wl_out']==100):\n",
        "    if debug: print(\"bonus points for first attainment of full product tank\")\n",
        "    reward += 10\n",
        "    \n",
        "  # done\n",
        "  return state_tp1, reward\n",
        "\n"
      ],
      "execution_count": 0,
      "outputs": []
    },
    {
      "metadata": {
        "id": "0AdUbKEKOQfK",
        "colab_type": "text"
      },
      "cell_type": "markdown",
      "source": [
        "Run a few tests to check input/output pairs of the state transition function `act_on_wtp`"
      ]
    },
    {
      "metadata": {
        "id": "-vp35P2wJxa9",
        "colab_type": "code",
        "outputId": "8be02093-4e1b-4d98-ab34-39f912d241ef",
        "colab": {
          "base_uri": "https://localhost:8080/",
          "height": 35
        }
      },
      "cell_type": "code",
      "source": [
        "print(\"test reward for turning on bp1 while pump is on\")\n",
        "\n",
        "s_t = {\n",
        "    \"wl_in\": 100, # wl: water level\n",
        "    \"pd1\": 100, # pd: pressure difference\n",
        "    \"pd2\": 0, \n",
        "    \"wl_out\": 0\n",
        "}\n",
        "\n",
        "a_t = {\"pump\": True, \n",
        "       \"bp1\": True, \n",
        "       \"bp2\": False\n",
        "      }\n",
        "\n",
        "\n",
        "s_tp1, reward = act_on_wtp(s_t, a_t)\n",
        "#print(s_tp1, reward)\n",
        "assert reward > 0"
      ],
      "execution_count": 0,
      "outputs": [
        {
          "output_type": "stream",
          "text": [
            "test reward for turning on bp1 while pump is on\n"
          ],
          "name": "stdout"
        }
      ]
    },
    {
      "metadata": {
        "id": "PFuvi9Bv9c_8",
        "colab_type": "code",
        "outputId": "125c0dae-1b02-4915-e663-e5ab13b453f5",
        "colab": {
          "base_uri": "https://localhost:8080/",
          "height": 35
        }
      },
      "cell_type": "code",
      "source": [
        "print(\"test reward for turning on bp1 while pump is on\")\n",
        "\n",
        "s_t = {\n",
        "    \"wl_in\": 100, # wl: water level\n",
        "    \"pd1\": 100, # pd: pressure difference\n",
        "    \"pd2\": 100, \n",
        "    \"wl_out\": 0\n",
        "}\n",
        "\n",
        "a_t = {\"pump\": True, \n",
        "       \"bp1\": True, \n",
        "       \"bp2\": True\n",
        "      }\n",
        "\n",
        "\n",
        "s_tp1, reward = act_on_wtp(s_t, a_t)\n",
        "#print(s_tp1, reward)\n",
        "assert reward > 0"
      ],
      "execution_count": 0,
      "outputs": [
        {
          "output_type": "stream",
          "text": [
            "test reward for turning on bp1 while pump is on\n"
          ],
          "name": "stdout"
        }
      ]
    },
    {
      "metadata": {
        "id": "Yrv9sES41ZwE",
        "colab_type": "code",
        "outputId": "a873a117-f160-405a-a0e8-54eb44ae4722",
        "colab": {
          "base_uri": "https://localhost:8080/",
          "height": 35
        }
      },
      "cell_type": "code",
      "source": [
        "print(\"test issue of pump on, no differential pressure, and still water doesn't flow\")\n",
        "\n",
        "s_t = {\n",
        "    \"wl_in\": 70, # wl: water level\n",
        "    \"pd1\": 0, # pd: pressure difference\n",
        "    \"pd2\": 0, \n",
        "    \"wl_out\": 50\n",
        "}\n",
        "\n",
        "a_t = {\"pump\": 1, \n",
        "       \"bp1\": 0, \n",
        "       \"bp2\": 0\n",
        "      }\n",
        "\n",
        "\n",
        "s_tp1, reward = act_on_wtp(s_t, a_t)\n",
        "#print(s_tp1, reward)\n",
        "assert s_tp1['wl_in'] < s_t['wl_in']"
      ],
      "execution_count": 0,
      "outputs": [
        {
          "output_type": "stream",
          "text": [
            "test issue of pump on, no differential pressure, and still water doesn't flow\n"
          ],
          "name": "stdout"
        }
      ]
    },
    {
      "metadata": {
        "id": "iXfUkqKv5fjQ",
        "colab_type": "code",
        "outputId": "b820fdd6-0bd6-4d72-f54c-9f1aba9a2a62",
        "colab": {
          "base_uri": "https://localhost:8080/",
          "height": 35
        }
      },
      "cell_type": "code",
      "source": [
        "print(\"test issue of pump on, both dp blocked, only 1 bp on, and still water flows\")\n",
        "\n",
        "s_t = {\n",
        "    \"wl_in\": 70, # wl: water level\n",
        "    \"pd1\": 100, # pd: pressure difference\n",
        "    \"pd2\": 100, \n",
        "    \"wl_out\": 50\n",
        "}\n",
        "\n",
        "a_t = {\"pump\": 1, \n",
        "       \"bp1\": 1, \n",
        "       \"bp2\": 0\n",
        "      }\n",
        "\n",
        "\n",
        "s_tp1, reward = act_on_wtp(s_t, a_t)\n",
        "#print(s_tp1, reward)\n",
        "assert s_tp1['wl_in'] == s_t['wl_in']"
      ],
      "execution_count": 0,
      "outputs": [
        {
          "output_type": "stream",
          "text": [
            "test issue of pump on, both dp blocked, only 1 bp on, and still water flows\n"
          ],
          "name": "stdout"
        }
      ]
    },
    {
      "metadata": {
        "id": "MTFzvBH4wm21",
        "colab_type": "code",
        "outputId": "ebc7f444-cb01-46a5-9c53-edb16f9879bf",
        "colab": {
          "base_uri": "https://localhost:8080/",
          "height": 240
        }
      },
      "cell_type": "code",
      "source": [
        "print(\"test on grid\")\n",
        "\n",
        "df1 = []\n",
        "for s_wl_in in [0,100]:\n",
        "    for s_pd1 in [0, 100]:\n",
        "        for s_pd2 in [0, 100]:\n",
        "            for s_wl_out in [0,100]:\n",
        "              for a_pump in [True,False]:\n",
        "                for a_bp1 in [True,False]:\n",
        "                  for a_bp2 in [True,False]:\n",
        "                    s_t1 = [s_wl_in, s_pd1, s_pd2, s_wl_out]\n",
        "                    a_t1 = [a_pump, a_bp1, a_bp2]\n",
        "                    s_t2 = dict(zip(state_keys, s_t1))\n",
        "                    a_t2 = dict(zip(action_keys, a_t1))\n",
        "                    s_tp1a, reward = act_on_wtp(s_t2, a_t2)\n",
        "                    s_tp1b = s_tp1_d2l(s_tp1a)\n",
        "                    \n",
        "                    row = []\n",
        "                    row += s_t1\n",
        "                    row += a_t1\n",
        "                    row += s_tp1b\n",
        "                    row += [reward]\n",
        "                    \n",
        "                    df1.append(row)\n",
        "                    \n",
        "\n",
        "colnames = [x+\"_t\" for x in state_keys] + action_keys + [x+\"_tp1\" for x in state_keys] + [\"reward\"]\n",
        "df2 = pd.DataFrame(df1, columns = colnames)\n",
        "df2 = df2.sort_values(['reward', 'wl_in_tp1', 'wl_out_tp1'], ascending=True).reset_index(drop=True)\n",
        "#df2['wl_in_tp1'] = df2['wl_in_tp1'].astype('int64')\n",
        "#df2['wl_out_tp1'] = df2['wl_out_tp1'].astype('int64')\n",
        "\n",
        "print(\"results of testing on a grid (result is %i-row dataframe)\"%len(df1))\n",
        "df2.head()"
      ],
      "execution_count": 0,
      "outputs": [
        {
          "output_type": "stream",
          "text": [
            "test on grid\n",
            "results of testing on a grid (result is 128-row dataframe)\n"
          ],
          "name": "stdout"
        },
        {
          "output_type": "execute_result",
          "data": {
            "text/html": [
              "<div>\n",
              "<style scoped>\n",
              "    .dataframe tbody tr th:only-of-type {\n",
              "        vertical-align: middle;\n",
              "    }\n",
              "\n",
              "    .dataframe tbody tr th {\n",
              "        vertical-align: top;\n",
              "    }\n",
              "\n",
              "    .dataframe thead th {\n",
              "        text-align: right;\n",
              "    }\n",
              "</style>\n",
              "<table border=\"1\" class=\"dataframe\">\n",
              "  <thead>\n",
              "    <tr style=\"text-align: right;\">\n",
              "      <th></th>\n",
              "      <th>wl_in_t</th>\n",
              "      <th>pd1_t</th>\n",
              "      <th>pd2_t</th>\n",
              "      <th>wl_out_t</th>\n",
              "      <th>pump</th>\n",
              "      <th>bp1</th>\n",
              "      <th>bp2</th>\n",
              "      <th>wl_in_tp1</th>\n",
              "      <th>pd1_tp1</th>\n",
              "      <th>pd2_tp1</th>\n",
              "      <th>wl_out_tp1</th>\n",
              "      <th>reward</th>\n",
              "    </tr>\n",
              "  </thead>\n",
              "  <tbody>\n",
              "    <tr>\n",
              "      <th>0</th>\n",
              "      <td>0</td>\n",
              "      <td>0</td>\n",
              "      <td>0</td>\n",
              "      <td>0</td>\n",
              "      <td>True</td>\n",
              "      <td>True</td>\n",
              "      <td>True</td>\n",
              "      <td>0</td>\n",
              "      <td>0</td>\n",
              "      <td>0</td>\n",
              "      <td>0</td>\n",
              "      <td>-25</td>\n",
              "    </tr>\n",
              "    <tr>\n",
              "      <th>1</th>\n",
              "      <td>0</td>\n",
              "      <td>100</td>\n",
              "      <td>100</td>\n",
              "      <td>0</td>\n",
              "      <td>True</td>\n",
              "      <td>True</td>\n",
              "      <td>True</td>\n",
              "      <td>0</td>\n",
              "      <td>100</td>\n",
              "      <td>100</td>\n",
              "      <td>0</td>\n",
              "      <td>-25</td>\n",
              "    </tr>\n",
              "    <tr>\n",
              "      <th>2</th>\n",
              "      <td>0</td>\n",
              "      <td>0</td>\n",
              "      <td>0</td>\n",
              "      <td>100</td>\n",
              "      <td>True</td>\n",
              "      <td>True</td>\n",
              "      <td>True</td>\n",
              "      <td>0</td>\n",
              "      <td>0</td>\n",
              "      <td>0</td>\n",
              "      <td>100</td>\n",
              "      <td>-25</td>\n",
              "    </tr>\n",
              "    <tr>\n",
              "      <th>3</th>\n",
              "      <td>0</td>\n",
              "      <td>100</td>\n",
              "      <td>100</td>\n",
              "      <td>100</td>\n",
              "      <td>True</td>\n",
              "      <td>True</td>\n",
              "      <td>True</td>\n",
              "      <td>0</td>\n",
              "      <td>100</td>\n",
              "      <td>100</td>\n",
              "      <td>100</td>\n",
              "      <td>-25</td>\n",
              "    </tr>\n",
              "    <tr>\n",
              "      <th>4</th>\n",
              "      <td>0</td>\n",
              "      <td>0</td>\n",
              "      <td>0</td>\n",
              "      <td>0</td>\n",
              "      <td>True</td>\n",
              "      <td>True</td>\n",
              "      <td>False</td>\n",
              "      <td>0</td>\n",
              "      <td>0</td>\n",
              "      <td>0</td>\n",
              "      <td>0</td>\n",
              "      <td>-23</td>\n",
              "    </tr>\n",
              "  </tbody>\n",
              "</table>\n",
              "</div>"
            ],
            "text/plain": [
              "   wl_in_t  pd1_t  pd2_t  wl_out_t  pump   bp1    bp2  wl_in_tp1  pd1_tp1  \\\n",
              "0        0      0      0         0  True  True   True          0        0   \n",
              "1        0    100    100         0  True  True   True          0      100   \n",
              "2        0      0      0       100  True  True   True          0        0   \n",
              "3        0    100    100       100  True  True   True          0      100   \n",
              "4        0      0      0         0  True  True  False          0        0   \n",
              "\n",
              "   pd2_tp1  wl_out_tp1  reward  \n",
              "0        0           0     -25  \n",
              "1      100           0     -25  \n",
              "2        0         100     -25  \n",
              "3      100         100     -25  \n",
              "4        0           0     -23  "
            ]
          },
          "metadata": {
            "tags": []
          },
          "execution_count": 7
        }
      ]
    },
    {
      "metadata": {
        "id": "EoRihXB2U2ew",
        "colab_type": "text"
      },
      "cell_type": "markdown",
      "source": [
        "Legend for the columns in the table above\n",
        "- `wl_in_t`: water level at time t in the input water tank\n",
        "- `pd1_t`: pressure differential on 1st element in WTP, 0 to 100 with 0 for no blockage and 100 for complete blockage\n",
        "- `pd2_t`: same as `pd1_t` but on 2nd element\n",
        "- `wl_out_t`: like `wl_in_t` but for the output water tank\n",
        "- `pump`: state of pump, True for pump is on, False for pump is off\n",
        "- `bp1`: state of bypass of 1st element, True for on and False for off\n",
        "- `bp2`: like `bp1` but for 2nd element\n",
        "- `wl_in_tp1`: water level at time t+1 in the input water tank\n",
        "- `wl_in_tp1`: like `wl_in_t` but for time t+1\n",
        "- `wl_out_tp1`: like `wl_out_t` but for time t+1\n",
        "\n",
        "Note that the rows in the table above are not chronologically ordered.\n",
        "\n",
        "Each row corresponds to an entry in the grid space on which we're testing the transition function"
      ]
    },
    {
      "metadata": {
        "id": "TVVVRMptO1u7",
        "colab_type": "text"
      },
      "cell_type": "markdown",
      "source": [
        "Plot some fields from the above dataframe for visualization"
      ]
    },
    {
      "metadata": {
        "id": "nrwz-GZXKxsT",
        "colab_type": "code",
        "outputId": "e917ff02-19d5-435e-94e1-650ac338d167",
        "colab": {
          "base_uri": "https://localhost:8080/",
          "height": 1007
        }
      },
      "cell_type": "code",
      "source": [
        "from matplotlib import pyplot as plt\n",
        "df2[['reward']].plot()\n",
        "plt.show()\n",
        "\n",
        "df2[['wl_in_tp1']].plot()\n",
        "plt.show()\n",
        "\n",
        "df2[['wl_out_tp1']].plot()\n",
        "plt.show()\n"
      ],
      "execution_count": 0,
      "outputs": [
        {
          "output_type": "display_data",
          "data": {
            "image/png": "[encoded data removed]",
            "text/plain": [
              "<Figure size 576x396 with 1 Axes>"
            ]
          },
          "metadata": {
            "tags": []
          }
        },
        {
          "output_type": "display_data",
          "data": {
            "image/png": "[encoded data removed]",
            "text/plain": [
              "<Figure size 576x396 with 1 Axes>"
            ]
          },
          "metadata": {
            "tags": []
          }
        },
        {
          "output_type": "display_data",
          "data": {
            "image/png": "[encoded data removed]",
            "text/plain": [
              "<Figure size 576x396 with 1 Axes>"
            ]
          },
          "metadata": {
            "tags": []
          }
        }
      ]
    },
    {
      "metadata": {
        "id": "MoMxQ-HU4a2x",
        "colab_type": "text"
      },
      "cell_type": "markdown",
      "source": [
        "### Openai/gym environment class"
      ]
    },
    {
      "metadata": {
        "id": "h24Enh-TDI5h",
        "colab_type": "code",
        "colab": {}
      },
      "cell_type": "code",
      "source": [
        "# Create a gym env that simulates the current water treatment plant\n",
        "# Based on https://github.com/openai/gym/blob/master/gym/envs/toy_text/nchain.py\n",
        "\n",
        "import gym\n",
        "from gym import spaces\n",
        "#from gym.utils import seeding\n",
        "import numpy as np\n",
        "import random"
      ],
      "execution_count": 0,
      "outputs": []
    },
    {
      "metadata": {
        "id": "oBv4mojWRT6v",
        "colab_type": "code",
        "colab": {}
      },
      "cell_type": "code",
      "source": [
        "# Gym env\n",
        "class WtpOperatorEnv_v0(gym.Env):\n",
        "    \"\"\"Water Treatment Plant / Operator environment\n",
        "    \n",
        "    This is a simulation of operating a water treatment plant (WTP).\n",
        "    \n",
        "    Observation:\n",
        "      Parameters in water\n",
        "      Type: Box(.)\n",
        "      Water level in .. Range [0, 100]\n",
        "      Pressure difference on element 1 .. Range [0,10]\n",
        "      Pressure difference on element 2 .. Range [0,10]\n",
        "      Water level out .. Range [0, 100]\n",
        "      \n",
        "    Actions:\n",
        "      On/Off commands to pump, by-pass #1, by-pass #2\n",
        "      Type: Dict of 3x Discrete(3)\n",
        "      0 Do nothing\n",
        "      1 flip state from off to on or on to off\n",
        "      \n",
        "    Reward: check function \"act_on_wtp\"\n",
        "      \n",
        "    Episode termination:\n",
        "      Water level out is high at earliest time with minimal by-passing\n",
        "    \"\"\"\n",
        "    def __init__(self):\n",
        "        # number of steps to complete a WTP operation\n",
        "        # FIXME 10 is probably too low for the agent to learn using the bypass\n",
        "        # Increasing to 30\n",
        "        self.n_steps = 20 # 30 # 10\n",
        "        \n",
        "        # probability that the differential pressure increases due to blockage\n",
        "        # note that there is another 50% chance below that the blockage increases\n",
        "        # FIXME 10% (i.e. 0.1) is not high enough for training to learn it in 200 iterations\n",
        "        # Using 50% instead\n",
        "        self.prob_block = {\n",
        "            'pd1': 0.5, # 0.1 \n",
        "            'pd2': 0.5, # 0.5, # FIXME disabling the blockage of the 2nd element in case this is hindering learning the usage of the bypass\n",
        "        }\n",
        "        \n",
        "        #  actions: 0 for do nothing, 1 for flip state from off to on or vice versa\n",
        "        self.action_space = spaces.Tuple([\n",
        "            spaces.Discrete(2), # status of pump\n",
        "            spaces.Discrete(2), # status of by-pass #1\n",
        "            spaces.Discrete(2), # status of by-pass #2\n",
        "        ])\n",
        "        \n",
        "        # observations: water levels, pressure differences\n",
        "        obs_ranges = [\n",
        "            [0, 100], # water level in\n",
        "            [0, 100], # pressure difference #1\n",
        "            [0, 100], # pressure difference #2\n",
        "            [0, 100], # water level out\n",
        "        ]\n",
        "        self.observation_space = spaces.Box(\n",
        "            low=np.array([x[0] for x in obs_ranges]),\n",
        "            high=np.array([x[1] for x in obs_ranges]),\n",
        "            dtype=np.float32\n",
        "        )\n",
        "        \n",
        "        self.reset()\n",
        "        #self.seed()\n",
        "\n",
        "    #def seed(self, seed=None):\n",
        "    #    self.np_random, seed = seeding.np_random(seed)\n",
        "    #    return [seed]\n",
        "    \n",
        "    def reset(self, s0=None):\n",
        "      # s0 - desired state\n",
        "      if s0 is None:\n",
        "        # sensors and equipment status on/off\n",
        "        s0 = {\n",
        "          \"wl_in\":  100, # input tank is full\n",
        "          \"pd1\": 0, # differential pressure is negligible\n",
        "          \"pd2\": 0, # differential pressure is negligible\n",
        "          \"wl_out\":  20, # product tank is almost empty\n",
        "        }\n",
        "        \n",
        "      self.state = s0.copy()\n",
        "      self.step_i = 0\n",
        "      \n",
        "      # environment is fully observable, but state space needs to be converted from dict to list\n",
        "      obs = s_tp1_d2l(self.state)\n",
        "      return obs\n",
        "    \n",
        "    def step(self, act1):\n",
        "        assert self.action_space.contains(act1), \"action not in action space!\"\n",
        "        assert self.step_i < self.n_steps\n",
        "        \n",
        "        # increment number of steps taken\n",
        "        self.step_i += 1\n",
        "\n",
        "        # calculate reward of this action\n",
        "        act2 = dict(zip(action_keys, act1)) # tuple to dict\n",
        "        self.state, reward = act_on_wtp(self.state, act2)\n",
        "        #print(\"\\t state + element -> state after + reward\", wtp_i, self.state, reward_i)\n",
        "                                      \n",
        "        # operate the WTP for n_steps\n",
        "        done = self.step_i >= self.n_steps\n",
        "\n",
        "        # decide on next-state block or not\n",
        "        for dp_i in ['pd1', 'pd2']:\n",
        "          blocked_1 = False\n",
        "          if self.state[dp_i] == 0:\n",
        "            # 10% chance of being blocked if not blocked already\n",
        "            blocked_1 = (np.random.rand() < self.prob_block[dp_i]) # percentage that 1st element gets blockage\n",
        "          else:\n",
        "            # already blocked => continue being blocked\n",
        "            blocked_1 = True\n",
        "\n",
        "          if blocked_1:\n",
        "            # 2019-02-14\n",
        "            ## 50% chance of incrementing by 30 .. note that the blockage is digital at threshold 50\n",
        "            #dp_increment_1 = (np.random.rand() > 0.5) * 30          \n",
        "            #self.state[dp_i] += dp_increment_1\n",
        "            #self.state[dp_i] = min(100, self.state[dp_i]) # cap at 100\n",
        "            \n",
        "            # 2019-02-15 just block straight away\n",
        "            self.state[dp_i] = 100\n",
        "\n",
        "        # environment is fully observable, but state space needs to be converted from dict to list\n",
        "        obs_i = s_tp1_d2l(self.state)\n",
        "        return obs_i, reward, done, {}\n"
      ],
      "execution_count": 0,
      "outputs": []
    },
    {
      "metadata": {
        "id": "5MZMJr0kIkgr",
        "colab_type": "code",
        "colab": {}
      },
      "cell_type": "code",
      "source": [
        "print(\"Test the environment above with a grid search\")\n",
        "\n",
        "# itertools for generating grid search space\n",
        "import itertools\n",
        "\n",
        "# all possible actions\n",
        "act_all = list(itertools.product(range(len([0,1,])), repeat=3)) # env_test.n_steps))\n",
        "act_all = [list(x) for x in act_all]\n",
        "\n",
        "# all possible 5-step sequences of actions\n",
        "# Note that 10-step sequences would yield a set in the millions\n",
        "# so it's not feasible to perform a grid search\n",
        "act_all = list(itertools.product(act_all, repeat=5)) # env_test.n_steps))\n",
        "act_all = [list(x) for x in act_all]\n",
        "\n",
        "# appending 0's to the last 5 actions in the sequences\n",
        "act_all = [x+[[0,0,0]]*5 for x in act_all]\n",
        "\n",
        "# show sample\n",
        "# len(act_all), act_all[:2]\n",
        "\n",
        "\n",
        "# iterate\n",
        "print(\"grid search .. start\")\n",
        "env_test = WtpOperatorEnv_v0()\n",
        "obs_initial = env_test.reset().copy()\n",
        "obs_initial = dict(zip(state_keys, obs_initial))\n",
        "\n",
        "solution = dict(act_t=None, rew=-99999, obs_t=None)\n",
        "done = False\n",
        "\n",
        "n_all = len(act_all)\n",
        "for i1, act_i1 in enumerate(act_all):\n",
        "  if i1%1000 == 0: print(i1, n_all)\n",
        "  reward_sum = 0\n",
        "  env_test.reset(s0=obs_initial)\n",
        "  obs_i1 = []\n",
        "  # go through time steps and apply sequence of actions\n",
        "  for t, act_i2 in enumerate(act_i1):\n",
        "    #print(\"action\", act_i2)\n",
        "    obs_t, reward_i, done, _ = env_test.step(act_i2)\n",
        "    obs_i1.append(obs_t)\n",
        "    reward_sum += reward_i\n",
        "    if done: break\n",
        "    \n",
        "  #print(\"water in\", env_test.state, \"wtp\", [env_test.wtp_elements[x] for x in wtp_i], \"water out\", water_out, \"reward\", reward_sum)\n",
        "  if reward_sum > solution['rew']:\n",
        "    solution['act_t'] = act_i1 # sequence of actions\n",
        "    solution['rew'] = reward_sum\n",
        "    solution['obs_t'] = obs_i1 # trajectory\n",
        "\n",
        "\n",
        "print(\"grid search .. end\")"
      ],
      "execution_count": 0,
      "outputs": []
    },
    {
      "metadata": {
        "id": "tgA1VtmRYL-l",
        "colab_type": "code",
        "outputId": "75bb38b1-4a2c-4d90-b6c1-c78c1fc3774e",
        "colab": {
          "base_uri": "https://localhost:8080/",
          "height": 431
        }
      },
      "cell_type": "code",
      "source": [
        "# show result of grid search\n",
        "print(\"*\"*30)\n",
        "print(\"initial observation\", obs_initial)\n",
        "print(\"total reward\", solution['rew'])\n",
        "print(\"actions and observations\")\n",
        "\n",
        "pd.concat(\n",
        "    [ pd.DataFrame([dict(zip(action_keys, x)) for x in solution['act_t']]),\n",
        "      pd.DataFrame([dict(zip(state_keys, x)) for x in solution['obs_t']]),\n",
        "    ],\n",
        "    axis=1\n",
        ")"
      ],
      "execution_count": 0,
      "outputs": [
        {
          "output_type": "stream",
          "text": [
            "******************************\n",
            "initial observation {'wl_in': 100, 'pd1': 0, 'pd2': 0, 'wl_out': 20}\n",
            "total reward 26\n",
            "actions and observations\n"
          ],
          "name": "stdout"
        },
        {
          "output_type": "execute_result",
          "data": {
            "text/html": [
              "<div>\n",
              "<style scoped>\n",
              "    .dataframe tbody tr th:only-of-type {\n",
              "        vertical-align: middle;\n",
              "    }\n",
              "\n",
              "    .dataframe tbody tr th {\n",
              "        vertical-align: top;\n",
              "    }\n",
              "\n",
              "    .dataframe thead th {\n",
              "        text-align: right;\n",
              "    }\n",
              "</style>\n",
              "<table border=\"1\" class=\"dataframe\">\n",
              "  <thead>\n",
              "    <tr style=\"text-align: right;\">\n",
              "      <th></th>\n",
              "      <th>bp1</th>\n",
              "      <th>bp2</th>\n",
              "      <th>pump</th>\n",
              "      <th>pd1</th>\n",
              "      <th>pd2</th>\n",
              "      <th>wl_in</th>\n",
              "      <th>wl_out</th>\n",
              "    </tr>\n",
              "  </thead>\n",
              "  <tbody>\n",
              "    <tr>\n",
              "      <th>0</th>\n",
              "      <td>0</td>\n",
              "      <td>0</td>\n",
              "      <td>1</td>\n",
              "      <td>0</td>\n",
              "      <td>0</td>\n",
              "      <td>90</td>\n",
              "      <td>30</td>\n",
              "    </tr>\n",
              "    <tr>\n",
              "      <th>1</th>\n",
              "      <td>0</td>\n",
              "      <td>1</td>\n",
              "      <td>1</td>\n",
              "      <td>0</td>\n",
              "      <td>0</td>\n",
              "      <td>80</td>\n",
              "      <td>40</td>\n",
              "    </tr>\n",
              "    <tr>\n",
              "      <th>2</th>\n",
              "      <td>1</td>\n",
              "      <td>0</td>\n",
              "      <td>1</td>\n",
              "      <td>0</td>\n",
              "      <td>0</td>\n",
              "      <td>70</td>\n",
              "      <td>50</td>\n",
              "    </tr>\n",
              "    <tr>\n",
              "      <th>3</th>\n",
              "      <td>0</td>\n",
              "      <td>0</td>\n",
              "      <td>1</td>\n",
              "      <td>0</td>\n",
              "      <td>0</td>\n",
              "      <td>60</td>\n",
              "      <td>60</td>\n",
              "    </tr>\n",
              "    <tr>\n",
              "      <th>4</th>\n",
              "      <td>0</td>\n",
              "      <td>0</td>\n",
              "      <td>1</td>\n",
              "      <td>0</td>\n",
              "      <td>0</td>\n",
              "      <td>50</td>\n",
              "      <td>70</td>\n",
              "    </tr>\n",
              "    <tr>\n",
              "      <th>5</th>\n",
              "      <td>0</td>\n",
              "      <td>0</td>\n",
              "      <td>0</td>\n",
              "      <td>0</td>\n",
              "      <td>100</td>\n",
              "      <td>50</td>\n",
              "      <td>70</td>\n",
              "    </tr>\n",
              "    <tr>\n",
              "      <th>6</th>\n",
              "      <td>0</td>\n",
              "      <td>0</td>\n",
              "      <td>0</td>\n",
              "      <td>100</td>\n",
              "      <td>100</td>\n",
              "      <td>50</td>\n",
              "      <td>70</td>\n",
              "    </tr>\n",
              "    <tr>\n",
              "      <th>7</th>\n",
              "      <td>0</td>\n",
              "      <td>0</td>\n",
              "      <td>0</td>\n",
              "      <td>100</td>\n",
              "      <td>100</td>\n",
              "      <td>50</td>\n",
              "      <td>70</td>\n",
              "    </tr>\n",
              "    <tr>\n",
              "      <th>8</th>\n",
              "      <td>0</td>\n",
              "      <td>0</td>\n",
              "      <td>0</td>\n",
              "      <td>100</td>\n",
              "      <td>100</td>\n",
              "      <td>50</td>\n",
              "      <td>70</td>\n",
              "    </tr>\n",
              "    <tr>\n",
              "      <th>9</th>\n",
              "      <td>0</td>\n",
              "      <td>0</td>\n",
              "      <td>0</td>\n",
              "      <td>100</td>\n",
              "      <td>100</td>\n",
              "      <td>50</td>\n",
              "      <td>70</td>\n",
              "    </tr>\n",
              "  </tbody>\n",
              "</table>\n",
              "</div>"
            ],
            "text/plain": [
              "   bp1  bp2  pump  pd1  pd2  wl_in  wl_out\n",
              "0    0    0     1    0    0     90      30\n",
              "1    0    1     1    0    0     80      40\n",
              "2    1    0     1    0    0     70      50\n",
              "3    0    0     1    0    0     60      60\n",
              "4    0    0     1    0    0     50      70\n",
              "5    0    0     0    0  100     50      70\n",
              "6    0    0     0  100  100     50      70\n",
              "7    0    0     0  100  100     50      70\n",
              "8    0    0     0  100  100     50      70\n",
              "9    0    0     0  100  100     50      70"
            ]
          },
          "metadata": {
            "tags": []
          },
          "execution_count": 16
        }
      ]
    },
    {
      "metadata": {
        "id": "4sBDjsUhYtz8",
        "colab_type": "text"
      },
      "cell_type": "markdown",
      "source": [
        "The above table shows the observations of the previous simulation, along with the selected action sequence.\n",
        "\n",
        "Note that the grid space that is searched consists of actions only in the 1st 5 time-steps.\n",
        "\n",
        "This was done to reduce the space of actions that needs to be searched (as opposed to grid search on 10 timesteps for 3 on/off actions)"
      ]
    },
    {
      "metadata": {
        "id": "uABAo0QtDqdS",
        "colab_type": "text"
      },
      "cell_type": "markdown",
      "source": [
        "At this stage, the openai/gym environment is ready to be registered for later usage in reinforcement learning."
      ]
    },
    {
      "metadata": {
        "id": "UNoyVv0tA23n",
        "colab_type": "code",
        "colab": {}
      },
      "cell_type": "code",
      "source": [
        "# register the env with gym\n",
        "# https://github.com/openai/gym/tree/master/gym/envs#how-to-create-new-environments-for-gym\n",
        "from gym.envs.registration import register\n",
        "\n",
        "register(\n",
        "    id='WtpOperatorEnv-v0',\n",
        "    entry_point=WtpOperatorEnv_v0,\n",
        ")\n",
        "\n",
        "# test registration was successful\n",
        "env = gym.make(\"WtpOperatorEnv-v0\")"
      ],
      "execution_count": 0,
      "outputs": []
    },
    {
      "metadata": {
        "id": "-CSzFyFDPm38",
        "colab_type": "text"
      },
      "cell_type": "markdown",
      "source": [
        "## Reinforcement learning"
      ]
    },
    {
      "metadata": {
        "id": "hUFhZD1gReJU",
        "colab_type": "text"
      },
      "cell_type": "markdown",
      "source": [
        "\n",
        "### Rlworkgroup/garage policy and algorithm\n",
        "\n",
        "Some class imports"
      ]
    },
    {
      "metadata": {
        "id": "9j8M1L9S6rvU",
        "colab_type": "code",
        "colab": {}
      },
      "cell_type": "code",
      "source": [
        "# The contents of this cell are mostly copied from garage/examples/...\n",
        "\n",
        "from garage.np.baselines import LinearFeatureBaseline\n",
        "from garage.envs import normalize\n",
        "from garage.tf.algos import TRPO # can use PPO\n",
        "from garage.tf.envs import TfEnv\n",
        "from garage.tf.policies import CategoricalMLPPolicy\n",
        "\n",
        "from garage.experiment import LocalRunner\n",
        "from garage.logger import logger, StdOutput"
      ],
      "execution_count": 0,
      "outputs": []
    },
    {
      "metadata": {
        "id": "fx-dpcxkP79p",
        "colab_type": "text"
      },
      "cell_type": "markdown",
      "source": [
        "A utility function for use in the wrapper class below"
      ]
    },
    {
      "metadata": {
        "id": "K5-ojZTNTynj",
        "colab_type": "code",
        "colab": {}
      },
      "cell_type": "code",
      "source": [
        "def singlebase_to_multibase(y, dims):\n",
        "  \"\"\"\n",
        "  Illustration\n",
        "  \n",
        "  >>> import itertools\n",
        "  >>> x=np.array(list(itertools.product(range(4), range(3), range(2))))\n",
        "  >>> y=x[:,0]*2*3 + x[:,1]*2 + x[:,2]\n",
        "  >>> y.sort()\n",
        "  >>> y\n",
        "  array([ 0,  1,  2,  3,  4,  5,  6,  7,  8,  9, 10, 11, 12, 13, 14, 15, 16,\n",
        "         17, 18, 19, 20, 21, 22, 23])\n",
        "\n",
        "  Notice how \"y\" has no duplicates, and hence is a one-to-one mapping from the original matrix \"x\"\n",
        "\n",
        "  Now convert y back to x\n",
        "\n",
        "  >>> z1  = y//(2*3)\n",
        "  >>> z1b = y %(2*3)\n",
        "  >>> z2 = z1b//2\n",
        "  >>> z2b = z1b %2\n",
        "  >>> z3 = z2b//1\n",
        "  >>> z = np.array([np.array(z1), np.array(z2), np.array(z3)]).T\n",
        "\n",
        "  Notice that z == x\n",
        "  \n",
        "  \n",
        "  Example:\n",
        "  \n",
        "  >>> import itertools\n",
        "  >>> x = np.array(list(itertools.product(range(4), range(3), range(2))))\n",
        "  >>> y = x[:,0]*2*3 + x[:,1]*2 + x[:,2]\n",
        "  >>> z = singlebase_to_multibase(y, [4,3,2])\n",
        "  >>> assert z == x\n",
        "  \"\"\"\n",
        "  # calculate weights\n",
        "  weights = dims[::-1] # reverse\n",
        "  weights = np.array(weights).cumprod() # cumulative product\n",
        "  weights = np.roll(weights, 1) # move last entry to first\n",
        "  weights[0] = 1 # overwrite\n",
        "  weights = weights[::-1] # reverse  \n",
        "  # calcalate output\n",
        "  z0 = []\n",
        "  z_b = y\n",
        "  for w in weights:\n",
        "    z_  = z_b // w\n",
        "    z0.append(z_)\n",
        "    z_b = z_b % w\n",
        "  # return\n",
        "  z0 = np.array(z0).T\n",
        "  return z0\n",
        "\n",
        "###########\n",
        "# test\n",
        "import itertools\n",
        "x = np.array(list(itertools.product(range(4), range(3), range(2))))\n",
        "y = x[:,0]*2*3 + x[:,1]*2 + x[:,2]\n",
        "z = singlebase_to_multibase(y, [4,3,2])\n",
        "assert (z==x).all()"
      ],
      "execution_count": 0,
      "outputs": []
    },
    {
      "metadata": {
        "id": "xs_nHBe0QDUn",
        "colab_type": "text"
      },
      "cell_type": "markdown",
      "source": [
        "Define a utility class UnFlattenActTupleWrapper that will wrap the gym environment and un-flatten a single action space to multiple components of lower dimensionality.\n",
        "\n",
        "This is necessary for using the existing garage.tf.policies.CategoricalMLPPolicy (garage policy) that supports \"single-input\" environments.\n",
        "\n",
        "This does not affect the quality of the training."
      ]
    },
    {
      "metadata": {
        "id": "jM2EMRAPKbhO",
        "colab_type": "code",
        "colab": {}
      },
      "cell_type": "code",
      "source": [
        "class UnFlattenActTupleWrapper(gym.ActionWrapper):\n",
        "    \"\"\"\n",
        "    UnFlattens a Discrete action into a Tuple action space\n",
        "    \n",
        "    Inherits from ActionWrapper\n",
        "    https://github.com/openai/gym/blob/6497c9f1c6e43066c8945f02ed3ed4d234f45dc1/gym/core.py\n",
        "    \"\"\"\n",
        "    def __init__(self, env):\n",
        "        super().__init__(env)\n",
        "\n",
        "        # save action_space dimensions once\n",
        "        self.dims = [c.n for c in env.action_space.spaces]\n",
        "        flat_dim = np.array(self.dims).prod()\n",
        "        self.action_space = spaces.Discrete(flat_dim)\n",
        "\n",
        "        \n",
        "    def action(self, action_in):\n",
        "      return self.convert_action(action_in)\n",
        "      \n",
        "    def convert_action(self, action_in):\n",
        "        \"\"\"\n",
        "        convert a flat action into tuple\n",
        "        \n",
        "        based on t0-0e FlattenDictWrapper2\n",
        "        \"\"\"\n",
        "        action_out = singlebase_to_multibase(action_in, self.dims)\n",
        "        action_out = np.array(action_out).astype('int')\n",
        "        action_out = tuple(action_out)\n",
        "        return action_out\n"
      ],
      "execution_count": 0,
      "outputs": []
    },
    {
      "metadata": {
        "id": "sCWiAqFmQzBU",
        "colab_type": "text"
      },
      "cell_type": "markdown",
      "source": [
        "Instantiate the WtpOperatorEnv-v0 environment, policy, baseline, and TRPO training algorithm.\n",
        "\n",
        "The policy chosen is a fully-connected feed-forward neural network.\n",
        "\n",
        "Alternatively, one could choose `garage.tf.algos.PPO` instead of `TRPO`"
      ]
    },
    {
      "metadata": {
        "id": "tx8_cmOe63QK",
        "colab_type": "code",
        "colab": {}
      },
      "cell_type": "code",
      "source": [
        "# # Instantiate the environment, policy, baseline, and algorithm for training\n",
        "#----------------------------------\n",
        "from gym import wrappers\n",
        "\n",
        "# env = TfEnv(normalize(gym.make(\"CartPole-v0\")))\n",
        "env = gym.make(\"WtpOperatorEnv-v0\")\n",
        "env = UnFlattenActTupleWrapper(env)\n",
        "env = TfEnv(normalize(env))\n",
        "\n",
        "# Using larger hidden sizes to learn to use the bypass\n",
        "hidden_sizes=(32, 32)\n",
        "policy = CategoricalMLPPolicy(name=\"policy\", env_spec=env.spec, hidden_sizes=hidden_sizes)\n",
        "\n",
        "baseline = LinearFeatureBaseline(env_spec=env.spec)\n",
        "\n",
        "\n",
        "algo = TRPO(\n",
        "    env_spec=env.spec,\n",
        "    policy=policy,\n",
        "    baseline=baseline,\n",
        "    max_path_length=env.env.env.env.n_steps+2, # add 2 since this is just a safety measure\n",
        "    #n_itr=5, # smoke test\n",
        "    n_itr=100,\n",
        "    discount=0.99,\n",
        "    max_kl_step=0.01\n",
        ")"
      ],
      "execution_count": 0,
      "outputs": []
    },
    {
      "metadata": {
        "id": "7loyVzOfRV2N",
        "colab_type": "text"
      },
      "cell_type": "markdown",
      "source": [
        "### Train the policy"
      ]
    },
    {
      "metadata": {
        "id": "eBk8B2h36pMw",
        "colab_type": "code",
        "outputId": "fc28c59a-0b2f-4d0c-fb8b-5b7cd6522a2b",
        "colab": {
          "base_uri": "https://localhost:8080/",
          "height": 53
        }
      },
      "cell_type": "code",
      "source": [
        "# start a tensorflow session so that we can keep it open after training and use the trained network to see it performing\n",
        "# ---------------------------------------------------------\n",
        "import tensorflow as tf\n",
        "\n",
        "# check that we're using GPU if available\n",
        "# https://stackoverflow.com/a/38019608/4126114\n",
        "#sess = tf.Session(config=tf.ConfigProto(log_device_placement=True))\n",
        "\n",
        "sess = tf.InteractiveSession()\n",
        "\n",
        "# initialize\n",
        "sess.run(tf.global_variables_initializer())\n",
        "\n",
        "# List available devices to tensorflow\n",
        "sess.list_devices()"
      ],
      "execution_count": 0,
      "outputs": [
        {
          "output_type": "execute_result",
          "data": {
            "text/plain": [
              "[_DeviceAttributes(/job:localhost/replica:0/task:0/device:CPU:0, CPU, 268435456, 18149472165597474589),\n",
              " _DeviceAttributes(/job:localhost/replica:0/task:0/device:XLA_CPU:0, XLA_CPU, 17179869184, 5104018510435903785)]"
            ]
          },
          "metadata": {
            "tags": []
          },
          "execution_count": 23
        }
      ]
    },
    {
      "metadata": {
        "id": "lKEfvnDZSB3g",
        "colab_type": "code",
        "colab": {}
      },
      "cell_type": "code",
      "source": [
        "# log to stdout\n",
        "logger.add_output(StdOutput())"
      ],
      "execution_count": 0,
      "outputs": []
    },
    {
      "metadata": {
        "id": "v7LQO4zBp8h4",
        "colab_type": "code",
        "colab": {}
      },
      "cell_type": "code",
      "source": [
        "# Train the policy (neural network) on the environment\n",
        "runner = LocalRunner()\n",
        "\n",
        "runner.setup(algo=algo, env=env)\n",
        "\n",
        "# use n_epochs = 1 for smoke testing\n",
        "runner.train(n_epochs=50, batch_size=4000, plot=False)"
      ],
      "execution_count": 0,
      "outputs": []
    },
    {
      "metadata": {
        "id": "PglgHP5xSQL0",
        "colab_type": "code",
        "colab": {
          "base_uri": "https://localhost:8080/",
          "height": 899
        },
        "outputId": "6177f413-bf84-44f6-ea48-3549bf3e1f49"
      },
      "cell_type": "code",
      "source": [
        "# re-run 1 epoch just to save the output of training to the notebook\n",
        "# since I clear the output from the previous 50-epoch training to avoid cluttering the notebook\n",
        "runner.train(n_epochs=1, batch_size=4000, plot=False)"
      ],
      "execution_count": 26,
      "outputs": [
        {
          "output_type": "stream",
          "text": [
            "2019-04-02 09:59:26 | epoch #0 | Obtaining samples...\n",
            "2019-04-02 09:59:26 | epoch #0 | Obtaining samples for iteration 0...\n"
          ],
          "name": "stdout"
        },
        {
          "output_type": "stream",
          "text": [
            "0% [##############################] 100% | ETA: 00:00:00\n",
            "Total time elapsed: 00:00:03\n"
          ],
          "name": "stderr"
        },
        {
          "output_type": "stream",
          "text": [
            "2019-04-02 09:59:29 | epoch #0 | Logging diagnostics...\n",
            "2019-04-02 09:59:29 | epoch #0 | Optimizing policy...\n",
            "2019-04-02 09:59:29 | epoch #0 | Computing loss before\n",
            "2019-04-02 09:59:29 | epoch #0 | Computing KL before\n",
            "2019-04-02 09:59:29 | epoch #0 | Optimizing\n",
            "2019-04-02 09:59:29 | epoch #0 | Start CG optimization: #parameters: 1480, #inputs: 200, #subsample_inputs: 200\n",
            "2019-04-02 09:59:29 | epoch #0 | computing loss before\n",
            "2019-04-02 09:59:29 | epoch #0 | performing update\n",
            "2019-04-02 09:59:29 | epoch #0 | computing gradient\n",
            "2019-04-02 09:59:29 | epoch #0 | gradient computed\n",
            "2019-04-02 09:59:29 | epoch #0 | computing descent direction\n",
            "2019-04-02 09:59:30 | epoch #0 | descent direction computed\n",
            "2019-04-02 09:59:30 | epoch #0 | backtrack iters: 1\n",
            "2019-04-02 09:59:30 | epoch #0 | computing loss after\n",
            "2019-04-02 09:59:30 | epoch #0 | optimization finished\n",
            "2019-04-02 09:59:30 | epoch #0 | Computing KL after\n",
            "2019-04-02 09:59:30 | epoch #0 | Computing loss after\n",
            "2019-04-02 09:59:30 | epoch #0 | Fitting baseline...\n",
            "2019-04-02 09:59:30 | epoch #0 | Saving snapshot...\n",
            "2019-04-02 09:59:30 | epoch #0 | Saved\n",
            "2019-04-02 09:59:30 | epoch #0 | Time 3.51 s\n",
            "2019-04-02 09:59:30 | epoch #0 | EpochTime 3.51 s\n",
            "---------------------------------------  -------------\n",
            "AverageDiscountedReturn                   25.3762\n",
            "AverageReturn                             26.505\n",
            "Entropy                                    0.920262\n",
            "EnvExecTime                                0.691886\n",
            "Extras/EpisodeRewardMean                  26.09\n",
            "Iteration                                  0\n",
            "LinearFeatureBaseline/ExplainedVariance    0.703786\n",
            "MaxReturn                                 40\n",
            "MinReturn                                  9\n",
            "NumTrajs                                 200\n",
            "Perplexity                                 2.50995\n",
            "PolicyExecTime                             2.35187\n",
            "ProcessExecTime                            0.0937541\n",
            "StdReturn                                  4.82182\n",
            "policy/Entropy                             0.897681\n",
            "policy/KL                                  0.00868554\n",
            "policy/KLBefore                            0\n",
            "policy/LossAfter                          -0.0129527\n",
            "policy/LossBefore                          3.43323e-08\n",
            "policy/dLoss                               0.0129527\n",
            "---------------------------------------  -------------\n"
          ],
          "name": "stdout"
        },
        {
          "output_type": "execute_result",
          "data": {
            "text/plain": [
              "26.505"
            ]
          },
          "metadata": {
            "tags": []
          },
          "execution_count": 26
        }
      ]
    },
    {
      "metadata": {
        "id": "zLBLdbfgi163",
        "colab_type": "text"
      },
      "cell_type": "markdown",
      "source": [
        "### Conduct an experiment using the trained policy\n",
        "\n",
        "Start with a full source tank, an almost-empty product tank, and random blockage"
      ]
    },
    {
      "metadata": {
        "id": "5WFM_CmDfApo",
        "colab_type": "code",
        "outputId": "1b5ee93c-5235-4ddd-f7f7-b18e99e29221",
        "colab": {
          "base_uri": "https://localhost:8080/",
          "height": 669
        }
      },
      "cell_type": "code",
      "source": [
        "# validate with some experiment\n",
        "obs_initial = env.reset().copy()\n",
        "#obs_initial = dict(zip(state_keys, obs_initial))\n",
        "\n",
        "# go through time steps and apply sequence of actions\n",
        "done = False\n",
        "obs_t_l = obs_initial\n",
        "solution = dict(obs = [], rew = [], act = [])\n",
        "while not done:\n",
        "  obs_t_d = dict(zip(state_keys, obs_t_l)) # tuple to dict\n",
        "  #print(\"obs\", obs_t_d)\n",
        "  solution['obs'].append(obs_t_d)\n",
        "  act_t1, prob_t = policy.get_action(obs_t_l)\n",
        "  act_t2 = env.env.env.action(act_t1) # convert flat to non-flat\n",
        "  act_t2 = dict(zip(action_keys, act_t2)) # tuple to dict\n",
        "  #print(\"action\", act_t1, act_t2)\n",
        "  solution['act'].append(act_t2)\n",
        "  obs_t_l, reward_t, done, _ = env.step(act_t1)\n",
        "  #print(\"rew\", reward_t)\n",
        "  solution['rew'].append(reward_t)\n",
        "  if done: break\n",
        "\n",
        "# blend\n",
        "solution['act'] = pd.DataFrame(solution['act'])\n",
        "solution['obs'] = pd.DataFrame(solution['obs'])\n",
        "solution = pd.concat([solution['obs'], solution['act'], pd.DataFrame({'rew': solution['rew']})], axis=1)\n",
        "#for fx in ['bp1', 'bp2', 'pump']:\n",
        "#  solution[fx] = solution[fx].astype('bool')\n",
        "  \n",
        "solution"
      ],
      "execution_count": 27,
      "outputs": [
        {
          "output_type": "execute_result",
          "data": {
            "text/html": [
              "<div>\n",
              "<style scoped>\n",
              "    .dataframe tbody tr th:only-of-type {\n",
              "        vertical-align: middle;\n",
              "    }\n",
              "\n",
              "    .dataframe tbody tr th {\n",
              "        vertical-align: top;\n",
              "    }\n",
              "\n",
              "    .dataframe thead th {\n",
              "        text-align: right;\n",
              "    }\n",
              "</style>\n",
              "<table border=\"1\" class=\"dataframe\">\n",
              "  <thead>\n",
              "    <tr style=\"text-align: right;\">\n",
              "      <th></th>\n",
              "      <th>pd1</th>\n",
              "      <th>pd2</th>\n",
              "      <th>wl_in</th>\n",
              "      <th>wl_out</th>\n",
              "      <th>bp1</th>\n",
              "      <th>bp2</th>\n",
              "      <th>pump</th>\n",
              "      <th>rew</th>\n",
              "    </tr>\n",
              "  </thead>\n",
              "  <tbody>\n",
              "    <tr>\n",
              "      <th>0</th>\n",
              "      <td>0</td>\n",
              "      <td>0</td>\n",
              "      <td>100</td>\n",
              "      <td>20</td>\n",
              "      <td>0</td>\n",
              "      <td>0</td>\n",
              "      <td>1</td>\n",
              "      <td>6.0</td>\n",
              "    </tr>\n",
              "    <tr>\n",
              "      <th>1</th>\n",
              "      <td>100</td>\n",
              "      <td>100</td>\n",
              "      <td>90</td>\n",
              "      <td>30</td>\n",
              "      <td>1</td>\n",
              "      <td>1</td>\n",
              "      <td>1</td>\n",
              "      <td>2.0</td>\n",
              "    </tr>\n",
              "    <tr>\n",
              "      <th>2</th>\n",
              "      <td>100</td>\n",
              "      <td>100</td>\n",
              "      <td>80</td>\n",
              "      <td>40</td>\n",
              "      <td>0</td>\n",
              "      <td>0</td>\n",
              "      <td>0</td>\n",
              "      <td>0.0</td>\n",
              "    </tr>\n",
              "    <tr>\n",
              "      <th>3</th>\n",
              "      <td>100</td>\n",
              "      <td>100</td>\n",
              "      <td>80</td>\n",
              "      <td>40</td>\n",
              "      <td>1</td>\n",
              "      <td>1</td>\n",
              "      <td>1</td>\n",
              "      <td>2.0</td>\n",
              "    </tr>\n",
              "    <tr>\n",
              "      <th>4</th>\n",
              "      <td>100</td>\n",
              "      <td>100</td>\n",
              "      <td>70</td>\n",
              "      <td>50</td>\n",
              "      <td>1</td>\n",
              "      <td>1</td>\n",
              "      <td>1</td>\n",
              "      <td>2.0</td>\n",
              "    </tr>\n",
              "    <tr>\n",
              "      <th>5</th>\n",
              "      <td>100</td>\n",
              "      <td>100</td>\n",
              "      <td>60</td>\n",
              "      <td>60</td>\n",
              "      <td>0</td>\n",
              "      <td>0</td>\n",
              "      <td>0</td>\n",
              "      <td>0.0</td>\n",
              "    </tr>\n",
              "    <tr>\n",
              "      <th>6</th>\n",
              "      <td>100</td>\n",
              "      <td>100</td>\n",
              "      <td>60</td>\n",
              "      <td>60</td>\n",
              "      <td>1</td>\n",
              "      <td>1</td>\n",
              "      <td>1</td>\n",
              "      <td>2.0</td>\n",
              "    </tr>\n",
              "    <tr>\n",
              "      <th>7</th>\n",
              "      <td>100</td>\n",
              "      <td>100</td>\n",
              "      <td>50</td>\n",
              "      <td>70</td>\n",
              "      <td>1</td>\n",
              "      <td>1</td>\n",
              "      <td>1</td>\n",
              "      <td>2.0</td>\n",
              "    </tr>\n",
              "    <tr>\n",
              "      <th>8</th>\n",
              "      <td>100</td>\n",
              "      <td>100</td>\n",
              "      <td>40</td>\n",
              "      <td>80</td>\n",
              "      <td>1</td>\n",
              "      <td>1</td>\n",
              "      <td>1</td>\n",
              "      <td>2.0</td>\n",
              "    </tr>\n",
              "    <tr>\n",
              "      <th>9</th>\n",
              "      <td>100</td>\n",
              "      <td>100</td>\n",
              "      <td>30</td>\n",
              "      <td>90</td>\n",
              "      <td>0</td>\n",
              "      <td>1</td>\n",
              "      <td>0</td>\n",
              "      <td>-1.0</td>\n",
              "    </tr>\n",
              "    <tr>\n",
              "      <th>10</th>\n",
              "      <td>100</td>\n",
              "      <td>100</td>\n",
              "      <td>30</td>\n",
              "      <td>90</td>\n",
              "      <td>0</td>\n",
              "      <td>0</td>\n",
              "      <td>0</td>\n",
              "      <td>0.0</td>\n",
              "    </tr>\n",
              "    <tr>\n",
              "      <th>11</th>\n",
              "      <td>100</td>\n",
              "      <td>100</td>\n",
              "      <td>30</td>\n",
              "      <td>90</td>\n",
              "      <td>1</td>\n",
              "      <td>1</td>\n",
              "      <td>1</td>\n",
              "      <td>12.0</td>\n",
              "    </tr>\n",
              "    <tr>\n",
              "      <th>12</th>\n",
              "      <td>100</td>\n",
              "      <td>100</td>\n",
              "      <td>20</td>\n",
              "      <td>100</td>\n",
              "      <td>0</td>\n",
              "      <td>1</td>\n",
              "      <td>0</td>\n",
              "      <td>-1.0</td>\n",
              "    </tr>\n",
              "    <tr>\n",
              "      <th>13</th>\n",
              "      <td>100</td>\n",
              "      <td>100</td>\n",
              "      <td>20</td>\n",
              "      <td>100</td>\n",
              "      <td>1</td>\n",
              "      <td>0</td>\n",
              "      <td>0</td>\n",
              "      <td>-1.0</td>\n",
              "    </tr>\n",
              "    <tr>\n",
              "      <th>14</th>\n",
              "      <td>100</td>\n",
              "      <td>100</td>\n",
              "      <td>20</td>\n",
              "      <td>100</td>\n",
              "      <td>0</td>\n",
              "      <td>0</td>\n",
              "      <td>0</td>\n",
              "      <td>0.0</td>\n",
              "    </tr>\n",
              "    <tr>\n",
              "      <th>15</th>\n",
              "      <td>100</td>\n",
              "      <td>100</td>\n",
              "      <td>20</td>\n",
              "      <td>100</td>\n",
              "      <td>0</td>\n",
              "      <td>0</td>\n",
              "      <td>0</td>\n",
              "      <td>0.0</td>\n",
              "    </tr>\n",
              "    <tr>\n",
              "      <th>16</th>\n",
              "      <td>100</td>\n",
              "      <td>100</td>\n",
              "      <td>20</td>\n",
              "      <td>100</td>\n",
              "      <td>1</td>\n",
              "      <td>0</td>\n",
              "      <td>0</td>\n",
              "      <td>-1.0</td>\n",
              "    </tr>\n",
              "    <tr>\n",
              "      <th>17</th>\n",
              "      <td>100</td>\n",
              "      <td>100</td>\n",
              "      <td>20</td>\n",
              "      <td>100</td>\n",
              "      <td>0</td>\n",
              "      <td>1</td>\n",
              "      <td>0</td>\n",
              "      <td>-1.0</td>\n",
              "    </tr>\n",
              "    <tr>\n",
              "      <th>18</th>\n",
              "      <td>100</td>\n",
              "      <td>100</td>\n",
              "      <td>20</td>\n",
              "      <td>100</td>\n",
              "      <td>0</td>\n",
              "      <td>1</td>\n",
              "      <td>0</td>\n",
              "      <td>-1.0</td>\n",
              "    </tr>\n",
              "    <tr>\n",
              "      <th>19</th>\n",
              "      <td>100</td>\n",
              "      <td>100</td>\n",
              "      <td>20</td>\n",
              "      <td>100</td>\n",
              "      <td>0</td>\n",
              "      <td>1</td>\n",
              "      <td>0</td>\n",
              "      <td>-1.0</td>\n",
              "    </tr>\n",
              "  </tbody>\n",
              "</table>\n",
              "</div>"
            ],
            "text/plain": [
              "    pd1  pd2  wl_in  wl_out  bp1  bp2  pump   rew\n",
              "0     0    0    100      20    0    0     1   6.0\n",
              "1   100  100     90      30    1    1     1   2.0\n",
              "2   100  100     80      40    0    0     0   0.0\n",
              "3   100  100     80      40    1    1     1   2.0\n",
              "4   100  100     70      50    1    1     1   2.0\n",
              "5   100  100     60      60    0    0     0   0.0\n",
              "6   100  100     60      60    1    1     1   2.0\n",
              "7   100  100     50      70    1    1     1   2.0\n",
              "8   100  100     40      80    1    1     1   2.0\n",
              "9   100  100     30      90    0    1     0  -1.0\n",
              "10  100  100     30      90    0    0     0   0.0\n",
              "11  100  100     30      90    1    1     1  12.0\n",
              "12  100  100     20     100    0    1     0  -1.0\n",
              "13  100  100     20     100    1    0     0  -1.0\n",
              "14  100  100     20     100    0    0     0   0.0\n",
              "15  100  100     20     100    0    0     0   0.0\n",
              "16  100  100     20     100    1    0     0  -1.0\n",
              "17  100  100     20     100    0    1     0  -1.0\n",
              "18  100  100     20     100    0    1     0  -1.0\n",
              "19  100  100     20     100    0    1     0  -1.0"
            ]
          },
          "metadata": {
            "tags": []
          },
          "execution_count": 27
        }
      ]
    },
    {
      "metadata": {
        "id": "dp26AxdO_Lr1",
        "colab_type": "text"
      },
      "cell_type": "markdown",
      "source": [
        "The table above shows that the agent successfully learns to start/stop the pump and bypass blocked elements in order to reach its goal of transferring water from the raw water tank to the product tank with neither overflow nor overdraw"
      ]
    }
  ]
}