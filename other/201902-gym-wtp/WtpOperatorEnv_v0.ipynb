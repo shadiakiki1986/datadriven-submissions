{
  "nbformat": 4,
  "nbformat_minor": 0,
  "metadata": {
    "colab": {
      "name": "t1-b WtpOperatorEnv v0 - change action to hold not flip.ipynb",
      "version": "0.3.2",
      "provenance": [],
      "collapsed_sections": [],
      "toc_visible": true,
      "include_colab_link": true
    },
    "kernelspec": {
      "name": "python3",
      "display_name": "Python 3"
    },
    "accelerator": "GPU"
  },
  "cells": [
    {
      "cell_type": "markdown",
      "metadata": {
        "id": "view-in-github",
        "colab_type": "text"
      },
      "source": [
        "<a href=\"https://colab.research.google.com/github/shadiakiki1986/ml-competitions/blob/master/other/201902-gym-wtp/WtpOperatorEnv_v0.ipynb\" target=\"_parent\"><img src=\"https://colab.research.google.com/assets/colab-badge.svg\" alt=\"Open In Colab\"/></a>"
      ]
    },
    {
      "metadata": {
        "id": "fampYnGf-d_2",
        "colab_type": "text"
      },
      "cell_type": "markdown",
      "source": [
        "# WTP operator\n",
        "\n",
        "This notebook demonstrates an openai/gym environment to simulate the operation of a water treatment plant.\n",
        "\n",
        "It also trains a feed-forward neural network on this task under different starting conditions, and given random system failures. The agent learns to \n",
        "- start/stop the feed pump to transfer water from the raw water tank to the product water tank without overflow nor overdraw.\n",
        "-  bypass a blocked element"
      ]
    },
    {
      "metadata": {
        "id": "uH8OK4YfDc0_",
        "colab_type": "text"
      },
      "cell_type": "markdown",
      "source": [
        "# install pre-reqs"
      ]
    },
    {
      "metadata": {
        "id": "NiIjx-0Rwjze",
        "colab_type": "code",
        "outputId": "22e6258f-bc10-407f-cf5c-5df3a19b9d85",
        "colab": {
          "base_uri": "https://localhost:8080/",
          "height": 386
        }
      },
      "cell_type": "code",
      "source": [
        "# install openai gym\n",
        "!pip install gym | tail\n",
        "!pip show gym"
      ],
      "execution_count": 1,
      "outputs": [
        {
          "output_type": "stream",
          "text": [
            "Requirement already satisfied: scipy in /usr/local/lib/python3.6/dist-packages (from gym) (1.1.0)\n",
            "Requirement already satisfied: numpy>=1.10.4 in /usr/local/lib/python3.6/dist-packages (from gym) (1.14.6)\n",
            "Requirement already satisfied: requests>=2.0 in /usr/local/lib/python3.6/dist-packages (from gym) (2.18.4)\n",
            "Requirement already satisfied: six in /usr/local/lib/python3.6/dist-packages (from gym) (1.11.0)\n",
            "Requirement already satisfied: pyglet>=1.2.0 in /usr/local/lib/python3.6/dist-packages (from gym) (1.3.2)\n",
            "Requirement already satisfied: idna<2.7,>=2.5 in /usr/local/lib/python3.6/dist-packages (from requests>=2.0->gym) (2.6)\n",
            "Requirement already satisfied: urllib3<1.23,>=1.21.1 in /usr/local/lib/python3.6/dist-packages (from requests>=2.0->gym) (1.22)\n",
            "Requirement already satisfied: chardet<3.1.0,>=3.0.2 in /usr/local/lib/python3.6/dist-packages (from requests>=2.0->gym) (3.0.4)\n",
            "Requirement already satisfied: certifi>=2017.4.17 in /usr/local/lib/python3.6/dist-packages (from requests>=2.0->gym) (2018.11.29)\n",
            "Requirement already satisfied: future in /usr/local/lib/python3.6/dist-packages (from pyglet>=1.2.0->gym) (0.16.0)\n",
            "Name: gym\n",
            "Version: 0.10.11\n",
            "Summary: The OpenAI Gym: A toolkit for developing and comparing your reinforcement learning agents.\n",
            "Home-page: https://github.com/openai/gym\n",
            "Author: OpenAI\n",
            "Author-email: gym@openai.com\n",
            "License: UNKNOWN\n",
            "Location: /usr/local/lib/python3.6/dist-packages\n",
            "Requires: scipy, numpy, requests, six, pyglet\n",
            "Required-by: tensor2tensor, stable-baselines, dopamine-rl\n"
          ],
          "name": "stdout"
        }
      ]
    },
    {
      "metadata": {
        "id": "DspfHxVA6Pnj",
        "colab_type": "code",
        "outputId": "acd2ba64-3f61-4473-bd65-1ad9a4585cd9",
        "colab": {
          "base_uri": "https://localhost:8080/",
          "height": 484
        }
      },
      "cell_type": "code",
      "source": [
        "# install dependencies of rlworkgroup/garage\n",
        "# Copied from colab/2019-01-21/t3.ipynb\n",
        "#------------------------------------\n",
        "\n",
        "# Install dependencies (copied from garage/environment.yml)\n",
        "!apt-get install libglfw3 libglfw3-dev | tail\n",
        "\n",
        "# >>>>>>>>   requires restart of runtime in colab.research.google.com due to joblib and rsa <<<<<<\n",
        "!pip install awscli  boto3  cached_property  cloudpickle  cma==1.1.06 flask  gym  \"box2d-py>=2.3.4\"  hyperopt  ipdb  ipywidgets  jsonmerge  \"joblib<0.13,>=0.12\"  jupyter  mako  matplotlib  memory_profiler  pandas  path.py    polling  pre_commit  protobuf  psutil  pygame  pyglet  PyOpenGL  pyprind  python-dateutil  pyzmq  scikit-image  scipy  tensorboard  | tail\n",
        "#\"tensorflow<1.10,>=1.9.0\"  Theano==1.0.2    \"mujoco-py<1.50.2,>=1.50.1\" gym[all]==0.10.8\n",
        "#!pip install jsonmerge glfw mako pygame\n",
        "!pip install pyprind cma glfw | tail\n",
        "\n",
        "# Install garage (continued in next cell)\n",
        "!git clone https://github.com/rlworkgroup/garage\n",
        "# !cd garage && pip install -e . # >>>>>>>>   requires restart of runtime in colab.research.google.com due to joblib and rsa <<<<<<\n",
        "#!pip show rlgarage garage"
      ],
      "execution_count": 7,
      "outputs": [
        {
          "output_type": "stream",
          "text": [
            "Reading package lists...\n",
            "Building dependency tree...\n",
            "Reading state information...\n",
            "libglfw3 is already the newest version (3.2.1-1).\n",
            "libglfw3-dev is already the newest version (3.2.1-1).\n",
            "0 upgraded, 0 newly installed, 0 to remove and 8 not upgraded.\n",
            "Requirement already satisfied: pbr>=0.11 in /usr/local/lib/python3.6/dist-packages (from mock->polling) (5.1.2)\n",
            "Requirement already satisfied: more-itertools>=4.0.0 in /usr/local/lib/python3.6/dist-packages (from pytest->polling) (6.0.0)\n",
            "Requirement already satisfied: py>=1.5.0 in /usr/local/lib/python3.6/dist-packages (from pytest->polling) (1.7.0)\n",
            "Requirement already satisfied: pluggy>=0.7 in /usr/local/lib/python3.6/dist-packages (from pytest->polling) (0.8.1)\n",
            "Requirement already satisfied: atomicwrites>=1.0 in /usr/local/lib/python3.6/dist-packages (from pytest->polling) (1.3.0)\n",
            "Requirement already satisfied: attrs>=17.4.0 in /usr/local/lib/python3.6/dist-packages (from pytest->polling) (18.2.0)\n",
            "Requirement already satisfied: olefile in /usr/local/lib/python3.6/dist-packages (from pillow>=2.1.0->scikit-image) (0.46)\n",
            "Requirement already satisfied: wcwidth in /usr/local/lib/python3.6/dist-packages (from prompt-toolkit<2.0.0,>=1.0.4->ipython>=5.0.0; python_version >= \"3.3\"->ipdb) (0.1.7)\n",
            "Requirement already satisfied: ptyprocess>=0.5 in /usr/local/lib/python3.6/dist-packages (from pexpect; sys_platform != \"win32\"->ipython>=5.0.0; python_version >= \"3.3\"->ipdb) (0.6.0)\n",
            "Requirement already satisfied: webencodings in /usr/local/lib/python3.6/dist-packages (from bleach->nbconvert->jupyter) (0.5.1)\n",
            "Requirement already satisfied: pyprind in /usr/local/lib/python3.6/dist-packages (2.11.2)\n",
            "Requirement already satisfied: cma in /usr/local/lib/python3.6/dist-packages (1.1.6)\n",
            "Requirement already satisfied: glfw in /usr/local/lib/python3.6/dist-packages (1.7.1)\n",
            "Cloning into 'garage'...\n",
            "remote: Enumerating objects: 116, done.\u001b[K\n",
            "remote: Counting objects: 100% (116/116), done.\u001b[K\n",
            "remote: Compressing objects: 100% (81/81), done.\u001b[K\n",
            "remote: Total 10472 (delta 54), reused 60 (delta 35), pack-reused 10356\u001b[K\n",
            "Receiving objects: 100% (10472/10472), 9.13 MiB | 10.29 MiB/s, done.\n",
            "Resolving deltas: 100% (7322/7322), done.\n"
          ],
          "name": "stdout"
        }
      ]
    },
    {
      "metadata": {
        "id": "TXWtR1vm99vx",
        "colab_type": "code",
        "outputId": "bebf7d4c-8024-4871-fd84-b7bb84875e9c",
        "colab": {
          "base_uri": "https://localhost:8080/",
          "height": 318
        }
      },
      "cell_type": "code",
      "source": [
        "# Install garage, commit e7324a68dedd94b4ea15a9c761bab2af032e2480 before the upcoming commits related to bumping gym/dm-control/mujoco versions\n",
        "!cd garage && git checkout e7324a68dedd94b4ea15a9c761bab2af032e2480\n",
        "!cd garage && pip install -e . # >>>>>>>>   requires restart of runtime in colab.research.google.com due to joblib and rsa <<<<<<"
      ],
      "execution_count": 9,
      "outputs": [
        {
          "output_type": "stream",
          "text": [
            "Note: checking out 'e7324a68dedd94b4ea15a9c761bab2af032e2480'.\n",
            "\n",
            "You are in 'detached HEAD' state. You can look around, make experimental\n",
            "changes and commit them, and you can discard any commits you make in this\n",
            "state without impacting any branches by performing another checkout.\n",
            "\n",
            "If you want to create a new branch to retain commits you create, you may\n",
            "do so (now or later) by using -b with the checkout command again. Example:\n",
            "\n",
            "  git checkout -b <new-branch-name>\n",
            "\n",
            "HEAD is now at e7324a6 Move nb_utils.py to garage.experiment\n",
            "Obtaining file:///content/garage\n",
            "Installing collected packages: rlgarage\n",
            "  Running setup.py develop for rlgarage\n",
            "Successfully installed rlgarage\n"
          ],
          "name": "stdout"
        }
      ]
    },
    {
      "metadata": {
        "id": "iMQ4ibxk8jQw",
        "colab_type": "text"
      },
      "cell_type": "markdown",
      "source": [
        "\n",
        "\n",
        "---\n",
        "\n",
        "\n",
        "\n",
        "---\n",
        "\n",
        "\n",
        "\n",
        "---\n",
        "\n"
      ]
    },
    {
      "metadata": {
        "id": "34oLOKVb5t8l",
        "colab_type": "text"
      },
      "cell_type": "markdown",
      "source": [
        "# Utility functions"
      ]
    },
    {
      "metadata": {
        "id": "48v00yBXHmur",
        "colab_type": "code",
        "colab": {}
      },
      "cell_type": "code",
      "source": [
        "import pandas as pd"
      ],
      "execution_count": 0,
      "outputs": []
    },
    {
      "metadata": {
        "id": "_JInZOBkzjxO",
        "colab_type": "code",
        "colab": {}
      },
      "cell_type": "code",
      "source": [
        "# utility\n",
        "state_keys = [\n",
        "    \"wl_in\", # wl: water level\n",
        "    \"pd1\", # pd: pressure difference\n",
        "    \"pd2\", \n",
        "    \"wl_out\"\n",
        "]\n",
        "\n",
        "action_keys = [\"pump\", \"bp1\", \"bp2\"]\n",
        "\n",
        "\n",
        "def s_tp1_d2l(s_tp1):\n",
        "    # convert state_tp1 from dict back to list\n",
        "    #print(\"s in:\", s_tp1)\n",
        "    s_tp1 = [s_tp1[k] for k in state_keys]\n",
        "    return s_tp1\n",
        "\n",
        "\n",
        "def act_on_wtp(state_t, action_t):\n",
        "  \"\"\"\n",
        "  Parameters\n",
        "  state_t - state values, dict with keys being in `state_keys`\n",
        "  action_t - action values, dict with keys being in `action_keys`\n",
        "  \n",
        "  Returns\n",
        "  state_tp1 - state at t+1 after action\n",
        "  reward - reward after action\n",
        "  \"\"\"\n",
        "  debug=False\n",
        "  \n",
        "  #print(\"state/act(t)\", state_t, action_t)\n",
        "  \n",
        "  # convert list to dict\n",
        "  # state_t = dict(zip(state_keys, state_t))\n",
        "  \n",
        "  #print(\"----------\")\n",
        "  #print(state_t)\n",
        "  #print(\"action_t\", action_t)\n",
        "  \n",
        "  # any action taken\n",
        "  any_action = any(action_t[x] for x in action_t)\n",
        "  if not any_action:\n",
        "    if debug: print(\"not doing anything and system is off\")\n",
        "    return state_t, 0\n",
        "\n",
        "  # initialize\n",
        "  state_tp1 = state_t.copy()\n",
        "  reward = 0\n",
        "  pump_capacity = 10 # pump capacity per time step\n",
        "  \n",
        "  # first, apply cost reward for energy to take action\n",
        "  #action_t = dict(zip(action_keys, action_t))\n",
        "  if action_t[\"pump\"]:\n",
        "    if debug: print(\"small punishment for electric power consumption\")\n",
        "    reward -= 1\n",
        "\n",
        "  # continue applying actions to other elements\n",
        "  if action_t[\"bp1\"]:\n",
        "    if debug: print(\"small punishment for electric power consumption\")\n",
        "    reward -= 1\n",
        "    \n",
        "  if action_t[\"bp2\"]:\n",
        "    if debug: print(\"small punishment for electric power consumption\")\n",
        "    reward -= 1\n",
        "\n",
        "  if not action_t[\"pump\"]:\n",
        "    if debug: print(\"system is still off\")\n",
        "    return state_tp1, reward\n",
        "\n",
        "  # when pump is in action\n",
        "  if (\n",
        "      # no blockage\n",
        "      (state_t[\"pd1\"] < 50) & (state_t[\"pd2\"] < 50)\n",
        "     ) | (\n",
        "      # blockage present, but correct bypass is on\n",
        "      (\n",
        "          not ( (state_t[\"pd1\"] >= 50) ^ action_t[\"bp1\"] ) # not a xor b\n",
        "      ) & (\n",
        "          not ( (state_t[\"pd2\"] >= 50) ^ action_t[\"bp2\"] )\n",
        "      )\n",
        "     ):\n",
        "    if debug: print(\"pump is on and water is flowing\")\n",
        "    if state_t[\"wl_in\"] >= pump_capacity:\n",
        "      if debug: print(\"positive reward for moving water\")\n",
        "      state_tp1[\"wl_out\"] += pump_capacity\n",
        "      state_tp1[\"wl_in\"] -= pump_capacity\n",
        "      reward += 7\n",
        "    else:\n",
        "      if debug: print(\"pump will overdraw from raw water tank\")\n",
        "      state_tp1[\"wl_out\"] += state_t[\"wl_in\"]\n",
        "      state_tp1[\"wl_in\"] = 0\n",
        "      reward -= 20 # pump burning due to no water\n",
        "          \n",
        "  if state_tp1[\"wl_out\"] > 100:\n",
        "    if debug: print(\"punish for product tank overflowing\")\n",
        "    state_tp1[\"wl_out\"] = 100\n",
        "    reward -= 20\n",
        "    \n",
        "  if action_t[\"bp1\"]:\n",
        "    if debug: print(\"punish for lower water quality .. element 1\")\n",
        "    reward -= 1\n",
        "\n",
        "  if action_t[\"bp2\"]:\n",
        "    if debug: print(\"punish for lower water quality .. element 2\")\n",
        "    reward -= 1\n",
        "\n",
        "  if (state_t['wl_out']<100) & (state_tp1['wl_out']==100):\n",
        "    if debug: print(\"bonus points for first attainment of full product tank\")\n",
        "    reward += 10\n",
        "    \n",
        "  # done\n",
        "  return state_tp1, reward\n",
        "\n"
      ],
      "execution_count": 0,
      "outputs": []
    },
    {
      "metadata": {
        "id": "-vp35P2wJxa9",
        "colab_type": "code",
        "colab": {}
      },
      "cell_type": "code",
      "source": [
        "# test reward for turning on bp1 while pump is on\n",
        "s_t = {\n",
        "    \"wl_in\": 100, # wl: water level\n",
        "    \"pd1\": 100, # pd: pressure difference\n",
        "    \"pd2\": 0, \n",
        "    \"wl_out\": 0\n",
        "}\n",
        "\n",
        "a_t = {\"pump\": True, \n",
        "       \"bp1\": True, \n",
        "       \"bp2\": False\n",
        "      }\n",
        "\n",
        "\n",
        "s_tp1, reward = act_on_wtp(s_t, a_t)\n",
        "#print(s_tp1, reward)\n",
        "assert reward > 0"
      ],
      "execution_count": 0,
      "outputs": []
    },
    {
      "metadata": {
        "id": "PFuvi9Bv9c_8",
        "colab_type": "code",
        "colab": {}
      },
      "cell_type": "code",
      "source": [
        "# test reward for turning on bp1 while pump is on\n",
        "s_t = {\n",
        "    \"wl_in\": 100, # wl: water level\n",
        "    \"pd1\": 100, # pd: pressure difference\n",
        "    \"pd2\": 100, \n",
        "    \"wl_out\": 0\n",
        "}\n",
        "\n",
        "a_t = {\"pump\": True, \n",
        "       \"bp1\": True, \n",
        "       \"bp2\": True\n",
        "      }\n",
        "\n",
        "\n",
        "s_tp1, reward = act_on_wtp(s_t, a_t)\n",
        "#print(s_tp1, reward)\n",
        "assert reward > 0"
      ],
      "execution_count": 0,
      "outputs": []
    },
    {
      "metadata": {
        "id": "Yrv9sES41ZwE",
        "colab_type": "code",
        "colab": {}
      },
      "cell_type": "code",
      "source": [
        "# test issue of pump on, no differential pressure, and still water doesn't flow\n",
        "s_t = {\n",
        "    \"wl_in\": 70, # wl: water level\n",
        "    \"pd1\": 0, # pd: pressure difference\n",
        "    \"pd2\": 0, \n",
        "    \"wl_out\": 50\n",
        "}\n",
        "\n",
        "a_t = {\"pump\": 1, \n",
        "       \"bp1\": 0, \n",
        "       \"bp2\": 0\n",
        "      }\n",
        "\n",
        "\n",
        "s_tp1, reward = act_on_wtp(s_t, a_t)\n",
        "#print(s_tp1, reward)\n",
        "assert s_tp1['wl_in'] < s_t['wl_in']"
      ],
      "execution_count": 0,
      "outputs": []
    },
    {
      "metadata": {
        "id": "iXfUkqKv5fjQ",
        "colab_type": "code",
        "colab": {}
      },
      "cell_type": "code",
      "source": [
        "# test issue of pump on, both dp blocked, only 1 bp on, and still water flows\n",
        "s_t = {\n",
        "    \"wl_in\": 70, # wl: water level\n",
        "    \"pd1\": 100, # pd: pressure difference\n",
        "    \"pd2\": 100, \n",
        "    \"wl_out\": 50\n",
        "}\n",
        "\n",
        "a_t = {\"pump\": 1, \n",
        "       \"bp1\": 1, \n",
        "       \"bp2\": 0\n",
        "      }\n",
        "\n",
        "\n",
        "s_tp1, reward = act_on_wtp(s_t, a_t)\n",
        "#print(s_tp1, reward)\n",
        "assert s_tp1['wl_in'] == s_t['wl_in']"
      ],
      "execution_count": 0,
      "outputs": []
    },
    {
      "metadata": {
        "id": "MTFzvBH4wm21",
        "colab_type": "code",
        "outputId": "2f9b6f4e-bcb5-425d-b137-e073d254fad4",
        "colab": {
          "base_uri": "https://localhost:8080/",
          "height": 34
        }
      },
      "cell_type": "code",
      "source": [
        "# test on grid\n",
        "df1 = []\n",
        "for s_wl_in in [0,100]:\n",
        "    for s_pd1 in [0, 100]:\n",
        "        for s_pd2 in [0, 100]:\n",
        "            for s_wl_out in [0,100]:\n",
        "              for a_pump in [True,False]:\n",
        "                for a_bp1 in [True,False]:\n",
        "                  for a_bp2 in [True,False]:\n",
        "                    s_t1 = [s_wl_in, s_pd1, s_pd2, s_wl_out]\n",
        "                    a_t1 = [a_pump, a_bp1, a_bp2]\n",
        "                    s_t2 = dict(zip(state_keys, s_t1))\n",
        "                    a_t2 = dict(zip(action_keys, a_t1))\n",
        "                    s_tp1a, reward = act_on_wtp(s_t2, a_t2)\n",
        "                    s_tp1b = s_tp1_d2l(s_tp1a)\n",
        "                    \n",
        "                    row = []\n",
        "                    row += s_t1\n",
        "                    row += a_t1\n",
        "                    row += s_tp1b\n",
        "                    row += [reward]\n",
        "                    \n",
        "                    df1.append(row)\n",
        "                    \n",
        "print(\"done\", len(df1))\n"
      ],
      "execution_count": 7,
      "outputs": [
        {
          "output_type": "stream",
          "text": [
            "done 128\n"
          ],
          "name": "stdout"
        }
      ]
    },
    {
      "metadata": {
        "id": "T6ZAUlsMHszp",
        "colab_type": "code",
        "outputId": "b9bd1395-727b-46a4-b02b-934199886978",
        "colab": {
          "base_uri": "https://localhost:8080/",
          "height": 204
        }
      },
      "cell_type": "code",
      "source": [
        "\n",
        "colnames = [x+\"_t\" for x in state_keys] + action_keys + [x+\"_tp1\" for x in state_keys] + [\"reward\"]\n",
        "df2 = pd.DataFrame(df1, columns = colnames)\n",
        "df2 = df2.sort_values(['reward', 'wl_in_tp1', 'wl_out_tp1'], ascending=True).reset_index(drop=True)\n",
        "#df2['wl_in_tp1'] = df2['wl_in_tp1'].astype('int64')\n",
        "#df2['wl_out_tp1'] = df2['wl_out_tp1'].astype('int64')\n",
        "\n",
        "df2.head()"
      ],
      "execution_count": 8,
      "outputs": [
        {
          "output_type": "execute_result",
          "data": {
            "text/html": [
              "<div>\n",
              "<style scoped>\n",
              "    .dataframe tbody tr th:only-of-type {\n",
              "        vertical-align: middle;\n",
              "    }\n",
              "\n",
              "    .dataframe tbody tr th {\n",
              "        vertical-align: top;\n",
              "    }\n",
              "\n",
              "    .dataframe thead th {\n",
              "        text-align: right;\n",
              "    }\n",
              "</style>\n",
              "<table border=\"1\" class=\"dataframe\">\n",
              "  <thead>\n",
              "    <tr style=\"text-align: right;\">\n",
              "      <th></th>\n",
              "      <th>wl_in_t</th>\n",
              "      <th>pd1_t</th>\n",
              "      <th>pd2_t</th>\n",
              "      <th>wl_out_t</th>\n",
              "      <th>pump</th>\n",
              "      <th>bp1</th>\n",
              "      <th>bp2</th>\n",
              "      <th>wl_in_tp1</th>\n",
              "      <th>pd1_tp1</th>\n",
              "      <th>pd2_tp1</th>\n",
              "      <th>wl_out_tp1</th>\n",
              "      <th>reward</th>\n",
              "    </tr>\n",
              "  </thead>\n",
              "  <tbody>\n",
              "    <tr>\n",
              "      <th>0</th>\n",
              "      <td>0</td>\n",
              "      <td>0</td>\n",
              "      <td>0</td>\n",
              "      <td>0</td>\n",
              "      <td>True</td>\n",
              "      <td>True</td>\n",
              "      <td>True</td>\n",
              "      <td>0</td>\n",
              "      <td>0</td>\n",
              "      <td>0</td>\n",
              "      <td>0</td>\n",
              "      <td>-25</td>\n",
              "    </tr>\n",
              "    <tr>\n",
              "      <th>1</th>\n",
              "      <td>0</td>\n",
              "      <td>100</td>\n",
              "      <td>100</td>\n",
              "      <td>0</td>\n",
              "      <td>True</td>\n",
              "      <td>True</td>\n",
              "      <td>True</td>\n",
              "      <td>0</td>\n",
              "      <td>100</td>\n",
              "      <td>100</td>\n",
              "      <td>0</td>\n",
              "      <td>-25</td>\n",
              "    </tr>\n",
              "    <tr>\n",
              "      <th>2</th>\n",
              "      <td>0</td>\n",
              "      <td>0</td>\n",
              "      <td>0</td>\n",
              "      <td>100</td>\n",
              "      <td>True</td>\n",
              "      <td>True</td>\n",
              "      <td>True</td>\n",
              "      <td>0</td>\n",
              "      <td>0</td>\n",
              "      <td>0</td>\n",
              "      <td>100</td>\n",
              "      <td>-25</td>\n",
              "    </tr>\n",
              "    <tr>\n",
              "      <th>3</th>\n",
              "      <td>0</td>\n",
              "      <td>100</td>\n",
              "      <td>100</td>\n",
              "      <td>100</td>\n",
              "      <td>True</td>\n",
              "      <td>True</td>\n",
              "      <td>True</td>\n",
              "      <td>0</td>\n",
              "      <td>100</td>\n",
              "      <td>100</td>\n",
              "      <td>100</td>\n",
              "      <td>-25</td>\n",
              "    </tr>\n",
              "    <tr>\n",
              "      <th>4</th>\n",
              "      <td>0</td>\n",
              "      <td>0</td>\n",
              "      <td>0</td>\n",
              "      <td>0</td>\n",
              "      <td>True</td>\n",
              "      <td>True</td>\n",
              "      <td>False</td>\n",
              "      <td>0</td>\n",
              "      <td>0</td>\n",
              "      <td>0</td>\n",
              "      <td>0</td>\n",
              "      <td>-23</td>\n",
              "    </tr>\n",
              "  </tbody>\n",
              "</table>\n",
              "</div>"
            ],
            "text/plain": [
              "   wl_in_t  pd1_t  pd2_t  wl_out_t  pump   bp1    bp2  wl_in_tp1  pd1_tp1  \\\n",
              "0        0      0      0         0  True  True   True          0        0   \n",
              "1        0    100    100         0  True  True   True          0      100   \n",
              "2        0      0      0       100  True  True   True          0        0   \n",
              "3        0    100    100       100  True  True   True          0      100   \n",
              "4        0      0      0         0  True  True  False          0        0   \n",
              "\n",
              "   pd2_tp1  wl_out_tp1  reward  \n",
              "0        0           0     -25  \n",
              "1      100           0     -25  \n",
              "2        0         100     -25  \n",
              "3      100         100     -25  \n",
              "4        0           0     -23  "
            ]
          },
          "metadata": {
            "tags": []
          },
          "execution_count": 8
        }
      ]
    },
    {
      "metadata": {
        "id": "nrwz-GZXKxsT",
        "colab_type": "code",
        "outputId": "a7ee4c77-065c-44d9-a29f-51fd0c682782",
        "colab": {
          "base_uri": "https://localhost:8080/",
          "height": 1007
        }
      },
      "cell_type": "code",
      "source": [
        "from matplotlib import pyplot as plt\n",
        "df2[['reward']].plot()\n",
        "plt.show()\n",
        "\n",
        "df2[['wl_in_tp1']].plot()\n",
        "plt.show()\n",
        "\n",
        "df2[['wl_out_tp1']].plot()\n",
        "plt.show()\n"
      ],
      "execution_count": 9,
      "outputs": [
        {
          "output_type": "display_data",
          "data": {
            "image/png": "[encoded data removed]",
            "text/plain": [
              "<Figure size 576x396 with 1 Axes>"
            ]
          },
          "metadata": {
            "tags": []
          }
        },
        {
          "output_type": "display_data",
          "data": {
            "image/png": "[encoded data removed]",
            "text/plain": [
              "<Figure size 576x396 with 1 Axes>"
            ]
          },
          "metadata": {
            "tags": []
          }
        },
        {
          "output_type": "display_data",
          "data": {
            "image/png": "[encoded data removed]",
            "text/plain": [
              "<Figure size 576x396 with 1 Axes>"
            ]
          },
          "metadata": {
            "tags": []
          }
        }
      ]
    },
    {
      "metadata": {
        "id": "MoMxQ-HU4a2x",
        "colab_type": "text"
      },
      "cell_type": "markdown",
      "source": [
        "# Create gym env"
      ]
    },
    {
      "metadata": {
        "id": "h24Enh-TDI5h",
        "colab_type": "code",
        "colab": {}
      },
      "cell_type": "code",
      "source": [
        "# Create a gym env that simulates the current water treatment plant\n",
        "# Based on https://github.com/openai/gym/blob/master/gym/envs/toy_text/nchain.py\n",
        "\n",
        "import gym\n",
        "from gym import spaces\n",
        "#from gym.utils import seeding\n",
        "import numpy as np\n",
        "import random\n",
        "\n"
      ],
      "execution_count": 0,
      "outputs": []
    },
    {
      "metadata": {
        "id": "oBv4mojWRT6v",
        "colab_type": "code",
        "colab": {}
      },
      "cell_type": "code",
      "source": [
        "\n",
        "# Gym env\n",
        "class WtpOperatorEnv_v0(gym.Env):\n",
        "    \"\"\"Water Treatment Plant / Operator environment\n",
        "    \n",
        "    This is a simulation of operating a water treatment plant (WTP).\n",
        "    \n",
        "    Observation:\n",
        "      Parameters in water\n",
        "      Type: Box(.)\n",
        "      Water level in .. Range [0, 100]\n",
        "      Pressure difference on element 1 .. Range [0,10]\n",
        "      Pressure difference on element 2 .. Range [0,10]\n",
        "      Water level out .. Range [0, 100]\n",
        "      \n",
        "    Actions:\n",
        "      On/Off commands to pump, by-pass #1, by-pass #2\n",
        "      Type: Dict of 3x Discrete(3)\n",
        "      0 Do nothing\n",
        "      1 flip state from off to on or on to off\n",
        "      \n",
        "    Reward: check function \"act_on_wtp\"\n",
        "      \n",
        "    Episode termination:\n",
        "      Water level out is high at earliest time with minimal by-passing\n",
        "    \"\"\"\n",
        "    def __init__(self):\n",
        "        # number of steps to complete a WTP operation\n",
        "        # FIXME 10 is probably too low for the agent to learn using the bypass\n",
        "        # Increasing to 30\n",
        "        self.n_steps = 20 # 30 # 10\n",
        "        \n",
        "        # probability that the differential pressure increases due to blockage\n",
        "        # note that there is another 50% chance below that the blockage increases\n",
        "        # FIXME 10% (i.e. 0.1) is not high enough for training to learn it in 200 iterations\n",
        "        # Using 50% instead\n",
        "        self.prob_block = {\n",
        "            'pd1': 0.5, # 0.1 \n",
        "            'pd2': 0.5, # 0.5, # FIXME disabling the blockage of the 2nd element in case this is hindering learning the usage of the bypass\n",
        "        }\n",
        "        \n",
        "        #  actions: 0 for do nothing, 1 for flip state from off to on or vice versa\n",
        "        self.action_space = spaces.Tuple([\n",
        "            spaces.Discrete(2), # status of pump\n",
        "            spaces.Discrete(2), # status of by-pass #1\n",
        "            spaces.Discrete(2), # status of by-pass #2\n",
        "        ])\n",
        "        \n",
        "        # observations: water levels, pressure differences\n",
        "        obs_ranges = [\n",
        "            [0, 100], # water level in\n",
        "            [0, 100], # pressure difference #1\n",
        "            [0, 100], # pressure difference #2\n",
        "            [0, 100], # water level out\n",
        "        ]\n",
        "        self.observation_space = spaces.Box(\n",
        "            low=np.array([x[0] for x in obs_ranges]),\n",
        "            high=np.array([x[1] for x in obs_ranges]),\n",
        "            dtype=np.float32\n",
        "        )\n",
        "        \n",
        "        self.reset()\n",
        "        #self.seed()\n",
        "\n",
        "    #def seed(self, seed=None):\n",
        "    #    self.np_random, seed = seeding.np_random(seed)\n",
        "    #    return [seed]\n",
        "    \n",
        "    def reset(self, s0=None):\n",
        "      # s0 - desired state\n",
        "      if s0 is None:\n",
        "        # sensors and equipment status on/off\n",
        "        s0 = {\n",
        "          \"wl_in\":  100, # input tank is full\n",
        "          \"pd1\": 0, # differential pressure is negligible\n",
        "          \"pd2\": 0, # differential pressure is negligible\n",
        "          \"wl_out\":  20, # product tank is almost empty\n",
        "        }\n",
        "        \n",
        "      self.state = s0.copy()\n",
        "      self.step_i = 0\n",
        "      \n",
        "      # environment is fully observable, but state space needs to be converted from dict to list\n",
        "      obs = s_tp1_d2l(self.state)\n",
        "      return obs\n",
        "    \n",
        "    def step(self, act1):\n",
        "        assert self.action_space.contains(act1), \"action not in action space!\"\n",
        "        assert self.step_i < self.n_steps\n",
        "        \n",
        "        # increment number of steps taken\n",
        "        self.step_i += 1\n",
        "\n",
        "        # calculate reward of this action\n",
        "        act2 = dict(zip(action_keys, act1)) # tuple to dict\n",
        "        self.state, reward = act_on_wtp(self.state, act2)\n",
        "        #print(\"\\t state + element -> state after + reward\", wtp_i, self.state, reward_i)\n",
        "                                      \n",
        "        # operate the WTP for n_steps\n",
        "        done = self.step_i >= self.n_steps\n",
        "\n",
        "        # decide on next-state block or not\n",
        "        for dp_i in ['pd1', 'pd2']:\n",
        "          blocked_1 = False\n",
        "          if self.state[dp_i] == 0:\n",
        "            # 10% chance of being blocked if not blocked already\n",
        "            blocked_1 = (np.random.rand() < self.prob_block[dp_i]) # percentage that 1st element gets blockage\n",
        "          else:\n",
        "            # already blocked => continue being blocked\n",
        "            blocked_1 = True\n",
        "\n",
        "          if blocked_1:\n",
        "            # 2019-02-14\n",
        "            ## 50% chance of incrementing by 30 .. note that the blockage is digital at threshold 50\n",
        "            #dp_increment_1 = (np.random.rand() > 0.5) * 30          \n",
        "            #self.state[dp_i] += dp_increment_1\n",
        "            #self.state[dp_i] = min(100, self.state[dp_i]) # cap at 100\n",
        "            \n",
        "            # 2019-02-15 just block straight away\n",
        "            self.state[dp_i] = 100\n",
        "\n",
        "        # environment is fully observable, but state space needs to be converted from dict to list\n",
        "        obs_i = s_tp1_d2l(self.state)\n",
        "        return obs_i, reward, done, {}\n"
      ],
      "execution_count": 0,
      "outputs": []
    },
    {
      "metadata": {
        "id": "5MZMJr0kIkgr",
        "colab_type": "code",
        "outputId": "4d2021b0-a47a-41f4-a649-2e23948622d0",
        "colab": {
          "base_uri": "https://localhost:8080/",
          "height": 374
        }
      },
      "cell_type": "code",
      "source": [
        "# itertools for generating grid search space\n",
        "import itertools\n",
        "\n",
        "# all possible actions\n",
        "act_all = list(itertools.product(range(len([0,1,])), repeat=3)) # env_test.n_steps))\n",
        "act_all = [list(x) for x in act_all]\n",
        "\n",
        "# all possible 5-step sequences of actions\n",
        "# Note that 10-step sequences would yield a set in the millions\n",
        "# so it's not feasible to perform a grid search\n",
        "act_all = list(itertools.product(act_all, repeat=5)) # env_test.n_steps))\n",
        "act_all = [list(x) for x in act_all]\n",
        "\n",
        "# appending 0's to the last 5 actions in the sequences\n",
        "act_all = [x+[[0,0,0]]*5 for x in act_all]\n",
        "\n",
        "# show sample\n",
        "len(act_all), act_all[:2]"
      ],
      "execution_count": 14,
      "outputs": [
        {
          "output_type": "execute_result",
          "data": {
            "text/plain": [
              "(32768,\n",
              " [[[0, 0, 0],\n",
              "   [0, 0, 0],\n",
              "   [0, 0, 0],\n",
              "   [0, 0, 0],\n",
              "   [0, 0, 0],\n",
              "   [0, 0, 0],\n",
              "   [0, 0, 0],\n",
              "   [0, 0, 0],\n",
              "   [0, 0, 0],\n",
              "   [0, 0, 0]],\n",
              "  [[0, 0, 0],\n",
              "   [0, 0, 0],\n",
              "   [0, 0, 0],\n",
              "   [0, 0, 0],\n",
              "   [0, 0, 1],\n",
              "   [0, 0, 0],\n",
              "   [0, 0, 0],\n",
              "   [0, 0, 0],\n",
              "   [0, 0, 0],\n",
              "   [0, 0, 0]]])"
            ]
          },
          "metadata": {
            "tags": []
          },
          "execution_count": 14
        }
      ]
    },
    {
      "metadata": {
        "id": "ccLhrtydaOZr",
        "colab_type": "code",
        "outputId": "d350c067-1da3-42d3-da9e-7851bcacf272",
        "colab": {
          "base_uri": "https://localhost:8080/",
          "height": 612
        }
      },
      "cell_type": "code",
      "source": [
        "\n",
        "# iterate\n",
        "print(\"grid search .. start\")\n",
        "env_test = WtpOperatorEnv_v0()\n",
        "obs_initial = env_test.reset().copy()\n",
        "obs_initial = dict(zip(state_keys, obs_initial))\n",
        "\n",
        "solution = dict(act_t=None, rew=-99999, obs_t=None)\n",
        "done = False\n",
        "\n",
        "n_all = len(act_all)\n",
        "for i1, act_i1 in enumerate(act_all):\n",
        "  if i1%1000 == 0: print(i1, n_all)\n",
        "  reward_sum = 0\n",
        "  env_test.reset(s0=obs_initial)\n",
        "  obs_i1 = []\n",
        "  # go through time steps and apply sequence of actions\n",
        "  for t, act_i2 in enumerate(act_i1):\n",
        "    #print(\"action\", act_i2)\n",
        "    obs_t, reward_i, done, _ = env_test.step(act_i2)\n",
        "    obs_i1.append(obs_t)\n",
        "    reward_sum += reward_i\n",
        "    if done: break\n",
        "    \n",
        "  #print(\"water in\", env_test.state, \"wtp\", [env_test.wtp_elements[x] for x in wtp_i], \"water out\", water_out, \"reward\", reward_sum)\n",
        "  if reward_sum > solution['rew']:\n",
        "    solution['act_t'] = act_i1 # sequence of actions\n",
        "    solution['rew'] = reward_sum\n",
        "    solution['obs_t'] = obs_i1 # trajectory\n",
        "\n",
        "\n",
        "print(\"grid search .. end\")\n"
      ],
      "execution_count": 15,
      "outputs": [
        {
          "output_type": "stream",
          "text": [
            "grid search .. start\n",
            "0 32768\n",
            "1000 32768\n",
            "2000 32768\n",
            "3000 32768\n",
            "4000 32768\n",
            "5000 32768\n",
            "6000 32768\n",
            "7000 32768\n",
            "8000 32768\n",
            "9000 32768\n",
            "10000 32768\n",
            "11000 32768\n",
            "12000 32768\n",
            "13000 32768\n",
            "14000 32768\n",
            "15000 32768\n",
            "16000 32768\n",
            "17000 32768\n",
            "18000 32768\n",
            "19000 32768\n",
            "20000 32768\n",
            "21000 32768\n",
            "22000 32768\n",
            "23000 32768\n",
            "24000 32768\n",
            "25000 32768\n",
            "26000 32768\n",
            "27000 32768\n",
            "28000 32768\n",
            "29000 32768\n",
            "30000 32768\n",
            "31000 32768\n",
            "32000 32768\n",
            "grid search .. end\n"
          ],
          "name": "stdout"
        }
      ]
    },
    {
      "metadata": {
        "id": "jF3dSIw0U1Qs",
        "colab_type": "code",
        "outputId": "efe1967e-5ab9-4d57-bcba-c88b1d03e09d",
        "colab": {
          "base_uri": "https://localhost:8080/",
          "height": 289
        }
      },
      "cell_type": "code",
      "source": [
        "\n",
        "# show result of grid search\n",
        "print(\"*\"*30)\n",
        "print(\"initial observation\", obs_initial)\n",
        "print(\"action sequence chosen\")\n",
        "print(\n",
        "  pd.concat(\n",
        "    [ pd.DataFrame([dict(zip(action_keys, x)) for x in solution['act_t']]),\n",
        "      pd.DataFrame([dict(zip(state_keys, x)) for x in solution['obs_t']]),\n",
        "    ],\n",
        "    axis=1\n",
        "  )\n",
        ")\n",
        "print(\"final observation:\", dict(zip(state_keys, solution['obs_t'])))\n",
        "print(\"total reward\", solution['rew'])"
      ],
      "execution_count": 16,
      "outputs": [
        {
          "output_type": "stream",
          "text": [
            "******************************\n",
            "initial observation {'wl_in': 100, 'pd1': 0, 'pd2': 0, 'wl_out': 20}\n",
            "action sequence chosen\n",
            "   bp1  bp2  pump  pd1  pd2  wl_in  wl_out\n",
            "0    0    0     1    0    0     90      30\n",
            "1    0    0     1  100    0     80      40\n",
            "2    1    0     1  100    0     70      50\n",
            "3    1    0     1  100    0     60      60\n",
            "4    1    0     1  100  100     50      70\n",
            "5    0    0     0  100  100     50      70\n",
            "6    0    0     0  100  100     50      70\n",
            "7    0    0     0  100  100     50      70\n",
            "8    0    0     0  100  100     50      70\n",
            "9    0    0     0  100  100     50      70\n",
            "final observation: {'wl_in': [90, 0, 0, 30], 'pd1': [80, 100, 0, 40], 'pd2': [70, 100, 0, 50], 'wl_out': [60, 100, 0, 60]}\n",
            "total reward 24\n"
          ],
          "name": "stdout"
        }
      ]
    },
    {
      "metadata": {
        "id": "uABAo0QtDqdS",
        "colab_type": "text"
      },
      "cell_type": "markdown",
      "source": [
        "# Register and train"
      ]
    },
    {
      "metadata": {
        "id": "UNoyVv0tA23n",
        "colab_type": "code",
        "colab": {}
      },
      "cell_type": "code",
      "source": [
        "# register the env with gym\n",
        "# https://github.com/openai/gym/tree/master/gym/envs#how-to-create-new-environments-for-gym\n",
        "from gym.envs.registration import register\n",
        "\n",
        "register(\n",
        "    id='WtpOperatorEnv-v0',\n",
        "    #entry_point='gym_foo.envs:FooEnv',\n",
        "    entry_point=WtpOperatorEnv_v0,\n",
        ")\n",
        "\n",
        "# test registration was successful\n",
        "env = gym.make(\"WtpOperatorEnv-v0\")"
      ],
      "execution_count": 0,
      "outputs": []
    },
    {
      "metadata": {
        "id": "9j8M1L9S6rvU",
        "colab_type": "code",
        "colab": {}
      },
      "cell_type": "code",
      "source": [
        "# The contents of this cell are mostly copied from garage/examples/...\n",
        "# NEED TO run this twice for the first run in the runtime in colab, 1st for creating the personal config\n",
        "\n",
        "from garage.baselines import LinearFeatureBaseline # <<<<<< requires restarting the runtime in colab after the 1st dependency installation above\n",
        "from garage.envs import normalize\n",
        "#from garage.envs.box2d import CartpoleEnv # no need since will use WtpDesignerEnv_v0 defined above\n",
        "# from garage.experiment import run_experiment\n",
        "\n",
        "from garage.tf.algos import TRPO\n",
        "#from garage.tf.algos import PPO\n",
        "\n",
        "from garage.tf.envs import TfEnv\n",
        "#from garage.tf.policies import GaussianMLPPolicy\n",
        "from garage.tf.policies import CategoricalMLPPolicy\n",
        "\n",
        "import gym # already imported before"
      ],
      "execution_count": 0,
      "outputs": []
    },
    {
      "metadata": {
        "id": "eBk8B2h36pMw",
        "colab_type": "code",
        "outputId": "72be32cd-2248-4097-e56f-8cea5101e55c",
        "colab": {
          "base_uri": "https://localhost:8080/",
          "height": 85
        }
      },
      "cell_type": "code",
      "source": [
        "# FOR CPU OR GPU, use this, otherwise for TPU use the below\n",
        "# ---------------------------------------------------------\n",
        "# start a tensorflow session so that we can keep it open after training and use the trained network to see it performing\n",
        "import tensorflow as tf\n",
        "sess = tf.InteractiveSession()\n",
        "\n",
        "# no need to initialize\n",
        "#sess.run(tf.global_variables_initializer())\n",
        "\n",
        "\n",
        "# check that we're indeed using GPU\n",
        "# https://stackoverflow.com/a/38019608/4126114\n",
        "#import tensorflow as tf\n",
        "#sess = tf.Session(config=tf.ConfigProto(log_device_placement=True))\n",
        "sess.list_devices()"
      ],
      "execution_count": 19,
      "outputs": [
        {
          "output_type": "execute_result",
          "data": {
            "text/plain": [
              "[_DeviceAttributes(/job:localhost/replica:0/task:0/device:CPU:0, CPU, 268435456, 12555414141301897951),\n",
              " _DeviceAttributes(/job:localhost/replica:0/task:0/device:XLA_CPU:0, XLA_CPU, 17179869184, 2647073469723689895),\n",
              " _DeviceAttributes(/job:localhost/replica:0/task:0/device:XLA_GPU:0, XLA_GPU, 17179869184, 1297170415206749781),\n",
              " _DeviceAttributes(/job:localhost/replica:0/task:0/device:GPU:0, GPU, 11276946637, 10194978423308049224)]"
            ]
          },
          "metadata": {
            "tags": []
          },
          "execution_count": 19
        }
      ]
    },
    {
      "metadata": {
        "id": "K5-ojZTNTynj",
        "colab_type": "code",
        "colab": {}
      },
      "cell_type": "code",
      "source": [
        "def singlebase_to_multibase(y, dims):\n",
        "  \"\"\"\n",
        "  Illustration\n",
        "  \n",
        "  >>> import itertools\n",
        "  >>> x=np.array(list(itertools.product(range(4), range(3), range(2))))\n",
        "  >>> y=x[:,0]*2*3 + x[:,1]*2 + x[:,2]\n",
        "  >>> y.sort()\n",
        "  >>> y\n",
        "  array([ 0,  1,  2,  3,  4,  5,  6,  7,  8,  9, 10, 11, 12, 13, 14, 15, 16,\n",
        "         17, 18, 19, 20, 21, 22, 23])\n",
        "\n",
        "  Notice how \"y\" has no duplicates, and hence is a one-to-one mapping from the original matrix \"x\"\n",
        "\n",
        "  Now convert y back to x\n",
        "\n",
        "  >>> z1  = y//(2*3)\n",
        "  >>> z1b = y %(2*3)\n",
        "  >>> z2 = z1b//2\n",
        "  >>> z2b = z1b %2\n",
        "  >>> z3 = z2b//1\n",
        "  >>> z = np.array([np.array(z1), np.array(z2), np.array(z3)]).T\n",
        "\n",
        "  Notice that z == x\n",
        "  \n",
        "  \n",
        "  Example:\n",
        "  \n",
        "  >>> import itertools\n",
        "  >>> x = np.array(list(itertools.product(range(4), range(3), range(2))))\n",
        "  >>> y = x[:,0]*2*3 + x[:,1]*2 + x[:,2]\n",
        "  >>> z = singlebase_to_multibase(y, [4,3,2])\n",
        "  >>> assert z == x\n",
        "  \"\"\"\n",
        "  # calculate weights\n",
        "  weights = dims[::-1] # reverse\n",
        "  weights = np.array(weights).cumprod() # cumulative product\n",
        "  weights = np.roll(weights, 1) # move last entry to first\n",
        "  weights[0] = 1 # overwrite\n",
        "  weights = weights[::-1] # reverse  \n",
        "  # calcalate output\n",
        "  z0 = []\n",
        "  z_b = y\n",
        "  for w in weights:\n",
        "    z_  = z_b // w\n",
        "    z0.append(z_)\n",
        "    z_b = z_b % w\n",
        "  # return\n",
        "  z0 = np.array(z0).T\n",
        "  return z0\n",
        "\n",
        "###########\n",
        "# test\n",
        "import itertools\n",
        "x = np.array(list(itertools.product(range(4), range(3), range(2))))\n",
        "y = x[:,0]*2*3 + x[:,1]*2 + x[:,2]\n",
        "z = singlebase_to_multibase(y, [4,3,2])\n",
        "assert (z==x).all()"
      ],
      "execution_count": 0,
      "outputs": []
    },
    {
      "metadata": {
        "id": "jM2EMRAPKbhO",
        "colab_type": "code",
        "colab": {}
      },
      "cell_type": "code",
      "source": [
        "class UnFlattenActTupleWrapper(gym.ActionWrapper):\n",
        "    \"\"\"\n",
        "    UnFlattens a Discrete action into a Tuple action space\n",
        "    \n",
        "    Inherits from ActionWrapper\n",
        "    https://github.com/openai/gym/blob/6497c9f1c6e43066c8945f02ed3ed4d234f45dc1/gym/core.py\n",
        "    \"\"\"\n",
        "    def __init__(self, env):\n",
        "        super().__init__(env)\n",
        "\n",
        "        # save action_space dimensions once\n",
        "        self.dims = [c.n for c in env.action_space.spaces]\n",
        "        flat_dim = np.array(self.dims).prod()\n",
        "        self.action_space = spaces.Discrete(flat_dim)\n",
        "\n",
        "        \n",
        "    def action(self, action_in):\n",
        "      return self.convert_action(action_in)\n",
        "      \n",
        "    def convert_action(self, action_in):\n",
        "        \"\"\"\n",
        "        convert a flat action into tuple\n",
        "        \n",
        "        based on t0-0e FlattenDictWrapper2\n",
        "        \"\"\"\n",
        "        action_out = singlebase_to_multibase(action_in, self.dims)\n",
        "        action_out = np.array(action_out).astype('int')\n",
        "        action_out = tuple(action_out)\n",
        "        return action_out\n"
      ],
      "execution_count": 0,
      "outputs": []
    },
    {
      "metadata": {
        "id": "tx8_cmOe63QK",
        "colab_type": "code",
        "outputId": "b9b25611-0ba0-408f-8f66-f7f14f5bfda5",
        "colab": {
          "base_uri": "https://localhost:8080/",
          "height": 144
        }
      },
      "cell_type": "code",
      "source": [
        "# Train the policy (neural network) on the environment\n",
        "#----------------------------------\n",
        "from gym import wrappers\n",
        "\n",
        "# env = TfEnv(normalize(gym.make(\"CartPole-v0\")))\n",
        "env = gym.make(\"WtpOperatorEnv-v0\")\n",
        "env = UnFlattenActTupleWrapper(env)\n",
        "env = TfEnv(normalize(env))\n",
        "\n",
        "# Using larger hidden sizes to learn to use the bypass\n",
        "hidden_sizes=(32, 32)\n",
        "#hidden_sizes=(64, 64)\n",
        "\n",
        "policy = CategoricalMLPPolicy(name=\"policy\", env_spec=env.spec, hidden_sizes=hidden_sizes)\n",
        "\n",
        "baseline = LinearFeatureBaseline(env_spec=env.spec)\n"
      ],
      "execution_count": 22,
      "outputs": [
        {
          "output_type": "stream",
          "text": [
            "WARNING:tensorflow:From /usr/local/lib/python3.6/dist-packages/tensorflow/python/framework/op_def_library.py:263: colocate_with (from tensorflow.python.framework.ops) is deprecated and will be removed in a future version.\n",
            "Instructions for updating:\n",
            "Colocations handled automatically by placer.\n",
            "WARNING:tensorflow:From /content/garage/garage/tf/distributions/categorical.py:27: multinomial (from tensorflow.python.ops.random_ops) is deprecated and will be removed in a future version.\n",
            "Instructions for updating:\n",
            "Use tf.random.categorical instead.\n"
          ],
          "name": "stdout"
        }
      ]
    },
    {
      "metadata": {
        "id": "sxJmqeGMLA4M",
        "colab_type": "code",
        "outputId": "4b97143d-eff2-4c8f-f0d4-3a4d3fc192f1",
        "colab": {
          "base_uri": "https://localhost:8080/",
          "height": 93
        }
      },
      "cell_type": "code",
      "source": [
        "\n",
        "algo = TRPO(\n",
        "#algo = PPO(\n",
        "    env=env,\n",
        "    policy=policy,\n",
        "    baseline=baseline,\n",
        "    batch_size=4000,\n",
        "    max_path_length=env.env.env.env.n_steps+2, # add 2 since this is just a safety measure\n",
        "    #n_itr=5, # smoke test\n",
        "    n_itr=100,\n",
        "    discount=0.99,\n",
        "    max_kl_step=0.01,\n",
        "    plot=False)\n"
      ],
      "execution_count": 23,
      "outputs": [
        {
          "output_type": "stream",
          "text": [
            "WARNING:tensorflow:From /content/garage/garage/tf/misc/tensor_utils.py:29: to_int32 (from tensorflow.python.ops.math_ops) is deprecated and will be removed in a future version.\n",
            "Instructions for updating:\n",
            "Use tf.cast instead.\n"
          ],
          "name": "stdout"
        }
      ]
    },
    {
      "metadata": {
        "id": "v7LQO4zBp8h4",
        "colab_type": "code",
        "outputId": "4bc3a90a-0572-4e36-d65d-4a4b28e8eef9",
        "colab": {
          "base_uri": "https://localhost:8080/",
          "height": 81974
        }
      },
      "cell_type": "code",
      "source": [
        "\n",
        "algo.train(sess=sess)"
      ],
      "execution_count": 24,
      "outputs": [
        {
          "output_type": "stream",
          "text": [
            "2019-02-16 20:33:43 | itr #0 | Obtaining samples...\n",
            "2019-02-16 20:33:43 | itr #0 | Obtaining samples for iteration 0...\n"
          ],
          "name": "stdout"
        },
        {
          "output_type": "stream",
          "text": [
            "0% [##############################] 100% | ETA: 00:00:00"
          ],
          "name": "stderr"
        },
        {
          "output_type": "stream",
          "text": [
            "2019-02-16 20:33:44 | itr #0 | Processing samples...\n"
          ],
          "name": "stdout"
        },
        {
          "output_type": "stream",
          "text": [
            "\n",
            "Total time elapsed: 00:00:01\n"
          ],
          "name": "stderr"
        },
        {
          "output_type": "stream",
          "text": [
            "2019-02-16 20:33:44 | itr #0 | Logging diagnostics...\n",
            "2019-02-16 20:33:44 | itr #0 | Optimizing policy...\n",
            "2019-02-16 20:33:44 | itr #0 | Computing loss before\n",
            "2019-02-16 20:33:46 | itr #0 | Computing KL before\n",
            "2019-02-16 20:33:46 | itr #0 | Optimizing\n",
            "2019-02-16 20:33:46 | itr #0 | Start CG optimization: #parameters: 1480, #inputs: 200, #subsample_inputs: 200\n",
            "2019-02-16 20:33:46 | itr #0 | computing loss before\n",
            "2019-02-16 20:33:46 | itr #0 | performing update\n",
            "2019-02-16 20:33:46 | itr #0 | computing gradient\n",
            "2019-02-16 20:33:46 | itr #0 | gradient computed\n",
            "2019-02-16 20:33:46 | itr #0 | computing descent direction\n",
            "2019-02-16 20:33:47 | itr #0 | descent direction computed\n",
            "2019-02-16 20:33:47 | itr #0 | backtrack iters: 1\n",
            "2019-02-16 20:33:47 | itr #0 | computing loss after\n",
            "2019-02-16 20:33:47 | itr #0 | optimization finished\n",
            "2019-02-16 20:33:47 | itr #0 | Computing KL after\n",
            "2019-02-16 20:33:47 | itr #0 | Computing loss after\n",
            "2019-02-16 20:33:47 | itr #0 | Fitting baseline...\n",
            "2019-02-16 20:33:47 | itr #0 | Saving snapshot...\n",
            "2019-02-16 20:33:47 | itr #0 | Saved\n",
            "2019-02-16 20:33:47 | --------------------------  -------------\n",
            "2019-02-16 20:33:47 | AverageDiscountedReturn     -11.3635\n",
            "2019-02-16 20:33:47 | AverageReturn               -12.73\n",
            "2019-02-16 20:33:47 | Baseline/ExplainedVariance    6.89201e-09\n",
            "2019-02-16 20:33:47 | Entropy                       1.90728\n",
            "2019-02-16 20:33:47 | EnvExecTime                   0.3157\n",
            "2019-02-16 20:33:47 | Iteration                     0\n",
            "2019-02-16 20:33:47 | ItrTime                       4.01194\n",
            "2019-02-16 20:33:47 | MaxReturn                     1\n",
            "2019-02-16 20:33:47 | MinReturn                   -30\n",
            "2019-02-16 20:33:47 | NumTrajs                    200\n",
            "2019-02-16 20:33:47 | Perplexity                    6.73473\n",
            "2019-02-16 20:33:47 | PolicyExecTime                0.887094\n",
            "2019-02-16 20:33:47 | ProcessExecTime               0.0199311\n",
            "2019-02-16 20:33:47 | StdReturn                     6.10386\n",
            "2019-02-16 20:33:47 | Time                          4.01187\n",
            "2019-02-16 20:33:47 | policy/Entropy                0.14128\n",
            "2019-02-16 20:33:47 | policy/KL                     0.00620655\n",
            "2019-02-16 20:33:47 | policy/KLBefore               0\n",
            "2019-02-16 20:33:47 | policy/LossAfter             -0.0284575\n",
            "2019-02-16 20:33:47 | policy/LossBefore            -5.76973e-08\n",
            "2019-02-16 20:33:47 | policy/dLoss                  0.0284574\n",
            "2019-02-16 20:33:47 | --------------------------  -------------\n",
            "2019-02-16 20:33:47 | itr #1 | Obtaining samples...\n",
            "2019-02-16 20:33:47 | itr #1 | Obtaining samples for iteration 1...\n"
          ],
          "name": "stdout"
        },
        {
          "output_type": "stream",
          "text": [
            "0% [##############################] 100% | ETA: 00:00:00"
          ],
          "name": "stderr"
        },
        {
          "output_type": "stream",
          "text": [
            "2019-02-16 20:33:48 | itr #1 | Processing samples...\n"
          ],
          "name": "stdout"
        },
        {
          "output_type": "stream",
          "text": [
            "\n",
            "Total time elapsed: 00:00:00\n"
          ],
          "name": "stderr"
        },
        {
          "output_type": "stream",
          "text": [
            "2019-02-16 20:33:48 | itr #1 | Logging diagnostics...\n",
            "2019-02-16 20:33:48 | itr #1 | Optimizing policy...\n",
            "2019-02-16 20:33:48 | itr #1 | Computing loss before\n",
            "2019-02-16 20:33:48 | itr #1 | Computing KL before\n",
            "2019-02-16 20:33:48 | itr #1 | Optimizing\n",
            "2019-02-16 20:33:48 | itr #1 | Start CG optimization: #parameters: 1480, #inputs: 200, #subsample_inputs: 200\n",
            "2019-02-16 20:33:48 | itr #1 | computing loss before\n",
            "2019-02-16 20:33:48 | itr #1 | performing update\n",
            "2019-02-16 20:33:48 | itr #1 | computing gradient\n",
            "2019-02-16 20:33:48 | itr #1 | gradient computed\n",
            "2019-02-16 20:33:48 | itr #1 | computing descent direction\n",
            "2019-02-16 20:33:48 | itr #1 | descent direction computed\n",
            "2019-02-16 20:33:48 | itr #1 | backtrack iters: 2\n",
            "2019-02-16 20:33:48 | itr #1 | computing loss after\n",
            "2019-02-16 20:33:48 | itr #1 | optimization finished\n",
            "2019-02-16 20:33:48 | itr #1 | Computing KL after\n",
            "2019-02-16 20:33:48 | itr #1 | Computing loss after\n",
            "2019-02-16 20:33:48 | itr #1 | Fitting baseline...\n",
            "2019-02-16 20:33:48 | itr #1 | Saving snapshot...\n",
            "2019-02-16 20:33:48 | itr #1 | Saved\n",
            "2019-02-16 20:33:48 | --------------------------  -------------\n",
            "2019-02-16 20:33:48 | AverageDiscountedReturn      -9.05061\n",
            "2019-02-16 20:33:48 | AverageReturn               -10.21\n",
            "2019-02-16 20:33:48 | Baseline/ExplainedVariance    0.373118\n",
            "2019-02-16 20:33:48 | Entropy                       1.87986\n",
            "2019-02-16 20:33:48 | EnvExecTime                   0.334733\n",
            "2019-02-16 20:33:48 | Iteration                     1\n",
            "2019-02-16 20:33:48 | ItrTime                       0.904595\n",
            "2019-02-16 20:33:48 | MaxReturn                     4\n",
            "2019-02-16 20:33:48 | MinReturn                   -25\n",
            "2019-02-16 20:33:48 | NumTrajs                    200\n",
            "2019-02-16 20:33:48 | Perplexity                    6.55257\n",
            "2019-02-16 20:33:48 | PolicyExecTime                0.271036\n",
            "2019-02-16 20:33:48 | ProcessExecTime               0.0201757\n",
            "2019-02-16 20:33:48 | StdReturn                     5.70315\n",
            "2019-02-16 20:33:48 | Time                          4.97807\n",
            "2019-02-16 20:33:48 | policy/Entropy                0.150401\n",
            "2019-02-16 20:33:48 | policy/KL                     0.00841417\n",
            "2019-02-16 20:33:48 | policy/KLBefore               0\n",
            "2019-02-16 20:33:48 | policy/LossAfter             -0.0329066\n",
            "2019-02-16 20:33:48 | policy/LossBefore            -2.86102e-08\n",
            "2019-02-16 20:33:48 | policy/dLoss                  0.0329065\n",
            "2019-02-16 20:33:48 | --------------------------  -------------\n",
            "2019-02-16 20:33:48 | itr #2 | Obtaining samples...\n",
            "2019-02-16 20:33:48 | itr #2 | Obtaining samples for iteration 2...\n"
          ],
          "name": "stdout"
        },
        {
          "output_type": "stream",
          "text": [
            "0% [##############################] 100% | ETA: 00:00:00"
          ],
          "name": "stderr"
        },
        {
          "output_type": "stream",
          "text": [
            "2019-02-16 20:33:49 | itr #2 | Processing samples...\n"
          ],
          "name": "stdout"
        },
        {
          "output_type": "stream",
          "text": [
            "\n",
            "Total time elapsed: 00:00:00\n"
          ],
          "name": "stderr"
        },
        {
          "output_type": "stream",
          "text": [
            "2019-02-16 20:33:49 | itr #2 | Logging diagnostics...\n",
            "2019-02-16 20:33:49 | itr #2 | Optimizing policy...\n",
            "2019-02-16 20:33:49 | itr #2 | Computing loss before\n",
            "2019-02-16 20:33:49 | itr #2 | Computing KL before\n",
            "2019-02-16 20:33:49 | itr #2 | Optimizing\n",
            "2019-02-16 20:33:49 | itr #2 | Start CG optimization: #parameters: 1480, #inputs: 200, #subsample_inputs: 200\n",
            "2019-02-16 20:33:49 | itr #2 | computing loss before\n",
            "2019-02-16 20:33:49 | itr #2 | performing update\n",
            "2019-02-16 20:33:49 | itr #2 | computing gradient\n",
            "2019-02-16 20:33:49 | itr #2 | gradient computed\n",
            "2019-02-16 20:33:49 | itr #2 | computing descent direction\n",
            "2019-02-16 20:33:49 | itr #2 | descent direction computed\n",
            "2019-02-16 20:33:49 | itr #2 | backtrack iters: 1\n",
            "2019-02-16 20:33:49 | itr #2 | computing loss after\n",
            "2019-02-16 20:33:49 | itr #2 | optimization finished\n",
            "2019-02-16 20:33:49 | itr #2 | Computing KL after\n",
            "2019-02-16 20:33:49 | itr #2 | Computing loss after\n",
            "2019-02-16 20:33:49 | itr #2 | Fitting baseline...\n",
            "2019-02-16 20:33:49 | itr #2 | Saving snapshot...\n",
            "2019-02-16 20:33:49 | itr #2 | Saved\n",
            "2019-02-16 20:33:49 | --------------------------  -------------\n",
            "2019-02-16 20:33:49 | AverageDiscountedReturn      -7.01609\n",
            "2019-02-16 20:33:49 | AverageReturn                -8.1\n",
            "2019-02-16 20:33:49 | Baseline/ExplainedVariance    0.302498\n",
            "2019-02-16 20:33:49 | Entropy                       1.86767\n",
            "2019-02-16 20:33:49 | EnvExecTime                   0.356678\n",
            "2019-02-16 20:33:49 | Iteration                     2\n",
            "2019-02-16 20:33:49 | ItrTime                       0.913477\n",
            "2019-02-16 20:33:49 | MaxReturn                     5\n",
            "2019-02-16 20:33:49 | MinReturn                   -21\n",
            "2019-02-16 20:33:49 | NumTrajs                    200\n",
            "2019-02-16 20:33:49 | Perplexity                    6.4732\n",
            "2019-02-16 20:33:49 | PolicyExecTime                0.25841\n",
            "2019-02-16 20:33:49 | ProcessExecTime               0.0207603\n",
            "2019-02-16 20:33:49 | StdReturn                     5.54977\n",
            "2019-02-16 20:33:49 | Time                          5.93304\n",
            "2019-02-16 20:33:49 | policy/Entropy                0.152342\n",
            "2019-02-16 20:33:49 | policy/KL                     0.0064157\n",
            "2019-02-16 20:33:49 | policy/KLBefore               0\n",
            "2019-02-16 20:33:49 | policy/LossAfter             -0.0332905\n",
            "2019-02-16 20:33:49 | policy/LossBefore            -4.76837e-09\n",
            "2019-02-16 20:33:49 | policy/dLoss                  0.0332905\n",
            "2019-02-16 20:33:49 | --------------------------  -------------\n",
            "2019-02-16 20:33:49 | itr #3 | Obtaining samples...\n",
            "2019-02-16 20:33:49 | itr #3 | Obtaining samples for iteration 3...\n"
          ],
          "name": "stdout"
        },
        {
          "output_type": "stream",
          "text": [
            "0% [##############################] 100% | ETA: 00:00:00"
          ],
          "name": "stderr"
        },
        {
          "output_type": "stream",
          "text": [
            "2019-02-16 20:33:50 | itr #3 | Processing samples...\n"
          ],
          "name": "stdout"
        },
        {
          "output_type": "stream",
          "text": [
            "\n",
            "Total time elapsed: 00:00:00\n"
          ],
          "name": "stderr"
        },
        {
          "output_type": "stream",
          "text": [
            "2019-02-16 20:33:50 | itr #3 | Logging diagnostics...\n",
            "2019-02-16 20:33:50 | itr #3 | Optimizing policy...\n",
            "2019-02-16 20:33:50 | itr #3 | Computing loss before\n",
            "2019-02-16 20:33:50 | itr #3 | Computing KL before\n",
            "2019-02-16 20:33:50 | itr #3 | Optimizing\n",
            "2019-02-16 20:33:50 | itr #3 | Start CG optimization: #parameters: 1480, #inputs: 200, #subsample_inputs: 200\n",
            "2019-02-16 20:33:50 | itr #3 | computing loss before\n",
            "2019-02-16 20:33:50 | itr #3 | performing update\n",
            "2019-02-16 20:33:50 | itr #3 | computing gradient\n",
            "2019-02-16 20:33:50 | itr #3 | gradient computed\n",
            "2019-02-16 20:33:50 | itr #3 | computing descent direction\n",
            "2019-02-16 20:33:50 | itr #3 | descent direction computed\n",
            "2019-02-16 20:33:50 | itr #3 | backtrack iters: 0\n",
            "2019-02-16 20:33:50 | itr #3 | computing loss after\n",
            "2019-02-16 20:33:50 | itr #3 | optimization finished\n",
            "2019-02-16 20:33:50 | itr #3 | Computing KL after\n",
            "2019-02-16 20:33:50 | itr #3 | Computing loss after\n",
            "2019-02-16 20:33:50 | itr #3 | Fitting baseline...\n",
            "2019-02-16 20:33:50 | itr #3 | Saving snapshot...\n",
            "2019-02-16 20:33:50 | itr #3 | Saved\n",
            "2019-02-16 20:33:50 | --------------------------  -------------\n",
            "2019-02-16 20:33:50 | AverageDiscountedReturn      -5.0628\n",
            "2019-02-16 20:33:50 | AverageReturn                -5.985\n",
            "2019-02-16 20:33:50 | Baseline/ExplainedVariance    0.242135\n",
            "2019-02-16 20:33:50 | Entropy                       1.83909\n",
            "2019-02-16 20:33:50 | EnvExecTime                   0.359593\n",
            "2019-02-16 20:33:50 | Iteration                     3\n",
            "2019-02-16 20:33:50 | ItrTime                       0.934938\n",
            "2019-02-16 20:33:50 | MaxReturn                    10\n",
            "2019-02-16 20:33:50 | MinReturn                   -26\n",
            "2019-02-16 20:33:50 | NumTrajs                    200\n",
            "2019-02-16 20:33:50 | Perplexity                    6.29079\n",
            "2019-02-16 20:33:50 | PolicyExecTime                0.286767\n",
            "2019-02-16 20:33:50 | ProcessExecTime               0.0205526\n",
            "2019-02-16 20:33:50 | StdReturn                     5.61914\n",
            "2019-02-16 20:33:50 | Time                          6.91657\n",
            "2019-02-16 20:33:50 | policy/Entropy                0.158162\n",
            "2019-02-16 20:33:50 | policy/KL                     0.00922212\n",
            "2019-02-16 20:33:50 | policy/KLBefore               0\n",
            "2019-02-16 20:33:50 | policy/LossAfter             -0.0361849\n",
            "2019-02-16 20:33:50 | policy/LossBefore            -2.28882e-08\n",
            "2019-02-16 20:33:50 | policy/dLoss                  0.0361849\n",
            "2019-02-16 20:33:50 | --------------------------  -------------\n",
            "2019-02-16 20:33:50 | itr #4 | Obtaining samples...\n",
            "2019-02-16 20:33:50 | itr #4 | Obtaining samples for iteration 4...\n"
          ],
          "name": "stdout"
        },
        {
          "output_type": "stream",
          "text": [
            "0% [##############################] 100% | ETA: 00:00:00"
          ],
          "name": "stderr"
        },
        {
          "output_type": "stream",
          "text": [
            "2019-02-16 20:33:50 | itr #4 | Processing samples...\n"
          ],
          "name": "stdout"
        },
        {
          "output_type": "stream",
          "text": [
            "\n",
            "Total time elapsed: 00:00:00\n"
          ],
          "name": "stderr"
        },
        {
          "output_type": "stream",
          "text": [
            "2019-02-16 20:33:50 | itr #4 | Logging diagnostics...\n",
            "2019-02-16 20:33:50 | itr #4 | Optimizing policy...\n",
            "2019-02-16 20:33:50 | itr #4 | Computing loss before\n",
            "2019-02-16 20:33:50 | itr #4 | Computing KL before\n",
            "2019-02-16 20:33:51 | itr #4 | Optimizing\n",
            "2019-02-16 20:33:51 | itr #4 | Start CG optimization: #parameters: 1480, #inputs: 200, #subsample_inputs: 200\n",
            "2019-02-16 20:33:51 | itr #4 | computing loss before\n",
            "2019-02-16 20:33:51 | itr #4 | performing update\n",
            "2019-02-16 20:33:51 | itr #4 | computing gradient\n",
            "2019-02-16 20:33:51 | itr #4 | gradient computed\n",
            "2019-02-16 20:33:51 | itr #4 | computing descent direction\n",
            "2019-02-16 20:33:51 | itr #4 | descent direction computed\n",
            "2019-02-16 20:33:51 | itr #4 | backtrack iters: 0\n",
            "2019-02-16 20:33:51 | itr #4 | computing loss after\n",
            "2019-02-16 20:33:51 | itr #4 | optimization finished\n",
            "2019-02-16 20:33:51 | itr #4 | Computing KL after\n",
            "2019-02-16 20:33:51 | itr #4 | Computing loss after\n",
            "2019-02-16 20:33:51 | itr #4 | Fitting baseline...\n",
            "2019-02-16 20:33:51 | itr #4 | Saving snapshot...\n",
            "2019-02-16 20:33:51 | itr #4 | Saved\n",
            "2019-02-16 20:33:51 | --------------------------  -------------\n",
            "2019-02-16 20:33:51 | AverageDiscountedReturn      -2.48811\n",
            "2019-02-16 20:33:51 | AverageReturn                -3.13\n",
            "2019-02-16 20:33:51 | Baseline/ExplainedVariance    0.0780661\n",
            "2019-02-16 20:33:51 | Entropy                       1.78652\n",
            "2019-02-16 20:33:51 | EnvExecTime                   0.370764\n",
            "2019-02-16 20:33:51 | Iteration                     4\n",
            "2019-02-16 20:33:51 | ItrTime                       0.917561\n",
            "2019-02-16 20:33:51 | MaxReturn                    16\n",
            "2019-02-16 20:33:51 | MinReturn                   -18\n",
            "2019-02-16 20:33:51 | NumTrajs                    200\n",
            "2019-02-16 20:33:51 | Perplexity                    5.96866\n",
            "2019-02-16 20:33:51 | PolicyExecTime                0.254143\n",
            "2019-02-16 20:33:51 | ProcessExecTime               0.021457\n",
            "2019-02-16 20:33:51 | StdReturn                     5.61721\n",
            "2019-02-16 20:33:51 | Time                          7.86681\n",
            "2019-02-16 20:33:51 | policy/Entropy                0.167526\n",
            "2019-02-16 20:33:51 | policy/KL                     0.00959805\n",
            "2019-02-16 20:33:51 | policy/KLBefore               0\n",
            "2019-02-16 20:33:51 | policy/LossAfter             -0.0379703\n",
            "2019-02-16 20:33:51 | policy/LossBefore            -2.86102e-08\n",
            "2019-02-16 20:33:51 | policy/dLoss                  0.0379703\n",
            "2019-02-16 20:33:51 | --------------------------  -------------\n",
            "2019-02-16 20:33:51 | itr #5 | Obtaining samples...\n",
            "2019-02-16 20:33:51 | itr #5 | Obtaining samples for iteration 5...\n"
          ],
          "name": "stdout"
        },
        {
          "output_type": "stream",
          "text": [
            "0% [##############################] 100% | ETA: 00:00:00"
          ],
          "name": "stderr"
        },
        {
          "output_type": "stream",
          "text": [
            "2019-02-16 20:33:51 | itr #5 | Processing samples...\n"
          ],
          "name": "stdout"
        },
        {
          "output_type": "stream",
          "text": [
            "\n",
            "Total time elapsed: 00:00:00\n"
          ],
          "name": "stderr"
        },
        {
          "output_type": "stream",
          "text": [
            "2019-02-16 20:33:51 | itr #5 | Logging diagnostics...\n",
            "2019-02-16 20:33:51 | itr #5 | Optimizing policy...\n",
            "2019-02-16 20:33:51 | itr #5 | Computing loss before\n",
            "2019-02-16 20:33:52 | itr #5 | Computing KL before\n",
            "2019-02-16 20:33:52 | itr #5 | Optimizing\n",
            "2019-02-16 20:33:52 | itr #5 | Start CG optimization: #parameters: 1480, #inputs: 200, #subsample_inputs: 200\n",
            "2019-02-16 20:33:52 | itr #5 | computing loss before\n",
            "2019-02-16 20:33:52 | itr #5 | performing update\n",
            "2019-02-16 20:33:52 | itr #5 | computing gradient\n",
            "2019-02-16 20:33:52 | itr #5 | gradient computed\n",
            "2019-02-16 20:33:52 | itr #5 | computing descent direction\n",
            "2019-02-16 20:33:52 | itr #5 | descent direction computed\n",
            "2019-02-16 20:33:52 | itr #5 | backtrack iters: 0\n",
            "2019-02-16 20:33:52 | itr #5 | computing loss after\n",
            "2019-02-16 20:33:52 | itr #5 | optimization finished\n",
            "2019-02-16 20:33:52 | itr #5 | Computing KL after\n",
            "2019-02-16 20:33:52 | itr #5 | Computing loss after\n",
            "2019-02-16 20:33:52 | itr #5 | Fitting baseline...\n",
            "2019-02-16 20:33:52 | itr #5 | Saving snapshot...\n",
            "2019-02-16 20:33:52 | itr #5 | Saved\n",
            "2019-02-16 20:33:52 | --------------------------  -------------\n",
            "2019-02-16 20:33:52 | AverageDiscountedReturn      -0.183778\n",
            "2019-02-16 20:33:52 | AverageReturn                -0.61\n",
            "2019-02-16 20:33:52 | Baseline/ExplainedVariance    0.0209685\n",
            "2019-02-16 20:33:52 | Entropy                       1.74032\n",
            "2019-02-16 20:33:52 | EnvExecTime                   0.363498\n",
            "2019-02-16 20:33:52 | Iteration                     5\n",
            "2019-02-16 20:33:52 | ItrTime                       0.955534\n",
            "2019-02-16 20:33:52 | MaxReturn                    24\n",
            "2019-02-16 20:33:52 | MinReturn                   -16\n",
            "2019-02-16 20:33:52 | NumTrajs                    200\n",
            "2019-02-16 20:33:52 | Perplexity                    5.69919\n",
            "2019-02-16 20:33:52 | PolicyExecTime                0.289279\n",
            "2019-02-16 20:33:52 | ProcessExecTime               0.0209885\n",
            "2019-02-16 20:33:52 | StdReturn                     6.07436\n",
            "2019-02-16 20:33:52 | Time                          8.88103\n",
            "2019-02-16 20:33:52 | policy/Entropy                0.176525\n",
            "2019-02-16 20:33:52 | policy/KL                     0.00989115\n",
            "2019-02-16 20:33:52 | policy/KLBefore               0\n",
            "2019-02-16 20:33:52 | policy/LossAfter             -0.0375495\n",
            "2019-02-16 20:33:52 | policy/LossBefore             4.41074e-09\n",
            "2019-02-16 20:33:52 | policy/dLoss                  0.0375495\n",
            "2019-02-16 20:33:52 | --------------------------  -------------\n",
            "2019-02-16 20:33:52 | itr #6 | Obtaining samples...\n",
            "2019-02-16 20:33:52 | itr #6 | Obtaining samples for iteration 6...\n"
          ],
          "name": "stdout"
        },
        {
          "output_type": "stream",
          "text": [
            "0% [##############################] 100% | ETA: 00:00:00\n",
            "Total time elapsed: 00:00:00\n"
          ],
          "name": "stderr"
        },
        {
          "output_type": "stream",
          "text": [
            "2019-02-16 20:33:52 | itr #6 | Processing samples...\n",
            "2019-02-16 20:33:52 | itr #6 | Logging diagnostics...\n",
            "2019-02-16 20:33:52 | itr #6 | Optimizing policy...\n",
            "2019-02-16 20:33:52 | itr #6 | Computing loss before\n",
            "2019-02-16 20:33:52 | itr #6 | Computing KL before\n",
            "2019-02-16 20:33:52 | itr #6 | Optimizing\n",
            "2019-02-16 20:33:52 | itr #6 | Start CG optimization: #parameters: 1480, #inputs: 200, #subsample_inputs: 200\n",
            "2019-02-16 20:33:52 | itr #6 | computing loss before\n",
            "2019-02-16 20:33:52 | itr #6 | performing update\n",
            "2019-02-16 20:33:52 | itr #6 | computing gradient\n",
            "2019-02-16 20:33:53 | itr #6 | gradient computed\n",
            "2019-02-16 20:33:53 | itr #6 | computing descent direction\n",
            "2019-02-16 20:33:53 | itr #6 | descent direction computed\n",
            "2019-02-16 20:33:53 | itr #6 | backtrack iters: 2\n",
            "2019-02-16 20:33:53 | itr #6 | computing loss after\n",
            "2019-02-16 20:33:53 | itr #6 | optimization finished\n",
            "2019-02-16 20:33:53 | itr #6 | Computing KL after\n",
            "2019-02-16 20:33:53 | itr #6 | Computing loss after\n",
            "2019-02-16 20:33:53 | itr #6 | Fitting baseline...\n",
            "2019-02-16 20:33:53 | itr #6 | Saving snapshot...\n",
            "2019-02-16 20:33:53 | itr #6 | Saved\n",
            "2019-02-16 20:33:53 | --------------------------  -------------\n",
            "2019-02-16 20:33:53 | AverageDiscountedReturn       3.17369\n",
            "2019-02-16 20:33:53 | AverageReturn                 2.91\n",
            "2019-02-16 20:33:53 | Baseline/ExplainedVariance    0.00355771\n",
            "2019-02-16 20:33:53 | Entropy                       1.71552\n",
            "2019-02-16 20:33:53 | EnvExecTime                   0.354279\n",
            "2019-02-16 20:33:53 | Iteration                     6\n",
            "2019-02-16 20:33:53 | ItrTime                       0.907463\n",
            "2019-02-16 20:33:53 | MaxReturn                    25\n",
            "2019-02-16 20:33:53 | MinReturn                   -19\n",
            "2019-02-16 20:33:53 | NumTrajs                    200\n",
            "2019-02-16 20:33:53 | Perplexity                    5.55959\n",
            "2019-02-16 20:33:53 | PolicyExecTime                0.259151\n",
            "2019-02-16 20:33:53 | ProcessExecTime               0.0201392\n",
            "2019-02-16 20:33:53 | StdReturn                     8.04499\n",
            "2019-02-16 20:33:53 | Time                          9.85021\n",
            "2019-02-16 20:33:53 | policy/Entropy                0.179681\n",
            "2019-02-16 20:33:53 | policy/KL                     0.00924479\n",
            "2019-02-16 20:33:53 | policy/KLBefore               0\n",
            "2019-02-16 20:33:53 | policy/LossAfter             -0.0180802\n",
            "2019-02-16 20:33:53 | policy/LossBefore            -6.19888e-09\n",
            "2019-02-16 20:33:53 | policy/dLoss                  0.0180802\n",
            "2019-02-16 20:33:53 | --------------------------  -------------\n",
            "2019-02-16 20:33:53 | itr #7 | Obtaining samples...\n",
            "2019-02-16 20:33:53 | itr #7 | Obtaining samples for iteration 7...\n"
          ],
          "name": "stdout"
        },
        {
          "output_type": "stream",
          "text": [
            "0% [##############################] 100% | ETA: 00:00:00"
          ],
          "name": "stderr"
        },
        {
          "output_type": "stream",
          "text": [
            "2019-02-16 20:33:53 | itr #7 | Processing samples...\n"
          ],
          "name": "stdout"
        },
        {
          "output_type": "stream",
          "text": [
            "\n",
            "Total time elapsed: 00:00:00\n"
          ],
          "name": "stderr"
        },
        {
          "output_type": "stream",
          "text": [
            "2019-02-16 20:33:53 | itr #7 | Logging diagnostics...\n",
            "2019-02-16 20:33:53 | itr #7 | Optimizing policy...\n",
            "2019-02-16 20:33:53 | itr #7 | Computing loss before\n",
            "2019-02-16 20:33:53 | itr #7 | Computing KL before\n",
            "2019-02-16 20:33:53 | itr #7 | Optimizing\n",
            "2019-02-16 20:33:53 | itr #7 | Start CG optimization: #parameters: 1480, #inputs: 200, #subsample_inputs: 200\n",
            "2019-02-16 20:33:53 | itr #7 | computing loss before\n",
            "2019-02-16 20:33:53 | itr #7 | performing update\n",
            "2019-02-16 20:33:53 | itr #7 | computing gradient\n",
            "2019-02-16 20:33:54 | itr #7 | gradient computed\n",
            "2019-02-16 20:33:54 | itr #7 | computing descent direction\n",
            "2019-02-16 20:33:54 | itr #7 | descent direction computed\n",
            "2019-02-16 20:33:54 | itr #7 | backtrack iters: 0\n",
            "2019-02-16 20:33:54 | itr #7 | computing loss after\n",
            "2019-02-16 20:33:54 | itr #7 | optimization finished\n",
            "2019-02-16 20:33:54 | itr #7 | Computing KL after\n",
            "2019-02-16 20:33:54 | itr #7 | Computing loss after\n",
            "2019-02-16 20:33:54 | itr #7 | Fitting baseline...\n",
            "2019-02-16 20:33:54 | itr #7 | Saving snapshot...\n",
            "2019-02-16 20:33:54 | itr #7 | Saved\n",
            "2019-02-16 20:33:54 | --------------------------  -------------\n",
            "2019-02-16 20:33:54 | AverageDiscountedReturn       3.85558\n",
            "2019-02-16 20:33:54 | AverageReturn                 3.695\n",
            "2019-02-16 20:33:54 | Baseline/ExplainedVariance    0.0176553\n",
            "2019-02-16 20:33:54 | Entropy                       1.6767\n",
            "2019-02-16 20:33:54 | EnvExecTime                   0.35196\n",
            "2019-02-16 20:33:54 | Iteration                     7\n",
            "2019-02-16 20:33:54 | ItrTime                       0.906348\n",
            "2019-02-16 20:33:54 | MaxReturn                    25\n",
            "2019-02-16 20:33:54 | MinReturn                   -16\n",
            "2019-02-16 20:33:54 | NumTrajs                    200\n",
            "2019-02-16 20:33:54 | Perplexity                    5.3479\n",
            "2019-02-16 20:33:54 | PolicyExecTime                0.271711\n",
            "2019-02-16 20:33:54 | ProcessExecTime               0.0199432\n",
            "2019-02-16 20:33:54 | StdReturn                     7.13456\n",
            "2019-02-16 20:33:54 | Time                         10.8294\n",
            "2019-02-16 20:33:54 | policy/Entropy                0.187865\n",
            "2019-02-16 20:33:54 | policy/KL                     0.0089721\n",
            "2019-02-16 20:33:54 | policy/KLBefore               0\n",
            "2019-02-16 20:33:54 | policy/LossAfter             -0.026185\n",
            "2019-02-16 20:33:54 | policy/LossBefore             1.43051e-09\n",
            "2019-02-16 20:33:54 | policy/dLoss                  0.026185\n",
            "2019-02-16 20:33:54 | --------------------------  -------------\n",
            "2019-02-16 20:33:54 | itr #8 | Obtaining samples...\n",
            "2019-02-16 20:33:54 | itr #8 | Obtaining samples for iteration 8...\n"
          ],
          "name": "stdout"
        },
        {
          "output_type": "stream",
          "text": [
            "0% [##############################] 100% | ETA: 00:00:00"
          ],
          "name": "stderr"
        },
        {
          "output_type": "stream",
          "text": [
            "2019-02-16 20:33:55 | itr #8 | Processing samples...\n"
          ],
          "name": "stdout"
        },
        {
          "output_type": "stream",
          "text": [
            "\n",
            "Total time elapsed: 00:00:00\n"
          ],
          "name": "stderr"
        },
        {
          "output_type": "stream",
          "text": [
            "2019-02-16 20:33:55 | itr #8 | Logging diagnostics...\n",
            "2019-02-16 20:33:55 | itr #8 | Optimizing policy...\n",
            "2019-02-16 20:33:55 | itr #8 | Computing loss before\n",
            "2019-02-16 20:33:55 | itr #8 | Computing KL before\n",
            "2019-02-16 20:33:55 | itr #8 | Optimizing\n",
            "2019-02-16 20:33:55 | itr #8 | Start CG optimization: #parameters: 1480, #inputs: 200, #subsample_inputs: 200\n",
            "2019-02-16 20:33:55 | itr #8 | computing loss before\n",
            "2019-02-16 20:33:55 | itr #8 | performing update\n",
            "2019-02-16 20:33:55 | itr #8 | computing gradient\n",
            "2019-02-16 20:33:55 | itr #8 | gradient computed\n",
            "2019-02-16 20:33:55 | itr #8 | computing descent direction\n",
            "2019-02-16 20:33:55 | itr #8 | descent direction computed\n",
            "2019-02-16 20:33:55 | itr #8 | backtrack iters: 1\n",
            "2019-02-16 20:33:55 | itr #8 | computing loss after\n",
            "2019-02-16 20:33:55 | itr #8 | optimization finished\n",
            "2019-02-16 20:33:55 | itr #8 | Computing KL after\n",
            "2019-02-16 20:33:55 | itr #8 | Computing loss after\n",
            "2019-02-16 20:33:55 | itr #8 | Fitting baseline...\n",
            "2019-02-16 20:33:55 | itr #8 | Saving snapshot...\n",
            "2019-02-16 20:33:55 | itr #8 | Saved\n",
            "2019-02-16 20:33:55 | --------------------------  -------------\n",
            "2019-02-16 20:33:55 | AverageDiscountedReturn       5.84\n",
            "2019-02-16 20:33:55 | AverageReturn                 5.885\n",
            "2019-02-16 20:33:55 | Baseline/ExplainedVariance    0.0361697\n",
            "2019-02-16 20:33:55 | Entropy                       1.64867\n",
            "2019-02-16 20:33:55 | EnvExecTime                   0.502691\n",
            "2019-02-16 20:33:55 | Iteration                     8\n",
            "2019-02-16 20:33:55 | ItrTime                       1.06513\n",
            "2019-02-16 20:33:55 | MaxReturn                    25\n",
            "2019-02-16 20:33:55 | MinReturn                   -12\n",
            "2019-02-16 20:33:55 | NumTrajs                    200\n",
            "2019-02-16 20:33:55 | Perplexity                    5.20006\n",
            "2019-02-16 20:33:55 | PolicyExecTime                0.279267\n",
            "2019-02-16 20:33:55 | ProcessExecTime               0.0209637\n",
            "2019-02-16 20:33:55 | StdReturn                     7.67801\n",
            "2019-02-16 20:33:55 | Time                         11.9325\n",
            "2019-02-16 20:33:55 | policy/Entropy                0.193625\n",
            "2019-02-16 20:33:55 | policy/KL                     0.00715403\n",
            "2019-02-16 20:33:55 | policy/KLBefore               0\n",
            "2019-02-16 20:33:55 | policy/LossAfter             -0.0172482\n",
            "2019-02-16 20:33:55 | policy/LossBefore             7.62939e-09\n",
            "2019-02-16 20:33:55 | policy/dLoss                  0.0172482\n",
            "2019-02-16 20:33:55 | --------------------------  -------------\n",
            "2019-02-16 20:33:55 | itr #9 | Obtaining samples...\n",
            "2019-02-16 20:33:55 | itr #9 | Obtaining samples for iteration 9...\n"
          ],
          "name": "stdout"
        },
        {
          "output_type": "stream",
          "text": [
            "0% [##############################] 100% | ETA: 00:00:00"
          ],
          "name": "stderr"
        },
        {
          "output_type": "stream",
          "text": [
            "2019-02-16 20:33:56 | itr #9 | Processing samples...\n"
          ],
          "name": "stdout"
        },
        {
          "output_type": "stream",
          "text": [
            "\n",
            "Total time elapsed: 00:00:00\n"
          ],
          "name": "stderr"
        },
        {
          "output_type": "stream",
          "text": [
            "2019-02-16 20:33:56 | itr #9 | Logging diagnostics...\n",
            "2019-02-16 20:33:56 | itr #9 | Optimizing policy...\n",
            "2019-02-16 20:33:56 | itr #9 | Computing loss before\n",
            "2019-02-16 20:33:56 | itr #9 | Computing KL before\n",
            "2019-02-16 20:33:56 | itr #9 | Optimizing\n",
            "2019-02-16 20:33:56 | itr #9 | Start CG optimization: #parameters: 1480, #inputs: 200, #subsample_inputs: 200\n",
            "2019-02-16 20:33:56 | itr #9 | computing loss before\n",
            "2019-02-16 20:33:56 | itr #9 | performing update\n",
            "2019-02-16 20:33:56 | itr #9 | computing gradient\n",
            "2019-02-16 20:33:56 | itr #9 | gradient computed\n",
            "2019-02-16 20:33:56 | itr #9 | computing descent direction\n",
            "2019-02-16 20:33:56 | itr #9 | descent direction computed\n",
            "2019-02-16 20:33:56 | itr #9 | backtrack iters: 0\n",
            "2019-02-16 20:33:56 | itr #9 | computing loss after\n",
            "2019-02-16 20:33:56 | itr #9 | optimization finished\n",
            "2019-02-16 20:33:56 | itr #9 | Computing KL after\n",
            "2019-02-16 20:33:56 | itr #9 | Computing loss after\n",
            "2019-02-16 20:33:56 | itr #9 | Fitting baseline...\n",
            "2019-02-16 20:33:56 | itr #9 | Saving snapshot...\n",
            "2019-02-16 20:33:56 | itr #9 | Saved\n",
            "2019-02-16 20:33:56 | --------------------------  -------------\n",
            "2019-02-16 20:33:56 | AverageDiscountedReturn       8.50909\n",
            "2019-02-16 20:33:56 | AverageReturn                 8.745\n",
            "2019-02-16 20:33:56 | Baseline/ExplainedVariance    0.0771331\n",
            "2019-02-16 20:33:56 | Entropy                       1.63562\n",
            "2019-02-16 20:33:56 | EnvExecTime                   0.386884\n",
            "2019-02-16 20:33:56 | Iteration                     9\n",
            "2019-02-16 20:33:56 | ItrTime                       0.941162\n",
            "2019-02-16 20:33:56 | MaxReturn                    30\n",
            "2019-02-16 20:33:56 | MinReturn                   -20\n",
            "2019-02-16 20:33:56 | NumTrajs                    200\n",
            "2019-02-16 20:33:56 | Perplexity                    5.13262\n",
            "2019-02-16 20:33:56 | PolicyExecTime                0.271885\n",
            "2019-02-16 20:33:56 | ProcessExecTime               0.0210638\n",
            "2019-02-16 20:33:56 | StdReturn                     8.55336\n",
            "2019-02-16 20:33:56 | Time                         12.9161\n",
            "2019-02-16 20:33:56 | policy/Entropy                0.201182\n",
            "2019-02-16 20:33:56 | policy/KL                     0.00852936\n",
            "2019-02-16 20:33:56 | policy/KLBefore               0\n",
            "2019-02-16 20:33:56 | policy/LossAfter             -0.0267939\n",
            "2019-02-16 20:33:56 | policy/LossBefore            -7.62939e-09\n",
            "2019-02-16 20:33:56 | policy/dLoss                  0.0267939\n",
            "2019-02-16 20:33:56 | --------------------------  -------------\n",
            "2019-02-16 20:33:56 | itr #10 | Obtaining samples...\n",
            "2019-02-16 20:33:56 | itr #10 | Obtaining samples for iteration 10...\n"
          ],
          "name": "stdout"
        },
        {
          "output_type": "stream",
          "text": [
            "0% [##############################] 100% | ETA: 00:00:00"
          ],
          "name": "stderr"
        },
        {
          "output_type": "stream",
          "text": [
            "2019-02-16 20:33:57 | itr #10 | Processing samples...\n"
          ],
          "name": "stdout"
        },
        {
          "output_type": "stream",
          "text": [
            "\n",
            "Total time elapsed: 00:00:00\n"
          ],
          "name": "stderr"
        },
        {
          "output_type": "stream",
          "text": [
            "2019-02-16 20:33:57 | itr #10 | Logging diagnostics...\n",
            "2019-02-16 20:33:57 | itr #10 | Optimizing policy...\n",
            "2019-02-16 20:33:57 | itr #10 | Computing loss before\n",
            "2019-02-16 20:33:57 | itr #10 | Computing KL before\n",
            "2019-02-16 20:33:57 | itr #10 | Optimizing\n",
            "2019-02-16 20:33:57 | itr #10 | Start CG optimization: #parameters: 1480, #inputs: 200, #subsample_inputs: 200\n",
            "2019-02-16 20:33:57 | itr #10 | computing loss before\n",
            "2019-02-16 20:33:57 | itr #10 | performing update\n",
            "2019-02-16 20:33:57 | itr #10 | computing gradient\n",
            "2019-02-16 20:33:57 | itr #10 | gradient computed\n",
            "2019-02-16 20:33:57 | itr #10 | computing descent direction\n",
            "2019-02-16 20:33:57 | itr #10 | descent direction computed\n",
            "2019-02-16 20:33:57 | itr #10 | backtrack iters: 3\n",
            "2019-02-16 20:33:57 | itr #10 | computing loss after\n",
            "2019-02-16 20:33:57 | itr #10 | optimization finished\n",
            "2019-02-16 20:33:57 | itr #10 | Computing KL after\n",
            "2019-02-16 20:33:57 | itr #10 | Computing loss after\n",
            "2019-02-16 20:33:57 | itr #10 | Fitting baseline...\n",
            "2019-02-16 20:33:57 | itr #10 | Saving snapshot...\n",
            "2019-02-16 20:33:57 | itr #10 | Saved\n",
            "2019-02-16 20:33:57 | --------------------------  ------------\n",
            "2019-02-16 20:33:57 | AverageDiscountedReturn       9.91024\n",
            "2019-02-16 20:33:57 | AverageReturn                10.275\n",
            "2019-02-16 20:33:57 | Baseline/ExplainedVariance    0.120151\n",
            "2019-02-16 20:33:57 | Entropy                       1.56459\n",
            "2019-02-16 20:33:57 | EnvExecTime                   0.399594\n",
            "2019-02-16 20:33:57 | Iteration                    10\n",
            "2019-02-16 20:33:57 | ItrTime                       0.979749\n",
            "2019-02-16 20:33:57 | MaxReturn                    26\n",
            "2019-02-16 20:33:57 | MinReturn                   -13\n",
            "2019-02-16 20:33:57 | NumTrajs                    200\n",
            "2019-02-16 20:33:57 | Perplexity                    4.78072\n",
            "2019-02-16 20:33:57 | PolicyExecTime                0.276511\n",
            "2019-02-16 20:33:57 | ProcessExecTime               0.0228758\n",
            "2019-02-16 20:33:57 | StdReturn                     7.50329\n",
            "2019-02-16 20:33:57 | Time                         13.9268\n",
            "2019-02-16 20:33:57 | policy/Entropy                0.211675\n",
            "2019-02-16 20:33:57 | policy/KL                     0.00775845\n",
            "2019-02-16 20:33:57 | policy/KLBefore               0\n",
            "2019-02-16 20:33:57 | policy/LossAfter             -0.0130936\n",
            "2019-02-16 20:33:57 | policy/LossBefore             2.5034e-09\n",
            "2019-02-16 20:33:57 | policy/dLoss                  0.0130936\n",
            "2019-02-16 20:33:57 | --------------------------  ------------\n",
            "2019-02-16 20:33:57 | itr #11 | Obtaining samples...\n",
            "2019-02-16 20:33:57 | itr #11 | Obtaining samples for iteration 11...\n"
          ],
          "name": "stdout"
        },
        {
          "output_type": "stream",
          "text": [
            "0% [##############################] 100% | ETA: 00:00:00"
          ],
          "name": "stderr"
        },
        {
          "output_type": "stream",
          "text": [
            "2019-02-16 20:33:58 | itr #11 | Processing samples...\n"
          ],
          "name": "stdout"
        },
        {
          "output_type": "stream",
          "text": [
            "\n",
            "Total time elapsed: 00:00:00\n"
          ],
          "name": "stderr"
        },
        {
          "output_type": "stream",
          "text": [
            "2019-02-16 20:33:58 | itr #11 | Logging diagnostics...\n",
            "2019-02-16 20:33:58 | itr #11 | Optimizing policy...\n",
            "2019-02-16 20:33:58 | itr #11 | Computing loss before\n",
            "2019-02-16 20:33:58 | itr #11 | Computing KL before\n",
            "2019-02-16 20:33:58 | itr #11 | Optimizing\n",
            "2019-02-16 20:33:58 | itr #11 | Start CG optimization: #parameters: 1480, #inputs: 200, #subsample_inputs: 200\n",
            "2019-02-16 20:33:58 | itr #11 | computing loss before\n",
            "2019-02-16 20:33:58 | itr #11 | performing update\n",
            "2019-02-16 20:33:58 | itr #11 | computing gradient\n",
            "2019-02-16 20:33:58 | itr #11 | gradient computed\n",
            "2019-02-16 20:33:58 | itr #11 | computing descent direction\n",
            "2019-02-16 20:33:58 | itr #11 | descent direction computed\n",
            "2019-02-16 20:33:58 | itr #11 | backtrack iters: 3\n",
            "2019-02-16 20:33:58 | itr #11 | computing loss after\n",
            "2019-02-16 20:33:58 | itr #11 | optimization finished\n",
            "2019-02-16 20:33:58 | itr #11 | Computing KL after\n",
            "2019-02-16 20:33:58 | itr #11 | Computing loss after\n",
            "2019-02-16 20:33:58 | itr #11 | Fitting baseline...\n",
            "2019-02-16 20:33:58 | itr #11 | Saving snapshot...\n",
            "2019-02-16 20:33:58 | itr #11 | Saved\n",
            "2019-02-16 20:33:58 | --------------------------  -------------\n",
            "2019-02-16 20:33:58 | AverageDiscountedReturn      11.4744\n",
            "2019-02-16 20:33:58 | AverageReturn                11.945\n",
            "2019-02-16 20:33:58 | Baseline/ExplainedVariance    0.141157\n",
            "2019-02-16 20:33:58 | Entropy                       1.53186\n",
            "2019-02-16 20:33:58 | EnvExecTime                   0.369336\n",
            "2019-02-16 20:33:58 | Iteration                    11\n",
            "2019-02-16 20:33:58 | ItrTime                       0.972029\n",
            "2019-02-16 20:33:58 | MaxReturn                    29\n",
            "2019-02-16 20:33:58 | MinReturn                   -13\n",
            "2019-02-16 20:33:58 | NumTrajs                    200\n",
            "2019-02-16 20:33:58 | Perplexity                    4.62675\n",
            "2019-02-16 20:33:58 | PolicyExecTime                0.299346\n",
            "2019-02-16 20:33:58 | ProcessExecTime               0.0210018\n",
            "2019-02-16 20:33:58 | StdReturn                     8.36911\n",
            "2019-02-16 20:33:58 | Time                         14.9309\n",
            "2019-02-16 20:33:58 | policy/Entropy                0.220434\n",
            "2019-02-16 20:33:58 | policy/KL                     0.00945295\n",
            "2019-02-16 20:33:58 | policy/KLBefore               0\n",
            "2019-02-16 20:33:58 | policy/LossAfter             -0.00257611\n",
            "2019-02-16 20:33:58 | policy/LossBefore             1.71661e-08\n",
            "2019-02-16 20:33:58 | policy/dLoss                  0.00257612\n",
            "2019-02-16 20:33:58 | --------------------------  -------------\n",
            "2019-02-16 20:33:58 | itr #12 | Obtaining samples...\n",
            "2019-02-16 20:33:58 | itr #12 | Obtaining samples for iteration 12...\n"
          ],
          "name": "stdout"
        },
        {
          "output_type": "stream",
          "text": [
            "0% [##############################] 100% | ETA: 00:00:00"
          ],
          "name": "stderr"
        },
        {
          "output_type": "stream",
          "text": [
            "2019-02-16 20:33:59 | itr #12 | Processing samples...\n"
          ],
          "name": "stdout"
        },
        {
          "output_type": "stream",
          "text": [
            "\n",
            "Total time elapsed: 00:00:00\n"
          ],
          "name": "stderr"
        },
        {
          "output_type": "stream",
          "text": [
            "2019-02-16 20:33:59 | itr #12 | Logging diagnostics...\n",
            "2019-02-16 20:33:59 | itr #12 | Optimizing policy...\n",
            "2019-02-16 20:33:59 | itr #12 | Computing loss before\n",
            "2019-02-16 20:33:59 | itr #12 | Computing KL before\n",
            "2019-02-16 20:33:59 | itr #12 | Optimizing\n",
            "2019-02-16 20:33:59 | itr #12 | Start CG optimization: #parameters: 1480, #inputs: 200, #subsample_inputs: 200\n",
            "2019-02-16 20:33:59 | itr #12 | computing loss before\n",
            "2019-02-16 20:33:59 | itr #12 | performing update\n",
            "2019-02-16 20:33:59 | itr #12 | computing gradient\n",
            "2019-02-16 20:33:59 | itr #12 | gradient computed\n",
            "2019-02-16 20:33:59 | itr #12 | computing descent direction\n",
            "2019-02-16 20:33:59 | itr #12 | descent direction computed\n",
            "2019-02-16 20:33:59 | itr #12 | backtrack iters: 4\n",
            "2019-02-16 20:33:59 | itr #12 | computing loss after\n",
            "2019-02-16 20:33:59 | itr #12 | optimization finished\n",
            "2019-02-16 20:33:59 | itr #12 | Computing KL after\n",
            "2019-02-16 20:33:59 | itr #12 | Computing loss after\n",
            "2019-02-16 20:33:59 | itr #12 | Fitting baseline...\n",
            "2019-02-16 20:33:59 | itr #12 | Saving snapshot...\n",
            "2019-02-16 20:33:59 | itr #12 | Saved\n",
            "2019-02-16 20:33:59 | --------------------------  -------------\n",
            "2019-02-16 20:33:59 | AverageDiscountedReturn      11.6868\n",
            "2019-02-16 20:33:59 | AverageReturn                12.105\n",
            "2019-02-16 20:33:59 | Baseline/ExplainedVariance    0.136824\n",
            "2019-02-16 20:33:59 | Entropy                       1.51393\n",
            "2019-02-16 20:33:59 | EnvExecTime                   0.355245\n",
            "2019-02-16 20:33:59 | Iteration                    12\n",
            "2019-02-16 20:33:59 | ItrTime                       0.964098\n",
            "2019-02-16 20:33:59 | MaxReturn                    34\n",
            "2019-02-16 20:33:59 | MinReturn                   -13\n",
            "2019-02-16 20:33:59 | NumTrajs                    200\n",
            "2019-02-16 20:33:59 | Perplexity                    4.54455\n",
            "2019-02-16 20:33:59 | PolicyExecTime                0.291923\n",
            "2019-02-16 20:33:59 | ProcessExecTime               0.0212355\n",
            "2019-02-16 20:33:59 | StdReturn                     8.43113\n",
            "2019-02-16 20:33:59 | Time                         15.9536\n",
            "2019-02-16 20:33:59 | policy/Entropy                0.226597\n",
            "2019-02-16 20:33:59 | policy/KL                     0.00684799\n",
            "2019-02-16 20:33:59 | policy/KLBefore               0\n",
            "2019-02-16 20:33:59 | policy/LossAfter             -0.0227554\n",
            "2019-02-16 20:33:59 | policy/LossBefore             7.62939e-09\n",
            "2019-02-16 20:33:59 | policy/dLoss                  0.0227554\n",
            "2019-02-16 20:33:59 | --------------------------  -------------\n",
            "2019-02-16 20:33:59 | itr #13 | Obtaining samples...\n",
            "2019-02-16 20:33:59 | itr #13 | Obtaining samples for iteration 13...\n"
          ],
          "name": "stdout"
        },
        {
          "output_type": "stream",
          "text": [
            "0% [##############################] 100% | ETA: 00:00:00"
          ],
          "name": "stderr"
        },
        {
          "output_type": "stream",
          "text": [
            "2019-02-16 20:34:00 | itr #13 | Processing samples...\n"
          ],
          "name": "stdout"
        },
        {
          "output_type": "stream",
          "text": [
            "\n",
            "Total time elapsed: 00:00:00\n"
          ],
          "name": "stderr"
        },
        {
          "output_type": "stream",
          "text": [
            "2019-02-16 20:34:00 | itr #13 | Logging diagnostics...\n",
            "2019-02-16 20:34:00 | itr #13 | Optimizing policy...\n",
            "2019-02-16 20:34:00 | itr #13 | Computing loss before\n",
            "2019-02-16 20:34:00 | itr #13 | Computing KL before\n",
            "2019-02-16 20:34:00 | itr #13 | Optimizing\n",
            "2019-02-16 20:34:00 | itr #13 | Start CG optimization: #parameters: 1480, #inputs: 200, #subsample_inputs: 200\n",
            "2019-02-16 20:34:00 | itr #13 | computing loss before\n",
            "2019-02-16 20:34:00 | itr #13 | performing update\n",
            "2019-02-16 20:34:00 | itr #13 | computing gradient\n",
            "2019-02-16 20:34:00 | itr #13 | gradient computed\n",
            "2019-02-16 20:34:00 | itr #13 | computing descent direction\n",
            "2019-02-16 20:34:00 | itr #13 | descent direction computed\n",
            "2019-02-16 20:34:00 | itr #13 | backtrack iters: 0\n",
            "2019-02-16 20:34:00 | itr #13 | computing loss after\n",
            "2019-02-16 20:34:00 | itr #13 | optimization finished\n",
            "2019-02-16 20:34:00 | itr #13 | Computing KL after\n",
            "2019-02-16 20:34:00 | itr #13 | Computing loss after\n",
            "2019-02-16 20:34:00 | itr #13 | Fitting baseline...\n",
            "2019-02-16 20:34:00 | itr #13 | Saving snapshot...\n",
            "2019-02-16 20:34:00 | itr #13 | Saved\n",
            "2019-02-16 20:34:00 | --------------------------  -------------\n",
            "2019-02-16 20:34:00 | AverageDiscountedReturn      13.6574\n",
            "2019-02-16 20:34:00 | AverageReturn                14.38\n",
            "2019-02-16 20:34:00 | Baseline/ExplainedVariance    0.184922\n",
            "2019-02-16 20:34:00 | Entropy                       1.48597\n",
            "2019-02-16 20:34:00 | EnvExecTime                   0.379588\n",
            "2019-02-16 20:34:00 | Iteration                    13\n",
            "2019-02-16 20:34:00 | ItrTime                       0.951225\n",
            "2019-02-16 20:34:00 | MaxReturn                    30\n",
            "2019-02-16 20:34:00 | MinReturn                    -7\n",
            "2019-02-16 20:34:00 | NumTrajs                    200\n",
            "2019-02-16 20:34:00 | Perplexity                    4.41924\n",
            "2019-02-16 20:34:00 | PolicyExecTime                0.28328\n",
            "2019-02-16 20:34:00 | ProcessExecTime               0.021775\n",
            "2019-02-16 20:34:00 | StdReturn                     7.97719\n",
            "2019-02-16 20:34:00 | Time                         16.9357\n",
            "2019-02-16 20:34:00 | policy/Entropy                0.233857\n",
            "2019-02-16 20:34:00 | policy/KL                     0.00869007\n",
            "2019-02-16 20:34:00 | policy/KLBefore               0\n",
            "2019-02-16 20:34:00 | policy/LossAfter             -0.024299\n",
            "2019-02-16 20:34:00 | policy/LossBefore             2.09808e-08\n",
            "2019-02-16 20:34:00 | policy/dLoss                  0.024299\n",
            "2019-02-16 20:34:00 | --------------------------  -------------\n",
            "2019-02-16 20:34:00 | itr #14 | Obtaining samples...\n",
            "2019-02-16 20:34:00 | itr #14 | Obtaining samples for iteration 14...\n"
          ],
          "name": "stdout"
        },
        {
          "output_type": "stream",
          "text": [
            "0% [##############################] 100% | ETA: 00:00:00"
          ],
          "name": "stderr"
        },
        {
          "output_type": "stream",
          "text": [
            "2019-02-16 20:34:01 | itr #14 | Processing samples...\n"
          ],
          "name": "stdout"
        },
        {
          "output_type": "stream",
          "text": [
            "\n",
            "Total time elapsed: 00:00:00\n"
          ],
          "name": "stderr"
        },
        {
          "output_type": "stream",
          "text": [
            "2019-02-16 20:34:01 | itr #14 | Logging diagnostics...\n",
            "2019-02-16 20:34:01 | itr #14 | Optimizing policy...\n",
            "2019-02-16 20:34:01 | itr #14 | Computing loss before\n",
            "2019-02-16 20:34:01 | itr #14 | Computing KL before\n",
            "2019-02-16 20:34:01 | itr #14 | Optimizing\n",
            "2019-02-16 20:34:01 | itr #14 | Start CG optimization: #parameters: 1480, #inputs: 200, #subsample_inputs: 200\n",
            "2019-02-16 20:34:01 | itr #14 | computing loss before\n",
            "2019-02-16 20:34:01 | itr #14 | performing update\n",
            "2019-02-16 20:34:01 | itr #14 | computing gradient\n",
            "2019-02-16 20:34:01 | itr #14 | gradient computed\n",
            "2019-02-16 20:34:01 | itr #14 | computing descent direction\n",
            "2019-02-16 20:34:01 | itr #14 | descent direction computed\n",
            "2019-02-16 20:34:01 | itr #14 | backtrack iters: 1\n",
            "2019-02-16 20:34:01 | itr #14 | computing loss after\n",
            "2019-02-16 20:34:01 | itr #14 | optimization finished\n",
            "2019-02-16 20:34:01 | itr #14 | Computing KL after\n",
            "2019-02-16 20:34:01 | itr #14 | Computing loss after\n",
            "2019-02-16 20:34:01 | itr #14 | Fitting baseline...\n",
            "2019-02-16 20:34:01 | itr #14 | Saving snapshot...\n",
            "2019-02-16 20:34:01 | itr #14 | Saved\n",
            "2019-02-16 20:34:01 | --------------------------  -------------\n",
            "2019-02-16 20:34:01 | AverageDiscountedReturn      15.2169\n",
            "2019-02-16 20:34:01 | AverageReturn                16.105\n",
            "2019-02-16 20:34:01 | Baseline/ExplainedVariance    0.178023\n",
            "2019-02-16 20:34:01 | Entropy                       1.41909\n",
            "2019-02-16 20:34:01 | EnvExecTime                   0.343568\n",
            "2019-02-16 20:34:01 | Iteration                    14\n",
            "2019-02-16 20:34:01 | ItrTime                       0.910285\n",
            "2019-02-16 20:34:01 | MaxReturn                    33\n",
            "2019-02-16 20:34:01 | MinReturn                   -30\n",
            "2019-02-16 20:34:01 | NumTrajs                    200\n",
            "2019-02-16 20:34:01 | Perplexity                    4.13335\n",
            "2019-02-16 20:34:01 | PolicyExecTime                0.276905\n",
            "2019-02-16 20:34:01 | ProcessExecTime               0.0204842\n",
            "2019-02-16 20:34:01 | StdReturn                     8.93722\n",
            "2019-02-16 20:34:01 | Time                         17.92\n",
            "2019-02-16 20:34:01 | policy/Entropy                0.243905\n",
            "2019-02-16 20:34:01 | policy/KL                     0.00981895\n",
            "2019-02-16 20:34:01 | policy/KLBefore               0\n",
            "2019-02-16 20:34:01 | policy/LossAfter             -0.00925431\n",
            "2019-02-16 20:34:01 | policy/LossBefore             2.09808e-08\n",
            "2019-02-16 20:34:01 | policy/dLoss                  0.00925433\n",
            "2019-02-16 20:34:01 | --------------------------  -------------\n",
            "2019-02-16 20:34:01 | itr #15 | Obtaining samples...\n",
            "2019-02-16 20:34:01 | itr #15 | Obtaining samples for iteration 15...\n"
          ],
          "name": "stdout"
        },
        {
          "output_type": "stream",
          "text": [
            "0% [##############################] 100% | ETA: 00:00:00"
          ],
          "name": "stderr"
        },
        {
          "output_type": "stream",
          "text": [
            "2019-02-16 20:34:01 | itr #15 | Processing samples...\n"
          ],
          "name": "stdout"
        },
        {
          "output_type": "stream",
          "text": [
            "\n",
            "Total time elapsed: 00:00:00\n"
          ],
          "name": "stderr"
        },
        {
          "output_type": "stream",
          "text": [
            "2019-02-16 20:34:02 | itr #15 | Logging diagnostics...\n",
            "2019-02-16 20:34:02 | itr #15 | Optimizing policy...\n",
            "2019-02-16 20:34:02 | itr #15 | Computing loss before\n",
            "2019-02-16 20:34:02 | itr #15 | Computing KL before\n",
            "2019-02-16 20:34:02 | itr #15 | Optimizing\n",
            "2019-02-16 20:34:02 | itr #15 | Start CG optimization: #parameters: 1480, #inputs: 200, #subsample_inputs: 200\n",
            "2019-02-16 20:34:02 | itr #15 | computing loss before\n",
            "2019-02-16 20:34:02 | itr #15 | performing update\n",
            "2019-02-16 20:34:02 | itr #15 | computing gradient\n",
            "2019-02-16 20:34:02 | itr #15 | gradient computed\n",
            "2019-02-16 20:34:02 | itr #15 | computing descent direction\n",
            "2019-02-16 20:34:02 | itr #15 | descent direction computed\n",
            "2019-02-16 20:34:02 | itr #15 | backtrack iters: 7\n",
            "2019-02-16 20:34:02 | itr #15 | computing loss after\n",
            "2019-02-16 20:34:02 | itr #15 | optimization finished\n",
            "2019-02-16 20:34:02 | itr #15 | Computing KL after\n",
            "2019-02-16 20:34:02 | itr #15 | Computing loss after\n",
            "2019-02-16 20:34:02 | itr #15 | Fitting baseline...\n",
            "2019-02-16 20:34:02 | itr #15 | Saving snapshot...\n",
            "2019-02-16 20:34:02 | itr #15 | Saved\n",
            "2019-02-16 20:34:02 | --------------------------  -------------\n",
            "2019-02-16 20:34:02 | AverageDiscountedReturn      14.8445\n",
            "2019-02-16 20:34:02 | AverageReturn                15.425\n",
            "2019-02-16 20:34:02 | Baseline/ExplainedVariance    0.268919\n",
            "2019-02-16 20:34:02 | Entropy                       1.43999\n",
            "2019-02-16 20:34:02 | EnvExecTime                   0.384522\n",
            "2019-02-16 20:34:02 | Iteration                    15\n",
            "2019-02-16 20:34:02 | ItrTime                       1.00157\n",
            "2019-02-16 20:34:02 | MaxReturn                    31\n",
            "2019-02-16 20:34:02 | MinReturn                    -4\n",
            "2019-02-16 20:34:02 | NumTrajs                    200\n",
            "2019-02-16 20:34:02 | Perplexity                    4.22064\n",
            "2019-02-16 20:34:02 | PolicyExecTime                0.285398\n",
            "2019-02-16 20:34:02 | ProcessExecTime               0.021024\n",
            "2019-02-16 20:34:02 | StdReturn                     7.76044\n",
            "2019-02-16 20:34:02 | Time                         18.9488\n",
            "2019-02-16 20:34:02 | policy/Entropy                0.245199\n",
            "2019-02-16 20:34:02 | policy/KL                     0.000476215\n",
            "2019-02-16 20:34:02 | policy/KLBefore               0\n",
            "2019-02-16 20:34:02 | policy/LossAfter             -0.00154996\n",
            "2019-02-16 20:34:02 | policy/LossBefore            -1.52588e-08\n",
            "2019-02-16 20:34:02 | policy/dLoss                  0.00154995\n",
            "2019-02-16 20:34:02 | --------------------------  -------------\n",
            "2019-02-16 20:34:02 | itr #16 | Obtaining samples...\n",
            "2019-02-16 20:34:02 | itr #16 | Obtaining samples for iteration 16...\n"
          ],
          "name": "stdout"
        },
        {
          "output_type": "stream",
          "text": [
            "0% [##############################] 100% | ETA: 00:00:00"
          ],
          "name": "stderr"
        },
        {
          "output_type": "stream",
          "text": [
            "2019-02-16 20:34:03 | itr #16 | Processing samples...\n"
          ],
          "name": "stdout"
        },
        {
          "output_type": "stream",
          "text": [
            "\n",
            "Total time elapsed: 00:00:00\n"
          ],
          "name": "stderr"
        },
        {
          "output_type": "stream",
          "text": [
            "2019-02-16 20:34:03 | itr #16 | Logging diagnostics...\n",
            "2019-02-16 20:34:03 | itr #16 | Optimizing policy...\n",
            "2019-02-16 20:34:03 | itr #16 | Computing loss before\n",
            "2019-02-16 20:34:03 | itr #16 | Computing KL before\n",
            "2019-02-16 20:34:03 | itr #16 | Optimizing\n",
            "2019-02-16 20:34:03 | itr #16 | Start CG optimization: #parameters: 1480, #inputs: 200, #subsample_inputs: 200\n",
            "2019-02-16 20:34:03 | itr #16 | computing loss before\n",
            "2019-02-16 20:34:03 | itr #16 | performing update\n",
            "2019-02-16 20:34:03 | itr #16 | computing gradient\n",
            "2019-02-16 20:34:03 | itr #16 | gradient computed\n",
            "2019-02-16 20:34:03 | itr #16 | computing descent direction\n",
            "2019-02-16 20:34:03 | itr #16 | descent direction computed\n",
            "2019-02-16 20:34:03 | itr #16 | backtrack iters: 0\n",
            "2019-02-16 20:34:03 | itr #16 | computing loss after\n",
            "2019-02-16 20:34:03 | itr #16 | optimization finished\n",
            "2019-02-16 20:34:03 | itr #16 | Computing KL after\n",
            "2019-02-16 20:34:03 | itr #16 | Computing loss after\n",
            "2019-02-16 20:34:03 | itr #16 | Fitting baseline...\n",
            "2019-02-16 20:34:03 | itr #16 | Saving snapshot...\n",
            "2019-02-16 20:34:03 | itr #16 | Saved\n",
            "2019-02-16 20:34:03 | --------------------------  -------------\n",
            "2019-02-16 20:34:03 | AverageDiscountedReturn      15.4139\n",
            "2019-02-16 20:34:03 | AverageReturn                16.03\n",
            "2019-02-16 20:34:03 | Baseline/ExplainedVariance    0.268354\n",
            "2019-02-16 20:34:03 | Entropy                       1.42479\n",
            "2019-02-16 20:34:03 | EnvExecTime                   0.380525\n",
            "2019-02-16 20:34:03 | Iteration                    16\n",
            "2019-02-16 20:34:03 | ItrTime                       0.955151\n",
            "2019-02-16 20:34:03 | MaxReturn                    32\n",
            "2019-02-16 20:34:03 | MinReturn                    -4\n",
            "2019-02-16 20:34:03 | NumTrajs                    200\n",
            "2019-02-16 20:34:03 | Perplexity                    4.15698\n",
            "2019-02-16 20:34:03 | PolicyExecTime                0.290478\n",
            "2019-02-16 20:34:03 | ProcessExecTime               0.0249865\n",
            "2019-02-16 20:34:03 | StdReturn                     7.55441\n",
            "2019-02-16 20:34:03 | Time                         19.9365\n",
            "2019-02-16 20:34:03 | policy/Entropy                0.25025\n",
            "2019-02-16 20:34:03 | policy/KL                     0.00603109\n",
            "2019-02-16 20:34:03 | policy/KLBefore               0\n",
            "2019-02-16 20:34:03 | policy/LossAfter             -0.0200352\n",
            "2019-02-16 20:34:03 | policy/LossBefore             2.28882e-08\n",
            "2019-02-16 20:34:03 | policy/dLoss                  0.0200352\n",
            "2019-02-16 20:34:03 | --------------------------  -------------\n",
            "2019-02-16 20:34:03 | itr #17 | Obtaining samples...\n",
            "2019-02-16 20:34:03 | itr #17 | Obtaining samples for iteration 17...\n"
          ],
          "name": "stdout"
        },
        {
          "output_type": "stream",
          "text": [
            "0% [##############################] 100% | ETA: 00:00:00"
          ],
          "name": "stderr"
        },
        {
          "output_type": "stream",
          "text": [
            "2019-02-16 20:34:04 | itr #17 | Processing samples...\n"
          ],
          "name": "stdout"
        },
        {
          "output_type": "stream",
          "text": [
            "\n",
            "Total time elapsed: 00:00:00\n"
          ],
          "name": "stderr"
        },
        {
          "output_type": "stream",
          "text": [
            "2019-02-16 20:34:04 | itr #17 | Logging diagnostics...\n",
            "2019-02-16 20:34:04 | itr #17 | Optimizing policy...\n",
            "2019-02-16 20:34:04 | itr #17 | Computing loss before\n",
            "2019-02-16 20:34:04 | itr #17 | Computing KL before\n",
            "2019-02-16 20:34:04 | itr #17 | Optimizing\n",
            "2019-02-16 20:34:04 | itr #17 | Start CG optimization: #parameters: 1480, #inputs: 200, #subsample_inputs: 200\n",
            "2019-02-16 20:34:04 | itr #17 | computing loss before\n",
            "2019-02-16 20:34:04 | itr #17 | performing update\n",
            "2019-02-16 20:34:04 | itr #17 | computing gradient\n",
            "2019-02-16 20:34:04 | itr #17 | gradient computed\n",
            "2019-02-16 20:34:04 | itr #17 | computing descent direction\n",
            "2019-02-16 20:34:04 | itr #17 | descent direction computed\n",
            "2019-02-16 20:34:04 | itr #17 | backtrack iters: 6\n",
            "2019-02-16 20:34:04 | itr #17 | computing loss after\n",
            "2019-02-16 20:34:04 | itr #17 | optimization finished\n",
            "2019-02-16 20:34:04 | itr #17 | Computing KL after\n",
            "2019-02-16 20:34:04 | itr #17 | Computing loss after\n",
            "2019-02-16 20:34:04 | itr #17 | Fitting baseline...\n",
            "2019-02-16 20:34:04 | itr #17 | Saving snapshot...\n",
            "2019-02-16 20:34:04 | itr #17 | Saved\n",
            "2019-02-16 20:34:04 | --------------------------  -------------\n",
            "2019-02-16 20:34:04 | AverageDiscountedReturn      17.2157\n",
            "2019-02-16 20:34:04 | AverageReturn                18.13\n",
            "2019-02-16 20:34:04 | Baseline/ExplainedVariance    0.328293\n",
            "2019-02-16 20:34:04 | Entropy                       1.36758\n",
            "2019-02-16 20:34:04 | EnvExecTime                   0.37633\n",
            "2019-02-16 20:34:04 | Iteration                    17\n",
            "2019-02-16 20:34:04 | ItrTime                       0.980623\n",
            "2019-02-16 20:34:04 | MaxReturn                    33\n",
            "2019-02-16 20:34:04 | MinReturn                     3\n",
            "2019-02-16 20:34:04 | NumTrajs                    200\n",
            "2019-02-16 20:34:04 | Perplexity                    3.92583\n",
            "2019-02-16 20:34:04 | PolicyExecTime                0.287642\n",
            "2019-02-16 20:34:04 | ProcessExecTime               0.021837\n",
            "2019-02-16 20:34:04 | StdReturn                     6.76041\n",
            "2019-02-16 20:34:04 | Time                         20.9511\n",
            "2019-02-16 20:34:04 | policy/Entropy                0.258957\n",
            "2019-02-16 20:34:04 | policy/KL                     0.000715299\n",
            "2019-02-16 20:34:04 | policy/KLBefore               0\n",
            "2019-02-16 20:34:04 | policy/LossAfter             -0.00202502\n",
            "2019-02-16 20:34:04 | policy/LossBefore            -1.52588e-08\n",
            "2019-02-16 20:34:04 | policy/dLoss                  0.00202501\n",
            "2019-02-16 20:34:04 | --------------------------  -------------\n",
            "2019-02-16 20:34:04 | itr #18 | Obtaining samples...\n",
            "2019-02-16 20:34:04 | itr #18 | Obtaining samples for iteration 18...\n"
          ],
          "name": "stdout"
        },
        {
          "output_type": "stream",
          "text": [
            "0% [##############################] 100% | ETA: 00:00:00"
          ],
          "name": "stderr"
        },
        {
          "output_type": "stream",
          "text": [
            "2019-02-16 20:34:05 | itr #18 | Processing samples...\n"
          ],
          "name": "stdout"
        },
        {
          "output_type": "stream",
          "text": [
            "\n",
            "Total time elapsed: 00:00:00\n"
          ],
          "name": "stderr"
        },
        {
          "output_type": "stream",
          "text": [
            "2019-02-16 20:34:05 | itr #18 | Logging diagnostics...\n",
            "2019-02-16 20:34:05 | itr #18 | Optimizing policy...\n",
            "2019-02-16 20:34:05 | itr #18 | Computing loss before\n",
            "2019-02-16 20:34:05 | itr #18 | Computing KL before\n",
            "2019-02-16 20:34:05 | itr #18 | Optimizing\n",
            "2019-02-16 20:34:05 | itr #18 | Start CG optimization: #parameters: 1480, #inputs: 200, #subsample_inputs: 200\n",
            "2019-02-16 20:34:05 | itr #18 | computing loss before\n",
            "2019-02-16 20:34:05 | itr #18 | performing update\n",
            "2019-02-16 20:34:05 | itr #18 | computing gradient\n",
            "2019-02-16 20:34:05 | itr #18 | gradient computed\n",
            "2019-02-16 20:34:05 | itr #18 | computing descent direction\n",
            "2019-02-16 20:34:05 | itr #18 | descent direction computed\n",
            "2019-02-16 20:34:05 | itr #18 | backtrack iters: 11\n",
            "2019-02-16 20:34:05 | itr #18 | computing loss after\n",
            "2019-02-16 20:34:05 | itr #18 | optimization finished\n",
            "2019-02-16 20:34:05 | itr #18 | Computing KL after\n",
            "2019-02-16 20:34:05 | itr #18 | Computing loss after\n",
            "2019-02-16 20:34:05 | itr #18 | Fitting baseline...\n",
            "2019-02-16 20:34:05 | itr #18 | Saving snapshot...\n",
            "2019-02-16 20:34:05 | itr #18 | Saved\n",
            "2019-02-16 20:34:05 | --------------------------  -------------\n",
            "2019-02-16 20:34:05 | AverageDiscountedReturn      17.5082\n",
            "2019-02-16 20:34:05 | AverageReturn                18.385\n",
            "2019-02-16 20:34:05 | Baseline/ExplainedVariance    0.347393\n",
            "2019-02-16 20:34:05 | Entropy                       1.36501\n",
            "2019-02-16 20:34:05 | EnvExecTime                   0.369709\n",
            "2019-02-16 20:34:05 | Iteration                    18\n",
            "2019-02-16 20:34:05 | ItrTime                       0.989117\n",
            "2019-02-16 20:34:05 | MaxReturn                    35\n",
            "2019-02-16 20:34:05 | MinReturn                     1\n",
            "2019-02-16 20:34:05 | NumTrajs                    200\n",
            "2019-02-16 20:34:05 | Perplexity                    3.91577\n",
            "2019-02-16 20:34:05 | PolicyExecTime                0.271313\n",
            "2019-02-16 20:34:05 | ProcessExecTime               0.0208664\n",
            "2019-02-16 20:34:05 | StdReturn                     7.09836\n",
            "2019-02-16 20:34:05 | Time                         21.984\n",
            "2019-02-16 20:34:05 | policy/Entropy                0.259207\n",
            "2019-02-16 20:34:05 | policy/KL                     9.75782e-05\n",
            "2019-02-16 20:34:05 | policy/KLBefore               0\n",
            "2019-02-16 20:34:05 | policy/LossAfter             -0.000436932\n",
            "2019-02-16 20:34:05 | policy/LossBefore             1.04904e-08\n",
            "2019-02-16 20:34:05 | policy/dLoss                  0.000436942\n",
            "2019-02-16 20:34:05 | --------------------------  -------------\n",
            "2019-02-16 20:34:05 | itr #19 | Obtaining samples...\n",
            "2019-02-16 20:34:05 | itr #19 | Obtaining samples for iteration 19...\n"
          ],
          "name": "stdout"
        },
        {
          "output_type": "stream",
          "text": [
            "0% [##############################] 100% | ETA: 00:00:00"
          ],
          "name": "stderr"
        },
        {
          "output_type": "stream",
          "text": [
            "2019-02-16 20:34:06 | itr #19 | Processing samples...\n"
          ],
          "name": "stdout"
        },
        {
          "output_type": "stream",
          "text": [
            "\n",
            "Total time elapsed: 00:00:00\n"
          ],
          "name": "stderr"
        },
        {
          "output_type": "stream",
          "text": [
            "2019-02-16 20:34:06 | itr #19 | Logging diagnostics...\n",
            "2019-02-16 20:34:06 | itr #19 | Optimizing policy...\n",
            "2019-02-16 20:34:06 | itr #19 | Computing loss before\n",
            "2019-02-16 20:34:06 | itr #19 | Computing KL before\n",
            "2019-02-16 20:34:06 | itr #19 | Optimizing\n",
            "2019-02-16 20:34:06 | itr #19 | Start CG optimization: #parameters: 1480, #inputs: 200, #subsample_inputs: 200\n",
            "2019-02-16 20:34:06 | itr #19 | computing loss before\n",
            "2019-02-16 20:34:06 | itr #19 | performing update\n",
            "2019-02-16 20:34:06 | itr #19 | computing gradient\n",
            "2019-02-16 20:34:06 | itr #19 | gradient computed\n",
            "2019-02-16 20:34:06 | itr #19 | computing descent direction\n",
            "2019-02-16 20:34:06 | itr #19 | descent direction computed\n",
            "2019-02-16 20:34:06 | itr #19 | backtrack iters: 4\n",
            "2019-02-16 20:34:06 | itr #19 | computing loss after\n",
            "2019-02-16 20:34:06 | itr #19 | optimization finished\n",
            "2019-02-16 20:34:06 | itr #19 | Computing KL after\n",
            "2019-02-16 20:34:06 | itr #19 | Computing loss after\n",
            "2019-02-16 20:34:06 | itr #19 | Fitting baseline...\n",
            "2019-02-16 20:34:06 | itr #19 | Saving snapshot...\n",
            "2019-02-16 20:34:06 | itr #19 | Saved\n",
            "2019-02-16 20:34:06 | --------------------------  -------------\n",
            "2019-02-16 20:34:06 | AverageDiscountedReturn      16.9942\n",
            "2019-02-16 20:34:06 | AverageReturn                17.95\n",
            "2019-02-16 20:34:06 | Baseline/ExplainedVariance    0.292102\n",
            "2019-02-16 20:34:06 | Entropy                       1.35142\n",
            "2019-02-16 20:34:06 | EnvExecTime                   0.370412\n",
            "2019-02-16 20:34:06 | Iteration                    19\n",
            "2019-02-16 20:34:06 | ItrTime                       0.942106\n",
            "2019-02-16 20:34:06 | MaxReturn                    35\n",
            "2019-02-16 20:34:06 | MinReturn                   -12\n",
            "2019-02-16 20:34:06 | NumTrajs                    200\n",
            "2019-02-16 20:34:06 | Perplexity                    3.86291\n",
            "2019-02-16 20:34:06 | PolicyExecTime                0.265313\n",
            "2019-02-16 20:34:06 | ProcessExecTime               0.02056\n",
            "2019-02-16 20:34:06 | StdReturn                     7.2531\n",
            "2019-02-16 20:34:06 | Time                         22.9822\n",
            "2019-02-16 20:34:06 | policy/Entropy                0.261562\n",
            "2019-02-16 20:34:06 | policy/KL                     0.00167656\n",
            "2019-02-16 20:34:06 | policy/KLBefore               0\n",
            "2019-02-16 20:34:06 | policy/LossAfter             -0.0025851\n",
            "2019-02-16 20:34:06 | policy/LossBefore            -1.90735e-09\n",
            "2019-02-16 20:34:06 | policy/dLoss                  0.0025851\n",
            "2019-02-16 20:34:06 | --------------------------  -------------\n",
            "2019-02-16 20:34:06 | itr #20 | Obtaining samples...\n",
            "2019-02-16 20:34:06 | itr #20 | Obtaining samples for iteration 20...\n"
          ],
          "name": "stdout"
        },
        {
          "output_type": "stream",
          "text": [
            "0% [##############################] 100% | ETA: 00:00:00"
          ],
          "name": "stderr"
        },
        {
          "output_type": "stream",
          "text": [
            "2019-02-16 20:34:07 | itr #20 | Processing samples...\n"
          ],
          "name": "stdout"
        },
        {
          "output_type": "stream",
          "text": [
            "\n",
            "Total time elapsed: 00:00:00\n"
          ],
          "name": "stderr"
        },
        {
          "output_type": "stream",
          "text": [
            "2019-02-16 20:34:07 | itr #20 | Logging diagnostics...\n",
            "2019-02-16 20:34:07 | itr #20 | Optimizing policy...\n",
            "2019-02-16 20:34:07 | itr #20 | Computing loss before\n",
            "2019-02-16 20:34:07 | itr #20 | Computing KL before\n",
            "2019-02-16 20:34:07 | itr #20 | Optimizing\n",
            "2019-02-16 20:34:07 | itr #20 | Start CG optimization: #parameters: 1480, #inputs: 200, #subsample_inputs: 200\n",
            "2019-02-16 20:34:07 | itr #20 | computing loss before\n",
            "2019-02-16 20:34:07 | itr #20 | performing update\n",
            "2019-02-16 20:34:07 | itr #20 | computing gradient\n",
            "2019-02-16 20:34:07 | itr #20 | gradient computed\n",
            "2019-02-16 20:34:07 | itr #20 | computing descent direction\n",
            "2019-02-16 20:34:07 | itr #20 | descent direction computed\n",
            "2019-02-16 20:34:07 | itr #20 | backtrack iters: 1\n",
            "2019-02-16 20:34:07 | itr #20 | computing loss after\n",
            "2019-02-16 20:34:07 | itr #20 | optimization finished\n",
            "2019-02-16 20:34:07 | itr #20 | Computing KL after\n",
            "2019-02-16 20:34:07 | itr #20 | Computing loss after\n",
            "2019-02-16 20:34:07 | itr #20 | Fitting baseline...\n",
            "2019-02-16 20:34:07 | itr #20 | Saving snapshot...\n",
            "2019-02-16 20:34:07 | itr #20 | Saved\n",
            "2019-02-16 20:34:07 | --------------------------  -------------\n",
            "2019-02-16 20:34:07 | AverageDiscountedReturn      17.2937\n",
            "2019-02-16 20:34:07 | AverageReturn                18.205\n",
            "2019-02-16 20:34:07 | Baseline/ExplainedVariance    0.303239\n",
            "2019-02-16 20:34:07 | Entropy                       1.3399\n",
            "2019-02-16 20:34:07 | EnvExecTime                   0.345964\n",
            "2019-02-16 20:34:07 | Iteration                    20\n",
            "2019-02-16 20:34:07 | ItrTime                       0.938977\n",
            "2019-02-16 20:34:07 | MaxReturn                    34\n",
            "2019-02-16 20:34:07 | MinReturn                     1\n",
            "2019-02-16 20:34:07 | NumTrajs                    200\n",
            "2019-02-16 20:34:07 | Perplexity                    3.81867\n",
            "2019-02-16 20:34:07 | PolicyExecTime                0.289605\n",
            "2019-02-16 20:34:07 | ProcessExecTime               0.0238271\n",
            "2019-02-16 20:34:07 | StdReturn                     7.09951\n",
            "2019-02-16 20:34:07 | Time                         23.9844\n",
            "2019-02-16 20:34:07 | policy/Entropy                0.265781\n",
            "2019-02-16 20:34:07 | policy/KL                     0.00653061\n",
            "2019-02-16 20:34:07 | policy/KLBefore               0\n",
            "2019-02-16 20:34:07 | policy/LossAfter             -0.0211161\n",
            "2019-02-16 20:34:07 | policy/LossBefore             6.67572e-09\n",
            "2019-02-16 20:34:07 | policy/dLoss                  0.0211161\n",
            "2019-02-16 20:34:07 | --------------------------  -------------\n",
            "2019-02-16 20:34:07 | itr #21 | Obtaining samples...\n",
            "2019-02-16 20:34:07 | itr #21 | Obtaining samples for iteration 21...\n"
          ],
          "name": "stdout"
        },
        {
          "output_type": "stream",
          "text": [
            "0% [##############################] 100% | ETA: 00:00:00"
          ],
          "name": "stderr"
        },
        {
          "output_type": "stream",
          "text": [
            "2019-02-16 20:34:08 | itr #21 | Processing samples...\n"
          ],
          "name": "stdout"
        },
        {
          "output_type": "stream",
          "text": [
            "\n",
            "Total time elapsed: 00:00:00\n"
          ],
          "name": "stderr"
        },
        {
          "output_type": "stream",
          "text": [
            "2019-02-16 20:34:08 | itr #21 | Logging diagnostics...\n",
            "2019-02-16 20:34:08 | itr #21 | Optimizing policy...\n",
            "2019-02-16 20:34:08 | itr #21 | Computing loss before\n",
            "2019-02-16 20:34:08 | itr #21 | Computing KL before\n",
            "2019-02-16 20:34:08 | itr #21 | Optimizing\n",
            "2019-02-16 20:34:08 | itr #21 | Start CG optimization: #parameters: 1480, #inputs: 200, #subsample_inputs: 200\n",
            "2019-02-16 20:34:08 | itr #21 | computing loss before\n",
            "2019-02-16 20:34:08 | itr #21 | performing update\n",
            "2019-02-16 20:34:08 | itr #21 | computing gradient\n",
            "2019-02-16 20:34:08 | itr #21 | gradient computed\n",
            "2019-02-16 20:34:08 | itr #21 | computing descent direction\n",
            "2019-02-16 20:34:08 | itr #21 | descent direction computed\n",
            "2019-02-16 20:34:08 | itr #21 | backtrack iters: 9\n",
            "2019-02-16 20:34:08 | itr #21 | computing loss after\n",
            "2019-02-16 20:34:08 | itr #21 | optimization finished\n",
            "2019-02-16 20:34:08 | itr #21 | Computing KL after\n",
            "2019-02-16 20:34:08 | itr #21 | Computing loss after\n",
            "2019-02-16 20:34:08 | itr #21 | Fitting baseline...\n",
            "2019-02-16 20:34:08 | itr #21 | Saving snapshot...\n",
            "2019-02-16 20:34:08 | itr #21 | Saved\n",
            "2019-02-16 20:34:08 | --------------------------  -------------\n",
            "2019-02-16 20:34:08 | AverageDiscountedReturn      18.4968\n",
            "2019-02-16 20:34:08 | AverageReturn                19.385\n",
            "2019-02-16 20:34:08 | Baseline/ExplainedVariance    0.379182\n",
            "2019-02-16 20:34:08 | Entropy                       1.30553\n",
            "2019-02-16 20:34:08 | EnvExecTime                   0.365224\n",
            "2019-02-16 20:34:08 | Iteration                    21\n",
            "2019-02-16 20:34:08 | ItrTime                       0.989759\n",
            "2019-02-16 20:34:08 | MaxReturn                    36\n",
            "2019-02-16 20:34:08 | MinReturn                    -2\n",
            "2019-02-16 20:34:08 | NumTrajs                    200\n",
            "2019-02-16 20:34:08 | Perplexity                    3.68963\n",
            "2019-02-16 20:34:08 | PolicyExecTime                0.282026\n",
            "2019-02-16 20:34:08 | ProcessExecTime               0.0206296\n",
            "2019-02-16 20:34:08 | StdReturn                     6.73623\n",
            "2019-02-16 20:34:08 | Time                         25.0281\n",
            "2019-02-16 20:34:08 | policy/Entropy                0.273785\n",
            "2019-02-16 20:34:08 | policy/KL                     0.000216113\n",
            "2019-02-16 20:34:08 | policy/KLBefore               0\n",
            "2019-02-16 20:34:08 | policy/LossAfter             -0.000228919\n",
            "2019-02-16 20:34:08 | policy/LossBefore             1.23978e-08\n",
            "2019-02-16 20:34:08 | policy/dLoss                  0.000228931\n",
            "2019-02-16 20:34:08 | --------------------------  -------------\n",
            "2019-02-16 20:34:08 | itr #22 | Obtaining samples...\n",
            "2019-02-16 20:34:08 | itr #22 | Obtaining samples for iteration 22...\n"
          ],
          "name": "stdout"
        },
        {
          "output_type": "stream",
          "text": [
            "0% [##############################] 100% | ETA: 00:00:00"
          ],
          "name": "stderr"
        },
        {
          "output_type": "stream",
          "text": [
            "2019-02-16 20:34:09 | itr #22 | Processing samples...\n"
          ],
          "name": "stdout"
        },
        {
          "output_type": "stream",
          "text": [
            "\n",
            "Total time elapsed: 00:00:00\n"
          ],
          "name": "stderr"
        },
        {
          "output_type": "stream",
          "text": [
            "2019-02-16 20:34:09 | itr #22 | Logging diagnostics...\n",
            "2019-02-16 20:34:09 | itr #22 | Optimizing policy...\n",
            "2019-02-16 20:34:09 | itr #22 | Computing loss before\n",
            "2019-02-16 20:34:09 | itr #22 | Computing KL before\n",
            "2019-02-16 20:34:09 | itr #22 | Optimizing\n",
            "2019-02-16 20:34:09 | itr #22 | Start CG optimization: #parameters: 1480, #inputs: 200, #subsample_inputs: 200\n",
            "2019-02-16 20:34:09 | itr #22 | computing loss before\n",
            "2019-02-16 20:34:09 | itr #22 | performing update\n",
            "2019-02-16 20:34:09 | itr #22 | computing gradient\n",
            "2019-02-16 20:34:09 | itr #22 | gradient computed\n",
            "2019-02-16 20:34:09 | itr #22 | computing descent direction\n",
            "2019-02-16 20:34:09 | itr #22 | descent direction computed\n",
            "2019-02-16 20:34:09 | itr #22 | backtrack iters: 6\n",
            "2019-02-16 20:34:09 | itr #22 | computing loss after\n",
            "2019-02-16 20:34:09 | itr #22 | optimization finished\n",
            "2019-02-16 20:34:09 | itr #22 | Computing KL after\n",
            "2019-02-16 20:34:09 | itr #22 | Computing loss after\n",
            "2019-02-16 20:34:09 | itr #22 | Fitting baseline...\n",
            "2019-02-16 20:34:09 | itr #22 | Saving snapshot...\n",
            "2019-02-16 20:34:09 | itr #22 | Saved\n",
            "2019-02-16 20:34:09 | --------------------------  -------------\n",
            "2019-02-16 20:34:09 | AverageDiscountedReturn      18.7544\n",
            "2019-02-16 20:34:09 | AverageReturn                19.75\n",
            "2019-02-16 20:34:09 | Baseline/ExplainedVariance    0.364925\n",
            "2019-02-16 20:34:09 | Entropy                       1.29357\n",
            "2019-02-16 20:34:09 | EnvExecTime                   0.371451\n",
            "2019-02-16 20:34:09 | Iteration                    22\n",
            "2019-02-16 20:34:09 | ItrTime                       0.952644\n",
            "2019-02-16 20:34:09 | MaxReturn                    32\n",
            "2019-02-16 20:34:09 | MinReturn                   -15\n",
            "2019-02-16 20:34:09 | NumTrajs                    200\n",
            "2019-02-16 20:34:09 | Perplexity                    3.64577\n",
            "2019-02-16 20:34:09 | PolicyExecTime                0.26625\n",
            "2019-02-16 20:34:09 | ProcessExecTime               0.0207126\n",
            "2019-02-16 20:34:09 | StdReturn                     7.10475\n",
            "2019-02-16 20:34:09 | Time                         26.0261\n",
            "2019-02-16 20:34:09 | policy/Entropy                0.274832\n",
            "2019-02-16 20:34:09 | policy/KL                     0.00412997\n",
            "2019-02-16 20:34:09 | policy/KLBefore               0\n",
            "2019-02-16 20:34:09 | policy/LossAfter             -0.0129669\n",
            "2019-02-16 20:34:09 | policy/LossBefore            -2.24113e-08\n",
            "2019-02-16 20:34:09 | policy/dLoss                  0.0129668\n",
            "2019-02-16 20:34:09 | --------------------------  -------------\n",
            "2019-02-16 20:34:09 | itr #23 | Obtaining samples...\n",
            "2019-02-16 20:34:09 | itr #23 | Obtaining samples for iteration 23...\n"
          ],
          "name": "stdout"
        },
        {
          "output_type": "stream",
          "text": [
            "0% [##############################] 100% | ETA: 00:00:00"
          ],
          "name": "stderr"
        },
        {
          "output_type": "stream",
          "text": [
            "2019-02-16 20:34:10 | itr #23 | Processing samples...\n"
          ],
          "name": "stdout"
        },
        {
          "output_type": "stream",
          "text": [
            "\n",
            "Total time elapsed: 00:00:00\n"
          ],
          "name": "stderr"
        },
        {
          "output_type": "stream",
          "text": [
            "2019-02-16 20:34:10 | itr #23 | Logging diagnostics...\n",
            "2019-02-16 20:34:10 | itr #23 | Optimizing policy...\n",
            "2019-02-16 20:34:10 | itr #23 | Computing loss before\n",
            "2019-02-16 20:34:10 | itr #23 | Computing KL before\n",
            "2019-02-16 20:34:10 | itr #23 | Optimizing\n",
            "2019-02-16 20:34:10 | itr #23 | Start CG optimization: #parameters: 1480, #inputs: 200, #subsample_inputs: 200\n",
            "2019-02-16 20:34:10 | itr #23 | computing loss before\n",
            "2019-02-16 20:34:10 | itr #23 | performing update\n",
            "2019-02-16 20:34:10 | itr #23 | computing gradient\n",
            "2019-02-16 20:34:10 | itr #23 | gradient computed\n",
            "2019-02-16 20:34:10 | itr #23 | computing descent direction\n",
            "2019-02-16 20:34:10 | itr #23 | descent direction computed\n",
            "2019-02-16 20:34:10 | itr #23 | backtrack iters: 3\n",
            "2019-02-16 20:34:10 | itr #23 | computing loss after\n",
            "2019-02-16 20:34:10 | itr #23 | optimization finished\n",
            "2019-02-16 20:34:10 | itr #23 | Computing KL after\n",
            "2019-02-16 20:34:10 | itr #23 | Computing loss after\n",
            "2019-02-16 20:34:10 | itr #23 | Fitting baseline...\n",
            "2019-02-16 20:34:10 | itr #23 | Saving snapshot...\n",
            "2019-02-16 20:34:10 | itr #23 | Saved\n",
            "2019-02-16 20:34:10 | --------------------------  -------------\n",
            "2019-02-16 20:34:10 | AverageDiscountedReturn      19.4549\n",
            "2019-02-16 20:34:10 | AverageReturn                20.5\n",
            "2019-02-16 20:34:10 | Baseline/ExplainedVariance    0.415766\n",
            "2019-02-16 20:34:10 | Entropy                       1.27277\n",
            "2019-02-16 20:34:10 | EnvExecTime                   0.38097\n",
            "2019-02-16 20:34:10 | Iteration                    23\n",
            "2019-02-16 20:34:10 | ItrTime                       0.959439\n",
            "2019-02-16 20:34:10 | MaxReturn                    32\n",
            "2019-02-16 20:34:10 | MinReturn                    -7\n",
            "2019-02-16 20:34:10 | NumTrajs                    200\n",
            "2019-02-16 20:34:10 | Perplexity                    3.57073\n",
            "2019-02-16 20:34:10 | PolicyExecTime                0.275107\n",
            "2019-02-16 20:34:10 | ProcessExecTime               0.0199969\n",
            "2019-02-16 20:34:10 | StdReturn                     5.96322\n",
            "2019-02-16 20:34:10 | Time                         27.0194\n",
            "2019-02-16 20:34:10 | policy/Entropy                0.278706\n",
            "2019-02-16 20:34:10 | policy/KL                     0.00493839\n",
            "2019-02-16 20:34:10 | policy/KLBefore               0\n",
            "2019-02-16 20:34:10 | policy/LossAfter             -0.00316104\n",
            "2019-02-16 20:34:10 | policy/LossBefore            -9.53674e-10\n",
            "2019-02-16 20:34:10 | policy/dLoss                  0.00316104\n",
            "2019-02-16 20:34:10 | --------------------------  -------------\n",
            "2019-02-16 20:34:10 | itr #24 | Obtaining samples...\n",
            "2019-02-16 20:34:10 | itr #24 | Obtaining samples for iteration 24...\n"
          ],
          "name": "stdout"
        },
        {
          "output_type": "stream",
          "text": [
            "0% [##############################] 100% | ETA: 00:00:00"
          ],
          "name": "stderr"
        },
        {
          "output_type": "stream",
          "text": [
            "2019-02-16 20:34:11 | itr #24 | Processing samples...\n"
          ],
          "name": "stdout"
        },
        {
          "output_type": "stream",
          "text": [
            "\n",
            "Total time elapsed: 00:00:00\n"
          ],
          "name": "stderr"
        },
        {
          "output_type": "stream",
          "text": [
            "2019-02-16 20:34:11 | itr #24 | Logging diagnostics...\n",
            "2019-02-16 20:34:11 | itr #24 | Optimizing policy...\n",
            "2019-02-16 20:34:11 | itr #24 | Computing loss before\n",
            "2019-02-16 20:34:11 | itr #24 | Computing KL before\n",
            "2019-02-16 20:34:11 | itr #24 | Optimizing\n",
            "2019-02-16 20:34:11 | itr #24 | Start CG optimization: #parameters: 1480, #inputs: 200, #subsample_inputs: 200\n",
            "2019-02-16 20:34:11 | itr #24 | computing loss before\n",
            "2019-02-16 20:34:11 | itr #24 | performing update\n",
            "2019-02-16 20:34:11 | itr #24 | computing gradient\n",
            "2019-02-16 20:34:11 | itr #24 | gradient computed\n",
            "2019-02-16 20:34:11 | itr #24 | computing descent direction\n",
            "2019-02-16 20:34:11 | itr #24 | descent direction computed\n",
            "2019-02-16 20:34:11 | itr #24 | backtrack iters: 0\n",
            "2019-02-16 20:34:11 | itr #24 | computing loss after\n",
            "2019-02-16 20:34:11 | itr #24 | optimization finished\n",
            "2019-02-16 20:34:11 | itr #24 | Computing KL after\n",
            "2019-02-16 20:34:11 | itr #24 | Computing loss after\n",
            "2019-02-16 20:34:11 | itr #24 | Fitting baseline...\n",
            "2019-02-16 20:34:11 | itr #24 | Saving snapshot...\n",
            "2019-02-16 20:34:11 | itr #24 | Saved\n",
            "2019-02-16 20:34:11 | --------------------------  -------------\n",
            "2019-02-16 20:34:11 | AverageDiscountedReturn      19.0241\n",
            "2019-02-16 20:34:11 | AverageReturn                19.995\n",
            "2019-02-16 20:34:11 | Baseline/ExplainedVariance    0.464385\n",
            "2019-02-16 20:34:11 | Entropy                       1.26539\n",
            "2019-02-16 20:34:11 | EnvExecTime                   0.365981\n",
            "2019-02-16 20:34:11 | Iteration                    24\n",
            "2019-02-16 20:34:11 | ItrTime                       0.933457\n",
            "2019-02-16 20:34:11 | MaxReturn                    35\n",
            "2019-02-16 20:34:11 | MinReturn                     2\n",
            "2019-02-16 20:34:11 | NumTrajs                    200\n",
            "2019-02-16 20:34:11 | Perplexity                    3.54449\n",
            "2019-02-16 20:34:11 | PolicyExecTime                0.270726\n",
            "2019-02-16 20:34:11 | ProcessExecTime               0.0293901\n",
            "2019-02-16 20:34:11 | StdReturn                     6.3824\n",
            "2019-02-16 20:34:11 | Time                         27.983\n",
            "2019-02-16 20:34:11 | policy/Entropy                0.288025\n",
            "2019-02-16 20:34:11 | policy/KL                     0.00695984\n",
            "2019-02-16 20:34:11 | policy/KLBefore               0\n",
            "2019-02-16 20:34:11 | policy/LossAfter             -0.012331\n",
            "2019-02-16 20:34:11 | policy/LossBefore             1.33514e-08\n",
            "2019-02-16 20:34:11 | policy/dLoss                  0.012331\n",
            "2019-02-16 20:34:11 | --------------------------  -------------\n",
            "2019-02-16 20:34:11 | itr #25 | Obtaining samples...\n",
            "2019-02-16 20:34:11 | itr #25 | Obtaining samples for iteration 25...\n"
          ],
          "name": "stdout"
        },
        {
          "output_type": "stream",
          "text": [
            "0% [##############################] 100% | ETA: 00:00:00"
          ],
          "name": "stderr"
        },
        {
          "output_type": "stream",
          "text": [
            "2019-02-16 20:34:12 | itr #25 | Processing samples...\n"
          ],
          "name": "stdout"
        },
        {
          "output_type": "stream",
          "text": [
            "\n",
            "Total time elapsed: 00:00:00\n"
          ],
          "name": "stderr"
        },
        {
          "output_type": "stream",
          "text": [
            "2019-02-16 20:34:12 | itr #25 | Logging diagnostics...\n",
            "2019-02-16 20:34:12 | itr #25 | Optimizing policy...\n",
            "2019-02-16 20:34:12 | itr #25 | Computing loss before\n",
            "2019-02-16 20:34:12 | itr #25 | Computing KL before\n",
            "2019-02-16 20:34:12 | itr #25 | Optimizing\n",
            "2019-02-16 20:34:12 | itr #25 | Start CG optimization: #parameters: 1480, #inputs: 200, #subsample_inputs: 200\n",
            "2019-02-16 20:34:12 | itr #25 | computing loss before\n",
            "2019-02-16 20:34:12 | itr #25 | performing update\n",
            "2019-02-16 20:34:12 | itr #25 | computing gradient\n",
            "2019-02-16 20:34:12 | itr #25 | gradient computed\n",
            "2019-02-16 20:34:12 | itr #25 | computing descent direction\n",
            "2019-02-16 20:34:12 | itr #25 | descent direction computed\n",
            "2019-02-16 20:34:12 | itr #25 | backtrack iters: 4\n",
            "2019-02-16 20:34:12 | itr #25 | computing loss after\n",
            "2019-02-16 20:34:12 | itr #25 | optimization finished\n",
            "2019-02-16 20:34:12 | itr #25 | Computing KL after\n",
            "2019-02-16 20:34:12 | itr #25 | Computing loss after\n",
            "2019-02-16 20:34:12 | itr #25 | Fitting baseline...\n",
            "2019-02-16 20:34:12 | itr #25 | Saving snapshot...\n",
            "2019-02-16 20:34:12 | itr #25 | Saved\n",
            "2019-02-16 20:34:12 | --------------------------  -------------\n",
            "2019-02-16 20:34:12 | AverageDiscountedReturn      18.6673\n",
            "2019-02-16 20:34:12 | AverageReturn                19.57\n",
            "2019-02-16 20:34:12 | Baseline/ExplainedVariance    0.385782\n",
            "2019-02-16 20:34:12 | Entropy                       1.21903\n",
            "2019-02-16 20:34:12 | EnvExecTime                   0.354204\n",
            "2019-02-16 20:34:12 | Iteration                    25\n",
            "2019-02-16 20:34:12 | ItrTime                       0.986977\n",
            "2019-02-16 20:34:12 | MaxReturn                    37\n",
            "2019-02-16 20:34:12 | MinReturn                     2\n",
            "2019-02-16 20:34:12 | NumTrajs                    200\n",
            "2019-02-16 20:34:12 | Perplexity                    3.38392\n",
            "2019-02-16 20:34:12 | PolicyExecTime                0.294556\n",
            "2019-02-16 20:34:12 | ProcessExecTime               0.0216494\n",
            "2019-02-16 20:34:12 | StdReturn                     7.0367\n",
            "2019-02-16 20:34:12 | Time                         29.0042\n",
            "2019-02-16 20:34:12 | policy/Entropy                0.290308\n",
            "2019-02-16 20:34:12 | policy/KL                     0.00532846\n",
            "2019-02-16 20:34:12 | policy/KLBefore               0\n",
            "2019-02-16 20:34:12 | policy/LossAfter             -0.0152418\n",
            "2019-02-16 20:34:12 | policy/LossBefore             5.72205e-09\n",
            "2019-02-16 20:34:12 | policy/dLoss                  0.0152418\n",
            "2019-02-16 20:34:12 | --------------------------  -------------\n",
            "2019-02-16 20:34:12 | itr #26 | Obtaining samples...\n",
            "2019-02-16 20:34:12 | itr #26 | Obtaining samples for iteration 26...\n"
          ],
          "name": "stdout"
        },
        {
          "output_type": "stream",
          "text": [
            "0% [##############################] 100% | ETA: 00:00:00"
          ],
          "name": "stderr"
        },
        {
          "output_type": "stream",
          "text": [
            "2019-02-16 20:34:13 | itr #26 | Processing samples...\n"
          ],
          "name": "stdout"
        },
        {
          "output_type": "stream",
          "text": [
            "\n",
            "Total time elapsed: 00:00:00\n"
          ],
          "name": "stderr"
        },
        {
          "output_type": "stream",
          "text": [
            "2019-02-16 20:34:13 | itr #26 | Logging diagnostics...\n",
            "2019-02-16 20:34:13 | itr #26 | Optimizing policy...\n",
            "2019-02-16 20:34:13 | itr #26 | Computing loss before\n",
            "2019-02-16 20:34:13 | itr #26 | Computing KL before\n",
            "2019-02-16 20:34:13 | itr #26 | Optimizing\n",
            "2019-02-16 20:34:13 | itr #26 | Start CG optimization: #parameters: 1480, #inputs: 200, #subsample_inputs: 200\n",
            "2019-02-16 20:34:13 | itr #26 | computing loss before\n",
            "2019-02-16 20:34:13 | itr #26 | performing update\n",
            "2019-02-16 20:34:13 | itr #26 | computing gradient\n",
            "2019-02-16 20:34:13 | itr #26 | gradient computed\n",
            "2019-02-16 20:34:13 | itr #26 | computing descent direction\n",
            "2019-02-16 20:34:13 | itr #26 | descent direction computed\n",
            "2019-02-16 20:34:13 | itr #26 | backtrack iters: 0\n",
            "2019-02-16 20:34:13 | itr #26 | computing loss after\n",
            "2019-02-16 20:34:13 | itr #26 | optimization finished\n",
            "2019-02-16 20:34:13 | itr #26 | Computing KL after\n",
            "2019-02-16 20:34:13 | itr #26 | Computing loss after\n",
            "2019-02-16 20:34:13 | itr #26 | Fitting baseline...\n",
            "2019-02-16 20:34:13 | itr #26 | Saving snapshot...\n",
            "2019-02-16 20:34:13 | itr #26 | Saved\n",
            "2019-02-16 20:34:13 | --------------------------  -------------\n",
            "2019-02-16 20:34:13 | AverageDiscountedReturn      21.0848\n",
            "2019-02-16 20:34:13 | AverageReturn                22.215\n",
            "2019-02-16 20:34:13 | Baseline/ExplainedVariance    0.525064\n",
            "2019-02-16 20:34:13 | Entropy                       1.21118\n",
            "2019-02-16 20:34:13 | EnvExecTime                   0.37555\n",
            "2019-02-16 20:34:13 | Iteration                    26\n",
            "2019-02-16 20:34:13 | ItrTime                       0.939346\n",
            "2019-02-16 20:34:13 | MaxReturn                    35\n",
            "2019-02-16 20:34:13 | MinReturn                     6\n",
            "2019-02-16 20:34:13 | NumTrajs                    200\n",
            "2019-02-16 20:34:13 | Perplexity                    3.35743\n",
            "2019-02-16 20:34:13 | PolicyExecTime                0.276439\n",
            "2019-02-16 20:34:13 | ProcessExecTime               0.0211501\n",
            "2019-02-16 20:34:13 | StdReturn                     5.38691\n",
            "2019-02-16 20:34:13 | Time                         29.9793\n",
            "2019-02-16 20:34:13 | policy/Entropy                0.295693\n",
            "2019-02-16 20:34:13 | policy/KL                     0.00688338\n",
            "2019-02-16 20:34:13 | policy/KLBefore               0\n",
            "2019-02-16 20:34:13 | policy/LossAfter             -0.012864\n",
            "2019-02-16 20:34:13 | policy/LossBefore            -9.53674e-10\n",
            "2019-02-16 20:34:13 | policy/dLoss                  0.012864\n",
            "2019-02-16 20:34:13 | --------------------------  -------------\n",
            "2019-02-16 20:34:13 | itr #27 | Obtaining samples...\n",
            "2019-02-16 20:34:13 | itr #27 | Obtaining samples for iteration 27...\n"
          ],
          "name": "stdout"
        },
        {
          "output_type": "stream",
          "text": [
            "0% [##############################] 100% | ETA: 00:00:00"
          ],
          "name": "stderr"
        },
        {
          "output_type": "stream",
          "text": [
            "2019-02-16 20:34:14 | itr #27 | Processing samples...\n"
          ],
          "name": "stdout"
        },
        {
          "output_type": "stream",
          "text": [
            "\n",
            "Total time elapsed: 00:00:00\n"
          ],
          "name": "stderr"
        },
        {
          "output_type": "stream",
          "text": [
            "2019-02-16 20:34:14 | itr #27 | Logging diagnostics...\n",
            "2019-02-16 20:34:14 | itr #27 | Optimizing policy...\n",
            "2019-02-16 20:34:14 | itr #27 | Computing loss before\n",
            "2019-02-16 20:34:14 | itr #27 | Computing KL before\n",
            "2019-02-16 20:34:14 | itr #27 | Optimizing\n",
            "2019-02-16 20:34:14 | itr #27 | Start CG optimization: #parameters: 1480, #inputs: 200, #subsample_inputs: 200\n",
            "2019-02-16 20:34:14 | itr #27 | computing loss before\n",
            "2019-02-16 20:34:14 | itr #27 | performing update\n",
            "2019-02-16 20:34:14 | itr #27 | computing gradient\n",
            "2019-02-16 20:34:14 | itr #27 | gradient computed\n",
            "2019-02-16 20:34:14 | itr #27 | computing descent direction\n",
            "2019-02-16 20:34:14 | itr #27 | descent direction computed\n",
            "2019-02-16 20:34:14 | itr #27 | backtrack iters: 9\n",
            "2019-02-16 20:34:14 | itr #27 | computing loss after\n",
            "2019-02-16 20:34:14 | itr #27 | optimization finished\n",
            "2019-02-16 20:34:14 | itr #27 | Computing KL after\n",
            "2019-02-16 20:34:14 | itr #27 | Computing loss after\n",
            "2019-02-16 20:34:14 | itr #27 | Fitting baseline...\n",
            "2019-02-16 20:34:14 | itr #27 | Saving snapshot...\n",
            "2019-02-16 20:34:14 | itr #27 | Saved\n",
            "2019-02-16 20:34:14 | --------------------------  -------------\n",
            "2019-02-16 20:34:14 | AverageDiscountedReturn      21.3513\n",
            "2019-02-16 20:34:14 | AverageReturn                22.52\n",
            "2019-02-16 20:34:14 | Baseline/ExplainedVariance    0.46955\n",
            "2019-02-16 20:34:14 | Entropy                       1.16445\n",
            "2019-02-16 20:34:14 | EnvExecTime                   0.380677\n",
            "2019-02-16 20:34:14 | Iteration                    27\n",
            "2019-02-16 20:34:14 | ItrTime                       0.997909\n",
            "2019-02-16 20:34:14 | MaxReturn                    36\n",
            "2019-02-16 20:34:14 | MinReturn                   -11\n",
            "2019-02-16 20:34:14 | NumTrajs                    200\n",
            "2019-02-16 20:34:14 | Perplexity                    3.20417\n",
            "2019-02-16 20:34:14 | PolicyExecTime                0.270314\n",
            "2019-02-16 20:34:14 | ProcessExecTime               0.0211046\n",
            "2019-02-16 20:34:14 | StdReturn                     6.39841\n",
            "2019-02-16 20:34:14 | Time                         31.0194\n",
            "2019-02-16 20:34:14 | policy/Entropy                0.301662\n",
            "2019-02-16 20:34:14 | policy/KL                     0.00817296\n",
            "2019-02-16 20:34:14 | policy/KLBefore               0\n",
            "2019-02-16 20:34:14 | policy/LossAfter             -9.46436e-05\n",
            "2019-02-16 20:34:14 | policy/LossBefore             1.14441e-08\n",
            "2019-02-16 20:34:14 | policy/dLoss                  9.4655e-05\n",
            "2019-02-16 20:34:14 | --------------------------  -------------\n",
            "2019-02-16 20:34:14 | itr #28 | Obtaining samples...\n",
            "2019-02-16 20:34:14 | itr #28 | Obtaining samples for iteration 28...\n"
          ],
          "name": "stdout"
        },
        {
          "output_type": "stream",
          "text": [
            "0% [##############################] 100% | ETA: 00:00:00"
          ],
          "name": "stderr"
        },
        {
          "output_type": "stream",
          "text": [
            "2019-02-16 20:34:15 | itr #28 | Processing samples...\n"
          ],
          "name": "stdout"
        },
        {
          "output_type": "stream",
          "text": [
            "\n",
            "Total time elapsed: 00:00:00\n"
          ],
          "name": "stderr"
        },
        {
          "output_type": "stream",
          "text": [
            "2019-02-16 20:34:15 | itr #28 | Logging diagnostics...\n",
            "2019-02-16 20:34:15 | itr #28 | Optimizing policy...\n",
            "2019-02-16 20:34:15 | itr #28 | Computing loss before\n",
            "2019-02-16 20:34:15 | itr #28 | Computing KL before\n",
            "2019-02-16 20:34:15 | itr #28 | Optimizing\n",
            "2019-02-16 20:34:15 | itr #28 | Start CG optimization: #parameters: 1480, #inputs: 200, #subsample_inputs: 200\n",
            "2019-02-16 20:34:15 | itr #28 | computing loss before\n",
            "2019-02-16 20:34:15 | itr #28 | performing update\n",
            "2019-02-16 20:34:15 | itr #28 | computing gradient\n",
            "2019-02-16 20:34:15 | itr #28 | gradient computed\n",
            "2019-02-16 20:34:15 | itr #28 | computing descent direction\n",
            "2019-02-16 20:34:15 | itr #28 | descent direction computed\n",
            "2019-02-16 20:34:15 | itr #28 | backtrack iters: 1\n",
            "2019-02-16 20:34:15 | itr #28 | computing loss after\n",
            "2019-02-16 20:34:15 | itr #28 | optimization finished\n",
            "2019-02-16 20:34:15 | itr #28 | Computing KL after\n",
            "2019-02-16 20:34:15 | itr #28 | Computing loss after\n",
            "2019-02-16 20:34:15 | itr #28 | Fitting baseline...\n",
            "2019-02-16 20:34:15 | itr #28 | Saving snapshot...\n",
            "2019-02-16 20:34:15 | itr #28 | Saved\n",
            "2019-02-16 20:34:15 | --------------------------  -------------\n",
            "2019-02-16 20:34:15 | AverageDiscountedReturn      20.5782\n",
            "2019-02-16 20:34:15 | AverageReturn                21.665\n",
            "2019-02-16 20:34:15 | Baseline/ExplainedVariance    0.444672\n",
            "2019-02-16 20:34:15 | Entropy                       1.17137\n",
            "2019-02-16 20:34:15 | EnvExecTime                   0.359849\n",
            "2019-02-16 20:34:15 | Iteration                    28\n",
            "2019-02-16 20:34:15 | ItrTime                       0.928315\n",
            "2019-02-16 20:34:15 | MaxReturn                    41\n",
            "2019-02-16 20:34:15 | MinReturn                     5\n",
            "2019-02-16 20:34:15 | NumTrajs                    200\n",
            "2019-02-16 20:34:15 | Perplexity                    3.2264\n",
            "2019-02-16 20:34:15 | PolicyExecTime                0.273881\n",
            "2019-02-16 20:34:15 | ProcessExecTime               0.0225985\n",
            "2019-02-16 20:34:15 | StdReturn                     6.47787\n",
            "2019-02-16 20:34:15 | Time                         31.9879\n",
            "2019-02-16 20:34:15 | policy/Entropy                0.303984\n",
            "2019-02-16 20:34:15 | policy/KL                     0.00826141\n",
            "2019-02-16 20:34:15 | policy/KLBefore               0\n",
            "2019-02-16 20:34:15 | policy/LossAfter             -0.0180033\n",
            "2019-02-16 20:34:15 | policy/LossBefore             2.86102e-09\n",
            "2019-02-16 20:34:15 | policy/dLoss                  0.0180033\n",
            "2019-02-16 20:34:15 | --------------------------  -------------\n",
            "2019-02-16 20:34:15 | itr #29 | Obtaining samples...\n",
            "2019-02-16 20:34:15 | itr #29 | Obtaining samples for iteration 29...\n"
          ],
          "name": "stdout"
        },
        {
          "output_type": "stream",
          "text": [
            "0% [##############################] 100% | ETA: 00:00:00"
          ],
          "name": "stderr"
        },
        {
          "output_type": "stream",
          "text": [
            "2019-02-16 20:34:16 | itr #29 | Processing samples...\n"
          ],
          "name": "stdout"
        },
        {
          "output_type": "stream",
          "text": [
            "\n",
            "Total time elapsed: 00:00:00\n"
          ],
          "name": "stderr"
        },
        {
          "output_type": "stream",
          "text": [
            "2019-02-16 20:34:16 | itr #29 | Logging diagnostics...\n",
            "2019-02-16 20:34:16 | itr #29 | Optimizing policy...\n",
            "2019-02-16 20:34:16 | itr #29 | Computing loss before\n",
            "2019-02-16 20:34:16 | itr #29 | Computing KL before\n",
            "2019-02-16 20:34:16 | itr #29 | Optimizing\n",
            "2019-02-16 20:34:16 | itr #29 | Start CG optimization: #parameters: 1480, #inputs: 200, #subsample_inputs: 200\n",
            "2019-02-16 20:34:16 | itr #29 | computing loss before\n",
            "2019-02-16 20:34:16 | itr #29 | performing update\n",
            "2019-02-16 20:34:16 | itr #29 | computing gradient\n",
            "2019-02-16 20:34:16 | itr #29 | gradient computed\n",
            "2019-02-16 20:34:16 | itr #29 | computing descent direction\n",
            "2019-02-16 20:34:16 | itr #29 | descent direction computed\n",
            "2019-02-16 20:34:16 | itr #29 | backtrack iters: 3\n",
            "2019-02-16 20:34:16 | itr #29 | computing loss after\n",
            "2019-02-16 20:34:16 | itr #29 | optimization finished\n",
            "2019-02-16 20:34:16 | itr #29 | Computing KL after\n",
            "2019-02-16 20:34:16 | itr #29 | Computing loss after\n",
            "2019-02-16 20:34:16 | itr #29 | Fitting baseline...\n",
            "2019-02-16 20:34:16 | itr #29 | Saving snapshot...\n",
            "2019-02-16 20:34:16 | itr #29 | Saved\n",
            "2019-02-16 20:34:16 | --------------------------  ------------\n",
            "2019-02-16 20:34:16 | AverageDiscountedReturn      22.1904\n",
            "2019-02-16 20:34:16 | AverageReturn                23.355\n",
            "2019-02-16 20:34:16 | Baseline/ExplainedVariance    0.566142\n",
            "2019-02-16 20:34:16 | Entropy                       1.14341\n",
            "2019-02-16 20:34:16 | EnvExecTime                   0.333749\n",
            "2019-02-16 20:34:16 | Iteration                    29\n",
            "2019-02-16 20:34:16 | ItrTime                       0.920096\n",
            "2019-02-16 20:34:16 | MaxReturn                    41\n",
            "2019-02-16 20:34:16 | MinReturn                     5\n",
            "2019-02-16 20:34:16 | NumTrajs                    200\n",
            "2019-02-16 20:34:16 | Perplexity                    3.13746\n",
            "2019-02-16 20:34:16 | PolicyExecTime                0.286058\n",
            "2019-02-16 20:34:16 | ProcessExecTime               0.0208504\n",
            "2019-02-16 20:34:16 | StdReturn                     5.92359\n",
            "2019-02-16 20:34:16 | Time                         32.9918\n",
            "2019-02-16 20:34:16 | policy/Entropy                0.31504\n",
            "2019-02-16 20:34:16 | policy/KL                     0.00204216\n",
            "2019-02-16 20:34:16 | policy/KLBefore               0\n",
            "2019-02-16 20:34:16 | policy/LossAfter             -0.00488101\n",
            "2019-02-16 20:34:16 | policy/LossBefore            -3.8147e-09\n",
            "2019-02-16 20:34:16 | policy/dLoss                  0.004881\n",
            "2019-02-16 20:34:16 | --------------------------  ------------\n",
            "2019-02-16 20:34:16 | itr #30 | Obtaining samples...\n",
            "2019-02-16 20:34:16 | itr #30 | Obtaining samples for iteration 30...\n"
          ],
          "name": "stdout"
        },
        {
          "output_type": "stream",
          "text": [
            "0% [##############################] 100% | ETA: 00:00:00"
          ],
          "name": "stderr"
        },
        {
          "output_type": "stream",
          "text": [
            "2019-02-16 20:34:17 | itr #30 | Processing samples...\n"
          ],
          "name": "stdout"
        },
        {
          "output_type": "stream",
          "text": [
            "\n",
            "Total time elapsed: 00:00:00\n"
          ],
          "name": "stderr"
        },
        {
          "output_type": "stream",
          "text": [
            "2019-02-16 20:34:17 | itr #30 | Logging diagnostics...\n",
            "2019-02-16 20:34:17 | itr #30 | Optimizing policy...\n",
            "2019-02-16 20:34:17 | itr #30 | Computing loss before\n",
            "2019-02-16 20:34:17 | itr #30 | Computing KL before\n",
            "2019-02-16 20:34:17 | itr #30 | Optimizing\n",
            "2019-02-16 20:34:17 | itr #30 | Start CG optimization: #parameters: 1480, #inputs: 200, #subsample_inputs: 200\n",
            "2019-02-16 20:34:17 | itr #30 | computing loss before\n",
            "2019-02-16 20:34:17 | itr #30 | performing update\n",
            "2019-02-16 20:34:17 | itr #30 | computing gradient\n",
            "2019-02-16 20:34:17 | itr #30 | gradient computed\n",
            "2019-02-16 20:34:17 | itr #30 | computing descent direction\n",
            "2019-02-16 20:34:17 | itr #30 | descent direction computed\n",
            "2019-02-16 20:34:17 | itr #30 | backtrack iters: 5\n",
            "2019-02-16 20:34:17 | itr #30 | computing loss after\n",
            "2019-02-16 20:34:17 | itr #30 | optimization finished\n",
            "2019-02-16 20:34:17 | itr #30 | Computing KL after\n",
            "2019-02-16 20:34:17 | itr #30 | Computing loss after\n",
            "2019-02-16 20:34:17 | itr #30 | Fitting baseline...\n",
            "2019-02-16 20:34:17 | itr #30 | Saving snapshot...\n",
            "2019-02-16 20:34:17 | itr #30 | Saved\n",
            "2019-02-16 20:34:17 | --------------------------  -------------\n",
            "2019-02-16 20:34:17 | AverageDiscountedReturn      22.1954\n",
            "2019-02-16 20:34:17 | AverageReturn                23.395\n",
            "2019-02-16 20:34:17 | Baseline/ExplainedVariance    0.529559\n",
            "2019-02-16 20:34:17 | Entropy                       1.09856\n",
            "2019-02-16 20:34:17 | EnvExecTime                   0.36481\n",
            "2019-02-16 20:34:17 | Iteration                    30\n",
            "2019-02-16 20:34:17 | ItrTime                       0.949256\n",
            "2019-02-16 20:34:17 | MaxReturn                    37\n",
            "2019-02-16 20:34:17 | MinReturn                     3\n",
            "2019-02-16 20:34:17 | NumTrajs                    200\n",
            "2019-02-16 20:34:17 | Perplexity                    2.99983\n",
            "2019-02-16 20:34:17 | PolicyExecTime                0.263124\n",
            "2019-02-16 20:34:17 | ProcessExecTime               0.0223393\n",
            "2019-02-16 20:34:17 | StdReturn                     5.95306\n",
            "2019-02-16 20:34:17 | Time                         33.976\n",
            "2019-02-16 20:34:17 | policy/Entropy                0.31435\n",
            "2019-02-16 20:34:17 | policy/KL                     0.00333076\n",
            "2019-02-16 20:34:17 | policy/KLBefore               0\n",
            "2019-02-16 20:34:17 | policy/LossAfter             -6.1676e-05\n",
            "2019-02-16 20:34:17 | policy/LossBefore            -3.8147e-09\n",
            "2019-02-16 20:34:17 | policy/dLoss                  6.16722e-05\n",
            "2019-02-16 20:34:17 | --------------------------  -------------\n",
            "2019-02-16 20:34:17 | itr #31 | Obtaining samples...\n",
            "2019-02-16 20:34:17 | itr #31 | Obtaining samples for iteration 31...\n"
          ],
          "name": "stdout"
        },
        {
          "output_type": "stream",
          "text": [
            "0% [##############################] 100% | ETA: 00:00:00"
          ],
          "name": "stderr"
        },
        {
          "output_type": "stream",
          "text": [
            "2019-02-16 20:34:18 | itr #31 | Processing samples...\n"
          ],
          "name": "stdout"
        },
        {
          "output_type": "stream",
          "text": [
            "\n",
            "Total time elapsed: 00:00:00\n"
          ],
          "name": "stderr"
        },
        {
          "output_type": "stream",
          "text": [
            "2019-02-16 20:34:18 | itr #31 | Logging diagnostics...\n",
            "2019-02-16 20:34:18 | itr #31 | Optimizing policy...\n",
            "2019-02-16 20:34:18 | itr #31 | Computing loss before\n",
            "2019-02-16 20:34:18 | itr #31 | Computing KL before\n",
            "2019-02-16 20:34:18 | itr #31 | Optimizing\n",
            "2019-02-16 20:34:18 | itr #31 | Start CG optimization: #parameters: 1480, #inputs: 200, #subsample_inputs: 200\n",
            "2019-02-16 20:34:18 | itr #31 | computing loss before\n",
            "2019-02-16 20:34:18 | itr #31 | performing update\n",
            "2019-02-16 20:34:18 | itr #31 | computing gradient\n",
            "2019-02-16 20:34:18 | itr #31 | gradient computed\n",
            "2019-02-16 20:34:18 | itr #31 | computing descent direction\n",
            "2019-02-16 20:34:18 | itr #31 | descent direction computed\n",
            "2019-02-16 20:34:18 | itr #31 | backtrack iters: 2\n",
            "2019-02-16 20:34:18 | itr #31 | computing loss after\n",
            "2019-02-16 20:34:18 | itr #31 | optimization finished\n",
            "2019-02-16 20:34:18 | itr #31 | Computing KL after\n",
            "2019-02-16 20:34:18 | itr #31 | Computing loss after\n",
            "2019-02-16 20:34:18 | itr #31 | Fitting baseline...\n",
            "2019-02-16 20:34:18 | itr #31 | Saving snapshot...\n",
            "2019-02-16 20:34:18 | itr #31 | Saved\n",
            "2019-02-16 20:34:18 | --------------------------  -------------\n",
            "2019-02-16 20:34:18 | AverageDiscountedReturn      22.1197\n",
            "2019-02-16 20:34:18 | AverageReturn                23.37\n",
            "2019-02-16 20:34:18 | Baseline/ExplainedVariance    0.519157\n",
            "2019-02-16 20:34:18 | Entropy                       1.10495\n",
            "2019-02-16 20:34:18 | EnvExecTime                   0.357625\n",
            "2019-02-16 20:34:18 | Iteration                    31\n",
            "2019-02-16 20:34:18 | ItrTime                       0.942934\n",
            "2019-02-16 20:34:18 | MaxReturn                    42\n",
            "2019-02-16 20:34:18 | MinReturn                     4\n",
            "2019-02-16 20:34:18 | NumTrajs                    200\n",
            "2019-02-16 20:34:18 | Perplexity                    3.01906\n",
            "2019-02-16 20:34:18 | PolicyExecTime                0.275096\n",
            "2019-02-16 20:34:18 | ProcessExecTime               0.0208008\n",
            "2019-02-16 20:34:18 | StdReturn                     6.22841\n",
            "2019-02-16 20:34:18 | Time                         34.972\n",
            "2019-02-16 20:34:18 | policy/Entropy                0.317899\n",
            "2019-02-16 20:34:18 | policy/KL                     0.00924216\n",
            "2019-02-16 20:34:18 | policy/KLBefore               0\n",
            "2019-02-16 20:34:18 | policy/LossAfter             -0.0109563\n",
            "2019-02-16 20:34:18 | policy/LossBefore            -1.90735e-09\n",
            "2019-02-16 20:34:18 | policy/dLoss                  0.0109563\n",
            "2019-02-16 20:34:18 | --------------------------  -------------\n",
            "2019-02-16 20:34:18 | itr #32 | Obtaining samples...\n",
            "2019-02-16 20:34:18 | itr #32 | Obtaining samples for iteration 32...\n"
          ],
          "name": "stdout"
        },
        {
          "output_type": "stream",
          "text": [
            "0% [##############################] 100% | ETA: 00:00:00"
          ],
          "name": "stderr"
        },
        {
          "output_type": "stream",
          "text": [
            "2019-02-16 20:34:19 | itr #32 | Processing samples...\n"
          ],
          "name": "stdout"
        },
        {
          "output_type": "stream",
          "text": [
            "\n",
            "Total time elapsed: 00:00:00\n"
          ],
          "name": "stderr"
        },
        {
          "output_type": "stream",
          "text": [
            "2019-02-16 20:34:19 | itr #32 | Logging diagnostics...\n",
            "2019-02-16 20:34:19 | itr #32 | Optimizing policy...\n",
            "2019-02-16 20:34:19 | itr #32 | Computing loss before\n",
            "2019-02-16 20:34:19 | itr #32 | Computing KL before\n",
            "2019-02-16 20:34:19 | itr #32 | Optimizing\n",
            "2019-02-16 20:34:19 | itr #32 | Start CG optimization: #parameters: 1480, #inputs: 200, #subsample_inputs: 200\n",
            "2019-02-16 20:34:19 | itr #32 | computing loss before\n",
            "2019-02-16 20:34:19 | itr #32 | performing update\n",
            "2019-02-16 20:34:19 | itr #32 | computing gradient\n",
            "2019-02-16 20:34:19 | itr #32 | gradient computed\n",
            "2019-02-16 20:34:19 | itr #32 | computing descent direction\n",
            "2019-02-16 20:34:19 | itr #32 | descent direction computed\n",
            "2019-02-16 20:34:19 | itr #32 | backtrack iters: 1\n",
            "2019-02-16 20:34:19 | itr #32 | computing loss after\n",
            "2019-02-16 20:34:19 | itr #32 | optimization finished\n",
            "2019-02-16 20:34:19 | itr #32 | Computing KL after\n",
            "2019-02-16 20:34:19 | itr #32 | Computing loss after\n",
            "2019-02-16 20:34:19 | itr #32 | Fitting baseline...\n",
            "2019-02-16 20:34:19 | itr #32 | Saving snapshot...\n",
            "2019-02-16 20:34:19 | itr #32 | Saved\n",
            "2019-02-16 20:34:19 | --------------------------  -------------\n",
            "2019-02-16 20:34:19 | AverageDiscountedReturn      22.1328\n",
            "2019-02-16 20:34:19 | AverageReturn                23.33\n",
            "2019-02-16 20:34:19 | Baseline/ExplainedVariance    0.540603\n",
            "2019-02-16 20:34:19 | Entropy                       1.07076\n",
            "2019-02-16 20:34:19 | EnvExecTime                   0.367699\n",
            "2019-02-16 20:34:19 | Iteration                    32\n",
            "2019-02-16 20:34:19 | ItrTime                       0.949579\n",
            "2019-02-16 20:34:19 | MaxReturn                    36\n",
            "2019-02-16 20:34:19 | MinReturn                     7\n",
            "2019-02-16 20:34:19 | NumTrajs                    200\n",
            "2019-02-16 20:34:19 | Perplexity                    2.91759\n",
            "2019-02-16 20:34:19 | PolicyExecTime                0.287237\n",
            "2019-02-16 20:34:19 | ProcessExecTime               0.021534\n",
            "2019-02-16 20:34:19 | StdReturn                     5.99592\n",
            "2019-02-16 20:34:19 | Time                         35.9536\n",
            "2019-02-16 20:34:19 | policy/Entropy                0.322423\n",
            "2019-02-16 20:34:19 | policy/KL                     0.00747461\n",
            "2019-02-16 20:34:19 | policy/KLBefore               0\n",
            "2019-02-16 20:34:19 | policy/LossAfter             -0.00191924\n",
            "2019-02-16 20:34:19 | policy/LossBefore             1.52588e-08\n",
            "2019-02-16 20:34:19 | policy/dLoss                  0.00191926\n",
            "2019-02-16 20:34:19 | --------------------------  -------------\n",
            "2019-02-16 20:34:19 | itr #33 | Obtaining samples...\n",
            "2019-02-16 20:34:19 | itr #33 | Obtaining samples for iteration 33...\n"
          ],
          "name": "stdout"
        },
        {
          "output_type": "stream",
          "text": [
            "0% [##############################] 100% | ETA: 00:00:00"
          ],
          "name": "stderr"
        },
        {
          "output_type": "stream",
          "text": [
            "2019-02-16 20:34:20 | itr #33 | Processing samples...\n"
          ],
          "name": "stdout"
        },
        {
          "output_type": "stream",
          "text": [
            "\n",
            "Total time elapsed: 00:00:00\n"
          ],
          "name": "stderr"
        },
        {
          "output_type": "stream",
          "text": [
            "2019-02-16 20:34:20 | itr #33 | Logging diagnostics...\n",
            "2019-02-16 20:34:20 | itr #33 | Optimizing policy...\n",
            "2019-02-16 20:34:20 | itr #33 | Computing loss before\n",
            "2019-02-16 20:34:20 | itr #33 | Computing KL before\n",
            "2019-02-16 20:34:20 | itr #33 | Optimizing\n",
            "2019-02-16 20:34:20 | itr #33 | Start CG optimization: #parameters: 1480, #inputs: 200, #subsample_inputs: 200\n",
            "2019-02-16 20:34:20 | itr #33 | computing loss before\n",
            "2019-02-16 20:34:20 | itr #33 | performing update\n",
            "2019-02-16 20:34:20 | itr #33 | computing gradient\n",
            "2019-02-16 20:34:20 | itr #33 | gradient computed\n",
            "2019-02-16 20:34:20 | itr #33 | computing descent direction\n",
            "2019-02-16 20:34:20 | itr #33 | descent direction computed\n",
            "2019-02-16 20:34:20 | itr #33 | backtrack iters: 13\n",
            "2019-02-16 20:34:20 | itr #33 | computing loss after\n",
            "2019-02-16 20:34:20 | itr #33 | optimization finished\n",
            "2019-02-16 20:34:20 | itr #33 | Computing KL after\n",
            "2019-02-16 20:34:20 | itr #33 | Computing loss after\n",
            "2019-02-16 20:34:20 | itr #33 | Fitting baseline...\n",
            "2019-02-16 20:34:20 | itr #33 | Saving snapshot...\n",
            "2019-02-16 20:34:20 | itr #33 | Saved\n",
            "2019-02-16 20:34:20 | --------------------------  -------------\n",
            "2019-02-16 20:34:20 | AverageDiscountedReturn      21.3504\n",
            "2019-02-16 20:34:20 | AverageReturn                22.545\n",
            "2019-02-16 20:34:20 | Baseline/ExplainedVariance    0.46836\n",
            "2019-02-16 20:34:20 | Entropy                       1.05051\n",
            "2019-02-16 20:34:20 | EnvExecTime                   0.362533\n",
            "2019-02-16 20:34:20 | Iteration                    33\n",
            "2019-02-16 20:34:20 | ItrTime                       1.01537\n",
            "2019-02-16 20:34:20 | MaxReturn                    39\n",
            "2019-02-16 20:34:20 | MinReturn                     1\n",
            "2019-02-16 20:34:20 | NumTrajs                    200\n",
            "2019-02-16 20:34:20 | Perplexity                    2.85912\n",
            "2019-02-16 20:34:20 | PolicyExecTime                0.281128\n",
            "2019-02-16 20:34:20 | ProcessExecTime               0.0228939\n",
            "2019-02-16 20:34:20 | StdReturn                     6.76446\n",
            "2019-02-16 20:34:20 | Time                         37.0173\n",
            "2019-02-16 20:34:20 | policy/Entropy                0.330502\n",
            "2019-02-16 20:34:20 | policy/KL                     3.70179e-05\n",
            "2019-02-16 20:34:20 | policy/KLBefore               0\n",
            "2019-02-16 20:34:20 | policy/LossAfter             -0.0001775\n",
            "2019-02-16 20:34:20 | policy/LossBefore            -5.72205e-09\n",
            "2019-02-16 20:34:20 | policy/dLoss                  0.000177494\n",
            "2019-02-16 20:34:20 | --------------------------  -------------\n",
            "2019-02-16 20:34:20 | itr #34 | Obtaining samples...\n",
            "2019-02-16 20:34:20 | itr #34 | Obtaining samples for iteration 34...\n"
          ],
          "name": "stdout"
        },
        {
          "output_type": "stream",
          "text": [
            "0% [##############################] 100% | ETA: 00:00:00"
          ],
          "name": "stderr"
        },
        {
          "output_type": "stream",
          "text": [
            "2019-02-16 20:34:21 | itr #34 | Processing samples...\n"
          ],
          "name": "stdout"
        },
        {
          "output_type": "stream",
          "text": [
            "\n",
            "Total time elapsed: 00:00:00\n"
          ],
          "name": "stderr"
        },
        {
          "output_type": "stream",
          "text": [
            "2019-02-16 20:34:21 | itr #34 | Logging diagnostics...\n",
            "2019-02-16 20:34:21 | itr #34 | Optimizing policy...\n",
            "2019-02-16 20:34:21 | itr #34 | Computing loss before\n",
            "2019-02-16 20:34:21 | itr #34 | Computing KL before\n",
            "2019-02-16 20:34:21 | itr #34 | Optimizing\n",
            "2019-02-16 20:34:21 | itr #34 | Start CG optimization: #parameters: 1480, #inputs: 200, #subsample_inputs: 200\n",
            "2019-02-16 20:34:21 | itr #34 | computing loss before\n",
            "2019-02-16 20:34:21 | itr #34 | performing update\n",
            "2019-02-16 20:34:21 | itr #34 | computing gradient\n",
            "2019-02-16 20:34:21 | itr #34 | gradient computed\n",
            "2019-02-16 20:34:21 | itr #34 | computing descent direction\n",
            "2019-02-16 20:34:21 | itr #34 | descent direction computed\n",
            "2019-02-16 20:34:21 | itr #34 | backtrack iters: 1\n",
            "2019-02-16 20:34:21 | itr #34 | computing loss after\n",
            "2019-02-16 20:34:21 | itr #34 | optimization finished\n",
            "2019-02-16 20:34:21 | itr #34 | Computing KL after\n",
            "2019-02-16 20:34:21 | itr #34 | Computing loss after\n",
            "2019-02-16 20:34:21 | itr #34 | Fitting baseline...\n",
            "2019-02-16 20:34:21 | itr #34 | Saving snapshot...\n",
            "2019-02-16 20:34:21 | itr #34 | Saved\n",
            "2019-02-16 20:34:21 | --------------------------  -------------\n",
            "2019-02-16 20:34:21 | AverageDiscountedReturn      22.165\n",
            "2019-02-16 20:34:21 | AverageReturn                23.36\n",
            "2019-02-16 20:34:21 | Baseline/ExplainedVariance    0.545849\n",
            "2019-02-16 20:34:21 | Entropy                       1.05104\n",
            "2019-02-16 20:34:21 | EnvExecTime                   0.367315\n",
            "2019-02-16 20:34:21 | Iteration                    34\n",
            "2019-02-16 20:34:21 | ItrTime                       0.935346\n",
            "2019-02-16 20:34:21 | MaxReturn                    42\n",
            "2019-02-16 20:34:21 | MinReturn                     8\n",
            "2019-02-16 20:34:21 | NumTrajs                    200\n",
            "2019-02-16 20:34:21 | Perplexity                    2.86063\n",
            "2019-02-16 20:34:21 | PolicyExecTime                0.271145\n",
            "2019-02-16 20:34:21 | ProcessExecTime               0.0219162\n",
            "2019-02-16 20:34:21 | StdReturn                     6.53149\n",
            "2019-02-16 20:34:21 | Time                         37.997\n",
            "2019-02-16 20:34:21 | policy/Entropy                0.330897\n",
            "2019-02-16 20:34:21 | policy/KL                     0.00577486\n",
            "2019-02-16 20:34:21 | policy/KLBefore               0\n",
            "2019-02-16 20:34:21 | policy/LossAfter             -0.0214767\n",
            "2019-02-16 20:34:21 | policy/LossBefore             1.23978e-08\n",
            "2019-02-16 20:34:21 | policy/dLoss                  0.0214767\n",
            "2019-02-16 20:34:21 | --------------------------  -------------\n",
            "2019-02-16 20:34:21 | itr #35 | Obtaining samples...\n",
            "2019-02-16 20:34:21 | itr #35 | Obtaining samples for iteration 35...\n"
          ],
          "name": "stdout"
        },
        {
          "output_type": "stream",
          "text": [
            "0% [##############################] 100% | ETA: 00:00:00"
          ],
          "name": "stderr"
        },
        {
          "output_type": "stream",
          "text": [
            "2019-02-16 20:34:22 | itr #35 | Processing samples...\n"
          ],
          "name": "stdout"
        },
        {
          "output_type": "stream",
          "text": [
            "\n",
            "Total time elapsed: 00:00:00\n"
          ],
          "name": "stderr"
        },
        {
          "output_type": "stream",
          "text": [
            "2019-02-16 20:34:22 | itr #35 | Logging diagnostics...\n",
            "2019-02-16 20:34:22 | itr #35 | Optimizing policy...\n",
            "2019-02-16 20:34:22 | itr #35 | Computing loss before\n",
            "2019-02-16 20:34:22 | itr #35 | Computing KL before\n",
            "2019-02-16 20:34:22 | itr #35 | Optimizing\n",
            "2019-02-16 20:34:22 | itr #35 | Start CG optimization: #parameters: 1480, #inputs: 200, #subsample_inputs: 200\n",
            "2019-02-16 20:34:22 | itr #35 | computing loss before\n",
            "2019-02-16 20:34:22 | itr #35 | performing update\n",
            "2019-02-16 20:34:22 | itr #35 | computing gradient\n",
            "2019-02-16 20:34:22 | itr #35 | gradient computed\n",
            "2019-02-16 20:34:22 | itr #35 | computing descent direction\n",
            "2019-02-16 20:34:22 | itr #35 | descent direction computed\n",
            "2019-02-16 20:34:22 | itr #35 | backtrack iters: 0\n",
            "2019-02-16 20:34:22 | itr #35 | computing loss after\n",
            "2019-02-16 20:34:22 | itr #35 | optimization finished\n",
            "2019-02-16 20:34:22 | itr #35 | Computing KL after\n",
            "2019-02-16 20:34:22 | itr #35 | Computing loss after\n",
            "2019-02-16 20:34:22 | itr #35 | Fitting baseline...\n",
            "2019-02-16 20:34:22 | itr #35 | Saving snapshot...\n",
            "2019-02-16 20:34:22 | itr #35 | Saved\n",
            "2019-02-16 20:34:22 | --------------------------  -------------\n",
            "2019-02-16 20:34:22 | AverageDiscountedReturn      23.041\n",
            "2019-02-16 20:34:22 | AverageReturn                24.255\n",
            "2019-02-16 20:34:22 | Baseline/ExplainedVariance    0.580221\n",
            "2019-02-16 20:34:22 | Entropy                       1.01501\n",
            "2019-02-16 20:34:22 | EnvExecTime                   0.354856\n",
            "2019-02-16 20:34:22 | Iteration                    35\n",
            "2019-02-16 20:34:22 | ItrTime                       0.93992\n",
            "2019-02-16 20:34:22 | MaxReturn                    38\n",
            "2019-02-16 20:34:22 | MinReturn                     6\n",
            "2019-02-16 20:34:22 | NumTrajs                    200\n",
            "2019-02-16 20:34:22 | Perplexity                    2.7594\n",
            "2019-02-16 20:34:22 | PolicyExecTime                0.283998\n",
            "2019-02-16 20:34:22 | ProcessExecTime               0.021296\n",
            "2019-02-16 20:34:22 | StdReturn                     6.55133\n",
            "2019-02-16 20:34:22 | Time                         38.9861\n",
            "2019-02-16 20:34:22 | policy/Entropy                0.346639\n",
            "2019-02-16 20:34:22 | policy/KL                     0.00780398\n",
            "2019-02-16 20:34:22 | policy/KLBefore               0\n",
            "2019-02-16 20:34:22 | policy/LossAfter             -0.0176299\n",
            "2019-02-16 20:34:22 | policy/LossBefore             2.38419e-09\n",
            "2019-02-16 20:34:22 | policy/dLoss                  0.0176299\n",
            "2019-02-16 20:34:22 | --------------------------  -------------\n",
            "2019-02-16 20:34:22 | itr #36 | Obtaining samples...\n",
            "2019-02-16 20:34:22 | itr #36 | Obtaining samples for iteration 36...\n"
          ],
          "name": "stdout"
        },
        {
          "output_type": "stream",
          "text": [
            "0% [##############################] 100% | ETA: 00:00:00\n",
            "Total time elapsed: 00:00:00"
          ],
          "name": "stderr"
        },
        {
          "output_type": "stream",
          "text": [
            "2019-02-16 20:34:23 | itr #36 | Processing samples...\n"
          ],
          "name": "stdout"
        },
        {
          "output_type": "stream",
          "text": [
            "\n"
          ],
          "name": "stderr"
        },
        {
          "output_type": "stream",
          "text": [
            "2019-02-16 20:34:23 | itr #36 | Logging diagnostics...\n",
            "2019-02-16 20:34:23 | itr #36 | Optimizing policy...\n",
            "2019-02-16 20:34:23 | itr #36 | Computing loss before\n",
            "2019-02-16 20:34:23 | itr #36 | Computing KL before\n",
            "2019-02-16 20:34:23 | itr #36 | Optimizing\n",
            "2019-02-16 20:34:23 | itr #36 | Start CG optimization: #parameters: 1480, #inputs: 200, #subsample_inputs: 200\n",
            "2019-02-16 20:34:23 | itr #36 | computing loss before\n",
            "2019-02-16 20:34:23 | itr #36 | performing update\n",
            "2019-02-16 20:34:23 | itr #36 | computing gradient\n",
            "2019-02-16 20:34:23 | itr #36 | gradient computed\n",
            "2019-02-16 20:34:23 | itr #36 | computing descent direction\n",
            "2019-02-16 20:34:23 | itr #36 | descent direction computed\n",
            "2019-02-16 20:34:23 | itr #36 | backtrack iters: 11\n",
            "2019-02-16 20:34:23 | itr #36 | computing loss after\n",
            "2019-02-16 20:34:23 | itr #36 | optimization finished\n",
            "2019-02-16 20:34:23 | itr #36 | Computing KL after\n",
            "2019-02-16 20:34:23 | itr #36 | Computing loss after\n",
            "2019-02-16 20:34:23 | itr #36 | Fitting baseline...\n",
            "2019-02-16 20:34:23 | itr #36 | Saving snapshot...\n",
            "2019-02-16 20:34:23 | itr #36 | Saved\n",
            "2019-02-16 20:34:23 | --------------------------  -------------\n",
            "2019-02-16 20:34:23 | AverageDiscountedReturn      24.9109\n",
            "2019-02-16 20:34:23 | AverageReturn                26.28\n",
            "2019-02-16 20:34:23 | Baseline/ExplainedVariance    0.61292\n",
            "2019-02-16 20:34:23 | Entropy                       0.957035\n",
            "2019-02-16 20:34:23 | EnvExecTime                   0.355596\n",
            "2019-02-16 20:34:23 | Iteration                    36\n",
            "2019-02-16 20:34:23 | ItrTime                       0.982067\n",
            "2019-02-16 20:34:23 | MaxReturn                    40\n",
            "2019-02-16 20:34:23 | MinReturn                     4\n",
            "2019-02-16 20:34:23 | NumTrajs                    200\n",
            "2019-02-16 20:34:23 | Perplexity                    2.60396\n",
            "2019-02-16 20:34:23 | PolicyExecTime                0.266468\n",
            "2019-02-16 20:34:23 | ProcessExecTime               0.0232804\n",
            "2019-02-16 20:34:23 | StdReturn                     6.13038\n",
            "2019-02-16 20:34:23 | Time                         40.0071\n",
            "2019-02-16 20:34:23 | policy/Entropy                0.360782\n",
            "2019-02-16 20:34:23 | policy/KL                     0.000203183\n",
            "2019-02-16 20:34:23 | policy/KLBefore               0\n",
            "2019-02-16 20:34:23 | policy/LossAfter             -0.000292099\n",
            "2019-02-16 20:34:23 | policy/LossBefore            -3.8147e-09\n",
            "2019-02-16 20:34:23 | policy/dLoss                  0.000292095\n",
            "2019-02-16 20:34:23 | --------------------------  -------------\n",
            "2019-02-16 20:34:23 | itr #37 | Obtaining samples...\n",
            "2019-02-16 20:34:23 | itr #37 | Obtaining samples for iteration 37...\n"
          ],
          "name": "stdout"
        },
        {
          "output_type": "stream",
          "text": [
            "0% [##############################] 100% | ETA: 00:00:00"
          ],
          "name": "stderr"
        },
        {
          "output_type": "stream",
          "text": [
            "2019-02-16 20:34:24 | itr #37 | Processing samples...\n"
          ],
          "name": "stdout"
        },
        {
          "output_type": "stream",
          "text": [
            "\n",
            "Total time elapsed: 00:00:00\n"
          ],
          "name": "stderr"
        },
        {
          "output_type": "stream",
          "text": [
            "2019-02-16 20:34:24 | itr #37 | Logging diagnostics...\n",
            "2019-02-16 20:34:24 | itr #37 | Optimizing policy...\n",
            "2019-02-16 20:34:24 | itr #37 | Computing loss before\n",
            "2019-02-16 20:34:24 | itr #37 | Computing KL before\n",
            "2019-02-16 20:34:24 | itr #37 | Optimizing\n",
            "2019-02-16 20:34:24 | itr #37 | Start CG optimization: #parameters: 1480, #inputs: 200, #subsample_inputs: 200\n",
            "2019-02-16 20:34:24 | itr #37 | computing loss before\n",
            "2019-02-16 20:34:24 | itr #37 | performing update\n",
            "2019-02-16 20:34:24 | itr #37 | computing gradient\n",
            "2019-02-16 20:34:24 | itr #37 | gradient computed\n",
            "2019-02-16 20:34:24 | itr #37 | computing descent direction\n",
            "2019-02-16 20:34:24 | itr #37 | descent direction computed\n",
            "2019-02-16 20:34:24 | itr #37 | backtrack iters: 0\n",
            "2019-02-16 20:34:24 | itr #37 | computing loss after\n",
            "2019-02-16 20:34:24 | itr #37 | optimization finished\n",
            "2019-02-16 20:34:24 | itr #37 | Computing KL after\n",
            "2019-02-16 20:34:24 | itr #37 | Computing loss after\n",
            "2019-02-16 20:34:24 | itr #37 | Fitting baseline...\n",
            "2019-02-16 20:34:24 | itr #37 | Saving snapshot...\n",
            "2019-02-16 20:34:24 | itr #37 | Saved\n",
            "2019-02-16 20:34:24 | --------------------------  ------------\n",
            "2019-02-16 20:34:24 | AverageDiscountedReturn      24.7439\n",
            "2019-02-16 20:34:24 | AverageReturn                26.175\n",
            "2019-02-16 20:34:24 | Baseline/ExplainedVariance    0.658342\n",
            "2019-02-16 20:34:24 | Entropy                       0.947131\n",
            "2019-02-16 20:34:24 | EnvExecTime                   0.349173\n",
            "2019-02-16 20:34:24 | Iteration                    37\n",
            "2019-02-16 20:34:24 | ItrTime                       0.892652\n",
            "2019-02-16 20:34:24 | MaxReturn                    36\n",
            "2019-02-16 20:34:24 | MinReturn                     7\n",
            "2019-02-16 20:34:24 | NumTrajs                    200\n",
            "2019-02-16 20:34:24 | Perplexity                    2.5783\n",
            "2019-02-16 20:34:24 | PolicyExecTime                0.267444\n",
            "2019-02-16 20:34:24 | ProcessExecTime               0.0222929\n",
            "2019-02-16 20:34:24 | StdReturn                     5.21961\n",
            "2019-02-16 20:34:24 | Time                         40.929\n",
            "2019-02-16 20:34:24 | policy/Entropy                0.359599\n",
            "2019-02-16 20:34:24 | policy/KL                     0.00863714\n",
            "2019-02-16 20:34:24 | policy/KLBefore               0\n",
            "2019-02-16 20:34:24 | policy/LossAfter             -0.0231047\n",
            "2019-02-16 20:34:24 | policy/LossBefore             3.8147e-09\n",
            "2019-02-16 20:34:24 | policy/dLoss                  0.0231047\n",
            "2019-02-16 20:34:24 | --------------------------  ------------\n",
            "2019-02-16 20:34:24 | itr #38 | Obtaining samples...\n",
            "2019-02-16 20:34:24 | itr #38 | Obtaining samples for iteration 38...\n"
          ],
          "name": "stdout"
        },
        {
          "output_type": "stream",
          "text": [
            "0% [##############################] 100% | ETA: 00:00:00"
          ],
          "name": "stderr"
        },
        {
          "output_type": "stream",
          "text": [
            "2019-02-16 20:34:25 | itr #38 | Processing samples...\n"
          ],
          "name": "stdout"
        },
        {
          "output_type": "stream",
          "text": [
            "\n",
            "Total time elapsed: 00:00:00\n"
          ],
          "name": "stderr"
        },
        {
          "output_type": "stream",
          "text": [
            "2019-02-16 20:34:25 | itr #38 | Logging diagnostics...\n",
            "2019-02-16 20:34:25 | itr #38 | Optimizing policy...\n",
            "2019-02-16 20:34:25 | itr #38 | Computing loss before\n",
            "2019-02-16 20:34:25 | itr #38 | Computing KL before\n",
            "2019-02-16 20:34:25 | itr #38 | Optimizing\n",
            "2019-02-16 20:34:25 | itr #38 | Start CG optimization: #parameters: 1480, #inputs: 200, #subsample_inputs: 200\n",
            "2019-02-16 20:34:25 | itr #38 | computing loss before\n",
            "2019-02-16 20:34:25 | itr #38 | performing update\n",
            "2019-02-16 20:34:25 | itr #38 | computing gradient\n",
            "2019-02-16 20:34:25 | itr #38 | gradient computed\n",
            "2019-02-16 20:34:25 | itr #38 | computing descent direction\n",
            "2019-02-16 20:34:25 | itr #38 | descent direction computed\n",
            "2019-02-16 20:34:25 | itr #38 | backtrack iters: 0\n",
            "2019-02-16 20:34:25 | itr #38 | computing loss after\n",
            "2019-02-16 20:34:25 | itr #38 | optimization finished\n",
            "2019-02-16 20:34:25 | itr #38 | Computing KL after\n",
            "2019-02-16 20:34:25 | itr #38 | Computing loss after\n",
            "2019-02-16 20:34:25 | itr #38 | Fitting baseline...\n",
            "2019-02-16 20:34:25 | itr #38 | Saving snapshot...\n",
            "2019-02-16 20:34:25 | itr #38 | Saved\n",
            "2019-02-16 20:34:25 | --------------------------  -------------\n",
            "2019-02-16 20:34:25 | AverageDiscountedReturn      26.5524\n",
            "2019-02-16 20:34:25 | AverageReturn                28.115\n",
            "2019-02-16 20:34:25 | Baseline/ExplainedVariance    0.719778\n",
            "2019-02-16 20:34:25 | Entropy                       0.892658\n",
            "2019-02-16 20:34:25 | EnvExecTime                   0.474986\n",
            "2019-02-16 20:34:25 | Iteration                    38\n",
            "2019-02-16 20:34:25 | ItrTime                       1.03305\n",
            "2019-02-16 20:34:25 | MaxReturn                    46\n",
            "2019-02-16 20:34:25 | MinReturn                     9\n",
            "2019-02-16 20:34:25 | NumTrajs                    200\n",
            "2019-02-16 20:34:25 | Perplexity                    2.44161\n",
            "2019-02-16 20:34:25 | PolicyExecTime                0.271715\n",
            "2019-02-16 20:34:25 | ProcessExecTime               0.0207586\n",
            "2019-02-16 20:34:25 | StdReturn                     4.50686\n",
            "2019-02-16 20:34:25 | Time                         41.9955\n",
            "2019-02-16 20:34:25 | policy/Entropy                0.383018\n",
            "2019-02-16 20:34:25 | policy/KL                     0.0073849\n",
            "2019-02-16 20:34:25 | policy/KLBefore               0\n",
            "2019-02-16 20:34:25 | policy/LossAfter             -0.0149911\n",
            "2019-02-16 20:34:25 | policy/LossBefore            -1.16825e-08\n",
            "2019-02-16 20:34:25 | policy/dLoss                  0.0149911\n",
            "2019-02-16 20:34:25 | --------------------------  -------------\n",
            "2019-02-16 20:34:25 | itr #39 | Obtaining samples...\n",
            "2019-02-16 20:34:25 | itr #39 | Obtaining samples for iteration 39...\n"
          ],
          "name": "stdout"
        },
        {
          "output_type": "stream",
          "text": [
            "0% [##############################] 100% | ETA: 00:00:00"
          ],
          "name": "stderr"
        },
        {
          "output_type": "stream",
          "text": [
            "2019-02-16 20:34:26 | itr #39 | Processing samples...\n"
          ],
          "name": "stdout"
        },
        {
          "output_type": "stream",
          "text": [
            "\n",
            "Total time elapsed: 00:00:00\n"
          ],
          "name": "stderr"
        },
        {
          "output_type": "stream",
          "text": [
            "2019-02-16 20:34:26 | itr #39 | Logging diagnostics...\n",
            "2019-02-16 20:34:26 | itr #39 | Optimizing policy...\n",
            "2019-02-16 20:34:26 | itr #39 | Computing loss before\n",
            "2019-02-16 20:34:26 | itr #39 | Computing KL before\n",
            "2019-02-16 20:34:26 | itr #39 | Optimizing\n",
            "2019-02-16 20:34:26 | itr #39 | Start CG optimization: #parameters: 1480, #inputs: 200, #subsample_inputs: 200\n",
            "2019-02-16 20:34:26 | itr #39 | computing loss before\n",
            "2019-02-16 20:34:26 | itr #39 | performing update\n",
            "2019-02-16 20:34:26 | itr #39 | computing gradient\n",
            "2019-02-16 20:34:26 | itr #39 | gradient computed\n",
            "2019-02-16 20:34:26 | itr #39 | computing descent direction\n",
            "2019-02-16 20:34:26 | itr #39 | descent direction computed\n",
            "2019-02-16 20:34:26 | itr #39 | backtrack iters: 7\n",
            "2019-02-16 20:34:26 | itr #39 | computing loss after\n",
            "2019-02-16 20:34:26 | itr #39 | optimization finished\n",
            "2019-02-16 20:34:26 | itr #39 | Computing KL after\n",
            "2019-02-16 20:34:26 | itr #39 | Computing loss after\n",
            "2019-02-16 20:34:26 | itr #39 | Fitting baseline...\n",
            "2019-02-16 20:34:26 | itr #39 | Saving snapshot...\n",
            "2019-02-16 20:34:26 | itr #39 | Saved\n",
            "2019-02-16 20:34:26 | --------------------------  -------------\n",
            "2019-02-16 20:34:26 | AverageDiscountedReturn      27.4164\n",
            "2019-02-16 20:34:26 | AverageReturn                28.935\n",
            "2019-02-16 20:34:26 | Baseline/ExplainedVariance    0.690763\n",
            "2019-02-16 20:34:26 | Entropy                       0.824403\n",
            "2019-02-16 20:34:26 | EnvExecTime                   0.355695\n",
            "2019-02-16 20:34:26 | Iteration                    39\n",
            "2019-02-16 20:34:26 | ItrTime                       0.960565\n",
            "2019-02-16 20:34:26 | MaxReturn                    46\n",
            "2019-02-16 20:34:26 | MinReturn                     9\n",
            "2019-02-16 20:34:26 | NumTrajs                    200\n",
            "2019-02-16 20:34:26 | Perplexity                    2.28052\n",
            "2019-02-16 20:34:26 | PolicyExecTime                0.273209\n",
            "2019-02-16 20:34:26 | ProcessExecTime               0.0220921\n",
            "2019-02-16 20:34:26 | StdReturn                     5.62235\n",
            "2019-02-16 20:34:26 | Time                         42.9886\n",
            "2019-02-16 20:34:26 | policy/Entropy                0.397248\n",
            "2019-02-16 20:34:26 | policy/KL                     0.00432909\n",
            "2019-02-16 20:34:26 | policy/KLBefore               0\n",
            "2019-02-16 20:34:26 | policy/LossAfter             -0.000764621\n",
            "2019-02-16 20:34:26 | policy/LossBefore             9.53674e-09\n",
            "2019-02-16 20:34:26 | policy/dLoss                  0.00076463\n",
            "2019-02-16 20:34:26 | --------------------------  -------------\n",
            "2019-02-16 20:34:26 | itr #40 | Obtaining samples...\n",
            "2019-02-16 20:34:26 | itr #40 | Obtaining samples for iteration 40...\n"
          ],
          "name": "stdout"
        },
        {
          "output_type": "stream",
          "text": [
            "0% [##############################] 100% | ETA: 00:00:00"
          ],
          "name": "stderr"
        },
        {
          "output_type": "stream",
          "text": [
            "2019-02-16 20:34:27 | itr #40 | Processing samples...\n"
          ],
          "name": "stdout"
        },
        {
          "output_type": "stream",
          "text": [
            "\n",
            "Total time elapsed: 00:00:00\n"
          ],
          "name": "stderr"
        },
        {
          "output_type": "stream",
          "text": [
            "2019-02-16 20:34:27 | itr #40 | Logging diagnostics...\n",
            "2019-02-16 20:34:27 | itr #40 | Optimizing policy...\n",
            "2019-02-16 20:34:27 | itr #40 | Computing loss before\n",
            "2019-02-16 20:34:27 | itr #40 | Computing KL before\n",
            "2019-02-16 20:34:27 | itr #40 | Optimizing\n",
            "2019-02-16 20:34:27 | itr #40 | Start CG optimization: #parameters: 1480, #inputs: 200, #subsample_inputs: 200\n",
            "2019-02-16 20:34:27 | itr #40 | computing loss before\n",
            "2019-02-16 20:34:27 | itr #40 | performing update\n",
            "2019-02-16 20:34:27 | itr #40 | computing gradient\n",
            "2019-02-16 20:34:27 | itr #40 | gradient computed\n",
            "2019-02-16 20:34:27 | itr #40 | computing descent direction\n",
            "2019-02-16 20:34:27 | itr #40 | descent direction computed\n",
            "2019-02-16 20:34:27 | itr #40 | backtrack iters: 2\n",
            "2019-02-16 20:34:27 | itr #40 | computing loss after\n",
            "2019-02-16 20:34:27 | itr #40 | optimization finished\n",
            "2019-02-16 20:34:27 | itr #40 | Computing KL after\n",
            "2019-02-16 20:34:27 | itr #40 | Computing loss after\n",
            "2019-02-16 20:34:27 | itr #40 | Fitting baseline...\n",
            "2019-02-16 20:34:27 | itr #40 | Saving snapshot...\n",
            "2019-02-16 20:34:27 | itr #40 | Saved\n",
            "2019-02-16 20:34:27 | --------------------------  -------------\n",
            "2019-02-16 20:34:27 | AverageDiscountedReturn      26.0177\n",
            "2019-02-16 20:34:27 | AverageReturn                27.615\n",
            "2019-02-16 20:34:27 | Baseline/ExplainedVariance    0.677309\n",
            "2019-02-16 20:34:27 | Entropy                       0.845882\n",
            "2019-02-16 20:34:27 | EnvExecTime                   0.350066\n",
            "2019-02-16 20:34:27 | Iteration                    40\n",
            "2019-02-16 20:34:27 | ItrTime                       0.920284\n",
            "2019-02-16 20:34:27 | MaxReturn                    44\n",
            "2019-02-16 20:34:27 | MinReturn                    11\n",
            "2019-02-16 20:34:27 | NumTrajs                    200\n",
            "2019-02-16 20:34:27 | Perplexity                    2.33003\n",
            "2019-02-16 20:34:27 | PolicyExecTime                0.277979\n",
            "2019-02-16 20:34:27 | ProcessExecTime               0.0224366\n",
            "2019-02-16 20:34:27 | StdReturn                     5.46139\n",
            "2019-02-16 20:34:27 | Time                         43.9407\n",
            "2019-02-16 20:34:27 | policy/Entropy                0.38855\n",
            "2019-02-16 20:34:27 | policy/KL                     0.00744856\n",
            "2019-02-16 20:34:27 | policy/KLBefore               0\n",
            "2019-02-16 20:34:27 | policy/LossAfter             -0.0193731\n",
            "2019-02-16 20:34:27 | policy/LossBefore             5.24521e-09\n",
            "2019-02-16 20:34:27 | policy/dLoss                  0.0193731\n",
            "2019-02-16 20:34:27 | --------------------------  -------------\n",
            "2019-02-16 20:34:27 | itr #41 | Obtaining samples...\n",
            "2019-02-16 20:34:27 | itr #41 | Obtaining samples for iteration 41...\n"
          ],
          "name": "stdout"
        },
        {
          "output_type": "stream",
          "text": [
            "0% [##############################] 100% | ETA: 00:00:00"
          ],
          "name": "stderr"
        },
        {
          "output_type": "stream",
          "text": [
            "2019-02-16 20:34:27 | itr #41 | Processing samples...\n"
          ],
          "name": "stdout"
        },
        {
          "output_type": "stream",
          "text": [
            "\n",
            "Total time elapsed: 00:00:00\n"
          ],
          "name": "stderr"
        },
        {
          "output_type": "stream",
          "text": [
            "2019-02-16 20:34:28 | itr #41 | Logging diagnostics...\n",
            "2019-02-16 20:34:28 | itr #41 | Optimizing policy...\n",
            "2019-02-16 20:34:28 | itr #41 | Computing loss before\n",
            "2019-02-16 20:34:28 | itr #41 | Computing KL before\n",
            "2019-02-16 20:34:28 | itr #41 | Optimizing\n",
            "2019-02-16 20:34:28 | itr #41 | Start CG optimization: #parameters: 1480, #inputs: 200, #subsample_inputs: 200\n",
            "2019-02-16 20:34:28 | itr #41 | computing loss before\n",
            "2019-02-16 20:34:28 | itr #41 | performing update\n",
            "2019-02-16 20:34:28 | itr #41 | computing gradient\n",
            "2019-02-16 20:34:28 | itr #41 | gradient computed\n",
            "2019-02-16 20:34:28 | itr #41 | computing descent direction\n",
            "2019-02-16 20:34:28 | itr #41 | descent direction computed\n",
            "2019-02-16 20:34:28 | itr #41 | backtrack iters: 1\n",
            "2019-02-16 20:34:28 | itr #41 | computing loss after\n",
            "2019-02-16 20:34:28 | itr #41 | optimization finished\n",
            "2019-02-16 20:34:28 | itr #41 | Computing KL after\n",
            "2019-02-16 20:34:28 | itr #41 | Computing loss after\n",
            "2019-02-16 20:34:28 | itr #41 | Fitting baseline...\n",
            "2019-02-16 20:34:28 | itr #41 | Saving snapshot...\n",
            "2019-02-16 20:34:28 | itr #41 | Saved\n",
            "2019-02-16 20:34:28 | --------------------------  -------------\n",
            "2019-02-16 20:34:28 | AverageDiscountedReturn      27.9799\n",
            "2019-02-16 20:34:28 | AverageReturn                29.65\n",
            "2019-02-16 20:34:28 | Baseline/ExplainedVariance    0.752247\n",
            "2019-02-16 20:34:28 | Entropy                       0.77691\n",
            "2019-02-16 20:34:28 | EnvExecTime                   0.363495\n",
            "2019-02-16 20:34:28 | Iteration                    41\n",
            "2019-02-16 20:34:28 | ItrTime                       0.909776\n",
            "2019-02-16 20:34:28 | MaxReturn                    44\n",
            "2019-02-16 20:34:28 | MinReturn                    10\n",
            "2019-02-16 20:34:28 | NumTrajs                    200\n",
            "2019-02-16 20:34:28 | Perplexity                    2.17474\n",
            "2019-02-16 20:34:28 | PolicyExecTime                0.266317\n",
            "2019-02-16 20:34:28 | ProcessExecTime               0.0234799\n",
            "2019-02-16 20:34:28 | StdReturn                     4.40653\n",
            "2019-02-16 20:34:28 | Time                         44.8811\n",
            "2019-02-16 20:34:28 | policy/Entropy                0.412343\n",
            "2019-02-16 20:34:28 | policy/KL                     0.00415121\n",
            "2019-02-16 20:34:28 | policy/KLBefore               0\n",
            "2019-02-16 20:34:28 | policy/LossAfter             -0.00286538\n",
            "2019-02-16 20:34:28 | policy/LossBefore             4.76837e-09\n",
            "2019-02-16 20:34:28 | policy/dLoss                  0.00286538\n",
            "2019-02-16 20:34:28 | --------------------------  -------------\n",
            "2019-02-16 20:34:28 | itr #42 | Obtaining samples...\n",
            "2019-02-16 20:34:28 | itr #42 | Obtaining samples for iteration 42...\n"
          ],
          "name": "stdout"
        },
        {
          "output_type": "stream",
          "text": [
            "0% [##############################] 100% | ETA: 00:00:00"
          ],
          "name": "stderr"
        },
        {
          "output_type": "stream",
          "text": [
            "2019-02-16 20:34:28 | itr #42 | Processing samples...\n"
          ],
          "name": "stdout"
        },
        {
          "output_type": "stream",
          "text": [
            "\n",
            "Total time elapsed: 00:00:00\n"
          ],
          "name": "stderr"
        },
        {
          "output_type": "stream",
          "text": [
            "2019-02-16 20:34:28 | itr #42 | Logging diagnostics...\n",
            "2019-02-16 20:34:28 | itr #42 | Optimizing policy...\n",
            "2019-02-16 20:34:28 | itr #42 | Computing loss before\n",
            "2019-02-16 20:34:28 | itr #42 | Computing KL before\n",
            "2019-02-16 20:34:28 | itr #42 | Optimizing\n",
            "2019-02-16 20:34:28 | itr #42 | Start CG optimization: #parameters: 1480, #inputs: 200, #subsample_inputs: 200\n",
            "2019-02-16 20:34:28 | itr #42 | computing loss before\n",
            "2019-02-16 20:34:28 | itr #42 | performing update\n",
            "2019-02-16 20:34:28 | itr #42 | computing gradient\n",
            "2019-02-16 20:34:28 | itr #42 | gradient computed\n",
            "2019-02-16 20:34:28 | itr #42 | computing descent direction\n",
            "2019-02-16 20:34:29 | itr #42 | descent direction computed\n",
            "2019-02-16 20:34:29 | itr #42 | backtrack iters: 1\n",
            "2019-02-16 20:34:29 | itr #42 | computing loss after\n",
            "2019-02-16 20:34:29 | itr #42 | optimization finished\n",
            "2019-02-16 20:34:29 | itr #42 | Computing KL after\n",
            "2019-02-16 20:34:29 | itr #42 | Computing loss after\n",
            "2019-02-16 20:34:29 | itr #42 | Fitting baseline...\n",
            "2019-02-16 20:34:29 | itr #42 | Saving snapshot...\n",
            "2019-02-16 20:34:29 | itr #42 | Saved\n",
            "2019-02-16 20:34:29 | --------------------------  -------------\n",
            "2019-02-16 20:34:29 | AverageDiscountedReturn      27.681\n",
            "2019-02-16 20:34:29 | AverageReturn                29.315\n",
            "2019-02-16 20:34:29 | Baseline/ExplainedVariance    0.737224\n",
            "2019-02-16 20:34:29 | Entropy                       0.755166\n",
            "2019-02-16 20:34:29 | EnvExecTime                   0.351463\n",
            "2019-02-16 20:34:29 | Iteration                    42\n",
            "2019-02-16 20:34:29 | ItrTime                       0.912056\n",
            "2019-02-16 20:34:29 | MaxReturn                    46\n",
            "2019-02-16 20:34:29 | MinReturn                     6\n",
            "2019-02-16 20:34:29 | NumTrajs                    200\n",
            "2019-02-16 20:34:29 | Perplexity                    2.12797\n",
            "2019-02-16 20:34:29 | PolicyExecTime                0.273067\n",
            "2019-02-16 20:34:29 | ProcessExecTime               0.0224078\n",
            "2019-02-16 20:34:29 | StdReturn                     4.88014\n",
            "2019-02-16 20:34:29 | Time                         45.825\n",
            "2019-02-16 20:34:29 | policy/Entropy                0.419901\n",
            "2019-02-16 20:34:29 | policy/KL                     0.00973506\n",
            "2019-02-16 20:34:29 | policy/KLBefore               0\n",
            "2019-02-16 20:34:29 | policy/LossAfter             -0.00330828\n",
            "2019-02-16 20:34:29 | policy/LossBefore             7.15256e-09\n",
            "2019-02-16 20:34:29 | policy/dLoss                  0.00330829\n",
            "2019-02-16 20:34:29 | --------------------------  -------------\n",
            "2019-02-16 20:34:29 | itr #43 | Obtaining samples...\n",
            "2019-02-16 20:34:29 | itr #43 | Obtaining samples for iteration 43...\n"
          ],
          "name": "stdout"
        },
        {
          "output_type": "stream",
          "text": [
            "0% [##############################] 100% | ETA: 00:00:00"
          ],
          "name": "stderr"
        },
        {
          "output_type": "stream",
          "text": [
            "2019-02-16 20:34:29 | itr #43 | Processing samples...\n"
          ],
          "name": "stdout"
        },
        {
          "output_type": "stream",
          "text": [
            "\n",
            "Total time elapsed: 00:00:00\n"
          ],
          "name": "stderr"
        },
        {
          "output_type": "stream",
          "text": [
            "2019-02-16 20:34:29 | itr #43 | Logging diagnostics...\n",
            "2019-02-16 20:34:29 | itr #43 | Optimizing policy...\n",
            "2019-02-16 20:34:29 | itr #43 | Computing loss before\n",
            "2019-02-16 20:34:29 | itr #43 | Computing KL before\n",
            "2019-02-16 20:34:29 | itr #43 | Optimizing\n",
            "2019-02-16 20:34:29 | itr #43 | Start CG optimization: #parameters: 1480, #inputs: 200, #subsample_inputs: 200\n",
            "2019-02-16 20:34:29 | itr #43 | computing loss before\n",
            "2019-02-16 20:34:29 | itr #43 | performing update\n",
            "2019-02-16 20:34:29 | itr #43 | computing gradient\n",
            "2019-02-16 20:34:29 | itr #43 | gradient computed\n",
            "2019-02-16 20:34:29 | itr #43 | computing descent direction\n",
            "2019-02-16 20:34:30 | itr #43 | descent direction computed\n",
            "2019-02-16 20:34:30 | itr #43 | backtrack iters: 0\n",
            "2019-02-16 20:34:30 | itr #43 | computing loss after\n",
            "2019-02-16 20:34:30 | itr #43 | optimization finished\n",
            "2019-02-16 20:34:30 | itr #43 | Computing KL after\n",
            "2019-02-16 20:34:30 | itr #43 | Computing loss after\n",
            "2019-02-16 20:34:30 | itr #43 | Fitting baseline...\n",
            "2019-02-16 20:34:30 | itr #43 | Saving snapshot...\n",
            "2019-02-16 20:34:30 | itr #43 | Saved\n",
            "2019-02-16 20:34:30 | --------------------------  -------------\n",
            "2019-02-16 20:34:30 | AverageDiscountedReturn      27.6044\n",
            "2019-02-16 20:34:30 | AverageReturn                29.23\n",
            "2019-02-16 20:34:30 | Baseline/ExplainedVariance    0.644081\n",
            "2019-02-16 20:34:30 | Entropy                       0.704144\n",
            "2019-02-16 20:34:30 | EnvExecTime                   0.364355\n",
            "2019-02-16 20:34:30 | Iteration                    43\n",
            "2019-02-16 20:34:30 | ItrTime                       0.911472\n",
            "2019-02-16 20:34:30 | MaxReturn                    50\n",
            "2019-02-16 20:34:30 | MinReturn                     8\n",
            "2019-02-16 20:34:30 | NumTrajs                    200\n",
            "2019-02-16 20:34:30 | Perplexity                    2.02212\n",
            "2019-02-16 20:34:30 | PolicyExecTime                0.268682\n",
            "2019-02-16 20:34:30 | ProcessExecTime               0.0211747\n",
            "2019-02-16 20:34:30 | StdReturn                     6.31325\n",
            "2019-02-16 20:34:30 | Time                         46.7691\n",
            "2019-02-16 20:34:30 | policy/Entropy                0.432255\n",
            "2019-02-16 20:34:30 | policy/KL                     0.0021811\n",
            "2019-02-16 20:34:30 | policy/KLBefore               0\n",
            "2019-02-16 20:34:30 | policy/LossAfter             -0.0082612\n",
            "2019-02-16 20:34:30 | policy/LossBefore             1.04904e-08\n",
            "2019-02-16 20:34:30 | policy/dLoss                  0.00826121\n",
            "2019-02-16 20:34:30 | --------------------------  -------------\n",
            "2019-02-16 20:34:30 | itr #44 | Obtaining samples...\n",
            "2019-02-16 20:34:30 | itr #44 | Obtaining samples for iteration 44...\n"
          ],
          "name": "stdout"
        },
        {
          "output_type": "stream",
          "text": [
            "0% [##############################] 100% | ETA: 00:00:00"
          ],
          "name": "stderr"
        },
        {
          "output_type": "stream",
          "text": [
            "2019-02-16 20:34:30 | itr #44 | Processing samples...\n"
          ],
          "name": "stdout"
        },
        {
          "output_type": "stream",
          "text": [
            "\n",
            "Total time elapsed: 00:00:00\n"
          ],
          "name": "stderr"
        },
        {
          "output_type": "stream",
          "text": [
            "2019-02-16 20:34:30 | itr #44 | Logging diagnostics...\n",
            "2019-02-16 20:34:30 | itr #44 | Optimizing policy...\n",
            "2019-02-16 20:34:30 | itr #44 | Computing loss before\n",
            "2019-02-16 20:34:30 | itr #44 | Computing KL before\n",
            "2019-02-16 20:34:30 | itr #44 | Optimizing\n",
            "2019-02-16 20:34:30 | itr #44 | Start CG optimization: #parameters: 1480, #inputs: 200, #subsample_inputs: 200\n",
            "2019-02-16 20:34:30 | itr #44 | computing loss before\n",
            "2019-02-16 20:34:30 | itr #44 | performing update\n",
            "2019-02-16 20:34:30 | itr #44 | computing gradient\n",
            "2019-02-16 20:34:30 | itr #44 | gradient computed\n",
            "2019-02-16 20:34:30 | itr #44 | computing descent direction\n",
            "2019-02-16 20:34:30 | itr #44 | descent direction computed\n",
            "2019-02-16 20:34:31 | itr #44 | backtrack iters: 10\n",
            "2019-02-16 20:34:31 | itr #44 | computing loss after\n",
            "2019-02-16 20:34:31 | itr #44 | optimization finished\n",
            "2019-02-16 20:34:31 | itr #44 | Computing KL after\n",
            "2019-02-16 20:34:31 | itr #44 | Computing loss after\n",
            "2019-02-16 20:34:31 | itr #44 | Fitting baseline...\n",
            "2019-02-16 20:34:31 | itr #44 | Saving snapshot...\n",
            "2019-02-16 20:34:31 | itr #44 | Saved\n",
            "2019-02-16 20:34:31 | --------------------------  -------------\n",
            "2019-02-16 20:34:31 | AverageDiscountedReturn      27.6816\n",
            "2019-02-16 20:34:31 | AverageReturn                29.37\n",
            "2019-02-16 20:34:31 | Baseline/ExplainedVariance    0.735672\n",
            "2019-02-16 20:34:31 | Entropy                       0.689248\n",
            "2019-02-16 20:34:31 | EnvExecTime                   0.358425\n",
            "2019-02-16 20:34:31 | Iteration                    44\n",
            "2019-02-16 20:34:31 | ItrTime                       0.96532\n",
            "2019-02-16 20:34:31 | MaxReturn                    41\n",
            "2019-02-16 20:34:31 | MinReturn                     8\n",
            "2019-02-16 20:34:31 | NumTrajs                    200\n",
            "2019-02-16 20:34:31 | Perplexity                    1.99222\n",
            "2019-02-16 20:34:31 | PolicyExecTime                0.254565\n",
            "2019-02-16 20:34:31 | ProcessExecTime               0.0215404\n",
            "2019-02-16 20:34:31 | StdReturn                     5.13839\n",
            "2019-02-16 20:34:31 | Time                         47.7658\n",
            "2019-02-16 20:34:31 | policy/Entropy                0.437507\n",
            "2019-02-16 20:34:31 | policy/KL                     0.000101823\n",
            "2019-02-16 20:34:31 | policy/KLBefore               0\n",
            "2019-02-16 20:34:31 | policy/LossAfter             -0.000981576\n",
            "2019-02-16 20:34:31 | policy/LossBefore            -7.62939e-09\n",
            "2019-02-16 20:34:31 | policy/dLoss                  0.000981568\n",
            "2019-02-16 20:34:31 | --------------------------  -------------\n",
            "2019-02-16 20:34:31 | itr #45 | Obtaining samples...\n",
            "2019-02-16 20:34:31 | itr #45 | Obtaining samples for iteration 45...\n"
          ],
          "name": "stdout"
        },
        {
          "output_type": "stream",
          "text": [
            "0% [##############################] 100% | ETA: 00:00:00"
          ],
          "name": "stderr"
        },
        {
          "output_type": "stream",
          "text": [
            "2019-02-16 20:34:31 | itr #45 | Processing samples...\n"
          ],
          "name": "stdout"
        },
        {
          "output_type": "stream",
          "text": [
            "\n",
            "Total time elapsed: 00:00:00\n"
          ],
          "name": "stderr"
        },
        {
          "output_type": "stream",
          "text": [
            "2019-02-16 20:34:31 | itr #45 | Logging diagnostics...\n",
            "2019-02-16 20:34:31 | itr #45 | Optimizing policy...\n",
            "2019-02-16 20:34:31 | itr #45 | Computing loss before\n",
            "2019-02-16 20:34:31 | itr #45 | Computing KL before\n",
            "2019-02-16 20:34:31 | itr #45 | Optimizing\n",
            "2019-02-16 20:34:31 | itr #45 | Start CG optimization: #parameters: 1480, #inputs: 200, #subsample_inputs: 200\n",
            "2019-02-16 20:34:31 | itr #45 | computing loss before\n",
            "2019-02-16 20:34:31 | itr #45 | performing update\n",
            "2019-02-16 20:34:31 | itr #45 | computing gradient\n",
            "2019-02-16 20:34:31 | itr #45 | gradient computed\n",
            "2019-02-16 20:34:31 | itr #45 | computing descent direction\n",
            "2019-02-16 20:34:31 | itr #45 | descent direction computed\n",
            "2019-02-16 20:34:32 | itr #45 | backtrack iters: 10\n",
            "2019-02-16 20:34:32 | itr #45 | computing loss after\n",
            "2019-02-16 20:34:32 | itr #45 | optimization finished\n",
            "2019-02-16 20:34:32 | itr #45 | Computing KL after\n",
            "2019-02-16 20:34:32 | itr #45 | Computing loss after\n",
            "2019-02-16 20:34:32 | itr #45 | Fitting baseline...\n",
            "2019-02-16 20:34:32 | itr #45 | Saving snapshot...\n",
            "2019-02-16 20:34:32 | itr #45 | Saved\n",
            "2019-02-16 20:34:32 | --------------------------  -------------\n",
            "2019-02-16 20:34:32 | AverageDiscountedReturn      27.8188\n",
            "2019-02-16 20:34:32 | AverageReturn                29.51\n",
            "2019-02-16 20:34:32 | Baseline/ExplainedVariance    0.728994\n",
            "2019-02-16 20:34:32 | Entropy                       0.682707\n",
            "2019-02-16 20:34:32 | EnvExecTime                   0.365754\n",
            "2019-02-16 20:34:32 | Iteration                    45\n",
            "2019-02-16 20:34:32 | ItrTime                       0.973985\n",
            "2019-02-16 20:34:32 | MaxReturn                    49\n",
            "2019-02-16 20:34:32 | MinReturn                     9\n",
            "2019-02-16 20:34:32 | NumTrajs                    200\n",
            "2019-02-16 20:34:32 | Perplexity                    1.97923\n",
            "2019-02-16 20:34:32 | PolicyExecTime                0.258989\n",
            "2019-02-16 20:34:32 | ProcessExecTime               0.0203323\n",
            "2019-02-16 20:34:32 | StdReturn                     5.84721\n",
            "2019-02-16 20:34:32 | Time                         48.788\n",
            "2019-02-16 20:34:32 | policy/Entropy                0.437763\n",
            "2019-02-16 20:34:32 | policy/KL                     0.00020278\n",
            "2019-02-16 20:34:32 | policy/KLBefore               0\n",
            "2019-02-16 20:34:32 | policy/LossAfter             -0.000296679\n",
            "2019-02-16 20:34:32 | policy/LossBefore             3.8147e-09\n",
            "2019-02-16 20:34:32 | policy/dLoss                  0.000296682\n",
            "2019-02-16 20:34:32 | --------------------------  -------------\n",
            "2019-02-16 20:34:32 | itr #46 | Obtaining samples...\n",
            "2019-02-16 20:34:32 | itr #46 | Obtaining samples for iteration 46...\n"
          ],
          "name": "stdout"
        },
        {
          "output_type": "stream",
          "text": [
            "0% [##############################] 100% | ETA: 00:00:00"
          ],
          "name": "stderr"
        },
        {
          "output_type": "stream",
          "text": [
            "2019-02-16 20:34:32 | itr #46 | Processing samples...\n"
          ],
          "name": "stdout"
        },
        {
          "output_type": "stream",
          "text": [
            "\n",
            "Total time elapsed: 00:00:00\n"
          ],
          "name": "stderr"
        },
        {
          "output_type": "stream",
          "text": [
            "2019-02-16 20:34:32 | itr #46 | Logging diagnostics...\n",
            "2019-02-16 20:34:32 | itr #46 | Optimizing policy...\n",
            "2019-02-16 20:34:32 | itr #46 | Computing loss before\n",
            "2019-02-16 20:34:32 | itr #46 | Computing KL before\n",
            "2019-02-16 20:34:32 | itr #46 | Optimizing\n",
            "2019-02-16 20:34:32 | itr #46 | Start CG optimization: #parameters: 1480, #inputs: 200, #subsample_inputs: 200\n",
            "2019-02-16 20:34:32 | itr #46 | computing loss before\n",
            "2019-02-16 20:34:32 | itr #46 | performing update\n",
            "2019-02-16 20:34:32 | itr #46 | computing gradient\n",
            "2019-02-16 20:34:32 | itr #46 | gradient computed\n",
            "2019-02-16 20:34:32 | itr #46 | computing descent direction\n",
            "2019-02-16 20:34:32 | itr #46 | descent direction computed\n",
            "2019-02-16 20:34:33 | itr #46 | backtrack iters: 0\n",
            "2019-02-16 20:34:33 | itr #46 | computing loss after\n",
            "2019-02-16 20:34:33 | itr #46 | optimization finished\n",
            "2019-02-16 20:34:33 | itr #46 | Computing KL after\n",
            "2019-02-16 20:34:33 | itr #46 | Computing loss after\n",
            "2019-02-16 20:34:33 | itr #46 | Fitting baseline...\n",
            "2019-02-16 20:34:33 | itr #46 | Saving snapshot...\n",
            "2019-02-16 20:34:33 | itr #46 | Saved\n",
            "2019-02-16 20:34:33 | --------------------------  -------------\n",
            "2019-02-16 20:34:33 | AverageDiscountedReturn      27.9911\n",
            "2019-02-16 20:34:33 | AverageReturn                29.625\n",
            "2019-02-16 20:34:33 | Baseline/ExplainedVariance    0.735913\n",
            "2019-02-16 20:34:33 | Entropy                       0.660426\n",
            "2019-02-16 20:34:33 | EnvExecTime                   0.358274\n",
            "2019-02-16 20:34:33 | Iteration                    46\n",
            "2019-02-16 20:34:33 | ItrTime                       0.921973\n",
            "2019-02-16 20:34:33 | MaxReturn                    45\n",
            "2019-02-16 20:34:33 | MinReturn                     9\n",
            "2019-02-16 20:34:33 | NumTrajs                    200\n",
            "2019-02-16 20:34:33 | Perplexity                    1.93562\n",
            "2019-02-16 20:34:33 | PolicyExecTime                0.27462\n",
            "2019-02-16 20:34:33 | ProcessExecTime               0.0239496\n",
            "2019-02-16 20:34:33 | StdReturn                     5.27867\n",
            "2019-02-16 20:34:33 | Time                         49.7392\n",
            "2019-02-16 20:34:33 | policy/Entropy                0.451626\n",
            "2019-02-16 20:34:33 | policy/KL                     0.00594252\n",
            "2019-02-16 20:34:33 | policy/KLBefore               0\n",
            "2019-02-16 20:34:33 | policy/LossAfter             -0.0132775\n",
            "2019-02-16 20:34:33 | policy/LossBefore             6.67572e-09\n",
            "2019-02-16 20:34:33 | policy/dLoss                  0.0132775\n",
            "2019-02-16 20:34:33 | --------------------------  -------------\n",
            "2019-02-16 20:34:33 | itr #47 | Obtaining samples...\n",
            "2019-02-16 20:34:33 | itr #47 | Obtaining samples for iteration 47...\n"
          ],
          "name": "stdout"
        },
        {
          "output_type": "stream",
          "text": [
            "0% [##############################] 100% | ETA: 00:00:00"
          ],
          "name": "stderr"
        },
        {
          "output_type": "stream",
          "text": [
            "2019-02-16 20:34:33 | itr #47 | Processing samples...\n"
          ],
          "name": "stdout"
        },
        {
          "output_type": "stream",
          "text": [
            "\n",
            "Total time elapsed: 00:00:00\n"
          ],
          "name": "stderr"
        },
        {
          "output_type": "stream",
          "text": [
            "2019-02-16 20:34:33 | itr #47 | Logging diagnostics...\n",
            "2019-02-16 20:34:33 | itr #47 | Optimizing policy...\n",
            "2019-02-16 20:34:33 | itr #47 | Computing loss before\n",
            "2019-02-16 20:34:33 | itr #47 | Computing KL before\n",
            "2019-02-16 20:34:33 | itr #47 | Optimizing\n",
            "2019-02-16 20:34:33 | itr #47 | Start CG optimization: #parameters: 1480, #inputs: 200, #subsample_inputs: 200\n",
            "2019-02-16 20:34:33 | itr #47 | computing loss before\n",
            "2019-02-16 20:34:33 | itr #47 | performing update\n",
            "2019-02-16 20:34:33 | itr #47 | computing gradient\n",
            "2019-02-16 20:34:33 | itr #47 | gradient computed\n",
            "2019-02-16 20:34:33 | itr #47 | computing descent direction\n",
            "2019-02-16 20:34:33 | itr #47 | descent direction computed\n",
            "2019-02-16 20:34:33 | itr #47 | backtrack iters: 0\n",
            "2019-02-16 20:34:33 | itr #47 | computing loss after\n",
            "2019-02-16 20:34:33 | itr #47 | optimization finished\n",
            "2019-02-16 20:34:33 | itr #47 | Computing KL after\n",
            "2019-02-16 20:34:33 | itr #47 | Computing loss after\n",
            "2019-02-16 20:34:34 | itr #47 | Fitting baseline...\n",
            "2019-02-16 20:34:34 | itr #47 | Saving snapshot...\n",
            "2019-02-16 20:34:34 | itr #47 | Saved\n",
            "2019-02-16 20:34:34 | --------------------------  -------------\n",
            "2019-02-16 20:34:34 | AverageDiscountedReturn      28.2512\n",
            "2019-02-16 20:34:34 | AverageReturn                29.97\n",
            "2019-02-16 20:34:34 | Baseline/ExplainedVariance    0.723841\n",
            "2019-02-16 20:34:34 | Entropy                       0.609183\n",
            "2019-02-16 20:34:34 | EnvExecTime                   0.344461\n",
            "2019-02-16 20:34:34 | Iteration                    47\n",
            "2019-02-16 20:34:34 | ItrTime                       0.900723\n",
            "2019-02-16 20:34:34 | MaxReturn                    48\n",
            "2019-02-16 20:34:34 | MinReturn                    11\n",
            "2019-02-16 20:34:34 | NumTrajs                    200\n",
            "2019-02-16 20:34:34 | Perplexity                    1.83893\n",
            "2019-02-16 20:34:34 | PolicyExecTime                0.278618\n",
            "2019-02-16 20:34:34 | ProcessExecTime               0.0200264\n",
            "2019-02-16 20:34:34 | StdReturn                     5.22294\n",
            "2019-02-16 20:34:34 | Time                         50.696\n",
            "2019-02-16 20:34:34 | policy/Entropy                0.464111\n",
            "2019-02-16 20:34:34 | policy/KL                     0.00238043\n",
            "2019-02-16 20:34:34 | policy/KLBefore               0\n",
            "2019-02-16 20:34:34 | policy/LossAfter             -0.0067655\n",
            "2019-02-16 20:34:34 | policy/LossBefore             1.52588e-08\n",
            "2019-02-16 20:34:34 | policy/dLoss                  0.00676551\n",
            "2019-02-16 20:34:34 | --------------------------  -------------\n",
            "2019-02-16 20:34:34 | itr #48 | Obtaining samples...\n",
            "2019-02-16 20:34:34 | itr #48 | Obtaining samples for iteration 48...\n"
          ],
          "name": "stdout"
        },
        {
          "output_type": "stream",
          "text": [
            "0% [##############################] 100% | ETA: 00:00:00"
          ],
          "name": "stderr"
        },
        {
          "output_type": "stream",
          "text": [
            "2019-02-16 20:34:34 | itr #48 | Processing samples...\n"
          ],
          "name": "stdout"
        },
        {
          "output_type": "stream",
          "text": [
            "\n",
            "Total time elapsed: 00:00:00\n"
          ],
          "name": "stderr"
        },
        {
          "output_type": "stream",
          "text": [
            "2019-02-16 20:34:34 | itr #48 | Logging diagnostics...\n",
            "2019-02-16 20:34:34 | itr #48 | Optimizing policy...\n",
            "2019-02-16 20:34:34 | itr #48 | Computing loss before\n",
            "2019-02-16 20:34:34 | itr #48 | Computing KL before\n",
            "2019-02-16 20:34:34 | itr #48 | Optimizing\n",
            "2019-02-16 20:34:34 | itr #48 | Start CG optimization: #parameters: 1480, #inputs: 200, #subsample_inputs: 200\n",
            "2019-02-16 20:34:34 | itr #48 | computing loss before\n",
            "2019-02-16 20:34:34 | itr #48 | performing update\n",
            "2019-02-16 20:34:34 | itr #48 | computing gradient\n",
            "2019-02-16 20:34:34 | itr #48 | gradient computed\n",
            "2019-02-16 20:34:34 | itr #48 | computing descent direction\n",
            "2019-02-16 20:34:34 | itr #48 | descent direction computed\n",
            "2019-02-16 20:34:34 | itr #48 | backtrack iters: 0\n",
            "2019-02-16 20:34:34 | itr #48 | computing loss after\n",
            "2019-02-16 20:34:34 | itr #48 | optimization finished\n",
            "2019-02-16 20:34:34 | itr #48 | Computing KL after\n",
            "2019-02-16 20:34:34 | itr #48 | Computing loss after\n",
            "2019-02-16 20:34:34 | itr #48 | Fitting baseline...\n",
            "2019-02-16 20:34:34 | itr #48 | Saving snapshot...\n",
            "2019-02-16 20:34:34 | itr #48 | Saved\n",
            "2019-02-16 20:34:34 | --------------------------  -------------\n",
            "2019-02-16 20:34:34 | AverageDiscountedReturn      28.8289\n",
            "2019-02-16 20:34:34 | AverageReturn                30.62\n",
            "2019-02-16 20:34:34 | Baseline/ExplainedVariance    0.789231\n",
            "2019-02-16 20:34:34 | Entropy                       0.556235\n",
            "2019-02-16 20:34:34 | EnvExecTime                   0.371366\n",
            "2019-02-16 20:34:34 | Iteration                    48\n",
            "2019-02-16 20:34:34 | ItrTime                       0.908795\n",
            "2019-02-16 20:34:34 | MaxReturn                    49\n",
            "2019-02-16 20:34:34 | MinReturn                    11\n",
            "2019-02-16 20:34:34 | NumTrajs                    200\n",
            "2019-02-16 20:34:34 | Perplexity                    1.74409\n",
            "2019-02-16 20:34:34 | PolicyExecTime                0.260923\n",
            "2019-02-16 20:34:34 | ProcessExecTime               0.0233951\n",
            "2019-02-16 20:34:34 | StdReturn                     4.46941\n",
            "2019-02-16 20:34:34 | Time                         51.6374\n",
            "2019-02-16 20:34:34 | policy/Entropy                0.481737\n",
            "2019-02-16 20:34:34 | policy/KL                     0.00646129\n",
            "2019-02-16 20:34:34 | policy/KLBefore               0\n",
            "2019-02-16 20:34:34 | policy/LossAfter             -0.0104581\n",
            "2019-02-16 20:34:34 | policy/LossBefore            -5.72205e-09\n",
            "2019-02-16 20:34:34 | policy/dLoss                  0.0104581\n",
            "2019-02-16 20:34:34 | --------------------------  -------------\n",
            "2019-02-16 20:34:34 | itr #49 | Obtaining samples...\n",
            "2019-02-16 20:34:34 | itr #49 | Obtaining samples for iteration 49...\n"
          ],
          "name": "stdout"
        },
        {
          "output_type": "stream",
          "text": [
            "0% [##############################] 100% | ETA: 00:00:00"
          ],
          "name": "stderr"
        },
        {
          "output_type": "stream",
          "text": [
            "2019-02-16 20:34:35 | itr #49 | Processing samples...\n"
          ],
          "name": "stdout"
        },
        {
          "output_type": "stream",
          "text": [
            "\n",
            "Total time elapsed: 00:00:00\n"
          ],
          "name": "stderr"
        },
        {
          "output_type": "stream",
          "text": [
            "2019-02-16 20:34:35 | itr #49 | Logging diagnostics...\n",
            "2019-02-16 20:34:35 | itr #49 | Optimizing policy...\n",
            "2019-02-16 20:34:35 | itr #49 | Computing loss before\n",
            "2019-02-16 20:34:35 | itr #49 | Computing KL before\n",
            "2019-02-16 20:34:35 | itr #49 | Optimizing\n",
            "2019-02-16 20:34:35 | itr #49 | Start CG optimization: #parameters: 1480, #inputs: 200, #subsample_inputs: 200\n",
            "2019-02-16 20:34:35 | itr #49 | computing loss before\n",
            "2019-02-16 20:34:35 | itr #49 | performing update\n",
            "2019-02-16 20:34:35 | itr #49 | computing gradient\n",
            "2019-02-16 20:34:35 | itr #49 | gradient computed\n",
            "2019-02-16 20:34:35 | itr #49 | computing descent direction\n",
            "2019-02-16 20:34:35 | itr #49 | descent direction computed\n",
            "2019-02-16 20:34:35 | itr #49 | backtrack iters: 13\n",
            "2019-02-16 20:34:35 | itr #49 | computing loss after\n",
            "2019-02-16 20:34:35 | itr #49 | optimization finished\n",
            "2019-02-16 20:34:35 | itr #49 | Computing KL after\n",
            "2019-02-16 20:34:35 | itr #49 | Computing loss after\n",
            "2019-02-16 20:34:35 | itr #49 | Fitting baseline...\n",
            "2019-02-16 20:34:35 | itr #49 | Saving snapshot...\n",
            "2019-02-16 20:34:35 | itr #49 | Saved\n",
            "2019-02-16 20:34:36 | --------------------------  -------------\n",
            "2019-02-16 20:34:36 | AverageDiscountedReturn      29.4461\n",
            "2019-02-16 20:34:36 | AverageReturn                31.14\n",
            "2019-02-16 20:34:36 | Baseline/ExplainedVariance    0.771747\n",
            "2019-02-16 20:34:36 | Entropy                       0.496501\n",
            "2019-02-16 20:34:36 | EnvExecTime                   0.378054\n",
            "2019-02-16 20:34:36 | Iteration                    49\n",
            "2019-02-16 20:34:36 | ItrTime                       1.0101\n",
            "2019-02-16 20:34:36 | MaxReturn                    46\n",
            "2019-02-16 20:34:36 | MinReturn                    12\n",
            "2019-02-16 20:34:36 | NumTrajs                    200\n",
            "2019-02-16 20:34:36 | Perplexity                    1.64296\n",
            "2019-02-16 20:34:36 | PolicyExecTime                0.26635\n",
            "2019-02-16 20:34:36 | ProcessExecTime               0.0240498\n",
            "2019-02-16 20:34:36 | StdReturn                     4.95988\n",
            "2019-02-16 20:34:36 | Time                         52.6838\n",
            "2019-02-16 20:34:36 | policy/Entropy                0.491728\n",
            "2019-02-16 20:34:36 | policy/KL                     0.00380578\n",
            "2019-02-16 20:34:36 | policy/KLBefore               0\n",
            "2019-02-16 20:34:36 | policy/LossAfter             -0.000579584\n",
            "2019-02-16 20:34:36 | policy/LossBefore            -0\n",
            "2019-02-16 20:34:36 | policy/dLoss                  0.000579584\n",
            "2019-02-16 20:34:36 | --------------------------  -------------\n",
            "2019-02-16 20:34:36 | itr #50 | Obtaining samples...\n",
            "2019-02-16 20:34:36 | itr #50 | Obtaining samples for iteration 50...\n"
          ],
          "name": "stdout"
        },
        {
          "output_type": "stream",
          "text": [
            "0% [##############################] 100% | ETA: 00:00:00"
          ],
          "name": "stderr"
        },
        {
          "output_type": "stream",
          "text": [
            "2019-02-16 20:34:36 | itr #50 | Processing samples...\n"
          ],
          "name": "stdout"
        },
        {
          "output_type": "stream",
          "text": [
            "\n",
            "Total time elapsed: 00:00:00\n"
          ],
          "name": "stderr"
        },
        {
          "output_type": "stream",
          "text": [
            "2019-02-16 20:34:36 | itr #50 | Logging diagnostics...\n",
            "2019-02-16 20:34:36 | itr #50 | Optimizing policy...\n",
            "2019-02-16 20:34:36 | itr #50 | Computing loss before\n",
            "2019-02-16 20:34:36 | itr #50 | Computing KL before\n",
            "2019-02-16 20:34:36 | itr #50 | Optimizing\n",
            "2019-02-16 20:34:36 | itr #50 | Start CG optimization: #parameters: 1480, #inputs: 200, #subsample_inputs: 200\n",
            "2019-02-16 20:34:36 | itr #50 | computing loss before\n",
            "2019-02-16 20:34:36 | itr #50 | performing update\n",
            "2019-02-16 20:34:36 | itr #50 | computing gradient\n",
            "2019-02-16 20:34:36 | itr #50 | gradient computed\n",
            "2019-02-16 20:34:36 | itr #50 | computing descent direction\n",
            "2019-02-16 20:34:36 | itr #50 | descent direction computed\n",
            "2019-02-16 20:34:36 | itr #50 | backtrack iters: 2\n",
            "2019-02-16 20:34:36 | itr #50 | computing loss after\n",
            "2019-02-16 20:34:36 | itr #50 | optimization finished\n",
            "2019-02-16 20:34:36 | itr #50 | Computing KL after\n",
            "2019-02-16 20:34:36 | itr #50 | Computing loss after\n",
            "2019-02-16 20:34:36 | itr #50 | Fitting baseline...\n",
            "2019-02-16 20:34:36 | itr #50 | Saving snapshot...\n",
            "2019-02-16 20:34:36 | itr #50 | Saved\n",
            "2019-02-16 20:34:36 | --------------------------  -------------\n",
            "2019-02-16 20:34:36 | AverageDiscountedReturn      29.7122\n",
            "2019-02-16 20:34:36 | AverageReturn                31.56\n",
            "2019-02-16 20:34:36 | Baseline/ExplainedVariance    0.813316\n",
            "2019-02-16 20:34:36 | Entropy                       0.511345\n",
            "2019-02-16 20:34:36 | EnvExecTime                   0.357229\n",
            "2019-02-16 20:34:36 | Iteration                    50\n",
            "2019-02-16 20:34:36 | ItrTime                       0.924294\n",
            "2019-02-16 20:34:36 | MaxReturn                    45\n",
            "2019-02-16 20:34:36 | MinReturn                    17\n",
            "2019-02-16 20:34:36 | NumTrajs                    200\n",
            "2019-02-16 20:34:36 | Perplexity                    1.66753\n",
            "2019-02-16 20:34:36 | PolicyExecTime                0.27737\n",
            "2019-02-16 20:34:36 | ProcessExecTime               0.0207622\n",
            "2019-02-16 20:34:36 | StdReturn                     3.68054\n",
            "2019-02-16 20:34:36 | Time                         53.6386\n",
            "2019-02-16 20:34:36 | policy/Entropy                0.489503\n",
            "2019-02-16 20:34:36 | policy/KL                     0.00749046\n",
            "2019-02-16 20:34:36 | policy/KLBefore               0\n",
            "2019-02-16 20:34:36 | policy/LossAfter             -0.00138776\n",
            "2019-02-16 20:34:36 | policy/LossBefore            -2.47955e-08\n",
            "2019-02-16 20:34:36 | policy/dLoss                  0.00138773\n",
            "2019-02-16 20:34:36 | --------------------------  -------------\n",
            "2019-02-16 20:34:36 | itr #51 | Obtaining samples...\n",
            "2019-02-16 20:34:36 | itr #51 | Obtaining samples for iteration 51...\n"
          ],
          "name": "stdout"
        },
        {
          "output_type": "stream",
          "text": [
            "0% [##############################] 100% | ETA: 00:00:00"
          ],
          "name": "stderr"
        },
        {
          "output_type": "stream",
          "text": [
            "2019-02-16 20:34:37 | itr #51 | Processing samples...\n"
          ],
          "name": "stdout"
        },
        {
          "output_type": "stream",
          "text": [
            "\n",
            "Total time elapsed: 00:00:00\n"
          ],
          "name": "stderr"
        },
        {
          "output_type": "stream",
          "text": [
            "2019-02-16 20:34:37 | itr #51 | Logging diagnostics...\n",
            "2019-02-16 20:34:37 | itr #51 | Optimizing policy...\n",
            "2019-02-16 20:34:37 | itr #51 | Computing loss before\n",
            "2019-02-16 20:34:37 | itr #51 | Computing KL before\n",
            "2019-02-16 20:34:37 | itr #51 | Optimizing\n",
            "2019-02-16 20:34:37 | itr #51 | Start CG optimization: #parameters: 1480, #inputs: 200, #subsample_inputs: 200\n",
            "2019-02-16 20:34:37 | itr #51 | computing loss before\n",
            "2019-02-16 20:34:37 | itr #51 | performing update\n",
            "2019-02-16 20:34:37 | itr #51 | computing gradient\n",
            "2019-02-16 20:34:37 | itr #51 | gradient computed\n",
            "2019-02-16 20:34:37 | itr #51 | computing descent direction\n",
            "2019-02-16 20:34:37 | itr #51 | descent direction computed\n",
            "2019-02-16 20:34:37 | itr #51 | backtrack iters: 2\n",
            "2019-02-16 20:34:37 | itr #51 | computing loss after\n",
            "2019-02-16 20:34:37 | itr #51 | optimization finished\n",
            "2019-02-16 20:34:37 | itr #51 | Computing KL after\n",
            "2019-02-16 20:34:37 | itr #51 | Computing loss after\n",
            "2019-02-16 20:34:37 | itr #51 | Fitting baseline...\n",
            "2019-02-16 20:34:37 | itr #51 | Saving snapshot...\n",
            "2019-02-16 20:34:37 | itr #51 | Saved\n",
            "2019-02-16 20:34:37 | --------------------------  -------------\n",
            "2019-02-16 20:34:37 | AverageDiscountedReturn      27.8701\n",
            "2019-02-16 20:34:37 | AverageReturn                29.59\n",
            "2019-02-16 20:34:37 | Baseline/ExplainedVariance    0.67945\n",
            "2019-02-16 20:34:37 | Entropy                       0.494262\n",
            "2019-02-16 20:34:37 | EnvExecTime                   0.36893\n",
            "2019-02-16 20:34:37 | Iteration                    51\n",
            "2019-02-16 20:34:37 | ItrTime                       0.942209\n",
            "2019-02-16 20:34:37 | MaxReturn                    43\n",
            "2019-02-16 20:34:37 | MinReturn                    12\n",
            "2019-02-16 20:34:37 | NumTrajs                    200\n",
            "2019-02-16 20:34:37 | Perplexity                    1.63929\n",
            "2019-02-16 20:34:37 | PolicyExecTime                0.259065\n",
            "2019-02-16 20:34:37 | ProcessExecTime               0.022496\n",
            "2019-02-16 20:34:37 | StdReturn                     6.28505\n",
            "2019-02-16 20:34:37 | Time                         54.6125\n",
            "2019-02-16 20:34:37 | policy/Entropy                0.495128\n",
            "2019-02-16 20:34:37 | policy/KL                     0.00107835\n",
            "2019-02-16 20:34:37 | policy/KLBefore               0\n",
            "2019-02-16 20:34:37 | policy/LossAfter             -0.00705461\n",
            "2019-02-16 20:34:37 | policy/LossBefore             5.72205e-09\n",
            "2019-02-16 20:34:37 | policy/dLoss                  0.00705462\n",
            "2019-02-16 20:34:37 | --------------------------  -------------\n",
            "2019-02-16 20:34:37 | itr #52 | Obtaining samples...\n",
            "2019-02-16 20:34:37 | itr #52 | Obtaining samples for iteration 52...\n"
          ],
          "name": "stdout"
        },
        {
          "output_type": "stream",
          "text": [
            "0% [##############################] 100% | ETA: 00:00:00"
          ],
          "name": "stderr"
        },
        {
          "output_type": "stream",
          "text": [
            "2019-02-16 20:34:38 | itr #52 | Processing samples...\n"
          ],
          "name": "stdout"
        },
        {
          "output_type": "stream",
          "text": [
            "\n",
            "Total time elapsed: 00:00:00\n"
          ],
          "name": "stderr"
        },
        {
          "output_type": "stream",
          "text": [
            "2019-02-16 20:34:38 | itr #52 | Logging diagnostics...\n",
            "2019-02-16 20:34:38 | itr #52 | Optimizing policy...\n",
            "2019-02-16 20:34:38 | itr #52 | Computing loss before\n",
            "2019-02-16 20:34:38 | itr #52 | Computing KL before\n",
            "2019-02-16 20:34:38 | itr #52 | Optimizing\n",
            "2019-02-16 20:34:38 | itr #52 | Start CG optimization: #parameters: 1480, #inputs: 200, #subsample_inputs: 200\n",
            "2019-02-16 20:34:38 | itr #52 | computing loss before\n",
            "2019-02-16 20:34:38 | itr #52 | performing update\n",
            "2019-02-16 20:34:38 | itr #52 | computing gradient\n",
            "2019-02-16 20:34:38 | itr #52 | gradient computed\n",
            "2019-02-16 20:34:38 | itr #52 | computing descent direction\n",
            "2019-02-16 20:34:38 | itr #52 | descent direction computed\n",
            "2019-02-16 20:34:38 | itr #52 | backtrack iters: 12\n",
            "2019-02-16 20:34:38 | itr #52 | computing loss after\n",
            "2019-02-16 20:34:38 | itr #52 | optimization finished\n",
            "2019-02-16 20:34:38 | itr #52 | Computing KL after\n",
            "2019-02-16 20:34:38 | itr #52 | Computing loss after\n",
            "2019-02-16 20:34:38 | itr #52 | Fitting baseline...\n",
            "2019-02-16 20:34:38 | itr #52 | Saving snapshot...\n",
            "2019-02-16 20:34:38 | itr #52 | Saved\n",
            "2019-02-16 20:34:38 | --------------------------  -------------\n",
            "2019-02-16 20:34:38 | AverageDiscountedReturn      28.6196\n",
            "2019-02-16 20:34:38 | AverageReturn                30.385\n",
            "2019-02-16 20:34:38 | Baseline/ExplainedVariance    0.704986\n",
            "2019-02-16 20:34:38 | Entropy                       0.475003\n",
            "2019-02-16 20:34:38 | EnvExecTime                   0.360827\n",
            "2019-02-16 20:34:38 | Iteration                    52\n",
            "2019-02-16 20:34:38 | ItrTime                       0.984837\n",
            "2019-02-16 20:34:38 | MaxReturn                    46\n",
            "2019-02-16 20:34:38 | MinReturn                    13\n",
            "2019-02-16 20:34:38 | NumTrajs                    200\n",
            "2019-02-16 20:34:38 | Perplexity                    1.60802\n",
            "2019-02-16 20:34:38 | PolicyExecTime                0.270832\n",
            "2019-02-16 20:34:38 | ProcessExecTime               0.0209832\n",
            "2019-02-16 20:34:38 | StdReturn                     5.63886\n",
            "2019-02-16 20:34:38 | Time                         55.6512\n",
            "2019-02-16 20:34:38 | policy/Entropy                0.496998\n",
            "2019-02-16 20:34:38 | policy/KL                     3.85744e-05\n",
            "2019-02-16 20:34:38 | policy/KLBefore               0\n",
            "2019-02-16 20:34:38 | policy/LossAfter             -0.000304119\n",
            "2019-02-16 20:34:38 | policy/LossBefore             9.53674e-10\n",
            "2019-02-16 20:34:38 | policy/dLoss                  0.00030412\n",
            "2019-02-16 20:34:38 | --------------------------  -------------\n",
            "2019-02-16 20:34:38 | itr #53 | Obtaining samples...\n",
            "2019-02-16 20:34:39 | itr #53 | Obtaining samples for iteration 53...\n"
          ],
          "name": "stdout"
        },
        {
          "output_type": "stream",
          "text": [
            "0% [##############################] 100% | ETA: 00:00:00"
          ],
          "name": "stderr"
        },
        {
          "output_type": "stream",
          "text": [
            "2019-02-16 20:34:39 | itr #53 | Processing samples...\n"
          ],
          "name": "stdout"
        },
        {
          "output_type": "stream",
          "text": [
            "\n",
            "Total time elapsed: 00:00:00\n"
          ],
          "name": "stderr"
        },
        {
          "output_type": "stream",
          "text": [
            "2019-02-16 20:34:39 | itr #53 | Logging diagnostics...\n",
            "2019-02-16 20:34:39 | itr #53 | Optimizing policy...\n",
            "2019-02-16 20:34:39 | itr #53 | Computing loss before\n",
            "2019-02-16 20:34:39 | itr #53 | Computing KL before\n",
            "2019-02-16 20:34:39 | itr #53 | Optimizing\n",
            "2019-02-16 20:34:39 | itr #53 | Start CG optimization: #parameters: 1480, #inputs: 200, #subsample_inputs: 200\n",
            "2019-02-16 20:34:39 | itr #53 | computing loss before\n",
            "2019-02-16 20:34:39 | itr #53 | performing update\n",
            "2019-02-16 20:34:39 | itr #53 | computing gradient\n",
            "2019-02-16 20:34:39 | itr #53 | gradient computed\n",
            "2019-02-16 20:34:39 | itr #53 | computing descent direction\n",
            "2019-02-16 20:34:39 | itr #53 | descent direction computed\n",
            "2019-02-16 20:34:39 | itr #53 | backtrack iters: 2\n",
            "2019-02-16 20:34:39 | itr #53 | computing loss after\n",
            "2019-02-16 20:34:39 | itr #53 | optimization finished\n",
            "2019-02-16 20:34:39 | itr #53 | Computing KL after\n",
            "2019-02-16 20:34:39 | itr #53 | Computing loss after\n",
            "2019-02-16 20:34:39 | itr #53 | Fitting baseline...\n",
            "2019-02-16 20:34:39 | itr #53 | Saving snapshot...\n",
            "2019-02-16 20:34:39 | itr #53 | Saved\n",
            "2019-02-16 20:34:39 | --------------------------  -------------\n",
            "2019-02-16 20:34:39 | AverageDiscountedReturn      28.0209\n",
            "2019-02-16 20:34:39 | AverageReturn                29.825\n",
            "2019-02-16 20:34:39 | Baseline/ExplainedVariance    0.74105\n",
            "2019-02-16 20:34:39 | Entropy                       0.472768\n",
            "2019-02-16 20:34:39 | EnvExecTime                   0.356403\n",
            "2019-02-16 20:34:39 | Iteration                    53\n",
            "2019-02-16 20:34:39 | ItrTime                       0.918212\n",
            "2019-02-16 20:34:39 | MaxReturn                    42\n",
            "2019-02-16 20:34:39 | MinReturn                    12\n",
            "2019-02-16 20:34:39 | NumTrajs                    200\n",
            "2019-02-16 20:34:39 | Perplexity                    1.60443\n",
            "2019-02-16 20:34:39 | PolicyExecTime                0.270828\n",
            "2019-02-16 20:34:39 | ProcessExecTime               0.0216358\n",
            "2019-02-16 20:34:39 | StdReturn                     4.65235\n",
            "2019-02-16 20:34:39 | Time                         56.601\n",
            "2019-02-16 20:34:39 | policy/Entropy                0.49759\n",
            "2019-02-16 20:34:39 | policy/KL                     0.0028547\n",
            "2019-02-16 20:34:39 | policy/KLBefore               0\n",
            "2019-02-16 20:34:39 | policy/LossAfter             -0.00147351\n",
            "2019-02-16 20:34:39 | policy/LossBefore            -1.90735e-09\n",
            "2019-02-16 20:34:39 | policy/dLoss                  0.00147351\n",
            "2019-02-16 20:34:39 | --------------------------  -------------\n",
            "2019-02-16 20:34:39 | itr #54 | Obtaining samples...\n",
            "2019-02-16 20:34:39 | itr #54 | Obtaining samples for iteration 54...\n"
          ],
          "name": "stdout"
        },
        {
          "output_type": "stream",
          "text": [
            "0% [##############################] 100% | ETA: 00:00:00"
          ],
          "name": "stderr"
        },
        {
          "output_type": "stream",
          "text": [
            "2019-02-16 20:34:40 | itr #54 | Processing samples...\n"
          ],
          "name": "stdout"
        },
        {
          "output_type": "stream",
          "text": [
            "\n",
            "Total time elapsed: 00:00:00\n"
          ],
          "name": "stderr"
        },
        {
          "output_type": "stream",
          "text": [
            "2019-02-16 20:34:40 | itr #54 | Logging diagnostics...\n",
            "2019-02-16 20:34:40 | itr #54 | Optimizing policy...\n",
            "2019-02-16 20:34:40 | itr #54 | Computing loss before\n",
            "2019-02-16 20:34:40 | itr #54 | Computing KL before\n",
            "2019-02-16 20:34:40 | itr #54 | Optimizing\n",
            "2019-02-16 20:34:40 | itr #54 | Start CG optimization: #parameters: 1480, #inputs: 200, #subsample_inputs: 200\n",
            "2019-02-16 20:34:40 | itr #54 | computing loss before\n",
            "2019-02-16 20:34:40 | itr #54 | performing update\n",
            "2019-02-16 20:34:40 | itr #54 | computing gradient\n",
            "2019-02-16 20:34:40 | itr #54 | gradient computed\n",
            "2019-02-16 20:34:40 | itr #54 | computing descent direction\n",
            "2019-02-16 20:34:40 | itr #54 | descent direction computed\n",
            "2019-02-16 20:34:40 | itr #54 | backtrack iters: 2\n",
            "2019-02-16 20:34:40 | itr #54 | computing loss after\n",
            "2019-02-16 20:34:40 | itr #54 | optimization finished\n",
            "2019-02-16 20:34:40 | itr #54 | Computing KL after\n",
            "2019-02-16 20:34:40 | itr #54 | Computing loss after\n",
            "2019-02-16 20:34:40 | itr #54 | Fitting baseline...\n",
            "2019-02-16 20:34:40 | itr #54 | Saving snapshot...\n",
            "2019-02-16 20:34:40 | itr #54 | Saved\n",
            "2019-02-16 20:34:40 | --------------------------  -------------\n",
            "2019-02-16 20:34:40 | AverageDiscountedReturn      27.8243\n",
            "2019-02-16 20:34:40 | AverageReturn                29.54\n",
            "2019-02-16 20:34:40 | Baseline/ExplainedVariance    0.675157\n",
            "2019-02-16 20:34:40 | Entropy                       0.447041\n",
            "2019-02-16 20:34:40 | EnvExecTime                   0.353863\n",
            "2019-02-16 20:34:40 | Iteration                    54\n",
            "2019-02-16 20:34:40 | ItrTime                       0.922787\n",
            "2019-02-16 20:34:40 | MaxReturn                    46\n",
            "2019-02-16 20:34:40 | MinReturn                    11\n",
            "2019-02-16 20:34:40 | NumTrajs                    200\n",
            "2019-02-16 20:34:40 | Perplexity                    1.56368\n",
            "2019-02-16 20:34:40 | PolicyExecTime                0.270988\n",
            "2019-02-16 20:34:40 | ProcessExecTime               0.0278707\n",
            "2019-02-16 20:34:40 | StdReturn                     6.08345\n",
            "2019-02-16 20:34:40 | Time                         57.566\n",
            "2019-02-16 20:34:40 | policy/Entropy                0.500029\n",
            "2019-02-16 20:34:40 | policy/KL                     0.00661721\n",
            "2019-02-16 20:34:40 | policy/KLBefore               0\n",
            "2019-02-16 20:34:40 | policy/LossAfter             -0.00917877\n",
            "2019-02-16 20:34:40 | policy/LossBefore             5.72205e-09\n",
            "2019-02-16 20:34:40 | policy/dLoss                  0.00917877\n",
            "2019-02-16 20:34:40 | --------------------------  -------------\n",
            "2019-02-16 20:34:40 | itr #55 | Obtaining samples...\n",
            "2019-02-16 20:34:40 | itr #55 | Obtaining samples for iteration 55...\n"
          ],
          "name": "stdout"
        },
        {
          "output_type": "stream",
          "text": [
            "0% [##############################] 100% | ETA: 00:00:00"
          ],
          "name": "stderr"
        },
        {
          "output_type": "stream",
          "text": [
            "2019-02-16 20:34:41 | itr #55 | Processing samples...\n"
          ],
          "name": "stdout"
        },
        {
          "output_type": "stream",
          "text": [
            "\n",
            "Total time elapsed: 00:00:00\n"
          ],
          "name": "stderr"
        },
        {
          "output_type": "stream",
          "text": [
            "2019-02-16 20:34:41 | itr #55 | Logging diagnostics...\n",
            "2019-02-16 20:34:41 | itr #55 | Optimizing policy...\n",
            "2019-02-16 20:34:41 | itr #55 | Computing loss before\n",
            "2019-02-16 20:34:41 | itr #55 | Computing KL before\n",
            "2019-02-16 20:34:41 | itr #55 | Optimizing\n",
            "2019-02-16 20:34:41 | itr #55 | Start CG optimization: #parameters: 1480, #inputs: 200, #subsample_inputs: 200\n",
            "2019-02-16 20:34:41 | itr #55 | computing loss before\n",
            "2019-02-16 20:34:41 | itr #55 | performing update\n",
            "2019-02-16 20:34:41 | itr #55 | computing gradient\n",
            "2019-02-16 20:34:41 | itr #55 | gradient computed\n",
            "2019-02-16 20:34:41 | itr #55 | computing descent direction\n",
            "2019-02-16 20:34:41 | itr #55 | descent direction computed\n",
            "2019-02-16 20:34:41 | itr #55 | Line search condition violated. Rejecting the step!\n",
            "2019-02-16 20:34:41 | itr #55 | Violated because loss not improving\n",
            "2019-02-16 20:34:41 | itr #55 | backtrack iters: 14\n",
            "2019-02-16 20:34:41 | itr #55 | computing loss after\n",
            "2019-02-16 20:34:41 | itr #55 | optimization finished\n",
            "2019-02-16 20:34:41 | itr #55 | Computing KL after\n",
            "2019-02-16 20:34:41 | itr #55 | Computing loss after\n",
            "2019-02-16 20:34:41 | itr #55 | Fitting baseline...\n",
            "2019-02-16 20:34:41 | itr #55 | Saving snapshot...\n",
            "2019-02-16 20:34:41 | itr #55 | Saved\n",
            "2019-02-16 20:34:41 | --------------------------  -------------\n",
            "2019-02-16 20:34:41 | AverageDiscountedReturn      27.3831\n",
            "2019-02-16 20:34:41 | AverageReturn                29.145\n",
            "2019-02-16 20:34:41 | Baseline/ExplainedVariance    0.699962\n",
            "2019-02-16 20:34:41 | Entropy                       0.459377\n",
            "2019-02-16 20:34:41 | EnvExecTime                   0.337468\n",
            "2019-02-16 20:34:41 | Iteration                    55\n",
            "2019-02-16 20:34:41 | ItrTime                       1.00258\n",
            "2019-02-16 20:34:41 | MaxReturn                    45\n",
            "2019-02-16 20:34:41 | MinReturn                    12\n",
            "2019-02-16 20:34:41 | NumTrajs                    200\n",
            "2019-02-16 20:34:41 | Perplexity                    1.58309\n",
            "2019-02-16 20:34:41 | PolicyExecTime                0.285115\n",
            "2019-02-16 20:34:41 | ProcessExecTime               0.0225589\n",
            "2019-02-16 20:34:41 | StdReturn                     5.76836\n",
            "2019-02-16 20:34:41 | Time                         58.603\n",
            "2019-02-16 20:34:41 | policy/Entropy                0.49114\n",
            "2019-02-16 20:34:41 | policy/KL                     0\n",
            "2019-02-16 20:34:41 | policy/KLBefore               0\n",
            "2019-02-16 20:34:41 | policy/LossAfter             -2.86102e-09\n",
            "2019-02-16 20:34:41 | policy/LossBefore            -2.86102e-09\n",
            "2019-02-16 20:34:41 | policy/dLoss                  0\n",
            "2019-02-16 20:34:41 | --------------------------  -------------\n",
            "2019-02-16 20:34:41 | itr #56 | Obtaining samples...\n",
            "2019-02-16 20:34:41 | itr #56 | Obtaining samples for iteration 56...\n"
          ],
          "name": "stdout"
        },
        {
          "output_type": "stream",
          "text": [
            "0% [##############################] 100% | ETA: 00:00:00"
          ],
          "name": "stderr"
        },
        {
          "output_type": "stream",
          "text": [
            "2019-02-16 20:34:42 | itr #56 | Processing samples...\n"
          ],
          "name": "stdout"
        },
        {
          "output_type": "stream",
          "text": [
            "\n",
            "Total time elapsed: 00:00:00\n"
          ],
          "name": "stderr"
        },
        {
          "output_type": "stream",
          "text": [
            "2019-02-16 20:34:42 | itr #56 | Logging diagnostics...\n",
            "2019-02-16 20:34:42 | itr #56 | Optimizing policy...\n",
            "2019-02-16 20:34:42 | itr #56 | Computing loss before\n",
            "2019-02-16 20:34:42 | itr #56 | Computing KL before\n",
            "2019-02-16 20:34:42 | itr #56 | Optimizing\n",
            "2019-02-16 20:34:42 | itr #56 | Start CG optimization: #parameters: 1480, #inputs: 200, #subsample_inputs: 200\n",
            "2019-02-16 20:34:42 | itr #56 | computing loss before\n",
            "2019-02-16 20:34:42 | itr #56 | performing update\n",
            "2019-02-16 20:34:42 | itr #56 | computing gradient\n",
            "2019-02-16 20:34:42 | itr #56 | gradient computed\n",
            "2019-02-16 20:34:42 | itr #56 | computing descent direction\n",
            "2019-02-16 20:34:42 | itr #56 | descent direction computed\n",
            "2019-02-16 20:34:42 | itr #56 | backtrack iters: 0\n",
            "2019-02-16 20:34:42 | itr #56 | computing loss after\n",
            "2019-02-16 20:34:42 | itr #56 | optimization finished\n",
            "2019-02-16 20:34:42 | itr #56 | Computing KL after\n",
            "2019-02-16 20:34:42 | itr #56 | Computing loss after\n",
            "2019-02-16 20:34:42 | itr #56 | Fitting baseline...\n",
            "2019-02-16 20:34:42 | itr #56 | Saving snapshot...\n",
            "2019-02-16 20:34:42 | itr #56 | Saved\n",
            "2019-02-16 20:34:42 | --------------------------  -------------\n",
            "2019-02-16 20:34:42 | AverageDiscountedReturn      27.827\n",
            "2019-02-16 20:34:42 | AverageReturn                29.58\n",
            "2019-02-16 20:34:42 | Baseline/ExplainedVariance    0.72738\n",
            "2019-02-16 20:34:42 | Entropy                       0.454806\n",
            "2019-02-16 20:34:42 | EnvExecTime                   0.352435\n",
            "2019-02-16 20:34:42 | Iteration                    56\n",
            "2019-02-16 20:34:42 | ItrTime                       0.908439\n",
            "2019-02-16 20:34:42 | MaxReturn                    46\n",
            "2019-02-16 20:34:42 | MinReturn                    12\n",
            "2019-02-16 20:34:42 | NumTrajs                    200\n",
            "2019-02-16 20:34:42 | Perplexity                    1.57587\n",
            "2019-02-16 20:34:42 | PolicyExecTime                0.272545\n",
            "2019-02-16 20:34:42 | ProcessExecTime               0.0253077\n",
            "2019-02-16 20:34:42 | StdReturn                     6.01112\n",
            "2019-02-16 20:34:42 | Time                         59.542\n",
            "2019-02-16 20:34:42 | policy/Entropy                0.489256\n",
            "2019-02-16 20:34:42 | policy/KL                     0.00918862\n",
            "2019-02-16 20:34:42 | policy/KLBefore               0\n",
            "2019-02-16 20:34:42 | policy/LossAfter             -0.0228956\n",
            "2019-02-16 20:34:42 | policy/LossBefore             8.58307e-09\n",
            "2019-02-16 20:34:42 | policy/dLoss                  0.0228956\n",
            "2019-02-16 20:34:42 | --------------------------  -------------\n",
            "2019-02-16 20:34:42 | itr #57 | Obtaining samples...\n",
            "2019-02-16 20:34:42 | itr #57 | Obtaining samples for iteration 57...\n"
          ],
          "name": "stdout"
        },
        {
          "output_type": "stream",
          "text": [
            "0% [##############################] 100% | ETA: 00:00:00"
          ],
          "name": "stderr"
        },
        {
          "output_type": "stream",
          "text": [
            "2019-02-16 20:34:43 | itr #57 | Processing samples...\n"
          ],
          "name": "stdout"
        },
        {
          "output_type": "stream",
          "text": [
            "\n",
            "Total time elapsed: 00:00:00\n"
          ],
          "name": "stderr"
        },
        {
          "output_type": "stream",
          "text": [
            "2019-02-16 20:34:43 | itr #57 | Logging diagnostics...\n",
            "2019-02-16 20:34:43 | itr #57 | Optimizing policy...\n",
            "2019-02-16 20:34:43 | itr #57 | Computing loss before\n",
            "2019-02-16 20:34:43 | itr #57 | Computing KL before\n",
            "2019-02-16 20:34:43 | itr #57 | Optimizing\n",
            "2019-02-16 20:34:43 | itr #57 | Start CG optimization: #parameters: 1480, #inputs: 200, #subsample_inputs: 200\n",
            "2019-02-16 20:34:43 | itr #57 | computing loss before\n",
            "2019-02-16 20:34:43 | itr #57 | performing update\n",
            "2019-02-16 20:34:43 | itr #57 | computing gradient\n",
            "2019-02-16 20:34:43 | itr #57 | gradient computed\n",
            "2019-02-16 20:34:43 | itr #57 | computing descent direction\n",
            "2019-02-16 20:34:43 | itr #57 | descent direction computed\n",
            "2019-02-16 20:34:43 | itr #57 | backtrack iters: 9\n",
            "2019-02-16 20:34:43 | itr #57 | computing loss after\n",
            "2019-02-16 20:34:43 | itr #57 | optimization finished\n",
            "2019-02-16 20:34:43 | itr #57 | Computing KL after\n",
            "2019-02-16 20:34:43 | itr #57 | Computing loss after\n",
            "2019-02-16 20:34:43 | itr #57 | Fitting baseline...\n",
            "2019-02-16 20:34:43 | itr #57 | Saving snapshot...\n",
            "2019-02-16 20:34:43 | itr #57 | Saved\n",
            "2019-02-16 20:34:43 | --------------------------  -------------\n",
            "2019-02-16 20:34:43 | AverageDiscountedReturn      29.5434\n",
            "2019-02-16 20:34:43 | AverageReturn                31.34\n",
            "2019-02-16 20:34:43 | Baseline/ExplainedVariance    0.780122\n",
            "2019-02-16 20:34:43 | Entropy                       0.410194\n",
            "2019-02-16 20:34:43 | EnvExecTime                   0.352835\n",
            "2019-02-16 20:34:43 | Iteration                    57\n",
            "2019-02-16 20:34:43 | ItrTime                       0.976545\n",
            "2019-02-16 20:34:43 | MaxReturn                    46\n",
            "2019-02-16 20:34:43 | MinReturn                    14\n",
            "2019-02-16 20:34:43 | NumTrajs                    200\n",
            "2019-02-16 20:34:43 | Perplexity                    1.50711\n",
            "2019-02-16 20:34:43 | PolicyExecTime                0.282845\n",
            "2019-02-16 20:34:43 | ProcessExecTime               0.0217316\n",
            "2019-02-16 20:34:43 | StdReturn                     4.27135\n",
            "2019-02-16 20:34:43 | Time                         60.56\n",
            "2019-02-16 20:34:43 | policy/Entropy                0.506507\n",
            "2019-02-16 20:34:43 | policy/KL                     0.00010112\n",
            "2019-02-16 20:34:43 | policy/KLBefore               0\n",
            "2019-02-16 20:34:43 | policy/LossAfter             -0.000383367\n",
            "2019-02-16 20:34:43 | policy/LossBefore            -1.57356e-08\n",
            "2019-02-16 20:34:43 | policy/dLoss                  0.000383351\n",
            "2019-02-16 20:34:43 | --------------------------  -------------\n",
            "2019-02-16 20:34:43 | itr #58 | Obtaining samples...\n",
            "2019-02-16 20:34:43 | itr #58 | Obtaining samples for iteration 58...\n"
          ],
          "name": "stdout"
        },
        {
          "output_type": "stream",
          "text": [
            "0% [##############################] 100% | ETA: 00:00:00"
          ],
          "name": "stderr"
        },
        {
          "output_type": "stream",
          "text": [
            "2019-02-16 20:34:44 | itr #58 | Processing samples...\n"
          ],
          "name": "stdout"
        },
        {
          "output_type": "stream",
          "text": [
            "\n",
            "Total time elapsed: 00:00:00\n"
          ],
          "name": "stderr"
        },
        {
          "output_type": "stream",
          "text": [
            "2019-02-16 20:34:44 | itr #58 | Logging diagnostics...\n",
            "2019-02-16 20:34:44 | itr #58 | Optimizing policy...\n",
            "2019-02-16 20:34:44 | itr #58 | Computing loss before\n",
            "2019-02-16 20:34:44 | itr #58 | Computing KL before\n",
            "2019-02-16 20:34:44 | itr #58 | Optimizing\n",
            "2019-02-16 20:34:44 | itr #58 | Start CG optimization: #parameters: 1480, #inputs: 200, #subsample_inputs: 200\n",
            "2019-02-16 20:34:44 | itr #58 | computing loss before\n",
            "2019-02-16 20:34:44 | itr #58 | performing update\n",
            "2019-02-16 20:34:44 | itr #58 | computing gradient\n",
            "2019-02-16 20:34:44 | itr #58 | gradient computed\n",
            "2019-02-16 20:34:44 | itr #58 | computing descent direction\n",
            "2019-02-16 20:34:44 | itr #58 | descent direction computed\n",
            "2019-02-16 20:34:44 | itr #58 | backtrack iters: 10\n",
            "2019-02-16 20:34:44 | itr #58 | computing loss after\n",
            "2019-02-16 20:34:44 | itr #58 | optimization finished\n",
            "2019-02-16 20:34:44 | itr #58 | Computing KL after\n",
            "2019-02-16 20:34:44 | itr #58 | Computing loss after\n",
            "2019-02-16 20:34:44 | itr #58 | Fitting baseline...\n",
            "2019-02-16 20:34:44 | itr #58 | Saving snapshot...\n",
            "2019-02-16 20:34:44 | itr #58 | Saved\n",
            "2019-02-16 20:34:44 | --------------------------  -------------\n",
            "2019-02-16 20:34:44 | AverageDiscountedReturn      29.6515\n",
            "2019-02-16 20:34:44 | AverageReturn                31.525\n",
            "2019-02-16 20:34:44 | Baseline/ExplainedVariance    0.806131\n",
            "2019-02-16 20:34:44 | Entropy                       0.405838\n",
            "2019-02-16 20:34:44 | EnvExecTime                   0.331325\n",
            "2019-02-16 20:34:44 | Iteration                    58\n",
            "2019-02-16 20:34:44 | ItrTime                       0.955132\n",
            "2019-02-16 20:34:44 | MaxReturn                    46\n",
            "2019-02-16 20:34:44 | MinReturn                    16\n",
            "2019-02-16 20:34:44 | NumTrajs                    200\n",
            "2019-02-16 20:34:44 | Perplexity                    1.50056\n",
            "2019-02-16 20:34:44 | PolicyExecTime                0.271961\n",
            "2019-02-16 20:34:44 | ProcessExecTime               0.0224042\n",
            "2019-02-16 20:34:44 | StdReturn                     4.89994\n",
            "2019-02-16 20:34:44 | Time                         61.5525\n",
            "2019-02-16 20:34:44 | policy/Entropy                0.506569\n",
            "2019-02-16 20:34:44 | policy/KL                     0.000157666\n",
            "2019-02-16 20:34:44 | policy/KLBefore               0\n",
            "2019-02-16 20:34:44 | policy/LossAfter             -4.57287e-05\n",
            "2019-02-16 20:34:44 | policy/LossBefore             1.23978e-08\n",
            "2019-02-16 20:34:44 | policy/dLoss                  4.57411e-05\n",
            "2019-02-16 20:34:44 | --------------------------  -------------\n",
            "2019-02-16 20:34:44 | itr #59 | Obtaining samples...\n",
            "2019-02-16 20:34:44 | itr #59 | Obtaining samples for iteration 59...\n"
          ],
          "name": "stdout"
        },
        {
          "output_type": "stream",
          "text": [
            "0% [##############################] 100% | ETA: 00:00:00"
          ],
          "name": "stderr"
        },
        {
          "output_type": "stream",
          "text": [
            "2019-02-16 20:34:45 | itr #59 | Processing samples...\n"
          ],
          "name": "stdout"
        },
        {
          "output_type": "stream",
          "text": [
            "\n",
            "Total time elapsed: 00:00:00\n"
          ],
          "name": "stderr"
        },
        {
          "output_type": "stream",
          "text": [
            "2019-02-16 20:34:45 | itr #59 | Logging diagnostics...\n",
            "2019-02-16 20:34:45 | itr #59 | Optimizing policy...\n",
            "2019-02-16 20:34:45 | itr #59 | Computing loss before\n",
            "2019-02-16 20:34:45 | itr #59 | Computing KL before\n",
            "2019-02-16 20:34:45 | itr #59 | Optimizing\n",
            "2019-02-16 20:34:45 | itr #59 | Start CG optimization: #parameters: 1480, #inputs: 200, #subsample_inputs: 200\n",
            "2019-02-16 20:34:45 | itr #59 | computing loss before\n",
            "2019-02-16 20:34:45 | itr #59 | performing update\n",
            "2019-02-16 20:34:45 | itr #59 | computing gradient\n",
            "2019-02-16 20:34:45 | itr #59 | gradient computed\n",
            "2019-02-16 20:34:45 | itr #59 | computing descent direction\n",
            "2019-02-16 20:34:45 | itr #59 | descent direction computed\n",
            "2019-02-16 20:34:45 | itr #59 | backtrack iters: 6\n",
            "2019-02-16 20:34:45 | itr #59 | computing loss after\n",
            "2019-02-16 20:34:45 | itr #59 | optimization finished\n",
            "2019-02-16 20:34:45 | itr #59 | Computing KL after\n",
            "2019-02-16 20:34:45 | itr #59 | Computing loss after\n",
            "2019-02-16 20:34:45 | itr #59 | Fitting baseline...\n",
            "2019-02-16 20:34:45 | itr #59 | Saving snapshot...\n",
            "2019-02-16 20:34:45 | itr #59 | Saved\n",
            "2019-02-16 20:34:45 | --------------------------  -------------\n",
            "2019-02-16 20:34:45 | AverageDiscountedReturn      29.1317\n",
            "2019-02-16 20:34:45 | AverageReturn                30.955\n",
            "2019-02-16 20:34:45 | Baseline/ExplainedVariance    0.757559\n",
            "2019-02-16 20:34:45 | Entropy                       0.40838\n",
            "2019-02-16 20:34:45 | EnvExecTime                   0.35458\n",
            "2019-02-16 20:34:45 | Iteration                    59\n",
            "2019-02-16 20:34:45 | ItrTime                       0.952666\n",
            "2019-02-16 20:34:45 | MaxReturn                    44\n",
            "2019-02-16 20:34:45 | MinReturn                    14\n",
            "2019-02-16 20:34:45 | NumTrajs                    200\n",
            "2019-02-16 20:34:45 | Perplexity                    1.50438\n",
            "2019-02-16 20:34:45 | PolicyExecTime                0.269223\n",
            "2019-02-16 20:34:45 | ProcessExecTime               0.021018\n",
            "2019-02-16 20:34:45 | StdReturn                     5.07277\n",
            "2019-02-16 20:34:45 | Time                         62.5371\n",
            "2019-02-16 20:34:45 | policy/Entropy                0.506004\n",
            "2019-02-16 20:34:45 | policy/KL                     0.000294086\n",
            "2019-02-16 20:34:45 | policy/KLBefore               0\n",
            "2019-02-16 20:34:45 | policy/LossAfter             -0.00182712\n",
            "2019-02-16 20:34:45 | policy/LossBefore             1.33514e-08\n",
            "2019-02-16 20:34:45 | policy/dLoss                  0.00182713\n",
            "2019-02-16 20:34:45 | --------------------------  -------------\n",
            "2019-02-16 20:34:45 | itr #60 | Obtaining samples...\n",
            "2019-02-16 20:34:45 | itr #60 | Obtaining samples for iteration 60...\n"
          ],
          "name": "stdout"
        },
        {
          "output_type": "stream",
          "text": [
            "0% [##############################] 100% | ETA: 00:00:00"
          ],
          "name": "stderr"
        },
        {
          "output_type": "stream",
          "text": [
            "2019-02-16 20:34:46 | itr #60 | Processing samples...\n"
          ],
          "name": "stdout"
        },
        {
          "output_type": "stream",
          "text": [
            "\n",
            "Total time elapsed: 00:00:00\n"
          ],
          "name": "stderr"
        },
        {
          "output_type": "stream",
          "text": [
            "2019-02-16 20:34:46 | itr #60 | Logging diagnostics...\n",
            "2019-02-16 20:34:46 | itr #60 | Optimizing policy...\n",
            "2019-02-16 20:34:46 | itr #60 | Computing loss before\n",
            "2019-02-16 20:34:46 | itr #60 | Computing KL before\n",
            "2019-02-16 20:34:46 | itr #60 | Optimizing\n",
            "2019-02-16 20:34:46 | itr #60 | Start CG optimization: #parameters: 1480, #inputs: 200, #subsample_inputs: 200\n",
            "2019-02-16 20:34:46 | itr #60 | computing loss before\n",
            "2019-02-16 20:34:46 | itr #60 | performing update\n",
            "2019-02-16 20:34:46 | itr #60 | computing gradient\n",
            "2019-02-16 20:34:46 | itr #60 | gradient computed\n",
            "2019-02-16 20:34:46 | itr #60 | computing descent direction\n",
            "2019-02-16 20:34:46 | itr #60 | descent direction computed\n",
            "2019-02-16 20:34:46 | itr #60 | backtrack iters: 12\n",
            "2019-02-16 20:34:46 | itr #60 | computing loss after\n",
            "2019-02-16 20:34:46 | itr #60 | optimization finished\n",
            "2019-02-16 20:34:46 | itr #60 | Computing KL after\n",
            "2019-02-16 20:34:46 | itr #60 | Computing loss after\n",
            "2019-02-16 20:34:46 | itr #60 | Fitting baseline...\n",
            "2019-02-16 20:34:46 | itr #60 | Saving snapshot...\n",
            "2019-02-16 20:34:46 | itr #60 | Saved\n",
            "2019-02-16 20:34:46 | --------------------------  -------------\n",
            "2019-02-16 20:34:46 | AverageDiscountedReturn      30.0068\n",
            "2019-02-16 20:34:46 | AverageReturn                31.885\n",
            "2019-02-16 20:34:46 | Baseline/ExplainedVariance    0.81334\n",
            "2019-02-16 20:34:46 | Entropy                       0.381535\n",
            "2019-02-16 20:34:46 | EnvExecTime                   0.362304\n",
            "2019-02-16 20:34:46 | Iteration                    60\n",
            "2019-02-16 20:34:46 | ItrTime                       0.98801\n",
            "2019-02-16 20:34:46 | MaxReturn                    45\n",
            "2019-02-16 20:34:46 | MinReturn                    12\n",
            "2019-02-16 20:34:46 | NumTrajs                    200\n",
            "2019-02-16 20:34:46 | Perplexity                    1.46453\n",
            "2019-02-16 20:34:46 | PolicyExecTime                0.270517\n",
            "2019-02-16 20:34:46 | ProcessExecTime               0.020849\n",
            "2019-02-16 20:34:46 | StdReturn                     4.36483\n",
            "2019-02-16 20:34:46 | Time                         63.5637\n",
            "2019-02-16 20:34:46 | policy/Entropy                0.512135\n",
            "2019-02-16 20:34:46 | policy/KL                     2.3378e-05\n",
            "2019-02-16 20:34:46 | policy/KLBefore               0\n",
            "2019-02-16 20:34:46 | policy/LossAfter             -0.000170561\n",
            "2019-02-16 20:34:46 | policy/LossBefore             9.53674e-09\n",
            "2019-02-16 20:34:46 | policy/dLoss                  0.00017057\n",
            "2019-02-16 20:34:46 | --------------------------  -------------\n",
            "2019-02-16 20:34:46 | itr #61 | Obtaining samples...\n",
            "2019-02-16 20:34:46 | itr #61 | Obtaining samples for iteration 61...\n"
          ],
          "name": "stdout"
        },
        {
          "output_type": "stream",
          "text": [
            "0% [##############################] 100% | ETA: 00:00:00"
          ],
          "name": "stderr"
        },
        {
          "output_type": "stream",
          "text": [
            "2019-02-16 20:34:47 | itr #61 | Processing samples...\n"
          ],
          "name": "stdout"
        },
        {
          "output_type": "stream",
          "text": [
            "\n",
            "Total time elapsed: 00:00:00\n"
          ],
          "name": "stderr"
        },
        {
          "output_type": "stream",
          "text": [
            "2019-02-16 20:34:47 | itr #61 | Logging diagnostics...\n",
            "2019-02-16 20:34:47 | itr #61 | Optimizing policy...\n",
            "2019-02-16 20:34:47 | itr #61 | Computing loss before\n",
            "2019-02-16 20:34:47 | itr #61 | Computing KL before\n",
            "2019-02-16 20:34:47 | itr #61 | Optimizing\n",
            "2019-02-16 20:34:47 | itr #61 | Start CG optimization: #parameters: 1480, #inputs: 200, #subsample_inputs: 200\n",
            "2019-02-16 20:34:47 | itr #61 | computing loss before\n",
            "2019-02-16 20:34:47 | itr #61 | performing update\n",
            "2019-02-16 20:34:47 | itr #61 | computing gradient\n",
            "2019-02-16 20:34:47 | itr #61 | gradient computed\n",
            "2019-02-16 20:34:47 | itr #61 | computing descent direction\n",
            "2019-02-16 20:34:47 | itr #61 | descent direction computed\n",
            "2019-02-16 20:34:47 | itr #61 | backtrack iters: 1\n",
            "2019-02-16 20:34:47 | itr #61 | computing loss after\n",
            "2019-02-16 20:34:47 | itr #61 | optimization finished\n",
            "2019-02-16 20:34:47 | itr #61 | Computing KL after\n",
            "2019-02-16 20:34:47 | itr #61 | Computing loss after\n",
            "2019-02-16 20:34:47 | itr #61 | Fitting baseline...\n",
            "2019-02-16 20:34:47 | itr #61 | Saving snapshot...\n",
            "2019-02-16 20:34:47 | itr #61 | Saved\n",
            "2019-02-16 20:34:47 | --------------------------  -------------\n",
            "2019-02-16 20:34:47 | AverageDiscountedReturn      29.4922\n",
            "2019-02-16 20:34:47 | AverageReturn                31.295\n",
            "2019-02-16 20:34:47 | Baseline/ExplainedVariance    0.772077\n",
            "2019-02-16 20:34:47 | Entropy                       0.384082\n",
            "2019-02-16 20:34:47 | EnvExecTime                   0.339628\n",
            "2019-02-16 20:34:47 | Iteration                    61\n",
            "2019-02-16 20:34:47 | ItrTime                       0.915491\n",
            "2019-02-16 20:34:47 | MaxReturn                    46\n",
            "2019-02-16 20:34:47 | MinReturn                    12\n",
            "2019-02-16 20:34:47 | NumTrajs                    200\n",
            "2019-02-16 20:34:47 | Perplexity                    1.46827\n",
            "2019-02-16 20:34:47 | PolicyExecTime                0.285867\n",
            "2019-02-16 20:34:47 | ProcessExecTime               0.0210583\n",
            "2019-02-16 20:34:47 | StdReturn                     5.26763\n",
            "2019-02-16 20:34:47 | Time                         64.5132\n",
            "2019-02-16 20:34:47 | policy/Entropy                0.514182\n",
            "2019-02-16 20:34:47 | policy/KL                     0.0060433\n",
            "2019-02-16 20:34:47 | policy/KLBefore               0\n",
            "2019-02-16 20:34:47 | policy/LossAfter             -0.00731258\n",
            "2019-02-16 20:34:47 | policy/LossBefore             4.76837e-09\n",
            "2019-02-16 20:34:47 | policy/dLoss                  0.00731258\n",
            "2019-02-16 20:34:47 | --------------------------  -------------\n",
            "2019-02-16 20:34:47 | itr #62 | Obtaining samples...\n",
            "2019-02-16 20:34:47 | itr #62 | Obtaining samples for iteration 62...\n"
          ],
          "name": "stdout"
        },
        {
          "output_type": "stream",
          "text": [
            "0% [##############################] 100% | ETA: 00:00:00"
          ],
          "name": "stderr"
        },
        {
          "output_type": "stream",
          "text": [
            "2019-02-16 20:34:48 | itr #62 | Processing samples...\n"
          ],
          "name": "stdout"
        },
        {
          "output_type": "stream",
          "text": [
            "\n",
            "Total time elapsed: 00:00:00\n"
          ],
          "name": "stderr"
        },
        {
          "output_type": "stream",
          "text": [
            "2019-02-16 20:34:48 | itr #62 | Logging diagnostics...\n",
            "2019-02-16 20:34:48 | itr #62 | Optimizing policy...\n",
            "2019-02-16 20:34:48 | itr #62 | Computing loss before\n",
            "2019-02-16 20:34:48 | itr #62 | Computing KL before\n",
            "2019-02-16 20:34:48 | itr #62 | Optimizing\n",
            "2019-02-16 20:34:48 | itr #62 | Start CG optimization: #parameters: 1480, #inputs: 200, #subsample_inputs: 200\n",
            "2019-02-16 20:34:48 | itr #62 | computing loss before\n",
            "2019-02-16 20:34:48 | itr #62 | performing update\n",
            "2019-02-16 20:34:48 | itr #62 | computing gradient\n",
            "2019-02-16 20:34:48 | itr #62 | gradient computed\n",
            "2019-02-16 20:34:48 | itr #62 | computing descent direction\n",
            "2019-02-16 20:34:48 | itr #62 | descent direction computed\n",
            "2019-02-16 20:34:48 | itr #62 | backtrack iters: 7\n",
            "2019-02-16 20:34:48 | itr #62 | computing loss after\n",
            "2019-02-16 20:34:48 | itr #62 | optimization finished\n",
            "2019-02-16 20:34:48 | itr #62 | Computing KL after\n",
            "2019-02-16 20:34:48 | itr #62 | Computing loss after\n",
            "2019-02-16 20:34:48 | itr #62 | Fitting baseline...\n",
            "2019-02-16 20:34:48 | itr #62 | Saving snapshot...\n",
            "2019-02-16 20:34:48 | itr #62 | Saved\n",
            "2019-02-16 20:34:48 | --------------------------  -------------\n",
            "2019-02-16 20:34:48 | AverageDiscountedReturn      29.839\n",
            "2019-02-16 20:34:48 | AverageReturn                31.615\n",
            "2019-02-16 20:34:48 | Baseline/ExplainedVariance    0.772669\n",
            "2019-02-16 20:34:48 | Entropy                       0.359408\n",
            "2019-02-16 20:34:48 | EnvExecTime                   0.367832\n",
            "2019-02-16 20:34:48 | Iteration                    62\n",
            "2019-02-16 20:34:48 | ItrTime                       0.961307\n",
            "2019-02-16 20:34:48 | MaxReturn                    47\n",
            "2019-02-16 20:34:48 | MinReturn                    11\n",
            "2019-02-16 20:34:48 | NumTrajs                    200\n",
            "2019-02-16 20:34:48 | Perplexity                    1.43248\n",
            "2019-02-16 20:34:48 | PolicyExecTime                0.269387\n",
            "2019-02-16 20:34:48 | ProcessExecTime               0.021318\n",
            "2019-02-16 20:34:48 | StdReturn                     5.25136\n",
            "2019-02-16 20:34:48 | Time                         65.5013\n",
            "2019-02-16 20:34:48 | policy/Entropy                0.519995\n",
            "2019-02-16 20:34:48 | policy/KL                     0.00701232\n",
            "2019-02-16 20:34:48 | policy/KLBefore               0\n",
            "2019-02-16 20:34:48 | policy/LossAfter             -0.00038899\n",
            "2019-02-16 20:34:48 | policy/LossBefore             1.33514e-08\n",
            "2019-02-16 20:34:48 | policy/dLoss                  0.000389004\n",
            "2019-02-16 20:34:48 | --------------------------  -------------\n",
            "2019-02-16 20:34:48 | itr #63 | Obtaining samples...\n",
            "2019-02-16 20:34:48 | itr #63 | Obtaining samples for iteration 63...\n"
          ],
          "name": "stdout"
        },
        {
          "output_type": "stream",
          "text": [
            "0% [##############################] 100% | ETA: 00:00:00"
          ],
          "name": "stderr"
        },
        {
          "output_type": "stream",
          "text": [
            "2019-02-16 20:34:49 | itr #63 | Processing samples...\n"
          ],
          "name": "stdout"
        },
        {
          "output_type": "stream",
          "text": [
            "\n",
            "Total time elapsed: 00:00:00\n"
          ],
          "name": "stderr"
        },
        {
          "output_type": "stream",
          "text": [
            "2019-02-16 20:34:49 | itr #63 | Logging diagnostics...\n",
            "2019-02-16 20:34:49 | itr #63 | Optimizing policy...\n",
            "2019-02-16 20:34:49 | itr #63 | Computing loss before\n",
            "2019-02-16 20:34:49 | itr #63 | Computing KL before\n",
            "2019-02-16 20:34:49 | itr #63 | Optimizing\n",
            "2019-02-16 20:34:49 | itr #63 | Start CG optimization: #parameters: 1480, #inputs: 200, #subsample_inputs: 200\n",
            "2019-02-16 20:34:49 | itr #63 | computing loss before\n",
            "2019-02-16 20:34:49 | itr #63 | performing update\n",
            "2019-02-16 20:34:49 | itr #63 | computing gradient\n",
            "2019-02-16 20:34:49 | itr #63 | gradient computed\n",
            "2019-02-16 20:34:49 | itr #63 | computing descent direction\n",
            "2019-02-16 20:34:49 | itr #63 | descent direction computed\n",
            "2019-02-16 20:34:49 | itr #63 | backtrack iters: 0\n",
            "2019-02-16 20:34:49 | itr #63 | computing loss after\n",
            "2019-02-16 20:34:49 | itr #63 | optimization finished\n",
            "2019-02-16 20:34:49 | itr #63 | Computing KL after\n",
            "2019-02-16 20:34:49 | itr #63 | Computing loss after\n",
            "2019-02-16 20:34:49 | itr #63 | Fitting baseline...\n",
            "2019-02-16 20:34:49 | itr #63 | Saving snapshot...\n",
            "2019-02-16 20:34:49 | itr #63 | Saved\n",
            "2019-02-16 20:34:49 | --------------------------  -------------\n",
            "2019-02-16 20:34:49 | AverageDiscountedReturn      29.3304\n",
            "2019-02-16 20:34:49 | AverageReturn                31.17\n",
            "2019-02-16 20:34:49 | Baseline/ExplainedVariance    0.73158\n",
            "2019-02-16 20:34:49 | Entropy                       0.373952\n",
            "2019-02-16 20:34:49 | EnvExecTime                   0.354413\n",
            "2019-02-16 20:34:49 | Iteration                    63\n",
            "2019-02-16 20:34:49 | ItrTime                       0.902312\n",
            "2019-02-16 20:34:49 | MaxReturn                    46\n",
            "2019-02-16 20:34:49 | MinReturn                    12\n",
            "2019-02-16 20:34:49 | NumTrajs                    200\n",
            "2019-02-16 20:34:49 | Perplexity                    1.45347\n",
            "2019-02-16 20:34:49 | PolicyExecTime                0.269481\n",
            "2019-02-16 20:34:49 | ProcessExecTime               0.0214818\n",
            "2019-02-16 20:34:49 | StdReturn                     4.89603\n",
            "2019-02-16 20:34:49 | Time                         66.4291\n",
            "2019-02-16 20:34:49 | policy/Entropy                0.512997\n",
            "2019-02-16 20:34:49 | policy/KL                     0.00500389\n",
            "2019-02-16 20:34:49 | policy/KLBefore               0\n",
            "2019-02-16 20:34:49 | policy/LossAfter             -0.0130723\n",
            "2019-02-16 20:34:49 | policy/LossBefore            -1.19209e-10\n",
            "2019-02-16 20:34:49 | policy/dLoss                  0.0130723\n",
            "2019-02-16 20:34:49 | --------------------------  -------------\n",
            "2019-02-16 20:34:49 | itr #64 | Obtaining samples...\n",
            "2019-02-16 20:34:49 | itr #64 | Obtaining samples for iteration 64...\n"
          ],
          "name": "stdout"
        },
        {
          "output_type": "stream",
          "text": [
            "0% [##############################] 100% | ETA: 00:00:00"
          ],
          "name": "stderr"
        },
        {
          "output_type": "stream",
          "text": [
            "2019-02-16 20:34:50 | itr #64 | Processing samples...\n"
          ],
          "name": "stdout"
        },
        {
          "output_type": "stream",
          "text": [
            "\n",
            "Total time elapsed: 00:00:00\n"
          ],
          "name": "stderr"
        },
        {
          "output_type": "stream",
          "text": [
            "2019-02-16 20:34:50 | itr #64 | Logging diagnostics...\n",
            "2019-02-16 20:34:50 | itr #64 | Optimizing policy...\n",
            "2019-02-16 20:34:50 | itr #64 | Computing loss before\n",
            "2019-02-16 20:34:50 | itr #64 | Computing KL before\n",
            "2019-02-16 20:34:50 | itr #64 | Optimizing\n",
            "2019-02-16 20:34:50 | itr #64 | Start CG optimization: #parameters: 1480, #inputs: 200, #subsample_inputs: 200\n",
            "2019-02-16 20:34:50 | itr #64 | computing loss before\n",
            "2019-02-16 20:34:50 | itr #64 | performing update\n",
            "2019-02-16 20:34:50 | itr #64 | computing gradient\n",
            "2019-02-16 20:34:50 | itr #64 | gradient computed\n",
            "2019-02-16 20:34:50 | itr #64 | computing descent direction\n",
            "2019-02-16 20:34:50 | itr #64 | descent direction computed\n",
            "2019-02-16 20:34:50 | itr #64 | Line search condition violated. Rejecting the step!\n",
            "2019-02-16 20:34:50 | itr #64 | Violated because loss not improving\n",
            "2019-02-16 20:34:50 | itr #64 | backtrack iters: 14\n",
            "2019-02-16 20:34:50 | itr #64 | computing loss after\n",
            "2019-02-16 20:34:50 | itr #64 | optimization finished\n",
            "2019-02-16 20:34:50 | itr #64 | Computing KL after\n",
            "2019-02-16 20:34:50 | itr #64 | Computing loss after\n",
            "2019-02-16 20:34:50 | itr #64 | Fitting baseline...\n",
            "2019-02-16 20:34:50 | itr #64 | Saving snapshot...\n",
            "2019-02-16 20:34:50 | itr #64 | Saved\n",
            "2019-02-16 20:34:50 | --------------------------  -------------\n",
            "2019-02-16 20:34:50 | AverageDiscountedReturn      29.8121\n",
            "2019-02-16 20:34:50 | AverageReturn                31.605\n",
            "2019-02-16 20:34:50 | Baseline/ExplainedVariance    0.7887\n",
            "2019-02-16 20:34:50 | Entropy                       0.360016\n",
            "2019-02-16 20:34:50 | EnvExecTime                   0.357291\n",
            "2019-02-16 20:34:50 | Iteration                    64\n",
            "2019-02-16 20:34:50 | ItrTime                       1.00394\n",
            "2019-02-16 20:34:50 | MaxReturn                    46\n",
            "2019-02-16 20:34:50 | MinReturn                    11\n",
            "2019-02-16 20:34:50 | NumTrajs                    200\n",
            "2019-02-16 20:34:50 | Perplexity                    1.43335\n",
            "2019-02-16 20:34:50 | PolicyExecTime                0.264132\n",
            "2019-02-16 20:34:50 | ProcessExecTime               0.0249808\n",
            "2019-02-16 20:34:50 | StdReturn                     4.98588\n",
            "2019-02-16 20:34:50 | Time                         67.4763\n",
            "2019-02-16 20:34:50 | policy/Entropy                0.519538\n",
            "2019-02-16 20:34:50 | policy/KL                     0\n",
            "2019-02-16 20:34:50 | policy/KLBefore               0\n",
            "2019-02-16 20:34:50 | policy/LossAfter             -1.90735e-09\n",
            "2019-02-16 20:34:50 | policy/LossBefore            -1.90735e-09\n",
            "2019-02-16 20:34:50 | policy/dLoss                  0\n",
            "2019-02-16 20:34:50 | --------------------------  -------------\n",
            "2019-02-16 20:34:50 | itr #65 | Obtaining samples...\n",
            "2019-02-16 20:34:50 | itr #65 | Obtaining samples for iteration 65...\n"
          ],
          "name": "stdout"
        },
        {
          "output_type": "stream",
          "text": [
            "0% [##############################] 100% | ETA: 00:00:00"
          ],
          "name": "stderr"
        },
        {
          "output_type": "stream",
          "text": [
            "2019-02-16 20:34:51 | itr #65 | Processing samples...\n"
          ],
          "name": "stdout"
        },
        {
          "output_type": "stream",
          "text": [
            "\n",
            "Total time elapsed: 00:00:00\n"
          ],
          "name": "stderr"
        },
        {
          "output_type": "stream",
          "text": [
            "2019-02-16 20:34:51 | itr #65 | Logging diagnostics...\n",
            "2019-02-16 20:34:51 | itr #65 | Optimizing policy...\n",
            "2019-02-16 20:34:51 | itr #65 | Computing loss before\n",
            "2019-02-16 20:34:51 | itr #65 | Computing KL before\n",
            "2019-02-16 20:34:51 | itr #65 | Optimizing\n",
            "2019-02-16 20:34:51 | itr #65 | Start CG optimization: #parameters: 1480, #inputs: 200, #subsample_inputs: 200\n",
            "2019-02-16 20:34:51 | itr #65 | computing loss before\n",
            "2019-02-16 20:34:51 | itr #65 | performing update\n",
            "2019-02-16 20:34:51 | itr #65 | computing gradient\n",
            "2019-02-16 20:34:51 | itr #65 | gradient computed\n",
            "2019-02-16 20:34:51 | itr #65 | computing descent direction\n",
            "2019-02-16 20:34:51 | itr #65 | descent direction computed\n",
            "2019-02-16 20:34:51 | itr #65 | backtrack iters: 9\n",
            "2019-02-16 20:34:51 | itr #65 | computing loss after\n",
            "2019-02-16 20:34:51 | itr #65 | optimization finished\n",
            "2019-02-16 20:34:51 | itr #65 | Computing KL after\n",
            "2019-02-16 20:34:51 | itr #65 | Computing loss after\n",
            "2019-02-16 20:34:51 | itr #65 | Fitting baseline...\n",
            "2019-02-16 20:34:51 | itr #65 | Saving snapshot...\n",
            "2019-02-16 20:34:51 | itr #65 | Saved\n",
            "2019-02-16 20:34:51 | --------------------------  -------------\n",
            "2019-02-16 20:34:51 | AverageDiscountedReturn      30.0011\n",
            "2019-02-16 20:34:51 | AverageReturn                31.795\n",
            "2019-02-16 20:34:51 | Baseline/ExplainedVariance    0.797269\n",
            "2019-02-16 20:34:51 | Entropy                       0.362518\n",
            "2019-02-16 20:34:51 | EnvExecTime                   0.467478\n",
            "2019-02-16 20:34:51 | Iteration                    65\n",
            "2019-02-16 20:34:51 | ItrTime                       1.07829\n",
            "2019-02-16 20:34:51 | MaxReturn                    51\n",
            "2019-02-16 20:34:51 | MinReturn                    14\n",
            "2019-02-16 20:34:51 | NumTrajs                    200\n",
            "2019-02-16 20:34:51 | Perplexity                    1.43694\n",
            "2019-02-16 20:34:51 | PolicyExecTime                0.261246\n",
            "2019-02-16 20:34:51 | ProcessExecTime               0.020123\n",
            "2019-02-16 20:34:51 | StdReturn                     4.8696\n",
            "2019-02-16 20:34:51 | Time                         68.6154\n",
            "2019-02-16 20:34:51 | policy/Entropy                0.519457\n",
            "2019-02-16 20:34:51 | policy/KL                     6.26236e-05\n",
            "2019-02-16 20:34:51 | policy/KLBefore               0\n",
            "2019-02-16 20:34:51 | policy/LossAfter             -0.000292174\n",
            "2019-02-16 20:34:51 | policy/LossBefore             6.67572e-09\n",
            "2019-02-16 20:34:51 | policy/dLoss                  0.000292181\n",
            "2019-02-16 20:34:51 | --------------------------  -------------\n",
            "2019-02-16 20:34:51 | itr #66 | Obtaining samples...\n",
            "2019-02-16 20:34:51 | itr #66 | Obtaining samples for iteration 66...\n"
          ],
          "name": "stdout"
        },
        {
          "output_type": "stream",
          "text": [
            "0% [##############################] 100% | ETA: 00:00:00"
          ],
          "name": "stderr"
        },
        {
          "output_type": "stream",
          "text": [
            "2019-02-16 20:34:52 | itr #66 | Processing samples...\n"
          ],
          "name": "stdout"
        },
        {
          "output_type": "stream",
          "text": [
            "\n",
            "Total time elapsed: 00:00:00\n"
          ],
          "name": "stderr"
        },
        {
          "output_type": "stream",
          "text": [
            "2019-02-16 20:34:52 | itr #66 | Logging diagnostics...\n",
            "2019-02-16 20:34:52 | itr #66 | Optimizing policy...\n",
            "2019-02-16 20:34:52 | itr #66 | Computing loss before\n",
            "2019-02-16 20:34:52 | itr #66 | Computing KL before\n",
            "2019-02-16 20:34:52 | itr #66 | Optimizing\n",
            "2019-02-16 20:34:52 | itr #66 | Start CG optimization: #parameters: 1480, #inputs: 200, #subsample_inputs: 200\n",
            "2019-02-16 20:34:52 | itr #66 | computing loss before\n",
            "2019-02-16 20:34:52 | itr #66 | performing update\n",
            "2019-02-16 20:34:52 | itr #66 | computing gradient\n",
            "2019-02-16 20:34:52 | itr #66 | gradient computed\n",
            "2019-02-16 20:34:52 | itr #66 | computing descent direction\n",
            "2019-02-16 20:34:52 | itr #66 | descent direction computed\n",
            "2019-02-16 20:34:52 | itr #66 | Line search condition violated. Rejecting the step!\n",
            "2019-02-16 20:34:52 | itr #66 | Violated because loss not improving\n",
            "2019-02-16 20:34:52 | itr #66 | backtrack iters: 14\n",
            "2019-02-16 20:34:52 | itr #66 | computing loss after\n",
            "2019-02-16 20:34:52 | itr #66 | optimization finished\n",
            "2019-02-16 20:34:52 | itr #66 | Computing KL after\n",
            "2019-02-16 20:34:52 | itr #66 | Computing loss after\n",
            "2019-02-16 20:34:52 | itr #66 | Fitting baseline...\n",
            "2019-02-16 20:34:52 | itr #66 | Saving snapshot...\n",
            "2019-02-16 20:34:52 | itr #66 | Saved\n",
            "2019-02-16 20:34:52 | --------------------------  -------------\n",
            "2019-02-16 20:34:52 | AverageDiscountedReturn      29.4888\n",
            "2019-02-16 20:34:52 | AverageReturn                31.37\n",
            "2019-02-16 20:34:52 | Baseline/ExplainedVariance    0.780269\n",
            "2019-02-16 20:34:52 | Entropy                       0.369443\n",
            "2019-02-16 20:34:52 | EnvExecTime                   0.352649\n",
            "2019-02-16 20:34:52 | Iteration                    66\n",
            "2019-02-16 20:34:52 | ItrTime                       0.996464\n",
            "2019-02-16 20:34:52 | MaxReturn                    42\n",
            "2019-02-16 20:34:52 | MinReturn                    11\n",
            "2019-02-16 20:34:52 | NumTrajs                    200\n",
            "2019-02-16 20:34:52 | Perplexity                    1.44693\n",
            "2019-02-16 20:34:52 | PolicyExecTime                0.262332\n",
            "2019-02-16 20:34:52 | ProcessExecTime               0.0230305\n",
            "2019-02-16 20:34:52 | StdReturn                     4.28405\n",
            "2019-02-16 20:34:52 | Time                         69.6491\n",
            "2019-02-16 20:34:52 | policy/Entropy                0.515617\n",
            "2019-02-16 20:34:52 | policy/KL                     0\n",
            "2019-02-16 20:34:52 | policy/KLBefore               0\n",
            "2019-02-16 20:34:52 | policy/LossAfter              1.52588e-08\n",
            "2019-02-16 20:34:53 | policy/LossBefore             1.52588e-08\n",
            "2019-02-16 20:34:53 | policy/dLoss                  0\n",
            "2019-02-16 20:34:53 | --------------------------  -------------\n",
            "2019-02-16 20:34:53 | itr #67 | Obtaining samples...\n",
            "2019-02-16 20:34:53 | itr #67 | Obtaining samples for iteration 67...\n"
          ],
          "name": "stdout"
        },
        {
          "output_type": "stream",
          "text": [
            "0% [##############################] 100% | ETA: 00:00:00"
          ],
          "name": "stderr"
        },
        {
          "output_type": "stream",
          "text": [
            "2019-02-16 20:34:53 | itr #67 | Processing samples...\n"
          ],
          "name": "stdout"
        },
        {
          "output_type": "stream",
          "text": [
            "\n",
            "Total time elapsed: 00:00:00\n"
          ],
          "name": "stderr"
        },
        {
          "output_type": "stream",
          "text": [
            "2019-02-16 20:34:53 | itr #67 | Logging diagnostics...\n",
            "2019-02-16 20:34:53 | itr #67 | Optimizing policy...\n",
            "2019-02-16 20:34:53 | itr #67 | Computing loss before\n",
            "2019-02-16 20:34:53 | itr #67 | Computing KL before\n",
            "2019-02-16 20:34:53 | itr #67 | Optimizing\n",
            "2019-02-16 20:34:53 | itr #67 | Start CG optimization: #parameters: 1480, #inputs: 200, #subsample_inputs: 200\n",
            "2019-02-16 20:34:53 | itr #67 | computing loss before\n",
            "2019-02-16 20:34:53 | itr #67 | performing update\n",
            "2019-02-16 20:34:53 | itr #67 | computing gradient\n",
            "2019-02-16 20:34:53 | itr #67 | gradient computed\n",
            "2019-02-16 20:34:53 | itr #67 | computing descent direction\n",
            "2019-02-16 20:34:53 | itr #67 | descent direction computed\n",
            "2019-02-16 20:34:53 | itr #67 | Line search condition violated. Rejecting the step!\n",
            "2019-02-16 20:34:53 | itr #67 | Violated because loss not improving\n",
            "2019-02-16 20:34:53 | itr #67 | backtrack iters: 14\n",
            "2019-02-16 20:34:53 | itr #67 | computing loss after\n",
            "2019-02-16 20:34:53 | itr #67 | optimization finished\n",
            "2019-02-16 20:34:53 | itr #67 | Computing KL after\n",
            "2019-02-16 20:34:53 | itr #67 | Computing loss after\n",
            "2019-02-16 20:34:53 | itr #67 | Fitting baseline...\n",
            "2019-02-16 20:34:53 | itr #67 | Saving snapshot...\n",
            "2019-02-16 20:34:53 | itr #67 | Saved\n",
            "2019-02-16 20:34:53 | --------------------------  -------------\n",
            "2019-02-16 20:34:53 | AverageDiscountedReturn      29.1034\n",
            "2019-02-16 20:34:53 | AverageReturn                30.9\n",
            "2019-02-16 20:34:53 | Baseline/ExplainedVariance    0.764097\n",
            "2019-02-16 20:34:53 | Entropy                       0.361326\n",
            "2019-02-16 20:34:53 | EnvExecTime                   0.350839\n",
            "2019-02-16 20:34:54 | Iteration                    67\n",
            "2019-02-16 20:34:54 | ItrTime                       0.981031\n",
            "2019-02-16 20:34:54 | MaxReturn                    44\n",
            "2019-02-16 20:34:54 | MinReturn                    11\n",
            "2019-02-16 20:34:54 | NumTrajs                    200\n",
            "2019-02-16 20:34:54 | Perplexity                    1.43523\n",
            "2019-02-16 20:34:54 | PolicyExecTime                0.255057\n",
            "2019-02-16 20:34:54 | ProcessExecTime               0.0208759\n",
            "2019-02-16 20:34:54 | StdReturn                     4.94571\n",
            "2019-02-16 20:34:54 | Time                         70.6751\n",
            "2019-02-16 20:34:54 | policy/Entropy                0.51971\n",
            "2019-02-16 20:34:54 | policy/KL                     0\n",
            "2019-02-16 20:34:54 | policy/KLBefore               0\n",
            "2019-02-16 20:34:54 | policy/LossAfter             -6.67572e-09\n",
            "2019-02-16 20:34:54 | policy/LossBefore            -6.67572e-09\n",
            "2019-02-16 20:34:54 | policy/dLoss                  0\n",
            "2019-02-16 20:34:54 | --------------------------  -------------\n",
            "2019-02-16 20:34:54 | itr #68 | Obtaining samples...\n",
            "2019-02-16 20:34:54 | itr #68 | Obtaining samples for iteration 68...\n"
          ],
          "name": "stdout"
        },
        {
          "output_type": "stream",
          "text": [
            "0% [##############################] 100% | ETA: 00:00:00"
          ],
          "name": "stderr"
        },
        {
          "output_type": "stream",
          "text": [
            "2019-02-16 20:34:54 | itr #68 | Processing samples...\n"
          ],
          "name": "stdout"
        },
        {
          "output_type": "stream",
          "text": [
            "\n",
            "Total time elapsed: 00:00:00\n"
          ],
          "name": "stderr"
        },
        {
          "output_type": "stream",
          "text": [
            "2019-02-16 20:34:54 | itr #68 | Logging diagnostics...\n",
            "2019-02-16 20:34:54 | itr #68 | Optimizing policy...\n",
            "2019-02-16 20:34:54 | itr #68 | Computing loss before\n",
            "2019-02-16 20:34:54 | itr #68 | Computing KL before\n",
            "2019-02-16 20:34:54 | itr #68 | Optimizing\n",
            "2019-02-16 20:34:54 | itr #68 | Start CG optimization: #parameters: 1480, #inputs: 200, #subsample_inputs: 200\n",
            "2019-02-16 20:34:54 | itr #68 | computing loss before\n",
            "2019-02-16 20:34:54 | itr #68 | performing update\n",
            "2019-02-16 20:34:54 | itr #68 | computing gradient\n",
            "2019-02-16 20:34:54 | itr #68 | gradient computed\n",
            "2019-02-16 20:34:54 | itr #68 | computing descent direction\n",
            "2019-02-16 20:34:54 | itr #68 | descent direction computed\n",
            "2019-02-16 20:34:54 | itr #68 | Line search condition violated. Rejecting the step!\n",
            "2019-02-16 20:34:54 | itr #68 | Violated because loss not improving\n",
            "2019-02-16 20:34:54 | itr #68 | backtrack iters: 14\n",
            "2019-02-16 20:34:54 | itr #68 | computing loss after\n",
            "2019-02-16 20:34:54 | itr #68 | optimization finished\n",
            "2019-02-16 20:34:54 | itr #68 | Computing KL after\n",
            "2019-02-16 20:34:55 | itr #68 | Computing loss after\n",
            "2019-02-16 20:34:55 | itr #68 | Fitting baseline...\n",
            "2019-02-16 20:34:55 | itr #68 | Saving snapshot...\n",
            "2019-02-16 20:34:55 | itr #68 | Saved\n",
            "2019-02-16 20:34:55 | --------------------------  -------------\n",
            "2019-02-16 20:34:55 | AverageDiscountedReturn      29.3599\n",
            "2019-02-16 20:34:55 | AverageReturn                31.18\n",
            "2019-02-16 20:34:55 | Baseline/ExplainedVariance    0.789097\n",
            "2019-02-16 20:34:55 | Entropy                       0.361555\n",
            "2019-02-16 20:34:55 | EnvExecTime                   0.349769\n",
            "2019-02-16 20:34:55 | Iteration                    68\n",
            "2019-02-16 20:34:55 | ItrTime                       1.00798\n",
            "2019-02-16 20:34:55 | MaxReturn                    46\n",
            "2019-02-16 20:34:55 | MinReturn                    16\n",
            "2019-02-16 20:34:55 | NumTrajs                    200\n",
            "2019-02-16 20:34:55 | Perplexity                    1.43556\n",
            "2019-02-16 20:34:55 | PolicyExecTime                0.266885\n",
            "2019-02-16 20:34:55 | ProcessExecTime               0.0202217\n",
            "2019-02-16 20:34:55 | StdReturn                     4.63439\n",
            "2019-02-16 20:34:55 | Time                         71.7161\n",
            "2019-02-16 20:34:55 | policy/Entropy                0.517838\n",
            "2019-02-16 20:34:55 | policy/KL                     0\n",
            "2019-02-16 20:34:55 | policy/KLBefore               0\n",
            "2019-02-16 20:34:55 | policy/LossAfter              7.15256e-10\n",
            "2019-02-16 20:34:55 | policy/LossBefore             7.15256e-10\n",
            "2019-02-16 20:34:55 | policy/dLoss                  0\n",
            "2019-02-16 20:34:55 | --------------------------  -------------\n",
            "2019-02-16 20:34:55 | itr #69 | Obtaining samples...\n",
            "2019-02-16 20:34:55 | itr #69 | Obtaining samples for iteration 69...\n"
          ],
          "name": "stdout"
        },
        {
          "output_type": "stream",
          "text": [
            "0% [##############################] 100% | ETA: 00:00:00"
          ],
          "name": "stderr"
        },
        {
          "output_type": "stream",
          "text": [
            "2019-02-16 20:34:55 | itr #69 | Processing samples...\n"
          ],
          "name": "stdout"
        },
        {
          "output_type": "stream",
          "text": [
            "\n",
            "Total time elapsed: 00:00:00\n"
          ],
          "name": "stderr"
        },
        {
          "output_type": "stream",
          "text": [
            "2019-02-16 20:34:55 | itr #69 | Logging diagnostics...\n",
            "2019-02-16 20:34:55 | itr #69 | Optimizing policy...\n",
            "2019-02-16 20:34:55 | itr #69 | Computing loss before\n",
            "2019-02-16 20:34:55 | itr #69 | Computing KL before\n",
            "2019-02-16 20:34:55 | itr #69 | Optimizing\n",
            "2019-02-16 20:34:55 | itr #69 | Start CG optimization: #parameters: 1480, #inputs: 200, #subsample_inputs: 200\n",
            "2019-02-16 20:34:55 | itr #69 | computing loss before\n",
            "2019-02-16 20:34:55 | itr #69 | performing update\n",
            "2019-02-16 20:34:55 | itr #69 | computing gradient\n",
            "2019-02-16 20:34:55 | itr #69 | gradient computed\n",
            "2019-02-16 20:34:55 | itr #69 | computing descent direction\n",
            "2019-02-16 20:34:55 | itr #69 | descent direction computed\n",
            "2019-02-16 20:34:55 | itr #69 | backtrack iters: 4\n",
            "2019-02-16 20:34:55 | itr #69 | computing loss after\n",
            "2019-02-16 20:34:55 | itr #69 | optimization finished\n",
            "2019-02-16 20:34:55 | itr #69 | Computing KL after\n",
            "2019-02-16 20:34:55 | itr #69 | Computing loss after\n",
            "2019-02-16 20:34:56 | itr #69 | Fitting baseline...\n",
            "2019-02-16 20:34:56 | itr #69 | Saving snapshot...\n",
            "2019-02-16 20:34:56 | itr #69 | Saved\n",
            "2019-02-16 20:34:56 | --------------------------  -------------\n",
            "2019-02-16 20:34:56 | AverageDiscountedReturn      29.7567\n",
            "2019-02-16 20:34:56 | AverageReturn                31.585\n",
            "2019-02-16 20:34:56 | Baseline/ExplainedVariance    0.792251\n",
            "2019-02-16 20:34:56 | Entropy                       0.366813\n",
            "2019-02-16 20:34:56 | EnvExecTime                   0.378879\n",
            "2019-02-16 20:34:56 | Iteration                    69\n",
            "2019-02-16 20:34:56 | ItrTime                       0.96261\n",
            "2019-02-16 20:34:56 | MaxReturn                    44\n",
            "2019-02-16 20:34:56 | MinReturn                    13\n",
            "2019-02-16 20:34:56 | NumTrajs                    200\n",
            "2019-02-16 20:34:56 | Perplexity                    1.44313\n",
            "2019-02-16 20:34:56 | PolicyExecTime                0.263161\n",
            "2019-02-16 20:34:56 | ProcessExecTime               0.0205817\n",
            "2019-02-16 20:34:56 | StdReturn                     4.35577\n",
            "2019-02-16 20:34:56 | Time                         72.7126\n",
            "2019-02-16 20:34:56 | policy/Entropy                0.520219\n",
            "2019-02-16 20:34:56 | policy/KL                     0.00218522\n",
            "2019-02-16 20:34:56 | policy/KLBefore               0\n",
            "2019-02-16 20:34:56 | policy/LossAfter             -0.00128881\n",
            "2019-02-16 20:34:56 | policy/LossBefore            -9.53674e-09\n",
            "2019-02-16 20:34:56 | policy/dLoss                  0.0012888\n",
            "2019-02-16 20:34:56 | --------------------------  -------------\n",
            "2019-02-16 20:34:56 | itr #70 | Obtaining samples...\n",
            "2019-02-16 20:34:56 | itr #70 | Obtaining samples for iteration 70...\n"
          ],
          "name": "stdout"
        },
        {
          "output_type": "stream",
          "text": [
            "0% [##############################] 100% | ETA: 00:00:00"
          ],
          "name": "stderr"
        },
        {
          "output_type": "stream",
          "text": [
            "2019-02-16 20:34:56 | itr #70 | Processing samples...\n"
          ],
          "name": "stdout"
        },
        {
          "output_type": "stream",
          "text": [
            "\n",
            "Total time elapsed: 00:00:00\n"
          ],
          "name": "stderr"
        },
        {
          "output_type": "stream",
          "text": [
            "2019-02-16 20:34:56 | itr #70 | Logging diagnostics...\n",
            "2019-02-16 20:34:56 | itr #70 | Optimizing policy...\n",
            "2019-02-16 20:34:56 | itr #70 | Computing loss before\n",
            "2019-02-16 20:34:56 | itr #70 | Computing KL before\n",
            "2019-02-16 20:34:56 | itr #70 | Optimizing\n",
            "2019-02-16 20:34:56 | itr #70 | Start CG optimization: #parameters: 1480, #inputs: 200, #subsample_inputs: 200\n",
            "2019-02-16 20:34:56 | itr #70 | computing loss before\n",
            "2019-02-16 20:34:56 | itr #70 | performing update\n",
            "2019-02-16 20:34:56 | itr #70 | computing gradient\n",
            "2019-02-16 20:34:56 | itr #70 | gradient computed\n",
            "2019-02-16 20:34:56 | itr #70 | computing descent direction\n",
            "2019-02-16 20:34:56 | itr #70 | descent direction computed\n",
            "2019-02-16 20:34:57 | itr #70 | Line search condition violated. Rejecting the step!\n",
            "2019-02-16 20:34:57 | itr #70 | Violated because loss not improving\n",
            "2019-02-16 20:34:57 | itr #70 | backtrack iters: 14\n",
            "2019-02-16 20:34:57 | itr #70 | computing loss after\n",
            "2019-02-16 20:34:57 | itr #70 | optimization finished\n",
            "2019-02-16 20:34:57 | itr #70 | Computing KL after\n",
            "2019-02-16 20:34:57 | itr #70 | Computing loss after\n",
            "2019-02-16 20:34:57 | itr #70 | Fitting baseline...\n",
            "2019-02-16 20:34:57 | itr #70 | Saving snapshot...\n",
            "2019-02-16 20:34:57 | itr #70 | Saved\n",
            "2019-02-16 20:34:57 | --------------------------  -------------\n",
            "2019-02-16 20:34:57 | AverageDiscountedReturn      28.718\n",
            "2019-02-16 20:34:57 | AverageReturn                30.48\n",
            "2019-02-16 20:34:57 | Baseline/ExplainedVariance    0.737286\n",
            "2019-02-16 20:34:57 | Entropy                       0.369855\n",
            "2019-02-16 20:34:57 | EnvExecTime                   0.328333\n",
            "2019-02-16 20:34:57 | Iteration                    70\n",
            "2019-02-16 20:34:57 | ItrTime                       0.990257\n",
            "2019-02-16 20:34:57 | MaxReturn                    44\n",
            "2019-02-16 20:34:57 | MinReturn                    12\n",
            "2019-02-16 20:34:57 | NumTrajs                    200\n",
            "2019-02-16 20:34:57 | Perplexity                    1.44752\n",
            "2019-02-16 20:34:57 | PolicyExecTime                0.269363\n",
            "2019-02-16 20:34:57 | ProcessExecTime               0.0204272\n",
            "2019-02-16 20:34:57 | StdReturn                     5.67711\n",
            "2019-02-16 20:34:57 | Time                         73.7696\n",
            "2019-02-16 20:34:57 | policy/Entropy                0.517465\n",
            "2019-02-16 20:34:57 | policy/KL                     0\n",
            "2019-02-16 20:34:57 | policy/KLBefore               0\n",
            "2019-02-16 20:34:57 | policy/LossAfter             -1.71661e-08\n",
            "2019-02-16 20:34:57 | policy/LossBefore            -1.71661e-08\n",
            "2019-02-16 20:34:57 | policy/dLoss                  0\n",
            "2019-02-16 20:34:57 | --------------------------  -------------\n",
            "2019-02-16 20:34:57 | itr #71 | Obtaining samples...\n",
            "2019-02-16 20:34:57 | itr #71 | Obtaining samples for iteration 71...\n"
          ],
          "name": "stdout"
        },
        {
          "output_type": "stream",
          "text": [
            "0% [##############################] 100% | ETA: 00:00:00"
          ],
          "name": "stderr"
        },
        {
          "output_type": "stream",
          "text": [
            "2019-02-16 20:34:57 | itr #71 | Processing samples...\n"
          ],
          "name": "stdout"
        },
        {
          "output_type": "stream",
          "text": [
            "\n",
            "Total time elapsed: 00:00:00\n"
          ],
          "name": "stderr"
        },
        {
          "output_type": "stream",
          "text": [
            "2019-02-16 20:34:57 | itr #71 | Logging diagnostics...\n",
            "2019-02-16 20:34:57 | itr #71 | Optimizing policy...\n",
            "2019-02-16 20:34:57 | itr #71 | Computing loss before\n",
            "2019-02-16 20:34:57 | itr #71 | Computing KL before\n",
            "2019-02-16 20:34:57 | itr #71 | Optimizing\n",
            "2019-02-16 20:34:57 | itr #71 | Start CG optimization: #parameters: 1480, #inputs: 200, #subsample_inputs: 200\n",
            "2019-02-16 20:34:57 | itr #71 | computing loss before\n",
            "2019-02-16 20:34:57 | itr #71 | performing update\n",
            "2019-02-16 20:34:57 | itr #71 | computing gradient\n",
            "2019-02-16 20:34:57 | itr #71 | gradient computed\n",
            "2019-02-16 20:34:57 | itr #71 | computing descent direction\n",
            "2019-02-16 20:34:58 | itr #71 | descent direction computed\n",
            "2019-02-16 20:34:58 | itr #71 | backtrack iters: 11\n",
            "2019-02-16 20:34:58 | itr #71 | computing loss after\n",
            "2019-02-16 20:34:58 | itr #71 | optimization finished\n",
            "2019-02-16 20:34:58 | itr #71 | Computing KL after\n",
            "2019-02-16 20:34:58 | itr #71 | Computing loss after\n",
            "2019-02-16 20:34:58 | itr #71 | Fitting baseline...\n",
            "2019-02-16 20:34:58 | itr #71 | Saving snapshot...\n",
            "2019-02-16 20:34:58 | itr #71 | Saved\n",
            "2019-02-16 20:34:58 | --------------------------  -------------\n",
            "2019-02-16 20:34:58 | AverageDiscountedReturn      28.826\n",
            "2019-02-16 20:34:58 | AverageReturn                30.65\n",
            "2019-02-16 20:34:58 | Baseline/ExplainedVariance    0.743607\n",
            "2019-02-16 20:34:58 | Entropy                       0.372004\n",
            "2019-02-16 20:34:58 | EnvExecTime                   0.372317\n",
            "2019-02-16 20:34:58 | Iteration                    71\n",
            "2019-02-16 20:34:58 | ItrTime                       1.00948\n",
            "2019-02-16 20:34:58 | MaxReturn                    50\n",
            "2019-02-16 20:34:58 | MinReturn                    12\n",
            "2019-02-16 20:34:58 | NumTrajs                    200\n",
            "2019-02-16 20:34:58 | Perplexity                    1.45064\n",
            "2019-02-16 20:34:58 | PolicyExecTime                0.271268\n",
            "2019-02-16 20:34:58 | ProcessExecTime               0.0211284\n",
            "2019-02-16 20:34:58 | StdReturn                     5.29882\n",
            "2019-02-16 20:34:58 | Time                         74.8158\n",
            "2019-02-16 20:34:58 | policy/Entropy                0.513158\n",
            "2019-02-16 20:34:58 | policy/KL                     1.3044e-05\n",
            "2019-02-16 20:34:58 | policy/KLBefore               0\n",
            "2019-02-16 20:34:58 | policy/LossAfter             -0.000500834\n",
            "2019-02-16 20:34:58 | policy/LossBefore            -1.33514e-08\n",
            "2019-02-16 20:34:58 | policy/dLoss                  0.000500821\n",
            "2019-02-16 20:34:58 | --------------------------  -------------\n",
            "2019-02-16 20:34:58 | itr #72 | Obtaining samples...\n",
            "2019-02-16 20:34:58 | itr #72 | Obtaining samples for iteration 72...\n"
          ],
          "name": "stdout"
        },
        {
          "output_type": "stream",
          "text": [
            "0% [##############################] 100% | ETA: 00:00:00"
          ],
          "name": "stderr"
        },
        {
          "output_type": "stream",
          "text": [
            "2019-02-16 20:34:58 | itr #72 | Processing samples...\n"
          ],
          "name": "stdout"
        },
        {
          "output_type": "stream",
          "text": [
            "\n",
            "Total time elapsed: 00:00:00\n"
          ],
          "name": "stderr"
        },
        {
          "output_type": "stream",
          "text": [
            "2019-02-16 20:34:58 | itr #72 | Logging diagnostics...\n",
            "2019-02-16 20:34:58 | itr #72 | Optimizing policy...\n",
            "2019-02-16 20:34:58 | itr #72 | Computing loss before\n",
            "2019-02-16 20:34:58 | itr #72 | Computing KL before\n",
            "2019-02-16 20:34:58 | itr #72 | Optimizing\n",
            "2019-02-16 20:34:58 | itr #72 | Start CG optimization: #parameters: 1480, #inputs: 200, #subsample_inputs: 200\n",
            "2019-02-16 20:34:58 | itr #72 | computing loss before\n",
            "2019-02-16 20:34:58 | itr #72 | performing update\n",
            "2019-02-16 20:34:58 | itr #72 | computing gradient\n",
            "2019-02-16 20:34:58 | itr #72 | gradient computed\n",
            "2019-02-16 20:34:58 | itr #72 | computing descent direction\n",
            "2019-02-16 20:34:59 | itr #72 | descent direction computed\n",
            "2019-02-16 20:34:59 | itr #72 | Line search condition violated. Rejecting the step!\n",
            "2019-02-16 20:34:59 | itr #72 | Violated because loss not improving\n",
            "2019-02-16 20:34:59 | itr #72 | backtrack iters: 14\n",
            "2019-02-16 20:34:59 | itr #72 | computing loss after\n",
            "2019-02-16 20:34:59 | itr #72 | optimization finished\n",
            "2019-02-16 20:34:59 | itr #72 | Computing KL after\n",
            "2019-02-16 20:34:59 | itr #72 | Computing loss after\n",
            "2019-02-16 20:34:59 | itr #72 | Fitting baseline...\n",
            "2019-02-16 20:34:59 | itr #72 | Saving snapshot...\n",
            "2019-02-16 20:34:59 | itr #72 | Saved\n",
            "2019-02-16 20:34:59 | --------------------------  -------------\n",
            "2019-02-16 20:34:59 | AverageDiscountedReturn      29.2732\n",
            "2019-02-16 20:34:59 | AverageReturn                31.14\n",
            "2019-02-16 20:34:59 | Baseline/ExplainedVariance    0.771655\n",
            "2019-02-16 20:34:59 | Entropy                       0.370207\n",
            "2019-02-16 20:34:59 | EnvExecTime                   0.363148\n",
            "2019-02-16 20:34:59 | Iteration                    72\n",
            "2019-02-16 20:34:59 | ItrTime                       1.01337\n",
            "2019-02-16 20:34:59 | MaxReturn                    46\n",
            "2019-02-16 20:34:59 | MinReturn                    15\n",
            "2019-02-16 20:34:59 | NumTrajs                    200\n",
            "2019-02-16 20:34:59 | Perplexity                    1.44803\n",
            "2019-02-16 20:34:59 | PolicyExecTime                0.267652\n",
            "2019-02-16 20:34:59 | ProcessExecTime               0.0221496\n",
            "2019-02-16 20:34:59 | StdReturn                     5.18656\n",
            "2019-02-16 20:34:59 | Time                         75.8581\n",
            "2019-02-16 20:34:59 | policy/Entropy                0.515267\n",
            "2019-02-16 20:34:59 | policy/KL                     0\n",
            "2019-02-16 20:34:59 | policy/KLBefore               0\n",
            "2019-02-16 20:34:59 | policy/LossAfter              9.53674e-10\n",
            "2019-02-16 20:34:59 | policy/LossBefore             9.53674e-10\n",
            "2019-02-16 20:34:59 | policy/dLoss                  0\n",
            "2019-02-16 20:34:59 | --------------------------  -------------\n",
            "2019-02-16 20:34:59 | itr #73 | Obtaining samples...\n",
            "2019-02-16 20:34:59 | itr #73 | Obtaining samples for iteration 73...\n"
          ],
          "name": "stdout"
        },
        {
          "output_type": "stream",
          "text": [
            "0% [##############################] 100% | ETA: 00:00:00"
          ],
          "name": "stderr"
        },
        {
          "output_type": "stream",
          "text": [
            "2019-02-16 20:34:59 | itr #73 | Processing samples...\n"
          ],
          "name": "stdout"
        },
        {
          "output_type": "stream",
          "text": [
            "\n",
            "Total time elapsed: 00:00:00\n"
          ],
          "name": "stderr"
        },
        {
          "output_type": "stream",
          "text": [
            "2019-02-16 20:34:59 | itr #73 | Logging diagnostics...\n",
            "2019-02-16 20:34:59 | itr #73 | Optimizing policy...\n",
            "2019-02-16 20:34:59 | itr #73 | Computing loss before\n",
            "2019-02-16 20:34:59 | itr #73 | Computing KL before\n",
            "2019-02-16 20:34:59 | itr #73 | Optimizing\n",
            "2019-02-16 20:34:59 | itr #73 | Start CG optimization: #parameters: 1480, #inputs: 200, #subsample_inputs: 200\n",
            "2019-02-16 20:34:59 | itr #73 | computing loss before\n",
            "2019-02-16 20:34:59 | itr #73 | performing update\n",
            "2019-02-16 20:34:59 | itr #73 | computing gradient\n",
            "2019-02-16 20:34:59 | itr #73 | gradient computed\n",
            "2019-02-16 20:34:59 | itr #73 | computing descent direction\n",
            "2019-02-16 20:35:00 | itr #73 | descent direction computed\n",
            "2019-02-16 20:35:00 | itr #73 | backtrack iters: 0\n",
            "2019-02-16 20:35:00 | itr #73 | computing loss after\n",
            "2019-02-16 20:35:00 | itr #73 | optimization finished\n",
            "2019-02-16 20:35:00 | itr #73 | Computing KL after\n",
            "2019-02-16 20:35:00 | itr #73 | Computing loss after\n",
            "2019-02-16 20:35:00 | itr #73 | Fitting baseline...\n",
            "2019-02-16 20:35:00 | itr #73 | Saving snapshot...\n",
            "2019-02-16 20:35:00 | itr #73 | Saved\n",
            "2019-02-16 20:35:00 | --------------------------  -------------\n",
            "2019-02-16 20:35:00 | AverageDiscountedReturn      29.0046\n",
            "2019-02-16 20:35:00 | AverageReturn                30.885\n",
            "2019-02-16 20:35:00 | Baseline/ExplainedVariance    0.765304\n",
            "2019-02-16 20:35:00 | Entropy                       0.371281\n",
            "2019-02-16 20:35:00 | EnvExecTime                   0.356668\n",
            "2019-02-16 20:35:00 | Iteration                    73\n",
            "2019-02-16 20:35:00 | ItrTime                       0.928008\n",
            "2019-02-16 20:35:00 | MaxReturn                    46\n",
            "2019-02-16 20:35:00 | MinReturn                    17\n",
            "2019-02-16 20:35:00 | NumTrajs                    200\n",
            "2019-02-16 20:35:00 | Perplexity                    1.44959\n",
            "2019-02-16 20:35:00 | PolicyExecTime                0.266368\n",
            "2019-02-16 20:35:00 | ProcessExecTime               0.021306\n",
            "2019-02-16 20:35:00 | StdReturn                     4.5598\n",
            "2019-02-16 20:35:00 | Time                         76.8233\n",
            "2019-02-16 20:35:00 | policy/Entropy                0.51814\n",
            "2019-02-16 20:35:00 | policy/KL                     0.00210146\n",
            "2019-02-16 20:35:00 | policy/KLBefore               0\n",
            "2019-02-16 20:35:00 | policy/LossAfter             -0.00795547\n",
            "2019-02-16 20:35:00 | policy/LossBefore            -9.53674e-09\n",
            "2019-02-16 20:35:00 | policy/dLoss                  0.00795546\n",
            "2019-02-16 20:35:00 | --------------------------  -------------\n",
            "2019-02-16 20:35:00 | itr #74 | Obtaining samples...\n",
            "2019-02-16 20:35:00 | itr #74 | Obtaining samples for iteration 74...\n"
          ],
          "name": "stdout"
        },
        {
          "output_type": "stream",
          "text": [
            "0% [##############################] 100% | ETA: 00:00:00"
          ],
          "name": "stderr"
        },
        {
          "output_type": "stream",
          "text": [
            "2019-02-16 20:35:00 | itr #74 | Processing samples...\n"
          ],
          "name": "stdout"
        },
        {
          "output_type": "stream",
          "text": [
            "\n",
            "Total time elapsed: 00:00:00\n"
          ],
          "name": "stderr"
        },
        {
          "output_type": "stream",
          "text": [
            "2019-02-16 20:35:00 | itr #74 | Logging diagnostics...\n",
            "2019-02-16 20:35:00 | itr #74 | Optimizing policy...\n",
            "2019-02-16 20:35:00 | itr #74 | Computing loss before\n",
            "2019-02-16 20:35:00 | itr #74 | Computing KL before\n",
            "2019-02-16 20:35:00 | itr #74 | Optimizing\n",
            "2019-02-16 20:35:00 | itr #74 | Start CG optimization: #parameters: 1480, #inputs: 200, #subsample_inputs: 200\n",
            "2019-02-16 20:35:00 | itr #74 | computing loss before\n",
            "2019-02-16 20:35:00 | itr #74 | performing update\n",
            "2019-02-16 20:35:00 | itr #74 | computing gradient\n",
            "2019-02-16 20:35:00 | itr #74 | gradient computed\n",
            "2019-02-16 20:35:00 | itr #74 | computing descent direction\n",
            "2019-02-16 20:35:01 | itr #74 | descent direction computed\n",
            "2019-02-16 20:35:01 | itr #74 | backtrack iters: 8\n",
            "2019-02-16 20:35:01 | itr #74 | computing loss after\n",
            "2019-02-16 20:35:01 | itr #74 | optimization finished\n",
            "2019-02-16 20:35:01 | itr #74 | Computing KL after\n",
            "2019-02-16 20:35:01 | itr #74 | Computing loss after\n",
            "2019-02-16 20:35:01 | itr #74 | Fitting baseline...\n",
            "2019-02-16 20:35:01 | itr #74 | Saving snapshot...\n",
            "2019-02-16 20:35:01 | itr #74 | Saved\n",
            "2019-02-16 20:35:01 | --------------------------  -------------\n",
            "2019-02-16 20:35:01 | AverageDiscountedReturn      28.8759\n",
            "2019-02-16 20:35:01 | AverageReturn                30.645\n",
            "2019-02-16 20:35:01 | Baseline/ExplainedVariance    0.774862\n",
            "2019-02-16 20:35:01 | Entropy                       0.352326\n",
            "2019-02-16 20:35:01 | EnvExecTime                   0.367866\n",
            "2019-02-16 20:35:01 | Iteration                    74\n",
            "2019-02-16 20:35:01 | ItrTime                       0.981861\n",
            "2019-02-16 20:35:01 | MaxReturn                    48\n",
            "2019-02-16 20:35:01 | MinReturn                    12\n",
            "2019-02-16 20:35:01 | NumTrajs                    200\n",
            "2019-02-16 20:35:01 | Perplexity                    1.42237\n",
            "2019-02-16 20:35:01 | PolicyExecTime                0.273845\n",
            "2019-02-16 20:35:01 | ProcessExecTime               0.0211217\n",
            "2019-02-16 20:35:01 | StdReturn                     4.92128\n",
            "2019-02-16 20:35:01 | Time                         77.8497\n",
            "2019-02-16 20:35:01 | policy/Entropy                0.526944\n",
            "2019-02-16 20:35:01 | policy/KL                     0.000150441\n",
            "2019-02-16 20:35:01 | policy/KLBefore               0\n",
            "2019-02-16 20:35:01 | policy/LossAfter             -0.000114578\n",
            "2019-02-16 20:35:01 | policy/LossBefore            -5.72205e-09\n",
            "2019-02-16 20:35:01 | policy/dLoss                  0.000114573\n",
            "2019-02-16 20:35:01 | --------------------------  -------------\n",
            "2019-02-16 20:35:01 | itr #75 | Obtaining samples...\n",
            "2019-02-16 20:35:01 | itr #75 | Obtaining samples for iteration 75...\n"
          ],
          "name": "stdout"
        },
        {
          "output_type": "stream",
          "text": [
            "0% [##############################] 100% | ETA: 00:00:00"
          ],
          "name": "stderr"
        },
        {
          "output_type": "stream",
          "text": [
            "2019-02-16 20:35:01 | itr #75 | Processing samples...\n"
          ],
          "name": "stdout"
        },
        {
          "output_type": "stream",
          "text": [
            "\n",
            "Total time elapsed: 00:00:00\n"
          ],
          "name": "stderr"
        },
        {
          "output_type": "stream",
          "text": [
            "2019-02-16 20:35:01 | itr #75 | Logging diagnostics...\n",
            "2019-02-16 20:35:01 | itr #75 | Optimizing policy...\n",
            "2019-02-16 20:35:01 | itr #75 | Computing loss before\n",
            "2019-02-16 20:35:01 | itr #75 | Computing KL before\n",
            "2019-02-16 20:35:01 | itr #75 | Optimizing\n",
            "2019-02-16 20:35:01 | itr #75 | Start CG optimization: #parameters: 1480, #inputs: 200, #subsample_inputs: 200\n",
            "2019-02-16 20:35:01 | itr #75 | computing loss before\n",
            "2019-02-16 20:35:01 | itr #75 | performing update\n",
            "2019-02-16 20:35:01 | itr #75 | computing gradient\n",
            "2019-02-16 20:35:01 | itr #75 | gradient computed\n",
            "2019-02-16 20:35:01 | itr #75 | computing descent direction\n",
            "2019-02-16 20:35:02 | itr #75 | descent direction computed\n",
            "2019-02-16 20:35:02 | itr #75 | backtrack iters: 6\n",
            "2019-02-16 20:35:02 | itr #75 | computing loss after\n",
            "2019-02-16 20:35:02 | itr #75 | optimization finished\n",
            "2019-02-16 20:35:02 | itr #75 | Computing KL after\n",
            "2019-02-16 20:35:02 | itr #75 | Computing loss after\n",
            "2019-02-16 20:35:02 | itr #75 | Fitting baseline...\n",
            "2019-02-16 20:35:02 | itr #75 | Saving snapshot...\n",
            "2019-02-16 20:35:02 | itr #75 | Saved\n",
            "2019-02-16 20:35:02 | --------------------------  -------------\n",
            "2019-02-16 20:35:02 | AverageDiscountedReturn      29.4276\n",
            "2019-02-16 20:35:02 | AverageReturn                31.19\n",
            "2019-02-16 20:35:02 | Baseline/ExplainedVariance    0.772359\n",
            "2019-02-16 20:35:02 | Entropy                       0.333259\n",
            "2019-02-16 20:35:02 | EnvExecTime                   0.363374\n",
            "2019-02-16 20:35:02 | Iteration                    75\n",
            "2019-02-16 20:35:02 | ItrTime                       0.964574\n",
            "2019-02-16 20:35:02 | MaxReturn                    44\n",
            "2019-02-16 20:35:02 | MinReturn                    15\n",
            "2019-02-16 20:35:02 | NumTrajs                    200\n",
            "2019-02-16 20:35:02 | Perplexity                    1.39551\n",
            "2019-02-16 20:35:02 | PolicyExecTime                0.273697\n",
            "2019-02-16 20:35:02 | ProcessExecTime               0.0209172\n",
            "2019-02-16 20:35:02 | StdReturn                     5.37809\n",
            "2019-02-16 20:35:02 | Time                         78.8421\n",
            "2019-02-16 20:35:02 | policy/Entropy                0.528779\n",
            "2019-02-16 20:35:02 | policy/KL                     0.000279498\n",
            "2019-02-16 20:35:02 | policy/KLBefore               0\n",
            "2019-02-16 20:35:02 | policy/LossAfter             -0.00259862\n",
            "2019-02-16 20:35:02 | policy/LossBefore             3.8147e-09\n",
            "2019-02-16 20:35:02 | policy/dLoss                  0.00259862\n",
            "2019-02-16 20:35:02 | --------------------------  -------------\n",
            "2019-02-16 20:35:02 | itr #76 | Obtaining samples...\n",
            "2019-02-16 20:35:02 | itr #76 | Obtaining samples for iteration 76...\n"
          ],
          "name": "stdout"
        },
        {
          "output_type": "stream",
          "text": [
            "0% [##############################] 100% | ETA: 00:00:00"
          ],
          "name": "stderr"
        },
        {
          "output_type": "stream",
          "text": [
            "2019-02-16 20:35:02 | itr #76 | Processing samples...\n"
          ],
          "name": "stdout"
        },
        {
          "output_type": "stream",
          "text": [
            "\n",
            "Total time elapsed: 00:00:00\n"
          ],
          "name": "stderr"
        },
        {
          "output_type": "stream",
          "text": [
            "2019-02-16 20:35:02 | itr #76 | Logging diagnostics...\n",
            "2019-02-16 20:35:02 | itr #76 | Optimizing policy...\n",
            "2019-02-16 20:35:02 | itr #76 | Computing loss before\n",
            "2019-02-16 20:35:02 | itr #76 | Computing KL before\n",
            "2019-02-16 20:35:02 | itr #76 | Optimizing\n",
            "2019-02-16 20:35:02 | itr #76 | Start CG optimization: #parameters: 1480, #inputs: 200, #subsample_inputs: 200\n",
            "2019-02-16 20:35:02 | itr #76 | computing loss before\n",
            "2019-02-16 20:35:02 | itr #76 | performing update\n",
            "2019-02-16 20:35:02 | itr #76 | computing gradient\n",
            "2019-02-16 20:35:02 | itr #76 | gradient computed\n",
            "2019-02-16 20:35:02 | itr #76 | computing descent direction\n",
            "2019-02-16 20:35:03 | itr #76 | descent direction computed\n",
            "2019-02-16 20:35:03 | itr #76 | backtrack iters: 11\n",
            "2019-02-16 20:35:03 | itr #76 | computing loss after\n",
            "2019-02-16 20:35:03 | itr #76 | optimization finished\n",
            "2019-02-16 20:35:03 | itr #76 | Computing KL after\n",
            "2019-02-16 20:35:03 | itr #76 | Computing loss after\n",
            "2019-02-16 20:35:03 | itr #76 | Fitting baseline...\n",
            "2019-02-16 20:35:03 | itr #76 | Saving snapshot...\n",
            "2019-02-16 20:35:03 | itr #76 | Saved\n",
            "2019-02-16 20:35:03 | --------------------------  -------------\n",
            "2019-02-16 20:35:03 | AverageDiscountedReturn      29.3295\n",
            "2019-02-16 20:35:03 | AverageReturn                31.13\n",
            "2019-02-16 20:35:03 | Baseline/ExplainedVariance    0.784219\n",
            "2019-02-16 20:35:03 | Entropy                       0.333137\n",
            "2019-02-16 20:35:03 | EnvExecTime                   0.37395\n",
            "2019-02-16 20:35:03 | Iteration                    76\n",
            "2019-02-16 20:35:03 | ItrTime                       1.00764\n",
            "2019-02-16 20:35:03 | MaxReturn                    45\n",
            "2019-02-16 20:35:03 | MinReturn                    12\n",
            "2019-02-16 20:35:03 | NumTrajs                    200\n",
            "2019-02-16 20:35:03 | Perplexity                    1.39534\n",
            "2019-02-16 20:35:03 | PolicyExecTime                0.266868\n",
            "2019-02-16 20:35:03 | ProcessExecTime               0.0216584\n",
            "2019-02-16 20:35:03 | StdReturn                     5.1003\n",
            "2019-02-16 20:35:03 | Time                         79.8856\n",
            "2019-02-16 20:35:03 | policy/Entropy                0.528961\n",
            "2019-02-16 20:35:03 | policy/KL                     1.84969e-05\n",
            "2019-02-16 20:35:03 | policy/KLBefore               0\n",
            "2019-02-16 20:35:03 | policy/LossAfter             -0.000192456\n",
            "2019-02-16 20:35:03 | policy/LossBefore             1.14441e-08\n",
            "2019-02-16 20:35:03 | policy/dLoss                  0.000192467\n",
            "2019-02-16 20:35:03 | --------------------------  -------------\n",
            "2019-02-16 20:35:03 | itr #77 | Obtaining samples...\n",
            "2019-02-16 20:35:03 | itr #77 | Obtaining samples for iteration 77...\n"
          ],
          "name": "stdout"
        },
        {
          "output_type": "stream",
          "text": [
            "0% [##############################] 100% | ETA: 00:00:00"
          ],
          "name": "stderr"
        },
        {
          "output_type": "stream",
          "text": [
            "2019-02-16 20:35:03 | itr #77 | Processing samples...\n"
          ],
          "name": "stdout"
        },
        {
          "output_type": "stream",
          "text": [
            "\n",
            "Total time elapsed: 00:00:00\n"
          ],
          "name": "stderr"
        },
        {
          "output_type": "stream",
          "text": [
            "2019-02-16 20:35:03 | itr #77 | Logging diagnostics...\n",
            "2019-02-16 20:35:03 | itr #77 | Optimizing policy...\n",
            "2019-02-16 20:35:03 | itr #77 | Computing loss before\n",
            "2019-02-16 20:35:03 | itr #77 | Computing KL before\n",
            "2019-02-16 20:35:03 | itr #77 | Optimizing\n",
            "2019-02-16 20:35:04 | itr #77 | Start CG optimization: #parameters: 1480, #inputs: 200, #subsample_inputs: 200\n",
            "2019-02-16 20:35:04 | itr #77 | computing loss before\n",
            "2019-02-16 20:35:04 | itr #77 | performing update\n",
            "2019-02-16 20:35:04 | itr #77 | computing gradient\n",
            "2019-02-16 20:35:04 | itr #77 | gradient computed\n",
            "2019-02-16 20:35:04 | itr #77 | computing descent direction\n",
            "2019-02-16 20:35:04 | itr #77 | descent direction computed\n",
            "2019-02-16 20:35:04 | itr #77 | Line search condition violated. Rejecting the step!\n",
            "2019-02-16 20:35:04 | itr #77 | Violated because loss not improving\n",
            "2019-02-16 20:35:04 | itr #77 | backtrack iters: 14\n",
            "2019-02-16 20:35:04 | itr #77 | computing loss after\n",
            "2019-02-16 20:35:04 | itr #77 | optimization finished\n",
            "2019-02-16 20:35:04 | itr #77 | Computing KL after\n",
            "2019-02-16 20:35:04 | itr #77 | Computing loss after\n",
            "2019-02-16 20:35:04 | itr #77 | Fitting baseline...\n",
            "2019-02-16 20:35:04 | itr #77 | Saving snapshot...\n",
            "2019-02-16 20:35:04 | itr #77 | Saved\n",
            "2019-02-16 20:35:04 | --------------------------  -------------\n",
            "2019-02-16 20:35:04 | AverageDiscountedReturn      29.2347\n",
            "2019-02-16 20:35:04 | AverageReturn                30.995\n",
            "2019-02-16 20:35:04 | Baseline/ExplainedVariance    0.778042\n",
            "2019-02-16 20:35:04 | Entropy                       0.330657\n",
            "2019-02-16 20:35:04 | EnvExecTime                   0.369691\n",
            "2019-02-16 20:35:04 | Iteration                    77\n",
            "2019-02-16 20:35:04 | ItrTime                       1.02448\n",
            "2019-02-16 20:35:04 | MaxReturn                    46\n",
            "2019-02-16 20:35:04 | MinReturn                    15\n",
            "2019-02-16 20:35:04 | NumTrajs                    200\n",
            "2019-02-16 20:35:04 | Perplexity                    1.39188\n",
            "2019-02-16 20:35:04 | PolicyExecTime                0.266779\n",
            "2019-02-16 20:35:04 | ProcessExecTime               0.0207286\n",
            "2019-02-16 20:35:04 | StdReturn                     5.05321\n",
            "2019-02-16 20:35:04 | Time                         80.9556\n",
            "2019-02-16 20:35:04 | policy/Entropy                0.529841\n",
            "2019-02-16 20:35:04 | policy/KL                     0\n",
            "2019-02-16 20:35:04 | policy/KLBefore               0\n",
            "2019-02-16 20:35:04 | policy/LossAfter              4.29153e-09\n",
            "2019-02-16 20:35:04 | policy/LossBefore             4.29153e-09\n",
            "2019-02-16 20:35:04 | policy/dLoss                  0\n",
            "2019-02-16 20:35:04 | --------------------------  -------------\n",
            "2019-02-16 20:35:04 | itr #78 | Obtaining samples...\n",
            "2019-02-16 20:35:04 | itr #78 | Obtaining samples for iteration 78...\n"
          ],
          "name": "stdout"
        },
        {
          "output_type": "stream",
          "text": [
            "0% [##############################] 100% | ETA: 00:00:00"
          ],
          "name": "stderr"
        },
        {
          "output_type": "stream",
          "text": [
            "2019-02-16 20:35:05 | itr #78 | Processing samples...\n"
          ],
          "name": "stdout"
        },
        {
          "output_type": "stream",
          "text": [
            "\n",
            "Total time elapsed: 00:00:00\n"
          ],
          "name": "stderr"
        },
        {
          "output_type": "stream",
          "text": [
            "2019-02-16 20:35:05 | itr #78 | Logging diagnostics...\n",
            "2019-02-16 20:35:05 | itr #78 | Optimizing policy...\n",
            "2019-02-16 20:35:05 | itr #78 | Computing loss before\n",
            "2019-02-16 20:35:05 | itr #78 | Computing KL before\n",
            "2019-02-16 20:35:05 | itr #78 | Optimizing\n",
            "2019-02-16 20:35:05 | itr #78 | Start CG optimization: #parameters: 1480, #inputs: 200, #subsample_inputs: 200\n",
            "2019-02-16 20:35:05 | itr #78 | computing loss before\n",
            "2019-02-16 20:35:05 | itr #78 | performing update\n",
            "2019-02-16 20:35:05 | itr #78 | computing gradient\n",
            "2019-02-16 20:35:05 | itr #78 | gradient computed\n",
            "2019-02-16 20:35:05 | itr #78 | computing descent direction\n",
            "2019-02-16 20:35:05 | itr #78 | descent direction computed\n",
            "2019-02-16 20:35:05 | itr #78 | Line search condition violated. Rejecting the step!\n",
            "2019-02-16 20:35:05 | itr #78 | Violated because loss not improving\n",
            "2019-02-16 20:35:05 | itr #78 | backtrack iters: 14\n",
            "2019-02-16 20:35:05 | itr #78 | computing loss after\n",
            "2019-02-16 20:35:05 | itr #78 | optimization finished\n",
            "2019-02-16 20:35:05 | itr #78 | Computing KL after\n",
            "2019-02-16 20:35:05 | itr #78 | Computing loss after\n",
            "2019-02-16 20:35:05 | itr #78 | Fitting baseline...\n",
            "2019-02-16 20:35:05 | itr #78 | Saving snapshot...\n",
            "2019-02-16 20:35:05 | itr #78 | Saved\n",
            "2019-02-16 20:35:05 | --------------------------  -------------\n",
            "2019-02-16 20:35:05 | AverageDiscountedReturn      29.4433\n",
            "2019-02-16 20:35:05 | AverageReturn                31.275\n",
            "2019-02-16 20:35:05 | Baseline/ExplainedVariance    0.789551\n",
            "2019-02-16 20:35:05 | Entropy                       0.330755\n",
            "2019-02-16 20:35:05 | EnvExecTime                   0.354459\n",
            "2019-02-16 20:35:05 | Iteration                    78\n",
            "2019-02-16 20:35:05 | ItrTime                       1.01262\n",
            "2019-02-16 20:35:05 | MaxReturn                    44\n",
            "2019-02-16 20:35:05 | MinReturn                    14\n",
            "2019-02-16 20:35:05 | NumTrajs                    200\n",
            "2019-02-16 20:35:05 | Perplexity                    1.39202\n",
            "2019-02-16 20:35:05 | PolicyExecTime                0.275733\n",
            "2019-02-16 20:35:05 | ProcessExecTime               0.0211191\n",
            "2019-02-16 20:35:05 | StdReturn                     4.4384\n",
            "2019-02-16 20:35:05 | Time                         82.014\n",
            "2019-02-16 20:35:05 | policy/Entropy                0.525668\n",
            "2019-02-16 20:35:05 | policy/KL                     0\n",
            "2019-02-16 20:35:05 | policy/KLBefore               0\n",
            "2019-02-16 20:35:05 | policy/LossAfter              1.23978e-08\n",
            "2019-02-16 20:35:05 | policy/LossBefore             1.23978e-08\n",
            "2019-02-16 20:35:05 | policy/dLoss                  0\n",
            "2019-02-16 20:35:05 | --------------------------  -------------\n",
            "2019-02-16 20:35:05 | itr #79 | Obtaining samples...\n",
            "2019-02-16 20:35:05 | itr #79 | Obtaining samples for iteration 79...\n"
          ],
          "name": "stdout"
        },
        {
          "output_type": "stream",
          "text": [
            "0% [##############################] 100% | ETA: 00:00:00\n",
            "Total time elapsed: 00:00:00"
          ],
          "name": "stderr"
        },
        {
          "output_type": "stream",
          "text": [
            "2019-02-16 20:35:06 | itr #79 | Processing samples...\n"
          ],
          "name": "stdout"
        },
        {
          "output_type": "stream",
          "text": [
            "\n"
          ],
          "name": "stderr"
        },
        {
          "output_type": "stream",
          "text": [
            "2019-02-16 20:35:06 | itr #79 | Logging diagnostics...\n",
            "2019-02-16 20:35:06 | itr #79 | Optimizing policy...\n",
            "2019-02-16 20:35:06 | itr #79 | Computing loss before\n",
            "2019-02-16 20:35:06 | itr #79 | Computing KL before\n",
            "2019-02-16 20:35:06 | itr #79 | Optimizing\n",
            "2019-02-16 20:35:06 | itr #79 | Start CG optimization: #parameters: 1480, #inputs: 200, #subsample_inputs: 200\n",
            "2019-02-16 20:35:06 | itr #79 | computing loss before\n",
            "2019-02-16 20:35:06 | itr #79 | performing update\n",
            "2019-02-16 20:35:06 | itr #79 | computing gradient\n",
            "2019-02-16 20:35:06 | itr #79 | gradient computed\n",
            "2019-02-16 20:35:06 | itr #79 | computing descent direction\n",
            "2019-02-16 20:35:06 | itr #79 | descent direction computed\n",
            "2019-02-16 20:35:06 | itr #79 | backtrack iters: 1\n",
            "2019-02-16 20:35:06 | itr #79 | computing loss after\n",
            "2019-02-16 20:35:06 | itr #79 | optimization finished\n",
            "2019-02-16 20:35:06 | itr #79 | Computing KL after\n",
            "2019-02-16 20:35:06 | itr #79 | Computing loss after\n",
            "2019-02-16 20:35:06 | itr #79 | Fitting baseline...\n",
            "2019-02-16 20:35:06 | itr #79 | Saving snapshot...\n",
            "2019-02-16 20:35:06 | itr #79 | Saved\n",
            "2019-02-16 20:35:06 | --------------------------  -------------\n",
            "2019-02-16 20:35:06 | AverageDiscountedReturn      29.0882\n",
            "2019-02-16 20:35:06 | AverageReturn                30.875\n",
            "2019-02-16 20:35:06 | Baseline/ExplainedVariance    0.781332\n",
            "2019-02-16 20:35:06 | Entropy                       0.331918\n",
            "2019-02-16 20:35:06 | EnvExecTime                   0.366751\n",
            "2019-02-16 20:35:06 | Iteration                    79\n",
            "2019-02-16 20:35:06 | ItrTime                       0.946636\n",
            "2019-02-16 20:35:06 | MaxReturn                    41\n",
            "2019-02-16 20:35:06 | MinReturn                    11\n",
            "2019-02-16 20:35:06 | NumTrajs                    200\n",
            "2019-02-16 20:35:06 | Perplexity                    1.39364\n",
            "2019-02-16 20:35:06 | PolicyExecTime                0.269502\n",
            "2019-02-16 20:35:06 | ProcessExecTime               0.0215018\n",
            "2019-02-16 20:35:06 | StdReturn                     4.89994\n",
            "2019-02-16 20:35:06 | Time                         82.9899\n",
            "2019-02-16 20:35:06 | policy/Entropy                0.526709\n",
            "2019-02-16 20:35:06 | policy/KL                     0.00691071\n",
            "2019-02-16 20:35:06 | policy/KLBefore               0\n",
            "2019-02-16 20:35:06 | policy/LossAfter             -0.00329652\n",
            "2019-02-16 20:35:06 | policy/LossBefore            -4.76837e-09\n",
            "2019-02-16 20:35:06 | policy/dLoss                  0.00329652\n",
            "2019-02-16 20:35:06 | --------------------------  -------------\n",
            "2019-02-16 20:35:06 | itr #80 | Obtaining samples...\n",
            "2019-02-16 20:35:06 | itr #80 | Obtaining samples for iteration 80...\n"
          ],
          "name": "stdout"
        },
        {
          "output_type": "stream",
          "text": [
            "0% [##############################] 100% | ETA: 00:00:00"
          ],
          "name": "stderr"
        },
        {
          "output_type": "stream",
          "text": [
            "2019-02-16 20:35:07 | itr #80 | Processing samples...\n"
          ],
          "name": "stdout"
        },
        {
          "output_type": "stream",
          "text": [
            "\n",
            "Total time elapsed: 00:00:00\n"
          ],
          "name": "stderr"
        },
        {
          "output_type": "stream",
          "text": [
            "2019-02-16 20:35:07 | itr #80 | Logging diagnostics...\n",
            "2019-02-16 20:35:07 | itr #80 | Optimizing policy...\n",
            "2019-02-16 20:35:07 | itr #80 | Computing loss before\n",
            "2019-02-16 20:35:07 | itr #80 | Computing KL before\n",
            "2019-02-16 20:35:07 | itr #80 | Optimizing\n",
            "2019-02-16 20:35:07 | itr #80 | Start CG optimization: #parameters: 1480, #inputs: 200, #subsample_inputs: 200\n",
            "2019-02-16 20:35:07 | itr #80 | computing loss before\n",
            "2019-02-16 20:35:07 | itr #80 | performing update\n",
            "2019-02-16 20:35:07 | itr #80 | computing gradient\n",
            "2019-02-16 20:35:07 | itr #80 | gradient computed\n",
            "2019-02-16 20:35:07 | itr #80 | computing descent direction\n",
            "2019-02-16 20:35:07 | itr #80 | descent direction computed\n",
            "2019-02-16 20:35:07 | itr #80 | backtrack iters: 7\n",
            "2019-02-16 20:35:07 | itr #80 | computing loss after\n",
            "2019-02-16 20:35:07 | itr #80 | optimization finished\n",
            "2019-02-16 20:35:07 | itr #80 | Computing KL after\n",
            "2019-02-16 20:35:07 | itr #80 | Computing loss after\n",
            "2019-02-16 20:35:07 | itr #80 | Fitting baseline...\n",
            "2019-02-16 20:35:07 | itr #80 | Saving snapshot...\n",
            "2019-02-16 20:35:07 | itr #80 | Saved\n",
            "2019-02-16 20:35:07 | --------------------------  -------------\n",
            "2019-02-16 20:35:07 | AverageDiscountedReturn      30.0099\n",
            "2019-02-16 20:35:07 | AverageReturn                31.86\n",
            "2019-02-16 20:35:07 | Baseline/ExplainedVariance    0.775116\n",
            "2019-02-16 20:35:07 | Entropy                       0.34496\n",
            "2019-02-16 20:35:07 | EnvExecTime                   0.342687\n",
            "2019-02-16 20:35:07 | Iteration                    80\n",
            "2019-02-16 20:35:07 | ItrTime                       0.936116\n",
            "2019-02-16 20:35:07 | MaxReturn                    47\n",
            "2019-02-16 20:35:07 | MinReturn                    16\n",
            "2019-02-16 20:35:07 | NumTrajs                    200\n",
            "2019-02-16 20:35:07 | Perplexity                    1.41193\n",
            "2019-02-16 20:35:07 | PolicyExecTime                0.264221\n",
            "2019-02-16 20:35:07 | ProcessExecTime               0.0209498\n",
            "2019-02-16 20:35:07 | StdReturn                     4.96794\n",
            "2019-02-16 20:35:07 | Time                         83.9753\n",
            "2019-02-16 20:35:07 | policy/Entropy                0.51618\n",
            "2019-02-16 20:35:07 | policy/KL                     0.00575994\n",
            "2019-02-16 20:35:07 | policy/KLBefore               0\n",
            "2019-02-16 20:35:07 | policy/LossAfter             -0.00264614\n",
            "2019-02-16 20:35:07 | policy/LossBefore             9.53674e-10\n",
            "2019-02-16 20:35:07 | policy/dLoss                  0.00264614\n",
            "2019-02-16 20:35:07 | --------------------------  -------------\n",
            "2019-02-16 20:35:07 | itr #81 | Obtaining samples...\n",
            "2019-02-16 20:35:07 | itr #81 | Obtaining samples for iteration 81...\n"
          ],
          "name": "stdout"
        },
        {
          "output_type": "stream",
          "text": [
            "0% [##############################] 100% | ETA: 00:00:00"
          ],
          "name": "stderr"
        },
        {
          "output_type": "stream",
          "text": [
            "2019-02-16 20:35:08 | itr #81 | Processing samples...\n"
          ],
          "name": "stdout"
        },
        {
          "output_type": "stream",
          "text": [
            "\n",
            "Total time elapsed: 00:00:00\n"
          ],
          "name": "stderr"
        },
        {
          "output_type": "stream",
          "text": [
            "2019-02-16 20:35:08 | itr #81 | Logging diagnostics...\n",
            "2019-02-16 20:35:08 | itr #81 | Optimizing policy...\n",
            "2019-02-16 20:35:08 | itr #81 | Computing loss before\n",
            "2019-02-16 20:35:08 | itr #81 | Computing KL before\n",
            "2019-02-16 20:35:08 | itr #81 | Optimizing\n",
            "2019-02-16 20:35:08 | itr #81 | Start CG optimization: #parameters: 1480, #inputs: 200, #subsample_inputs: 200\n",
            "2019-02-16 20:35:08 | itr #81 | computing loss before\n",
            "2019-02-16 20:35:08 | itr #81 | performing update\n",
            "2019-02-16 20:35:08 | itr #81 | computing gradient\n",
            "2019-02-16 20:35:08 | itr #81 | gradient computed\n",
            "2019-02-16 20:35:08 | itr #81 | computing descent direction\n",
            "2019-02-16 20:35:08 | itr #81 | descent direction computed\n",
            "2019-02-16 20:35:08 | itr #81 | backtrack iters: 9\n",
            "2019-02-16 20:35:08 | itr #81 | computing loss after\n",
            "2019-02-16 20:35:08 | itr #81 | optimization finished\n",
            "2019-02-16 20:35:08 | itr #81 | Computing KL after\n",
            "2019-02-16 20:35:08 | itr #81 | Computing loss after\n",
            "2019-02-16 20:35:08 | itr #81 | Fitting baseline...\n",
            "2019-02-16 20:35:08 | itr #81 | Saving snapshot...\n",
            "2019-02-16 20:35:08 | itr #81 | Saved\n",
            "2019-02-16 20:35:08 | --------------------------  -------------\n",
            "2019-02-16 20:35:08 | AverageDiscountedReturn      30.3853\n",
            "2019-02-16 20:35:08 | AverageReturn                32.25\n",
            "2019-02-16 20:35:08 | Baseline/ExplainedVariance    0.806561\n",
            "2019-02-16 20:35:08 | Entropy                       0.342503\n",
            "2019-02-16 20:35:08 | EnvExecTime                   0.356834\n",
            "2019-02-16 20:35:08 | Iteration                    81\n",
            "2019-02-16 20:35:08 | ItrTime                       0.960106\n",
            "2019-02-16 20:35:08 | MaxReturn                    52\n",
            "2019-02-16 20:35:08 | MinReturn                    15\n",
            "2019-02-16 20:35:08 | NumTrajs                    200\n",
            "2019-02-16 20:35:08 | Perplexity                    1.40847\n",
            "2019-02-16 20:35:08 | PolicyExecTime                0.266747\n",
            "2019-02-16 20:35:08 | ProcessExecTime               0.0219033\n",
            "2019-02-16 20:35:08 | StdReturn                     4.81222\n",
            "2019-02-16 20:35:08 | Time                         84.9782\n",
            "2019-02-16 20:35:08 | policy/Entropy                0.519326\n",
            "2019-02-16 20:35:08 | policy/KL                     0.000144772\n",
            "2019-02-16 20:35:08 | policy/KLBefore               0\n",
            "2019-02-16 20:35:08 | policy/LossAfter             -0.000550918\n",
            "2019-02-16 20:35:08 | policy/LossBefore            -3.33786e-09\n",
            "2019-02-16 20:35:08 | policy/dLoss                  0.000550914\n",
            "2019-02-16 20:35:08 | --------------------------  -------------\n",
            "2019-02-16 20:35:08 | itr #82 | Obtaining samples...\n",
            "2019-02-16 20:35:08 | itr #82 | Obtaining samples for iteration 82...\n"
          ],
          "name": "stdout"
        },
        {
          "output_type": "stream",
          "text": [
            "0% [##############################] 100% | ETA: 00:00:00"
          ],
          "name": "stderr"
        },
        {
          "output_type": "stream",
          "text": [
            "2019-02-16 20:35:09 | itr #82 | Processing samples...\n"
          ],
          "name": "stdout"
        },
        {
          "output_type": "stream",
          "text": [
            "\n",
            "Total time elapsed: 00:00:00\n"
          ],
          "name": "stderr"
        },
        {
          "output_type": "stream",
          "text": [
            "2019-02-16 20:35:09 | itr #82 | Logging diagnostics...\n",
            "2019-02-16 20:35:09 | itr #82 | Optimizing policy...\n",
            "2019-02-16 20:35:09 | itr #82 | Computing loss before\n",
            "2019-02-16 20:35:09 | itr #82 | Computing KL before\n",
            "2019-02-16 20:35:09 | itr #82 | Optimizing\n",
            "2019-02-16 20:35:09 | itr #82 | Start CG optimization: #parameters: 1480, #inputs: 200, #subsample_inputs: 200\n",
            "2019-02-16 20:35:09 | itr #82 | computing loss before\n",
            "2019-02-16 20:35:09 | itr #82 | performing update\n",
            "2019-02-16 20:35:09 | itr #82 | computing gradient\n",
            "2019-02-16 20:35:09 | itr #82 | gradient computed\n",
            "2019-02-16 20:35:09 | itr #82 | computing descent direction\n",
            "2019-02-16 20:35:09 | itr #82 | descent direction computed\n",
            "2019-02-16 20:35:09 | itr #82 | backtrack iters: 10\n",
            "2019-02-16 20:35:09 | itr #82 | computing loss after\n",
            "2019-02-16 20:35:09 | itr #82 | optimization finished\n",
            "2019-02-16 20:35:09 | itr #82 | Computing KL after\n",
            "2019-02-16 20:35:09 | itr #82 | Computing loss after\n",
            "2019-02-16 20:35:09 | itr #82 | Fitting baseline...\n",
            "2019-02-16 20:35:09 | itr #82 | Saving snapshot...\n",
            "2019-02-16 20:35:09 | itr #82 | Saved\n",
            "2019-02-16 20:35:09 | --------------------------  -------------\n",
            "2019-02-16 20:35:09 | AverageDiscountedReturn      29.4512\n",
            "2019-02-16 20:35:09 | AverageReturn                31.285\n",
            "2019-02-16 20:35:09 | Baseline/ExplainedVariance    0.788692\n",
            "2019-02-16 20:35:09 | Entropy                       0.353744\n",
            "2019-02-16 20:35:09 | EnvExecTime                   0.342826\n",
            "2019-02-16 20:35:09 | Iteration                    82\n",
            "2019-02-16 20:35:09 | ItrTime                       0.977913\n",
            "2019-02-16 20:35:09 | MaxReturn                    46\n",
            "2019-02-16 20:35:09 | MinReturn                    12\n",
            "2019-02-16 20:35:09 | NumTrajs                    200\n",
            "2019-02-16 20:35:09 | Perplexity                    1.42439\n",
            "2019-02-16 20:35:09 | PolicyExecTime                0.286494\n",
            "2019-02-16 20:35:09 | ProcessExecTime               0.0229115\n",
            "2019-02-16 20:35:09 | StdReturn                     5.07974\n",
            "2019-02-16 20:35:09 | Time                         86.0034\n",
            "2019-02-16 20:35:09 | policy/Entropy                0.519271\n",
            "2019-02-16 20:35:09 | policy/KL                     7.56745e-05\n",
            "2019-02-16 20:35:09 | policy/KLBefore               0\n",
            "2019-02-16 20:35:09 | policy/LossAfter             -0.000383632\n",
            "2019-02-16 20:35:09 | policy/LossBefore            -4.76837e-09\n",
            "2019-02-16 20:35:09 | policy/dLoss                  0.000383627\n",
            "2019-02-16 20:35:09 | --------------------------  -------------\n",
            "2019-02-16 20:35:09 | itr #83 | Obtaining samples...\n",
            "2019-02-16 20:35:09 | itr #83 | Obtaining samples for iteration 83...\n"
          ],
          "name": "stdout"
        },
        {
          "output_type": "stream",
          "text": [
            "0% [##############################] 100% | ETA: 00:00:00"
          ],
          "name": "stderr"
        },
        {
          "output_type": "stream",
          "text": [
            "2019-02-16 20:35:10 | itr #83 | Processing samples...\n"
          ],
          "name": "stdout"
        },
        {
          "output_type": "stream",
          "text": [
            "\n",
            "Total time elapsed: 00:00:00\n"
          ],
          "name": "stderr"
        },
        {
          "output_type": "stream",
          "text": [
            "2019-02-16 20:35:10 | itr #83 | Logging diagnostics...\n",
            "2019-02-16 20:35:10 | itr #83 | Optimizing policy...\n",
            "2019-02-16 20:35:10 | itr #83 | Computing loss before\n",
            "2019-02-16 20:35:10 | itr #83 | Computing KL before\n",
            "2019-02-16 20:35:10 | itr #83 | Optimizing\n",
            "2019-02-16 20:35:10 | itr #83 | Start CG optimization: #parameters: 1480, #inputs: 200, #subsample_inputs: 200\n",
            "2019-02-16 20:35:10 | itr #83 | computing loss before\n",
            "2019-02-16 20:35:10 | itr #83 | performing update\n",
            "2019-02-16 20:35:10 | itr #83 | computing gradient\n",
            "2019-02-16 20:35:10 | itr #83 | gradient computed\n",
            "2019-02-16 20:35:10 | itr #83 | computing descent direction\n",
            "2019-02-16 20:35:10 | itr #83 | descent direction computed\n",
            "2019-02-16 20:35:10 | itr #83 | backtrack iters: 0\n",
            "2019-02-16 20:35:10 | itr #83 | computing loss after\n",
            "2019-02-16 20:35:10 | itr #83 | optimization finished\n",
            "2019-02-16 20:35:10 | itr #83 | Computing KL after\n",
            "2019-02-16 20:35:10 | itr #83 | Computing loss after\n",
            "2019-02-16 20:35:10 | itr #83 | Fitting baseline...\n",
            "2019-02-16 20:35:10 | itr #83 | Saving snapshot...\n",
            "2019-02-16 20:35:10 | itr #83 | Saved\n",
            "2019-02-16 20:35:10 | --------------------------  ------------\n",
            "2019-02-16 20:35:10 | AverageDiscountedReturn      29.8819\n",
            "2019-02-16 20:35:10 | AverageReturn                31.775\n",
            "2019-02-16 20:35:10 | Baseline/ExplainedVariance    0.806443\n",
            "2019-02-16 20:35:10 | Entropy                       0.348026\n",
            "2019-02-16 20:35:10 | EnvExecTime                   0.348873\n",
            "2019-02-16 20:35:10 | Iteration                    83\n",
            "2019-02-16 20:35:10 | ItrTime                       0.906942\n",
            "2019-02-16 20:35:10 | MaxReturn                    46\n",
            "2019-02-16 20:35:10 | MinReturn                    16\n",
            "2019-02-16 20:35:10 | NumTrajs                    200\n",
            "2019-02-16 20:35:10 | Perplexity                    1.41627\n",
            "2019-02-16 20:35:10 | PolicyExecTime                0.273349\n",
            "2019-02-16 20:35:10 | ProcessExecTime               0.0208559\n",
            "2019-02-16 20:35:10 | StdReturn                     4.5885\n",
            "2019-02-16 20:35:10 | Time                         86.9466\n",
            "2019-02-16 20:35:10 | policy/Entropy                0.516185\n",
            "2019-02-16 20:35:10 | policy/KL                     0.00931421\n",
            "2019-02-16 20:35:10 | policy/KLBefore               0\n",
            "2019-02-16 20:35:10 | policy/LossAfter             -0.0162048\n",
            "2019-02-16 20:35:10 | policy/LossBefore            -3.8147e-09\n",
            "2019-02-16 20:35:10 | policy/dLoss                  0.0162048\n",
            "2019-02-16 20:35:10 | --------------------------  ------------\n",
            "2019-02-16 20:35:10 | itr #84 | Obtaining samples...\n",
            "2019-02-16 20:35:10 | itr #84 | Obtaining samples for iteration 84...\n"
          ],
          "name": "stdout"
        },
        {
          "output_type": "stream",
          "text": [
            "0% [##############################] 100% | ETA: 00:00:00"
          ],
          "name": "stderr"
        },
        {
          "output_type": "stream",
          "text": [
            "2019-02-16 20:35:10 | itr #84 | Processing samples...\n"
          ],
          "name": "stdout"
        },
        {
          "output_type": "stream",
          "text": [
            "\n",
            "Total time elapsed: 00:00:00\n"
          ],
          "name": "stderr"
        },
        {
          "output_type": "stream",
          "text": [
            "2019-02-16 20:35:11 | itr #84 | Logging diagnostics...\n",
            "2019-02-16 20:35:11 | itr #84 | Optimizing policy...\n",
            "2019-02-16 20:35:11 | itr #84 | Computing loss before\n",
            "2019-02-16 20:35:11 | itr #84 | Computing KL before\n",
            "2019-02-16 20:35:11 | itr #84 | Optimizing\n",
            "2019-02-16 20:35:11 | itr #84 | Start CG optimization: #parameters: 1480, #inputs: 200, #subsample_inputs: 200\n",
            "2019-02-16 20:35:11 | itr #84 | computing loss before\n",
            "2019-02-16 20:35:11 | itr #84 | performing update\n",
            "2019-02-16 20:35:11 | itr #84 | computing gradient\n",
            "2019-02-16 20:35:11 | itr #84 | gradient computed\n",
            "2019-02-16 20:35:11 | itr #84 | computing descent direction\n",
            "2019-02-16 20:35:11 | itr #84 | descent direction computed\n",
            "2019-02-16 20:35:11 | itr #84 | backtrack iters: 10\n",
            "2019-02-16 20:35:11 | itr #84 | computing loss after\n",
            "2019-02-16 20:35:11 | itr #84 | optimization finished\n",
            "2019-02-16 20:35:11 | itr #84 | Computing KL after\n",
            "2019-02-16 20:35:11 | itr #84 | Computing loss after\n",
            "2019-02-16 20:35:11 | itr #84 | Fitting baseline...\n",
            "2019-02-16 20:35:11 | itr #84 | Saving snapshot...\n",
            "2019-02-16 20:35:11 | itr #84 | Saved\n",
            "2019-02-16 20:35:11 | --------------------------  ------------\n",
            "2019-02-16 20:35:11 | AverageDiscountedReturn      30.6457\n",
            "2019-02-16 20:35:11 | AverageReturn                32.405\n",
            "2019-02-16 20:35:11 | Baseline/ExplainedVariance    0.809302\n",
            "2019-02-16 20:35:11 | Entropy                       0.302693\n",
            "2019-02-16 20:35:11 | EnvExecTime                   0.350872\n",
            "2019-02-16 20:35:11 | Iteration                    84\n",
            "2019-02-16 20:35:11 | ItrTime                       0.984986\n",
            "2019-02-16 20:35:11 | MaxReturn                    42\n",
            "2019-02-16 20:35:11 | MinReturn                    12\n",
            "2019-02-16 20:35:11 | NumTrajs                    200\n",
            "2019-02-16 20:35:11 | Perplexity                    1.3535\n",
            "2019-02-16 20:35:11 | PolicyExecTime                0.290317\n",
            "2019-02-16 20:35:11 | ProcessExecTime               0.0213144\n",
            "2019-02-16 20:35:11 | StdReturn                     4.46441\n",
            "2019-02-16 20:35:11 | Time                         87.9638\n",
            "2019-02-16 20:35:11 | policy/Entropy                0.534397\n",
            "2019-02-16 20:35:11 | policy/KL                     0.00154534\n",
            "2019-02-16 20:35:11 | policy/KLBefore               0\n",
            "2019-02-16 20:35:11 | policy/LossAfter             -0.00105054\n",
            "2019-02-16 20:35:11 | policy/LossBefore            -0\n",
            "2019-02-16 20:35:11 | policy/dLoss                  0.00105054\n",
            "2019-02-16 20:35:11 | --------------------------  ------------\n",
            "2019-02-16 20:35:11 | itr #85 | Obtaining samples...\n",
            "2019-02-16 20:35:11 | itr #85 | Obtaining samples for iteration 85...\n"
          ],
          "name": "stdout"
        },
        {
          "output_type": "stream",
          "text": [
            "0% [##############################] 100% | ETA: 00:00:00"
          ],
          "name": "stderr"
        },
        {
          "output_type": "stream",
          "text": [
            "2019-02-16 20:35:12 | itr #85 | Processing samples...\n"
          ],
          "name": "stdout"
        },
        {
          "output_type": "stream",
          "text": [
            "\n",
            "Total time elapsed: 00:00:00\n"
          ],
          "name": "stderr"
        },
        {
          "output_type": "stream",
          "text": [
            "2019-02-16 20:35:12 | itr #85 | Logging diagnostics...\n",
            "2019-02-16 20:35:12 | itr #85 | Optimizing policy...\n",
            "2019-02-16 20:35:12 | itr #85 | Computing loss before\n",
            "2019-02-16 20:35:12 | itr #85 | Computing KL before\n",
            "2019-02-16 20:35:12 | itr #85 | Optimizing\n",
            "2019-02-16 20:35:12 | itr #85 | Start CG optimization: #parameters: 1480, #inputs: 200, #subsample_inputs: 200\n",
            "2019-02-16 20:35:12 | itr #85 | computing loss before\n",
            "2019-02-16 20:35:12 | itr #85 | performing update\n",
            "2019-02-16 20:35:12 | itr #85 | computing gradient\n",
            "2019-02-16 20:35:12 | itr #85 | gradient computed\n",
            "2019-02-16 20:35:12 | itr #85 | computing descent direction\n",
            "2019-02-16 20:35:12 | itr #85 | descent direction computed\n",
            "2019-02-16 20:35:12 | itr #85 | backtrack iters: 0\n",
            "2019-02-16 20:35:12 | itr #85 | computing loss after\n",
            "2019-02-16 20:35:12 | itr #85 | optimization finished\n",
            "2019-02-16 20:35:12 | itr #85 | Computing KL after\n",
            "2019-02-16 20:35:12 | itr #85 | Computing loss after\n",
            "2019-02-16 20:35:12 | itr #85 | Fitting baseline...\n",
            "2019-02-16 20:35:12 | itr #85 | Saving snapshot...\n",
            "2019-02-16 20:35:12 | itr #85 | Saved\n",
            "2019-02-16 20:35:12 | --------------------------  -------------\n",
            "2019-02-16 20:35:12 | AverageDiscountedReturn      29.9884\n",
            "2019-02-16 20:35:12 | AverageReturn                31.835\n",
            "2019-02-16 20:35:12 | Baseline/ExplainedVariance    0.803444\n",
            "2019-02-16 20:35:12 | Entropy                       0.330236\n",
            "2019-02-16 20:35:12 | EnvExecTime                   0.354894\n",
            "2019-02-16 20:35:12 | Iteration                    85\n",
            "2019-02-16 20:35:12 | ItrTime                       0.900442\n",
            "2019-02-16 20:35:12 | MaxReturn                    46\n",
            "2019-02-16 20:35:12 | MinReturn                    16\n",
            "2019-02-16 20:35:12 | NumTrajs                    200\n",
            "2019-02-16 20:35:12 | Perplexity                    1.3913\n",
            "2019-02-16 20:35:12 | PolicyExecTime                0.273932\n",
            "2019-02-16 20:35:12 | ProcessExecTime               0.0230672\n",
            "2019-02-16 20:35:12 | StdReturn                     4.53076\n",
            "2019-02-16 20:35:12 | Time                         88.9\n",
            "2019-02-16 20:35:12 | policy/Entropy                0.519189\n",
            "2019-02-16 20:35:12 | policy/KL                     0.00559802\n",
            "2019-02-16 20:35:12 | policy/KLBefore               0\n",
            "2019-02-16 20:35:12 | policy/LossAfter             -0.00146111\n",
            "2019-02-16 20:35:12 | policy/LossBefore            -2.86102e-09\n",
            "2019-02-16 20:35:12 | policy/dLoss                  0.0014611\n",
            "2019-02-16 20:35:12 | --------------------------  -------------\n",
            "2019-02-16 20:35:12 | itr #86 | Obtaining samples...\n",
            "2019-02-16 20:35:12 | itr #86 | Obtaining samples for iteration 86...\n"
          ],
          "name": "stdout"
        },
        {
          "output_type": "stream",
          "text": [
            "0% [##############################] 100% | ETA: 00:00:00"
          ],
          "name": "stderr"
        },
        {
          "output_type": "stream",
          "text": [
            "2019-02-16 20:35:12 | itr #86 | Processing samples...\n"
          ],
          "name": "stdout"
        },
        {
          "output_type": "stream",
          "text": [
            "\n",
            "Total time elapsed: 00:00:00\n"
          ],
          "name": "stderr"
        },
        {
          "output_type": "stream",
          "text": [
            "2019-02-16 20:35:12 | itr #86 | Logging diagnostics...\n",
            "2019-02-16 20:35:12 | itr #86 | Optimizing policy...\n",
            "2019-02-16 20:35:12 | itr #86 | Computing loss before\n",
            "2019-02-16 20:35:13 | itr #86 | Computing KL before\n",
            "2019-02-16 20:35:13 | itr #86 | Optimizing\n",
            "2019-02-16 20:35:13 | itr #86 | Start CG optimization: #parameters: 1480, #inputs: 200, #subsample_inputs: 200\n",
            "2019-02-16 20:35:13 | itr #86 | computing loss before\n",
            "2019-02-16 20:35:13 | itr #86 | performing update\n",
            "2019-02-16 20:35:13 | itr #86 | computing gradient\n",
            "2019-02-16 20:35:13 | itr #86 | gradient computed\n",
            "2019-02-16 20:35:13 | itr #86 | computing descent direction\n",
            "2019-02-16 20:35:13 | itr #86 | descent direction computed\n",
            "2019-02-16 20:35:13 | itr #86 | backtrack iters: 9\n",
            "2019-02-16 20:35:13 | itr #86 | computing loss after\n",
            "2019-02-16 20:35:13 | itr #86 | optimization finished\n",
            "2019-02-16 20:35:13 | itr #86 | Computing KL after\n",
            "2019-02-16 20:35:13 | itr #86 | Computing loss after\n",
            "2019-02-16 20:35:13 | itr #86 | Fitting baseline...\n",
            "2019-02-16 20:35:13 | itr #86 | Saving snapshot...\n",
            "2019-02-16 20:35:13 | itr #86 | Saved\n",
            "2019-02-16 20:35:13 | --------------------------  -------------\n",
            "2019-02-16 20:35:13 | AverageDiscountedReturn      29.8466\n",
            "2019-02-16 20:35:13 | AverageReturn                31.665\n",
            "2019-02-16 20:35:13 | Baseline/ExplainedVariance    0.782926\n",
            "2019-02-16 20:35:13 | Entropy                       0.358795\n",
            "2019-02-16 20:35:13 | EnvExecTime                   0.347544\n",
            "2019-02-16 20:35:13 | Iteration                    86\n",
            "2019-02-16 20:35:13 | ItrTime                       0.997633\n",
            "2019-02-16 20:35:13 | MaxReturn                    42\n",
            "2019-02-16 20:35:13 | MinReturn                    14\n",
            "2019-02-16 20:35:13 | NumTrajs                    200\n",
            "2019-02-16 20:35:13 | Perplexity                    1.4316\n",
            "2019-02-16 20:35:13 | PolicyExecTime                0.294516\n",
            "2019-02-16 20:35:13 | ProcessExecTime               0.027009\n",
            "2019-02-16 20:35:13 | StdReturn                     4.70774\n",
            "2019-02-16 20:35:13 | Time                         89.9349\n",
            "2019-02-16 20:35:13 | policy/Entropy                0.51608\n",
            "2019-02-16 20:35:13 | policy/KL                     0.00149749\n",
            "2019-02-16 20:35:13 | policy/KLBefore               0\n",
            "2019-02-16 20:35:13 | policy/LossAfter             -0.00212493\n",
            "2019-02-16 20:35:13 | policy/LossBefore            -4.76837e-09\n",
            "2019-02-16 20:35:13 | policy/dLoss                  0.00212493\n",
            "2019-02-16 20:35:13 | --------------------------  -------------\n",
            "2019-02-16 20:35:13 | itr #87 | Obtaining samples...\n",
            "2019-02-16 20:35:13 | itr #87 | Obtaining samples for iteration 87...\n"
          ],
          "name": "stdout"
        },
        {
          "output_type": "stream",
          "text": [
            "0% [##############################] 100% | ETA: 00:00:00"
          ],
          "name": "stderr"
        },
        {
          "output_type": "stream",
          "text": [
            "2019-02-16 20:35:13 | itr #87 | Processing samples...\n"
          ],
          "name": "stdout"
        },
        {
          "output_type": "stream",
          "text": [
            "\n",
            "Total time elapsed: 00:00:00\n"
          ],
          "name": "stderr"
        },
        {
          "output_type": "stream",
          "text": [
            "2019-02-16 20:35:14 | itr #87 | Logging diagnostics...\n",
            "2019-02-16 20:35:14 | itr #87 | Optimizing policy...\n",
            "2019-02-16 20:35:14 | itr #87 | Computing loss before\n",
            "2019-02-16 20:35:14 | itr #87 | Computing KL before\n",
            "2019-02-16 20:35:14 | itr #87 | Optimizing\n",
            "2019-02-16 20:35:14 | itr #87 | Start CG optimization: #parameters: 1480, #inputs: 200, #subsample_inputs: 200\n",
            "2019-02-16 20:35:14 | itr #87 | computing loss before\n",
            "2019-02-16 20:35:14 | itr #87 | performing update\n",
            "2019-02-16 20:35:14 | itr #87 | computing gradient\n",
            "2019-02-16 20:35:14 | itr #87 | gradient computed\n",
            "2019-02-16 20:35:14 | itr #87 | computing descent direction\n",
            "2019-02-16 20:35:14 | itr #87 | descent direction computed\n",
            "2019-02-16 20:35:14 | itr #87 | backtrack iters: 4\n",
            "2019-02-16 20:35:14 | itr #87 | computing loss after\n",
            "2019-02-16 20:35:14 | itr #87 | optimization finished\n",
            "2019-02-16 20:35:14 | itr #87 | Computing KL after\n",
            "2019-02-16 20:35:14 | itr #87 | Computing loss after\n",
            "2019-02-16 20:35:14 | itr #87 | Fitting baseline...\n",
            "2019-02-16 20:35:14 | itr #87 | Saving snapshot...\n",
            "2019-02-16 20:35:14 | itr #87 | Saved\n",
            "2019-02-16 20:35:14 | --------------------------  -------------\n",
            "2019-02-16 20:35:14 | AverageDiscountedReturn      29.6072\n",
            "2019-02-16 20:35:14 | AverageReturn                31.495\n",
            "2019-02-16 20:35:14 | Baseline/ExplainedVariance    0.797086\n",
            "2019-02-16 20:35:14 | Entropy                       0.358795\n",
            "2019-02-16 20:35:14 | EnvExecTime                   0.345357\n",
            "2019-02-16 20:35:14 | Iteration                    87\n",
            "2019-02-16 20:35:14 | ItrTime                       0.910733\n",
            "2019-02-16 20:35:14 | MaxReturn                    50\n",
            "2019-02-16 20:35:14 | MinReturn                    18\n",
            "2019-02-16 20:35:14 | NumTrajs                    200\n",
            "2019-02-16 20:35:14 | Perplexity                    1.4316\n",
            "2019-02-16 20:35:14 | PolicyExecTime                0.265195\n",
            "2019-02-16 20:35:14 | ProcessExecTime               0.0238667\n",
            "2019-02-16 20:35:14 | StdReturn                     4.52879\n",
            "2019-02-16 20:35:14 | Time                         90.9019\n",
            "2019-02-16 20:35:14 | policy/Entropy                0.514092\n",
            "2019-02-16 20:35:14 | policy/KL                     0.000929843\n",
            "2019-02-16 20:35:14 | policy/KLBefore               0\n",
            "2019-02-16 20:35:14 | policy/LossAfter             -0.000377931\n",
            "2019-02-16 20:35:14 | policy/LossBefore            -5.72205e-09\n",
            "2019-02-16 20:35:14 | policy/dLoss                  0.000377925\n",
            "2019-02-16 20:35:14 | --------------------------  -------------\n",
            "2019-02-16 20:35:14 | itr #88 | Obtaining samples...\n",
            "2019-02-16 20:35:14 | itr #88 | Obtaining samples for iteration 88...\n"
          ],
          "name": "stdout"
        },
        {
          "output_type": "stream",
          "text": [
            "0% [##############################] 100% | ETA: 00:00:00"
          ],
          "name": "stderr"
        },
        {
          "output_type": "stream",
          "text": [
            "2019-02-16 20:35:14 | itr #88 | Processing samples...\n"
          ],
          "name": "stdout"
        },
        {
          "output_type": "stream",
          "text": [
            "\n",
            "Total time elapsed: 00:00:00\n"
          ],
          "name": "stderr"
        },
        {
          "output_type": "stream",
          "text": [
            "2019-02-16 20:35:14 | itr #88 | Logging diagnostics...\n",
            "2019-02-16 20:35:14 | itr #88 | Optimizing policy...\n",
            "2019-02-16 20:35:14 | itr #88 | Computing loss before\n",
            "2019-02-16 20:35:14 | itr #88 | Computing KL before\n",
            "2019-02-16 20:35:15 | itr #88 | Optimizing\n",
            "2019-02-16 20:35:15 | itr #88 | Start CG optimization: #parameters: 1480, #inputs: 200, #subsample_inputs: 200\n",
            "2019-02-16 20:35:15 | itr #88 | computing loss before\n",
            "2019-02-16 20:35:15 | itr #88 | performing update\n",
            "2019-02-16 20:35:15 | itr #88 | computing gradient\n",
            "2019-02-16 20:35:15 | itr #88 | gradient computed\n",
            "2019-02-16 20:35:15 | itr #88 | computing descent direction\n",
            "2019-02-16 20:35:15 | itr #88 | descent direction computed\n",
            "2019-02-16 20:35:15 | itr #88 | backtrack iters: 0\n",
            "2019-02-16 20:35:15 | itr #88 | computing loss after\n",
            "2019-02-16 20:35:15 | itr #88 | optimization finished\n",
            "2019-02-16 20:35:15 | itr #88 | Computing KL after\n",
            "2019-02-16 20:35:15 | itr #88 | Computing loss after\n",
            "2019-02-16 20:35:15 | itr #88 | Fitting baseline...\n",
            "2019-02-16 20:35:15 | itr #88 | Saving snapshot...\n",
            "2019-02-16 20:35:15 | itr #88 | Saved\n",
            "2019-02-16 20:35:15 | --------------------------  -------------\n",
            "2019-02-16 20:35:15 | AverageDiscountedReturn      29.6791\n",
            "2019-02-16 20:35:15 | AverageReturn                31.515\n",
            "2019-02-16 20:35:15 | Baseline/ExplainedVariance    0.806953\n",
            "2019-02-16 20:35:15 | Entropy                       0.348829\n",
            "2019-02-16 20:35:15 | EnvExecTime                   0.356819\n",
            "2019-02-16 20:35:15 | Iteration                    88\n",
            "2019-02-16 20:35:15 | ItrTime                       0.922636\n",
            "2019-02-16 20:35:15 | MaxReturn                    42\n",
            "2019-02-16 20:35:15 | MinReturn                    17\n",
            "2019-02-16 20:35:15 | NumTrajs                    200\n",
            "2019-02-16 20:35:15 | Perplexity                    1.41741\n",
            "2019-02-16 20:35:15 | PolicyExecTime                0.284725\n",
            "2019-02-16 20:35:15 | ProcessExecTime               0.020565\n",
            "2019-02-16 20:35:15 | StdReturn                     4.4654\n",
            "2019-02-16 20:35:15 | Time                         91.8586\n",
            "2019-02-16 20:35:15 | policy/Entropy                0.513075\n",
            "2019-02-16 20:35:15 | policy/KL                     0.0036856\n",
            "2019-02-16 20:35:15 | policy/KLBefore               0\n",
            "2019-02-16 20:35:15 | policy/LossAfter             -0.00483707\n",
            "2019-02-16 20:35:15 | policy/LossBefore            -1.88351e-08\n",
            "2019-02-16 20:35:15 | policy/dLoss                  0.00483705\n",
            "2019-02-16 20:35:15 | --------------------------  -------------\n",
            "2019-02-16 20:35:15 | itr #89 | Obtaining samples...\n",
            "2019-02-16 20:35:15 | itr #89 | Obtaining samples for iteration 89...\n"
          ],
          "name": "stdout"
        },
        {
          "output_type": "stream",
          "text": [
            "0% [##############################] 100% | ETA: 00:00:00"
          ],
          "name": "stderr"
        },
        {
          "output_type": "stream",
          "text": [
            "2019-02-16 20:35:15 | itr #89 | Processing samples...\n"
          ],
          "name": "stdout"
        },
        {
          "output_type": "stream",
          "text": [
            "\n",
            "Total time elapsed: 00:00:00\n"
          ],
          "name": "stderr"
        },
        {
          "output_type": "stream",
          "text": [
            "2019-02-16 20:35:15 | itr #89 | Logging diagnostics...\n",
            "2019-02-16 20:35:15 | itr #89 | Optimizing policy...\n",
            "2019-02-16 20:35:15 | itr #89 | Computing loss before\n",
            "2019-02-16 20:35:15 | itr #89 | Computing KL before\n",
            "2019-02-16 20:35:15 | itr #89 | Optimizing\n",
            "2019-02-16 20:35:15 | itr #89 | Start CG optimization: #parameters: 1480, #inputs: 200, #subsample_inputs: 200\n",
            "2019-02-16 20:35:15 | itr #89 | computing loss before\n",
            "2019-02-16 20:35:15 | itr #89 | performing update\n",
            "2019-02-16 20:35:15 | itr #89 | computing gradient\n",
            "2019-02-16 20:35:15 | itr #89 | gradient computed\n",
            "2019-02-16 20:35:15 | itr #89 | computing descent direction\n",
            "2019-02-16 20:35:16 | itr #89 | descent direction computed\n",
            "2019-02-16 20:35:16 | itr #89 | Line search condition violated. Rejecting the step!\n",
            "2019-02-16 20:35:16 | itr #89 | Violated because loss not improving\n",
            "2019-02-16 20:35:16 | itr #89 | backtrack iters: 14\n",
            "2019-02-16 20:35:16 | itr #89 | computing loss after\n",
            "2019-02-16 20:35:16 | itr #89 | optimization finished\n",
            "2019-02-16 20:35:16 | itr #89 | Computing KL after\n",
            "2019-02-16 20:35:16 | itr #89 | Computing loss after\n",
            "2019-02-16 20:35:16 | itr #89 | Fitting baseline...\n",
            "2019-02-16 20:35:16 | itr #89 | Saving snapshot...\n",
            "2019-02-16 20:35:16 | itr #89 | Saved\n",
            "2019-02-16 20:35:16 | --------------------------  ------------\n",
            "2019-02-16 20:35:16 | AverageDiscountedReturn      30.1208\n",
            "2019-02-16 20:35:16 | AverageReturn                31.995\n",
            "2019-02-16 20:35:16 | Baseline/ExplainedVariance    0.791975\n",
            "2019-02-16 20:35:16 | Entropy                       0.353528\n",
            "2019-02-16 20:35:16 | EnvExecTime                   0.357838\n",
            "2019-02-16 20:35:16 | Iteration                    89\n",
            "2019-02-16 20:35:16 | ItrTime                       1.00177\n",
            "2019-02-16 20:35:16 | MaxReturn                    48\n",
            "2019-02-16 20:35:16 | MinReturn                    12\n",
            "2019-02-16 20:35:16 | NumTrajs                    200\n",
            "2019-02-16 20:35:16 | Perplexity                    1.42408\n",
            "2019-02-16 20:35:16 | PolicyExecTime                0.266561\n",
            "2019-02-16 20:35:16 | ProcessExecTime               0.0232725\n",
            "2019-02-16 20:35:16 | StdReturn                     5.12981\n",
            "2019-02-16 20:35:16 | Time                         92.8918\n",
            "2019-02-16 20:35:16 | policy/Entropy                0.512506\n",
            "2019-02-16 20:35:16 | policy/KL                     0\n",
            "2019-02-16 20:35:16 | policy/KLBefore               0\n",
            "2019-02-16 20:35:16 | policy/LossAfter              1.7643e-08\n",
            "2019-02-16 20:35:16 | policy/LossBefore             1.7643e-08\n",
            "2019-02-16 20:35:16 | policy/dLoss                  0\n",
            "2019-02-16 20:35:16 | --------------------------  ------------\n",
            "2019-02-16 20:35:16 | itr #90 | Obtaining samples...\n",
            "2019-02-16 20:35:16 | itr #90 | Obtaining samples for iteration 90...\n"
          ],
          "name": "stdout"
        },
        {
          "output_type": "stream",
          "text": [
            "0% [##############################] 100% | ETA: 00:00:00"
          ],
          "name": "stderr"
        },
        {
          "output_type": "stream",
          "text": [
            "2019-02-16 20:35:16 | itr #90 | Processing samples...\n"
          ],
          "name": "stdout"
        },
        {
          "output_type": "stream",
          "text": [
            "\n",
            "Total time elapsed: 00:00:00\n"
          ],
          "name": "stderr"
        },
        {
          "output_type": "stream",
          "text": [
            "2019-02-16 20:35:16 | itr #90 | Logging diagnostics...\n",
            "2019-02-16 20:35:16 | itr #90 | Optimizing policy...\n",
            "2019-02-16 20:35:16 | itr #90 | Computing loss before\n",
            "2019-02-16 20:35:16 | itr #90 | Computing KL before\n",
            "2019-02-16 20:35:16 | itr #90 | Optimizing\n",
            "2019-02-16 20:35:16 | itr #90 | Start CG optimization: #parameters: 1480, #inputs: 200, #subsample_inputs: 200\n",
            "2019-02-16 20:35:16 | itr #90 | computing loss before\n",
            "2019-02-16 20:35:17 | itr #90 | performing update\n",
            "2019-02-16 20:35:17 | itr #90 | computing gradient\n",
            "2019-02-16 20:35:17 | itr #90 | gradient computed\n",
            "2019-02-16 20:35:17 | itr #90 | computing descent direction\n",
            "2019-02-16 20:35:17 | itr #90 | descent direction computed\n",
            "2019-02-16 20:35:17 | itr #90 | backtrack iters: 2\n",
            "2019-02-16 20:35:17 | itr #90 | computing loss after\n",
            "2019-02-16 20:35:17 | itr #90 | optimization finished\n",
            "2019-02-16 20:35:17 | itr #90 | Computing KL after\n",
            "2019-02-16 20:35:17 | itr #90 | Computing loss after\n",
            "2019-02-16 20:35:17 | itr #90 | Fitting baseline...\n",
            "2019-02-16 20:35:17 | itr #90 | Saving snapshot...\n",
            "2019-02-16 20:35:17 | itr #90 | Saved\n",
            "2019-02-16 20:35:17 | --------------------------  -------------\n",
            "2019-02-16 20:35:17 | AverageDiscountedReturn      29.8772\n",
            "2019-02-16 20:35:17 | AverageReturn                31.86\n",
            "2019-02-16 20:35:17 | Baseline/ExplainedVariance    0.809332\n",
            "2019-02-16 20:35:17 | Entropy                       0.359533\n",
            "2019-02-16 20:35:17 | EnvExecTime                   0.353525\n",
            "2019-02-16 20:35:17 | Iteration                    90\n",
            "2019-02-16 20:35:17 | ItrTime                       0.936761\n",
            "2019-02-16 20:35:17 | MaxReturn                    43\n",
            "2019-02-16 20:35:17 | MinReturn                    18\n",
            "2019-02-16 20:35:17 | NumTrajs                    200\n",
            "2019-02-16 20:35:17 | Perplexity                    1.43266\n",
            "2019-02-16 20:35:17 | PolicyExecTime                0.289631\n",
            "2019-02-16 20:35:17 | ProcessExecTime               0.0211985\n",
            "2019-02-16 20:35:17 | StdReturn                     3.48431\n",
            "2019-02-16 20:35:17 | Time                         93.8577\n",
            "2019-02-16 20:35:17 | policy/Entropy                0.510939\n",
            "2019-02-16 20:35:17 | policy/KL                     0.00890119\n",
            "2019-02-16 20:35:17 | policy/KLBefore               0\n",
            "2019-02-16 20:35:17 | policy/LossAfter             -0.00438359\n",
            "2019-02-16 20:35:17 | policy/LossBefore             1.90735e-09\n",
            "2019-02-16 20:35:17 | policy/dLoss                  0.00438359\n",
            "2019-02-16 20:35:17 | --------------------------  -------------\n",
            "2019-02-16 20:35:17 | itr #91 | Obtaining samples...\n",
            "2019-02-16 20:35:17 | itr #91 | Obtaining samples for iteration 91...\n"
          ],
          "name": "stdout"
        },
        {
          "output_type": "stream",
          "text": [
            "0% [##############################] 100% | ETA: 00:00:00"
          ],
          "name": "stderr"
        },
        {
          "output_type": "stream",
          "text": [
            "2019-02-16 20:35:17 | itr #91 | Processing samples...\n"
          ],
          "name": "stdout"
        },
        {
          "output_type": "stream",
          "text": [
            "\n",
            "Total time elapsed: 00:00:00\n"
          ],
          "name": "stderr"
        },
        {
          "output_type": "stream",
          "text": [
            "2019-02-16 20:35:17 | itr #91 | Logging diagnostics...\n",
            "2019-02-16 20:35:17 | itr #91 | Optimizing policy...\n",
            "2019-02-16 20:35:17 | itr #91 | Computing loss before\n",
            "2019-02-16 20:35:17 | itr #91 | Computing KL before\n",
            "2019-02-16 20:35:17 | itr #91 | Optimizing\n",
            "2019-02-16 20:35:17 | itr #91 | Start CG optimization: #parameters: 1480, #inputs: 200, #subsample_inputs: 200\n",
            "2019-02-16 20:35:17 | itr #91 | computing loss before\n",
            "2019-02-16 20:35:17 | itr #91 | performing update\n",
            "2019-02-16 20:35:17 | itr #91 | computing gradient\n",
            "2019-02-16 20:35:17 | itr #91 | gradient computed\n",
            "2019-02-16 20:35:17 | itr #91 | computing descent direction\n",
            "2019-02-16 20:35:18 | itr #91 | descent direction computed\n",
            "2019-02-16 20:35:18 | itr #91 | backtrack iters: 6\n",
            "2019-02-16 20:35:18 | itr #91 | computing loss after\n",
            "2019-02-16 20:35:18 | itr #91 | optimization finished\n",
            "2019-02-16 20:35:18 | itr #91 | Computing KL after\n",
            "2019-02-16 20:35:18 | itr #91 | Computing loss after\n",
            "2019-02-16 20:35:18 | itr #91 | Fitting baseline...\n",
            "2019-02-16 20:35:18 | itr #91 | Saving snapshot...\n",
            "2019-02-16 20:35:18 | itr #91 | Saved\n",
            "2019-02-16 20:35:18 | --------------------------  -------------\n",
            "2019-02-16 20:35:18 | AverageDiscountedReturn      25.859\n",
            "2019-02-16 20:35:18 | AverageReturn                27.27\n",
            "2019-02-16 20:35:18 | Baseline/ExplainedVariance    0.497726\n",
            "2019-02-16 20:35:18 | Entropy                       0.373954\n",
            "2019-02-16 20:35:18 | EnvExecTime                   0.350595\n",
            "2019-02-16 20:35:18 | Iteration                    91\n",
            "2019-02-16 20:35:18 | ItrTime                       0.950937\n",
            "2019-02-16 20:35:18 | MaxReturn                    46\n",
            "2019-02-16 20:35:18 | MinReturn                    -6\n",
            "2019-02-16 20:35:18 | NumTrajs                    200\n",
            "2019-02-16 20:35:18 | Perplexity                    1.45347\n",
            "2019-02-16 20:35:18 | PolicyExecTime                0.283135\n",
            "2019-02-16 20:35:18 | ProcessExecTime               0.025187\n",
            "2019-02-16 20:35:18 | StdReturn                     8.02852\n",
            "2019-02-16 20:35:18 | Time                         94.8393\n",
            "2019-02-16 20:35:18 | policy/Entropy                0.510177\n",
            "2019-02-16 20:35:18 | policy/KL                     0.00797249\n",
            "2019-02-16 20:35:18 | policy/KLBefore               0\n",
            "2019-02-16 20:35:18 | policy/LossAfter             -0.0182605\n",
            "2019-02-16 20:35:18 | policy/LossBefore            -3.14713e-08\n",
            "2019-02-16 20:35:18 | policy/dLoss                  0.0182605\n",
            "2019-02-16 20:35:18 | --------------------------  -------------\n",
            "2019-02-16 20:35:18 | itr #92 | Obtaining samples...\n",
            "2019-02-16 20:35:18 | itr #92 | Obtaining samples for iteration 92...\n"
          ],
          "name": "stdout"
        },
        {
          "output_type": "stream",
          "text": [
            "0% [##############################] 100% | ETA: 00:00:00"
          ],
          "name": "stderr"
        },
        {
          "output_type": "stream",
          "text": [
            "2019-02-16 20:35:18 | itr #92 | Processing samples...\n"
          ],
          "name": "stdout"
        },
        {
          "output_type": "stream",
          "text": [
            "\n",
            "Total time elapsed: 00:00:00\n"
          ],
          "name": "stderr"
        },
        {
          "output_type": "stream",
          "text": [
            "2019-02-16 20:35:18 | itr #92 | Logging diagnostics...\n",
            "2019-02-16 20:35:18 | itr #92 | Optimizing policy...\n",
            "2019-02-16 20:35:18 | itr #92 | Computing loss before\n",
            "2019-02-16 20:35:18 | itr #92 | Computing KL before\n",
            "2019-02-16 20:35:18 | itr #92 | Optimizing\n",
            "2019-02-16 20:35:18 | itr #92 | Start CG optimization: #parameters: 1480, #inputs: 200, #subsample_inputs: 200\n",
            "2019-02-16 20:35:18 | itr #92 | computing loss before\n",
            "2019-02-16 20:35:18 | itr #92 | performing update\n",
            "2019-02-16 20:35:18 | itr #92 | computing gradient\n",
            "2019-02-16 20:35:18 | itr #92 | gradient computed\n",
            "2019-02-16 20:35:18 | itr #92 | computing descent direction\n",
            "2019-02-16 20:35:19 | itr #92 | descent direction computed\n",
            "2019-02-16 20:35:19 | itr #92 | backtrack iters: 0\n",
            "2019-02-16 20:35:19 | itr #92 | computing loss after\n",
            "2019-02-16 20:35:19 | itr #92 | optimization finished\n",
            "2019-02-16 20:35:19 | itr #92 | Computing KL after\n",
            "2019-02-16 20:35:19 | itr #92 | Computing loss after\n",
            "2019-02-16 20:35:19 | itr #92 | Fitting baseline...\n",
            "2019-02-16 20:35:19 | itr #92 | Saving snapshot...\n",
            "2019-02-16 20:35:19 | itr #92 | Saved\n",
            "2019-02-16 20:35:19 | --------------------------  -------------\n",
            "2019-02-16 20:35:19 | AverageDiscountedReturn      30.0384\n",
            "2019-02-16 20:35:19 | AverageReturn                31.925\n",
            "2019-02-16 20:35:19 | Baseline/ExplainedVariance    0.766436\n",
            "2019-02-16 20:35:19 | Entropy                       0.333319\n",
            "2019-02-16 20:35:19 | EnvExecTime                   0.35024\n",
            "2019-02-16 20:35:19 | Iteration                    92\n",
            "2019-02-16 20:35:19 | ItrTime                       0.912003\n",
            "2019-02-16 20:35:19 | MaxReturn                    46\n",
            "2019-02-16 20:35:19 | MinReturn                    17\n",
            "2019-02-16 20:35:19 | NumTrajs                    200\n",
            "2019-02-16 20:35:19 | Perplexity                    1.39559\n",
            "2019-02-16 20:35:19 | PolicyExecTime                0.275219\n",
            "2019-02-16 20:35:19 | ProcessExecTime               0.0204871\n",
            "2019-02-16 20:35:19 | StdReturn                     4.67647\n",
            "2019-02-16 20:35:19 | Time                         95.7976\n",
            "2019-02-16 20:35:19 | policy/Entropy                0.522398\n",
            "2019-02-16 20:35:19 | policy/KL                     0.00576064\n",
            "2019-02-16 20:35:19 | policy/KLBefore               0\n",
            "2019-02-16 20:35:19 | policy/LossAfter             -0.00134331\n",
            "2019-02-16 20:35:19 | policy/LossBefore             5.45979e-08\n",
            "2019-02-16 20:35:19 | policy/dLoss                  0.00134337\n",
            "2019-02-16 20:35:19 | --------------------------  -------------\n",
            "2019-02-16 20:35:19 | itr #93 | Obtaining samples...\n",
            "2019-02-16 20:35:19 | itr #93 | Obtaining samples for iteration 93...\n"
          ],
          "name": "stdout"
        },
        {
          "output_type": "stream",
          "text": [
            "0% [##############################] 100% | ETA: 00:00:00"
          ],
          "name": "stderr"
        },
        {
          "output_type": "stream",
          "text": [
            "2019-02-16 20:35:19 | itr #93 | Processing samples...\n"
          ],
          "name": "stdout"
        },
        {
          "output_type": "stream",
          "text": [
            "\n",
            "Total time elapsed: 00:00:00\n"
          ],
          "name": "stderr"
        },
        {
          "output_type": "stream",
          "text": [
            "2019-02-16 20:35:19 | itr #93 | Logging diagnostics...\n",
            "2019-02-16 20:35:19 | itr #93 | Optimizing policy...\n",
            "2019-02-16 20:35:19 | itr #93 | Computing loss before\n",
            "2019-02-16 20:35:19 | itr #93 | Computing KL before\n",
            "2019-02-16 20:35:19 | itr #93 | Optimizing\n",
            "2019-02-16 20:35:19 | itr #93 | Start CG optimization: #parameters: 1480, #inputs: 200, #subsample_inputs: 200\n",
            "2019-02-16 20:35:19 | itr #93 | computing loss before\n",
            "2019-02-16 20:35:19 | itr #93 | performing update\n",
            "2019-02-16 20:35:19 | itr #93 | computing gradient\n",
            "2019-02-16 20:35:19 | itr #93 | gradient computed\n",
            "2019-02-16 20:35:19 | itr #93 | computing descent direction\n",
            "2019-02-16 20:35:20 | itr #93 | descent direction computed\n",
            "2019-02-16 20:35:20 | itr #93 | backtrack iters: 4\n",
            "2019-02-16 20:35:20 | itr #93 | computing loss after\n",
            "2019-02-16 20:35:20 | itr #93 | optimization finished\n",
            "2019-02-16 20:35:20 | itr #93 | Computing KL after\n",
            "2019-02-16 20:35:20 | itr #93 | Computing loss after\n",
            "2019-02-16 20:35:20 | itr #93 | Fitting baseline...\n",
            "2019-02-16 20:35:20 | itr #93 | Saving snapshot...\n",
            "2019-02-16 20:35:20 | itr #93 | Saved\n",
            "2019-02-16 20:35:20 | --------------------------  -------------\n",
            "2019-02-16 20:35:20 | AverageDiscountedReturn      30.0567\n",
            "2019-02-16 20:35:20 | AverageReturn                31.865\n",
            "2019-02-16 20:35:20 | Baseline/ExplainedVariance    0.768594\n",
            "2019-02-16 20:35:20 | Entropy                       0.335313\n",
            "2019-02-16 20:35:20 | EnvExecTime                   0.365168\n",
            "2019-02-16 20:35:20 | Iteration                    93\n",
            "2019-02-16 20:35:20 | ItrTime                       0.947165\n",
            "2019-02-16 20:35:20 | MaxReturn                    44\n",
            "2019-02-16 20:35:20 | MinReturn                    12\n",
            "2019-02-16 20:35:20 | NumTrajs                    200\n",
            "2019-02-16 20:35:20 | Perplexity                    1.39838\n",
            "2019-02-16 20:35:20 | PolicyExecTime                0.278904\n",
            "2019-02-16 20:35:20 | ProcessExecTime               0.021239\n",
            "2019-02-16 20:35:20 | StdReturn                     5.15818\n",
            "2019-02-16 20:35:20 | Time                         96.7929\n",
            "2019-02-16 20:35:20 | policy/Entropy                0.52052\n",
            "2019-02-16 20:35:20 | policy/KL                     0.00429408\n",
            "2019-02-16 20:35:20 | policy/KLBefore               0\n",
            "2019-02-16 20:35:20 | policy/LossAfter             -0.00320886\n",
            "2019-02-16 20:35:20 | policy/LossBefore             1.81198e-08\n",
            "2019-02-16 20:35:20 | policy/dLoss                  0.00320888\n",
            "2019-02-16 20:35:20 | --------------------------  -------------\n",
            "2019-02-16 20:35:20 | itr #94 | Obtaining samples...\n",
            "2019-02-16 20:35:20 | itr #94 | Obtaining samples for iteration 94...\n"
          ],
          "name": "stdout"
        },
        {
          "output_type": "stream",
          "text": [
            "0% [##############################] 100% | ETA: 00:00:00"
          ],
          "name": "stderr"
        },
        {
          "output_type": "stream",
          "text": [
            "2019-02-16 20:35:20 | itr #94 | Processing samples...\n"
          ],
          "name": "stdout"
        },
        {
          "output_type": "stream",
          "text": [
            "\n",
            "Total time elapsed: 00:00:00\n"
          ],
          "name": "stderr"
        },
        {
          "output_type": "stream",
          "text": [
            "2019-02-16 20:35:20 | itr #94 | Logging diagnostics...\n",
            "2019-02-16 20:35:20 | itr #94 | Optimizing policy...\n",
            "2019-02-16 20:35:20 | itr #94 | Computing loss before\n",
            "2019-02-16 20:35:20 | itr #94 | Computing KL before\n",
            "2019-02-16 20:35:20 | itr #94 | Optimizing\n",
            "2019-02-16 20:35:20 | itr #94 | Start CG optimization: #parameters: 1480, #inputs: 200, #subsample_inputs: 200\n",
            "2019-02-16 20:35:20 | itr #94 | computing loss before\n",
            "2019-02-16 20:35:20 | itr #94 | performing update\n",
            "2019-02-16 20:35:20 | itr #94 | computing gradient\n",
            "2019-02-16 20:35:20 | itr #94 | gradient computed\n",
            "2019-02-16 20:35:20 | itr #94 | computing descent direction\n",
            "2019-02-16 20:35:21 | itr #94 | descent direction computed\n",
            "2019-02-16 20:35:21 | itr #94 | backtrack iters: 7\n",
            "2019-02-16 20:35:21 | itr #94 | computing loss after\n",
            "2019-02-16 20:35:21 | itr #94 | optimization finished\n",
            "2019-02-16 20:35:21 | itr #94 | Computing KL after\n",
            "2019-02-16 20:35:21 | itr #94 | Computing loss after\n",
            "2019-02-16 20:35:21 | itr #94 | Fitting baseline...\n",
            "2019-02-16 20:35:21 | itr #94 | Saving snapshot...\n",
            "2019-02-16 20:35:21 | itr #94 | Saved\n",
            "2019-02-16 20:35:21 | --------------------------  -------------\n",
            "2019-02-16 20:35:21 | AverageDiscountedReturn      29.7304\n",
            "2019-02-16 20:35:21 | AverageReturn                31.59\n",
            "2019-02-16 20:35:21 | Baseline/ExplainedVariance    0.80221\n",
            "2019-02-16 20:35:21 | Entropy                       0.328005\n",
            "2019-02-16 20:35:21 | EnvExecTime                   0.364412\n",
            "2019-02-16 20:35:21 | Iteration                    94\n",
            "2019-02-16 20:35:21 | ItrTime                       0.965094\n",
            "2019-02-16 20:35:21 | MaxReturn                    44\n",
            "2019-02-16 20:35:21 | MinReturn                    18\n",
            "2019-02-16 20:35:21 | NumTrajs                    200\n",
            "2019-02-16 20:35:21 | Perplexity                    1.3882\n",
            "2019-02-16 20:35:21 | PolicyExecTime                0.275484\n",
            "2019-02-16 20:35:21 | ProcessExecTime               0.0204234\n",
            "2019-02-16 20:35:21 | StdReturn                     4.85406\n",
            "2019-02-16 20:35:21 | Time                         97.792\n",
            "2019-02-16 20:35:21 | policy/Entropy                0.522645\n",
            "2019-02-16 20:35:21 | policy/KL                     0.00113611\n",
            "2019-02-16 20:35:21 | policy/KLBefore               0\n",
            "2019-02-16 20:35:21 | policy/LossAfter             -0.000249613\n",
            "2019-02-16 20:35:21 | policy/LossBefore             3.8147e-09\n",
            "2019-02-16 20:35:21 | policy/dLoss                  0.000249617\n",
            "2019-02-16 20:35:21 | --------------------------  -------------\n",
            "2019-02-16 20:35:21 | itr #95 | Obtaining samples...\n",
            "2019-02-16 20:35:21 | itr #95 | Obtaining samples for iteration 95...\n"
          ],
          "name": "stdout"
        },
        {
          "output_type": "stream",
          "text": [
            "0% [##############################] 100% | ETA: 00:00:00"
          ],
          "name": "stderr"
        },
        {
          "output_type": "stream",
          "text": [
            "2019-02-16 20:35:21 | itr #95 | Processing samples...\n",
            "2019-02-16 20:35:22 | itr #95 | Logging diagnostics...\n",
            "2019-02-16 20:35:22 | itr #95 | Optimizing policy...\n",
            "2019-02-16 20:35:22 | itr #95 | Computing loss before\n",
            "2019-02-16 20:35:22 | itr #95 | Computing KL before\n",
            "2019-02-16 20:35:22 | itr #95 | Optimizing\n",
            "2019-02-16 20:35:22 | itr #95 | Start CG optimization: #parameters: 1480, #inputs: 200, #subsample_inputs: 200\n",
            "2019-02-16 20:35:22 | itr #95 | computing loss before\n",
            "2019-02-16 20:35:22 | itr #95 | performing update\n",
            "2019-02-16 20:35:22 | itr #95 | computing gradient\n",
            "2019-02-16 20:35:22 | itr #95 | gradient computed\n",
            "2019-02-16 20:35:22 | itr #95 | computing descent direction\n"
          ],
          "name": "stdout"
        },
        {
          "output_type": "stream",
          "text": [
            "\n",
            "Total time elapsed: 00:00:00\n"
          ],
          "name": "stderr"
        },
        {
          "output_type": "stream",
          "text": [
            "2019-02-16 20:35:22 | itr #95 | descent direction computed\n",
            "2019-02-16 20:35:22 | itr #95 | backtrack iters: 7\n",
            "2019-02-16 20:35:22 | itr #95 | computing loss after\n",
            "2019-02-16 20:35:22 | itr #95 | optimization finished\n",
            "2019-02-16 20:35:22 | itr #95 | Computing KL after\n",
            "2019-02-16 20:35:22 | itr #95 | Computing loss after\n",
            "2019-02-16 20:35:22 | itr #95 | Fitting baseline...\n",
            "2019-02-16 20:35:22 | itr #95 | Saving snapshot...\n",
            "2019-02-16 20:35:22 | itr #95 | Saved\n",
            "2019-02-16 20:35:22 | --------------------------  -------------\n",
            "2019-02-16 20:35:22 | AverageDiscountedReturn      29.5271\n",
            "2019-02-16 20:35:22 | AverageReturn                31.345\n",
            "2019-02-16 20:35:22 | Baseline/ExplainedVariance    0.794812\n",
            "2019-02-16 20:35:22 | Entropy                       0.316661\n",
            "2019-02-16 20:35:22 | EnvExecTime                   0.481117\n",
            "2019-02-16 20:35:22 | Iteration                    95\n",
            "2019-02-16 20:35:22 | ItrTime                       1.08368\n",
            "2019-02-16 20:35:22 | MaxReturn                    42\n",
            "2019-02-16 20:35:22 | MinReturn                    12\n",
            "2019-02-16 20:35:22 | NumTrajs                    200\n",
            "2019-02-16 20:35:22 | Perplexity                    1.37254\n",
            "2019-02-16 20:35:22 | PolicyExecTime                0.274405\n",
            "2019-02-16 20:35:22 | ProcessExecTime               0.0234334\n",
            "2019-02-16 20:35:22 | StdReturn                     4.33082\n",
            "2019-02-16 20:35:22 | Time                         98.9256\n",
            "2019-02-16 20:35:22 | policy/Entropy                0.529237\n",
            "2019-02-16 20:35:22 | policy/KL                     0.00179435\n",
            "2019-02-16 20:35:22 | policy/KLBefore               0\n",
            "2019-02-16 20:35:22 | policy/LossAfter             -0.000353298\n",
            "2019-02-16 20:35:22 | policy/LossBefore             4.05312e-09\n",
            "2019-02-16 20:35:22 | policy/dLoss                  0.000353302\n",
            "2019-02-16 20:35:22 | --------------------------  -------------\n",
            "2019-02-16 20:35:22 | itr #96 | Obtaining samples...\n",
            "2019-02-16 20:35:22 | itr #96 | Obtaining samples for iteration 96...\n"
          ],
          "name": "stdout"
        },
        {
          "output_type": "stream",
          "text": [
            "0% [##############################] 100% | ETA: 00:00:00"
          ],
          "name": "stderr"
        },
        {
          "output_type": "stream",
          "text": [
            "2019-02-16 20:35:22 | itr #96 | Processing samples...\n"
          ],
          "name": "stdout"
        },
        {
          "output_type": "stream",
          "text": [
            "\n",
            "Total time elapsed: 00:00:00\n"
          ],
          "name": "stderr"
        },
        {
          "output_type": "stream",
          "text": [
            "2019-02-16 20:35:23 | itr #96 | Logging diagnostics...\n",
            "2019-02-16 20:35:23 | itr #96 | Optimizing policy...\n",
            "2019-02-16 20:35:23 | itr #96 | Computing loss before\n",
            "2019-02-16 20:35:23 | itr #96 | Computing KL before\n",
            "2019-02-16 20:35:23 | itr #96 | Optimizing\n",
            "2019-02-16 20:35:23 | itr #96 | Start CG optimization: #parameters: 1480, #inputs: 200, #subsample_inputs: 200\n",
            "2019-02-16 20:35:23 | itr #96 | computing loss before\n",
            "2019-02-16 20:35:23 | itr #96 | performing update\n",
            "2019-02-16 20:35:23 | itr #96 | computing gradient\n",
            "2019-02-16 20:35:23 | itr #96 | gradient computed\n",
            "2019-02-16 20:35:23 | itr #96 | computing descent direction\n",
            "2019-02-16 20:35:23 | itr #96 | descent direction computed\n",
            "2019-02-16 20:35:23 | itr #96 | backtrack iters: 6\n",
            "2019-02-16 20:35:23 | itr #96 | computing loss after\n",
            "2019-02-16 20:35:23 | itr #96 | optimization finished\n",
            "2019-02-16 20:35:23 | itr #96 | Computing KL after\n",
            "2019-02-16 20:35:23 | itr #96 | Computing loss after\n",
            "2019-02-16 20:35:23 | itr #96 | Fitting baseline...\n",
            "2019-02-16 20:35:23 | itr #96 | Saving snapshot...\n",
            "2019-02-16 20:35:23 | itr #96 | Saved\n",
            "2019-02-16 20:35:23 | --------------------------  -------------\n",
            "2019-02-16 20:35:23 | AverageDiscountedReturn      29.3859\n",
            "2019-02-16 20:35:23 | AverageReturn                31.175\n",
            "2019-02-16 20:35:23 | Baseline/ExplainedVariance    0.765299\n",
            "2019-02-16 20:35:23 | Entropy                       0.315037\n",
            "2019-02-16 20:35:23 | EnvExecTime                   0.35968\n",
            "2019-02-16 20:35:23 | Iteration                    96\n",
            "2019-02-16 20:35:23 | ItrTime                       0.953772\n",
            "2019-02-16 20:35:23 | MaxReturn                    44\n",
            "2019-02-16 20:35:23 | MinReturn                    18\n",
            "2019-02-16 20:35:23 | NumTrajs                    200\n",
            "2019-02-16 20:35:23 | Perplexity                    1.37031\n",
            "2019-02-16 20:35:23 | PolicyExecTime                0.280116\n",
            "2019-02-16 20:35:23 | ProcessExecTime               0.0209208\n",
            "2019-02-16 20:35:23 | StdReturn                     4.87385\n",
            "2019-02-16 20:35:23 | Time                         99.9166\n",
            "2019-02-16 20:35:23 | policy/Entropy                0.52693\n",
            "2019-02-16 20:35:23 | policy/KL                     0.000683038\n",
            "2019-02-16 20:35:23 | policy/KLBefore               0\n",
            "2019-02-16 20:35:23 | policy/LossAfter             -0.000350401\n",
            "2019-02-16 20:35:23 | policy/LossBefore             1.04904e-08\n",
            "2019-02-16 20:35:23 | policy/dLoss                  0.000350411\n",
            "2019-02-16 20:35:23 | --------------------------  -------------\n",
            "2019-02-16 20:35:23 | itr #97 | Obtaining samples...\n",
            "2019-02-16 20:35:23 | itr #97 | Obtaining samples for iteration 97...\n"
          ],
          "name": "stdout"
        },
        {
          "output_type": "stream",
          "text": [
            "0% [##############################] 100% | ETA: 00:00:00"
          ],
          "name": "stderr"
        },
        {
          "output_type": "stream",
          "text": [
            "2019-02-16 20:35:23 | itr #97 | Processing samples...\n"
          ],
          "name": "stdout"
        },
        {
          "output_type": "stream",
          "text": [
            "\n",
            "Total time elapsed: 00:00:00\n"
          ],
          "name": "stderr"
        },
        {
          "output_type": "stream",
          "text": [
            "2019-02-16 20:35:23 | itr #97 | Logging diagnostics...\n",
            "2019-02-16 20:35:23 | itr #97 | Optimizing policy...\n",
            "2019-02-16 20:35:23 | itr #97 | Computing loss before\n",
            "2019-02-16 20:35:23 | itr #97 | Computing KL before\n",
            "2019-02-16 20:35:24 | itr #97 | Optimizing\n",
            "2019-02-16 20:35:24 | itr #97 | Start CG optimization: #parameters: 1480, #inputs: 200, #subsample_inputs: 200\n",
            "2019-02-16 20:35:24 | itr #97 | computing loss before\n",
            "2019-02-16 20:35:24 | itr #97 | performing update\n",
            "2019-02-16 20:35:24 | itr #97 | computing gradient\n",
            "2019-02-16 20:35:24 | itr #97 | gradient computed\n",
            "2019-02-16 20:35:24 | itr #97 | computing descent direction\n",
            "2019-02-16 20:35:24 | itr #97 | descent direction computed\n",
            "2019-02-16 20:35:24 | itr #97 | backtrack iters: 3\n",
            "2019-02-16 20:35:24 | itr #97 | computing loss after\n",
            "2019-02-16 20:35:24 | itr #97 | optimization finished\n",
            "2019-02-16 20:35:24 | itr #97 | Computing KL after\n",
            "2019-02-16 20:35:24 | itr #97 | Computing loss after\n",
            "2019-02-16 20:35:24 | itr #97 | Fitting baseline...\n",
            "2019-02-16 20:35:24 | itr #97 | Saving snapshot...\n",
            "2019-02-16 20:35:24 | itr #97 | Saved\n",
            "2019-02-16 20:35:24 | --------------------------  -------------\n",
            "2019-02-16 20:35:24 | AverageDiscountedReturn      28.8111\n",
            "2019-02-16 20:35:24 | AverageReturn                30.635\n",
            "2019-02-16 20:35:24 | Baseline/ExplainedVariance    0.793002\n",
            "2019-02-16 20:35:24 | Entropy                       0.323523\n",
            "2019-02-16 20:35:24 | EnvExecTime                   0.355654\n",
            "2019-02-16 20:35:24 | Iteration                    97\n",
            "2019-02-16 20:35:24 | ItrTime                       0.921419\n",
            "2019-02-16 20:35:24 | MaxReturn                    42\n",
            "2019-02-16 20:35:24 | MinReturn                    17\n",
            "2019-02-16 20:35:24 | NumTrajs                    200\n",
            "2019-02-16 20:35:24 | Perplexity                    1.38199\n",
            "2019-02-16 20:35:24 | PolicyExecTime                0.27624\n",
            "2019-02-16 20:35:24 | ProcessExecTime               0.0232334\n",
            "2019-02-16 20:35:24 | StdReturn                     4.67886\n",
            "2019-02-16 20:35:24 | Time                        100.87\n",
            "2019-02-16 20:35:24 | policy/Entropy                0.521864\n",
            "2019-02-16 20:35:24 | policy/KL                     0.00855334\n",
            "2019-02-16 20:35:24 | policy/KLBefore               0\n",
            "2019-02-16 20:35:24 | policy/LossAfter             -0.00238253\n",
            "2019-02-16 20:35:24 | policy/LossBefore             1.40667e-08\n",
            "2019-02-16 20:35:24 | policy/dLoss                  0.00238255\n",
            "2019-02-16 20:35:24 | --------------------------  -------------\n",
            "2019-02-16 20:35:24 | itr #98 | Obtaining samples...\n",
            "2019-02-16 20:35:24 | itr #98 | Obtaining samples for iteration 98...\n"
          ],
          "name": "stdout"
        },
        {
          "output_type": "stream",
          "text": [
            "0% [##############################] 100% | ETA: 00:00:00"
          ],
          "name": "stderr"
        },
        {
          "output_type": "stream",
          "text": [
            "2019-02-16 20:35:24 | itr #98 | Processing samples...\n"
          ],
          "name": "stdout"
        },
        {
          "output_type": "stream",
          "text": [
            "\n",
            "Total time elapsed: 00:00:00\n"
          ],
          "name": "stderr"
        },
        {
          "output_type": "stream",
          "text": [
            "2019-02-16 20:35:24 | itr #98 | Logging diagnostics...\n",
            "2019-02-16 20:35:24 | itr #98 | Optimizing policy...\n",
            "2019-02-16 20:35:24 | itr #98 | Computing loss before\n",
            "2019-02-16 20:35:24 | itr #98 | Computing KL before\n",
            "2019-02-16 20:35:24 | itr #98 | Optimizing\n",
            "2019-02-16 20:35:24 | itr #98 | Start CG optimization: #parameters: 1480, #inputs: 200, #subsample_inputs: 200\n",
            "2019-02-16 20:35:24 | itr #98 | computing loss before\n",
            "2019-02-16 20:35:24 | itr #98 | performing update\n",
            "2019-02-16 20:35:24 | itr #98 | computing gradient\n",
            "2019-02-16 20:35:24 | itr #98 | gradient computed\n",
            "2019-02-16 20:35:24 | itr #98 | computing descent direction\n",
            "2019-02-16 20:35:25 | itr #98 | descent direction computed\n",
            "2019-02-16 20:35:25 | itr #98 | backtrack iters: 0\n",
            "2019-02-16 20:35:25 | itr #98 | computing loss after\n",
            "2019-02-16 20:35:25 | itr #98 | optimization finished\n",
            "2019-02-16 20:35:25 | itr #98 | Computing KL after\n",
            "2019-02-16 20:35:25 | itr #98 | Computing loss after\n",
            "2019-02-16 20:35:25 | itr #98 | Fitting baseline...\n",
            "2019-02-16 20:35:25 | itr #98 | Saving snapshot...\n",
            "2019-02-16 20:35:25 | itr #98 | Saved\n",
            "2019-02-16 20:35:25 | --------------------------  -------------\n",
            "2019-02-16 20:35:25 | AverageDiscountedReturn      29.621\n",
            "2019-02-16 20:35:25 | AverageReturn                31.54\n",
            "2019-02-16 20:35:25 | Baseline/ExplainedVariance    0.77879\n",
            "2019-02-16 20:35:25 | Entropy                       0.343714\n",
            "2019-02-16 20:35:25 | EnvExecTime                   0.355474\n",
            "2019-02-16 20:35:25 | Iteration                    98\n",
            "2019-02-16 20:35:25 | ItrTime                       0.891288\n",
            "2019-02-16 20:35:25 | MaxReturn                    44\n",
            "2019-02-16 20:35:25 | MinReturn                    18\n",
            "2019-02-16 20:35:25 | NumTrajs                    200\n",
            "2019-02-16 20:35:25 | Perplexity                    1.41018\n",
            "2019-02-16 20:35:25 | PolicyExecTime                0.264801\n",
            "2019-02-16 20:35:25 | ProcessExecTime               0.0214415\n",
            "2019-02-16 20:35:25 | StdReturn                     4.47643\n",
            "2019-02-16 20:35:25 | Time                        101.795\n",
            "2019-02-16 20:35:25 | policy/Entropy                0.509047\n",
            "2019-02-16 20:35:25 | policy/KL                     0.00459544\n",
            "2019-02-16 20:35:25 | policy/KLBefore               0\n",
            "2019-02-16 20:35:25 | policy/LossAfter             -0.0160481\n",
            "2019-02-16 20:35:25 | policy/LossBefore             1.43051e-08\n",
            "2019-02-16 20:35:25 | policy/dLoss                  0.0160481\n",
            "2019-02-16 20:35:25 | --------------------------  -------------\n",
            "2019-02-16 20:35:25 | itr #99 | Obtaining samples...\n",
            "2019-02-16 20:35:25 | itr #99 | Obtaining samples for iteration 99...\n"
          ],
          "name": "stdout"
        },
        {
          "output_type": "stream",
          "text": [
            "0% [##############################] 100% | ETA: 00:00:00"
          ],
          "name": "stderr"
        },
        {
          "output_type": "stream",
          "text": [
            "2019-02-16 20:35:25 | itr #99 | Processing samples...\n"
          ],
          "name": "stdout"
        },
        {
          "output_type": "stream",
          "text": [
            "\n",
            "Total time elapsed: 00:00:00\n"
          ],
          "name": "stderr"
        },
        {
          "output_type": "stream",
          "text": [
            "2019-02-16 20:35:25 | itr #99 | Logging diagnostics...\n",
            "2019-02-16 20:35:25 | itr #99 | Optimizing policy...\n",
            "2019-02-16 20:35:25 | itr #99 | Computing loss before\n",
            "2019-02-16 20:35:25 | itr #99 | Computing KL before\n",
            "2019-02-16 20:35:25 | itr #99 | Optimizing\n",
            "2019-02-16 20:35:25 | itr #99 | Start CG optimization: #parameters: 1480, #inputs: 200, #subsample_inputs: 200\n",
            "2019-02-16 20:35:25 | itr #99 | computing loss before\n",
            "2019-02-16 20:35:25 | itr #99 | performing update\n",
            "2019-02-16 20:35:25 | itr #99 | computing gradient\n",
            "2019-02-16 20:35:25 | itr #99 | gradient computed\n",
            "2019-02-16 20:35:25 | itr #99 | computing descent direction\n",
            "2019-02-16 20:35:25 | itr #99 | descent direction computed\n",
            "2019-02-16 20:35:26 | itr #99 | backtrack iters: 2\n",
            "2019-02-16 20:35:26 | itr #99 | computing loss after\n",
            "2019-02-16 20:35:26 | itr #99 | optimization finished\n",
            "2019-02-16 20:35:26 | itr #99 | Computing KL after\n",
            "2019-02-16 20:35:26 | itr #99 | Computing loss after\n",
            "2019-02-16 20:35:26 | itr #99 | Fitting baseline...\n",
            "2019-02-16 20:35:26 | itr #99 | Saving snapshot...\n",
            "2019-02-16 20:35:26 | itr #99 | Saved\n",
            "2019-02-16 20:35:26 | --------------------------  -------------\n",
            "2019-02-16 20:35:26 | AverageDiscountedReturn      30.2777\n",
            "2019-02-16 20:35:26 | AverageReturn                32.205\n",
            "2019-02-16 20:35:26 | Baseline/ExplainedVariance    0.798147\n",
            "2019-02-16 20:35:26 | Entropy                       0.320187\n",
            "2019-02-16 20:35:26 | EnvExecTime                   0.360718\n",
            "2019-02-16 20:35:26 | Iteration                    99\n",
            "2019-02-16 20:35:26 | ItrTime                       0.903089\n",
            "2019-02-16 20:35:26 | MaxReturn                    44\n",
            "2019-02-16 20:35:26 | MinReturn                    18\n",
            "2019-02-16 20:35:26 | NumTrajs                    200\n",
            "2019-02-16 20:35:26 | Perplexity                    1.37739\n",
            "2019-02-16 20:35:26 | PolicyExecTime                0.251848\n",
            "2019-02-16 20:35:26 | ProcessExecTime               0.0232074\n",
            "2019-02-16 20:35:26 | StdReturn                     3.86561\n",
            "2019-02-16 20:35:26 | Time                        102.733\n",
            "2019-02-16 20:35:26 | policy/Entropy                0.521272\n",
            "2019-02-16 20:35:26 | policy/KL                     0.00216804\n",
            "2019-02-16 20:35:26 | policy/KLBefore               0\n",
            "2019-02-16 20:35:26 | policy/LossAfter             -0.000667718\n",
            "2019-02-16 20:35:26 | policy/LossBefore            -6.19888e-09\n",
            "2019-02-16 20:35:26 | policy/dLoss                  0.000667712\n",
            "2019-02-16 20:35:26 | --------------------------  -------------\n"
          ],
          "name": "stdout"
        },
        {
          "output_type": "execute_result",
          "data": {
            "text/plain": [
              "32.205"
            ]
          },
          "metadata": {
            "tags": []
          },
          "execution_count": 24
        }
      ]
    },
    {
      "metadata": {
        "id": "zLBLdbfgi163",
        "colab_type": "text"
      },
      "cell_type": "markdown",
      "source": [
        "# Results: a sample experiment"
      ]
    },
    {
      "metadata": {
        "id": "dp26AxdO_Lr1",
        "colab_type": "text"
      },
      "cell_type": "markdown",
      "source": [
        "The table below shows that the agent successfully learns to start/stop the pump and bypass blocked elements in order to reach its goal of transferring water from the raw water tank to the product tank with neither overflow nor overdraw"
      ]
    },
    {
      "metadata": {
        "id": "5WFM_CmDfApo",
        "colab_type": "code",
        "outputId": "b039886a-7557-4031-b444-e2e09cf562b9",
        "colab": {
          "base_uri": "https://localhost:8080/",
          "height": 669
        }
      },
      "cell_type": "code",
      "source": [
        "# validate with some experiment\n",
        "obs_initial = env.reset().copy()\n",
        "#obs_initial = dict(zip(state_keys, obs_initial))\n",
        "\n",
        "# go through time steps and apply sequence of actions\n",
        "done = False\n",
        "obs_t_l = obs_initial\n",
        "solution = dict(obs = [], rew = [], act = [])\n",
        "while not done:\n",
        "  obs_t_d = dict(zip(state_keys, obs_t_l)) # tuple to dict\n",
        "  #print(\"obs\", obs_t_d)\n",
        "  solution['obs'].append(obs_t_d)\n",
        "  act_t1, prob_t = policy.get_action(obs_t_l)\n",
        "  act_t2 = env.env.env.action(act_t1) # convert flat to non-flat\n",
        "  act_t2 = dict(zip(action_keys, act_t2)) # tuple to dict\n",
        "  #print(\"action\", act_t1, act_t2)\n",
        "  solution['act'].append(act_t2)\n",
        "  obs_t_l, reward_t, done, _ = env.step(act_t1)\n",
        "  #print(\"rew\", reward_t)\n",
        "  solution['rew'].append(reward_t)\n",
        "  if done: break\n",
        "\n",
        "# blend\n",
        "solution['act'] = pd.DataFrame(solution['act'])\n",
        "solution['obs'] = pd.DataFrame(solution['obs'])\n",
        "solution = pd.concat([solution['obs'], solution['act'], pd.DataFrame({'rew': solution['rew']})], axis=1)\n",
        "#for fx in ['bp1', 'bp2', 'pump']:\n",
        "#  solution[fx] = solution[fx].astype('bool')\n",
        "  \n",
        "solution"
      ],
      "execution_count": 25,
      "outputs": [
        {
          "output_type": "execute_result",
          "data": {
            "text/html": [
              "<div>\n",
              "<style scoped>\n",
              "    .dataframe tbody tr th:only-of-type {\n",
              "        vertical-align: middle;\n",
              "    }\n",
              "\n",
              "    .dataframe tbody tr th {\n",
              "        vertical-align: top;\n",
              "    }\n",
              "\n",
              "    .dataframe thead th {\n",
              "        text-align: right;\n",
              "    }\n",
              "</style>\n",
              "<table border=\"1\" class=\"dataframe\">\n",
              "  <thead>\n",
              "    <tr style=\"text-align: right;\">\n",
              "      <th></th>\n",
              "      <th>pd1</th>\n",
              "      <th>pd2</th>\n",
              "      <th>wl_in</th>\n",
              "      <th>wl_out</th>\n",
              "      <th>bp1</th>\n",
              "      <th>bp2</th>\n",
              "      <th>pump</th>\n",
              "      <th>rew</th>\n",
              "    </tr>\n",
              "  </thead>\n",
              "  <tbody>\n",
              "    <tr>\n",
              "      <th>0</th>\n",
              "      <td>0</td>\n",
              "      <td>0</td>\n",
              "      <td>100</td>\n",
              "      <td>20</td>\n",
              "      <td>0</td>\n",
              "      <td>0</td>\n",
              "      <td>1</td>\n",
              "      <td>6.0</td>\n",
              "    </tr>\n",
              "    <tr>\n",
              "      <th>1</th>\n",
              "      <td>0</td>\n",
              "      <td>100</td>\n",
              "      <td>90</td>\n",
              "      <td>30</td>\n",
              "      <td>0</td>\n",
              "      <td>1</td>\n",
              "      <td>1</td>\n",
              "      <td>4.0</td>\n",
              "    </tr>\n",
              "    <tr>\n",
              "      <th>2</th>\n",
              "      <td>0</td>\n",
              "      <td>100</td>\n",
              "      <td>80</td>\n",
              "      <td>40</td>\n",
              "      <td>0</td>\n",
              "      <td>1</td>\n",
              "      <td>1</td>\n",
              "      <td>4.0</td>\n",
              "    </tr>\n",
              "    <tr>\n",
              "      <th>3</th>\n",
              "      <td>0</td>\n",
              "      <td>100</td>\n",
              "      <td>70</td>\n",
              "      <td>50</td>\n",
              "      <td>0</td>\n",
              "      <td>1</td>\n",
              "      <td>1</td>\n",
              "      <td>4.0</td>\n",
              "    </tr>\n",
              "    <tr>\n",
              "      <th>4</th>\n",
              "      <td>100</td>\n",
              "      <td>100</td>\n",
              "      <td>60</td>\n",
              "      <td>60</td>\n",
              "      <td>0</td>\n",
              "      <td>0</td>\n",
              "      <td>0</td>\n",
              "      <td>0.0</td>\n",
              "    </tr>\n",
              "    <tr>\n",
              "      <th>5</th>\n",
              "      <td>100</td>\n",
              "      <td>100</td>\n",
              "      <td>60</td>\n",
              "      <td>60</td>\n",
              "      <td>1</td>\n",
              "      <td>1</td>\n",
              "      <td>1</td>\n",
              "      <td>2.0</td>\n",
              "    </tr>\n",
              "    <tr>\n",
              "      <th>6</th>\n",
              "      <td>100</td>\n",
              "      <td>100</td>\n",
              "      <td>50</td>\n",
              "      <td>70</td>\n",
              "      <td>0</td>\n",
              "      <td>0</td>\n",
              "      <td>0</td>\n",
              "      <td>0.0</td>\n",
              "    </tr>\n",
              "    <tr>\n",
              "      <th>7</th>\n",
              "      <td>100</td>\n",
              "      <td>100</td>\n",
              "      <td>50</td>\n",
              "      <td>70</td>\n",
              "      <td>1</td>\n",
              "      <td>1</td>\n",
              "      <td>1</td>\n",
              "      <td>2.0</td>\n",
              "    </tr>\n",
              "    <tr>\n",
              "      <th>8</th>\n",
              "      <td>100</td>\n",
              "      <td>100</td>\n",
              "      <td>40</td>\n",
              "      <td>80</td>\n",
              "      <td>1</td>\n",
              "      <td>1</td>\n",
              "      <td>1</td>\n",
              "      <td>2.0</td>\n",
              "    </tr>\n",
              "    <tr>\n",
              "      <th>9</th>\n",
              "      <td>100</td>\n",
              "      <td>100</td>\n",
              "      <td>30</td>\n",
              "      <td>90</td>\n",
              "      <td>0</td>\n",
              "      <td>0</td>\n",
              "      <td>0</td>\n",
              "      <td>0.0</td>\n",
              "    </tr>\n",
              "    <tr>\n",
              "      <th>10</th>\n",
              "      <td>100</td>\n",
              "      <td>100</td>\n",
              "      <td>30</td>\n",
              "      <td>90</td>\n",
              "      <td>1</td>\n",
              "      <td>1</td>\n",
              "      <td>1</td>\n",
              "      <td>12.0</td>\n",
              "    </tr>\n",
              "    <tr>\n",
              "      <th>11</th>\n",
              "      <td>100</td>\n",
              "      <td>100</td>\n",
              "      <td>20</td>\n",
              "      <td>100</td>\n",
              "      <td>0</td>\n",
              "      <td>0</td>\n",
              "      <td>0</td>\n",
              "      <td>0.0</td>\n",
              "    </tr>\n",
              "    <tr>\n",
              "      <th>12</th>\n",
              "      <td>100</td>\n",
              "      <td>100</td>\n",
              "      <td>20</td>\n",
              "      <td>100</td>\n",
              "      <td>0</td>\n",
              "      <td>0</td>\n",
              "      <td>0</td>\n",
              "      <td>0.0</td>\n",
              "    </tr>\n",
              "    <tr>\n",
              "      <th>13</th>\n",
              "      <td>100</td>\n",
              "      <td>100</td>\n",
              "      <td>20</td>\n",
              "      <td>100</td>\n",
              "      <td>0</td>\n",
              "      <td>0</td>\n",
              "      <td>0</td>\n",
              "      <td>0.0</td>\n",
              "    </tr>\n",
              "    <tr>\n",
              "      <th>14</th>\n",
              "      <td>100</td>\n",
              "      <td>100</td>\n",
              "      <td>20</td>\n",
              "      <td>100</td>\n",
              "      <td>0</td>\n",
              "      <td>0</td>\n",
              "      <td>0</td>\n",
              "      <td>0.0</td>\n",
              "    </tr>\n",
              "    <tr>\n",
              "      <th>15</th>\n",
              "      <td>100</td>\n",
              "      <td>100</td>\n",
              "      <td>20</td>\n",
              "      <td>100</td>\n",
              "      <td>0</td>\n",
              "      <td>0</td>\n",
              "      <td>0</td>\n",
              "      <td>0.0</td>\n",
              "    </tr>\n",
              "    <tr>\n",
              "      <th>16</th>\n",
              "      <td>100</td>\n",
              "      <td>100</td>\n",
              "      <td>20</td>\n",
              "      <td>100</td>\n",
              "      <td>0</td>\n",
              "      <td>0</td>\n",
              "      <td>0</td>\n",
              "      <td>0.0</td>\n",
              "    </tr>\n",
              "    <tr>\n",
              "      <th>17</th>\n",
              "      <td>100</td>\n",
              "      <td>100</td>\n",
              "      <td>20</td>\n",
              "      <td>100</td>\n",
              "      <td>0</td>\n",
              "      <td>0</td>\n",
              "      <td>0</td>\n",
              "      <td>0.0</td>\n",
              "    </tr>\n",
              "    <tr>\n",
              "      <th>18</th>\n",
              "      <td>100</td>\n",
              "      <td>100</td>\n",
              "      <td>20</td>\n",
              "      <td>100</td>\n",
              "      <td>0</td>\n",
              "      <td>0</td>\n",
              "      <td>0</td>\n",
              "      <td>0.0</td>\n",
              "    </tr>\n",
              "    <tr>\n",
              "      <th>19</th>\n",
              "      <td>100</td>\n",
              "      <td>100</td>\n",
              "      <td>20</td>\n",
              "      <td>100</td>\n",
              "      <td>0</td>\n",
              "      <td>0</td>\n",
              "      <td>0</td>\n",
              "      <td>0.0</td>\n",
              "    </tr>\n",
              "  </tbody>\n",
              "</table>\n",
              "</div>"
            ],
            "text/plain": [
              "    pd1  pd2  wl_in  wl_out  bp1  bp2  pump   rew\n",
              "0     0    0    100      20    0    0     1   6.0\n",
              "1     0  100     90      30    0    1     1   4.0\n",
              "2     0  100     80      40    0    1     1   4.0\n",
              "3     0  100     70      50    0    1     1   4.0\n",
              "4   100  100     60      60    0    0     0   0.0\n",
              "5   100  100     60      60    1    1     1   2.0\n",
              "6   100  100     50      70    0    0     0   0.0\n",
              "7   100  100     50      70    1    1     1   2.0\n",
              "8   100  100     40      80    1    1     1   2.0\n",
              "9   100  100     30      90    0    0     0   0.0\n",
              "10  100  100     30      90    1    1     1  12.0\n",
              "11  100  100     20     100    0    0     0   0.0\n",
              "12  100  100     20     100    0    0     0   0.0\n",
              "13  100  100     20     100    0    0     0   0.0\n",
              "14  100  100     20     100    0    0     0   0.0\n",
              "15  100  100     20     100    0    0     0   0.0\n",
              "16  100  100     20     100    0    0     0   0.0\n",
              "17  100  100     20     100    0    0     0   0.0\n",
              "18  100  100     20     100    0    0     0   0.0\n",
              "19  100  100     20     100    0    0     0   0.0"
            ]
          },
          "metadata": {
            "tags": []
          },
          "execution_count": 25
        }
      ]
    },
    {
      "metadata": {
        "id": "xMtB3Qg-fAkR",
        "colab_type": "code",
        "colab": {}
      },
      "cell_type": "code",
      "source": [
        ""
      ],
      "execution_count": 0,
      "outputs": []
    },
    {
      "metadata": {
        "id": "D4VGwkwRfAg0",
        "colab_type": "code",
        "colab": {}
      },
      "cell_type": "code",
      "source": [
        ""
      ],
      "execution_count": 0,
      "outputs": []
    },
    {
      "metadata": {
        "id": "nbhLEvkVmQHJ",
        "colab_type": "code",
        "colab": {}
      },
      "cell_type": "code",
      "source": [
        ""
      ],
      "execution_count": 0,
      "outputs": []
    }
  ]
}