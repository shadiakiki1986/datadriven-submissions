{
  "nbformat": 4,
  "nbformat_minor": 0,
  "metadata": {
    "colab": {
      "name": "t2-a WtpComboEnv v0 - WIP.ipynb",
      "version": "0.3.2",
      "provenance": [],
      "collapsed_sections": [],
      "toc_visible": true,
      "include_colab_link": true
    },
    "kernelspec": {
      "name": "python3",
      "display_name": "Python 3"
    },
    "accelerator": "GPU"
  },
  "cells": [
    {
      "cell_type": "markdown",
      "metadata": {
        "id": "view-in-github",
        "colab_type": "text"
      },
      "source": [
        "<a href=\"https://colab.research.google.com/github/shadiakiki1986/ml-competitions/blob/master/other/201902-gym-wtp/WtpComboEnv_v0.ipynb\" target=\"_parent\"><img src=\"https://colab.research.google.com/assets/colab-badge.svg\" alt=\"Open In Colab\"/></a>"
      ]
    },
    {
      "metadata": {
        "id": "Hpcqp6o-B-nQ",
        "colab_type": "text"
      },
      "cell_type": "markdown",
      "source": [
        "# WTP combo designer + operator\n",
        "\n",
        "This jupyter notebook demonstrates an openai/gym environment simulating the combined task of design and operation of a water treatment plant. It also trains a feed-forward neural network to achive the goal of design of an optimal system to treat a randomly sampled set of water parameters as well as to control the process.\n",
        "\n",
        "The design elements are the same as in the `WtpDesigner_v0` notebook: turbidity, hardness, UV\n",
        "\n",
        "The operation elements are the same as in the `WtpOperator_v0` notebook: pump, bypasses\n",
        "\n",
        "The goal is to transfer water from a source tank to a product tank and treating it along the way.\n",
        "\n",
        "The simulation combines design and operation by performing a 1st stage of design, followed by a 2nd stage of operation.\n",
        "\n",
        "Note that as of 2019-02-16, this is still WIP."
      ]
    },
    {
      "metadata": {
        "id": "uH8OK4YfDc0_",
        "colab_type": "text"
      },
      "cell_type": "markdown",
      "source": [
        "# install pre-reqs"
      ]
    },
    {
      "metadata": {
        "id": "NiIjx-0Rwjze",
        "colab_type": "code",
        "outputId": "c0ddbd84-5d36-4814-9c1f-112bdc7f3a19",
        "colab": {
          "base_uri": "https://localhost:8080/",
          "height": 386
        }
      },
      "cell_type": "code",
      "source": [
        "# install openai gym\n",
        "!pip install gym | tail\n",
        "!pip show gym"
      ],
      "execution_count": 1,
      "outputs": [
        {
          "output_type": "stream",
          "text": [
            "Requirement already satisfied: scipy in /usr/local/lib/python3.6/dist-packages (from gym) (1.1.0)\n",
            "Requirement already satisfied: numpy>=1.10.4 in /usr/local/lib/python3.6/dist-packages (from gym) (1.14.6)\n",
            "Requirement already satisfied: requests>=2.0 in /usr/local/lib/python3.6/dist-packages (from gym) (2.18.4)\n",
            "Requirement already satisfied: six in /usr/local/lib/python3.6/dist-packages (from gym) (1.11.0)\n",
            "Requirement already satisfied: pyglet>=1.2.0 in /usr/local/lib/python3.6/dist-packages (from gym) (1.3.2)\n",
            "Requirement already satisfied: certifi>=2017.4.17 in /usr/local/lib/python3.6/dist-packages (from requests>=2.0->gym) (2018.11.29)\n",
            "Requirement already satisfied: idna<2.7,>=2.5 in /usr/local/lib/python3.6/dist-packages (from requests>=2.0->gym) (2.6)\n",
            "Requirement already satisfied: chardet<3.1.0,>=3.0.2 in /usr/local/lib/python3.6/dist-packages (from requests>=2.0->gym) (3.0.4)\n",
            "Requirement already satisfied: urllib3<1.23,>=1.21.1 in /usr/local/lib/python3.6/dist-packages (from requests>=2.0->gym) (1.22)\n",
            "Requirement already satisfied: future in /usr/local/lib/python3.6/dist-packages (from pyglet>=1.2.0->gym) (0.16.0)\n",
            "Name: gym\n",
            "Version: 0.10.11\n",
            "Summary: The OpenAI Gym: A toolkit for developing and comparing your reinforcement learning agents.\n",
            "Home-page: https://github.com/openai/gym\n",
            "Author: OpenAI\n",
            "Author-email: gym@openai.com\n",
            "License: UNKNOWN\n",
            "Location: /usr/local/lib/python3.6/dist-packages\n",
            "Requires: scipy, numpy, requests, six, pyglet\n",
            "Required-by: tensor2tensor, stable-baselines, dopamine-rl\n"
          ],
          "name": "stdout"
        }
      ]
    },
    {
      "metadata": {
        "id": "DspfHxVA6Pnj",
        "colab_type": "code",
        "outputId": "ebb51b8a-f76c-415a-e25c-af9f39cbf66b",
        "colab": {
          "base_uri": "https://localhost:8080/",
          "height": 416
        }
      },
      "cell_type": "code",
      "source": [
        "# install dependencies of rlworkgroup/garage\n",
        "# Copied from colab/2019-01-21/t3.ipynb\n",
        "#------------------------------------\n",
        "\n",
        "# Install dependencies (copied from garage/environment.yml)\n",
        "!apt-get install libglfw3 libglfw3-dev | tail\n",
        "\n",
        "# >>>>>>>>   requires restart of runtime in colab.research.google.com due to joblib and rsa <<<<<<\n",
        "!pip install awscli  boto3  cached_property  cloudpickle  cma==1.1.06 flask  gym  \"box2d-py>=2.3.4\"  hyperopt  ipdb  ipywidgets  jsonmerge  \"joblib<0.13,>=0.12\"  jupyter  mako  matplotlib  memory_profiler  pandas  path.py    polling  pre_commit  protobuf  psutil  pygame  pyglet  PyOpenGL  pyprind  python-dateutil  pyzmq  scikit-image  scipy  tensorboard  | tail\n",
        "#\"tensorflow<1.10,>=1.9.0\"  Theano==1.0.2    \"mujoco-py<1.50.2,>=1.50.1\" gym[all]==0.10.8\n",
        "#!pip install jsonmerge glfw mako pygame\n",
        "!pip install pyprind cma glfw | tail\n",
        "\n",
        "# Install garage (continued in next cell)\n",
        "!git clone https://github.com/rlworkgroup/garage\n",
        "# !cd garage && pip install -e . # >>>>>>>>   requires restart of runtime in colab.research.google.com due to joblib and rsa <<<<<<\n",
        "#!pip show rlgarage garage"
      ],
      "execution_count": 2,
      "outputs": [
        {
          "output_type": "stream",
          "text": [
            "Reading package lists...\n",
            "Building dependency tree...\n",
            "Reading state information...\n",
            "libglfw3 is already the newest version (3.2.1-1).\n",
            "libglfw3-dev is already the newest version (3.2.1-1).\n",
            "0 upgraded, 0 newly installed, 0 to remove and 8 not upgraded.\n",
            "Requirement already satisfied: pluggy>=0.7 in /usr/local/lib/python3.6/dist-packages (from pytest->polling) (0.8.1)\n",
            "Requirement already satisfied: py>=1.5.0 in /usr/local/lib/python3.6/dist-packages (from pytest->polling) (1.7.0)\n",
            "Requirement already satisfied: more-itertools>=4.0.0 in /usr/local/lib/python3.6/dist-packages (from pytest->polling) (6.0.0)\n",
            "Requirement already satisfied: atomicwrites>=1.0 in /usr/local/lib/python3.6/dist-packages (from pytest->polling) (1.3.0)\n",
            "Requirement already satisfied: attrs>=17.4.0 in /usr/local/lib/python3.6/dist-packages (from pytest->polling) (18.2.0)\n",
            "Requirement already satisfied: pbr>=0.11 in /usr/local/lib/python3.6/dist-packages (from mock->polling) (5.1.2)\n",
            "Requirement already satisfied: olefile in /usr/local/lib/python3.6/dist-packages (from pillow>=2.1.0->scikit-image) (0.46)\n",
            "Requirement already satisfied: ptyprocess>=0.5 in /usr/local/lib/python3.6/dist-packages (from pexpect; sys_platform != \"win32\"->ipython>=5.0.0; python_version >= \"3.3\"->ipdb) (0.6.0)\n",
            "Requirement already satisfied: wcwidth in /usr/local/lib/python3.6/dist-packages (from prompt-toolkit<2.0.0,>=1.0.4->ipython>=5.0.0; python_version >= \"3.3\"->ipdb) (0.1.7)\n",
            "Requirement already satisfied: webencodings in /usr/local/lib/python3.6/dist-packages (from bleach->nbconvert->jupyter) (0.5.1)\n",
            "Requirement already satisfied: pyprind in /usr/local/lib/python3.6/dist-packages (2.11.2)\n",
            "Requirement already satisfied: cma in /usr/local/lib/python3.6/dist-packages (1.1.6)\n",
            "Requirement already satisfied: glfw in /usr/local/lib/python3.6/dist-packages (1.7.1)\n",
            "fatal: destination path 'garage' already exists and is not an empty directory.\n"
          ],
          "name": "stdout"
        }
      ]
    },
    {
      "metadata": {
        "id": "TXWtR1vm99vx",
        "colab_type": "code",
        "outputId": "af55d09e-715d-4f5d-dc2f-a10d8c1f621c",
        "colab": {
          "base_uri": "https://localhost:8080/",
          "height": 165
        }
      },
      "cell_type": "code",
      "source": [
        "# Install garage, commit e7324a68dedd94b4ea15a9c761bab2af032e2480 before the upcoming commits related to bumping gym/dm-control/mujoco versions\n",
        "!cd garage && git checkout e7324a68dedd94b4ea15a9c761bab2af032e2480\n",
        "!cd garage && pip install -e . # >>>>>>>>   requires restart of runtime in colab.research.google.com due to joblib and rsa <<<<<<"
      ],
      "execution_count": 3,
      "outputs": [
        {
          "output_type": "stream",
          "text": [
            "HEAD is now at e7324a6 Move nb_utils.py to garage.experiment\n",
            "Obtaining file:///content/garage\n",
            "Installing collected packages: rlgarage\n",
            "  Found existing installation: rlgarage 0.1.0\n",
            "    Can't uninstall 'rlgarage'. No files were found to uninstall.\n",
            "  Running setup.py develop for rlgarage\n",
            "Successfully installed rlgarage\n"
          ],
          "name": "stdout"
        }
      ]
    },
    {
      "metadata": {
        "id": "iMQ4ibxk8jQw",
        "colab_type": "text"
      },
      "cell_type": "markdown",
      "source": [
        "\n",
        "\n",
        "---\n",
        "\n",
        "\n",
        "\n",
        "---\n",
        "\n",
        "\n",
        "\n",
        "---\n",
        "\n"
      ]
    },
    {
      "metadata": {
        "id": "34oLOKVb5t8l",
        "colab_type": "text"
      },
      "cell_type": "markdown",
      "source": [
        "# Utility functions"
      ]
    },
    {
      "metadata": {
        "id": "48v00yBXHmur",
        "colab_type": "code",
        "colab": {}
      },
      "cell_type": "code",
      "source": [
        "import pandas as pd\n",
        "import numpy as np"
      ],
      "execution_count": 0,
      "outputs": []
    },
    {
      "metadata": {
        "id": "_JInZOBkzjxO",
        "colab_type": "code",
        "colab": {}
      },
      "cell_type": "code",
      "source": [
        "# mappings between integer indices\n",
        "#-----------------------------\n",
        "\n",
        "# number of elements in a single WTP\n",
        "n_elements = 5 # 1 # 5 # 10 causes too big of an action space (check unflatten action class)\n",
        "\n",
        "#-----------------------------\n",
        "\n",
        "# state\n",
        "state_keys = [\n",
        "    # wl: water level in raw water tank\n",
        "    \"wl_in\",\n",
        "]\n",
        "\n",
        "# append water parameters for each element\n",
        "for i in range(n_elements):\n",
        "  sk_ = [\n",
        "    # water parameters at input of element i\n",
        "    \"e%i_turbidity\"%i, # float 0,100\n",
        "    \"e%i_hardness\"%i, # float 0,100\n",
        "    \"e%i_bacteria\"%i, # float 0,100\n",
        "    # pd: pressure difference\n",
        "    \"e%i_pd\"%i, # float 0,100\n",
        "    # type of element (from element_types array below)\n",
        "    # moved here from action_keys\n",
        "    \"e%i_type\"%i, # integer 0,1,2,3\n",
        "  ]\n",
        "  state_keys += sk_\n",
        "  \n",
        "# append more\n",
        "state_keys += [\n",
        "    # water level in product tank\n",
        "    \"wl_out\",\n",
        "    \n",
        "    # water parameters of product tank\n",
        "    \"out_turbidity\",\n",
        "    \"out_hardness\",\n",
        "    \"out_bacteria\",\n",
        "    \n",
        "    # 1 for design phase, 0 for operation phase .. supposed to help the agent identify a change of \"era\"\n",
        "    \"design_mode\",\n",
        "]\n",
        "\n",
        "#-----------------------------\n",
        "# keys to action tuple\n",
        "action_keys = [\n",
        "    \"pump_status\", # manually putting a pump at the start of this sequence\n",
        "    \"ei_type\", # since action bit to sequentially yield a sequence of WTP elements\n",
        "]\n",
        "for i in range(n_elements):\n",
        "  action_keys += [\n",
        "    # type of element (from element_types array below)\n",
        "    #\"e%i_type\"%i, # integer 0,1,2,3\n",
        "\n",
        "    # For a pump, status=off <=> pump is off\n",
        "    # For a sand filter, being off = bypass is open\n",
        "    \"e%i_status\"%i, # boolean 0,1\n",
        "  ]\n",
        "\n",
        "#-----------------------------\n",
        "# mapping of element int to string\n",
        "element_types = [\n",
        "    \"pipe\",\n",
        "    \"sand filter\",\n",
        "    \"softener\",\n",
        "    \"UV\",\n",
        "    # no need for bypass ATM since \"sand filter off\" = \"sand filter bypass open\"\n",
        "    # \"bypass\"\n",
        "]\n",
        "#-----------------------------\n",
        "\n",
        "# elements uses\n",
        "element_uses = {\n",
        "    \"sand filter\": \"turbidity\",\n",
        "    \"softener\": \"hardness\",\n",
        "    \"UV\": \"bacteria\",\n",
        "}\n",
        "\n",
        "\n",
        "#state_keys, action_keys"
      ],
      "execution_count": 0,
      "outputs": []
    },
    {
      "metadata": {
        "id": "2bjW6ZNUi0Ye",
        "colab_type": "code",
        "colab": {}
      },
      "cell_type": "code",
      "source": [
        "def convert_lists_ObsActRew_df(solution):\n",
        "    \"\"\"\n",
        "    Utility function for display of results\n",
        "    \"\"\"\n",
        "    # blend into a single dataframe\n",
        "    solution['act'] = pd.DataFrame(solution['act'])\n",
        "    solution['obs'] = pd.DataFrame(solution['obs'])\n",
        "    solution = pd.concat([solution['obs'], solution['act'], pd.DataFrame({'rew': solution['rew']})], axis=1)\n",
        "    #for fx in ['bp1', 'bp2', 'pump']:\n",
        "    #  solution[fx] = solution[fx].astype('bool')\n",
        "\n",
        "    # re-order columns\n",
        "    solution = solution[state_keys + action_keys + ['rew']]\n",
        "\n",
        "    # translate element types from integer to string\n",
        "    for i in range(n_elements):\n",
        "      k = 'e%i_type'%i\n",
        "      solution[k] = solution[k].apply(lambda x: element_types[x])\n",
        "\n",
        "    solution['ei_type'] = solution['ei_type'].apply(lambda x: None if x is None else element_types[x])\n",
        "\n",
        "    # erase useless designer output after design phase is over\n",
        "    # solution.loc[env.env.env.env.n_steps_design:, 'ei_type'] = None\n",
        "\n",
        "    # summarize all the e*_{turbidity,hardness,bacteria,pd,status} columns\n",
        "    for fx in ['turbidity', 'hardness', 'bacteria', 'pd', 'status']:\n",
        "      deno = 1 if fx=='status' else 100\n",
        "      solution['summary_%s'%fx] = np.add.reduce(solution[['e%i_%s'%(i,fx) for i in range(n_elements)]].apply(lambda col: (col//deno).map(str) + ', ', axis=0), axis=1)\n",
        "      for i in range(n_elements):\n",
        "        del solution['e%i_%s'%(i,fx)]\n",
        "\n",
        "    # summarize e*_type\n",
        "    fx='type'\n",
        "    solution['summary_%s'%fx] = np.add.reduce(solution[['e%i_%s'%(i,fx) for i in range(n_elements)]].apply(lambda col: col + ', ', axis=0), axis=1)\n",
        "    for i in range(n_elements):\n",
        "      del solution['e%i_%s'%(i,fx)]\n",
        "\n",
        "    return solution\n"
      ],
      "execution_count": 0,
      "outputs": []
    },
    {
      "metadata": {
        "id": "JCXh-wZsrm0r",
        "colab_type": "code",
        "colab": {}
      },
      "cell_type": "code",
      "source": [
        "\n",
        "def s_tp1_d2l(s_tp1):\n",
        "    # convert state_tp1 from dict back to list\n",
        "    #print(\"s in:\", s_tp1)\n",
        "    s_tp1 = [s_tp1[k] for k in state_keys]\n",
        "    return s_tp1\n",
        "\n",
        "\n",
        "def act_on_wtp(state_t, action_t, debug=False):\n",
        "  \"\"\"\n",
        "  Parameters\n",
        "  state_t - state values, dict with keys being in `state_keys`\n",
        "  action_t - action values, dict with keys being in `action_keys`\n",
        "  \n",
        "  Returns\n",
        "  state_tp1 - state at t+1 after action\n",
        "  reward - reward after action\n",
        "  water_flowing - true/false if water is flowing\n",
        "  \"\"\"\n",
        "  \n",
        "  if debug:\n",
        "    print(\"-\"*20)\n",
        "    print(\"act on wtp\")\n",
        "    \n",
        "  #print(\"state/act(t)\", state_t, action_t)\n",
        "  \n",
        "  # convert list to dict\n",
        "  # state_t = dict(zip(state_keys, state_t))\n",
        "  \n",
        "  #print(\"----------\")\n",
        "  #print(state_t)\n",
        "  #print(\"action_t\", action_t)\n",
        "\n",
        "  # initialize\n",
        "  state_tp1 = state_t.copy()\n",
        "  reward = 0\n",
        "  pump_capacity = 10 # pump capacity per time step\n",
        "  water_flowing = False\n",
        "  \n",
        "  # apply cost of installation of element\n",
        "  if state_t[\"design_mode\"] == 1:\n",
        "    if element_types[action_t['ei_type']] != 'pipe':\n",
        "      if debug: print(\"cost for design change in design mode\")\n",
        "      reward -= 1\n",
        "\n",
        "  # any action taken\n",
        "  any_action = any(action_t[x] for x in action_t if x.endswith(\"_status\"))\n",
        "  if not any_action:\n",
        "    if debug: print(\"not doing anything and system is off\")\n",
        "    return state_tp1, reward, water_flowing\n",
        "  \n",
        "  # apply energy cost for pump\n",
        "  if action_t[\"pump_status\"]:\n",
        "    if debug: print(\"small punishment for energy consumption: pump\")\n",
        "    reward -= 1\n",
        "  \n",
        "  # apply cost reward for energy to take action\n",
        "  #action_t = dict(zip(action_keys, action_t))\n",
        "  for i in range(n_elements):\n",
        "    if action_t[\"e%i_status\"%i] & (element_types[state_t[\"e%i_type\"%i]] != \"pipe\"):\n",
        "      if debug: print(\"small punishment for energy consumption: %s\"%element_types[state_t[\"e%i_type\"%i]])\n",
        "      reward -= 1\n",
        "\n",
        "  # if pump is off, then nothing is happening\n",
        "  if not action_t[\"pump_status\"]:\n",
        "    if debug: print(\"system is still off\")\n",
        "    return state_tp1, reward, water_flowing\n",
        "  \n",
        "  # check blockages\n",
        "  for i in range(n_elements):\n",
        "    # if there is a blockage and the element is running (not bypassed)\n",
        "    if ((state_t[\"e%i_pd\"%i]) == 100):\n",
        "      if (action_t[\"e%i_status\"%i]):\n",
        "        if debug: print(\"the system is stuck at element %i .. halting\"%i)\n",
        "        return state_tp1, reward, water_flowing\n",
        "      else:\n",
        "        if debug: print(\"the system is stuck at element %i .. but it is bypassed\"%i)\n",
        "    \n",
        "  # from here on, the system is running and not stuck\n",
        "  if debug: print(\"pump is on and water is flowing .. proceed\")\n",
        "  water_flowing = True\n",
        "\n",
        "  # check if water input is enough for pump\n",
        "  if state_t[\"wl_in\"] >= pump_capacity:\n",
        "    if debug: print(\"positive reward for moving water\")\n",
        "    state_tp1[\"wl_out\"] += pump_capacity\n",
        "    state_tp1[\"wl_in\"] -= pump_capacity\n",
        "    reward += 7\n",
        "  else:\n",
        "    if debug: print(\"punish since pump will overdraw from raw water tank\")\n",
        "    state_tp1[\"wl_out\"] += state_t[\"wl_in\"]\n",
        "    state_tp1[\"wl_in\"] = 0\n",
        "    reward -= 20 # pump burning due to no water\n",
        "          \n",
        "  if state_tp1[\"wl_out\"] > 100:\n",
        "    if debug: print(\"punish for product tank overflowing\")\n",
        "    state_tp1[\"wl_out\"] = 100\n",
        "    reward -= 20\n",
        "    \n",
        "  # propagate water quality blindly, and later check if improvements were made\n",
        "  # Notice that e0_hardness will never change\n",
        "  for i in range(n_elements):\n",
        "    for el_type_expected in element_uses:\n",
        "      el_use = element_uses[el_type_expected] # e.g. hardness\n",
        "      if i < n_elements-1:\n",
        "        state_tp1[\"e%i_%s\"%(i+1, el_use)] = state_t[\"e%i_%s\"%(i, el_use)]\n",
        "      else:\n",
        "        state_tp1[\"out_%s\"%(el_use)] = state_t[\"e%i_%s\"%(i, el_use)]\n",
        "  \n",
        "    \n",
        "  # check water quality improvements\n",
        "  for i in range(n_elements):\n",
        "    # if element is \"not pipe\" and \"on\"\n",
        "    el_type = element_types[state_t[\"e%i_type\"%i]]\n",
        "    if debug: print(\"Check water quality for '%s' whose status is '%s'\"%(el_type, action_t[\"e%i_status\"%i]))\n",
        "    if (el_type != \"pipe\") & action_t[\"e%i_status\"%i]:\n",
        "      el_use = element_uses[el_type] # e.g. hardness\n",
        "      if debug: print(\"\\tFound non-pipe element %s that is on and that acts on %s ... reward?\"%(el_type, el_use))\n",
        "      # if element's target is in high level\n",
        "      if state_t[\"e%i_%s\"%(i, el_use)] > 0:\n",
        "        if debug: print(\"\\treward: element %i is %s lowering %s\"%(i, el_type, el_use))\n",
        "        reward += 5\n",
        "\n",
        "        # update state space .. next stage will no longer have the high level\n",
        "        if i < n_elements-1:\n",
        "          state_tp1[\"e%i_%s\"%(i+1, el_use)] = 0\n",
        "        else:\n",
        "          state_tp1[\"out_%s\"%el_use] = 0\n",
        "          \n",
        "      else:\n",
        "        if debug: print(\"\\tpunish: element %i is %s and is not necessary\"%(i, el_type))\n",
        "        reward -= 2\n",
        "    else:\n",
        "      if debug: print(\"\\tcase of pipe or bypass\")\n",
        "      for ei in element_uses:\n",
        "        el_use = element_uses[ei]\n",
        "        # iterate over all possible targets, and if any of them is high, punish for not doing anything about it\n",
        "        # if element's target is in high level\n",
        "        if state_t[\"e%i_%s\"%(i, el_use)] > 0:\n",
        "          if debug: print(\"\\tpunish: high level of %s but didnt take action\"%(el_use))\n",
        "          reward -= 2\n",
        "        \n",
        "\n",
        "  if (state_t['wl_out']<100) & (state_tp1['wl_out']==100):\n",
        "    if debug: print(\"bonus points for first attainment of full product tank\")\n",
        "    reward += 10\n",
        "\n",
        "    # upon getting full, get more bonus points if clean\n",
        "    all_treated = all(state_tp1[x]==0 for x in state_tp1 if x.startswith(\"out_\"))\n",
        "    if all_treated:\n",
        "      if debug: print(\"bonus points for product tank being totally clean\")\n",
        "      reward += 10\n",
        "\n",
        "  # done\n",
        "  return state_tp1, reward, water_flowing\n",
        "\n"
      ],
      "execution_count": 0,
      "outputs": []
    },
    {
      "metadata": {
        "id": "-vp35P2wJxa9",
        "colab_type": "code",
        "outputId": "902c2366-12c8-46c3-97f1-af49b6e7276a",
        "colab": {
          "base_uri": "https://localhost:8080/",
          "height": 476
        }
      },
      "cell_type": "code",
      "source": [
        "# test case\n",
        "s_t = {\n",
        "  'wl_in': 100,\n",
        "  'e0_turbidity': 100, 'e0_hardness': 0, 'e0_bacteria': 0, 'e0_pd': 0,\n",
        "  #'e0_type': element_types.index(\"sand filter\"),\n",
        "  'e0_type': element_types.index(\"softener\"),\n",
        "    \n",
        "  'e1_turbidity': 0, 'e1_hardness': 0, 'e1_bacteria': 0, 'e1_pd': 0,\n",
        "  'e1_type': element_types.index(\"pipe\"),\n",
        "  'e2_turbidity': 0, 'e2_hardness': 0, 'e2_bacteria': 0, 'e2_pd': 0,\n",
        "  'e2_type': element_types.index(\"pipe\"),\n",
        "  'e3_turbidity': 0, 'e3_hardness': 0, 'e3_bacteria': 0, 'e3_pd': 0,\n",
        "  'e3_type': element_types.index(\"pipe\"),\n",
        "  'e4_turbidity': 0, 'e4_hardness': 0, 'e4_bacteria': 0, 'e4_pd': 0,\n",
        "  'e4_type': element_types.index(\"pipe\"),\n",
        "    \n",
        "  'e5_turbidity': 0, 'e5_hardness': 0, 'e5_bacteria': 0, 'e5_pd': 0,\n",
        "  'e5_type': element_types.index(\"pipe\"),\n",
        "  'e6_turbidity': 0, 'e6_hardness': 0, 'e6_bacteria': 0, 'e6_pd': 0,\n",
        "  'e6_type': element_types.index(\"pipe\"),\n",
        "  'e7_turbidity': 0, 'e7_hardness': 0, 'e7_bacteria': 0, 'e7_pd': 0,\n",
        "  'e7_type': element_types.index(\"pipe\"),\n",
        "  'e8_turbidity': 0, 'e8_hardness': 0, 'e8_bacteria': 0, 'e8_pd': 0,\n",
        "  'e8_type': element_types.index(\"pipe\"),\n",
        "  'e9_turbidity': 0, 'e9_hardness': 0, 'e9_bacteria': 0, 'e9_pd': 0,\n",
        "  'e9_type': element_types.index(\"pipe\"),\n",
        "    \n",
        "  'wl_out': 0,\n",
        "  'out_turbidity': 0,\n",
        "  'out_hardness': 0,\n",
        "  'out_bacteria': 0,\n",
        "  'design_mode': 1,\n",
        "}\n",
        "\n",
        "a_t = {\n",
        "  'pump_status': 1,\n",
        "  'ei_type': 0,\n",
        "  'e0_status': 1, 'e1_status': 0, 'e2_status': 0, 'e3_status': 0, 'e4_status': 0,\n",
        "  'e5_status': 0, 'e6_status': 0, 'e7_status': 0, 'e8_status': 0, 'e9_status': 0,\n",
        "}\n",
        "\n",
        "s_tp1, reward, water_flowing = act_on_wtp(s_t, a_t, debug=True)\n",
        "\n",
        "mylists = dict(obs=[s_t, s_tp1], act=[a_t, a_t], rew=[reward, None])\n",
        "df = convert_lists_ObsActRew_df(mylists)\n",
        "\n",
        "#print(s_tp1, reward)\n",
        "#df = pd.DataFrame([s_t, s_tp1])\n",
        "#df['rew'] = None\n",
        "#df.loc[-1, 'rew'] = reward\n",
        "\n",
        "#for i in range(n_elements):\n",
        "#  k = 'e%i_type'%i\n",
        "#  df[k] = df[k].apply(lambda x: element_types[x])\n",
        "  \n",
        "#print(reward)\n",
        "\n",
        "print('water flowing', water_flowing)\n",
        "\n",
        "df\n",
        "#assert reward > 0"
      ],
      "execution_count": 8,
      "outputs": [
        {
          "output_type": "stream",
          "text": [
            "--------------------\n",
            "act on wtp\n",
            "small punishment for energy consumption: pump\n",
            "small punishment for energy consumption: softener\n",
            "pump is on and water is flowing .. proceed\n",
            "positive reward for moving water\n",
            "Check water quality for 'softener' whose status is '1'\n",
            "\tFound non-pipe element softener that is on and that acts on hardness ... reward?\n",
            "\tpunish: element 0 is softener and is not necessary\n",
            "Check water quality for 'pipe' whose status is '0'\n",
            "\tcase of pipe or bypass\n",
            "Check water quality for 'pipe' whose status is '0'\n",
            "\tcase of pipe or bypass\n",
            "Check water quality for 'pipe' whose status is '0'\n",
            "\tcase of pipe or bypass\n",
            "Check water quality for 'pipe' whose status is '0'\n",
            "\tcase of pipe or bypass\n",
            "water flowing True\n"
          ],
          "name": "stdout"
        },
        {
          "output_type": "execute_result",
          "data": {
            "text/html": [
              "<div>\n",
              "<style scoped>\n",
              "    .dataframe tbody tr th:only-of-type {\n",
              "        vertical-align: middle;\n",
              "    }\n",
              "\n",
              "    .dataframe tbody tr th {\n",
              "        vertical-align: top;\n",
              "    }\n",
              "\n",
              "    .dataframe thead th {\n",
              "        text-align: right;\n",
              "    }\n",
              "</style>\n",
              "<table border=\"1\" class=\"dataframe\">\n",
              "  <thead>\n",
              "    <tr style=\"text-align: right;\">\n",
              "      <th></th>\n",
              "      <th>wl_in</th>\n",
              "      <th>wl_out</th>\n",
              "      <th>out_turbidity</th>\n",
              "      <th>out_hardness</th>\n",
              "      <th>out_bacteria</th>\n",
              "      <th>design_mode</th>\n",
              "      <th>pump_status</th>\n",
              "      <th>ei_type</th>\n",
              "      <th>rew</th>\n",
              "      <th>summary_turbidity</th>\n",
              "      <th>summary_hardness</th>\n",
              "      <th>summary_bacteria</th>\n",
              "      <th>summary_pd</th>\n",
              "      <th>summary_status</th>\n",
              "      <th>summary_type</th>\n",
              "    </tr>\n",
              "  </thead>\n",
              "  <tbody>\n",
              "    <tr>\n",
              "      <th>0</th>\n",
              "      <td>100</td>\n",
              "      <td>0</td>\n",
              "      <td>0</td>\n",
              "      <td>0</td>\n",
              "      <td>0</td>\n",
              "      <td>1</td>\n",
              "      <td>1</td>\n",
              "      <td>pipe</td>\n",
              "      <td>3.0</td>\n",
              "      <td>1, 0, 0, 0, 0,</td>\n",
              "      <td>0, 0, 0, 0, 0,</td>\n",
              "      <td>0, 0, 0, 0, 0,</td>\n",
              "      <td>0, 0, 0, 0, 0,</td>\n",
              "      <td>1, 0, 0, 0, 0,</td>\n",
              "      <td>softener, pipe, pipe, pipe, pipe,</td>\n",
              "    </tr>\n",
              "    <tr>\n",
              "      <th>1</th>\n",
              "      <td>90</td>\n",
              "      <td>10</td>\n",
              "      <td>0</td>\n",
              "      <td>0</td>\n",
              "      <td>0</td>\n",
              "      <td>1</td>\n",
              "      <td>1</td>\n",
              "      <td>pipe</td>\n",
              "      <td>NaN</td>\n",
              "      <td>1, 1, 0, 0, 0,</td>\n",
              "      <td>0, 0, 0, 0, 0,</td>\n",
              "      <td>0, 0, 0, 0, 0,</td>\n",
              "      <td>0, 0, 0, 0, 0,</td>\n",
              "      <td>1, 0, 0, 0, 0,</td>\n",
              "      <td>softener, pipe, pipe, pipe, pipe,</td>\n",
              "    </tr>\n",
              "  </tbody>\n",
              "</table>\n",
              "</div>"
            ],
            "text/plain": [
              "   wl_in  wl_out  out_turbidity  out_hardness  out_bacteria  design_mode  \\\n",
              "0    100       0              0             0             0            1   \n",
              "1     90      10              0             0             0            1   \n",
              "\n",
              "   pump_status ei_type  rew summary_turbidity summary_hardness  \\\n",
              "0            1    pipe  3.0   1, 0, 0, 0, 0,   0, 0, 0, 0, 0,    \n",
              "1            1    pipe  NaN   1, 1, 0, 0, 0,   0, 0, 0, 0, 0,    \n",
              "\n",
              "  summary_bacteria       summary_pd   summary_status  \\\n",
              "0  0, 0, 0, 0, 0,   0, 0, 0, 0, 0,   1, 0, 0, 0, 0,    \n",
              "1  0, 0, 0, 0, 0,   0, 0, 0, 0, 0,   1, 0, 0, 0, 0,    \n",
              "\n",
              "                         summary_type  \n",
              "0  softener, pipe, pipe, pipe, pipe,   \n",
              "1  softener, pipe, pipe, pipe, pipe,   "
            ]
          },
          "metadata": {
            "tags": []
          },
          "execution_count": 8
        }
      ]
    },
    {
      "metadata": {
        "id": "IAE3mGZgjn5k",
        "colab_type": "code",
        "outputId": "7ddefc9d-b69c-4c0f-90b9-8048f9845c04",
        "colab": {
          "base_uri": "https://localhost:8080/",
          "height": 510
        }
      },
      "cell_type": "code",
      "source": [
        "# test case: why pump did not move water\n",
        "#    wl_in  wl_out  out_turbidity  out_hardness  out_bacteria  pump_status   ei_type   rew summary_turbidity summary_hardness summary_bacteria       summary_pd   summary_status                        summary_type\n",
        "#      70      30              0             0             0            1      None  -2.0   0, 0, 0, 0, 0,   1, 1, 1, 1, 0,   0, 0, 0, 0, 0,   1, 1, 1, 1, 1,   0, 0, 0, 0, 0,   softener, pipe, pipe, pipe, pipe, \n",
        "#      70      30              0             0             0            0      None  -1.0   0, 0, 0, 0, 0,   1, 1, 1, 1, 0,   0, 0, 0, 0, 0,   1, 1, 1, 1, 1,   0, 0, 0, 0, 0,   softener, pipe, pipe, pipe, pipe, \n",
        "\n",
        "s_t = {\n",
        "  'wl_in': 70,\n",
        "  'wl_out': 30,\n",
        "  'out_turbidity': 0,\n",
        "  'out_hardness': 0,\n",
        "  'out_bacteria': 0,\n",
        "\n",
        "  #'e0_type': element_types.index(\"sand filter\"),\n",
        "  'e0_type': element_types.index(\"softener\"),\n",
        "  'e1_type': element_types.index(\"pipe\"),\n",
        "  'e2_type': element_types.index(\"pipe\"),\n",
        "  'e3_type': element_types.index(\"pipe\"),\n",
        "  'e4_type': element_types.index(\"pipe\"),\n",
        "    \n",
        "  'e0_turbidity': 0, 'e0_hardness': 1, 'e0_bacteria': 0, 'e0_pd': 1,\n",
        "  'e1_turbidity': 0, 'e1_hardness': 1, 'e1_bacteria': 0, 'e1_pd': 1,\n",
        "  'e2_turbidity': 0, 'e2_hardness': 1, 'e2_bacteria': 0, 'e2_pd': 1,\n",
        "  'e3_turbidity': 0, 'e3_hardness': 1, 'e3_bacteria': 0, 'e3_pd': 1,\n",
        "  'e4_turbidity': 0, 'e4_hardness': 0, 'e4_bacteria': 0, 'e4_pd': 1,\n",
        "    \n",
        "  'design_mode': 1,\n",
        "}\n",
        "\n",
        "a_t = {\n",
        "  'pump_status': 1,\n",
        "  'ei_type': 0,\n",
        "  'e0_status': 0, 'e1_status': 0, 'e2_status': 0, 'e3_status': 0, 'e4_status': 0,\n",
        "}\n",
        "\n",
        "s_tp1, reward, water_flowing = act_on_wtp(s_t, a_t, debug=True)\n",
        "\n",
        "mylists = dict(obs=[s_t, s_tp1], act=[a_t, a_t], rew=[reward, None])\n",
        "df = convert_lists_ObsActRew_df(mylists)\n",
        "\n",
        "print('water flowing', water_flowing)\n",
        "\n",
        "df"
      ],
      "execution_count": 9,
      "outputs": [
        {
          "output_type": "stream",
          "text": [
            "--------------------\n",
            "act on wtp\n",
            "small punishment for energy consumption: pump\n",
            "pump is on and water is flowing .. proceed\n",
            "positive reward for moving water\n",
            "Check water quality for 'softener' whose status is '0'\n",
            "\tcase of pipe or bypass\n",
            "\tpunish: high level of hardness but didnt take action\n",
            "Check water quality for 'pipe' whose status is '0'\n",
            "\tcase of pipe or bypass\n",
            "\tpunish: high level of hardness but didnt take action\n",
            "Check water quality for 'pipe' whose status is '0'\n",
            "\tcase of pipe or bypass\n",
            "\tpunish: high level of hardness but didnt take action\n",
            "Check water quality for 'pipe' whose status is '0'\n",
            "\tcase of pipe or bypass\n",
            "\tpunish: high level of hardness but didnt take action\n",
            "Check water quality for 'pipe' whose status is '0'\n",
            "\tcase of pipe or bypass\n",
            "water flowing True\n"
          ],
          "name": "stdout"
        },
        {
          "output_type": "execute_result",
          "data": {
            "text/html": [
              "<div>\n",
              "<style scoped>\n",
              "    .dataframe tbody tr th:only-of-type {\n",
              "        vertical-align: middle;\n",
              "    }\n",
              "\n",
              "    .dataframe tbody tr th {\n",
              "        vertical-align: top;\n",
              "    }\n",
              "\n",
              "    .dataframe thead th {\n",
              "        text-align: right;\n",
              "    }\n",
              "</style>\n",
              "<table border=\"1\" class=\"dataframe\">\n",
              "  <thead>\n",
              "    <tr style=\"text-align: right;\">\n",
              "      <th></th>\n",
              "      <th>wl_in</th>\n",
              "      <th>wl_out</th>\n",
              "      <th>out_turbidity</th>\n",
              "      <th>out_hardness</th>\n",
              "      <th>out_bacteria</th>\n",
              "      <th>design_mode</th>\n",
              "      <th>pump_status</th>\n",
              "      <th>ei_type</th>\n",
              "      <th>rew</th>\n",
              "      <th>summary_turbidity</th>\n",
              "      <th>summary_hardness</th>\n",
              "      <th>summary_bacteria</th>\n",
              "      <th>summary_pd</th>\n",
              "      <th>summary_status</th>\n",
              "      <th>summary_type</th>\n",
              "    </tr>\n",
              "  </thead>\n",
              "  <tbody>\n",
              "    <tr>\n",
              "      <th>0</th>\n",
              "      <td>70</td>\n",
              "      <td>30</td>\n",
              "      <td>0</td>\n",
              "      <td>0</td>\n",
              "      <td>0</td>\n",
              "      <td>1</td>\n",
              "      <td>1</td>\n",
              "      <td>pipe</td>\n",
              "      <td>-2.0</td>\n",
              "      <td>0, 0, 0, 0, 0,</td>\n",
              "      <td>0, 0, 0, 0, 0,</td>\n",
              "      <td>0, 0, 0, 0, 0,</td>\n",
              "      <td>0, 0, 0, 0, 0,</td>\n",
              "      <td>0, 0, 0, 0, 0,</td>\n",
              "      <td>softener, pipe, pipe, pipe, pipe,</td>\n",
              "    </tr>\n",
              "    <tr>\n",
              "      <th>1</th>\n",
              "      <td>60</td>\n",
              "      <td>40</td>\n",
              "      <td>0</td>\n",
              "      <td>0</td>\n",
              "      <td>0</td>\n",
              "      <td>1</td>\n",
              "      <td>1</td>\n",
              "      <td>pipe</td>\n",
              "      <td>NaN</td>\n",
              "      <td>0, 0, 0, 0, 0,</td>\n",
              "      <td>0, 0, 0, 0, 0,</td>\n",
              "      <td>0, 0, 0, 0, 0,</td>\n",
              "      <td>0, 0, 0, 0, 0,</td>\n",
              "      <td>0, 0, 0, 0, 0,</td>\n",
              "      <td>softener, pipe, pipe, pipe, pipe,</td>\n",
              "    </tr>\n",
              "  </tbody>\n",
              "</table>\n",
              "</div>"
            ],
            "text/plain": [
              "   wl_in  wl_out  out_turbidity  out_hardness  out_bacteria  design_mode  \\\n",
              "0     70      30              0             0             0            1   \n",
              "1     60      40              0             0             0            1   \n",
              "\n",
              "   pump_status ei_type  rew summary_turbidity summary_hardness  \\\n",
              "0            1    pipe -2.0   0, 0, 0, 0, 0,   0, 0, 0, 0, 0,    \n",
              "1            1    pipe  NaN   0, 0, 0, 0, 0,   0, 0, 0, 0, 0,    \n",
              "\n",
              "  summary_bacteria       summary_pd   summary_status  \\\n",
              "0  0, 0, 0, 0, 0,   0, 0, 0, 0, 0,   0, 0, 0, 0, 0,    \n",
              "1  0, 0, 0, 0, 0,   0, 0, 0, 0, 0,   0, 0, 0, 0, 0,    \n",
              "\n",
              "                         summary_type  \n",
              "0  softener, pipe, pipe, pipe, pipe,   \n",
              "1  softener, pipe, pipe, pipe, pipe,   "
            ]
          },
          "metadata": {
            "tags": []
          },
          "execution_count": 9
        }
      ]
    },
    {
      "metadata": {
        "id": "MoMxQ-HU4a2x",
        "colab_type": "text"
      },
      "cell_type": "markdown",
      "source": [
        "# Create gym env"
      ]
    },
    {
      "metadata": {
        "id": "h24Enh-TDI5h",
        "colab_type": "code",
        "colab": {}
      },
      "cell_type": "code",
      "source": [
        "# Create a gym env that simulates the current water treatment plant\n",
        "# Based on https://github.com/openai/gym/blob/master/gym/envs/toy_text/nchain.py\n",
        "\n",
        "import gym\n",
        "from gym import spaces\n",
        "#from gym.utils import seeding\n",
        "import numpy as np\n",
        "import random\n",
        "\n"
      ],
      "execution_count": 0,
      "outputs": []
    },
    {
      "metadata": {
        "id": "oBv4mojWRT6v",
        "colab_type": "code",
        "colab": {}
      },
      "cell_type": "code",
      "source": [
        "\n",
        "# Gym env\n",
        "class WtpComboEnv_v0(gym.Env):\n",
        "    \"\"\"Water Treatment Plant / Combo (operator/design) environment\n",
        "    \n",
        "    This is a simulation of operating and designing simultaneously a water treatment plant (WTP).\n",
        "    \n",
        "    Observation:\n",
        "      Parameters in water\n",
        "      Type: Box(.)\n",
        "      Water level in .. Range [0, 100]\n",
        "      Pressure difference on element 1 .. Range [0,10]\n",
        "      Pressure difference on element 2 .. Range [0,10]\n",
        "      Water level out .. Range [0, 100]\n",
        "      \n",
        "    Actions:\n",
        "      On/Off commands to pump, by-pass #1, by-pass #2\n",
        "      Type: Dict of 3x Discrete(3)\n",
        "      0 Do nothing\n",
        "      1 flip state from off to on or on to off\n",
        "      \n",
        "    Reward: check function \"act_on_wtp\"\n",
        "      \n",
        "    Episode termination:\n",
        "      Water level out is high at earliest time with minimal by-passing\n",
        "    \"\"\"\n",
        "    def __init__(self):\n",
        "        # number of steps to complete a WTP design .. same as required number of elements\n",
        "        # Note that the design phase will spit out 1 element at a time for each position in the WTP\n",
        "        self.n_steps_design = n_elements\n",
        "\n",
        "        # number of steps to complete a WTP operation\n",
        "        self.n_steps_operation = 30 # 10 is the minimum required to achieve full water tank transfer\n",
        "        \n",
        "        # number of steps to complete a WTP combo (design + operation)\n",
        "        self.n_steps = self.n_steps_design + self.n_steps_operation\n",
        "        \n",
        "        # number of expected steps to maintain a full product tank without overflowing\n",
        "        self.n_full_expected = 5\n",
        "        \n",
        "        # number of actual steps to maintain a full product tank without overflowing\n",
        "        self.n_full_actual = 0\n",
        "\n",
        "        # probability that the differential pressure increases due to blockage\n",
        "        self.prob_block = 0.5\n",
        "        \n",
        "        #  actions: 0 for do nothing, 1 for flip state from off to on or vice versa\n",
        "        self.action_space = spaces.Tuple([\n",
        "            # status of pump\n",
        "            # Note that this action is only active during the 2nd part of the simulation (operation phase)\n",
        "            spaces.Discrete(2),\n",
        "\n",
        "            # type of element i\n",
        "            # Note that this action is only active during the 1st part of the simulation (design phase)\n",
        "            spaces.Discrete(len(element_types)),\n",
        "\n",
        "        ] + [\n",
        "            # status of element i\n",
        "            # Note that this action is only active during the 2nd part of the simulation (operation phase)\n",
        "            spaces.Discrete(2),\n",
        "        ]*n_elements\n",
        "        )\n",
        "        \n",
        "        # observations: water levels, pressure differences, ...\n",
        "        obs_ranges = [\n",
        "            [0, 100], # water level in\n",
        "        ] + [\n",
        "              # for each element i\n",
        "              [0, 100], # turbidity\n",
        "              [0, 100], # hardness\n",
        "              [0, 100], # bacteria\n",
        "              [0, 100], # pressure difference\n",
        "              [0, len(element_types)], # type of element i\n",
        "          ]*n_elements + [\n",
        "            [0, 100], # water level out\n",
        "            [0, 100], # turbidity at output\n",
        "            [0, 100], # hardness at output\n",
        "            [0, 100], # bacteria at output\n",
        "            [0, 1], # design mode\n",
        "        ]\n",
        "        \n",
        "        self.observation_space = spaces.Box(\n",
        "            low=np.array([x[0] for x in obs_ranges]),\n",
        "            high=np.array([x[1] for x in obs_ranges]),\n",
        "            dtype=np.float32\n",
        "        )\n",
        "        \n",
        "        self.reset()\n",
        "        #self.seed()\n",
        "        \n",
        "        # save the initial state for proper reset during simulation\n",
        "        #  when switching from design to operation\n",
        "        self.initial_state = None\n",
        "        \n",
        "        # debug flag: set to True for verbosity\n",
        "        self.debug = False\n",
        "        \n",
        "    def set_debug(self, debug):\n",
        "      self.debug = debug\n",
        "\n",
        "    #def seed(self, seed=None):\n",
        "    #    self.np_random, seed = seeding.np_random(seed)\n",
        "    #    return [seed]\n",
        "    \n",
        "    def reset(self, s0=None, onlyState=False):\n",
        "      \"\"\"\n",
        "      s0 - desired state\n",
        "      onlyState - allowing passing this through to continue counting\n",
        "      \"\"\"\n",
        "\n",
        "      if s0 is None:\n",
        "        # maintain design mode\n",
        "        designMode = self.state[\"design_mode\"] if onlyState else 1\n",
        "        \n",
        "        # sensors and equipment status on/off\n",
        "        s0 = [100 # water level in\n",
        "             ] + [# quality of in\n",
        "                  (100 if (np.random.rand() < 0.25) else 0), # turbidity .. 25% chance of high turbidity\n",
        "                  (100 if (np.random.rand() < 0.25) else 0), # hardness  .. 25% chance of high level\n",
        "                  (100 if (np.random.rand() < 0.25) else 0), # bacteria  .. 25% chance of high level\n",
        "                  0,  # differential pressure\n",
        "                  0, # type of element .. start with pipe\n",
        "                 ] + [0,0,0,0,0, # quality at rest of elements + type of element (start with pipe)\n",
        "                     ]*(n_elements-1\n",
        "                       ) + [0 # # water level out\n",
        "                           ] + [0,0,0 # quality at out\n",
        "                           ] + [designMode # design mode\n",
        "                               ]\n",
        "        s0 = dict(zip(state_keys, s0))\n",
        "        \n",
        "      # set\n",
        "      self.state = s0.copy()\n",
        "\n",
        "      # environment is fully observable, but state space needs to be converted from dict to list\n",
        "      obs = s_tp1_d2l(self.state)\n",
        "      \n",
        "      # early return\n",
        "      if onlyState: return obs\n",
        "      \n",
        "      # other variables\n",
        "      self.step_i = 0\n",
        "      self.n_full_actual = 0\n",
        "      \n",
        "      return obs\n",
        "    \n",
        "    def step(self, act1):\n",
        "        assert self.action_space.contains(act1), \"action not in action space!\"\n",
        "        assert self.step_i < self.n_steps\n",
        "        \n",
        "        if self.debug:\n",
        "          print('-'*20, 'step', self.step_i)\n",
        "\n",
        "        # first step, save initial state for later\n",
        "        if self.step_i == 0:\n",
        "          self.initial_state = self.state.copy()\n",
        "          \n",
        "        # if in design mode\n",
        "        if self.state[\"design_mode\"] == 1:\n",
        "          # update the element type of the current step, for use in the operation phase\n",
        "          ei_type = act1[action_keys.index(\"ei_type\")]\n",
        "          # ei_type = element_types[ei_type]\n",
        "          self.state[\"e%i_type\"%self.step_i] = ei_type\n",
        "          self.initial_state[\"e%i_type\"%self.step_i] = ei_type\n",
        "          \n",
        "          # force turn on the pump and all elements\n",
        "          # so that the designer part can find out what's the best design\n",
        "          # (designer need not know how to operate)\n",
        "          # Note that in a future iteration, maybe there should be multiple design/operate phases\n",
        "          # such that maybe the first designer doesn't know how to operate,\n",
        "          # but later iterations would know how\n",
        "          act1 = list(act1)\n",
        "          act1[action_keys.index(\"pump_status\")] = 1\n",
        "          for i in range(n_elements):\n",
        "            act1[action_keys.index(\"e%i_status\"%i)] = 1\n",
        "          act1 = tuple(act1)\n",
        "        \n",
        "        # increment number of steps taken\n",
        "        self.step_i += 1\n",
        "\n",
        "        # calculate reward of this action\n",
        "        act2 = dict(zip(action_keys, act1)) # tuple to dict\n",
        "        self.state, reward, water_flowing = act_on_wtp(self.state, act2, debug=self.debug)\n",
        "        #print(\"\\t state + element -> state after + reward\", wtp_i, self.state, reward_i)\n",
        "        \n",
        "        # check if product tank is full\n",
        "        if self.state['wl_out'] == 100:\n",
        "          self.n_full_actual += 1\n",
        "                                      \n",
        "        # operate the WTP for n_steps, or if the tank is full for x steps\n",
        "        done = False\n",
        "        if (self.step_i >= self.n_steps):\n",
        "          if self.debug: print(\"simulation done because of max n steps of simulation limit\")\n",
        "          done = True\n",
        "          \n",
        "        if (self.n_full_actual >= self.n_full_expected):\n",
        "          if self.debug: print(\"simulation done because of max n steps of tank full\")\n",
        "          done = True\n",
        "\n",
        "        if done:\n",
        "            # environment is fully observable, but state space needs to be converted from dict to list\n",
        "            obs_i = s_tp1_d2l(self.state)\n",
        "            return obs_i, reward, done, {}\n",
        "          \n",
        "        # decide on next design mode\n",
        "        self.state[\"design_mode\"] = 1 if (self.step_i < self.n_steps_design) else 0\n",
        "          \n",
        "        # decide on next-state blockage or not\n",
        "        if self.state[\"design_mode\"] == 1:\n",
        "          # no blockage during design\n",
        "          for i in range(n_elements):\n",
        "            dp_i = \"e%i_pd\"%i\n",
        "            self.state[dp_i] = 0\n",
        "        else:\n",
        "          for i in range(n_elements):\n",
        "            blocked_1 = False\n",
        "            dp_i = \"e%i_pd\"%i\n",
        "            if self.state[dp_i] == 0:\n",
        "              if (element_types[self.state[\"e%i_type\"%i]] != 'pipe') & water_flowing:\n",
        "                # x% chance of being blocked if not blocked already\n",
        "                #\n",
        "                # cannot block a pipe\n",
        "                # cannot block if water is not flowing\n",
        "                # Note that if a previous element is blocked, the probability of the current element blocking is halved\n",
        "                # This avoids all elements blocking at the same time\n",
        "                blocked_1 = (np.random.rand() < self.prob_block)\n",
        "            else:\n",
        "              # already blocked => continue being blocked\n",
        "              blocked_1 = True\n",
        "\n",
        "            if blocked_1:\n",
        "              # 2019-02-14\n",
        "              ## 50% chance of incrementing by 30 .. note that the blockage is digital at threshold 50\n",
        "              #dp_increment_1 = (np.random.rand() > 0.5) * 30          \n",
        "              #self.state[dp_i] += dp_increment_1\n",
        "              #self.state[dp_i] = min(100, self.state[dp_i]) # cap at 100\n",
        "\n",
        "              # 2019-02-15 just block straight away\n",
        "              self.state[dp_i] = 100\n",
        "\n",
        "        # if switching from design to operation, reset in a special way\n",
        "        if self.step_i == self.n_steps_design:\n",
        "          self.reset(self.initial_state, True)\n",
        "\n",
        "        # environment is fully observable, but state space needs to be converted from dict to list\n",
        "        obs_i = s_tp1_d2l(self.state)\n",
        "        return obs_i, reward, done, {}\n"
      ],
      "execution_count": 0,
      "outputs": []
    },
    {
      "metadata": {
        "id": "ccLhrtydaOZr",
        "colab_type": "code",
        "outputId": "76442a09-9f8a-4d97-df90-8eb26491627e",
        "colab": {
          "base_uri": "https://localhost:8080/",
          "height": 5967
        }
      },
      "cell_type": "code",
      "source": [
        "\n",
        "# iterate\n",
        "print(\"smoke test env .. start\")\n",
        "solution = dict(act=[], rew=[], obs=[])\n",
        "\n",
        "env_test = WtpComboEnv_v0()\n",
        "env_test.set_debug(True)\n",
        "obs_t = env_test.reset().copy()\n",
        "\n",
        "# go through time steps and apply sequence of actions\n",
        "for t in range(env_test.n_steps + 2):\n",
        "  obs_t_d = dict(zip(state_keys, obs_t)) # tuple to dict\n",
        "  solution['obs'].append(obs_t_d) # save trajectory\n",
        "  \n",
        "  act_t = env_test.action_space.sample() # random action\n",
        "  act_t_d = dict(zip(action_keys, act_t)) # tuple to dict\n",
        "  solution['act'].append(act_t_d) # save action\n",
        "\n",
        "  obs_t, reward_t, done, _ = env_test.step(act_t)\n",
        "  solution['rew'].append(reward_t) # save reward\n",
        "\n",
        "  if done: break\n",
        "    \n",
        "  #print(\"water in\", env_test.state, \"wtp\", [env_test.wtp_elements[x] for x in wtp_i], \"water out\", water_out, \"reward\", reward_sum)\n",
        "\n",
        "\n",
        "print(\"smoke test env .. end\")\n",
        "len(solution['act'])"
      ],
      "execution_count": 12,
      "outputs": [
        {
          "output_type": "stream",
          "text": [
            "smoke test env .. start\n",
            "-------------------- step 0\n",
            "--------------------\n",
            "act on wtp\n",
            "cost for design change in design mode\n",
            "small punishment for energy consumption: pump\n",
            "small punishment for energy consumption: UV\n",
            "pump is on and water is flowing .. proceed\n",
            "positive reward for moving water\n",
            "Check water quality for 'UV' whose status is '1'\n",
            "\tFound non-pipe element UV that is on and that acts on bacteria ... reward?\n",
            "\tpunish: element 0 is UV and is not necessary\n",
            "Check water quality for 'pipe' whose status is '1'\n",
            "\tcase of pipe or bypass\n",
            "Check water quality for 'pipe' whose status is '1'\n",
            "\tcase of pipe or bypass\n",
            "Check water quality for 'pipe' whose status is '1'\n",
            "\tcase of pipe or bypass\n",
            "Check water quality for 'pipe' whose status is '1'\n",
            "\tcase of pipe or bypass\n",
            "-------------------- step 1\n",
            "--------------------\n",
            "act on wtp\n",
            "cost for design change in design mode\n",
            "small punishment for energy consumption: pump\n",
            "small punishment for energy consumption: UV\n",
            "small punishment for energy consumption: sand filter\n",
            "pump is on and water is flowing .. proceed\n",
            "positive reward for moving water\n",
            "Check water quality for 'UV' whose status is '1'\n",
            "\tFound non-pipe element UV that is on and that acts on bacteria ... reward?\n",
            "\tpunish: element 0 is UV and is not necessary\n",
            "Check water quality for 'sand filter' whose status is '1'\n",
            "\tFound non-pipe element sand filter that is on and that acts on turbidity ... reward?\n",
            "\tpunish: element 1 is sand filter and is not necessary\n",
            "Check water quality for 'pipe' whose status is '1'\n",
            "\tcase of pipe or bypass\n",
            "Check water quality for 'pipe' whose status is '1'\n",
            "\tcase of pipe or bypass\n",
            "Check water quality for 'pipe' whose status is '1'\n",
            "\tcase of pipe or bypass\n",
            "-------------------- step 2\n",
            "--------------------\n",
            "act on wtp\n",
            "small punishment for energy consumption: pump\n",
            "small punishment for energy consumption: UV\n",
            "small punishment for energy consumption: sand filter\n",
            "pump is on and water is flowing .. proceed\n",
            "positive reward for moving water\n",
            "Check water quality for 'UV' whose status is '1'\n",
            "\tFound non-pipe element UV that is on and that acts on bacteria ... reward?\n",
            "\tpunish: element 0 is UV and is not necessary\n",
            "Check water quality for 'sand filter' whose status is '1'\n",
            "\tFound non-pipe element sand filter that is on and that acts on turbidity ... reward?\n",
            "\tpunish: element 1 is sand filter and is not necessary\n",
            "Check water quality for 'pipe' whose status is '1'\n",
            "\tcase of pipe or bypass\n",
            "Check water quality for 'pipe' whose status is '1'\n",
            "\tcase of pipe or bypass\n",
            "Check water quality for 'pipe' whose status is '1'\n",
            "\tcase of pipe or bypass\n",
            "-------------------- step 3\n",
            "--------------------\n",
            "act on wtp\n",
            "cost for design change in design mode\n",
            "small punishment for energy consumption: pump\n",
            "small punishment for energy consumption: UV\n",
            "small punishment for energy consumption: sand filter\n",
            "small punishment for energy consumption: UV\n",
            "pump is on and water is flowing .. proceed\n",
            "positive reward for moving water\n",
            "Check water quality for 'UV' whose status is '1'\n",
            "\tFound non-pipe element UV that is on and that acts on bacteria ... reward?\n",
            "\tpunish: element 0 is UV and is not necessary\n",
            "Check water quality for 'sand filter' whose status is '1'\n",
            "\tFound non-pipe element sand filter that is on and that acts on turbidity ... reward?\n",
            "\tpunish: element 1 is sand filter and is not necessary\n",
            "Check water quality for 'pipe' whose status is '1'\n",
            "\tcase of pipe or bypass\n",
            "Check water quality for 'UV' whose status is '1'\n",
            "\tFound non-pipe element UV that is on and that acts on bacteria ... reward?\n",
            "\tpunish: element 3 is UV and is not necessary\n",
            "Check water quality for 'pipe' whose status is '1'\n",
            "\tcase of pipe or bypass\n",
            "-------------------- step 4\n",
            "--------------------\n",
            "act on wtp\n",
            "small punishment for energy consumption: pump\n",
            "small punishment for energy consumption: UV\n",
            "small punishment for energy consumption: sand filter\n",
            "small punishment for energy consumption: UV\n",
            "pump is on and water is flowing .. proceed\n",
            "positive reward for moving water\n",
            "Check water quality for 'UV' whose status is '1'\n",
            "\tFound non-pipe element UV that is on and that acts on bacteria ... reward?\n",
            "\tpunish: element 0 is UV and is not necessary\n",
            "Check water quality for 'sand filter' whose status is '1'\n",
            "\tFound non-pipe element sand filter that is on and that acts on turbidity ... reward?\n",
            "\tpunish: element 1 is sand filter and is not necessary\n",
            "Check water quality for 'pipe' whose status is '1'\n",
            "\tcase of pipe or bypass\n",
            "Check water quality for 'UV' whose status is '1'\n",
            "\tFound non-pipe element UV that is on and that acts on bacteria ... reward?\n",
            "\tpunish: element 3 is UV and is not necessary\n",
            "Check water quality for 'pipe' whose status is '1'\n",
            "\tcase of pipe or bypass\n",
            "-------------------- step 5\n",
            "--------------------\n",
            "act on wtp\n",
            "cost for design change in design mode\n",
            "small punishment for energy consumption: pump\n",
            "small punishment for energy consumption: UV\n",
            "small punishment for energy consumption: sand filter\n",
            "small punishment for energy consumption: UV\n",
            "pump is on and water is flowing .. proceed\n",
            "positive reward for moving water\n",
            "Check water quality for 'UV' whose status is '1'\n",
            "\tFound non-pipe element UV that is on and that acts on bacteria ... reward?\n",
            "\tpunish: element 0 is UV and is not necessary\n",
            "Check water quality for 'sand filter' whose status is '1'\n",
            "\tFound non-pipe element sand filter that is on and that acts on turbidity ... reward?\n",
            "\tpunish: element 1 is sand filter and is not necessary\n",
            "Check water quality for 'pipe' whose status is '1'\n",
            "\tcase of pipe or bypass\n",
            "Check water quality for 'UV' whose status is '1'\n",
            "\tFound non-pipe element UV that is on and that acts on bacteria ... reward?\n",
            "\tpunish: element 3 is UV and is not necessary\n",
            "Check water quality for 'pipe' whose status is '1'\n",
            "\tcase of pipe or bypass\n",
            "-------------------- step 6\n",
            "--------------------\n",
            "act on wtp\n",
            "small punishment for energy consumption: UV\n",
            "small punishment for energy consumption: sand filter\n",
            "small punishment for energy consumption: UV\n",
            "system is still off\n",
            "-------------------- step 7\n",
            "--------------------\n",
            "act on wtp\n",
            "small punishment for energy consumption: pump\n",
            "small punishment for energy consumption: UV\n",
            "small punishment for energy consumption: sand filter\n",
            "small punishment for energy consumption: UV\n",
            "the system is stuck at element 0 .. halting\n",
            "-------------------- step 8\n",
            "--------------------\n",
            "act on wtp\n",
            "small punishment for energy consumption: pump\n",
            "small punishment for energy consumption: sand filter\n",
            "the system is stuck at element 0 .. but it is bypassed\n",
            "the system is stuck at element 1 .. halting\n",
            "-------------------- step 9\n",
            "--------------------\n",
            "act on wtp\n",
            "not doing anything and system is off\n",
            "-------------------- step 10\n",
            "--------------------\n",
            "act on wtp\n",
            "small punishment for energy consumption: pump\n",
            "small punishment for energy consumption: UV\n",
            "the system is stuck at element 0 .. but it is bypassed\n",
            "the system is stuck at element 1 .. but it is bypassed\n",
            "pump is on and water is flowing .. proceed\n",
            "positive reward for moving water\n",
            "Check water quality for 'UV' whose status is '0'\n",
            "\tcase of pipe or bypass\n",
            "Check water quality for 'sand filter' whose status is '0'\n",
            "\tcase of pipe or bypass\n",
            "Check water quality for 'pipe' whose status is '0'\n",
            "\tcase of pipe or bypass\n",
            "Check water quality for 'UV' whose status is '1'\n",
            "\tFound non-pipe element UV that is on and that acts on bacteria ... reward?\n",
            "\tpunish: element 3 is UV and is not necessary\n",
            "Check water quality for 'pipe' whose status is '1'\n",
            "\tcase of pipe or bypass\n",
            "-------------------- step 11\n",
            "--------------------\n",
            "act on wtp\n",
            "system is still off\n",
            "-------------------- step 12\n",
            "--------------------\n",
            "act on wtp\n",
            "small punishment for energy consumption: pump\n",
            "small punishment for energy consumption: UV\n",
            "small punishment for energy consumption: sand filter\n",
            "the system is stuck at element 0 .. halting\n",
            "-------------------- step 13\n",
            "--------------------\n",
            "act on wtp\n",
            "small punishment for energy consumption: pump\n",
            "small punishment for energy consumption: sand filter\n",
            "the system is stuck at element 0 .. but it is bypassed\n",
            "the system is stuck at element 1 .. halting\n",
            "-------------------- step 14\n",
            "--------------------\n",
            "act on wtp\n",
            "small punishment for energy consumption: pump\n",
            "small punishment for energy consumption: UV\n",
            "small punishment for energy consumption: UV\n",
            "the system is stuck at element 0 .. halting\n",
            "-------------------- step 15\n",
            "--------------------\n",
            "act on wtp\n",
            "small punishment for energy consumption: UV\n",
            "small punishment for energy consumption: sand filter\n",
            "small punishment for energy consumption: UV\n",
            "system is still off\n",
            "-------------------- step 16\n",
            "--------------------\n",
            "act on wtp\n",
            "system is still off\n",
            "-------------------- step 17\n",
            "--------------------\n",
            "act on wtp\n",
            "small punishment for energy consumption: UV\n",
            "small punishment for energy consumption: sand filter\n",
            "small punishment for energy consumption: UV\n",
            "system is still off\n",
            "-------------------- step 18\n",
            "--------------------\n",
            "act on wtp\n",
            "small punishment for energy consumption: pump\n",
            "small punishment for energy consumption: UV\n",
            "small punishment for energy consumption: sand filter\n",
            "small punishment for energy consumption: UV\n",
            "the system is stuck at element 0 .. halting\n",
            "-------------------- step 19\n",
            "--------------------\n",
            "act on wtp\n",
            "small punishment for energy consumption: UV\n",
            "system is still off\n",
            "-------------------- step 20\n",
            "--------------------\n",
            "act on wtp\n",
            "small punishment for energy consumption: pump\n",
            "the system is stuck at element 0 .. but it is bypassed\n",
            "the system is stuck at element 1 .. but it is bypassed\n",
            "pump is on and water is flowing .. proceed\n",
            "positive reward for moving water\n",
            "Check water quality for 'UV' whose status is '0'\n",
            "\tcase of pipe or bypass\n",
            "Check water quality for 'sand filter' whose status is '0'\n",
            "\tcase of pipe or bypass\n",
            "Check water quality for 'pipe' whose status is '1'\n",
            "\tcase of pipe or bypass\n",
            "Check water quality for 'UV' whose status is '0'\n",
            "\tcase of pipe or bypass\n",
            "Check water quality for 'pipe' whose status is '1'\n",
            "\tcase of pipe or bypass\n",
            "-------------------- step 21\n",
            "--------------------\n",
            "act on wtp\n",
            "small punishment for energy consumption: pump\n",
            "small punishment for energy consumption: UV\n",
            "the system is stuck at element 0 .. halting\n",
            "-------------------- step 22\n",
            "--------------------\n",
            "act on wtp\n",
            "small punishment for energy consumption: UV\n",
            "small punishment for energy consumption: sand filter\n",
            "small punishment for energy consumption: UV\n",
            "system is still off\n",
            "-------------------- step 23\n",
            "--------------------\n",
            "act on wtp\n",
            "small punishment for energy consumption: sand filter\n",
            "system is still off\n",
            "-------------------- step 24\n",
            "--------------------\n",
            "act on wtp\n",
            "small punishment for energy consumption: pump\n",
            "small punishment for energy consumption: UV\n",
            "the system is stuck at element 0 .. halting\n",
            "-------------------- step 25\n",
            "--------------------\n",
            "act on wtp\n",
            "small punishment for energy consumption: UV\n",
            "system is still off\n",
            "-------------------- step 26\n",
            "--------------------\n",
            "act on wtp\n",
            "small punishment for energy consumption: pump\n",
            "small punishment for energy consumption: UV\n",
            "the system is stuck at element 0 .. halting\n",
            "-------------------- step 27\n",
            "--------------------\n",
            "act on wtp\n",
            "system is still off\n",
            "-------------------- step 28\n",
            "--------------------\n",
            "act on wtp\n",
            "system is still off\n",
            "-------------------- step 29\n",
            "--------------------\n",
            "act on wtp\n",
            "small punishment for energy consumption: UV\n",
            "small punishment for energy consumption: sand filter\n",
            "system is still off\n",
            "-------------------- step 30\n",
            "--------------------\n",
            "act on wtp\n",
            "small punishment for energy consumption: pump\n",
            "the system is stuck at element 0 .. but it is bypassed\n",
            "the system is stuck at element 1 .. but it is bypassed\n",
            "the system is stuck at element 3 .. but it is bypassed\n",
            "pump is on and water is flowing .. proceed\n",
            "positive reward for moving water\n",
            "Check water quality for 'UV' whose status is '0'\n",
            "\tcase of pipe or bypass\n",
            "Check water quality for 'sand filter' whose status is '0'\n",
            "\tcase of pipe or bypass\n",
            "Check water quality for 'pipe' whose status is '0'\n",
            "\tcase of pipe or bypass\n",
            "Check water quality for 'UV' whose status is '0'\n",
            "\tcase of pipe or bypass\n",
            "Check water quality for 'pipe' whose status is '0'\n",
            "\tcase of pipe or bypass\n",
            "-------------------- step 31\n",
            "--------------------\n",
            "act on wtp\n",
            "small punishment for energy consumption: pump\n",
            "small punishment for energy consumption: UV\n",
            "the system is stuck at element 0 .. halting\n",
            "-------------------- step 32\n",
            "--------------------\n",
            "act on wtp\n",
            "small punishment for energy consumption: pump\n",
            "small punishment for energy consumption: UV\n",
            "the system is stuck at element 0 .. but it is bypassed\n",
            "the system is stuck at element 1 .. but it is bypassed\n",
            "the system is stuck at element 3 .. halting\n",
            "-------------------- step 33\n",
            "--------------------\n",
            "act on wtp\n",
            "small punishment for energy consumption: pump\n",
            "small punishment for energy consumption: UV\n",
            "the system is stuck at element 0 .. but it is bypassed\n",
            "the system is stuck at element 1 .. but it is bypassed\n",
            "the system is stuck at element 3 .. halting\n",
            "-------------------- step 34\n",
            "--------------------\n",
            "act on wtp\n",
            "small punishment for energy consumption: pump\n",
            "small punishment for energy consumption: sand filter\n",
            "small punishment for energy consumption: UV\n",
            "the system is stuck at element 0 .. but it is bypassed\n",
            "the system is stuck at element 1 .. halting\n",
            "simulation done because of max n steps of simulation limit\n",
            "smoke test env .. end\n"
          ],
          "name": "stdout"
        },
        {
          "output_type": "execute_result",
          "data": {
            "text/plain": [
              "35"
            ]
          },
          "metadata": {
            "tags": []
          },
          "execution_count": 12
        }
      ]
    },
    {
      "metadata": {
        "id": "jF3dSIw0U1Qs",
        "colab_type": "code",
        "outputId": "0454622f-2ae0-4948-ecfa-2811544989f2",
        "colab": {
          "base_uri": "https://localhost:8080/",
          "height": 722
        }
      },
      "cell_type": "code",
      "source": [
        "\n",
        "# show result of smoke test\n",
        "print(\"*\"*30)\n",
        "print(\"final observation\", dict(zip(state_keys, obs_t)))\n",
        "print(\"obs/action sequence chosen\")\n",
        "\n",
        "# mylists = dict(obs=[s_t, s_tp1], act=[a_t, a_t], rew=[reward, None])\n",
        "print(solution)\n",
        "df = convert_lists_ObsActRew_df(solution)\n",
        "\n",
        "\"\"\"\n",
        "df = pd.concat(\n",
        "  [ \n",
        "    pd.DataFrame([dict(zip(state_keys, x)) for x in solution['obs_t']]),\n",
        "    pd.DataFrame([dict(zip(action_keys, x)) for x in solution['act_t']]),\n",
        "    pd.DataFrame({\"rew\": solution['rew']})\n",
        "  ],\n",
        "  axis=1\n",
        ")\n",
        "df = df[state_keys + action_keys + ['rew']]\n",
        "\n",
        "# map ei_type fields\n",
        "k = 'ei_type'\n",
        "df[k] = df[k].apply(lambda x: element_types[x])\n",
        "for i in range(n_elements):\n",
        "  k = 'e%i_type'%i\n",
        "  df[k] = df[k].apply(lambda x: element_types[x])\n",
        "\"\"\"\n",
        "\n",
        "with pd.option_context(\n",
        "    'display.max_colwidth', 20,\n",
        "    'expand_frame_repr', False,\n",
        "    'display.max_rows', 250,\n",
        "    'display.max_columns', 500,\n",
        "):\n",
        "  print(df)"
      ],
      "execution_count": 13,
      "outputs": [
        {
          "output_type": "stream",
          "text": [
            "******************************\n",
            "final observation {'wl_in': 60, 'e0_turbidity': 0, 'e0_hardness': 0, 'e0_bacteria': 0, 'e0_pd': 100, 'e0_type': 3, 'e1_turbidity': 0, 'e1_hardness': 0, 'e1_bacteria': 0, 'e1_pd': 100, 'e1_type': 1, 'e2_turbidity': 0, 'e2_hardness': 0, 'e2_bacteria': 0, 'e2_pd': 0, 'e2_type': 0, 'e3_turbidity': 0, 'e3_hardness': 0, 'e3_bacteria': 0, 'e3_pd': 100, 'e3_type': 3, 'e4_turbidity': 0, 'e4_hardness': 0, 'e4_bacteria': 0, 'e4_pd': 0, 'e4_type': 0, 'wl_out': 40, 'out_turbidity': 0, 'out_hardness': 0, 'out_bacteria': 0, 'design_mode': 0}\n",
            "obs/action sequence chosen\n",
            "{'act': [{'pump_status': 0, 'ei_type': 3, 'e0_status': 1, 'e1_status': 0, 'e2_status': 1, 'e3_status': 1, 'e4_status': 1}, {'pump_status': 1, 'ei_type': 1, 'e0_status': 1, 'e1_status': 1, 'e2_status': 0, 'e3_status': 0, 'e4_status': 1}, {'pump_status': 0, 'ei_type': 0, 'e0_status': 0, 'e1_status': 0, 'e2_status': 0, 'e3_status': 1, 'e4_status': 0}, {'pump_status': 1, 'ei_type': 3, 'e0_status': 0, 'e1_status': 0, 'e2_status': 1, 'e3_status': 1, 'e4_status': 1}, {'pump_status': 1, 'ei_type': 0, 'e0_status': 1, 'e1_status': 0, 'e2_status': 1, 'e3_status': 0, 'e4_status': 1}, {'pump_status': 1, 'ei_type': 2, 'e0_status': 1, 'e1_status': 1, 'e2_status': 0, 'e3_status': 0, 'e4_status': 1}, {'pump_status': 0, 'ei_type': 1, 'e0_status': 1, 'e1_status': 1, 'e2_status': 1, 'e3_status': 1, 'e4_status': 0}, {'pump_status': 1, 'ei_type': 0, 'e0_status': 1, 'e1_status': 1, 'e2_status': 1, 'e3_status': 1, 'e4_status': 0}, {'pump_status': 1, 'ei_type': 2, 'e0_status': 0, 'e1_status': 1, 'e2_status': 1, 'e3_status': 0, 'e4_status': 1}, {'pump_status': 0, 'ei_type': 3, 'e0_status': 0, 'e1_status': 0, 'e2_status': 0, 'e3_status': 0, 'e4_status': 0}, {'pump_status': 1, 'ei_type': 1, 'e0_status': 0, 'e1_status': 0, 'e2_status': 0, 'e3_status': 1, 'e4_status': 1}, {'pump_status': 0, 'ei_type': 1, 'e0_status': 0, 'e1_status': 0, 'e2_status': 1, 'e3_status': 0, 'e4_status': 1}, {'pump_status': 1, 'ei_type': 3, 'e0_status': 1, 'e1_status': 1, 'e2_status': 1, 'e3_status': 0, 'e4_status': 1}, {'pump_status': 1, 'ei_type': 2, 'e0_status': 0, 'e1_status': 1, 'e2_status': 0, 'e3_status': 0, 'e4_status': 1}, {'pump_status': 1, 'ei_type': 0, 'e0_status': 1, 'e1_status': 0, 'e2_status': 0, 'e3_status': 1, 'e4_status': 0}, {'pump_status': 0, 'ei_type': 0, 'e0_status': 1, 'e1_status': 1, 'e2_status': 0, 'e3_status': 1, 'e4_status': 0}, {'pump_status': 0, 'ei_type': 0, 'e0_status': 0, 'e1_status': 0, 'e2_status': 1, 'e3_status': 0, 'e4_status': 1}, {'pump_status': 0, 'ei_type': 3, 'e0_status': 1, 'e1_status': 1, 'e2_status': 1, 'e3_status': 1, 'e4_status': 0}, {'pump_status': 1, 'ei_type': 1, 'e0_status': 1, 'e1_status': 1, 'e2_status': 0, 'e3_status': 1, 'e4_status': 1}, {'pump_status': 0, 'ei_type': 0, 'e0_status': 1, 'e1_status': 0, 'e2_status': 0, 'e3_status': 0, 'e4_status': 0}, {'pump_status': 1, 'ei_type': 3, 'e0_status': 0, 'e1_status': 0, 'e2_status': 1, 'e3_status': 0, 'e4_status': 1}, {'pump_status': 1, 'ei_type': 1, 'e0_status': 1, 'e1_status': 0, 'e2_status': 0, 'e3_status': 0, 'e4_status': 1}, {'pump_status': 0, 'ei_type': 3, 'e0_status': 1, 'e1_status': 1, 'e2_status': 0, 'e3_status': 1, 'e4_status': 0}, {'pump_status': 0, 'ei_type': 3, 'e0_status': 0, 'e1_status': 1, 'e2_status': 1, 'e3_status': 0, 'e4_status': 0}, {'pump_status': 1, 'ei_type': 0, 'e0_status': 1, 'e1_status': 0, 'e2_status': 1, 'e3_status': 0, 'e4_status': 1}, {'pump_status': 0, 'ei_type': 1, 'e0_status': 0, 'e1_status': 0, 'e2_status': 0, 'e3_status': 1, 'e4_status': 0}, {'pump_status': 1, 'ei_type': 2, 'e0_status': 1, 'e1_status': 0, 'e2_status': 0, 'e3_status': 0, 'e4_status': 0}, {'pump_status': 0, 'ei_type': 3, 'e0_status': 0, 'e1_status': 0, 'e2_status': 1, 'e3_status': 0, 'e4_status': 0}, {'pump_status': 0, 'ei_type': 1, 'e0_status': 0, 'e1_status': 0, 'e2_status': 1, 'e3_status': 0, 'e4_status': 1}, {'pump_status': 0, 'ei_type': 2, 'e0_status': 1, 'e1_status': 1, 'e2_status': 0, 'e3_status': 0, 'e4_status': 0}, {'pump_status': 1, 'ei_type': 3, 'e0_status': 0, 'e1_status': 0, 'e2_status': 0, 'e3_status': 0, 'e4_status': 0}, {'pump_status': 1, 'ei_type': 0, 'e0_status': 1, 'e1_status': 0, 'e2_status': 0, 'e3_status': 0, 'e4_status': 1}, {'pump_status': 1, 'ei_type': 3, 'e0_status': 0, 'e1_status': 0, 'e2_status': 1, 'e3_status': 1, 'e4_status': 1}, {'pump_status': 1, 'ei_type': 0, 'e0_status': 0, 'e1_status': 0, 'e2_status': 1, 'e3_status': 1, 'e4_status': 0}, {'pump_status': 1, 'ei_type': 0, 'e0_status': 0, 'e1_status': 1, 'e2_status': 0, 'e3_status': 1, 'e4_status': 1}], 'rew': [2, -1, 0, -4, -3, -4, -3, -4, -2, 0, 3, 0, -3, -2, -3, -3, 0, -3, -4, -1, 6, -2, -3, -1, -2, -1, -2, 0, 0, -2, 6, -2, -2, -2, -3], 'obs': [{'wl_in': 100, 'e0_turbidity': 0, 'e0_hardness': 0, 'e0_bacteria': 0, 'e0_pd': 0, 'e0_type': 0, 'e1_turbidity': 0, 'e1_hardness': 0, 'e1_bacteria': 0, 'e1_pd': 0, 'e1_type': 0, 'e2_turbidity': 0, 'e2_hardness': 0, 'e2_bacteria': 0, 'e2_pd': 0, 'e2_type': 0, 'e3_turbidity': 0, 'e3_hardness': 0, 'e3_bacteria': 0, 'e3_pd': 0, 'e3_type': 0, 'e4_turbidity': 0, 'e4_hardness': 0, 'e4_bacteria': 0, 'e4_pd': 0, 'e4_type': 0, 'wl_out': 0, 'out_turbidity': 0, 'out_hardness': 0, 'out_bacteria': 0, 'design_mode': 1}, {'wl_in': 90, 'e0_turbidity': 0, 'e0_hardness': 0, 'e0_bacteria': 0, 'e0_pd': 0, 'e0_type': 3, 'e1_turbidity': 0, 'e1_hardness': 0, 'e1_bacteria': 0, 'e1_pd': 0, 'e1_type': 0, 'e2_turbidity': 0, 'e2_hardness': 0, 'e2_bacteria': 0, 'e2_pd': 0, 'e2_type': 0, 'e3_turbidity': 0, 'e3_hardness': 0, 'e3_bacteria': 0, 'e3_pd': 0, 'e3_type': 0, 'e4_turbidity': 0, 'e4_hardness': 0, 'e4_bacteria': 0, 'e4_pd': 0, 'e4_type': 0, 'wl_out': 10, 'out_turbidity': 0, 'out_hardness': 0, 'out_bacteria': 0, 'design_mode': 1}, {'wl_in': 80, 'e0_turbidity': 0, 'e0_hardness': 0, 'e0_bacteria': 0, 'e0_pd': 0, 'e0_type': 3, 'e1_turbidity': 0, 'e1_hardness': 0, 'e1_bacteria': 0, 'e1_pd': 0, 'e1_type': 1, 'e2_turbidity': 0, 'e2_hardness': 0, 'e2_bacteria': 0, 'e2_pd': 0, 'e2_type': 0, 'e3_turbidity': 0, 'e3_hardness': 0, 'e3_bacteria': 0, 'e3_pd': 0, 'e3_type': 0, 'e4_turbidity': 0, 'e4_hardness': 0, 'e4_bacteria': 0, 'e4_pd': 0, 'e4_type': 0, 'wl_out': 20, 'out_turbidity': 0, 'out_hardness': 0, 'out_bacteria': 0, 'design_mode': 1}, {'wl_in': 70, 'e0_turbidity': 0, 'e0_hardness': 0, 'e0_bacteria': 0, 'e0_pd': 0, 'e0_type': 3, 'e1_turbidity': 0, 'e1_hardness': 0, 'e1_bacteria': 0, 'e1_pd': 0, 'e1_type': 1, 'e2_turbidity': 0, 'e2_hardness': 0, 'e2_bacteria': 0, 'e2_pd': 0, 'e2_type': 0, 'e3_turbidity': 0, 'e3_hardness': 0, 'e3_bacteria': 0, 'e3_pd': 0, 'e3_type': 0, 'e4_turbidity': 0, 'e4_hardness': 0, 'e4_bacteria': 0, 'e4_pd': 0, 'e4_type': 0, 'wl_out': 30, 'out_turbidity': 0, 'out_hardness': 0, 'out_bacteria': 0, 'design_mode': 1}, {'wl_in': 60, 'e0_turbidity': 0, 'e0_hardness': 0, 'e0_bacteria': 0, 'e0_pd': 0, 'e0_type': 3, 'e1_turbidity': 0, 'e1_hardness': 0, 'e1_bacteria': 0, 'e1_pd': 0, 'e1_type': 1, 'e2_turbidity': 0, 'e2_hardness': 0, 'e2_bacteria': 0, 'e2_pd': 0, 'e2_type': 0, 'e3_turbidity': 0, 'e3_hardness': 0, 'e3_bacteria': 0, 'e3_pd': 0, 'e3_type': 3, 'e4_turbidity': 0, 'e4_hardness': 0, 'e4_bacteria': 0, 'e4_pd': 0, 'e4_type': 0, 'wl_out': 40, 'out_turbidity': 0, 'out_hardness': 0, 'out_bacteria': 0, 'design_mode': 1}, {'wl_in': 100, 'e0_turbidity': 0, 'e0_hardness': 0, 'e0_bacteria': 0, 'e0_pd': 0, 'e0_type': 3, 'e1_turbidity': 0, 'e1_hardness': 0, 'e1_bacteria': 0, 'e1_pd': 0, 'e1_type': 1, 'e2_turbidity': 0, 'e2_hardness': 0, 'e2_bacteria': 0, 'e2_pd': 0, 'e2_type': 0, 'e3_turbidity': 0, 'e3_hardness': 0, 'e3_bacteria': 0, 'e3_pd': 0, 'e3_type': 3, 'e4_turbidity': 0, 'e4_hardness': 0, 'e4_bacteria': 0, 'e4_pd': 0, 'e4_type': 0, 'wl_out': 0, 'out_turbidity': 0, 'out_hardness': 0, 'out_bacteria': 0, 'design_mode': 1}, {'wl_in': 90, 'e0_turbidity': 0, 'e0_hardness': 0, 'e0_bacteria': 0, 'e0_pd': 100, 'e0_type': 3, 'e1_turbidity': 0, 'e1_hardness': 0, 'e1_bacteria': 0, 'e1_pd': 100, 'e1_type': 1, 'e2_turbidity': 0, 'e2_hardness': 0, 'e2_bacteria': 0, 'e2_pd': 0, 'e2_type': 0, 'e3_turbidity': 0, 'e3_hardness': 0, 'e3_bacteria': 0, 'e3_pd': 0, 'e3_type': 3, 'e4_turbidity': 0, 'e4_hardness': 0, 'e4_bacteria': 0, 'e4_pd': 0, 'e4_type': 0, 'wl_out': 10, 'out_turbidity': 0, 'out_hardness': 0, 'out_bacteria': 0, 'design_mode': 0}, {'wl_in': 90, 'e0_turbidity': 0, 'e0_hardness': 0, 'e0_bacteria': 0, 'e0_pd': 100, 'e0_type': 3, 'e1_turbidity': 0, 'e1_hardness': 0, 'e1_bacteria': 0, 'e1_pd': 100, 'e1_type': 1, 'e2_turbidity': 0, 'e2_hardness': 0, 'e2_bacteria': 0, 'e2_pd': 0, 'e2_type': 0, 'e3_turbidity': 0, 'e3_hardness': 0, 'e3_bacteria': 0, 'e3_pd': 0, 'e3_type': 3, 'e4_turbidity': 0, 'e4_hardness': 0, 'e4_bacteria': 0, 'e4_pd': 0, 'e4_type': 0, 'wl_out': 10, 'out_turbidity': 0, 'out_hardness': 0, 'out_bacteria': 0, 'design_mode': 0}, {'wl_in': 90, 'e0_turbidity': 0, 'e0_hardness': 0, 'e0_bacteria': 0, 'e0_pd': 100, 'e0_type': 3, 'e1_turbidity': 0, 'e1_hardness': 0, 'e1_bacteria': 0, 'e1_pd': 100, 'e1_type': 1, 'e2_turbidity': 0, 'e2_hardness': 0, 'e2_bacteria': 0, 'e2_pd': 0, 'e2_type': 0, 'e3_turbidity': 0, 'e3_hardness': 0, 'e3_bacteria': 0, 'e3_pd': 0, 'e3_type': 3, 'e4_turbidity': 0, 'e4_hardness': 0, 'e4_bacteria': 0, 'e4_pd': 0, 'e4_type': 0, 'wl_out': 10, 'out_turbidity': 0, 'out_hardness': 0, 'out_bacteria': 0, 'design_mode': 0}, {'wl_in': 90, 'e0_turbidity': 0, 'e0_hardness': 0, 'e0_bacteria': 0, 'e0_pd': 100, 'e0_type': 3, 'e1_turbidity': 0, 'e1_hardness': 0, 'e1_bacteria': 0, 'e1_pd': 100, 'e1_type': 1, 'e2_turbidity': 0, 'e2_hardness': 0, 'e2_bacteria': 0, 'e2_pd': 0, 'e2_type': 0, 'e3_turbidity': 0, 'e3_hardness': 0, 'e3_bacteria': 0, 'e3_pd': 0, 'e3_type': 3, 'e4_turbidity': 0, 'e4_hardness': 0, 'e4_bacteria': 0, 'e4_pd': 0, 'e4_type': 0, 'wl_out': 10, 'out_turbidity': 0, 'out_hardness': 0, 'out_bacteria': 0, 'design_mode': 0}, {'wl_in': 90, 'e0_turbidity': 0, 'e0_hardness': 0, 'e0_bacteria': 0, 'e0_pd': 100, 'e0_type': 3, 'e1_turbidity': 0, 'e1_hardness': 0, 'e1_bacteria': 0, 'e1_pd': 100, 'e1_type': 1, 'e2_turbidity': 0, 'e2_hardness': 0, 'e2_bacteria': 0, 'e2_pd': 0, 'e2_type': 0, 'e3_turbidity': 0, 'e3_hardness': 0, 'e3_bacteria': 0, 'e3_pd': 0, 'e3_type': 3, 'e4_turbidity': 0, 'e4_hardness': 0, 'e4_bacteria': 0, 'e4_pd': 0, 'e4_type': 0, 'wl_out': 10, 'out_turbidity': 0, 'out_hardness': 0, 'out_bacteria': 0, 'design_mode': 0}, {'wl_in': 80, 'e0_turbidity': 0, 'e0_hardness': 0, 'e0_bacteria': 0, 'e0_pd': 100, 'e0_type': 3, 'e1_turbidity': 0, 'e1_hardness': 0, 'e1_bacteria': 0, 'e1_pd': 100, 'e1_type': 1, 'e2_turbidity': 0, 'e2_hardness': 0, 'e2_bacteria': 0, 'e2_pd': 0, 'e2_type': 0, 'e3_turbidity': 0, 'e3_hardness': 0, 'e3_bacteria': 0, 'e3_pd': 0, 'e3_type': 3, 'e4_turbidity': 0, 'e4_hardness': 0, 'e4_bacteria': 0, 'e4_pd': 0, 'e4_type': 0, 'wl_out': 20, 'out_turbidity': 0, 'out_hardness': 0, 'out_bacteria': 0, 'design_mode': 0}, {'wl_in': 80, 'e0_turbidity': 0, 'e0_hardness': 0, 'e0_bacteria': 0, 'e0_pd': 100, 'e0_type': 3, 'e1_turbidity': 0, 'e1_hardness': 0, 'e1_bacteria': 0, 'e1_pd': 100, 'e1_type': 1, 'e2_turbidity': 0, 'e2_hardness': 0, 'e2_bacteria': 0, 'e2_pd': 0, 'e2_type': 0, 'e3_turbidity': 0, 'e3_hardness': 0, 'e3_bacteria': 0, 'e3_pd': 0, 'e3_type': 3, 'e4_turbidity': 0, 'e4_hardness': 0, 'e4_bacteria': 0, 'e4_pd': 0, 'e4_type': 0, 'wl_out': 20, 'out_turbidity': 0, 'out_hardness': 0, 'out_bacteria': 0, 'design_mode': 0}, {'wl_in': 80, 'e0_turbidity': 0, 'e0_hardness': 0, 'e0_bacteria': 0, 'e0_pd': 100, 'e0_type': 3, 'e1_turbidity': 0, 'e1_hardness': 0, 'e1_bacteria': 0, 'e1_pd': 100, 'e1_type': 1, 'e2_turbidity': 0, 'e2_hardness': 0, 'e2_bacteria': 0, 'e2_pd': 0, 'e2_type': 0, 'e3_turbidity': 0, 'e3_hardness': 0, 'e3_bacteria': 0, 'e3_pd': 0, 'e3_type': 3, 'e4_turbidity': 0, 'e4_hardness': 0, 'e4_bacteria': 0, 'e4_pd': 0, 'e4_type': 0, 'wl_out': 20, 'out_turbidity': 0, 'out_hardness': 0, 'out_bacteria': 0, 'design_mode': 0}, {'wl_in': 80, 'e0_turbidity': 0, 'e0_hardness': 0, 'e0_bacteria': 0, 'e0_pd': 100, 'e0_type': 3, 'e1_turbidity': 0, 'e1_hardness': 0, 'e1_bacteria': 0, 'e1_pd': 100, 'e1_type': 1, 'e2_turbidity': 0, 'e2_hardness': 0, 'e2_bacteria': 0, 'e2_pd': 0, 'e2_type': 0, 'e3_turbidity': 0, 'e3_hardness': 0, 'e3_bacteria': 0, 'e3_pd': 0, 'e3_type': 3, 'e4_turbidity': 0, 'e4_hardness': 0, 'e4_bacteria': 0, 'e4_pd': 0, 'e4_type': 0, 'wl_out': 20, 'out_turbidity': 0, 'out_hardness': 0, 'out_bacteria': 0, 'design_mode': 0}, {'wl_in': 80, 'e0_turbidity': 0, 'e0_hardness': 0, 'e0_bacteria': 0, 'e0_pd': 100, 'e0_type': 3, 'e1_turbidity': 0, 'e1_hardness': 0, 'e1_bacteria': 0, 'e1_pd': 100, 'e1_type': 1, 'e2_turbidity': 0, 'e2_hardness': 0, 'e2_bacteria': 0, 'e2_pd': 0, 'e2_type': 0, 'e3_turbidity': 0, 'e3_hardness': 0, 'e3_bacteria': 0, 'e3_pd': 0, 'e3_type': 3, 'e4_turbidity': 0, 'e4_hardness': 0, 'e4_bacteria': 0, 'e4_pd': 0, 'e4_type': 0, 'wl_out': 20, 'out_turbidity': 0, 'out_hardness': 0, 'out_bacteria': 0, 'design_mode': 0}, {'wl_in': 80, 'e0_turbidity': 0, 'e0_hardness': 0, 'e0_bacteria': 0, 'e0_pd': 100, 'e0_type': 3, 'e1_turbidity': 0, 'e1_hardness': 0, 'e1_bacteria': 0, 'e1_pd': 100, 'e1_type': 1, 'e2_turbidity': 0, 'e2_hardness': 0, 'e2_bacteria': 0, 'e2_pd': 0, 'e2_type': 0, 'e3_turbidity': 0, 'e3_hardness': 0, 'e3_bacteria': 0, 'e3_pd': 0, 'e3_type': 3, 'e4_turbidity': 0, 'e4_hardness': 0, 'e4_bacteria': 0, 'e4_pd': 0, 'e4_type': 0, 'wl_out': 20, 'out_turbidity': 0, 'out_hardness': 0, 'out_bacteria': 0, 'design_mode': 0}, {'wl_in': 80, 'e0_turbidity': 0, 'e0_hardness': 0, 'e0_bacteria': 0, 'e0_pd': 100, 'e0_type': 3, 'e1_turbidity': 0, 'e1_hardness': 0, 'e1_bacteria': 0, 'e1_pd': 100, 'e1_type': 1, 'e2_turbidity': 0, 'e2_hardness': 0, 'e2_bacteria': 0, 'e2_pd': 0, 'e2_type': 0, 'e3_turbidity': 0, 'e3_hardness': 0, 'e3_bacteria': 0, 'e3_pd': 0, 'e3_type': 3, 'e4_turbidity': 0, 'e4_hardness': 0, 'e4_bacteria': 0, 'e4_pd': 0, 'e4_type': 0, 'wl_out': 20, 'out_turbidity': 0, 'out_hardness': 0, 'out_bacteria': 0, 'design_mode': 0}, {'wl_in': 80, 'e0_turbidity': 0, 'e0_hardness': 0, 'e0_bacteria': 0, 'e0_pd': 100, 'e0_type': 3, 'e1_turbidity': 0, 'e1_hardness': 0, 'e1_bacteria': 0, 'e1_pd': 100, 'e1_type': 1, 'e2_turbidity': 0, 'e2_hardness': 0, 'e2_bacteria': 0, 'e2_pd': 0, 'e2_type': 0, 'e3_turbidity': 0, 'e3_hardness': 0, 'e3_bacteria': 0, 'e3_pd': 0, 'e3_type': 3, 'e4_turbidity': 0, 'e4_hardness': 0, 'e4_bacteria': 0, 'e4_pd': 0, 'e4_type': 0, 'wl_out': 20, 'out_turbidity': 0, 'out_hardness': 0, 'out_bacteria': 0, 'design_mode': 0}, {'wl_in': 80, 'e0_turbidity': 0, 'e0_hardness': 0, 'e0_bacteria': 0, 'e0_pd': 100, 'e0_type': 3, 'e1_turbidity': 0, 'e1_hardness': 0, 'e1_bacteria': 0, 'e1_pd': 100, 'e1_type': 1, 'e2_turbidity': 0, 'e2_hardness': 0, 'e2_bacteria': 0, 'e2_pd': 0, 'e2_type': 0, 'e3_turbidity': 0, 'e3_hardness': 0, 'e3_bacteria': 0, 'e3_pd': 0, 'e3_type': 3, 'e4_turbidity': 0, 'e4_hardness': 0, 'e4_bacteria': 0, 'e4_pd': 0, 'e4_type': 0, 'wl_out': 20, 'out_turbidity': 0, 'out_hardness': 0, 'out_bacteria': 0, 'design_mode': 0}, {'wl_in': 80, 'e0_turbidity': 0, 'e0_hardness': 0, 'e0_bacteria': 0, 'e0_pd': 100, 'e0_type': 3, 'e1_turbidity': 0, 'e1_hardness': 0, 'e1_bacteria': 0, 'e1_pd': 100, 'e1_type': 1, 'e2_turbidity': 0, 'e2_hardness': 0, 'e2_bacteria': 0, 'e2_pd': 0, 'e2_type': 0, 'e3_turbidity': 0, 'e3_hardness': 0, 'e3_bacteria': 0, 'e3_pd': 0, 'e3_type': 3, 'e4_turbidity': 0, 'e4_hardness': 0, 'e4_bacteria': 0, 'e4_pd': 0, 'e4_type': 0, 'wl_out': 20, 'out_turbidity': 0, 'out_hardness': 0, 'out_bacteria': 0, 'design_mode': 0}, {'wl_in': 70, 'e0_turbidity': 0, 'e0_hardness': 0, 'e0_bacteria': 0, 'e0_pd': 100, 'e0_type': 3, 'e1_turbidity': 0, 'e1_hardness': 0, 'e1_bacteria': 0, 'e1_pd': 100, 'e1_type': 1, 'e2_turbidity': 0, 'e2_hardness': 0, 'e2_bacteria': 0, 'e2_pd': 0, 'e2_type': 0, 'e3_turbidity': 0, 'e3_hardness': 0, 'e3_bacteria': 0, 'e3_pd': 100, 'e3_type': 3, 'e4_turbidity': 0, 'e4_hardness': 0, 'e4_bacteria': 0, 'e4_pd': 0, 'e4_type': 0, 'wl_out': 30, 'out_turbidity': 0, 'out_hardness': 0, 'out_bacteria': 0, 'design_mode': 0}, {'wl_in': 70, 'e0_turbidity': 0, 'e0_hardness': 0, 'e0_bacteria': 0, 'e0_pd': 100, 'e0_type': 3, 'e1_turbidity': 0, 'e1_hardness': 0, 'e1_bacteria': 0, 'e1_pd': 100, 'e1_type': 1, 'e2_turbidity': 0, 'e2_hardness': 0, 'e2_bacteria': 0, 'e2_pd': 0, 'e2_type': 0, 'e3_turbidity': 0, 'e3_hardness': 0, 'e3_bacteria': 0, 'e3_pd': 100, 'e3_type': 3, 'e4_turbidity': 0, 'e4_hardness': 0, 'e4_bacteria': 0, 'e4_pd': 0, 'e4_type': 0, 'wl_out': 30, 'out_turbidity': 0, 'out_hardness': 0, 'out_bacteria': 0, 'design_mode': 0}, {'wl_in': 70, 'e0_turbidity': 0, 'e0_hardness': 0, 'e0_bacteria': 0, 'e0_pd': 100, 'e0_type': 3, 'e1_turbidity': 0, 'e1_hardness': 0, 'e1_bacteria': 0, 'e1_pd': 100, 'e1_type': 1, 'e2_turbidity': 0, 'e2_hardness': 0, 'e2_bacteria': 0, 'e2_pd': 0, 'e2_type': 0, 'e3_turbidity': 0, 'e3_hardness': 0, 'e3_bacteria': 0, 'e3_pd': 100, 'e3_type': 3, 'e4_turbidity': 0, 'e4_hardness': 0, 'e4_bacteria': 0, 'e4_pd': 0, 'e4_type': 0, 'wl_out': 30, 'out_turbidity': 0, 'out_hardness': 0, 'out_bacteria': 0, 'design_mode': 0}, {'wl_in': 70, 'e0_turbidity': 0, 'e0_hardness': 0, 'e0_bacteria': 0, 'e0_pd': 100, 'e0_type': 3, 'e1_turbidity': 0, 'e1_hardness': 0, 'e1_bacteria': 0, 'e1_pd': 100, 'e1_type': 1, 'e2_turbidity': 0, 'e2_hardness': 0, 'e2_bacteria': 0, 'e2_pd': 0, 'e2_type': 0, 'e3_turbidity': 0, 'e3_hardness': 0, 'e3_bacteria': 0, 'e3_pd': 100, 'e3_type': 3, 'e4_turbidity': 0, 'e4_hardness': 0, 'e4_bacteria': 0, 'e4_pd': 0, 'e4_type': 0, 'wl_out': 30, 'out_turbidity': 0, 'out_hardness': 0, 'out_bacteria': 0, 'design_mode': 0}, {'wl_in': 70, 'e0_turbidity': 0, 'e0_hardness': 0, 'e0_bacteria': 0, 'e0_pd': 100, 'e0_type': 3, 'e1_turbidity': 0, 'e1_hardness': 0, 'e1_bacteria': 0, 'e1_pd': 100, 'e1_type': 1, 'e2_turbidity': 0, 'e2_hardness': 0, 'e2_bacteria': 0, 'e2_pd': 0, 'e2_type': 0, 'e3_turbidity': 0, 'e3_hardness': 0, 'e3_bacteria': 0, 'e3_pd': 100, 'e3_type': 3, 'e4_turbidity': 0, 'e4_hardness': 0, 'e4_bacteria': 0, 'e4_pd': 0, 'e4_type': 0, 'wl_out': 30, 'out_turbidity': 0, 'out_hardness': 0, 'out_bacteria': 0, 'design_mode': 0}, {'wl_in': 70, 'e0_turbidity': 0, 'e0_hardness': 0, 'e0_bacteria': 0, 'e0_pd': 100, 'e0_type': 3, 'e1_turbidity': 0, 'e1_hardness': 0, 'e1_bacteria': 0, 'e1_pd': 100, 'e1_type': 1, 'e2_turbidity': 0, 'e2_hardness': 0, 'e2_bacteria': 0, 'e2_pd': 0, 'e2_type': 0, 'e3_turbidity': 0, 'e3_hardness': 0, 'e3_bacteria': 0, 'e3_pd': 100, 'e3_type': 3, 'e4_turbidity': 0, 'e4_hardness': 0, 'e4_bacteria': 0, 'e4_pd': 0, 'e4_type': 0, 'wl_out': 30, 'out_turbidity': 0, 'out_hardness': 0, 'out_bacteria': 0, 'design_mode': 0}, {'wl_in': 70, 'e0_turbidity': 0, 'e0_hardness': 0, 'e0_bacteria': 0, 'e0_pd': 100, 'e0_type': 3, 'e1_turbidity': 0, 'e1_hardness': 0, 'e1_bacteria': 0, 'e1_pd': 100, 'e1_type': 1, 'e2_turbidity': 0, 'e2_hardness': 0, 'e2_bacteria': 0, 'e2_pd': 0, 'e2_type': 0, 'e3_turbidity': 0, 'e3_hardness': 0, 'e3_bacteria': 0, 'e3_pd': 100, 'e3_type': 3, 'e4_turbidity': 0, 'e4_hardness': 0, 'e4_bacteria': 0, 'e4_pd': 0, 'e4_type': 0, 'wl_out': 30, 'out_turbidity': 0, 'out_hardness': 0, 'out_bacteria': 0, 'design_mode': 0}, {'wl_in': 70, 'e0_turbidity': 0, 'e0_hardness': 0, 'e0_bacteria': 0, 'e0_pd': 100, 'e0_type': 3, 'e1_turbidity': 0, 'e1_hardness': 0, 'e1_bacteria': 0, 'e1_pd': 100, 'e1_type': 1, 'e2_turbidity': 0, 'e2_hardness': 0, 'e2_bacteria': 0, 'e2_pd': 0, 'e2_type': 0, 'e3_turbidity': 0, 'e3_hardness': 0, 'e3_bacteria': 0, 'e3_pd': 100, 'e3_type': 3, 'e4_turbidity': 0, 'e4_hardness': 0, 'e4_bacteria': 0, 'e4_pd': 0, 'e4_type': 0, 'wl_out': 30, 'out_turbidity': 0, 'out_hardness': 0, 'out_bacteria': 0, 'design_mode': 0}, {'wl_in': 70, 'e0_turbidity': 0, 'e0_hardness': 0, 'e0_bacteria': 0, 'e0_pd': 100, 'e0_type': 3, 'e1_turbidity': 0, 'e1_hardness': 0, 'e1_bacteria': 0, 'e1_pd': 100, 'e1_type': 1, 'e2_turbidity': 0, 'e2_hardness': 0, 'e2_bacteria': 0, 'e2_pd': 0, 'e2_type': 0, 'e3_turbidity': 0, 'e3_hardness': 0, 'e3_bacteria': 0, 'e3_pd': 100, 'e3_type': 3, 'e4_turbidity': 0, 'e4_hardness': 0, 'e4_bacteria': 0, 'e4_pd': 0, 'e4_type': 0, 'wl_out': 30, 'out_turbidity': 0, 'out_hardness': 0, 'out_bacteria': 0, 'design_mode': 0}, {'wl_in': 70, 'e0_turbidity': 0, 'e0_hardness': 0, 'e0_bacteria': 0, 'e0_pd': 100, 'e0_type': 3, 'e1_turbidity': 0, 'e1_hardness': 0, 'e1_bacteria': 0, 'e1_pd': 100, 'e1_type': 1, 'e2_turbidity': 0, 'e2_hardness': 0, 'e2_bacteria': 0, 'e2_pd': 0, 'e2_type': 0, 'e3_turbidity': 0, 'e3_hardness': 0, 'e3_bacteria': 0, 'e3_pd': 100, 'e3_type': 3, 'e4_turbidity': 0, 'e4_hardness': 0, 'e4_bacteria': 0, 'e4_pd': 0, 'e4_type': 0, 'wl_out': 30, 'out_turbidity': 0, 'out_hardness': 0, 'out_bacteria': 0, 'design_mode': 0}, {'wl_in': 60, 'e0_turbidity': 0, 'e0_hardness': 0, 'e0_bacteria': 0, 'e0_pd': 100, 'e0_type': 3, 'e1_turbidity': 0, 'e1_hardness': 0, 'e1_bacteria': 0, 'e1_pd': 100, 'e1_type': 1, 'e2_turbidity': 0, 'e2_hardness': 0, 'e2_bacteria': 0, 'e2_pd': 0, 'e2_type': 0, 'e3_turbidity': 0, 'e3_hardness': 0, 'e3_bacteria': 0, 'e3_pd': 100, 'e3_type': 3, 'e4_turbidity': 0, 'e4_hardness': 0, 'e4_bacteria': 0, 'e4_pd': 0, 'e4_type': 0, 'wl_out': 40, 'out_turbidity': 0, 'out_hardness': 0, 'out_bacteria': 0, 'design_mode': 0}, {'wl_in': 60, 'e0_turbidity': 0, 'e0_hardness': 0, 'e0_bacteria': 0, 'e0_pd': 100, 'e0_type': 3, 'e1_turbidity': 0, 'e1_hardness': 0, 'e1_bacteria': 0, 'e1_pd': 100, 'e1_type': 1, 'e2_turbidity': 0, 'e2_hardness': 0, 'e2_bacteria': 0, 'e2_pd': 0, 'e2_type': 0, 'e3_turbidity': 0, 'e3_hardness': 0, 'e3_bacteria': 0, 'e3_pd': 100, 'e3_type': 3, 'e4_turbidity': 0, 'e4_hardness': 0, 'e4_bacteria': 0, 'e4_pd': 0, 'e4_type': 0, 'wl_out': 40, 'out_turbidity': 0, 'out_hardness': 0, 'out_bacteria': 0, 'design_mode': 0}, {'wl_in': 60, 'e0_turbidity': 0, 'e0_hardness': 0, 'e0_bacteria': 0, 'e0_pd': 100, 'e0_type': 3, 'e1_turbidity': 0, 'e1_hardness': 0, 'e1_bacteria': 0, 'e1_pd': 100, 'e1_type': 1, 'e2_turbidity': 0, 'e2_hardness': 0, 'e2_bacteria': 0, 'e2_pd': 0, 'e2_type': 0, 'e3_turbidity': 0, 'e3_hardness': 0, 'e3_bacteria': 0, 'e3_pd': 100, 'e3_type': 3, 'e4_turbidity': 0, 'e4_hardness': 0, 'e4_bacteria': 0, 'e4_pd': 0, 'e4_type': 0, 'wl_out': 40, 'out_turbidity': 0, 'out_hardness': 0, 'out_bacteria': 0, 'design_mode': 0}, {'wl_in': 60, 'e0_turbidity': 0, 'e0_hardness': 0, 'e0_bacteria': 0, 'e0_pd': 100, 'e0_type': 3, 'e1_turbidity': 0, 'e1_hardness': 0, 'e1_bacteria': 0, 'e1_pd': 100, 'e1_type': 1, 'e2_turbidity': 0, 'e2_hardness': 0, 'e2_bacteria': 0, 'e2_pd': 0, 'e2_type': 0, 'e3_turbidity': 0, 'e3_hardness': 0, 'e3_bacteria': 0, 'e3_pd': 100, 'e3_type': 3, 'e4_turbidity': 0, 'e4_hardness': 0, 'e4_bacteria': 0, 'e4_pd': 0, 'e4_type': 0, 'wl_out': 40, 'out_turbidity': 0, 'out_hardness': 0, 'out_bacteria': 0, 'design_mode': 0}]}\n",
            "    wl_in  wl_out  out_turbidity  out_hardness  out_bacteria  design_mode  pump_status      ei_type  rew summary_turbidity summary_hardness summary_bacteria       summary_pd   summary_status         summary_type\n",
            "0     100       0              0             0             0            1            0           UV    2   0, 0, 0, 0, 0,   0, 0, 0, 0, 0,   0, 0, 0, 0, 0,   0, 0, 0, 0, 0,   1, 0, 1, 1, 1,   pipe, pipe, pipe...\n",
            "1      90      10              0             0             0            1            1  sand filter   -1   0, 0, 0, 0, 0,   0, 0, 0, 0, 0,   0, 0, 0, 0, 0,   0, 0, 0, 0, 0,   1, 1, 0, 0, 1,   UV, pipe, pipe, ...\n",
            "2      80      20              0             0             0            1            0         pipe    0   0, 0, 0, 0, 0,   0, 0, 0, 0, 0,   0, 0, 0, 0, 0,   0, 0, 0, 0, 0,   0, 0, 0, 1, 0,   UV, sand filter,...\n",
            "3      70      30              0             0             0            1            1           UV   -4   0, 0, 0, 0, 0,   0, 0, 0, 0, 0,   0, 0, 0, 0, 0,   0, 0, 0, 0, 0,   0, 0, 1, 1, 1,   UV, sand filter,...\n",
            "4      60      40              0             0             0            1            1         pipe   -3   0, 0, 0, 0, 0,   0, 0, 0, 0, 0,   0, 0, 0, 0, 0,   0, 0, 0, 0, 0,   1, 0, 1, 0, 1,   UV, sand filter,...\n",
            "5     100       0              0             0             0            1            1     softener   -4   0, 0, 0, 0, 0,   0, 0, 0, 0, 0,   0, 0, 0, 0, 0,   0, 0, 0, 0, 0,   1, 1, 0, 0, 1,   UV, sand filter,...\n",
            "6      90      10              0             0             0            0            0  sand filter   -3   0, 0, 0, 0, 0,   0, 0, 0, 0, 0,   0, 0, 0, 0, 0,   1, 1, 0, 0, 0,   1, 1, 1, 1, 0,   UV, sand filter,...\n",
            "7      90      10              0             0             0            0            1         pipe   -4   0, 0, 0, 0, 0,   0, 0, 0, 0, 0,   0, 0, 0, 0, 0,   1, 1, 0, 0, 0,   1, 1, 1, 1, 0,   UV, sand filter,...\n",
            "8      90      10              0             0             0            0            1     softener   -2   0, 0, 0, 0, 0,   0, 0, 0, 0, 0,   0, 0, 0, 0, 0,   1, 1, 0, 0, 0,   0, 1, 1, 0, 1,   UV, sand filter,...\n",
            "9      90      10              0             0             0            0            0           UV    0   0, 0, 0, 0, 0,   0, 0, 0, 0, 0,   0, 0, 0, 0, 0,   1, 1, 0, 0, 0,   0, 0, 0, 0, 0,   UV, sand filter,...\n",
            "10     90      10              0             0             0            0            1  sand filter    3   0, 0, 0, 0, 0,   0, 0, 0, 0, 0,   0, 0, 0, 0, 0,   1, 1, 0, 0, 0,   0, 0, 0, 1, 1,   UV, sand filter,...\n",
            "11     80      20              0             0             0            0            0  sand filter    0   0, 0, 0, 0, 0,   0, 0, 0, 0, 0,   0, 0, 0, 0, 0,   1, 1, 0, 0, 0,   0, 0, 1, 0, 1,   UV, sand filter,...\n",
            "12     80      20              0             0             0            0            1           UV   -3   0, 0, 0, 0, 0,   0, 0, 0, 0, 0,   0, 0, 0, 0, 0,   1, 1, 0, 0, 0,   1, 1, 1, 0, 1,   UV, sand filter,...\n",
            "13     80      20              0             0             0            0            1     softener   -2   0, 0, 0, 0, 0,   0, 0, 0, 0, 0,   0, 0, 0, 0, 0,   1, 1, 0, 0, 0,   0, 1, 0, 0, 1,   UV, sand filter,...\n",
            "14     80      20              0             0             0            0            1         pipe   -3   0, 0, 0, 0, 0,   0, 0, 0, 0, 0,   0, 0, 0, 0, 0,   1, 1, 0, 0, 0,   1, 0, 0, 1, 0,   UV, sand filter,...\n",
            "15     80      20              0             0             0            0            0         pipe   -3   0, 0, 0, 0, 0,   0, 0, 0, 0, 0,   0, 0, 0, 0, 0,   1, 1, 0, 0, 0,   1, 1, 0, 1, 0,   UV, sand filter,...\n",
            "16     80      20              0             0             0            0            0         pipe    0   0, 0, 0, 0, 0,   0, 0, 0, 0, 0,   0, 0, 0, 0, 0,   1, 1, 0, 0, 0,   0, 0, 1, 0, 1,   UV, sand filter,...\n",
            "17     80      20              0             0             0            0            0           UV   -3   0, 0, 0, 0, 0,   0, 0, 0, 0, 0,   0, 0, 0, 0, 0,   1, 1, 0, 0, 0,   1, 1, 1, 1, 0,   UV, sand filter,...\n",
            "18     80      20              0             0             0            0            1  sand filter   -4   0, 0, 0, 0, 0,   0, 0, 0, 0, 0,   0, 0, 0, 0, 0,   1, 1, 0, 0, 0,   1, 1, 0, 1, 1,   UV, sand filter,...\n",
            "19     80      20              0             0             0            0            0         pipe   -1   0, 0, 0, 0, 0,   0, 0, 0, 0, 0,   0, 0, 0, 0, 0,   1, 1, 0, 0, 0,   1, 0, 0, 0, 0,   UV, sand filter,...\n",
            "20     80      20              0             0             0            0            1           UV    6   0, 0, 0, 0, 0,   0, 0, 0, 0, 0,   0, 0, 0, 0, 0,   1, 1, 0, 0, 0,   0, 0, 1, 0, 1,   UV, sand filter,...\n",
            "21     70      30              0             0             0            0            1  sand filter   -2   0, 0, 0, 0, 0,   0, 0, 0, 0, 0,   0, 0, 0, 0, 0,   1, 1, 0, 1, 0,   1, 0, 0, 0, 1,   UV, sand filter,...\n",
            "22     70      30              0             0             0            0            0           UV   -3   0, 0, 0, 0, 0,   0, 0, 0, 0, 0,   0, 0, 0, 0, 0,   1, 1, 0, 1, 0,   1, 1, 0, 1, 0,   UV, sand filter,...\n",
            "23     70      30              0             0             0            0            0           UV   -1   0, 0, 0, 0, 0,   0, 0, 0, 0, 0,   0, 0, 0, 0, 0,   1, 1, 0, 1, 0,   0, 1, 1, 0, 0,   UV, sand filter,...\n",
            "24     70      30              0             0             0            0            1         pipe   -2   0, 0, 0, 0, 0,   0, 0, 0, 0, 0,   0, 0, 0, 0, 0,   1, 1, 0, 1, 0,   1, 0, 1, 0, 1,   UV, sand filter,...\n",
            "25     70      30              0             0             0            0            0  sand filter   -1   0, 0, 0, 0, 0,   0, 0, 0, 0, 0,   0, 0, 0, 0, 0,   1, 1, 0, 1, 0,   0, 0, 0, 1, 0,   UV, sand filter,...\n",
            "26     70      30              0             0             0            0            1     softener   -2   0, 0, 0, 0, 0,   0, 0, 0, 0, 0,   0, 0, 0, 0, 0,   1, 1, 0, 1, 0,   1, 0, 0, 0, 0,   UV, sand filter,...\n",
            "27     70      30              0             0             0            0            0           UV    0   0, 0, 0, 0, 0,   0, 0, 0, 0, 0,   0, 0, 0, 0, 0,   1, 1, 0, 1, 0,   0, 0, 1, 0, 0,   UV, sand filter,...\n",
            "28     70      30              0             0             0            0            0  sand filter    0   0, 0, 0, 0, 0,   0, 0, 0, 0, 0,   0, 0, 0, 0, 0,   1, 1, 0, 1, 0,   0, 0, 1, 0, 1,   UV, sand filter,...\n",
            "29     70      30              0             0             0            0            0     softener   -2   0, 0, 0, 0, 0,   0, 0, 0, 0, 0,   0, 0, 0, 0, 0,   1, 1, 0, 1, 0,   1, 1, 0, 0, 0,   UV, sand filter,...\n",
            "30     70      30              0             0             0            0            1           UV    6   0, 0, 0, 0, 0,   0, 0, 0, 0, 0,   0, 0, 0, 0, 0,   1, 1, 0, 1, 0,   0, 0, 0, 0, 0,   UV, sand filter,...\n",
            "31     60      40              0             0             0            0            1         pipe   -2   0, 0, 0, 0, 0,   0, 0, 0, 0, 0,   0, 0, 0, 0, 0,   1, 1, 0, 1, 0,   1, 0, 0, 0, 1,   UV, sand filter,...\n",
            "32     60      40              0             0             0            0            1           UV   -2   0, 0, 0, 0, 0,   0, 0, 0, 0, 0,   0, 0, 0, 0, 0,   1, 1, 0, 1, 0,   0, 0, 1, 1, 1,   UV, sand filter,...\n",
            "33     60      40              0             0             0            0            1         pipe   -2   0, 0, 0, 0, 0,   0, 0, 0, 0, 0,   0, 0, 0, 0, 0,   1, 1, 0, 1, 0,   0, 0, 1, 1, 0,   UV, sand filter,...\n",
            "34     60      40              0             0             0            0            1         pipe   -3   0, 0, 0, 0, 0,   0, 0, 0, 0, 0,   0, 0, 0, 0, 0,   1, 1, 0, 1, 0,   0, 1, 0, 1, 1,   UV, sand filter,...\n"
          ],
          "name": "stdout"
        }
      ]
    },
    {
      "metadata": {
        "id": "uABAo0QtDqdS",
        "colab_type": "text"
      },
      "cell_type": "markdown",
      "source": [
        "# Register gym env and train policy"
      ]
    },
    {
      "metadata": {
        "id": "UNoyVv0tA23n",
        "colab_type": "code",
        "colab": {}
      },
      "cell_type": "code",
      "source": [
        "# register the env with gym\n",
        "# https://github.com/openai/gym/tree/master/gym/envs#how-to-create-new-environments-for-gym\n",
        "from gym.envs.registration import register\n",
        "\n",
        "register(\n",
        "    id='WtpComboEnv-v0',\n",
        "    #entry_point='gym_foo.envs:FooEnv',\n",
        "    entry_point=WtpComboEnv_v0,\n",
        ")\n",
        "\n",
        "# test registration was successful\n",
        "env = gym.make(\"WtpComboEnv-v0\")"
      ],
      "execution_count": 0,
      "outputs": []
    },
    {
      "metadata": {
        "id": "9j8M1L9S6rvU",
        "colab_type": "code",
        "colab": {}
      },
      "cell_type": "code",
      "source": [
        "# The contents of this cell are mostly copied from garage/examples/...\n",
        "# NEED TO run this twice for the first run in the runtime in colab, 1st for creating the personal config\n",
        "\n",
        "from garage.baselines import LinearFeatureBaseline # <<<<<< requires restarting the runtime in colab after the 1st dependency installation above\n",
        "from garage.envs import normalize\n",
        "#from garage.envs.box2d import CartpoleEnv # no need since will use WtpDesignerEnv_v0 defined above\n",
        "# from garage.experiment import run_experiment\n",
        "\n",
        "from garage.tf.algos import TRPO\n",
        "#from garage.tf.algos import PPO\n",
        "\n",
        "from garage.tf.envs import TfEnv\n",
        "#from garage.tf.policies import GaussianMLPPolicy\n",
        "from garage.tf.policies import CategoricalMLPPolicy\n",
        "\n",
        "import gym # already imported before"
      ],
      "execution_count": 0,
      "outputs": []
    },
    {
      "metadata": {
        "id": "eBk8B2h36pMw",
        "colab_type": "code",
        "outputId": "776a3280-b500-417a-8ce6-c7e6830a4621",
        "colab": {
          "base_uri": "https://localhost:8080/",
          "height": 85
        }
      },
      "cell_type": "code",
      "source": [
        "# FOR CPU OR GPU, use this, otherwise for TPU use the below\n",
        "# ---------------------------------------------------------\n",
        "# start a tensorflow session so that we can keep it open after training and use the trained network to see it performing\n",
        "import tensorflow as tf\n",
        "sess = tf.InteractiveSession()\n",
        "\n",
        "# no need to initialize\n",
        "#sess.run(tf.global_variables_initializer())\n",
        "\n",
        "\n",
        "# check that we're indeed using GPU\n",
        "# https://stackoverflow.com/a/38019608/4126114\n",
        "#import tensorflow as tf\n",
        "#sess = tf.Session(config=tf.ConfigProto(log_device_placement=True))\n",
        "sess.list_devices()"
      ],
      "execution_count": 16,
      "outputs": [
        {
          "output_type": "execute_result",
          "data": {
            "text/plain": [
              "[_DeviceAttributes(/job:localhost/replica:0/task:0/device:CPU:0, CPU, 268435456, 5887640325381631464),\n",
              " _DeviceAttributes(/job:localhost/replica:0/task:0/device:XLA_CPU:0, XLA_CPU, 17179869184, 3912983978275719659),\n",
              " _DeviceAttributes(/job:localhost/replica:0/task:0/device:XLA_GPU:0, XLA_GPU, 17179869184, 7061087550218945957),\n",
              " _DeviceAttributes(/job:localhost/replica:0/task:0/device:GPU:0, GPU, 11276946637, 12236965970384552454)]"
            ]
          },
          "metadata": {
            "tags": []
          },
          "execution_count": 16
        }
      ]
    },
    {
      "metadata": {
        "id": "K5-ojZTNTynj",
        "colab_type": "code",
        "colab": {}
      },
      "cell_type": "code",
      "source": [
        "def singlebase_to_multibase(y, dims):\n",
        "  \"\"\"\n",
        "  Illustration\n",
        "  \n",
        "  >>> import itertools\n",
        "  >>> x=np.array(list(itertools.product(range(4), range(3), range(2))))\n",
        "  >>> y=x[:,0]*2*3 + x[:,1]*2 + x[:,2]\n",
        "  >>> y.sort()\n",
        "  >>> y\n",
        "  array([ 0,  1,  2,  3,  4,  5,  6,  7,  8,  9, 10, 11, 12, 13, 14, 15, 16,\n",
        "         17, 18, 19, 20, 21, 22, 23])\n",
        "\n",
        "  Notice how \"y\" has no duplicates, and hence is a one-to-one mapping from the original matrix \"x\"\n",
        "\n",
        "  Now convert y back to x\n",
        "\n",
        "  >>> z1  = y//(2*3)\n",
        "  >>> z1b = y %(2*3)\n",
        "  >>> z2 = z1b//2\n",
        "  >>> z2b = z1b %2\n",
        "  >>> z3 = z2b//1\n",
        "  >>> z = np.array([np.array(z1), np.array(z2), np.array(z3)]).T\n",
        "\n",
        "  Notice that z == x\n",
        "  \n",
        "  \n",
        "  Example:\n",
        "  \n",
        "  >>> import itertools\n",
        "  >>> x = np.array(list(itertools.product(range(4), range(3), range(2))))\n",
        "  >>> y = x[:,0]*2*3 + x[:,1]*2 + x[:,2]\n",
        "  >>> z = singlebase_to_multibase(y, [4,3,2])\n",
        "  >>> assert z == x\n",
        "  \"\"\"\n",
        "  # calculate weights\n",
        "  weights = dims[::-1] # reverse\n",
        "  weights = np.array(weights).cumprod() # cumulative product\n",
        "  weights = np.roll(weights, 1) # move last entry to first\n",
        "  weights[0] = 1 # overwrite\n",
        "  weights = weights[::-1] # reverse  \n",
        "  # calcalate output\n",
        "  z0 = []\n",
        "  z_b = y\n",
        "  for w in weights:\n",
        "    z_  = z_b // w\n",
        "    z0.append(z_)\n",
        "    z_b = z_b % w\n",
        "  # return\n",
        "  z0 = np.array(z0).T\n",
        "  return z0\n",
        "\n",
        "###########\n",
        "# test\n",
        "import itertools\n",
        "x = np.array(list(itertools.product(range(4), range(3), range(2))))\n",
        "y = x[:,0]*2*3 + x[:,1]*2 + x[:,2]\n",
        "z = singlebase_to_multibase(y, [4,3,2])\n",
        "assert (z==x).all()"
      ],
      "execution_count": 0,
      "outputs": []
    },
    {
      "metadata": {
        "id": "jM2EMRAPKbhO",
        "colab_type": "code",
        "colab": {}
      },
      "cell_type": "code",
      "source": [
        "class UnFlattenActTupleWrapper(gym.ActionWrapper):\n",
        "    \"\"\"\n",
        "    UnFlattens a Discrete action into a Tuple action space\n",
        "    \n",
        "    Inherits from ActionWrapper\n",
        "    https://github.com/openai/gym/blob/6497c9f1c6e43066c8945f02ed3ed4d234f45dc1/gym/core.py\n",
        "    \"\"\"\n",
        "    def __init__(self, env):\n",
        "        super().__init__(env)\n",
        "\n",
        "        # save action_space dimensions once\n",
        "        self.dims = [c.n for c in env.action_space.spaces]\n",
        "        flat_dim = np.array(self.dims).prod()\n",
        "        print(\"flattenting action space to single discrete\", flat_dim, self.dims)\n",
        "        self.action_space = spaces.Discrete(flat_dim)\n",
        "\n",
        "        \n",
        "    def action(self, action_in):\n",
        "        \"\"\"\n",
        "        convert a flat action into tuple\n",
        "        \n",
        "        based on t0-0e FlattenDictWrapper2\n",
        "        \"\"\"\n",
        "        action_out = singlebase_to_multibase(action_in, self.dims)\n",
        "        action_out = np.array(action_out).astype('int')\n",
        "        action_out = tuple(action_out)\n",
        "        return action_out\n"
      ],
      "execution_count": 0,
      "outputs": []
    },
    {
      "metadata": {
        "id": "N3V8_oyy3SPh",
        "colab_type": "code",
        "outputId": "004b5910-d9f3-44c6-9c7e-f03c797ac96b",
        "colab": {
          "base_uri": "https://localhost:8080/",
          "height": 34
        }
      },
      "cell_type": "code",
      "source": [
        "import numpy as np\n",
        "# np.array([2, 4, 2, 4, 2, 4, 2, 4, 2, 4, 2, 4, 2, 4, 2, 4, 2, 4, 2, 4, 2]).prod()\n",
        "np.array([2, 4, 2, 4, 2, 4, 2, 4, 2, 4, ]).prod()\n",
        "#np.array([4, 4, 4, 4, 4, ]).prod()"
      ],
      "execution_count": 19,
      "outputs": [
        {
          "output_type": "execute_result",
          "data": {
            "text/plain": [
              "32768"
            ]
          },
          "metadata": {
            "tags": []
          },
          "execution_count": 19
        }
      ]
    },
    {
      "metadata": {
        "id": "tx8_cmOe63QK",
        "colab_type": "code",
        "outputId": "107b574b-c4c1-44de-9010-a0b3bf15d779",
        "colab": {
          "base_uri": "https://localhost:8080/",
          "height": 166
        }
      },
      "cell_type": "code",
      "source": [
        "# Train the policy (neural network) on the environment\n",
        "#----------------------------------\n",
        "from gym import wrappers\n",
        "\n",
        "# env = TfEnv(normalize(gym.make(\"CartPole-v0\")))\n",
        "env = gym.make(\"WtpComboEnv-v0\")\n",
        "env = UnFlattenActTupleWrapper(env)\n",
        "env = TfEnv(normalize(env))\n",
        "\n",
        "# Using larger hidden sizes to learn to use the bypass\n",
        "hidden_sizes=(32, 32)\n",
        "#hidden_sizes=(64, 64)\n",
        "\n",
        "policy = CategoricalMLPPolicy(name=\"policy\", env_spec=env.spec, hidden_sizes=hidden_sizes)\n",
        "\n",
        "baseline = LinearFeatureBaseline(env_spec=env.spec)\n"
      ],
      "execution_count": 20,
      "outputs": [
        {
          "output_type": "stream",
          "text": [
            "flattenting action space to single discrete 256 [2, 4, 2, 2, 2, 2, 2]\n",
            "WARNING:tensorflow:From /usr/local/lib/python3.6/dist-packages/tensorflow/python/framework/op_def_library.py:263: colocate_with (from tensorflow.python.framework.ops) is deprecated and will be removed in a future version.\n",
            "Instructions for updating:\n",
            "Colocations handled automatically by placer.\n",
            "WARNING:tensorflow:From /content/garage/garage/tf/distributions/categorical.py:27: multinomial (from tensorflow.python.ops.random_ops) is deprecated and will be removed in a future version.\n",
            "Instructions for updating:\n",
            "Use tf.random.categorical instead.\n"
          ],
          "name": "stdout"
        }
      ]
    },
    {
      "metadata": {
        "id": "sxJmqeGMLA4M",
        "colab_type": "code",
        "outputId": "e701b6bb-79dd-4e2e-bc74-fcd272a19285",
        "colab": {
          "base_uri": "https://localhost:8080/",
          "height": 98
        }
      },
      "cell_type": "code",
      "source": [
        "\n",
        "algo = TRPO(\n",
        "#algo = PPO(\n",
        "    env=env,\n",
        "    policy=policy,\n",
        "    baseline=baseline,\n",
        "    batch_size=4000,\n",
        "    max_path_length=env.env.env.env.n_steps+2, # add 2 since this is just a safety measure\n",
        "    #n_itr=5, # smoke test\n",
        "    n_itr=200,\n",
        "    discount=0.99,\n",
        "    max_kl_step=0.01,\n",
        "    plot=False)\n"
      ],
      "execution_count": 21,
      "outputs": [
        {
          "output_type": "stream",
          "text": [
            "WARNING:tensorflow:From /content/garage/garage/tf/misc/tensor_utils.py:29: to_int32 (from tensorflow.python.ops.math_ops) is deprecated and will be removed in a future version.\n",
            "Instructions for updating:\n",
            "Use tf.cast instead.\n"
          ],
          "name": "stdout"
        }
      ]
    },
    {
      "metadata": {
        "id": "v7LQO4zBp8h4",
        "colab_type": "code",
        "outputId": "37725380-99f0-43fc-a752-dff7eacc8201",
        "colab": {
          "base_uri": "https://localhost:8080/",
          "height": 163234
        }
      },
      "cell_type": "code",
      "source": [
        "env.env.env.env.set_debug(False)\n",
        "algo.train(sess=sess)"
      ],
      "execution_count": 22,
      "outputs": [
        {
          "output_type": "stream",
          "text": [
            "2019-02-16 20:46:39 | itr #0 | Obtaining samples...\n",
            "2019-02-16 20:46:39 | itr #0 | Obtaining samples for iteration 0...\n"
          ],
          "name": "stdout"
        },
        {
          "output_type": "stream",
          "text": [
            "0% [##############################] 100% | ETA: 00:00:00"
          ],
          "name": "stderr"
        },
        {
          "output_type": "stream",
          "text": [
            "2019-02-16 20:46:44 | itr #0 | Processing samples...\n",
            "2019-02-16 20:46:44 | itr #0 | Logging diagnostics...\n",
            "2019-02-16 20:46:44 | itr #0 | Optimizing policy...\n",
            "2019-02-16 20:46:44 | itr #0 | Computing loss before\n"
          ],
          "name": "stdout"
        },
        {
          "output_type": "stream",
          "text": [
            "\n",
            "Total time elapsed: 00:00:05\n"
          ],
          "name": "stderr"
        },
        {
          "output_type": "stream",
          "text": [
            "2019-02-16 20:46:45 | itr #0 | Computing KL before\n",
            "2019-02-16 20:46:45 | itr #0 | Optimizing\n",
            "2019-02-16 20:46:45 | itr #0 | Start CG optimization: #parameters: 10528, #inputs: 200, #subsample_inputs: 200\n",
            "2019-02-16 20:46:45 | itr #0 | computing loss before\n",
            "2019-02-16 20:46:45 | itr #0 | performing update\n",
            "2019-02-16 20:46:45 | itr #0 | computing gradient\n",
            "2019-02-16 20:46:45 | itr #0 | gradient computed\n",
            "2019-02-16 20:46:45 | itr #0 | computing descent direction\n",
            "2019-02-16 20:46:45 | itr #0 | descent direction computed\n",
            "2019-02-16 20:46:45 | itr #0 | backtrack iters: 0\n",
            "2019-02-16 20:46:45 | itr #0 | computing loss after\n",
            "2019-02-16 20:46:45 | itr #0 | optimization finished\n",
            "2019-02-16 20:46:45 | itr #0 | Computing KL after\n",
            "2019-02-16 20:46:45 | itr #0 | Computing loss after\n",
            "2019-02-16 20:46:46 | itr #0 | Fitting baseline...\n",
            "2019-02-16 20:46:46 | itr #0 | Saving snapshot...\n",
            "2019-02-16 20:46:46 | itr #0 | Saved\n",
            "2019-02-16 20:46:46 | --------------------------  --------------\n",
            "2019-02-16 20:46:46 | AverageDiscountedReturn      -53.7604\n",
            "2019-02-16 20:46:46 | AverageReturn                -65.955\n",
            "2019-02-16 20:46:46 | Baseline/ExplainedVariance    -6.02356e-09\n",
            "2019-02-16 20:46:46 | Entropy                        5.5002\n",
            "2019-02-16 20:46:46 | EnvExecTime                    0.891025\n",
            "2019-02-16 20:46:46 | Iteration                      0\n",
            "2019-02-16 20:46:46 | ItrTime                        6.9767\n",
            "2019-02-16 20:46:46 | MaxReturn                     46\n",
            "2019-02-16 20:46:46 | MinReturn                   -142\n",
            "2019-02-16 20:46:46 | NumTrajs                     200\n",
            "2019-02-16 20:46:46 | Perplexity                   244.74\n",
            "2019-02-16 20:46:46 | PolicyExecTime                 4.28055\n",
            "2019-02-16 20:46:46 | ProcessExecTime                0.0620918\n",
            "2019-02-16 20:46:46 | StdReturn                     35.1087\n",
            "2019-02-16 20:46:46 | Time                           6.97664\n",
            "2019-02-16 20:46:46 | policy/Entropy                 0.00401397\n",
            "2019-02-16 20:46:46 | policy/KL                      0.00908331\n",
            "2019-02-16 20:46:46 | policy/KLBefore                0\n",
            "2019-02-16 20:46:46 | policy/LossAfter              -0.0582341\n",
            "2019-02-16 20:46:46 | policy/LossBefore             -7.0966e-08\n",
            "2019-02-16 20:46:46 | policy/dLoss                   0.058234\n",
            "2019-02-16 20:46:46 | --------------------------  --------------\n",
            "2019-02-16 20:46:46 | itr #1 | Obtaining samples...\n",
            "2019-02-16 20:46:46 | itr #1 | Obtaining samples for iteration 1...\n"
          ],
          "name": "stdout"
        },
        {
          "output_type": "stream",
          "text": [
            "0% [##############################] 100% | ETA: 00:00:00"
          ],
          "name": "stderr"
        },
        {
          "output_type": "stream",
          "text": [
            "2019-02-16 20:46:51 | itr #1 | Processing samples...\n",
            "2019-02-16 20:46:51 | itr #1 | Logging diagnostics...\n",
            "2019-02-16 20:46:51 | itr #1 | Optimizing policy...\n",
            "2019-02-16 20:46:51 | itr #1 | Computing loss before\n",
            "2019-02-16 20:46:51 | itr #1 | Computing KL before\n",
            "2019-02-16 20:46:51 | itr #1 | Optimizing\n",
            "2019-02-16 20:46:51 | itr #1 | Start CG optimization: #parameters: 10528, #inputs: 200, #subsample_inputs: 200\n",
            "2019-02-16 20:46:51 | itr #1 | computing loss before\n",
            "2019-02-16 20:46:51 | itr #1 | performing update\n",
            "2019-02-16 20:46:51 | itr #1 | computing gradient\n",
            "2019-02-16 20:46:51 | itr #1 | gradient computed\n",
            "2019-02-16 20:46:51 | itr #1 | computing descent direction\n"
          ],
          "name": "stdout"
        },
        {
          "output_type": "stream",
          "text": [
            "\n",
            "Total time elapsed: 00:00:05\n"
          ],
          "name": "stderr"
        },
        {
          "output_type": "stream",
          "text": [
            "2019-02-16 20:46:51 | itr #1 | descent direction computed\n",
            "2019-02-16 20:46:51 | itr #1 | backtrack iters: 0\n",
            "2019-02-16 20:46:51 | itr #1 | computing loss after\n",
            "2019-02-16 20:46:51 | itr #1 | optimization finished\n",
            "2019-02-16 20:46:51 | itr #1 | Computing KL after\n",
            "2019-02-16 20:46:51 | itr #1 | Computing loss after\n",
            "2019-02-16 20:46:51 | itr #1 | Fitting baseline...\n",
            "2019-02-16 20:46:51 | itr #1 | Saving snapshot...\n",
            "2019-02-16 20:46:51 | itr #1 | Saved\n",
            "2019-02-16 20:46:51 | --------------------------  --------------\n",
            "2019-02-16 20:46:51 | AverageDiscountedReturn      -54.0499\n",
            "2019-02-16 20:46:51 | AverageReturn                -66.075\n",
            "2019-02-16 20:46:51 | Baseline/ExplainedVariance     0.698801\n",
            "2019-02-16 20:46:51 | Entropy                        5.49504\n",
            "2019-02-16 20:46:51 | EnvExecTime                    0.882205\n",
            "2019-02-16 20:46:51 | Iteration                      1\n",
            "2019-02-16 20:46:51 | ItrTime                        5.60099\n",
            "2019-02-16 20:46:51 | MaxReturn                     36\n",
            "2019-02-16 20:46:51 | MinReturn                   -128\n",
            "2019-02-16 20:46:51 | NumTrajs                     200\n",
            "2019-02-16 20:46:51 | Perplexity                   243.482\n",
            "2019-02-16 20:46:51 | PolicyExecTime                 4.12867\n",
            "2019-02-16 20:46:51 | ProcessExecTime                0.0528359\n",
            "2019-02-16 20:46:51 | StdReturn                     32.4661\n",
            "2019-02-16 20:46:51 | Time                          12.6454\n",
            "2019-02-16 20:46:51 | policy/Entropy                 0.00406421\n",
            "2019-02-16 20:46:51 | policy/KL                      0.00946058\n",
            "2019-02-16 20:46:51 | policy/KLBefore                0\n",
            "2019-02-16 20:46:51 | policy/LossAfter              -0.0564169\n",
            "2019-02-16 20:46:51 | policy/LossBefore             -2.18076e-09\n",
            "2019-02-16 20:46:51 | policy/dLoss                   0.0564169\n",
            "2019-02-16 20:46:51 | --------------------------  --------------\n",
            "2019-02-16 20:46:51 | itr #2 | Obtaining samples...\n",
            "2019-02-16 20:46:51 | itr #2 | Obtaining samples for iteration 2...\n"
          ],
          "name": "stdout"
        },
        {
          "output_type": "stream",
          "text": [
            "0% [##############################] 100% | ETA: 00:00:00"
          ],
          "name": "stderr"
        },
        {
          "output_type": "stream",
          "text": [
            "2019-02-16 20:46:56 | itr #2 | Processing samples...\n",
            "2019-02-16 20:46:56 | itr #2 | Logging diagnostics...\n",
            "2019-02-16 20:46:56 | itr #2 | Optimizing policy...\n",
            "2019-02-16 20:46:56 | itr #2 | Computing loss before\n",
            "2019-02-16 20:46:56 | itr #2 | Computing KL before\n",
            "2019-02-16 20:46:57 | itr #2 | Optimizing\n",
            "2019-02-16 20:46:57 | itr #2 | Start CG optimization: #parameters: 10528, #inputs: 200, #subsample_inputs: 200\n",
            "2019-02-16 20:46:57 | itr #2 | computing loss before\n",
            "2019-02-16 20:46:57 | itr #2 | performing update\n",
            "2019-02-16 20:46:57 | itr #2 | computing gradient\n",
            "2019-02-16 20:46:57 | itr #2 | gradient computed\n",
            "2019-02-16 20:46:57 | itr #2 | computing descent direction\n"
          ],
          "name": "stdout"
        },
        {
          "output_type": "stream",
          "text": [
            "\n",
            "Total time elapsed: 00:00:05\n"
          ],
          "name": "stderr"
        },
        {
          "output_type": "stream",
          "text": [
            "2019-02-16 20:46:57 | itr #2 | descent direction computed\n",
            "2019-02-16 20:46:57 | itr #2 | backtrack iters: 0\n",
            "2019-02-16 20:46:57 | itr #2 | computing loss after\n",
            "2019-02-16 20:46:57 | itr #2 | optimization finished\n",
            "2019-02-16 20:46:57 | itr #2 | Computing KL after\n",
            "2019-02-16 20:46:57 | itr #2 | Computing loss after\n",
            "2019-02-16 20:46:57 | itr #2 | Fitting baseline...\n",
            "2019-02-16 20:46:57 | itr #2 | Saving snapshot...\n",
            "2019-02-16 20:46:57 | itr #2 | Saved\n",
            "2019-02-16 20:46:57 | --------------------------  --------------\n",
            "2019-02-16 20:46:57 | AverageDiscountedReturn      -46.2357\n",
            "2019-02-16 20:46:57 | AverageReturn                -57.22\n",
            "2019-02-16 20:46:57 | Baseline/ExplainedVariance     0.654894\n",
            "2019-02-16 20:46:57 | Entropy                        5.48835\n",
            "2019-02-16 20:46:57 | EnvExecTime                    0.884899\n",
            "2019-02-16 20:46:57 | Iteration                      2\n",
            "2019-02-16 20:46:57 | ItrTime                        5.60475\n",
            "2019-02-16 20:46:57 | MaxReturn                     73\n",
            "2019-02-16 20:46:57 | MinReturn                   -172\n",
            "2019-02-16 20:46:57 | NumTrajs                     200\n",
            "2019-02-16 20:46:57 | Perplexity                   241.857\n",
            "2019-02-16 20:46:57 | PolicyExecTime                 4.14859\n",
            "2019-02-16 20:46:57 | ProcessExecTime                0.0555141\n",
            "2019-02-16 20:46:57 | StdReturn                     31.0202\n",
            "2019-02-16 20:46:57 | Time                          18.2932\n",
            "2019-02-16 20:46:57 | policy/Entropy                 0.00413767\n",
            "2019-02-16 20:46:57 | policy/KL                      0.00886736\n",
            "2019-02-16 20:46:57 | policy/KLBefore                0\n",
            "2019-02-16 20:46:57 | policy/LossAfter              -0.0568003\n",
            "2019-02-16 20:46:57 | policy/LossBefore             -1.09116e-09\n",
            "2019-02-16 20:46:57 | policy/dLoss                   0.0568003\n",
            "2019-02-16 20:46:57 | --------------------------  --------------\n",
            "2019-02-16 20:46:57 | itr #3 | Obtaining samples...\n",
            "2019-02-16 20:46:57 | itr #3 | Obtaining samples for iteration 3...\n"
          ],
          "name": "stdout"
        },
        {
          "output_type": "stream",
          "text": [
            "0% [##############################] 100% | ETA: 00:00:00"
          ],
          "name": "stderr"
        },
        {
          "output_type": "stream",
          "text": [
            "2019-02-16 20:47:02 | itr #3 | Processing samples...\n",
            "2019-02-16 20:47:02 | itr #3 | Logging diagnostics...\n",
            "2019-02-16 20:47:02 | itr #3 | Optimizing policy...\n",
            "2019-02-16 20:47:02 | itr #3 | Computing loss before\n",
            "2019-02-16 20:47:02 | itr #3 | Computing KL before\n",
            "2019-02-16 20:47:02 | itr #3 | Optimizing\n",
            "2019-02-16 20:47:02 | itr #3 | Start CG optimization: #parameters: 10528, #inputs: 200, #subsample_inputs: 200\n",
            "2019-02-16 20:47:02 | itr #3 | computing loss before\n",
            "2019-02-16 20:47:02 | itr #3 | performing update\n",
            "2019-02-16 20:47:02 | itr #3 | computing gradient\n",
            "2019-02-16 20:47:02 | itr #3 | gradient computed\n",
            "2019-02-16 20:47:02 | itr #3 | computing descent direction\n"
          ],
          "name": "stdout"
        },
        {
          "output_type": "stream",
          "text": [
            "\n",
            "Total time elapsed: 00:00:05\n"
          ],
          "name": "stderr"
        },
        {
          "output_type": "stream",
          "text": [
            "2019-02-16 20:47:02 | itr #3 | descent direction computed\n",
            "2019-02-16 20:47:02 | itr #3 | backtrack iters: 0\n",
            "2019-02-16 20:47:02 | itr #3 | computing loss after\n",
            "2019-02-16 20:47:02 | itr #3 | optimization finished\n",
            "2019-02-16 20:47:02 | itr #3 | Computing KL after\n",
            "2019-02-16 20:47:02 | itr #3 | Computing loss after\n",
            "2019-02-16 20:47:02 | itr #3 | Fitting baseline...\n",
            "2019-02-16 20:47:03 | itr #3 | Saving snapshot...\n",
            "2019-02-16 20:47:03 | itr #3 | Saved\n",
            "2019-02-16 20:47:03 | --------------------------  --------------\n",
            "2019-02-16 20:47:03 | AverageDiscountedReturn      -43.4716\n",
            "2019-02-16 20:47:03 | AverageReturn                -53.725\n",
            "2019-02-16 20:47:03 | Baseline/ExplainedVariance     0.591898\n",
            "2019-02-16 20:47:03 | Entropy                        5.47784\n",
            "2019-02-16 20:47:03 | EnvExecTime                    0.922074\n",
            "2019-02-16 20:47:03 | Iteration                      3\n",
            "2019-02-16 20:47:03 | ItrTime                        5.57901\n",
            "2019-02-16 20:47:03 | MaxReturn                     75\n",
            "2019-02-16 20:47:03 | MinReturn                   -119\n",
            "2019-02-16 20:47:03 | NumTrajs                     200\n",
            "2019-02-16 20:47:03 | Perplexity                   239.33\n",
            "2019-02-16 20:47:03 | PolicyExecTime                 4.10449\n",
            "2019-02-16 20:47:03 | ProcessExecTime                0.0564244\n",
            "2019-02-16 20:47:03 | StdReturn                     38.1729\n",
            "2019-02-16 20:47:03 | Time                          23.9359\n",
            "2019-02-16 20:47:03 | policy/Entropy                 0.00426685\n",
            "2019-02-16 20:47:03 | policy/KL                      0.00964846\n",
            "2019-02-16 20:47:03 | policy/KLBefore                0\n",
            "2019-02-16 20:47:03 | policy/LossAfter              -0.062107\n",
            "2019-02-16 20:47:03 | policy/LossBefore             -8.74429e-09\n",
            "2019-02-16 20:47:03 | policy/dLoss                   0.062107\n",
            "2019-02-16 20:47:03 | --------------------------  --------------\n",
            "2019-02-16 20:47:03 | itr #4 | Obtaining samples...\n",
            "2019-02-16 20:47:03 | itr #4 | Obtaining samples for iteration 4...\n"
          ],
          "name": "stdout"
        },
        {
          "output_type": "stream",
          "text": [
            "0% [##############################] 100% | ETA: 00:00:00"
          ],
          "name": "stderr"
        },
        {
          "output_type": "stream",
          "text": [
            "2019-02-16 20:47:08 | itr #4 | Processing samples...\n",
            "2019-02-16 20:47:08 | itr #4 | Logging diagnostics...\n",
            "2019-02-16 20:47:08 | itr #4 | Optimizing policy...\n",
            "2019-02-16 20:47:08 | itr #4 | Computing loss before\n",
            "2019-02-16 20:47:08 | itr #4 | Computing KL before\n",
            "2019-02-16 20:47:08 | itr #4 | Optimizing\n",
            "2019-02-16 20:47:08 | itr #4 | Start CG optimization: #parameters: 10528, #inputs: 200, #subsample_inputs: 200\n",
            "2019-02-16 20:47:08 | itr #4 | computing loss before\n",
            "2019-02-16 20:47:08 | itr #4 | performing update\n",
            "2019-02-16 20:47:08 | itr #4 | computing gradient\n",
            "2019-02-16 20:47:08 | itr #4 | gradient computed\n",
            "2019-02-16 20:47:08 | itr #4 | computing descent direction\n"
          ],
          "name": "stdout"
        },
        {
          "output_type": "stream",
          "text": [
            "\n",
            "Total time elapsed: 00:00:05\n"
          ],
          "name": "stderr"
        },
        {
          "output_type": "stream",
          "text": [
            "2019-02-16 20:47:08 | itr #4 | descent direction computed\n",
            "2019-02-16 20:47:08 | itr #4 | backtrack iters: 0\n",
            "2019-02-16 20:47:08 | itr #4 | computing loss after\n",
            "2019-02-16 20:47:08 | itr #4 | optimization finished\n",
            "2019-02-16 20:47:08 | itr #4 | Computing KL after\n",
            "2019-02-16 20:47:08 | itr #4 | Computing loss after\n",
            "2019-02-16 20:47:08 | itr #4 | Fitting baseline...\n",
            "2019-02-16 20:47:08 | itr #4 | Saving snapshot...\n",
            "2019-02-16 20:47:08 | itr #4 | Saved\n",
            "2019-02-16 20:47:08 | --------------------------  --------------\n",
            "2019-02-16 20:47:08 | AverageDiscountedReturn      -39.1807\n",
            "2019-02-16 20:47:08 | AverageReturn                -48.955\n",
            "2019-02-16 20:47:08 | Baseline/ExplainedVariance     0.523611\n",
            "2019-02-16 20:47:08 | Entropy                        5.46286\n",
            "2019-02-16 20:47:08 | EnvExecTime                    0.893013\n",
            "2019-02-16 20:47:08 | Iteration                      4\n",
            "2019-02-16 20:47:08 | ItrTime                        5.5804\n",
            "2019-02-16 20:47:08 | MaxReturn                     88\n",
            "2019-02-16 20:47:08 | MinReturn                   -119\n",
            "2019-02-16 20:47:08 | NumTrajs                     200\n",
            "2019-02-16 20:47:08 | Perplexity                   235.771\n",
            "2019-02-16 20:47:08 | PolicyExecTime                 4.13505\n",
            "2019-02-16 20:47:08 | ProcessExecTime                0.0531912\n",
            "2019-02-16 20:47:08 | StdReturn                     39.8852\n",
            "2019-02-16 20:47:08 | Time                          29.5801\n",
            "2019-02-16 20:47:08 | policy/Entropy                 0.00439481\n",
            "2019-02-16 20:47:08 | policy/KL                      0.00916496\n",
            "2019-02-16 20:47:08 | policy/KLBefore                0\n",
            "2019-02-16 20:47:08 | policy/LossAfter              -0.0613728\n",
            "2019-02-16 20:47:08 | policy/LossBefore              4.38093e-09\n",
            "2019-02-16 20:47:08 | policy/dLoss                   0.0613728\n",
            "2019-02-16 20:47:08 | --------------------------  --------------\n",
            "2019-02-16 20:47:08 | itr #5 | Obtaining samples...\n",
            "2019-02-16 20:47:08 | itr #5 | Obtaining samples for iteration 5...\n"
          ],
          "name": "stdout"
        },
        {
          "output_type": "stream",
          "text": [
            "0% [##############################] 100% | ETA: 00:00:00"
          ],
          "name": "stderr"
        },
        {
          "output_type": "stream",
          "text": [
            "2019-02-16 20:47:13 | itr #5 | Processing samples...\n",
            "2019-02-16 20:47:13 | itr #5 | Logging diagnostics...\n",
            "2019-02-16 20:47:13 | itr #5 | Optimizing policy...\n",
            "2019-02-16 20:47:13 | itr #5 | Computing loss before\n",
            "2019-02-16 20:47:13 | itr #5 | Computing KL before\n",
            "2019-02-16 20:47:13 | itr #5 | Optimizing\n",
            "2019-02-16 20:47:13 | itr #5 | Start CG optimization: #parameters: 10528, #inputs: 200, #subsample_inputs: 200\n",
            "2019-02-16 20:47:13 | itr #5 | computing loss before\n",
            "2019-02-16 20:47:13 | itr #5 | performing update\n",
            "2019-02-16 20:47:13 | itr #5 | computing gradient\n",
            "2019-02-16 20:47:13 | itr #5 | gradient computed\n",
            "2019-02-16 20:47:13 | itr #5 | computing descent direction\n"
          ],
          "name": "stdout"
        },
        {
          "output_type": "stream",
          "text": [
            "\n",
            "Total time elapsed: 00:00:05\n"
          ],
          "name": "stderr"
        },
        {
          "output_type": "stream",
          "text": [
            "2019-02-16 20:47:14 | itr #5 | descent direction computed\n",
            "2019-02-16 20:47:14 | itr #5 | backtrack iters: 0\n",
            "2019-02-16 20:47:14 | itr #5 | computing loss after\n",
            "2019-02-16 20:47:14 | itr #5 | optimization finished\n",
            "2019-02-16 20:47:14 | itr #5 | Computing KL after\n",
            "2019-02-16 20:47:14 | itr #5 | Computing loss after\n",
            "2019-02-16 20:47:14 | itr #5 | Fitting baseline...\n",
            "2019-02-16 20:47:14 | itr #5 | Saving snapshot...\n",
            "2019-02-16 20:47:14 | itr #5 | Saved\n",
            "2019-02-16 20:47:14 | --------------------------  --------------\n",
            "2019-02-16 20:47:14 | AverageDiscountedReturn      -30.7537\n",
            "2019-02-16 20:47:14 | AverageReturn                -39.05\n",
            "2019-02-16 20:47:14 | Baseline/ExplainedVariance     0.501788\n",
            "2019-02-16 20:47:14 | Entropy                        5.44437\n",
            "2019-02-16 20:47:14 | EnvExecTime                    0.901421\n",
            "2019-02-16 20:47:14 | Iteration                      5\n",
            "2019-02-16 20:47:14 | ItrTime                        5.58646\n",
            "2019-02-16 20:47:14 | MaxReturn                     88\n",
            "2019-02-16 20:47:14 | MinReturn                   -119\n",
            "2019-02-16 20:47:14 | NumTrajs                     200\n",
            "2019-02-16 20:47:14 | Perplexity                   231.453\n",
            "2019-02-16 20:47:14 | PolicyExecTime                 4.14621\n",
            "2019-02-16 20:47:14 | ProcessExecTime                0.0528388\n",
            "2019-02-16 20:47:14 | StdReturn                     42.4322\n",
            "2019-02-16 20:47:14 | Time                          35.2096\n",
            "2019-02-16 20:47:14 | policy/Entropy                 0.00468661\n",
            "2019-02-16 20:47:14 | policy/KL                      0.00895313\n",
            "2019-02-16 20:47:14 | policy/KLBefore                0\n",
            "2019-02-16 20:47:14 | policy/LossAfter              -0.0573006\n",
            "2019-02-16 20:47:14 | policy/LossBefore              1.37219e-09\n",
            "2019-02-16 20:47:14 | policy/dLoss                   0.0573006\n",
            "2019-02-16 20:47:14 | --------------------------  --------------\n",
            "2019-02-16 20:47:14 | itr #6 | Obtaining samples...\n",
            "2019-02-16 20:47:14 | itr #6 | Obtaining samples for iteration 6...\n"
          ],
          "name": "stdout"
        },
        {
          "output_type": "stream",
          "text": [
            "0% [##############################] 100% | ETA: 00:00:00"
          ],
          "name": "stderr"
        },
        {
          "output_type": "stream",
          "text": [
            "2019-02-16 20:47:19 | itr #6 | Processing samples...\n",
            "2019-02-16 20:47:19 | itr #6 | Logging diagnostics...\n",
            "2019-02-16 20:47:19 | itr #6 | Optimizing policy...\n",
            "2019-02-16 20:47:19 | itr #6 | Computing loss before\n",
            "2019-02-16 20:47:19 | itr #6 | Computing KL before\n",
            "2019-02-16 20:47:19 | itr #6 | Optimizing\n",
            "2019-02-16 20:47:19 | itr #6 | Start CG optimization: #parameters: 10528, #inputs: 200, #subsample_inputs: 200\n",
            "2019-02-16 20:47:19 | itr #6 | computing loss before\n",
            "2019-02-16 20:47:19 | itr #6 | performing update\n",
            "2019-02-16 20:47:19 | itr #6 | computing gradient\n",
            "2019-02-16 20:47:19 | itr #6 | gradient computed\n",
            "2019-02-16 20:47:19 | itr #6 | computing descent direction\n"
          ],
          "name": "stdout"
        },
        {
          "output_type": "stream",
          "text": [
            "\n",
            "Total time elapsed: 00:00:05\n"
          ],
          "name": "stderr"
        },
        {
          "output_type": "stream",
          "text": [
            "2019-02-16 20:47:19 | itr #6 | descent direction computed\n",
            "2019-02-16 20:47:20 | itr #6 | backtrack iters: 1\n",
            "2019-02-16 20:47:20 | itr #6 | computing loss after\n",
            "2019-02-16 20:47:20 | itr #6 | optimization finished\n",
            "2019-02-16 20:47:20 | itr #6 | Computing KL after\n",
            "2019-02-16 20:47:20 | itr #6 | Computing loss after\n",
            "2019-02-16 20:47:20 | itr #6 | Fitting baseline...\n",
            "2019-02-16 20:47:20 | itr #6 | Saving snapshot...\n",
            "2019-02-16 20:47:20 | itr #6 | Saved\n",
            "2019-02-16 20:47:20 | --------------------------  --------------\n",
            "2019-02-16 20:47:20 | AverageDiscountedReturn      -28.9317\n",
            "2019-02-16 20:47:20 | AverageReturn                -37.17\n",
            "2019-02-16 20:47:20 | Baseline/ExplainedVariance     0.52471\n",
            "2019-02-16 20:47:20 | Entropy                        5.42081\n",
            "2019-02-16 20:47:20 | EnvExecTime                    1.02156\n",
            "2019-02-16 20:47:20 | Iteration                      6\n",
            "2019-02-16 20:47:20 | ItrTime                        5.75595\n",
            "2019-02-16 20:47:20 | MaxReturn                     77\n",
            "2019-02-16 20:47:20 | MinReturn                   -175\n",
            "2019-02-16 20:47:20 | NumTrajs                     200\n",
            "2019-02-16 20:47:20 | Perplexity                   226.063\n",
            "2019-02-16 20:47:20 | PolicyExecTime                 4.18298\n",
            "2019-02-16 20:47:20 | ProcessExecTime                0.0541029\n",
            "2019-02-16 20:47:20 | StdReturn                     46.5756\n",
            "2019-02-16 20:47:20 | Time                          41.0053\n",
            "2019-02-16 20:47:20 | policy/Entropy                 0.00493596\n",
            "2019-02-16 20:47:20 | policy/KL                      0.00671799\n",
            "2019-02-16 20:47:20 | policy/KLBefore                0\n",
            "2019-02-16 20:47:20 | policy/LossAfter              -0.0487735\n",
            "2019-02-16 20:47:20 | policy/LossBefore             -5.49906e-09\n",
            "2019-02-16 20:47:20 | policy/dLoss                   0.0487735\n",
            "2019-02-16 20:47:20 | --------------------------  --------------\n",
            "2019-02-16 20:47:20 | itr #7 | Obtaining samples...\n",
            "2019-02-16 20:47:20 | itr #7 | Obtaining samples for iteration 7...\n"
          ],
          "name": "stdout"
        },
        {
          "output_type": "stream",
          "text": [
            "0% [##############################] 100% | ETA: 00:00:00"
          ],
          "name": "stderr"
        },
        {
          "output_type": "stream",
          "text": [
            "2019-02-16 20:47:25 | itr #7 | Processing samples...\n",
            "2019-02-16 20:47:25 | itr #7 | Logging diagnostics...\n",
            "2019-02-16 20:47:25 | itr #7 | Optimizing policy...\n",
            "2019-02-16 20:47:25 | itr #7 | Computing loss before\n",
            "2019-02-16 20:47:25 | itr #7 | Computing KL before\n",
            "2019-02-16 20:47:25 | itr #7 | Optimizing\n",
            "2019-02-16 20:47:25 | itr #7 | Start CG optimization: #parameters: 10528, #inputs: 200, #subsample_inputs: 200\n",
            "2019-02-16 20:47:25 | itr #7 | computing loss before\n",
            "2019-02-16 20:47:25 | itr #7 | performing update\n",
            "2019-02-16 20:47:25 | itr #7 | computing gradient\n",
            "2019-02-16 20:47:25 | itr #7 | gradient computed\n",
            "2019-02-16 20:47:25 | itr #7 | computing descent direction\n"
          ],
          "name": "stdout"
        },
        {
          "output_type": "stream",
          "text": [
            "\n",
            "Total time elapsed: 00:00:05\n"
          ],
          "name": "stderr"
        },
        {
          "output_type": "stream",
          "text": [
            "2019-02-16 20:47:25 | itr #7 | descent direction computed\n",
            "2019-02-16 20:47:25 | itr #7 | backtrack iters: 0\n",
            "2019-02-16 20:47:25 | itr #7 | computing loss after\n",
            "2019-02-16 20:47:25 | itr #7 | optimization finished\n",
            "2019-02-16 20:47:25 | itr #7 | Computing KL after\n",
            "2019-02-16 20:47:25 | itr #7 | Computing loss after\n",
            "2019-02-16 20:47:25 | itr #7 | Fitting baseline...\n",
            "2019-02-16 20:47:25 | itr #7 | Saving snapshot...\n",
            "2019-02-16 20:47:25 | itr #7 | Saved\n",
            "2019-02-16 20:47:25 | --------------------------  --------------\n",
            "2019-02-16 20:47:25 | AverageDiscountedReturn      -26.0125\n",
            "2019-02-16 20:47:25 | AverageReturn                -34.02\n",
            "2019-02-16 20:47:25 | Baseline/ExplainedVariance     0.547423\n",
            "2019-02-16 20:47:25 | Entropy                        5.40685\n",
            "2019-02-16 20:47:25 | EnvExecTime                    0.910362\n",
            "2019-02-16 20:47:25 | Iteration                      7\n",
            "2019-02-16 20:47:25 | ItrTime                        5.63006\n",
            "2019-02-16 20:47:25 | MaxReturn                     90\n",
            "2019-02-16 20:47:25 | MinReturn                   -113\n",
            "2019-02-16 20:47:25 | NumTrajs                     200\n",
            "2019-02-16 20:47:25 | Perplexity                   222.928\n",
            "2019-02-16 20:47:25 | PolicyExecTime                 4.18712\n",
            "2019-02-16 20:47:25 | ProcessExecTime                0.0542724\n",
            "2019-02-16 20:47:25 | StdReturn                     45.6019\n",
            "2019-02-16 20:47:25 | Time                          46.6804\n",
            "2019-02-16 20:47:25 | policy/Entropy                 0.0052581\n",
            "2019-02-16 20:47:25 | policy/KL                      0.0088801\n",
            "2019-02-16 20:47:25 | policy/KLBefore                0\n",
            "2019-02-16 20:47:25 | policy/LossAfter              -0.0517005\n",
            "2019-02-16 20:47:25 | policy/LossBefore             -1.76632e-08\n",
            "2019-02-16 20:47:25 | policy/dLoss                   0.0517004\n",
            "2019-02-16 20:47:25 | --------------------------  --------------\n",
            "2019-02-16 20:47:25 | itr #8 | Obtaining samples...\n",
            "2019-02-16 20:47:25 | itr #8 | Obtaining samples for iteration 8...\n"
          ],
          "name": "stdout"
        },
        {
          "output_type": "stream",
          "text": [
            "0% [##############################] 100% | ETA: 00:00:00"
          ],
          "name": "stderr"
        },
        {
          "output_type": "stream",
          "text": [
            "2019-02-16 20:47:31 | itr #8 | Processing samples...\n",
            "2019-02-16 20:47:31 | itr #8 | Logging diagnostics...\n",
            "2019-02-16 20:47:31 | itr #8 | Optimizing policy...\n",
            "2019-02-16 20:47:31 | itr #8 | Computing loss before\n",
            "2019-02-16 20:47:31 | itr #8 | Computing KL before\n",
            "2019-02-16 20:47:31 | itr #8 | Optimizing\n",
            "2019-02-16 20:47:31 | itr #8 | Start CG optimization: #parameters: 10528, #inputs: 200, #subsample_inputs: 200\n",
            "2019-02-16 20:47:31 | itr #8 | computing loss before\n",
            "2019-02-16 20:47:31 | itr #8 | performing update\n",
            "2019-02-16 20:47:31 | itr #8 | computing gradient\n",
            "2019-02-16 20:47:31 | itr #8 | gradient computed\n",
            "2019-02-16 20:47:31 | itr #8 | computing descent direction\n"
          ],
          "name": "stdout"
        },
        {
          "output_type": "stream",
          "text": [
            "\n",
            "Total time elapsed: 00:00:05\n"
          ],
          "name": "stderr"
        },
        {
          "output_type": "stream",
          "text": [
            "2019-02-16 20:47:31 | itr #8 | descent direction computed\n",
            "2019-02-16 20:47:31 | itr #8 | backtrack iters: 1\n",
            "2019-02-16 20:47:31 | itr #8 | computing loss after\n",
            "2019-02-16 20:47:31 | itr #8 | optimization finished\n",
            "2019-02-16 20:47:31 | itr #8 | Computing KL after\n",
            "2019-02-16 20:47:31 | itr #8 | Computing loss after\n",
            "2019-02-16 20:47:31 | itr #8 | Fitting baseline...\n",
            "2019-02-16 20:47:31 | itr #8 | Saving snapshot...\n",
            "2019-02-16 20:47:31 | itr #8 | Saved\n",
            "2019-02-16 20:47:31 | --------------------------  --------------\n",
            "2019-02-16 20:47:31 | AverageDiscountedReturn      -16.5355\n",
            "2019-02-16 20:47:31 | AverageReturn                -22.875\n",
            "2019-02-16 20:47:31 | Baseline/ExplainedVariance     0.480223\n",
            "2019-02-16 20:47:31 | Entropy                        5.36356\n",
            "2019-02-16 20:47:31 | EnvExecTime                    0.910603\n",
            "2019-02-16 20:47:31 | Iteration                      8\n",
            "2019-02-16 20:47:31 | ItrTime                        5.66185\n",
            "2019-02-16 20:47:31 | MaxReturn                    110\n",
            "2019-02-16 20:47:31 | MinReturn                   -136\n",
            "2019-02-16 20:47:31 | NumTrajs                     200\n",
            "2019-02-16 20:47:31 | Perplexity                   213.483\n",
            "2019-02-16 20:47:31 | PolicyExecTime                 4.20148\n",
            "2019-02-16 20:47:31 | ProcessExecTime                0.054554\n",
            "2019-02-16 20:47:31 | StdReturn                     48.3369\n",
            "2019-02-16 20:47:31 | Time                          52.3821\n",
            "2019-02-16 20:47:31 | policy/Entropy                 0.00581635\n",
            "2019-02-16 20:47:31 | policy/KL                      0.00646635\n",
            "2019-02-16 20:47:31 | policy/KLBefore                0\n",
            "2019-02-16 20:47:31 | policy/LossAfter              -0.0448368\n",
            "2019-02-16 20:47:31 | policy/LossBefore             -1.99635e-08\n",
            "2019-02-16 20:47:31 | policy/dLoss                   0.0448367\n",
            "2019-02-16 20:47:31 | --------------------------  --------------\n",
            "2019-02-16 20:47:31 | itr #9 | Obtaining samples...\n",
            "2019-02-16 20:47:31 | itr #9 | Obtaining samples for iteration 9...\n"
          ],
          "name": "stdout"
        },
        {
          "output_type": "stream",
          "text": [
            "0% [##############################] 100% | ETA: 00:00:00"
          ],
          "name": "stderr"
        },
        {
          "output_type": "stream",
          "text": [
            "2019-02-16 20:47:36 | itr #9 | Processing samples...\n",
            "2019-02-16 20:47:36 | itr #9 | Logging diagnostics...\n",
            "2019-02-16 20:47:36 | itr #9 | Optimizing policy...\n",
            "2019-02-16 20:47:36 | itr #9 | Computing loss before\n",
            "2019-02-16 20:47:36 | itr #9 | Computing KL before\n",
            "2019-02-16 20:47:36 | itr #9 | Optimizing\n",
            "2019-02-16 20:47:36 | itr #9 | Start CG optimization: #parameters: 10528, #inputs: 119, #subsample_inputs: 119\n",
            "2019-02-16 20:47:36 | itr #9 | computing loss before\n",
            "2019-02-16 20:47:36 | itr #9 | performing update\n",
            "2019-02-16 20:47:36 | itr #9 | computing gradient\n",
            "2019-02-16 20:47:36 | itr #9 | gradient computed\n",
            "2019-02-16 20:47:36 | itr #9 | computing descent direction\n"
          ],
          "name": "stdout"
        },
        {
          "output_type": "stream",
          "text": [
            "\n",
            "Total time elapsed: 00:00:04\n"
          ],
          "name": "stderr"
        },
        {
          "output_type": "stream",
          "text": [
            "2019-02-16 20:47:36 | itr #9 | descent direction computed\n",
            "2019-02-16 20:47:36 | itr #9 | backtrack iters: 1\n",
            "2019-02-16 20:47:36 | itr #9 | computing loss after\n",
            "2019-02-16 20:47:36 | itr #9 | optimization finished\n",
            "2019-02-16 20:47:36 | itr #9 | Computing KL after\n",
            "2019-02-16 20:47:36 | itr #9 | Computing loss after\n",
            "2019-02-16 20:47:36 | itr #9 | Fitting baseline...\n",
            "2019-02-16 20:47:36 | itr #9 | Saving snapshot...\n",
            "2019-02-16 20:47:36 | itr #9 | Saved\n",
            "2019-02-16 20:47:36 | --------------------------  --------------\n",
            "2019-02-16 20:47:36 | AverageDiscountedReturn      -11.6709\n",
            "2019-02-16 20:47:36 | AverageReturn                -17.3109\n",
            "2019-02-16 20:47:36 | Baseline/ExplainedVariance     0.502452\n",
            "2019-02-16 20:47:36 | Entropy                        5.33804\n",
            "2019-02-16 20:47:36 | EnvExecTime                    0.883647\n",
            "2019-02-16 20:47:36 | Iteration                      9\n",
            "2019-02-16 20:47:36 | ItrTime                        5.33759\n",
            "2019-02-16 20:47:36 | MaxReturn                     89\n",
            "2019-02-16 20:47:36 | MinReturn                   -113\n",
            "2019-02-16 20:47:36 | NumTrajs                     119\n",
            "2019-02-16 20:47:36 | Perplexity                   208.105\n",
            "2019-02-16 20:47:36 | PolicyExecTime                 4.0372\n",
            "2019-02-16 20:47:36 | ProcessExecTime                0.0383844\n",
            "2019-02-16 20:47:36 | StdReturn                     57.3737\n",
            "2019-02-16 20:47:36 | Time                          57.7648\n",
            "2019-02-16 20:47:36 | policy/Entropy                 0.00643528\n",
            "2019-02-16 20:47:36 | policy/KL                      0.00664366\n",
            "2019-02-16 20:47:36 | policy/KLBefore                0\n",
            "2019-02-16 20:47:36 | policy/LossAfter              -0.0556823\n",
            "2019-02-16 20:47:36 | policy/LossBefore              7.60279e-09\n",
            "2019-02-16 20:47:36 | policy/dLoss                   0.0556823\n",
            "2019-02-16 20:47:36 | --------------------------  --------------\n",
            "2019-02-16 20:47:36 | itr #10 | Obtaining samples...\n",
            "2019-02-16 20:47:36 | itr #10 | Obtaining samples for iteration 10...\n"
          ],
          "name": "stdout"
        },
        {
          "output_type": "stream",
          "text": [
            "0% [##############################] 100% | ETA: 00:00:00"
          ],
          "name": "stderr"
        },
        {
          "output_type": "stream",
          "text": [
            "2019-02-16 20:47:41 | itr #10 | Processing samples...\n",
            "2019-02-16 20:47:41 | itr #10 | Logging diagnostics...\n",
            "2019-02-16 20:47:41 | itr #10 | Optimizing policy...\n",
            "2019-02-16 20:47:41 | itr #10 | Computing loss before\n",
            "2019-02-16 20:47:41 | itr #10 | Computing KL before\n",
            "2019-02-16 20:47:41 | itr #10 | Optimizing\n",
            "2019-02-16 20:47:41 | itr #10 | Start CG optimization: #parameters: 10528, #inputs: 121, #subsample_inputs: 121\n",
            "2019-02-16 20:47:41 | itr #10 | computing loss before\n",
            "2019-02-16 20:47:41 | itr #10 | performing update\n",
            "2019-02-16 20:47:41 | itr #10 | computing gradient\n",
            "2019-02-16 20:47:41 | itr #10 | gradient computed\n",
            "2019-02-16 20:47:41 | itr #10 | computing descent direction\n"
          ],
          "name": "stdout"
        },
        {
          "output_type": "stream",
          "text": [
            "\n",
            "Total time elapsed: 00:00:04\n"
          ],
          "name": "stderr"
        },
        {
          "output_type": "stream",
          "text": [
            "2019-02-16 20:47:42 | itr #10 | descent direction computed\n",
            "2019-02-16 20:47:42 | itr #10 | backtrack iters: 1\n",
            "2019-02-16 20:47:42 | itr #10 | computing loss after\n",
            "2019-02-16 20:47:42 | itr #10 | optimization finished\n",
            "2019-02-16 20:47:42 | itr #10 | Computing KL after\n",
            "2019-02-16 20:47:42 | itr #10 | Computing loss after\n",
            "2019-02-16 20:47:42 | itr #10 | Fitting baseline...\n",
            "2019-02-16 20:47:42 | itr #10 | Saving snapshot...\n",
            "2019-02-16 20:47:42 | itr #10 | Saved\n",
            "2019-02-16 20:47:42 | --------------------------  -------------\n",
            "2019-02-16 20:47:42 | AverageDiscountedReturn       -0.381031\n",
            "2019-02-16 20:47:42 | AverageReturn                 -4.35537\n",
            "2019-02-16 20:47:42 | Baseline/ExplainedVariance     0.463182\n",
            "2019-02-16 20:47:42 | Entropy                        5.27029\n",
            "2019-02-16 20:47:42 | EnvExecTime                    0.880117\n",
            "2019-02-16 20:47:42 | Iteration                     10\n",
            "2019-02-16 20:47:42 | ItrTime                        5.33916\n",
            "2019-02-16 20:47:42 | MaxReturn                    110\n",
            "2019-02-16 20:47:42 | MinReturn                   -117\n",
            "2019-02-16 20:47:42 | NumTrajs                     121\n",
            "2019-02-16 20:47:42 | Perplexity                   194.473\n",
            "2019-02-16 20:47:42 | PolicyExecTime                 4.0096\n",
            "2019-02-16 20:47:42 | ProcessExecTime                0.0399723\n",
            "2019-02-16 20:47:42 | StdReturn                     57.219\n",
            "2019-02-16 20:47:42 | Time                          63.1343\n",
            "2019-02-16 20:47:42 | policy/Entropy                 0.0071532\n",
            "2019-02-16 20:47:42 | policy/KL                      0.00670668\n",
            "2019-02-16 20:47:42 | policy/KLBefore                0\n",
            "2019-02-16 20:47:42 | policy/LossAfter              -0.0553652\n",
            "2019-02-16 20:47:42 | policy/LossBefore             -7.1152e-09\n",
            "2019-02-16 20:47:42 | policy/dLoss                   0.0553652\n",
            "2019-02-16 20:47:42 | --------------------------  -------------\n",
            "2019-02-16 20:47:42 | itr #11 | Obtaining samples...\n",
            "2019-02-16 20:47:42 | itr #11 | Obtaining samples for iteration 11...\n"
          ],
          "name": "stdout"
        },
        {
          "output_type": "stream",
          "text": [
            "0% [##############################] 100% | ETA: 00:00:00"
          ],
          "name": "stderr"
        },
        {
          "output_type": "stream",
          "text": [
            "2019-02-16 20:47:47 | itr #11 | Processing samples...\n",
            "2019-02-16 20:47:47 | itr #11 | Logging diagnostics...\n",
            "2019-02-16 20:47:47 | itr #11 | Optimizing policy...\n",
            "2019-02-16 20:47:47 | itr #11 | Computing loss before\n",
            "2019-02-16 20:47:47 | itr #11 | Computing KL before\n",
            "2019-02-16 20:47:47 | itr #11 | Optimizing\n",
            "2019-02-16 20:47:47 | itr #11 | Start CG optimization: #parameters: 10528, #inputs: 120, #subsample_inputs: 120\n",
            "2019-02-16 20:47:47 | itr #11 | computing loss before\n",
            "2019-02-16 20:47:47 | itr #11 | performing update\n",
            "2019-02-16 20:47:47 | itr #11 | computing gradient\n",
            "2019-02-16 20:47:47 | itr #11 | gradient computed\n",
            "2019-02-16 20:47:47 | itr #11 | computing descent direction\n"
          ],
          "name": "stdout"
        },
        {
          "output_type": "stream",
          "text": [
            "\n",
            "Total time elapsed: 00:00:05\n"
          ],
          "name": "stderr"
        },
        {
          "output_type": "stream",
          "text": [
            "2019-02-16 20:47:47 | itr #11 | descent direction computed\n",
            "2019-02-16 20:47:47 | itr #11 | backtrack iters: 1\n",
            "2019-02-16 20:47:47 | itr #11 | computing loss after\n",
            "2019-02-16 20:47:47 | itr #11 | optimization finished\n",
            "2019-02-16 20:47:47 | itr #11 | Computing KL after\n",
            "2019-02-16 20:47:47 | itr #11 | Computing loss after\n",
            "2019-02-16 20:47:47 | itr #11 | Fitting baseline...\n",
            "2019-02-16 20:47:47 | itr #11 | Saving snapshot...\n",
            "2019-02-16 20:47:47 | itr #11 | Saved\n",
            "2019-02-16 20:47:47 | --------------------------  --------------\n",
            "2019-02-16 20:47:47 | AverageDiscountedReturn       -7.0706\n",
            "2019-02-16 20:47:47 | AverageReturn                -12.7083\n",
            "2019-02-16 20:47:47 | Baseline/ExplainedVariance     0.322719\n",
            "2019-02-16 20:47:47 | Entropy                        5.2916\n",
            "2019-02-16 20:47:47 | EnvExecTime                    0.89069\n",
            "2019-02-16 20:47:47 | Iteration                     11\n",
            "2019-02-16 20:47:47 | ItrTime                        5.38954\n",
            "2019-02-16 20:47:47 | MaxReturn                    110\n",
            "2019-02-16 20:47:47 | MinReturn                   -179\n",
            "2019-02-16 20:47:47 | NumTrajs                     120\n",
            "2019-02-16 20:47:47 | Perplexity                   198.661\n",
            "2019-02-16 20:47:47 | PolicyExecTime                 4.06083\n",
            "2019-02-16 20:47:47 | ProcessExecTime                0.0391455\n",
            "2019-02-16 20:47:47 | StdReturn                     56.0933\n",
            "2019-02-16 20:47:47 | Time                          68.5608\n",
            "2019-02-16 20:47:47 | policy/Entropy                 0.00671609\n",
            "2019-02-16 20:47:47 | policy/KL                      0.006987\n",
            "2019-02-16 20:47:47 | policy/KLBefore                0\n",
            "2019-02-16 20:47:47 | policy/LossAfter              -0.0522491\n",
            "2019-02-16 20:47:47 | policy/LossBefore             -6.61617e-09\n",
            "2019-02-16 20:47:47 | policy/dLoss                   0.0522491\n",
            "2019-02-16 20:47:47 | --------------------------  --------------\n",
            "2019-02-16 20:47:47 | itr #12 | Obtaining samples...\n",
            "2019-02-16 20:47:47 | itr #12 | Obtaining samples for iteration 12...\n"
          ],
          "name": "stdout"
        },
        {
          "output_type": "stream",
          "text": [
            "0% [##############################] 100% | ETA: 00:00:00"
          ],
          "name": "stderr"
        },
        {
          "output_type": "stream",
          "text": [
            "2019-02-16 20:47:52 | itr #12 | Processing samples...\n",
            "2019-02-16 20:47:52 | itr #12 | Logging diagnostics...\n",
            "2019-02-16 20:47:52 | itr #12 | Optimizing policy...\n",
            "2019-02-16 20:47:52 | itr #12 | Computing loss before\n",
            "2019-02-16 20:47:52 | itr #12 | Computing KL before\n",
            "2019-02-16 20:47:52 | itr #12 | Optimizing\n",
            "2019-02-16 20:47:52 | itr #12 | Start CG optimization: #parameters: 10528, #inputs: 123, #subsample_inputs: 123\n",
            "2019-02-16 20:47:52 | itr #12 | computing loss before\n",
            "2019-02-16 20:47:52 | itr #12 | performing update\n",
            "2019-02-16 20:47:52 | itr #12 | computing gradient\n",
            "2019-02-16 20:47:52 | itr #12 | gradient computed\n",
            "2019-02-16 20:47:52 | itr #12 | computing descent direction\n"
          ],
          "name": "stdout"
        },
        {
          "output_type": "stream",
          "text": [
            "\n",
            "Total time elapsed: 00:00:04\n"
          ],
          "name": "stderr"
        },
        {
          "output_type": "stream",
          "text": [
            "2019-02-16 20:47:52 | itr #12 | descent direction computed\n",
            "2019-02-16 20:47:52 | itr #12 | backtrack iters: 1\n",
            "2019-02-16 20:47:52 | itr #12 | computing loss after\n",
            "2019-02-16 20:47:52 | itr #12 | optimization finished\n",
            "2019-02-16 20:47:52 | itr #12 | Computing KL after\n",
            "2019-02-16 20:47:52 | itr #12 | Computing loss after\n",
            "2019-02-16 20:47:52 | itr #12 | Fitting baseline...\n",
            "2019-02-16 20:47:52 | itr #12 | Saving snapshot...\n",
            "2019-02-16 20:47:52 | itr #12 | Saved\n",
            "2019-02-16 20:47:52 | --------------------------  --------------\n",
            "2019-02-16 20:47:52 | AverageDiscountedReturn        1.79325\n",
            "2019-02-16 20:47:52 | AverageReturn                 -1.87805\n",
            "2019-02-16 20:47:52 | Baseline/ExplainedVariance     0.5399\n",
            "2019-02-16 20:47:52 | Entropy                        5.24199\n",
            "2019-02-16 20:47:52 | EnvExecTime                    0.846605\n",
            "2019-02-16 20:47:52 | Iteration                     12\n",
            "2019-02-16 20:47:52 | ItrTime                        5.09121\n",
            "2019-02-16 20:47:52 | MaxReturn                    110\n",
            "2019-02-16 20:47:52 | MinReturn                   -112\n",
            "2019-02-16 20:47:52 | NumTrajs                     123\n",
            "2019-02-16 20:47:52 | Perplexity                   189.046\n",
            "2019-02-16 20:47:52 | PolicyExecTime                 3.79048\n",
            "2019-02-16 20:47:52 | ProcessExecTime                0.0381153\n",
            "2019-02-16 20:47:52 | StdReturn                     65.5014\n",
            "2019-02-16 20:47:52 | Time                          73.6867\n",
            "2019-02-16 20:47:52 | policy/Entropy                 0.00751534\n",
            "2019-02-16 20:47:52 | policy/KL                      0.00732448\n",
            "2019-02-16 20:47:52 | policy/KLBefore                0\n",
            "2019-02-16 20:47:52 | policy/LossAfter              -0.0515206\n",
            "2019-02-16 20:47:52 | policy/LossBefore             -8.03592e-09\n",
            "2019-02-16 20:47:52 | policy/dLoss                   0.0515206\n",
            "2019-02-16 20:47:52 | --------------------------  --------------\n",
            "2019-02-16 20:47:52 | itr #13 | Obtaining samples...\n",
            "2019-02-16 20:47:52 | itr #13 | Obtaining samples for iteration 13...\n"
          ],
          "name": "stdout"
        },
        {
          "output_type": "stream",
          "text": [
            "0% [##############################] 100% | ETA: 00:00:00"
          ],
          "name": "stderr"
        },
        {
          "output_type": "stream",
          "text": [
            "2019-02-16 20:47:57 | itr #13 | Processing samples...\n",
            "2019-02-16 20:47:58 | itr #13 | Logging diagnostics...\n",
            "2019-02-16 20:47:58 | itr #13 | Optimizing policy...\n",
            "2019-02-16 20:47:58 | itr #13 | Computing loss before\n",
            "2019-02-16 20:47:58 | itr #13 | Computing KL before\n",
            "2019-02-16 20:47:58 | itr #13 | Optimizing\n",
            "2019-02-16 20:47:58 | itr #13 | Start CG optimization: #parameters: 10528, #inputs: 128, #subsample_inputs: 128\n",
            "2019-02-16 20:47:58 | itr #13 | computing loss before\n",
            "2019-02-16 20:47:58 | itr #13 | performing update\n",
            "2019-02-16 20:47:58 | itr #13 | computing gradient\n",
            "2019-02-16 20:47:58 | itr #13 | gradient computed\n",
            "2019-02-16 20:47:58 | itr #13 | computing descent direction\n"
          ],
          "name": "stdout"
        },
        {
          "output_type": "stream",
          "text": [
            "\n",
            "Total time elapsed: 00:00:05\n"
          ],
          "name": "stderr"
        },
        {
          "output_type": "stream",
          "text": [
            "2019-02-16 20:47:58 | itr #13 | descent direction computed\n",
            "2019-02-16 20:47:58 | itr #13 | backtrack iters: 0\n",
            "2019-02-16 20:47:58 | itr #13 | computing loss after\n",
            "2019-02-16 20:47:58 | itr #13 | optimization finished\n",
            "2019-02-16 20:47:58 | itr #13 | Computing KL after\n",
            "2019-02-16 20:47:58 | itr #13 | Computing loss after\n",
            "2019-02-16 20:47:58 | itr #13 | Fitting baseline...\n",
            "2019-02-16 20:47:58 | itr #13 | Saving snapshot...\n",
            "2019-02-16 20:47:58 | itr #13 | Saved\n",
            "2019-02-16 20:47:58 | --------------------------  -------------\n",
            "2019-02-16 20:47:58 | AverageDiscountedReturn        1.55748\n",
            "2019-02-16 20:47:58 | AverageReturn                 -2.63281\n",
            "2019-02-16 20:47:58 | Baseline/ExplainedVariance     0.428707\n",
            "2019-02-16 20:47:58 | Entropy                        5.22974\n",
            "2019-02-16 20:47:58 | EnvExecTime                    0.946328\n",
            "2019-02-16 20:47:58 | Iteration                     13\n",
            "2019-02-16 20:47:58 | ItrTime                        5.49758\n",
            "2019-02-16 20:47:58 | MaxReturn                    110\n",
            "2019-02-16 20:47:58 | MinReturn                   -133\n",
            "2019-02-16 20:47:58 | NumTrajs                     128\n",
            "2019-02-16 20:47:58 | Perplexity                   186.744\n",
            "2019-02-16 20:47:58 | PolicyExecTime                 4.09914\n",
            "2019-02-16 20:47:58 | ProcessExecTime                0.0408401\n",
            "2019-02-16 20:47:58 | StdReturn                     61.1123\n",
            "2019-02-16 20:47:58 | Time                          79.234\n",
            "2019-02-16 20:47:58 | policy/Entropy                 0.00750625\n",
            "2019-02-16 20:47:58 | policy/KL                      0.00836623\n",
            "2019-02-16 20:47:58 | policy/KLBefore                0\n",
            "2019-02-16 20:47:58 | policy/LossAfter              -0.0589788\n",
            "2019-02-16 20:47:58 | policy/LossBefore             -0\n",
            "2019-02-16 20:47:58 | policy/dLoss                   0.0589788\n",
            "2019-02-16 20:47:58 | --------------------------  -------------\n",
            "2019-02-16 20:47:58 | itr #14 | Obtaining samples...\n",
            "2019-02-16 20:47:58 | itr #14 | Obtaining samples for iteration 14...\n"
          ],
          "name": "stdout"
        },
        {
          "output_type": "stream",
          "text": [
            "0% [##############################] 100% | ETA: 00:00:00"
          ],
          "name": "stderr"
        },
        {
          "output_type": "stream",
          "text": [
            "2019-02-16 20:48:03 | itr #14 | Processing samples...\n",
            "2019-02-16 20:48:03 | itr #14 | Logging diagnostics...\n",
            "2019-02-16 20:48:03 | itr #14 | Optimizing policy...\n",
            "2019-02-16 20:48:03 | itr #14 | Computing loss before\n",
            "2019-02-16 20:48:03 | itr #14 | Computing KL before\n",
            "2019-02-16 20:48:03 | itr #14 | Optimizing\n",
            "2019-02-16 20:48:03 | itr #14 | Start CG optimization: #parameters: 10528, #inputs: 127, #subsample_inputs: 127\n",
            "2019-02-16 20:48:03 | itr #14 | computing loss before\n",
            "2019-02-16 20:48:03 | itr #14 | performing update\n",
            "2019-02-16 20:48:03 | itr #14 | computing gradient\n",
            "2019-02-16 20:48:03 | itr #14 | gradient computed\n",
            "2019-02-16 20:48:03 | itr #14 | computing descent direction\n"
          ],
          "name": "stdout"
        },
        {
          "output_type": "stream",
          "text": [
            "\n",
            "Total time elapsed: 00:00:04\n"
          ],
          "name": "stderr"
        },
        {
          "output_type": "stream",
          "text": [
            "2019-02-16 20:48:03 | itr #14 | descent direction computed\n",
            "2019-02-16 20:48:03 | itr #14 | backtrack iters: 0\n",
            "2019-02-16 20:48:03 | itr #14 | computing loss after\n",
            "2019-02-16 20:48:03 | itr #14 | optimization finished\n",
            "2019-02-16 20:48:03 | itr #14 | Computing KL after\n",
            "2019-02-16 20:48:03 | itr #14 | Computing loss after\n",
            "2019-02-16 20:48:03 | itr #14 | Fitting baseline...\n",
            "2019-02-16 20:48:03 | itr #14 | Saving snapshot...\n",
            "2019-02-16 20:48:03 | itr #14 | Saved\n",
            "2019-02-16 20:48:03 | --------------------------  --------------\n",
            "2019-02-16 20:48:03 | AverageDiscountedReturn       -0.964693\n",
            "2019-02-16 20:48:03 | AverageReturn                 -5.70866\n",
            "2019-02-16 20:48:03 | Baseline/ExplainedVariance     0.46755\n",
            "2019-02-16 20:48:03 | Entropy                        5.22782\n",
            "2019-02-16 20:48:03 | EnvExecTime                    0.860023\n",
            "2019-02-16 20:48:03 | Iteration                     14\n",
            "2019-02-16 20:48:03 | ItrTime                        5.16805\n",
            "2019-02-16 20:48:03 | MaxReturn                    110\n",
            "2019-02-16 20:48:03 | MinReturn                   -119\n",
            "2019-02-16 20:48:03 | NumTrajs                     127\n",
            "2019-02-16 20:48:03 | Perplexity                   186.386\n",
            "2019-02-16 20:48:03 | PolicyExecTime                 3.88034\n",
            "2019-02-16 20:48:03 | ProcessExecTime                0.0394742\n",
            "2019-02-16 20:48:03 | StdReturn                     59.0962\n",
            "2019-02-16 20:48:03 | Time                          84.4481\n",
            "2019-02-16 20:48:03 | policy/Entropy                 0.00766715\n",
            "2019-02-16 20:48:03 | policy/KL                      0.00943454\n",
            "2019-02-16 20:48:03 | policy/KLBefore                0\n",
            "2019-02-16 20:48:03 | policy/LossAfter              -0.0648089\n",
            "2019-02-16 20:48:03 | policy/LossBefore              1.37351e-08\n",
            "2019-02-16 20:48:03 | policy/dLoss                   0.0648089\n",
            "2019-02-16 20:48:03 | --------------------------  --------------\n",
            "2019-02-16 20:48:03 | itr #15 | Obtaining samples...\n",
            "2019-02-16 20:48:03 | itr #15 | Obtaining samples for iteration 15...\n"
          ],
          "name": "stdout"
        },
        {
          "output_type": "stream",
          "text": [
            "0% [##############################] 100% | ETA: 00:00:00"
          ],
          "name": "stderr"
        },
        {
          "output_type": "stream",
          "text": [
            "2019-02-16 20:48:08 | itr #15 | Processing samples...\n",
            "2019-02-16 20:48:08 | itr #15 | Logging diagnostics...\n",
            "2019-02-16 20:48:08 | itr #15 | Optimizing policy...\n",
            "2019-02-16 20:48:08 | itr #15 | Computing loss before\n",
            "2019-02-16 20:48:08 | itr #15 | Computing KL before\n",
            "2019-02-16 20:48:08 | itr #15 | Optimizing\n",
            "2019-02-16 20:48:08 | itr #15 | Start CG optimization: #parameters: 10528, #inputs: 125, #subsample_inputs: 125\n",
            "2019-02-16 20:48:08 | itr #15 | computing loss before\n",
            "2019-02-16 20:48:08 | itr #15 | performing update\n",
            "2019-02-16 20:48:08 | itr #15 | computing gradient\n",
            "2019-02-16 20:48:08 | itr #15 | gradient computed\n",
            "2019-02-16 20:48:08 | itr #15 | computing descent direction\n"
          ],
          "name": "stdout"
        },
        {
          "output_type": "stream",
          "text": [
            "\n",
            "Total time elapsed: 00:00:04\n"
          ],
          "name": "stderr"
        },
        {
          "output_type": "stream",
          "text": [
            "2019-02-16 20:48:08 | itr #15 | descent direction computed\n",
            "2019-02-16 20:48:08 | itr #15 | backtrack iters: 1\n",
            "2019-02-16 20:48:08 | itr #15 | computing loss after\n",
            "2019-02-16 20:48:08 | itr #15 | optimization finished\n",
            "2019-02-16 20:48:08 | itr #15 | Computing KL after\n",
            "2019-02-16 20:48:08 | itr #15 | Computing loss after\n",
            "2019-02-16 20:48:08 | itr #15 | Fitting baseline...\n",
            "2019-02-16 20:48:08 | itr #15 | Saving snapshot...\n",
            "2019-02-16 20:48:08 | itr #15 | Saved\n",
            "2019-02-16 20:48:08 | --------------------------  --------------\n",
            "2019-02-16 20:48:08 | AverageDiscountedReturn        6.3804\n",
            "2019-02-16 20:48:08 | AverageReturn                  2.584\n",
            "2019-02-16 20:48:08 | Baseline/ExplainedVariance     0.514209\n",
            "2019-02-16 20:48:08 | Entropy                        5.19052\n",
            "2019-02-16 20:48:08 | EnvExecTime                    0.836515\n",
            "2019-02-16 20:48:08 | Iteration                     15\n",
            "2019-02-16 20:48:08 | ItrTime                        5.02749\n",
            "2019-02-16 20:48:08 | MaxReturn                    110\n",
            "2019-02-16 20:48:08 | MinReturn                   -128\n",
            "2019-02-16 20:48:08 | NumTrajs                     125\n",
            "2019-02-16 20:48:08 | Perplexity                   179.562\n",
            "2019-02-16 20:48:08 | PolicyExecTime                 3.75224\n",
            "2019-02-16 20:48:08 | ProcessExecTime                0.0387275\n",
            "2019-02-16 20:48:08 | StdReturn                     65.1549\n",
            "2019-02-16 20:48:08 | Time                          89.5413\n",
            "2019-02-16 20:48:08 | policy/Entropy                 0.00838007\n",
            "2019-02-16 20:48:08 | policy/KL                      0.00666531\n",
            "2019-02-16 20:48:08 | policy/KLBefore                0\n",
            "2019-02-16 20:48:08 | policy/LossAfter              -0.0487521\n",
            "2019-02-16 20:48:08 | policy/LossBefore              8.27022e-09\n",
            "2019-02-16 20:48:08 | policy/dLoss                   0.0487521\n",
            "2019-02-16 20:48:08 | --------------------------  --------------\n",
            "2019-02-16 20:48:08 | itr #16 | Obtaining samples...\n",
            "2019-02-16 20:48:08 | itr #16 | Obtaining samples for iteration 16...\n"
          ],
          "name": "stdout"
        },
        {
          "output_type": "stream",
          "text": [
            "0% [##############################] 100% | ETA: 00:00:00"
          ],
          "name": "stderr"
        },
        {
          "output_type": "stream",
          "text": [
            "2019-02-16 20:48:13 | itr #16 | Processing samples...\n",
            "2019-02-16 20:48:13 | itr #16 | Logging diagnostics...\n",
            "2019-02-16 20:48:13 | itr #16 | Optimizing policy...\n",
            "2019-02-16 20:48:13 | itr #16 | Computing loss before\n",
            "2019-02-16 20:48:13 | itr #16 | Computing KL before\n",
            "2019-02-16 20:48:13 | itr #16 | Optimizing\n",
            "2019-02-16 20:48:13 | itr #16 | Start CG optimization: #parameters: 10528, #inputs: 128, #subsample_inputs: 128\n",
            "2019-02-16 20:48:13 | itr #16 | computing loss before\n",
            "2019-02-16 20:48:13 | itr #16 | performing update\n",
            "2019-02-16 20:48:13 | itr #16 | computing gradient\n",
            "2019-02-16 20:48:13 | itr #16 | gradient computed\n",
            "2019-02-16 20:48:13 | itr #16 | computing descent direction\n"
          ],
          "name": "stdout"
        },
        {
          "output_type": "stream",
          "text": [
            "\n",
            "Total time elapsed: 00:00:04\n"
          ],
          "name": "stderr"
        },
        {
          "output_type": "stream",
          "text": [
            "2019-02-16 20:48:13 | itr #16 | descent direction computed\n",
            "2019-02-16 20:48:13 | itr #16 | backtrack iters: 1\n",
            "2019-02-16 20:48:13 | itr #16 | computing loss after\n",
            "2019-02-16 20:48:13 | itr #16 | optimization finished\n",
            "2019-02-16 20:48:13 | itr #16 | Computing KL after\n",
            "2019-02-16 20:48:13 | itr #16 | Computing loss after\n",
            "2019-02-16 20:48:13 | itr #16 | Fitting baseline...\n",
            "2019-02-16 20:48:13 | itr #16 | Saving snapshot...\n",
            "2019-02-16 20:48:13 | itr #16 | Saved\n",
            "2019-02-16 20:48:13 | --------------------------  --------------\n",
            "2019-02-16 20:48:13 | AverageDiscountedReturn       10.5042\n",
            "2019-02-16 20:48:13 | AverageReturn                  7.11719\n",
            "2019-02-16 20:48:13 | Baseline/ExplainedVariance     0.547486\n",
            "2019-02-16 20:48:13 | Entropy                        5.16708\n",
            "2019-02-16 20:48:13 | EnvExecTime                    0.866238\n",
            "2019-02-16 20:48:13 | Iteration                     16\n",
            "2019-02-16 20:48:13 | ItrTime                        5.14599\n",
            "2019-02-16 20:48:13 | MaxReturn                    110\n",
            "2019-02-16 20:48:13 | MinReturn                   -105\n",
            "2019-02-16 20:48:13 | NumTrajs                     128\n",
            "2019-02-16 20:48:13 | Perplexity                   175.403\n",
            "2019-02-16 20:48:13 | PolicyExecTime                 3.83754\n",
            "2019-02-16 20:48:13 | ProcessExecTime                0.0405173\n",
            "2019-02-16 20:48:13 | StdReturn                     60.2982\n",
            "2019-02-16 20:48:13 | Time                          94.7148\n",
            "2019-02-16 20:48:13 | policy/Entropy                 0.0086396\n",
            "2019-02-16 20:48:13 | policy/KL                      0.00731061\n",
            "2019-02-16 20:48:13 | policy/KLBefore                0\n",
            "2019-02-16 20:48:13 | policy/LossAfter              -0.051282\n",
            "2019-02-16 20:48:13 | policy/LossBefore              1.24513e-08\n",
            "2019-02-16 20:48:13 | policy/dLoss                   0.051282\n",
            "2019-02-16 20:48:13 | --------------------------  --------------\n",
            "2019-02-16 20:48:13 | itr #17 | Obtaining samples...\n",
            "2019-02-16 20:48:13 | itr #17 | Obtaining samples for iteration 17...\n"
          ],
          "name": "stdout"
        },
        {
          "output_type": "stream",
          "text": [
            "0% [##############################] 100% | ETA: 00:00:00"
          ],
          "name": "stderr"
        },
        {
          "output_type": "stream",
          "text": [
            "2019-02-16 20:48:18 | itr #17 | Processing samples...\n",
            "2019-02-16 20:48:18 | itr #17 | Logging diagnostics...\n",
            "2019-02-16 20:48:18 | itr #17 | Optimizing policy...\n",
            "2019-02-16 20:48:18 | itr #17 | Computing loss before\n",
            "2019-02-16 20:48:18 | itr #17 | Computing KL before\n",
            "2019-02-16 20:48:18 | itr #17 | Optimizing\n",
            "2019-02-16 20:48:18 | itr #17 | Start CG optimization: #parameters: 10528, #inputs: 126, #subsample_inputs: 126\n",
            "2019-02-16 20:48:18 | itr #17 | computing loss before\n",
            "2019-02-16 20:48:18 | itr #17 | performing update\n",
            "2019-02-16 20:48:18 | itr #17 | computing gradient\n",
            "2019-02-16 20:48:18 | itr #17 | gradient computed\n",
            "2019-02-16 20:48:18 | itr #17 | computing descent direction\n"
          ],
          "name": "stdout"
        },
        {
          "output_type": "stream",
          "text": [
            "\n",
            "Total time elapsed: 00:00:04\n"
          ],
          "name": "stderr"
        },
        {
          "output_type": "stream",
          "text": [
            "2019-02-16 20:48:18 | itr #17 | descent direction computed\n",
            "2019-02-16 20:48:18 | itr #17 | backtrack iters: 0\n",
            "2019-02-16 20:48:18 | itr #17 | computing loss after\n",
            "2019-02-16 20:48:18 | itr #17 | optimization finished\n",
            "2019-02-16 20:48:18 | itr #17 | Computing KL after\n",
            "2019-02-16 20:48:18 | itr #17 | Computing loss after\n",
            "2019-02-16 20:48:18 | itr #17 | Fitting baseline...\n",
            "2019-02-16 20:48:18 | itr #17 | Saving snapshot...\n",
            "2019-02-16 20:48:18 | itr #17 | Saved\n",
            "2019-02-16 20:48:18 | --------------------------  --------------\n",
            "2019-02-16 20:48:18 | AverageDiscountedReturn        8.17371\n",
            "2019-02-16 20:48:18 | AverageReturn                  4.50794\n",
            "2019-02-16 20:48:18 | Baseline/ExplainedVariance     0.575869\n",
            "2019-02-16 20:48:18 | Entropy                        5.13555\n",
            "2019-02-16 20:48:18 | EnvExecTime                    0.83139\n",
            "2019-02-16 20:48:18 | Iteration                     17\n",
            "2019-02-16 20:48:18 | ItrTime                        4.95362\n",
            "2019-02-16 20:48:18 | MaxReturn                    110\n",
            "2019-02-16 20:48:18 | MinReturn                   -131\n",
            "2019-02-16 20:48:18 | NumTrajs                     126\n",
            "2019-02-16 20:48:18 | Perplexity                   169.957\n",
            "2019-02-16 20:48:18 | PolicyExecTime                 3.68884\n",
            "2019-02-16 20:48:18 | ProcessExecTime                0.0393083\n",
            "2019-02-16 20:48:18 | StdReturn                     62.5917\n",
            "2019-02-16 20:48:18 | Time                          99.7191\n",
            "2019-02-16 20:48:18 | policy/Entropy                 0.00917309\n",
            "2019-02-16 20:48:18 | policy/KL                      0.0094046\n",
            "2019-02-16 20:48:18 | policy/KLBefore                0\n",
            "2019-02-16 20:48:18 | policy/LossAfter              -0.0597131\n",
            "2019-02-16 20:48:18 | policy/LossBefore              7.28354e-09\n",
            "2019-02-16 20:48:18 | policy/dLoss                   0.0597131\n",
            "2019-02-16 20:48:18 | --------------------------  --------------\n",
            "2019-02-16 20:48:18 | itr #18 | Obtaining samples...\n",
            "2019-02-16 20:48:18 | itr #18 | Obtaining samples for iteration 18...\n"
          ],
          "name": "stdout"
        },
        {
          "output_type": "stream",
          "text": [
            "0% [##############################] 100% | ETA: 00:00:00"
          ],
          "name": "stderr"
        },
        {
          "output_type": "stream",
          "text": [
            "2019-02-16 20:48:23 | itr #18 | Processing samples...\n",
            "2019-02-16 20:48:23 | itr #18 | Logging diagnostics...\n",
            "2019-02-16 20:48:23 | itr #18 | Optimizing policy...\n",
            "2019-02-16 20:48:23 | itr #18 | Computing loss before\n",
            "2019-02-16 20:48:23 | itr #18 | Computing KL before\n",
            "2019-02-16 20:48:23 | itr #18 | Optimizing\n",
            "2019-02-16 20:48:23 | itr #18 | Start CG optimization: #parameters: 10528, #inputs: 131, #subsample_inputs: 131\n",
            "2019-02-16 20:48:23 | itr #18 | computing loss before\n",
            "2019-02-16 20:48:23 | itr #18 | performing update\n",
            "2019-02-16 20:48:23 | itr #18 | computing gradient\n",
            "2019-02-16 20:48:23 | itr #18 | gradient computed\n",
            "2019-02-16 20:48:23 | itr #18 | computing descent direction\n"
          ],
          "name": "stdout"
        },
        {
          "output_type": "stream",
          "text": [
            "\n",
            "Total time elapsed: 00:00:04\n"
          ],
          "name": "stderr"
        },
        {
          "output_type": "stream",
          "text": [
            "2019-02-16 20:48:23 | itr #18 | descent direction computed\n",
            "2019-02-16 20:48:23 | itr #18 | backtrack iters: 1\n",
            "2019-02-16 20:48:23 | itr #18 | computing loss after\n",
            "2019-02-16 20:48:23 | itr #18 | optimization finished\n",
            "2019-02-16 20:48:23 | itr #18 | Computing KL after\n",
            "2019-02-16 20:48:23 | itr #18 | Computing loss after\n",
            "2019-02-16 20:48:23 | itr #18 | Fitting baseline...\n",
            "2019-02-16 20:48:23 | itr #18 | Saving snapshot...\n",
            "2019-02-16 20:48:23 | itr #18 | Saved\n",
            "2019-02-16 20:48:23 | --------------------------  -------------\n",
            "2019-02-16 20:48:23 | AverageDiscountedReturn       8.07301\n",
            "2019-02-16 20:48:23 | AverageReturn                 4.38168\n",
            "2019-02-16 20:48:23 | Baseline/ExplainedVariance    0.454116\n",
            "2019-02-16 20:48:23 | Entropy                       5.13957\n",
            "2019-02-16 20:48:23 | EnvExecTime                   0.84081\n",
            "2019-02-16 20:48:23 | Iteration                    18\n",
            "2019-02-16 20:48:23 | ItrTime                       5.04581\n",
            "2019-02-16 20:48:23 | MaxReturn                   110\n",
            "2019-02-16 20:48:23 | MinReturn                   -96\n",
            "2019-02-16 20:48:23 | NumTrajs                    131\n",
            "2019-02-16 20:48:23 | Perplexity                  170.642\n",
            "2019-02-16 20:48:23 | PolicyExecTime                3.75247\n",
            "2019-02-16 20:48:23 | ProcessExecTime               0.0403149\n",
            "2019-02-16 20:48:23 | StdReturn                    58.8275\n",
            "2019-02-16 20:48:23 | Time                        104.806\n",
            "2019-02-16 20:48:23 | policy/Entropy                0.00895115\n",
            "2019-02-16 20:48:23 | policy/KL                     0.00672464\n",
            "2019-02-16 20:48:23 | policy/KLBefore               0\n",
            "2019-02-16 20:48:23 | policy/LossAfter             -0.0540822\n",
            "2019-02-16 20:48:23 | policy/LossBefore            -1.36434e-08\n",
            "2019-02-16 20:48:23 | policy/dLoss                  0.0540822\n",
            "2019-02-16 20:48:23 | --------------------------  -------------\n",
            "2019-02-16 20:48:23 | itr #19 | Obtaining samples...\n",
            "2019-02-16 20:48:23 | itr #19 | Obtaining samples for iteration 19...\n"
          ],
          "name": "stdout"
        },
        {
          "output_type": "stream",
          "text": [
            "0% [##############################] 100% | ETA: 00:00:00"
          ],
          "name": "stderr"
        },
        {
          "output_type": "stream",
          "text": [
            "2019-02-16 20:48:28 | itr #19 | Processing samples...\n",
            "2019-02-16 20:48:28 | itr #19 | Logging diagnostics...\n",
            "2019-02-16 20:48:28 | itr #19 | Optimizing policy...\n",
            "2019-02-16 20:48:28 | itr #19 | Computing loss before\n",
            "2019-02-16 20:48:28 | itr #19 | Computing KL before\n",
            "2019-02-16 20:48:28 | itr #19 | Optimizing\n",
            "2019-02-16 20:48:28 | itr #19 | Start CG optimization: #parameters: 10528, #inputs: 124, #subsample_inputs: 124\n",
            "2019-02-16 20:48:28 | itr #19 | computing loss before\n",
            "2019-02-16 20:48:28 | itr #19 | performing update\n",
            "2019-02-16 20:48:28 | itr #19 | computing gradient\n",
            "2019-02-16 20:48:28 | itr #19 | gradient computed\n",
            "2019-02-16 20:48:28 | itr #19 | computing descent direction\n"
          ],
          "name": "stdout"
        },
        {
          "output_type": "stream",
          "text": [
            "\n",
            "Total time elapsed: 00:00:04\n"
          ],
          "name": "stderr"
        },
        {
          "output_type": "stream",
          "text": [
            "2019-02-16 20:48:28 | itr #19 | descent direction computed\n",
            "2019-02-16 20:48:28 | itr #19 | backtrack iters: 1\n",
            "2019-02-16 20:48:28 | itr #19 | computing loss after\n",
            "2019-02-16 20:48:28 | itr #19 | optimization finished\n",
            "2019-02-16 20:48:28 | itr #19 | Computing KL after\n",
            "2019-02-16 20:48:28 | itr #19 | Computing loss after\n",
            "2019-02-16 20:48:28 | itr #19 | Fitting baseline...\n",
            "2019-02-16 20:48:28 | itr #19 | Saving snapshot...\n",
            "2019-02-16 20:48:28 | itr #19 | Saved\n",
            "2019-02-16 20:48:28 | --------------------------  --------------\n",
            "2019-02-16 20:48:28 | AverageDiscountedReturn       10.2963\n",
            "2019-02-16 20:48:28 | AverageReturn                  6.95161\n",
            "2019-02-16 20:48:28 | Baseline/ExplainedVariance     0.522053\n",
            "2019-02-16 20:48:28 | Entropy                        5.11358\n",
            "2019-02-16 20:48:28 | EnvExecTime                    0.824674\n",
            "2019-02-16 20:48:28 | Iteration                     19\n",
            "2019-02-16 20:48:28 | ItrTime                        4.96691\n",
            "2019-02-16 20:48:28 | MaxReturn                     90\n",
            "2019-02-16 20:48:28 | MinReturn                   -144\n",
            "2019-02-16 20:48:28 | NumTrajs                     124\n",
            "2019-02-16 20:48:28 | Perplexity                   166.265\n",
            "2019-02-16 20:48:28 | PolicyExecTime                 3.7003\n",
            "2019-02-16 20:48:28 | ProcessExecTime                0.0386548\n",
            "2019-02-16 20:48:28 | StdReturn                     63.5102\n",
            "2019-02-16 20:48:28 | Time                         109.803\n",
            "2019-02-16 20:48:28 | policy/Entropy                 0.00988856\n",
            "2019-02-16 20:48:28 | policy/KL                      0.0069379\n",
            "2019-02-16 20:48:28 | policy/KLBefore                0\n",
            "2019-02-16 20:48:28 | policy/LossAfter              -0.0492747\n",
            "2019-02-16 20:48:28 | policy/LossBefore             -3.80708e-09\n",
            "2019-02-16 20:48:28 | policy/dLoss                   0.0492747\n",
            "2019-02-16 20:48:28 | --------------------------  --------------\n",
            "2019-02-16 20:48:28 | itr #20 | Obtaining samples...\n",
            "2019-02-16 20:48:28 | itr #20 | Obtaining samples for iteration 20...\n"
          ],
          "name": "stdout"
        },
        {
          "output_type": "stream",
          "text": [
            "0% [##############################] 100% | ETA: 00:00:00"
          ],
          "name": "stderr"
        },
        {
          "output_type": "stream",
          "text": [
            "2019-02-16 20:48:33 | itr #20 | Processing samples...\n",
            "2019-02-16 20:48:33 | itr #20 | Logging diagnostics...\n",
            "2019-02-16 20:48:33 | itr #20 | Optimizing policy...\n",
            "2019-02-16 20:48:33 | itr #20 | Computing loss before\n",
            "2019-02-16 20:48:33 | itr #20 | Computing KL before\n",
            "2019-02-16 20:48:33 | itr #20 | Optimizing\n",
            "2019-02-16 20:48:33 | itr #20 | Start CG optimization: #parameters: 10528, #inputs: 136, #subsample_inputs: 136\n",
            "2019-02-16 20:48:33 | itr #20 | computing loss before\n",
            "2019-02-16 20:48:33 | itr #20 | performing update\n",
            "2019-02-16 20:48:33 | itr #20 | computing gradient\n",
            "2019-02-16 20:48:33 | itr #20 | gradient computed\n",
            "2019-02-16 20:48:33 | itr #20 | computing descent direction\n"
          ],
          "name": "stdout"
        },
        {
          "output_type": "stream",
          "text": [
            "\n",
            "Total time elapsed: 00:00:04\n"
          ],
          "name": "stderr"
        },
        {
          "output_type": "stream",
          "text": [
            "2019-02-16 20:48:33 | itr #20 | descent direction computed\n",
            "2019-02-16 20:48:33 | itr #20 | backtrack iters: 0\n",
            "2019-02-16 20:48:33 | itr #20 | computing loss after\n",
            "2019-02-16 20:48:33 | itr #20 | optimization finished\n",
            "2019-02-16 20:48:33 | itr #20 | Computing KL after\n",
            "2019-02-16 20:48:33 | itr #20 | Computing loss after\n",
            "2019-02-16 20:48:33 | itr #20 | Fitting baseline...\n",
            "2019-02-16 20:48:33 | itr #20 | Saving snapshot...\n",
            "2019-02-16 20:48:33 | itr #20 | Saved\n",
            "2019-02-16 20:48:33 | --------------------------  -------------\n",
            "2019-02-16 20:48:33 | AverageDiscountedReturn      31.7611\n",
            "2019-02-16 20:48:33 | AverageReturn                31.8235\n",
            "2019-02-16 20:48:33 | Baseline/ExplainedVariance    0.563042\n",
            "2019-02-16 20:48:33 | Entropy                       4.95874\n",
            "2019-02-16 20:48:33 | EnvExecTime                   0.833375\n",
            "2019-02-16 20:48:33 | Iteration                    20\n",
            "2019-02-16 20:48:33 | ItrTime                       4.92836\n",
            "2019-02-16 20:48:33 | MaxReturn                   110\n",
            "2019-02-16 20:48:33 | MinReturn                   -95\n",
            "2019-02-16 20:48:33 | NumTrajs                    136\n",
            "2019-02-16 20:48:33 | Perplexity                  142.414\n",
            "2019-02-16 20:48:33 | PolicyExecTime                3.63314\n",
            "2019-02-16 20:48:33 | ProcessExecTime               0.0403228\n",
            "2019-02-16 20:48:33 | StdReturn                    61.3435\n",
            "2019-02-16 20:48:33 | Time                        114.797\n",
            "2019-02-16 20:48:33 | policy/Entropy                0.0113522\n",
            "2019-02-16 20:48:33 | policy/KL                     0.00961936\n",
            "2019-02-16 20:48:33 | policy/KLBefore               0\n",
            "2019-02-16 20:48:33 | policy/LossAfter             -0.053737\n",
            "2019-02-16 20:48:33 | policy/LossBefore             6.44219e-09\n",
            "2019-02-16 20:48:33 | policy/dLoss                  0.053737\n",
            "2019-02-16 20:48:33 | --------------------------  -------------\n",
            "2019-02-16 20:48:33 | itr #21 | Obtaining samples...\n",
            "2019-02-16 20:48:33 | itr #21 | Obtaining samples for iteration 21...\n"
          ],
          "name": "stdout"
        },
        {
          "output_type": "stream",
          "text": [
            "0% [##############################] 100% | ETA: 00:00:00"
          ],
          "name": "stderr"
        },
        {
          "output_type": "stream",
          "text": [
            "2019-02-16 20:48:38 | itr #21 | Processing samples...\n",
            "2019-02-16 20:48:38 | itr #21 | Logging diagnostics...\n",
            "2019-02-16 20:48:38 | itr #21 | Optimizing policy...\n",
            "2019-02-16 20:48:38 | itr #21 | Computing loss before\n",
            "2019-02-16 20:48:38 | itr #21 | Computing KL before\n",
            "2019-02-16 20:48:38 | itr #21 | Optimizing\n",
            "2019-02-16 20:48:38 | itr #21 | Start CG optimization: #parameters: 10528, #inputs: 127, #subsample_inputs: 127\n",
            "2019-02-16 20:48:38 | itr #21 | computing loss before\n",
            "2019-02-16 20:48:38 | itr #21 | performing update\n",
            "2019-02-16 20:48:38 | itr #21 | computing gradient\n",
            "2019-02-16 20:48:38 | itr #21 | gradient computed\n",
            "2019-02-16 20:48:38 | itr #21 | computing descent direction\n"
          ],
          "name": "stdout"
        },
        {
          "output_type": "stream",
          "text": [
            "\n",
            "Total time elapsed: 00:00:04\n"
          ],
          "name": "stderr"
        },
        {
          "output_type": "stream",
          "text": [
            "2019-02-16 20:48:38 | itr #21 | descent direction computed\n",
            "2019-02-16 20:48:39 | itr #21 | backtrack iters: 1\n",
            "2019-02-16 20:48:39 | itr #21 | computing loss after\n",
            "2019-02-16 20:48:39 | itr #21 | optimization finished\n",
            "2019-02-16 20:48:39 | itr #21 | Computing KL after\n",
            "2019-02-16 20:48:39 | itr #21 | Computing loss after\n",
            "2019-02-16 20:48:39 | itr #21 | Fitting baseline...\n",
            "2019-02-16 20:48:39 | itr #21 | Saving snapshot...\n",
            "2019-02-16 20:48:39 | itr #21 | Saved\n",
            "2019-02-16 20:48:39 | --------------------------  --------------\n",
            "2019-02-16 20:48:39 | AverageDiscountedReturn       15.8944\n",
            "2019-02-16 20:48:39 | AverageReturn                 13.4094\n",
            "2019-02-16 20:48:39 | Baseline/ExplainedVariance     0.461282\n",
            "2019-02-16 20:48:39 | Entropy                        5.02853\n",
            "2019-02-16 20:48:39 | EnvExecTime                    0.950857\n",
            "2019-02-16 20:48:39 | Iteration                     21\n",
            "2019-02-16 20:48:39 | ItrTime                        5.13546\n",
            "2019-02-16 20:48:39 | MaxReturn                    110\n",
            "2019-02-16 20:48:39 | MinReturn                   -116\n",
            "2019-02-16 20:48:39 | NumTrajs                     127\n",
            "2019-02-16 20:48:39 | Perplexity                   152.709\n",
            "2019-02-16 20:48:39 | PolicyExecTime                 3.73128\n",
            "2019-02-16 20:48:39 | ProcessExecTime                0.0396304\n",
            "2019-02-16 20:48:39 | StdReturn                     64.9436\n",
            "2019-02-16 20:48:39 | Time                         119.994\n",
            "2019-02-16 20:48:39 | policy/Entropy                 0.0106312\n",
            "2019-02-16 20:48:39 | policy/KL                      0.00715961\n",
            "2019-02-16 20:48:39 | policy/KLBefore                0\n",
            "2019-02-16 20:48:39 | policy/LossAfter              -0.0493469\n",
            "2019-02-16 20:48:39 | policy/LossBefore             -9.44232e-10\n",
            "2019-02-16 20:48:39 | policy/dLoss                   0.0493469\n",
            "2019-02-16 20:48:39 | --------------------------  --------------\n",
            "2019-02-16 20:48:39 | itr #22 | Obtaining samples...\n",
            "2019-02-16 20:48:39 | itr #22 | Obtaining samples for iteration 22...\n"
          ],
          "name": "stdout"
        },
        {
          "output_type": "stream",
          "text": [
            "0% [##############################] 100% | ETA: 00:00:00"
          ],
          "name": "stderr"
        },
        {
          "output_type": "stream",
          "text": [
            "2019-02-16 20:48:43 | itr #22 | Processing samples...\n",
            "2019-02-16 20:48:43 | itr #22 | Logging diagnostics...\n",
            "2019-02-16 20:48:43 | itr #22 | Optimizing policy...\n",
            "2019-02-16 20:48:43 | itr #22 | Computing loss before\n",
            "2019-02-16 20:48:43 | itr #22 | Computing KL before\n",
            "2019-02-16 20:48:43 | itr #22 | Optimizing\n",
            "2019-02-16 20:48:43 | itr #22 | Start CG optimization: #parameters: 10528, #inputs: 125, #subsample_inputs: 125\n",
            "2019-02-16 20:48:43 | itr #22 | computing loss before\n",
            "2019-02-16 20:48:43 | itr #22 | performing update\n",
            "2019-02-16 20:48:43 | itr #22 | computing gradient\n",
            "2019-02-16 20:48:43 | itr #22 | gradient computed\n",
            "2019-02-16 20:48:43 | itr #22 | computing descent direction\n"
          ],
          "name": "stdout"
        },
        {
          "output_type": "stream",
          "text": [
            "\n",
            "Total time elapsed: 00:00:04\n"
          ],
          "name": "stderr"
        },
        {
          "output_type": "stream",
          "text": [
            "2019-02-16 20:48:44 | itr #22 | descent direction computed\n",
            "2019-02-16 20:48:44 | itr #22 | backtrack iters: 0\n",
            "2019-02-16 20:48:44 | itr #22 | computing loss after\n",
            "2019-02-16 20:48:44 | itr #22 | optimization finished\n",
            "2019-02-16 20:48:44 | itr #22 | Computing KL after\n",
            "2019-02-16 20:48:44 | itr #22 | Computing loss after\n",
            "2019-02-16 20:48:44 | itr #22 | Fitting baseline...\n",
            "2019-02-16 20:48:44 | itr #22 | Saving snapshot...\n",
            "2019-02-16 20:48:44 | itr #22 | Saved\n",
            "2019-02-16 20:48:44 | --------------------------  --------------\n",
            "2019-02-16 20:48:44 | AverageDiscountedReturn       11.5479\n",
            "2019-02-16 20:48:44 | AverageReturn                  8.6\n",
            "2019-02-16 20:48:44 | Baseline/ExplainedVariance     0.478173\n",
            "2019-02-16 20:48:44 | Entropy                        5.03763\n",
            "2019-02-16 20:48:44 | EnvExecTime                    0.832895\n",
            "2019-02-16 20:48:44 | Iteration                     22\n",
            "2019-02-16 20:48:44 | ItrTime                        5.03759\n",
            "2019-02-16 20:48:44 | MaxReturn                    110\n",
            "2019-02-16 20:48:44 | MinReturn                   -138\n",
            "2019-02-16 20:48:44 | NumTrajs                     125\n",
            "2019-02-16 20:48:44 | Perplexity                   154.105\n",
            "2019-02-16 20:48:44 | PolicyExecTime                 3.76246\n",
            "2019-02-16 20:48:44 | ProcessExecTime                0.0391099\n",
            "2019-02-16 20:48:44 | StdReturn                     67.6012\n",
            "2019-02-16 20:48:44 | Time                         125.085\n",
            "2019-02-16 20:48:44 | policy/Entropy                 0.0107275\n",
            "2019-02-16 20:48:44 | policy/KL                      0.00965597\n",
            "2019-02-16 20:48:44 | policy/KLBefore                0\n",
            "2019-02-16 20:48:44 | policy/LossAfter              -0.0497019\n",
            "2019-02-16 20:48:44 | policy/LossBefore              4.71766e-10\n",
            "2019-02-16 20:48:44 | policy/dLoss                   0.0497019\n",
            "2019-02-16 20:48:44 | --------------------------  --------------\n",
            "2019-02-16 20:48:44 | itr #23 | Obtaining samples...\n",
            "2019-02-16 20:48:44 | itr #23 | Obtaining samples for iteration 23...\n"
          ],
          "name": "stdout"
        },
        {
          "output_type": "stream",
          "text": [
            "0% [##############################] 100% | ETA: 00:00:00"
          ],
          "name": "stderr"
        },
        {
          "output_type": "stream",
          "text": [
            "2019-02-16 20:48:48 | itr #23 | Processing samples...\n",
            "2019-02-16 20:48:48 | itr #23 | Logging diagnostics...\n",
            "2019-02-16 20:48:48 | itr #23 | Optimizing policy...\n",
            "2019-02-16 20:48:49 | itr #23 | Computing loss before\n",
            "2019-02-16 20:48:49 | itr #23 | Computing KL before\n",
            "2019-02-16 20:48:49 | itr #23 | Optimizing\n",
            "2019-02-16 20:48:49 | itr #23 | Start CG optimization: #parameters: 10528, #inputs: 127, #subsample_inputs: 127\n",
            "2019-02-16 20:48:49 | itr #23 | computing loss before\n",
            "2019-02-16 20:48:49 | itr #23 | performing update\n",
            "2019-02-16 20:48:49 | itr #23 | computing gradient\n",
            "2019-02-16 20:48:49 | itr #23 | gradient computed\n",
            "2019-02-16 20:48:49 | itr #23 | computing descent direction\n"
          ],
          "name": "stdout"
        },
        {
          "output_type": "stream",
          "text": [
            "\n",
            "Total time elapsed: 00:00:04\n"
          ],
          "name": "stderr"
        },
        {
          "output_type": "stream",
          "text": [
            "2019-02-16 20:48:49 | itr #23 | descent direction computed\n",
            "2019-02-16 20:48:49 | itr #23 | backtrack iters: 0\n",
            "2019-02-16 20:48:49 | itr #23 | computing loss after\n",
            "2019-02-16 20:48:49 | itr #23 | optimization finished\n",
            "2019-02-16 20:48:49 | itr #23 | Computing KL after\n",
            "2019-02-16 20:48:49 | itr #23 | Computing loss after\n",
            "2019-02-16 20:48:49 | itr #23 | Fitting baseline...\n",
            "2019-02-16 20:48:49 | itr #23 | Saving snapshot...\n",
            "2019-02-16 20:48:49 | itr #23 | Saved\n",
            "2019-02-16 20:48:49 | --------------------------  --------------\n",
            "2019-02-16 20:48:49 | AverageDiscountedReturn       14.2409\n",
            "2019-02-16 20:48:49 | AverageReturn                 11.8583\n",
            "2019-02-16 20:48:49 | Baseline/ExplainedVariance     0.568703\n",
            "2019-02-16 20:48:49 | Entropy                        5.01049\n",
            "2019-02-16 20:48:49 | EnvExecTime                    0.838516\n",
            "2019-02-16 20:48:49 | Iteration                     23\n",
            "2019-02-16 20:48:49 | ItrTime                        5.0959\n",
            "2019-02-16 20:48:49 | MaxReturn                    110\n",
            "2019-02-16 20:48:49 | MinReturn                   -180\n",
            "2019-02-16 20:48:49 | NumTrajs                     127\n",
            "2019-02-16 20:48:49 | Perplexity                   149.979\n",
            "2019-02-16 20:48:49 | PolicyExecTime                 3.81719\n",
            "2019-02-16 20:48:49 | ProcessExecTime                0.0392141\n",
            "2019-02-16 20:48:49 | StdReturn                     67.2568\n",
            "2019-02-16 20:48:49 | Time                         130.229\n",
            "2019-02-16 20:48:49 | policy/Entropy                 0.0113442\n",
            "2019-02-16 20:48:49 | policy/KL                      0.00894733\n",
            "2019-02-16 20:48:49 | policy/KLBefore                0\n",
            "2019-02-16 20:48:49 | policy/LossAfter              -0.0523649\n",
            "2019-02-16 20:48:49 | policy/LossBefore             -9.49736e-09\n",
            "2019-02-16 20:48:49 | policy/dLoss                   0.0523649\n",
            "2019-02-16 20:48:49 | --------------------------  --------------\n",
            "2019-02-16 20:48:49 | itr #24 | Obtaining samples...\n",
            "2019-02-16 20:48:49 | itr #24 | Obtaining samples for iteration 24...\n"
          ],
          "name": "stdout"
        },
        {
          "output_type": "stream",
          "text": [
            "0% [##############################] 100% | ETA: 00:00:00"
          ],
          "name": "stderr"
        },
        {
          "output_type": "stream",
          "text": [
            "2019-02-16 20:48:53 | itr #24 | Processing samples...\n",
            "2019-02-16 20:48:54 | itr #24 | Logging diagnostics...\n",
            "2019-02-16 20:48:54 | itr #24 | Optimizing policy...\n",
            "2019-02-16 20:48:54 | itr #24 | Computing loss before\n",
            "2019-02-16 20:48:54 | itr #24 | Computing KL before\n",
            "2019-02-16 20:48:54 | itr #24 | Optimizing\n",
            "2019-02-16 20:48:54 | itr #24 | Start CG optimization: #parameters: 10528, #inputs: 130, #subsample_inputs: 130\n",
            "2019-02-16 20:48:54 | itr #24 | computing loss before\n",
            "2019-02-16 20:48:54 | itr #24 | performing update\n",
            "2019-02-16 20:48:54 | itr #24 | computing gradient\n",
            "2019-02-16 20:48:54 | itr #24 | gradient computed\n",
            "2019-02-16 20:48:54 | itr #24 | computing descent direction\n"
          ],
          "name": "stdout"
        },
        {
          "output_type": "stream",
          "text": [
            "\n",
            "Total time elapsed: 00:00:04\n"
          ],
          "name": "stderr"
        },
        {
          "output_type": "stream",
          "text": [
            "2019-02-16 20:48:54 | itr #24 | descent direction computed\n",
            "2019-02-16 20:48:54 | itr #24 | backtrack iters: 1\n",
            "2019-02-16 20:48:54 | itr #24 | computing loss after\n",
            "2019-02-16 20:48:54 | itr #24 | optimization finished\n",
            "2019-02-16 20:48:54 | itr #24 | Computing KL after\n",
            "2019-02-16 20:48:54 | itr #24 | Computing loss after\n",
            "2019-02-16 20:48:54 | itr #24 | Fitting baseline...\n",
            "2019-02-16 20:48:54 | itr #24 | Saving snapshot...\n",
            "2019-02-16 20:48:54 | itr #24 | Saved\n",
            "2019-02-16 20:48:54 | --------------------------  --------------\n",
            "2019-02-16 20:48:54 | AverageDiscountedReturn       24.9019\n",
            "2019-02-16 20:48:54 | AverageReturn                 23.9077\n",
            "2019-02-16 20:48:54 | Baseline/ExplainedVariance     0.487694\n",
            "2019-02-16 20:48:54 | Entropy                        4.93902\n",
            "2019-02-16 20:48:54 | EnvExecTime                    0.82676\n",
            "2019-02-16 20:48:54 | Iteration                     24\n",
            "2019-02-16 20:48:54 | ItrTime                        5.001\n",
            "2019-02-16 20:48:54 | MaxReturn                    110\n",
            "2019-02-16 20:48:54 | MinReturn                   -111\n",
            "2019-02-16 20:48:54 | NumTrajs                     130\n",
            "2019-02-16 20:48:54 | Perplexity                   139.634\n",
            "2019-02-16 20:48:54 | PolicyExecTime                 3.72381\n",
            "2019-02-16 20:48:54 | ProcessExecTime                0.0400345\n",
            "2019-02-16 20:48:54 | StdReturn                     62.5604\n",
            "2019-02-16 20:48:54 | Time                         135.259\n",
            "2019-02-16 20:48:54 | policy/Entropy                 0.0122534\n",
            "2019-02-16 20:48:54 | policy/KL                      0.00772904\n",
            "2019-02-16 20:48:54 | policy/KLBefore                0\n",
            "2019-02-16 20:48:54 | policy/LossAfter              -0.0420983\n",
            "2019-02-16 20:48:54 | policy/LossBefore              1.62387e-08\n",
            "2019-02-16 20:48:54 | policy/dLoss                   0.0420983\n",
            "2019-02-16 20:48:54 | --------------------------  --------------\n",
            "2019-02-16 20:48:54 | itr #25 | Obtaining samples...\n",
            "2019-02-16 20:48:54 | itr #25 | Obtaining samples for iteration 25...\n"
          ],
          "name": "stdout"
        },
        {
          "output_type": "stream",
          "text": [
            "0% [##############################] 100% | ETA: 00:00:00"
          ],
          "name": "stderr"
        },
        {
          "output_type": "stream",
          "text": [
            "2019-02-16 20:48:59 | itr #25 | Processing samples...\n",
            "2019-02-16 20:48:59 | itr #25 | Logging diagnostics...\n",
            "2019-02-16 20:48:59 | itr #25 | Optimizing policy...\n",
            "2019-02-16 20:48:59 | itr #25 | Computing loss before\n",
            "2019-02-16 20:48:59 | itr #25 | Computing KL before\n",
            "2019-02-16 20:48:59 | itr #25 | Optimizing\n",
            "2019-02-16 20:48:59 | itr #25 | Start CG optimization: #parameters: 10528, #inputs: 128, #subsample_inputs: 128\n",
            "2019-02-16 20:48:59 | itr #25 | computing loss before\n",
            "2019-02-16 20:48:59 | itr #25 | performing update\n",
            "2019-02-16 20:48:59 | itr #25 | computing gradient\n",
            "2019-02-16 20:48:59 | itr #25 | gradient computed\n",
            "2019-02-16 20:48:59 | itr #25 | computing descent direction\n"
          ],
          "name": "stdout"
        },
        {
          "output_type": "stream",
          "text": [
            "\n",
            "Total time elapsed: 00:00:04\n"
          ],
          "name": "stderr"
        },
        {
          "output_type": "stream",
          "text": [
            "2019-02-16 20:48:59 | itr #25 | descent direction computed\n",
            "2019-02-16 20:48:59 | itr #25 | backtrack iters: 1\n",
            "2019-02-16 20:48:59 | itr #25 | computing loss after\n",
            "2019-02-16 20:48:59 | itr #25 | optimization finished\n",
            "2019-02-16 20:48:59 | itr #25 | Computing KL after\n",
            "2019-02-16 20:48:59 | itr #25 | Computing loss after\n",
            "2019-02-16 20:48:59 | itr #25 | Fitting baseline...\n",
            "2019-02-16 20:48:59 | itr #25 | Saving snapshot...\n",
            "2019-02-16 20:48:59 | itr #25 | Saved\n",
            "2019-02-16 20:48:59 | --------------------------  -------------\n",
            "2019-02-16 20:48:59 | AverageDiscountedReturn        9.19723\n",
            "2019-02-16 20:48:59 | AverageReturn                  5.74219\n",
            "2019-02-16 20:48:59 | Baseline/ExplainedVariance     0.474628\n",
            "2019-02-16 20:48:59 | Entropy                        5.00462\n",
            "2019-02-16 20:48:59 | EnvExecTime                    0.853901\n",
            "2019-02-16 20:48:59 | Iteration                     25\n",
            "2019-02-16 20:48:59 | ItrTime                        5.13122\n",
            "2019-02-16 20:48:59 | MaxReturn                    110\n",
            "2019-02-16 20:48:59 | MinReturn                   -187\n",
            "2019-02-16 20:48:59 | NumTrajs                     128\n",
            "2019-02-16 20:48:59 | Perplexity                   149.1\n",
            "2019-02-16 20:48:59 | PolicyExecTime                 3.82344\n",
            "2019-02-16 20:48:59 | ProcessExecTime                0.0400171\n",
            "2019-02-16 20:48:59 | StdReturn                     69.4377\n",
            "2019-02-16 20:48:59 | Time                         140.437\n",
            "2019-02-16 20:48:59 | policy/Entropy                 0.0116416\n",
            "2019-02-16 20:48:59 | policy/KL                      0.00719463\n",
            "2019-02-16 20:48:59 | policy/KLBefore                0\n",
            "2019-02-16 20:48:59 | policy/LossAfter              -0.0463724\n",
            "2019-02-16 20:48:59 | policy/LossBefore              1.5228e-09\n",
            "2019-02-16 20:48:59 | policy/dLoss                   0.0463724\n",
            "2019-02-16 20:48:59 | --------------------------  -------------\n",
            "2019-02-16 20:48:59 | itr #26 | Obtaining samples...\n",
            "2019-02-16 20:48:59 | itr #26 | Obtaining samples for iteration 26...\n"
          ],
          "name": "stdout"
        },
        {
          "output_type": "stream",
          "text": [
            "0% [##############################] 100% | ETA: 00:00:00"
          ],
          "name": "stderr"
        },
        {
          "output_type": "stream",
          "text": [
            "2019-02-16 20:49:04 | itr #26 | Processing samples...\n",
            "2019-02-16 20:49:04 | itr #26 | Logging diagnostics...\n",
            "2019-02-16 20:49:04 | itr #26 | Optimizing policy...\n",
            "2019-02-16 20:49:04 | itr #26 | Computing loss before\n",
            "2019-02-16 20:49:04 | itr #26 | Computing KL before\n",
            "2019-02-16 20:49:04 | itr #26 | Optimizing\n",
            "2019-02-16 20:49:04 | itr #26 | Start CG optimization: #parameters: 10528, #inputs: 126, #subsample_inputs: 126\n",
            "2019-02-16 20:49:04 | itr #26 | computing loss before\n",
            "2019-02-16 20:49:04 | itr #26 | performing update\n",
            "2019-02-16 20:49:04 | itr #26 | computing gradient\n",
            "2019-02-16 20:49:04 | itr #26 | gradient computed\n",
            "2019-02-16 20:49:04 | itr #26 | computing descent direction\n"
          ],
          "name": "stdout"
        },
        {
          "output_type": "stream",
          "text": [
            "\n",
            "Total time elapsed: 00:00:04\n"
          ],
          "name": "stderr"
        },
        {
          "output_type": "stream",
          "text": [
            "2019-02-16 20:49:04 | itr #26 | descent direction computed\n",
            "2019-02-16 20:49:04 | itr #26 | backtrack iters: 1\n",
            "2019-02-16 20:49:04 | itr #26 | computing loss after\n",
            "2019-02-16 20:49:04 | itr #26 | optimization finished\n",
            "2019-02-16 20:49:04 | itr #26 | Computing KL after\n",
            "2019-02-16 20:49:04 | itr #26 | Computing loss after\n",
            "2019-02-16 20:49:04 | itr #26 | Fitting baseline...\n",
            "2019-02-16 20:49:04 | itr #26 | Saving snapshot...\n",
            "2019-02-16 20:49:04 | itr #26 | Saved\n",
            "2019-02-16 20:49:04 | --------------------------  --------------\n",
            "2019-02-16 20:49:04 | AverageDiscountedReturn       12.2133\n",
            "2019-02-16 20:49:04 | AverageReturn                  9.23016\n",
            "2019-02-16 20:49:04 | Baseline/ExplainedVariance     0.472314\n",
            "2019-02-16 20:49:04 | Entropy                        4.95165\n",
            "2019-02-16 20:49:04 | EnvExecTime                    0.855563\n",
            "2019-02-16 20:49:04 | Iteration                     26\n",
            "2019-02-16 20:49:04 | ItrTime                        5.13394\n",
            "2019-02-16 20:49:04 | MaxReturn                    110\n",
            "2019-02-16 20:49:04 | MinReturn                   -111\n",
            "2019-02-16 20:49:04 | NumTrajs                     126\n",
            "2019-02-16 20:49:04 | Perplexity                   141.408\n",
            "2019-02-16 20:49:04 | PolicyExecTime                 3.8348\n",
            "2019-02-16 20:49:04 | ProcessExecTime                0.0400119\n",
            "2019-02-16 20:49:04 | StdReturn                     66.1514\n",
            "2019-02-16 20:49:04 | Time                         145.614\n",
            "2019-02-16 20:49:04 | policy/Entropy                 0.0120135\n",
            "2019-02-16 20:49:04 | policy/KL                      0.006846\n",
            "2019-02-16 20:49:04 | policy/KLBefore                0\n",
            "2019-02-16 20:49:04 | policy/LossAfter              -0.048261\n",
            "2019-02-16 20:49:04 | policy/LossBefore             -7.53334e-09\n",
            "2019-02-16 20:49:04 | policy/dLoss                   0.048261\n",
            "2019-02-16 20:49:04 | --------------------------  --------------\n",
            "2019-02-16 20:49:04 | itr #27 | Obtaining samples...\n",
            "2019-02-16 20:49:04 | itr #27 | Obtaining samples for iteration 27...\n"
          ],
          "name": "stdout"
        },
        {
          "output_type": "stream",
          "text": [
            "0% [##############################] 100% | ETA: 00:00:00"
          ],
          "name": "stderr"
        },
        {
          "output_type": "stream",
          "text": [
            "2019-02-16 20:49:09 | itr #27 | Processing samples...\n",
            "2019-02-16 20:49:09 | itr #27 | Logging diagnostics...\n",
            "2019-02-16 20:49:09 | itr #27 | Optimizing policy...\n",
            "2019-02-16 20:49:09 | itr #27 | Computing loss before\n",
            "2019-02-16 20:49:09 | itr #27 | Computing KL before\n",
            "2019-02-16 20:49:09 | itr #27 | Optimizing\n",
            "2019-02-16 20:49:09 | itr #27 | Start CG optimization: #parameters: 10528, #inputs: 127, #subsample_inputs: 127\n",
            "2019-02-16 20:49:09 | itr #27 | computing loss before\n",
            "2019-02-16 20:49:09 | itr #27 | performing update\n",
            "2019-02-16 20:49:09 | itr #27 | computing gradient\n",
            "2019-02-16 20:49:09 | itr #27 | gradient computed\n",
            "2019-02-16 20:49:09 | itr #27 | computing descent direction\n"
          ],
          "name": "stdout"
        },
        {
          "output_type": "stream",
          "text": [
            "\n",
            "Total time elapsed: 00:00:04\n"
          ],
          "name": "stderr"
        },
        {
          "output_type": "stream",
          "text": [
            "2019-02-16 20:49:09 | itr #27 | descent direction computed\n",
            "2019-02-16 20:49:09 | itr #27 | backtrack iters: 0\n",
            "2019-02-16 20:49:09 | itr #27 | computing loss after\n",
            "2019-02-16 20:49:09 | itr #27 | optimization finished\n",
            "2019-02-16 20:49:09 | itr #27 | Computing KL after\n",
            "2019-02-16 20:49:09 | itr #27 | Computing loss after\n",
            "2019-02-16 20:49:09 | itr #27 | Fitting baseline...\n",
            "2019-02-16 20:49:09 | itr #27 | Saving snapshot...\n",
            "2019-02-16 20:49:09 | itr #27 | Saved\n",
            "2019-02-16 20:49:09 | --------------------------  --------------\n",
            "2019-02-16 20:49:09 | AverageDiscountedReturn       12.9336\n",
            "2019-02-16 20:49:09 | AverageReturn                  9.94488\n",
            "2019-02-16 20:49:09 | Baseline/ExplainedVariance     0.544468\n",
            "2019-02-16 20:49:09 | Entropy                        4.95621\n",
            "2019-02-16 20:49:09 | EnvExecTime                    0.844103\n",
            "2019-02-16 20:49:09 | Iteration                     27\n",
            "2019-02-16 20:49:09 | ItrTime                        5.02672\n",
            "2019-02-16 20:49:09 | MaxReturn                    110\n",
            "2019-02-16 20:49:09 | MinReturn                   -141\n",
            "2019-02-16 20:49:09 | NumTrajs                     127\n",
            "2019-02-16 20:49:09 | Perplexity                   142.054\n",
            "2019-02-16 20:49:09 | PolicyExecTime                 3.75049\n",
            "2019-02-16 20:49:09 | ProcessExecTime                0.0395217\n",
            "2019-02-16 20:49:09 | StdReturn                     65.7574\n",
            "2019-02-16 20:49:09 | Time                         150.679\n",
            "2019-02-16 20:49:09 | policy/Entropy                 0.0125388\n",
            "2019-02-16 20:49:09 | policy/KL                      0.00929096\n",
            "2019-02-16 20:49:09 | policy/KLBefore                0\n",
            "2019-02-16 20:49:09 | policy/LossAfter              -0.0423416\n",
            "2019-02-16 20:49:09 | policy/LossBefore             -5.28786e-09\n",
            "2019-02-16 20:49:09 | policy/dLoss                   0.0423416\n",
            "2019-02-16 20:49:09 | --------------------------  --------------\n",
            "2019-02-16 20:49:09 | itr #28 | Obtaining samples...\n",
            "2019-02-16 20:49:09 | itr #28 | Obtaining samples for iteration 28...\n"
          ],
          "name": "stdout"
        },
        {
          "output_type": "stream",
          "text": [
            "0% [##############################] 100% | ETA: 00:00:00"
          ],
          "name": "stderr"
        },
        {
          "output_type": "stream",
          "text": [
            "2019-02-16 20:49:14 | itr #28 | Processing samples...\n",
            "2019-02-16 20:49:14 | itr #28 | Logging diagnostics...\n",
            "2019-02-16 20:49:14 | itr #28 | Optimizing policy...\n",
            "2019-02-16 20:49:14 | itr #28 | Computing loss before\n",
            "2019-02-16 20:49:14 | itr #28 | Computing KL before\n",
            "2019-02-16 20:49:14 | itr #28 | Optimizing\n",
            "2019-02-16 20:49:14 | itr #28 | Start CG optimization: #parameters: 10528, #inputs: 124, #subsample_inputs: 124\n",
            "2019-02-16 20:49:14 | itr #28 | computing loss before\n",
            "2019-02-16 20:49:14 | itr #28 | performing update\n",
            "2019-02-16 20:49:14 | itr #28 | computing gradient\n",
            "2019-02-16 20:49:14 | itr #28 | gradient computed\n",
            "2019-02-16 20:49:14 | itr #28 | computing descent direction\n"
          ],
          "name": "stdout"
        },
        {
          "output_type": "stream",
          "text": [
            "\n",
            "Total time elapsed: 00:00:04\n"
          ],
          "name": "stderr"
        },
        {
          "output_type": "stream",
          "text": [
            "2019-02-16 20:49:14 | itr #28 | descent direction computed\n",
            "2019-02-16 20:49:14 | itr #28 | backtrack iters: 0\n",
            "2019-02-16 20:49:14 | itr #28 | computing loss after\n",
            "2019-02-16 20:49:14 | itr #28 | optimization finished\n",
            "2019-02-16 20:49:14 | itr #28 | Computing KL after\n",
            "2019-02-16 20:49:14 | itr #28 | Computing loss after\n",
            "2019-02-16 20:49:14 | itr #28 | Fitting baseline...\n",
            "2019-02-16 20:49:14 | itr #28 | Saving snapshot...\n",
            "2019-02-16 20:49:14 | itr #28 | Saved\n",
            "2019-02-16 20:49:14 | --------------------------  --------------\n",
            "2019-02-16 20:49:14 | AverageDiscountedReturn       11.7975\n",
            "2019-02-16 20:49:14 | AverageReturn                  8.89516\n",
            "2019-02-16 20:49:14 | Baseline/ExplainedVariance     0.521142\n",
            "2019-02-16 20:49:14 | Entropy                        4.94186\n",
            "2019-02-16 20:49:14 | EnvExecTime                    0.830689\n",
            "2019-02-16 20:49:14 | Iteration                     28\n",
            "2019-02-16 20:49:14 | ItrTime                        5.03068\n",
            "2019-02-16 20:49:14 | MaxReturn                    110\n",
            "2019-02-16 20:49:14 | MinReturn                   -118\n",
            "2019-02-16 20:49:14 | NumTrajs                     124\n",
            "2019-02-16 20:49:14 | Perplexity                   140.031\n",
            "2019-02-16 20:49:14 | PolicyExecTime                 3.7773\n",
            "2019-02-16 20:49:14 | ProcessExecTime                0.0404694\n",
            "2019-02-16 20:49:14 | StdReturn                     67.415\n",
            "2019-02-16 20:49:14 | Time                         155.738\n",
            "2019-02-16 20:49:14 | policy/Entropy                 0.0128739\n",
            "2019-02-16 20:49:14 | policy/KL                      0.00942275\n",
            "2019-02-16 20:49:14 | policy/KLBefore                0\n",
            "2019-02-16 20:49:14 | policy/LossAfter              -0.0421951\n",
            "2019-02-16 20:49:14 | policy/LossBefore              1.52131e-08\n",
            "2019-02-16 20:49:14 | policy/dLoss                   0.0421951\n",
            "2019-02-16 20:49:14 | --------------------------  --------------\n",
            "2019-02-16 20:49:14 | itr #29 | Obtaining samples...\n",
            "2019-02-16 20:49:14 | itr #29 | Obtaining samples for iteration 29...\n"
          ],
          "name": "stdout"
        },
        {
          "output_type": "stream",
          "text": [
            "0% [##############################] 100% | ETA: 00:00:00"
          ],
          "name": "stderr"
        },
        {
          "output_type": "stream",
          "text": [
            "2019-02-16 20:49:19 | itr #29 | Processing samples...\n",
            "2019-02-16 20:49:19 | itr #29 | Logging diagnostics...\n",
            "2019-02-16 20:49:19 | itr #29 | Optimizing policy...\n",
            "2019-02-16 20:49:19 | itr #29 | Computing loss before\n",
            "2019-02-16 20:49:19 | itr #29 | Computing KL before\n",
            "2019-02-16 20:49:19 | itr #29 | Optimizing\n",
            "2019-02-16 20:49:19 | itr #29 | Start CG optimization: #parameters: 10528, #inputs: 127, #subsample_inputs: 127\n",
            "2019-02-16 20:49:19 | itr #29 | computing loss before\n",
            "2019-02-16 20:49:19 | itr #29 | performing update\n",
            "2019-02-16 20:49:19 | itr #29 | computing gradient\n",
            "2019-02-16 20:49:19 | itr #29 | gradient computed\n",
            "2019-02-16 20:49:19 | itr #29 | computing descent direction\n"
          ],
          "name": "stdout"
        },
        {
          "output_type": "stream",
          "text": [
            "\n",
            "Total time elapsed: 00:00:04\n"
          ],
          "name": "stderr"
        },
        {
          "output_type": "stream",
          "text": [
            "2019-02-16 20:49:19 | itr #29 | descent direction computed\n",
            "2019-02-16 20:49:19 | itr #29 | backtrack iters: 1\n",
            "2019-02-16 20:49:19 | itr #29 | computing loss after\n",
            "2019-02-16 20:49:19 | itr #29 | optimization finished\n",
            "2019-02-16 20:49:19 | itr #29 | Computing KL after\n",
            "2019-02-16 20:49:19 | itr #29 | Computing loss after\n",
            "2019-02-16 20:49:19 | itr #29 | Fitting baseline...\n",
            "2019-02-16 20:49:19 | itr #29 | Saving snapshot...\n",
            "2019-02-16 20:49:19 | itr #29 | Saved\n",
            "2019-02-16 20:49:19 | --------------------------  --------------\n",
            "2019-02-16 20:49:20 | AverageDiscountedReturn        6.02164\n",
            "2019-02-16 20:49:20 | AverageReturn                  1.93701\n",
            "2019-02-16 20:49:20 | Baseline/ExplainedVariance     0.447808\n",
            "2019-02-16 20:49:20 | Entropy                        4.94107\n",
            "2019-02-16 20:49:20 | EnvExecTime                    0.841379\n",
            "2019-02-16 20:49:20 | Iteration                     29\n",
            "2019-02-16 20:49:20 | ItrTime                        5.13052\n",
            "2019-02-16 20:49:20 | MaxReturn                    110\n",
            "2019-02-16 20:49:20 | MinReturn                   -215\n",
            "2019-02-16 20:49:20 | NumTrajs                     127\n",
            "2019-02-16 20:49:20 | Perplexity                   139.92\n",
            "2019-02-16 20:49:20 | PolicyExecTime                 3.82595\n",
            "2019-02-16 20:49:20 | ProcessExecTime                0.0403507\n",
            "2019-02-16 20:49:20 | StdReturn                     73.2403\n",
            "2019-02-16 20:49:20 | Time                         160.914\n",
            "2019-02-16 20:49:20 | policy/Entropy                 0.0129514\n",
            "2019-02-16 20:49:20 | policy/KL                      0.00905039\n",
            "2019-02-16 20:49:20 | policy/KLBefore                0\n",
            "2019-02-16 20:49:20 | policy/LossAfter              -0.0515851\n",
            "2019-02-16 20:49:20 | policy/LossBefore              1.53294e-08\n",
            "2019-02-16 20:49:20 | policy/dLoss                   0.0515851\n",
            "2019-02-16 20:49:20 | --------------------------  --------------\n",
            "2019-02-16 20:49:20 | itr #30 | Obtaining samples...\n",
            "2019-02-16 20:49:20 | itr #30 | Obtaining samples for iteration 30...\n"
          ],
          "name": "stdout"
        },
        {
          "output_type": "stream",
          "text": [
            "0% [##############################] 100% | ETA: 00:00:00"
          ],
          "name": "stderr"
        },
        {
          "output_type": "stream",
          "text": [
            "2019-02-16 20:49:24 | itr #30 | Processing samples...\n",
            "2019-02-16 20:49:24 | itr #30 | Logging diagnostics...\n",
            "2019-02-16 20:49:24 | itr #30 | Optimizing policy...\n",
            "2019-02-16 20:49:24 | itr #30 | Computing loss before\n",
            "2019-02-16 20:49:24 | itr #30 | Computing KL before\n",
            "2019-02-16 20:49:24 | itr #30 | Optimizing\n",
            "2019-02-16 20:49:24 | itr #30 | Start CG optimization: #parameters: 10528, #inputs: 124, #subsample_inputs: 124\n",
            "2019-02-16 20:49:24 | itr #30 | computing loss before\n",
            "2019-02-16 20:49:24 | itr #30 | performing update\n",
            "2019-02-16 20:49:24 | itr #30 | computing gradient\n",
            "2019-02-16 20:49:24 | itr #30 | gradient computed\n",
            "2019-02-16 20:49:24 | itr #30 | computing descent direction\n"
          ],
          "name": "stdout"
        },
        {
          "output_type": "stream",
          "text": [
            "\n",
            "Total time elapsed: 00:00:04\n"
          ],
          "name": "stderr"
        },
        {
          "output_type": "stream",
          "text": [
            "2019-02-16 20:49:25 | itr #30 | descent direction computed\n",
            "2019-02-16 20:49:25 | itr #30 | backtrack iters: 0\n",
            "2019-02-16 20:49:25 | itr #30 | computing loss after\n",
            "2019-02-16 20:49:25 | itr #30 | optimization finished\n",
            "2019-02-16 20:49:25 | itr #30 | Computing KL after\n",
            "2019-02-16 20:49:25 | itr #30 | Computing loss after\n",
            "2019-02-16 20:49:25 | itr #30 | Fitting baseline...\n",
            "2019-02-16 20:49:25 | itr #30 | Saving snapshot...\n",
            "2019-02-16 20:49:25 | itr #30 | Saved\n",
            "2019-02-16 20:49:25 | --------------------------  --------------\n",
            "2019-02-16 20:49:25 | AverageDiscountedReturn        8.96205\n",
            "2019-02-16 20:49:25 | AverageReturn                  5.67742\n",
            "2019-02-16 20:49:25 | Baseline/ExplainedVariance     0.362623\n",
            "2019-02-16 20:49:25 | Entropy                        4.95739\n",
            "2019-02-16 20:49:25 | EnvExecTime                    0.858176\n",
            "2019-02-16 20:49:25 | Iteration                     30\n",
            "2019-02-16 20:49:25 | ItrTime                        5.16107\n",
            "2019-02-16 20:49:25 | MaxReturn                    110\n",
            "2019-02-16 20:49:25 | MinReturn                   -130\n",
            "2019-02-16 20:49:25 | NumTrajs                     124\n",
            "2019-02-16 20:49:25 | Perplexity                   142.222\n",
            "2019-02-16 20:49:25 | PolicyExecTime                 3.86804\n",
            "2019-02-16 20:49:25 | ProcessExecTime                0.0397224\n",
            "2019-02-16 20:49:25 | StdReturn                     66.3429\n",
            "2019-02-16 20:49:25 | Time                         166.109\n",
            "2019-02-16 20:49:25 | policy/Entropy                 0.0129569\n",
            "2019-02-16 20:49:25 | policy/KL                      0.00834252\n",
            "2019-02-16 20:49:25 | policy/KLBefore                0\n",
            "2019-02-16 20:49:25 | policy/LossAfter              -0.0426502\n",
            "2019-02-16 20:49:25 | policy/LossBefore              9.32233e-09\n",
            "2019-02-16 20:49:25 | policy/dLoss                   0.0426502\n",
            "2019-02-16 20:49:25 | --------------------------  --------------\n",
            "2019-02-16 20:49:25 | itr #31 | Obtaining samples...\n",
            "2019-02-16 20:49:25 | itr #31 | Obtaining samples for iteration 31...\n"
          ],
          "name": "stdout"
        },
        {
          "output_type": "stream",
          "text": [
            "0% [##############################] 100% | ETA: 00:00:00"
          ],
          "name": "stderr"
        },
        {
          "output_type": "stream",
          "text": [
            "2019-02-16 20:49:30 | itr #31 | Processing samples...\n",
            "2019-02-16 20:49:30 | itr #31 | Logging diagnostics...\n",
            "2019-02-16 20:49:30 | itr #31 | Optimizing policy...\n",
            "2019-02-16 20:49:30 | itr #31 | Computing loss before\n",
            "2019-02-16 20:49:30 | itr #31 | Computing KL before\n",
            "2019-02-16 20:49:30 | itr #31 | Optimizing\n",
            "2019-02-16 20:49:30 | itr #31 | Start CG optimization: #parameters: 10528, #inputs: 127, #subsample_inputs: 127\n",
            "2019-02-16 20:49:30 | itr #31 | computing loss before\n",
            "2019-02-16 20:49:30 | itr #31 | performing update\n",
            "2019-02-16 20:49:30 | itr #31 | computing gradient\n",
            "2019-02-16 20:49:30 | itr #31 | gradient computed\n",
            "2019-02-16 20:49:30 | itr #31 | computing descent direction\n"
          ],
          "name": "stdout"
        },
        {
          "output_type": "stream",
          "text": [
            "\n",
            "Total time elapsed: 00:00:04\n"
          ],
          "name": "stderr"
        },
        {
          "output_type": "stream",
          "text": [
            "2019-02-16 20:49:30 | itr #31 | descent direction computed\n",
            "2019-02-16 20:49:30 | itr #31 | backtrack iters: 1\n",
            "2019-02-16 20:49:30 | itr #31 | computing loss after\n",
            "2019-02-16 20:49:30 | itr #31 | optimization finished\n",
            "2019-02-16 20:49:30 | itr #31 | Computing KL after\n",
            "2019-02-16 20:49:30 | itr #31 | Computing loss after\n",
            "2019-02-16 20:49:30 | itr #31 | Fitting baseline...\n",
            "2019-02-16 20:49:30 | itr #31 | Saving snapshot...\n",
            "2019-02-16 20:49:30 | itr #31 | Saved\n",
            "2019-02-16 20:49:30 | --------------------------  -------------\n",
            "2019-02-16 20:49:30 | AverageDiscountedReturn       22.2936\n",
            "2019-02-16 20:49:30 | AverageReturn                 21.0394\n",
            "2019-02-16 20:49:30 | Baseline/ExplainedVariance     0.562576\n",
            "2019-02-16 20:49:30 | Entropy                        4.86156\n",
            "2019-02-16 20:49:30 | EnvExecTime                    0.847859\n",
            "2019-02-16 20:49:30 | Iteration                     31\n",
            "2019-02-16 20:49:30 | ItrTime                        5.11068\n",
            "2019-02-16 20:49:30 | MaxReturn                    110\n",
            "2019-02-16 20:49:30 | MinReturn                   -134\n",
            "2019-02-16 20:49:30 | NumTrajs                     127\n",
            "2019-02-16 20:49:30 | Perplexity                   129.226\n",
            "2019-02-16 20:49:30 | PolicyExecTime                 3.81875\n",
            "2019-02-16 20:49:30 | ProcessExecTime                0.0395923\n",
            "2019-02-16 20:49:30 | StdReturn                     65.6029\n",
            "2019-02-16 20:49:30 | Time                         171.275\n",
            "2019-02-16 20:49:30 | policy/Entropy                 0.0150877\n",
            "2019-02-16 20:49:30 | policy/KL                      0.00686036\n",
            "2019-02-16 20:49:30 | policy/KLBefore                0\n",
            "2019-02-16 20:49:30 | policy/LossAfter              -0.0379619\n",
            "2019-02-16 20:49:30 | policy/LossBefore             -1.0429e-08\n",
            "2019-02-16 20:49:30 | policy/dLoss                   0.0379619\n",
            "2019-02-16 20:49:30 | --------------------------  -------------\n",
            "2019-02-16 20:49:30 | itr #32 | Obtaining samples...\n",
            "2019-02-16 20:49:30 | itr #32 | Obtaining samples for iteration 32...\n"
          ],
          "name": "stdout"
        },
        {
          "output_type": "stream",
          "text": [
            "0% [##############################] 100% | ETA: 00:00:00"
          ],
          "name": "stderr"
        },
        {
          "output_type": "stream",
          "text": [
            "2019-02-16 20:49:35 | itr #32 | Processing samples...\n",
            "2019-02-16 20:49:35 | itr #32 | Logging diagnostics...\n",
            "2019-02-16 20:49:35 | itr #32 | Optimizing policy...\n",
            "2019-02-16 20:49:35 | itr #32 | Computing loss before\n",
            "2019-02-16 20:49:35 | itr #32 | Computing KL before\n",
            "2019-02-16 20:49:35 | itr #32 | Optimizing\n",
            "2019-02-16 20:49:35 | itr #32 | Start CG optimization: #parameters: 10528, #inputs: 124, #subsample_inputs: 124\n",
            "2019-02-16 20:49:35 | itr #32 | computing loss before\n",
            "2019-02-16 20:49:35 | itr #32 | performing update\n",
            "2019-02-16 20:49:35 | itr #32 | computing gradient\n",
            "2019-02-16 20:49:35 | itr #32 | gradient computed\n",
            "2019-02-16 20:49:35 | itr #32 | computing descent direction\n"
          ],
          "name": "stdout"
        },
        {
          "output_type": "stream",
          "text": [
            "\n",
            "Total time elapsed: 00:00:04\n"
          ],
          "name": "stderr"
        },
        {
          "output_type": "stream",
          "text": [
            "2019-02-16 20:49:35 | itr #32 | descent direction computed\n",
            "2019-02-16 20:49:35 | itr #32 | backtrack iters: 0\n",
            "2019-02-16 20:49:35 | itr #32 | computing loss after\n",
            "2019-02-16 20:49:35 | itr #32 | optimization finished\n",
            "2019-02-16 20:49:35 | itr #32 | Computing KL after\n",
            "2019-02-16 20:49:35 | itr #32 | Computing loss after\n",
            "2019-02-16 20:49:35 | itr #32 | Fitting baseline...\n",
            "2019-02-16 20:49:35 | itr #32 | Saving snapshot...\n",
            "2019-02-16 20:49:35 | itr #32 | Saved\n",
            "2019-02-16 20:49:35 | --------------------------  --------------\n",
            "2019-02-16 20:49:35 | AverageDiscountedReturn       23.5822\n",
            "2019-02-16 20:49:35 | AverageReturn                 22.3952\n",
            "2019-02-16 20:49:35 | Baseline/ExplainedVariance     0.473114\n",
            "2019-02-16 20:49:35 | Entropy                        4.83557\n",
            "2019-02-16 20:49:35 | EnvExecTime                    0.853833\n",
            "2019-02-16 20:49:35 | Iteration                     32\n",
            "2019-02-16 20:49:35 | ItrTime                        5.14646\n",
            "2019-02-16 20:49:35 | MaxReturn                    110\n",
            "2019-02-16 20:49:35 | MinReturn                   -104\n",
            "2019-02-16 20:49:35 | NumTrajs                     124\n",
            "2019-02-16 20:49:35 | Perplexity                   125.91\n",
            "2019-02-16 20:49:35 | PolicyExecTime                 3.86764\n",
            "2019-02-16 20:49:35 | ProcessExecTime                0.0433052\n",
            "2019-02-16 20:49:35 | StdReturn                     67.0915\n",
            "2019-02-16 20:49:35 | Time                         176.487\n",
            "2019-02-16 20:49:35 | policy/Entropy                 0.0154174\n",
            "2019-02-16 20:49:35 | policy/KL                      0.00935674\n",
            "2019-02-16 20:49:35 | policy/KLBefore                0\n",
            "2019-02-16 20:49:35 | policy/LossAfter              -0.0515102\n",
            "2019-02-16 20:49:35 | policy/LossBefore             -2.81735e-09\n",
            "2019-02-16 20:49:35 | policy/dLoss                   0.0515102\n",
            "2019-02-16 20:49:35 | --------------------------  --------------\n",
            "2019-02-16 20:49:35 | itr #33 | Obtaining samples...\n",
            "2019-02-16 20:49:35 | itr #33 | Obtaining samples for iteration 33...\n"
          ],
          "name": "stdout"
        },
        {
          "output_type": "stream",
          "text": [
            "0% [##############################] 100% | ETA: 00:00:00"
          ],
          "name": "stderr"
        },
        {
          "output_type": "stream",
          "text": [
            "2019-02-16 20:49:40 | itr #33 | Processing samples...\n",
            "2019-02-16 20:49:40 | itr #33 | Logging diagnostics...\n",
            "2019-02-16 20:49:40 | itr #33 | Optimizing policy...\n",
            "2019-02-16 20:49:40 | itr #33 | Computing loss before\n",
            "2019-02-16 20:49:40 | itr #33 | Computing KL before\n",
            "2019-02-16 20:49:40 | itr #33 | Optimizing\n",
            "2019-02-16 20:49:40 | itr #33 | Start CG optimization: #parameters: 10528, #inputs: 123, #subsample_inputs: 123\n",
            "2019-02-16 20:49:40 | itr #33 | computing loss before\n",
            "2019-02-16 20:49:40 | itr #33 | performing update\n",
            "2019-02-16 20:49:40 | itr #33 | computing gradient\n",
            "2019-02-16 20:49:40 | itr #33 | gradient computed\n",
            "2019-02-16 20:49:40 | itr #33 | computing descent direction\n"
          ],
          "name": "stdout"
        },
        {
          "output_type": "stream",
          "text": [
            "\n",
            "Total time elapsed: 00:00:04\n"
          ],
          "name": "stderr"
        },
        {
          "output_type": "stream",
          "text": [
            "2019-02-16 20:49:40 | itr #33 | descent direction computed\n",
            "2019-02-16 20:49:40 | itr #33 | backtrack iters: 0\n",
            "2019-02-16 20:49:40 | itr #33 | computing loss after\n",
            "2019-02-16 20:49:40 | itr #33 | optimization finished\n",
            "2019-02-16 20:49:40 | itr #33 | Computing KL after\n",
            "2019-02-16 20:49:40 | itr #33 | Computing loss after\n",
            "2019-02-16 20:49:40 | itr #33 | Fitting baseline...\n",
            "2019-02-16 20:49:40 | itr #33 | Saving snapshot...\n",
            "2019-02-16 20:49:40 | itr #33 | Saved\n",
            "2019-02-16 20:49:40 | --------------------------  --------------\n",
            "2019-02-16 20:49:40 | AverageDiscountedReturn       20.8844\n",
            "2019-02-16 20:49:40 | AverageReturn                 19.561\n",
            "2019-02-16 20:49:40 | Baseline/ExplainedVariance     0.546271\n",
            "2019-02-16 20:49:40 | Entropy                        4.86658\n",
            "2019-02-16 20:49:40 | EnvExecTime                    0.850644\n",
            "2019-02-16 20:49:40 | Iteration                     33\n",
            "2019-02-16 20:49:40 | ItrTime                        5.09293\n",
            "2019-02-16 20:49:40 | MaxReturn                    110\n",
            "2019-02-16 20:49:40 | MinReturn                   -119\n",
            "2019-02-16 20:49:40 | NumTrajs                     123\n",
            "2019-02-16 20:49:40 | Perplexity                   129.876\n",
            "2019-02-16 20:49:40 | PolicyExecTime                 3.81672\n",
            "2019-02-16 20:49:40 | ProcessExecTime                0.039629\n",
            "2019-02-16 20:49:40 | StdReturn                     63.8203\n",
            "2019-02-16 20:49:40 | Time                         181.624\n",
            "2019-02-16 20:49:40 | policy/Entropy                 0.0147461\n",
            "2019-02-16 20:49:40 | policy/KL                      0.00970473\n",
            "2019-02-16 20:49:40 | policy/KLBefore                0\n",
            "2019-02-16 20:49:40 | policy/LossAfter              -0.0568156\n",
            "2019-02-16 20:49:40 | policy/LossBefore              1.89739e-09\n",
            "2019-02-16 20:49:40 | policy/dLoss                   0.0568156\n",
            "2019-02-16 20:49:40 | --------------------------  --------------\n",
            "2019-02-16 20:49:40 | itr #34 | Obtaining samples...\n",
            "2019-02-16 20:49:40 | itr #34 | Obtaining samples for iteration 34...\n"
          ],
          "name": "stdout"
        },
        {
          "output_type": "stream",
          "text": [
            "0% [##############################] 100% | ETA: 00:00:00"
          ],
          "name": "stderr"
        },
        {
          "output_type": "stream",
          "text": [
            "2019-02-16 20:49:45 | itr #34 | Processing samples...\n",
            "2019-02-16 20:49:45 | itr #34 | Logging diagnostics...\n",
            "2019-02-16 20:49:45 | itr #34 | Optimizing policy...\n",
            "2019-02-16 20:49:45 | itr #34 | Computing loss before\n",
            "2019-02-16 20:49:45 | itr #34 | Computing KL before\n",
            "2019-02-16 20:49:45 | itr #34 | Optimizing\n",
            "2019-02-16 20:49:45 | itr #34 | Start CG optimization: #parameters: 10528, #inputs: 125, #subsample_inputs: 125\n",
            "2019-02-16 20:49:45 | itr #34 | computing loss before\n",
            "2019-02-16 20:49:45 | itr #34 | performing update\n",
            "2019-02-16 20:49:45 | itr #34 | computing gradient\n",
            "2019-02-16 20:49:45 | itr #34 | gradient computed\n",
            "2019-02-16 20:49:45 | itr #34 | computing descent direction\n"
          ],
          "name": "stdout"
        },
        {
          "output_type": "stream",
          "text": [
            "\n",
            "Total time elapsed: 00:00:04\n"
          ],
          "name": "stderr"
        },
        {
          "output_type": "stream",
          "text": [
            "2019-02-16 20:49:45 | itr #34 | descent direction computed\n",
            "2019-02-16 20:49:45 | itr #34 | backtrack iters: 1\n",
            "2019-02-16 20:49:45 | itr #34 | computing loss after\n",
            "2019-02-16 20:49:45 | itr #34 | optimization finished\n",
            "2019-02-16 20:49:45 | itr #34 | Computing KL after\n",
            "2019-02-16 20:49:45 | itr #34 | Computing loss after\n",
            "2019-02-16 20:49:45 | itr #34 | Fitting baseline...\n",
            "2019-02-16 20:49:45 | itr #34 | Saving snapshot...\n",
            "2019-02-16 20:49:45 | itr #34 | Saved\n",
            "2019-02-16 20:49:45 | --------------------------  -------------\n",
            "2019-02-16 20:49:45 | AverageDiscountedReturn      23.9717\n",
            "2019-02-16 20:49:45 | AverageReturn                23.12\n",
            "2019-02-16 20:49:45 | Baseline/ExplainedVariance    0.530749\n",
            "2019-02-16 20:49:45 | Entropy                       4.8015\n",
            "2019-02-16 20:49:45 | EnvExecTime                   0.84407\n",
            "2019-02-16 20:49:45 | Iteration                    34\n",
            "2019-02-16 20:49:45 | ItrTime                       5.04732\n",
            "2019-02-16 20:49:45 | MaxReturn                   110\n",
            "2019-02-16 20:49:45 | MinReturn                   -90\n",
            "2019-02-16 20:49:45 | NumTrajs                    125\n",
            "2019-02-16 20:49:45 | Perplexity                  121.693\n",
            "2019-02-16 20:49:45 | PolicyExecTime                3.76872\n",
            "2019-02-16 20:49:45 | ProcessExecTime               0.0390451\n",
            "2019-02-16 20:49:45 | StdReturn                    65.8197\n",
            "2019-02-16 20:49:45 | Time                        186.737\n",
            "2019-02-16 20:49:45 | policy/Entropy                0.0157127\n",
            "2019-02-16 20:49:45 | policy/KL                     0.00754134\n",
            "2019-02-16 20:49:45 | policy/KLBefore               0\n",
            "2019-02-16 20:49:45 | policy/LossAfter             -0.0415339\n",
            "2019-02-16 20:49:45 | policy/LossBefore             1.89315e-09\n",
            "2019-02-16 20:49:45 | policy/dLoss                  0.0415339\n",
            "2019-02-16 20:49:45 | --------------------------  -------------\n",
            "2019-02-16 20:49:45 | itr #35 | Obtaining samples...\n",
            "2019-02-16 20:49:45 | itr #35 | Obtaining samples for iteration 35...\n"
          ],
          "name": "stdout"
        },
        {
          "output_type": "stream",
          "text": [
            "0% [##############################] 100% | ETA: 00:00:00"
          ],
          "name": "stderr"
        },
        {
          "output_type": "stream",
          "text": [
            "2019-02-16 20:49:50 | itr #35 | Processing samples...\n",
            "2019-02-16 20:49:50 | itr #35 | Logging diagnostics...\n",
            "2019-02-16 20:49:50 | itr #35 | Optimizing policy...\n",
            "2019-02-16 20:49:50 | itr #35 | Computing loss before\n",
            "2019-02-16 20:49:50 | itr #35 | Computing KL before\n",
            "2019-02-16 20:49:50 | itr #35 | Optimizing\n",
            "2019-02-16 20:49:50 | itr #35 | Start CG optimization: #parameters: 10528, #inputs: 125, #subsample_inputs: 125\n",
            "2019-02-16 20:49:50 | itr #35 | computing loss before\n",
            "2019-02-16 20:49:50 | itr #35 | performing update\n",
            "2019-02-16 20:49:50 | itr #35 | computing gradient\n",
            "2019-02-16 20:49:50 | itr #35 | gradient computed\n",
            "2019-02-16 20:49:50 | itr #35 | computing descent direction\n"
          ],
          "name": "stdout"
        },
        {
          "output_type": "stream",
          "text": [
            "\n",
            "Total time elapsed: 00:00:04\n"
          ],
          "name": "stderr"
        },
        {
          "output_type": "stream",
          "text": [
            "2019-02-16 20:49:50 | itr #35 | descent direction computed\n",
            "2019-02-16 20:49:50 | itr #35 | backtrack iters: 1\n",
            "2019-02-16 20:49:50 | itr #35 | computing loss after\n",
            "2019-02-16 20:49:50 | itr #35 | optimization finished\n",
            "2019-02-16 20:49:50 | itr #35 | Computing KL after\n",
            "2019-02-16 20:49:50 | itr #35 | Computing loss after\n",
            "2019-02-16 20:49:50 | itr #35 | Fitting baseline...\n",
            "2019-02-16 20:49:50 | itr #35 | Saving snapshot...\n",
            "2019-02-16 20:49:50 | itr #35 | Saved\n",
            "2019-02-16 20:49:50 | --------------------------  --------------\n",
            "2019-02-16 20:49:50 | AverageDiscountedReturn       21.1507\n",
            "2019-02-16 20:49:50 | AverageReturn                 20.336\n",
            "2019-02-16 20:49:50 | Baseline/ExplainedVariance     0.541848\n",
            "2019-02-16 20:49:50 | Entropy                        4.81438\n",
            "2019-02-16 20:49:50 | EnvExecTime                    0.846119\n",
            "2019-02-16 20:49:50 | Iteration                     35\n",
            "2019-02-16 20:49:50 | ItrTime                        5.04552\n",
            "2019-02-16 20:49:50 | MaxReturn                    110\n",
            "2019-02-16 20:49:50 | MinReturn                   -105\n",
            "2019-02-16 20:49:50 | NumTrajs                     125\n",
            "2019-02-16 20:49:50 | Perplexity                   123.271\n",
            "2019-02-16 20:49:50 | PolicyExecTime                 3.75859\n",
            "2019-02-16 20:49:50 | ProcessExecTime                0.0394754\n",
            "2019-02-16 20:49:50 | StdReturn                     67.2481\n",
            "2019-02-16 20:49:50 | Time                         191.815\n",
            "2019-02-16 20:49:50 | policy/Entropy                 0.0155232\n",
            "2019-02-16 20:49:50 | policy/KL                      0.00740079\n",
            "2019-02-16 20:49:50 | policy/KLBefore                0\n",
            "2019-02-16 20:49:50 | policy/LossAfter              -0.0391801\n",
            "2019-02-16 20:49:50 | policy/LossBefore             -9.41436e-10\n",
            "2019-02-16 20:49:50 | policy/dLoss                   0.0391801\n",
            "2019-02-16 20:49:50 | --------------------------  --------------\n",
            "2019-02-16 20:49:50 | itr #36 | Obtaining samples...\n",
            "2019-02-16 20:49:50 | itr #36 | Obtaining samples for iteration 36...\n"
          ],
          "name": "stdout"
        },
        {
          "output_type": "stream",
          "text": [
            "0% [##############################] 100% | ETA: 00:00:00"
          ],
          "name": "stderr"
        },
        {
          "output_type": "stream",
          "text": [
            "2019-02-16 20:49:55 | itr #36 | Processing samples...\n",
            "2019-02-16 20:49:55 | itr #36 | Logging diagnostics...\n",
            "2019-02-16 20:49:55 | itr #36 | Optimizing policy...\n",
            "2019-02-16 20:49:55 | itr #36 | Computing loss before\n",
            "2019-02-16 20:49:55 | itr #36 | Computing KL before\n",
            "2019-02-16 20:49:55 | itr #36 | Optimizing\n",
            "2019-02-16 20:49:55 | itr #36 | Start CG optimization: #parameters: 10528, #inputs: 130, #subsample_inputs: 130\n",
            "2019-02-16 20:49:55 | itr #36 | computing loss before\n",
            "2019-02-16 20:49:55 | itr #36 | performing update\n",
            "2019-02-16 20:49:55 | itr #36 | computing gradient\n",
            "2019-02-16 20:49:55 | itr #36 | gradient computed\n",
            "2019-02-16 20:49:55 | itr #36 | computing descent direction\n"
          ],
          "name": "stdout"
        },
        {
          "output_type": "stream",
          "text": [
            "\n",
            "Total time elapsed: 00:00:04\n"
          ],
          "name": "stderr"
        },
        {
          "output_type": "stream",
          "text": [
            "2019-02-16 20:49:56 | itr #36 | descent direction computed\n",
            "2019-02-16 20:49:56 | itr #36 | backtrack iters: 1\n",
            "2019-02-16 20:49:56 | itr #36 | computing loss after\n",
            "2019-02-16 20:49:56 | itr #36 | optimization finished\n",
            "2019-02-16 20:49:56 | itr #36 | Computing KL after\n",
            "2019-02-16 20:49:56 | itr #36 | Computing loss after\n",
            "2019-02-16 20:49:56 | itr #36 | Fitting baseline...\n",
            "2019-02-16 20:49:56 | itr #36 | Saving snapshot...\n",
            "2019-02-16 20:49:56 | itr #36 | Saved\n",
            "2019-02-16 20:49:56 | --------------------------  -------------\n",
            "2019-02-16 20:49:56 | AverageDiscountedReturn      30.3857\n",
            "2019-02-16 20:49:56 | AverageReturn                31.0231\n",
            "2019-02-16 20:49:56 | Baseline/ExplainedVariance    0.584898\n",
            "2019-02-16 20:49:56 | Entropy                       4.77785\n",
            "2019-02-16 20:49:56 | EnvExecTime                   0.860377\n",
            "2019-02-16 20:49:56 | Iteration                    36\n",
            "2019-02-16 20:49:56 | ItrTime                       5.1903\n",
            "2019-02-16 20:49:56 | MaxReturn                   110\n",
            "2019-02-16 20:49:56 | MinReturn                   -89\n",
            "2019-02-16 20:49:56 | NumTrajs                    130\n",
            "2019-02-16 20:49:56 | Perplexity                  118.848\n",
            "2019-02-16 20:49:56 | PolicyExecTime                3.88941\n",
            "2019-02-16 20:49:56 | ProcessExecTime               0.040874\n",
            "2019-02-16 20:49:56 | StdReturn                    67.1546\n",
            "2019-02-16 20:49:56 | Time                        197.036\n",
            "2019-02-16 20:49:56 | policy/Entropy                0.0163481\n",
            "2019-02-16 20:49:56 | policy/KL                     0.00666168\n",
            "2019-02-16 20:49:56 | policy/KLBefore               0\n",
            "2019-02-16 20:49:56 | policy/LossAfter             -0.0387662\n",
            "2019-02-16 20:49:56 | policy/LossBefore            -1.08244e-08\n",
            "2019-02-16 20:49:56 | policy/dLoss                  0.0387662\n",
            "2019-02-16 20:49:56 | --------------------------  -------------\n",
            "2019-02-16 20:49:56 | itr #37 | Obtaining samples...\n",
            "2019-02-16 20:49:56 | itr #37 | Obtaining samples for iteration 37...\n"
          ],
          "name": "stdout"
        },
        {
          "output_type": "stream",
          "text": [
            "0% [##############################] 100% | ETA: 00:00:00"
          ],
          "name": "stderr"
        },
        {
          "output_type": "stream",
          "text": [
            "2019-02-16 20:50:00 | itr #37 | Processing samples...\n",
            "2019-02-16 20:50:01 | itr #37 | Logging diagnostics...\n",
            "2019-02-16 20:50:01 | itr #37 | Optimizing policy...\n",
            "2019-02-16 20:50:01 | itr #37 | Computing loss before\n",
            "2019-02-16 20:50:01 | itr #37 | Computing KL before\n",
            "2019-02-16 20:50:01 | itr #37 | Optimizing\n",
            "2019-02-16 20:50:01 | itr #37 | Start CG optimization: #parameters: 10528, #inputs: 124, #subsample_inputs: 124\n",
            "2019-02-16 20:50:01 | itr #37 | computing loss before\n",
            "2019-02-16 20:50:01 | itr #37 | performing update\n",
            "2019-02-16 20:50:01 | itr #37 | computing gradient\n",
            "2019-02-16 20:50:01 | itr #37 | gradient computed\n",
            "2019-02-16 20:50:01 | itr #37 | computing descent direction\n"
          ],
          "name": "stdout"
        },
        {
          "output_type": "stream",
          "text": [
            "\n",
            "Total time elapsed: 00:00:04\n"
          ],
          "name": "stderr"
        },
        {
          "output_type": "stream",
          "text": [
            "2019-02-16 20:50:01 | itr #37 | descent direction computed\n",
            "2019-02-16 20:50:01 | itr #37 | backtrack iters: 0\n",
            "2019-02-16 20:50:01 | itr #37 | computing loss after\n",
            "2019-02-16 20:50:01 | itr #37 | optimization finished\n",
            "2019-02-16 20:50:01 | itr #37 | Computing KL after\n",
            "2019-02-16 20:50:01 | itr #37 | Computing loss after\n",
            "2019-02-16 20:50:01 | itr #37 | Fitting baseline...\n",
            "2019-02-16 20:50:01 | itr #37 | Saving snapshot...\n",
            "2019-02-16 20:50:01 | itr #37 | Saved\n",
            "2019-02-16 20:50:01 | --------------------------  -------------\n",
            "2019-02-16 20:50:01 | AverageDiscountedReturn       21.2817\n",
            "2019-02-16 20:50:01 | AverageReturn                 20.871\n",
            "2019-02-16 20:50:01 | Baseline/ExplainedVariance     0.593876\n",
            "2019-02-16 20:50:01 | Entropy                        4.78067\n",
            "2019-02-16 20:50:01 | EnvExecTime                    0.851932\n",
            "2019-02-16 20:50:01 | Iteration                     37\n",
            "2019-02-16 20:50:01 | ItrTime                        5.16373\n",
            "2019-02-16 20:50:01 | MaxReturn                    110\n",
            "2019-02-16 20:50:01 | MinReturn                   -102\n",
            "2019-02-16 20:50:01 | NumTrajs                     124\n",
            "2019-02-16 20:50:01 | Perplexity                   119.184\n",
            "2019-02-16 20:50:01 | PolicyExecTime                 3.88862\n",
            "2019-02-16 20:50:01 | ProcessExecTime                0.0399256\n",
            "2019-02-16 20:50:01 | StdReturn                     68.2656\n",
            "2019-02-16 20:50:01 | Time                         202.247\n",
            "2019-02-16 20:50:01 | policy/Entropy                 0.0161399\n",
            "2019-02-16 20:50:01 | policy/KL                      0.00961436\n",
            "2019-02-16 20:50:01 | policy/KLBefore                0\n",
            "2019-02-16 20:50:01 | policy/LossAfter              -0.0518683\n",
            "2019-02-16 20:50:01 | policy/LossBefore             -1.1314e-08\n",
            "2019-02-16 20:50:01 | policy/dLoss                   0.0518683\n",
            "2019-02-16 20:50:01 | --------------------------  -------------\n",
            "2019-02-16 20:50:01 | itr #38 | Obtaining samples...\n",
            "2019-02-16 20:50:01 | itr #38 | Obtaining samples for iteration 38...\n"
          ],
          "name": "stdout"
        },
        {
          "output_type": "stream",
          "text": [
            "0% [##############################] 100% | ETA: 00:00:00"
          ],
          "name": "stderr"
        },
        {
          "output_type": "stream",
          "text": [
            "2019-02-16 20:50:06 | itr #38 | Processing samples...\n",
            "2019-02-16 20:50:06 | itr #38 | Logging diagnostics...\n",
            "2019-02-16 20:50:06 | itr #38 | Optimizing policy...\n",
            "2019-02-16 20:50:06 | itr #38 | Computing loss before\n",
            "2019-02-16 20:50:06 | itr #38 | Computing KL before\n",
            "2019-02-16 20:50:06 | itr #38 | Optimizing\n",
            "2019-02-16 20:50:06 | itr #38 | Start CG optimization: #parameters: 10528, #inputs: 127, #subsample_inputs: 127\n",
            "2019-02-16 20:50:06 | itr #38 | computing loss before\n",
            "2019-02-16 20:50:06 | itr #38 | performing update\n",
            "2019-02-16 20:50:06 | itr #38 | computing gradient\n",
            "2019-02-16 20:50:06 | itr #38 | gradient computed\n",
            "2019-02-16 20:50:06 | itr #38 | computing descent direction\n"
          ],
          "name": "stdout"
        },
        {
          "output_type": "stream",
          "text": [
            "\n",
            "Total time elapsed: 00:00:04\n"
          ],
          "name": "stderr"
        },
        {
          "output_type": "stream",
          "text": [
            "2019-02-16 20:50:06 | itr #38 | descent direction computed\n",
            "2019-02-16 20:50:06 | itr #38 | backtrack iters: 0\n",
            "2019-02-16 20:50:06 | itr #38 | computing loss after\n",
            "2019-02-16 20:50:06 | itr #38 | optimization finished\n",
            "2019-02-16 20:50:06 | itr #38 | Computing KL after\n",
            "2019-02-16 20:50:06 | itr #38 | Computing loss after\n",
            "2019-02-16 20:50:06 | itr #38 | Fitting baseline...\n",
            "2019-02-16 20:50:06 | itr #38 | Saving snapshot...\n",
            "2019-02-16 20:50:06 | itr #38 | Saved\n",
            "2019-02-16 20:50:06 | --------------------------  -------------\n",
            "2019-02-16 20:50:06 | AverageDiscountedReturn      23.8143\n",
            "2019-02-16 20:50:06 | AverageReturn                22.8425\n",
            "2019-02-16 20:50:06 | Baseline/ExplainedVariance    0.503227\n",
            "2019-02-16 20:50:06 | Entropy                       4.76209\n",
            "2019-02-16 20:50:06 | EnvExecTime                   0.835375\n",
            "2019-02-16 20:50:06 | Iteration                    38\n",
            "2019-02-16 20:50:06 | ItrTime                       5.04219\n",
            "2019-02-16 20:50:06 | MaxReturn                   110\n",
            "2019-02-16 20:50:06 | MinReturn                   -96\n",
            "2019-02-16 20:50:06 | NumTrajs                    127\n",
            "2019-02-16 20:50:06 | Perplexity                  116.99\n",
            "2019-02-16 20:50:06 | PolicyExecTime                3.77777\n",
            "2019-02-16 20:50:06 | ProcessExecTime               0.0400906\n",
            "2019-02-16 20:50:06 | StdReturn                    69.9627\n",
            "2019-02-16 20:50:06 | Time                        207.352\n",
            "2019-02-16 20:50:06 | policy/Entropy                0.0166332\n",
            "2019-02-16 20:50:06 | policy/KL                     0.00936185\n",
            "2019-02-16 20:50:06 | policy/KLBefore               0\n",
            "2019-02-16 20:50:06 | policy/LossAfter             -0.0469724\n",
            "2019-02-16 20:50:06 | policy/LossBefore            -1.41565e-09\n",
            "2019-02-16 20:50:06 | policy/dLoss                  0.0469724\n",
            "2019-02-16 20:50:06 | --------------------------  -------------\n",
            "2019-02-16 20:50:06 | itr #39 | Obtaining samples...\n",
            "2019-02-16 20:50:06 | itr #39 | Obtaining samples for iteration 39...\n"
          ],
          "name": "stdout"
        },
        {
          "output_type": "stream",
          "text": [
            "0% [##############################] 100% | ETA: 00:00:00"
          ],
          "name": "stderr"
        },
        {
          "output_type": "stream",
          "text": [
            "2019-02-16 20:50:11 | itr #39 | Processing samples...\n",
            "2019-02-16 20:50:11 | itr #39 | Logging diagnostics...\n",
            "2019-02-16 20:50:11 | itr #39 | Optimizing policy...\n",
            "2019-02-16 20:50:11 | itr #39 | Computing loss before\n",
            "2019-02-16 20:50:11 | itr #39 | Computing KL before\n",
            "2019-02-16 20:50:11 | itr #39 | Optimizing\n",
            "2019-02-16 20:50:11 | itr #39 | Start CG optimization: #parameters: 10528, #inputs: 124, #subsample_inputs: 124\n",
            "2019-02-16 20:50:11 | itr #39 | computing loss before\n",
            "2019-02-16 20:50:11 | itr #39 | performing update\n",
            "2019-02-16 20:50:11 | itr #39 | computing gradient\n",
            "2019-02-16 20:50:11 | itr #39 | gradient computed\n",
            "2019-02-16 20:50:11 | itr #39 | computing descent direction\n"
          ],
          "name": "stdout"
        },
        {
          "output_type": "stream",
          "text": [
            "\n",
            "Total time elapsed: 00:00:04\n"
          ],
          "name": "stderr"
        },
        {
          "output_type": "stream",
          "text": [
            "2019-02-16 20:50:11 | itr #39 | descent direction computed\n",
            "2019-02-16 20:50:11 | itr #39 | backtrack iters: 0\n",
            "2019-02-16 20:50:11 | itr #39 | computing loss after\n",
            "2019-02-16 20:50:11 | itr #39 | optimization finished\n",
            "2019-02-16 20:50:11 | itr #39 | Computing KL after\n",
            "2019-02-16 20:50:11 | itr #39 | Computing loss after\n",
            "2019-02-16 20:50:11 | itr #39 | Fitting baseline...\n",
            "2019-02-16 20:50:11 | itr #39 | Saving snapshot...\n",
            "2019-02-16 20:50:11 | itr #39 | Saved\n",
            "2019-02-16 20:50:11 | --------------------------  -------------\n",
            "2019-02-16 20:50:11 | AverageDiscountedReturn      28.0753\n",
            "2019-02-16 20:50:11 | AverageReturn                28.2419\n",
            "2019-02-16 20:50:11 | Baseline/ExplainedVariance    0.524594\n",
            "2019-02-16 20:50:11 | Entropy                       4.73836\n",
            "2019-02-16 20:50:11 | EnvExecTime                   0.853056\n",
            "2019-02-16 20:50:11 | Iteration                    39\n",
            "2019-02-16 20:50:11 | ItrTime                       5.16745\n",
            "2019-02-16 20:50:11 | MaxReturn                   110\n",
            "2019-02-16 20:50:11 | MinReturn                   -86\n",
            "2019-02-16 20:50:11 | NumTrajs                    124\n",
            "2019-02-16 20:50:11 | Perplexity                  114.246\n",
            "2019-02-16 20:50:11 | PolicyExecTime                3.88784\n",
            "2019-02-16 20:50:11 | ProcessExecTime               0.0396404\n",
            "2019-02-16 20:50:11 | StdReturn                    64.1846\n",
            "2019-02-16 20:50:11 | Time                        212.571\n",
            "2019-02-16 20:50:11 | policy/Entropy                0.0172462\n",
            "2019-02-16 20:50:11 | policy/KL                     0.00740135\n",
            "2019-02-16 20:50:11 | policy/KLBefore               0\n",
            "2019-02-16 20:50:11 | policy/LossAfter             -0.0391912\n",
            "2019-02-16 20:50:11 | policy/LossBefore            -3.73532e-09\n",
            "2019-02-16 20:50:11 | policy/dLoss                  0.0391912\n",
            "2019-02-16 20:50:11 | --------------------------  -------------\n",
            "2019-02-16 20:50:11 | itr #40 | Obtaining samples...\n",
            "2019-02-16 20:50:11 | itr #40 | Obtaining samples for iteration 40...\n"
          ],
          "name": "stdout"
        },
        {
          "output_type": "stream",
          "text": [
            "0% [##############################] 100% | ETA: 00:00:00"
          ],
          "name": "stderr"
        },
        {
          "output_type": "stream",
          "text": [
            "2019-02-16 20:50:16 | itr #40 | Processing samples...\n",
            "2019-02-16 20:50:16 | itr #40 | Logging diagnostics...\n",
            "2019-02-16 20:50:16 | itr #40 | Optimizing policy...\n",
            "2019-02-16 20:50:16 | itr #40 | Computing loss before\n",
            "2019-02-16 20:50:16 | itr #40 | Computing KL before\n",
            "2019-02-16 20:50:16 | itr #40 | Optimizing\n",
            "2019-02-16 20:50:16 | itr #40 | Start CG optimization: #parameters: 10528, #inputs: 124, #subsample_inputs: 124\n",
            "2019-02-16 20:50:16 | itr #40 | computing loss before\n",
            "2019-02-16 20:50:16 | itr #40 | performing update\n",
            "2019-02-16 20:50:16 | itr #40 | computing gradient\n",
            "2019-02-16 20:50:16 | itr #40 | gradient computed\n",
            "2019-02-16 20:50:16 | itr #40 | computing descent direction\n"
          ],
          "name": "stdout"
        },
        {
          "output_type": "stream",
          "text": [
            "\n",
            "Total time elapsed: 00:00:04\n"
          ],
          "name": "stderr"
        },
        {
          "output_type": "stream",
          "text": [
            "2019-02-16 20:50:16 | itr #40 | descent direction computed\n",
            "2019-02-16 20:50:16 | itr #40 | backtrack iters: 0\n",
            "2019-02-16 20:50:16 | itr #40 | computing loss after\n",
            "2019-02-16 20:50:16 | itr #40 | optimization finished\n",
            "2019-02-16 20:50:16 | itr #40 | Computing KL after\n",
            "2019-02-16 20:50:16 | itr #40 | Computing loss after\n",
            "2019-02-16 20:50:16 | itr #40 | Fitting baseline...\n",
            "2019-02-16 20:50:16 | itr #40 | Saving snapshot...\n",
            "2019-02-16 20:50:16 | itr #40 | Saved\n",
            "2019-02-16 20:50:16 | --------------------------  -------------\n",
            "2019-02-16 20:50:16 | AverageDiscountedReturn      23.0361\n",
            "2019-02-16 20:50:16 | AverageReturn                22.2419\n",
            "2019-02-16 20:50:16 | Baseline/ExplainedVariance    0.496805\n",
            "2019-02-16 20:50:16 | Entropy                       4.75138\n",
            "2019-02-16 20:50:16 | EnvExecTime                   0.84324\n",
            "2019-02-16 20:50:16 | Iteration                    40\n",
            "2019-02-16 20:50:16 | ItrTime                       5.0678\n",
            "2019-02-16 20:50:16 | MaxReturn                   110\n",
            "2019-02-16 20:50:16 | MinReturn                   -88\n",
            "2019-02-16 20:50:16 | NumTrajs                    124\n",
            "2019-02-16 20:50:16 | Perplexity                  115.744\n",
            "2019-02-16 20:50:16 | PolicyExecTime                3.79486\n",
            "2019-02-16 20:50:16 | ProcessExecTime               0.0392098\n",
            "2019-02-16 20:50:16 | StdReturn                    63.5049\n",
            "2019-02-16 20:50:16 | Time                        217.688\n",
            "2019-02-16 20:50:16 | policy/Entropy                0.0164565\n",
            "2019-02-16 20:50:16 | policy/KL                     0.00907991\n",
            "2019-02-16 20:50:16 | policy/KLBefore               0\n",
            "2019-02-16 20:50:16 | policy/LossAfter             -0.044831\n",
            "2019-02-16 20:50:16 | policy/LossBefore             5.64583e-09\n",
            "2019-02-16 20:50:16 | policy/dLoss                  0.044831\n",
            "2019-02-16 20:50:16 | --------------------------  -------------\n",
            "2019-02-16 20:50:16 | itr #41 | Obtaining samples...\n",
            "2019-02-16 20:50:16 | itr #41 | Obtaining samples for iteration 41...\n"
          ],
          "name": "stdout"
        },
        {
          "output_type": "stream",
          "text": [
            "0% [##############################] 100% | ETA: 00:00:00"
          ],
          "name": "stderr"
        },
        {
          "output_type": "stream",
          "text": [
            "2019-02-16 20:50:21 | itr #41 | Processing samples...\n",
            "2019-02-16 20:50:21 | itr #41 | Logging diagnostics...\n",
            "2019-02-16 20:50:21 | itr #41 | Optimizing policy...\n",
            "2019-02-16 20:50:21 | itr #41 | Computing loss before\n",
            "2019-02-16 20:50:21 | itr #41 | Computing KL before\n",
            "2019-02-16 20:50:21 | itr #41 | Optimizing\n",
            "2019-02-16 20:50:21 | itr #41 | Start CG optimization: #parameters: 10528, #inputs: 124, #subsample_inputs: 124\n",
            "2019-02-16 20:50:21 | itr #41 | computing loss before\n",
            "2019-02-16 20:50:21 | itr #41 | performing update\n",
            "2019-02-16 20:50:21 | itr #41 | computing gradient\n",
            "2019-02-16 20:50:21 | itr #41 | gradient computed\n",
            "2019-02-16 20:50:21 | itr #41 | computing descent direction\n"
          ],
          "name": "stdout"
        },
        {
          "output_type": "stream",
          "text": [
            "\n",
            "Total time elapsed: 00:00:04\n"
          ],
          "name": "stderr"
        },
        {
          "output_type": "stream",
          "text": [
            "2019-02-16 20:50:21 | itr #41 | descent direction computed\n",
            "2019-02-16 20:50:21 | itr #41 | backtrack iters: 0\n",
            "2019-02-16 20:50:21 | itr #41 | computing loss after\n",
            "2019-02-16 20:50:21 | itr #41 | optimization finished\n",
            "2019-02-16 20:50:21 | itr #41 | Computing KL after\n",
            "2019-02-16 20:50:21 | itr #41 | Computing loss after\n",
            "2019-02-16 20:50:22 | itr #41 | Fitting baseline...\n",
            "2019-02-16 20:50:22 | itr #41 | Saving snapshot...\n",
            "2019-02-16 20:50:22 | itr #41 | Saved\n",
            "2019-02-16 20:50:22 | --------------------------  --------------\n",
            "2019-02-16 20:50:22 | AverageDiscountedReturn       21.0333\n",
            "2019-02-16 20:50:22 | AverageReturn                 20\n",
            "2019-02-16 20:50:22 | Baseline/ExplainedVariance     0.54035\n",
            "2019-02-16 20:50:22 | Entropy                        4.75731\n",
            "2019-02-16 20:50:22 | EnvExecTime                    0.960688\n",
            "2019-02-16 20:50:22 | Iteration                     41\n",
            "2019-02-16 20:50:22 | ItrTime                        5.21979\n",
            "2019-02-16 20:50:22 | MaxReturn                    110\n",
            "2019-02-16 20:50:22 | MinReturn                   -112\n",
            "2019-02-16 20:50:22 | NumTrajs                     124\n",
            "2019-02-16 20:50:22 | Perplexity                   116.432\n",
            "2019-02-16 20:50:22 | PolicyExecTime                 3.82485\n",
            "2019-02-16 20:50:22 | ProcessExecTime                0.039021\n",
            "2019-02-16 20:50:22 | StdReturn                     65.8526\n",
            "2019-02-16 20:50:22 | Time                         222.944\n",
            "2019-02-16 20:50:22 | policy/Entropy                 0.0162975\n",
            "2019-02-16 20:50:22 | policy/KL                      0.009651\n",
            "2019-02-16 20:50:22 | policy/KLBefore                0\n",
            "2019-02-16 20:50:22 | policy/LossAfter              -0.0450655\n",
            "2019-02-16 20:50:22 | policy/LossBefore             -1.42588e-08\n",
            "2019-02-16 20:50:22 | policy/dLoss                   0.0450654\n",
            "2019-02-16 20:50:22 | --------------------------  --------------\n",
            "2019-02-16 20:50:22 | itr #42 | Obtaining samples...\n",
            "2019-02-16 20:50:22 | itr #42 | Obtaining samples for iteration 42...\n"
          ],
          "name": "stdout"
        },
        {
          "output_type": "stream",
          "text": [
            "0% [##############################] 100% | ETA: 00:00:00"
          ],
          "name": "stderr"
        },
        {
          "output_type": "stream",
          "text": [
            "2019-02-16 20:50:26 | itr #42 | Processing samples...\n",
            "2019-02-16 20:50:26 | itr #42 | Logging diagnostics...\n",
            "2019-02-16 20:50:26 | itr #42 | Optimizing policy...\n",
            "2019-02-16 20:50:26 | itr #42 | Computing loss before\n",
            "2019-02-16 20:50:26 | itr #42 | Computing KL before\n",
            "2019-02-16 20:50:26 | itr #42 | Optimizing\n",
            "2019-02-16 20:50:26 | itr #42 | Start CG optimization: #parameters: 10528, #inputs: 126, #subsample_inputs: 126\n",
            "2019-02-16 20:50:26 | itr #42 | computing loss before\n",
            "2019-02-16 20:50:27 | itr #42 | performing update\n",
            "2019-02-16 20:50:27 | itr #42 | computing gradient\n",
            "2019-02-16 20:50:27 | itr #42 | gradient computed\n",
            "2019-02-16 20:50:27 | itr #42 | computing descent direction\n"
          ],
          "name": "stdout"
        },
        {
          "output_type": "stream",
          "text": [
            "\n",
            "Total time elapsed: 00:00:04\n"
          ],
          "name": "stderr"
        },
        {
          "output_type": "stream",
          "text": [
            "2019-02-16 20:50:27 | itr #42 | descent direction computed\n",
            "2019-02-16 20:50:27 | itr #42 | backtrack iters: 0\n",
            "2019-02-16 20:50:27 | itr #42 | computing loss after\n",
            "2019-02-16 20:50:27 | itr #42 | optimization finished\n",
            "2019-02-16 20:50:27 | itr #42 | Computing KL after\n",
            "2019-02-16 20:50:27 | itr #42 | Computing loss after\n",
            "2019-02-16 20:50:27 | itr #42 | Fitting baseline...\n",
            "2019-02-16 20:50:27 | itr #42 | Saving snapshot...\n",
            "2019-02-16 20:50:27 | itr #42 | Saved\n",
            "2019-02-16 20:50:27 | --------------------------  -------------\n",
            "2019-02-16 20:50:27 | AverageDiscountedReturn      26.2989\n",
            "2019-02-16 20:50:27 | AverageReturn                26.1349\n",
            "2019-02-16 20:50:27 | Baseline/ExplainedVariance    0.563498\n",
            "2019-02-16 20:50:27 | Entropy                       4.71549\n",
            "2019-02-16 20:50:27 | EnvExecTime                   0.863648\n",
            "2019-02-16 20:50:27 | Iteration                    42\n",
            "2019-02-16 20:50:27 | ItrTime                       5.19887\n",
            "2019-02-16 20:50:27 | MaxReturn                   110\n",
            "2019-02-16 20:50:27 | MinReturn                   -97\n",
            "2019-02-16 20:50:27 | NumTrajs                    126\n",
            "2019-02-16 20:50:27 | Perplexity                  111.664\n",
            "2019-02-16 20:50:27 | PolicyExecTime                3.89389\n",
            "2019-02-16 20:50:27 | ProcessExecTime               0.0405915\n",
            "2019-02-16 20:50:27 | StdReturn                    66.4656\n",
            "2019-02-16 20:50:27 | Time                        228.189\n",
            "2019-02-16 20:50:27 | policy/Entropy                0.0176809\n",
            "2019-02-16 20:50:27 | policy/KL                     0.00850357\n",
            "2019-02-16 20:50:27 | policy/KLBefore               0\n",
            "2019-02-16 20:50:27 | policy/LossAfter             -0.0379995\n",
            "2019-02-16 20:50:27 | policy/LossBefore            -3.68926e-09\n",
            "2019-02-16 20:50:27 | policy/dLoss                  0.0379995\n",
            "2019-02-16 20:50:27 | --------------------------  -------------\n",
            "2019-02-16 20:50:27 | itr #43 | Obtaining samples...\n",
            "2019-02-16 20:50:27 | itr #43 | Obtaining samples for iteration 43...\n"
          ],
          "name": "stdout"
        },
        {
          "output_type": "stream",
          "text": [
            "0% [##############################] 100% | ETA: 00:00:00"
          ],
          "name": "stderr"
        },
        {
          "output_type": "stream",
          "text": [
            "2019-02-16 20:50:32 | itr #43 | Processing samples...\n",
            "2019-02-16 20:50:32 | itr #43 | Logging diagnostics...\n",
            "2019-02-16 20:50:32 | itr #43 | Optimizing policy...\n",
            "2019-02-16 20:50:32 | itr #43 | Computing loss before\n",
            "2019-02-16 20:50:32 | itr #43 | Computing KL before\n",
            "2019-02-16 20:50:32 | itr #43 | Optimizing\n",
            "2019-02-16 20:50:32 | itr #43 | Start CG optimization: #parameters: 10528, #inputs: 129, #subsample_inputs: 129\n",
            "2019-02-16 20:50:32 | itr #43 | computing loss before\n",
            "2019-02-16 20:50:32 | itr #43 | performing update\n",
            "2019-02-16 20:50:32 | itr #43 | computing gradient\n",
            "2019-02-16 20:50:32 | itr #43 | gradient computed\n",
            "2019-02-16 20:50:32 | itr #43 | computing descent direction\n"
          ],
          "name": "stdout"
        },
        {
          "output_type": "stream",
          "text": [
            "\n",
            "Total time elapsed: 00:00:05\n"
          ],
          "name": "stderr"
        },
        {
          "output_type": "stream",
          "text": [
            "2019-02-16 20:50:32 | itr #43 | descent direction computed\n",
            "2019-02-16 20:50:32 | itr #43 | backtrack iters: 0\n",
            "2019-02-16 20:50:32 | itr #43 | computing loss after\n",
            "2019-02-16 20:50:32 | itr #43 | optimization finished\n",
            "2019-02-16 20:50:32 | itr #43 | Computing KL after\n",
            "2019-02-16 20:50:32 | itr #43 | Computing loss after\n",
            "2019-02-16 20:50:32 | itr #43 | Fitting baseline...\n",
            "2019-02-16 20:50:32 | itr #43 | Saving snapshot...\n",
            "2019-02-16 20:50:32 | itr #43 | Saved\n",
            "2019-02-16 20:50:32 | --------------------------  --------------\n",
            "2019-02-16 20:50:32 | AverageDiscountedReturn       27.8508\n",
            "2019-02-16 20:50:32 | AverageReturn                 28.2636\n",
            "2019-02-16 20:50:32 | Baseline/ExplainedVariance     0.591339\n",
            "2019-02-16 20:50:32 | Entropy                        4.66029\n",
            "2019-02-16 20:50:32 | EnvExecTime                    0.926023\n",
            "2019-02-16 20:50:32 | Iteration                     43\n",
            "2019-02-16 20:50:32 | ItrTime                        5.38032\n",
            "2019-02-16 20:50:32 | MaxReturn                    110\n",
            "2019-02-16 20:50:32 | MinReturn                   -101\n",
            "2019-02-16 20:50:32 | NumTrajs                     129\n",
            "2019-02-16 20:50:32 | Perplexity                   105.667\n",
            "2019-02-16 20:50:32 | PolicyExecTime                 3.99764\n",
            "2019-02-16 20:50:32 | ProcessExecTime                0.040422\n",
            "2019-02-16 20:50:32 | StdReturn                     68.13\n",
            "2019-02-16 20:50:32 | Time                         233.606\n",
            "2019-02-16 20:50:32 | policy/Entropy                 0.0193066\n",
            "2019-02-16 20:50:32 | policy/KL                      0.00786707\n",
            "2019-02-16 20:50:32 | policy/KLBefore                0\n",
            "2019-02-16 20:50:32 | policy/LossAfter              -0.0333255\n",
            "2019-02-16 20:50:32 | policy/LossBefore             -8.22921e-09\n",
            "2019-02-16 20:50:32 | policy/dLoss                   0.0333255\n",
            "2019-02-16 20:50:32 | --------------------------  --------------\n",
            "2019-02-16 20:50:32 | itr #44 | Obtaining samples...\n",
            "2019-02-16 20:50:32 | itr #44 | Obtaining samples for iteration 44...\n"
          ],
          "name": "stdout"
        },
        {
          "output_type": "stream",
          "text": [
            "0% [##############################] 100% | ETA: 00:00:00"
          ],
          "name": "stderr"
        },
        {
          "output_type": "stream",
          "text": [
            "2019-02-16 20:50:37 | itr #44 | Processing samples...\n",
            "2019-02-16 20:50:37 | itr #44 | Logging diagnostics...\n",
            "2019-02-16 20:50:37 | itr #44 | Optimizing policy...\n",
            "2019-02-16 20:50:37 | itr #44 | Computing loss before\n",
            "2019-02-16 20:50:37 | itr #44 | Computing KL before\n",
            "2019-02-16 20:50:37 | itr #44 | Optimizing\n",
            "2019-02-16 20:50:37 | itr #44 | Start CG optimization: #parameters: 10528, #inputs: 129, #subsample_inputs: 129\n",
            "2019-02-16 20:50:37 | itr #44 | computing loss before\n",
            "2019-02-16 20:50:37 | itr #44 | performing update\n",
            "2019-02-16 20:50:37 | itr #44 | computing gradient\n",
            "2019-02-16 20:50:37 | itr #44 | gradient computed\n",
            "2019-02-16 20:50:37 | itr #44 | computing descent direction\n"
          ],
          "name": "stdout"
        },
        {
          "output_type": "stream",
          "text": [
            "\n",
            "Total time elapsed: 00:00:04\n"
          ],
          "name": "stderr"
        },
        {
          "output_type": "stream",
          "text": [
            "2019-02-16 20:50:37 | itr #44 | descent direction computed\n",
            "2019-02-16 20:50:38 | itr #44 | backtrack iters: 0\n",
            "2019-02-16 20:50:38 | itr #44 | computing loss after\n",
            "2019-02-16 20:50:38 | itr #44 | optimization finished\n",
            "2019-02-16 20:50:38 | itr #44 | Computing KL after\n",
            "2019-02-16 20:50:38 | itr #44 | Computing loss after\n",
            "2019-02-16 20:50:38 | itr #44 | Fitting baseline...\n",
            "2019-02-16 20:50:38 | itr #44 | Saving snapshot...\n",
            "2019-02-16 20:50:38 | itr #44 | Saved\n",
            "2019-02-16 20:50:38 | --------------------------  --------------\n",
            "2019-02-16 20:50:38 | AverageDiscountedReturn       30.553\n",
            "2019-02-16 20:50:38 | AverageReturn                 31.2093\n",
            "2019-02-16 20:50:38 | Baseline/ExplainedVariance     0.567154\n",
            "2019-02-16 20:50:38 | Entropy                        4.63431\n",
            "2019-02-16 20:50:38 | EnvExecTime                    0.902492\n",
            "2019-02-16 20:50:38 | Iteration                     44\n",
            "2019-02-16 20:50:38 | ItrTime                        5.3258\n",
            "2019-02-16 20:50:38 | MaxReturn                    110\n",
            "2019-02-16 20:50:38 | MinReturn                   -111\n",
            "2019-02-16 20:50:38 | NumTrajs                     129\n",
            "2019-02-16 20:50:38 | Perplexity                   102.957\n",
            "2019-02-16 20:50:38 | PolicyExecTime                 3.97315\n",
            "2019-02-16 20:50:38 | ProcessExecTime                0.0410509\n",
            "2019-02-16 20:50:38 | StdReturn                     66.9953\n",
            "2019-02-16 20:50:38 | Time                         238.983\n",
            "2019-02-16 20:50:38 | policy/Entropy                 0.0198724\n",
            "2019-02-16 20:50:38 | policy/KL                      0.00821661\n",
            "2019-02-16 20:50:38 | policy/KLBefore                0\n",
            "2019-02-16 20:50:38 | policy/LossAfter              -0.0408118\n",
            "2019-02-16 20:50:38 | policy/LossBefore              1.09356e-08\n",
            "2019-02-16 20:50:38 | policy/dLoss                   0.0408118\n",
            "2019-02-16 20:50:38 | --------------------------  --------------\n",
            "2019-02-16 20:50:38 | itr #45 | Obtaining samples...\n",
            "2019-02-16 20:50:38 | itr #45 | Obtaining samples for iteration 45...\n"
          ],
          "name": "stdout"
        },
        {
          "output_type": "stream",
          "text": [
            "0% [##############################] 100% | ETA: 00:00:00"
          ],
          "name": "stderr"
        },
        {
          "output_type": "stream",
          "text": [
            "2019-02-16 20:50:42 | itr #45 | Processing samples...\n",
            "2019-02-16 20:50:42 | itr #45 | Logging diagnostics...\n",
            "2019-02-16 20:50:42 | itr #45 | Optimizing policy...\n",
            "2019-02-16 20:50:42 | itr #45 | Computing loss before\n",
            "2019-02-16 20:50:42 | itr #45 | Computing KL before\n",
            "2019-02-16 20:50:42 | itr #45 | Optimizing\n",
            "2019-02-16 20:50:42 | itr #45 | Start CG optimization: #parameters: 10528, #inputs: 126, #subsample_inputs: 126\n",
            "2019-02-16 20:50:42 | itr #45 | computing loss before\n",
            "2019-02-16 20:50:43 | itr #45 | performing update\n",
            "2019-02-16 20:50:43 | itr #45 | computing gradient\n",
            "2019-02-16 20:50:43 | itr #45 | gradient computed\n",
            "2019-02-16 20:50:43 | itr #45 | computing descent direction\n"
          ],
          "name": "stdout"
        },
        {
          "output_type": "stream",
          "text": [
            "\n",
            "Total time elapsed: 00:00:04\n"
          ],
          "name": "stderr"
        },
        {
          "output_type": "stream",
          "text": [
            "2019-02-16 20:50:43 | itr #45 | descent direction computed\n",
            "2019-02-16 20:50:43 | itr #45 | backtrack iters: 0\n",
            "2019-02-16 20:50:43 | itr #45 | computing loss after\n",
            "2019-02-16 20:50:43 | itr #45 | optimization finished\n",
            "2019-02-16 20:50:43 | itr #45 | Computing KL after\n",
            "2019-02-16 20:50:43 | itr #45 | Computing loss after\n",
            "2019-02-16 20:50:43 | itr #45 | Fitting baseline...\n",
            "2019-02-16 20:50:43 | itr #45 | Saving snapshot...\n",
            "2019-02-16 20:50:43 | itr #45 | Saved\n",
            "2019-02-16 20:50:43 | --------------------------  -------------\n",
            "2019-02-16 20:50:43 | AverageDiscountedReturn       25.9839\n",
            "2019-02-16 20:50:43 | AverageReturn                 25.6984\n",
            "2019-02-16 20:50:43 | Baseline/ExplainedVariance     0.482669\n",
            "2019-02-16 20:50:43 | Entropy                        4.6802\n",
            "2019-02-16 20:50:43 | EnvExecTime                    0.857326\n",
            "2019-02-16 20:50:43 | Iteration                     45\n",
            "2019-02-16 20:50:43 | ItrTime                        5.17398\n",
            "2019-02-16 20:50:43 | MaxReturn                    110\n",
            "2019-02-16 20:50:43 | MinReturn                   -181\n",
            "2019-02-16 20:50:43 | NumTrajs                     126\n",
            "2019-02-16 20:50:43 | Perplexity                   107.791\n",
            "2019-02-16 20:50:43 | PolicyExecTime                 3.88583\n",
            "2019-02-16 20:50:43 | ProcessExecTime                0.0404284\n",
            "2019-02-16 20:50:43 | StdReturn                     64.9117\n",
            "2019-02-16 20:50:43 | Time                         244.19\n",
            "2019-02-16 20:50:43 | policy/Entropy                 0.0186907\n",
            "2019-02-16 20:50:43 | policy/KL                      0.00885274\n",
            "2019-02-16 20:50:43 | policy/KLBefore                0\n",
            "2019-02-16 20:50:43 | policy/LossAfter              -0.0348784\n",
            "2019-02-16 20:50:43 | policy/LossBefore             -0\n",
            "2019-02-16 20:50:43 | policy/dLoss                   0.0348784\n",
            "2019-02-16 20:50:43 | --------------------------  -------------\n",
            "2019-02-16 20:50:43 | itr #46 | Obtaining samples...\n",
            "2019-02-16 20:50:43 | itr #46 | Obtaining samples for iteration 46...\n"
          ],
          "name": "stdout"
        },
        {
          "output_type": "stream",
          "text": [
            "0% [##############################] 100% | ETA: 00:00:00"
          ],
          "name": "stderr"
        },
        {
          "output_type": "stream",
          "text": [
            "2019-02-16 20:50:48 | itr #46 | Processing samples...\n",
            "2019-02-16 20:50:48 | itr #46 | Logging diagnostics...\n",
            "2019-02-16 20:50:48 | itr #46 | Optimizing policy...\n",
            "2019-02-16 20:50:48 | itr #46 | Computing loss before\n",
            "2019-02-16 20:50:48 | itr #46 | Computing KL before\n",
            "2019-02-16 20:50:48 | itr #46 | Optimizing\n",
            "2019-02-16 20:50:48 | itr #46 | Start CG optimization: #parameters: 10528, #inputs: 128, #subsample_inputs: 128\n",
            "2019-02-16 20:50:48 | itr #46 | computing loss before\n",
            "2019-02-16 20:50:48 | itr #46 | performing update\n",
            "2019-02-16 20:50:48 | itr #46 | computing gradient\n",
            "2019-02-16 20:50:48 | itr #46 | gradient computed\n",
            "2019-02-16 20:50:48 | itr #46 | computing descent direction\n"
          ],
          "name": "stdout"
        },
        {
          "output_type": "stream",
          "text": [
            "\n",
            "Total time elapsed: 00:00:04\n"
          ],
          "name": "stderr"
        },
        {
          "output_type": "stream",
          "text": [
            "2019-02-16 20:50:48 | itr #46 | descent direction computed\n",
            "2019-02-16 20:50:48 | itr #46 | backtrack iters: 1\n",
            "2019-02-16 20:50:48 | itr #46 | computing loss after\n",
            "2019-02-16 20:50:48 | itr #46 | optimization finished\n",
            "2019-02-16 20:50:48 | itr #46 | Computing KL after\n",
            "2019-02-16 20:50:48 | itr #46 | Computing loss after\n",
            "2019-02-16 20:50:48 | itr #46 | Fitting baseline...\n",
            "2019-02-16 20:50:48 | itr #46 | Saving snapshot...\n",
            "2019-02-16 20:50:48 | itr #46 | Saved\n",
            "2019-02-16 20:50:48 | --------------------------  -------------\n",
            "2019-02-16 20:50:48 | AverageDiscountedReturn      31.1584\n",
            "2019-02-16 20:50:48 | AverageReturn                31.7812\n",
            "2019-02-16 20:50:48 | Baseline/ExplainedVariance    0.57591\n",
            "2019-02-16 20:50:48 | Entropy                       4.64877\n",
            "2019-02-16 20:50:48 | EnvExecTime                   0.844091\n",
            "2019-02-16 20:50:48 | Iteration                    46\n",
            "2019-02-16 20:50:48 | ItrTime                       5.12973\n",
            "2019-02-16 20:50:48 | MaxReturn                   110\n",
            "2019-02-16 20:50:48 | MinReturn                   -89\n",
            "2019-02-16 20:50:48 | NumTrajs                    128\n",
            "2019-02-16 20:50:48 | Perplexity                  104.457\n",
            "2019-02-16 20:50:48 | PolicyExecTime                3.8309\n",
            "2019-02-16 20:50:48 | ProcessExecTime               0.0407691\n",
            "2019-02-16 20:50:48 | StdReturn                    67.7153\n",
            "2019-02-16 20:50:48 | Time                        249.377\n",
            "2019-02-16 20:50:48 | policy/Entropy                0.0196719\n",
            "2019-02-16 20:50:48 | policy/KL                     0.00770454\n",
            "2019-02-16 20:50:48 | policy/KLBefore               0\n",
            "2019-02-16 20:50:48 | policy/LossAfter             -0.0356461\n",
            "2019-02-16 20:50:48 | policy/LossBefore            -2.19973e-08\n",
            "2019-02-16 20:50:48 | policy/dLoss                  0.0356461\n",
            "2019-02-16 20:50:48 | --------------------------  -------------\n",
            "2019-02-16 20:50:48 | itr #47 | Obtaining samples...\n",
            "2019-02-16 20:50:48 | itr #47 | Obtaining samples for iteration 47...\n"
          ],
          "name": "stdout"
        },
        {
          "output_type": "stream",
          "text": [
            "0% [##############################] 100% | ETA: 00:00:00"
          ],
          "name": "stderr"
        },
        {
          "output_type": "stream",
          "text": [
            "2019-02-16 20:50:53 | itr #47 | Processing samples...\n",
            "2019-02-16 20:50:53 | itr #47 | Logging diagnostics...\n",
            "2019-02-16 20:50:53 | itr #47 | Optimizing policy...\n",
            "2019-02-16 20:50:53 | itr #47 | Computing loss before\n",
            "2019-02-16 20:50:53 | itr #47 | Computing KL before\n",
            "2019-02-16 20:50:53 | itr #47 | Optimizing\n",
            "2019-02-16 20:50:53 | itr #47 | Start CG optimization: #parameters: 10528, #inputs: 122, #subsample_inputs: 122\n",
            "2019-02-16 20:50:53 | itr #47 | computing loss before\n",
            "2019-02-16 20:50:53 | itr #47 | performing update\n",
            "2019-02-16 20:50:53 | itr #47 | computing gradient\n",
            "2019-02-16 20:50:53 | itr #47 | gradient computed\n",
            "2019-02-16 20:50:53 | itr #47 | computing descent direction\n"
          ],
          "name": "stdout"
        },
        {
          "output_type": "stream",
          "text": [
            "\n",
            "Total time elapsed: 00:00:04\n"
          ],
          "name": "stderr"
        },
        {
          "output_type": "stream",
          "text": [
            "2019-02-16 20:50:53 | itr #47 | descent direction computed\n",
            "2019-02-16 20:50:53 | itr #47 | backtrack iters: 0\n",
            "2019-02-16 20:50:53 | itr #47 | computing loss after\n",
            "2019-02-16 20:50:53 | itr #47 | optimization finished\n",
            "2019-02-16 20:50:53 | itr #47 | Computing KL after\n",
            "2019-02-16 20:50:53 | itr #47 | Computing loss after\n",
            "2019-02-16 20:50:53 | itr #47 | Fitting baseline...\n",
            "2019-02-16 20:50:53 | itr #47 | Saving snapshot...\n",
            "2019-02-16 20:50:53 | itr #47 | Saved\n",
            "2019-02-16 20:50:53 | --------------------------  -------------\n",
            "2019-02-16 20:50:53 | AverageDiscountedReturn      25.3636\n",
            "2019-02-16 20:50:53 | AverageReturn                24.7705\n",
            "2019-02-16 20:50:53 | Baseline/ExplainedVariance    0.49661\n",
            "2019-02-16 20:50:53 | Entropy                       4.64598\n",
            "2019-02-16 20:50:53 | EnvExecTime                   0.863685\n",
            "2019-02-16 20:50:53 | Iteration                    47\n",
            "2019-02-16 20:50:53 | ItrTime                       5.19009\n",
            "2019-02-16 20:50:53 | MaxReturn                   110\n",
            "2019-02-16 20:50:53 | MinReturn                   -89\n",
            "2019-02-16 20:50:53 | NumTrajs                    122\n",
            "2019-02-16 20:50:53 | Perplexity                  104.166\n",
            "2019-02-16 20:50:53 | PolicyExecTime                3.88734\n",
            "2019-02-16 20:50:53 | ProcessExecTime               0.0403485\n",
            "2019-02-16 20:50:53 | StdReturn                    63.0539\n",
            "2019-02-16 20:50:53 | Time                        254.61\n",
            "2019-02-16 20:50:53 | policy/Entropy                0.0196916\n",
            "2019-02-16 20:50:53 | policy/KL                     0.00819626\n",
            "2019-02-16 20:50:53 | policy/KLBefore               0\n",
            "2019-02-16 20:50:53 | policy/LossAfter             -0.0435641\n",
            "2019-02-16 20:50:53 | policy/LossBefore             1.04852e-08\n",
            "2019-02-16 20:50:53 | policy/dLoss                  0.0435641\n",
            "2019-02-16 20:50:53 | --------------------------  -------------\n",
            "2019-02-16 20:50:53 | itr #48 | Obtaining samples...\n",
            "2019-02-16 20:50:53 | itr #48 | Obtaining samples for iteration 48...\n"
          ],
          "name": "stdout"
        },
        {
          "output_type": "stream",
          "text": [
            "0% [##############################] 100% | ETA: 00:00:00"
          ],
          "name": "stderr"
        },
        {
          "output_type": "stream",
          "text": [
            "2019-02-16 20:50:58 | itr #48 | Processing samples...\n",
            "2019-02-16 20:50:58 | itr #48 | Logging diagnostics...\n",
            "2019-02-16 20:50:58 | itr #48 | Optimizing policy...\n",
            "2019-02-16 20:50:58 | itr #48 | Computing loss before\n",
            "2019-02-16 20:50:58 | itr #48 | Computing KL before\n",
            "2019-02-16 20:50:58 | itr #48 | Optimizing\n",
            "2019-02-16 20:50:58 | itr #48 | Start CG optimization: #parameters: 10528, #inputs: 123, #subsample_inputs: 123\n",
            "2019-02-16 20:50:58 | itr #48 | computing loss before\n",
            "2019-02-16 20:50:58 | itr #48 | performing update\n",
            "2019-02-16 20:50:58 | itr #48 | computing gradient\n",
            "2019-02-16 20:50:58 | itr #48 | gradient computed\n",
            "2019-02-16 20:50:58 | itr #48 | computing descent direction\n"
          ],
          "name": "stdout"
        },
        {
          "output_type": "stream",
          "text": [
            "\n",
            "Total time elapsed: 00:00:04\n"
          ],
          "name": "stderr"
        },
        {
          "output_type": "stream",
          "text": [
            "2019-02-16 20:50:58 | itr #48 | descent direction computed\n",
            "2019-02-16 20:50:58 | itr #48 | backtrack iters: 1\n",
            "2019-02-16 20:50:58 | itr #48 | computing loss after\n",
            "2019-02-16 20:50:58 | itr #48 | optimization finished\n",
            "2019-02-16 20:50:58 | itr #48 | Computing KL after\n",
            "2019-02-16 20:50:58 | itr #48 | Computing loss after\n",
            "2019-02-16 20:50:58 | itr #48 | Fitting baseline...\n",
            "2019-02-16 20:50:58 | itr #48 | Saving snapshot...\n",
            "2019-02-16 20:50:58 | itr #48 | Saved\n",
            "2019-02-16 20:50:58 | --------------------------  -------------\n",
            "2019-02-16 20:50:58 | AverageDiscountedReturn      21.4226\n",
            "2019-02-16 20:50:58 | AverageReturn                20.6341\n",
            "2019-02-16 20:50:58 | Baseline/ExplainedVariance    0.483074\n",
            "2019-02-16 20:50:58 | Entropy                       4.66037\n",
            "2019-02-16 20:50:58 | EnvExecTime                   0.846251\n",
            "2019-02-16 20:50:58 | Iteration                    48\n",
            "2019-02-16 20:50:58 | ItrTime                       5.15069\n",
            "2019-02-16 20:50:58 | MaxReturn                   110\n",
            "2019-02-16 20:50:58 | MinReturn                   -96\n",
            "2019-02-16 20:50:58 | NumTrajs                    123\n",
            "2019-02-16 20:50:58 | Perplexity                  105.675\n",
            "2019-02-16 20:50:58 | PolicyExecTime                3.87022\n",
            "2019-02-16 20:50:58 | ProcessExecTime               0.0385349\n",
            "2019-02-16 20:50:58 | StdReturn                    60.4562\n",
            "2019-02-16 20:50:58 | Time                        259.811\n",
            "2019-02-16 20:50:58 | policy/Entropy                0.019804\n",
            "2019-02-16 20:50:58 | policy/KL                     0.00639695\n",
            "2019-02-16 20:50:58 | policy/KLBefore               0\n",
            "2019-02-16 20:50:58 | policy/LossAfter             -0.0369739\n",
            "2019-02-16 20:50:58 | policy/LossBefore             1.12224e-08\n",
            "2019-02-16 20:50:58 | policy/dLoss                  0.0369739\n",
            "2019-02-16 20:50:58 | --------------------------  -------------\n",
            "2019-02-16 20:50:58 | itr #49 | Obtaining samples...\n",
            "2019-02-16 20:50:58 | itr #49 | Obtaining samples for iteration 49...\n"
          ],
          "name": "stdout"
        },
        {
          "output_type": "stream",
          "text": [
            "0% [##############################] 100% | ETA: 00:00:00"
          ],
          "name": "stderr"
        },
        {
          "output_type": "stream",
          "text": [
            "2019-02-16 20:51:03 | itr #49 | Processing samples...\n",
            "2019-02-16 20:51:03 | itr #49 | Logging diagnostics...\n",
            "2019-02-16 20:51:03 | itr #49 | Optimizing policy...\n",
            "2019-02-16 20:51:03 | itr #49 | Computing loss before\n",
            "2019-02-16 20:51:03 | itr #49 | Computing KL before\n",
            "2019-02-16 20:51:03 | itr #49 | Optimizing\n",
            "2019-02-16 20:51:03 | itr #49 | Start CG optimization: #parameters: 10528, #inputs: 127, #subsample_inputs: 127\n",
            "2019-02-16 20:51:03 | itr #49 | computing loss before\n",
            "2019-02-16 20:51:03 | itr #49 | performing update\n",
            "2019-02-16 20:51:03 | itr #49 | computing gradient\n",
            "2019-02-16 20:51:03 | itr #49 | gradient computed\n",
            "2019-02-16 20:51:03 | itr #49 | computing descent direction\n"
          ],
          "name": "stdout"
        },
        {
          "output_type": "stream",
          "text": [
            "\n",
            "Total time elapsed: 00:00:04\n"
          ],
          "name": "stderr"
        },
        {
          "output_type": "stream",
          "text": [
            "2019-02-16 20:51:03 | itr #49 | descent direction computed\n",
            "2019-02-16 20:51:03 | itr #49 | backtrack iters: 0\n",
            "2019-02-16 20:51:03 | itr #49 | computing loss after\n",
            "2019-02-16 20:51:03 | itr #49 | optimization finished\n",
            "2019-02-16 20:51:03 | itr #49 | Computing KL after\n",
            "2019-02-16 20:51:03 | itr #49 | Computing loss after\n",
            "2019-02-16 20:51:03 | itr #49 | Fitting baseline...\n",
            "2019-02-16 20:51:03 | itr #49 | Saving snapshot...\n",
            "2019-02-16 20:51:03 | itr #49 | Saved\n",
            "2019-02-16 20:51:03 | --------------------------  -------------\n",
            "2019-02-16 20:51:03 | AverageDiscountedReturn      36.3352\n",
            "2019-02-16 20:51:03 | AverageReturn                37.063\n",
            "2019-02-16 20:51:03 | Baseline/ExplainedVariance    0.597721\n",
            "2019-02-16 20:51:03 | Entropy                       4.56694\n",
            "2019-02-16 20:51:03 | EnvExecTime                   0.821076\n",
            "2019-02-16 20:51:03 | Iteration                    49\n",
            "2019-02-16 20:51:03 | ItrTime                       4.96665\n",
            "2019-02-16 20:51:03 | MaxReturn                   110\n",
            "2019-02-16 20:51:03 | MinReturn                   -93\n",
            "2019-02-16 20:51:03 | NumTrajs                    127\n",
            "2019-02-16 20:51:03 | Perplexity                   96.2496\n",
            "2019-02-16 20:51:03 | PolicyExecTime                3.71737\n",
            "2019-02-16 20:51:03 | ProcessExecTime               0.0384789\n",
            "2019-02-16 20:51:03 | StdReturn                    63.3698\n",
            "2019-02-16 20:51:03 | Time                        264.809\n",
            "2019-02-16 20:51:03 | policy/Entropy                0.0220741\n",
            "2019-02-16 20:51:03 | policy/KL                     0.00917569\n",
            "2019-02-16 20:51:03 | policy/KLBefore               0\n",
            "2019-02-16 20:51:03 | policy/LossAfter             -0.0344773\n",
            "2019-02-16 20:51:03 | policy/LossBefore             2.81874e-09\n",
            "2019-02-16 20:51:03 | policy/dLoss                  0.0344774\n",
            "2019-02-16 20:51:03 | --------------------------  -------------\n",
            "2019-02-16 20:51:03 | itr #50 | Obtaining samples...\n",
            "2019-02-16 20:51:03 | itr #50 | Obtaining samples for iteration 50...\n"
          ],
          "name": "stdout"
        },
        {
          "output_type": "stream",
          "text": [
            "0% [##############################] 100% | ETA: 00:00:00"
          ],
          "name": "stderr"
        },
        {
          "output_type": "stream",
          "text": [
            "2019-02-16 20:51:08 | itr #50 | Processing samples...\n",
            "2019-02-16 20:51:08 | itr #50 | Logging diagnostics...\n",
            "2019-02-16 20:51:08 | itr #50 | Optimizing policy...\n",
            "2019-02-16 20:51:08 | itr #50 | Computing loss before\n",
            "2019-02-16 20:51:08 | itr #50 | Computing KL before\n",
            "2019-02-16 20:51:08 | itr #50 | Optimizing\n",
            "2019-02-16 20:51:08 | itr #50 | Start CG optimization: #parameters: 10528, #inputs: 125, #subsample_inputs: 125\n",
            "2019-02-16 20:51:08 | itr #50 | computing loss before\n",
            "2019-02-16 20:51:08 | itr #50 | performing update\n",
            "2019-02-16 20:51:08 | itr #50 | computing gradient\n",
            "2019-02-16 20:51:08 | itr #50 | gradient computed\n",
            "2019-02-16 20:51:08 | itr #50 | computing descent direction\n"
          ],
          "name": "stdout"
        },
        {
          "output_type": "stream",
          "text": [
            "\n",
            "Total time elapsed: 00:00:04\n"
          ],
          "name": "stderr"
        },
        {
          "output_type": "stream",
          "text": [
            "2019-02-16 20:51:08 | itr #50 | descent direction computed\n",
            "2019-02-16 20:51:08 | itr #50 | backtrack iters: 0\n",
            "2019-02-16 20:51:08 | itr #50 | computing loss after\n",
            "2019-02-16 20:51:08 | itr #50 | optimization finished\n",
            "2019-02-16 20:51:08 | itr #50 | Computing KL after\n",
            "2019-02-16 20:51:09 | itr #50 | Computing loss after\n",
            "2019-02-16 20:51:09 | itr #50 | Fitting baseline...\n",
            "2019-02-16 20:51:09 | itr #50 | Saving snapshot...\n",
            "2019-02-16 20:51:09 | itr #50 | Saved\n",
            "2019-02-16 20:51:09 | --------------------------  ------------\n",
            "2019-02-16 20:51:09 | AverageDiscountedReturn       33.3122\n",
            "2019-02-16 20:51:09 | AverageReturn                 34.384\n",
            "2019-02-16 20:51:09 | Baseline/ExplainedVariance     0.53388\n",
            "2019-02-16 20:51:09 | Entropy                        4.55256\n",
            "2019-02-16 20:51:09 | EnvExecTime                    0.853\n",
            "2019-02-16 20:51:09 | Iteration                     50\n",
            "2019-02-16 20:51:09 | ItrTime                        5.10203\n",
            "2019-02-16 20:51:09 | MaxReturn                    110\n",
            "2019-02-16 20:51:09 | MinReturn                   -100\n",
            "2019-02-16 20:51:09 | NumTrajs                     125\n",
            "2019-02-16 20:51:09 | Perplexity                    94.8751\n",
            "2019-02-16 20:51:09 | PolicyExecTime                 3.81928\n",
            "2019-02-16 20:51:09 | ProcessExecTime                0.0394263\n",
            "2019-02-16 20:51:09 | StdReturn                     67.4973\n",
            "2019-02-16 20:51:09 | Time                         269.969\n",
            "2019-02-16 20:51:09 | policy/Entropy                 0.021939\n",
            "2019-02-16 20:51:09 | policy/KL                      0.0081302\n",
            "2019-02-16 20:51:09 | policy/KLBefore                0\n",
            "2019-02-16 20:51:09 | policy/LossAfter              -0.0336682\n",
            "2019-02-16 20:51:09 | policy/LossBefore             -0\n",
            "2019-02-16 20:51:09 | policy/dLoss                   0.0336682\n",
            "2019-02-16 20:51:09 | --------------------------  ------------\n",
            "2019-02-16 20:51:09 | itr #51 | Obtaining samples...\n",
            "2019-02-16 20:51:09 | itr #51 | Obtaining samples for iteration 51...\n"
          ],
          "name": "stdout"
        },
        {
          "output_type": "stream",
          "text": [
            "0% [##############################] 100% | ETA: 00:00:00"
          ],
          "name": "stderr"
        },
        {
          "output_type": "stream",
          "text": [
            "2019-02-16 20:51:13 | itr #51 | Processing samples...\n",
            "2019-02-16 20:51:13 | itr #51 | Logging diagnostics...\n",
            "2019-02-16 20:51:13 | itr #51 | Optimizing policy...\n",
            "2019-02-16 20:51:13 | itr #51 | Computing loss before\n",
            "2019-02-16 20:51:13 | itr #51 | Computing KL before\n",
            "2019-02-16 20:51:13 | itr #51 | Optimizing\n",
            "2019-02-16 20:51:13 | itr #51 | Start CG optimization: #parameters: 10528, #inputs: 128, #subsample_inputs: 128\n",
            "2019-02-16 20:51:13 | itr #51 | computing loss before\n",
            "2019-02-16 20:51:13 | itr #51 | performing update\n",
            "2019-02-16 20:51:13 | itr #51 | computing gradient\n",
            "2019-02-16 20:51:13 | itr #51 | gradient computed\n",
            "2019-02-16 20:51:13 | itr #51 | computing descent direction\n"
          ],
          "name": "stdout"
        },
        {
          "output_type": "stream",
          "text": [
            "\n",
            "Total time elapsed: 00:00:04\n"
          ],
          "name": "stderr"
        },
        {
          "output_type": "stream",
          "text": [
            "2019-02-16 20:51:14 | itr #51 | descent direction computed\n",
            "2019-02-16 20:51:14 | itr #51 | backtrack iters: 0\n",
            "2019-02-16 20:51:14 | itr #51 | computing loss after\n",
            "2019-02-16 20:51:14 | itr #51 | optimization finished\n",
            "2019-02-16 20:51:14 | itr #51 | Computing KL after\n",
            "2019-02-16 20:51:14 | itr #51 | Computing loss after\n",
            "2019-02-16 20:51:14 | itr #51 | Fitting baseline...\n",
            "2019-02-16 20:51:14 | itr #51 | Saving snapshot...\n",
            "2019-02-16 20:51:14 | itr #51 | Saved\n",
            "2019-02-16 20:51:14 | --------------------------  -------------\n",
            "2019-02-16 20:51:14 | AverageDiscountedReturn      32.7643\n",
            "2019-02-16 20:51:14 | AverageReturn                33.2578\n",
            "2019-02-16 20:51:14 | Baseline/ExplainedVariance    0.556441\n",
            "2019-02-16 20:51:14 | Entropy                       4.52855\n",
            "2019-02-16 20:51:14 | EnvExecTime                   0.846493\n",
            "2019-02-16 20:51:14 | Iteration                    51\n",
            "2019-02-16 20:51:14 | ItrTime                       5.12533\n",
            "2019-02-16 20:51:14 | MaxReturn                   110\n",
            "2019-02-16 20:51:14 | MinReturn                   -74\n",
            "2019-02-16 20:51:14 | NumTrajs                    128\n",
            "2019-02-16 20:51:14 | Perplexity                   92.6242\n",
            "2019-02-16 20:51:14 | PolicyExecTime                3.84606\n",
            "2019-02-16 20:51:14 | ProcessExecTime               0.0401988\n",
            "2019-02-16 20:51:14 | StdReturn                    63.4417\n",
            "2019-02-16 20:51:14 | Time                        275.146\n",
            "2019-02-16 20:51:14 | policy/Entropy                0.022696\n",
            "2019-02-16 20:51:14 | policy/KL                     0.00777239\n",
            "2019-02-16 20:51:14 | policy/KLBefore               0\n",
            "2019-02-16 20:51:14 | policy/LossAfter             -0.0364711\n",
            "2019-02-16 20:51:14 | policy/LossBefore             1.84731e-08\n",
            "2019-02-16 20:51:14 | policy/dLoss                  0.0364711\n",
            "2019-02-16 20:51:14 | --------------------------  -------------\n",
            "2019-02-16 20:51:14 | itr #52 | Obtaining samples...\n",
            "2019-02-16 20:51:14 | itr #52 | Obtaining samples for iteration 52...\n"
          ],
          "name": "stdout"
        },
        {
          "output_type": "stream",
          "text": [
            "0% [##############################] 100% | ETA: 00:00:00"
          ],
          "name": "stderr"
        },
        {
          "output_type": "stream",
          "text": [
            "2019-02-16 20:51:19 | itr #52 | Processing samples...\n",
            "2019-02-16 20:51:19 | itr #52 | Logging diagnostics...\n",
            "2019-02-16 20:51:19 | itr #52 | Optimizing policy...\n",
            "2019-02-16 20:51:19 | itr #52 | Computing loss before\n",
            "2019-02-16 20:51:19 | itr #52 | Computing KL before\n",
            "2019-02-16 20:51:19 | itr #52 | Optimizing\n",
            "2019-02-16 20:51:19 | itr #52 | Start CG optimization: #parameters: 10528, #inputs: 122, #subsample_inputs: 122\n",
            "2019-02-16 20:51:19 | itr #52 | computing loss before\n",
            "2019-02-16 20:51:19 | itr #52 | performing update\n",
            "2019-02-16 20:51:19 | itr #52 | computing gradient\n",
            "2019-02-16 20:51:19 | itr #52 | gradient computed\n",
            "2019-02-16 20:51:19 | itr #52 | computing descent direction\n"
          ],
          "name": "stdout"
        },
        {
          "output_type": "stream",
          "text": [
            "\n",
            "Total time elapsed: 00:00:04\n"
          ],
          "name": "stderr"
        },
        {
          "output_type": "stream",
          "text": [
            "2019-02-16 20:51:19 | itr #52 | descent direction computed\n",
            "2019-02-16 20:51:19 | itr #52 | backtrack iters: 0\n",
            "2019-02-16 20:51:19 | itr #52 | computing loss after\n",
            "2019-02-16 20:51:19 | itr #52 | optimization finished\n",
            "2019-02-16 20:51:19 | itr #52 | Computing KL after\n",
            "2019-02-16 20:51:19 | itr #52 | Computing loss after\n",
            "2019-02-16 20:51:19 | itr #52 | Fitting baseline...\n",
            "2019-02-16 20:51:19 | itr #52 | Saving snapshot...\n",
            "2019-02-16 20:51:19 | itr #52 | Saved\n",
            "2019-02-16 20:51:19 | --------------------------  -------------\n",
            "2019-02-16 20:51:19 | AverageDiscountedReturn      24.5045\n",
            "2019-02-16 20:51:19 | AverageReturn                24.3033\n",
            "2019-02-16 20:51:19 | Baseline/ExplainedVariance    0.54185\n",
            "2019-02-16 20:51:19 | Entropy                       4.60225\n",
            "2019-02-16 20:51:19 | EnvExecTime                   0.840925\n",
            "2019-02-16 20:51:19 | Iteration                    52\n",
            "2019-02-16 20:51:19 | ItrTime                       5.09674\n",
            "2019-02-16 20:51:19 | MaxReturn                   110\n",
            "2019-02-16 20:51:19 | MinReturn                   -79\n",
            "2019-02-16 20:51:19 | NumTrajs                    122\n",
            "2019-02-16 20:51:19 | Perplexity                   99.7086\n",
            "2019-02-16 20:51:19 | PolicyExecTime                3.83213\n",
            "2019-02-16 20:51:19 | ProcessExecTime               0.0396528\n",
            "2019-02-16 20:51:19 | StdReturn                    62.5719\n",
            "2019-02-16 20:51:19 | Time                        280.279\n",
            "2019-02-16 20:51:19 | policy/Entropy                0.0220936\n",
            "2019-02-16 20:51:19 | policy/KL                     0.00980778\n",
            "2019-02-16 20:51:19 | policy/KLBefore               0\n",
            "2019-02-16 20:51:19 | policy/LossAfter             -0.0402948\n",
            "2019-02-16 20:51:19 | policy/LossBefore             2.61541e-09\n",
            "2019-02-16 20:51:19 | policy/dLoss                  0.0402948\n",
            "2019-02-16 20:51:19 | --------------------------  -------------\n",
            "2019-02-16 20:51:19 | itr #53 | Obtaining samples...\n",
            "2019-02-16 20:51:19 | itr #53 | Obtaining samples for iteration 53...\n"
          ],
          "name": "stdout"
        },
        {
          "output_type": "stream",
          "text": [
            "0% [##############################] 100% | ETA: 00:00:00"
          ],
          "name": "stderr"
        },
        {
          "output_type": "stream",
          "text": [
            "2019-02-16 20:51:24 | itr #53 | Processing samples...\n",
            "2019-02-16 20:51:24 | itr #53 | Logging diagnostics...\n",
            "2019-02-16 20:51:24 | itr #53 | Optimizing policy...\n",
            "2019-02-16 20:51:24 | itr #53 | Computing loss before\n",
            "2019-02-16 20:51:24 | itr #53 | Computing KL before\n",
            "2019-02-16 20:51:24 | itr #53 | Optimizing\n",
            "2019-02-16 20:51:24 | itr #53 | Start CG optimization: #parameters: 10528, #inputs: 129, #subsample_inputs: 129\n",
            "2019-02-16 20:51:24 | itr #53 | computing loss before\n",
            "2019-02-16 20:51:24 | itr #53 | performing update\n",
            "2019-02-16 20:51:24 | itr #53 | computing gradient\n",
            "2019-02-16 20:51:24 | itr #53 | gradient computed\n",
            "2019-02-16 20:51:24 | itr #53 | computing descent direction\n"
          ],
          "name": "stdout"
        },
        {
          "output_type": "stream",
          "text": [
            "\n",
            "Total time elapsed: 00:00:04\n"
          ],
          "name": "stderr"
        },
        {
          "output_type": "stream",
          "text": [
            "2019-02-16 20:51:24 | itr #53 | descent direction computed\n",
            "2019-02-16 20:51:24 | itr #53 | backtrack iters: 0\n",
            "2019-02-16 20:51:24 | itr #53 | computing loss after\n",
            "2019-02-16 20:51:24 | itr #53 | optimization finished\n",
            "2019-02-16 20:51:24 | itr #53 | Computing KL after\n",
            "2019-02-16 20:51:24 | itr #53 | Computing loss after\n",
            "2019-02-16 20:51:24 | itr #53 | Fitting baseline...\n",
            "2019-02-16 20:51:24 | itr #53 | Saving snapshot...\n",
            "2019-02-16 20:51:24 | itr #53 | Saved\n",
            "2019-02-16 20:51:24 | --------------------------  ------------\n",
            "2019-02-16 20:51:24 | AverageDiscountedReturn      35.1958\n",
            "2019-02-16 20:51:24 | AverageReturn                36.2481\n",
            "2019-02-16 20:51:24 | Baseline/ExplainedVariance    0.568644\n",
            "2019-02-16 20:51:24 | Entropy                       4.50607\n",
            "2019-02-16 20:51:24 | EnvExecTime                   0.842113\n",
            "2019-02-16 20:51:24 | Iteration                    53\n",
            "2019-02-16 20:51:24 | ItrTime                       5.06665\n",
            "2019-02-16 20:51:24 | MaxReturn                   110\n",
            "2019-02-16 20:51:24 | MinReturn                   -81\n",
            "2019-02-16 20:51:24 | NumTrajs                    129\n",
            "2019-02-16 20:51:24 | Perplexity                   90.5655\n",
            "2019-02-16 20:51:24 | PolicyExecTime                3.78884\n",
            "2019-02-16 20:51:24 | ProcessExecTime               0.0416324\n",
            "2019-02-16 20:51:24 | StdReturn                    64.4216\n",
            "2019-02-16 20:51:24 | Time                        285.383\n",
            "2019-02-16 20:51:24 | policy/Entropy                0.023424\n",
            "2019-02-16 20:51:24 | policy/KL                     0.00835116\n",
            "2019-02-16 20:51:24 | policy/KLBefore               0\n",
            "2019-02-16 20:51:24 | policy/LossAfter             -0.0307816\n",
            "2019-02-16 20:51:24 | policy/LossBefore            -1.0143e-08\n",
            "2019-02-16 20:51:24 | policy/dLoss                  0.0307816\n",
            "2019-02-16 20:51:24 | --------------------------  ------------\n",
            "2019-02-16 20:51:24 | itr #54 | Obtaining samples...\n",
            "2019-02-16 20:51:24 | itr #54 | Obtaining samples for iteration 54...\n"
          ],
          "name": "stdout"
        },
        {
          "output_type": "stream",
          "text": [
            "0% [##############################] 100% | ETA: 00:00:00"
          ],
          "name": "stderr"
        },
        {
          "output_type": "stream",
          "text": [
            "2019-02-16 20:51:29 | itr #54 | Processing samples...\n",
            "2019-02-16 20:51:29 | itr #54 | Logging diagnostics...\n",
            "2019-02-16 20:51:29 | itr #54 | Optimizing policy...\n",
            "2019-02-16 20:51:29 | itr #54 | Computing loss before\n",
            "2019-02-16 20:51:29 | itr #54 | Computing KL before\n",
            "2019-02-16 20:51:29 | itr #54 | Optimizing\n",
            "2019-02-16 20:51:29 | itr #54 | Start CG optimization: #parameters: 10528, #inputs: 132, #subsample_inputs: 132\n",
            "2019-02-16 20:51:29 | itr #54 | computing loss before\n",
            "2019-02-16 20:51:29 | itr #54 | performing update\n",
            "2019-02-16 20:51:29 | itr #54 | computing gradient\n",
            "2019-02-16 20:51:29 | itr #54 | gradient computed\n",
            "2019-02-16 20:51:29 | itr #54 | computing descent direction\n"
          ],
          "name": "stdout"
        },
        {
          "output_type": "stream",
          "text": [
            "\n",
            "Total time elapsed: 00:00:04\n"
          ],
          "name": "stderr"
        },
        {
          "output_type": "stream",
          "text": [
            "2019-02-16 20:51:29 | itr #54 | descent direction computed\n",
            "2019-02-16 20:51:29 | itr #54 | backtrack iters: 0\n",
            "2019-02-16 20:51:29 | itr #54 | computing loss after\n",
            "2019-02-16 20:51:29 | itr #54 | optimization finished\n",
            "2019-02-16 20:51:29 | itr #54 | Computing KL after\n",
            "2019-02-16 20:51:29 | itr #54 | Computing loss after\n",
            "2019-02-16 20:51:29 | itr #54 | Fitting baseline...\n",
            "2019-02-16 20:51:29 | itr #54 | Saving snapshot...\n",
            "2019-02-16 20:51:29 | itr #54 | Saved\n",
            "2019-02-16 20:51:29 | --------------------------  -------------\n",
            "2019-02-16 20:51:29 | AverageDiscountedReturn      40.6694\n",
            "2019-02-16 20:51:29 | AverageReturn                42.4394\n",
            "2019-02-16 20:51:29 | Baseline/ExplainedVariance    0.606845\n",
            "2019-02-16 20:51:29 | Entropy                       4.4584\n",
            "2019-02-16 20:51:29 | EnvExecTime                   0.828977\n",
            "2019-02-16 20:51:29 | Iteration                    54\n",
            "2019-02-16 20:51:29 | ItrTime                       4.97532\n",
            "2019-02-16 20:51:29 | MaxReturn                   110\n",
            "2019-02-16 20:51:29 | MinReturn                   -97\n",
            "2019-02-16 20:51:29 | NumTrajs                    132\n",
            "2019-02-16 20:51:29 | Perplexity                   86.3497\n",
            "2019-02-16 20:51:29 | PolicyExecTime                3.71069\n",
            "2019-02-16 20:51:29 | ProcessExecTime               0.0399771\n",
            "2019-02-16 20:51:29 | StdReturn                    64.0735\n",
            "2019-02-16 20:51:29 | Time                        290.404\n",
            "2019-02-16 20:51:29 | policy/Entropy                0.0263554\n",
            "2019-02-16 20:51:29 | policy/KL                     0.00802905\n",
            "2019-02-16 20:51:29 | policy/KLBefore               0\n",
            "2019-02-16 20:51:29 | policy/LossAfter             -0.0297503\n",
            "2019-02-16 20:51:29 | policy/LossBefore            -1.10092e-08\n",
            "2019-02-16 20:51:29 | policy/dLoss                  0.0297503\n",
            "2019-02-16 20:51:29 | --------------------------  -------------\n",
            "2019-02-16 20:51:29 | itr #55 | Obtaining samples...\n",
            "2019-02-16 20:51:29 | itr #55 | Obtaining samples for iteration 55...\n"
          ],
          "name": "stdout"
        },
        {
          "output_type": "stream",
          "text": [
            "0% [##############################] 100% | ETA: 00:00:00"
          ],
          "name": "stderr"
        },
        {
          "output_type": "stream",
          "text": [
            "2019-02-16 20:51:34 | itr #55 | Processing samples...\n",
            "2019-02-16 20:51:34 | itr #55 | Logging diagnostics...\n",
            "2019-02-16 20:51:34 | itr #55 | Optimizing policy...\n",
            "2019-02-16 20:51:34 | itr #55 | Computing loss before\n",
            "2019-02-16 20:51:34 | itr #55 | Computing KL before\n",
            "2019-02-16 20:51:34 | itr #55 | Optimizing\n",
            "2019-02-16 20:51:34 | itr #55 | Start CG optimization: #parameters: 10528, #inputs: 128, #subsample_inputs: 128\n",
            "2019-02-16 20:51:34 | itr #55 | computing loss before\n",
            "2019-02-16 20:51:34 | itr #55 | performing update\n",
            "2019-02-16 20:51:34 | itr #55 | computing gradient\n",
            "2019-02-16 20:51:34 | itr #55 | gradient computed\n",
            "2019-02-16 20:51:34 | itr #55 | computing descent direction\n"
          ],
          "name": "stdout"
        },
        {
          "output_type": "stream",
          "text": [
            "\n",
            "Total time elapsed: 00:00:04\n"
          ],
          "name": "stderr"
        },
        {
          "output_type": "stream",
          "text": [
            "2019-02-16 20:51:34 | itr #55 | descent direction computed\n",
            "2019-02-16 20:51:34 | itr #55 | backtrack iters: 0\n",
            "2019-02-16 20:51:34 | itr #55 | computing loss after\n",
            "2019-02-16 20:51:34 | itr #55 | optimization finished\n",
            "2019-02-16 20:51:34 | itr #55 | Computing KL after\n",
            "2019-02-16 20:51:34 | itr #55 | Computing loss after\n",
            "2019-02-16 20:51:34 | itr #55 | Fitting baseline...\n",
            "2019-02-16 20:51:34 | itr #55 | Saving snapshot...\n",
            "2019-02-16 20:51:34 | itr #55 | Saved\n",
            "2019-02-16 20:51:34 | --------------------------  -------------\n",
            "2019-02-16 20:51:34 | AverageDiscountedReturn      30.1542\n",
            "2019-02-16 20:51:34 | AverageReturn                30.3203\n",
            "2019-02-16 20:51:34 | Baseline/ExplainedVariance    0.419805\n",
            "2019-02-16 20:51:34 | Entropy                       4.50158\n",
            "2019-02-16 20:51:34 | EnvExecTime                   0.843187\n",
            "2019-02-16 20:51:34 | Iteration                    55\n",
            "2019-02-16 20:51:34 | ItrTime                       5.05926\n",
            "2019-02-16 20:51:34 | MaxReturn                   110\n",
            "2019-02-16 20:51:34 | MinReturn                   -75\n",
            "2019-02-16 20:51:34 | NumTrajs                    128\n",
            "2019-02-16 20:51:34 | Perplexity                   90.1595\n",
            "2019-02-16 20:51:34 | PolicyExecTime                3.78847\n",
            "2019-02-16 20:51:34 | ProcessExecTime               0.0394142\n",
            "2019-02-16 20:51:34 | StdReturn                    61.2024\n",
            "2019-02-16 20:51:34 | Time                        295.49\n",
            "2019-02-16 20:51:34 | policy/Entropy                0.0251399\n",
            "2019-02-16 20:51:34 | policy/KL                     0.00829868\n",
            "2019-02-16 20:51:34 | policy/KLBefore               0\n",
            "2019-02-16 20:51:34 | policy/LossAfter             -0.0274441\n",
            "2019-02-16 20:51:34 | policy/LossBefore            -5.99795e-09\n",
            "2019-02-16 20:51:34 | policy/dLoss                  0.0274441\n",
            "2019-02-16 20:51:34 | --------------------------  -------------\n",
            "2019-02-16 20:51:34 | itr #56 | Obtaining samples...\n",
            "2019-02-16 20:51:34 | itr #56 | Obtaining samples for iteration 56...\n"
          ],
          "name": "stdout"
        },
        {
          "output_type": "stream",
          "text": [
            "0% [##############################] 100% | ETA: 00:00:00"
          ],
          "name": "stderr"
        },
        {
          "output_type": "stream",
          "text": [
            "2019-02-16 20:51:39 | itr #56 | Processing samples...\n",
            "2019-02-16 20:51:39 | itr #56 | Logging diagnostics...\n",
            "2019-02-16 20:51:39 | itr #56 | Optimizing policy...\n",
            "2019-02-16 20:51:39 | itr #56 | Computing loss before\n",
            "2019-02-16 20:51:39 | itr #56 | Computing KL before\n",
            "2019-02-16 20:51:39 | itr #56 | Optimizing\n",
            "2019-02-16 20:51:39 | itr #56 | Start CG optimization: #parameters: 10528, #inputs: 125, #subsample_inputs: 125\n",
            "2019-02-16 20:51:39 | itr #56 | computing loss before\n",
            "2019-02-16 20:51:39 | itr #56 | performing update\n",
            "2019-02-16 20:51:39 | itr #56 | computing gradient\n",
            "2019-02-16 20:51:39 | itr #56 | gradient computed\n",
            "2019-02-16 20:51:39 | itr #56 | computing descent direction\n"
          ],
          "name": "stdout"
        },
        {
          "output_type": "stream",
          "text": [
            "\n",
            "Total time elapsed: 00:00:04\n"
          ],
          "name": "stderr"
        },
        {
          "output_type": "stream",
          "text": [
            "2019-02-16 20:51:39 | itr #56 | descent direction computed\n",
            "2019-02-16 20:51:39 | itr #56 | backtrack iters: 0\n",
            "2019-02-16 20:51:39 | itr #56 | computing loss after\n",
            "2019-02-16 20:51:39 | itr #56 | optimization finished\n",
            "2019-02-16 20:51:39 | itr #56 | Computing KL after\n",
            "2019-02-16 20:51:39 | itr #56 | Computing loss after\n",
            "2019-02-16 20:51:39 | itr #56 | Fitting baseline...\n",
            "2019-02-16 20:51:39 | itr #56 | Saving snapshot...\n",
            "2019-02-16 20:51:39 | itr #56 | Saved\n",
            "2019-02-16 20:51:39 | --------------------------  -------------\n",
            "2019-02-16 20:51:39 | AverageDiscountedReturn      36.8464\n",
            "2019-02-16 20:51:39 | AverageReturn                38.376\n",
            "2019-02-16 20:51:39 | Baseline/ExplainedVariance    0.596378\n",
            "2019-02-16 20:51:39 | Entropy                       4.45133\n",
            "2019-02-16 20:51:39 | EnvExecTime                   0.827703\n",
            "2019-02-16 20:51:39 | Iteration                    56\n",
            "2019-02-16 20:51:39 | ItrTime                       5.06895\n",
            "2019-02-16 20:51:39 | MaxReturn                   110\n",
            "2019-02-16 20:51:39 | MinReturn                   -88\n",
            "2019-02-16 20:51:39 | NumTrajs                    125\n",
            "2019-02-16 20:51:39 | Perplexity                   85.7411\n",
            "2019-02-16 20:51:39 | PolicyExecTime                3.81894\n",
            "2019-02-16 20:51:39 | ProcessExecTime               0.0395045\n",
            "2019-02-16 20:51:39 | StdReturn                    65.7928\n",
            "2019-02-16 20:51:39 | Time                        300.59\n",
            "2019-02-16 20:51:39 | policy/Entropy                0.0263356\n",
            "2019-02-16 20:51:39 | policy/KL                     0.00777539\n",
            "2019-02-16 20:51:39 | policy/KLBefore               0\n",
            "2019-02-16 20:51:39 | policy/LossAfter             -0.0289638\n",
            "2019-02-16 20:51:39 | policy/LossBefore             7.12052e-10\n",
            "2019-02-16 20:51:39 | policy/dLoss                  0.0289638\n",
            "2019-02-16 20:51:39 | --------------------------  -------------\n",
            "2019-02-16 20:51:39 | itr #57 | Obtaining samples...\n",
            "2019-02-16 20:51:39 | itr #57 | Obtaining samples for iteration 57...\n"
          ],
          "name": "stdout"
        },
        {
          "output_type": "stream",
          "text": [
            "0% [##############################] 100% | ETA: 00:00:00"
          ],
          "name": "stderr"
        },
        {
          "output_type": "stream",
          "text": [
            "2019-02-16 20:51:44 | itr #57 | Processing samples...\n",
            "2019-02-16 20:51:44 | itr #57 | Logging diagnostics...\n",
            "2019-02-16 20:51:44 | itr #57 | Optimizing policy...\n",
            "2019-02-16 20:51:44 | itr #57 | Computing loss before\n",
            "2019-02-16 20:51:44 | itr #57 | Computing KL before\n",
            "2019-02-16 20:51:44 | itr #57 | Optimizing\n",
            "2019-02-16 20:51:44 | itr #57 | Start CG optimization: #parameters: 10528, #inputs: 128, #subsample_inputs: 128\n",
            "2019-02-16 20:51:44 | itr #57 | computing loss before\n",
            "2019-02-16 20:51:44 | itr #57 | performing update\n",
            "2019-02-16 20:51:44 | itr #57 | computing gradient\n",
            "2019-02-16 20:51:44 | itr #57 | gradient computed\n",
            "2019-02-16 20:51:44 | itr #57 | computing descent direction\n"
          ],
          "name": "stdout"
        },
        {
          "output_type": "stream",
          "text": [
            "\n",
            "Total time elapsed: 00:00:04\n"
          ],
          "name": "stderr"
        },
        {
          "output_type": "stream",
          "text": [
            "2019-02-16 20:51:44 | itr #57 | descent direction computed\n",
            "2019-02-16 20:51:44 | itr #57 | backtrack iters: 0\n",
            "2019-02-16 20:51:44 | itr #57 | computing loss after\n",
            "2019-02-16 20:51:44 | itr #57 | optimization finished\n",
            "2019-02-16 20:51:44 | itr #57 | Computing KL after\n",
            "2019-02-16 20:51:44 | itr #57 | Computing loss after\n",
            "2019-02-16 20:51:44 | itr #57 | Fitting baseline...\n",
            "2019-02-16 20:51:44 | itr #57 | Saving snapshot...\n",
            "2019-02-16 20:51:44 | itr #57 | Saved\n",
            "2019-02-16 20:51:44 | --------------------------  ------------\n",
            "2019-02-16 20:51:44 | AverageDiscountedReturn      35.5962\n",
            "2019-02-16 20:51:44 | AverageReturn                36.9297\n",
            "2019-02-16 20:51:44 | Baseline/ExplainedVariance    0.523919\n",
            "2019-02-16 20:51:44 | Entropy                       4.43322\n",
            "2019-02-16 20:51:44 | EnvExecTime                   0.84276\n",
            "2019-02-16 20:51:44 | Iteration                    57\n",
            "2019-02-16 20:51:44 | ItrTime                       5.01324\n",
            "2019-02-16 20:51:44 | MaxReturn                   110\n",
            "2019-02-16 20:51:44 | MinReturn                   -83\n",
            "2019-02-16 20:51:44 | NumTrajs                    128\n",
            "2019-02-16 20:51:44 | Perplexity                   84.2022\n",
            "2019-02-16 20:51:44 | PolicyExecTime                3.73846\n",
            "2019-02-16 20:51:44 | ProcessExecTime               0.0403488\n",
            "2019-02-16 20:51:44 | StdReturn                    62.7875\n",
            "2019-02-16 20:51:44 | Time                        305.674\n",
            "2019-02-16 20:51:44 | policy/Entropy                0.0265517\n",
            "2019-02-16 20:51:44 | policy/KL                     0.00941522\n",
            "2019-02-16 20:51:44 | policy/KLBefore               0\n",
            "2019-02-16 20:51:44 | policy/LossAfter             -0.0378848\n",
            "2019-02-16 20:51:44 | policy/LossBefore            -1.0527e-08\n",
            "2019-02-16 20:51:44 | policy/dLoss                  0.0378848\n",
            "2019-02-16 20:51:44 | --------------------------  ------------\n",
            "2019-02-16 20:51:44 | itr #58 | Obtaining samples...\n",
            "2019-02-16 20:51:44 | itr #58 | Obtaining samples for iteration 58...\n"
          ],
          "name": "stdout"
        },
        {
          "output_type": "stream",
          "text": [
            "0% [##############################] 100% | ETA: 00:00:00"
          ],
          "name": "stderr"
        },
        {
          "output_type": "stream",
          "text": [
            "2019-02-16 20:51:49 | itr #58 | Processing samples...\n",
            "2019-02-16 20:51:49 | itr #58 | Logging diagnostics...\n",
            "2019-02-16 20:51:49 | itr #58 | Optimizing policy...\n",
            "2019-02-16 20:51:49 | itr #58 | Computing loss before\n",
            "2019-02-16 20:51:49 | itr #58 | Computing KL before\n",
            "2019-02-16 20:51:49 | itr #58 | Optimizing\n",
            "2019-02-16 20:51:49 | itr #58 | Start CG optimization: #parameters: 10528, #inputs: 124, #subsample_inputs: 124\n",
            "2019-02-16 20:51:49 | itr #58 | computing loss before\n",
            "2019-02-16 20:51:49 | itr #58 | performing update\n",
            "2019-02-16 20:51:49 | itr #58 | computing gradient\n",
            "2019-02-16 20:51:49 | itr #58 | gradient computed\n",
            "2019-02-16 20:51:49 | itr #58 | computing descent direction\n"
          ],
          "name": "stdout"
        },
        {
          "output_type": "stream",
          "text": [
            "\n",
            "Total time elapsed: 00:00:04\n"
          ],
          "name": "stderr"
        },
        {
          "output_type": "stream",
          "text": [
            "2019-02-16 20:51:49 | itr #58 | descent direction computed\n",
            "2019-02-16 20:51:49 | itr #58 | backtrack iters: 0\n",
            "2019-02-16 20:51:49 | itr #58 | computing loss after\n",
            "2019-02-16 20:51:49 | itr #58 | optimization finished\n",
            "2019-02-16 20:51:49 | itr #58 | Computing KL after\n",
            "2019-02-16 20:51:49 | itr #58 | Computing loss after\n",
            "2019-02-16 20:51:49 | itr #58 | Fitting baseline...\n",
            "2019-02-16 20:51:49 | itr #58 | Saving snapshot...\n",
            "2019-02-16 20:51:49 | itr #58 | Saved\n",
            "2019-02-16 20:51:49 | --------------------------  -------------\n",
            "2019-02-16 20:51:49 | AverageDiscountedReturn       33.0559\n",
            "2019-02-16 20:51:49 | AverageReturn                 33.9516\n",
            "2019-02-16 20:51:49 | Baseline/ExplainedVariance     0.601428\n",
            "2019-02-16 20:51:49 | Entropy                        4.42893\n",
            "2019-02-16 20:51:49 | EnvExecTime                    0.827699\n",
            "2019-02-16 20:51:49 | Iteration                     58\n",
            "2019-02-16 20:51:49 | ItrTime                        5.06514\n",
            "2019-02-16 20:51:49 | MaxReturn                    110\n",
            "2019-02-16 20:51:49 | MinReturn                   -108\n",
            "2019-02-16 20:51:49 | NumTrajs                     124\n",
            "2019-02-16 20:51:49 | Perplexity                    83.8419\n",
            "2019-02-16 20:51:49 | PolicyExecTime                 3.81422\n",
            "2019-02-16 20:51:49 | ProcessExecTime                0.0380402\n",
            "2019-02-16 20:51:49 | StdReturn                     64.8609\n",
            "2019-02-16 20:51:49 | Time                         310.772\n",
            "2019-02-16 20:51:49 | policy/Entropy                 0.02735\n",
            "2019-02-16 20:51:49 | policy/KL                      0.008431\n",
            "2019-02-16 20:51:49 | policy/KLBefore                0\n",
            "2019-02-16 20:51:49 | policy/LossAfter              -0.024815\n",
            "2019-02-16 20:51:49 | policy/LossBefore             -9.5296e-09\n",
            "2019-02-16 20:51:49 | policy/dLoss                   0.024815\n",
            "2019-02-16 20:51:49 | --------------------------  -------------\n",
            "2019-02-16 20:51:49 | itr #59 | Obtaining samples...\n",
            "2019-02-16 20:51:49 | itr #59 | Obtaining samples for iteration 59...\n"
          ],
          "name": "stdout"
        },
        {
          "output_type": "stream",
          "text": [
            "0% [##############################] 100% | ETA: 00:00:00"
          ],
          "name": "stderr"
        },
        {
          "output_type": "stream",
          "text": [
            "2019-02-16 20:51:54 | itr #59 | Processing samples...\n",
            "2019-02-16 20:51:54 | itr #59 | Logging diagnostics...\n",
            "2019-02-16 20:51:54 | itr #59 | Optimizing policy...\n",
            "2019-02-16 20:51:54 | itr #59 | Computing loss before\n",
            "2019-02-16 20:51:54 | itr #59 | Computing KL before\n",
            "2019-02-16 20:51:54 | itr #59 | Optimizing\n",
            "2019-02-16 20:51:54 | itr #59 | Start CG optimization: #parameters: 10528, #inputs: 126, #subsample_inputs: 126\n",
            "2019-02-16 20:51:54 | itr #59 | computing loss before\n",
            "2019-02-16 20:51:54 | itr #59 | performing update\n",
            "2019-02-16 20:51:54 | itr #59 | computing gradient\n",
            "2019-02-16 20:51:54 | itr #59 | gradient computed\n",
            "2019-02-16 20:51:54 | itr #59 | computing descent direction\n"
          ],
          "name": "stdout"
        },
        {
          "output_type": "stream",
          "text": [
            "\n",
            "Total time elapsed: 00:00:04\n"
          ],
          "name": "stderr"
        },
        {
          "output_type": "stream",
          "text": [
            "2019-02-16 20:51:54 | itr #59 | descent direction computed\n",
            "2019-02-16 20:51:54 | itr #59 | backtrack iters: 0\n",
            "2019-02-16 20:51:54 | itr #59 | computing loss after\n",
            "2019-02-16 20:51:54 | itr #59 | optimization finished\n",
            "2019-02-16 20:51:54 | itr #59 | Computing KL after\n",
            "2019-02-16 20:51:54 | itr #59 | Computing loss after\n",
            "2019-02-16 20:51:54 | itr #59 | Fitting baseline...\n",
            "2019-02-16 20:51:54 | itr #59 | Saving snapshot...\n",
            "2019-02-16 20:51:54 | itr #59 | Saved\n",
            "2019-02-16 20:51:54 | --------------------------  -----------\n",
            "2019-02-16 20:51:54 | AverageDiscountedReturn      29.1911\n",
            "2019-02-16 20:51:54 | AverageReturn                29.9921\n",
            "2019-02-16 20:51:54 | Baseline/ExplainedVariance    0.524825\n",
            "2019-02-16 20:51:54 | Entropy                       4.45513\n",
            "2019-02-16 20:51:54 | EnvExecTime                   0.831421\n",
            "2019-02-16 20:51:54 | Iteration                    59\n",
            "2019-02-16 20:51:54 | ItrTime                       5.07022\n",
            "2019-02-16 20:51:54 | MaxReturn                   110\n",
            "2019-02-16 20:51:54 | MinReturn                   -80\n",
            "2019-02-16 20:51:54 | NumTrajs                    126\n",
            "2019-02-16 20:51:54 | Perplexity                   86.0677\n",
            "2019-02-16 20:51:54 | PolicyExecTime                3.81004\n",
            "2019-02-16 20:51:54 | ProcessExecTime               0.0399559\n",
            "2019-02-16 20:51:54 | StdReturn                    63.7883\n",
            "2019-02-16 20:51:54 | Time                        315.875\n",
            "2019-02-16 20:51:54 | policy/Entropy                0.0268023\n",
            "2019-02-16 20:51:54 | policy/KL                     0.0066412\n",
            "2019-02-16 20:51:55 | policy/KLBefore               0\n",
            "2019-02-16 20:51:55 | policy/LossAfter             -0.0289414\n",
            "2019-02-16 20:51:55 | policy/LossBefore            -0\n",
            "2019-02-16 20:51:55 | policy/dLoss                  0.0289414\n",
            "2019-02-16 20:51:55 | --------------------------  -----------\n",
            "2019-02-16 20:51:55 | itr #60 | Obtaining samples...\n",
            "2019-02-16 20:51:55 | itr #60 | Obtaining samples for iteration 60...\n"
          ],
          "name": "stdout"
        },
        {
          "output_type": "stream",
          "text": [
            "0% [##############################] 100% | ETA: 00:00:00"
          ],
          "name": "stderr"
        },
        {
          "output_type": "stream",
          "text": [
            "2019-02-16 20:51:59 | itr #60 | Processing samples...\n",
            "2019-02-16 20:51:59 | itr #60 | Logging diagnostics...\n",
            "2019-02-16 20:51:59 | itr #60 | Optimizing policy...\n",
            "2019-02-16 20:51:59 | itr #60 | Computing loss before\n",
            "2019-02-16 20:51:59 | itr #60 | Computing KL before\n",
            "2019-02-16 20:51:59 | itr #60 | Optimizing\n",
            "2019-02-16 20:51:59 | itr #60 | Start CG optimization: #parameters: 10528, #inputs: 131, #subsample_inputs: 131\n",
            "2019-02-16 20:51:59 | itr #60 | computing loss before\n",
            "2019-02-16 20:51:59 | itr #60 | performing update\n",
            "2019-02-16 20:51:59 | itr #60 | computing gradient\n",
            "2019-02-16 20:51:59 | itr #60 | gradient computed\n",
            "2019-02-16 20:51:59 | itr #60 | computing descent direction\n"
          ],
          "name": "stdout"
        },
        {
          "output_type": "stream",
          "text": [
            "\n",
            "Total time elapsed: 00:00:04\n"
          ],
          "name": "stderr"
        },
        {
          "output_type": "stream",
          "text": [
            "2019-02-16 20:52:00 | itr #60 | descent direction computed\n",
            "2019-02-16 20:52:00 | itr #60 | backtrack iters: 0\n",
            "2019-02-16 20:52:00 | itr #60 | computing loss after\n",
            "2019-02-16 20:52:00 | itr #60 | optimization finished\n",
            "2019-02-16 20:52:00 | itr #60 | Computing KL after\n",
            "2019-02-16 20:52:00 | itr #60 | Computing loss after\n",
            "2019-02-16 20:52:00 | itr #60 | Fitting baseline...\n",
            "2019-02-16 20:52:00 | itr #60 | Saving snapshot...\n",
            "2019-02-16 20:52:00 | itr #60 | Saved\n",
            "2019-02-16 20:52:00 | --------------------------  -------------\n",
            "2019-02-16 20:52:00 | AverageDiscountedReturn      31.8892\n",
            "2019-02-16 20:52:00 | AverageReturn                32.4809\n",
            "2019-02-16 20:52:00 | Baseline/ExplainedVariance    0.578066\n",
            "2019-02-16 20:52:00 | Entropy                       4.4181\n",
            "2019-02-16 20:52:00 | EnvExecTime                   0.939303\n",
            "2019-02-16 20:52:00 | Iteration                    60\n",
            "2019-02-16 20:52:00 | ItrTime                       5.07985\n",
            "2019-02-16 20:52:00 | MaxReturn                   110\n",
            "2019-02-16 20:52:00 | MinReturn                   -63\n",
            "2019-02-16 20:52:00 | NumTrajs                    131\n",
            "2019-02-16 20:52:00 | Perplexity                   82.9384\n",
            "2019-02-16 20:52:00 | PolicyExecTime                3.70965\n",
            "2019-02-16 20:52:00 | ProcessExecTime               0.0392146\n",
            "2019-02-16 20:52:00 | StdReturn                    62.9339\n",
            "2019-02-16 20:52:00 | Time                        321.01\n",
            "2019-02-16 20:52:00 | policy/Entropy                0.0272945\n",
            "2019-02-16 20:52:00 | policy/KL                     0.00889689\n",
            "2019-02-16 20:52:00 | policy/KLBefore               0\n",
            "2019-02-16 20:52:00 | policy/LossAfter             -0.0281744\n",
            "2019-02-16 20:52:00 | policy/LossBefore            -1.56302e-08\n",
            "2019-02-16 20:52:00 | policy/dLoss                  0.0281744\n",
            "2019-02-16 20:52:00 | --------------------------  -------------\n",
            "2019-02-16 20:52:00 | itr #61 | Obtaining samples...\n",
            "2019-02-16 20:52:00 | itr #61 | Obtaining samples for iteration 61...\n"
          ],
          "name": "stdout"
        },
        {
          "output_type": "stream",
          "text": [
            "0% [##############################] 100% | ETA: 00:00:00"
          ],
          "name": "stderr"
        },
        {
          "output_type": "stream",
          "text": [
            "2019-02-16 20:52:04 | itr #61 | Processing samples...\n",
            "2019-02-16 20:52:04 | itr #61 | Logging diagnostics...\n",
            "2019-02-16 20:52:04 | itr #61 | Optimizing policy...\n",
            "2019-02-16 20:52:04 | itr #61 | Computing loss before\n",
            "2019-02-16 20:52:04 | itr #61 | Computing KL before\n",
            "2019-02-16 20:52:04 | itr #61 | Optimizing\n",
            "2019-02-16 20:52:04 | itr #61 | Start CG optimization: #parameters: 10528, #inputs: 130, #subsample_inputs: 130\n",
            "2019-02-16 20:52:04 | itr #61 | computing loss before\n",
            "2019-02-16 20:52:04 | itr #61 | performing update\n",
            "2019-02-16 20:52:04 | itr #61 | computing gradient\n",
            "2019-02-16 20:52:04 | itr #61 | gradient computed\n",
            "2019-02-16 20:52:04 | itr #61 | computing descent direction\n"
          ],
          "name": "stdout"
        },
        {
          "output_type": "stream",
          "text": [
            "\n",
            "Total time elapsed: 00:00:04\n"
          ],
          "name": "stderr"
        },
        {
          "output_type": "stream",
          "text": [
            "2019-02-16 20:52:05 | itr #61 | descent direction computed\n",
            "2019-02-16 20:52:05 | itr #61 | backtrack iters: 0\n",
            "2019-02-16 20:52:05 | itr #61 | computing loss after\n",
            "2019-02-16 20:52:05 | itr #61 | optimization finished\n",
            "2019-02-16 20:52:05 | itr #61 | Computing KL after\n",
            "2019-02-16 20:52:05 | itr #61 | Computing loss after\n",
            "2019-02-16 20:52:05 | itr #61 | Fitting baseline...\n",
            "2019-02-16 20:52:05 | itr #61 | Saving snapshot...\n",
            "2019-02-16 20:52:05 | itr #61 | Saved\n",
            "2019-02-16 20:52:05 | --------------------------  -------------\n",
            "2019-02-16 20:52:05 | AverageDiscountedReturn      35.0496\n",
            "2019-02-16 20:52:05 | AverageReturn                35.9462\n",
            "2019-02-16 20:52:05 | Baseline/ExplainedVariance    0.546809\n",
            "2019-02-16 20:52:05 | Entropy                       4.41679\n",
            "2019-02-16 20:52:05 | EnvExecTime                   0.836901\n",
            "2019-02-16 20:52:05 | Iteration                    61\n",
            "2019-02-16 20:52:05 | ItrTime                       5.00837\n",
            "2019-02-16 20:52:05 | MaxReturn                   110\n",
            "2019-02-16 20:52:05 | MinReturn                   -86\n",
            "2019-02-16 20:52:05 | NumTrajs                    130\n",
            "2019-02-16 20:52:05 | Perplexity                   82.8301\n",
            "2019-02-16 20:52:05 | PolicyExecTime                3.7374\n",
            "2019-02-16 20:52:05 | ProcessExecTime               0.0408258\n",
            "2019-02-16 20:52:05 | StdReturn                    60.6407\n",
            "2019-02-16 20:52:05 | Time                        326.065\n",
            "2019-02-16 20:52:05 | policy/Entropy                0.0280445\n",
            "2019-02-16 20:52:05 | policy/KL                     0.00846596\n",
            "2019-02-16 20:52:05 | policy/KLBefore               0\n",
            "2019-02-16 20:52:05 | policy/LossAfter             -0.0272816\n",
            "2019-02-16 20:52:05 | policy/LossBefore            -9.31778e-09\n",
            "2019-02-16 20:52:05 | policy/dLoss                  0.0272816\n",
            "2019-02-16 20:52:05 | --------------------------  -------------\n",
            "2019-02-16 20:52:05 | itr #62 | Obtaining samples...\n",
            "2019-02-16 20:52:05 | itr #62 | Obtaining samples for iteration 62...\n"
          ],
          "name": "stdout"
        },
        {
          "output_type": "stream",
          "text": [
            "0% [##############################] 100% | ETA: 00:00:00"
          ],
          "name": "stderr"
        },
        {
          "output_type": "stream",
          "text": [
            "2019-02-16 20:52:09 | itr #62 | Processing samples...\n",
            "2019-02-16 20:52:09 | itr #62 | Logging diagnostics...\n",
            "2019-02-16 20:52:09 | itr #62 | Optimizing policy...\n",
            "2019-02-16 20:52:09 | itr #62 | Computing loss before\n",
            "2019-02-16 20:52:09 | itr #62 | Computing KL before\n",
            "2019-02-16 20:52:09 | itr #62 | Optimizing\n",
            "2019-02-16 20:52:09 | itr #62 | Start CG optimization: #parameters: 10528, #inputs: 128, #subsample_inputs: 128\n",
            "2019-02-16 20:52:09 | itr #62 | computing loss before\n",
            "2019-02-16 20:52:09 | itr #62 | performing update\n",
            "2019-02-16 20:52:09 | itr #62 | computing gradient\n",
            "2019-02-16 20:52:09 | itr #62 | gradient computed\n",
            "2019-02-16 20:52:09 | itr #62 | computing descent direction\n"
          ],
          "name": "stdout"
        },
        {
          "output_type": "stream",
          "text": [
            "\n",
            "Total time elapsed: 00:00:04\n"
          ],
          "name": "stderr"
        },
        {
          "output_type": "stream",
          "text": [
            "2019-02-16 20:52:10 | itr #62 | descent direction computed\n",
            "2019-02-16 20:52:10 | itr #62 | backtrack iters: 0\n",
            "2019-02-16 20:52:10 | itr #62 | computing loss after\n",
            "2019-02-16 20:52:10 | itr #62 | optimization finished\n",
            "2019-02-16 20:52:10 | itr #62 | Computing KL after\n",
            "2019-02-16 20:52:10 | itr #62 | Computing loss after\n",
            "2019-02-16 20:52:10 | itr #62 | Fitting baseline...\n",
            "2019-02-16 20:52:10 | itr #62 | Saving snapshot...\n",
            "2019-02-16 20:52:10 | itr #62 | Saved\n",
            "2019-02-16 20:52:10 | --------------------------  -------------\n",
            "2019-02-16 20:52:10 | AverageDiscountedReturn      27.6352\n",
            "2019-02-16 20:52:10 | AverageReturn                27.6016\n",
            "2019-02-16 20:52:10 | Baseline/ExplainedVariance    0.543779\n",
            "2019-02-16 20:52:10 | Entropy                       4.43106\n",
            "2019-02-16 20:52:10 | EnvExecTime                   0.825108\n",
            "2019-02-16 20:52:10 | Iteration                    62\n",
            "2019-02-16 20:52:10 | ItrTime                       5.03846\n",
            "2019-02-16 20:52:10 | MaxReturn                   110\n",
            "2019-02-16 20:52:10 | MinReturn                   -84\n",
            "2019-02-16 20:52:10 | NumTrajs                    128\n",
            "2019-02-16 20:52:10 | Perplexity                   84.0202\n",
            "2019-02-16 20:52:10 | PolicyExecTime                3.76436\n",
            "2019-02-16 20:52:10 | ProcessExecTime               0.0447567\n",
            "2019-02-16 20:52:10 | StdReturn                    64.226\n",
            "2019-02-16 20:52:10 | Time                        331.155\n",
            "2019-02-16 20:52:10 | policy/Entropy                0.0269424\n",
            "2019-02-16 20:52:10 | policy/KL                     0.00806302\n",
            "2019-02-16 20:52:10 | policy/KLBefore               0\n",
            "2019-02-16 20:52:10 | policy/LossAfter             -0.0309814\n",
            "2019-02-16 20:52:10 | policy/LossBefore             1.82633e-08\n",
            "2019-02-16 20:52:10 | policy/dLoss                  0.0309814\n",
            "2019-02-16 20:52:10 | --------------------------  -------------\n",
            "2019-02-16 20:52:10 | itr #63 | Obtaining samples...\n",
            "2019-02-16 20:52:10 | itr #63 | Obtaining samples for iteration 63...\n"
          ],
          "name": "stdout"
        },
        {
          "output_type": "stream",
          "text": [
            "0% [##############################] 100% | ETA: 00:00:00"
          ],
          "name": "stderr"
        },
        {
          "output_type": "stream",
          "text": [
            "2019-02-16 20:52:15 | itr #63 | Processing samples...\n",
            "2019-02-16 20:52:15 | itr #63 | Logging diagnostics...\n",
            "2019-02-16 20:52:15 | itr #63 | Optimizing policy...\n",
            "2019-02-16 20:52:15 | itr #63 | Computing loss before\n",
            "2019-02-16 20:52:15 | itr #63 | Computing KL before\n",
            "2019-02-16 20:52:15 | itr #63 | Optimizing\n",
            "2019-02-16 20:52:15 | itr #63 | Start CG optimization: #parameters: 10528, #inputs: 128, #subsample_inputs: 128\n",
            "2019-02-16 20:52:15 | itr #63 | computing loss before\n",
            "2019-02-16 20:52:15 | itr #63 | performing update\n",
            "2019-02-16 20:52:15 | itr #63 | computing gradient\n",
            "2019-02-16 20:52:15 | itr #63 | gradient computed\n",
            "2019-02-16 20:52:15 | itr #63 | computing descent direction\n"
          ],
          "name": "stdout"
        },
        {
          "output_type": "stream",
          "text": [
            "\n",
            "Total time elapsed: 00:00:04\n"
          ],
          "name": "stderr"
        },
        {
          "output_type": "stream",
          "text": [
            "2019-02-16 20:52:15 | itr #63 | descent direction computed\n",
            "2019-02-16 20:52:15 | itr #63 | backtrack iters: 0\n",
            "2019-02-16 20:52:15 | itr #63 | computing loss after\n",
            "2019-02-16 20:52:15 | itr #63 | optimization finished\n",
            "2019-02-16 20:52:15 | itr #63 | Computing KL after\n",
            "2019-02-16 20:52:15 | itr #63 | Computing loss after\n",
            "2019-02-16 20:52:15 | itr #63 | Fitting baseline...\n",
            "2019-02-16 20:52:15 | itr #63 | Saving snapshot...\n",
            "2019-02-16 20:52:15 | itr #63 | Saved\n",
            "2019-02-16 20:52:15 | --------------------------  -------------\n",
            "2019-02-16 20:52:15 | AverageDiscountedReturn      35.0428\n",
            "2019-02-16 20:52:15 | AverageReturn                36.0625\n",
            "2019-02-16 20:52:15 | Baseline/ExplainedVariance    0.603443\n",
            "2019-02-16 20:52:15 | Entropy                       4.40145\n",
            "2019-02-16 20:52:15 | EnvExecTime                   0.853294\n",
            "2019-02-16 20:52:15 | Iteration                    63\n",
            "2019-02-16 20:52:15 | ItrTime                       5.10774\n",
            "2019-02-16 20:52:15 | MaxReturn                   110\n",
            "2019-02-16 20:52:15 | MinReturn                   -86\n",
            "2019-02-16 20:52:15 | NumTrajs                    128\n",
            "2019-02-16 20:52:15 | Perplexity                   81.5691\n",
            "2019-02-16 20:52:15 | PolicyExecTime                3.8303\n",
            "2019-02-16 20:52:15 | ProcessExecTime               0.0401628\n",
            "2019-02-16 20:52:15 | StdReturn                    61.2278\n",
            "2019-02-16 20:52:15 | Time                        336.297\n",
            "2019-02-16 20:52:15 | policy/Entropy                0.0289448\n",
            "2019-02-16 20:52:15 | policy/KL                     0.00931463\n",
            "2019-02-16 20:52:15 | policy/KLBefore               0\n",
            "2019-02-16 20:52:15 | policy/LossAfter             -0.0357961\n",
            "2019-02-16 20:52:15 | policy/LossBefore             1.63666e-08\n",
            "2019-02-16 20:52:15 | policy/dLoss                  0.0357961\n",
            "2019-02-16 20:52:15 | --------------------------  -------------\n",
            "2019-02-16 20:52:15 | itr #64 | Obtaining samples...\n",
            "2019-02-16 20:52:15 | itr #64 | Obtaining samples for iteration 64...\n"
          ],
          "name": "stdout"
        },
        {
          "output_type": "stream",
          "text": [
            "0% [##############################] 100% | ETA: 00:00:00"
          ],
          "name": "stderr"
        },
        {
          "output_type": "stream",
          "text": [
            "2019-02-16 20:52:20 | itr #64 | Processing samples...\n",
            "2019-02-16 20:52:20 | itr #64 | Logging diagnostics...\n",
            "2019-02-16 20:52:20 | itr #64 | Optimizing policy...\n",
            "2019-02-16 20:52:20 | itr #64 | Computing loss before\n",
            "2019-02-16 20:52:20 | itr #64 | Computing KL before\n",
            "2019-02-16 20:52:20 | itr #64 | Optimizing\n",
            "2019-02-16 20:52:20 | itr #64 | Start CG optimization: #parameters: 10528, #inputs: 127, #subsample_inputs: 127\n",
            "2019-02-16 20:52:20 | itr #64 | computing loss before\n",
            "2019-02-16 20:52:20 | itr #64 | performing update\n",
            "2019-02-16 20:52:20 | itr #64 | computing gradient\n",
            "2019-02-16 20:52:20 | itr #64 | gradient computed\n",
            "2019-02-16 20:52:20 | itr #64 | computing descent direction\n"
          ],
          "name": "stdout"
        },
        {
          "output_type": "stream",
          "text": [
            "\n",
            "Total time elapsed: 00:00:04\n"
          ],
          "name": "stderr"
        },
        {
          "output_type": "stream",
          "text": [
            "2019-02-16 20:52:20 | itr #64 | descent direction computed\n",
            "2019-02-16 20:52:20 | itr #64 | backtrack iters: 0\n",
            "2019-02-16 20:52:20 | itr #64 | computing loss after\n",
            "2019-02-16 20:52:20 | itr #64 | optimization finished\n",
            "2019-02-16 20:52:20 | itr #64 | Computing KL after\n",
            "2019-02-16 20:52:20 | itr #64 | Computing loss after\n",
            "2019-02-16 20:52:20 | itr #64 | Fitting baseline...\n",
            "2019-02-16 20:52:20 | itr #64 | Saving snapshot...\n",
            "2019-02-16 20:52:20 | itr #64 | Saved\n",
            "2019-02-16 20:52:20 | --------------------------  -------------\n",
            "2019-02-16 20:52:20 | AverageDiscountedReturn      30.8796\n",
            "2019-02-16 20:52:20 | AverageReturn                31.7402\n",
            "2019-02-16 20:52:20 | Baseline/ExplainedVariance    0.521253\n",
            "2019-02-16 20:52:20 | Entropy                       4.39456\n",
            "2019-02-16 20:52:20 | EnvExecTime                   0.827739\n",
            "2019-02-16 20:52:20 | Iteration                    64\n",
            "2019-02-16 20:52:20 | ItrTime                       5.00327\n",
            "2019-02-16 20:52:20 | MaxReturn                   110\n",
            "2019-02-16 20:52:20 | MinReturn                   -72\n",
            "2019-02-16 20:52:20 | NumTrajs                    127\n",
            "2019-02-16 20:52:20 | Perplexity                   81.0089\n",
            "2019-02-16 20:52:20 | PolicyExecTime                3.74246\n",
            "2019-02-16 20:52:20 | ProcessExecTime               0.0404518\n",
            "2019-02-16 20:52:20 | StdReturn                    65.8709\n",
            "2019-02-16 20:52:20 | Time                        341.357\n",
            "2019-02-16 20:52:20 | policy/Entropy                0.0290948\n",
            "2019-02-16 20:52:20 | policy/KL                     0.00831151\n",
            "2019-02-16 20:52:20 | policy/KLBefore               0\n",
            "2019-02-16 20:52:20 | policy/LossAfter             -0.033506\n",
            "2019-02-16 20:52:20 | policy/LossBefore            -3.74082e-09\n",
            "2019-02-16 20:52:20 | policy/dLoss                  0.033506\n",
            "2019-02-16 20:52:20 | --------------------------  -------------\n",
            "2019-02-16 20:52:20 | itr #65 | Obtaining samples...\n",
            "2019-02-16 20:52:20 | itr #65 | Obtaining samples for iteration 65...\n"
          ],
          "name": "stdout"
        },
        {
          "output_type": "stream",
          "text": [
            "0% [##############################] 100% | ETA: 00:00:00"
          ],
          "name": "stderr"
        },
        {
          "output_type": "stream",
          "text": [
            "2019-02-16 20:52:25 | itr #65 | Processing samples...\n",
            "2019-02-16 20:52:25 | itr #65 | Logging diagnostics...\n",
            "2019-02-16 20:52:25 | itr #65 | Optimizing policy...\n",
            "2019-02-16 20:52:25 | itr #65 | Computing loss before\n",
            "2019-02-16 20:52:25 | itr #65 | Computing KL before\n",
            "2019-02-16 20:52:25 | itr #65 | Optimizing\n",
            "2019-02-16 20:52:25 | itr #65 | Start CG optimization: #parameters: 10528, #inputs: 126, #subsample_inputs: 126\n",
            "2019-02-16 20:52:25 | itr #65 | computing loss before\n",
            "2019-02-16 20:52:25 | itr #65 | performing update\n",
            "2019-02-16 20:52:25 | itr #65 | computing gradient\n",
            "2019-02-16 20:52:25 | itr #65 | gradient computed\n",
            "2019-02-16 20:52:25 | itr #65 | computing descent direction\n"
          ],
          "name": "stdout"
        },
        {
          "output_type": "stream",
          "text": [
            "\n",
            "Total time elapsed: 00:00:04\n"
          ],
          "name": "stderr"
        },
        {
          "output_type": "stream",
          "text": [
            "2019-02-16 20:52:25 | itr #65 | descent direction computed\n",
            "2019-02-16 20:52:25 | itr #65 | backtrack iters: 1\n",
            "2019-02-16 20:52:25 | itr #65 | computing loss after\n",
            "2019-02-16 20:52:25 | itr #65 | optimization finished\n",
            "2019-02-16 20:52:25 | itr #65 | Computing KL after\n",
            "2019-02-16 20:52:25 | itr #65 | Computing loss after\n",
            "2019-02-16 20:52:25 | itr #65 | Fitting baseline...\n",
            "2019-02-16 20:52:25 | itr #65 | Saving snapshot...\n",
            "2019-02-16 20:52:25 | itr #65 | Saved\n",
            "2019-02-16 20:52:25 | --------------------------  -------------\n",
            "2019-02-16 20:52:25 | AverageDiscountedReturn      34.089\n",
            "2019-02-16 20:52:25 | AverageReturn                35.2698\n",
            "2019-02-16 20:52:25 | Baseline/ExplainedVariance    0.442566\n",
            "2019-02-16 20:52:25 | Entropy                       4.36905\n",
            "2019-02-16 20:52:25 | EnvExecTime                   0.844676\n",
            "2019-02-16 20:52:25 | Iteration                    65\n",
            "2019-02-16 20:52:25 | ItrTime                       5.09663\n",
            "2019-02-16 20:52:25 | MaxReturn                   110\n",
            "2019-02-16 20:52:25 | MinReturn                   -79\n",
            "2019-02-16 20:52:25 | NumTrajs                    126\n",
            "2019-02-16 20:52:25 | Perplexity                   78.9686\n",
            "2019-02-16 20:52:25 | PolicyExecTime                3.80259\n",
            "2019-02-16 20:52:25 | ProcessExecTime               0.0404356\n",
            "2019-02-16 20:52:25 | StdReturn                    64.5803\n",
            "2019-02-16 20:52:25 | Time                        346.5\n",
            "2019-02-16 20:52:25 | policy/Entropy                0.0298889\n",
            "2019-02-16 20:52:25 | policy/KL                     0.00735744\n",
            "2019-02-16 20:52:25 | policy/KLBefore               0\n",
            "2019-02-16 20:52:25 | policy/LossAfter             -0.0331987\n",
            "2019-02-16 20:52:25 | policy/LossBefore             7.59522e-09\n",
            "2019-02-16 20:52:25 | policy/dLoss                  0.0331987\n",
            "2019-02-16 20:52:25 | --------------------------  -------------\n",
            "2019-02-16 20:52:25 | itr #66 | Obtaining samples...\n",
            "2019-02-16 20:52:25 | itr #66 | Obtaining samples for iteration 66...\n"
          ],
          "name": "stdout"
        },
        {
          "output_type": "stream",
          "text": [
            "0% [##############################] 100% | ETA: 00:00:00"
          ],
          "name": "stderr"
        },
        {
          "output_type": "stream",
          "text": [
            "2019-02-16 20:52:30 | itr #66 | Processing samples...\n",
            "2019-02-16 20:52:30 | itr #66 | Logging diagnostics...\n",
            "2019-02-16 20:52:30 | itr #66 | Optimizing policy...\n",
            "2019-02-16 20:52:30 | itr #66 | Computing loss before\n",
            "2019-02-16 20:52:30 | itr #66 | Computing KL before\n",
            "2019-02-16 20:52:30 | itr #66 | Optimizing\n",
            "2019-02-16 20:52:30 | itr #66 | Start CG optimization: #parameters: 10528, #inputs: 133, #subsample_inputs: 133\n",
            "2019-02-16 20:52:30 | itr #66 | computing loss before\n",
            "2019-02-16 20:52:30 | itr #66 | performing update\n",
            "2019-02-16 20:52:30 | itr #66 | computing gradient\n",
            "2019-02-16 20:52:30 | itr #66 | gradient computed\n",
            "2019-02-16 20:52:30 | itr #66 | computing descent direction\n"
          ],
          "name": "stdout"
        },
        {
          "output_type": "stream",
          "text": [
            "\n",
            "Total time elapsed: 00:00:04\n"
          ],
          "name": "stderr"
        },
        {
          "output_type": "stream",
          "text": [
            "2019-02-16 20:52:30 | itr #66 | descent direction computed\n",
            "2019-02-16 20:52:30 | itr #66 | backtrack iters: 0\n",
            "2019-02-16 20:52:30 | itr #66 | computing loss after\n",
            "2019-02-16 20:52:30 | itr #66 | optimization finished\n",
            "2019-02-16 20:52:30 | itr #66 | Computing KL after\n",
            "2019-02-16 20:52:30 | itr #66 | Computing loss after\n",
            "2019-02-16 20:52:30 | itr #66 | Fitting baseline...\n",
            "2019-02-16 20:52:30 | itr #66 | Saving snapshot...\n",
            "2019-02-16 20:52:30 | itr #66 | Saved\n",
            "2019-02-16 20:52:30 | --------------------------  --------------\n",
            "2019-02-16 20:52:30 | AverageDiscountedReturn       38.1311\n",
            "2019-02-16 20:52:30 | AverageReturn                 39.6617\n",
            "2019-02-16 20:52:30 | Baseline/ExplainedVariance     0.606461\n",
            "2019-02-16 20:52:30 | Entropy                        4.29232\n",
            "2019-02-16 20:52:30 | EnvExecTime                    0.81707\n",
            "2019-02-16 20:52:30 | Iteration                     66\n",
            "2019-02-16 20:52:30 | ItrTime                        4.91533\n",
            "2019-02-16 20:52:30 | MaxReturn                    110\n",
            "2019-02-16 20:52:30 | MinReturn                   -111\n",
            "2019-02-16 20:52:30 | NumTrajs                     133\n",
            "2019-02-16 20:52:30 | Perplexity                    73.1361\n",
            "2019-02-16 20:52:30 | PolicyExecTime                 3.64435\n",
            "2019-02-16 20:52:30 | ProcessExecTime                0.040549\n",
            "2019-02-16 20:52:30 | StdReturn                     63.7587\n",
            "2019-02-16 20:52:30 | Time                         351.449\n",
            "2019-02-16 20:52:30 | policy/Entropy                 0.031516\n",
            "2019-02-16 20:52:30 | policy/KL                      0.00828433\n",
            "2019-02-16 20:52:30 | policy/KLBefore                0\n",
            "2019-02-16 20:52:30 | policy/LossAfter              -0.0368803\n",
            "2019-02-16 20:52:30 | policy/LossBefore              1.75325e-08\n",
            "2019-02-16 20:52:30 | policy/dLoss                   0.0368803\n",
            "2019-02-16 20:52:30 | --------------------------  --------------\n",
            "2019-02-16 20:52:30 | itr #67 | Obtaining samples...\n",
            "2019-02-16 20:52:30 | itr #67 | Obtaining samples for iteration 67...\n"
          ],
          "name": "stdout"
        },
        {
          "output_type": "stream",
          "text": [
            "0% [##############################] 100% | ETA: 00:00:00"
          ],
          "name": "stderr"
        },
        {
          "output_type": "stream",
          "text": [
            "2019-02-16 20:52:35 | itr #67 | Processing samples...\n",
            "2019-02-16 20:52:35 | itr #67 | Logging diagnostics...\n",
            "2019-02-16 20:52:35 | itr #67 | Optimizing policy...\n",
            "2019-02-16 20:52:35 | itr #67 | Computing loss before\n",
            "2019-02-16 20:52:35 | itr #67 | Computing KL before\n",
            "2019-02-16 20:52:35 | itr #67 | Optimizing\n",
            "2019-02-16 20:52:35 | itr #67 | Start CG optimization: #parameters: 10528, #inputs: 131, #subsample_inputs: 131\n",
            "2019-02-16 20:52:35 | itr #67 | computing loss before\n",
            "2019-02-16 20:52:35 | itr #67 | performing update\n",
            "2019-02-16 20:52:35 | itr #67 | computing gradient\n",
            "2019-02-16 20:52:35 | itr #67 | gradient computed\n",
            "2019-02-16 20:52:35 | itr #67 | computing descent direction\n"
          ],
          "name": "stdout"
        },
        {
          "output_type": "stream",
          "text": [
            "\n",
            "Total time elapsed: 00:00:04\n"
          ],
          "name": "stderr"
        },
        {
          "output_type": "stream",
          "text": [
            "2019-02-16 20:52:35 | itr #67 | descent direction computed\n",
            "2019-02-16 20:52:35 | itr #67 | backtrack iters: 1\n",
            "2019-02-16 20:52:35 | itr #67 | computing loss after\n",
            "2019-02-16 20:52:35 | itr #67 | optimization finished\n",
            "2019-02-16 20:52:35 | itr #67 | Computing KL after\n",
            "2019-02-16 20:52:35 | itr #67 | Computing loss after\n",
            "2019-02-16 20:52:35 | itr #67 | Fitting baseline...\n",
            "2019-02-16 20:52:35 | itr #67 | Saving snapshot...\n",
            "2019-02-16 20:52:35 | itr #67 | Saved\n",
            "2019-02-16 20:52:35 | --------------------------  -------------\n",
            "2019-02-16 20:52:35 | AverageDiscountedReturn      43.3371\n",
            "2019-02-16 20:52:35 | AverageReturn                46.1298\n",
            "2019-02-16 20:52:35 | Baseline/ExplainedVariance    0.628616\n",
            "2019-02-16 20:52:35 | Entropy                       4.24707\n",
            "2019-02-16 20:52:35 | EnvExecTime                   0.827465\n",
            "2019-02-16 20:52:35 | Iteration                    67\n",
            "2019-02-16 20:52:35 | ItrTime                       5.02854\n",
            "2019-02-16 20:52:35 | MaxReturn                   110\n",
            "2019-02-16 20:52:35 | MinReturn                   -74\n",
            "2019-02-16 20:52:35 | NumTrajs                    131\n",
            "2019-02-16 20:52:35 | Perplexity                   69.9002\n",
            "2019-02-16 20:52:35 | PolicyExecTime                3.74773\n",
            "2019-02-16 20:52:35 | ProcessExecTime               0.0407088\n",
            "2019-02-16 20:52:35 | StdReturn                    64.3199\n",
            "2019-02-16 20:52:35 | Time                        356.526\n",
            "2019-02-16 20:52:35 | policy/Entropy                0.0333962\n",
            "2019-02-16 20:52:35 | policy/KL                     0.0067913\n",
            "2019-02-16 20:52:35 | policy/KLBefore               0\n",
            "2019-02-16 20:52:35 | policy/LossAfter             -0.0296431\n",
            "2019-02-16 20:52:35 | policy/LossBefore            -4.65661e-10\n",
            "2019-02-16 20:52:35 | policy/dLoss                  0.0296431\n",
            "2019-02-16 20:52:35 | --------------------------  -------------\n",
            "2019-02-16 20:52:35 | itr #68 | Obtaining samples...\n",
            "2019-02-16 20:52:35 | itr #68 | Obtaining samples for iteration 68...\n"
          ],
          "name": "stdout"
        },
        {
          "output_type": "stream",
          "text": [
            "0% [##############################] 100% | ETA: 00:00:00"
          ],
          "name": "stderr"
        },
        {
          "output_type": "stream",
          "text": [
            "2019-02-16 20:52:40 | itr #68 | Processing samples...\n",
            "2019-02-16 20:52:40 | itr #68 | Logging diagnostics...\n",
            "2019-02-16 20:52:40 | itr #68 | Optimizing policy...\n",
            "2019-02-16 20:52:40 | itr #68 | Computing loss before\n",
            "2019-02-16 20:52:40 | itr #68 | Computing KL before\n",
            "2019-02-16 20:52:40 | itr #68 | Optimizing\n",
            "2019-02-16 20:52:40 | itr #68 | Start CG optimization: #parameters: 10528, #inputs: 131, #subsample_inputs: 131\n",
            "2019-02-16 20:52:40 | itr #68 | computing loss before\n",
            "2019-02-16 20:52:40 | itr #68 | performing update\n",
            "2019-02-16 20:52:40 | itr #68 | computing gradient\n",
            "2019-02-16 20:52:40 | itr #68 | gradient computed\n",
            "2019-02-16 20:52:40 | itr #68 | computing descent direction\n"
          ],
          "name": "stdout"
        },
        {
          "output_type": "stream",
          "text": [
            "\n",
            "Total time elapsed: 00:00:04\n"
          ],
          "name": "stderr"
        },
        {
          "output_type": "stream",
          "text": [
            "2019-02-16 20:52:40 | itr #68 | descent direction computed\n",
            "2019-02-16 20:52:40 | itr #68 | backtrack iters: 0\n",
            "2019-02-16 20:52:40 | itr #68 | computing loss after\n",
            "2019-02-16 20:52:40 | itr #68 | optimization finished\n",
            "2019-02-16 20:52:40 | itr #68 | Computing KL after\n",
            "2019-02-16 20:52:40 | itr #68 | Computing loss after\n",
            "2019-02-16 20:52:40 | itr #68 | Fitting baseline...\n",
            "2019-02-16 20:52:40 | itr #68 | Saving snapshot...\n",
            "2019-02-16 20:52:40 | itr #68 | Saved\n",
            "2019-02-16 20:52:40 | --------------------------  --------------\n",
            "2019-02-16 20:52:40 | AverageDiscountedReturn       36.6741\n",
            "2019-02-16 20:52:40 | AverageReturn                 38.0458\n",
            "2019-02-16 20:52:40 | Baseline/ExplainedVariance     0.319582\n",
            "2019-02-16 20:52:40 | Entropy                        4.32043\n",
            "2019-02-16 20:52:40 | EnvExecTime                    0.818523\n",
            "2019-02-16 20:52:40 | Iteration                     68\n",
            "2019-02-16 20:52:40 | ItrTime                        4.9794\n",
            "2019-02-16 20:52:40 | MaxReturn                    110\n",
            "2019-02-16 20:52:40 | MinReturn                   -101\n",
            "2019-02-16 20:52:40 | NumTrajs                     131\n",
            "2019-02-16 20:52:40 | Perplexity                    75.2208\n",
            "2019-02-16 20:52:40 | PolicyExecTime                 3.71103\n",
            "2019-02-16 20:52:40 | ProcessExecTime                0.0398567\n",
            "2019-02-16 20:52:40 | StdReturn                     61.2142\n",
            "2019-02-16 20:52:40 | Time                         361.554\n",
            "2019-02-16 20:52:40 | policy/Entropy                 0.0304227\n",
            "2019-02-16 20:52:40 | policy/KL                      0.00861225\n",
            "2019-02-16 20:52:40 | policy/KLBefore                0\n",
            "2019-02-16 20:52:40 | policy/LossAfter              -0.0350979\n",
            "2019-02-16 20:52:40 | policy/LossBefore             -1.47428e-08\n",
            "2019-02-16 20:52:40 | policy/dLoss                   0.0350979\n",
            "2019-02-16 20:52:40 | --------------------------  --------------\n",
            "2019-02-16 20:52:40 | itr #69 | Obtaining samples...\n",
            "2019-02-16 20:52:40 | itr #69 | Obtaining samples for iteration 69...\n"
          ],
          "name": "stdout"
        },
        {
          "output_type": "stream",
          "text": [
            "0% [##############################] 100% | ETA: 00:00:00"
          ],
          "name": "stderr"
        },
        {
          "output_type": "stream",
          "text": [
            "2019-02-16 20:52:45 | itr #69 | Processing samples...\n",
            "2019-02-16 20:52:45 | itr #69 | Logging diagnostics...\n",
            "2019-02-16 20:52:45 | itr #69 | Optimizing policy...\n",
            "2019-02-16 20:52:45 | itr #69 | Computing loss before\n",
            "2019-02-16 20:52:45 | itr #69 | Computing KL before\n",
            "2019-02-16 20:52:45 | itr #69 | Optimizing\n",
            "2019-02-16 20:52:45 | itr #69 | Start CG optimization: #parameters: 10528, #inputs: 128, #subsample_inputs: 128\n",
            "2019-02-16 20:52:45 | itr #69 | computing loss before\n",
            "2019-02-16 20:52:45 | itr #69 | performing update\n",
            "2019-02-16 20:52:45 | itr #69 | computing gradient\n",
            "2019-02-16 20:52:45 | itr #69 | gradient computed\n",
            "2019-02-16 20:52:45 | itr #69 | computing descent direction\n"
          ],
          "name": "stdout"
        },
        {
          "output_type": "stream",
          "text": [
            "\n",
            "Total time elapsed: 00:00:04\n"
          ],
          "name": "stderr"
        },
        {
          "output_type": "stream",
          "text": [
            "2019-02-16 20:52:45 | itr #69 | descent direction computed\n",
            "2019-02-16 20:52:45 | itr #69 | backtrack iters: 0\n",
            "2019-02-16 20:52:45 | itr #69 | computing loss after\n",
            "2019-02-16 20:52:45 | itr #69 | optimization finished\n",
            "2019-02-16 20:52:45 | itr #69 | Computing KL after\n",
            "2019-02-16 20:52:45 | itr #69 | Computing loss after\n",
            "2019-02-16 20:52:45 | itr #69 | Fitting baseline...\n",
            "2019-02-16 20:52:45 | itr #69 | Saving snapshot...\n",
            "2019-02-16 20:52:45 | itr #69 | Saved\n",
            "2019-02-16 20:52:45 | --------------------------  -------------\n",
            "2019-02-16 20:52:45 | AverageDiscountedReturn      29.6781\n",
            "2019-02-16 20:52:45 | AverageReturn                30.6641\n",
            "2019-02-16 20:52:45 | Baseline/ExplainedVariance    0.609062\n",
            "2019-02-16 20:52:45 | Entropy                       4.33264\n",
            "2019-02-16 20:52:45 | EnvExecTime                   0.814831\n",
            "2019-02-16 20:52:45 | Iteration                    69\n",
            "2019-02-16 20:52:45 | ItrTime                       4.95987\n",
            "2019-02-16 20:52:45 | MaxReturn                   110\n",
            "2019-02-16 20:52:45 | MinReturn                   -93\n",
            "2019-02-16 20:52:45 | NumTrajs                    128\n",
            "2019-02-16 20:52:45 | Perplexity                   76.1453\n",
            "2019-02-16 20:52:45 | PolicyExecTime                3.71249\n",
            "2019-02-16 20:52:45 | ProcessExecTime               0.0394454\n",
            "2019-02-16 20:52:45 | StdReturn                    65.2413\n",
            "2019-02-16 20:52:45 | Time                        366.559\n",
            "2019-02-16 20:52:45 | policy/Entropy                0.0308486\n",
            "2019-02-16 20:52:45 | policy/KL                     0.00841929\n",
            "2019-02-16 20:52:45 | policy/KLBefore               0\n",
            "2019-02-16 20:52:45 | policy/LossAfter             -0.0333978\n",
            "2019-02-16 20:52:45 | policy/LossBefore             3.74173e-09\n",
            "2019-02-16 20:52:45 | policy/dLoss                  0.0333978\n",
            "2019-02-16 20:52:45 | --------------------------  -------------\n",
            "2019-02-16 20:52:45 | itr #70 | Obtaining samples...\n",
            "2019-02-16 20:52:45 | itr #70 | Obtaining samples for iteration 70...\n"
          ],
          "name": "stdout"
        },
        {
          "output_type": "stream",
          "text": [
            "0% [##############################] 100% | ETA: 00:00:00"
          ],
          "name": "stderr"
        },
        {
          "output_type": "stream",
          "text": [
            "2019-02-16 20:52:50 | itr #70 | Processing samples...\n",
            "2019-02-16 20:52:50 | itr #70 | Logging diagnostics...\n",
            "2019-02-16 20:52:50 | itr #70 | Optimizing policy...\n",
            "2019-02-16 20:52:50 | itr #70 | Computing loss before\n",
            "2019-02-16 20:52:50 | itr #70 | Computing KL before\n",
            "2019-02-16 20:52:50 | itr #70 | Optimizing\n",
            "2019-02-16 20:52:50 | itr #70 | Start CG optimization: #parameters: 10528, #inputs: 128, #subsample_inputs: 128\n",
            "2019-02-16 20:52:50 | itr #70 | computing loss before\n",
            "2019-02-16 20:52:50 | itr #70 | performing update\n",
            "2019-02-16 20:52:50 | itr #70 | computing gradient\n",
            "2019-02-16 20:52:50 | itr #70 | gradient computed\n",
            "2019-02-16 20:52:50 | itr #70 | computing descent direction\n"
          ],
          "name": "stdout"
        },
        {
          "output_type": "stream",
          "text": [
            "\n",
            "Total time elapsed: 00:00:04\n"
          ],
          "name": "stderr"
        },
        {
          "output_type": "stream",
          "text": [
            "2019-02-16 20:52:50 | itr #70 | descent direction computed\n",
            "2019-02-16 20:52:50 | itr #70 | backtrack iters: 1\n",
            "2019-02-16 20:52:50 | itr #70 | computing loss after\n",
            "2019-02-16 20:52:50 | itr #70 | optimization finished\n",
            "2019-02-16 20:52:50 | itr #70 | Computing KL after\n",
            "2019-02-16 20:52:50 | itr #70 | Computing loss after\n",
            "2019-02-16 20:52:50 | itr #70 | Fitting baseline...\n",
            "2019-02-16 20:52:50 | itr #70 | Saving snapshot...\n",
            "2019-02-16 20:52:50 | itr #70 | Saved\n",
            "2019-02-16 20:52:50 | --------------------------  -------------\n",
            "2019-02-16 20:52:50 | AverageDiscountedReturn      28.9465\n",
            "2019-02-16 20:52:50 | AverageReturn                29.2031\n",
            "2019-02-16 20:52:50 | Baseline/ExplainedVariance    0.468271\n",
            "2019-02-16 20:52:50 | Entropy                       4.303\n",
            "2019-02-16 20:52:50 | EnvExecTime                   0.836219\n",
            "2019-02-16 20:52:50 | Iteration                    70\n",
            "2019-02-16 20:52:50 | ItrTime                       5.07919\n",
            "2019-02-16 20:52:50 | MaxReturn                   110\n",
            "2019-02-16 20:52:50 | MinReturn                   -68\n",
            "2019-02-16 20:52:50 | NumTrajs                    128\n",
            "2019-02-16 20:52:50 | Perplexity                   73.9211\n",
            "2019-02-16 20:52:50 | PolicyExecTime                3.80011\n",
            "2019-02-16 20:52:50 | ProcessExecTime               0.0395868\n",
            "2019-02-16 20:52:50 | StdReturn                    60.3274\n",
            "2019-02-16 20:52:50 | Time                        371.668\n",
            "2019-02-16 20:52:50 | policy/Entropy                0.0314458\n",
            "2019-02-16 20:52:50 | policy/KL                     0.00751353\n",
            "2019-02-16 20:52:50 | policy/KLBefore               0\n",
            "2019-02-16 20:52:50 | policy/LossAfter             -0.0310289\n",
            "2019-02-16 20:52:50 | policy/LossBefore             3.72802e-09\n",
            "2019-02-16 20:52:50 | policy/dLoss                  0.0310289\n",
            "2019-02-16 20:52:50 | --------------------------  -------------\n",
            "2019-02-16 20:52:50 | itr #71 | Obtaining samples...\n",
            "2019-02-16 20:52:50 | itr #71 | Obtaining samples for iteration 71...\n"
          ],
          "name": "stdout"
        },
        {
          "output_type": "stream",
          "text": [
            "0% [##############################] 100% | ETA: 00:00:00"
          ],
          "name": "stderr"
        },
        {
          "output_type": "stream",
          "text": [
            "2019-02-16 20:52:55 | itr #71 | Processing samples...\n",
            "2019-02-16 20:52:55 | itr #71 | Logging diagnostics...\n",
            "2019-02-16 20:52:55 | itr #71 | Optimizing policy...\n",
            "2019-02-16 20:52:55 | itr #71 | Computing loss before\n",
            "2019-02-16 20:52:55 | itr #71 | Computing KL before\n",
            "2019-02-16 20:52:55 | itr #71 | Optimizing\n",
            "2019-02-16 20:52:55 | itr #71 | Start CG optimization: #parameters: 10528, #inputs: 134, #subsample_inputs: 134\n",
            "2019-02-16 20:52:55 | itr #71 | computing loss before\n",
            "2019-02-16 20:52:55 | itr #71 | performing update\n",
            "2019-02-16 20:52:55 | itr #71 | computing gradient\n",
            "2019-02-16 20:52:55 | itr #71 | gradient computed\n",
            "2019-02-16 20:52:55 | itr #71 | computing descent direction\n"
          ],
          "name": "stdout"
        },
        {
          "output_type": "stream",
          "text": [
            "\n",
            "Total time elapsed: 00:00:04\n"
          ],
          "name": "stderr"
        },
        {
          "output_type": "stream",
          "text": [
            "2019-02-16 20:52:55 | itr #71 | descent direction computed\n",
            "2019-02-16 20:52:55 | itr #71 | backtrack iters: 0\n",
            "2019-02-16 20:52:55 | itr #71 | computing loss after\n",
            "2019-02-16 20:52:55 | itr #71 | optimization finished\n",
            "2019-02-16 20:52:55 | itr #71 | Computing KL after\n",
            "2019-02-16 20:52:55 | itr #71 | Computing loss after\n",
            "2019-02-16 20:52:55 | itr #71 | Fitting baseline...\n",
            "2019-02-16 20:52:55 | itr #71 | Saving snapshot...\n",
            "2019-02-16 20:52:55 | itr #71 | Saved\n",
            "2019-02-16 20:52:55 | --------------------------  -------------\n",
            "2019-02-16 20:52:55 | AverageDiscountedReturn      37.4366\n",
            "2019-02-16 20:52:55 | AverageReturn                39.0149\n",
            "2019-02-16 20:52:55 | Baseline/ExplainedVariance    0.644507\n",
            "2019-02-16 20:52:55 | Entropy                       4.24625\n",
            "2019-02-16 20:52:55 | EnvExecTime                   0.805727\n",
            "2019-02-16 20:52:55 | Iteration                    71\n",
            "2019-02-16 20:52:55 | ItrTime                       4.8864\n",
            "2019-02-16 20:52:55 | MaxReturn                   110\n",
            "2019-02-16 20:52:55 | MinReturn                   -73\n",
            "2019-02-16 20:52:55 | NumTrajs                    134\n",
            "2019-02-16 20:52:55 | Perplexity                   69.8433\n",
            "2019-02-16 20:52:55 | PolicyExecTime                3.63661\n",
            "2019-02-16 20:52:55 | ProcessExecTime               0.0395916\n",
            "2019-02-16 20:52:55 | StdReturn                    62.6098\n",
            "2019-02-16 20:52:55 | Time                        376.598\n",
            "2019-02-16 20:52:55 | policy/Entropy                0.0320154\n",
            "2019-02-16 20:52:55 | policy/KL                     0.00836384\n",
            "2019-02-16 20:52:55 | policy/KLBefore               0\n",
            "2019-02-16 20:52:55 | policy/LossAfter             -0.0287062\n",
            "2019-02-16 20:52:55 | policy/LossBefore            -8.84316e-09\n",
            "2019-02-16 20:52:55 | policy/dLoss                  0.0287062\n",
            "2019-02-16 20:52:55 | --------------------------  -------------\n",
            "2019-02-16 20:52:55 | itr #72 | Obtaining samples...\n",
            "2019-02-16 20:52:55 | itr #72 | Obtaining samples for iteration 72...\n"
          ],
          "name": "stdout"
        },
        {
          "output_type": "stream",
          "text": [
            "0% [##############################] 100% | ETA: 00:00:00"
          ],
          "name": "stderr"
        },
        {
          "output_type": "stream",
          "text": [
            "2019-02-16 20:53:00 | itr #72 | Processing samples...\n",
            "2019-02-16 20:53:00 | itr #72 | Logging diagnostics...\n",
            "2019-02-16 20:53:00 | itr #72 | Optimizing policy...\n",
            "2019-02-16 20:53:00 | itr #72 | Computing loss before\n",
            "2019-02-16 20:53:00 | itr #72 | Computing KL before\n",
            "2019-02-16 20:53:00 | itr #72 | Optimizing\n",
            "2019-02-16 20:53:00 | itr #72 | Start CG optimization: #parameters: 10528, #inputs: 127, #subsample_inputs: 127\n",
            "2019-02-16 20:53:00 | itr #72 | computing loss before\n",
            "2019-02-16 20:53:00 | itr #72 | performing update\n",
            "2019-02-16 20:53:00 | itr #72 | computing gradient\n",
            "2019-02-16 20:53:00 | itr #72 | gradient computed\n",
            "2019-02-16 20:53:00 | itr #72 | computing descent direction\n"
          ],
          "name": "stdout"
        },
        {
          "output_type": "stream",
          "text": [
            "\n",
            "Total time elapsed: 00:00:04\n"
          ],
          "name": "stderr"
        },
        {
          "output_type": "stream",
          "text": [
            "2019-02-16 20:53:00 | itr #72 | descent direction computed\n",
            "2019-02-16 20:53:00 | itr #72 | backtrack iters: 1\n",
            "2019-02-16 20:53:00 | itr #72 | computing loss after\n",
            "2019-02-16 20:53:00 | itr #72 | optimization finished\n",
            "2019-02-16 20:53:00 | itr #72 | Computing KL after\n",
            "2019-02-16 20:53:00 | itr #72 | Computing loss after\n",
            "2019-02-16 20:53:00 | itr #72 | Fitting baseline...\n",
            "2019-02-16 20:53:00 | itr #72 | Saving snapshot...\n",
            "2019-02-16 20:53:00 | itr #72 | Saved\n",
            "2019-02-16 20:53:00 | --------------------------  -------------\n",
            "2019-02-16 20:53:00 | AverageDiscountedReturn      35.7019\n",
            "2019-02-16 20:53:00 | AverageReturn                37.2913\n",
            "2019-02-16 20:53:00 | Baseline/ExplainedVariance    0.577179\n",
            "2019-02-16 20:53:00 | Entropy                       4.26627\n",
            "2019-02-16 20:53:00 | EnvExecTime                   0.823353\n",
            "2019-02-16 20:53:00 | Iteration                    72\n",
            "2019-02-16 20:53:00 | ItrTime                       5.01604\n",
            "2019-02-16 20:53:00 | MaxReturn                   110\n",
            "2019-02-16 20:53:00 | MinReturn                   -67\n",
            "2019-02-16 20:53:00 | NumTrajs                    127\n",
            "2019-02-16 20:53:00 | Perplexity                   71.255\n",
            "2019-02-16 20:53:00 | PolicyExecTime                3.75011\n",
            "2019-02-16 20:53:00 | ProcessExecTime               0.0384076\n",
            "2019-02-16 20:53:00 | StdReturn                    63.1928\n",
            "2019-02-16 20:53:00 | Time                        381.668\n",
            "2019-02-16 20:53:00 | policy/Entropy                0.0324264\n",
            "2019-02-16 20:53:00 | policy/KL                     0.00718484\n",
            "2019-02-16 20:53:00 | policy/KLBefore               0\n",
            "2019-02-16 20:53:00 | policy/LossAfter             -0.0362599\n",
            "2019-02-16 20:53:00 | policy/LossBefore            -6.67572e-09\n",
            "2019-02-16 20:53:00 | policy/dLoss                  0.0362599\n",
            "2019-02-16 20:53:00 | --------------------------  -------------\n",
            "2019-02-16 20:53:00 | itr #73 | Obtaining samples...\n",
            "2019-02-16 20:53:00 | itr #73 | Obtaining samples for iteration 73...\n"
          ],
          "name": "stdout"
        },
        {
          "output_type": "stream",
          "text": [
            "0% [##############################] 100% | ETA: 00:00:00"
          ],
          "name": "stderr"
        },
        {
          "output_type": "stream",
          "text": [
            "2019-02-16 20:53:05 | itr #73 | Processing samples...\n",
            "2019-02-16 20:53:05 | itr #73 | Logging diagnostics...\n",
            "2019-02-16 20:53:05 | itr #73 | Optimizing policy...\n",
            "2019-02-16 20:53:05 | itr #73 | Computing loss before\n",
            "2019-02-16 20:53:05 | itr #73 | Computing KL before\n",
            "2019-02-16 20:53:05 | itr #73 | Optimizing\n",
            "2019-02-16 20:53:05 | itr #73 | Start CG optimization: #parameters: 10528, #inputs: 127, #subsample_inputs: 127\n",
            "2019-02-16 20:53:05 | itr #73 | computing loss before\n",
            "2019-02-16 20:53:05 | itr #73 | performing update\n",
            "2019-02-16 20:53:05 | itr #73 | computing gradient\n",
            "2019-02-16 20:53:05 | itr #73 | gradient computed\n",
            "2019-02-16 20:53:05 | itr #73 | computing descent direction\n"
          ],
          "name": "stdout"
        },
        {
          "output_type": "stream",
          "text": [
            "\n",
            "Total time elapsed: 00:00:04\n"
          ],
          "name": "stderr"
        },
        {
          "output_type": "stream",
          "text": [
            "2019-02-16 20:53:05 | itr #73 | descent direction computed\n",
            "2019-02-16 20:53:05 | itr #73 | backtrack iters: 0\n",
            "2019-02-16 20:53:05 | itr #73 | computing loss after\n",
            "2019-02-16 20:53:05 | itr #73 | optimization finished\n",
            "2019-02-16 20:53:05 | itr #73 | Computing KL after\n",
            "2019-02-16 20:53:05 | itr #73 | Computing loss after\n",
            "2019-02-16 20:53:05 | itr #73 | Fitting baseline...\n",
            "2019-02-16 20:53:05 | itr #73 | Saving snapshot...\n",
            "2019-02-16 20:53:05 | itr #73 | Saved\n",
            "2019-02-16 20:53:05 | --------------------------  -------------\n",
            "2019-02-16 20:53:05 | AverageDiscountedReturn      42.162\n",
            "2019-02-16 20:53:05 | AverageReturn                44.5354\n",
            "2019-02-16 20:53:05 | Baseline/ExplainedVariance    0.612259\n",
            "2019-02-16 20:53:05 | Entropy                       4.19562\n",
            "2019-02-16 20:53:05 | EnvExecTime                   0.859735\n",
            "2019-02-16 20:53:05 | Iteration                    73\n",
            "2019-02-16 20:53:05 | ItrTime                       5.07063\n",
            "2019-02-16 20:53:05 | MaxReturn                   110\n",
            "2019-02-16 20:53:05 | MinReturn                   -64\n",
            "2019-02-16 20:53:05 | NumTrajs                    127\n",
            "2019-02-16 20:53:05 | Perplexity                   66.3952\n",
            "2019-02-16 20:53:05 | PolicyExecTime                3.77276\n",
            "2019-02-16 20:53:05 | ProcessExecTime               0.0384858\n",
            "2019-02-16 20:53:05 | StdReturn                    62.0459\n",
            "2019-02-16 20:53:05 | Time                        386.805\n",
            "2019-02-16 20:53:05 | policy/Entropy                0.0354439\n",
            "2019-02-16 20:53:05 | policy/KL                     0.00861317\n",
            "2019-02-16 20:53:05 | policy/KLBefore               0\n",
            "2019-02-16 20:53:05 | policy/LossAfter             -0.0306616\n",
            "2019-02-16 20:53:05 | policy/LossBefore             9.48694e-10\n",
            "2019-02-16 20:53:05 | policy/dLoss                  0.0306616\n",
            "2019-02-16 20:53:05 | --------------------------  -------------\n",
            "2019-02-16 20:53:05 | itr #74 | Obtaining samples...\n",
            "2019-02-16 20:53:05 | itr #74 | Obtaining samples for iteration 74...\n"
          ],
          "name": "stdout"
        },
        {
          "output_type": "stream",
          "text": [
            "0% [##############################] 100% | ETA: 00:00:00"
          ],
          "name": "stderr"
        },
        {
          "output_type": "stream",
          "text": [
            "2019-02-16 20:53:10 | itr #74 | Processing samples...\n",
            "2019-02-16 20:53:10 | itr #74 | Logging diagnostics...\n",
            "2019-02-16 20:53:10 | itr #74 | Optimizing policy...\n",
            "2019-02-16 20:53:10 | itr #74 | Computing loss before\n",
            "2019-02-16 20:53:10 | itr #74 | Computing KL before\n",
            "2019-02-16 20:53:10 | itr #74 | Optimizing\n",
            "2019-02-16 20:53:10 | itr #74 | Start CG optimization: #parameters: 10528, #inputs: 129, #subsample_inputs: 129\n",
            "2019-02-16 20:53:10 | itr #74 | computing loss before\n",
            "2019-02-16 20:53:10 | itr #74 | performing update\n",
            "2019-02-16 20:53:10 | itr #74 | computing gradient\n",
            "2019-02-16 20:53:10 | itr #74 | gradient computed\n",
            "2019-02-16 20:53:10 | itr #74 | computing descent direction\n"
          ],
          "name": "stdout"
        },
        {
          "output_type": "stream",
          "text": [
            "\n",
            "Total time elapsed: 00:00:04\n"
          ],
          "name": "stderr"
        },
        {
          "output_type": "stream",
          "text": [
            "2019-02-16 20:53:10 | itr #74 | descent direction computed\n",
            "2019-02-16 20:53:10 | itr #74 | backtrack iters: 0\n",
            "2019-02-16 20:53:10 | itr #74 | computing loss after\n",
            "2019-02-16 20:53:10 | itr #74 | optimization finished\n",
            "2019-02-16 20:53:10 | itr #74 | Computing KL after\n",
            "2019-02-16 20:53:10 | itr #74 | Computing loss after\n",
            "2019-02-16 20:53:10 | itr #74 | Fitting baseline...\n",
            "2019-02-16 20:53:10 | itr #74 | Saving snapshot...\n",
            "2019-02-16 20:53:10 | itr #74 | Saved\n",
            "2019-02-16 20:53:10 | --------------------------  -------------\n",
            "2019-02-16 20:53:10 | AverageDiscountedReturn      47.828\n",
            "2019-02-16 20:53:10 | AverageReturn                50.8682\n",
            "2019-02-16 20:53:10 | Baseline/ExplainedVariance    0.583768\n",
            "2019-02-16 20:53:10 | Entropy                       4.1766\n",
            "2019-02-16 20:53:10 | EnvExecTime                   0.805637\n",
            "2019-02-16 20:53:10 | Iteration                    74\n",
            "2019-02-16 20:53:10 | ItrTime                       4.89783\n",
            "2019-02-16 20:53:10 | MaxReturn                   110\n",
            "2019-02-16 20:53:10 | MinReturn                   -84\n",
            "2019-02-16 20:53:10 | NumTrajs                    129\n",
            "2019-02-16 20:53:10 | Perplexity                   65.144\n",
            "2019-02-16 20:53:10 | PolicyExecTime                3.65503\n",
            "2019-02-16 20:53:10 | ProcessExecTime               0.0407896\n",
            "2019-02-16 20:53:10 | StdReturn                    60.4044\n",
            "2019-02-16 20:53:10 | Time                        391.756\n",
            "2019-02-16 20:53:10 | policy/Entropy                0.0370573\n",
            "2019-02-16 20:53:10 | policy/KL                     0.00926144\n",
            "2019-02-16 20:53:10 | policy/KLBefore               0\n",
            "2019-02-16 20:53:10 | policy/LossAfter             -0.0364264\n",
            "2019-02-16 20:53:10 | policy/LossBefore            -1.22266e-08\n",
            "2019-02-16 20:53:10 | policy/dLoss                  0.0364264\n",
            "2019-02-16 20:53:10 | --------------------------  -------------\n",
            "2019-02-16 20:53:10 | itr #75 | Obtaining samples...\n",
            "2019-02-16 20:53:10 | itr #75 | Obtaining samples for iteration 75...\n"
          ],
          "name": "stdout"
        },
        {
          "output_type": "stream",
          "text": [
            "0% [##############################] 100% | ETA: 00:00:00"
          ],
          "name": "stderr"
        },
        {
          "output_type": "stream",
          "text": [
            "2019-02-16 20:53:15 | itr #75 | Processing samples...\n",
            "2019-02-16 20:53:15 | itr #75 | Logging diagnostics...\n",
            "2019-02-16 20:53:15 | itr #75 | Optimizing policy...\n",
            "2019-02-16 20:53:15 | itr #75 | Computing loss before\n",
            "2019-02-16 20:53:15 | itr #75 | Computing KL before\n",
            "2019-02-16 20:53:15 | itr #75 | Optimizing\n",
            "2019-02-16 20:53:15 | itr #75 | Start CG optimization: #parameters: 10528, #inputs: 129, #subsample_inputs: 129\n",
            "2019-02-16 20:53:15 | itr #75 | computing loss before\n",
            "2019-02-16 20:53:15 | itr #75 | performing update\n",
            "2019-02-16 20:53:15 | itr #75 | computing gradient\n",
            "2019-02-16 20:53:15 | itr #75 | gradient computed\n",
            "2019-02-16 20:53:15 | itr #75 | computing descent direction\n"
          ],
          "name": "stdout"
        },
        {
          "output_type": "stream",
          "text": [
            "\n",
            "Total time elapsed: 00:00:04\n"
          ],
          "name": "stderr"
        },
        {
          "output_type": "stream",
          "text": [
            "2019-02-16 20:53:15 | itr #75 | descent direction computed\n",
            "2019-02-16 20:53:15 | itr #75 | backtrack iters: 0\n",
            "2019-02-16 20:53:15 | itr #75 | computing loss after\n",
            "2019-02-16 20:53:15 | itr #75 | optimization finished\n",
            "2019-02-16 20:53:15 | itr #75 | Computing KL after\n",
            "2019-02-16 20:53:15 | itr #75 | Computing loss after\n",
            "2019-02-16 20:53:15 | itr #75 | Fitting baseline...\n",
            "2019-02-16 20:53:15 | itr #75 | Saving snapshot...\n",
            "2019-02-16 20:53:15 | itr #75 | Saved\n",
            "2019-02-16 20:53:15 | --------------------------  --------------\n",
            "2019-02-16 20:53:15 | AverageDiscountedReturn       33.2497\n",
            "2019-02-16 20:53:15 | AverageReturn                 34.124\n",
            "2019-02-16 20:53:15 | Baseline/ExplainedVariance     0.533475\n",
            "2019-02-16 20:53:15 | Entropy                        4.21827\n",
            "2019-02-16 20:53:15 | EnvExecTime                    0.794713\n",
            "2019-02-16 20:53:15 | Iteration                     75\n",
            "2019-02-16 20:53:15 | ItrTime                        4.89772\n",
            "2019-02-16 20:53:15 | MaxReturn                    110\n",
            "2019-02-16 20:53:15 | MinReturn                   -119\n",
            "2019-02-16 20:53:15 | NumTrajs                     129\n",
            "2019-02-16 20:53:15 | Perplexity                    67.9161\n",
            "2019-02-16 20:53:15 | PolicyExecTime                 3.67157\n",
            "2019-02-16 20:53:15 | ProcessExecTime                0.0386708\n",
            "2019-02-16 20:53:15 | StdReturn                     61.1664\n",
            "2019-02-16 20:53:15 | Time                         396.707\n",
            "2019-02-16 20:53:15 | policy/Entropy                 0.0363626\n",
            "2019-02-16 20:53:15 | policy/KL                      0.00933713\n",
            "2019-02-16 20:53:15 | policy/KLBefore                0\n",
            "2019-02-16 20:53:15 | policy/LossAfter              -0.0316014\n",
            "2019-02-16 20:53:15 | policy/LossBefore              1.87454e-08\n",
            "2019-02-16 20:53:15 | policy/dLoss                   0.0316014\n",
            "2019-02-16 20:53:15 | --------------------------  --------------\n",
            "2019-02-16 20:53:15 | itr #76 | Obtaining samples...\n",
            "2019-02-16 20:53:15 | itr #76 | Obtaining samples for iteration 76...\n"
          ],
          "name": "stdout"
        },
        {
          "output_type": "stream",
          "text": [
            "0% [##############################] 100% | ETA: 00:00:00"
          ],
          "name": "stderr"
        },
        {
          "output_type": "stream",
          "text": [
            "2019-02-16 20:53:20 | itr #76 | Processing samples...\n",
            "2019-02-16 20:53:20 | itr #76 | Logging diagnostics...\n",
            "2019-02-16 20:53:20 | itr #76 | Optimizing policy...\n",
            "2019-02-16 20:53:20 | itr #76 | Computing loss before\n",
            "2019-02-16 20:53:20 | itr #76 | Computing KL before\n",
            "2019-02-16 20:53:20 | itr #76 | Optimizing\n",
            "2019-02-16 20:53:20 | itr #76 | Start CG optimization: #parameters: 10528, #inputs: 131, #subsample_inputs: 131\n",
            "2019-02-16 20:53:20 | itr #76 | computing loss before\n",
            "2019-02-16 20:53:20 | itr #76 | performing update\n",
            "2019-02-16 20:53:20 | itr #76 | computing gradient\n",
            "2019-02-16 20:53:20 | itr #76 | gradient computed\n",
            "2019-02-16 20:53:20 | itr #76 | computing descent direction\n"
          ],
          "name": "stdout"
        },
        {
          "output_type": "stream",
          "text": [
            "\n",
            "Total time elapsed: 00:00:04\n"
          ],
          "name": "stderr"
        },
        {
          "output_type": "stream",
          "text": [
            "2019-02-16 20:53:20 | itr #76 | descent direction computed\n",
            "2019-02-16 20:53:20 | itr #76 | backtrack iters: 1\n",
            "2019-02-16 20:53:20 | itr #76 | computing loss after\n",
            "2019-02-16 20:53:20 | itr #76 | optimization finished\n",
            "2019-02-16 20:53:20 | itr #76 | Computing KL after\n",
            "2019-02-16 20:53:20 | itr #76 | Computing loss after\n",
            "2019-02-16 20:53:20 | itr #76 | Fitting baseline...\n",
            "2019-02-16 20:53:20 | itr #76 | Saving snapshot...\n",
            "2019-02-16 20:53:20 | itr #76 | Saved\n",
            "2019-02-16 20:53:20 | --------------------------  --------------\n",
            "2019-02-16 20:53:20 | AverageDiscountedReturn       35.7655\n",
            "2019-02-16 20:53:20 | AverageReturn                 37.2595\n",
            "2019-02-16 20:53:20 | Baseline/ExplainedVariance     0.629449\n",
            "2019-02-16 20:53:20 | Entropy                        4.17725\n",
            "2019-02-16 20:53:20 | EnvExecTime                    0.820944\n",
            "2019-02-16 20:53:20 | Iteration                     76\n",
            "2019-02-16 20:53:20 | ItrTime                        4.95788\n",
            "2019-02-16 20:53:20 | MaxReturn                    110\n",
            "2019-02-16 20:53:20 | MinReturn                   -102\n",
            "2019-02-16 20:53:20 | NumTrajs                     131\n",
            "2019-02-16 20:53:20 | Perplexity                    65.1861\n",
            "2019-02-16 20:53:20 | PolicyExecTime                 3.68494\n",
            "2019-02-16 20:53:20 | ProcessExecTime                0.0401287\n",
            "2019-02-16 20:53:20 | StdReturn                     62.9326\n",
            "2019-02-16 20:53:20 | Time                         401.733\n",
            "2019-02-16 20:53:20 | policy/Entropy                 0.0365279\n",
            "2019-02-16 20:53:20 | policy/KL                      0.00656842\n",
            "2019-02-16 20:53:20 | policy/KLBefore                0\n",
            "2019-02-16 20:53:20 | policy/LossAfter              -0.0217351\n",
            "2019-02-16 20:53:20 | policy/LossBefore             -1.84063e-08\n",
            "2019-02-16 20:53:20 | policy/dLoss                   0.0217351\n",
            "2019-02-16 20:53:20 | --------------------------  --------------\n",
            "2019-02-16 20:53:20 | itr #77 | Obtaining samples...\n",
            "2019-02-16 20:53:20 | itr #77 | Obtaining samples for iteration 77...\n"
          ],
          "name": "stdout"
        },
        {
          "output_type": "stream",
          "text": [
            "0% [##############################] 100% | ETA: 00:00:00"
          ],
          "name": "stderr"
        },
        {
          "output_type": "stream",
          "text": [
            "2019-02-16 20:53:25 | itr #77 | Processing samples...\n",
            "2019-02-16 20:53:25 | itr #77 | Logging diagnostics...\n",
            "2019-02-16 20:53:25 | itr #77 | Optimizing policy...\n",
            "2019-02-16 20:53:25 | itr #77 | Computing loss before\n",
            "2019-02-16 20:53:25 | itr #77 | Computing KL before\n",
            "2019-02-16 20:53:25 | itr #77 | Optimizing\n",
            "2019-02-16 20:53:25 | itr #77 | Start CG optimization: #parameters: 10528, #inputs: 133, #subsample_inputs: 133\n",
            "2019-02-16 20:53:25 | itr #77 | computing loss before\n",
            "2019-02-16 20:53:25 | itr #77 | performing update\n",
            "2019-02-16 20:53:25 | itr #77 | computing gradient\n",
            "2019-02-16 20:53:25 | itr #77 | gradient computed\n",
            "2019-02-16 20:53:25 | itr #77 | computing descent direction\n"
          ],
          "name": "stdout"
        },
        {
          "output_type": "stream",
          "text": [
            "\n",
            "Total time elapsed: 00:00:04\n"
          ],
          "name": "stderr"
        },
        {
          "output_type": "stream",
          "text": [
            "2019-02-16 20:53:25 | itr #77 | descent direction computed\n",
            "2019-02-16 20:53:25 | itr #77 | backtrack iters: 0\n",
            "2019-02-16 20:53:25 | itr #77 | computing loss after\n",
            "2019-02-16 20:53:25 | itr #77 | optimization finished\n",
            "2019-02-16 20:53:25 | itr #77 | Computing KL after\n",
            "2019-02-16 20:53:25 | itr #77 | Computing loss after\n",
            "2019-02-16 20:53:25 | itr #77 | Fitting baseline...\n",
            "2019-02-16 20:53:25 | itr #77 | Saving snapshot...\n",
            "2019-02-16 20:53:25 | itr #77 | Saved\n",
            "2019-02-16 20:53:25 | --------------------------  -------------\n",
            "2019-02-16 20:53:25 | AverageDiscountedReturn      41.6651\n",
            "2019-02-16 20:53:25 | AverageReturn                43.8947\n",
            "2019-02-16 20:53:25 | Baseline/ExplainedVariance    0.570359\n",
            "2019-02-16 20:53:25 | Entropy                       4.12494\n",
            "2019-02-16 20:53:25 | EnvExecTime                   0.803962\n",
            "2019-02-16 20:53:25 | Iteration                    77\n",
            "2019-02-16 20:53:25 | ItrTime                       4.90452\n",
            "2019-02-16 20:53:25 | MaxReturn                   110\n",
            "2019-02-16 20:53:25 | MinReturn                   -72\n",
            "2019-02-16 20:53:25 | NumTrajs                    133\n",
            "2019-02-16 20:53:25 | Perplexity                   61.8644\n",
            "2019-02-16 20:53:25 | PolicyExecTime                3.66511\n",
            "2019-02-16 20:53:25 | ProcessExecTime               0.0395639\n",
            "2019-02-16 20:53:25 | StdReturn                    61.7627\n",
            "2019-02-16 20:53:25 | Time                        406.67\n",
            "2019-02-16 20:53:25 | policy/Entropy                0.0391818\n",
            "2019-02-16 20:53:25 | policy/KL                     0.00973114\n",
            "2019-02-16 20:53:25 | policy/KLBefore               0\n",
            "2019-02-16 20:53:25 | policy/LossAfter             -0.0299203\n",
            "2019-02-16 20:53:25 | policy/LossBefore            -2.37665e-09\n",
            "2019-02-16 20:53:25 | policy/dLoss                  0.0299203\n",
            "2019-02-16 20:53:25 | --------------------------  -------------\n",
            "2019-02-16 20:53:25 | itr #78 | Obtaining samples...\n",
            "2019-02-16 20:53:25 | itr #78 | Obtaining samples for iteration 78...\n"
          ],
          "name": "stdout"
        },
        {
          "output_type": "stream",
          "text": [
            "0% [##############################] 100% | ETA: 00:00:00"
          ],
          "name": "stderr"
        },
        {
          "output_type": "stream",
          "text": [
            "2019-02-16 20:53:30 | itr #78 | Processing samples...\n",
            "2019-02-16 20:53:30 | itr #78 | Logging diagnostics...\n",
            "2019-02-16 20:53:30 | itr #78 | Optimizing policy...\n",
            "2019-02-16 20:53:30 | itr #78 | Computing loss before\n",
            "2019-02-16 20:53:30 | itr #78 | Computing KL before\n",
            "2019-02-16 20:53:30 | itr #78 | Optimizing\n",
            "2019-02-16 20:53:30 | itr #78 | Start CG optimization: #parameters: 10528, #inputs: 129, #subsample_inputs: 129\n",
            "2019-02-16 20:53:30 | itr #78 | computing loss before\n",
            "2019-02-16 20:53:30 | itr #78 | performing update\n",
            "2019-02-16 20:53:30 | itr #78 | computing gradient\n",
            "2019-02-16 20:53:30 | itr #78 | gradient computed\n",
            "2019-02-16 20:53:30 | itr #78 | computing descent direction\n"
          ],
          "name": "stdout"
        },
        {
          "output_type": "stream",
          "text": [
            "\n",
            "Total time elapsed: 00:00:04\n"
          ],
          "name": "stderr"
        },
        {
          "output_type": "stream",
          "text": [
            "2019-02-16 20:53:30 | itr #78 | descent direction computed\n",
            "2019-02-16 20:53:30 | itr #78 | backtrack iters: 0\n",
            "2019-02-16 20:53:30 | itr #78 | computing loss after\n",
            "2019-02-16 20:53:30 | itr #78 | optimization finished\n",
            "2019-02-16 20:53:30 | itr #78 | Computing KL after\n",
            "2019-02-16 20:53:30 | itr #78 | Computing loss after\n",
            "2019-02-16 20:53:30 | itr #78 | Fitting baseline...\n",
            "2019-02-16 20:53:30 | itr #78 | Saving snapshot...\n",
            "2019-02-16 20:53:30 | itr #78 | Saved\n",
            "2019-02-16 20:53:30 | --------------------------  -------------\n",
            "2019-02-16 20:53:30 | AverageDiscountedReturn      43.0109\n",
            "2019-02-16 20:53:30 | AverageReturn                45.4961\n",
            "2019-02-16 20:53:30 | Baseline/ExplainedVariance    0.550747\n",
            "2019-02-16 20:53:30 | Entropy                       4.09376\n",
            "2019-02-16 20:53:30 | EnvExecTime                   0.793369\n",
            "2019-02-16 20:53:30 | Iteration                    78\n",
            "2019-02-16 20:53:30 | ItrTime                       4.80202\n",
            "2019-02-16 20:53:30 | MaxReturn                   110\n",
            "2019-02-16 20:53:30 | MinReturn                   -58\n",
            "2019-02-16 20:53:30 | NumTrajs                    129\n",
            "2019-02-16 20:53:30 | Perplexity                   59.965\n",
            "2019-02-16 20:53:30 | PolicyExecTime                3.59488\n",
            "2019-02-16 20:53:30 | ProcessExecTime               0.0376704\n",
            "2019-02-16 20:53:30 | StdReturn                    60.448\n",
            "2019-02-16 20:53:30 | Time                        411.522\n",
            "2019-02-16 20:53:30 | policy/Entropy                0.0405137\n",
            "2019-02-16 20:53:30 | policy/KL                     0.00934677\n",
            "2019-02-16 20:53:30 | policy/KLBefore               0\n",
            "2019-02-16 20:53:30 | policy/LossAfter             -0.0337275\n",
            "2019-02-16 20:53:30 | policy/LossBefore            -1.52474e-08\n",
            "2019-02-16 20:53:30 | policy/dLoss                  0.0337275\n",
            "2019-02-16 20:53:30 | --------------------------  -------------\n",
            "2019-02-16 20:53:30 | itr #79 | Obtaining samples...\n",
            "2019-02-16 20:53:30 | itr #79 | Obtaining samples for iteration 79...\n"
          ],
          "name": "stdout"
        },
        {
          "output_type": "stream",
          "text": [
            "0% [##############################] 100% | ETA: 00:00:00"
          ],
          "name": "stderr"
        },
        {
          "output_type": "stream",
          "text": [
            "2019-02-16 20:53:35 | itr #79 | Processing samples...\n",
            "2019-02-16 20:53:35 | itr #79 | Logging diagnostics...\n",
            "2019-02-16 20:53:35 | itr #79 | Optimizing policy...\n",
            "2019-02-16 20:53:35 | itr #79 | Computing loss before\n",
            "2019-02-16 20:53:35 | itr #79 | Computing KL before\n",
            "2019-02-16 20:53:35 | itr #79 | Optimizing\n",
            "2019-02-16 20:53:35 | itr #79 | Start CG optimization: #parameters: 10528, #inputs: 125, #subsample_inputs: 125\n",
            "2019-02-16 20:53:35 | itr #79 | computing loss before\n",
            "2019-02-16 20:53:35 | itr #79 | performing update\n",
            "2019-02-16 20:53:35 | itr #79 | computing gradient\n",
            "2019-02-16 20:53:35 | itr #79 | gradient computed\n",
            "2019-02-16 20:53:35 | itr #79 | computing descent direction\n"
          ],
          "name": "stdout"
        },
        {
          "output_type": "stream",
          "text": [
            "\n",
            "Total time elapsed: 00:00:04\n"
          ],
          "name": "stderr"
        },
        {
          "output_type": "stream",
          "text": [
            "2019-02-16 20:53:35 | itr #79 | descent direction computed\n",
            "2019-02-16 20:53:35 | itr #79 | backtrack iters: 1\n",
            "2019-02-16 20:53:35 | itr #79 | computing loss after\n",
            "2019-02-16 20:53:35 | itr #79 | optimization finished\n",
            "2019-02-16 20:53:35 | itr #79 | Computing KL after\n",
            "2019-02-16 20:53:35 | itr #79 | Computing loss after\n",
            "2019-02-16 20:53:35 | itr #79 | Fitting baseline...\n",
            "2019-02-16 20:53:35 | itr #79 | Saving snapshot...\n",
            "2019-02-16 20:53:35 | itr #79 | Saved\n",
            "2019-02-16 20:53:35 | --------------------------  --------------\n",
            "2019-02-16 20:53:35 | AverageDiscountedReturn       37.0329\n",
            "2019-02-16 20:53:35 | AverageReturn                 38.688\n",
            "2019-02-16 20:53:35 | Baseline/ExplainedVariance     0.402139\n",
            "2019-02-16 20:53:35 | Entropy                        4.07595\n",
            "2019-02-16 20:53:35 | EnvExecTime                    0.810112\n",
            "2019-02-16 20:53:35 | Iteration                     79\n",
            "2019-02-16 20:53:35 | ItrTime                        4.99765\n",
            "2019-02-16 20:53:35 | MaxReturn                    110\n",
            "2019-02-16 20:53:35 | MinReturn                   -116\n",
            "2019-02-16 20:53:35 | NumTrajs                     125\n",
            "2019-02-16 20:53:35 | Perplexity                    58.9067\n",
            "2019-02-16 20:53:35 | PolicyExecTime                 3.75942\n",
            "2019-02-16 20:53:35 | ProcessExecTime                0.038697\n",
            "2019-02-16 20:53:35 | StdReturn                     61.2216\n",
            "2019-02-16 20:53:35 | Time                         416.551\n",
            "2019-02-16 20:53:35 | policy/Entropy                 0.0441418\n",
            "2019-02-16 20:53:35 | policy/KL                      0.00976936\n",
            "2019-02-16 20:53:35 | policy/KLBefore                0\n",
            "2019-02-16 20:53:35 | policy/LossAfter              -0.023381\n",
            "2019-02-16 20:53:35 | policy/LossBefore              9.47986e-10\n",
            "2019-02-16 20:53:35 | policy/dLoss                   0.023381\n",
            "2019-02-16 20:53:35 | --------------------------  --------------\n",
            "2019-02-16 20:53:35 | itr #80 | Obtaining samples...\n",
            "2019-02-16 20:53:35 | itr #80 | Obtaining samples for iteration 80...\n"
          ],
          "name": "stdout"
        },
        {
          "output_type": "stream",
          "text": [
            "0% [##############################] 100% | ETA: 00:00:00"
          ],
          "name": "stderr"
        },
        {
          "output_type": "stream",
          "text": [
            "2019-02-16 20:53:40 | itr #80 | Processing samples...\n",
            "2019-02-16 20:53:40 | itr #80 | Logging diagnostics...\n",
            "2019-02-16 20:53:40 | itr #80 | Optimizing policy...\n",
            "2019-02-16 20:53:40 | itr #80 | Computing loss before\n",
            "2019-02-16 20:53:40 | itr #80 | Computing KL before\n",
            "2019-02-16 20:53:40 | itr #80 | Optimizing\n",
            "2019-02-16 20:53:40 | itr #80 | Start CG optimization: #parameters: 10528, #inputs: 128, #subsample_inputs: 128\n",
            "2019-02-16 20:53:40 | itr #80 | computing loss before\n",
            "2019-02-16 20:53:40 | itr #80 | performing update\n",
            "2019-02-16 20:53:40 | itr #80 | computing gradient\n",
            "2019-02-16 20:53:40 | itr #80 | gradient computed\n",
            "2019-02-16 20:53:40 | itr #80 | computing descent direction\n"
          ],
          "name": "stdout"
        },
        {
          "output_type": "stream",
          "text": [
            "\n",
            "Total time elapsed: 00:00:04\n"
          ],
          "name": "stderr"
        },
        {
          "output_type": "stream",
          "text": [
            "2019-02-16 20:53:40 | itr #80 | descent direction computed\n",
            "2019-02-16 20:53:40 | itr #80 | backtrack iters: 0\n",
            "2019-02-16 20:53:40 | itr #80 | computing loss after\n",
            "2019-02-16 20:53:40 | itr #80 | optimization finished\n",
            "2019-02-16 20:53:40 | itr #80 | Computing KL after\n",
            "2019-02-16 20:53:40 | itr #80 | Computing loss after\n",
            "2019-02-16 20:53:40 | itr #80 | Fitting baseline...\n",
            "2019-02-16 20:53:40 | itr #80 | Saving snapshot...\n",
            "2019-02-16 20:53:40 | itr #80 | Saved\n",
            "2019-02-16 20:53:40 | --------------------------  -------------\n",
            "2019-02-16 20:53:40 | AverageDiscountedReturn      38.1178\n",
            "2019-02-16 20:53:40 | AverageReturn                40.0234\n",
            "2019-02-16 20:53:40 | Baseline/ExplainedVariance    0.546789\n",
            "2019-02-16 20:53:40 | Entropy                       4.063\n",
            "2019-02-16 20:53:40 | EnvExecTime                   0.908438\n",
            "2019-02-16 20:53:40 | Iteration                    80\n",
            "2019-02-16 20:53:40 | ItrTime                       4.95841\n",
            "2019-02-16 20:53:40 | MaxReturn                   110\n",
            "2019-02-16 20:53:40 | MinReturn                   -67\n",
            "2019-02-16 20:53:40 | NumTrajs                    128\n",
            "2019-02-16 20:53:40 | Perplexity                   58.1488\n",
            "2019-02-16 20:53:40 | PolicyExecTime                3.62855\n",
            "2019-02-16 20:53:40 | ProcessExecTime               0.0386894\n",
            "2019-02-16 20:53:40 | StdReturn                    61.2319\n",
            "2019-02-16 20:53:40 | Time                        421.538\n",
            "2019-02-16 20:53:40 | policy/Entropy                0.0416012\n",
            "2019-02-16 20:53:40 | policy/KL                     0.00889446\n",
            "2019-02-16 20:53:40 | policy/KLBefore               0\n",
            "2019-02-16 20:53:40 | policy/LossAfter             -0.0263491\n",
            "2019-02-16 20:53:40 | policy/LossBefore             3.80139e-09\n",
            "2019-02-16 20:53:40 | policy/dLoss                  0.0263491\n",
            "2019-02-16 20:53:40 | --------------------------  -------------\n",
            "2019-02-16 20:53:40 | itr #81 | Obtaining samples...\n",
            "2019-02-16 20:53:40 | itr #81 | Obtaining samples for iteration 81...\n"
          ],
          "name": "stdout"
        },
        {
          "output_type": "stream",
          "text": [
            "0% [##############################] 100% | ETA: 00:00:00"
          ],
          "name": "stderr"
        },
        {
          "output_type": "stream",
          "text": [
            "2019-02-16 20:53:45 | itr #81 | Processing samples...\n",
            "2019-02-16 20:53:45 | itr #81 | Logging diagnostics...\n",
            "2019-02-16 20:53:45 | itr #81 | Optimizing policy...\n",
            "2019-02-16 20:53:45 | itr #81 | Computing loss before\n",
            "2019-02-16 20:53:45 | itr #81 | Computing KL before\n",
            "2019-02-16 20:53:45 | itr #81 | Optimizing\n",
            "2019-02-16 20:53:45 | itr #81 | Start CG optimization: #parameters: 10528, #inputs: 132, #subsample_inputs: 132\n",
            "2019-02-16 20:53:45 | itr #81 | computing loss before\n",
            "2019-02-16 20:53:45 | itr #81 | performing update\n",
            "2019-02-16 20:53:45 | itr #81 | computing gradient\n",
            "2019-02-16 20:53:45 | itr #81 | gradient computed\n",
            "2019-02-16 20:53:45 | itr #81 | computing descent direction\n"
          ],
          "name": "stdout"
        },
        {
          "output_type": "stream",
          "text": [
            "\n",
            "Total time elapsed: 00:00:04\n"
          ],
          "name": "stderr"
        },
        {
          "output_type": "stream",
          "text": [
            "2019-02-16 20:53:45 | itr #81 | descent direction computed\n",
            "2019-02-16 20:53:45 | itr #81 | backtrack iters: 0\n",
            "2019-02-16 20:53:45 | itr #81 | computing loss after\n",
            "2019-02-16 20:53:45 | itr #81 | optimization finished\n",
            "2019-02-16 20:53:45 | itr #81 | Computing KL after\n",
            "2019-02-16 20:53:45 | itr #81 | Computing loss after\n",
            "2019-02-16 20:53:45 | itr #81 | Fitting baseline...\n",
            "2019-02-16 20:53:45 | itr #81 | Saving snapshot...\n",
            "2019-02-16 20:53:45 | itr #81 | Saved\n",
            "2019-02-16 20:53:45 | --------------------------  -------------\n",
            "2019-02-16 20:53:45 | AverageDiscountedReturn      41.3823\n",
            "2019-02-16 20:53:45 | AverageReturn                43.8485\n",
            "2019-02-16 20:53:45 | Baseline/ExplainedVariance    0.615548\n",
            "2019-02-16 20:53:45 | Entropy                       3.99097\n",
            "2019-02-16 20:53:45 | EnvExecTime                   0.819552\n",
            "2019-02-16 20:53:45 | Iteration                    81\n",
            "2019-02-16 20:53:45 | ItrTime                       4.92018\n",
            "2019-02-16 20:53:45 | MaxReturn                   110\n",
            "2019-02-16 20:53:45 | MinReturn                   -87\n",
            "2019-02-16 20:53:45 | NumTrajs                    132\n",
            "2019-02-16 20:53:45 | Perplexity                   54.1073\n",
            "2019-02-16 20:53:45 | PolicyExecTime                3.66449\n",
            "2019-02-16 20:53:45 | ProcessExecTime               0.039989\n",
            "2019-02-16 20:53:45 | StdReturn                    63.3708\n",
            "2019-02-16 20:53:45 | Time                        426.502\n",
            "2019-02-16 20:53:45 | policy/Entropy                0.0449828\n",
            "2019-02-16 20:53:45 | policy/KL                     0.00556086\n",
            "2019-02-16 20:53:45 | policy/KLBefore               0\n",
            "2019-02-16 20:53:45 | policy/LossAfter             -0.0205597\n",
            "2019-02-16 20:53:45 | policy/LossBefore            -9.89047e-09\n",
            "2019-02-16 20:53:45 | policy/dLoss                  0.0205597\n",
            "2019-02-16 20:53:45 | --------------------------  -------------\n",
            "2019-02-16 20:53:45 | itr #82 | Obtaining samples...\n",
            "2019-02-16 20:53:45 | itr #82 | Obtaining samples for iteration 82...\n"
          ],
          "name": "stdout"
        },
        {
          "output_type": "stream",
          "text": [
            "0% [##############################] 100% | ETA: 00:00:00"
          ],
          "name": "stderr"
        },
        {
          "output_type": "stream",
          "text": [
            "2019-02-16 20:53:50 | itr #82 | Processing samples...\n",
            "2019-02-16 20:53:50 | itr #82 | Logging diagnostics...\n",
            "2019-02-16 20:53:50 | itr #82 | Optimizing policy...\n",
            "2019-02-16 20:53:50 | itr #82 | Computing loss before\n",
            "2019-02-16 20:53:50 | itr #82 | Computing KL before\n",
            "2019-02-16 20:53:50 | itr #82 | Optimizing\n",
            "2019-02-16 20:53:50 | itr #82 | Start CG optimization: #parameters: 10528, #inputs: 129, #subsample_inputs: 129\n",
            "2019-02-16 20:53:50 | itr #82 | computing loss before\n",
            "2019-02-16 20:53:50 | itr #82 | performing update\n",
            "2019-02-16 20:53:50 | itr #82 | computing gradient\n",
            "2019-02-16 20:53:50 | itr #82 | gradient computed\n",
            "2019-02-16 20:53:50 | itr #82 | computing descent direction\n"
          ],
          "name": "stdout"
        },
        {
          "output_type": "stream",
          "text": [
            "\n",
            "Total time elapsed: 00:00:04\n"
          ],
          "name": "stderr"
        },
        {
          "output_type": "stream",
          "text": [
            "2019-02-16 20:53:50 | itr #82 | descent direction computed\n",
            "2019-02-16 20:53:50 | itr #82 | backtrack iters: 0\n",
            "2019-02-16 20:53:50 | itr #82 | computing loss after\n",
            "2019-02-16 20:53:50 | itr #82 | optimization finished\n",
            "2019-02-16 20:53:50 | itr #82 | Computing KL after\n",
            "2019-02-16 20:53:50 | itr #82 | Computing loss after\n",
            "2019-02-16 20:53:50 | itr #82 | Fitting baseline...\n",
            "2019-02-16 20:53:50 | itr #82 | Saving snapshot...\n",
            "2019-02-16 20:53:50 | itr #82 | Saved\n",
            "2019-02-16 20:53:50 | --------------------------  -------------\n",
            "2019-02-16 20:53:50 | AverageDiscountedReturn      40.154\n",
            "2019-02-16 20:53:50 | AverageReturn                42.4884\n",
            "2019-02-16 20:53:50 | Baseline/ExplainedVariance    0.571761\n",
            "2019-02-16 20:53:50 | Entropy                       3.98448\n",
            "2019-02-16 20:53:50 | EnvExecTime                   0.805393\n",
            "2019-02-16 20:53:50 | Iteration                    82\n",
            "2019-02-16 20:53:50 | ItrTime                       4.89175\n",
            "2019-02-16 20:53:50 | MaxReturn                   110\n",
            "2019-02-16 20:53:50 | MinReturn                   -70\n",
            "2019-02-16 20:53:50 | NumTrajs                    129\n",
            "2019-02-16 20:53:50 | Perplexity                   53.7571\n",
            "2019-02-16 20:53:50 | PolicyExecTime                3.6423\n",
            "2019-02-16 20:53:50 | ProcessExecTime               0.0391688\n",
            "2019-02-16 20:53:50 | StdReturn                    61.5981\n",
            "2019-02-16 20:53:50 | Time                        431.45\n",
            "2019-02-16 20:53:50 | policy/Entropy                0.0441259\n",
            "2019-02-16 20:53:50 | policy/KL                     0.00726616\n",
            "2019-02-16 20:53:50 | policy/KLBefore               0\n",
            "2019-02-16 20:53:50 | policy/LossAfter             -0.0277134\n",
            "2019-02-16 20:53:50 | policy/LossBefore             3.79572e-09\n",
            "2019-02-16 20:53:50 | policy/dLoss                  0.0277134\n",
            "2019-02-16 20:53:50 | --------------------------  -------------\n",
            "2019-02-16 20:53:50 | itr #83 | Obtaining samples...\n",
            "2019-02-16 20:53:50 | itr #83 | Obtaining samples for iteration 83...\n"
          ],
          "name": "stdout"
        },
        {
          "output_type": "stream",
          "text": [
            "0% [##############################] 100% | ETA: 00:00:00"
          ],
          "name": "stderr"
        },
        {
          "output_type": "stream",
          "text": [
            "2019-02-16 20:53:55 | itr #83 | Processing samples...\n",
            "2019-02-16 20:53:55 | itr #83 | Logging diagnostics...\n",
            "2019-02-16 20:53:55 | itr #83 | Optimizing policy...\n",
            "2019-02-16 20:53:55 | itr #83 | Computing loss before\n",
            "2019-02-16 20:53:55 | itr #83 | Computing KL before\n",
            "2019-02-16 20:53:55 | itr #83 | Optimizing\n",
            "2019-02-16 20:53:55 | itr #83 | Start CG optimization: #parameters: 10528, #inputs: 128, #subsample_inputs: 128\n",
            "2019-02-16 20:53:55 | itr #83 | computing loss before\n",
            "2019-02-16 20:53:55 | itr #83 | performing update\n",
            "2019-02-16 20:53:55 | itr #83 | computing gradient\n",
            "2019-02-16 20:53:55 | itr #83 | gradient computed\n",
            "2019-02-16 20:53:55 | itr #83 | computing descent direction\n"
          ],
          "name": "stdout"
        },
        {
          "output_type": "stream",
          "text": [
            "\n",
            "Total time elapsed: 00:00:04\n"
          ],
          "name": "stderr"
        },
        {
          "output_type": "stream",
          "text": [
            "2019-02-16 20:53:55 | itr #83 | descent direction computed\n",
            "2019-02-16 20:53:55 | itr #83 | backtrack iters: 1\n",
            "2019-02-16 20:53:55 | itr #83 | computing loss after\n",
            "2019-02-16 20:53:55 | itr #83 | optimization finished\n",
            "2019-02-16 20:53:55 | itr #83 | Computing KL after\n",
            "2019-02-16 20:53:55 | itr #83 | Computing loss after\n",
            "2019-02-16 20:53:55 | itr #83 | Fitting baseline...\n",
            "2019-02-16 20:53:55 | itr #83 | Saving snapshot...\n",
            "2019-02-16 20:53:55 | itr #83 | Saved\n",
            "2019-02-16 20:53:55 | --------------------------  -------------\n",
            "2019-02-16 20:53:55 | AverageDiscountedReturn      37.5979\n",
            "2019-02-16 20:53:55 | AverageReturn                39.4844\n",
            "2019-02-16 20:53:55 | Baseline/ExplainedVariance    0.550153\n",
            "2019-02-16 20:53:55 | Entropy                       3.97627\n",
            "2019-02-16 20:53:55 | EnvExecTime                   0.79963\n",
            "2019-02-16 20:53:55 | Iteration                    83\n",
            "2019-02-16 20:53:55 | ItrTime                       4.93327\n",
            "2019-02-16 20:53:55 | MaxReturn                   110\n",
            "2019-02-16 20:53:55 | MinReturn                   -61\n",
            "2019-02-16 20:53:55 | NumTrajs                    128\n",
            "2019-02-16 20:53:55 | Perplexity                   53.318\n",
            "2019-02-16 20:53:55 | PolicyExecTime                3.68797\n",
            "2019-02-16 20:53:55 | ProcessExecTime               0.0388973\n",
            "2019-02-16 20:53:55 | StdReturn                    61.3079\n",
            "2019-02-16 20:53:55 | Time                        436.439\n",
            "2019-02-16 20:53:55 | policy/Entropy                0.0464515\n",
            "2019-02-16 20:53:55 | policy/KL                     0.00922984\n",
            "2019-02-16 20:53:55 | policy/KLBefore               0\n",
            "2019-02-16 20:53:55 | policy/LossAfter             -0.0289263\n",
            "2019-02-16 20:53:55 | policy/LossBefore             2.84608e-09\n",
            "2019-02-16 20:53:55 | policy/dLoss                  0.0289263\n",
            "2019-02-16 20:53:55 | --------------------------  -------------\n",
            "2019-02-16 20:53:55 | itr #84 | Obtaining samples...\n",
            "2019-02-16 20:53:55 | itr #84 | Obtaining samples for iteration 84...\n"
          ],
          "name": "stdout"
        },
        {
          "output_type": "stream",
          "text": [
            "0% [##############################] 100% | ETA: 00:00:00"
          ],
          "name": "stderr"
        },
        {
          "output_type": "stream",
          "text": [
            "2019-02-16 20:54:00 | itr #84 | Processing samples...\n",
            "2019-02-16 20:54:00 | itr #84 | Logging diagnostics...\n",
            "2019-02-16 20:54:00 | itr #84 | Optimizing policy...\n",
            "2019-02-16 20:54:00 | itr #84 | Computing loss before\n",
            "2019-02-16 20:54:00 | itr #84 | Computing KL before\n",
            "2019-02-16 20:54:00 | itr #84 | Optimizing\n",
            "2019-02-16 20:54:00 | itr #84 | Start CG optimization: #parameters: 10528, #inputs: 130, #subsample_inputs: 130\n",
            "2019-02-16 20:54:00 | itr #84 | computing loss before\n",
            "2019-02-16 20:54:00 | itr #84 | performing update\n",
            "2019-02-16 20:54:00 | itr #84 | computing gradient\n",
            "2019-02-16 20:54:00 | itr #84 | gradient computed\n",
            "2019-02-16 20:54:00 | itr #84 | computing descent direction\n"
          ],
          "name": "stdout"
        },
        {
          "output_type": "stream",
          "text": [
            "\n",
            "Total time elapsed: 00:00:04\n"
          ],
          "name": "stderr"
        },
        {
          "output_type": "stream",
          "text": [
            "2019-02-16 20:54:00 | itr #84 | descent direction computed\n",
            "2019-02-16 20:54:00 | itr #84 | backtrack iters: 1\n",
            "2019-02-16 20:54:00 | itr #84 | computing loss after\n",
            "2019-02-16 20:54:00 | itr #84 | optimization finished\n",
            "2019-02-16 20:54:00 | itr #84 | Computing KL after\n",
            "2019-02-16 20:54:00 | itr #84 | Computing loss after\n",
            "2019-02-16 20:54:00 | itr #84 | Fitting baseline...\n",
            "2019-02-16 20:54:00 | itr #84 | Saving snapshot...\n",
            "2019-02-16 20:54:00 | itr #84 | Saved\n",
            "2019-02-16 20:54:00 | --------------------------  -------------\n",
            "2019-02-16 20:54:00 | AverageDiscountedReturn      44.6935\n",
            "2019-02-16 20:54:00 | AverageReturn                47.2462\n",
            "2019-02-16 20:54:00 | Baseline/ExplainedVariance    0.576463\n",
            "2019-02-16 20:54:00 | Entropy                       3.94105\n",
            "2019-02-16 20:54:00 | EnvExecTime                   0.795491\n",
            "2019-02-16 20:54:00 | Iteration                    84\n",
            "2019-02-16 20:54:00 | ItrTime                       4.8257\n",
            "2019-02-16 20:54:00 | MaxReturn                   110\n",
            "2019-02-16 20:54:00 | MinReturn                   -83\n",
            "2019-02-16 20:54:00 | NumTrajs                    130\n",
            "2019-02-16 20:54:00 | Perplexity                   51.4724\n",
            "2019-02-16 20:54:00 | PolicyExecTime                3.58946\n",
            "2019-02-16 20:54:00 | ProcessExecTime               0.0386634\n",
            "2019-02-16 20:54:00 | StdReturn                    61.5602\n",
            "2019-02-16 20:54:00 | Time                        441.329\n",
            "2019-02-16 20:54:00 | policy/Entropy                0.0464101\n",
            "2019-02-16 20:54:00 | policy/KL                     0.00731379\n",
            "2019-02-16 20:54:00 | policy/KLBefore               0\n",
            "2019-02-16 20:54:00 | policy/LossAfter             -0.0249825\n",
            "2019-02-16 20:54:00 | policy/LossBefore            -6.67238e-09\n",
            "2019-02-16 20:54:00 | policy/dLoss                  0.0249825\n",
            "2019-02-16 20:54:00 | --------------------------  -------------\n",
            "2019-02-16 20:54:00 | itr #85 | Obtaining samples...\n",
            "2019-02-16 20:54:00 | itr #85 | Obtaining samples for iteration 85...\n"
          ],
          "name": "stdout"
        },
        {
          "output_type": "stream",
          "text": [
            "0% [##############################] 100% | ETA: 00:00:00"
          ],
          "name": "stderr"
        },
        {
          "output_type": "stream",
          "text": [
            "2019-02-16 20:54:05 | itr #85 | Processing samples...\n",
            "2019-02-16 20:54:05 | itr #85 | Logging diagnostics...\n",
            "2019-02-16 20:54:05 | itr #85 | Optimizing policy...\n",
            "2019-02-16 20:54:05 | itr #85 | Computing loss before\n",
            "2019-02-16 20:54:05 | itr #85 | Computing KL before\n",
            "2019-02-16 20:54:05 | itr #85 | Optimizing\n",
            "2019-02-16 20:54:05 | itr #85 | Start CG optimization: #parameters: 10528, #inputs: 127, #subsample_inputs: 127\n",
            "2019-02-16 20:54:05 | itr #85 | computing loss before\n",
            "2019-02-16 20:54:05 | itr #85 | performing update\n",
            "2019-02-16 20:54:05 | itr #85 | computing gradient\n",
            "2019-02-16 20:54:05 | itr #85 | gradient computed\n",
            "2019-02-16 20:54:05 | itr #85 | computing descent direction\n"
          ],
          "name": "stdout"
        },
        {
          "output_type": "stream",
          "text": [
            "\n",
            "Total time elapsed: 00:00:04\n"
          ],
          "name": "stderr"
        },
        {
          "output_type": "stream",
          "text": [
            "2019-02-16 20:54:05 | itr #85 | descent direction computed\n",
            "2019-02-16 20:54:05 | itr #85 | backtrack iters: 1\n",
            "2019-02-16 20:54:05 | itr #85 | computing loss after\n",
            "2019-02-16 20:54:05 | itr #85 | optimization finished\n",
            "2019-02-16 20:54:05 | itr #85 | Computing KL after\n",
            "2019-02-16 20:54:05 | itr #85 | Computing loss after\n",
            "2019-02-16 20:54:05 | itr #85 | Fitting baseline...\n",
            "2019-02-16 20:54:05 | itr #85 | Saving snapshot...\n",
            "2019-02-16 20:54:05 | itr #85 | Saved\n",
            "2019-02-16 20:54:05 | --------------------------  -------------\n",
            "2019-02-16 20:54:05 | AverageDiscountedReturn      40.1524\n",
            "2019-02-16 20:54:05 | AverageReturn                42.0551\n",
            "2019-02-16 20:54:05 | Baseline/ExplainedVariance    0.465324\n",
            "2019-02-16 20:54:05 | Entropy                       3.94031\n",
            "2019-02-16 20:54:05 | EnvExecTime                   0.811354\n",
            "2019-02-16 20:54:05 | Iteration                    85\n",
            "2019-02-16 20:54:05 | ItrTime                       4.96612\n",
            "2019-02-16 20:54:05 | MaxReturn                   110\n",
            "2019-02-16 20:54:05 | MinReturn                   -81\n",
            "2019-02-16 20:54:05 | NumTrajs                    127\n",
            "2019-02-16 20:54:05 | Perplexity                   51.4347\n",
            "2019-02-16 20:54:05 | PolicyExecTime                3.71475\n",
            "2019-02-16 20:54:05 | ProcessExecTime               0.0397906\n",
            "2019-02-16 20:54:05 | StdReturn                    59.7648\n",
            "2019-02-16 20:54:05 | Time                        446.323\n",
            "2019-02-16 20:54:05 | policy/Entropy                0.0468818\n",
            "2019-02-16 20:54:05 | policy/KL                     0.00759826\n",
            "2019-02-16 20:54:05 | policy/KLBefore               0\n",
            "2019-02-16 20:54:05 | policy/LossAfter             -0.0285542\n",
            "2019-02-16 20:54:05 | policy/LossBefore             1.70722e-08\n",
            "2019-02-16 20:54:05 | policy/dLoss                  0.0285542\n",
            "2019-02-16 20:54:05 | --------------------------  -------------\n",
            "2019-02-16 20:54:05 | itr #86 | Obtaining samples...\n",
            "2019-02-16 20:54:05 | itr #86 | Obtaining samples for iteration 86...\n"
          ],
          "name": "stdout"
        },
        {
          "output_type": "stream",
          "text": [
            "0% [##############################] 100% | ETA: 00:00:00"
          ],
          "name": "stderr"
        },
        {
          "output_type": "stream",
          "text": [
            "2019-02-16 20:54:09 | itr #86 | Processing samples...\n",
            "2019-02-16 20:54:10 | itr #86 | Logging diagnostics...\n",
            "2019-02-16 20:54:10 | itr #86 | Optimizing policy...\n",
            "2019-02-16 20:54:10 | itr #86 | Computing loss before\n",
            "2019-02-16 20:54:10 | itr #86 | Computing KL before\n",
            "2019-02-16 20:54:10 | itr #86 | Optimizing\n",
            "2019-02-16 20:54:10 | itr #86 | Start CG optimization: #parameters: 10528, #inputs: 130, #subsample_inputs: 130\n",
            "2019-02-16 20:54:10 | itr #86 | computing loss before\n",
            "2019-02-16 20:54:10 | itr #86 | performing update\n",
            "2019-02-16 20:54:10 | itr #86 | computing gradient\n",
            "2019-02-16 20:54:10 | itr #86 | gradient computed\n",
            "2019-02-16 20:54:10 | itr #86 | computing descent direction\n"
          ],
          "name": "stdout"
        },
        {
          "output_type": "stream",
          "text": [
            "\n",
            "Total time elapsed: 00:00:04\n"
          ],
          "name": "stderr"
        },
        {
          "output_type": "stream",
          "text": [
            "2019-02-16 20:54:10 | itr #86 | descent direction computed\n",
            "2019-02-16 20:54:10 | itr #86 | backtrack iters: 1\n",
            "2019-02-16 20:54:10 | itr #86 | computing loss after\n",
            "2019-02-16 20:54:10 | itr #86 | optimization finished\n",
            "2019-02-16 20:54:10 | itr #86 | Computing KL after\n",
            "2019-02-16 20:54:10 | itr #86 | Computing loss after\n",
            "2019-02-16 20:54:10 | itr #86 | Fitting baseline...\n",
            "2019-02-16 20:54:10 | itr #86 | Saving snapshot...\n",
            "2019-02-16 20:54:10 | itr #86 | Saved\n",
            "2019-02-16 20:54:10 | --------------------------  -------------\n",
            "2019-02-16 20:54:10 | AverageDiscountedReturn      38.0894\n",
            "2019-02-16 20:54:10 | AverageReturn                40.1385\n",
            "2019-02-16 20:54:10 | Baseline/ExplainedVariance    0.618131\n",
            "2019-02-16 20:54:10 | Entropy                       3.94826\n",
            "2019-02-16 20:54:10 | EnvExecTime                   0.796518\n",
            "2019-02-16 20:54:10 | Iteration                    86\n",
            "2019-02-16 20:54:10 | ItrTime                       4.8944\n",
            "2019-02-16 20:54:10 | MaxReturn                   110\n",
            "2019-02-16 20:54:10 | MinReturn                   -82\n",
            "2019-02-16 20:54:10 | NumTrajs                    130\n",
            "2019-02-16 20:54:10 | Perplexity                   51.8453\n",
            "2019-02-16 20:54:10 | PolicyExecTime                3.64999\n",
            "2019-02-16 20:54:10 | ProcessExecTime               0.0391424\n",
            "2019-02-16 20:54:10 | StdReturn                    62.9069\n",
            "2019-02-16 20:54:10 | Time                        451.258\n",
            "2019-02-16 20:54:10 | policy/Entropy                0.0483579\n",
            "2019-02-16 20:54:10 | policy/KL                     0.00744994\n",
            "2019-02-16 20:54:10 | policy/KLBefore               0\n",
            "2019-02-16 20:54:10 | policy/LossAfter             -0.027911\n",
            "2019-02-16 20:54:10 | policy/LossBefore            -1.87593e-09\n",
            "2019-02-16 20:54:10 | policy/dLoss                  0.027911\n",
            "2019-02-16 20:54:10 | --------------------------  -------------\n",
            "2019-02-16 20:54:10 | itr #87 | Obtaining samples...\n",
            "2019-02-16 20:54:10 | itr #87 | Obtaining samples for iteration 87...\n"
          ],
          "name": "stdout"
        },
        {
          "output_type": "stream",
          "text": [
            "0% [##############################] 100% | ETA: 00:00:00"
          ],
          "name": "stderr"
        },
        {
          "output_type": "stream",
          "text": [
            "2019-02-16 20:54:14 | itr #87 | Processing samples...\n",
            "2019-02-16 20:54:14 | itr #87 | Logging diagnostics...\n",
            "2019-02-16 20:54:14 | itr #87 | Optimizing policy...\n",
            "2019-02-16 20:54:14 | itr #87 | Computing loss before\n",
            "2019-02-16 20:54:14 | itr #87 | Computing KL before\n",
            "2019-02-16 20:54:15 | itr #87 | Optimizing\n",
            "2019-02-16 20:54:15 | itr #87 | Start CG optimization: #parameters: 10528, #inputs: 134, #subsample_inputs: 134\n",
            "2019-02-16 20:54:15 | itr #87 | computing loss before\n",
            "2019-02-16 20:54:15 | itr #87 | performing update\n",
            "2019-02-16 20:54:15 | itr #87 | computing gradient\n",
            "2019-02-16 20:54:15 | itr #87 | gradient computed\n",
            "2019-02-16 20:54:15 | itr #87 | computing descent direction\n"
          ],
          "name": "stdout"
        },
        {
          "output_type": "stream",
          "text": [
            "\n",
            "Total time elapsed: 00:00:04\n"
          ],
          "name": "stderr"
        },
        {
          "output_type": "stream",
          "text": [
            "2019-02-16 20:54:15 | itr #87 | descent direction computed\n",
            "2019-02-16 20:54:15 | itr #87 | backtrack iters: 0\n",
            "2019-02-16 20:54:15 | itr #87 | computing loss after\n",
            "2019-02-16 20:54:15 | itr #87 | optimization finished\n",
            "2019-02-16 20:54:15 | itr #87 | Computing KL after\n",
            "2019-02-16 20:54:15 | itr #87 | Computing loss after\n",
            "2019-02-16 20:54:15 | itr #87 | Fitting baseline...\n",
            "2019-02-16 20:54:15 | itr #87 | Saving snapshot...\n",
            "2019-02-16 20:54:15 | itr #87 | Saved\n",
            "2019-02-16 20:54:15 | --------------------------  -------------\n",
            "2019-02-16 20:54:15 | AverageDiscountedReturn      42.7539\n",
            "2019-02-16 20:54:15 | AverageReturn                45.3955\n",
            "2019-02-16 20:54:15 | Baseline/ExplainedVariance    0.579885\n",
            "2019-02-16 20:54:15 | Entropy                       3.87902\n",
            "2019-02-16 20:54:15 | EnvExecTime                   0.803501\n",
            "2019-02-16 20:54:15 | Iteration                    87\n",
            "2019-02-16 20:54:15 | ItrTime                       4.87365\n",
            "2019-02-16 20:54:15 | MaxReturn                   110\n",
            "2019-02-16 20:54:15 | MinReturn                   -75\n",
            "2019-02-16 20:54:15 | NumTrajs                    134\n",
            "2019-02-16 20:54:15 | Perplexity                   48.3769\n",
            "2019-02-16 20:54:15 | PolicyExecTime                3.62667\n",
            "2019-02-16 20:54:15 | ProcessExecTime               0.0404186\n",
            "2019-02-16 20:54:15 | StdReturn                    61.8659\n",
            "2019-02-16 20:54:15 | Time                        456.211\n",
            "2019-02-16 20:54:15 | policy/Entropy                0.0498909\n",
            "2019-02-16 20:54:15 | policy/KL                     0.0097771\n",
            "2019-02-16 20:54:15 | policy/KLBefore               0\n",
            "2019-02-16 20:54:15 | policy/LossAfter             -0.0290654\n",
            "2019-02-16 20:54:15 | policy/LossBefore             3.67948e-09\n",
            "2019-02-16 20:54:15 | policy/dLoss                  0.0290654\n",
            "2019-02-16 20:54:15 | --------------------------  -------------\n",
            "2019-02-16 20:54:15 | itr #88 | Obtaining samples...\n",
            "2019-02-16 20:54:15 | itr #88 | Obtaining samples for iteration 88...\n"
          ],
          "name": "stdout"
        },
        {
          "output_type": "stream",
          "text": [
            "0% [##############################] 100% | ETA: 00:00:00"
          ],
          "name": "stderr"
        },
        {
          "output_type": "stream",
          "text": [
            "2019-02-16 20:54:20 | itr #88 | Processing samples...\n",
            "2019-02-16 20:54:20 | itr #88 | Logging diagnostics...\n",
            "2019-02-16 20:54:20 | itr #88 | Optimizing policy...\n",
            "2019-02-16 20:54:20 | itr #88 | Computing loss before\n",
            "2019-02-16 20:54:20 | itr #88 | Computing KL before\n",
            "2019-02-16 20:54:20 | itr #88 | Optimizing\n",
            "2019-02-16 20:54:20 | itr #88 | Start CG optimization: #parameters: 10528, #inputs: 133, #subsample_inputs: 133\n",
            "2019-02-16 20:54:20 | itr #88 | computing loss before\n",
            "2019-02-16 20:54:20 | itr #88 | performing update\n",
            "2019-02-16 20:54:20 | itr #88 | computing gradient\n",
            "2019-02-16 20:54:20 | itr #88 | gradient computed\n",
            "2019-02-16 20:54:20 | itr #88 | computing descent direction\n"
          ],
          "name": "stdout"
        },
        {
          "output_type": "stream",
          "text": [
            "\n",
            "Total time elapsed: 00:00:04\n"
          ],
          "name": "stderr"
        },
        {
          "output_type": "stream",
          "text": [
            "2019-02-16 20:54:20 | itr #88 | descent direction computed\n",
            "2019-02-16 20:54:20 | itr #88 | backtrack iters: 0\n",
            "2019-02-16 20:54:20 | itr #88 | computing loss after\n",
            "2019-02-16 20:54:20 | itr #88 | optimization finished\n",
            "2019-02-16 20:54:20 | itr #88 | Computing KL after\n",
            "2019-02-16 20:54:20 | itr #88 | Computing loss after\n",
            "2019-02-16 20:54:20 | itr #88 | Fitting baseline...\n",
            "2019-02-16 20:54:20 | itr #88 | Saving snapshot...\n",
            "2019-02-16 20:54:20 | itr #88 | Saved\n",
            "2019-02-16 20:54:20 | --------------------------  -------------\n",
            "2019-02-16 20:54:20 | AverageDiscountedReturn      48.168\n",
            "2019-02-16 20:54:20 | AverageReturn                51.5789\n",
            "2019-02-16 20:54:20 | Baseline/ExplainedVariance    0.672755\n",
            "2019-02-16 20:54:20 | Entropy                       3.82058\n",
            "2019-02-16 20:54:20 | EnvExecTime                   0.84016\n",
            "2019-02-16 20:54:20 | Iteration                    88\n",
            "2019-02-16 20:54:20 | ItrTime                       5.0564\n",
            "2019-02-16 20:54:20 | MaxReturn                   110\n",
            "2019-02-16 20:54:20 | MinReturn                   -75\n",
            "2019-02-16 20:54:20 | NumTrajs                    133\n",
            "2019-02-16 20:54:20 | Perplexity                   45.6307\n",
            "2019-02-16 20:54:20 | PolicyExecTime                3.75651\n",
            "2019-02-16 20:54:20 | ProcessExecTime               0.0411582\n",
            "2019-02-16 20:54:20 | StdReturn                    59.4611\n",
            "2019-02-16 20:54:20 | Time                        461.314\n",
            "2019-02-16 20:54:20 | policy/Entropy                0.052804\n",
            "2019-02-16 20:54:20 | policy/KL                     0.00582426\n",
            "2019-02-16 20:54:20 | policy/KLBefore               0\n",
            "2019-02-16 20:54:20 | policy/LossAfter             -0.0266056\n",
            "2019-02-16 20:54:20 | policy/LossBefore            -2.74585e-08\n",
            "2019-02-16 20:54:20 | policy/dLoss                  0.0266055\n",
            "2019-02-16 20:54:20 | --------------------------  -------------\n",
            "2019-02-16 20:54:20 | itr #89 | Obtaining samples...\n",
            "2019-02-16 20:54:20 | itr #89 | Obtaining samples for iteration 89...\n"
          ],
          "name": "stdout"
        },
        {
          "output_type": "stream",
          "text": [
            "0% [##############################] 100% | ETA: 00:00:00"
          ],
          "name": "stderr"
        },
        {
          "output_type": "stream",
          "text": [
            "2019-02-16 20:54:25 | itr #89 | Processing samples...\n",
            "2019-02-16 20:54:25 | itr #89 | Logging diagnostics...\n",
            "2019-02-16 20:54:25 | itr #89 | Optimizing policy...\n",
            "2019-02-16 20:54:25 | itr #89 | Computing loss before\n",
            "2019-02-16 20:54:25 | itr #89 | Computing KL before\n",
            "2019-02-16 20:54:25 | itr #89 | Optimizing\n",
            "2019-02-16 20:54:25 | itr #89 | Start CG optimization: #parameters: 10528, #inputs: 127, #subsample_inputs: 127\n",
            "2019-02-16 20:54:25 | itr #89 | computing loss before\n",
            "2019-02-16 20:54:25 | itr #89 | performing update\n",
            "2019-02-16 20:54:25 | itr #89 | computing gradient\n",
            "2019-02-16 20:54:25 | itr #89 | gradient computed\n",
            "2019-02-16 20:54:25 | itr #89 | computing descent direction\n"
          ],
          "name": "stdout"
        },
        {
          "output_type": "stream",
          "text": [
            "\n",
            "Total time elapsed: 00:00:04\n"
          ],
          "name": "stderr"
        },
        {
          "output_type": "stream",
          "text": [
            "2019-02-16 20:54:25 | itr #89 | descent direction computed\n",
            "2019-02-16 20:54:25 | itr #89 | backtrack iters: 1\n",
            "2019-02-16 20:54:25 | itr #89 | computing loss after\n",
            "2019-02-16 20:54:25 | itr #89 | optimization finished\n",
            "2019-02-16 20:54:25 | itr #89 | Computing KL after\n",
            "2019-02-16 20:54:25 | itr #89 | Computing loss after\n",
            "2019-02-16 20:54:25 | itr #89 | Fitting baseline...\n",
            "2019-02-16 20:54:25 | itr #89 | Saving snapshot...\n",
            "2019-02-16 20:54:25 | itr #89 | Saved\n",
            "2019-02-16 20:54:25 | --------------------------  -------------\n",
            "2019-02-16 20:54:25 | AverageDiscountedReturn      37.0058\n",
            "2019-02-16 20:54:25 | AverageReturn                38.8819\n",
            "2019-02-16 20:54:25 | Baseline/ExplainedVariance    0.605685\n",
            "2019-02-16 20:54:25 | Entropy                       3.89253\n",
            "2019-02-16 20:54:25 | EnvExecTime                   0.817639\n",
            "2019-02-16 20:54:25 | Iteration                    89\n",
            "2019-02-16 20:54:25 | ItrTime                       4.95521\n",
            "2019-02-16 20:54:25 | MaxReturn                   110\n",
            "2019-02-16 20:54:25 | MinReturn                   -59\n",
            "2019-02-16 20:54:25 | NumTrajs                    127\n",
            "2019-02-16 20:54:25 | Perplexity                   49.035\n",
            "2019-02-16 20:54:25 | PolicyExecTime                3.69026\n",
            "2019-02-16 20:54:25 | ProcessExecTime               0.0390069\n",
            "2019-02-16 20:54:25 | StdReturn                    59.7788\n",
            "2019-02-16 20:54:25 | Time                        466.331\n",
            "2019-02-16 20:54:25 | policy/Entropy                0.0519315\n",
            "2019-02-16 20:54:25 | policy/KL                     0.00735566\n",
            "2019-02-16 20:54:25 | policy/KLBefore               0\n",
            "2019-02-16 20:54:25 | policy/LossAfter             -0.0273829\n",
            "2019-02-16 20:54:25 | policy/LossBefore             3.80518e-09\n",
            "2019-02-16 20:54:25 | policy/dLoss                  0.0273829\n",
            "2019-02-16 20:54:25 | --------------------------  -------------\n",
            "2019-02-16 20:54:25 | itr #90 | Obtaining samples...\n",
            "2019-02-16 20:54:25 | itr #90 | Obtaining samples for iteration 90...\n"
          ],
          "name": "stdout"
        },
        {
          "output_type": "stream",
          "text": [
            "0% [##############################] 100% | ETA: 00:00:00"
          ],
          "name": "stderr"
        },
        {
          "output_type": "stream",
          "text": [
            "2019-02-16 20:54:29 | itr #90 | Processing samples...\n",
            "2019-02-16 20:54:29 | itr #90 | Logging diagnostics...\n",
            "2019-02-16 20:54:29 | itr #90 | Optimizing policy...\n",
            "2019-02-16 20:54:29 | itr #90 | Computing loss before\n",
            "2019-02-16 20:54:29 | itr #90 | Computing KL before\n",
            "2019-02-16 20:54:29 | itr #90 | Optimizing\n",
            "2019-02-16 20:54:29 | itr #90 | Start CG optimization: #parameters: 10528, #inputs: 129, #subsample_inputs: 129\n",
            "2019-02-16 20:54:29 | itr #90 | computing loss before\n",
            "2019-02-16 20:54:29 | itr #90 | performing update\n",
            "2019-02-16 20:54:29 | itr #90 | computing gradient\n",
            "2019-02-16 20:54:30 | itr #90 | gradient computed\n",
            "2019-02-16 20:54:30 | itr #90 | computing descent direction\n"
          ],
          "name": "stdout"
        },
        {
          "output_type": "stream",
          "text": [
            "\n",
            "Total time elapsed: 00:00:04\n"
          ],
          "name": "stderr"
        },
        {
          "output_type": "stream",
          "text": [
            "2019-02-16 20:54:30 | itr #90 | descent direction computed\n",
            "2019-02-16 20:54:30 | itr #90 | backtrack iters: 0\n",
            "2019-02-16 20:54:30 | itr #90 | computing loss after\n",
            "2019-02-16 20:54:30 | itr #90 | optimization finished\n",
            "2019-02-16 20:54:30 | itr #90 | Computing KL after\n",
            "2019-02-16 20:54:30 | itr #90 | Computing loss after\n",
            "2019-02-16 20:54:30 | itr #90 | Fitting baseline...\n",
            "2019-02-16 20:54:30 | itr #90 | Saving snapshot...\n",
            "2019-02-16 20:54:30 | itr #90 | Saved\n",
            "2019-02-16 20:54:30 | --------------------------  -------------\n",
            "2019-02-16 20:54:30 | AverageDiscountedReturn      49.9543\n",
            "2019-02-16 20:54:30 | AverageReturn                53.4341\n",
            "2019-02-16 20:54:30 | Baseline/ExplainedVariance    0.633471\n",
            "2019-02-16 20:54:30 | Entropy                       3.77332\n",
            "2019-02-16 20:54:30 | EnvExecTime                   0.784489\n",
            "2019-02-16 20:54:30 | Iteration                    90\n",
            "2019-02-16 20:54:30 | ItrTime                       4.80886\n",
            "2019-02-16 20:54:30 | MaxReturn                   110\n",
            "2019-02-16 20:54:30 | MinReturn                   -46\n",
            "2019-02-16 20:54:30 | NumTrajs                    129\n",
            "2019-02-16 20:54:30 | Perplexity                   43.5245\n",
            "2019-02-16 20:54:30 | PolicyExecTime                3.58513\n",
            "2019-02-16 20:54:30 | ProcessExecTime               0.0393062\n",
            "2019-02-16 20:54:30 | StdReturn                    56.6979\n",
            "2019-02-16 20:54:30 | Time                        471.186\n",
            "2019-02-16 20:54:30 | policy/Entropy                0.0565216\n",
            "2019-02-16 20:54:30 | policy/KL                     0.00910219\n",
            "2019-02-16 20:54:30 | policy/KLBefore               0\n",
            "2019-02-16 20:54:30 | policy/LossAfter             -0.0301664\n",
            "2019-02-16 20:54:30 | policy/LossBefore             1.89928e-09\n",
            "2019-02-16 20:54:30 | policy/dLoss                  0.0301664\n",
            "2019-02-16 20:54:30 | --------------------------  -------------\n",
            "2019-02-16 20:54:30 | itr #91 | Obtaining samples...\n",
            "2019-02-16 20:54:30 | itr #91 | Obtaining samples for iteration 91...\n"
          ],
          "name": "stdout"
        },
        {
          "output_type": "stream",
          "text": [
            "0% [##############################] 100% | ETA: 00:00:00"
          ],
          "name": "stderr"
        },
        {
          "output_type": "stream",
          "text": [
            "2019-02-16 20:54:34 | itr #91 | Processing samples...\n",
            "2019-02-16 20:54:35 | itr #91 | Logging diagnostics...\n",
            "2019-02-16 20:54:35 | itr #91 | Optimizing policy...\n",
            "2019-02-16 20:54:35 | itr #91 | Computing loss before\n",
            "2019-02-16 20:54:35 | itr #91 | Computing KL before\n",
            "2019-02-16 20:54:35 | itr #91 | Optimizing\n",
            "2019-02-16 20:54:35 | itr #91 | Start CG optimization: #parameters: 10528, #inputs: 129, #subsample_inputs: 129\n",
            "2019-02-16 20:54:35 | itr #91 | computing loss before\n",
            "2019-02-16 20:54:35 | itr #91 | performing update\n",
            "2019-02-16 20:54:35 | itr #91 | computing gradient\n",
            "2019-02-16 20:54:35 | itr #91 | gradient computed\n",
            "2019-02-16 20:54:35 | itr #91 | computing descent direction\n"
          ],
          "name": "stdout"
        },
        {
          "output_type": "stream",
          "text": [
            "\n",
            "Total time elapsed: 00:00:04\n"
          ],
          "name": "stderr"
        },
        {
          "output_type": "stream",
          "text": [
            "2019-02-16 20:54:35 | itr #91 | descent direction computed\n",
            "2019-02-16 20:54:35 | itr #91 | backtrack iters: 0\n",
            "2019-02-16 20:54:35 | itr #91 | computing loss after\n",
            "2019-02-16 20:54:35 | itr #91 | optimization finished\n",
            "2019-02-16 20:54:35 | itr #91 | Computing KL after\n",
            "2019-02-16 20:54:35 | itr #91 | Computing loss after\n",
            "2019-02-16 20:54:35 | itr #91 | Fitting baseline...\n",
            "2019-02-16 20:54:35 | itr #91 | Saving snapshot...\n",
            "2019-02-16 20:54:35 | itr #91 | Saved\n",
            "2019-02-16 20:54:35 | --------------------------  -------------\n",
            "2019-02-16 20:54:35 | AverageDiscountedReturn      46.7691\n",
            "2019-02-16 20:54:35 | AverageReturn                49.9225\n",
            "2019-02-16 20:54:35 | Baseline/ExplainedVariance    0.536109\n",
            "2019-02-16 20:54:35 | Entropy                       3.78851\n",
            "2019-02-16 20:54:35 | EnvExecTime                   0.820665\n",
            "2019-02-16 20:54:35 | Iteration                    91\n",
            "2019-02-16 20:54:35 | ItrTime                       5.01455\n",
            "2019-02-16 20:54:35 | MaxReturn                   110\n",
            "2019-02-16 20:54:35 | MinReturn                   -57\n",
            "2019-02-16 20:54:35 | NumTrajs                    129\n",
            "2019-02-16 20:54:35 | Perplexity                   44.1903\n",
            "2019-02-16 20:54:35 | PolicyExecTime                3.7596\n",
            "2019-02-16 20:54:35 | ProcessExecTime               0.0395274\n",
            "2019-02-16 20:54:35 | StdReturn                    57.2527\n",
            "2019-02-16 20:54:35 | Time                        476.237\n",
            "2019-02-16 20:54:35 | policy/Entropy                0.0576181\n",
            "2019-02-16 20:54:35 | policy/KL                     0.00905656\n",
            "2019-02-16 20:54:35 | policy/KLBefore               0\n",
            "2019-02-16 20:54:35 | policy/LossAfter             -0.0305221\n",
            "2019-02-16 20:54:35 | policy/LossBefore             3.06298e-09\n",
            "2019-02-16 20:54:35 | policy/dLoss                  0.0305221\n",
            "2019-02-16 20:54:35 | --------------------------  -------------\n",
            "2019-02-16 20:54:35 | itr #92 | Obtaining samples...\n",
            "2019-02-16 20:54:35 | itr #92 | Obtaining samples for iteration 92...\n"
          ],
          "name": "stdout"
        },
        {
          "output_type": "stream",
          "text": [
            "0% [##############################] 100% | ETA: 00:00:00"
          ],
          "name": "stderr"
        },
        {
          "output_type": "stream",
          "text": [
            "2019-02-16 20:54:39 | itr #92 | Processing samples...\n",
            "2019-02-16 20:54:39 | itr #92 | Logging diagnostics...\n",
            "2019-02-16 20:54:39 | itr #92 | Optimizing policy...\n",
            "2019-02-16 20:54:39 | itr #92 | Computing loss before\n",
            "2019-02-16 20:54:39 | itr #92 | Computing KL before\n",
            "2019-02-16 20:54:39 | itr #92 | Optimizing\n",
            "2019-02-16 20:54:39 | itr #92 | Start CG optimization: #parameters: 10528, #inputs: 130, #subsample_inputs: 130\n",
            "2019-02-16 20:54:39 | itr #92 | computing loss before\n",
            "2019-02-16 20:54:39 | itr #92 | performing update\n",
            "2019-02-16 20:54:39 | itr #92 | computing gradient\n",
            "2019-02-16 20:54:39 | itr #92 | gradient computed\n",
            "2019-02-16 20:54:39 | itr #92 | computing descent direction\n"
          ],
          "name": "stdout"
        },
        {
          "output_type": "stream",
          "text": [
            "\n",
            "Total time elapsed: 00:00:04\n"
          ],
          "name": "stderr"
        },
        {
          "output_type": "stream",
          "text": [
            "2019-02-16 20:54:40 | itr #92 | descent direction computed\n",
            "2019-02-16 20:54:40 | itr #92 | backtrack iters: 0\n",
            "2019-02-16 20:54:40 | itr #92 | computing loss after\n",
            "2019-02-16 20:54:40 | itr #92 | optimization finished\n",
            "2019-02-16 20:54:40 | itr #92 | Computing KL after\n",
            "2019-02-16 20:54:40 | itr #92 | Computing loss after\n",
            "2019-02-16 20:54:40 | itr #92 | Fitting baseline...\n",
            "2019-02-16 20:54:40 | itr #92 | Saving snapshot...\n",
            "2019-02-16 20:54:40 | itr #92 | Saved\n",
            "2019-02-16 20:54:40 | --------------------------  -------------\n",
            "2019-02-16 20:54:40 | AverageDiscountedReturn      41.7094\n",
            "2019-02-16 20:54:40 | AverageReturn                44.1923\n",
            "2019-02-16 20:54:40 | Baseline/ExplainedVariance    0.502897\n",
            "2019-02-16 20:54:40 | Entropy                       3.7413\n",
            "2019-02-16 20:54:40 | EnvExecTime                   0.807385\n",
            "2019-02-16 20:54:40 | Iteration                    92\n",
            "2019-02-16 20:54:40 | ItrTime                       4.85938\n",
            "2019-02-16 20:54:40 | MaxReturn                   110\n",
            "2019-02-16 20:54:40 | MinReturn                   -57\n",
            "2019-02-16 20:54:40 | NumTrajs                    130\n",
            "2019-02-16 20:54:40 | Perplexity                   42.1527\n",
            "2019-02-16 20:54:40 | PolicyExecTime                3.61147\n",
            "2019-02-16 20:54:40 | ProcessExecTime               0.0394735\n",
            "2019-02-16 20:54:40 | StdReturn                    58.9074\n",
            "2019-02-16 20:54:40 | Time                        481.157\n",
            "2019-02-16 20:54:40 | policy/Entropy                0.060726\n",
            "2019-02-16 20:54:40 | policy/KL                     0.00619467\n",
            "2019-02-16 20:54:40 | policy/KLBefore               0\n",
            "2019-02-16 20:54:40 | policy/LossAfter             -0.0224352\n",
            "2019-02-16 20:54:40 | policy/LossBefore            -2.24229e-08\n",
            "2019-02-16 20:54:40 | policy/dLoss                  0.0224352\n",
            "2019-02-16 20:54:40 | --------------------------  -------------\n",
            "2019-02-16 20:54:40 | itr #93 | Obtaining samples...\n",
            "2019-02-16 20:54:40 | itr #93 | Obtaining samples for iteration 93...\n"
          ],
          "name": "stdout"
        },
        {
          "output_type": "stream",
          "text": [
            "0% [##############################] 100% | ETA: 00:00:00"
          ],
          "name": "stderr"
        },
        {
          "output_type": "stream",
          "text": [
            "2019-02-16 20:54:44 | itr #93 | Processing samples...\n",
            "2019-02-16 20:54:44 | itr #93 | Logging diagnostics...\n",
            "2019-02-16 20:54:44 | itr #93 | Optimizing policy...\n",
            "2019-02-16 20:54:44 | itr #93 | Computing loss before\n",
            "2019-02-16 20:54:44 | itr #93 | Computing KL before\n",
            "2019-02-16 20:54:44 | itr #93 | Optimizing\n",
            "2019-02-16 20:54:44 | itr #93 | Start CG optimization: #parameters: 10528, #inputs: 129, #subsample_inputs: 129\n",
            "2019-02-16 20:54:44 | itr #93 | computing loss before\n",
            "2019-02-16 20:54:44 | itr #93 | performing update\n",
            "2019-02-16 20:54:44 | itr #93 | computing gradient\n",
            "2019-02-16 20:54:45 | itr #93 | gradient computed\n",
            "2019-02-16 20:54:45 | itr #93 | computing descent direction\n"
          ],
          "name": "stdout"
        },
        {
          "output_type": "stream",
          "text": [
            "\n",
            "Total time elapsed: 00:00:04\n"
          ],
          "name": "stderr"
        },
        {
          "output_type": "stream",
          "text": [
            "2019-02-16 20:54:45 | itr #93 | descent direction computed\n",
            "2019-02-16 20:54:45 | itr #93 | backtrack iters: 1\n",
            "2019-02-16 20:54:45 | itr #93 | computing loss after\n",
            "2019-02-16 20:54:45 | itr #93 | optimization finished\n",
            "2019-02-16 20:54:45 | itr #93 | Computing KL after\n",
            "2019-02-16 20:54:45 | itr #93 | Computing loss after\n",
            "2019-02-16 20:54:45 | itr #93 | Fitting baseline...\n",
            "2019-02-16 20:54:45 | itr #93 | Saving snapshot...\n",
            "2019-02-16 20:54:45 | itr #93 | Saved\n",
            "2019-02-16 20:54:45 | --------------------------  -------------\n",
            "2019-02-16 20:54:45 | AverageDiscountedReturn      40.7312\n",
            "2019-02-16 20:54:45 | AverageReturn                43.0233\n",
            "2019-02-16 20:54:45 | Baseline/ExplainedVariance    0.518222\n",
            "2019-02-16 20:54:45 | Entropy                       3.72646\n",
            "2019-02-16 20:54:45 | EnvExecTime                   0.810394\n",
            "2019-02-16 20:54:45 | Iteration                    93\n",
            "2019-02-16 20:54:45 | ItrTime                       4.99896\n",
            "2019-02-16 20:54:45 | MaxReturn                   110\n",
            "2019-02-16 20:54:45 | MinReturn                   -57\n",
            "2019-02-16 20:54:45 | NumTrajs                    129\n",
            "2019-02-16 20:54:45 | Perplexity                   41.5319\n",
            "2019-02-16 20:54:45 | PolicyExecTime                3.74087\n",
            "2019-02-16 20:54:45 | ProcessExecTime               0.0396852\n",
            "2019-02-16 20:54:45 | StdReturn                    58.3457\n",
            "2019-02-16 20:54:45 | Time                        486.188\n",
            "2019-02-16 20:54:45 | policy/Entropy                0.0590164\n",
            "2019-02-16 20:54:45 | policy/KL                     0.00819226\n",
            "2019-02-16 20:54:45 | policy/KLBefore               0\n",
            "2019-02-16 20:54:45 | policy/LossAfter             -0.0227927\n",
            "2019-02-16 20:54:45 | policy/LossBefore             7.55012e-09\n",
            "2019-02-16 20:54:45 | policy/dLoss                  0.0227927\n",
            "2019-02-16 20:54:45 | --------------------------  -------------\n",
            "2019-02-16 20:54:45 | itr #94 | Obtaining samples...\n",
            "2019-02-16 20:54:45 | itr #94 | Obtaining samples for iteration 94...\n"
          ],
          "name": "stdout"
        },
        {
          "output_type": "stream",
          "text": [
            "0% [##############################] 100% | ETA: 00:00:00"
          ],
          "name": "stderr"
        },
        {
          "output_type": "stream",
          "text": [
            "2019-02-16 20:54:49 | itr #94 | Processing samples...\n",
            "2019-02-16 20:54:49 | itr #94 | Logging diagnostics...\n",
            "2019-02-16 20:54:49 | itr #94 | Optimizing policy...\n",
            "2019-02-16 20:54:49 | itr #94 | Computing loss before\n",
            "2019-02-16 20:54:49 | itr #94 | Computing KL before\n",
            "2019-02-16 20:54:49 | itr #94 | Optimizing\n",
            "2019-02-16 20:54:49 | itr #94 | Start CG optimization: #parameters: 10528, #inputs: 140, #subsample_inputs: 140\n",
            "2019-02-16 20:54:49 | itr #94 | computing loss before\n",
            "2019-02-16 20:54:49 | itr #94 | performing update\n",
            "2019-02-16 20:54:49 | itr #94 | computing gradient\n",
            "2019-02-16 20:54:49 | itr #94 | gradient computed\n",
            "2019-02-16 20:54:49 | itr #94 | computing descent direction\n"
          ],
          "name": "stdout"
        },
        {
          "output_type": "stream",
          "text": [
            "\n",
            "Total time elapsed: 00:00:04\n"
          ],
          "name": "stderr"
        },
        {
          "output_type": "stream",
          "text": [
            "2019-02-16 20:54:50 | itr #94 | descent direction computed\n",
            "2019-02-16 20:54:50 | itr #94 | backtrack iters: 1\n",
            "2019-02-16 20:54:50 | itr #94 | computing loss after\n",
            "2019-02-16 20:54:50 | itr #94 | optimization finished\n",
            "2019-02-16 20:54:50 | itr #94 | Computing KL after\n",
            "2019-02-16 20:54:50 | itr #94 | Computing loss after\n",
            "2019-02-16 20:54:50 | itr #94 | Fitting baseline...\n",
            "2019-02-16 20:54:50 | itr #94 | Saving snapshot...\n",
            "2019-02-16 20:54:50 | itr #94 | Saved\n",
            "2019-02-16 20:54:50 | --------------------------  -------------\n",
            "2019-02-16 20:54:50 | AverageDiscountedReturn      52.2326\n",
            "2019-02-16 20:54:50 | AverageReturn                55.9929\n",
            "2019-02-16 20:54:50 | Baseline/ExplainedVariance    0.627267\n",
            "2019-02-16 20:54:50 | Entropy                       3.62851\n",
            "2019-02-16 20:54:50 | EnvExecTime                   0.808297\n",
            "2019-02-16 20:54:50 | Iteration                    94\n",
            "2019-02-16 20:54:50 | ItrTime                       4.94792\n",
            "2019-02-16 20:54:50 | MaxReturn                   110\n",
            "2019-02-16 20:54:50 | MinReturn                   -57\n",
            "2019-02-16 20:54:50 | NumTrajs                    140\n",
            "2019-02-16 20:54:50 | Perplexity                   37.6567\n",
            "2019-02-16 20:54:50 | PolicyExecTime                3.66887\n",
            "2019-02-16 20:54:50 | ProcessExecTime               0.0401425\n",
            "2019-02-16 20:54:50 | StdReturn                    57.0257\n",
            "2019-02-16 20:54:50 | Time                        491.165\n",
            "2019-02-16 20:54:50 | policy/Entropy                0.0606877\n",
            "2019-02-16 20:54:50 | policy/KL                     0.00670128\n",
            "2019-02-16 20:54:50 | policy/KLBefore               0\n",
            "2019-02-16 20:54:50 | policy/LossAfter             -0.0237809\n",
            "2019-02-16 20:54:50 | policy/LossBefore             3.63564e-09\n",
            "2019-02-16 20:54:50 | policy/dLoss                  0.0237809\n",
            "2019-02-16 20:54:50 | --------------------------  -------------\n",
            "2019-02-16 20:54:50 | itr #95 | Obtaining samples...\n",
            "2019-02-16 20:54:50 | itr #95 | Obtaining samples for iteration 95...\n"
          ],
          "name": "stdout"
        },
        {
          "output_type": "stream",
          "text": [
            "0% [##############################] 100% | ETA: 00:00:00"
          ],
          "name": "stderr"
        },
        {
          "output_type": "stream",
          "text": [
            "2019-02-16 20:54:54 | itr #95 | Processing samples...\n",
            "2019-02-16 20:54:54 | itr #95 | Logging diagnostics...\n",
            "2019-02-16 20:54:54 | itr #95 | Optimizing policy...\n",
            "2019-02-16 20:54:54 | itr #95 | Computing loss before\n",
            "2019-02-16 20:54:54 | itr #95 | Computing KL before\n",
            "2019-02-16 20:54:54 | itr #95 | Optimizing\n",
            "2019-02-16 20:54:54 | itr #95 | Start CG optimization: #parameters: 10528, #inputs: 129, #subsample_inputs: 129\n",
            "2019-02-16 20:54:54 | itr #95 | computing loss before\n",
            "2019-02-16 20:54:54 | itr #95 | performing update\n",
            "2019-02-16 20:54:54 | itr #95 | computing gradient\n",
            "2019-02-16 20:54:54 | itr #95 | gradient computed\n",
            "2019-02-16 20:54:54 | itr #95 | computing descent direction\n"
          ],
          "name": "stdout"
        },
        {
          "output_type": "stream",
          "text": [
            "\n",
            "Total time elapsed: 00:00:04\n"
          ],
          "name": "stderr"
        },
        {
          "output_type": "stream",
          "text": [
            "2019-02-16 20:54:55 | itr #95 | descent direction computed\n",
            "2019-02-16 20:54:55 | itr #95 | backtrack iters: 0\n",
            "2019-02-16 20:54:55 | itr #95 | computing loss after\n",
            "2019-02-16 20:54:55 | itr #95 | optimization finished\n",
            "2019-02-16 20:54:55 | itr #95 | Computing KL after\n",
            "2019-02-16 20:54:55 | itr #95 | Computing loss after\n",
            "2019-02-16 20:54:55 | itr #95 | Fitting baseline...\n",
            "2019-02-16 20:54:55 | itr #95 | Saving snapshot...\n",
            "2019-02-16 20:54:55 | itr #95 | Saved\n",
            "2019-02-16 20:54:55 | --------------------------  -------------\n",
            "2019-02-16 20:54:55 | AverageDiscountedReturn      43.4509\n",
            "2019-02-16 20:54:55 | AverageReturn                46.124\n",
            "2019-02-16 20:54:55 | Baseline/ExplainedVariance    0.574025\n",
            "2019-02-16 20:54:55 | Entropy                       3.66489\n",
            "2019-02-16 20:54:55 | EnvExecTime                   0.78814\n",
            "2019-02-16 20:54:55 | Iteration                    95\n",
            "2019-02-16 20:54:55 | ItrTime                       4.83871\n",
            "2019-02-16 20:54:55 | MaxReturn                   110\n",
            "2019-02-16 20:54:55 | MinReturn                   -60\n",
            "2019-02-16 20:54:55 | NumTrajs                    129\n",
            "2019-02-16 20:54:55 | Perplexity                   39.0517\n",
            "2019-02-16 20:54:55 | PolicyExecTime                3.60588\n",
            "2019-02-16 20:54:55 | ProcessExecTime               0.0383077\n",
            "2019-02-16 20:54:55 | StdReturn                    57.3854\n",
            "2019-02-16 20:54:55 | Time                        496.036\n",
            "2019-02-16 20:54:55 | policy/Entropy                0.0618696\n",
            "2019-02-16 20:54:55 | policy/KL                     0.00792289\n",
            "2019-02-16 20:54:55 | policy/KLBefore               0\n",
            "2019-02-16 20:54:55 | policy/LossAfter             -0.0191197\n",
            "2019-02-16 20:54:55 | policy/LossBefore             7.61607e-09\n",
            "2019-02-16 20:54:55 | policy/dLoss                  0.0191197\n",
            "2019-02-16 20:54:55 | --------------------------  -------------\n",
            "2019-02-16 20:54:55 | itr #96 | Obtaining samples...\n",
            "2019-02-16 20:54:55 | itr #96 | Obtaining samples for iteration 96...\n"
          ],
          "name": "stdout"
        },
        {
          "output_type": "stream",
          "text": [
            "0% [##############################] 100% | ETA: 00:00:00"
          ],
          "name": "stderr"
        },
        {
          "output_type": "stream",
          "text": [
            "2019-02-16 20:54:59 | itr #96 | Processing samples...\n",
            "2019-02-16 20:54:59 | itr #96 | Logging diagnostics...\n",
            "2019-02-16 20:54:59 | itr #96 | Optimizing policy...\n",
            "2019-02-16 20:54:59 | itr #96 | Computing loss before\n",
            "2019-02-16 20:54:59 | itr #96 | Computing KL before\n",
            "2019-02-16 20:54:59 | itr #96 | Optimizing\n",
            "2019-02-16 20:54:59 | itr #96 | Start CG optimization: #parameters: 10528, #inputs: 132, #subsample_inputs: 132\n",
            "2019-02-16 20:54:59 | itr #96 | computing loss before\n",
            "2019-02-16 20:54:59 | itr #96 | performing update\n",
            "2019-02-16 20:54:59 | itr #96 | computing gradient\n",
            "2019-02-16 20:54:59 | itr #96 | gradient computed\n",
            "2019-02-16 20:54:59 | itr #96 | computing descent direction\n"
          ],
          "name": "stdout"
        },
        {
          "output_type": "stream",
          "text": [
            "\n",
            "Total time elapsed: 00:00:04\n"
          ],
          "name": "stderr"
        },
        {
          "output_type": "stream",
          "text": [
            "2019-02-16 20:54:59 | itr #96 | descent direction computed\n",
            "2019-02-16 20:54:59 | itr #96 | backtrack iters: 0\n",
            "2019-02-16 20:55:00 | itr #96 | computing loss after\n",
            "2019-02-16 20:55:00 | itr #96 | optimization finished\n",
            "2019-02-16 20:55:00 | itr #96 | Computing KL after\n",
            "2019-02-16 20:55:00 | itr #96 | Computing loss after\n",
            "2019-02-16 20:55:00 | itr #96 | Fitting baseline...\n",
            "2019-02-16 20:55:00 | itr #96 | Saving snapshot...\n",
            "2019-02-16 20:55:00 | itr #96 | Saved\n",
            "2019-02-16 20:55:00 | --------------------------  ------------\n",
            "2019-02-16 20:55:00 | AverageDiscountedReturn      44.5325\n",
            "2019-02-16 20:55:00 | AverageReturn                47.697\n",
            "2019-02-16 20:55:00 | Baseline/ExplainedVariance    0.622212\n",
            "2019-02-16 20:55:00 | Entropy                       3.60628\n",
            "2019-02-16 20:55:00 | EnvExecTime                   0.791047\n",
            "2019-02-16 20:55:00 | Iteration                    96\n",
            "2019-02-16 20:55:00 | ItrTime                       4.87597\n",
            "2019-02-16 20:55:00 | MaxReturn                   110\n",
            "2019-02-16 20:55:00 | MinReturn                   -59\n",
            "2019-02-16 20:55:00 | NumTrajs                    132\n",
            "2019-02-16 20:55:00 | Perplexity                   36.8288\n",
            "2019-02-16 20:55:00 | PolicyExecTime                3.63846\n",
            "2019-02-16 20:55:00 | ProcessExecTime               0.0390959\n",
            "2019-02-16 20:55:00 | StdReturn                    58.7707\n",
            "2019-02-16 20:55:00 | Time                        500.978\n",
            "2019-02-16 20:55:00 | policy/Entropy                0.0680112\n",
            "2019-02-16 20:55:00 | policy/KL                     0.00765267\n",
            "2019-02-16 20:55:00 | policy/KLBefore               0\n",
            "2019-02-16 20:55:00 | policy/LossAfter             -0.0242237\n",
            "2019-02-16 20:55:00 | policy/LossBefore            -7.4524e-09\n",
            "2019-02-16 20:55:00 | policy/dLoss                  0.0242237\n",
            "2019-02-16 20:55:00 | --------------------------  ------------\n",
            "2019-02-16 20:55:00 | itr #97 | Obtaining samples...\n",
            "2019-02-16 20:55:00 | itr #97 | Obtaining samples for iteration 97...\n"
          ],
          "name": "stdout"
        },
        {
          "output_type": "stream",
          "text": [
            "0% [##############################] 100% | ETA: 00:00:00"
          ],
          "name": "stderr"
        },
        {
          "output_type": "stream",
          "text": [
            "2019-02-16 20:55:04 | itr #97 | Processing samples...\n",
            "2019-02-16 20:55:04 | itr #97 | Logging diagnostics...\n",
            "2019-02-16 20:55:04 | itr #97 | Optimizing policy...\n",
            "2019-02-16 20:55:04 | itr #97 | Computing loss before\n",
            "2019-02-16 20:55:04 | itr #97 | Computing KL before\n",
            "2019-02-16 20:55:04 | itr #97 | Optimizing\n",
            "2019-02-16 20:55:04 | itr #97 | Start CG optimization: #parameters: 10528, #inputs: 130, #subsample_inputs: 130\n",
            "2019-02-16 20:55:04 | itr #97 | computing loss before\n",
            "2019-02-16 20:55:04 | itr #97 | performing update\n",
            "2019-02-16 20:55:04 | itr #97 | computing gradient\n",
            "2019-02-16 20:55:04 | itr #97 | gradient computed\n",
            "2019-02-16 20:55:04 | itr #97 | computing descent direction\n"
          ],
          "name": "stdout"
        },
        {
          "output_type": "stream",
          "text": [
            "\n",
            "Total time elapsed: 00:00:04\n"
          ],
          "name": "stderr"
        },
        {
          "output_type": "stream",
          "text": [
            "2019-02-16 20:55:05 | itr #97 | descent direction computed\n",
            "2019-02-16 20:55:05 | itr #97 | backtrack iters: 0\n",
            "2019-02-16 20:55:05 | itr #97 | computing loss after\n",
            "2019-02-16 20:55:05 | itr #97 | optimization finished\n",
            "2019-02-16 20:55:05 | itr #97 | Computing KL after\n",
            "2019-02-16 20:55:05 | itr #97 | Computing loss after\n",
            "2019-02-16 20:55:05 | itr #97 | Fitting baseline...\n",
            "2019-02-16 20:55:05 | itr #97 | Saving snapshot...\n",
            "2019-02-16 20:55:05 | itr #97 | Saved\n",
            "2019-02-16 20:55:05 | --------------------------  -------------\n",
            "2019-02-16 20:55:05 | AverageDiscountedReturn      44.6381\n",
            "2019-02-16 20:55:05 | AverageReturn                47.3385\n",
            "2019-02-16 20:55:05 | Baseline/ExplainedVariance    0.613438\n",
            "2019-02-16 20:55:05 | Entropy                       3.6455\n",
            "2019-02-16 20:55:05 | EnvExecTime                   0.81899\n",
            "2019-02-16 20:55:05 | Iteration                    97\n",
            "2019-02-16 20:55:05 | ItrTime                       4.97486\n",
            "2019-02-16 20:55:05 | MaxReturn                   110\n",
            "2019-02-16 20:55:05 | MinReturn                   -63\n",
            "2019-02-16 20:55:05 | NumTrajs                    130\n",
            "2019-02-16 20:55:05 | Perplexity                   38.3019\n",
            "2019-02-16 20:55:05 | PolicyExecTime                3.71176\n",
            "2019-02-16 20:55:05 | ProcessExecTime               0.0392277\n",
            "2019-02-16 20:55:05 | StdReturn                    58.6494\n",
            "2019-02-16 20:55:05 | Time                        506.004\n",
            "2019-02-16 20:55:05 | policy/Entropy                0.0639913\n",
            "2019-02-16 20:55:05 | policy/KL                     0.00788525\n",
            "2019-02-16 20:55:05 | policy/KLBefore               0\n",
            "2019-02-16 20:55:05 | policy/LossAfter             -0.0296803\n",
            "2019-02-16 20:55:05 | policy/LossBefore             3.75925e-09\n",
            "2019-02-16 20:55:05 | policy/dLoss                  0.0296804\n",
            "2019-02-16 20:55:05 | --------------------------  -------------\n",
            "2019-02-16 20:55:05 | itr #98 | Obtaining samples...\n",
            "2019-02-16 20:55:05 | itr #98 | Obtaining samples for iteration 98...\n"
          ],
          "name": "stdout"
        },
        {
          "output_type": "stream",
          "text": [
            "0% [##############################] 100% | ETA: 00:00:00"
          ],
          "name": "stderr"
        },
        {
          "output_type": "stream",
          "text": [
            "2019-02-16 20:55:09 | itr #98 | Processing samples...\n",
            "2019-02-16 20:55:09 | itr #98 | Logging diagnostics...\n",
            "2019-02-16 20:55:09 | itr #98 | Optimizing policy...\n",
            "2019-02-16 20:55:09 | itr #98 | Computing loss before\n",
            "2019-02-16 20:55:09 | itr #98 | Computing KL before\n",
            "2019-02-16 20:55:09 | itr #98 | Optimizing\n",
            "2019-02-16 20:55:09 | itr #98 | Start CG optimization: #parameters: 10528, #inputs: 132, #subsample_inputs: 132\n",
            "2019-02-16 20:55:09 | itr #98 | computing loss before\n",
            "2019-02-16 20:55:09 | itr #98 | performing update\n",
            "2019-02-16 20:55:09 | itr #98 | computing gradient\n",
            "2019-02-16 20:55:09 | itr #98 | gradient computed\n",
            "2019-02-16 20:55:09 | itr #98 | computing descent direction\n"
          ],
          "name": "stdout"
        },
        {
          "output_type": "stream",
          "text": [
            "\n",
            "Total time elapsed: 00:00:04\n"
          ],
          "name": "stderr"
        },
        {
          "output_type": "stream",
          "text": [
            "2019-02-16 20:55:09 | itr #98 | descent direction computed\n",
            "2019-02-16 20:55:09 | itr #98 | backtrack iters: 0\n",
            "2019-02-16 20:55:09 | itr #98 | computing loss after\n",
            "2019-02-16 20:55:09 | itr #98 | optimization finished\n",
            "2019-02-16 20:55:09 | itr #98 | Computing KL after\n",
            "2019-02-16 20:55:09 | itr #98 | Computing loss after\n",
            "2019-02-16 20:55:09 | itr #98 | Fitting baseline...\n",
            "2019-02-16 20:55:09 | itr #98 | Saving snapshot...\n",
            "2019-02-16 20:55:09 | itr #98 | Saved\n",
            "2019-02-16 20:55:09 | --------------------------  -------------\n",
            "2019-02-16 20:55:09 | AverageDiscountedReturn      48.682\n",
            "2019-02-16 20:55:09 | AverageReturn                52.1894\n",
            "2019-02-16 20:55:09 | Baseline/ExplainedVariance    0.648992\n",
            "2019-02-16 20:55:09 | Entropy                       3.54568\n",
            "2019-02-16 20:55:09 | EnvExecTime                   0.777209\n",
            "2019-02-16 20:55:09 | Iteration                    98\n",
            "2019-02-16 20:55:09 | ItrTime                       4.78601\n",
            "2019-02-16 20:55:09 | MaxReturn                   110\n",
            "2019-02-16 20:55:09 | MinReturn                   -52\n",
            "2019-02-16 20:55:09 | NumTrajs                    132\n",
            "2019-02-16 20:55:09 | Perplexity                   34.6632\n",
            "2019-02-16 20:55:09 | PolicyExecTime                3.57532\n",
            "2019-02-16 20:55:09 | ProcessExecTime               0.0384023\n",
            "2019-02-16 20:55:09 | StdReturn                    57.6204\n",
            "2019-02-16 20:55:09 | Time                        510.851\n",
            "2019-02-16 20:55:09 | policy/Entropy                0.0714595\n",
            "2019-02-16 20:55:09 | policy/KL                     0.00909518\n",
            "2019-02-16 20:55:09 | policy/KLBefore               0\n",
            "2019-02-16 20:55:09 | policy/LossAfter             -0.0234332\n",
            "2019-02-16 20:55:09 | policy/LossBefore            -1.14013e-08\n",
            "2019-02-16 20:55:09 | policy/dLoss                  0.0234331\n",
            "2019-02-16 20:55:09 | --------------------------  -------------\n",
            "2019-02-16 20:55:09 | itr #99 | Obtaining samples...\n",
            "2019-02-16 20:55:09 | itr #99 | Obtaining samples for iteration 99...\n"
          ],
          "name": "stdout"
        },
        {
          "output_type": "stream",
          "text": [
            "0% [##############################] 100% | ETA: 00:00:00"
          ],
          "name": "stderr"
        },
        {
          "output_type": "stream",
          "text": [
            "2019-02-16 20:55:14 | itr #99 | Processing samples...\n",
            "2019-02-16 20:55:14 | itr #99 | Logging diagnostics...\n",
            "2019-02-16 20:55:14 | itr #99 | Optimizing policy...\n",
            "2019-02-16 20:55:14 | itr #99 | Computing loss before\n",
            "2019-02-16 20:55:14 | itr #99 | Computing KL before\n",
            "2019-02-16 20:55:14 | itr #99 | Optimizing\n",
            "2019-02-16 20:55:14 | itr #99 | Start CG optimization: #parameters: 10528, #inputs: 130, #subsample_inputs: 130\n",
            "2019-02-16 20:55:14 | itr #99 | computing loss before\n",
            "2019-02-16 20:55:14 | itr #99 | performing update\n",
            "2019-02-16 20:55:14 | itr #99 | computing gradient\n",
            "2019-02-16 20:55:14 | itr #99 | gradient computed\n",
            "2019-02-16 20:55:14 | itr #99 | computing descent direction\n"
          ],
          "name": "stdout"
        },
        {
          "output_type": "stream",
          "text": [
            "\n",
            "Total time elapsed: 00:00:04\n"
          ],
          "name": "stderr"
        },
        {
          "output_type": "stream",
          "text": [
            "2019-02-16 20:55:14 | itr #99 | descent direction computed\n",
            "2019-02-16 20:55:14 | itr #99 | backtrack iters: 1\n",
            "2019-02-16 20:55:14 | itr #99 | computing loss after\n",
            "2019-02-16 20:55:14 | itr #99 | optimization finished\n",
            "2019-02-16 20:55:14 | itr #99 | Computing KL after\n",
            "2019-02-16 20:55:14 | itr #99 | Computing loss after\n",
            "2019-02-16 20:55:14 | itr #99 | Fitting baseline...\n",
            "2019-02-16 20:55:14 | itr #99 | Saving snapshot...\n",
            "2019-02-16 20:55:14 | itr #99 | Saved\n",
            "2019-02-16 20:55:14 | --------------------------  -------------\n",
            "2019-02-16 20:55:14 | AverageDiscountedReturn      44.5188\n",
            "2019-02-16 20:55:14 | AverageReturn                47.3385\n",
            "2019-02-16 20:55:14 | Baseline/ExplainedVariance    0.493187\n",
            "2019-02-16 20:55:14 | Entropy                       3.53641\n",
            "2019-02-16 20:55:14 | EnvExecTime                   0.9162\n",
            "2019-02-16 20:55:14 | Iteration                    99\n",
            "2019-02-16 20:55:14 | ItrTime                       4.99914\n",
            "2019-02-16 20:55:15 | MaxReturn                   110\n",
            "2019-02-16 20:55:15 | MinReturn                   -52\n",
            "2019-02-16 20:55:15 | NumTrajs                    130\n",
            "2019-02-16 20:55:15 | Perplexity                   34.3435\n",
            "2019-02-16 20:55:15 | PolicyExecTime                3.62465\n",
            "2019-02-16 20:55:15 | ProcessExecTime               0.0399401\n",
            "2019-02-16 20:55:15 | StdReturn                    56.3696\n",
            "2019-02-16 20:55:15 | Time                        515.901\n",
            "2019-02-16 20:55:15 | policy/Entropy                0.0747178\n",
            "2019-02-16 20:55:15 | policy/KL                     0.00851988\n",
            "2019-02-16 20:55:15 | policy/KLBefore               0\n",
            "2019-02-16 20:55:15 | policy/LossAfter             -0.0188045\n",
            "2019-02-16 20:55:15 | policy/LossBefore             2.30579e-09\n",
            "2019-02-16 20:55:15 | policy/dLoss                  0.0188045\n",
            "2019-02-16 20:55:15 | --------------------------  -------------\n",
            "2019-02-16 20:55:15 | itr #100 | Obtaining samples...\n",
            "2019-02-16 20:55:15 | itr #100 | Obtaining samples for iteration 100...\n"
          ],
          "name": "stdout"
        },
        {
          "output_type": "stream",
          "text": [
            "0% [##############################] 100% | ETA: 00:00:00"
          ],
          "name": "stderr"
        },
        {
          "output_type": "stream",
          "text": [
            "2019-02-16 20:55:19 | itr #100 | Processing samples...\n",
            "2019-02-16 20:55:19 | itr #100 | Logging diagnostics...\n",
            "2019-02-16 20:55:19 | itr #100 | Optimizing policy...\n",
            "2019-02-16 20:55:19 | itr #100 | Computing loss before\n",
            "2019-02-16 20:55:19 | itr #100 | Computing KL before\n",
            "2019-02-16 20:55:19 | itr #100 | Optimizing\n",
            "2019-02-16 20:55:19 | itr #100 | Start CG optimization: #parameters: 10528, #inputs: 133, #subsample_inputs: 133\n",
            "2019-02-16 20:55:19 | itr #100 | computing loss before\n",
            "2019-02-16 20:55:19 | itr #100 | performing update\n",
            "2019-02-16 20:55:19 | itr #100 | computing gradient\n",
            "2019-02-16 20:55:19 | itr #100 | gradient computed\n",
            "2019-02-16 20:55:19 | itr #100 | computing descent direction\n"
          ],
          "name": "stdout"
        },
        {
          "output_type": "stream",
          "text": [
            "\n",
            "Total time elapsed: 00:00:04\n"
          ],
          "name": "stderr"
        },
        {
          "output_type": "stream",
          "text": [
            "2019-02-16 20:55:19 | itr #100 | descent direction computed\n",
            "2019-02-16 20:55:19 | itr #100 | backtrack iters: 1\n",
            "2019-02-16 20:55:19 | itr #100 | computing loss after\n",
            "2019-02-16 20:55:19 | itr #100 | optimization finished\n",
            "2019-02-16 20:55:19 | itr #100 | Computing KL after\n",
            "2019-02-16 20:55:19 | itr #100 | Computing loss after\n",
            "2019-02-16 20:55:19 | itr #100 | Fitting baseline...\n",
            "2019-02-16 20:55:19 | itr #100 | Saving snapshot...\n",
            "2019-02-16 20:55:19 | itr #100 | Saved\n",
            "2019-02-16 20:55:19 | --------------------------  -------------\n",
            "2019-02-16 20:55:19 | AverageDiscountedReturn      46.3617\n",
            "2019-02-16 20:55:19 | AverageReturn                48.9699\n",
            "2019-02-16 20:55:19 | Baseline/ExplainedVariance    0.574117\n",
            "2019-02-16 20:55:19 | Entropy                       3.51369\n",
            "2019-02-16 20:55:19 | EnvExecTime                   0.793686\n",
            "2019-02-16 20:55:19 | Iteration                   100\n",
            "2019-02-16 20:55:19 | ItrTime                       4.87268\n",
            "2019-02-16 20:55:19 | MaxReturn                   110\n",
            "2019-02-16 20:55:19 | MinReturn                   -67\n",
            "2019-02-16 20:55:19 | NumTrajs                    133\n",
            "2019-02-16 20:55:19 | Perplexity                   33.5718\n",
            "2019-02-16 20:55:19 | PolicyExecTime                3.63224\n",
            "2019-02-16 20:55:19 | ProcessExecTime               0.0396001\n",
            "2019-02-16 20:55:19 | StdReturn                    54.8023\n",
            "2019-02-16 20:55:19 | Time                        520.835\n",
            "2019-02-16 20:55:19 | policy/Entropy                0.0740537\n",
            "2019-02-16 20:55:19 | policy/KL                     0.00687786\n",
            "2019-02-16 20:55:19 | policy/KLBefore               0\n",
            "2019-02-16 20:55:19 | policy/LossAfter             -0.0178621\n",
            "2019-02-16 20:55:19 | policy/LossBefore            -1.89166e-08\n",
            "2019-02-16 20:55:19 | policy/dLoss                  0.0178621\n",
            "2019-02-16 20:55:19 | --------------------------  -------------\n",
            "2019-02-16 20:55:19 | itr #101 | Obtaining samples...\n",
            "2019-02-16 20:55:19 | itr #101 | Obtaining samples for iteration 101...\n"
          ],
          "name": "stdout"
        },
        {
          "output_type": "stream",
          "text": [
            "0% [##############################] 100% | ETA: 00:00:00"
          ],
          "name": "stderr"
        },
        {
          "output_type": "stream",
          "text": [
            "2019-02-16 20:55:24 | itr #101 | Processing samples...\n",
            "2019-02-16 20:55:24 | itr #101 | Logging diagnostics...\n",
            "2019-02-16 20:55:24 | itr #101 | Optimizing policy...\n",
            "2019-02-16 20:55:24 | itr #101 | Computing loss before\n",
            "2019-02-16 20:55:24 | itr #101 | Computing KL before\n",
            "2019-02-16 20:55:24 | itr #101 | Optimizing\n",
            "2019-02-16 20:55:24 | itr #101 | Start CG optimization: #parameters: 10528, #inputs: 132, #subsample_inputs: 132\n",
            "2019-02-16 20:55:24 | itr #101 | computing loss before\n",
            "2019-02-16 20:55:24 | itr #101 | performing update\n",
            "2019-02-16 20:55:24 | itr #101 | computing gradient\n",
            "2019-02-16 20:55:24 | itr #101 | gradient computed\n",
            "2019-02-16 20:55:24 | itr #101 | computing descent direction\n"
          ],
          "name": "stdout"
        },
        {
          "output_type": "stream",
          "text": [
            "\n",
            "Total time elapsed: 00:00:04\n"
          ],
          "name": "stderr"
        },
        {
          "output_type": "stream",
          "text": [
            "2019-02-16 20:55:24 | itr #101 | descent direction computed\n",
            "2019-02-16 20:55:24 | itr #101 | backtrack iters: 0\n",
            "2019-02-16 20:55:24 | itr #101 | computing loss after\n",
            "2019-02-16 20:55:24 | itr #101 | optimization finished\n",
            "2019-02-16 20:55:24 | itr #101 | Computing KL after\n",
            "2019-02-16 20:55:24 | itr #101 | Computing loss after\n",
            "2019-02-16 20:55:24 | itr #101 | Fitting baseline...\n",
            "2019-02-16 20:55:24 | itr #101 | Saving snapshot...\n",
            "2019-02-16 20:55:24 | itr #101 | Saved\n",
            "2019-02-16 20:55:24 | --------------------------  -------------\n",
            "2019-02-16 20:55:24 | AverageDiscountedReturn      43.2595\n",
            "2019-02-16 20:55:24 | AverageReturn                45.9167\n",
            "2019-02-16 20:55:24 | Baseline/ExplainedVariance    0.620234\n",
            "2019-02-16 20:55:24 | Entropy                       3.48157\n",
            "2019-02-16 20:55:24 | EnvExecTime                   0.796782\n",
            "2019-02-16 20:55:24 | Iteration                   101\n",
            "2019-02-16 20:55:24 | ItrTime                       4.80909\n",
            "2019-02-16 20:55:24 | MaxReturn                   110\n",
            "2019-02-16 20:55:24 | MinReturn                   -68\n",
            "2019-02-16 20:55:24 | NumTrajs                    132\n",
            "2019-02-16 20:55:24 | Perplexity                   32.5109\n",
            "2019-02-16 20:55:24 | PolicyExecTime                3.57747\n",
            "2019-02-16 20:55:24 | ProcessExecTime               0.0388908\n",
            "2019-02-16 20:55:24 | StdReturn                    56.7418\n",
            "2019-02-16 20:55:24 | Time                        525.699\n",
            "2019-02-16 20:55:24 | policy/Entropy                0.0797304\n",
            "2019-02-16 20:55:24 | policy/KL                     0.00928422\n",
            "2019-02-16 20:55:24 | policy/KLBefore               0\n",
            "2019-02-16 20:55:24 | policy/LossAfter             -0.0252169\n",
            "2019-02-16 20:55:24 | policy/LossBefore             4.41731e-09\n",
            "2019-02-16 20:55:24 | policy/dLoss                  0.0252169\n",
            "2019-02-16 20:55:24 | --------------------------  -------------\n",
            "2019-02-16 20:55:24 | itr #102 | Obtaining samples...\n",
            "2019-02-16 20:55:24 | itr #102 | Obtaining samples for iteration 102...\n"
          ],
          "name": "stdout"
        },
        {
          "output_type": "stream",
          "text": [
            "0% [##############################] 100% | ETA: 00:00:00"
          ],
          "name": "stderr"
        },
        {
          "output_type": "stream",
          "text": [
            "2019-02-16 20:55:29 | itr #102 | Processing samples...\n",
            "2019-02-16 20:55:29 | itr #102 | Logging diagnostics...\n",
            "2019-02-16 20:55:29 | itr #102 | Optimizing policy...\n",
            "2019-02-16 20:55:29 | itr #102 | Computing loss before\n",
            "2019-02-16 20:55:29 | itr #102 | Computing KL before\n",
            "2019-02-16 20:55:29 | itr #102 | Optimizing\n",
            "2019-02-16 20:55:29 | itr #102 | Start CG optimization: #parameters: 10528, #inputs: 131, #subsample_inputs: 131\n",
            "2019-02-16 20:55:29 | itr #102 | computing loss before\n",
            "2019-02-16 20:55:29 | itr #102 | performing update\n",
            "2019-02-16 20:55:29 | itr #102 | computing gradient\n",
            "2019-02-16 20:55:29 | itr #102 | gradient computed\n",
            "2019-02-16 20:55:29 | itr #102 | computing descent direction\n"
          ],
          "name": "stdout"
        },
        {
          "output_type": "stream",
          "text": [
            "\n",
            "Total time elapsed: 00:00:04\n"
          ],
          "name": "stderr"
        },
        {
          "output_type": "stream",
          "text": [
            "2019-02-16 20:55:29 | itr #102 | descent direction computed\n",
            "2019-02-16 20:55:29 | itr #102 | backtrack iters: 0\n",
            "2019-02-16 20:55:29 | itr #102 | computing loss after\n",
            "2019-02-16 20:55:29 | itr #102 | optimization finished\n",
            "2019-02-16 20:55:29 | itr #102 | Computing KL after\n",
            "2019-02-16 20:55:29 | itr #102 | Computing loss after\n",
            "2019-02-16 20:55:29 | itr #102 | Fitting baseline...\n",
            "2019-02-16 20:55:29 | itr #102 | Saving snapshot...\n",
            "2019-02-16 20:55:29 | itr #102 | Saved\n",
            "2019-02-16 20:55:29 | --------------------------  -------------\n",
            "2019-02-16 20:55:29 | AverageDiscountedReturn      45.2087\n",
            "2019-02-16 20:55:29 | AverageReturn                48.0076\n",
            "2019-02-16 20:55:29 | Baseline/ExplainedVariance    0.591151\n",
            "2019-02-16 20:55:29 | Entropy                       3.40765\n",
            "2019-02-16 20:55:29 | EnvExecTime                   0.795559\n",
            "2019-02-16 20:55:29 | Iteration                   102\n",
            "2019-02-16 20:55:29 | ItrTime                       4.82126\n",
            "2019-02-16 20:55:29 | MaxReturn                   110\n",
            "2019-02-16 20:55:29 | MinReturn                   -51\n",
            "2019-02-16 20:55:29 | NumTrajs                    131\n",
            "2019-02-16 20:55:29 | Perplexity                   30.1941\n",
            "2019-02-16 20:55:29 | PolicyExecTime                3.58184\n",
            "2019-02-16 20:55:29 | ProcessExecTime               0.0435946\n",
            "2019-02-16 20:55:29 | StdReturn                    55.3882\n",
            "2019-02-16 20:55:29 | Time                        530.578\n",
            "2019-02-16 20:55:29 | policy/Entropy                0.0797128\n",
            "2019-02-16 20:55:29 | policy/KL                     0.00851024\n",
            "2019-02-16 20:55:29 | policy/KLBefore               0\n",
            "2019-02-16 20:55:29 | policy/LossAfter             -0.0276989\n",
            "2019-02-16 20:55:29 | policy/LossBefore            -7.49818e-09\n",
            "2019-02-16 20:55:29 | policy/dLoss                  0.0276989\n",
            "2019-02-16 20:55:29 | --------------------------  -------------\n",
            "2019-02-16 20:55:29 | itr #103 | Obtaining samples...\n",
            "2019-02-16 20:55:29 | itr #103 | Obtaining samples for iteration 103...\n"
          ],
          "name": "stdout"
        },
        {
          "output_type": "stream",
          "text": [
            "0% [##############################] 100% | ETA: 00:00:00"
          ],
          "name": "stderr"
        },
        {
          "output_type": "stream",
          "text": [
            "2019-02-16 20:55:34 | itr #103 | Processing samples...\n",
            "2019-02-16 20:55:34 | itr #103 | Logging diagnostics...\n",
            "2019-02-16 20:55:34 | itr #103 | Optimizing policy...\n",
            "2019-02-16 20:55:34 | itr #103 | Computing loss before\n",
            "2019-02-16 20:55:34 | itr #103 | Computing KL before\n",
            "2019-02-16 20:55:34 | itr #103 | Optimizing\n",
            "2019-02-16 20:55:34 | itr #103 | Start CG optimization: #parameters: 10528, #inputs: 129, #subsample_inputs: 129\n",
            "2019-02-16 20:55:34 | itr #103 | computing loss before\n",
            "2019-02-16 20:55:34 | itr #103 | performing update\n",
            "2019-02-16 20:55:34 | itr #103 | computing gradient\n",
            "2019-02-16 20:55:34 | itr #103 | gradient computed\n",
            "2019-02-16 20:55:34 | itr #103 | computing descent direction\n"
          ],
          "name": "stdout"
        },
        {
          "output_type": "stream",
          "text": [
            "\n",
            "Total time elapsed: 00:00:04\n"
          ],
          "name": "stderr"
        },
        {
          "output_type": "stream",
          "text": [
            "2019-02-16 20:55:34 | itr #103 | descent direction computed\n",
            "2019-02-16 20:55:34 | itr #103 | backtrack iters: 0\n",
            "2019-02-16 20:55:34 | itr #103 | computing loss after\n",
            "2019-02-16 20:55:34 | itr #103 | optimization finished\n",
            "2019-02-16 20:55:34 | itr #103 | Computing KL after\n",
            "2019-02-16 20:55:34 | itr #103 | Computing loss after\n",
            "2019-02-16 20:55:34 | itr #103 | Fitting baseline...\n",
            "2019-02-16 20:55:34 | itr #103 | Saving snapshot...\n",
            "2019-02-16 20:55:34 | itr #103 | Saved\n",
            "2019-02-16 20:55:34 | --------------------------  -------------\n",
            "2019-02-16 20:55:34 | AverageDiscountedReturn      46.6687\n",
            "2019-02-16 20:55:34 | AverageReturn                49.5116\n",
            "2019-02-16 20:55:34 | Baseline/ExplainedVariance    0.623587\n",
            "2019-02-16 20:55:34 | Entropy                       3.42418\n",
            "2019-02-16 20:55:34 | EnvExecTime                   0.801115\n",
            "2019-02-16 20:55:34 | Iteration                   103\n",
            "2019-02-16 20:55:34 | ItrTime                       4.82479\n",
            "2019-02-16 20:55:34 | MaxReturn                   110\n",
            "2019-02-16 20:55:34 | MinReturn                   -40\n",
            "2019-02-16 20:55:34 | NumTrajs                    129\n",
            "2019-02-16 20:55:34 | Perplexity                   30.6975\n",
            "2019-02-16 20:55:34 | PolicyExecTime                3.59952\n",
            "2019-02-16 20:55:34 | ProcessExecTime               0.0380945\n",
            "2019-02-16 20:55:34 | StdReturn                    54.4209\n",
            "2019-02-16 20:55:34 | Time                        535.439\n",
            "2019-02-16 20:55:34 | policy/Entropy                0.0802016\n",
            "2019-02-16 20:55:34 | policy/KL                     0.00873283\n",
            "2019-02-16 20:55:34 | policy/KLBefore               0\n",
            "2019-02-16 20:55:34 | policy/LossAfter             -0.027444\n",
            "2019-02-16 20:55:34 | policy/LossBefore             1.13589e-08\n",
            "2019-02-16 20:55:34 | policy/dLoss                  0.027444\n",
            "2019-02-16 20:55:34 | --------------------------  -------------\n",
            "2019-02-16 20:55:34 | itr #104 | Obtaining samples...\n",
            "2019-02-16 20:55:34 | itr #104 | Obtaining samples for iteration 104...\n"
          ],
          "name": "stdout"
        },
        {
          "output_type": "stream",
          "text": [
            "0% [##############################] 100% | ETA: 00:00:00"
          ],
          "name": "stderr"
        },
        {
          "output_type": "stream",
          "text": [
            "2019-02-16 20:55:39 | itr #104 | Processing samples...\n",
            "2019-02-16 20:55:39 | itr #104 | Logging diagnostics...\n",
            "2019-02-16 20:55:39 | itr #104 | Optimizing policy...\n",
            "2019-02-16 20:55:39 | itr #104 | Computing loss before\n",
            "2019-02-16 20:55:39 | itr #104 | Computing KL before\n",
            "2019-02-16 20:55:39 | itr #104 | Optimizing\n",
            "2019-02-16 20:55:39 | itr #104 | Start CG optimization: #parameters: 10528, #inputs: 131, #subsample_inputs: 131\n",
            "2019-02-16 20:55:39 | itr #104 | computing loss before\n",
            "2019-02-16 20:55:39 | itr #104 | performing update\n",
            "2019-02-16 20:55:39 | itr #104 | computing gradient\n",
            "2019-02-16 20:55:39 | itr #104 | gradient computed\n",
            "2019-02-16 20:55:39 | itr #104 | computing descent direction\n"
          ],
          "name": "stdout"
        },
        {
          "output_type": "stream",
          "text": [
            "\n",
            "Total time elapsed: 00:00:04\n"
          ],
          "name": "stderr"
        },
        {
          "output_type": "stream",
          "text": [
            "2019-02-16 20:55:39 | itr #104 | descent direction computed\n",
            "2019-02-16 20:55:39 | itr #104 | backtrack iters: 0\n",
            "2019-02-16 20:55:39 | itr #104 | computing loss after\n",
            "2019-02-16 20:55:39 | itr #104 | optimization finished\n",
            "2019-02-16 20:55:39 | itr #104 | Computing KL after\n",
            "2019-02-16 20:55:39 | itr #104 | Computing loss after\n",
            "2019-02-16 20:55:39 | itr #104 | Fitting baseline...\n",
            "2019-02-16 20:55:39 | itr #104 | Saving snapshot...\n",
            "2019-02-16 20:55:39 | itr #104 | Saved\n",
            "2019-02-16 20:55:39 | --------------------------  -------------\n",
            "2019-02-16 20:55:39 | AverageDiscountedReturn      49.1027\n",
            "2019-02-16 20:55:39 | AverageReturn                52.4427\n",
            "2019-02-16 20:55:39 | Baseline/ExplainedVariance    0.632889\n",
            "2019-02-16 20:55:39 | Entropy                       3.30249\n",
            "2019-02-16 20:55:39 | EnvExecTime                   0.833361\n",
            "2019-02-16 20:55:39 | Iteration                   104\n",
            "2019-02-16 20:55:39 | ItrTime                       5.04662\n",
            "2019-02-16 20:55:39 | MaxReturn                   110\n",
            "2019-02-16 20:55:39 | MinReturn                   -75\n",
            "2019-02-16 20:55:39 | NumTrajs                    131\n",
            "2019-02-16 20:55:39 | Perplexity                   27.1803\n",
            "2019-02-16 20:55:39 | PolicyExecTime                3.77887\n",
            "2019-02-16 20:55:39 | ProcessExecTime               0.0402412\n",
            "2019-02-16 20:55:39 | StdReturn                    56.3851\n",
            "2019-02-16 20:55:39 | Time                        540.539\n",
            "2019-02-16 20:55:39 | policy/Entropy                0.0919897\n",
            "2019-02-16 20:55:39 | policy/KL                     0.00952637\n",
            "2019-02-16 20:55:39 | policy/KLBefore               0\n",
            "2019-02-16 20:55:39 | policy/LossAfter             -0.025395\n",
            "2019-02-16 20:55:39 | policy/LossBefore            -7.47247e-09\n",
            "2019-02-16 20:55:39 | policy/dLoss                  0.025395\n",
            "2019-02-16 20:55:39 | --------------------------  -------------\n",
            "2019-02-16 20:55:39 | itr #105 | Obtaining samples...\n",
            "2019-02-16 20:55:39 | itr #105 | Obtaining samples for iteration 105...\n"
          ],
          "name": "stdout"
        },
        {
          "output_type": "stream",
          "text": [
            "0% [##############################] 100% | ETA: 00:00:00"
          ],
          "name": "stderr"
        },
        {
          "output_type": "stream",
          "text": [
            "2019-02-16 20:55:44 | itr #105 | Processing samples...\n",
            "2019-02-16 20:55:44 | itr #105 | Logging diagnostics...\n",
            "2019-02-16 20:55:44 | itr #105 | Optimizing policy...\n",
            "2019-02-16 20:55:44 | itr #105 | Computing loss before\n",
            "2019-02-16 20:55:44 | itr #105 | Computing KL before\n",
            "2019-02-16 20:55:44 | itr #105 | Optimizing\n",
            "2019-02-16 20:55:44 | itr #105 | Start CG optimization: #parameters: 10528, #inputs: 131, #subsample_inputs: 131\n",
            "2019-02-16 20:55:44 | itr #105 | computing loss before\n",
            "2019-02-16 20:55:44 | itr #105 | performing update\n",
            "2019-02-16 20:55:44 | itr #105 | computing gradient\n",
            "2019-02-16 20:55:44 | itr #105 | gradient computed\n",
            "2019-02-16 20:55:44 | itr #105 | computing descent direction\n"
          ],
          "name": "stdout"
        },
        {
          "output_type": "stream",
          "text": [
            "\n",
            "Total time elapsed: 00:00:04\n"
          ],
          "name": "stderr"
        },
        {
          "output_type": "stream",
          "text": [
            "2019-02-16 20:55:44 | itr #105 | descent direction computed\n",
            "2019-02-16 20:55:44 | itr #105 | backtrack iters: 0\n",
            "2019-02-16 20:55:44 | itr #105 | computing loss after\n",
            "2019-02-16 20:55:44 | itr #105 | optimization finished\n",
            "2019-02-16 20:55:44 | itr #105 | Computing KL after\n",
            "2019-02-16 20:55:44 | itr #105 | Computing loss after\n",
            "2019-02-16 20:55:44 | itr #105 | Fitting baseline...\n",
            "2019-02-16 20:55:44 | itr #105 | Saving snapshot...\n",
            "2019-02-16 20:55:44 | itr #105 | Saved\n",
            "2019-02-16 20:55:44 | --------------------------  -------------\n",
            "2019-02-16 20:55:44 | AverageDiscountedReturn      49.2227\n",
            "2019-02-16 20:55:44 | AverageReturn                52.3359\n",
            "2019-02-16 20:55:44 | Baseline/ExplainedVariance    0.513546\n",
            "2019-02-16 20:55:44 | Entropy                       3.323\n",
            "2019-02-16 20:55:44 | EnvExecTime                   0.884819\n",
            "2019-02-16 20:55:44 | Iteration                   105\n",
            "2019-02-16 20:55:44 | ItrTime                       5.00223\n",
            "2019-02-16 20:55:44 | MaxReturn                   116\n",
            "2019-02-16 20:55:44 | MinReturn                   -47\n",
            "2019-02-16 20:55:44 | NumTrajs                    131\n",
            "2019-02-16 20:55:44 | Perplexity                   27.7433\n",
            "2019-02-16 20:55:44 | PolicyExecTime                3.6654\n",
            "2019-02-16 20:55:44 | ProcessExecTime               0.0388565\n",
            "2019-02-16 20:55:44 | StdReturn                    54.9684\n",
            "2019-02-16 20:55:44 | Time                        545.607\n",
            "2019-02-16 20:55:44 | policy/Entropy                0.0868646\n",
            "2019-02-16 20:55:44 | policy/KL                     0.00989411\n",
            "2019-02-16 20:55:44 | policy/KLBefore               0\n",
            "2019-02-16 20:55:44 | policy/LossAfter             -0.0243339\n",
            "2019-02-16 20:55:44 | policy/LossBefore             4.72116e-09\n",
            "2019-02-16 20:55:44 | policy/dLoss                  0.0243339\n",
            "2019-02-16 20:55:44 | --------------------------  -------------\n",
            "2019-02-16 20:55:44 | itr #106 | Obtaining samples...\n",
            "2019-02-16 20:55:44 | itr #106 | Obtaining samples for iteration 106...\n"
          ],
          "name": "stdout"
        },
        {
          "output_type": "stream",
          "text": [
            "0% [##############################] 100% | ETA: 00:00:00"
          ],
          "name": "stderr"
        },
        {
          "output_type": "stream",
          "text": [
            "2019-02-16 20:55:49 | itr #106 | Processing samples...\n",
            "2019-02-16 20:55:49 | itr #106 | Logging diagnostics...\n",
            "2019-02-16 20:55:49 | itr #106 | Optimizing policy...\n",
            "2019-02-16 20:55:49 | itr #106 | Computing loss before\n",
            "2019-02-16 20:55:49 | itr #106 | Computing KL before\n",
            "2019-02-16 20:55:49 | itr #106 | Optimizing\n",
            "2019-02-16 20:55:49 | itr #106 | Start CG optimization: #parameters: 10528, #inputs: 129, #subsample_inputs: 129\n",
            "2019-02-16 20:55:49 | itr #106 | computing loss before\n",
            "2019-02-16 20:55:49 | itr #106 | performing update\n",
            "2019-02-16 20:55:49 | itr #106 | computing gradient\n",
            "2019-02-16 20:55:49 | itr #106 | gradient computed\n",
            "2019-02-16 20:55:49 | itr #106 | computing descent direction\n"
          ],
          "name": "stdout"
        },
        {
          "output_type": "stream",
          "text": [
            "\n",
            "Total time elapsed: 00:00:04\n"
          ],
          "name": "stderr"
        },
        {
          "output_type": "stream",
          "text": [
            "2019-02-16 20:55:49 | itr #106 | descent direction computed\n",
            "2019-02-16 20:55:49 | itr #106 | backtrack iters: 1\n",
            "2019-02-16 20:55:49 | itr #106 | computing loss after\n",
            "2019-02-16 20:55:49 | itr #106 | optimization finished\n",
            "2019-02-16 20:55:49 | itr #106 | Computing KL after\n",
            "2019-02-16 20:55:49 | itr #106 | Computing loss after\n",
            "2019-02-16 20:55:49 | itr #106 | Fitting baseline...\n",
            "2019-02-16 20:55:49 | itr #106 | Saving snapshot...\n",
            "2019-02-16 20:55:49 | itr #106 | Saved\n",
            "2019-02-16 20:55:49 | --------------------------  -------------\n",
            "2019-02-16 20:55:49 | AverageDiscountedReturn      43.008\n",
            "2019-02-16 20:55:49 | AverageReturn                45.5426\n",
            "2019-02-16 20:55:49 | Baseline/ExplainedVariance    0.537479\n",
            "2019-02-16 20:55:49 | Entropy                       3.32334\n",
            "2019-02-16 20:55:49 | EnvExecTime                   0.814406\n",
            "2019-02-16 20:55:49 | Iteration                   106\n",
            "2019-02-16 20:55:49 | ItrTime                       4.91651\n",
            "2019-02-16 20:55:49 | MaxReturn                   110\n",
            "2019-02-16 20:55:49 | MinReturn                   -50\n",
            "2019-02-16 20:55:49 | NumTrajs                    129\n",
            "2019-02-16 20:55:49 | Perplexity                   27.7529\n",
            "2019-02-16 20:55:49 | PolicyExecTime                3.67253\n",
            "2019-02-16 20:55:49 | ProcessExecTime               0.0380487\n",
            "2019-02-16 20:55:49 | StdReturn                    55.618\n",
            "2019-02-16 20:55:49 | Time                        550.552\n",
            "2019-02-16 20:55:49 | policy/Entropy                0.0898766\n",
            "2019-02-16 20:55:49 | policy/KL                     0.00944169\n",
            "2019-02-16 20:55:49 | policy/KLBefore               0\n",
            "2019-02-16 20:55:49 | policy/LossAfter             -0.0283684\n",
            "2019-02-16 20:55:49 | policy/LossBefore             5.71062e-09\n",
            "2019-02-16 20:55:49 | policy/dLoss                  0.0283684\n",
            "2019-02-16 20:55:49 | --------------------------  -------------\n",
            "2019-02-16 20:55:49 | itr #107 | Obtaining samples...\n",
            "2019-02-16 20:55:49 | itr #107 | Obtaining samples for iteration 107...\n"
          ],
          "name": "stdout"
        },
        {
          "output_type": "stream",
          "text": [
            "0% [##############################] 100% | ETA: 00:00:00"
          ],
          "name": "stderr"
        },
        {
          "output_type": "stream",
          "text": [
            "2019-02-16 20:55:54 | itr #107 | Processing samples...\n",
            "2019-02-16 20:55:54 | itr #107 | Logging diagnostics...\n",
            "2019-02-16 20:55:54 | itr #107 | Optimizing policy...\n",
            "2019-02-16 20:55:54 | itr #107 | Computing loss before\n",
            "2019-02-16 20:55:54 | itr #107 | Computing KL before\n",
            "2019-02-16 20:55:54 | itr #107 | Optimizing\n",
            "2019-02-16 20:55:54 | itr #107 | Start CG optimization: #parameters: 10528, #inputs: 130, #subsample_inputs: 130\n",
            "2019-02-16 20:55:54 | itr #107 | computing loss before\n",
            "2019-02-16 20:55:54 | itr #107 | performing update\n",
            "2019-02-16 20:55:54 | itr #107 | computing gradient\n",
            "2019-02-16 20:55:54 | itr #107 | gradient computed\n",
            "2019-02-16 20:55:54 | itr #107 | computing descent direction\n"
          ],
          "name": "stdout"
        },
        {
          "output_type": "stream",
          "text": [
            "\n",
            "Total time elapsed: 00:00:04\n"
          ],
          "name": "stderr"
        },
        {
          "output_type": "stream",
          "text": [
            "2019-02-16 20:55:54 | itr #107 | descent direction computed\n",
            "2019-02-16 20:55:54 | itr #107 | backtrack iters: 0\n",
            "2019-02-16 20:55:54 | itr #107 | computing loss after\n",
            "2019-02-16 20:55:54 | itr #107 | optimization finished\n",
            "2019-02-16 20:55:54 | itr #107 | Computing KL after\n",
            "2019-02-16 20:55:54 | itr #107 | Computing loss after\n",
            "2019-02-16 20:55:54 | itr #107 | Fitting baseline...\n",
            "2019-02-16 20:55:54 | itr #107 | Saving snapshot...\n",
            "2019-02-16 20:55:54 | itr #107 | Saved\n",
            "2019-02-16 20:55:54 | --------------------------  -------------\n",
            "2019-02-16 20:55:54 | AverageDiscountedReturn      50.6791\n",
            "2019-02-16 20:55:54 | AverageReturn                53.9692\n",
            "2019-02-16 20:55:54 | Baseline/ExplainedVariance    0.572437\n",
            "2019-02-16 20:55:54 | Entropy                       3.25925\n",
            "2019-02-16 20:55:54 | EnvExecTime                   0.796938\n",
            "2019-02-16 20:55:54 | Iteration                   107\n",
            "2019-02-16 20:55:54 | ItrTime                       4.81419\n",
            "2019-02-16 20:55:54 | MaxReturn                   110\n",
            "2019-02-16 20:55:54 | MinReturn                   -36\n",
            "2019-02-16 20:55:54 | NumTrajs                    130\n",
            "2019-02-16 20:55:54 | Perplexity                   26.0299\n",
            "2019-02-16 20:55:54 | PolicyExecTime                3.58602\n",
            "2019-02-16 20:55:54 | ProcessExecTime               0.0382204\n",
            "2019-02-16 20:55:54 | StdReturn                    51.2795\n",
            "2019-02-16 20:55:54 | Time                        555.395\n",
            "2019-02-16 20:55:54 | policy/Entropy                0.0955314\n",
            "2019-02-16 20:55:54 | policy/KL                     0.00932795\n",
            "2019-02-16 20:55:54 | policy/KLBefore               0\n",
            "2019-02-16 20:55:54 | policy/LossAfter             -0.0260396\n",
            "2019-02-16 20:55:54 | policy/LossBefore             3.73624e-09\n",
            "2019-02-16 20:55:54 | policy/dLoss                  0.0260396\n",
            "2019-02-16 20:55:54 | --------------------------  -------------\n",
            "2019-02-16 20:55:54 | itr #108 | Obtaining samples...\n",
            "2019-02-16 20:55:54 | itr #108 | Obtaining samples for iteration 108...\n"
          ],
          "name": "stdout"
        },
        {
          "output_type": "stream",
          "text": [
            "0% [##############################] 100% | ETA: 00:00:00"
          ],
          "name": "stderr"
        },
        {
          "output_type": "stream",
          "text": [
            "2019-02-16 20:55:59 | itr #108 | Processing samples...\n",
            "2019-02-16 20:55:59 | itr #108 | Logging diagnostics...\n",
            "2019-02-16 20:55:59 | itr #108 | Optimizing policy...\n",
            "2019-02-16 20:55:59 | itr #108 | Computing loss before\n",
            "2019-02-16 20:55:59 | itr #108 | Computing KL before\n",
            "2019-02-16 20:55:59 | itr #108 | Optimizing\n",
            "2019-02-16 20:55:59 | itr #108 | Start CG optimization: #parameters: 10528, #inputs: 133, #subsample_inputs: 133\n",
            "2019-02-16 20:55:59 | itr #108 | computing loss before\n",
            "2019-02-16 20:55:59 | itr #108 | performing update\n",
            "2019-02-16 20:55:59 | itr #108 | computing gradient\n",
            "2019-02-16 20:55:59 | itr #108 | gradient computed\n",
            "2019-02-16 20:55:59 | itr #108 | computing descent direction\n"
          ],
          "name": "stdout"
        },
        {
          "output_type": "stream",
          "text": [
            "\n",
            "Total time elapsed: 00:00:04\n"
          ],
          "name": "stderr"
        },
        {
          "output_type": "stream",
          "text": [
            "2019-02-16 20:55:59 | itr #108 | descent direction computed\n",
            "2019-02-16 20:55:59 | itr #108 | backtrack iters: 0\n",
            "2019-02-16 20:55:59 | itr #108 | computing loss after\n",
            "2019-02-16 20:55:59 | itr #108 | optimization finished\n",
            "2019-02-16 20:55:59 | itr #108 | Computing KL after\n",
            "2019-02-16 20:55:59 | itr #108 | Computing loss after\n",
            "2019-02-16 20:55:59 | itr #108 | Fitting baseline...\n",
            "2019-02-16 20:55:59 | itr #108 | Saving snapshot...\n",
            "2019-02-16 20:55:59 | itr #108 | Saved\n",
            "2019-02-16 20:55:59 | --------------------------  -------------\n",
            "2019-02-16 20:55:59 | AverageDiscountedReturn      47.0564\n",
            "2019-02-16 20:55:59 | AverageReturn                49.9248\n",
            "2019-02-16 20:55:59 | Baseline/ExplainedVariance    0.618076\n",
            "2019-02-16 20:55:59 | Entropy                       3.2777\n",
            "2019-02-16 20:55:59 | EnvExecTime                   0.79835\n",
            "2019-02-16 20:55:59 | Iteration                   108\n",
            "2019-02-16 20:55:59 | ItrTime                       4.86202\n",
            "2019-02-16 20:55:59 | MaxReturn                   110\n",
            "2019-02-16 20:55:59 | MinReturn                   -57\n",
            "2019-02-16 20:55:59 | NumTrajs                    133\n",
            "2019-02-16 20:55:59 | Perplexity                   26.5147\n",
            "2019-02-16 20:55:59 | PolicyExecTime                3.62702\n",
            "2019-02-16 20:55:59 | ProcessExecTime               0.0396912\n",
            "2019-02-16 20:55:59 | StdReturn                    54.3739\n",
            "2019-02-16 20:55:59 | Time                        560.295\n",
            "2019-02-16 20:55:59 | policy/Entropy                0.0933734\n",
            "2019-02-16 20:55:59 | policy/KL                     0.0076966\n",
            "2019-02-16 20:55:59 | policy/KLBefore               0\n",
            "2019-02-16 20:55:59 | policy/LossAfter             -0.0256887\n",
            "2019-02-16 20:55:59 | policy/LossBefore            -1.15878e-09\n",
            "2019-02-16 20:55:59 | policy/dLoss                  0.0256887\n",
            "2019-02-16 20:55:59 | --------------------------  -------------\n",
            "2019-02-16 20:55:59 | itr #109 | Obtaining samples...\n",
            "2019-02-16 20:55:59 | itr #109 | Obtaining samples for iteration 109...\n"
          ],
          "name": "stdout"
        },
        {
          "output_type": "stream",
          "text": [
            "0% [##############################] 100% | ETA: 00:00:00"
          ],
          "name": "stderr"
        },
        {
          "output_type": "stream",
          "text": [
            "2019-02-16 20:56:03 | itr #109 | Processing samples...\n",
            "2019-02-16 20:56:03 | itr #109 | Logging diagnostics...\n",
            "2019-02-16 20:56:03 | itr #109 | Optimizing policy...\n",
            "2019-02-16 20:56:03 | itr #109 | Computing loss before\n",
            "2019-02-16 20:56:03 | itr #109 | Computing KL before\n",
            "2019-02-16 20:56:03 | itr #109 | Optimizing\n",
            "2019-02-16 20:56:03 | itr #109 | Start CG optimization: #parameters: 10528, #inputs: 133, #subsample_inputs: 133\n",
            "2019-02-16 20:56:03 | itr #109 | computing loss before\n",
            "2019-02-16 20:56:03 | itr #109 | performing update\n",
            "2019-02-16 20:56:03 | itr #109 | computing gradient\n",
            "2019-02-16 20:56:03 | itr #109 | gradient computed\n",
            "2019-02-16 20:56:03 | itr #109 | computing descent direction\n"
          ],
          "name": "stdout"
        },
        {
          "output_type": "stream",
          "text": [
            "\n",
            "Total time elapsed: 00:00:04\n"
          ],
          "name": "stderr"
        },
        {
          "output_type": "stream",
          "text": [
            "2019-02-16 20:56:04 | itr #109 | descent direction computed\n",
            "2019-02-16 20:56:04 | itr #109 | backtrack iters: 0\n",
            "2019-02-16 20:56:04 | itr #109 | computing loss after\n",
            "2019-02-16 20:56:04 | itr #109 | optimization finished\n",
            "2019-02-16 20:56:04 | itr #109 | Computing KL after\n",
            "2019-02-16 20:56:04 | itr #109 | Computing loss after\n",
            "2019-02-16 20:56:04 | itr #109 | Fitting baseline...\n",
            "2019-02-16 20:56:04 | itr #109 | Saving snapshot...\n",
            "2019-02-16 20:56:04 | itr #109 | Saved\n",
            "2019-02-16 20:56:04 | --------------------------  -------------\n",
            "2019-02-16 20:56:04 | AverageDiscountedReturn      50.8287\n",
            "2019-02-16 20:56:04 | AverageReturn                53.8647\n",
            "2019-02-16 20:56:04 | Baseline/ExplainedVariance    0.657428\n",
            "2019-02-16 20:56:04 | Entropy                       3.18569\n",
            "2019-02-16 20:56:04 | EnvExecTime                   0.766367\n",
            "2019-02-16 20:56:04 | Iteration                   109\n",
            "2019-02-16 20:56:04 | ItrTime                       4.65283\n",
            "2019-02-16 20:56:04 | MaxReturn                   110\n",
            "2019-02-16 20:56:04 | MinReturn                   -55\n",
            "2019-02-16 20:56:04 | NumTrajs                    133\n",
            "2019-02-16 20:56:04 | Perplexity                   24.1839\n",
            "2019-02-16 20:56:04 | PolicyExecTime                3.45074\n",
            "2019-02-16 20:56:04 | ProcessExecTime               0.0390043\n",
            "2019-02-16 20:56:04 | StdReturn                    53.4951\n",
            "2019-02-16 20:56:04 | Time                        564.998\n",
            "2019-02-16 20:56:04 | policy/Entropy                0.0917152\n",
            "2019-02-16 20:56:04 | policy/KL                     0.00868046\n",
            "2019-02-16 20:56:04 | policy/KLBefore               0\n",
            "2019-02-16 20:56:04 | policy/LossAfter             -0.0264727\n",
            "2019-02-16 20:56:04 | policy/LossBefore             3.79289e-09\n",
            "2019-02-16 20:56:04 | policy/dLoss                  0.0264727\n",
            "2019-02-16 20:56:04 | --------------------------  -------------\n",
            "2019-02-16 20:56:04 | itr #110 | Obtaining samples...\n",
            "2019-02-16 20:56:04 | itr #110 | Obtaining samples for iteration 110...\n"
          ],
          "name": "stdout"
        },
        {
          "output_type": "stream",
          "text": [
            "0% [##############################] 100% | ETA: 00:00:00"
          ],
          "name": "stderr"
        },
        {
          "output_type": "stream",
          "text": [
            "2019-02-16 20:56:08 | itr #110 | Processing samples...\n",
            "2019-02-16 20:56:08 | itr #110 | Logging diagnostics...\n",
            "2019-02-16 20:56:08 | itr #110 | Optimizing policy...\n",
            "2019-02-16 20:56:08 | itr #110 | Computing loss before\n",
            "2019-02-16 20:56:08 | itr #110 | Computing KL before\n",
            "2019-02-16 20:56:08 | itr #110 | Optimizing\n",
            "2019-02-16 20:56:08 | itr #110 | Start CG optimization: #parameters: 10528, #inputs: 141, #subsample_inputs: 141\n",
            "2019-02-16 20:56:08 | itr #110 | computing loss before\n",
            "2019-02-16 20:56:08 | itr #110 | performing update\n",
            "2019-02-16 20:56:08 | itr #110 | computing gradient\n",
            "2019-02-16 20:56:08 | itr #110 | gradient computed\n",
            "2019-02-16 20:56:08 | itr #110 | computing descent direction\n"
          ],
          "name": "stdout"
        },
        {
          "output_type": "stream",
          "text": [
            "\n",
            "Total time elapsed: 00:00:04\n"
          ],
          "name": "stderr"
        },
        {
          "output_type": "stream",
          "text": [
            "2019-02-16 20:56:08 | itr #110 | descent direction computed\n",
            "2019-02-16 20:56:08 | itr #110 | backtrack iters: 1\n",
            "2019-02-16 20:56:08 | itr #110 | computing loss after\n",
            "2019-02-16 20:56:08 | itr #110 | optimization finished\n",
            "2019-02-16 20:56:08 | itr #110 | Computing KL after\n",
            "2019-02-16 20:56:08 | itr #110 | Computing loss after\n",
            "2019-02-16 20:56:08 | itr #110 | Fitting baseline...\n",
            "2019-02-16 20:56:08 | itr #110 | Saving snapshot...\n",
            "2019-02-16 20:56:08 | itr #110 | Saved\n",
            "2019-02-16 20:56:08 | --------------------------  -------------\n",
            "2019-02-16 20:56:08 | AverageDiscountedReturn      57.3596\n",
            "2019-02-16 20:56:08 | AverageReturn                61.6525\n",
            "2019-02-16 20:56:08 | Baseline/ExplainedVariance    0.719139\n",
            "2019-02-16 20:56:08 | Entropy                       3.15603\n",
            "2019-02-16 20:56:08 | EnvExecTime                   0.787731\n",
            "2019-02-16 20:56:08 | Iteration                   110\n",
            "2019-02-16 20:56:08 | ItrTime                       4.78294\n",
            "2019-02-16 20:56:08 | MaxReturn                   110\n",
            "2019-02-16 20:56:08 | MinReturn                   -65\n",
            "2019-02-16 20:56:08 | NumTrajs                    141\n",
            "2019-02-16 20:56:08 | Perplexity                   23.4772\n",
            "2019-02-16 20:56:08 | PolicyExecTime                3.52309\n",
            "2019-02-16 20:56:08 | ProcessExecTime               0.0401335\n",
            "2019-02-16 20:56:08 | StdReturn                    53.9627\n",
            "2019-02-16 20:56:08 | Time                        569.838\n",
            "2019-02-16 20:56:08 | policy/Entropy                0.0873535\n",
            "2019-02-16 20:56:08 | policy/KL                     0.0081807\n",
            "2019-02-16 20:56:08 | policy/KLBefore               0\n",
            "2019-02-16 20:56:08 | policy/LossAfter             -0.0196855\n",
            "2019-02-16 20:56:08 | policy/LossBefore            -7.90252e-09\n",
            "2019-02-16 20:56:08 | policy/dLoss                  0.0196855\n",
            "2019-02-16 20:56:08 | --------------------------  -------------\n",
            "2019-02-16 20:56:08 | itr #111 | Obtaining samples...\n",
            "2019-02-16 20:56:08 | itr #111 | Obtaining samples for iteration 111...\n"
          ],
          "name": "stdout"
        },
        {
          "output_type": "stream",
          "text": [
            "0% [##############################] 100% | ETA: 00:00:00"
          ],
          "name": "stderr"
        },
        {
          "output_type": "stream",
          "text": [
            "2019-02-16 20:56:13 | itr #111 | Processing samples...\n",
            "2019-02-16 20:56:13 | itr #111 | Logging diagnostics...\n",
            "2019-02-16 20:56:13 | itr #111 | Optimizing policy...\n",
            "2019-02-16 20:56:13 | itr #111 | Computing loss before\n",
            "2019-02-16 20:56:13 | itr #111 | Computing KL before\n",
            "2019-02-16 20:56:13 | itr #111 | Optimizing\n",
            "2019-02-16 20:56:13 | itr #111 | Start CG optimization: #parameters: 10528, #inputs: 135, #subsample_inputs: 135\n",
            "2019-02-16 20:56:13 | itr #111 | computing loss before\n",
            "2019-02-16 20:56:13 | itr #111 | performing update\n",
            "2019-02-16 20:56:13 | itr #111 | computing gradient\n",
            "2019-02-16 20:56:13 | itr #111 | gradient computed\n",
            "2019-02-16 20:56:13 | itr #111 | computing descent direction\n"
          ],
          "name": "stdout"
        },
        {
          "output_type": "stream",
          "text": [
            "\n",
            "Total time elapsed: 00:00:04\n"
          ],
          "name": "stderr"
        },
        {
          "output_type": "stream",
          "text": [
            "2019-02-16 20:56:13 | itr #111 | descent direction computed\n",
            "2019-02-16 20:56:13 | itr #111 | backtrack iters: 1\n",
            "2019-02-16 20:56:13 | itr #111 | computing loss after\n",
            "2019-02-16 20:56:13 | itr #111 | optimization finished\n",
            "2019-02-16 20:56:13 | itr #111 | Computing KL after\n",
            "2019-02-16 20:56:13 | itr #111 | Computing loss after\n",
            "2019-02-16 20:56:13 | itr #111 | Fitting baseline...\n",
            "2019-02-16 20:56:13 | itr #111 | Saving snapshot...\n",
            "2019-02-16 20:56:13 | itr #111 | Saved\n",
            "2019-02-16 20:56:13 | --------------------------  -------------\n",
            "2019-02-16 20:56:13 | AverageDiscountedReturn      49.8054\n",
            "2019-02-16 20:56:13 | AverageReturn                53.1481\n",
            "2019-02-16 20:56:13 | Baseline/ExplainedVariance    0.650359\n",
            "2019-02-16 20:56:13 | Entropy                       3.18108\n",
            "2019-02-16 20:56:13 | EnvExecTime                   0.792846\n",
            "2019-02-16 20:56:13 | Iteration                   111\n",
            "2019-02-16 20:56:13 | ItrTime                       4.8169\n",
            "2019-02-16 20:56:13 | MaxReturn                   110\n",
            "2019-02-16 20:56:13 | MinReturn                   -61\n",
            "2019-02-16 20:56:13 | NumTrajs                    135\n",
            "2019-02-16 20:56:13 | Perplexity                   24.0728\n",
            "2019-02-16 20:56:13 | PolicyExecTime                3.55966\n",
            "2019-02-16 20:56:13 | ProcessExecTime               0.0401042\n",
            "2019-02-16 20:56:13 | StdReturn                    55.794\n",
            "2019-02-16 20:56:13 | Time                        574.689\n",
            "2019-02-16 20:56:13 | policy/Entropy                0.096082\n",
            "2019-02-16 20:56:13 | policy/KL                     0.00694021\n",
            "2019-02-16 20:56:13 | policy/KLBefore               0\n",
            "2019-02-16 20:56:13 | policy/LossAfter             -0.0231403\n",
            "2019-02-16 20:56:13 | policy/LossBefore            -7.69373e-09\n",
            "2019-02-16 20:56:13 | policy/dLoss                  0.0231403\n",
            "2019-02-16 20:56:13 | --------------------------  -------------\n",
            "2019-02-16 20:56:13 | itr #112 | Obtaining samples...\n",
            "2019-02-16 20:56:13 | itr #112 | Obtaining samples for iteration 112...\n"
          ],
          "name": "stdout"
        },
        {
          "output_type": "stream",
          "text": [
            "0% [##############################] 100% | ETA: 00:00:00"
          ],
          "name": "stderr"
        },
        {
          "output_type": "stream",
          "text": [
            "2019-02-16 20:56:18 | itr #112 | Processing samples...\n",
            "2019-02-16 20:56:18 | itr #112 | Logging diagnostics...\n",
            "2019-02-16 20:56:18 | itr #112 | Optimizing policy...\n",
            "2019-02-16 20:56:18 | itr #112 | Computing loss before\n",
            "2019-02-16 20:56:18 | itr #112 | Computing KL before\n",
            "2019-02-16 20:56:18 | itr #112 | Optimizing\n",
            "2019-02-16 20:56:18 | itr #112 | Start CG optimization: #parameters: 10528, #inputs: 132, #subsample_inputs: 132\n",
            "2019-02-16 20:56:18 | itr #112 | computing loss before\n",
            "2019-02-16 20:56:18 | itr #112 | performing update\n",
            "2019-02-16 20:56:18 | itr #112 | computing gradient\n",
            "2019-02-16 20:56:18 | itr #112 | gradient computed\n",
            "2019-02-16 20:56:18 | itr #112 | computing descent direction\n"
          ],
          "name": "stdout"
        },
        {
          "output_type": "stream",
          "text": [
            "\n",
            "Total time elapsed: 00:00:04\n"
          ],
          "name": "stderr"
        },
        {
          "output_type": "stream",
          "text": [
            "2019-02-16 20:56:18 | itr #112 | descent direction computed\n",
            "2019-02-16 20:56:18 | itr #112 | backtrack iters: 0\n",
            "2019-02-16 20:56:18 | itr #112 | computing loss after\n",
            "2019-02-16 20:56:18 | itr #112 | optimization finished\n",
            "2019-02-16 20:56:18 | itr #112 | Computing KL after\n",
            "2019-02-16 20:56:18 | itr #112 | Computing loss after\n",
            "2019-02-16 20:56:18 | itr #112 | Fitting baseline...\n",
            "2019-02-16 20:56:18 | itr #112 | Saving snapshot...\n",
            "2019-02-16 20:56:18 | itr #112 | Saved\n",
            "2019-02-16 20:56:18 | --------------------------  -------------\n",
            "2019-02-16 20:56:18 | AverageDiscountedReturn      50.6296\n",
            "2019-02-16 20:56:18 | AverageReturn                53.9167\n",
            "2019-02-16 20:56:18 | Baseline/ExplainedVariance    0.653633\n",
            "2019-02-16 20:56:18 | Entropy                       3.17682\n",
            "2019-02-16 20:56:18 | EnvExecTime                   0.783946\n",
            "2019-02-16 20:56:18 | Iteration                   112\n",
            "2019-02-16 20:56:18 | ItrTime                       4.81138\n",
            "2019-02-16 20:56:18 | MaxReturn                   110\n",
            "2019-02-16 20:56:18 | MinReturn                   -44\n",
            "2019-02-16 20:56:18 | NumTrajs                    132\n",
            "2019-02-16 20:56:18 | Perplexity                   23.9703\n",
            "2019-02-16 20:56:18 | PolicyExecTime                3.58416\n",
            "2019-02-16 20:56:18 | ProcessExecTime               0.0395169\n",
            "2019-02-16 20:56:18 | StdReturn                    51.8703\n",
            "2019-02-16 20:56:18 | Time                        579.546\n",
            "2019-02-16 20:56:18 | policy/Entropy                0.0921984\n",
            "2019-02-16 20:56:18 | policy/KL                     0.00770253\n",
            "2019-02-16 20:56:18 | policy/KLBefore               0\n",
            "2019-02-16 20:56:18 | policy/LossAfter             -0.0245578\n",
            "2019-02-16 20:56:18 | policy/LossBefore             1.69794e-08\n",
            "2019-02-16 20:56:18 | policy/dLoss                  0.0245578\n",
            "2019-02-16 20:56:18 | --------------------------  -------------\n",
            "2019-02-16 20:56:18 | itr #113 | Obtaining samples...\n",
            "2019-02-16 20:56:18 | itr #113 | Obtaining samples for iteration 113...\n"
          ],
          "name": "stdout"
        },
        {
          "output_type": "stream",
          "text": [
            "0% [##############################] 100% | ETA: 00:00:00"
          ],
          "name": "stderr"
        },
        {
          "output_type": "stream",
          "text": [
            "2019-02-16 20:56:23 | itr #113 | Processing samples...\n",
            "2019-02-16 20:56:23 | itr #113 | Logging diagnostics...\n",
            "2019-02-16 20:56:23 | itr #113 | Optimizing policy...\n",
            "2019-02-16 20:56:23 | itr #113 | Computing loss before\n",
            "2019-02-16 20:56:23 | itr #113 | Computing KL before\n",
            "2019-02-16 20:56:23 | itr #113 | Optimizing\n",
            "2019-02-16 20:56:23 | itr #113 | Start CG optimization: #parameters: 10528, #inputs: 131, #subsample_inputs: 131\n",
            "2019-02-16 20:56:23 | itr #113 | computing loss before\n",
            "2019-02-16 20:56:23 | itr #113 | performing update\n",
            "2019-02-16 20:56:23 | itr #113 | computing gradient\n",
            "2019-02-16 20:56:23 | itr #113 | gradient computed\n",
            "2019-02-16 20:56:23 | itr #113 | computing descent direction\n"
          ],
          "name": "stdout"
        },
        {
          "output_type": "stream",
          "text": [
            "\n",
            "Total time elapsed: 00:00:04\n"
          ],
          "name": "stderr"
        },
        {
          "output_type": "stream",
          "text": [
            "2019-02-16 20:56:23 | itr #113 | descent direction computed\n",
            "2019-02-16 20:56:23 | itr #113 | backtrack iters: 1\n",
            "2019-02-16 20:56:23 | itr #113 | computing loss after\n",
            "2019-02-16 20:56:23 | itr #113 | optimization finished\n",
            "2019-02-16 20:56:23 | itr #113 | Computing KL after\n",
            "2019-02-16 20:56:23 | itr #113 | Computing loss after\n",
            "2019-02-16 20:56:23 | itr #113 | Fitting baseline...\n",
            "2019-02-16 20:56:23 | itr #113 | Saving snapshot...\n",
            "2019-02-16 20:56:23 | itr #113 | Saved\n",
            "2019-02-16 20:56:23 | --------------------------  -------------\n",
            "2019-02-16 20:56:23 | AverageDiscountedReturn      44.9104\n",
            "2019-02-16 20:56:23 | AverageReturn                47.374\n",
            "2019-02-16 20:56:23 | Baseline/ExplainedVariance    0.534091\n",
            "2019-02-16 20:56:23 | Entropy                       3.13783\n",
            "2019-02-16 20:56:23 | EnvExecTime                   0.765897\n",
            "2019-02-16 20:56:23 | Iteration                   113\n",
            "2019-02-16 20:56:23 | ItrTime                       4.7118\n",
            "2019-02-16 20:56:23 | MaxReturn                   110\n",
            "2019-02-16 20:56:23 | MinReturn                   -47\n",
            "2019-02-16 20:56:23 | NumTrajs                    131\n",
            "2019-02-16 20:56:23 | Perplexity                   23.0538\n",
            "2019-02-16 20:56:23 | PolicyExecTime                3.49194\n",
            "2019-02-16 20:56:23 | ProcessExecTime               0.0381615\n",
            "2019-02-16 20:56:23 | StdReturn                    55.3177\n",
            "2019-02-16 20:56:23 | Time                        584.326\n",
            "2019-02-16 20:56:23 | policy/Entropy                0.0972931\n",
            "2019-02-16 20:56:23 | policy/KL                     0.00783418\n",
            "2019-02-16 20:56:23 | policy/KLBefore               0\n",
            "2019-02-16 20:56:23 | policy/LossAfter             -0.0229777\n",
            "2019-02-16 20:56:23 | policy/LossBefore             1.09181e-08\n",
            "2019-02-16 20:56:23 | policy/dLoss                  0.0229777\n",
            "2019-02-16 20:56:23 | --------------------------  -------------\n",
            "2019-02-16 20:56:23 | itr #114 | Obtaining samples...\n",
            "2019-02-16 20:56:23 | itr #114 | Obtaining samples for iteration 114...\n"
          ],
          "name": "stdout"
        },
        {
          "output_type": "stream",
          "text": [
            "0% [##############################] 100% | ETA: 00:00:00"
          ],
          "name": "stderr"
        },
        {
          "output_type": "stream",
          "text": [
            "2019-02-16 20:56:27 | itr #114 | Processing samples...\n",
            "2019-02-16 20:56:27 | itr #114 | Logging diagnostics...\n",
            "2019-02-16 20:56:27 | itr #114 | Optimizing policy...\n",
            "2019-02-16 20:56:28 | itr #114 | Computing loss before\n",
            "2019-02-16 20:56:28 | itr #114 | Computing KL before\n",
            "2019-02-16 20:56:28 | itr #114 | Optimizing\n",
            "2019-02-16 20:56:28 | itr #114 | Start CG optimization: #parameters: 10528, #inputs: 130, #subsample_inputs: 130\n",
            "2019-02-16 20:56:28 | itr #114 | computing loss before\n",
            "2019-02-16 20:56:28 | itr #114 | performing update\n",
            "2019-02-16 20:56:28 | itr #114 | computing gradient\n",
            "2019-02-16 20:56:28 | itr #114 | gradient computed\n",
            "2019-02-16 20:56:28 | itr #114 | computing descent direction\n"
          ],
          "name": "stdout"
        },
        {
          "output_type": "stream",
          "text": [
            "\n",
            "Total time elapsed: 00:00:04\n"
          ],
          "name": "stderr"
        },
        {
          "output_type": "stream",
          "text": [
            "2019-02-16 20:56:28 | itr #114 | descent direction computed\n",
            "2019-02-16 20:56:28 | itr #114 | backtrack iters: 1\n",
            "2019-02-16 20:56:28 | itr #114 | computing loss after\n",
            "2019-02-16 20:56:28 | itr #114 | optimization finished\n",
            "2019-02-16 20:56:28 | itr #114 | Computing KL after\n",
            "2019-02-16 20:56:28 | itr #114 | Computing loss after\n",
            "2019-02-16 20:56:28 | itr #114 | Fitting baseline...\n",
            "2019-02-16 20:56:28 | itr #114 | Saving snapshot...\n",
            "2019-02-16 20:56:28 | itr #114 | Saved\n",
            "2019-02-16 20:56:28 | --------------------------  -------------\n",
            "2019-02-16 20:56:28 | AverageDiscountedReturn      44.345\n",
            "2019-02-16 20:56:28 | AverageReturn                47.1154\n",
            "2019-02-16 20:56:28 | Baseline/ExplainedVariance    0.596751\n",
            "2019-02-16 20:56:28 | Entropy                       3.14769\n",
            "2019-02-16 20:56:28 | EnvExecTime                   0.777633\n",
            "2019-02-16 20:56:28 | Iteration                   114\n",
            "2019-02-16 20:56:28 | ItrTime                       4.89281\n",
            "2019-02-16 20:56:28 | MaxReturn                   110\n",
            "2019-02-16 20:56:28 | MinReturn                   -54\n",
            "2019-02-16 20:56:28 | NumTrajs                    130\n",
            "2019-02-16 20:56:28 | Perplexity                   23.2821\n",
            "2019-02-16 20:56:28 | PolicyExecTime                3.66291\n",
            "2019-02-16 20:56:28 | ProcessExecTime               0.0378861\n",
            "2019-02-16 20:56:28 | StdReturn                    53.8939\n",
            "2019-02-16 20:56:28 | Time                        589.247\n",
            "2019-02-16 20:56:28 | policy/Entropy                0.0976945\n",
            "2019-02-16 20:56:28 | policy/KL                     0.00692486\n",
            "2019-02-16 20:56:28 | policy/KLBefore               0\n",
            "2019-02-16 20:56:28 | policy/LossAfter             -0.0182478\n",
            "2019-02-16 20:56:28 | policy/LossBefore             6.98663e-09\n",
            "2019-02-16 20:56:28 | policy/dLoss                  0.0182478\n",
            "2019-02-16 20:56:28 | --------------------------  -------------\n",
            "2019-02-16 20:56:28 | itr #115 | Obtaining samples...\n",
            "2019-02-16 20:56:28 | itr #115 | Obtaining samples for iteration 115...\n"
          ],
          "name": "stdout"
        },
        {
          "output_type": "stream",
          "text": [
            "0% [##############################] 100% | ETA: 00:00:00"
          ],
          "name": "stderr"
        },
        {
          "output_type": "stream",
          "text": [
            "2019-02-16 20:56:32 | itr #115 | Processing samples...\n",
            "2019-02-16 20:56:32 | itr #115 | Logging diagnostics...\n",
            "2019-02-16 20:56:32 | itr #115 | Optimizing policy...\n",
            "2019-02-16 20:56:32 | itr #115 | Computing loss before\n",
            "2019-02-16 20:56:32 | itr #115 | Computing KL before\n",
            "2019-02-16 20:56:32 | itr #115 | Optimizing\n",
            "2019-02-16 20:56:32 | itr #115 | Start CG optimization: #parameters: 10528, #inputs: 132, #subsample_inputs: 132\n",
            "2019-02-16 20:56:32 | itr #115 | computing loss before\n",
            "2019-02-16 20:56:32 | itr #115 | performing update\n",
            "2019-02-16 20:56:32 | itr #115 | computing gradient\n",
            "2019-02-16 20:56:32 | itr #115 | gradient computed\n",
            "2019-02-16 20:56:32 | itr #115 | computing descent direction\n"
          ],
          "name": "stdout"
        },
        {
          "output_type": "stream",
          "text": [
            "\n",
            "Total time elapsed: 00:00:04\n"
          ],
          "name": "stderr"
        },
        {
          "output_type": "stream",
          "text": [
            "2019-02-16 20:56:33 | itr #115 | descent direction computed\n",
            "2019-02-16 20:56:33 | itr #115 | backtrack iters: 1\n",
            "2019-02-16 20:56:33 | itr #115 | computing loss after\n",
            "2019-02-16 20:56:33 | itr #115 | optimization finished\n",
            "2019-02-16 20:56:33 | itr #115 | Computing KL after\n",
            "2019-02-16 20:56:33 | itr #115 | Computing loss after\n",
            "2019-02-16 20:56:33 | itr #115 | Fitting baseline...\n",
            "2019-02-16 20:56:33 | itr #115 | Saving snapshot...\n",
            "2019-02-16 20:56:33 | itr #115 | Saved\n",
            "2019-02-16 20:56:33 | --------------------------  -------------\n",
            "2019-02-16 20:56:33 | AverageDiscountedReturn      52.1661\n",
            "2019-02-16 20:56:33 | AverageReturn                55.5909\n",
            "2019-02-16 20:56:33 | Baseline/ExplainedVariance    0.640071\n",
            "2019-02-16 20:56:33 | Entropy                       3.07288\n",
            "2019-02-16 20:56:33 | EnvExecTime                   0.796337\n",
            "2019-02-16 20:56:33 | Iteration                   115\n",
            "2019-02-16 20:56:33 | ItrTime                       4.84449\n",
            "2019-02-16 20:56:33 | MaxReturn                   110\n",
            "2019-02-16 20:56:33 | MinReturn                   -42\n",
            "2019-02-16 20:56:33 | NumTrajs                    132\n",
            "2019-02-16 20:56:33 | Perplexity                   21.6041\n",
            "2019-02-16 20:56:33 | PolicyExecTime                3.60231\n",
            "2019-02-16 20:56:33 | ProcessExecTime               0.0391181\n",
            "2019-02-16 20:56:33 | StdReturn                    52.0994\n",
            "2019-02-16 20:56:33 | Time                        594.125\n",
            "2019-02-16 20:56:33 | policy/Entropy                0.103104\n",
            "2019-02-16 20:56:33 | policy/KL                     0.00935099\n",
            "2019-02-16 20:56:33 | policy/KLBefore               0\n",
            "2019-02-16 20:56:33 | policy/LossAfter             -0.0211476\n",
            "2019-02-16 20:56:33 | policy/LossBefore            -2.05192e-08\n",
            "2019-02-16 20:56:33 | policy/dLoss                  0.0211476\n",
            "2019-02-16 20:56:33 | --------------------------  -------------\n",
            "2019-02-16 20:56:33 | itr #116 | Obtaining samples...\n",
            "2019-02-16 20:56:33 | itr #116 | Obtaining samples for iteration 116...\n"
          ],
          "name": "stdout"
        },
        {
          "output_type": "stream",
          "text": [
            "0% [##############################] 100% | ETA: 00:00:00"
          ],
          "name": "stderr"
        },
        {
          "output_type": "stream",
          "text": [
            "2019-02-16 20:56:37 | itr #116 | Processing samples...\n",
            "2019-02-16 20:56:37 | itr #116 | Logging diagnostics...\n",
            "2019-02-16 20:56:37 | itr #116 | Optimizing policy...\n",
            "2019-02-16 20:56:37 | itr #116 | Computing loss before\n",
            "2019-02-16 20:56:37 | itr #116 | Computing KL before\n",
            "2019-02-16 20:56:37 | itr #116 | Optimizing\n",
            "2019-02-16 20:56:37 | itr #116 | Start CG optimization: #parameters: 10528, #inputs: 130, #subsample_inputs: 130\n",
            "2019-02-16 20:56:37 | itr #116 | computing loss before\n",
            "2019-02-16 20:56:37 | itr #116 | performing update\n",
            "2019-02-16 20:56:37 | itr #116 | computing gradient\n",
            "2019-02-16 20:56:38 | itr #116 | gradient computed\n",
            "2019-02-16 20:56:38 | itr #116 | computing descent direction\n"
          ],
          "name": "stdout"
        },
        {
          "output_type": "stream",
          "text": [
            "\n",
            "Total time elapsed: 00:00:04\n"
          ],
          "name": "stderr"
        },
        {
          "output_type": "stream",
          "text": [
            "2019-02-16 20:56:38 | itr #116 | descent direction computed\n",
            "2019-02-16 20:56:38 | itr #116 | backtrack iters: 0\n",
            "2019-02-16 20:56:38 | itr #116 | computing loss after\n",
            "2019-02-16 20:56:38 | itr #116 | optimization finished\n",
            "2019-02-16 20:56:38 | itr #116 | Computing KL after\n",
            "2019-02-16 20:56:38 | itr #116 | Computing loss after\n",
            "2019-02-16 20:56:38 | itr #116 | Fitting baseline...\n",
            "2019-02-16 20:56:38 | itr #116 | Saving snapshot...\n",
            "2019-02-16 20:56:38 | itr #116 | Saved\n",
            "2019-02-16 20:56:38 | --------------------------  -------------\n",
            "2019-02-16 20:56:38 | AverageDiscountedReturn      49.9637\n",
            "2019-02-16 20:56:38 | AverageReturn                53.3923\n",
            "2019-02-16 20:56:38 | Baseline/ExplainedVariance    0.611355\n",
            "2019-02-16 20:56:38 | Entropy                       3.07331\n",
            "2019-02-16 20:56:38 | EnvExecTime                   0.809432\n",
            "2019-02-16 20:56:38 | Iteration                   116\n",
            "2019-02-16 20:56:38 | ItrTime                       5.01911\n",
            "2019-02-16 20:56:38 | MaxReturn                   110\n",
            "2019-02-16 20:56:38 | MinReturn                   -50\n",
            "2019-02-16 20:56:38 | NumTrajs                    130\n",
            "2019-02-16 20:56:38 | Perplexity                   21.6133\n",
            "2019-02-16 20:56:38 | PolicyExecTime                3.76789\n",
            "2019-02-16 20:56:38 | ProcessExecTime               0.0387633\n",
            "2019-02-16 20:56:38 | StdReturn                    53.4655\n",
            "2019-02-16 20:56:38 | Time                        599.177\n",
            "2019-02-16 20:56:38 | policy/Entropy                0.10836\n",
            "2019-02-16 20:56:38 | policy/KL                     0.00724442\n",
            "2019-02-16 20:56:38 | policy/KLBefore               0\n",
            "2019-02-16 20:56:38 | policy/LossAfter             -0.0218234\n",
            "2019-02-16 20:56:38 | policy/LossBefore             3.78912e-09\n",
            "2019-02-16 20:56:38 | policy/dLoss                  0.0218234\n",
            "2019-02-16 20:56:38 | --------------------------  -------------\n",
            "2019-02-16 20:56:38 | itr #117 | Obtaining samples...\n",
            "2019-02-16 20:56:38 | itr #117 | Obtaining samples for iteration 117...\n"
          ],
          "name": "stdout"
        },
        {
          "output_type": "stream",
          "text": [
            "0% [##############################] 100% | ETA: 00:00:00"
          ],
          "name": "stderr"
        },
        {
          "output_type": "stream",
          "text": [
            "2019-02-16 20:56:42 | itr #117 | Processing samples...\n",
            "2019-02-16 20:56:42 | itr #117 | Logging diagnostics...\n",
            "2019-02-16 20:56:42 | itr #117 | Optimizing policy...\n",
            "2019-02-16 20:56:42 | itr #117 | Computing loss before\n",
            "2019-02-16 20:56:42 | itr #117 | Computing KL before\n",
            "2019-02-16 20:56:42 | itr #117 | Optimizing\n",
            "2019-02-16 20:56:42 | itr #117 | Start CG optimization: #parameters: 10528, #inputs: 130, #subsample_inputs: 130\n",
            "2019-02-16 20:56:42 | itr #117 | computing loss before\n",
            "2019-02-16 20:56:42 | itr #117 | performing update\n",
            "2019-02-16 20:56:42 | itr #117 | computing gradient\n",
            "2019-02-16 20:56:42 | itr #117 | gradient computed\n",
            "2019-02-16 20:56:42 | itr #117 | computing descent direction\n"
          ],
          "name": "stdout"
        },
        {
          "output_type": "stream",
          "text": [
            "\n",
            "Total time elapsed: 00:00:04\n"
          ],
          "name": "stderr"
        },
        {
          "output_type": "stream",
          "text": [
            "2019-02-16 20:56:42 | itr #117 | descent direction computed\n",
            "2019-02-16 20:56:43 | itr #117 | backtrack iters: 1\n",
            "2019-02-16 20:56:43 | itr #117 | computing loss after\n",
            "2019-02-16 20:56:43 | itr #117 | optimization finished\n",
            "2019-02-16 20:56:43 | itr #117 | Computing KL after\n",
            "2019-02-16 20:56:43 | itr #117 | Computing loss after\n",
            "2019-02-16 20:56:43 | itr #117 | Fitting baseline...\n",
            "2019-02-16 20:56:43 | itr #117 | Saving snapshot...\n",
            "2019-02-16 20:56:43 | itr #117 | Saved\n",
            "2019-02-16 20:56:43 | --------------------------  -------------\n",
            "2019-02-16 20:56:43 | AverageDiscountedReturn      43.4651\n",
            "2019-02-16 20:56:43 | AverageReturn                45.6615\n",
            "2019-02-16 20:56:43 | Baseline/ExplainedVariance    0.530016\n",
            "2019-02-16 20:56:43 | Entropy                       3.02358\n",
            "2019-02-16 20:56:43 | EnvExecTime                   0.779095\n",
            "2019-02-16 20:56:43 | Iteration                   117\n",
            "2019-02-16 20:56:43 | ItrTime                       4.75784\n",
            "2019-02-16 20:56:43 | MaxReturn                   110\n",
            "2019-02-16 20:56:43 | MinReturn                   -51\n",
            "2019-02-16 20:56:43 | NumTrajs                    130\n",
            "2019-02-16 20:56:43 | Perplexity                   20.5648\n",
            "2019-02-16 20:56:43 | PolicyExecTime                3.54193\n",
            "2019-02-16 20:56:43 | ProcessExecTime               0.0386057\n",
            "2019-02-16 20:56:43 | StdReturn                    56.1312\n",
            "2019-02-16 20:56:43 | Time                        603.991\n",
            "2019-02-16 20:56:43 | policy/Entropy                0.105989\n",
            "2019-02-16 20:56:43 | policy/KL                     0.00770734\n",
            "2019-02-16 20:56:43 | policy/KLBefore               0\n",
            "2019-02-16 20:56:43 | policy/LossAfter             -0.0219584\n",
            "2019-02-16 20:56:43 | policy/LossBefore            -9.51533e-10\n",
            "2019-02-16 20:56:43 | policy/dLoss                  0.0219584\n",
            "2019-02-16 20:56:43 | --------------------------  -------------\n",
            "2019-02-16 20:56:43 | itr #118 | Obtaining samples...\n",
            "2019-02-16 20:56:43 | itr #118 | Obtaining samples for iteration 118...\n"
          ],
          "name": "stdout"
        },
        {
          "output_type": "stream",
          "text": [
            "0% [##############################] 100% | ETA: 00:00:00"
          ],
          "name": "stderr"
        },
        {
          "output_type": "stream",
          "text": [
            "2019-02-16 20:56:47 | itr #118 | Processing samples...\n",
            "2019-02-16 20:56:47 | itr #118 | Logging diagnostics...\n",
            "2019-02-16 20:56:47 | itr #118 | Optimizing policy...\n",
            "2019-02-16 20:56:47 | itr #118 | Computing loss before\n",
            "2019-02-16 20:56:47 | itr #118 | Computing KL before\n",
            "2019-02-16 20:56:47 | itr #118 | Optimizing\n",
            "2019-02-16 20:56:47 | itr #118 | Start CG optimization: #parameters: 10528, #inputs: 137, #subsample_inputs: 137\n",
            "2019-02-16 20:56:47 | itr #118 | computing loss before\n",
            "2019-02-16 20:56:47 | itr #118 | performing update\n",
            "2019-02-16 20:56:47 | itr #118 | computing gradient\n",
            "2019-02-16 20:56:47 | itr #118 | gradient computed\n",
            "2019-02-16 20:56:47 | itr #118 | computing descent direction\n"
          ],
          "name": "stdout"
        },
        {
          "output_type": "stream",
          "text": [
            "\n",
            "Total time elapsed: 00:00:04\n"
          ],
          "name": "stderr"
        },
        {
          "output_type": "stream",
          "text": [
            "2019-02-16 20:56:47 | itr #118 | descent direction computed\n",
            "2019-02-16 20:56:47 | itr #118 | backtrack iters: 0\n",
            "2019-02-16 20:56:47 | itr #118 | computing loss after\n",
            "2019-02-16 20:56:47 | itr #118 | optimization finished\n",
            "2019-02-16 20:56:47 | itr #118 | Computing KL after\n",
            "2019-02-16 20:56:47 | itr #118 | Computing loss after\n",
            "2019-02-16 20:56:47 | itr #118 | Fitting baseline...\n",
            "2019-02-16 20:56:47 | itr #118 | Saving snapshot...\n",
            "2019-02-16 20:56:47 | itr #118 | Saved\n",
            "2019-02-16 20:56:47 | --------------------------  -------------\n",
            "2019-02-16 20:56:47 | AverageDiscountedReturn      53.6986\n",
            "2019-02-16 20:56:47 | AverageReturn                57.4015\n",
            "2019-02-16 20:56:47 | Baseline/ExplainedVariance    0.637785\n",
            "2019-02-16 20:56:47 | Entropy                       3.01523\n",
            "2019-02-16 20:56:47 | EnvExecTime                   0.771978\n",
            "2019-02-16 20:56:47 | Iteration                   118\n",
            "2019-02-16 20:56:47 | ItrTime                       4.74512\n",
            "2019-02-16 20:56:47 | MaxReturn                   110\n",
            "2019-02-16 20:56:47 | MinReturn                   -47\n",
            "2019-02-16 20:56:47 | NumTrajs                    137\n",
            "2019-02-16 20:56:47 | Perplexity                   20.3939\n",
            "2019-02-16 20:56:47 | PolicyExecTime                3.53395\n",
            "2019-02-16 20:56:47 | ProcessExecTime               0.0385263\n",
            "2019-02-16 20:56:47 | StdReturn                    54.2329\n",
            "2019-02-16 20:56:47 | Time                        608.765\n",
            "2019-02-16 20:56:47 | policy/Entropy                0.105094\n",
            "2019-02-16 20:56:47 | policy/KL                     0.00840987\n",
            "2019-02-16 20:56:47 | policy/KLBefore               0\n",
            "2019-02-16 20:56:47 | policy/LossAfter             -0.0237656\n",
            "2019-02-16 20:56:47 | policy/LossBefore             1.01824e-08\n",
            "2019-02-16 20:56:47 | policy/dLoss                  0.0237656\n",
            "2019-02-16 20:56:47 | --------------------------  -------------\n",
            "2019-02-16 20:56:47 | itr #119 | Obtaining samples...\n",
            "2019-02-16 20:56:47 | itr #119 | Obtaining samples for iteration 119...\n"
          ],
          "name": "stdout"
        },
        {
          "output_type": "stream",
          "text": [
            "0% [##############################] 100% | ETA: 00:00:00"
          ],
          "name": "stderr"
        },
        {
          "output_type": "stream",
          "text": [
            "2019-02-16 20:56:52 | itr #119 | Processing samples...\n",
            "2019-02-16 20:56:52 | itr #119 | Logging diagnostics...\n",
            "2019-02-16 20:56:52 | itr #119 | Optimizing policy...\n",
            "2019-02-16 20:56:52 | itr #119 | Computing loss before\n",
            "2019-02-16 20:56:52 | itr #119 | Computing KL before\n",
            "2019-02-16 20:56:52 | itr #119 | Optimizing\n",
            "2019-02-16 20:56:52 | itr #119 | Start CG optimization: #parameters: 10528, #inputs: 130, #subsample_inputs: 130\n",
            "2019-02-16 20:56:52 | itr #119 | computing loss before\n",
            "2019-02-16 20:56:52 | itr #119 | performing update\n",
            "2019-02-16 20:56:52 | itr #119 | computing gradient\n",
            "2019-02-16 20:56:52 | itr #119 | gradient computed\n",
            "2019-02-16 20:56:52 | itr #119 | computing descent direction\n"
          ],
          "name": "stdout"
        },
        {
          "output_type": "stream",
          "text": [
            "\n",
            "Total time elapsed: 00:00:04\n"
          ],
          "name": "stderr"
        },
        {
          "output_type": "stream",
          "text": [
            "2019-02-16 20:56:52 | itr #119 | descent direction computed\n",
            "2019-02-16 20:56:52 | itr #119 | backtrack iters: 2\n",
            "2019-02-16 20:56:52 | itr #119 | computing loss after\n",
            "2019-02-16 20:56:52 | itr #119 | optimization finished\n",
            "2019-02-16 20:56:52 | itr #119 | Computing KL after\n",
            "2019-02-16 20:56:52 | itr #119 | Computing loss after\n",
            "2019-02-16 20:56:52 | itr #119 | Fitting baseline...\n",
            "2019-02-16 20:56:52 | itr #119 | Saving snapshot...\n",
            "2019-02-16 20:56:52 | itr #119 | Saved\n",
            "2019-02-16 20:56:52 | --------------------------  ------------\n",
            "2019-02-16 20:56:52 | AverageDiscountedReturn      44.9209\n",
            "2019-02-16 20:56:52 | AverageReturn                47.4154\n",
            "2019-02-16 20:56:52 | Baseline/ExplainedVariance    0.499449\n",
            "2019-02-16 20:56:52 | Entropy                       2.98215\n",
            "2019-02-16 20:56:52 | EnvExecTime                   0.774648\n",
            "2019-02-16 20:56:52 | Iteration                   119\n",
            "2019-02-16 20:56:52 | ItrTime                       4.78393\n",
            "2019-02-16 20:56:52 | MaxReturn                   110\n",
            "2019-02-16 20:56:52 | MinReturn                   -59\n",
            "2019-02-16 20:56:52 | NumTrajs                    130\n",
            "2019-02-16 20:56:52 | Perplexity                   19.7303\n",
            "2019-02-16 20:56:52 | PolicyExecTime                3.53864\n",
            "2019-02-16 20:56:52 | ProcessExecTime               0.0428073\n",
            "2019-02-16 20:56:52 | StdReturn                    54.1411\n",
            "2019-02-16 20:56:52 | Time                        613.596\n",
            "2019-02-16 20:56:52 | policy/Entropy                0.113681\n",
            "2019-02-16 20:56:52 | policy/KL                     0.0066408\n",
            "2019-02-16 20:56:52 | policy/KLBefore               0\n",
            "2019-02-16 20:56:52 | policy/LossAfter             -0.0164897\n",
            "2019-02-16 20:56:52 | policy/LossBefore            -1.8908e-09\n",
            "2019-02-16 20:56:52 | policy/dLoss                  0.0164897\n",
            "2019-02-16 20:56:52 | --------------------------  ------------\n",
            "2019-02-16 20:56:52 | itr #120 | Obtaining samples...\n",
            "2019-02-16 20:56:52 | itr #120 | Obtaining samples for iteration 120...\n"
          ],
          "name": "stdout"
        },
        {
          "output_type": "stream",
          "text": [
            "0% [##############################] 100% | ETA: 00:00:00"
          ],
          "name": "stderr"
        },
        {
          "output_type": "stream",
          "text": [
            "2019-02-16 20:56:57 | itr #120 | Processing samples...\n",
            "2019-02-16 20:56:57 | itr #120 | Logging diagnostics...\n",
            "2019-02-16 20:56:57 | itr #120 | Optimizing policy...\n",
            "2019-02-16 20:56:57 | itr #120 | Computing loss before\n",
            "2019-02-16 20:56:57 | itr #120 | Computing KL before\n",
            "2019-02-16 20:56:57 | itr #120 | Optimizing\n",
            "2019-02-16 20:56:57 | itr #120 | Start CG optimization: #parameters: 10528, #inputs: 131, #subsample_inputs: 131\n",
            "2019-02-16 20:56:57 | itr #120 | computing loss before\n",
            "2019-02-16 20:56:57 | itr #120 | performing update\n",
            "2019-02-16 20:56:57 | itr #120 | computing gradient\n",
            "2019-02-16 20:56:57 | itr #120 | gradient computed\n",
            "2019-02-16 20:56:57 | itr #120 | computing descent direction\n"
          ],
          "name": "stdout"
        },
        {
          "output_type": "stream",
          "text": [
            "\n",
            "Total time elapsed: 00:00:04\n"
          ],
          "name": "stderr"
        },
        {
          "output_type": "stream",
          "text": [
            "2019-02-16 20:56:57 | itr #120 | descent direction computed\n",
            "2019-02-16 20:56:57 | itr #120 | backtrack iters: 1\n",
            "2019-02-16 20:56:57 | itr #120 | computing loss after\n",
            "2019-02-16 20:56:57 | itr #120 | optimization finished\n",
            "2019-02-16 20:56:57 | itr #120 | Computing KL after\n",
            "2019-02-16 20:56:57 | itr #120 | Computing loss after\n",
            "2019-02-16 20:56:57 | itr #120 | Fitting baseline...\n",
            "2019-02-16 20:56:57 | itr #120 | Saving snapshot...\n",
            "2019-02-16 20:56:57 | itr #120 | Saved\n",
            "2019-02-16 20:56:57 | --------------------------  -------------\n",
            "2019-02-16 20:56:57 | AverageDiscountedReturn      42.9966\n",
            "2019-02-16 20:56:57 | AverageReturn                45.3969\n",
            "2019-02-16 20:56:57 | Baseline/ExplainedVariance    0.494176\n",
            "2019-02-16 20:56:57 | Entropy                       2.9812\n",
            "2019-02-16 20:56:57 | EnvExecTime                   0.896015\n",
            "2019-02-16 20:56:57 | Iteration                   120\n",
            "2019-02-16 20:56:57 | ItrTime                       4.98005\n",
            "2019-02-16 20:56:57 | MaxReturn                   110\n",
            "2019-02-16 20:56:57 | MinReturn                   -62\n",
            "2019-02-16 20:56:57 | NumTrajs                    131\n",
            "2019-02-16 20:56:57 | Perplexity                   19.7115\n",
            "2019-02-16 20:56:57 | PolicyExecTime                3.63902\n",
            "2019-02-16 20:56:57 | ProcessExecTime               0.0383928\n",
            "2019-02-16 20:56:57 | StdReturn                    54.0018\n",
            "2019-02-16 20:56:57 | Time                        618.611\n",
            "2019-02-16 20:56:57 | policy/Entropy                0.113074\n",
            "2019-02-16 20:56:57 | policy/KL                     0.00830117\n",
            "2019-02-16 20:56:57 | policy/KLBefore               0\n",
            "2019-02-16 20:56:57 | policy/LossAfter             -0.0168544\n",
            "2019-02-16 20:56:57 | policy/LossBefore             1.11786e-08\n",
            "2019-02-16 20:56:57 | policy/dLoss                  0.0168544\n",
            "2019-02-16 20:56:57 | --------------------------  -------------\n",
            "2019-02-16 20:56:57 | itr #121 | Obtaining samples...\n",
            "2019-02-16 20:56:57 | itr #121 | Obtaining samples for iteration 121...\n"
          ],
          "name": "stdout"
        },
        {
          "output_type": "stream",
          "text": [
            "0% [##############################] 100% | ETA: 00:00:00"
          ],
          "name": "stderr"
        },
        {
          "output_type": "stream",
          "text": [
            "2019-02-16 20:57:02 | itr #121 | Processing samples...\n",
            "2019-02-16 20:57:02 | itr #121 | Logging diagnostics...\n",
            "2019-02-16 20:57:02 | itr #121 | Optimizing policy...\n",
            "2019-02-16 20:57:02 | itr #121 | Computing loss before\n",
            "2019-02-16 20:57:02 | itr #121 | Computing KL before\n",
            "2019-02-16 20:57:02 | itr #121 | Optimizing\n",
            "2019-02-16 20:57:02 | itr #121 | Start CG optimization: #parameters: 10528, #inputs: 129, #subsample_inputs: 129\n",
            "2019-02-16 20:57:02 | itr #121 | computing loss before\n",
            "2019-02-16 20:57:02 | itr #121 | performing update\n",
            "2019-02-16 20:57:02 | itr #121 | computing gradient\n",
            "2019-02-16 20:57:02 | itr #121 | gradient computed\n",
            "2019-02-16 20:57:02 | itr #121 | computing descent direction\n"
          ],
          "name": "stdout"
        },
        {
          "output_type": "stream",
          "text": [
            "\n",
            "Total time elapsed: 00:00:04\n"
          ],
          "name": "stderr"
        },
        {
          "output_type": "stream",
          "text": [
            "2019-02-16 20:57:02 | itr #121 | descent direction computed\n",
            "2019-02-16 20:57:02 | itr #121 | backtrack iters: 1\n",
            "2019-02-16 20:57:02 | itr #121 | computing loss after\n",
            "2019-02-16 20:57:02 | itr #121 | optimization finished\n",
            "2019-02-16 20:57:02 | itr #121 | Computing KL after\n",
            "2019-02-16 20:57:02 | itr #121 | Computing loss after\n",
            "2019-02-16 20:57:02 | itr #121 | Fitting baseline...\n",
            "2019-02-16 20:57:02 | itr #121 | Saving snapshot...\n",
            "2019-02-16 20:57:02 | itr #121 | Saved\n",
            "2019-02-16 20:57:02 | --------------------------  -------------\n",
            "2019-02-16 20:57:02 | AverageDiscountedReturn      49.0925\n",
            "2019-02-16 20:57:02 | AverageReturn                52.2171\n",
            "2019-02-16 20:57:02 | Baseline/ExplainedVariance    0.602668\n",
            "2019-02-16 20:57:02 | Entropy                       2.95441\n",
            "2019-02-16 20:57:02 | EnvExecTime                   0.780532\n",
            "2019-02-16 20:57:02 | Iteration                   121\n",
            "2019-02-16 20:57:02 | ItrTime                       4.79628\n",
            "2019-02-16 20:57:02 | MaxReturn                   110\n",
            "2019-02-16 20:57:02 | MinReturn                   -45\n",
            "2019-02-16 20:57:02 | NumTrajs                    129\n",
            "2019-02-16 20:57:02 | Perplexity                   19.1903\n",
            "2019-02-16 20:57:02 | PolicyExecTime                3.56874\n",
            "2019-02-16 20:57:02 | ProcessExecTime               0.039706\n",
            "2019-02-16 20:57:02 | StdReturn                    54.0514\n",
            "2019-02-16 20:57:02 | Time                        623.492\n",
            "2019-02-16 20:57:02 | policy/Entropy                0.113576\n",
            "2019-02-16 20:57:02 | policy/KL                     0.00803946\n",
            "2019-02-16 20:57:02 | policy/KLBefore               0\n",
            "2019-02-16 20:57:02 | policy/LossAfter             -0.0215664\n",
            "2019-02-16 20:57:02 | policy/LossBefore             5.65001e-09\n",
            "2019-02-16 20:57:02 | policy/dLoss                  0.0215664\n",
            "2019-02-16 20:57:02 | --------------------------  -------------\n",
            "2019-02-16 20:57:02 | itr #122 | Obtaining samples...\n",
            "2019-02-16 20:57:02 | itr #122 | Obtaining samples for iteration 122...\n"
          ],
          "name": "stdout"
        },
        {
          "output_type": "stream",
          "text": [
            "0% [##############################] 100% | ETA: 00:00:00"
          ],
          "name": "stderr"
        },
        {
          "output_type": "stream",
          "text": [
            "2019-02-16 20:57:07 | itr #122 | Processing samples...\n",
            "2019-02-16 20:57:07 | itr #122 | Logging diagnostics...\n",
            "2019-02-16 20:57:07 | itr #122 | Optimizing policy...\n",
            "2019-02-16 20:57:07 | itr #122 | Computing loss before\n",
            "2019-02-16 20:57:07 | itr #122 | Computing KL before\n",
            "2019-02-16 20:57:07 | itr #122 | Optimizing\n",
            "2019-02-16 20:57:07 | itr #122 | Start CG optimization: #parameters: 10528, #inputs: 131, #subsample_inputs: 131\n",
            "2019-02-16 20:57:07 | itr #122 | computing loss before\n",
            "2019-02-16 20:57:07 | itr #122 | performing update\n",
            "2019-02-16 20:57:07 | itr #122 | computing gradient\n",
            "2019-02-16 20:57:07 | itr #122 | gradient computed\n",
            "2019-02-16 20:57:07 | itr #122 | computing descent direction\n"
          ],
          "name": "stdout"
        },
        {
          "output_type": "stream",
          "text": [
            "\n",
            "Total time elapsed: 00:00:04\n"
          ],
          "name": "stderr"
        },
        {
          "output_type": "stream",
          "text": [
            "2019-02-16 20:57:07 | itr #122 | descent direction computed\n",
            "2019-02-16 20:57:07 | itr #122 | backtrack iters: 0\n",
            "2019-02-16 20:57:07 | itr #122 | computing loss after\n",
            "2019-02-16 20:57:07 | itr #122 | optimization finished\n",
            "2019-02-16 20:57:07 | itr #122 | Computing KL after\n",
            "2019-02-16 20:57:07 | itr #122 | Computing loss after\n",
            "2019-02-16 20:57:07 | itr #122 | Fitting baseline...\n",
            "2019-02-16 20:57:07 | itr #122 | Saving snapshot...\n",
            "2019-02-16 20:57:07 | itr #122 | Saved\n",
            "2019-02-16 20:57:07 | --------------------------  -------------\n",
            "2019-02-16 20:57:07 | AverageDiscountedReturn      52.1112\n",
            "2019-02-16 20:57:07 | AverageReturn                55.6947\n",
            "2019-02-16 20:57:07 | Baseline/ExplainedVariance    0.635154\n",
            "2019-02-16 20:57:07 | Entropy                       2.90238\n",
            "2019-02-16 20:57:07 | EnvExecTime                   0.781946\n",
            "2019-02-16 20:57:07 | Iteration                   122\n",
            "2019-02-16 20:57:07 | ItrTime                       4.79157\n",
            "2019-02-16 20:57:07 | MaxReturn                   110\n",
            "2019-02-16 20:57:07 | MinReturn                   -41\n",
            "2019-02-16 20:57:07 | NumTrajs                    131\n",
            "2019-02-16 20:57:07 | Perplexity                   18.2175\n",
            "2019-02-16 20:57:07 | PolicyExecTime                3.5754\n",
            "2019-02-16 20:57:07 | ProcessExecTime               0.0389824\n",
            "2019-02-16 20:57:07 | StdReturn                    53.6263\n",
            "2019-02-16 20:57:07 | Time                        628.334\n",
            "2019-02-16 20:57:07 | policy/Entropy                0.119416\n",
            "2019-02-16 20:57:07 | policy/KL                     0.00767165\n",
            "2019-02-16 20:57:07 | policy/KLBefore               0\n",
            "2019-02-16 20:57:07 | policy/LossAfter             -0.0195037\n",
            "2019-02-16 20:57:07 | policy/LossBefore            -1.22387e-08\n",
            "2019-02-16 20:57:07 | policy/dLoss                  0.0195037\n",
            "2019-02-16 20:57:07 | --------------------------  -------------\n",
            "2019-02-16 20:57:07 | itr #123 | Obtaining samples...\n",
            "2019-02-16 20:57:07 | itr #123 | Obtaining samples for iteration 123...\n"
          ],
          "name": "stdout"
        },
        {
          "output_type": "stream",
          "text": [
            "0% [##############################] 100% | ETA: 00:00:00"
          ],
          "name": "stderr"
        },
        {
          "output_type": "stream",
          "text": [
            "2019-02-16 20:57:12 | itr #123 | Processing samples...\n",
            "2019-02-16 20:57:12 | itr #123 | Logging diagnostics...\n",
            "2019-02-16 20:57:12 | itr #123 | Optimizing policy...\n",
            "2019-02-16 20:57:12 | itr #123 | Computing loss before\n",
            "2019-02-16 20:57:12 | itr #123 | Computing KL before\n",
            "2019-02-16 20:57:12 | itr #123 | Optimizing\n",
            "2019-02-16 20:57:12 | itr #123 | Start CG optimization: #parameters: 10528, #inputs: 126, #subsample_inputs: 126\n",
            "2019-02-16 20:57:12 | itr #123 | computing loss before\n",
            "2019-02-16 20:57:12 | itr #123 | performing update\n",
            "2019-02-16 20:57:12 | itr #123 | computing gradient\n",
            "2019-02-16 20:57:12 | itr #123 | gradient computed\n",
            "2019-02-16 20:57:12 | itr #123 | computing descent direction\n"
          ],
          "name": "stdout"
        },
        {
          "output_type": "stream",
          "text": [
            "\n",
            "Total time elapsed: 00:00:04\n"
          ],
          "name": "stderr"
        },
        {
          "output_type": "stream",
          "text": [
            "2019-02-16 20:57:12 | itr #123 | descent direction computed\n",
            "2019-02-16 20:57:12 | itr #123 | backtrack iters: 1\n",
            "2019-02-16 20:57:12 | itr #123 | computing loss after\n",
            "2019-02-16 20:57:12 | itr #123 | optimization finished\n",
            "2019-02-16 20:57:12 | itr #123 | Computing KL after\n",
            "2019-02-16 20:57:12 | itr #123 | Computing loss after\n",
            "2019-02-16 20:57:12 | itr #123 | Fitting baseline...\n",
            "2019-02-16 20:57:12 | itr #123 | Saving snapshot...\n",
            "2019-02-16 20:57:12 | itr #123 | Saved\n",
            "2019-02-16 20:57:12 | --------------------------  -------------\n",
            "2019-02-16 20:57:12 | AverageDiscountedReturn      47.473\n",
            "2019-02-16 20:57:12 | AverageReturn                50.7619\n",
            "2019-02-16 20:57:12 | Baseline/ExplainedVariance    0.586282\n",
            "2019-02-16 20:57:12 | Entropy                       2.82512\n",
            "2019-02-16 20:57:12 | EnvExecTime                   0.801787\n",
            "2019-02-16 20:57:12 | Iteration                   123\n",
            "2019-02-16 20:57:12 | ItrTime                       4.92155\n",
            "2019-02-16 20:57:12 | MaxReturn                   110\n",
            "2019-02-16 20:57:12 | MinReturn                   -57\n",
            "2019-02-16 20:57:12 | NumTrajs                    126\n",
            "2019-02-16 20:57:12 | Perplexity                   16.8631\n",
            "2019-02-16 20:57:12 | PolicyExecTime                3.67153\n",
            "2019-02-16 20:57:12 | ProcessExecTime               0.0382161\n",
            "2019-02-16 20:57:12 | StdReturn                    54.0322\n",
            "2019-02-16 20:57:12 | Time                        633.326\n",
            "2019-02-16 20:57:12 | policy/Entropy                0.126918\n",
            "2019-02-16 20:57:12 | policy/KL                     0.00682904\n",
            "2019-02-16 20:57:12 | policy/KLBefore               0\n",
            "2019-02-16 20:57:12 | policy/LossAfter             -0.0161923\n",
            "2019-02-16 20:57:12 | policy/LossBefore             8.01407e-09\n",
            "2019-02-16 20:57:12 | policy/dLoss                  0.0161924\n",
            "2019-02-16 20:57:12 | --------------------------  -------------\n",
            "2019-02-16 20:57:12 | itr #124 | Obtaining samples...\n",
            "2019-02-16 20:57:12 | itr #124 | Obtaining samples for iteration 124...\n"
          ],
          "name": "stdout"
        },
        {
          "output_type": "stream",
          "text": [
            "0% [##############################] 100% | ETA: 00:00:00"
          ],
          "name": "stderr"
        },
        {
          "output_type": "stream",
          "text": [
            "2019-02-16 20:57:16 | itr #124 | Processing samples...\n",
            "2019-02-16 20:57:16 | itr #124 | Logging diagnostics...\n",
            "2019-02-16 20:57:16 | itr #124 | Optimizing policy...\n",
            "2019-02-16 20:57:16 | itr #124 | Computing loss before\n",
            "2019-02-16 20:57:17 | itr #124 | Computing KL before\n",
            "2019-02-16 20:57:17 | itr #124 | Optimizing\n",
            "2019-02-16 20:57:17 | itr #124 | Start CG optimization: #parameters: 10528, #inputs: 127, #subsample_inputs: 127\n",
            "2019-02-16 20:57:17 | itr #124 | computing loss before\n",
            "2019-02-16 20:57:17 | itr #124 | performing update\n",
            "2019-02-16 20:57:17 | itr #124 | computing gradient\n",
            "2019-02-16 20:57:17 | itr #124 | gradient computed\n",
            "2019-02-16 20:57:17 | itr #124 | computing descent direction\n"
          ],
          "name": "stdout"
        },
        {
          "output_type": "stream",
          "text": [
            "\n",
            "Total time elapsed: 00:00:04\n"
          ],
          "name": "stderr"
        },
        {
          "output_type": "stream",
          "text": [
            "2019-02-16 20:57:17 | itr #124 | descent direction computed\n",
            "2019-02-16 20:57:17 | itr #124 | backtrack iters: 0\n",
            "2019-02-16 20:57:17 | itr #124 | computing loss after\n",
            "2019-02-16 20:57:17 | itr #124 | optimization finished\n",
            "2019-02-16 20:57:17 | itr #124 | Computing KL after\n",
            "2019-02-16 20:57:17 | itr #124 | Computing loss after\n",
            "2019-02-16 20:57:17 | itr #124 | Fitting baseline...\n",
            "2019-02-16 20:57:17 | itr #124 | Saving snapshot...\n",
            "2019-02-16 20:57:17 | itr #124 | Saved\n",
            "2019-02-16 20:57:17 | --------------------------  -------------\n",
            "2019-02-16 20:57:17 | AverageDiscountedReturn      52.1735\n",
            "2019-02-16 20:57:17 | AverageReturn                55.4488\n",
            "2019-02-16 20:57:17 | Baseline/ExplainedVariance    0.612636\n",
            "2019-02-16 20:57:17 | Entropy                       2.83567\n",
            "2019-02-16 20:57:17 | EnvExecTime                   0.792128\n",
            "2019-02-16 20:57:17 | Iteration                   124\n",
            "2019-02-16 20:57:17 | ItrTime                       4.83583\n",
            "2019-02-16 20:57:17 | MaxReturn                   110\n",
            "2019-02-16 20:57:17 | MinReturn                   -48\n",
            "2019-02-16 20:57:17 | NumTrajs                    127\n",
            "2019-02-16 20:57:17 | Perplexity                   17.0418\n",
            "2019-02-16 20:57:17 | PolicyExecTime                3.60728\n",
            "2019-02-16 20:57:17 | ProcessExecTime               0.0391445\n",
            "2019-02-16 20:57:17 | StdReturn                    51.0454\n",
            "2019-02-16 20:57:17 | Time                        638.225\n",
            "2019-02-16 20:57:17 | policy/Entropy                0.12103\n",
            "2019-02-16 20:57:17 | policy/KL                     0.00678515\n",
            "2019-02-16 20:57:17 | policy/KLBefore               0\n",
            "2019-02-16 20:57:17 | policy/LossAfter             -0.0197138\n",
            "2019-02-16 20:57:17 | policy/LossBefore            -1.32817e-08\n",
            "2019-02-16 20:57:17 | policy/dLoss                  0.0197138\n",
            "2019-02-16 20:57:17 | --------------------------  -------------\n",
            "2019-02-16 20:57:17 | itr #125 | Obtaining samples...\n",
            "2019-02-16 20:57:17 | itr #125 | Obtaining samples for iteration 125...\n"
          ],
          "name": "stdout"
        },
        {
          "output_type": "stream",
          "text": [
            "0% [##############################] 100% | ETA: 00:00:00"
          ],
          "name": "stderr"
        },
        {
          "output_type": "stream",
          "text": [
            "2019-02-16 20:57:21 | itr #125 | Processing samples...\n",
            "2019-02-16 20:57:21 | itr #125 | Logging diagnostics...\n",
            "2019-02-16 20:57:21 | itr #125 | Optimizing policy...\n",
            "2019-02-16 20:57:21 | itr #125 | Computing loss before\n",
            "2019-02-16 20:57:21 | itr #125 | Computing KL before\n",
            "2019-02-16 20:57:21 | itr #125 | Optimizing\n",
            "2019-02-16 20:57:21 | itr #125 | Start CG optimization: #parameters: 10528, #inputs: 128, #subsample_inputs: 128\n",
            "2019-02-16 20:57:21 | itr #125 | computing loss before\n",
            "2019-02-16 20:57:21 | itr #125 | performing update\n",
            "2019-02-16 20:57:21 | itr #125 | computing gradient\n",
            "2019-02-16 20:57:21 | itr #125 | gradient computed\n",
            "2019-02-16 20:57:21 | itr #125 | computing descent direction\n"
          ],
          "name": "stdout"
        },
        {
          "output_type": "stream",
          "text": [
            "\n",
            "Total time elapsed: 00:00:04\n"
          ],
          "name": "stderr"
        },
        {
          "output_type": "stream",
          "text": [
            "2019-02-16 20:57:22 | itr #125 | descent direction computed\n",
            "2019-02-16 20:57:22 | itr #125 | backtrack iters: 0\n",
            "2019-02-16 20:57:22 | itr #125 | computing loss after\n",
            "2019-02-16 20:57:22 | itr #125 | optimization finished\n",
            "2019-02-16 20:57:22 | itr #125 | Computing KL after\n",
            "2019-02-16 20:57:22 | itr #125 | Computing loss after\n",
            "2019-02-16 20:57:22 | itr #125 | Fitting baseline...\n",
            "2019-02-16 20:57:22 | itr #125 | Saving snapshot...\n",
            "2019-02-16 20:57:22 | itr #125 | Saved\n",
            "2019-02-16 20:57:22 | --------------------------  -------------\n",
            "2019-02-16 20:57:22 | AverageDiscountedReturn      48.8317\n",
            "2019-02-16 20:57:22 | AverageReturn                51.8984\n",
            "2019-02-16 20:57:22 | Baseline/ExplainedVariance    0.586391\n",
            "2019-02-16 20:57:22 | Entropy                       2.85887\n",
            "2019-02-16 20:57:22 | EnvExecTime                   0.782865\n",
            "2019-02-16 20:57:22 | Iteration                   125\n",
            "2019-02-16 20:57:22 | ItrTime                       4.83965\n",
            "2019-02-16 20:57:22 | MaxReturn                   110\n",
            "2019-02-16 20:57:22 | MinReturn                   -43\n",
            "2019-02-16 20:57:22 | NumTrajs                    128\n",
            "2019-02-16 20:57:22 | Perplexity                   17.4418\n",
            "2019-02-16 20:57:22 | PolicyExecTime                3.62079\n",
            "2019-02-16 20:57:22 | ProcessExecTime               0.0387454\n",
            "2019-02-16 20:57:22 | StdReturn                    51.8857\n",
            "2019-02-16 20:57:22 | Time                        643.136\n",
            "2019-02-16 20:57:22 | policy/Entropy                0.123783\n",
            "2019-02-16 20:57:22 | policy/KL                     0.00627163\n",
            "2019-02-16 20:57:22 | policy/KLBefore               0\n",
            "2019-02-16 20:57:22 | policy/LossAfter             -0.0145769\n",
            "2019-02-16 20:57:22 | policy/LossBefore            -9.87289e-09\n",
            "2019-02-16 20:57:22 | policy/dLoss                  0.0145769\n",
            "2019-02-16 20:57:22 | --------------------------  -------------\n",
            "2019-02-16 20:57:22 | itr #126 | Obtaining samples...\n",
            "2019-02-16 20:57:22 | itr #126 | Obtaining samples for iteration 126...\n"
          ],
          "name": "stdout"
        },
        {
          "output_type": "stream",
          "text": [
            "0% [##############################] 100% | ETA: 00:00:00"
          ],
          "name": "stderr"
        },
        {
          "output_type": "stream",
          "text": [
            "2019-02-16 20:57:26 | itr #126 | Processing samples...\n",
            "2019-02-16 20:57:26 | itr #126 | Logging diagnostics...\n",
            "2019-02-16 20:57:26 | itr #126 | Optimizing policy...\n",
            "2019-02-16 20:57:26 | itr #126 | Computing loss before\n",
            "2019-02-16 20:57:26 | itr #126 | Computing KL before\n",
            "2019-02-16 20:57:26 | itr #126 | Optimizing\n",
            "2019-02-16 20:57:26 | itr #126 | Start CG optimization: #parameters: 10528, #inputs: 129, #subsample_inputs: 129\n",
            "2019-02-16 20:57:26 | itr #126 | computing loss before\n",
            "2019-02-16 20:57:26 | itr #126 | performing update\n",
            "2019-02-16 20:57:26 | itr #126 | computing gradient\n",
            "2019-02-16 20:57:26 | itr #126 | gradient computed\n",
            "2019-02-16 20:57:26 | itr #126 | computing descent direction\n"
          ],
          "name": "stdout"
        },
        {
          "output_type": "stream",
          "text": [
            "\n",
            "Total time elapsed: 00:00:04\n"
          ],
          "name": "stderr"
        },
        {
          "output_type": "stream",
          "text": [
            "2019-02-16 20:57:27 | itr #126 | descent direction computed\n",
            "2019-02-16 20:57:27 | itr #126 | backtrack iters: 2\n",
            "2019-02-16 20:57:27 | itr #126 | computing loss after\n",
            "2019-02-16 20:57:27 | itr #126 | optimization finished\n",
            "2019-02-16 20:57:27 | itr #126 | Computing KL after\n",
            "2019-02-16 20:57:27 | itr #126 | Computing loss after\n",
            "2019-02-16 20:57:27 | itr #126 | Fitting baseline...\n",
            "2019-02-16 20:57:27 | itr #126 | Saving snapshot...\n",
            "2019-02-16 20:57:27 | itr #126 | Saved\n",
            "2019-02-16 20:57:27 | --------------------------  -------------\n",
            "2019-02-16 20:57:27 | AverageDiscountedReturn      47.3113\n",
            "2019-02-16 20:57:27 | AverageReturn                50.3411\n",
            "2019-02-16 20:57:27 | Baseline/ExplainedVariance    0.623629\n",
            "2019-02-16 20:57:27 | Entropy                       2.80768\n",
            "2019-02-16 20:57:27 | EnvExecTime                   0.801243\n",
            "2019-02-16 20:57:27 | Iteration                   126\n",
            "2019-02-16 20:57:27 | ItrTime                       4.95322\n",
            "2019-02-16 20:57:27 | MaxReturn                   110\n",
            "2019-02-16 20:57:27 | MinReturn                   -47\n",
            "2019-02-16 20:57:27 | NumTrajs                    129\n",
            "2019-02-16 20:57:27 | Perplexity                   16.5714\n",
            "2019-02-16 20:57:27 | PolicyExecTime                3.69431\n",
            "2019-02-16 20:57:27 | ProcessExecTime               0.0385211\n",
            "2019-02-16 20:57:27 | StdReturn                    54.5269\n",
            "2019-02-16 20:57:27 | Time                        648.133\n",
            "2019-02-16 20:57:27 | policy/Entropy                0.126503\n",
            "2019-02-16 20:57:27 | policy/KL                     0.00909154\n",
            "2019-02-16 20:57:27 | policy/KLBefore               0\n",
            "2019-02-16 20:57:27 | policy/LossAfter             -0.0256597\n",
            "2019-02-16 20:57:27 | policy/LossBefore             1.31025e-08\n",
            "2019-02-16 20:57:27 | policy/dLoss                  0.0256598\n",
            "2019-02-16 20:57:27 | --------------------------  -------------\n",
            "2019-02-16 20:57:27 | itr #127 | Obtaining samples...\n",
            "2019-02-16 20:57:27 | itr #127 | Obtaining samples for iteration 127...\n"
          ],
          "name": "stdout"
        },
        {
          "output_type": "stream",
          "text": [
            "0% [##############################] 100% | ETA: 00:00:00"
          ],
          "name": "stderr"
        },
        {
          "output_type": "stream",
          "text": [
            "2019-02-16 20:57:31 | itr #127 | Processing samples...\n",
            "2019-02-16 20:57:31 | itr #127 | Logging diagnostics...\n",
            "2019-02-16 20:57:31 | itr #127 | Optimizing policy...\n",
            "2019-02-16 20:57:31 | itr #127 | Computing loss before\n",
            "2019-02-16 20:57:31 | itr #127 | Computing KL before\n",
            "2019-02-16 20:57:31 | itr #127 | Optimizing\n",
            "2019-02-16 20:57:31 | itr #127 | Start CG optimization: #parameters: 10528, #inputs: 133, #subsample_inputs: 133\n",
            "2019-02-16 20:57:31 | itr #127 | computing loss before\n",
            "2019-02-16 20:57:31 | itr #127 | performing update\n",
            "2019-02-16 20:57:31 | itr #127 | computing gradient\n",
            "2019-02-16 20:57:31 | itr #127 | gradient computed\n",
            "2019-02-16 20:57:31 | itr #127 | computing descent direction\n"
          ],
          "name": "stdout"
        },
        {
          "output_type": "stream",
          "text": [
            "\n",
            "Total time elapsed: 00:00:04\n"
          ],
          "name": "stderr"
        },
        {
          "output_type": "stream",
          "text": [
            "2019-02-16 20:57:32 | itr #127 | descent direction computed\n",
            "2019-02-16 20:57:32 | itr #127 | backtrack iters: 1\n",
            "2019-02-16 20:57:32 | itr #127 | computing loss after\n",
            "2019-02-16 20:57:32 | itr #127 | optimization finished\n",
            "2019-02-16 20:57:32 | itr #127 | Computing KL after\n",
            "2019-02-16 20:57:32 | itr #127 | Computing loss after\n",
            "2019-02-16 20:57:32 | itr #127 | Fitting baseline...\n",
            "2019-02-16 20:57:32 | itr #127 | Saving snapshot...\n",
            "2019-02-16 20:57:32 | itr #127 | Saved\n",
            "2019-02-16 20:57:32 | --------------------------  -------------\n",
            "2019-02-16 20:57:32 | AverageDiscountedReturn      48.7813\n",
            "2019-02-16 20:57:32 | AverageReturn                51.7293\n",
            "2019-02-16 20:57:32 | Baseline/ExplainedVariance    0.619851\n",
            "2019-02-16 20:57:32 | Entropy                       2.83524\n",
            "2019-02-16 20:57:32 | EnvExecTime                   0.78827\n",
            "2019-02-16 20:57:32 | Iteration                   127\n",
            "2019-02-16 20:57:32 | ItrTime                       4.85108\n",
            "2019-02-16 20:57:32 | MaxReturn                   110\n",
            "2019-02-16 20:57:32 | MinReturn                   -53\n",
            "2019-02-16 20:57:32 | NumTrajs                    133\n",
            "2019-02-16 20:57:32 | Perplexity                   17.0344\n",
            "2019-02-16 20:57:32 | PolicyExecTime                3.6044\n",
            "2019-02-16 20:57:32 | ProcessExecTime               0.0391383\n",
            "2019-02-16 20:57:32 | StdReturn                    54.1902\n",
            "2019-02-16 20:57:32 | Time                        653.016\n",
            "2019-02-16 20:57:32 | policy/Entropy                0.12106\n",
            "2019-02-16 20:57:32 | policy/KL                     0.00717754\n",
            "2019-02-16 20:57:32 | policy/KLBefore               0\n",
            "2019-02-16 20:57:32 | policy/LossAfter             -0.0238256\n",
            "2019-02-16 20:57:32 | policy/LossBefore            -7.51479e-09\n",
            "2019-02-16 20:57:32 | policy/dLoss                  0.0238256\n",
            "2019-02-16 20:57:32 | --------------------------  -------------\n",
            "2019-02-16 20:57:32 | itr #128 | Obtaining samples...\n",
            "2019-02-16 20:57:32 | itr #128 | Obtaining samples for iteration 128...\n"
          ],
          "name": "stdout"
        },
        {
          "output_type": "stream",
          "text": [
            "0% [##############################] 100% | ETA: 00:00:00"
          ],
          "name": "stderr"
        },
        {
          "output_type": "stream",
          "text": [
            "2019-02-16 20:57:36 | itr #128 | Processing samples...\n",
            "2019-02-16 20:57:36 | itr #128 | Logging diagnostics...\n",
            "2019-02-16 20:57:36 | itr #128 | Optimizing policy...\n",
            "2019-02-16 20:57:36 | itr #128 | Computing loss before\n",
            "2019-02-16 20:57:36 | itr #128 | Computing KL before\n",
            "2019-02-16 20:57:36 | itr #128 | Optimizing\n",
            "2019-02-16 20:57:36 | itr #128 | Start CG optimization: #parameters: 10528, #inputs: 127, #subsample_inputs: 127\n",
            "2019-02-16 20:57:36 | itr #128 | computing loss before\n",
            "2019-02-16 20:57:36 | itr #128 | performing update\n",
            "2019-02-16 20:57:36 | itr #128 | computing gradient\n",
            "2019-02-16 20:57:36 | itr #128 | gradient computed\n",
            "2019-02-16 20:57:36 | itr #128 | computing descent direction\n"
          ],
          "name": "stdout"
        },
        {
          "output_type": "stream",
          "text": [
            "\n",
            "Total time elapsed: 00:00:04\n"
          ],
          "name": "stderr"
        },
        {
          "output_type": "stream",
          "text": [
            "2019-02-16 20:57:37 | itr #128 | descent direction computed\n",
            "2019-02-16 20:57:37 | itr #128 | backtrack iters: 0\n",
            "2019-02-16 20:57:37 | itr #128 | computing loss after\n",
            "2019-02-16 20:57:37 | itr #128 | optimization finished\n",
            "2019-02-16 20:57:37 | itr #128 | Computing KL after\n",
            "2019-02-16 20:57:37 | itr #128 | Computing loss after\n",
            "2019-02-16 20:57:37 | itr #128 | Fitting baseline...\n",
            "2019-02-16 20:57:37 | itr #128 | Saving snapshot...\n",
            "2019-02-16 20:57:37 | itr #128 | Saved\n",
            "2019-02-16 20:57:37 | --------------------------  -------------\n",
            "2019-02-16 20:57:37 | AverageDiscountedReturn      51.7696\n",
            "2019-02-16 20:57:37 | AverageReturn                55.2992\n",
            "2019-02-16 20:57:37 | Baseline/ExplainedVariance    0.580169\n",
            "2019-02-16 20:57:37 | Entropy                       2.79124\n",
            "2019-02-16 20:57:37 | EnvExecTime                   0.820158\n",
            "2019-02-16 20:57:37 | Iteration                   128\n",
            "2019-02-16 20:57:37 | ItrTime                       4.98572\n",
            "2019-02-16 20:57:37 | MaxReturn                   110\n",
            "2019-02-16 20:57:37 | MinReturn                   -47\n",
            "2019-02-16 20:57:37 | NumTrajs                    127\n",
            "2019-02-16 20:57:37 | Perplexity                   16.3012\n",
            "2019-02-16 20:57:37 | PolicyExecTime                3.73967\n",
            "2019-02-16 20:57:37 | ProcessExecTime               0.0387928\n",
            "2019-02-16 20:57:37 | StdReturn                    50.6419\n",
            "2019-02-16 20:57:37 | Time                        658.075\n",
            "2019-02-16 20:57:37 | policy/Entropy                0.129158\n",
            "2019-02-16 20:57:37 | policy/KL                     0.00686416\n",
            "2019-02-16 20:57:37 | policy/KLBefore               0\n",
            "2019-02-16 20:57:37 | policy/LossAfter             -0.0192797\n",
            "2019-02-16 20:57:37 | policy/LossBefore             2.36879e-09\n",
            "2019-02-16 20:57:37 | policy/dLoss                  0.0192797\n",
            "2019-02-16 20:57:37 | --------------------------  -------------\n",
            "2019-02-16 20:57:37 | itr #129 | Obtaining samples...\n",
            "2019-02-16 20:57:37 | itr #129 | Obtaining samples for iteration 129...\n"
          ],
          "name": "stdout"
        },
        {
          "output_type": "stream",
          "text": [
            "0% [##############################] 100% | ETA: 00:00:00"
          ],
          "name": "stderr"
        },
        {
          "output_type": "stream",
          "text": [
            "2019-02-16 20:57:41 | itr #129 | Processing samples...\n",
            "2019-02-16 20:57:41 | itr #129 | Logging diagnostics...\n",
            "2019-02-16 20:57:41 | itr #129 | Optimizing policy...\n",
            "2019-02-16 20:57:41 | itr #129 | Computing loss before\n",
            "2019-02-16 20:57:41 | itr #129 | Computing KL before\n",
            "2019-02-16 20:57:41 | itr #129 | Optimizing\n",
            "2019-02-16 20:57:41 | itr #129 | Start CG optimization: #parameters: 10528, #inputs: 126, #subsample_inputs: 126\n",
            "2019-02-16 20:57:41 | itr #129 | computing loss before\n",
            "2019-02-16 20:57:41 | itr #129 | performing update\n",
            "2019-02-16 20:57:41 | itr #129 | computing gradient\n",
            "2019-02-16 20:57:41 | itr #129 | gradient computed\n",
            "2019-02-16 20:57:41 | itr #129 | computing descent direction\n"
          ],
          "name": "stdout"
        },
        {
          "output_type": "stream",
          "text": [
            "\n",
            "Total time elapsed: 00:00:04\n"
          ],
          "name": "stderr"
        },
        {
          "output_type": "stream",
          "text": [
            "2019-02-16 20:57:42 | itr #129 | descent direction computed\n",
            "2019-02-16 20:57:42 | itr #129 | backtrack iters: 0\n",
            "2019-02-16 20:57:42 | itr #129 | computing loss after\n",
            "2019-02-16 20:57:42 | itr #129 | optimization finished\n",
            "2019-02-16 20:57:42 | itr #129 | Computing KL after\n",
            "2019-02-16 20:57:42 | itr #129 | Computing loss after\n",
            "2019-02-16 20:57:42 | itr #129 | Fitting baseline...\n",
            "2019-02-16 20:57:42 | itr #129 | Saving snapshot...\n",
            "2019-02-16 20:57:42 | itr #129 | Saved\n",
            "2019-02-16 20:57:42 | --------------------------  -------------\n",
            "2019-02-16 20:57:42 | AverageDiscountedReturn      49.8615\n",
            "2019-02-16 20:57:42 | AverageReturn                53.0794\n",
            "2019-02-16 20:57:42 | Baseline/ExplainedVariance    0.612438\n",
            "2019-02-16 20:57:42 | Entropy                       2.82313\n",
            "2019-02-16 20:57:42 | EnvExecTime                   0.795913\n",
            "2019-02-16 20:57:42 | Iteration                   129\n",
            "2019-02-16 20:57:42 | ItrTime                       4.88252\n",
            "2019-02-16 20:57:42 | MaxReturn                   110\n",
            "2019-02-16 20:57:42 | MinReturn                   -37\n",
            "2019-02-16 20:57:42 | NumTrajs                    126\n",
            "2019-02-16 20:57:42 | Perplexity                   16.8295\n",
            "2019-02-16 20:57:42 | PolicyExecTime                3.64044\n",
            "2019-02-16 20:57:42 | ProcessExecTime               0.0384073\n",
            "2019-02-16 20:57:42 | StdReturn                    51.0816\n",
            "2019-02-16 20:57:42 | Time                        663.014\n",
            "2019-02-16 20:57:42 | policy/Entropy                0.127269\n",
            "2019-02-16 20:57:42 | policy/KL                     0.00748594\n",
            "2019-02-16 20:57:42 | policy/KLBefore               0\n",
            "2019-02-16 20:57:42 | policy/LossAfter             -0.0195181\n",
            "2019-02-16 20:57:42 | policy/LossBefore             1.52245e-08\n",
            "2019-02-16 20:57:42 | policy/dLoss                  0.0195181\n",
            "2019-02-16 20:57:42 | --------------------------  -------------\n",
            "2019-02-16 20:57:42 | itr #130 | Obtaining samples...\n",
            "2019-02-16 20:57:42 | itr #130 | Obtaining samples for iteration 130...\n"
          ],
          "name": "stdout"
        },
        {
          "output_type": "stream",
          "text": [
            "0% [##############################] 100% | ETA: 00:00:00"
          ],
          "name": "stderr"
        },
        {
          "output_type": "stream",
          "text": [
            "2019-02-16 20:57:46 | itr #130 | Processing samples...\n",
            "2019-02-16 20:57:46 | itr #130 | Logging diagnostics...\n",
            "2019-02-16 20:57:46 | itr #130 | Optimizing policy...\n",
            "2019-02-16 20:57:46 | itr #130 | Computing loss before\n",
            "2019-02-16 20:57:46 | itr #130 | Computing KL before\n",
            "2019-02-16 20:57:46 | itr #130 | Optimizing\n",
            "2019-02-16 20:57:46 | itr #130 | Start CG optimization: #parameters: 10528, #inputs: 129, #subsample_inputs: 129\n",
            "2019-02-16 20:57:46 | itr #130 | computing loss before\n",
            "2019-02-16 20:57:46 | itr #130 | performing update\n",
            "2019-02-16 20:57:46 | itr #130 | computing gradient\n",
            "2019-02-16 20:57:46 | itr #130 | gradient computed\n",
            "2019-02-16 20:57:46 | itr #130 | computing descent direction\n"
          ],
          "name": "stdout"
        },
        {
          "output_type": "stream",
          "text": [
            "\n",
            "Total time elapsed: 00:00:04\n"
          ],
          "name": "stderr"
        },
        {
          "output_type": "stream",
          "text": [
            "2019-02-16 20:57:46 | itr #130 | descent direction computed\n",
            "2019-02-16 20:57:47 | itr #130 | backtrack iters: 0\n",
            "2019-02-16 20:57:47 | itr #130 | computing loss after\n",
            "2019-02-16 20:57:47 | itr #130 | optimization finished\n",
            "2019-02-16 20:57:47 | itr #130 | Computing KL after\n",
            "2019-02-16 20:57:47 | itr #130 | Computing loss after\n",
            "2019-02-16 20:57:47 | itr #130 | Fitting baseline...\n",
            "2019-02-16 20:57:47 | itr #130 | Saving snapshot...\n",
            "2019-02-16 20:57:47 | itr #130 | Saved\n",
            "2019-02-16 20:57:47 | --------------------------  -------------\n",
            "2019-02-16 20:57:47 | AverageDiscountedReturn      51.9377\n",
            "2019-02-16 20:57:47 | AverageReturn                55.4884\n",
            "2019-02-16 20:57:47 | Baseline/ExplainedVariance    0.651881\n",
            "2019-02-16 20:57:47 | Entropy                       2.76161\n",
            "2019-02-16 20:57:47 | EnvExecTime                   0.801651\n",
            "2019-02-16 20:57:47 | Iteration                   130\n",
            "2019-02-16 20:57:47 | ItrTime                       4.93864\n",
            "2019-02-16 20:57:47 | MaxReturn                   110\n",
            "2019-02-16 20:57:47 | MinReturn                   -56\n",
            "2019-02-16 20:57:47 | NumTrajs                    129\n",
            "2019-02-16 20:57:47 | Perplexity                   15.8252\n",
            "2019-02-16 20:57:47 | PolicyExecTime                3.70471\n",
            "2019-02-16 20:57:47 | ProcessExecTime               0.0381513\n",
            "2019-02-16 20:57:47 | StdReturn                    52.5391\n",
            "2019-02-16 20:57:47 | Time                        667.982\n",
            "2019-02-16 20:57:47 | policy/Entropy                0.123854\n",
            "2019-02-16 20:57:47 | policy/KL                     0.0085201\n",
            "2019-02-16 20:57:47 | policy/KLBefore               0\n",
            "2019-02-16 20:57:47 | policy/LossAfter             -0.0214551\n",
            "2019-02-16 20:57:47 | policy/LossBefore            -1.55452e-08\n",
            "2019-02-16 20:57:47 | policy/dLoss                  0.0214551\n",
            "2019-02-16 20:57:47 | --------------------------  -------------\n",
            "2019-02-16 20:57:47 | itr #131 | Obtaining samples...\n",
            "2019-02-16 20:57:47 | itr #131 | Obtaining samples for iteration 131...\n"
          ],
          "name": "stdout"
        },
        {
          "output_type": "stream",
          "text": [
            "0% [##############################] 100% | ETA: 00:00:00"
          ],
          "name": "stderr"
        },
        {
          "output_type": "stream",
          "text": [
            "2019-02-16 20:57:51 | itr #131 | Processing samples...\n",
            "2019-02-16 20:57:51 | itr #131 | Logging diagnostics...\n",
            "2019-02-16 20:57:51 | itr #131 | Optimizing policy...\n",
            "2019-02-16 20:57:51 | itr #131 | Computing loss before\n",
            "2019-02-16 20:57:51 | itr #131 | Computing KL before\n",
            "2019-02-16 20:57:51 | itr #131 | Optimizing\n",
            "2019-02-16 20:57:51 | itr #131 | Start CG optimization: #parameters: 10528, #inputs: 129, #subsample_inputs: 129\n",
            "2019-02-16 20:57:51 | itr #131 | computing loss before\n",
            "2019-02-16 20:57:51 | itr #131 | performing update\n",
            "2019-02-16 20:57:51 | itr #131 | computing gradient\n",
            "2019-02-16 20:57:51 | itr #131 | gradient computed\n",
            "2019-02-16 20:57:51 | itr #131 | computing descent direction\n"
          ],
          "name": "stdout"
        },
        {
          "output_type": "stream",
          "text": [
            "\n",
            "Total time elapsed: 00:00:04\n"
          ],
          "name": "stderr"
        },
        {
          "output_type": "stream",
          "text": [
            "2019-02-16 20:57:52 | itr #131 | descent direction computed\n",
            "2019-02-16 20:57:52 | itr #131 | backtrack iters: 1\n",
            "2019-02-16 20:57:52 | itr #131 | computing loss after\n",
            "2019-02-16 20:57:52 | itr #131 | optimization finished\n",
            "2019-02-16 20:57:52 | itr #131 | Computing KL after\n",
            "2019-02-16 20:57:52 | itr #131 | Computing loss after\n",
            "2019-02-16 20:57:52 | itr #131 | Fitting baseline...\n",
            "2019-02-16 20:57:52 | itr #131 | Saving snapshot...\n",
            "2019-02-16 20:57:52 | itr #131 | Saved\n",
            "2019-02-16 20:57:52 | --------------------------  -------------\n",
            "2019-02-16 20:57:52 | AverageDiscountedReturn      45.9965\n",
            "2019-02-16 20:57:52 | AverageReturn                48.7907\n",
            "2019-02-16 20:57:52 | Baseline/ExplainedVariance    0.606529\n",
            "2019-02-16 20:57:52 | Entropy                       2.7986\n",
            "2019-02-16 20:57:52 | EnvExecTime                   0.8188\n",
            "2019-02-16 20:57:52 | Iteration                   131\n",
            "2019-02-16 20:57:52 | ItrTime                       5.05115\n",
            "2019-02-16 20:57:52 | MaxReturn                   110\n",
            "2019-02-16 20:57:52 | MinReturn                   -50\n",
            "2019-02-16 20:57:52 | NumTrajs                    129\n",
            "2019-02-16 20:57:52 | Perplexity                   16.4216\n",
            "2019-02-16 20:57:52 | PolicyExecTime                3.76923\n",
            "2019-02-16 20:57:52 | ProcessExecTime               0.0394819\n",
            "2019-02-16 20:57:52 | StdReturn                    52.2348\n",
            "2019-02-16 20:57:52 | Time                        673.1\n",
            "2019-02-16 20:57:52 | policy/Entropy                0.129441\n",
            "2019-02-16 20:57:52 | policy/KL                     0.00842262\n",
            "2019-02-16 20:57:52 | policy/KLBefore               0\n",
            "2019-02-16 20:57:52 | policy/LossAfter             -0.0188448\n",
            "2019-02-16 20:57:52 | policy/LossBefore            -1.23922e-08\n",
            "2019-02-16 20:57:52 | policy/dLoss                  0.0188448\n",
            "2019-02-16 20:57:52 | --------------------------  -------------\n",
            "2019-02-16 20:57:52 | itr #132 | Obtaining samples...\n",
            "2019-02-16 20:57:52 | itr #132 | Obtaining samples for iteration 132...\n"
          ],
          "name": "stdout"
        },
        {
          "output_type": "stream",
          "text": [
            "0% [##############################] 100% | ETA: 00:00:00"
          ],
          "name": "stderr"
        },
        {
          "output_type": "stream",
          "text": [
            "2019-02-16 20:57:56 | itr #132 | Processing samples...\n",
            "2019-02-16 20:57:56 | itr #132 | Logging diagnostics...\n",
            "2019-02-16 20:57:56 | itr #132 | Optimizing policy...\n",
            "2019-02-16 20:57:56 | itr #132 | Computing loss before\n",
            "2019-02-16 20:57:56 | itr #132 | Computing KL before\n",
            "2019-02-16 20:57:56 | itr #132 | Optimizing\n",
            "2019-02-16 20:57:57 | itr #132 | Start CG optimization: #parameters: 10528, #inputs: 134, #subsample_inputs: 134\n",
            "2019-02-16 20:57:57 | itr #132 | computing loss before\n",
            "2019-02-16 20:57:57 | itr #132 | performing update\n",
            "2019-02-16 20:57:57 | itr #132 | computing gradient\n",
            "2019-02-16 20:57:57 | itr #132 | gradient computed\n",
            "2019-02-16 20:57:57 | itr #132 | computing descent direction\n"
          ],
          "name": "stdout"
        },
        {
          "output_type": "stream",
          "text": [
            "\n",
            "Total time elapsed: 00:00:04\n"
          ],
          "name": "stderr"
        },
        {
          "output_type": "stream",
          "text": [
            "2019-02-16 20:57:57 | itr #132 | descent direction computed\n",
            "2019-02-16 20:57:57 | itr #132 | backtrack iters: 1\n",
            "2019-02-16 20:57:57 | itr #132 | computing loss after\n",
            "2019-02-16 20:57:57 | itr #132 | optimization finished\n",
            "2019-02-16 20:57:57 | itr #132 | Computing KL after\n",
            "2019-02-16 20:57:57 | itr #132 | Computing loss after\n",
            "2019-02-16 20:57:57 | itr #132 | Fitting baseline...\n",
            "2019-02-16 20:57:57 | itr #132 | Saving snapshot...\n",
            "2019-02-16 20:57:57 | itr #132 | Saved\n",
            "2019-02-16 20:57:57 | --------------------------  -------------\n",
            "2019-02-16 20:57:57 | AverageDiscountedReturn      52.4866\n",
            "2019-02-16 20:57:57 | AverageReturn                56.0075\n",
            "2019-02-16 20:57:57 | Baseline/ExplainedVariance    0.613537\n",
            "2019-02-16 20:57:57 | Entropy                       2.7865\n",
            "2019-02-16 20:57:57 | EnvExecTime                   0.832009\n",
            "2019-02-16 20:57:57 | Iteration                   132\n",
            "2019-02-16 20:57:57 | ItrTime                       5.07018\n",
            "2019-02-16 20:57:57 | MaxReturn                   110\n",
            "2019-02-16 20:57:57 | MinReturn                   -48\n",
            "2019-02-16 20:57:57 | NumTrajs                    134\n",
            "2019-02-16 20:57:57 | Perplexity                   16.2242\n",
            "2019-02-16 20:57:57 | PolicyExecTime                3.78312\n",
            "2019-02-16 20:57:57 | ProcessExecTime               0.0409589\n",
            "2019-02-16 20:57:57 | StdReturn                    52.2416\n",
            "2019-02-16 20:57:57 | Time                        678.217\n",
            "2019-02-16 20:57:57 | policy/Entropy                0.126641\n",
            "2019-02-16 20:57:57 | policy/KL                     0.00752605\n",
            "2019-02-16 20:57:57 | policy/KLBefore               0\n",
            "2019-02-16 20:57:57 | policy/LossAfter             -0.0173907\n",
            "2019-02-16 20:57:57 | policy/LossBefore            -2.75628e-09\n",
            "2019-02-16 20:57:57 | policy/dLoss                  0.0173907\n",
            "2019-02-16 20:57:57 | --------------------------  -------------\n",
            "2019-02-16 20:57:57 | itr #133 | Obtaining samples...\n",
            "2019-02-16 20:57:57 | itr #133 | Obtaining samples for iteration 133...\n"
          ],
          "name": "stdout"
        },
        {
          "output_type": "stream",
          "text": [
            "0% [##############################] 100% | ETA: 00:00:00"
          ],
          "name": "stderr"
        },
        {
          "output_type": "stream",
          "text": [
            "2019-02-16 20:58:01 | itr #133 | Processing samples...\n",
            "2019-02-16 20:58:01 | itr #133 | Logging diagnostics...\n",
            "2019-02-16 20:58:01 | itr #133 | Optimizing policy...\n",
            "2019-02-16 20:58:01 | itr #133 | Computing loss before\n",
            "2019-02-16 20:58:01 | itr #133 | Computing KL before\n",
            "2019-02-16 20:58:01 | itr #133 | Optimizing\n",
            "2019-02-16 20:58:01 | itr #133 | Start CG optimization: #parameters: 10528, #inputs: 128, #subsample_inputs: 128\n",
            "2019-02-16 20:58:01 | itr #133 | computing loss before\n",
            "2019-02-16 20:58:01 | itr #133 | performing update\n",
            "2019-02-16 20:58:01 | itr #133 | computing gradient\n",
            "2019-02-16 20:58:01 | itr #133 | gradient computed\n",
            "2019-02-16 20:58:01 | itr #133 | computing descent direction\n"
          ],
          "name": "stdout"
        },
        {
          "output_type": "stream",
          "text": [
            "\n",
            "Total time elapsed: 00:00:04\n"
          ],
          "name": "stderr"
        },
        {
          "output_type": "stream",
          "text": [
            "2019-02-16 20:58:02 | itr #133 | descent direction computed\n",
            "2019-02-16 20:58:02 | itr #133 | backtrack iters: 1\n",
            "2019-02-16 20:58:02 | itr #133 | computing loss after\n",
            "2019-02-16 20:58:02 | itr #133 | optimization finished\n",
            "2019-02-16 20:58:02 | itr #133 | Computing KL after\n",
            "2019-02-16 20:58:02 | itr #133 | Computing loss after\n",
            "2019-02-16 20:58:02 | itr #133 | Fitting baseline...\n",
            "2019-02-16 20:58:02 | itr #133 | Saving snapshot...\n",
            "2019-02-16 20:58:02 | itr #133 | Saved\n",
            "2019-02-16 20:58:02 | --------------------------  ------------\n",
            "2019-02-16 20:58:02 | AverageDiscountedReturn      46.7171\n",
            "2019-02-16 20:58:02 | AverageReturn                49.7578\n",
            "2019-02-16 20:58:02 | Baseline/ExplainedVariance    0.509993\n",
            "2019-02-16 20:58:02 | Entropy                       2.78365\n",
            "2019-02-16 20:58:02 | EnvExecTime                   0.792898\n",
            "2019-02-16 20:58:02 | Iteration                   133\n",
            "2019-02-16 20:58:02 | ItrTime                       4.86455\n",
            "2019-02-16 20:58:02 | MaxReturn                   110\n",
            "2019-02-16 20:58:02 | MinReturn                   -47\n",
            "2019-02-16 20:58:02 | NumTrajs                    128\n",
            "2019-02-16 20:58:02 | Perplexity                   16.178\n",
            "2019-02-16 20:58:02 | PolicyExecTime                3.63498\n",
            "2019-02-16 20:58:02 | ProcessExecTime               0.0386798\n",
            "2019-02-16 20:58:02 | StdReturn                    53.7735\n",
            "2019-02-16 20:58:02 | Time                        683.129\n",
            "2019-02-16 20:58:02 | policy/Entropy                0.127843\n",
            "2019-02-16 20:58:02 | policy/KL                     0.00848467\n",
            "2019-02-16 20:58:02 | policy/KLBefore               0\n",
            "2019-02-16 20:58:02 | policy/LossAfter             -0.0138193\n",
            "2019-02-16 20:58:02 | policy/LossBefore            -3.7995e-09\n",
            "2019-02-16 20:58:02 | policy/dLoss                  0.0138193\n",
            "2019-02-16 20:58:02 | --------------------------  ------------\n",
            "2019-02-16 20:58:02 | itr #134 | Obtaining samples...\n",
            "2019-02-16 20:58:02 | itr #134 | Obtaining samples for iteration 134...\n"
          ],
          "name": "stdout"
        },
        {
          "output_type": "stream",
          "text": [
            "0% [##############################] 100% | ETA: 00:00:00"
          ],
          "name": "stderr"
        },
        {
          "output_type": "stream",
          "text": [
            "2019-02-16 20:58:07 | itr #134 | Processing samples...\n",
            "2019-02-16 20:58:07 | itr #134 | Logging diagnostics...\n",
            "2019-02-16 20:58:07 | itr #134 | Optimizing policy...\n",
            "2019-02-16 20:58:07 | itr #134 | Computing loss before\n",
            "2019-02-16 20:58:07 | itr #134 | Computing KL before\n",
            "2019-02-16 20:58:07 | itr #134 | Optimizing\n",
            "2019-02-16 20:58:07 | itr #134 | Start CG optimization: #parameters: 10528, #inputs: 124, #subsample_inputs: 124\n",
            "2019-02-16 20:58:07 | itr #134 | computing loss before\n",
            "2019-02-16 20:58:07 | itr #134 | performing update\n",
            "2019-02-16 20:58:07 | itr #134 | computing gradient\n",
            "2019-02-16 20:58:07 | itr #134 | gradient computed\n",
            "2019-02-16 20:58:07 | itr #134 | computing descent direction\n"
          ],
          "name": "stdout"
        },
        {
          "output_type": "stream",
          "text": [
            "\n",
            "Total time elapsed: 00:00:04\n"
          ],
          "name": "stderr"
        },
        {
          "output_type": "stream",
          "text": [
            "2019-02-16 20:58:07 | itr #134 | descent direction computed\n",
            "2019-02-16 20:58:07 | itr #134 | backtrack iters: 2\n",
            "2019-02-16 20:58:07 | itr #134 | computing loss after\n",
            "2019-02-16 20:58:07 | itr #134 | optimization finished\n",
            "2019-02-16 20:58:07 | itr #134 | Computing KL after\n",
            "2019-02-16 20:58:07 | itr #134 | Computing loss after\n",
            "2019-02-16 20:58:07 | itr #134 | Fitting baseline...\n",
            "2019-02-16 20:58:07 | itr #134 | Saving snapshot...\n",
            "2019-02-16 20:58:07 | itr #134 | Saved\n",
            "2019-02-16 20:58:07 | --------------------------  -------------\n",
            "2019-02-16 20:58:07 | AverageDiscountedReturn      45.7673\n",
            "2019-02-16 20:58:07 | AverageReturn                48.621\n",
            "2019-02-16 20:58:07 | Baseline/ExplainedVariance    0.490489\n",
            "2019-02-16 20:58:07 | Entropy                       2.67869\n",
            "2019-02-16 20:58:07 | EnvExecTime                   0.862356\n",
            "2019-02-16 20:58:07 | Iteration                   134\n",
            "2019-02-16 20:58:07 | ItrTime                       5.175\n",
            "2019-02-16 20:58:07 | MaxReturn                   110\n",
            "2019-02-16 20:58:07 | MinReturn                   -60\n",
            "2019-02-16 20:58:07 | NumTrajs                    124\n",
            "2019-02-16 20:58:07 | Perplexity                   14.5661\n",
            "2019-02-16 20:58:07 | PolicyExecTime                3.85228\n",
            "2019-02-16 20:58:07 | ProcessExecTime               0.0389342\n",
            "2019-02-16 20:58:07 | StdReturn                    54.1839\n",
            "2019-02-16 20:58:07 | Time                        688.337\n",
            "2019-02-16 20:58:07 | policy/Entropy                0.143593\n",
            "2019-02-16 20:58:07 | policy/KL                     0.00838753\n",
            "2019-02-16 20:58:07 | policy/KLBefore               0\n",
            "2019-02-16 20:58:07 | policy/LossAfter             -0.0211541\n",
            "2019-02-16 20:58:07 | policy/LossBefore             7.60468e-09\n",
            "2019-02-16 20:58:07 | policy/dLoss                  0.0211541\n",
            "2019-02-16 20:58:07 | --------------------------  -------------\n",
            "2019-02-16 20:58:07 | itr #135 | Obtaining samples...\n",
            "2019-02-16 20:58:07 | itr #135 | Obtaining samples for iteration 135...\n"
          ],
          "name": "stdout"
        },
        {
          "output_type": "stream",
          "text": [
            "0% [##############################] 100% | ETA: 00:00:00"
          ],
          "name": "stderr"
        },
        {
          "output_type": "stream",
          "text": [
            "2019-02-16 20:58:12 | itr #135 | Processing samples...\n",
            "2019-02-16 20:58:12 | itr #135 | Logging diagnostics...\n",
            "2019-02-16 20:58:12 | itr #135 | Optimizing policy...\n",
            "2019-02-16 20:58:12 | itr #135 | Computing loss before\n",
            "2019-02-16 20:58:12 | itr #135 | Computing KL before\n",
            "2019-02-16 20:58:12 | itr #135 | Optimizing\n",
            "2019-02-16 20:58:12 | itr #135 | Start CG optimization: #parameters: 10528, #inputs: 127, #subsample_inputs: 127\n",
            "2019-02-16 20:58:12 | itr #135 | computing loss before\n",
            "2019-02-16 20:58:12 | itr #135 | performing update\n",
            "2019-02-16 20:58:12 | itr #135 | computing gradient\n",
            "2019-02-16 20:58:12 | itr #135 | gradient computed\n",
            "2019-02-16 20:58:12 | itr #135 | computing descent direction\n"
          ],
          "name": "stdout"
        },
        {
          "output_type": "stream",
          "text": [
            "\n",
            "Total time elapsed: 00:00:04\n"
          ],
          "name": "stderr"
        },
        {
          "output_type": "stream",
          "text": [
            "2019-02-16 20:58:12 | itr #135 | descent direction computed\n",
            "2019-02-16 20:58:12 | itr #135 | backtrack iters: 1\n",
            "2019-02-16 20:58:12 | itr #135 | computing loss after\n",
            "2019-02-16 20:58:12 | itr #135 | optimization finished\n",
            "2019-02-16 20:58:12 | itr #135 | Computing KL after\n",
            "2019-02-16 20:58:12 | itr #135 | Computing loss after\n",
            "2019-02-16 20:58:12 | itr #135 | Fitting baseline...\n",
            "2019-02-16 20:58:12 | itr #135 | Saving snapshot...\n",
            "2019-02-16 20:58:12 | itr #135 | Saved\n",
            "2019-02-16 20:58:12 | --------------------------  -------------\n",
            "2019-02-16 20:58:12 | AverageDiscountedReturn      54.1234\n",
            "2019-02-16 20:58:12 | AverageReturn                57.6772\n",
            "2019-02-16 20:58:12 | Baseline/ExplainedVariance    0.608813\n",
            "2019-02-16 20:58:12 | Entropy                       2.63035\n",
            "2019-02-16 20:58:12 | EnvExecTime                   0.877266\n",
            "2019-02-16 20:58:12 | Iteration                   135\n",
            "2019-02-16 20:58:12 | ItrTime                       5.20847\n",
            "2019-02-16 20:58:12 | MaxReturn                   110\n",
            "2019-02-16 20:58:12 | MinReturn                   -38\n",
            "2019-02-16 20:58:12 | NumTrajs                    127\n",
            "2019-02-16 20:58:12 | Perplexity                   13.8786\n",
            "2019-02-16 20:58:12 | PolicyExecTime                3.87779\n",
            "2019-02-16 20:58:12 | ProcessExecTime               0.0393333\n",
            "2019-02-16 20:58:12 | StdReturn                    49.6905\n",
            "2019-02-16 20:58:12 | Time                        693.607\n",
            "2019-02-16 20:58:12 | policy/Entropy                0.152786\n",
            "2019-02-16 20:58:12 | policy/KL                     0.00733697\n",
            "2019-02-16 20:58:12 | policy/KLBefore               0\n",
            "2019-02-16 20:58:12 | policy/LossAfter             -0.0183521\n",
            "2019-02-16 20:58:12 | policy/LossBefore             1.96297e-08\n",
            "2019-02-16 20:58:12 | policy/dLoss                  0.0183521\n",
            "2019-02-16 20:58:12 | --------------------------  -------------\n",
            "2019-02-16 20:58:12 | itr #136 | Obtaining samples...\n",
            "2019-02-16 20:58:12 | itr #136 | Obtaining samples for iteration 136...\n"
          ],
          "name": "stdout"
        },
        {
          "output_type": "stream",
          "text": [
            "0% [##############################] 100% | ETA: 00:00:00"
          ],
          "name": "stderr"
        },
        {
          "output_type": "stream",
          "text": [
            "2019-02-16 20:58:17 | itr #136 | Processing samples...\n",
            "2019-02-16 20:58:17 | itr #136 | Logging diagnostics...\n",
            "2019-02-16 20:58:17 | itr #136 | Optimizing policy...\n",
            "2019-02-16 20:58:17 | itr #136 | Computing loss before\n",
            "2019-02-16 20:58:17 | itr #136 | Computing KL before\n",
            "2019-02-16 20:58:17 | itr #136 | Optimizing\n",
            "2019-02-16 20:58:17 | itr #136 | Start CG optimization: #parameters: 10528, #inputs: 129, #subsample_inputs: 129\n",
            "2019-02-16 20:58:17 | itr #136 | computing loss before\n",
            "2019-02-16 20:58:17 | itr #136 | performing update\n",
            "2019-02-16 20:58:17 | itr #136 | computing gradient\n",
            "2019-02-16 20:58:17 | itr #136 | gradient computed\n",
            "2019-02-16 20:58:17 | itr #136 | computing descent direction\n"
          ],
          "name": "stdout"
        },
        {
          "output_type": "stream",
          "text": [
            "\n",
            "Total time elapsed: 00:00:04\n"
          ],
          "name": "stderr"
        },
        {
          "output_type": "stream",
          "text": [
            "2019-02-16 20:58:17 | itr #136 | descent direction computed\n",
            "2019-02-16 20:58:17 | itr #136 | backtrack iters: 0\n",
            "2019-02-16 20:58:17 | itr #136 | computing loss after\n",
            "2019-02-16 20:58:17 | itr #136 | optimization finished\n",
            "2019-02-16 20:58:17 | itr #136 | Computing KL after\n",
            "2019-02-16 20:58:17 | itr #136 | Computing loss after\n",
            "2019-02-16 20:58:17 | itr #136 | Fitting baseline...\n",
            "2019-02-16 20:58:17 | itr #136 | Saving snapshot...\n",
            "2019-02-16 20:58:17 | itr #136 | Saved\n",
            "2019-02-16 20:58:17 | --------------------------  -------------\n",
            "2019-02-16 20:58:17 | AverageDiscountedReturn      46.5982\n",
            "2019-02-16 20:58:17 | AverageReturn                49.2791\n",
            "2019-02-16 20:58:17 | Baseline/ExplainedVariance    0.579252\n",
            "2019-02-16 20:58:17 | Entropy                       2.63668\n",
            "2019-02-16 20:58:17 | EnvExecTime                   0.81119\n",
            "2019-02-16 20:58:17 | Iteration                   136\n",
            "2019-02-16 20:58:17 | ItrTime                       4.97425\n",
            "2019-02-16 20:58:17 | MaxReturn                   110\n",
            "2019-02-16 20:58:17 | MinReturn                   -79\n",
            "2019-02-16 20:58:17 | NumTrajs                    129\n",
            "2019-02-16 20:58:17 | Perplexity                   13.9667\n",
            "2019-02-16 20:58:17 | PolicyExecTime                3.73203\n",
            "2019-02-16 20:58:17 | ProcessExecTime               0.0396187\n",
            "2019-02-16 20:58:17 | StdReturn                    51.5474\n",
            "2019-02-16 20:58:17 | Time                        698.615\n",
            "2019-02-16 20:58:17 | policy/Entropy                0.15497\n",
            "2019-02-16 20:58:17 | policy/KL                     0.00826521\n",
            "2019-02-16 20:58:17 | policy/KLBefore               0\n",
            "2019-02-16 20:58:17 | policy/LossAfter             -0.01876\n",
            "2019-02-16 20:58:17 | policy/LossBefore             8.12856e-09\n",
            "2019-02-16 20:58:17 | policy/dLoss                  0.01876\n",
            "2019-02-16 20:58:17 | --------------------------  -------------\n",
            "2019-02-16 20:58:17 | itr #137 | Obtaining samples...\n",
            "2019-02-16 20:58:17 | itr #137 | Obtaining samples for iteration 137...\n"
          ],
          "name": "stdout"
        },
        {
          "output_type": "stream",
          "text": [
            "0% [##############################] 100% | ETA: 00:00:00"
          ],
          "name": "stderr"
        },
        {
          "output_type": "stream",
          "text": [
            "2019-02-16 20:58:22 | itr #137 | Processing samples...\n",
            "2019-02-16 20:58:22 | itr #137 | Logging diagnostics...\n",
            "2019-02-16 20:58:22 | itr #137 | Optimizing policy...\n",
            "2019-02-16 20:58:22 | itr #137 | Computing loss before\n",
            "2019-02-16 20:58:22 | itr #137 | Computing KL before\n",
            "2019-02-16 20:58:22 | itr #137 | Optimizing\n",
            "2019-02-16 20:58:22 | itr #137 | Start CG optimization: #parameters: 10528, #inputs: 128, #subsample_inputs: 128\n",
            "2019-02-16 20:58:22 | itr #137 | computing loss before\n",
            "2019-02-16 20:58:22 | itr #137 | performing update\n",
            "2019-02-16 20:58:22 | itr #137 | computing gradient\n",
            "2019-02-16 20:58:22 | itr #137 | gradient computed\n",
            "2019-02-16 20:58:22 | itr #137 | computing descent direction\n"
          ],
          "name": "stdout"
        },
        {
          "output_type": "stream",
          "text": [
            "\n",
            "Total time elapsed: 00:00:04\n"
          ],
          "name": "stderr"
        },
        {
          "output_type": "stream",
          "text": [
            "2019-02-16 20:58:22 | itr #137 | descent direction computed\n",
            "2019-02-16 20:58:22 | itr #137 | backtrack iters: 0\n",
            "2019-02-16 20:58:22 | itr #137 | computing loss after\n",
            "2019-02-16 20:58:22 | itr #137 | optimization finished\n",
            "2019-02-16 20:58:22 | itr #137 | Computing KL after\n",
            "2019-02-16 20:58:22 | itr #137 | Computing loss after\n",
            "2019-02-16 20:58:22 | itr #137 | Fitting baseline...\n",
            "2019-02-16 20:58:22 | itr #137 | Saving snapshot...\n",
            "2019-02-16 20:58:22 | itr #137 | Saved\n",
            "2019-02-16 20:58:22 | --------------------------  -------------\n",
            "2019-02-16 20:58:22 | AverageDiscountedReturn      50.7966\n",
            "2019-02-16 20:58:22 | AverageReturn                53.9062\n",
            "2019-02-16 20:58:22 | Baseline/ExplainedVariance    0.616574\n",
            "2019-02-16 20:58:22 | Entropy                       2.65924\n",
            "2019-02-16 20:58:22 | EnvExecTime                   0.79472\n",
            "2019-02-16 20:58:22 | Iteration                   137\n",
            "2019-02-16 20:58:22 | ItrTime                       4.87924\n",
            "2019-02-16 20:58:22 | MaxReturn                   110\n",
            "2019-02-16 20:58:22 | MinReturn                   -39\n",
            "2019-02-16 20:58:22 | NumTrajs                    128\n",
            "2019-02-16 20:58:22 | Perplexity                   14.2855\n",
            "2019-02-16 20:58:22 | PolicyExecTime                3.65431\n",
            "2019-02-16 20:58:22 | ProcessExecTime               0.0385211\n",
            "2019-02-16 20:58:22 | StdReturn                    49.6188\n",
            "2019-02-16 20:58:22 | Time                        703.568\n",
            "2019-02-16 20:58:22 | policy/Entropy                0.149589\n",
            "2019-02-16 20:58:22 | policy/KL                     0.00815369\n",
            "2019-02-16 20:58:22 | policy/KLBefore               0\n",
            "2019-02-16 20:58:22 | policy/LossAfter             -0.0198808\n",
            "2019-02-16 20:58:22 | policy/LossBefore            -1.31639e-08\n",
            "2019-02-16 20:58:22 | policy/dLoss                  0.0198808\n",
            "2019-02-16 20:58:22 | --------------------------  -------------\n",
            "2019-02-16 20:58:22 | itr #138 | Obtaining samples...\n",
            "2019-02-16 20:58:22 | itr #138 | Obtaining samples for iteration 138...\n"
          ],
          "name": "stdout"
        },
        {
          "output_type": "stream",
          "text": [
            "0% [##############################] 100% | ETA: 00:00:00"
          ],
          "name": "stderr"
        },
        {
          "output_type": "stream",
          "text": [
            "2019-02-16 20:58:27 | itr #138 | Processing samples...\n",
            "2019-02-16 20:58:27 | itr #138 | Logging diagnostics...\n",
            "2019-02-16 20:58:27 | itr #138 | Optimizing policy...\n",
            "2019-02-16 20:58:27 | itr #138 | Computing loss before\n",
            "2019-02-16 20:58:27 | itr #138 | Computing KL before\n",
            "2019-02-16 20:58:27 | itr #138 | Optimizing\n",
            "2019-02-16 20:58:27 | itr #138 | Start CG optimization: #parameters: 10528, #inputs: 125, #subsample_inputs: 125\n",
            "2019-02-16 20:58:27 | itr #138 | computing loss before\n",
            "2019-02-16 20:58:27 | itr #138 | performing update\n",
            "2019-02-16 20:58:27 | itr #138 | computing gradient\n",
            "2019-02-16 20:58:27 | itr #138 | gradient computed\n",
            "2019-02-16 20:58:27 | itr #138 | computing descent direction\n"
          ],
          "name": "stdout"
        },
        {
          "output_type": "stream",
          "text": [
            "\n",
            "Total time elapsed: 00:00:04\n"
          ],
          "name": "stderr"
        },
        {
          "output_type": "stream",
          "text": [
            "2019-02-16 20:58:27 | itr #138 | descent direction computed\n",
            "2019-02-16 20:58:27 | itr #138 | backtrack iters: 1\n",
            "2019-02-16 20:58:27 | itr #138 | computing loss after\n",
            "2019-02-16 20:58:27 | itr #138 | optimization finished\n",
            "2019-02-16 20:58:27 | itr #138 | Computing KL after\n",
            "2019-02-16 20:58:27 | itr #138 | Computing loss after\n",
            "2019-02-16 20:58:27 | itr #138 | Fitting baseline...\n",
            "2019-02-16 20:58:27 | itr #138 | Saving snapshot...\n",
            "2019-02-16 20:58:27 | itr #138 | Saved\n",
            "2019-02-16 20:58:27 | --------------------------  ------------\n",
            "2019-02-16 20:58:27 | AverageDiscountedReturn      49.3958\n",
            "2019-02-16 20:58:27 | AverageReturn                52.552\n",
            "2019-02-16 20:58:27 | Baseline/ExplainedVariance    0.626144\n",
            "2019-02-16 20:58:27 | Entropy                       2.59203\n",
            "2019-02-16 20:58:27 | EnvExecTime                   0.812588\n",
            "2019-02-16 20:58:27 | Iteration                   138\n",
            "2019-02-16 20:58:27 | ItrTime                       4.98021\n",
            "2019-02-16 20:58:27 | MaxReturn                   110\n",
            "2019-02-16 20:58:27 | MinReturn                   -45\n",
            "2019-02-16 20:58:27 | NumTrajs                    125\n",
            "2019-02-16 20:58:27 | Perplexity                   13.3569\n",
            "2019-02-16 20:58:27 | PolicyExecTime                3.73172\n",
            "2019-02-16 20:58:27 | ProcessExecTime               0.0383253\n",
            "2019-02-16 20:58:27 | StdReturn                    50.7651\n",
            "2019-02-16 20:58:27 | Time                        708.604\n",
            "2019-02-16 20:58:27 | policy/Entropy                0.157081\n",
            "2019-02-16 20:58:27 | policy/KL                     0.00720098\n",
            "2019-02-16 20:58:27 | policy/KLBefore               0\n",
            "2019-02-16 20:58:27 | policy/LossAfter             -0.0183241\n",
            "2019-02-16 20:58:27 | policy/LossBefore            -0\n",
            "2019-02-16 20:58:27 | policy/dLoss                  0.0183241\n",
            "2019-02-16 20:58:27 | --------------------------  ------------\n",
            "2019-02-16 20:58:27 | itr #139 | Obtaining samples...\n",
            "2019-02-16 20:58:27 | itr #139 | Obtaining samples for iteration 139...\n"
          ],
          "name": "stdout"
        },
        {
          "output_type": "stream",
          "text": [
            "0% [##############################] 100% | ETA: 00:00:00"
          ],
          "name": "stderr"
        },
        {
          "output_type": "stream",
          "text": [
            "2019-02-16 20:58:32 | itr #139 | Processing samples...\n",
            "2019-02-16 20:58:32 | itr #139 | Logging diagnostics...\n",
            "2019-02-16 20:58:32 | itr #139 | Optimizing policy...\n",
            "2019-02-16 20:58:32 | itr #139 | Computing loss before\n",
            "2019-02-16 20:58:32 | itr #139 | Computing KL before\n",
            "2019-02-16 20:58:32 | itr #139 | Optimizing\n",
            "2019-02-16 20:58:32 | itr #139 | Start CG optimization: #parameters: 10528, #inputs: 127, #subsample_inputs: 127\n",
            "2019-02-16 20:58:32 | itr #139 | computing loss before\n",
            "2019-02-16 20:58:32 | itr #139 | performing update\n",
            "2019-02-16 20:58:32 | itr #139 | computing gradient\n",
            "2019-02-16 20:58:32 | itr #139 | gradient computed\n",
            "2019-02-16 20:58:32 | itr #139 | computing descent direction\n"
          ],
          "name": "stdout"
        },
        {
          "output_type": "stream",
          "text": [
            "\n",
            "Total time elapsed: 00:00:04\n"
          ],
          "name": "stderr"
        },
        {
          "output_type": "stream",
          "text": [
            "2019-02-16 20:58:32 | itr #139 | descent direction computed\n",
            "2019-02-16 20:58:32 | itr #139 | backtrack iters: 0\n",
            "2019-02-16 20:58:32 | itr #139 | computing loss after\n",
            "2019-02-16 20:58:32 | itr #139 | optimization finished\n",
            "2019-02-16 20:58:32 | itr #139 | Computing KL after\n",
            "2019-02-16 20:58:32 | itr #139 | Computing loss after\n",
            "2019-02-16 20:58:32 | itr #139 | Fitting baseline...\n",
            "2019-02-16 20:58:32 | itr #139 | Saving snapshot...\n",
            "2019-02-16 20:58:32 | itr #139 | Saved\n",
            "2019-02-16 20:58:32 | --------------------------  -------------\n",
            "2019-02-16 20:58:32 | AverageDiscountedReturn      48.4404\n",
            "2019-02-16 20:58:32 | AverageReturn                51.5748\n",
            "2019-02-16 20:58:32 | Baseline/ExplainedVariance    0.623926\n",
            "2019-02-16 20:58:32 | Entropy                       2.61521\n",
            "2019-02-16 20:58:32 | EnvExecTime                   0.907107\n",
            "2019-02-16 20:58:32 | Iteration                   139\n",
            "2019-02-16 20:58:32 | ItrTime                       4.9845\n",
            "2019-02-16 20:58:32 | MaxReturn                   110\n",
            "2019-02-16 20:58:32 | MinReturn                   -61\n",
            "2019-02-16 20:58:32 | NumTrajs                    127\n",
            "2019-02-16 20:58:32 | Perplexity                   13.6702\n",
            "2019-02-16 20:58:32 | PolicyExecTime                3.64732\n",
            "2019-02-16 20:58:32 | ProcessExecTime               0.0383387\n",
            "2019-02-16 20:58:32 | StdReturn                    52.7544\n",
            "2019-02-16 20:58:32 | Time                        713.635\n",
            "2019-02-16 20:58:32 | policy/Entropy                0.149985\n",
            "2019-02-16 20:58:32 | policy/KL                     0.00915306\n",
            "2019-02-16 20:58:32 | policy/KLBefore               0\n",
            "2019-02-16 20:58:32 | policy/LossAfter             -0.0200066\n",
            "2019-02-16 20:58:32 | policy/LossBefore            -4.74701e-10\n",
            "2019-02-16 20:58:32 | policy/dLoss                  0.0200066\n",
            "2019-02-16 20:58:32 | --------------------------  -------------\n",
            "2019-02-16 20:58:32 | itr #140 | Obtaining samples...\n",
            "2019-02-16 20:58:32 | itr #140 | Obtaining samples for iteration 140...\n"
          ],
          "name": "stdout"
        },
        {
          "output_type": "stream",
          "text": [
            "0% [##############################] 100% | ETA: 00:00:00"
          ],
          "name": "stderr"
        },
        {
          "output_type": "stream",
          "text": [
            "2019-02-16 20:58:37 | itr #140 | Processing samples...\n",
            "2019-02-16 20:58:37 | itr #140 | Logging diagnostics...\n",
            "2019-02-16 20:58:37 | itr #140 | Optimizing policy...\n",
            "2019-02-16 20:58:37 | itr #140 | Computing loss before\n",
            "2019-02-16 20:58:37 | itr #140 | Computing KL before\n",
            "2019-02-16 20:58:37 | itr #140 | Optimizing\n",
            "2019-02-16 20:58:37 | itr #140 | Start CG optimization: #parameters: 10528, #inputs: 127, #subsample_inputs: 127\n",
            "2019-02-16 20:58:37 | itr #140 | computing loss before\n",
            "2019-02-16 20:58:37 | itr #140 | performing update\n",
            "2019-02-16 20:58:37 | itr #140 | computing gradient\n",
            "2019-02-16 20:58:37 | itr #140 | gradient computed\n",
            "2019-02-16 20:58:37 | itr #140 | computing descent direction\n"
          ],
          "name": "stdout"
        },
        {
          "output_type": "stream",
          "text": [
            "\n",
            "Total time elapsed: 00:00:04\n"
          ],
          "name": "stderr"
        },
        {
          "output_type": "stream",
          "text": [
            "2019-02-16 20:58:37 | itr #140 | descent direction computed\n",
            "2019-02-16 20:58:37 | itr #140 | backtrack iters: 1\n",
            "2019-02-16 20:58:37 | itr #140 | computing loss after\n",
            "2019-02-16 20:58:37 | itr #140 | optimization finished\n",
            "2019-02-16 20:58:37 | itr #140 | Computing KL after\n",
            "2019-02-16 20:58:37 | itr #140 | Computing loss after\n",
            "2019-02-16 20:58:37 | itr #140 | Fitting baseline...\n",
            "2019-02-16 20:58:37 | itr #140 | Saving snapshot...\n",
            "2019-02-16 20:58:37 | itr #140 | Saved\n",
            "2019-02-16 20:58:37 | --------------------------  -------------\n",
            "2019-02-16 20:58:37 | AverageDiscountedReturn      46.0134\n",
            "2019-02-16 20:58:37 | AverageReturn                48.8189\n",
            "2019-02-16 20:58:37 | Baseline/ExplainedVariance    0.589416\n",
            "2019-02-16 20:58:37 | Entropy                       2.68205\n",
            "2019-02-16 20:58:37 | EnvExecTime                   0.795572\n",
            "2019-02-16 20:58:37 | Iteration                   140\n",
            "2019-02-16 20:58:37 | ItrTime                       4.91733\n",
            "2019-02-16 20:58:37 | MaxReturn                   110\n",
            "2019-02-16 20:58:37 | MinReturn                   -63\n",
            "2019-02-16 20:58:37 | NumTrajs                    127\n",
            "2019-02-16 20:58:37 | Perplexity                   14.6151\n",
            "2019-02-16 20:58:37 | PolicyExecTime                3.68152\n",
            "2019-02-16 20:58:37 | ProcessExecTime               0.0389757\n",
            "2019-02-16 20:58:37 | StdReturn                    52.2226\n",
            "2019-02-16 20:58:37 | Time                        718.619\n",
            "2019-02-16 20:58:37 | policy/Entropy                0.143431\n",
            "2019-02-16 20:58:37 | policy/KL                     0.00812234\n",
            "2019-02-16 20:58:37 | policy/KLBefore               0\n",
            "2019-02-16 20:58:37 | policy/LossAfter             -0.0173615\n",
            "2019-02-16 20:58:37 | policy/LossBefore             8.76017e-09\n",
            "2019-02-16 20:58:37 | policy/dLoss                  0.0173616\n",
            "2019-02-16 20:58:37 | --------------------------  -------------\n",
            "2019-02-16 20:58:37 | itr #141 | Obtaining samples...\n",
            "2019-02-16 20:58:37 | itr #141 | Obtaining samples for iteration 141...\n"
          ],
          "name": "stdout"
        },
        {
          "output_type": "stream",
          "text": [
            "0% [##############################] 100% | ETA: 00:00:00"
          ],
          "name": "stderr"
        },
        {
          "output_type": "stream",
          "text": [
            "2019-02-16 20:58:42 | itr #141 | Processing samples...\n",
            "2019-02-16 20:58:42 | itr #141 | Logging diagnostics...\n",
            "2019-02-16 20:58:42 | itr #141 | Optimizing policy...\n",
            "2019-02-16 20:58:42 | itr #141 | Computing loss before\n",
            "2019-02-16 20:58:42 | itr #141 | Computing KL before\n",
            "2019-02-16 20:58:42 | itr #141 | Optimizing\n",
            "2019-02-16 20:58:42 | itr #141 | Start CG optimization: #parameters: 10528, #inputs: 131, #subsample_inputs: 131\n",
            "2019-02-16 20:58:42 | itr #141 | computing loss before\n",
            "2019-02-16 20:58:42 | itr #141 | performing update\n",
            "2019-02-16 20:58:42 | itr #141 | computing gradient\n",
            "2019-02-16 20:58:42 | itr #141 | gradient computed\n",
            "2019-02-16 20:58:42 | itr #141 | computing descent direction\n"
          ],
          "name": "stdout"
        },
        {
          "output_type": "stream",
          "text": [
            "\n",
            "Total time elapsed: 00:00:04\n"
          ],
          "name": "stderr"
        },
        {
          "output_type": "stream",
          "text": [
            "2019-02-16 20:58:42 | itr #141 | descent direction computed\n",
            "2019-02-16 20:58:42 | itr #141 | backtrack iters: 1\n",
            "2019-02-16 20:58:42 | itr #141 | computing loss after\n",
            "2019-02-16 20:58:42 | itr #141 | optimization finished\n",
            "2019-02-16 20:58:42 | itr #141 | Computing KL after\n",
            "2019-02-16 20:58:42 | itr #141 | Computing loss after\n",
            "2019-02-16 20:58:42 | itr #141 | Fitting baseline...\n",
            "2019-02-16 20:58:42 | itr #141 | Saving snapshot...\n",
            "2019-02-16 20:58:42 | itr #141 | Saved\n",
            "2019-02-16 20:58:42 | --------------------------  -------------\n",
            "2019-02-16 20:58:42 | AverageDiscountedReturn      51.955\n",
            "2019-02-16 20:58:42 | AverageReturn                55.6031\n",
            "2019-02-16 20:58:42 | Baseline/ExplainedVariance    0.590607\n",
            "2019-02-16 20:58:42 | Entropy                       2.67187\n",
            "2019-02-16 20:58:42 | EnvExecTime                   0.809662\n",
            "2019-02-16 20:58:42 | Iteration                   141\n",
            "2019-02-16 20:58:42 | ItrTime                       4.92966\n",
            "2019-02-16 20:58:42 | MaxReturn                   110\n",
            "2019-02-16 20:58:42 | MinReturn                   -36\n",
            "2019-02-16 20:58:42 | NumTrajs                    131\n",
            "2019-02-16 20:58:42 | Perplexity                   14.4671\n",
            "2019-02-16 20:58:42 | PolicyExecTime                3.66966\n",
            "2019-02-16 20:58:42 | ProcessExecTime               0.0405383\n",
            "2019-02-16 20:58:42 | StdReturn                    51.9064\n",
            "2019-02-16 20:58:42 | Time                        723.579\n",
            "2019-02-16 20:58:42 | policy/Entropy                0.139737\n",
            "2019-02-16 20:58:42 | policy/KL                     0.00637377\n",
            "2019-02-16 20:58:42 | policy/KLBefore               0\n",
            "2019-02-16 20:58:42 | policy/LossAfter             -0.0187359\n",
            "2019-02-16 20:58:42 | policy/LossBefore             2.57497e-09\n",
            "2019-02-16 20:58:42 | policy/dLoss                  0.018736\n",
            "2019-02-16 20:58:42 | --------------------------  -------------\n",
            "2019-02-16 20:58:42 | itr #142 | Obtaining samples...\n",
            "2019-02-16 20:58:42 | itr #142 | Obtaining samples for iteration 142...\n"
          ],
          "name": "stdout"
        },
        {
          "output_type": "stream",
          "text": [
            "0% [##############################] 100% | ETA: 00:00:00"
          ],
          "name": "stderr"
        },
        {
          "output_type": "stream",
          "text": [
            "2019-02-16 20:58:47 | itr #142 | Processing samples...\n",
            "2019-02-16 20:58:47 | itr #142 | Logging diagnostics...\n",
            "2019-02-16 20:58:47 | itr #142 | Optimizing policy...\n",
            "2019-02-16 20:58:47 | itr #142 | Computing loss before\n",
            "2019-02-16 20:58:47 | itr #142 | Computing KL before\n",
            "2019-02-16 20:58:47 | itr #142 | Optimizing\n",
            "2019-02-16 20:58:47 | itr #142 | Start CG optimization: #parameters: 10528, #inputs: 137, #subsample_inputs: 137\n",
            "2019-02-16 20:58:47 | itr #142 | computing loss before\n",
            "2019-02-16 20:58:47 | itr #142 | performing update\n",
            "2019-02-16 20:58:47 | itr #142 | computing gradient\n",
            "2019-02-16 20:58:47 | itr #142 | gradient computed\n",
            "2019-02-16 20:58:47 | itr #142 | computing descent direction\n"
          ],
          "name": "stdout"
        },
        {
          "output_type": "stream",
          "text": [
            "\n",
            "Total time elapsed: 00:00:04\n"
          ],
          "name": "stderr"
        },
        {
          "output_type": "stream",
          "text": [
            "2019-02-16 20:58:47 | itr #142 | descent direction computed\n",
            "2019-02-16 20:58:47 | itr #142 | backtrack iters: 0\n",
            "2019-02-16 20:58:47 | itr #142 | computing loss after\n",
            "2019-02-16 20:58:47 | itr #142 | optimization finished\n",
            "2019-02-16 20:58:47 | itr #142 | Computing KL after\n",
            "2019-02-16 20:58:47 | itr #142 | Computing loss after\n",
            "2019-02-16 20:58:47 | itr #142 | Fitting baseline...\n",
            "2019-02-16 20:58:47 | itr #142 | Saving snapshot...\n",
            "2019-02-16 20:58:47 | itr #142 | Saved\n",
            "2019-02-16 20:58:47 | --------------------------  -------------\n",
            "2019-02-16 20:58:47 | AverageDiscountedReturn      56.0371\n",
            "2019-02-16 20:58:47 | AverageReturn                60.1606\n",
            "2019-02-16 20:58:47 | Baseline/ExplainedVariance    0.638505\n",
            "2019-02-16 20:58:47 | Entropy                       2.5574\n",
            "2019-02-16 20:58:47 | EnvExecTime                   0.779018\n",
            "2019-02-16 20:58:47 | Iteration                   142\n",
            "2019-02-16 20:58:47 | ItrTime                       4.79986\n",
            "2019-02-16 20:58:47 | MaxReturn                   110\n",
            "2019-02-16 20:58:47 | MinReturn                   -43\n",
            "2019-02-16 20:58:47 | NumTrajs                    137\n",
            "2019-02-16 20:58:47 | Perplexity                   12.9023\n",
            "2019-02-16 20:58:47 | PolicyExecTime                3.57343\n",
            "2019-02-16 20:58:47 | ProcessExecTime               0.0407887\n",
            "2019-02-16 20:58:47 | StdReturn                    51.2917\n",
            "2019-02-16 20:58:47 | Time                        728.411\n",
            "2019-02-16 20:58:47 | policy/Entropy                0.139772\n",
            "2019-02-16 20:58:47 | policy/KL                     0.00766062\n",
            "2019-02-16 20:58:47 | policy/KLBefore               0\n",
            "2019-02-16 20:58:47 | policy/LossAfter             -0.021904\n",
            "2019-02-16 20:58:47 | policy/LossBefore             9.21424e-10\n",
            "2019-02-16 20:58:47 | policy/dLoss                  0.021904\n",
            "2019-02-16 20:58:47 | --------------------------  -------------\n",
            "2019-02-16 20:58:47 | itr #143 | Obtaining samples...\n",
            "2019-02-16 20:58:47 | itr #143 | Obtaining samples for iteration 143...\n"
          ],
          "name": "stdout"
        },
        {
          "output_type": "stream",
          "text": [
            "0% [##############################] 100% | ETA: 00:00:00"
          ],
          "name": "stderr"
        },
        {
          "output_type": "stream",
          "text": [
            "2019-02-16 20:58:51 | itr #143 | Processing samples...\n",
            "2019-02-16 20:58:51 | itr #143 | Logging diagnostics...\n",
            "2019-02-16 20:58:51 | itr #143 | Optimizing policy...\n",
            "2019-02-16 20:58:51 | itr #143 | Computing loss before\n",
            "2019-02-16 20:58:51 | itr #143 | Computing KL before\n",
            "2019-02-16 20:58:51 | itr #143 | Optimizing\n",
            "2019-02-16 20:58:51 | itr #143 | Start CG optimization: #parameters: 10528, #inputs: 131, #subsample_inputs: 131\n",
            "2019-02-16 20:58:51 | itr #143 | computing loss before\n",
            "2019-02-16 20:58:51 | itr #143 | performing update\n",
            "2019-02-16 20:58:51 | itr #143 | computing gradient\n",
            "2019-02-16 20:58:51 | itr #143 | gradient computed\n",
            "2019-02-16 20:58:51 | itr #143 | computing descent direction\n"
          ],
          "name": "stdout"
        },
        {
          "output_type": "stream",
          "text": [
            "\n",
            "Total time elapsed: 00:00:04\n"
          ],
          "name": "stderr"
        },
        {
          "output_type": "stream",
          "text": [
            "2019-02-16 20:58:52 | itr #143 | descent direction computed\n",
            "2019-02-16 20:58:52 | itr #143 | backtrack iters: 0\n",
            "2019-02-16 20:58:52 | itr #143 | computing loss after\n",
            "2019-02-16 20:58:52 | itr #143 | optimization finished\n",
            "2019-02-16 20:58:52 | itr #143 | Computing KL after\n",
            "2019-02-16 20:58:52 | itr #143 | Computing loss after\n",
            "2019-02-16 20:58:52 | itr #143 | Fitting baseline...\n",
            "2019-02-16 20:58:52 | itr #143 | Saving snapshot...\n",
            "2019-02-16 20:58:52 | itr #143 | Saved\n",
            "2019-02-16 20:58:52 | --------------------------  ------------\n",
            "2019-02-16 20:58:52 | AverageDiscountedReturn      58.6155\n",
            "2019-02-16 20:58:52 | AverageReturn                62.7405\n",
            "2019-02-16 20:58:52 | Baseline/ExplainedVariance    0.596306\n",
            "2019-02-16 20:58:52 | Entropy                       2.53655\n",
            "2019-02-16 20:58:52 | EnvExecTime                   0.766244\n",
            "2019-02-16 20:58:52 | Iteration                   143\n",
            "2019-02-16 20:58:52 | ItrTime                       4.65406\n",
            "2019-02-16 20:58:52 | MaxReturn                   110\n",
            "2019-02-16 20:58:52 | MinReturn                   -60\n",
            "2019-02-16 20:58:52 | NumTrajs                    131\n",
            "2019-02-16 20:58:52 | Perplexity                   12.636\n",
            "2019-02-16 20:58:52 | PolicyExecTime                3.45264\n",
            "2019-02-16 20:58:52 | ProcessExecTime               0.0384002\n",
            "2019-02-16 20:58:52 | StdReturn                    49.3816\n",
            "2019-02-16 20:58:52 | Time                        733.125\n",
            "2019-02-16 20:58:52 | policy/Entropy                0.14613\n",
            "2019-02-16 20:58:52 | policy/KL                     0.00719842\n",
            "2019-02-16 20:58:52 | policy/KLBefore               0\n",
            "2019-02-16 20:58:52 | policy/LossAfter             -0.0133807\n",
            "2019-02-16 20:58:52 | policy/LossBefore             1.7149e-08\n",
            "2019-02-16 20:58:52 | policy/dLoss                  0.0133808\n",
            "2019-02-16 20:58:52 | --------------------------  ------------\n",
            "2019-02-16 20:58:52 | itr #144 | Obtaining samples...\n",
            "2019-02-16 20:58:52 | itr #144 | Obtaining samples for iteration 144...\n"
          ],
          "name": "stdout"
        },
        {
          "output_type": "stream",
          "text": [
            "0% [##############################] 100% | ETA: 00:00:00"
          ],
          "name": "stderr"
        },
        {
          "output_type": "stream",
          "text": [
            "2019-02-16 20:58:56 | itr #144 | Processing samples...\n",
            "2019-02-16 20:58:56 | itr #144 | Logging diagnostics...\n",
            "2019-02-16 20:58:56 | itr #144 | Optimizing policy...\n",
            "2019-02-16 20:58:56 | itr #144 | Computing loss before\n",
            "2019-02-16 20:58:56 | itr #144 | Computing KL before\n",
            "2019-02-16 20:58:56 | itr #144 | Optimizing\n",
            "2019-02-16 20:58:56 | itr #144 | Start CG optimization: #parameters: 10528, #inputs: 133, #subsample_inputs: 133\n",
            "2019-02-16 20:58:56 | itr #144 | computing loss before\n",
            "2019-02-16 20:58:56 | itr #144 | performing update\n",
            "2019-02-16 20:58:56 | itr #144 | computing gradient\n",
            "2019-02-16 20:58:56 | itr #144 | gradient computed\n",
            "2019-02-16 20:58:56 | itr #144 | computing descent direction\n"
          ],
          "name": "stdout"
        },
        {
          "output_type": "stream",
          "text": [
            "\n",
            "Total time elapsed: 00:00:04\n"
          ],
          "name": "stderr"
        },
        {
          "output_type": "stream",
          "text": [
            "2019-02-16 20:58:57 | itr #144 | descent direction computed\n",
            "2019-02-16 20:58:57 | itr #144 | backtrack iters: 0\n",
            "2019-02-16 20:58:57 | itr #144 | computing loss after\n",
            "2019-02-16 20:58:57 | itr #144 | optimization finished\n",
            "2019-02-16 20:58:57 | itr #144 | Computing KL after\n",
            "2019-02-16 20:58:57 | itr #144 | Computing loss after\n",
            "2019-02-16 20:58:57 | itr #144 | Fitting baseline...\n",
            "2019-02-16 20:58:57 | itr #144 | Saving snapshot...\n",
            "2019-02-16 20:58:57 | itr #144 | Saved\n",
            "2019-02-16 20:58:57 | --------------------------  -------------\n",
            "2019-02-16 20:58:57 | AverageDiscountedReturn      59.2923\n",
            "2019-02-16 20:58:57 | AverageReturn                63.4135\n",
            "2019-02-16 20:58:57 | Baseline/ExplainedVariance    0.612208\n",
            "2019-02-16 20:58:57 | Entropy                       2.56502\n",
            "2019-02-16 20:58:57 | EnvExecTime                   0.793955\n",
            "2019-02-16 20:58:57 | Iteration                   144\n",
            "2019-02-16 20:58:57 | ItrTime                       4.8759\n",
            "2019-02-16 20:58:57 | MaxReturn                   110\n",
            "2019-02-16 20:58:57 | MinReturn                   -21\n",
            "2019-02-16 20:58:57 | NumTrajs                    133\n",
            "2019-02-16 20:58:57 | Perplexity                   13.0009\n",
            "2019-02-16 20:58:57 | PolicyExecTime                3.64317\n",
            "2019-02-16 20:58:57 | ProcessExecTime               0.0401521\n",
            "2019-02-16 20:58:57 | StdReturn                    47.5387\n",
            "2019-02-16 20:58:57 | Time                        738.055\n",
            "2019-02-16 20:58:57 | policy/Entropy                0.140104\n",
            "2019-02-16 20:58:57 | policy/KL                     0.00840821\n",
            "2019-02-16 20:58:57 | policy/KLBefore               0\n",
            "2019-02-16 20:58:57 | policy/LossAfter             -0.0241569\n",
            "2019-02-16 20:58:57 | policy/LossBefore             2.81874e-09\n",
            "2019-02-16 20:58:57 | policy/dLoss                  0.0241569\n",
            "2019-02-16 20:58:57 | --------------------------  -------------\n",
            "2019-02-16 20:58:57 | itr #145 | Obtaining samples...\n",
            "2019-02-16 20:58:57 | itr #145 | Obtaining samples for iteration 145...\n"
          ],
          "name": "stdout"
        },
        {
          "output_type": "stream",
          "text": [
            "0% [##############################] 100% | ETA: 00:00:00"
          ],
          "name": "stderr"
        },
        {
          "output_type": "stream",
          "text": [
            "2019-02-16 20:59:01 | itr #145 | Processing samples...\n",
            "2019-02-16 20:59:01 | itr #145 | Logging diagnostics...\n",
            "2019-02-16 20:59:01 | itr #145 | Optimizing policy...\n",
            "2019-02-16 20:59:01 | itr #145 | Computing loss before\n",
            "2019-02-16 20:59:01 | itr #145 | Computing KL before\n",
            "2019-02-16 20:59:01 | itr #145 | Optimizing\n",
            "2019-02-16 20:59:01 | itr #145 | Start CG optimization: #parameters: 10528, #inputs: 136, #subsample_inputs: 136\n",
            "2019-02-16 20:59:01 | itr #145 | computing loss before\n",
            "2019-02-16 20:59:01 | itr #145 | performing update\n",
            "2019-02-16 20:59:01 | itr #145 | computing gradient\n",
            "2019-02-16 20:59:01 | itr #145 | gradient computed\n",
            "2019-02-16 20:59:01 | itr #145 | computing descent direction\n"
          ],
          "name": "stdout"
        },
        {
          "output_type": "stream",
          "text": [
            "\n",
            "Total time elapsed: 00:00:04\n"
          ],
          "name": "stderr"
        },
        {
          "output_type": "stream",
          "text": [
            "2019-02-16 20:59:01 | itr #145 | descent direction computed\n",
            "2019-02-16 20:59:01 | itr #145 | backtrack iters: 1\n",
            "2019-02-16 20:59:01 | itr #145 | computing loss after\n",
            "2019-02-16 20:59:01 | itr #145 | optimization finished\n",
            "2019-02-16 20:59:01 | itr #145 | Computing KL after\n",
            "2019-02-16 20:59:01 | itr #145 | Computing loss after\n",
            "2019-02-16 20:59:01 | itr #145 | Fitting baseline...\n",
            "2019-02-16 20:59:01 | itr #145 | Saving snapshot...\n",
            "2019-02-16 20:59:01 | itr #145 | Saved\n",
            "2019-02-16 20:59:01 | --------------------------  -------------\n",
            "2019-02-16 20:59:01 | AverageDiscountedReturn      54.4566\n",
            "2019-02-16 20:59:01 | AverageReturn                58.3529\n",
            "2019-02-16 20:59:01 | Baseline/ExplainedVariance    0.65212\n",
            "2019-02-16 20:59:01 | Entropy                       2.63033\n",
            "2019-02-16 20:59:01 | EnvExecTime                   0.76545\n",
            "2019-02-16 20:59:01 | Iteration                   145\n",
            "2019-02-16 20:59:01 | ItrTime                       4.72213\n",
            "2019-02-16 20:59:01 | MaxReturn                   110\n",
            "2019-02-16 20:59:01 | MinReturn                   -43\n",
            "2019-02-16 20:59:01 | NumTrajs                    136\n",
            "2019-02-16 20:59:01 | Perplexity                   13.8783\n",
            "2019-02-16 20:59:01 | PolicyExecTime                3.49536\n",
            "2019-02-16 20:59:01 | ProcessExecTime               0.0384674\n",
            "2019-02-16 20:59:01 | StdReturn                    51.5332\n",
            "2019-02-16 20:59:01 | Time                        742.827\n",
            "2019-02-16 20:59:01 | policy/Entropy                0.135687\n",
            "2019-02-16 20:59:01 | policy/KL                     0.00692885\n",
            "2019-02-16 20:59:01 | policy/KLBefore               0\n",
            "2019-02-16 20:59:01 | policy/LossAfter             -0.0131585\n",
            "2019-02-16 20:59:01 | policy/LossBefore             1.17698e-09\n",
            "2019-02-16 20:59:01 | policy/dLoss                  0.0131585\n",
            "2019-02-16 20:59:01 | --------------------------  -------------\n",
            "2019-02-16 20:59:01 | itr #146 | Obtaining samples...\n",
            "2019-02-16 20:59:01 | itr #146 | Obtaining samples for iteration 146...\n"
          ],
          "name": "stdout"
        },
        {
          "output_type": "stream",
          "text": [
            "0% [##############################] 100% | ETA: 00:00:00"
          ],
          "name": "stderr"
        },
        {
          "output_type": "stream",
          "text": [
            "2019-02-16 20:59:06 | itr #146 | Processing samples...\n",
            "2019-02-16 20:59:06 | itr #146 | Logging diagnostics...\n",
            "2019-02-16 20:59:06 | itr #146 | Optimizing policy...\n",
            "2019-02-16 20:59:06 | itr #146 | Computing loss before\n",
            "2019-02-16 20:59:06 | itr #146 | Computing KL before\n",
            "2019-02-16 20:59:06 | itr #146 | Optimizing\n",
            "2019-02-16 20:59:06 | itr #146 | Start CG optimization: #parameters: 10528, #inputs: 134, #subsample_inputs: 134\n",
            "2019-02-16 20:59:06 | itr #146 | computing loss before\n",
            "2019-02-16 20:59:06 | itr #146 | performing update\n",
            "2019-02-16 20:59:06 | itr #146 | computing gradient\n",
            "2019-02-16 20:59:06 | itr #146 | gradient computed\n",
            "2019-02-16 20:59:06 | itr #146 | computing descent direction\n"
          ],
          "name": "stdout"
        },
        {
          "output_type": "stream",
          "text": [
            "\n",
            "Total time elapsed: 00:00:04\n"
          ],
          "name": "stderr"
        },
        {
          "output_type": "stream",
          "text": [
            "2019-02-16 20:59:06 | itr #146 | descent direction computed\n",
            "2019-02-16 20:59:06 | itr #146 | backtrack iters: 1\n",
            "2019-02-16 20:59:06 | itr #146 | computing loss after\n",
            "2019-02-16 20:59:06 | itr #146 | optimization finished\n",
            "2019-02-16 20:59:06 | itr #146 | Computing KL after\n",
            "2019-02-16 20:59:06 | itr #146 | Computing loss after\n",
            "2019-02-16 20:59:06 | itr #146 | Fitting baseline...\n",
            "2019-02-16 20:59:06 | itr #146 | Saving snapshot...\n",
            "2019-02-16 20:59:06 | itr #146 | Saved\n",
            "2019-02-16 20:59:06 | --------------------------  ------------\n",
            "2019-02-16 20:59:06 | AverageDiscountedReturn      53.1357\n",
            "2019-02-16 20:59:06 | AverageReturn                57\n",
            "2019-02-16 20:59:06 | Baseline/ExplainedVariance    0.640796\n",
            "2019-02-16 20:59:06 | Entropy                       2.54631\n",
            "2019-02-16 20:59:06 | EnvExecTime                   0.771926\n",
            "2019-02-16 20:59:06 | Iteration                   146\n",
            "2019-02-16 20:59:06 | ItrTime                       4.80424\n",
            "2019-02-16 20:59:06 | MaxReturn                   110\n",
            "2019-02-16 20:59:06 | MinReturn                   -79\n",
            "2019-02-16 20:59:06 | NumTrajs                    134\n",
            "2019-02-16 20:59:06 | Perplexity                   12.76\n",
            "2019-02-16 20:59:06 | PolicyExecTime                3.58353\n",
            "2019-02-16 20:59:06 | ProcessExecTime               0.0410213\n",
            "2019-02-16 20:59:06 | StdReturn                    51.376\n",
            "2019-02-16 20:59:06 | Time                        747.664\n",
            "2019-02-16 20:59:06 | policy/Entropy                0.138576\n",
            "2019-02-16 20:59:06 | policy/KL                     0.0078737\n",
            "2019-02-16 20:59:06 | policy/KLBefore               0\n",
            "2019-02-16 20:59:06 | policy/LossAfter             -0.0191343\n",
            "2019-02-16 20:59:06 | policy/LossBefore            -5.3221e-09\n",
            "2019-02-16 20:59:06 | policy/dLoss                  0.0191343\n",
            "2019-02-16 20:59:06 | --------------------------  ------------\n",
            "2019-02-16 20:59:06 | itr #147 | Obtaining samples...\n",
            "2019-02-16 20:59:06 | itr #147 | Obtaining samples for iteration 147...\n"
          ],
          "name": "stdout"
        },
        {
          "output_type": "stream",
          "text": [
            "0% [##############################] 100% | ETA: 00:00:00"
          ],
          "name": "stderr"
        },
        {
          "output_type": "stream",
          "text": [
            "2019-02-16 20:59:11 | itr #147 | Processing samples...\n",
            "2019-02-16 20:59:11 | itr #147 | Logging diagnostics...\n",
            "2019-02-16 20:59:11 | itr #147 | Optimizing policy...\n",
            "2019-02-16 20:59:11 | itr #147 | Computing loss before\n",
            "2019-02-16 20:59:11 | itr #147 | Computing KL before\n",
            "2019-02-16 20:59:11 | itr #147 | Optimizing\n",
            "2019-02-16 20:59:11 | itr #147 | Start CG optimization: #parameters: 10528, #inputs: 131, #subsample_inputs: 131\n",
            "2019-02-16 20:59:11 | itr #147 | computing loss before\n",
            "2019-02-16 20:59:11 | itr #147 | performing update\n",
            "2019-02-16 20:59:11 | itr #147 | computing gradient\n",
            "2019-02-16 20:59:11 | itr #147 | gradient computed\n",
            "2019-02-16 20:59:11 | itr #147 | computing descent direction\n"
          ],
          "name": "stdout"
        },
        {
          "output_type": "stream",
          "text": [
            "\n",
            "Total time elapsed: 00:00:04\n"
          ],
          "name": "stderr"
        },
        {
          "output_type": "stream",
          "text": [
            "2019-02-16 20:59:11 | itr #147 | descent direction computed\n",
            "2019-02-16 20:59:11 | itr #147 | backtrack iters: 2\n",
            "2019-02-16 20:59:11 | itr #147 | computing loss after\n",
            "2019-02-16 20:59:11 | itr #147 | optimization finished\n",
            "2019-02-16 20:59:11 | itr #147 | Computing KL after\n",
            "2019-02-16 20:59:11 | itr #147 | Computing loss after\n",
            "2019-02-16 20:59:11 | itr #147 | Fitting baseline...\n",
            "2019-02-16 20:59:11 | itr #147 | Saving snapshot...\n",
            "2019-02-16 20:59:11 | itr #147 | Saved\n",
            "2019-02-16 20:59:11 | --------------------------  -------------\n",
            "2019-02-16 20:59:11 | AverageDiscountedReturn      56.6528\n",
            "2019-02-16 20:59:11 | AverageReturn                60.5878\n",
            "2019-02-16 20:59:11 | Baseline/ExplainedVariance    0.64456\n",
            "2019-02-16 20:59:11 | Entropy                       2.51548\n",
            "2019-02-16 20:59:11 | EnvExecTime                   0.810155\n",
            "2019-02-16 20:59:11 | Iteration                   147\n",
            "2019-02-16 20:59:11 | ItrTime                       4.8719\n",
            "2019-02-16 20:59:11 | MaxReturn                   110\n",
            "2019-02-16 20:59:11 | MinReturn                   -44\n",
            "2019-02-16 20:59:11 | NumTrajs                    131\n",
            "2019-02-16 20:59:11 | Perplexity                   12.3725\n",
            "2019-02-16 20:59:11 | PolicyExecTime                3.60401\n",
            "2019-02-16 20:59:11 | ProcessExecTime               0.0389011\n",
            "2019-02-16 20:59:11 | StdReturn                    49.1385\n",
            "2019-02-16 20:59:11 | Time                        752.584\n",
            "2019-02-16 20:59:11 | policy/Entropy                0.1526\n",
            "2019-02-16 20:59:11 | policy/KL                     0.00567883\n",
            "2019-02-16 20:59:11 | policy/KLBefore               0\n",
            "2019-02-16 20:59:11 | policy/LossAfter             -0.0115305\n",
            "2019-02-16 20:59:11 | policy/LossBefore            -7.51294e-09\n",
            "2019-02-16 20:59:11 | policy/dLoss                  0.0115305\n",
            "2019-02-16 20:59:11 | --------------------------  -------------\n",
            "2019-02-16 20:59:11 | itr #148 | Obtaining samples...\n",
            "2019-02-16 20:59:11 | itr #148 | Obtaining samples for iteration 148...\n"
          ],
          "name": "stdout"
        },
        {
          "output_type": "stream",
          "text": [
            "0% [##############################] 100% | ETA: 00:00:00"
          ],
          "name": "stderr"
        },
        {
          "output_type": "stream",
          "text": [
            "2019-02-16 20:59:16 | itr #148 | Processing samples...\n",
            "2019-02-16 20:59:16 | itr #148 | Logging diagnostics...\n",
            "2019-02-16 20:59:16 | itr #148 | Optimizing policy...\n",
            "2019-02-16 20:59:16 | itr #148 | Computing loss before\n",
            "2019-02-16 20:59:16 | itr #148 | Computing KL before\n",
            "2019-02-16 20:59:16 | itr #148 | Optimizing\n",
            "2019-02-16 20:59:16 | itr #148 | Start CG optimization: #parameters: 10528, #inputs: 130, #subsample_inputs: 130\n",
            "2019-02-16 20:59:16 | itr #148 | computing loss before\n",
            "2019-02-16 20:59:16 | itr #148 | performing update\n",
            "2019-02-16 20:59:16 | itr #148 | computing gradient\n",
            "2019-02-16 20:59:16 | itr #148 | gradient computed\n",
            "2019-02-16 20:59:16 | itr #148 | computing descent direction\n"
          ],
          "name": "stdout"
        },
        {
          "output_type": "stream",
          "text": [
            "\n",
            "Total time elapsed: 00:00:04\n"
          ],
          "name": "stderr"
        },
        {
          "output_type": "stream",
          "text": [
            "2019-02-16 20:59:16 | itr #148 | descent direction computed\n",
            "2019-02-16 20:59:16 | itr #148 | backtrack iters: 1\n",
            "2019-02-16 20:59:16 | itr #148 | computing loss after\n",
            "2019-02-16 20:59:16 | itr #148 | optimization finished\n",
            "2019-02-16 20:59:16 | itr #148 | Computing KL after\n",
            "2019-02-16 20:59:16 | itr #148 | Computing loss after\n",
            "2019-02-16 20:59:16 | itr #148 | Fitting baseline...\n",
            "2019-02-16 20:59:16 | itr #148 | Saving snapshot...\n",
            "2019-02-16 20:59:16 | itr #148 | Saved\n",
            "2019-02-16 20:59:16 | --------------------------  -------------\n",
            "2019-02-16 20:59:16 | AverageDiscountedReturn      53.9722\n",
            "2019-02-16 20:59:16 | AverageReturn                57.8231\n",
            "2019-02-16 20:59:16 | Baseline/ExplainedVariance    0.533621\n",
            "2019-02-16 20:59:16 | Entropy                       2.47506\n",
            "2019-02-16 20:59:16 | EnvExecTime                   0.7942\n",
            "2019-02-16 20:59:16 | Iteration                   148\n",
            "2019-02-16 20:59:16 | ItrTime                       4.95298\n",
            "2019-02-16 20:59:16 | MaxReturn                   110\n",
            "2019-02-16 20:59:16 | MinReturn                   -31\n",
            "2019-02-16 20:59:16 | NumTrajs                    130\n",
            "2019-02-16 20:59:16 | Perplexity                   11.8824\n",
            "2019-02-16 20:59:16 | PolicyExecTime                3.7152\n",
            "2019-02-16 20:59:16 | ProcessExecTime               0.0391808\n",
            "2019-02-16 20:59:16 | StdReturn                    48.5527\n",
            "2019-02-16 20:59:16 | Time                        757.579\n",
            "2019-02-16 20:59:16 | policy/Entropy                0.162863\n",
            "2019-02-16 20:59:16 | policy/KL                     0.00953413\n",
            "2019-02-16 20:59:16 | policy/KLBefore               0\n",
            "2019-02-16 20:59:16 | policy/LossAfter             -0.0190137\n",
            "2019-02-16 20:59:16 | policy/LossBefore            -1.18573e-09\n",
            "2019-02-16 20:59:16 | policy/dLoss                  0.0190137\n",
            "2019-02-16 20:59:16 | --------------------------  -------------\n",
            "2019-02-16 20:59:16 | itr #149 | Obtaining samples...\n",
            "2019-02-16 20:59:16 | itr #149 | Obtaining samples for iteration 149...\n"
          ],
          "name": "stdout"
        },
        {
          "output_type": "stream",
          "text": [
            "0% [##############################] 100% | ETA: 00:00:00"
          ],
          "name": "stderr"
        },
        {
          "output_type": "stream",
          "text": [
            "2019-02-16 20:59:21 | itr #149 | Processing samples...\n",
            "2019-02-16 20:59:21 | itr #149 | Logging diagnostics...\n",
            "2019-02-16 20:59:21 | itr #149 | Optimizing policy...\n",
            "2019-02-16 20:59:21 | itr #149 | Computing loss before\n",
            "2019-02-16 20:59:21 | itr #149 | Computing KL before\n",
            "2019-02-16 20:59:21 | itr #149 | Optimizing\n",
            "2019-02-16 20:59:21 | itr #149 | Start CG optimization: #parameters: 10528, #inputs: 125, #subsample_inputs: 125\n",
            "2019-02-16 20:59:21 | itr #149 | computing loss before\n",
            "2019-02-16 20:59:21 | itr #149 | performing update\n",
            "2019-02-16 20:59:21 | itr #149 | computing gradient\n",
            "2019-02-16 20:59:21 | itr #149 | gradient computed\n",
            "2019-02-16 20:59:21 | itr #149 | computing descent direction\n"
          ],
          "name": "stdout"
        },
        {
          "output_type": "stream",
          "text": [
            "\n",
            "Total time elapsed: 00:00:04\n"
          ],
          "name": "stderr"
        },
        {
          "output_type": "stream",
          "text": [
            "2019-02-16 20:59:21 | itr #149 | descent direction computed\n",
            "2019-02-16 20:59:21 | itr #149 | backtrack iters: 1\n",
            "2019-02-16 20:59:21 | itr #149 | computing loss after\n",
            "2019-02-16 20:59:21 | itr #149 | optimization finished\n",
            "2019-02-16 20:59:21 | itr #149 | Computing KL after\n",
            "2019-02-16 20:59:21 | itr #149 | Computing loss after\n",
            "2019-02-16 20:59:21 | itr #149 | Fitting baseline...\n",
            "2019-02-16 20:59:21 | itr #149 | Saving snapshot...\n",
            "2019-02-16 20:59:21 | itr #149 | Saved\n",
            "2019-02-16 20:59:21 | --------------------------  -------------\n",
            "2019-02-16 20:59:21 | AverageDiscountedReturn      46.1822\n",
            "2019-02-16 20:59:21 | AverageReturn                48.872\n",
            "2019-02-16 20:59:21 | Baseline/ExplainedVariance    0.566222\n",
            "2019-02-16 20:59:21 | Entropy                       2.46023\n",
            "2019-02-16 20:59:21 | EnvExecTime                   0.774605\n",
            "2019-02-16 20:59:21 | Iteration                   149\n",
            "2019-02-16 20:59:21 | ItrTime                       4.82938\n",
            "2019-02-16 20:59:21 | MaxReturn                   110\n",
            "2019-02-16 20:59:21 | MinReturn                   -29\n",
            "2019-02-16 20:59:21 | NumTrajs                    125\n",
            "2019-02-16 20:59:21 | Perplexity                   11.7075\n",
            "2019-02-16 20:59:21 | PolicyExecTime                3.61336\n",
            "2019-02-16 20:59:21 | ProcessExecTime               0.0372202\n",
            "2019-02-16 20:59:21 | StdReturn                    49.7784\n",
            "2019-02-16 20:59:21 | Time                        762.438\n",
            "2019-02-16 20:59:21 | policy/Entropy                0.169647\n",
            "2019-02-16 20:59:21 | policy/KL                     0.007\n",
            "2019-02-16 20:59:21 | policy/KLBefore               0\n",
            "2019-02-16 20:59:21 | policy/LossAfter             -0.0172301\n",
            "2019-02-16 20:59:21 | policy/LossBefore             3.80234e-09\n",
            "2019-02-16 20:59:21 | policy/dLoss                  0.0172301\n",
            "2019-02-16 20:59:21 | --------------------------  -------------\n",
            "2019-02-16 20:59:21 | itr #150 | Obtaining samples...\n",
            "2019-02-16 20:59:21 | itr #150 | Obtaining samples for iteration 150...\n"
          ],
          "name": "stdout"
        },
        {
          "output_type": "stream",
          "text": [
            "0% [##############################] 100% | ETA: 00:00:00"
          ],
          "name": "stderr"
        },
        {
          "output_type": "stream",
          "text": [
            "2019-02-16 20:59:26 | itr #150 | Processing samples...\n",
            "2019-02-16 20:59:26 | itr #150 | Logging diagnostics...\n",
            "2019-02-16 20:59:26 | itr #150 | Optimizing policy...\n",
            "2019-02-16 20:59:26 | itr #150 | Computing loss before\n",
            "2019-02-16 20:59:26 | itr #150 | Computing KL before\n",
            "2019-02-16 20:59:26 | itr #150 | Optimizing\n",
            "2019-02-16 20:59:26 | itr #150 | Start CG optimization: #parameters: 10528, #inputs: 126, #subsample_inputs: 126\n",
            "2019-02-16 20:59:26 | itr #150 | computing loss before\n",
            "2019-02-16 20:59:26 | itr #150 | performing update\n",
            "2019-02-16 20:59:26 | itr #150 | computing gradient\n",
            "2019-02-16 20:59:26 | itr #150 | gradient computed\n",
            "2019-02-16 20:59:26 | itr #150 | computing descent direction\n"
          ],
          "name": "stdout"
        },
        {
          "output_type": "stream",
          "text": [
            "\n",
            "Total time elapsed: 00:00:04\n"
          ],
          "name": "stderr"
        },
        {
          "output_type": "stream",
          "text": [
            "2019-02-16 20:59:26 | itr #150 | descent direction computed\n",
            "2019-02-16 20:59:26 | itr #150 | backtrack iters: 3\n",
            "2019-02-16 20:59:26 | itr #150 | computing loss after\n",
            "2019-02-16 20:59:26 | itr #150 | optimization finished\n",
            "2019-02-16 20:59:26 | itr #150 | Computing KL after\n",
            "2019-02-16 20:59:26 | itr #150 | Computing loss after\n",
            "2019-02-16 20:59:26 | itr #150 | Fitting baseline...\n",
            "2019-02-16 20:59:26 | itr #150 | Saving snapshot...\n",
            "2019-02-16 20:59:26 | itr #150 | Saved\n",
            "2019-02-16 20:59:26 | --------------------------  -------------\n",
            "2019-02-16 20:59:26 | AverageDiscountedReturn      52.1466\n",
            "2019-02-16 20:59:26 | AverageReturn                55.381\n",
            "2019-02-16 20:59:26 | Baseline/ExplainedVariance    0.614687\n",
            "2019-02-16 20:59:26 | Entropy                       2.44165\n",
            "2019-02-16 20:59:26 | EnvExecTime                   0.801243\n",
            "2019-02-16 20:59:26 | Iteration                   150\n",
            "2019-02-16 20:59:26 | ItrTime                       5.01821\n",
            "2019-02-16 20:59:26 | MaxReturn                   110\n",
            "2019-02-16 20:59:26 | MinReturn                   -40\n",
            "2019-02-16 20:59:26 | NumTrajs                    126\n",
            "2019-02-16 20:59:26 | Perplexity                   11.492\n",
            "2019-02-16 20:59:26 | PolicyExecTime                3.75222\n",
            "2019-02-16 20:59:26 | ProcessExecTime               0.0388591\n",
            "2019-02-16 20:59:26 | StdReturn                    46.9275\n",
            "2019-02-16 20:59:26 | Time                        767.489\n",
            "2019-02-16 20:59:26 | policy/Entropy                0.170132\n",
            "2019-02-16 20:59:26 | policy/KL                     0.00627255\n",
            "2019-02-16 20:59:26 | policy/KLBefore               0\n",
            "2019-02-16 20:59:26 | policy/LossAfter             -0.0108963\n",
            "2019-02-16 20:59:26 | policy/LossBefore            -9.01259e-09\n",
            "2019-02-16 20:59:26 | policy/dLoss                  0.0108963\n",
            "2019-02-16 20:59:26 | --------------------------  -------------\n",
            "2019-02-16 20:59:26 | itr #151 | Obtaining samples...\n",
            "2019-02-16 20:59:26 | itr #151 | Obtaining samples for iteration 151...\n"
          ],
          "name": "stdout"
        },
        {
          "output_type": "stream",
          "text": [
            "0% [##############################] 100% | ETA: 00:00:00"
          ],
          "name": "stderr"
        },
        {
          "output_type": "stream",
          "text": [
            "2019-02-16 20:59:31 | itr #151 | Processing samples...\n",
            "2019-02-16 20:59:31 | itr #151 | Logging diagnostics...\n",
            "2019-02-16 20:59:31 | itr #151 | Optimizing policy...\n",
            "2019-02-16 20:59:31 | itr #151 | Computing loss before\n",
            "2019-02-16 20:59:31 | itr #151 | Computing KL before\n",
            "2019-02-16 20:59:31 | itr #151 | Optimizing\n",
            "2019-02-16 20:59:31 | itr #151 | Start CG optimization: #parameters: 10528, #inputs: 124, #subsample_inputs: 124\n",
            "2019-02-16 20:59:31 | itr #151 | computing loss before\n",
            "2019-02-16 20:59:31 | itr #151 | performing update\n",
            "2019-02-16 20:59:31 | itr #151 | computing gradient\n",
            "2019-02-16 20:59:31 | itr #151 | gradient computed\n",
            "2019-02-16 20:59:31 | itr #151 | computing descent direction\n"
          ],
          "name": "stdout"
        },
        {
          "output_type": "stream",
          "text": [
            "\n",
            "Total time elapsed: 00:00:04\n"
          ],
          "name": "stderr"
        },
        {
          "output_type": "stream",
          "text": [
            "2019-02-16 20:59:31 | itr #151 | descent direction computed\n",
            "2019-02-16 20:59:31 | itr #151 | backtrack iters: 1\n",
            "2019-02-16 20:59:31 | itr #151 | computing loss after\n",
            "2019-02-16 20:59:31 | itr #151 | optimization finished\n",
            "2019-02-16 20:59:31 | itr #151 | Computing KL after\n",
            "2019-02-16 20:59:31 | itr #151 | Computing loss after\n",
            "2019-02-16 20:59:31 | itr #151 | Fitting baseline...\n",
            "2019-02-16 20:59:31 | itr #151 | Saving snapshot...\n",
            "2019-02-16 20:59:31 | itr #151 | Saved\n",
            "2019-02-16 20:59:31 | --------------------------  -------------\n",
            "2019-02-16 20:59:31 | AverageDiscountedReturn      55.3565\n",
            "2019-02-16 20:59:31 | AverageReturn                58.6855\n",
            "2019-02-16 20:59:31 | Baseline/ExplainedVariance    0.597366\n",
            "2019-02-16 20:59:31 | Entropy                       2.32762\n",
            "2019-02-16 20:59:31 | EnvExecTime                   0.831054\n",
            "2019-02-16 20:59:31 | Iteration                   151\n",
            "2019-02-16 20:59:31 | ItrTime                       5.02521\n",
            "2019-02-16 20:59:31 | MaxReturn                   131\n",
            "2019-02-16 20:59:31 | MinReturn                   -26\n",
            "2019-02-16 20:59:31 | NumTrajs                    124\n",
            "2019-02-16 20:59:31 | Perplexity                   10.2535\n",
            "2019-02-16 20:59:31 | PolicyExecTime                3.75028\n",
            "2019-02-16 20:59:31 | ProcessExecTime               0.0384166\n",
            "2019-02-16 20:59:31 | StdReturn                    45.6995\n",
            "2019-02-16 20:59:31 | Time                        772.564\n",
            "2019-02-16 20:59:31 | policy/Entropy                0.182829\n",
            "2019-02-16 20:59:31 | policy/KL                     0.00812206\n",
            "2019-02-16 20:59:31 | policy/KLBefore               0\n",
            "2019-02-16 20:59:31 | policy/LossAfter             -0.0180186\n",
            "2019-02-16 20:59:31 | policy/LossBefore             1.14298e-08\n",
            "2019-02-16 20:59:31 | policy/dLoss                  0.0180186\n",
            "2019-02-16 20:59:31 | --------------------------  -------------\n",
            "2019-02-16 20:59:31 | itr #152 | Obtaining samples...\n",
            "2019-02-16 20:59:31 | itr #152 | Obtaining samples for iteration 152...\n"
          ],
          "name": "stdout"
        },
        {
          "output_type": "stream",
          "text": [
            "0% [##############################] 100% | ETA: 00:00:00"
          ],
          "name": "stderr"
        },
        {
          "output_type": "stream",
          "text": [
            "2019-02-16 20:59:36 | itr #152 | Processing samples...\n",
            "2019-02-16 20:59:36 | itr #152 | Logging diagnostics...\n",
            "2019-02-16 20:59:36 | itr #152 | Optimizing policy...\n",
            "2019-02-16 20:59:36 | itr #152 | Computing loss before\n",
            "2019-02-16 20:59:36 | itr #152 | Computing KL before\n",
            "2019-02-16 20:59:36 | itr #152 | Optimizing\n",
            "2019-02-16 20:59:36 | itr #152 | Start CG optimization: #parameters: 10528, #inputs: 127, #subsample_inputs: 127\n",
            "2019-02-16 20:59:36 | itr #152 | computing loss before\n",
            "2019-02-16 20:59:36 | itr #152 | performing update\n",
            "2019-02-16 20:59:36 | itr #152 | computing gradient\n",
            "2019-02-16 20:59:36 | itr #152 | gradient computed\n",
            "2019-02-16 20:59:36 | itr #152 | computing descent direction\n"
          ],
          "name": "stdout"
        },
        {
          "output_type": "stream",
          "text": [
            "\n",
            "Total time elapsed: 00:00:04\n"
          ],
          "name": "stderr"
        },
        {
          "output_type": "stream",
          "text": [
            "2019-02-16 20:59:36 | itr #152 | descent direction computed\n",
            "2019-02-16 20:59:36 | itr #152 | backtrack iters: 0\n",
            "2019-02-16 20:59:36 | itr #152 | computing loss after\n",
            "2019-02-16 20:59:36 | itr #152 | optimization finished\n",
            "2019-02-16 20:59:36 | itr #152 | Computing KL after\n",
            "2019-02-16 20:59:36 | itr #152 | Computing loss after\n",
            "2019-02-16 20:59:36 | itr #152 | Fitting baseline...\n",
            "2019-02-16 20:59:36 | itr #152 | Saving snapshot...\n",
            "2019-02-16 20:59:36 | itr #152 | Saved\n",
            "2019-02-16 20:59:36 | --------------------------  -------------\n",
            "2019-02-16 20:59:36 | AverageDiscountedReturn      54.82\n",
            "2019-02-16 20:59:36 | AverageReturn                58.5276\n",
            "2019-02-16 20:59:36 | Baseline/ExplainedVariance    0.61788\n",
            "2019-02-16 20:59:36 | Entropy                       2.28242\n",
            "2019-02-16 20:59:36 | EnvExecTime                   0.812113\n",
            "2019-02-16 20:59:36 | Iteration                   152\n",
            "2019-02-16 20:59:36 | ItrTime                       5.01291\n",
            "2019-02-16 20:59:36 | MaxReturn                   110\n",
            "2019-02-16 20:59:36 | MinReturn                   -67\n",
            "2019-02-16 20:59:36 | NumTrajs                    127\n",
            "2019-02-16 20:59:36 | Perplexity                    9.80041\n",
            "2019-02-16 20:59:36 | PolicyExecTime                3.7676\n",
            "2019-02-16 20:59:36 | ProcessExecTime               0.038424\n",
            "2019-02-16 20:59:36 | StdReturn                    48.1972\n",
            "2019-02-16 20:59:36 | Time                        777.628\n",
            "2019-02-16 20:59:36 | policy/Entropy                0.177681\n",
            "2019-02-16 20:59:36 | policy/KL                     0.00896945\n",
            "2019-02-16 20:59:36 | policy/KLBefore               0\n",
            "2019-02-16 20:59:36 | policy/LossAfter             -0.0189344\n",
            "2019-02-16 20:59:36 | policy/LossBefore             5.64026e-09\n",
            "2019-02-16 20:59:36 | policy/dLoss                  0.0189344\n",
            "2019-02-16 20:59:36 | --------------------------  -------------\n",
            "2019-02-16 20:59:36 | itr #153 | Obtaining samples...\n",
            "2019-02-16 20:59:36 | itr #153 | Obtaining samples for iteration 153...\n"
          ],
          "name": "stdout"
        },
        {
          "output_type": "stream",
          "text": [
            "0% [##############################] 100% | ETA: 00:00:00"
          ],
          "name": "stderr"
        },
        {
          "output_type": "stream",
          "text": [
            "2019-02-16 20:59:41 | itr #153 | Processing samples...\n",
            "2019-02-16 20:59:41 | itr #153 | Logging diagnostics...\n",
            "2019-02-16 20:59:41 | itr #153 | Optimizing policy...\n",
            "2019-02-16 20:59:41 | itr #153 | Computing loss before\n",
            "2019-02-16 20:59:41 | itr #153 | Computing KL before\n",
            "2019-02-16 20:59:41 | itr #153 | Optimizing\n",
            "2019-02-16 20:59:41 | itr #153 | Start CG optimization: #parameters: 10528, #inputs: 130, #subsample_inputs: 130\n",
            "2019-02-16 20:59:41 | itr #153 | computing loss before\n",
            "2019-02-16 20:59:41 | itr #153 | performing update\n",
            "2019-02-16 20:59:41 | itr #153 | computing gradient\n",
            "2019-02-16 20:59:41 | itr #153 | gradient computed\n",
            "2019-02-16 20:59:41 | itr #153 | computing descent direction\n"
          ],
          "name": "stdout"
        },
        {
          "output_type": "stream",
          "text": [
            "\n",
            "Total time elapsed: 00:00:04\n"
          ],
          "name": "stderr"
        },
        {
          "output_type": "stream",
          "text": [
            "2019-02-16 20:59:41 | itr #153 | descent direction computed\n",
            "2019-02-16 20:59:41 | itr #153 | backtrack iters: 0\n",
            "2019-02-16 20:59:41 | itr #153 | computing loss after\n",
            "2019-02-16 20:59:41 | itr #153 | optimization finished\n",
            "2019-02-16 20:59:41 | itr #153 | Computing KL after\n",
            "2019-02-16 20:59:41 | itr #153 | Computing loss after\n",
            "2019-02-16 20:59:41 | itr #153 | Fitting baseline...\n",
            "2019-02-16 20:59:41 | itr #153 | Saving snapshot...\n",
            "2019-02-16 20:59:41 | itr #153 | Saved\n",
            "2019-02-16 20:59:41 | --------------------------  -------------\n",
            "2019-02-16 20:59:41 | AverageDiscountedReturn      54.2081\n",
            "2019-02-16 20:59:41 | AverageReturn                57.7769\n",
            "2019-02-16 20:59:41 | Baseline/ExplainedVariance    0.604326\n",
            "2019-02-16 20:59:41 | Entropy                       2.33047\n",
            "2019-02-16 20:59:41 | EnvExecTime                   0.79526\n",
            "2019-02-16 20:59:41 | Iteration                   153\n",
            "2019-02-16 20:59:41 | ItrTime                       4.89485\n",
            "2019-02-16 20:59:41 | MaxReturn                   110\n",
            "2019-02-16 20:59:41 | MinReturn                   -35\n",
            "2019-02-16 20:59:41 | NumTrajs                    130\n",
            "2019-02-16 20:59:41 | Perplexity                   10.2828\n",
            "2019-02-16 20:59:41 | PolicyExecTime                3.66214\n",
            "2019-02-16 20:59:41 | ProcessExecTime               0.0388412\n",
            "2019-02-16 20:59:41 | StdReturn                    46.8571\n",
            "2019-02-16 20:59:41 | Time                        782.556\n",
            "2019-02-16 20:59:41 | policy/Entropy                0.171971\n",
            "2019-02-16 20:59:41 | policy/KL                     0.00991718\n",
            "2019-02-16 20:59:41 | policy/KLBefore               0\n",
            "2019-02-16 20:59:41 | policy/LossAfter             -0.0236993\n",
            "2019-02-16 20:59:41 | policy/LossBefore            -1.47964e-08\n",
            "2019-02-16 20:59:41 | policy/dLoss                  0.0236993\n",
            "2019-02-16 20:59:41 | --------------------------  -------------\n",
            "2019-02-16 20:59:41 | itr #154 | Obtaining samples...\n",
            "2019-02-16 20:59:41 | itr #154 | Obtaining samples for iteration 154...\n"
          ],
          "name": "stdout"
        },
        {
          "output_type": "stream",
          "text": [
            "0% [##############################] 100% | ETA: 00:00:00"
          ],
          "name": "stderr"
        },
        {
          "output_type": "stream",
          "text": [
            "2019-02-16 20:59:46 | itr #154 | Processing samples...\n",
            "2019-02-16 20:59:46 | itr #154 | Logging diagnostics...\n",
            "2019-02-16 20:59:46 | itr #154 | Optimizing policy...\n",
            "2019-02-16 20:59:46 | itr #154 | Computing loss before\n",
            "2019-02-16 20:59:46 | itr #154 | Computing KL before\n",
            "2019-02-16 20:59:46 | itr #154 | Optimizing\n",
            "2019-02-16 20:59:46 | itr #154 | Start CG optimization: #parameters: 10528, #inputs: 129, #subsample_inputs: 129\n",
            "2019-02-16 20:59:46 | itr #154 | computing loss before\n",
            "2019-02-16 20:59:46 | itr #154 | performing update\n",
            "2019-02-16 20:59:46 | itr #154 | computing gradient\n",
            "2019-02-16 20:59:46 | itr #154 | gradient computed\n",
            "2019-02-16 20:59:46 | itr #154 | computing descent direction\n"
          ],
          "name": "stdout"
        },
        {
          "output_type": "stream",
          "text": [
            "\n",
            "Total time elapsed: 00:00:04\n"
          ],
          "name": "stderr"
        },
        {
          "output_type": "stream",
          "text": [
            "2019-02-16 20:59:46 | itr #154 | descent direction computed\n",
            "2019-02-16 20:59:46 | itr #154 | backtrack iters: 0\n",
            "2019-02-16 20:59:46 | itr #154 | computing loss after\n",
            "2019-02-16 20:59:46 | itr #154 | optimization finished\n",
            "2019-02-16 20:59:46 | itr #154 | Computing KL after\n",
            "2019-02-16 20:59:46 | itr #154 | Computing loss after\n",
            "2019-02-16 20:59:46 | itr #154 | Fitting baseline...\n",
            "2019-02-16 20:59:46 | itr #154 | Saving snapshot...\n",
            "2019-02-16 20:59:46 | itr #154 | Saved\n",
            "2019-02-16 20:59:46 | --------------------------  -------------\n",
            "2019-02-16 20:59:46 | AverageDiscountedReturn      61.0117\n",
            "2019-02-16 20:59:46 | AverageReturn                65.6279\n",
            "2019-02-16 20:59:46 | Baseline/ExplainedVariance    0.658838\n",
            "2019-02-16 20:59:46 | Entropy                       2.259\n",
            "2019-02-16 20:59:46 | EnvExecTime                   0.80592\n",
            "2019-02-16 20:59:46 | Iteration                   154\n",
            "2019-02-16 20:59:46 | ItrTime                       4.93315\n",
            "2019-02-16 20:59:46 | MaxReturn                   110\n",
            "2019-02-16 20:59:46 | MinReturn                   -30\n",
            "2019-02-16 20:59:46 | NumTrajs                    129\n",
            "2019-02-16 20:59:46 | Perplexity                    9.57356\n",
            "2019-02-16 20:59:46 | PolicyExecTime                3.68637\n",
            "2019-02-16 20:59:46 | ProcessExecTime               0.0391803\n",
            "2019-02-16 20:59:46 | StdReturn                    46.7436\n",
            "2019-02-16 20:59:46 | Time                        787.569\n",
            "2019-02-16 20:59:46 | policy/Entropy                0.179543\n",
            "2019-02-16 20:59:46 | policy/KL                     0.00688975\n",
            "2019-02-16 20:59:46 | policy/KLBefore               0\n",
            "2019-02-16 20:59:46 | policy/LossAfter             -0.0195273\n",
            "2019-02-16 20:59:46 | policy/LossBefore             1.89503e-08\n",
            "2019-02-16 20:59:46 | policy/dLoss                  0.0195273\n",
            "2019-02-16 20:59:46 | --------------------------  -------------\n",
            "2019-02-16 20:59:46 | itr #155 | Obtaining samples...\n",
            "2019-02-16 20:59:46 | itr #155 | Obtaining samples for iteration 155...\n"
          ],
          "name": "stdout"
        },
        {
          "output_type": "stream",
          "text": [
            "0% [##############################] 100% | ETA: 00:00:00"
          ],
          "name": "stderr"
        },
        {
          "output_type": "stream",
          "text": [
            "2019-02-16 20:59:51 | itr #155 | Processing samples...\n",
            "2019-02-16 20:59:51 | itr #155 | Logging diagnostics...\n",
            "2019-02-16 20:59:51 | itr #155 | Optimizing policy...\n",
            "2019-02-16 20:59:51 | itr #155 | Computing loss before\n",
            "2019-02-16 20:59:51 | itr #155 | Computing KL before\n",
            "2019-02-16 20:59:51 | itr #155 | Optimizing\n",
            "2019-02-16 20:59:51 | itr #155 | Start CG optimization: #parameters: 10528, #inputs: 127, #subsample_inputs: 127\n",
            "2019-02-16 20:59:51 | itr #155 | computing loss before\n",
            "2019-02-16 20:59:51 | itr #155 | performing update\n",
            "2019-02-16 20:59:51 | itr #155 | computing gradient\n",
            "2019-02-16 20:59:51 | itr #155 | gradient computed\n",
            "2019-02-16 20:59:51 | itr #155 | computing descent direction\n"
          ],
          "name": "stdout"
        },
        {
          "output_type": "stream",
          "text": [
            "\n",
            "Total time elapsed: 00:00:04\n"
          ],
          "name": "stderr"
        },
        {
          "output_type": "stream",
          "text": [
            "2019-02-16 20:59:51 | itr #155 | descent direction computed\n",
            "2019-02-16 20:59:51 | itr #155 | backtrack iters: 0\n",
            "2019-02-16 20:59:51 | itr #155 | computing loss after\n",
            "2019-02-16 20:59:51 | itr #155 | optimization finished\n",
            "2019-02-16 20:59:51 | itr #155 | Computing KL after\n",
            "2019-02-16 20:59:51 | itr #155 | Computing loss after\n",
            "2019-02-16 20:59:51 | itr #155 | Fitting baseline...\n",
            "2019-02-16 20:59:51 | itr #155 | Saving snapshot...\n",
            "2019-02-16 20:59:51 | itr #155 | Saved\n",
            "2019-02-16 20:59:51 | --------------------------  ------------\n",
            "2019-02-16 20:59:51 | AverageDiscountedReturn      55.3288\n",
            "2019-02-16 20:59:51 | AverageReturn                59.1102\n",
            "2019-02-16 20:59:51 | Baseline/ExplainedVariance    0.655379\n",
            "2019-02-16 20:59:51 | Entropy                       2.35283\n",
            "2019-02-16 20:59:51 | EnvExecTime                   0.8131\n",
            "2019-02-16 20:59:51 | Iteration                   155\n",
            "2019-02-16 20:59:51 | ItrTime                       4.91837\n",
            "2019-02-16 20:59:51 | MaxReturn                   110\n",
            "2019-02-16 20:59:51 | MinReturn                   -31\n",
            "2019-02-16 20:59:51 | NumTrajs                    127\n",
            "2019-02-16 20:59:51 | Perplexity                   10.5153\n",
            "2019-02-16 20:59:51 | PolicyExecTime                3.6766\n",
            "2019-02-16 20:59:51 | ProcessExecTime               0.0387435\n",
            "2019-02-16 20:59:51 | StdReturn                    48.1615\n",
            "2019-02-16 20:59:51 | Time                        792.518\n",
            "2019-02-16 20:59:51 | policy/Entropy                0.173503\n",
            "2019-02-16 20:59:51 | policy/KL                     0.00846228\n",
            "2019-02-16 20:59:51 | policy/KLBefore               0\n",
            "2019-02-16 20:59:51 | policy/LossAfter             -0.0174969\n",
            "2019-02-16 20:59:51 | policy/LossBefore            -0\n",
            "2019-02-16 20:59:51 | policy/dLoss                  0.0174969\n",
            "2019-02-16 20:59:51 | --------------------------  ------------\n",
            "2019-02-16 20:59:51 | itr #156 | Obtaining samples...\n",
            "2019-02-16 20:59:51 | itr #156 | Obtaining samples for iteration 156...\n"
          ],
          "name": "stdout"
        },
        {
          "output_type": "stream",
          "text": [
            "0% [##############################] 100% | ETA: 00:00:00"
          ],
          "name": "stderr"
        },
        {
          "output_type": "stream",
          "text": [
            "2019-02-16 20:59:56 | itr #156 | Processing samples...\n",
            "2019-02-16 20:59:56 | itr #156 | Logging diagnostics...\n",
            "2019-02-16 20:59:56 | itr #156 | Optimizing policy...\n",
            "2019-02-16 20:59:56 | itr #156 | Computing loss before\n",
            "2019-02-16 20:59:56 | itr #156 | Computing KL before\n",
            "2019-02-16 20:59:56 | itr #156 | Optimizing\n",
            "2019-02-16 20:59:56 | itr #156 | Start CG optimization: #parameters: 10528, #inputs: 134, #subsample_inputs: 134\n",
            "2019-02-16 20:59:56 | itr #156 | computing loss before\n",
            "2019-02-16 20:59:56 | itr #156 | performing update\n",
            "2019-02-16 20:59:56 | itr #156 | computing gradient\n",
            "2019-02-16 20:59:56 | itr #156 | gradient computed\n",
            "2019-02-16 20:59:56 | itr #156 | computing descent direction\n"
          ],
          "name": "stdout"
        },
        {
          "output_type": "stream",
          "text": [
            "\n",
            "Total time elapsed: 00:00:04\n"
          ],
          "name": "stderr"
        },
        {
          "output_type": "stream",
          "text": [
            "2019-02-16 20:59:56 | itr #156 | descent direction computed\n",
            "2019-02-16 20:59:56 | itr #156 | backtrack iters: 1\n",
            "2019-02-16 20:59:56 | itr #156 | computing loss after\n",
            "2019-02-16 20:59:56 | itr #156 | optimization finished\n",
            "2019-02-16 20:59:56 | itr #156 | Computing KL after\n",
            "2019-02-16 20:59:56 | itr #156 | Computing loss after\n",
            "2019-02-16 20:59:56 | itr #156 | Fitting baseline...\n",
            "2019-02-16 20:59:56 | itr #156 | Saving snapshot...\n",
            "2019-02-16 20:59:56 | itr #156 | Saved\n",
            "2019-02-16 20:59:56 | --------------------------  -------------\n",
            "2019-02-16 20:59:56 | AverageDiscountedReturn      61.1078\n",
            "2019-02-16 20:59:56 | AverageReturn                65.8284\n",
            "2019-02-16 20:59:56 | Baseline/ExplainedVariance    0.718917\n",
            "2019-02-16 20:59:56 | Entropy                       2.26435\n",
            "2019-02-16 20:59:56 | EnvExecTime                   0.804808\n",
            "2019-02-16 20:59:56 | Iteration                   156\n",
            "2019-02-16 20:59:56 | ItrTime                       4.92389\n",
            "2019-02-16 20:59:56 | MaxReturn                   110\n",
            "2019-02-16 20:59:56 | MinReturn                   -36\n",
            "2019-02-16 20:59:56 | NumTrajs                    134\n",
            "2019-02-16 20:59:56 | Perplexity                    9.62487\n",
            "2019-02-16 20:59:56 | PolicyExecTime                3.66952\n",
            "2019-02-16 20:59:56 | ProcessExecTime               0.039242\n",
            "2019-02-16 20:59:56 | StdReturn                    48.0472\n",
            "2019-02-16 20:59:56 | Time                        797.477\n",
            "2019-02-16 20:59:56 | policy/Entropy                0.17813\n",
            "2019-02-16 20:59:56 | policy/KL                     0.00710632\n",
            "2019-02-16 20:59:56 | policy/KLBefore               0\n",
            "2019-02-16 20:59:56 | policy/LossAfter             -0.0198944\n",
            "2019-02-16 20:59:56 | policy/LossBefore            -2.02957e-08\n",
            "2019-02-16 20:59:56 | policy/dLoss                  0.0198943\n",
            "2019-02-16 20:59:56 | --------------------------  -------------\n",
            "2019-02-16 20:59:56 | itr #157 | Obtaining samples...\n",
            "2019-02-16 20:59:56 | itr #157 | Obtaining samples for iteration 157...\n"
          ],
          "name": "stdout"
        },
        {
          "output_type": "stream",
          "text": [
            "0% [##############################] 100% | ETA: 00:00:00"
          ],
          "name": "stderr"
        },
        {
          "output_type": "stream",
          "text": [
            "2019-02-16 21:00:00 | itr #157 | Processing samples...\n",
            "2019-02-16 21:00:00 | itr #157 | Logging diagnostics...\n",
            "2019-02-16 21:00:00 | itr #157 | Optimizing policy...\n",
            "2019-02-16 21:00:00 | itr #157 | Computing loss before\n",
            "2019-02-16 21:00:00 | itr #157 | Computing KL before\n",
            "2019-02-16 21:00:00 | itr #157 | Optimizing\n",
            "2019-02-16 21:00:00 | itr #157 | Start CG optimization: #parameters: 10528, #inputs: 135, #subsample_inputs: 135\n",
            "2019-02-16 21:00:00 | itr #157 | computing loss before\n",
            "2019-02-16 21:00:01 | itr #157 | performing update\n",
            "2019-02-16 21:00:01 | itr #157 | computing gradient\n",
            "2019-02-16 21:00:01 | itr #157 | gradient computed\n",
            "2019-02-16 21:00:01 | itr #157 | computing descent direction\n"
          ],
          "name": "stdout"
        },
        {
          "output_type": "stream",
          "text": [
            "\n",
            "Total time elapsed: 00:00:04\n"
          ],
          "name": "stderr"
        },
        {
          "output_type": "stream",
          "text": [
            "2019-02-16 21:00:01 | itr #157 | descent direction computed\n",
            "2019-02-16 21:00:01 | itr #157 | backtrack iters: 0\n",
            "2019-02-16 21:00:01 | itr #157 | computing loss after\n",
            "2019-02-16 21:00:01 | itr #157 | optimization finished\n",
            "2019-02-16 21:00:01 | itr #157 | Computing KL after\n",
            "2019-02-16 21:00:01 | itr #157 | Computing loss after\n",
            "2019-02-16 21:00:01 | itr #157 | Fitting baseline...\n",
            "2019-02-16 21:00:01 | itr #157 | Saving snapshot...\n",
            "2019-02-16 21:00:01 | itr #157 | Saved\n",
            "2019-02-16 21:00:01 | --------------------------  -------------\n",
            "2019-02-16 21:00:01 | AverageDiscountedReturn      55.3613\n",
            "2019-02-16 21:00:01 | AverageReturn                59.6296\n",
            "2019-02-16 21:00:01 | Baseline/ExplainedVariance    0.657665\n",
            "2019-02-16 21:00:01 | Entropy                       2.32714\n",
            "2019-02-16 21:00:01 | EnvExecTime                   0.765535\n",
            "2019-02-16 21:00:01 | Iteration                   157\n",
            "2019-02-16 21:00:01 | ItrTime                       4.68154\n",
            "2019-02-16 21:00:01 | MaxReturn                   110\n",
            "2019-02-16 21:00:01 | MinReturn                   -61\n",
            "2019-02-16 21:00:01 | NumTrajs                    135\n",
            "2019-02-16 21:00:01 | Perplexity                   10.2486\n",
            "2019-02-16 21:00:01 | PolicyExecTime                3.47683\n",
            "2019-02-16 21:00:01 | ProcessExecTime               0.0392852\n",
            "2019-02-16 21:00:01 | StdReturn                    53.3345\n",
            "2019-02-16 21:00:01 | Time                        802.192\n",
            "2019-02-16 21:00:01 | policy/Entropy                0.1635\n",
            "2019-02-16 21:00:01 | policy/KL                     0.00870038\n",
            "2019-02-16 21:00:01 | policy/KLBefore               0\n",
            "2019-02-16 21:00:01 | policy/LossAfter             -0.0215959\n",
            "2019-02-16 21:00:01 | policy/LossBefore            -1.68668e-08\n",
            "2019-02-16 21:00:01 | policy/dLoss                  0.0215959\n",
            "2019-02-16 21:00:01 | --------------------------  -------------\n",
            "2019-02-16 21:00:01 | itr #158 | Obtaining samples...\n",
            "2019-02-16 21:00:01 | itr #158 | Obtaining samples for iteration 158...\n"
          ],
          "name": "stdout"
        },
        {
          "output_type": "stream",
          "text": [
            "0% [##############################] 100% | ETA: 00:00:00"
          ],
          "name": "stderr"
        },
        {
          "output_type": "stream",
          "text": [
            "2019-02-16 21:00:05 | itr #158 | Processing samples...\n",
            "2019-02-16 21:00:05 | itr #158 | Logging diagnostics...\n",
            "2019-02-16 21:00:05 | itr #158 | Optimizing policy...\n",
            "2019-02-16 21:00:05 | itr #158 | Computing loss before\n",
            "2019-02-16 21:00:05 | itr #158 | Computing KL before\n",
            "2019-02-16 21:00:05 | itr #158 | Optimizing\n",
            "2019-02-16 21:00:05 | itr #158 | Start CG optimization: #parameters: 10528, #inputs: 129, #subsample_inputs: 129\n",
            "2019-02-16 21:00:05 | itr #158 | computing loss before\n",
            "2019-02-16 21:00:05 | itr #158 | performing update\n",
            "2019-02-16 21:00:05 | itr #158 | computing gradient\n",
            "2019-02-16 21:00:05 | itr #158 | gradient computed\n",
            "2019-02-16 21:00:05 | itr #158 | computing descent direction\n"
          ],
          "name": "stdout"
        },
        {
          "output_type": "stream",
          "text": [
            "\n",
            "Total time elapsed: 00:00:04\n"
          ],
          "name": "stderr"
        },
        {
          "output_type": "stream",
          "text": [
            "2019-02-16 21:00:06 | itr #158 | descent direction computed\n",
            "2019-02-16 21:00:06 | itr #158 | backtrack iters: 0\n",
            "2019-02-16 21:00:06 | itr #158 | computing loss after\n",
            "2019-02-16 21:00:06 | itr #158 | optimization finished\n",
            "2019-02-16 21:00:06 | itr #158 | Computing KL after\n",
            "2019-02-16 21:00:06 | itr #158 | Computing loss after\n",
            "2019-02-16 21:00:06 | itr #158 | Fitting baseline...\n",
            "2019-02-16 21:00:06 | itr #158 | Saving snapshot...\n",
            "2019-02-16 21:00:06 | itr #158 | Saved\n",
            "2019-02-16 21:00:06 | --------------------------  -------------\n",
            "2019-02-16 21:00:06 | AverageDiscountedReturn      50.1367\n",
            "2019-02-16 21:00:06 | AverageReturn                53.5039\n",
            "2019-02-16 21:00:06 | Baseline/ExplainedVariance    0.629504\n",
            "2019-02-16 21:00:06 | Entropy                       2.27028\n",
            "2019-02-16 21:00:06 | EnvExecTime                   0.880246\n",
            "2019-02-16 21:00:06 | Iteration                   158\n",
            "2019-02-16 21:00:06 | ItrTime                       4.88748\n",
            "2019-02-16 21:00:06 | MaxReturn                   110\n",
            "2019-02-16 21:00:06 | MinReturn                   -38\n",
            "2019-02-16 21:00:06 | NumTrajs                    129\n",
            "2019-02-16 21:00:06 | Perplexity                    9.68212\n",
            "2019-02-16 21:00:06 | PolicyExecTime                3.58506\n",
            "2019-02-16 21:00:06 | ProcessExecTime               0.0380044\n",
            "2019-02-16 21:00:06 | StdReturn                    50.7363\n",
            "2019-02-16 21:00:06 | Time                        807.131\n",
            "2019-02-16 21:00:06 | policy/Entropy                0.181204\n",
            "2019-02-16 21:00:06 | policy/KL                     0.00964167\n",
            "2019-02-16 21:00:06 | policy/KLBefore               0\n",
            "2019-02-16 21:00:06 | policy/LossAfter             -0.0176068\n",
            "2019-02-16 21:00:06 | policy/LossBefore             7.60657e-09\n",
            "2019-02-16 21:00:06 | policy/dLoss                  0.0176068\n",
            "2019-02-16 21:00:06 | --------------------------  -------------\n",
            "2019-02-16 21:00:06 | itr #159 | Obtaining samples...\n",
            "2019-02-16 21:00:06 | itr #159 | Obtaining samples for iteration 159...\n"
          ],
          "name": "stdout"
        },
        {
          "output_type": "stream",
          "text": [
            "0% [##############################] 100% | ETA: 00:00:00"
          ],
          "name": "stderr"
        },
        {
          "output_type": "stream",
          "text": [
            "2019-02-16 21:00:10 | itr #159 | Processing samples...\n",
            "2019-02-16 21:00:10 | itr #159 | Logging diagnostics...\n",
            "2019-02-16 21:00:10 | itr #159 | Optimizing policy...\n",
            "2019-02-16 21:00:10 | itr #159 | Computing loss before\n",
            "2019-02-16 21:00:10 | itr #159 | Computing KL before\n",
            "2019-02-16 21:00:10 | itr #159 | Optimizing\n",
            "2019-02-16 21:00:10 | itr #159 | Start CG optimization: #parameters: 10528, #inputs: 131, #subsample_inputs: 131\n",
            "2019-02-16 21:00:10 | itr #159 | computing loss before\n",
            "2019-02-16 21:00:10 | itr #159 | performing update\n",
            "2019-02-16 21:00:10 | itr #159 | computing gradient\n",
            "2019-02-16 21:00:10 | itr #159 | gradient computed\n",
            "2019-02-16 21:00:10 | itr #159 | computing descent direction\n"
          ],
          "name": "stdout"
        },
        {
          "output_type": "stream",
          "text": [
            "\n",
            "Total time elapsed: 00:00:04\n"
          ],
          "name": "stderr"
        },
        {
          "output_type": "stream",
          "text": [
            "2019-02-16 21:00:11 | itr #159 | descent direction computed\n",
            "2019-02-16 21:00:11 | itr #159 | backtrack iters: 2\n",
            "2019-02-16 21:00:11 | itr #159 | computing loss after\n",
            "2019-02-16 21:00:11 | itr #159 | optimization finished\n",
            "2019-02-16 21:00:11 | itr #159 | Computing KL after\n",
            "2019-02-16 21:00:11 | itr #159 | Computing loss after\n",
            "2019-02-16 21:00:11 | itr #159 | Fitting baseline...\n",
            "2019-02-16 21:00:11 | itr #159 | Saving snapshot...\n",
            "2019-02-16 21:00:11 | itr #159 | Saved\n",
            "2019-02-16 21:00:11 | --------------------------  -------------\n",
            "2019-02-16 21:00:11 | AverageDiscountedReturn      57.2597\n",
            "2019-02-16 21:00:11 | AverageReturn                61.4427\n",
            "2019-02-16 21:00:11 | Baseline/ExplainedVariance    0.662666\n",
            "2019-02-16 21:00:11 | Entropy                       2.23762\n",
            "2019-02-16 21:00:11 | EnvExecTime                   0.780956\n",
            "2019-02-16 21:00:11 | Iteration                   159\n",
            "2019-02-16 21:00:11 | ItrTime                       4.85554\n",
            "2019-02-16 21:00:11 | MaxReturn                   110\n",
            "2019-02-16 21:00:11 | MinReturn                   -33\n",
            "2019-02-16 21:00:11 | NumTrajs                    131\n",
            "2019-02-16 21:00:11 | Perplexity                    9.37096\n",
            "2019-02-16 21:00:11 | PolicyExecTime                3.62116\n",
            "2019-02-16 21:00:11 | ProcessExecTime               0.0393288\n",
            "2019-02-16 21:00:11 | StdReturn                    49.3373\n",
            "2019-02-16 21:00:11 | Time                        812.031\n",
            "2019-02-16 21:00:11 | policy/Entropy                0.180449\n",
            "2019-02-16 21:00:11 | policy/KL                     0.0071304\n",
            "2019-02-16 21:00:11 | policy/KLBefore               0\n",
            "2019-02-16 21:00:11 | policy/LossAfter             -0.0128402\n",
            "2019-02-16 21:00:11 | policy/LossBefore            -1.64262e-08\n",
            "2019-02-16 21:00:11 | policy/dLoss                  0.0128402\n",
            "2019-02-16 21:00:11 | --------------------------  -------------\n",
            "2019-02-16 21:00:11 | itr #160 | Obtaining samples...\n",
            "2019-02-16 21:00:11 | itr #160 | Obtaining samples for iteration 160...\n"
          ],
          "name": "stdout"
        },
        {
          "output_type": "stream",
          "text": [
            "0% [##############################] 100% | ETA: 00:00:00"
          ],
          "name": "stderr"
        },
        {
          "output_type": "stream",
          "text": [
            "2019-02-16 21:00:15 | itr #160 | Processing samples...\n",
            "2019-02-16 21:00:15 | itr #160 | Logging diagnostics...\n",
            "2019-02-16 21:00:15 | itr #160 | Optimizing policy...\n",
            "2019-02-16 21:00:15 | itr #160 | Computing loss before\n",
            "2019-02-16 21:00:15 | itr #160 | Computing KL before\n",
            "2019-02-16 21:00:15 | itr #160 | Optimizing\n",
            "2019-02-16 21:00:15 | itr #160 | Start CG optimization: #parameters: 10528, #inputs: 129, #subsample_inputs: 129\n",
            "2019-02-16 21:00:15 | itr #160 | computing loss before\n",
            "2019-02-16 21:00:15 | itr #160 | performing update\n",
            "2019-02-16 21:00:15 | itr #160 | computing gradient\n",
            "2019-02-16 21:00:15 | itr #160 | gradient computed\n",
            "2019-02-16 21:00:15 | itr #160 | computing descent direction\n"
          ],
          "name": "stdout"
        },
        {
          "output_type": "stream",
          "text": [
            "\n",
            "Total time elapsed: 00:00:04\n"
          ],
          "name": "stderr"
        },
        {
          "output_type": "stream",
          "text": [
            "2019-02-16 21:00:16 | itr #160 | descent direction computed\n",
            "2019-02-16 21:00:16 | itr #160 | backtrack iters: 0\n",
            "2019-02-16 21:00:16 | itr #160 | computing loss after\n",
            "2019-02-16 21:00:16 | itr #160 | optimization finished\n",
            "2019-02-16 21:00:16 | itr #160 | Computing KL after\n",
            "2019-02-16 21:00:16 | itr #160 | Computing loss after\n",
            "2019-02-16 21:00:16 | itr #160 | Fitting baseline...\n",
            "2019-02-16 21:00:16 | itr #160 | Saving snapshot...\n",
            "2019-02-16 21:00:16 | itr #160 | Saved\n",
            "2019-02-16 21:00:16 | --------------------------  -------------\n",
            "2019-02-16 21:00:16 | AverageDiscountedReturn      47.1031\n",
            "2019-02-16 21:00:16 | AverageReturn                49.9225\n",
            "2019-02-16 21:00:16 | Baseline/ExplainedVariance    0.550743\n",
            "2019-02-16 21:00:16 | Entropy                       2.25367\n",
            "2019-02-16 21:00:16 | EnvExecTime                   0.800115\n",
            "2019-02-16 21:00:16 | Iteration                   160\n",
            "2019-02-16 21:00:16 | ItrTime                       4.92619\n",
            "2019-02-16 21:00:16 | MaxReturn                   110\n",
            "2019-02-16 21:00:16 | MinReturn                   -40\n",
            "2019-02-16 21:00:16 | NumTrajs                    129\n",
            "2019-02-16 21:00:16 | Perplexity                    9.52263\n",
            "2019-02-16 21:00:16 | PolicyExecTime                3.69541\n",
            "2019-02-16 21:00:16 | ProcessExecTime               0.038486\n",
            "2019-02-16 21:00:16 | StdReturn                    51.4941\n",
            "2019-02-16 21:00:16 | Time                        817.009\n",
            "2019-02-16 21:00:16 | policy/Entropy                0.179908\n",
            "2019-02-16 21:00:16 | policy/KL                     0.0067192\n",
            "2019-02-16 21:00:16 | policy/KLBefore               0\n",
            "2019-02-16 21:00:16 | policy/LossAfter             -0.0167886\n",
            "2019-02-16 21:00:16 | policy/LossBefore             1.69752e-08\n",
            "2019-02-16 21:00:16 | policy/dLoss                  0.0167886\n",
            "2019-02-16 21:00:16 | --------------------------  -------------\n",
            "2019-02-16 21:00:16 | itr #161 | Obtaining samples...\n",
            "2019-02-16 21:00:16 | itr #161 | Obtaining samples for iteration 161...\n"
          ],
          "name": "stdout"
        },
        {
          "output_type": "stream",
          "text": [
            "0% [##############################] 100% | ETA: 00:00:00"
          ],
          "name": "stderr"
        },
        {
          "output_type": "stream",
          "text": [
            "2019-02-16 21:00:20 | itr #161 | Processing samples...\n",
            "2019-02-16 21:00:20 | itr #161 | Logging diagnostics...\n",
            "2019-02-16 21:00:20 | itr #161 | Optimizing policy...\n",
            "2019-02-16 21:00:20 | itr #161 | Computing loss before\n",
            "2019-02-16 21:00:20 | itr #161 | Computing KL before\n",
            "2019-02-16 21:00:20 | itr #161 | Optimizing\n",
            "2019-02-16 21:00:20 | itr #161 | Start CG optimization: #parameters: 10528, #inputs: 131, #subsample_inputs: 131\n",
            "2019-02-16 21:00:20 | itr #161 | computing loss before\n",
            "2019-02-16 21:00:20 | itr #161 | performing update\n",
            "2019-02-16 21:00:20 | itr #161 | computing gradient\n",
            "2019-02-16 21:00:20 | itr #161 | gradient computed\n",
            "2019-02-16 21:00:20 | itr #161 | computing descent direction\n"
          ],
          "name": "stdout"
        },
        {
          "output_type": "stream",
          "text": [
            "\n",
            "Total time elapsed: 00:00:04\n"
          ],
          "name": "stderr"
        },
        {
          "output_type": "stream",
          "text": [
            "2019-02-16 21:00:21 | itr #161 | descent direction computed\n",
            "2019-02-16 21:00:21 | itr #161 | backtrack iters: 1\n",
            "2019-02-16 21:00:21 | itr #161 | computing loss after\n",
            "2019-02-16 21:00:21 | itr #161 | optimization finished\n",
            "2019-02-16 21:00:21 | itr #161 | Computing KL after\n",
            "2019-02-16 21:00:21 | itr #161 | Computing loss after\n",
            "2019-02-16 21:00:21 | itr #161 | Fitting baseline...\n",
            "2019-02-16 21:00:21 | itr #161 | Saving snapshot...\n",
            "2019-02-16 21:00:21 | itr #161 | Saved\n",
            "2019-02-16 21:00:21 | --------------------------  -------------\n",
            "2019-02-16 21:00:21 | AverageDiscountedReturn      48.3414\n",
            "2019-02-16 21:00:21 | AverageReturn                51.4733\n",
            "2019-02-16 21:00:21 | Baseline/ExplainedVariance    0.592325\n",
            "2019-02-16 21:00:21 | Entropy                       2.17948\n",
            "2019-02-16 21:00:21 | EnvExecTime                   0.782093\n",
            "2019-02-16 21:00:21 | Iteration                   161\n",
            "2019-02-16 21:00:21 | ItrTime                       4.96747\n",
            "2019-02-16 21:00:21 | MaxReturn                   110\n",
            "2019-02-16 21:00:21 | MinReturn                   -36\n",
            "2019-02-16 21:00:21 | NumTrajs                    131\n",
            "2019-02-16 21:00:21 | Perplexity                    8.84174\n",
            "2019-02-16 21:00:21 | PolicyExecTime                3.7332\n",
            "2019-02-16 21:00:21 | ProcessExecTime               0.0391643\n",
            "2019-02-16 21:00:21 | StdReturn                    49.6403\n",
            "2019-02-16 21:00:21 | Time                        822.03\n",
            "2019-02-16 21:00:21 | policy/Entropy                0.187887\n",
            "2019-02-16 21:00:21 | policy/KL                     0.00807329\n",
            "2019-02-16 21:00:21 | policy/KLBefore               0\n",
            "2019-02-16 21:00:21 | policy/LossAfter             -0.0193894\n",
            "2019-02-16 21:00:21 | policy/LossBefore             5.18427e-09\n",
            "2019-02-16 21:00:21 | policy/dLoss                  0.0193894\n",
            "2019-02-16 21:00:21 | --------------------------  -------------\n",
            "2019-02-16 21:00:21 | itr #162 | Obtaining samples...\n",
            "2019-02-16 21:00:21 | itr #162 | Obtaining samples for iteration 162...\n"
          ],
          "name": "stdout"
        },
        {
          "output_type": "stream",
          "text": [
            "0% [##############################] 100% | ETA: 00:00:00"
          ],
          "name": "stderr"
        },
        {
          "output_type": "stream",
          "text": [
            "2019-02-16 21:00:25 | itr #162 | Processing samples...\n",
            "2019-02-16 21:00:25 | itr #162 | Logging diagnostics...\n",
            "2019-02-16 21:00:25 | itr #162 | Optimizing policy...\n",
            "2019-02-16 21:00:25 | itr #162 | Computing loss before\n",
            "2019-02-16 21:00:25 | itr #162 | Computing KL before\n",
            "2019-02-16 21:00:25 | itr #162 | Optimizing\n",
            "2019-02-16 21:00:25 | itr #162 | Start CG optimization: #parameters: 10528, #inputs: 134, #subsample_inputs: 134\n",
            "2019-02-16 21:00:25 | itr #162 | computing loss before\n",
            "2019-02-16 21:00:25 | itr #162 | performing update\n",
            "2019-02-16 21:00:25 | itr #162 | computing gradient\n",
            "2019-02-16 21:00:25 | itr #162 | gradient computed\n",
            "2019-02-16 21:00:25 | itr #162 | computing descent direction\n"
          ],
          "name": "stdout"
        },
        {
          "output_type": "stream",
          "text": [
            "\n",
            "Total time elapsed: 00:00:04\n"
          ],
          "name": "stderr"
        },
        {
          "output_type": "stream",
          "text": [
            "2019-02-16 21:00:25 | itr #162 | descent direction computed\n",
            "2019-02-16 21:00:25 | itr #162 | backtrack iters: 1\n",
            "2019-02-16 21:00:25 | itr #162 | computing loss after\n",
            "2019-02-16 21:00:25 | itr #162 | optimization finished\n",
            "2019-02-16 21:00:25 | itr #162 | Computing KL after\n",
            "2019-02-16 21:00:25 | itr #162 | Computing loss after\n",
            "2019-02-16 21:00:26 | itr #162 | Fitting baseline...\n",
            "2019-02-16 21:00:26 | itr #162 | Saving snapshot...\n",
            "2019-02-16 21:00:26 | itr #162 | Saved\n",
            "2019-02-16 21:00:26 | --------------------------  -------------\n",
            "2019-02-16 21:00:26 | AverageDiscountedReturn      62.034\n",
            "2019-02-16 21:00:26 | AverageReturn                66.9478\n",
            "2019-02-16 21:00:26 | Baseline/ExplainedVariance    0.690318\n",
            "2019-02-16 21:00:26 | Entropy                       2.19171\n",
            "2019-02-16 21:00:26 | EnvExecTime                   0.793398\n",
            "2019-02-16 21:00:26 | Iteration                   162\n",
            "2019-02-16 21:00:26 | ItrTime                       4.88263\n",
            "2019-02-16 21:00:26 | MaxReturn                   110\n",
            "2019-02-16 21:00:26 | MinReturn                   -35\n",
            "2019-02-16 21:00:26 | NumTrajs                    134\n",
            "2019-02-16 21:00:26 | Perplexity                    8.9505\n",
            "2019-02-16 21:00:26 | PolicyExecTime                3.62397\n",
            "2019-02-16 21:00:26 | ProcessExecTime               0.0407262\n",
            "2019-02-16 21:00:26 | StdReturn                    50.2571\n",
            "2019-02-16 21:00:26 | Time                        826.96\n",
            "2019-02-16 21:00:26 | policy/Entropy                0.183388\n",
            "2019-02-16 21:00:26 | policy/KL                     0.00691518\n",
            "2019-02-16 21:00:26 | policy/KLBefore               0\n",
            "2019-02-16 21:00:26 | policy/LossAfter             -0.0151154\n",
            "2019-02-16 21:00:26 | policy/LossBefore             9.42832e-10\n",
            "2019-02-16 21:00:26 | policy/dLoss                  0.0151154\n",
            "2019-02-16 21:00:26 | --------------------------  -------------\n",
            "2019-02-16 21:00:26 | itr #163 | Obtaining samples...\n",
            "2019-02-16 21:00:26 | itr #163 | Obtaining samples for iteration 163...\n"
          ],
          "name": "stdout"
        },
        {
          "output_type": "stream",
          "text": [
            "0% [##############################] 100% | ETA: 00:00:00"
          ],
          "name": "stderr"
        },
        {
          "output_type": "stream",
          "text": [
            "2019-02-16 21:00:30 | itr #163 | Processing samples...\n",
            "2019-02-16 21:00:30 | itr #163 | Logging diagnostics...\n",
            "2019-02-16 21:00:30 | itr #163 | Optimizing policy...\n",
            "2019-02-16 21:00:30 | itr #163 | Computing loss before\n",
            "2019-02-16 21:00:30 | itr #163 | Computing KL before\n",
            "2019-02-16 21:00:30 | itr #163 | Optimizing\n",
            "2019-02-16 21:00:30 | itr #163 | Start CG optimization: #parameters: 10528, #inputs: 132, #subsample_inputs: 132\n",
            "2019-02-16 21:00:30 | itr #163 | computing loss before\n",
            "2019-02-16 21:00:30 | itr #163 | performing update\n",
            "2019-02-16 21:00:30 | itr #163 | computing gradient\n",
            "2019-02-16 21:00:30 | itr #163 | gradient computed\n",
            "2019-02-16 21:00:30 | itr #163 | computing descent direction\n"
          ],
          "name": "stdout"
        },
        {
          "output_type": "stream",
          "text": [
            "\n",
            "Total time elapsed: 00:00:04\n"
          ],
          "name": "stderr"
        },
        {
          "output_type": "stream",
          "text": [
            "2019-02-16 21:00:30 | itr #163 | descent direction computed\n",
            "2019-02-16 21:00:30 | itr #163 | backtrack iters: 1\n",
            "2019-02-16 21:00:30 | itr #163 | computing loss after\n",
            "2019-02-16 21:00:30 | itr #163 | optimization finished\n",
            "2019-02-16 21:00:30 | itr #163 | Computing KL after\n",
            "2019-02-16 21:00:30 | itr #163 | Computing loss after\n",
            "2019-02-16 21:00:30 | itr #163 | Fitting baseline...\n",
            "2019-02-16 21:00:30 | itr #163 | Saving snapshot...\n",
            "2019-02-16 21:00:30 | itr #163 | Saved\n",
            "2019-02-16 21:00:30 | --------------------------  -------------\n",
            "2019-02-16 21:00:30 | AverageDiscountedReturn      54.0682\n",
            "2019-02-16 21:00:30 | AverageReturn                57.7197\n",
            "2019-02-16 21:00:30 | Baseline/ExplainedVariance    0.545052\n",
            "2019-02-16 21:00:30 | Entropy                       2.22206\n",
            "2019-02-16 21:00:30 | EnvExecTime                   0.752242\n",
            "2019-02-16 21:00:30 | Iteration                   163\n",
            "2019-02-16 21:00:30 | ItrTime                       4.69884\n",
            "2019-02-16 21:00:30 | MaxReturn                   110\n",
            "2019-02-16 21:00:30 | MinReturn                   -30\n",
            "2019-02-16 21:00:30 | NumTrajs                    132\n",
            "2019-02-16 21:00:30 | Perplexity                    9.2263\n",
            "2019-02-16 21:00:30 | PolicyExecTime                3.50267\n",
            "2019-02-16 21:00:30 | ProcessExecTime               0.0383973\n",
            "2019-02-16 21:00:30 | StdReturn                    48.9174\n",
            "2019-02-16 21:00:30 | Time                        831.726\n",
            "2019-02-16 21:00:30 | policy/Entropy                0.182361\n",
            "2019-02-16 21:00:30 | policy/KL                     0.00703283\n",
            "2019-02-16 21:00:30 | policy/KLBefore               0\n",
            "2019-02-16 21:00:30 | policy/LossAfter             -0.015786\n",
            "2019-02-16 21:00:30 | policy/LossBefore             1.04812e-08\n",
            "2019-02-16 21:00:30 | policy/dLoss                  0.015786\n",
            "2019-02-16 21:00:30 | --------------------------  -------------\n",
            "2019-02-16 21:00:30 | itr #164 | Obtaining samples...\n",
            "2019-02-16 21:00:30 | itr #164 | Obtaining samples for iteration 164...\n"
          ],
          "name": "stdout"
        },
        {
          "output_type": "stream",
          "text": [
            "0% [##############################] 100% | ETA: 00:00:00"
          ],
          "name": "stderr"
        },
        {
          "output_type": "stream",
          "text": [
            "2019-02-16 21:00:35 | itr #164 | Processing samples...\n",
            "2019-02-16 21:00:35 | itr #164 | Logging diagnostics...\n",
            "2019-02-16 21:00:35 | itr #164 | Optimizing policy...\n",
            "2019-02-16 21:00:35 | itr #164 | Computing loss before\n",
            "2019-02-16 21:00:35 | itr #164 | Computing KL before\n",
            "2019-02-16 21:00:35 | itr #164 | Optimizing\n",
            "2019-02-16 21:00:35 | itr #164 | Start CG optimization: #parameters: 10528, #inputs: 129, #subsample_inputs: 129\n",
            "2019-02-16 21:00:35 | itr #164 | computing loss before\n",
            "2019-02-16 21:00:35 | itr #164 | performing update\n",
            "2019-02-16 21:00:35 | itr #164 | computing gradient\n",
            "2019-02-16 21:00:35 | itr #164 | gradient computed\n",
            "2019-02-16 21:00:35 | itr #164 | computing descent direction\n"
          ],
          "name": "stdout"
        },
        {
          "output_type": "stream",
          "text": [
            "\n",
            "Total time elapsed: 00:00:04\n"
          ],
          "name": "stderr"
        },
        {
          "output_type": "stream",
          "text": [
            "2019-02-16 21:00:35 | itr #164 | descent direction computed\n",
            "2019-02-16 21:00:35 | itr #164 | backtrack iters: 0\n",
            "2019-02-16 21:00:35 | itr #164 | computing loss after\n",
            "2019-02-16 21:00:35 | itr #164 | optimization finished\n",
            "2019-02-16 21:00:35 | itr #164 | Computing KL after\n",
            "2019-02-16 21:00:35 | itr #164 | Computing loss after\n",
            "2019-02-16 21:00:35 | itr #164 | Fitting baseline...\n",
            "2019-02-16 21:00:35 | itr #164 | Saving snapshot...\n",
            "2019-02-16 21:00:35 | itr #164 | Saved\n",
            "2019-02-16 21:00:35 | --------------------------  -------------\n",
            "2019-02-16 21:00:35 | AverageDiscountedReturn      55.6034\n",
            "2019-02-16 21:00:35 | AverageReturn                59.6822\n",
            "2019-02-16 21:00:35 | Baseline/ExplainedVariance    0.591044\n",
            "2019-02-16 21:00:35 | Entropy                       2.13752\n",
            "2019-02-16 21:00:35 | EnvExecTime                   0.779484\n",
            "2019-02-16 21:00:35 | Iteration                   164\n",
            "2019-02-16 21:00:35 | ItrTime                       4.84552\n",
            "2019-02-16 21:00:35 | MaxReturn                   110\n",
            "2019-02-16 21:00:35 | MinReturn                   -37\n",
            "2019-02-16 21:00:35 | NumTrajs                    129\n",
            "2019-02-16 21:00:35 | Perplexity                    8.47838\n",
            "2019-02-16 21:00:35 | PolicyExecTime                3.64122\n",
            "2019-02-16 21:00:35 | ProcessExecTime               0.0383523\n",
            "2019-02-16 21:00:35 | StdReturn                    48.2447\n",
            "2019-02-16 21:00:35 | Time                        836.61\n",
            "2019-02-16 21:00:35 | policy/Entropy                0.196397\n",
            "2019-02-16 21:00:35 | policy/KL                     0.00822162\n",
            "2019-02-16 21:00:35 | policy/KLBefore               0\n",
            "2019-02-16 21:00:35 | policy/LossAfter             -0.0177266\n",
            "2019-02-16 21:00:35 | policy/LossBefore            -5.68792e-09\n",
            "2019-02-16 21:00:35 | policy/dLoss                  0.0177266\n",
            "2019-02-16 21:00:35 | --------------------------  -------------\n",
            "2019-02-16 21:00:35 | itr #165 | Obtaining samples...\n",
            "2019-02-16 21:00:35 | itr #165 | Obtaining samples for iteration 165...\n"
          ],
          "name": "stdout"
        },
        {
          "output_type": "stream",
          "text": [
            "0% [##############################] 100% | ETA: 00:00:00"
          ],
          "name": "stderr"
        },
        {
          "output_type": "stream",
          "text": [
            "2019-02-16 21:00:40 | itr #165 | Processing samples...\n",
            "2019-02-16 21:00:40 | itr #165 | Logging diagnostics...\n",
            "2019-02-16 21:00:40 | itr #165 | Optimizing policy...\n",
            "2019-02-16 21:00:40 | itr #165 | Computing loss before\n",
            "2019-02-16 21:00:40 | itr #165 | Computing KL before\n",
            "2019-02-16 21:00:40 | itr #165 | Optimizing\n",
            "2019-02-16 21:00:40 | itr #165 | Start CG optimization: #parameters: 10528, #inputs: 131, #subsample_inputs: 131\n",
            "2019-02-16 21:00:40 | itr #165 | computing loss before\n",
            "2019-02-16 21:00:40 | itr #165 | performing update\n",
            "2019-02-16 21:00:40 | itr #165 | computing gradient\n",
            "2019-02-16 21:00:40 | itr #165 | gradient computed\n",
            "2019-02-16 21:00:40 | itr #165 | computing descent direction\n"
          ],
          "name": "stdout"
        },
        {
          "output_type": "stream",
          "text": [
            "\n",
            "Total time elapsed: 00:00:04\n"
          ],
          "name": "stderr"
        },
        {
          "output_type": "stream",
          "text": [
            "2019-02-16 21:00:40 | itr #165 | descent direction computed\n",
            "2019-02-16 21:00:40 | itr #165 | backtrack iters: 1\n",
            "2019-02-16 21:00:40 | itr #165 | computing loss after\n",
            "2019-02-16 21:00:40 | itr #165 | optimization finished\n",
            "2019-02-16 21:00:40 | itr #165 | Computing KL after\n",
            "2019-02-16 21:00:40 | itr #165 | Computing loss after\n",
            "2019-02-16 21:00:40 | itr #165 | Fitting baseline...\n",
            "2019-02-16 21:00:40 | itr #165 | Saving snapshot...\n",
            "2019-02-16 21:00:40 | itr #165 | Saved\n",
            "2019-02-16 21:00:40 | --------------------------  -------------\n",
            "2019-02-16 21:00:40 | AverageDiscountedReturn      54.4358\n",
            "2019-02-16 21:00:40 | AverageReturn                58.4122\n",
            "2019-02-16 21:00:40 | Baseline/ExplainedVariance    0.621121\n",
            "2019-02-16 21:00:40 | Entropy                       2.12318\n",
            "2019-02-16 21:00:40 | EnvExecTime                   0.78028\n",
            "2019-02-16 21:00:40 | Iteration                   165\n",
            "2019-02-16 21:00:40 | ItrTime                       4.85611\n",
            "2019-02-16 21:00:40 | MaxReturn                   110\n",
            "2019-02-16 21:00:40 | MinReturn                   -29\n",
            "2019-02-16 21:00:40 | NumTrajs                    131\n",
            "2019-02-16 21:00:40 | Perplexity                    8.35771\n",
            "2019-02-16 21:00:40 | PolicyExecTime                3.62555\n",
            "2019-02-16 21:00:40 | ProcessExecTime               0.0392082\n",
            "2019-02-16 21:00:40 | StdReturn                    49.9317\n",
            "2019-02-16 21:00:40 | Time                        841.531\n",
            "2019-02-16 21:00:40 | policy/Entropy                0.196441\n",
            "2019-02-16 21:00:40 | policy/KL                     0.00857736\n",
            "2019-02-16 21:00:40 | policy/KLBefore               0\n",
            "2019-02-16 21:00:40 | policy/LossAfter             -0.0139523\n",
            "2019-02-16 21:00:40 | policy/LossBefore             9.47397e-09\n",
            "2019-02-16 21:00:40 | policy/dLoss                  0.0139523\n",
            "2019-02-16 21:00:40 | --------------------------  -------------\n",
            "2019-02-16 21:00:40 | itr #166 | Obtaining samples...\n",
            "2019-02-16 21:00:40 | itr #166 | Obtaining samples for iteration 166...\n"
          ],
          "name": "stdout"
        },
        {
          "output_type": "stream",
          "text": [
            "0% [##############################] 100% | ETA: 00:00:00"
          ],
          "name": "stderr"
        },
        {
          "output_type": "stream",
          "text": [
            "2019-02-16 21:00:45 | itr #166 | Processing samples...\n",
            "2019-02-16 21:00:45 | itr #166 | Logging diagnostics...\n",
            "2019-02-16 21:00:45 | itr #166 | Optimizing policy...\n",
            "2019-02-16 21:00:45 | itr #166 | Computing loss before\n",
            "2019-02-16 21:00:45 | itr #166 | Computing KL before\n",
            "2019-02-16 21:00:45 | itr #166 | Optimizing\n",
            "2019-02-16 21:00:45 | itr #166 | Start CG optimization: #parameters: 10528, #inputs: 127, #subsample_inputs: 127\n",
            "2019-02-16 21:00:45 | itr #166 | computing loss before\n",
            "2019-02-16 21:00:45 | itr #166 | performing update\n",
            "2019-02-16 21:00:45 | itr #166 | computing gradient\n",
            "2019-02-16 21:00:45 | itr #166 | gradient computed\n",
            "2019-02-16 21:00:45 | itr #166 | computing descent direction\n"
          ],
          "name": "stdout"
        },
        {
          "output_type": "stream",
          "text": [
            "\n",
            "Total time elapsed: 00:00:04\n"
          ],
          "name": "stderr"
        },
        {
          "output_type": "stream",
          "text": [
            "2019-02-16 21:00:45 | itr #166 | descent direction computed\n",
            "2019-02-16 21:00:45 | itr #166 | backtrack iters: 2\n",
            "2019-02-16 21:00:45 | itr #166 | computing loss after\n",
            "2019-02-16 21:00:45 | itr #166 | optimization finished\n",
            "2019-02-16 21:00:45 | itr #166 | Computing KL after\n",
            "2019-02-16 21:00:45 | itr #166 | Computing loss after\n",
            "2019-02-16 21:00:45 | itr #166 | Fitting baseline...\n",
            "2019-02-16 21:00:45 | itr #166 | Saving snapshot...\n",
            "2019-02-16 21:00:45 | itr #166 | Saved\n",
            "2019-02-16 21:00:45 | --------------------------  -------------\n",
            "2019-02-16 21:00:45 | AverageDiscountedReturn      53.9694\n",
            "2019-02-16 21:00:45 | AverageReturn                57.4646\n",
            "2019-02-16 21:00:45 | Baseline/ExplainedVariance    0.641433\n",
            "2019-02-16 21:00:45 | Entropy                       2.09728\n",
            "2019-02-16 21:00:45 | EnvExecTime                   0.773442\n",
            "2019-02-16 21:00:45 | Iteration                   166\n",
            "2019-02-16 21:00:45 | ItrTime                       4.87389\n",
            "2019-02-16 21:00:45 | MaxReturn                   110\n",
            "2019-02-16 21:00:45 | MinReturn                   -38\n",
            "2019-02-16 21:00:45 | NumTrajs                    127\n",
            "2019-02-16 21:00:45 | Perplexity                    8.144\n",
            "2019-02-16 21:00:45 | PolicyExecTime                3.63792\n",
            "2019-02-16 21:00:45 | ProcessExecTime               0.037971\n",
            "2019-02-16 21:00:45 | StdReturn                    49.1842\n",
            "2019-02-16 21:00:45 | Time                        846.452\n",
            "2019-02-16 21:00:45 | policy/Entropy                0.205731\n",
            "2019-02-16 21:00:45 | policy/KL                     0.00715558\n",
            "2019-02-16 21:00:45 | policy/KLBefore               0\n",
            "2019-02-16 21:00:45 | policy/LossAfter             -0.0187134\n",
            "2019-02-16 21:00:45 | policy/LossBefore             6.42606e-09\n",
            "2019-02-16 21:00:45 | policy/dLoss                  0.0187134\n",
            "2019-02-16 21:00:45 | --------------------------  -------------\n",
            "2019-02-16 21:00:45 | itr #167 | Obtaining samples...\n",
            "2019-02-16 21:00:45 | itr #167 | Obtaining samples for iteration 167...\n"
          ],
          "name": "stdout"
        },
        {
          "output_type": "stream",
          "text": [
            "0% [##############################] 100% | ETA: 00:00:00"
          ],
          "name": "stderr"
        },
        {
          "output_type": "stream",
          "text": [
            "2019-02-16 21:00:50 | itr #167 | Processing samples...\n",
            "2019-02-16 21:00:50 | itr #167 | Logging diagnostics...\n",
            "2019-02-16 21:00:50 | itr #167 | Optimizing policy...\n",
            "2019-02-16 21:00:50 | itr #167 | Computing loss before\n",
            "2019-02-16 21:00:50 | itr #167 | Computing KL before\n",
            "2019-02-16 21:00:50 | itr #167 | Optimizing\n",
            "2019-02-16 21:00:50 | itr #167 | Start CG optimization: #parameters: 10528, #inputs: 129, #subsample_inputs: 129\n",
            "2019-02-16 21:00:50 | itr #167 | computing loss before\n",
            "2019-02-16 21:00:50 | itr #167 | performing update\n",
            "2019-02-16 21:00:50 | itr #167 | computing gradient\n",
            "2019-02-16 21:00:50 | itr #167 | gradient computed\n",
            "2019-02-16 21:00:50 | itr #167 | computing descent direction\n"
          ],
          "name": "stdout"
        },
        {
          "output_type": "stream",
          "text": [
            "\n",
            "Total time elapsed: 00:00:04\n"
          ],
          "name": "stderr"
        },
        {
          "output_type": "stream",
          "text": [
            "2019-02-16 21:00:50 | itr #167 | descent direction computed\n",
            "2019-02-16 21:00:50 | itr #167 | backtrack iters: 1\n",
            "2019-02-16 21:00:50 | itr #167 | computing loss after\n",
            "2019-02-16 21:00:50 | itr #167 | optimization finished\n",
            "2019-02-16 21:00:50 | itr #167 | Computing KL after\n",
            "2019-02-16 21:00:50 | itr #167 | Computing loss after\n",
            "2019-02-16 21:00:50 | itr #167 | Fitting baseline...\n",
            "2019-02-16 21:00:50 | itr #167 | Saving snapshot...\n",
            "2019-02-16 21:00:50 | itr #167 | Saved\n",
            "2019-02-16 21:00:50 | --------------------------  -------------\n",
            "2019-02-16 21:00:50 | AverageDiscountedReturn      53.3929\n",
            "2019-02-16 21:00:50 | AverageReturn                56.6589\n",
            "2019-02-16 21:00:50 | Baseline/ExplainedVariance    0.60147\n",
            "2019-02-16 21:00:50 | Entropy                       2.10695\n",
            "2019-02-16 21:00:50 | EnvExecTime                   0.823016\n",
            "2019-02-16 21:00:50 | Iteration                   167\n",
            "2019-02-16 21:00:50 | ItrTime                       5.02326\n",
            "2019-02-16 21:00:50 | MaxReturn                   110\n",
            "2019-02-16 21:00:50 | MinReturn                   -44\n",
            "2019-02-16 21:00:50 | NumTrajs                    129\n",
            "2019-02-16 21:00:50 | Perplexity                    8.22312\n",
            "2019-02-16 21:00:50 | PolicyExecTime                3.74522\n",
            "2019-02-16 21:00:50 | ProcessExecTime               0.038749\n",
            "2019-02-16 21:00:50 | StdReturn                    48.1344\n",
            "2019-02-16 21:00:50 | Time                        851.512\n",
            "2019-02-16 21:00:50 | policy/Entropy                0.206904\n",
            "2019-02-16 21:00:50 | policy/KL                     0.00867466\n",
            "2019-02-16 21:00:50 | policy/KLBefore               0\n",
            "2019-02-16 21:00:50 | policy/LossAfter             -0.0190578\n",
            "2019-02-16 21:00:50 | policy/LossBefore            -3.78442e-09\n",
            "2019-02-16 21:00:50 | policy/dLoss                  0.0190578\n",
            "2019-02-16 21:00:50 | --------------------------  -------------\n",
            "2019-02-16 21:00:50 | itr #168 | Obtaining samples...\n",
            "2019-02-16 21:00:50 | itr #168 | Obtaining samples for iteration 168...\n"
          ],
          "name": "stdout"
        },
        {
          "output_type": "stream",
          "text": [
            "0% [##############################] 100% | ETA: 00:00:00"
          ],
          "name": "stderr"
        },
        {
          "output_type": "stream",
          "text": [
            "2019-02-16 21:00:55 | itr #168 | Processing samples...\n",
            "2019-02-16 21:00:55 | itr #168 | Logging diagnostics...\n",
            "2019-02-16 21:00:55 | itr #168 | Optimizing policy...\n",
            "2019-02-16 21:00:55 | itr #168 | Computing loss before\n",
            "2019-02-16 21:00:55 | itr #168 | Computing KL before\n",
            "2019-02-16 21:00:55 | itr #168 | Optimizing\n",
            "2019-02-16 21:00:55 | itr #168 | Start CG optimization: #parameters: 10528, #inputs: 130, #subsample_inputs: 130\n",
            "2019-02-16 21:00:55 | itr #168 | computing loss before\n",
            "2019-02-16 21:00:55 | itr #168 | performing update\n",
            "2019-02-16 21:00:55 | itr #168 | computing gradient\n",
            "2019-02-16 21:00:55 | itr #168 | gradient computed\n",
            "2019-02-16 21:00:55 | itr #168 | computing descent direction\n"
          ],
          "name": "stdout"
        },
        {
          "output_type": "stream",
          "text": [
            "\n",
            "Total time elapsed: 00:00:04\n"
          ],
          "name": "stderr"
        },
        {
          "output_type": "stream",
          "text": [
            "2019-02-16 21:00:55 | itr #168 | descent direction computed\n",
            "2019-02-16 21:00:55 | itr #168 | backtrack iters: 0\n",
            "2019-02-16 21:00:55 | itr #168 | computing loss after\n",
            "2019-02-16 21:00:55 | itr #168 | optimization finished\n",
            "2019-02-16 21:00:55 | itr #168 | Computing KL after\n",
            "2019-02-16 21:00:55 | itr #168 | Computing loss after\n",
            "2019-02-16 21:00:55 | itr #168 | Fitting baseline...\n",
            "2019-02-16 21:00:55 | itr #168 | Saving snapshot...\n",
            "2019-02-16 21:00:55 | itr #168 | Saved\n",
            "2019-02-16 21:00:55 | --------------------------  ------------\n",
            "2019-02-16 21:00:55 | AverageDiscountedReturn      60.2256\n",
            "2019-02-16 21:00:55 | AverageReturn                64.8077\n",
            "2019-02-16 21:00:55 | Baseline/ExplainedVariance    0.676973\n",
            "2019-02-16 21:00:55 | Entropy                       2.02959\n",
            "2019-02-16 21:00:55 | EnvExecTime                   0.864768\n",
            "2019-02-16 21:00:55 | Iteration                   168\n",
            "2019-02-16 21:00:55 | ItrTime                       5.17806\n",
            "2019-02-16 21:00:55 | MaxReturn                   110\n",
            "2019-02-16 21:00:55 | MinReturn                   -33\n",
            "2019-02-16 21:00:55 | NumTrajs                    130\n",
            "2019-02-16 21:00:55 | Perplexity                    7.61096\n",
            "2019-02-16 21:00:55 | PolicyExecTime                3.85358\n",
            "2019-02-16 21:00:55 | ProcessExecTime               0.0383894\n",
            "2019-02-16 21:00:55 | StdReturn                    45.9031\n",
            "2019-02-16 21:00:55 | Time                        856.72\n",
            "2019-02-16 21:00:55 | policy/Entropy                0.20697\n",
            "2019-02-16 21:00:55 | policy/KL                     0.00698836\n",
            "2019-02-16 21:00:55 | policy/KLBefore               0\n",
            "2019-02-16 21:00:55 | policy/LossAfter             -0.0124766\n",
            "2019-02-16 21:00:55 | policy/LossBefore            -0\n",
            "2019-02-16 21:00:55 | policy/dLoss                  0.0124766\n",
            "2019-02-16 21:00:55 | --------------------------  ------------\n",
            "2019-02-16 21:00:55 | itr #169 | Obtaining samples...\n",
            "2019-02-16 21:00:55 | itr #169 | Obtaining samples for iteration 169...\n"
          ],
          "name": "stdout"
        },
        {
          "output_type": "stream",
          "text": [
            "0% [##############################] 100% | ETA: 00:00:00"
          ],
          "name": "stderr"
        },
        {
          "output_type": "stream",
          "text": [
            "2019-02-16 21:01:00 | itr #169 | Processing samples...\n",
            "2019-02-16 21:01:00 | itr #169 | Logging diagnostics...\n",
            "2019-02-16 21:01:00 | itr #169 | Optimizing policy...\n",
            "2019-02-16 21:01:00 | itr #169 | Computing loss before\n",
            "2019-02-16 21:01:00 | itr #169 | Computing KL before\n",
            "2019-02-16 21:01:00 | itr #169 | Optimizing\n",
            "2019-02-16 21:01:00 | itr #169 | Start CG optimization: #parameters: 10528, #inputs: 130, #subsample_inputs: 130\n",
            "2019-02-16 21:01:00 | itr #169 | computing loss before\n",
            "2019-02-16 21:01:00 | itr #169 | performing update\n",
            "2019-02-16 21:01:00 | itr #169 | computing gradient\n",
            "2019-02-16 21:01:00 | itr #169 | gradient computed\n",
            "2019-02-16 21:01:00 | itr #169 | computing descent direction\n"
          ],
          "name": "stdout"
        },
        {
          "output_type": "stream",
          "text": [
            "\n",
            "Total time elapsed: 00:00:04\n"
          ],
          "name": "stderr"
        },
        {
          "output_type": "stream",
          "text": [
            "2019-02-16 21:01:00 | itr #169 | descent direction computed\n",
            "2019-02-16 21:01:00 | itr #169 | backtrack iters: 2\n",
            "2019-02-16 21:01:00 | itr #169 | computing loss after\n",
            "2019-02-16 21:01:00 | itr #169 | optimization finished\n",
            "2019-02-16 21:01:00 | itr #169 | Computing KL after\n",
            "2019-02-16 21:01:00 | itr #169 | Computing loss after\n",
            "2019-02-16 21:01:00 | itr #169 | Fitting baseline...\n",
            "2019-02-16 21:01:00 | itr #169 | Saving snapshot...\n",
            "2019-02-16 21:01:00 | itr #169 | Saved\n",
            "2019-02-16 21:01:00 | --------------------------  ------------\n",
            "2019-02-16 21:01:00 | AverageDiscountedReturn      56.5492\n",
            "2019-02-16 21:01:00 | AverageReturn                60.1538\n",
            "2019-02-16 21:01:00 | Baseline/ExplainedVariance    0.545478\n",
            "2019-02-16 21:01:00 | Entropy                       2.13443\n",
            "2019-02-16 21:01:00 | EnvExecTime                   0.812228\n",
            "2019-02-16 21:01:00 | Iteration                   169\n",
            "2019-02-16 21:01:00 | ItrTime                       4.99611\n",
            "2019-02-16 21:01:00 | MaxReturn                   110\n",
            "2019-02-16 21:01:00 | MinReturn                   -29\n",
            "2019-02-16 21:01:00 | NumTrajs                    130\n",
            "2019-02-16 21:01:00 | Perplexity                    8.45223\n",
            "2019-02-16 21:01:00 | PolicyExecTime                3.7322\n",
            "2019-02-16 21:01:00 | ProcessExecTime               0.0382504\n",
            "2019-02-16 21:01:00 | StdReturn                    43.3968\n",
            "2019-02-16 21:01:00 | Time                        861.749\n",
            "2019-02-16 21:01:00 | policy/Entropy                0.201917\n",
            "2019-02-16 21:01:00 | policy/KL                     0.00626847\n",
            "2019-02-16 21:01:00 | policy/KLBefore               0\n",
            "2019-02-16 21:01:00 | policy/LossAfter             -0.010444\n",
            "2019-02-16 21:01:00 | policy/LossBefore            -1.7369e-08\n",
            "2019-02-16 21:01:00 | policy/dLoss                  0.010444\n",
            "2019-02-16 21:01:00 | --------------------------  ------------\n",
            "2019-02-16 21:01:00 | itr #170 | Obtaining samples...\n",
            "2019-02-16 21:01:00 | itr #170 | Obtaining samples for iteration 170...\n"
          ],
          "name": "stdout"
        },
        {
          "output_type": "stream",
          "text": [
            "0% [##############################] 100% | ETA: 00:00:00"
          ],
          "name": "stderr"
        },
        {
          "output_type": "stream",
          "text": [
            "2019-02-16 21:01:05 | itr #170 | Processing samples...\n",
            "2019-02-16 21:01:05 | itr #170 | Logging diagnostics...\n",
            "2019-02-16 21:01:05 | itr #170 | Optimizing policy...\n",
            "2019-02-16 21:01:05 | itr #170 | Computing loss before\n",
            "2019-02-16 21:01:05 | itr #170 | Computing KL before\n",
            "2019-02-16 21:01:05 | itr #170 | Optimizing\n",
            "2019-02-16 21:01:05 | itr #170 | Start CG optimization: #parameters: 10528, #inputs: 125, #subsample_inputs: 125\n",
            "2019-02-16 21:01:05 | itr #170 | computing loss before\n",
            "2019-02-16 21:01:05 | itr #170 | performing update\n",
            "2019-02-16 21:01:05 | itr #170 | computing gradient\n",
            "2019-02-16 21:01:05 | itr #170 | gradient computed\n",
            "2019-02-16 21:01:05 | itr #170 | computing descent direction\n"
          ],
          "name": "stdout"
        },
        {
          "output_type": "stream",
          "text": [
            "\n",
            "Total time elapsed: 00:00:04\n"
          ],
          "name": "stderr"
        },
        {
          "output_type": "stream",
          "text": [
            "2019-02-16 21:01:05 | itr #170 | descent direction computed\n",
            "2019-02-16 21:01:05 | itr #170 | backtrack iters: 0\n",
            "2019-02-16 21:01:05 | itr #170 | computing loss after\n",
            "2019-02-16 21:01:05 | itr #170 | optimization finished\n",
            "2019-02-16 21:01:05 | itr #170 | Computing KL after\n",
            "2019-02-16 21:01:05 | itr #170 | Computing loss after\n",
            "2019-02-16 21:01:05 | itr #170 | Fitting baseline...\n",
            "2019-02-16 21:01:05 | itr #170 | Saving snapshot...\n",
            "2019-02-16 21:01:05 | itr #170 | Saved\n",
            "2019-02-16 21:01:05 | --------------------------  -------------\n",
            "2019-02-16 21:01:05 | AverageDiscountedReturn      52.7489\n",
            "2019-02-16 21:01:05 | AverageReturn                55.8\n",
            "2019-02-16 21:01:05 | Baseline/ExplainedVariance    0.582974\n",
            "2019-02-16 21:01:05 | Entropy                       2.0612\n",
            "2019-02-16 21:01:05 | EnvExecTime                   0.7931\n",
            "2019-02-16 21:01:05 | Iteration                   170\n",
            "2019-02-16 21:01:05 | ItrTime                       4.94745\n",
            "2019-02-16 21:01:05 | MaxReturn                   110\n",
            "2019-02-16 21:01:05 | MinReturn                   -48\n",
            "2019-02-16 21:01:05 | NumTrajs                    125\n",
            "2019-02-16 21:01:05 | Perplexity                    7.85539\n",
            "2019-02-16 21:01:05 | PolicyExecTime                3.72236\n",
            "2019-02-16 21:01:05 | ProcessExecTime               0.038255\n",
            "2019-02-16 21:01:05 | StdReturn                    43.4084\n",
            "2019-02-16 21:01:05 | Time                        866.744\n",
            "2019-02-16 21:01:05 | policy/Entropy                0.217062\n",
            "2019-02-16 21:01:05 | policy/KL                     0.00864482\n",
            "2019-02-16 21:01:05 | policy/KLBefore               0\n",
            "2019-02-16 21:01:05 | policy/LossAfter             -0.0213277\n",
            "2019-02-16 21:01:05 | policy/LossBefore            -1.51678e-08\n",
            "2019-02-16 21:01:05 | policy/dLoss                  0.0213277\n",
            "2019-02-16 21:01:05 | --------------------------  -------------\n",
            "2019-02-16 21:01:05 | itr #171 | Obtaining samples...\n",
            "2019-02-16 21:01:05 | itr #171 | Obtaining samples for iteration 171...\n"
          ],
          "name": "stdout"
        },
        {
          "output_type": "stream",
          "text": [
            "0% [##############################] 100% | ETA: 00:00:00"
          ],
          "name": "stderr"
        },
        {
          "output_type": "stream",
          "text": [
            "2019-02-16 21:01:10 | itr #171 | Processing samples...\n",
            "2019-02-16 21:01:10 | itr #171 | Logging diagnostics...\n",
            "2019-02-16 21:01:10 | itr #171 | Optimizing policy...\n",
            "2019-02-16 21:01:10 | itr #171 | Computing loss before\n",
            "2019-02-16 21:01:10 | itr #171 | Computing KL before\n",
            "2019-02-16 21:01:10 | itr #171 | Optimizing\n",
            "2019-02-16 21:01:10 | itr #171 | Start CG optimization: #parameters: 10528, #inputs: 129, #subsample_inputs: 129\n",
            "2019-02-16 21:01:10 | itr #171 | computing loss before\n",
            "2019-02-16 21:01:10 | itr #171 | performing update\n",
            "2019-02-16 21:01:10 | itr #171 | computing gradient\n",
            "2019-02-16 21:01:10 | itr #171 | gradient computed\n",
            "2019-02-16 21:01:10 | itr #171 | computing descent direction\n"
          ],
          "name": "stdout"
        },
        {
          "output_type": "stream",
          "text": [
            "\n",
            "Total time elapsed: 00:00:04\n"
          ],
          "name": "stderr"
        },
        {
          "output_type": "stream",
          "text": [
            "2019-02-16 21:01:10 | itr #171 | descent direction computed\n",
            "2019-02-16 21:01:10 | itr #171 | backtrack iters: 2\n",
            "2019-02-16 21:01:10 | itr #171 | computing loss after\n",
            "2019-02-16 21:01:10 | itr #171 | optimization finished\n",
            "2019-02-16 21:01:10 | itr #171 | Computing KL after\n",
            "2019-02-16 21:01:10 | itr #171 | Computing loss after\n",
            "2019-02-16 21:01:10 | itr #171 | Fitting baseline...\n",
            "2019-02-16 21:01:10 | itr #171 | Saving snapshot...\n",
            "2019-02-16 21:01:10 | itr #171 | Saved\n",
            "2019-02-16 21:01:10 | --------------------------  -------------\n",
            "2019-02-16 21:01:10 | AverageDiscountedReturn      55.2471\n",
            "2019-02-16 21:01:10 | AverageReturn                59\n",
            "2019-02-16 21:01:10 | Baseline/ExplainedVariance    0.631221\n",
            "2019-02-16 21:01:10 | Entropy                       2.10648\n",
            "2019-02-16 21:01:10 | EnvExecTime                   0.770241\n",
            "2019-02-16 21:01:10 | Iteration                   171\n",
            "2019-02-16 21:01:10 | ItrTime                       4.88459\n",
            "2019-02-16 21:01:10 | MaxReturn                   110\n",
            "2019-02-16 21:01:10 | MinReturn                   -42\n",
            "2019-02-16 21:01:10 | NumTrajs                    129\n",
            "2019-02-16 21:01:10 | Perplexity                    8.21924\n",
            "2019-02-16 21:01:10 | PolicyExecTime                3.65463\n",
            "2019-02-16 21:01:10 | ProcessExecTime               0.037827\n",
            "2019-02-16 21:01:10 | StdReturn                    47.2578\n",
            "2019-02-16 21:01:10 | Time                        871.662\n",
            "2019-02-16 21:01:10 | policy/Entropy                0.202501\n",
            "2019-02-16 21:01:10 | policy/KL                     0.00706145\n",
            "2019-02-16 21:01:10 | policy/KLBefore               0\n",
            "2019-02-16 21:01:10 | policy/LossAfter             -0.0126598\n",
            "2019-02-16 21:01:10 | policy/LossBefore            -6.12992e-09\n",
            "2019-02-16 21:01:10 | policy/dLoss                  0.0126597\n",
            "2019-02-16 21:01:10 | --------------------------  -------------\n",
            "2019-02-16 21:01:10 | itr #172 | Obtaining samples...\n",
            "2019-02-16 21:01:10 | itr #172 | Obtaining samples for iteration 172...\n"
          ],
          "name": "stdout"
        },
        {
          "output_type": "stream",
          "text": [
            "0% [##############################] 100% | ETA: 00:00:00"
          ],
          "name": "stderr"
        },
        {
          "output_type": "stream",
          "text": [
            "2019-02-16 21:01:15 | itr #172 | Processing samples...\n",
            "2019-02-16 21:01:15 | itr #172 | Logging diagnostics...\n",
            "2019-02-16 21:01:15 | itr #172 | Optimizing policy...\n",
            "2019-02-16 21:01:15 | itr #172 | Computing loss before\n",
            "2019-02-16 21:01:15 | itr #172 | Computing KL before\n",
            "2019-02-16 21:01:15 | itr #172 | Optimizing\n",
            "2019-02-16 21:01:15 | itr #172 | Start CG optimization: #parameters: 10528, #inputs: 131, #subsample_inputs: 131\n",
            "2019-02-16 21:01:15 | itr #172 | computing loss before\n",
            "2019-02-16 21:01:15 | itr #172 | performing update\n",
            "2019-02-16 21:01:15 | itr #172 | computing gradient\n",
            "2019-02-16 21:01:15 | itr #172 | gradient computed\n",
            "2019-02-16 21:01:15 | itr #172 | computing descent direction\n"
          ],
          "name": "stdout"
        },
        {
          "output_type": "stream",
          "text": [
            "\n",
            "Total time elapsed: 00:00:04\n"
          ],
          "name": "stderr"
        },
        {
          "output_type": "stream",
          "text": [
            "2019-02-16 21:01:15 | itr #172 | descent direction computed\n",
            "2019-02-16 21:01:15 | itr #172 | backtrack iters: 1\n",
            "2019-02-16 21:01:15 | itr #172 | computing loss after\n",
            "2019-02-16 21:01:15 | itr #172 | optimization finished\n",
            "2019-02-16 21:01:15 | itr #172 | Computing KL after\n",
            "2019-02-16 21:01:15 | itr #172 | Computing loss after\n",
            "2019-02-16 21:01:15 | itr #172 | Fitting baseline...\n",
            "2019-02-16 21:01:15 | itr #172 | Saving snapshot...\n",
            "2019-02-16 21:01:15 | itr #172 | Saved\n",
            "2019-02-16 21:01:15 | --------------------------  -------------\n",
            "2019-02-16 21:01:15 | AverageDiscountedReturn      56.6113\n",
            "2019-02-16 21:01:15 | AverageReturn                60.5344\n",
            "2019-02-16 21:01:15 | Baseline/ExplainedVariance    0.645659\n",
            "2019-02-16 21:01:15 | Entropy                       2.08293\n",
            "2019-02-16 21:01:15 | EnvExecTime                   0.794837\n",
            "2019-02-16 21:01:15 | Iteration                   172\n",
            "2019-02-16 21:01:15 | ItrTime                       4.9498\n",
            "2019-02-16 21:01:15 | MaxReturn                   110\n",
            "2019-02-16 21:01:15 | MinReturn                   -45\n",
            "2019-02-16 21:01:15 | NumTrajs                    131\n",
            "2019-02-16 21:01:15 | Perplexity                    8.02792\n",
            "2019-02-16 21:01:15 | PolicyExecTime                3.70486\n",
            "2019-02-16 21:01:15 | ProcessExecTime               0.039453\n",
            "2019-02-16 21:01:15 | StdReturn                    47.1294\n",
            "2019-02-16 21:01:15 | Time                        876.677\n",
            "2019-02-16 21:01:15 | policy/Entropy                0.20128\n",
            "2019-02-16 21:01:15 | policy/KL                     0.0078508\n",
            "2019-02-16 21:01:15 | policy/KLBefore               0\n",
            "2019-02-16 21:01:15 | policy/LossAfter             -0.0155009\n",
            "2019-02-16 21:01:15 | policy/LossBefore             1.11813e-08\n",
            "2019-02-16 21:01:15 | policy/dLoss                  0.0155009\n",
            "2019-02-16 21:01:15 | --------------------------  -------------\n",
            "2019-02-16 21:01:15 | itr #173 | Obtaining samples...\n",
            "2019-02-16 21:01:15 | itr #173 | Obtaining samples for iteration 173...\n"
          ],
          "name": "stdout"
        },
        {
          "output_type": "stream",
          "text": [
            "0% [##############################] 100% | ETA: 00:00:00"
          ],
          "name": "stderr"
        },
        {
          "output_type": "stream",
          "text": [
            "2019-02-16 21:01:20 | itr #173 | Processing samples...\n",
            "2019-02-16 21:01:20 | itr #173 | Logging diagnostics...\n",
            "2019-02-16 21:01:20 | itr #173 | Optimizing policy...\n",
            "2019-02-16 21:01:20 | itr #173 | Computing loss before\n",
            "2019-02-16 21:01:20 | itr #173 | Computing KL before\n",
            "2019-02-16 21:01:20 | itr #173 | Optimizing\n",
            "2019-02-16 21:01:20 | itr #173 | Start CG optimization: #parameters: 10528, #inputs: 137, #subsample_inputs: 137\n",
            "2019-02-16 21:01:20 | itr #173 | computing loss before\n",
            "2019-02-16 21:01:20 | itr #173 | performing update\n",
            "2019-02-16 21:01:20 | itr #173 | computing gradient\n",
            "2019-02-16 21:01:20 | itr #173 | gradient computed\n",
            "2019-02-16 21:01:20 | itr #173 | computing descent direction\n"
          ],
          "name": "stdout"
        },
        {
          "output_type": "stream",
          "text": [
            "\n",
            "Total time elapsed: 00:00:04\n"
          ],
          "name": "stderr"
        },
        {
          "output_type": "stream",
          "text": [
            "2019-02-16 21:01:20 | itr #173 | descent direction computed\n",
            "2019-02-16 21:01:20 | itr #173 | backtrack iters: 1\n",
            "2019-02-16 21:01:20 | itr #173 | computing loss after\n",
            "2019-02-16 21:01:20 | itr #173 | optimization finished\n",
            "2019-02-16 21:01:20 | itr #173 | Computing KL after\n",
            "2019-02-16 21:01:20 | itr #173 | Computing loss after\n",
            "2019-02-16 21:01:20 | itr #173 | Fitting baseline...\n",
            "2019-02-16 21:01:20 | itr #173 | Saving snapshot...\n",
            "2019-02-16 21:01:20 | itr #173 | Saved\n",
            "2019-02-16 21:01:20 | --------------------------  -------------\n",
            "2019-02-16 21:01:20 | AverageDiscountedReturn      61.726\n",
            "2019-02-16 21:01:20 | AverageReturn                66.2336\n",
            "2019-02-16 21:01:20 | Baseline/ExplainedVariance    0.675712\n",
            "2019-02-16 21:01:20 | Entropy                       1.99336\n",
            "2019-02-16 21:01:20 | EnvExecTime                   0.776809\n",
            "2019-02-16 21:01:20 | Iteration                   173\n",
            "2019-02-16 21:01:20 | ItrTime                       4.82645\n",
            "2019-02-16 21:01:20 | MaxReturn                   110\n",
            "2019-02-16 21:01:20 | MinReturn                   -31\n",
            "2019-02-16 21:01:20 | NumTrajs                    137\n",
            "2019-02-16 21:01:20 | Perplexity                    7.34016\n",
            "2019-02-16 21:01:20 | PolicyExecTime                3.58722\n",
            "2019-02-16 21:01:20 | ProcessExecTime               0.0402846\n",
            "2019-02-16 21:01:20 | StdReturn                    45.81\n",
            "2019-02-16 21:01:20 | Time                        881.564\n",
            "2019-02-16 21:01:20 | policy/Entropy                0.207928\n",
            "2019-02-16 21:01:20 | policy/KL                     0.00711732\n",
            "2019-02-16 21:01:20 | policy/KLBefore               0\n",
            "2019-02-16 21:01:20 | policy/LossAfter             -0.0103684\n",
            "2019-02-16 21:01:20 | policy/LossBefore            -1.65856e-08\n",
            "2019-02-16 21:01:20 | policy/dLoss                  0.0103684\n",
            "2019-02-16 21:01:20 | --------------------------  -------------\n",
            "2019-02-16 21:01:20 | itr #174 | Obtaining samples...\n",
            "2019-02-16 21:01:20 | itr #174 | Obtaining samples for iteration 174...\n"
          ],
          "name": "stdout"
        },
        {
          "output_type": "stream",
          "text": [
            "0% [##############################] 100% | ETA: 00:00:00"
          ],
          "name": "stderr"
        },
        {
          "output_type": "stream",
          "text": [
            "2019-02-16 21:01:25 | itr #174 | Processing samples...\n",
            "2019-02-16 21:01:25 | itr #174 | Logging diagnostics...\n",
            "2019-02-16 21:01:25 | itr #174 | Optimizing policy...\n",
            "2019-02-16 21:01:25 | itr #174 | Computing loss before\n",
            "2019-02-16 21:01:25 | itr #174 | Computing KL before\n",
            "2019-02-16 21:01:25 | itr #174 | Optimizing\n",
            "2019-02-16 21:01:25 | itr #174 | Start CG optimization: #parameters: 10528, #inputs: 133, #subsample_inputs: 133\n",
            "2019-02-16 21:01:25 | itr #174 | computing loss before\n",
            "2019-02-16 21:01:25 | itr #174 | performing update\n",
            "2019-02-16 21:01:25 | itr #174 | computing gradient\n",
            "2019-02-16 21:01:25 | itr #174 | gradient computed\n",
            "2019-02-16 21:01:25 | itr #174 | computing descent direction\n"
          ],
          "name": "stdout"
        },
        {
          "output_type": "stream",
          "text": [
            "\n",
            "Total time elapsed: 00:00:04\n"
          ],
          "name": "stderr"
        },
        {
          "output_type": "stream",
          "text": [
            "2019-02-16 21:01:25 | itr #174 | descent direction computed\n",
            "2019-02-16 21:01:25 | itr #174 | backtrack iters: 1\n",
            "2019-02-16 21:01:25 | itr #174 | computing loss after\n",
            "2019-02-16 21:01:25 | itr #174 | optimization finished\n",
            "2019-02-16 21:01:25 | itr #174 | Computing KL after\n",
            "2019-02-16 21:01:25 | itr #174 | Computing loss after\n",
            "2019-02-16 21:01:25 | itr #174 | Fitting baseline...\n",
            "2019-02-16 21:01:25 | itr #174 | Saving snapshot...\n",
            "2019-02-16 21:01:25 | itr #174 | Saved\n",
            "2019-02-16 21:01:25 | --------------------------  -------------\n",
            "2019-02-16 21:01:25 | AverageDiscountedReturn      56.9838\n",
            "2019-02-16 21:01:25 | AverageReturn                61.0752\n",
            "2019-02-16 21:01:25 | Baseline/ExplainedVariance    0.678382\n",
            "2019-02-16 21:01:25 | Entropy                       2.04871\n",
            "2019-02-16 21:01:25 | EnvExecTime                   0.761263\n",
            "2019-02-16 21:01:25 | Iteration                   174\n",
            "2019-02-16 21:01:25 | ItrTime                       4.71128\n",
            "2019-02-16 21:01:25 | MaxReturn                   110\n",
            "2019-02-16 21:01:25 | MinReturn                   -31\n",
            "2019-02-16 21:01:25 | NumTrajs                    133\n",
            "2019-02-16 21:01:25 | Perplexity                    7.75787\n",
            "2019-02-16 21:01:25 | PolicyExecTime                3.49779\n",
            "2019-02-16 21:01:25 | ProcessExecTime               0.0387223\n",
            "2019-02-16 21:01:25 | StdReturn                    49.1884\n",
            "2019-02-16 21:01:25 | Time                        886.321\n",
            "2019-02-16 21:01:25 | policy/Entropy                0.203928\n",
            "2019-02-16 21:01:25 | policy/KL                     0.00801621\n",
            "2019-02-16 21:01:25 | policy/KLBefore               0\n",
            "2019-02-16 21:01:25 | policy/LossAfter             -0.0205373\n",
            "2019-02-16 21:01:25 | policy/LossBefore            -5.66679e-09\n",
            "2019-02-16 21:01:25 | policy/dLoss                  0.0205373\n",
            "2019-02-16 21:01:25 | --------------------------  -------------\n",
            "2019-02-16 21:01:25 | itr #175 | Obtaining samples...\n",
            "2019-02-16 21:01:25 | itr #175 | Obtaining samples for iteration 175...\n"
          ],
          "name": "stdout"
        },
        {
          "output_type": "stream",
          "text": [
            "0% [##############################] 100% | ETA: 00:00:00"
          ],
          "name": "stderr"
        },
        {
          "output_type": "stream",
          "text": [
            "2019-02-16 21:01:29 | itr #175 | Processing samples...\n",
            "2019-02-16 21:01:29 | itr #175 | Logging diagnostics...\n",
            "2019-02-16 21:01:29 | itr #175 | Optimizing policy...\n",
            "2019-02-16 21:01:29 | itr #175 | Computing loss before\n",
            "2019-02-16 21:01:29 | itr #175 | Computing KL before\n",
            "2019-02-16 21:01:29 | itr #175 | Optimizing\n",
            "2019-02-16 21:01:29 | itr #175 | Start CG optimization: #parameters: 10528, #inputs: 139, #subsample_inputs: 139\n",
            "2019-02-16 21:01:29 | itr #175 | computing loss before\n",
            "2019-02-16 21:01:29 | itr #175 | performing update\n",
            "2019-02-16 21:01:29 | itr #175 | computing gradient\n",
            "2019-02-16 21:01:29 | itr #175 | gradient computed\n",
            "2019-02-16 21:01:29 | itr #175 | computing descent direction\n"
          ],
          "name": "stdout"
        },
        {
          "output_type": "stream",
          "text": [
            "\n",
            "Total time elapsed: 00:00:04\n"
          ],
          "name": "stderr"
        },
        {
          "output_type": "stream",
          "text": [
            "2019-02-16 21:01:30 | itr #175 | descent direction computed\n",
            "2019-02-16 21:01:30 | itr #175 | backtrack iters: 0\n",
            "2019-02-16 21:01:30 | itr #175 | computing loss after\n",
            "2019-02-16 21:01:30 | itr #175 | optimization finished\n",
            "2019-02-16 21:01:30 | itr #175 | Computing KL after\n",
            "2019-02-16 21:01:30 | itr #175 | Computing loss after\n",
            "2019-02-16 21:01:30 | itr #175 | Fitting baseline...\n",
            "2019-02-16 21:01:30 | itr #175 | Saving snapshot...\n",
            "2019-02-16 21:01:30 | itr #175 | Saved\n",
            "2019-02-16 21:01:30 | --------------------------  -------------\n",
            "2019-02-16 21:01:30 | AverageDiscountedReturn      56.9356\n",
            "2019-02-16 21:01:30 | AverageReturn                60.9281\n",
            "2019-02-16 21:01:30 | Baseline/ExplainedVariance    0.739013\n",
            "2019-02-16 21:01:30 | Entropy                       2.05684\n",
            "2019-02-16 21:01:30 | EnvExecTime                   0.763329\n",
            "2019-02-16 21:01:30 | Iteration                   175\n",
            "2019-02-16 21:01:30 | ItrTime                       4.79513\n",
            "2019-02-16 21:01:30 | MaxReturn                   110\n",
            "2019-02-16 21:01:30 | MinReturn                   -29\n",
            "2019-02-16 21:01:30 | NumTrajs                    139\n",
            "2019-02-16 21:01:30 | Perplexity                    7.82122\n",
            "2019-02-16 21:01:30 | PolicyExecTime                3.57086\n",
            "2019-02-16 21:01:30 | ProcessExecTime               0.0394273\n",
            "2019-02-16 21:01:30 | StdReturn                    48.3832\n",
            "2019-02-16 21:01:30 | Time                        891.155\n",
            "2019-02-16 21:01:30 | policy/Entropy                0.195453\n",
            "2019-02-16 21:01:30 | policy/KL                     0.00832426\n",
            "2019-02-16 21:01:30 | policy/KLBefore               0\n",
            "2019-02-16 21:01:30 | policy/LossAfter             -0.0140336\n",
            "2019-02-16 21:01:30 | policy/LossBefore            -3.36041e-09\n",
            "2019-02-16 21:01:30 | policy/dLoss                  0.0140336\n",
            "2019-02-16 21:01:30 | --------------------------  -------------\n",
            "2019-02-16 21:01:30 | itr #176 | Obtaining samples...\n",
            "2019-02-16 21:01:30 | itr #176 | Obtaining samples for iteration 176...\n"
          ],
          "name": "stdout"
        },
        {
          "output_type": "stream",
          "text": [
            "0% [##############################] 100% | ETA: 00:00:00"
          ],
          "name": "stderr"
        },
        {
          "output_type": "stream",
          "text": [
            "2019-02-16 21:01:34 | itr #176 | Processing samples...\n",
            "2019-02-16 21:01:34 | itr #176 | Logging diagnostics...\n",
            "2019-02-16 21:01:34 | itr #176 | Optimizing policy...\n",
            "2019-02-16 21:01:34 | itr #176 | Computing loss before\n",
            "2019-02-16 21:01:34 | itr #176 | Computing KL before\n",
            "2019-02-16 21:01:34 | itr #176 | Optimizing\n",
            "2019-02-16 21:01:34 | itr #176 | Start CG optimization: #parameters: 10528, #inputs: 138, #subsample_inputs: 138\n",
            "2019-02-16 21:01:34 | itr #176 | computing loss before\n",
            "2019-02-16 21:01:34 | itr #176 | performing update\n",
            "2019-02-16 21:01:34 | itr #176 | computing gradient\n",
            "2019-02-16 21:01:34 | itr #176 | gradient computed\n",
            "2019-02-16 21:01:34 | itr #176 | computing descent direction\n"
          ],
          "name": "stdout"
        },
        {
          "output_type": "stream",
          "text": [
            "\n",
            "Total time elapsed: 00:00:04\n"
          ],
          "name": "stderr"
        },
        {
          "output_type": "stream",
          "text": [
            "2019-02-16 21:01:34 | itr #176 | descent direction computed\n",
            "2019-02-16 21:01:34 | itr #176 | backtrack iters: 1\n",
            "2019-02-16 21:01:34 | itr #176 | computing loss after\n",
            "2019-02-16 21:01:34 | itr #176 | optimization finished\n",
            "2019-02-16 21:01:34 | itr #176 | Computing KL after\n",
            "2019-02-16 21:01:34 | itr #176 | Computing loss after\n",
            "2019-02-16 21:01:34 | itr #176 | Fitting baseline...\n",
            "2019-02-16 21:01:35 | itr #176 | Saving snapshot...\n",
            "2019-02-16 21:01:35 | itr #176 | Saved\n",
            "2019-02-16 21:01:35 | --------------------------  -------------\n",
            "2019-02-16 21:01:35 | AverageDiscountedReturn      61.4877\n",
            "2019-02-16 21:01:35 | AverageReturn                65.8768\n",
            "2019-02-16 21:01:35 | Baseline/ExplainedVariance    0.69328\n",
            "2019-02-16 21:01:35 | Entropy                       2.04343\n",
            "2019-02-16 21:01:35 | EnvExecTime                   0.748483\n",
            "2019-02-16 21:01:35 | Iteration                   176\n",
            "2019-02-16 21:01:35 | ItrTime                       4.7297\n",
            "2019-02-16 21:01:35 | MaxReturn                   110\n",
            "2019-02-16 21:01:35 | MinReturn                   -30\n",
            "2019-02-16 21:01:35 | NumTrajs                    138\n",
            "2019-02-16 21:01:35 | Perplexity                    7.71706\n",
            "2019-02-16 21:01:35 | PolicyExecTime                3.52376\n",
            "2019-02-16 21:01:35 | ProcessExecTime               0.0394876\n",
            "2019-02-16 21:01:35 | StdReturn                    46.7141\n",
            "2019-02-16 21:01:35 | Time                        895.93\n",
            "2019-02-16 21:01:35 | policy/Entropy                0.196282\n",
            "2019-02-16 21:01:35 | policy/KL                     0.00868675\n",
            "2019-02-16 21:01:35 | policy/KLBefore               0\n",
            "2019-02-16 21:01:35 | policy/LossAfter             -0.016387\n",
            "2019-02-16 21:01:35 | policy/LossBefore             7.40359e-09\n",
            "2019-02-16 21:01:35 | policy/dLoss                  0.016387\n",
            "2019-02-16 21:01:35 | --------------------------  -------------\n",
            "2019-02-16 21:01:35 | itr #177 | Obtaining samples...\n",
            "2019-02-16 21:01:35 | itr #177 | Obtaining samples for iteration 177...\n"
          ],
          "name": "stdout"
        },
        {
          "output_type": "stream",
          "text": [
            "0% [##############################] 100% | ETA: 00:00:00"
          ],
          "name": "stderr"
        },
        {
          "output_type": "stream",
          "text": [
            "2019-02-16 21:01:39 | itr #177 | Processing samples...\n",
            "2019-02-16 21:01:39 | itr #177 | Logging diagnostics...\n",
            "2019-02-16 21:01:39 | itr #177 | Optimizing policy...\n",
            "2019-02-16 21:01:39 | itr #177 | Computing loss before\n",
            "2019-02-16 21:01:39 | itr #177 | Computing KL before\n",
            "2019-02-16 21:01:39 | itr #177 | Optimizing\n",
            "2019-02-16 21:01:39 | itr #177 | Start CG optimization: #parameters: 10528, #inputs: 129, #subsample_inputs: 129\n",
            "2019-02-16 21:01:39 | itr #177 | computing loss before\n",
            "2019-02-16 21:01:39 | itr #177 | performing update\n",
            "2019-02-16 21:01:39 | itr #177 | computing gradient\n",
            "2019-02-16 21:01:39 | itr #177 | gradient computed\n",
            "2019-02-16 21:01:39 | itr #177 | computing descent direction\n"
          ],
          "name": "stdout"
        },
        {
          "output_type": "stream",
          "text": [
            "\n",
            "Total time elapsed: 00:00:04\n"
          ],
          "name": "stderr"
        },
        {
          "output_type": "stream",
          "text": [
            "2019-02-16 21:01:39 | itr #177 | descent direction computed\n",
            "2019-02-16 21:01:39 | itr #177 | backtrack iters: 1\n",
            "2019-02-16 21:01:39 | itr #177 | computing loss after\n",
            "2019-02-16 21:01:39 | itr #177 | optimization finished\n",
            "2019-02-16 21:01:39 | itr #177 | Computing KL after\n",
            "2019-02-16 21:01:39 | itr #177 | Computing loss after\n",
            "2019-02-16 21:01:39 | itr #177 | Fitting baseline...\n",
            "2019-02-16 21:01:39 | itr #177 | Saving snapshot...\n",
            "2019-02-16 21:01:39 | itr #177 | Saved\n",
            "2019-02-16 21:01:39 | --------------------------  -------------\n",
            "2019-02-16 21:01:39 | AverageDiscountedReturn      55.9614\n",
            "2019-02-16 21:01:39 | AverageReturn                59.5194\n",
            "2019-02-16 21:01:39 | Baseline/ExplainedVariance    0.673802\n",
            "2019-02-16 21:01:39 | Entropy                       2.07328\n",
            "2019-02-16 21:01:39 | EnvExecTime                   0.76137\n",
            "2019-02-16 21:01:39 | Iteration                   177\n",
            "2019-02-16 21:01:39 | ItrTime                       4.79576\n",
            "2019-02-16 21:01:39 | MaxReturn                   110\n",
            "2019-02-16 21:01:39 | MinReturn                   -36\n",
            "2019-02-16 21:01:39 | NumTrajs                    129\n",
            "2019-02-16 21:01:39 | Perplexity                    7.95082\n",
            "2019-02-16 21:01:39 | PolicyExecTime                3.58666\n",
            "2019-02-16 21:01:39 | ProcessExecTime               0.038481\n",
            "2019-02-16 21:01:39 | StdReturn                    44.4601\n",
            "2019-02-16 21:01:39 | Time                        900.773\n",
            "2019-02-16 21:01:39 | policy/Entropy                0.212168\n",
            "2019-02-16 21:01:39 | policy/KL                     0.00700322\n",
            "2019-02-16 21:01:39 | policy/KLBefore               0\n",
            "2019-02-16 21:01:39 | policy/LossAfter             -0.0160376\n",
            "2019-02-16 21:01:39 | policy/LossBefore            -3.31795e-09\n",
            "2019-02-16 21:01:39 | policy/dLoss                  0.0160376\n",
            "2019-02-16 21:01:39 | --------------------------  -------------\n",
            "2019-02-16 21:01:39 | itr #178 | Obtaining samples...\n",
            "2019-02-16 21:01:39 | itr #178 | Obtaining samples for iteration 178...\n"
          ],
          "name": "stdout"
        },
        {
          "output_type": "stream",
          "text": [
            "0% [##############################] 100% | ETA: 00:00:00"
          ],
          "name": "stderr"
        },
        {
          "output_type": "stream",
          "text": [
            "2019-02-16 21:01:44 | itr #178 | Processing samples...\n",
            "2019-02-16 21:01:44 | itr #178 | Logging diagnostics...\n",
            "2019-02-16 21:01:44 | itr #178 | Optimizing policy...\n",
            "2019-02-16 21:01:44 | itr #178 | Computing loss before\n",
            "2019-02-16 21:01:44 | itr #178 | Computing KL before\n",
            "2019-02-16 21:01:44 | itr #178 | Optimizing\n",
            "2019-02-16 21:01:44 | itr #178 | Start CG optimization: #parameters: 10528, #inputs: 141, #subsample_inputs: 141\n",
            "2019-02-16 21:01:44 | itr #178 | computing loss before\n",
            "2019-02-16 21:01:44 | itr #178 | performing update\n",
            "2019-02-16 21:01:44 | itr #178 | computing gradient\n",
            "2019-02-16 21:01:44 | itr #178 | gradient computed\n",
            "2019-02-16 21:01:44 | itr #178 | computing descent direction\n"
          ],
          "name": "stdout"
        },
        {
          "output_type": "stream",
          "text": [
            "\n",
            "Total time elapsed: 00:00:04\n"
          ],
          "name": "stderr"
        },
        {
          "output_type": "stream",
          "text": [
            "2019-02-16 21:01:44 | itr #178 | descent direction computed\n",
            "2019-02-16 21:01:44 | itr #178 | backtrack iters: 0\n",
            "2019-02-16 21:01:44 | itr #178 | computing loss after\n",
            "2019-02-16 21:01:44 | itr #178 | optimization finished\n",
            "2019-02-16 21:01:44 | itr #178 | Computing KL after\n",
            "2019-02-16 21:01:44 | itr #178 | Computing loss after\n",
            "2019-02-16 21:01:44 | itr #178 | Fitting baseline...\n",
            "2019-02-16 21:01:44 | itr #178 | Saving snapshot...\n",
            "2019-02-16 21:01:44 | itr #178 | Saved\n",
            "2019-02-16 21:01:44 | --------------------------  -------------\n",
            "2019-02-16 21:01:44 | AverageDiscountedReturn      60.7623\n",
            "2019-02-16 21:01:44 | AverageReturn                65.3617\n",
            "2019-02-16 21:01:44 | Baseline/ExplainedVariance    0.711296\n",
            "2019-02-16 21:01:44 | Entropy                       2.09037\n",
            "2019-02-16 21:01:44 | EnvExecTime                   0.76411\n",
            "2019-02-16 21:01:44 | Iteration                   178\n",
            "2019-02-16 21:01:44 | ItrTime                       4.80806\n",
            "2019-02-16 21:01:44 | MaxReturn                   110\n",
            "2019-02-16 21:01:44 | MinReturn                   -29\n",
            "2019-02-16 21:01:44 | NumTrajs                    141\n",
            "2019-02-16 21:01:44 | Perplexity                    8.08788\n",
            "2019-02-16 21:01:44 | PolicyExecTime                3.59861\n",
            "2019-02-16 21:01:44 | ProcessExecTime               0.0407517\n",
            "2019-02-16 21:01:44 | StdReturn                    46.3573\n",
            "2019-02-16 21:01:44 | Time                        905.608\n",
            "2019-02-16 21:01:44 | policy/Entropy                0.194451\n",
            "2019-02-16 21:01:44 | policy/KL                     0.00816718\n",
            "2019-02-16 21:01:44 | policy/KLBefore               0\n",
            "2019-02-16 21:01:44 | policy/LossAfter             -0.017902\n",
            "2019-02-16 21:01:44 | policy/LossBefore             1.08193e-08\n",
            "2019-02-16 21:01:44 | policy/dLoss                  0.017902\n",
            "2019-02-16 21:01:44 | --------------------------  -------------\n",
            "2019-02-16 21:01:44 | itr #179 | Obtaining samples...\n",
            "2019-02-16 21:01:44 | itr #179 | Obtaining samples for iteration 179...\n"
          ],
          "name": "stdout"
        },
        {
          "output_type": "stream",
          "text": [
            "0% [##############################] 100% | ETA: 00:00:00"
          ],
          "name": "stderr"
        },
        {
          "output_type": "stream",
          "text": [
            "2019-02-16 21:01:49 | itr #179 | Processing samples...\n",
            "2019-02-16 21:01:49 | itr #179 | Logging diagnostics...\n",
            "2019-02-16 21:01:49 | itr #179 | Optimizing policy...\n",
            "2019-02-16 21:01:49 | itr #179 | Computing loss before\n",
            "2019-02-16 21:01:49 | itr #179 | Computing KL before\n",
            "2019-02-16 21:01:49 | itr #179 | Optimizing\n",
            "2019-02-16 21:01:49 | itr #179 | Start CG optimization: #parameters: 10528, #inputs: 138, #subsample_inputs: 138\n",
            "2019-02-16 21:01:49 | itr #179 | computing loss before\n",
            "2019-02-16 21:01:49 | itr #179 | performing update\n",
            "2019-02-16 21:01:49 | itr #179 | computing gradient\n",
            "2019-02-16 21:01:49 | itr #179 | gradient computed\n",
            "2019-02-16 21:01:49 | itr #179 | computing descent direction\n"
          ],
          "name": "stdout"
        },
        {
          "output_type": "stream",
          "text": [
            "\n",
            "Total time elapsed: 00:00:04\n"
          ],
          "name": "stderr"
        },
        {
          "output_type": "stream",
          "text": [
            "2019-02-16 21:01:49 | itr #179 | descent direction computed\n",
            "2019-02-16 21:01:49 | itr #179 | backtrack iters: 1\n",
            "2019-02-16 21:01:49 | itr #179 | computing loss after\n",
            "2019-02-16 21:01:49 | itr #179 | optimization finished\n",
            "2019-02-16 21:01:49 | itr #179 | Computing KL after\n",
            "2019-02-16 21:01:49 | itr #179 | Computing loss after\n",
            "2019-02-16 21:01:49 | itr #179 | Fitting baseline...\n",
            "2019-02-16 21:01:49 | itr #179 | Saving snapshot...\n",
            "2019-02-16 21:01:49 | itr #179 | Saved\n",
            "2019-02-16 21:01:49 | --------------------------  -------------\n",
            "2019-02-16 21:01:49 | AverageDiscountedReturn      60.2163\n",
            "2019-02-16 21:01:49 | AverageReturn                64.8841\n",
            "2019-02-16 21:01:49 | Baseline/ExplainedVariance    0.692323\n",
            "2019-02-16 21:01:49 | Entropy                       2.0512\n",
            "2019-02-16 21:01:49 | EnvExecTime                   0.750094\n",
            "2019-02-16 21:01:49 | Iteration                   179\n",
            "2019-02-16 21:01:49 | ItrTime                       4.6521\n",
            "2019-02-16 21:01:49 | MaxReturn                   110\n",
            "2019-02-16 21:01:49 | MinReturn                   -35\n",
            "2019-02-16 21:01:49 | NumTrajs                    138\n",
            "2019-02-16 21:01:49 | Perplexity                    7.77721\n",
            "2019-02-16 21:01:49 | PolicyExecTime                3.45099\n",
            "2019-02-16 21:01:49 | ProcessExecTime               0.0388856\n",
            "2019-02-16 21:01:49 | StdReturn                    49.5126\n",
            "2019-02-16 21:01:49 | Time                        910.316\n",
            "2019-02-16 21:01:49 | policy/Entropy                0.19027\n",
            "2019-02-16 21:01:49 | policy/KL                     0.0074568\n",
            "2019-02-16 21:01:49 | policy/KLBefore               0\n",
            "2019-02-16 21:01:49 | policy/LossAfter             -0.0131523\n",
            "2019-02-16 21:01:49 | policy/LossBefore             3.78067e-09\n",
            "2019-02-16 21:01:49 | policy/dLoss                  0.0131523\n",
            "2019-02-16 21:01:49 | --------------------------  -------------\n",
            "2019-02-16 21:01:49 | itr #180 | Obtaining samples...\n",
            "2019-02-16 21:01:49 | itr #180 | Obtaining samples for iteration 180...\n"
          ],
          "name": "stdout"
        },
        {
          "output_type": "stream",
          "text": [
            "0% [##############################] 100% | ETA: 00:00:00"
          ],
          "name": "stderr"
        },
        {
          "output_type": "stream",
          "text": [
            "2019-02-16 21:01:53 | itr #180 | Processing samples...\n",
            "2019-02-16 21:01:53 | itr #180 | Logging diagnostics...\n",
            "2019-02-16 21:01:53 | itr #180 | Optimizing policy...\n",
            "2019-02-16 21:01:53 | itr #180 | Computing loss before\n",
            "2019-02-16 21:01:53 | itr #180 | Computing KL before\n",
            "2019-02-16 21:01:53 | itr #180 | Optimizing\n",
            "2019-02-16 21:01:53 | itr #180 | Start CG optimization: #parameters: 10528, #inputs: 138, #subsample_inputs: 138\n",
            "2019-02-16 21:01:53 | itr #180 | computing loss before\n",
            "2019-02-16 21:01:53 | itr #180 | performing update\n",
            "2019-02-16 21:01:53 | itr #180 | computing gradient\n",
            "2019-02-16 21:01:53 | itr #180 | gradient computed\n",
            "2019-02-16 21:01:53 | itr #180 | computing descent direction\n"
          ],
          "name": "stdout"
        },
        {
          "output_type": "stream",
          "text": [
            "\n",
            "Total time elapsed: 00:00:04\n"
          ],
          "name": "stderr"
        },
        {
          "output_type": "stream",
          "text": [
            "2019-02-16 21:01:54 | itr #180 | descent direction computed\n",
            "2019-02-16 21:01:54 | itr #180 | backtrack iters: 1\n",
            "2019-02-16 21:01:54 | itr #180 | computing loss after\n",
            "2019-02-16 21:01:54 | itr #180 | optimization finished\n",
            "2019-02-16 21:01:54 | itr #180 | Computing KL after\n",
            "2019-02-16 21:01:54 | itr #180 | Computing loss after\n",
            "2019-02-16 21:01:54 | itr #180 | Fitting baseline...\n",
            "2019-02-16 21:01:54 | itr #180 | Saving snapshot...\n",
            "2019-02-16 21:01:54 | itr #180 | Saved\n",
            "2019-02-16 21:01:54 | --------------------------  ------------\n",
            "2019-02-16 21:01:54 | AverageDiscountedReturn      57.5577\n",
            "2019-02-16 21:01:54 | AverageReturn                61.6667\n",
            "2019-02-16 21:01:54 | Baseline/ExplainedVariance    0.63071\n",
            "2019-02-16 21:01:54 | Entropy                       2.05028\n",
            "2019-02-16 21:01:54 | EnvExecTime                   0.856651\n",
            "2019-02-16 21:01:54 | Iteration                   180\n",
            "2019-02-16 21:01:54 | ItrTime                       4.80728\n",
            "2019-02-16 21:01:54 | MaxReturn                   110\n",
            "2019-02-16 21:01:54 | MinReturn                   -52\n",
            "2019-02-16 21:01:54 | NumTrajs                    138\n",
            "2019-02-16 21:01:54 | Perplexity                    7.77011\n",
            "2019-02-16 21:01:54 | PolicyExecTime                3.48087\n",
            "2019-02-16 21:01:54 | ProcessExecTime               0.0386896\n",
            "2019-02-16 21:01:54 | StdReturn                    49.7\n",
            "2019-02-16 21:01:54 | Time                        915.153\n",
            "2019-02-16 21:01:54 | policy/Entropy                0.192027\n",
            "2019-02-16 21:01:54 | policy/KL                     0.00624087\n",
            "2019-02-16 21:01:54 | policy/KLBefore               0\n",
            "2019-02-16 21:01:54 | policy/LossAfter             -0.0141999\n",
            "2019-02-16 21:01:54 | policy/LossBefore            -0\n",
            "2019-02-16 21:01:54 | policy/dLoss                  0.0141999\n",
            "2019-02-16 21:01:54 | --------------------------  ------------\n",
            "2019-02-16 21:01:54 | itr #181 | Obtaining samples...\n",
            "2019-02-16 21:01:54 | itr #181 | Obtaining samples for iteration 181...\n"
          ],
          "name": "stdout"
        },
        {
          "output_type": "stream",
          "text": [
            "0% [##############################] 100% | ETA: 00:00:00"
          ],
          "name": "stderr"
        },
        {
          "output_type": "stream",
          "text": [
            "2019-02-16 21:01:58 | itr #181 | Processing samples...\n",
            "2019-02-16 21:01:58 | itr #181 | Logging diagnostics...\n",
            "2019-02-16 21:01:58 | itr #181 | Optimizing policy...\n",
            "2019-02-16 21:01:58 | itr #181 | Computing loss before\n",
            "2019-02-16 21:01:58 | itr #181 | Computing KL before\n",
            "2019-02-16 21:01:58 | itr #181 | Optimizing\n",
            "2019-02-16 21:01:58 | itr #181 | Start CG optimization: #parameters: 10528, #inputs: 133, #subsample_inputs: 133\n",
            "2019-02-16 21:01:58 | itr #181 | computing loss before\n",
            "2019-02-16 21:01:58 | itr #181 | performing update\n",
            "2019-02-16 21:01:58 | itr #181 | computing gradient\n",
            "2019-02-16 21:01:58 | itr #181 | gradient computed\n",
            "2019-02-16 21:01:58 | itr #181 | computing descent direction\n"
          ],
          "name": "stdout"
        },
        {
          "output_type": "stream",
          "text": [
            "\n",
            "Total time elapsed: 00:00:04\n"
          ],
          "name": "stderr"
        },
        {
          "output_type": "stream",
          "text": [
            "2019-02-16 21:01:59 | itr #181 | descent direction computed\n",
            "2019-02-16 21:01:59 | itr #181 | backtrack iters: 1\n",
            "2019-02-16 21:01:59 | itr #181 | computing loss after\n",
            "2019-02-16 21:01:59 | itr #181 | optimization finished\n",
            "2019-02-16 21:01:59 | itr #181 | Computing KL after\n",
            "2019-02-16 21:01:59 | itr #181 | Computing loss after\n",
            "2019-02-16 21:01:59 | itr #181 | Fitting baseline...\n",
            "2019-02-16 21:01:59 | itr #181 | Saving snapshot...\n",
            "2019-02-16 21:01:59 | itr #181 | Saved\n",
            "2019-02-16 21:01:59 | --------------------------  -------------\n",
            "2019-02-16 21:01:59 | AverageDiscountedReturn      58.6268\n",
            "2019-02-16 21:01:59 | AverageReturn                62.5038\n",
            "2019-02-16 21:01:59 | Baseline/ExplainedVariance    0.622753\n",
            "2019-02-16 21:01:59 | Entropy                       2.09903\n",
            "2019-02-16 21:01:59 | EnvExecTime                   0.781671\n",
            "2019-02-16 21:01:59 | Iteration                   181\n",
            "2019-02-16 21:01:59 | ItrTime                       4.88811\n",
            "2019-02-16 21:01:59 | MaxReturn                   110\n",
            "2019-02-16 21:01:59 | MinReturn                   -38\n",
            "2019-02-16 21:01:59 | NumTrajs                    133\n",
            "2019-02-16 21:01:59 | Perplexity                    8.15824\n",
            "2019-02-16 21:01:59 | PolicyExecTime                3.65726\n",
            "2019-02-16 21:01:59 | ProcessExecTime               0.0396564\n",
            "2019-02-16 21:01:59 | StdReturn                    44.6809\n",
            "2019-02-16 21:01:59 | Time                        920.097\n",
            "2019-02-16 21:01:59 | policy/Entropy                0.202993\n",
            "2019-02-16 21:01:59 | policy/KL                     0.00891536\n",
            "2019-02-16 21:01:59 | policy/KLBefore               0\n",
            "2019-02-16 21:01:59 | policy/LossAfter             -0.00911972\n",
            "2019-02-16 21:01:59 | policy/LossBefore             1.62308e-08\n",
            "2019-02-16 21:01:59 | policy/dLoss                  0.00911974\n",
            "2019-02-16 21:01:59 | --------------------------  -------------\n",
            "2019-02-16 21:01:59 | itr #182 | Obtaining samples...\n",
            "2019-02-16 21:01:59 | itr #182 | Obtaining samples for iteration 182...\n"
          ],
          "name": "stdout"
        },
        {
          "output_type": "stream",
          "text": [
            "0% [##############################] 100% | ETA: 00:00:00"
          ],
          "name": "stderr"
        },
        {
          "output_type": "stream",
          "text": [
            "2019-02-16 21:02:03 | itr #182 | Processing samples...\n",
            "2019-02-16 21:02:03 | itr #182 | Logging diagnostics...\n",
            "2019-02-16 21:02:03 | itr #182 | Optimizing policy...\n",
            "2019-02-16 21:02:03 | itr #182 | Computing loss before\n",
            "2019-02-16 21:02:03 | itr #182 | Computing KL before\n",
            "2019-02-16 21:02:03 | itr #182 | Optimizing\n",
            "2019-02-16 21:02:03 | itr #182 | Start CG optimization: #parameters: 10528, #inputs: 135, #subsample_inputs: 135\n",
            "2019-02-16 21:02:03 | itr #182 | computing loss before\n",
            "2019-02-16 21:02:03 | itr #182 | performing update\n",
            "2019-02-16 21:02:03 | itr #182 | computing gradient\n",
            "2019-02-16 21:02:03 | itr #182 | gradient computed\n",
            "2019-02-16 21:02:03 | itr #182 | computing descent direction\n"
          ],
          "name": "stdout"
        },
        {
          "output_type": "stream",
          "text": [
            "\n",
            "Total time elapsed: 00:00:04\n"
          ],
          "name": "stderr"
        },
        {
          "output_type": "stream",
          "text": [
            "2019-02-16 21:02:03 | itr #182 | descent direction computed\n",
            "2019-02-16 21:02:03 | itr #182 | backtrack iters: 1\n",
            "2019-02-16 21:02:03 | itr #182 | computing loss after\n",
            "2019-02-16 21:02:03 | itr #182 | optimization finished\n",
            "2019-02-16 21:02:03 | itr #182 | Computing KL after\n",
            "2019-02-16 21:02:03 | itr #182 | Computing loss after\n",
            "2019-02-16 21:02:03 | itr #182 | Fitting baseline...\n",
            "2019-02-16 21:02:03 | itr #182 | Saving snapshot...\n",
            "2019-02-16 21:02:03 | itr #182 | Saved\n",
            "2019-02-16 21:02:03 | --------------------------  -------------\n",
            "2019-02-16 21:02:03 | AverageDiscountedReturn      61.5906\n",
            "2019-02-16 21:02:03 | AverageReturn                66.3037\n",
            "2019-02-16 21:02:03 | Baseline/ExplainedVariance    0.696735\n",
            "2019-02-16 21:02:03 | Entropy                       2.08361\n",
            "2019-02-16 21:02:03 | EnvExecTime                   0.753682\n",
            "2019-02-16 21:02:03 | Iteration                   182\n",
            "2019-02-16 21:02:03 | ItrTime                       4.74347\n",
            "2019-02-16 21:02:03 | MaxReturn                   110\n",
            "2019-02-16 21:02:03 | MinReturn                   -45\n",
            "2019-02-16 21:02:03 | NumTrajs                    135\n",
            "2019-02-16 21:02:04 | Perplexity                    8.03345\n",
            "2019-02-16 21:02:04 | PolicyExecTime                3.54313\n",
            "2019-02-16 21:02:04 | ProcessExecTime               0.0390215\n",
            "2019-02-16 21:02:04 | StdReturn                    49.467\n",
            "2019-02-16 21:02:04 | Time                        924.89\n",
            "2019-02-16 21:02:04 | policy/Entropy                0.193832\n",
            "2019-02-16 21:02:04 | policy/KL                     0.00820432\n",
            "2019-02-16 21:02:04 | policy/KLBefore               0\n",
            "2019-02-16 21:02:04 | policy/LossAfter             -0.015015\n",
            "2019-02-16 21:02:04 | policy/LossBefore             1.80882e-08\n",
            "2019-02-16 21:02:04 | policy/dLoss                  0.0150151\n",
            "2019-02-16 21:02:04 | --------------------------  -------------\n",
            "2019-02-16 21:02:04 | itr #183 | Obtaining samples...\n",
            "2019-02-16 21:02:04 | itr #183 | Obtaining samples for iteration 183...\n"
          ],
          "name": "stdout"
        },
        {
          "output_type": "stream",
          "text": [
            "0% [##############################] 100% | ETA: 00:00:00"
          ],
          "name": "stderr"
        },
        {
          "output_type": "stream",
          "text": [
            "2019-02-16 21:02:08 | itr #183 | Processing samples...\n",
            "2019-02-16 21:02:08 | itr #183 | Logging diagnostics...\n",
            "2019-02-16 21:02:08 | itr #183 | Optimizing policy...\n",
            "2019-02-16 21:02:08 | itr #183 | Computing loss before\n",
            "2019-02-16 21:02:08 | itr #183 | Computing KL before\n",
            "2019-02-16 21:02:08 | itr #183 | Optimizing\n",
            "2019-02-16 21:02:08 | itr #183 | Start CG optimization: #parameters: 10528, #inputs: 143, #subsample_inputs: 143\n",
            "2019-02-16 21:02:08 | itr #183 | computing loss before\n",
            "2019-02-16 21:02:08 | itr #183 | performing update\n",
            "2019-02-16 21:02:08 | itr #183 | computing gradient\n",
            "2019-02-16 21:02:08 | itr #183 | gradient computed\n",
            "2019-02-16 21:02:08 | itr #183 | computing descent direction\n"
          ],
          "name": "stdout"
        },
        {
          "output_type": "stream",
          "text": [
            "\n",
            "Total time elapsed: 00:00:04\n"
          ],
          "name": "stderr"
        },
        {
          "output_type": "stream",
          "text": [
            "2019-02-16 21:02:08 | itr #183 | descent direction computed\n",
            "2019-02-16 21:02:08 | itr #183 | backtrack iters: 0\n",
            "2019-02-16 21:02:08 | itr #183 | computing loss after\n",
            "2019-02-16 21:02:08 | itr #183 | optimization finished\n",
            "2019-02-16 21:02:08 | itr #183 | Computing KL after\n",
            "2019-02-16 21:02:08 | itr #183 | Computing loss after\n",
            "2019-02-16 21:02:08 | itr #183 | Fitting baseline...\n",
            "2019-02-16 21:02:08 | itr #183 | Saving snapshot...\n",
            "2019-02-16 21:02:08 | itr #183 | Saved\n",
            "2019-02-16 21:02:08 | --------------------------  -------------\n",
            "2019-02-16 21:02:08 | AverageDiscountedReturn      56.6922\n",
            "2019-02-16 21:02:08 | AverageReturn                60.5594\n",
            "2019-02-16 21:02:08 | Baseline/ExplainedVariance    0.641233\n",
            "2019-02-16 21:02:08 | Entropy                       2.07624\n",
            "2019-02-16 21:02:08 | EnvExecTime                   0.738078\n",
            "2019-02-16 21:02:08 | Iteration                   183\n",
            "2019-02-16 21:02:08 | ItrTime                       4.66199\n",
            "2019-02-16 21:02:08 | MaxReturn                   110\n",
            "2019-02-16 21:02:08 | MinReturn                   -41\n",
            "2019-02-16 21:02:08 | NumTrajs                    143\n",
            "2019-02-16 21:02:08 | Perplexity                    7.9744\n",
            "2019-02-16 21:02:08 | PolicyExecTime                3.47184\n",
            "2019-02-16 21:02:08 | ProcessExecTime               0.0391235\n",
            "2019-02-16 21:02:08 | StdReturn                    48.3949\n",
            "2019-02-16 21:02:08 | Time                        929.606\n",
            "2019-02-16 21:02:08 | policy/Entropy                0.182585\n",
            "2019-02-16 21:02:08 | policy/KL                     0.00971797\n",
            "2019-02-16 21:02:08 | policy/KLBefore               0\n",
            "2019-02-16 21:02:08 | policy/LossAfter             -0.0229573\n",
            "2019-02-16 21:02:08 | policy/LossBefore             1.26614e-08\n",
            "2019-02-16 21:02:08 | policy/dLoss                  0.0229573\n",
            "2019-02-16 21:02:08 | --------------------------  -------------\n",
            "2019-02-16 21:02:08 | itr #184 | Obtaining samples...\n",
            "2019-02-16 21:02:08 | itr #184 | Obtaining samples for iteration 184...\n"
          ],
          "name": "stdout"
        },
        {
          "output_type": "stream",
          "text": [
            "0% [##############################] 100% | ETA: 00:00:00"
          ],
          "name": "stderr"
        },
        {
          "output_type": "stream",
          "text": [
            "2019-02-16 21:02:13 | itr #184 | Processing samples...\n",
            "2019-02-16 21:02:13 | itr #184 | Logging diagnostics...\n",
            "2019-02-16 21:02:13 | itr #184 | Optimizing policy...\n",
            "2019-02-16 21:02:13 | itr #184 | Computing loss before\n",
            "2019-02-16 21:02:13 | itr #184 | Computing KL before\n",
            "2019-02-16 21:02:13 | itr #184 | Optimizing\n",
            "2019-02-16 21:02:13 | itr #184 | Start CG optimization: #parameters: 10528, #inputs: 135, #subsample_inputs: 135\n",
            "2019-02-16 21:02:13 | itr #184 | computing loss before\n",
            "2019-02-16 21:02:13 | itr #184 | performing update\n",
            "2019-02-16 21:02:13 | itr #184 | computing gradient\n",
            "2019-02-16 21:02:13 | itr #184 | gradient computed\n",
            "2019-02-16 21:02:13 | itr #184 | computing descent direction\n"
          ],
          "name": "stdout"
        },
        {
          "output_type": "stream",
          "text": [
            "\n",
            "Total time elapsed: 00:00:04\n"
          ],
          "name": "stderr"
        },
        {
          "output_type": "stream",
          "text": [
            "2019-02-16 21:02:13 | itr #184 | descent direction computed\n",
            "2019-02-16 21:02:13 | itr #184 | backtrack iters: 1\n",
            "2019-02-16 21:02:13 | itr #184 | computing loss after\n",
            "2019-02-16 21:02:13 | itr #184 | optimization finished\n",
            "2019-02-16 21:02:13 | itr #184 | Computing KL after\n",
            "2019-02-16 21:02:13 | itr #184 | Computing loss after\n",
            "2019-02-16 21:02:13 | itr #184 | Fitting baseline...\n",
            "2019-02-16 21:02:13 | itr #184 | Saving snapshot...\n",
            "2019-02-16 21:02:13 | itr #184 | Saved\n",
            "2019-02-16 21:02:13 | --------------------------  -------------\n",
            "2019-02-16 21:02:13 | AverageDiscountedReturn      58.4044\n",
            "2019-02-16 21:02:13 | AverageReturn                62.4593\n",
            "2019-02-16 21:02:13 | Baseline/ExplainedVariance    0.680453\n",
            "2019-02-16 21:02:13 | Entropy                       2.06592\n",
            "2019-02-16 21:02:13 | EnvExecTime                   0.755471\n",
            "2019-02-16 21:02:13 | Iteration                   184\n",
            "2019-02-16 21:02:13 | ItrTime                       4.76413\n",
            "2019-02-16 21:02:13 | MaxReturn                   110\n",
            "2019-02-16 21:02:13 | MinReturn                   -31\n",
            "2019-02-16 21:02:13 | NumTrajs                    135\n",
            "2019-02-16 21:02:13 | Perplexity                    7.89257\n",
            "2019-02-16 21:02:13 | PolicyExecTime                3.55363\n",
            "2019-02-16 21:02:13 | ProcessExecTime               0.0385971\n",
            "2019-02-16 21:02:13 | StdReturn                    47.05\n",
            "2019-02-16 21:02:13 | Time                        934.402\n",
            "2019-02-16 21:02:13 | policy/Entropy                0.199975\n",
            "2019-02-16 21:02:13 | policy/KL                     0.00652602\n",
            "2019-02-16 21:02:13 | policy/KLBefore               0\n",
            "2019-02-16 21:02:13 | policy/LossAfter             -0.0173447\n",
            "2019-02-16 21:02:13 | policy/LossBefore             1.12473e-08\n",
            "2019-02-16 21:02:13 | policy/dLoss                  0.0173447\n",
            "2019-02-16 21:02:13 | --------------------------  -------------\n",
            "2019-02-16 21:02:13 | itr #185 | Obtaining samples...\n",
            "2019-02-16 21:02:13 | itr #185 | Obtaining samples for iteration 185...\n"
          ],
          "name": "stdout"
        },
        {
          "output_type": "stream",
          "text": [
            "0% [##############################] 100% | ETA: 00:00:00"
          ],
          "name": "stderr"
        },
        {
          "output_type": "stream",
          "text": [
            "2019-02-16 21:02:17 | itr #185 | Processing samples...\n",
            "2019-02-16 21:02:17 | itr #185 | Logging diagnostics...\n",
            "2019-02-16 21:02:17 | itr #185 | Optimizing policy...\n",
            "2019-02-16 21:02:17 | itr #185 | Computing loss before\n",
            "2019-02-16 21:02:17 | itr #185 | Computing KL before\n",
            "2019-02-16 21:02:17 | itr #185 | Optimizing\n",
            "2019-02-16 21:02:17 | itr #185 | Start CG optimization: #parameters: 10528, #inputs: 144, #subsample_inputs: 144\n",
            "2019-02-16 21:02:17 | itr #185 | computing loss before\n",
            "2019-02-16 21:02:17 | itr #185 | performing update\n",
            "2019-02-16 21:02:17 | itr #185 | computing gradient\n",
            "2019-02-16 21:02:18 | itr #185 | gradient computed\n",
            "2019-02-16 21:02:18 | itr #185 | computing descent direction\n"
          ],
          "name": "stdout"
        },
        {
          "output_type": "stream",
          "text": [
            "\n",
            "Total time elapsed: 00:00:04\n"
          ],
          "name": "stderr"
        },
        {
          "output_type": "stream",
          "text": [
            "2019-02-16 21:02:18 | itr #185 | descent direction computed\n",
            "2019-02-16 21:02:18 | itr #185 | backtrack iters: 2\n",
            "2019-02-16 21:02:18 | itr #185 | computing loss after\n",
            "2019-02-16 21:02:18 | itr #185 | optimization finished\n",
            "2019-02-16 21:02:18 | itr #185 | Computing KL after\n",
            "2019-02-16 21:02:18 | itr #185 | Computing loss after\n",
            "2019-02-16 21:02:18 | itr #185 | Fitting baseline...\n",
            "2019-02-16 21:02:18 | itr #185 | Saving snapshot...\n",
            "2019-02-16 21:02:18 | itr #185 | Saved\n",
            "2019-02-16 21:02:18 | --------------------------  -------------\n",
            "2019-02-16 21:02:18 | AverageDiscountedReturn      61.0612\n",
            "2019-02-16 21:02:18 | AverageReturn                65.1458\n",
            "2019-02-16 21:02:18 | Baseline/ExplainedVariance    0.706307\n",
            "2019-02-16 21:02:18 | Entropy                       1.98889\n",
            "2019-02-16 21:02:18 | EnvExecTime                   0.756668\n",
            "2019-02-16 21:02:18 | Iteration                   185\n",
            "2019-02-16 21:02:18 | ItrTime                       4.74443\n",
            "2019-02-16 21:02:18 | MaxReturn                   110\n",
            "2019-02-16 21:02:18 | MinReturn                   -40\n",
            "2019-02-16 21:02:18 | NumTrajs                    144\n",
            "2019-02-16 21:02:18 | Perplexity                    7.30739\n",
            "2019-02-16 21:02:18 | PolicyExecTime                3.50758\n",
            "2019-02-16 21:02:18 | ProcessExecTime               0.0405612\n",
            "2019-02-16 21:02:18 | StdReturn                    46.2211\n",
            "2019-02-16 21:02:18 | Time                        939.2\n",
            "2019-02-16 21:02:18 | policy/Entropy                0.196396\n",
            "2019-02-16 21:02:18 | policy/KL                     0.00693696\n",
            "2019-02-16 21:02:18 | policy/KLBefore               0\n",
            "2019-02-16 21:02:18 | policy/LossAfter             -0.0127873\n",
            "2019-02-16 21:02:18 | policy/LossBefore             1.42939e-08\n",
            "2019-02-16 21:02:18 | policy/dLoss                  0.0127873\n",
            "2019-02-16 21:02:18 | --------------------------  -------------\n",
            "2019-02-16 21:02:18 | itr #186 | Obtaining samples...\n",
            "2019-02-16 21:02:18 | itr #186 | Obtaining samples for iteration 186...\n"
          ],
          "name": "stdout"
        },
        {
          "output_type": "stream",
          "text": [
            "0% [##############################] 100% | ETA: 00:00:00"
          ],
          "name": "stderr"
        },
        {
          "output_type": "stream",
          "text": [
            "2019-02-16 21:02:22 | itr #186 | Processing samples...\n",
            "2019-02-16 21:02:22 | itr #186 | Logging diagnostics...\n",
            "2019-02-16 21:02:22 | itr #186 | Optimizing policy...\n",
            "2019-02-16 21:02:22 | itr #186 | Computing loss before\n",
            "2019-02-16 21:02:22 | itr #186 | Computing KL before\n",
            "2019-02-16 21:02:22 | itr #186 | Optimizing\n",
            "2019-02-16 21:02:22 | itr #186 | Start CG optimization: #parameters: 10528, #inputs: 139, #subsample_inputs: 139\n",
            "2019-02-16 21:02:22 | itr #186 | computing loss before\n",
            "2019-02-16 21:02:22 | itr #186 | performing update\n",
            "2019-02-16 21:02:22 | itr #186 | computing gradient\n",
            "2019-02-16 21:02:22 | itr #186 | gradient computed\n",
            "2019-02-16 21:02:22 | itr #186 | computing descent direction\n"
          ],
          "name": "stdout"
        },
        {
          "output_type": "stream",
          "text": [
            "\n",
            "Total time elapsed: 00:00:04\n"
          ],
          "name": "stderr"
        },
        {
          "output_type": "stream",
          "text": [
            "2019-02-16 21:02:22 | itr #186 | descent direction computed\n",
            "2019-02-16 21:02:22 | itr #186 | backtrack iters: 1\n",
            "2019-02-16 21:02:22 | itr #186 | computing loss after\n",
            "2019-02-16 21:02:22 | itr #186 | optimization finished\n",
            "2019-02-16 21:02:22 | itr #186 | Computing KL after\n",
            "2019-02-16 21:02:22 | itr #186 | Computing loss after\n",
            "2019-02-16 21:02:23 | itr #186 | Fitting baseline...\n",
            "2019-02-16 21:02:23 | itr #186 | Saving snapshot...\n",
            "2019-02-16 21:02:23 | itr #186 | Saved\n",
            "2019-02-16 21:02:23 | --------------------------  -------------\n",
            "2019-02-16 21:02:23 | AverageDiscountedReturn      57.2562\n",
            "2019-02-16 21:02:23 | AverageReturn                61.0432\n",
            "2019-02-16 21:02:23 | Baseline/ExplainedVariance    0.617589\n",
            "2019-02-16 21:02:23 | Entropy                       2.06846\n",
            "2019-02-16 21:02:23 | EnvExecTime                   0.749141\n",
            "2019-02-16 21:02:23 | Iteration                   186\n",
            "2019-02-16 21:02:23 | ItrTime                       4.70471\n",
            "2019-02-16 21:02:23 | MaxReturn                   110\n",
            "2019-02-16 21:02:23 | MinReturn                   -49\n",
            "2019-02-16 21:02:23 | NumTrajs                    139\n",
            "2019-02-16 21:02:23 | Perplexity                    7.91265\n",
            "2019-02-16 21:02:23 | PolicyExecTime                3.51682\n",
            "2019-02-16 21:02:23 | ProcessExecTime               0.0384052\n",
            "2019-02-16 21:02:23 | StdReturn                    47.4881\n",
            "2019-02-16 21:02:23 | Time                        943.94\n",
            "2019-02-16 21:02:23 | policy/Entropy                0.188447\n",
            "2019-02-16 21:02:23 | policy/KL                     0.00847738\n",
            "2019-02-16 21:02:23 | policy/KLBefore               0\n",
            "2019-02-16 21:02:23 | policy/LossAfter             -0.0165692\n",
            "2019-02-16 21:02:23 | policy/LossBefore            -8.81957e-09\n",
            "2019-02-16 21:02:23 | policy/dLoss                  0.0165692\n",
            "2019-02-16 21:02:23 | --------------------------  -------------\n",
            "2019-02-16 21:02:23 | itr #187 | Obtaining samples...\n",
            "2019-02-16 21:02:23 | itr #187 | Obtaining samples for iteration 187...\n"
          ],
          "name": "stdout"
        },
        {
          "output_type": "stream",
          "text": [
            "0% [##############################] 100% | ETA: 00:00:00"
          ],
          "name": "stderr"
        },
        {
          "output_type": "stream",
          "text": [
            "2019-02-16 21:02:27 | itr #187 | Processing samples...\n",
            "2019-02-16 21:02:27 | itr #187 | Logging diagnostics...\n",
            "2019-02-16 21:02:27 | itr #187 | Optimizing policy...\n",
            "2019-02-16 21:02:27 | itr #187 | Computing loss before\n",
            "2019-02-16 21:02:27 | itr #187 | Computing KL before\n",
            "2019-02-16 21:02:27 | itr #187 | Optimizing\n",
            "2019-02-16 21:02:27 | itr #187 | Start CG optimization: #parameters: 10528, #inputs: 139, #subsample_inputs: 139\n",
            "2019-02-16 21:02:27 | itr #187 | computing loss before\n",
            "2019-02-16 21:02:27 | itr #187 | performing update\n",
            "2019-02-16 21:02:27 | itr #187 | computing gradient\n",
            "2019-02-16 21:02:27 | itr #187 | gradient computed\n",
            "2019-02-16 21:02:27 | itr #187 | computing descent direction\n"
          ],
          "name": "stdout"
        },
        {
          "output_type": "stream",
          "text": [
            "\n",
            "Total time elapsed: 00:00:04\n"
          ],
          "name": "stderr"
        },
        {
          "output_type": "stream",
          "text": [
            "2019-02-16 21:02:27 | itr #187 | descent direction computed\n",
            "2019-02-16 21:02:27 | itr #187 | backtrack iters: 1\n",
            "2019-02-16 21:02:27 | itr #187 | computing loss after\n",
            "2019-02-16 21:02:27 | itr #187 | optimization finished\n",
            "2019-02-16 21:02:27 | itr #187 | Computing KL after\n",
            "2019-02-16 21:02:27 | itr #187 | Computing loss after\n",
            "2019-02-16 21:02:27 | itr #187 | Fitting baseline...\n",
            "2019-02-16 21:02:27 | itr #187 | Saving snapshot...\n",
            "2019-02-16 21:02:27 | itr #187 | Saved\n",
            "2019-02-16 21:02:27 | --------------------------  ------------\n",
            "2019-02-16 21:02:27 | AverageDiscountedReturn      63.9786\n",
            "2019-02-16 21:02:27 | AverageReturn                68.3094\n",
            "2019-02-16 21:02:27 | Baseline/ExplainedVariance    0.744932\n",
            "2019-02-16 21:02:27 | Entropy                       2.02418\n",
            "2019-02-16 21:02:27 | EnvExecTime                   0.753187\n",
            "2019-02-16 21:02:27 | Iteration                   187\n",
            "2019-02-16 21:02:27 | ItrTime                       4.65845\n",
            "2019-02-16 21:02:27 | MaxReturn                   110\n",
            "2019-02-16 21:02:27 | MinReturn                   -34\n",
            "2019-02-16 21:02:27 | NumTrajs                    139\n",
            "2019-02-16 21:02:27 | Perplexity                    7.5699\n",
            "2019-02-16 21:02:27 | PolicyExecTime                3.44929\n",
            "2019-02-16 21:02:27 | ProcessExecTime               0.0382011\n",
            "2019-02-16 21:02:27 | StdReturn                    44.2151\n",
            "2019-02-16 21:02:27 | Time                        948.652\n",
            "2019-02-16 21:02:27 | policy/Entropy                0.191986\n",
            "2019-02-16 21:02:27 | policy/KL                     0.00867022\n",
            "2019-02-16 21:02:27 | policy/KLBefore               0\n",
            "2019-02-16 21:02:27 | policy/LossAfter             -0.00909134\n",
            "2019-02-16 21:02:27 | policy/LossBefore             1.2275e-08\n",
            "2019-02-16 21:02:27 | policy/dLoss                  0.00909135\n",
            "2019-02-16 21:02:27 | --------------------------  ------------\n",
            "2019-02-16 21:02:27 | itr #188 | Obtaining samples...\n",
            "2019-02-16 21:02:27 | itr #188 | Obtaining samples for iteration 188...\n"
          ],
          "name": "stdout"
        },
        {
          "output_type": "stream",
          "text": [
            "0% [##############################] 100% | ETA: 00:00:00"
          ],
          "name": "stderr"
        },
        {
          "output_type": "stream",
          "text": [
            "2019-02-16 21:02:32 | itr #188 | Processing samples...\n",
            "2019-02-16 21:02:32 | itr #188 | Logging diagnostics...\n",
            "2019-02-16 21:02:32 | itr #188 | Optimizing policy...\n",
            "2019-02-16 21:02:32 | itr #188 | Computing loss before\n",
            "2019-02-16 21:02:32 | itr #188 | Computing KL before\n",
            "2019-02-16 21:02:32 | itr #188 | Optimizing\n",
            "2019-02-16 21:02:32 | itr #188 | Start CG optimization: #parameters: 10528, #inputs: 141, #subsample_inputs: 141\n",
            "2019-02-16 21:02:32 | itr #188 | computing loss before\n",
            "2019-02-16 21:02:32 | itr #188 | performing update\n",
            "2019-02-16 21:02:32 | itr #188 | computing gradient\n",
            "2019-02-16 21:02:32 | itr #188 | gradient computed\n",
            "2019-02-16 21:02:32 | itr #188 | computing descent direction\n"
          ],
          "name": "stdout"
        },
        {
          "output_type": "stream",
          "text": [
            "\n",
            "Total time elapsed: 00:00:04\n"
          ],
          "name": "stderr"
        },
        {
          "output_type": "stream",
          "text": [
            "2019-02-16 21:02:32 | itr #188 | descent direction computed\n",
            "2019-02-16 21:02:32 | itr #188 | backtrack iters: 1\n",
            "2019-02-16 21:02:32 | itr #188 | computing loss after\n",
            "2019-02-16 21:02:32 | itr #188 | optimization finished\n",
            "2019-02-16 21:02:32 | itr #188 | Computing KL after\n",
            "2019-02-16 21:02:32 | itr #188 | Computing loss after\n",
            "2019-02-16 21:02:32 | itr #188 | Fitting baseline...\n",
            "2019-02-16 21:02:32 | itr #188 | Saving snapshot...\n",
            "2019-02-16 21:02:32 | itr #188 | Saved\n",
            "2019-02-16 21:02:32 | --------------------------  ------------\n",
            "2019-02-16 21:02:32 | AverageDiscountedReturn      60.1669\n",
            "2019-02-16 21:02:32 | AverageReturn                64.2979\n",
            "2019-02-16 21:02:32 | Baseline/ExplainedVariance    0.640078\n",
            "2019-02-16 21:02:32 | Entropy                       1.98938\n",
            "2019-02-16 21:02:32 | EnvExecTime                   0.736819\n",
            "2019-02-16 21:02:32 | Iteration                   188\n",
            "2019-02-16 21:02:32 | ItrTime                       4.65188\n",
            "2019-02-16 21:02:32 | MaxReturn                   110\n",
            "2019-02-16 21:02:32 | MinReturn                   -34\n",
            "2019-02-16 21:02:32 | NumTrajs                    141\n",
            "2019-02-16 21:02:32 | Perplexity                    7.31097\n",
            "2019-02-16 21:02:32 | PolicyExecTime                3.46823\n",
            "2019-02-16 21:02:32 | ProcessExecTime               0.0389833\n",
            "2019-02-16 21:02:32 | StdReturn                    46.9523\n",
            "2019-02-16 21:02:32 | Time                        953.338\n",
            "2019-02-16 21:02:32 | policy/Entropy                0.194428\n",
            "2019-02-16 21:02:32 | policy/KL                     0.00783567\n",
            "2019-02-16 21:02:32 | policy/KLBefore               0\n",
            "2019-02-16 21:02:32 | policy/LossAfter             -0.0164605\n",
            "2019-02-16 21:02:32 | policy/LossBefore            -0\n",
            "2019-02-16 21:02:32 | policy/dLoss                  0.0164605\n",
            "2019-02-16 21:02:32 | --------------------------  ------------\n",
            "2019-02-16 21:02:32 | itr #189 | Obtaining samples...\n",
            "2019-02-16 21:02:32 | itr #189 | Obtaining samples for iteration 189...\n"
          ],
          "name": "stdout"
        },
        {
          "output_type": "stream",
          "text": [
            "0% [##############################] 100% | ETA: 00:00:00"
          ],
          "name": "stderr"
        },
        {
          "output_type": "stream",
          "text": [
            "2019-02-16 21:02:36 | itr #189 | Processing samples...\n",
            "2019-02-16 21:02:36 | itr #189 | Logging diagnostics...\n",
            "2019-02-16 21:02:36 | itr #189 | Optimizing policy...\n",
            "2019-02-16 21:02:36 | itr #189 | Computing loss before\n",
            "2019-02-16 21:02:36 | itr #189 | Computing KL before\n",
            "2019-02-16 21:02:36 | itr #189 | Optimizing\n",
            "2019-02-16 21:02:36 | itr #189 | Start CG optimization: #parameters: 10528, #inputs: 140, #subsample_inputs: 140\n",
            "2019-02-16 21:02:36 | itr #189 | computing loss before\n",
            "2019-02-16 21:02:36 | itr #189 | performing update\n",
            "2019-02-16 21:02:36 | itr #189 | computing gradient\n",
            "2019-02-16 21:02:36 | itr #189 | gradient computed\n",
            "2019-02-16 21:02:36 | itr #189 | computing descent direction\n"
          ],
          "name": "stdout"
        },
        {
          "output_type": "stream",
          "text": [
            "\n",
            "Total time elapsed: 00:00:04\n"
          ],
          "name": "stderr"
        },
        {
          "output_type": "stream",
          "text": [
            "2019-02-16 21:02:37 | itr #189 | descent direction computed\n",
            "2019-02-16 21:02:37 | itr #189 | backtrack iters: 0\n",
            "2019-02-16 21:02:37 | itr #189 | computing loss after\n",
            "2019-02-16 21:02:37 | itr #189 | optimization finished\n",
            "2019-02-16 21:02:37 | itr #189 | Computing KL after\n",
            "2019-02-16 21:02:37 | itr #189 | Computing loss after\n",
            "2019-02-16 21:02:37 | itr #189 | Fitting baseline...\n",
            "2019-02-16 21:02:37 | itr #189 | Saving snapshot...\n",
            "2019-02-16 21:02:37 | itr #189 | Saved\n",
            "2019-02-16 21:02:37 | --------------------------  ------------\n",
            "2019-02-16 21:02:37 | AverageDiscountedReturn      64.7107\n",
            "2019-02-16 21:02:37 | AverageReturn                69.2071\n",
            "2019-02-16 21:02:37 | Baseline/ExplainedVariance    0.686693\n",
            "2019-02-16 21:02:37 | Entropy                       1.93128\n",
            "2019-02-16 21:02:37 | EnvExecTime                   0.760237\n",
            "2019-02-16 21:02:37 | Iteration                   189\n",
            "2019-02-16 21:02:37 | ItrTime                       4.7507\n",
            "2019-02-16 21:02:37 | MaxReturn                   110\n",
            "2019-02-16 21:02:37 | MinReturn                   -35\n",
            "2019-02-16 21:02:37 | NumTrajs                    140\n",
            "2019-02-16 21:02:37 | Perplexity                    6.89836\n",
            "2019-02-16 21:02:37 | PolicyExecTime                3.539\n",
            "2019-02-16 21:02:37 | ProcessExecTime               0.0391283\n",
            "2019-02-16 21:02:37 | StdReturn                    44.1111\n",
            "2019-02-16 21:02:37 | Time                        958.136\n",
            "2019-02-16 21:02:37 | policy/Entropy                0.202445\n",
            "2019-02-16 21:02:37 | policy/KL                     0.00721837\n",
            "2019-02-16 21:02:37 | policy/KLBefore               0\n",
            "2019-02-16 21:02:37 | policy/LossAfter             -0.0172843\n",
            "2019-02-16 21:02:37 | policy/LossBefore            -5.6071e-09\n",
            "2019-02-16 21:02:37 | policy/dLoss                  0.0172843\n",
            "2019-02-16 21:02:37 | --------------------------  ------------\n",
            "2019-02-16 21:02:37 | itr #190 | Obtaining samples...\n",
            "2019-02-16 21:02:37 | itr #190 | Obtaining samples for iteration 190...\n"
          ],
          "name": "stdout"
        },
        {
          "output_type": "stream",
          "text": [
            "0% [##############################] 100% | ETA: 00:00:00"
          ],
          "name": "stderr"
        },
        {
          "output_type": "stream",
          "text": [
            "2019-02-16 21:02:41 | itr #190 | Processing samples...\n",
            "2019-02-16 21:02:41 | itr #190 | Logging diagnostics...\n",
            "2019-02-16 21:02:41 | itr #190 | Optimizing policy...\n",
            "2019-02-16 21:02:41 | itr #190 | Computing loss before\n",
            "2019-02-16 21:02:41 | itr #190 | Computing KL before\n",
            "2019-02-16 21:02:41 | itr #190 | Optimizing\n",
            "2019-02-16 21:02:41 | itr #190 | Start CG optimization: #parameters: 10528, #inputs: 141, #subsample_inputs: 141\n",
            "2019-02-16 21:02:41 | itr #190 | computing loss before\n",
            "2019-02-16 21:02:41 | itr #190 | performing update\n",
            "2019-02-16 21:02:41 | itr #190 | computing gradient\n",
            "2019-02-16 21:02:41 | itr #190 | gradient computed\n",
            "2019-02-16 21:02:41 | itr #190 | computing descent direction\n"
          ],
          "name": "stdout"
        },
        {
          "output_type": "stream",
          "text": [
            "\n",
            "Total time elapsed: 00:00:04\n"
          ],
          "name": "stderr"
        },
        {
          "output_type": "stream",
          "text": [
            "2019-02-16 21:02:42 | itr #190 | descent direction computed\n",
            "2019-02-16 21:02:42 | itr #190 | backtrack iters: 1\n",
            "2019-02-16 21:02:42 | itr #190 | computing loss after\n",
            "2019-02-16 21:02:42 | itr #190 | optimization finished\n",
            "2019-02-16 21:02:42 | itr #190 | Computing KL after\n",
            "2019-02-16 21:02:42 | itr #190 | Computing loss after\n",
            "2019-02-16 21:02:42 | itr #190 | Fitting baseline...\n",
            "2019-02-16 21:02:42 | itr #190 | Saving snapshot...\n",
            "2019-02-16 21:02:42 | itr #190 | Saved\n",
            "2019-02-16 21:02:42 | --------------------------  -------------\n",
            "2019-02-16 21:02:42 | AverageDiscountedReturn      66.3083\n",
            "2019-02-16 21:02:42 | AverageReturn                71.1986\n",
            "2019-02-16 21:02:42 | Baseline/ExplainedVariance    0.719844\n",
            "2019-02-16 21:02:42 | Entropy                       1.98021\n",
            "2019-02-16 21:02:42 | EnvExecTime                   0.781392\n",
            "2019-02-16 21:02:42 | Iteration                   190\n",
            "2019-02-16 21:02:42 | ItrTime                       4.84572\n",
            "2019-02-16 21:02:42 | MaxReturn                   110\n",
            "2019-02-16 21:02:42 | MinReturn                   -28\n",
            "2019-02-16 21:02:42 | NumTrajs                    141\n",
            "2019-02-16 21:02:42 | Perplexity                    7.24426\n",
            "2019-02-16 21:02:42 | PolicyExecTime                3.59277\n",
            "2019-02-16 21:02:42 | ProcessExecTime               0.0400922\n",
            "2019-02-16 21:02:42 | StdReturn                    43.8033\n",
            "2019-02-16 21:02:42 | Time                        963.042\n",
            "2019-02-16 21:02:42 | policy/Entropy                0.207395\n",
            "2019-02-16 21:02:42 | policy/KL                     0.00906272\n",
            "2019-02-16 21:02:42 | policy/KLBefore               0\n",
            "2019-02-16 21:02:42 | policy/LossAfter             -0.0151366\n",
            "2019-02-16 21:02:42 | policy/LossBefore            -2.98669e-08\n",
            "2019-02-16 21:02:42 | policy/dLoss                  0.0151366\n",
            "2019-02-16 21:02:42 | --------------------------  -------------\n",
            "2019-02-16 21:02:42 | itr #191 | Obtaining samples...\n",
            "2019-02-16 21:02:42 | itr #191 | Obtaining samples for iteration 191...\n"
          ],
          "name": "stdout"
        },
        {
          "output_type": "stream",
          "text": [
            "0% [##############################] 100% | ETA: 00:00:00"
          ],
          "name": "stderr"
        },
        {
          "output_type": "stream",
          "text": [
            "2019-02-16 21:02:46 | itr #191 | Processing samples...\n",
            "2019-02-16 21:02:46 | itr #191 | Logging diagnostics...\n",
            "2019-02-16 21:02:46 | itr #191 | Optimizing policy...\n",
            "2019-02-16 21:02:46 | itr #191 | Computing loss before\n",
            "2019-02-16 21:02:46 | itr #191 | Computing KL before\n",
            "2019-02-16 21:02:46 | itr #191 | Optimizing\n",
            "2019-02-16 21:02:46 | itr #191 | Start CG optimization: #parameters: 10528, #inputs: 137, #subsample_inputs: 137\n",
            "2019-02-16 21:02:46 | itr #191 | computing loss before\n",
            "2019-02-16 21:02:46 | itr #191 | performing update\n",
            "2019-02-16 21:02:46 | itr #191 | computing gradient\n",
            "2019-02-16 21:02:46 | itr #191 | gradient computed\n",
            "2019-02-16 21:02:46 | itr #191 | computing descent direction\n"
          ],
          "name": "stdout"
        },
        {
          "output_type": "stream",
          "text": [
            "\n",
            "Total time elapsed: 00:00:04\n"
          ],
          "name": "stderr"
        },
        {
          "output_type": "stream",
          "text": [
            "2019-02-16 21:02:46 | itr #191 | descent direction computed\n",
            "2019-02-16 21:02:46 | itr #191 | backtrack iters: 1\n",
            "2019-02-16 21:02:46 | itr #191 | computing loss after\n",
            "2019-02-16 21:02:46 | itr #191 | optimization finished\n",
            "2019-02-16 21:02:46 | itr #191 | Computing KL after\n",
            "2019-02-16 21:02:46 | itr #191 | Computing loss after\n",
            "2019-02-16 21:02:46 | itr #191 | Fitting baseline...\n",
            "2019-02-16 21:02:46 | itr #191 | Saving snapshot...\n",
            "2019-02-16 21:02:46 | itr #191 | Saved\n",
            "2019-02-16 21:02:46 | --------------------------  -------------\n",
            "2019-02-16 21:02:46 | AverageDiscountedReturn      64.404\n",
            "2019-02-16 21:02:46 | AverageReturn                69.0365\n",
            "2019-02-16 21:02:46 | Baseline/ExplainedVariance    0.736301\n",
            "2019-02-16 21:02:46 | Entropy                       1.91866\n",
            "2019-02-16 21:02:46 | EnvExecTime                   0.765243\n",
            "2019-02-16 21:02:46 | Iteration                   191\n",
            "2019-02-16 21:02:46 | ItrTime                       4.74284\n",
            "2019-02-16 21:02:46 | MaxReturn                   110\n",
            "2019-02-16 21:02:46 | MinReturn                   -32\n",
            "2019-02-16 21:02:46 | NumTrajs                    137\n",
            "2019-02-16 21:02:46 | Perplexity                    6.81184\n",
            "2019-02-16 21:02:46 | PolicyExecTime                3.52801\n",
            "2019-02-16 21:02:46 | ProcessExecTime               0.0393295\n",
            "2019-02-16 21:02:46 | StdReturn                    45.3471\n",
            "2019-02-16 21:02:46 | Time                        967.829\n",
            "2019-02-16 21:02:46 | policy/Entropy                0.213478\n",
            "2019-02-16 21:02:46 | policy/KL                     0.00722328\n",
            "2019-02-16 21:02:46 | policy/KLBefore               0\n",
            "2019-02-16 21:02:46 | policy/LossAfter             -0.014963\n",
            "2019-02-16 21:02:46 | policy/LossBefore             1.86629e-09\n",
            "2019-02-16 21:02:46 | policy/dLoss                  0.014963\n",
            "2019-02-16 21:02:46 | --------------------------  -------------\n",
            "2019-02-16 21:02:46 | itr #192 | Obtaining samples...\n",
            "2019-02-16 21:02:46 | itr #192 | Obtaining samples for iteration 192...\n"
          ],
          "name": "stdout"
        },
        {
          "output_type": "stream",
          "text": [
            "0% [##############################] 100% | ETA: 00:00:00"
          ],
          "name": "stderr"
        },
        {
          "output_type": "stream",
          "text": [
            "2019-02-16 21:02:51 | itr #192 | Processing samples...\n",
            "2019-02-16 21:02:51 | itr #192 | Logging diagnostics...\n",
            "2019-02-16 21:02:51 | itr #192 | Optimizing policy...\n",
            "2019-02-16 21:02:51 | itr #192 | Computing loss before\n",
            "2019-02-16 21:02:51 | itr #192 | Computing KL before\n",
            "2019-02-16 21:02:51 | itr #192 | Optimizing\n",
            "2019-02-16 21:02:51 | itr #192 | Start CG optimization: #parameters: 10528, #inputs: 136, #subsample_inputs: 136\n",
            "2019-02-16 21:02:51 | itr #192 | computing loss before\n",
            "2019-02-16 21:02:51 | itr #192 | performing update\n",
            "2019-02-16 21:02:51 | itr #192 | computing gradient\n",
            "2019-02-16 21:02:51 | itr #192 | gradient computed\n",
            "2019-02-16 21:02:51 | itr #192 | computing descent direction\n"
          ],
          "name": "stdout"
        },
        {
          "output_type": "stream",
          "text": [
            "\n",
            "Total time elapsed: 00:00:04\n"
          ],
          "name": "stderr"
        },
        {
          "output_type": "stream",
          "text": [
            "2019-02-16 21:02:51 | itr #192 | descent direction computed\n",
            "2019-02-16 21:02:51 | itr #192 | backtrack iters: 1\n",
            "2019-02-16 21:02:51 | itr #192 | computing loss after\n",
            "2019-02-16 21:02:51 | itr #192 | optimization finished\n",
            "2019-02-16 21:02:51 | itr #192 | Computing KL after\n",
            "2019-02-16 21:02:51 | itr #192 | Computing loss after\n",
            "2019-02-16 21:02:51 | itr #192 | Fitting baseline...\n",
            "2019-02-16 21:02:51 | itr #192 | Saving snapshot...\n",
            "2019-02-16 21:02:51 | itr #192 | Saved\n",
            "2019-02-16 21:02:51 | --------------------------  -------------\n",
            "2019-02-16 21:02:51 | AverageDiscountedReturn      61.1843\n",
            "2019-02-16 21:02:51 | AverageReturn                65.2132\n",
            "2019-02-16 21:02:51 | Baseline/ExplainedVariance    0.735377\n",
            "2019-02-16 21:02:51 | Entropy                       1.90559\n",
            "2019-02-16 21:02:51 | EnvExecTime                   0.765765\n",
            "2019-02-16 21:02:51 | Iteration                   192\n",
            "2019-02-16 21:02:51 | ItrTime                       4.74482\n",
            "2019-02-16 21:02:51 | MaxReturn                   110\n",
            "2019-02-16 21:02:51 | MinReturn                   -49\n",
            "2019-02-16 21:02:51 | NumTrajs                    136\n",
            "2019-02-16 21:02:51 | Perplexity                    6.72337\n",
            "2019-02-16 21:02:51 | PolicyExecTime                3.52255\n",
            "2019-02-16 21:02:51 | ProcessExecTime               0.0386436\n",
            "2019-02-16 21:02:51 | StdReturn                    47.1162\n",
            "2019-02-16 21:02:51 | Time                        972.604\n",
            "2019-02-16 21:02:51 | policy/Entropy                0.211918\n",
            "2019-02-16 21:02:51 | policy/KL                     0.00800031\n",
            "2019-02-16 21:02:51 | policy/KLBefore               0\n",
            "2019-02-16 21:02:51 | policy/LossAfter             -0.0177084\n",
            "2019-02-16 21:02:51 | policy/LossBefore             7.55573e-09\n",
            "2019-02-16 21:02:51 | policy/dLoss                  0.0177084\n",
            "2019-02-16 21:02:51 | --------------------------  -------------\n",
            "2019-02-16 21:02:51 | itr #193 | Obtaining samples...\n",
            "2019-02-16 21:02:51 | itr #193 | Obtaining samples for iteration 193...\n"
          ],
          "name": "stdout"
        },
        {
          "output_type": "stream",
          "text": [
            "0% [##############################] 100% | ETA: 00:00:00"
          ],
          "name": "stderr"
        },
        {
          "output_type": "stream",
          "text": [
            "2019-02-16 21:02:56 | itr #193 | Processing samples...\n",
            "2019-02-16 21:02:56 | itr #193 | Logging diagnostics...\n",
            "2019-02-16 21:02:56 | itr #193 | Optimizing policy...\n",
            "2019-02-16 21:02:56 | itr #193 | Computing loss before\n",
            "2019-02-16 21:02:56 | itr #193 | Computing KL before\n",
            "2019-02-16 21:02:56 | itr #193 | Optimizing\n",
            "2019-02-16 21:02:56 | itr #193 | Start CG optimization: #parameters: 10528, #inputs: 140, #subsample_inputs: 140\n",
            "2019-02-16 21:02:56 | itr #193 | computing loss before\n",
            "2019-02-16 21:02:56 | itr #193 | performing update\n",
            "2019-02-16 21:02:56 | itr #193 | computing gradient\n",
            "2019-02-16 21:02:56 | itr #193 | gradient computed\n",
            "2019-02-16 21:02:56 | itr #193 | computing descent direction\n"
          ],
          "name": "stdout"
        },
        {
          "output_type": "stream",
          "text": [
            "\n",
            "Total time elapsed: 00:00:04\n"
          ],
          "name": "stderr"
        },
        {
          "output_type": "stream",
          "text": [
            "2019-02-16 21:02:56 | itr #193 | descent direction computed\n",
            "2019-02-16 21:02:56 | itr #193 | backtrack iters: 0\n",
            "2019-02-16 21:02:56 | itr #193 | computing loss after\n",
            "2019-02-16 21:02:56 | itr #193 | optimization finished\n",
            "2019-02-16 21:02:56 | itr #193 | Computing KL after\n",
            "2019-02-16 21:02:56 | itr #193 | Computing loss after\n",
            "2019-02-16 21:02:56 | itr #193 | Fitting baseline...\n",
            "2019-02-16 21:02:56 | itr #193 | Saving snapshot...\n",
            "2019-02-16 21:02:56 | itr #193 | Saved\n",
            "2019-02-16 21:02:56 | --------------------------  -------------\n",
            "2019-02-16 21:02:56 | AverageDiscountedReturn      62.7504\n",
            "2019-02-16 21:02:56 | AverageReturn                67.1929\n",
            "2019-02-16 21:02:56 | Baseline/ExplainedVariance    0.66169\n",
            "2019-02-16 21:02:56 | Entropy                       1.87124\n",
            "2019-02-16 21:02:56 | EnvExecTime                   0.7519\n",
            "2019-02-16 21:02:56 | Iteration                   193\n",
            "2019-02-16 21:02:56 | ItrTime                       4.69328\n",
            "2019-02-16 21:02:56 | MaxReturn                   110\n",
            "2019-02-16 21:02:56 | MinReturn                   -29\n",
            "2019-02-16 21:02:56 | NumTrajs                    140\n",
            "2019-02-16 21:02:56 | Perplexity                    6.49635\n",
            "2019-02-16 21:02:56 | PolicyExecTime                3.48934\n",
            "2019-02-16 21:02:56 | ProcessExecTime               0.0386033\n",
            "2019-02-16 21:02:56 | StdReturn                    47.3224\n",
            "2019-02-16 21:02:56 | Time                        977.357\n",
            "2019-02-16 21:02:56 | policy/Entropy                0.211422\n",
            "2019-02-16 21:02:56 | policy/KL                     0.00943709\n",
            "2019-02-16 21:02:56 | policy/KLBefore               0\n",
            "2019-02-16 21:02:56 | policy/LossAfter             -0.0185008\n",
            "2019-02-16 21:02:56 | policy/LossBefore             1.20572e-08\n",
            "2019-02-16 21:02:56 | policy/dLoss                  0.0185008\n",
            "2019-02-16 21:02:56 | --------------------------  -------------\n",
            "2019-02-16 21:02:56 | itr #194 | Obtaining samples...\n",
            "2019-02-16 21:02:56 | itr #194 | Obtaining samples for iteration 194...\n"
          ],
          "name": "stdout"
        },
        {
          "output_type": "stream",
          "text": [
            "0% [##############################] 100% | ETA: 00:00:00"
          ],
          "name": "stderr"
        },
        {
          "output_type": "stream",
          "text": [
            "2019-02-16 21:03:01 | itr #194 | Processing samples...\n",
            "2019-02-16 21:03:01 | itr #194 | Logging diagnostics...\n",
            "2019-02-16 21:03:01 | itr #194 | Optimizing policy...\n",
            "2019-02-16 21:03:01 | itr #194 | Computing loss before\n",
            "2019-02-16 21:03:01 | itr #194 | Computing KL before\n",
            "2019-02-16 21:03:01 | itr #194 | Optimizing\n",
            "2019-02-16 21:03:01 | itr #194 | Start CG optimization: #parameters: 10528, #inputs: 131, #subsample_inputs: 131\n",
            "2019-02-16 21:03:01 | itr #194 | computing loss before\n",
            "2019-02-16 21:03:01 | itr #194 | performing update\n",
            "2019-02-16 21:03:01 | itr #194 | computing gradient\n",
            "2019-02-16 21:03:01 | itr #194 | gradient computed\n",
            "2019-02-16 21:03:01 | itr #194 | computing descent direction\n"
          ],
          "name": "stdout"
        },
        {
          "output_type": "stream",
          "text": [
            "\n",
            "Total time elapsed: 00:00:04\n"
          ],
          "name": "stderr"
        },
        {
          "output_type": "stream",
          "text": [
            "2019-02-16 21:03:01 | itr #194 | descent direction computed\n",
            "2019-02-16 21:03:01 | itr #194 | backtrack iters: 0\n",
            "2019-02-16 21:03:01 | itr #194 | computing loss after\n",
            "2019-02-16 21:03:01 | itr #194 | optimization finished\n",
            "2019-02-16 21:03:01 | itr #194 | Computing KL after\n",
            "2019-02-16 21:03:01 | itr #194 | Computing loss after\n",
            "2019-02-16 21:03:01 | itr #194 | Fitting baseline...\n",
            "2019-02-16 21:03:01 | itr #194 | Saving snapshot...\n",
            "2019-02-16 21:03:01 | itr #194 | Saved\n",
            "2019-02-16 21:03:01 | --------------------------  -------------\n",
            "2019-02-16 21:03:01 | AverageDiscountedReturn      64.3826\n",
            "2019-02-16 21:03:01 | AverageReturn                68.9771\n",
            "2019-02-16 21:03:01 | Baseline/ExplainedVariance    0.622975\n",
            "2019-02-16 21:03:01 | Entropy                       1.78462\n",
            "2019-02-16 21:03:01 | EnvExecTime                   0.782508\n",
            "2019-02-16 21:03:01 | Iteration                   194\n",
            "2019-02-16 21:03:01 | ItrTime                       4.89262\n",
            "2019-02-16 21:03:01 | MaxReturn                   110\n",
            "2019-02-16 21:03:01 | MinReturn                   -30\n",
            "2019-02-16 21:03:01 | NumTrajs                    131\n",
            "2019-02-16 21:03:01 | Perplexity                    5.95734\n",
            "2019-02-16 21:03:01 | PolicyExecTime                3.67671\n",
            "2019-02-16 21:03:01 | ProcessExecTime               0.0394659\n",
            "2019-02-16 21:03:01 | StdReturn                    42.9584\n",
            "2019-02-16 21:03:01 | Time                        982.285\n",
            "2019-02-16 21:03:01 | policy/Entropy                0.242639\n",
            "2019-02-16 21:03:01 | policy/KL                     0.00979544\n",
            "2019-02-16 21:03:01 | policy/KLBefore               0\n",
            "2019-02-16 21:03:01 | policy/LossAfter             -0.0142846\n",
            "2019-02-16 21:03:01 | policy/LossBefore             2.24559e-08\n",
            "2019-02-16 21:03:01 | policy/dLoss                  0.0142846\n",
            "2019-02-16 21:03:01 | --------------------------  -------------\n",
            "2019-02-16 21:03:01 | itr #195 | Obtaining samples...\n",
            "2019-02-16 21:03:01 | itr #195 | Obtaining samples for iteration 195...\n"
          ],
          "name": "stdout"
        },
        {
          "output_type": "stream",
          "text": [
            "0% [##############################] 100% | ETA: 00:00:00"
          ],
          "name": "stderr"
        },
        {
          "output_type": "stream",
          "text": [
            "2019-02-16 21:03:05 | itr #195 | Processing samples...\n",
            "2019-02-16 21:03:05 | itr #195 | Logging diagnostics...\n",
            "2019-02-16 21:03:05 | itr #195 | Optimizing policy...\n",
            "2019-02-16 21:03:05 | itr #195 | Computing loss before\n",
            "2019-02-16 21:03:05 | itr #195 | Computing KL before\n",
            "2019-02-16 21:03:06 | itr #195 | Optimizing\n",
            "2019-02-16 21:03:06 | itr #195 | Start CG optimization: #parameters: 10528, #inputs: 129, #subsample_inputs: 129\n",
            "2019-02-16 21:03:06 | itr #195 | computing loss before\n",
            "2019-02-16 21:03:06 | itr #195 | performing update\n",
            "2019-02-16 21:03:06 | itr #195 | computing gradient\n",
            "2019-02-16 21:03:06 | itr #195 | gradient computed\n",
            "2019-02-16 21:03:06 | itr #195 | computing descent direction\n"
          ],
          "name": "stdout"
        },
        {
          "output_type": "stream",
          "text": [
            "\n",
            "Total time elapsed: 00:00:04\n"
          ],
          "name": "stderr"
        },
        {
          "output_type": "stream",
          "text": [
            "2019-02-16 21:03:06 | itr #195 | descent direction computed\n",
            "2019-02-16 21:03:06 | itr #195 | backtrack iters: 1\n",
            "2019-02-16 21:03:06 | itr #195 | computing loss after\n",
            "2019-02-16 21:03:06 | itr #195 | optimization finished\n",
            "2019-02-16 21:03:06 | itr #195 | Computing KL after\n",
            "2019-02-16 21:03:06 | itr #195 | Computing loss after\n",
            "2019-02-16 21:03:06 | itr #195 | Fitting baseline...\n",
            "2019-02-16 21:03:06 | itr #195 | Saving snapshot...\n",
            "2019-02-16 21:03:06 | itr #195 | Saved\n",
            "2019-02-16 21:03:06 | --------------------------  -------------\n",
            "2019-02-16 21:03:06 | AverageDiscountedReturn      59.1266\n",
            "2019-02-16 21:03:06 | AverageReturn                63.062\n",
            "2019-02-16 21:03:06 | Baseline/ExplainedVariance    0.63523\n",
            "2019-02-16 21:03:06 | Entropy                       1.78207\n",
            "2019-02-16 21:03:06 | EnvExecTime                   0.776718\n",
            "2019-02-16 21:03:06 | Iteration                   195\n",
            "2019-02-16 21:03:06 | ItrTime                       4.86468\n",
            "2019-02-16 21:03:06 | MaxReturn                   110\n",
            "2019-02-16 21:03:06 | MinReturn                   -21\n",
            "2019-02-16 21:03:06 | NumTrajs                    129\n",
            "2019-02-16 21:03:06 | Perplexity                    5.94213\n",
            "2019-02-16 21:03:06 | PolicyExecTime                3.64049\n",
            "2019-02-16 21:03:06 | ProcessExecTime               0.0386209\n",
            "2019-02-16 21:03:06 | StdReturn                    43.7767\n",
            "2019-02-16 21:03:06 | Time                        987.213\n",
            "2019-02-16 21:03:06 | policy/Entropy                0.243887\n",
            "2019-02-16 21:03:06 | policy/KL                     0.00932569\n",
            "2019-02-16 21:03:06 | policy/KLBefore               0\n",
            "2019-02-16 21:03:06 | policy/LossAfter             -0.0140332\n",
            "2019-02-16 21:03:06 | policy/LossBefore             1.02999e-08\n",
            "2019-02-16 21:03:06 | policy/dLoss                  0.0140332\n",
            "2019-02-16 21:03:06 | --------------------------  -------------\n",
            "2019-02-16 21:03:06 | itr #196 | Obtaining samples...\n",
            "2019-02-16 21:03:06 | itr #196 | Obtaining samples for iteration 196...\n"
          ],
          "name": "stdout"
        },
        {
          "output_type": "stream",
          "text": [
            "0% [##############################] 100% | ETA: 00:00:00"
          ],
          "name": "stderr"
        },
        {
          "output_type": "stream",
          "text": [
            "2019-02-16 21:03:10 | itr #196 | Processing samples...\n",
            "2019-02-16 21:03:10 | itr #196 | Logging diagnostics...\n",
            "2019-02-16 21:03:10 | itr #196 | Optimizing policy...\n",
            "2019-02-16 21:03:10 | itr #196 | Computing loss before\n",
            "2019-02-16 21:03:10 | itr #196 | Computing KL before\n",
            "2019-02-16 21:03:10 | itr #196 | Optimizing\n",
            "2019-02-16 21:03:10 | itr #196 | Start CG optimization: #parameters: 10528, #inputs: 143, #subsample_inputs: 143\n",
            "2019-02-16 21:03:10 | itr #196 | computing loss before\n",
            "2019-02-16 21:03:10 | itr #196 | performing update\n",
            "2019-02-16 21:03:10 | itr #196 | computing gradient\n",
            "2019-02-16 21:03:10 | itr #196 | gradient computed\n",
            "2019-02-16 21:03:10 | itr #196 | computing descent direction\n"
          ],
          "name": "stdout"
        },
        {
          "output_type": "stream",
          "text": [
            "\n",
            "Total time elapsed: 00:00:04\n"
          ],
          "name": "stderr"
        },
        {
          "output_type": "stream",
          "text": [
            "2019-02-16 21:03:10 | itr #196 | descent direction computed\n",
            "2019-02-16 21:03:10 | itr #196 | backtrack iters: 1\n",
            "2019-02-16 21:03:10 | itr #196 | computing loss after\n",
            "2019-02-16 21:03:10 | itr #196 | optimization finished\n",
            "2019-02-16 21:03:10 | itr #196 | Computing KL after\n",
            "2019-02-16 21:03:11 | itr #196 | Computing loss after\n",
            "2019-02-16 21:03:11 | itr #196 | Fitting baseline...\n",
            "2019-02-16 21:03:11 | itr #196 | Saving snapshot...\n",
            "2019-02-16 21:03:11 | itr #196 | Saved\n",
            "2019-02-16 21:03:11 | --------------------------  -------------\n",
            "2019-02-16 21:03:11 | AverageDiscountedReturn      65.7519\n",
            "2019-02-16 21:03:11 | AverageReturn                70.4126\n",
            "2019-02-16 21:03:11 | Baseline/ExplainedVariance    0.712942\n",
            "2019-02-16 21:03:11 | Entropy                       1.80221\n",
            "2019-02-16 21:03:11 | EnvExecTime                   0.765593\n",
            "2019-02-16 21:03:11 | Iteration                   196\n",
            "2019-02-16 21:03:11 | ItrTime                       4.72862\n",
            "2019-02-16 21:03:11 | MaxReturn                   110\n",
            "2019-02-16 21:03:11 | MinReturn                   -25\n",
            "2019-02-16 21:03:11 | NumTrajs                    143\n",
            "2019-02-16 21:03:11 | Perplexity                    6.06304\n",
            "2019-02-16 21:03:11 | PolicyExecTime                3.48091\n",
            "2019-02-16 21:03:11 | ProcessExecTime               0.0386689\n",
            "2019-02-16 21:03:11 | StdReturn                    45.2011\n",
            "2019-02-16 21:03:11 | Time                        991.976\n",
            "2019-02-16 21:03:11 | policy/Entropy                0.211936\n",
            "2019-02-16 21:03:11 | policy/KL                     0.00820818\n",
            "2019-02-16 21:03:11 | policy/KLBefore               0\n",
            "2019-02-16 21:03:11 | policy/LossAfter             -0.0165452\n",
            "2019-02-16 21:03:11 | policy/LossBefore             1.49267e-08\n",
            "2019-02-16 21:03:11 | policy/dLoss                  0.0165452\n",
            "2019-02-16 21:03:11 | --------------------------  -------------\n",
            "2019-02-16 21:03:11 | itr #197 | Obtaining samples...\n",
            "2019-02-16 21:03:11 | itr #197 | Obtaining samples for iteration 197...\n"
          ],
          "name": "stdout"
        },
        {
          "output_type": "stream",
          "text": [
            "0% [##############################] 100% | ETA: 00:00:00"
          ],
          "name": "stderr"
        },
        {
          "output_type": "stream",
          "text": [
            "2019-02-16 21:03:15 | itr #197 | Processing samples...\n",
            "2019-02-16 21:03:15 | itr #197 | Logging diagnostics...\n",
            "2019-02-16 21:03:15 | itr #197 | Optimizing policy...\n",
            "2019-02-16 21:03:15 | itr #197 | Computing loss before\n",
            "2019-02-16 21:03:15 | itr #197 | Computing KL before\n",
            "2019-02-16 21:03:15 | itr #197 | Optimizing\n",
            "2019-02-16 21:03:15 | itr #197 | Start CG optimization: #parameters: 10528, #inputs: 138, #subsample_inputs: 138\n",
            "2019-02-16 21:03:15 | itr #197 | computing loss before\n",
            "2019-02-16 21:03:15 | itr #197 | performing update\n",
            "2019-02-16 21:03:15 | itr #197 | computing gradient\n",
            "2019-02-16 21:03:15 | itr #197 | gradient computed\n",
            "2019-02-16 21:03:15 | itr #197 | computing descent direction\n"
          ],
          "name": "stdout"
        },
        {
          "output_type": "stream",
          "text": [
            "\n",
            "Total time elapsed: 00:00:04\n"
          ],
          "name": "stderr"
        },
        {
          "output_type": "stream",
          "text": [
            "2019-02-16 21:03:16 | itr #197 | descent direction computed\n",
            "2019-02-16 21:03:16 | itr #197 | backtrack iters: 1\n",
            "2019-02-16 21:03:16 | itr #197 | computing loss after\n",
            "2019-02-16 21:03:16 | itr #197 | optimization finished\n",
            "2019-02-16 21:03:16 | itr #197 | Computing KL after\n",
            "2019-02-16 21:03:16 | itr #197 | Computing loss after\n",
            "2019-02-16 21:03:16 | itr #197 | Fitting baseline...\n",
            "2019-02-16 21:03:16 | itr #197 | Saving snapshot...\n",
            "2019-02-16 21:03:16 | itr #197 | Saved\n",
            "2019-02-16 21:03:16 | --------------------------  -------------\n",
            "2019-02-16 21:03:16 | AverageDiscountedReturn      59.0338\n",
            "2019-02-16 21:03:16 | AverageReturn                62.7899\n",
            "2019-02-16 21:03:16 | Baseline/ExplainedVariance    0.71081\n",
            "2019-02-16 21:03:16 | Entropy                       1.85211\n",
            "2019-02-16 21:03:16 | EnvExecTime                   0.834399\n",
            "2019-02-16 21:03:16 | Iteration                   197\n",
            "2019-02-16 21:03:16 | ItrTime                       4.98627\n",
            "2019-02-16 21:03:16 | MaxReturn                   110\n",
            "2019-02-16 21:03:16 | MinReturn                   -48\n",
            "2019-02-16 21:03:16 | NumTrajs                    138\n",
            "2019-02-16 21:03:16 | Perplexity                    6.37327\n",
            "2019-02-16 21:03:16 | PolicyExecTime                3.66808\n",
            "2019-02-16 21:03:16 | ProcessExecTime               0.0395758\n",
            "2019-02-16 21:03:16 | StdReturn                    47.4645\n",
            "2019-02-16 21:03:16 | Time                        997.014\n",
            "2019-02-16 21:03:16 | policy/Entropy                0.217047\n",
            "2019-02-16 21:03:16 | policy/KL                     0.00762508\n",
            "2019-02-16 21:03:16 | policy/KLBefore               0\n",
            "2019-02-16 21:03:16 | policy/LossAfter             -0.0176758\n",
            "2019-02-16 21:03:16 | policy/LossBefore            -4.40336e-09\n",
            "2019-02-16 21:03:16 | policy/dLoss                  0.0176758\n",
            "2019-02-16 21:03:16 | --------------------------  -------------\n",
            "2019-02-16 21:03:16 | itr #198 | Obtaining samples...\n",
            "2019-02-16 21:03:16 | itr #198 | Obtaining samples for iteration 198...\n"
          ],
          "name": "stdout"
        },
        {
          "output_type": "stream",
          "text": [
            "0% [##############################] 100% | ETA: 00:00:00"
          ],
          "name": "stderr"
        },
        {
          "output_type": "stream",
          "text": [
            "2019-02-16 21:03:20 | itr #198 | Processing samples...\n",
            "2019-02-16 21:03:20 | itr #198 | Logging diagnostics...\n",
            "2019-02-16 21:03:20 | itr #198 | Optimizing policy...\n",
            "2019-02-16 21:03:20 | itr #198 | Computing loss before\n",
            "2019-02-16 21:03:20 | itr #198 | Computing KL before\n",
            "2019-02-16 21:03:20 | itr #198 | Optimizing\n",
            "2019-02-16 21:03:20 | itr #198 | Start CG optimization: #parameters: 10528, #inputs: 140, #subsample_inputs: 140\n",
            "2019-02-16 21:03:20 | itr #198 | computing loss before\n",
            "2019-02-16 21:03:20 | itr #198 | performing update\n",
            "2019-02-16 21:03:20 | itr #198 | computing gradient\n",
            "2019-02-16 21:03:20 | itr #198 | gradient computed\n",
            "2019-02-16 21:03:20 | itr #198 | computing descent direction\n"
          ],
          "name": "stdout"
        },
        {
          "output_type": "stream",
          "text": [
            "\n",
            "Total time elapsed: 00:00:04\n"
          ],
          "name": "stderr"
        },
        {
          "output_type": "stream",
          "text": [
            "2019-02-16 21:03:20 | itr #198 | descent direction computed\n",
            "2019-02-16 21:03:20 | itr #198 | backtrack iters: 0\n",
            "2019-02-16 21:03:20 | itr #198 | computing loss after\n",
            "2019-02-16 21:03:20 | itr #198 | optimization finished\n",
            "2019-02-16 21:03:20 | itr #198 | Computing KL after\n",
            "2019-02-16 21:03:20 | itr #198 | Computing loss after\n",
            "2019-02-16 21:03:20 | itr #198 | Fitting baseline...\n",
            "2019-02-16 21:03:20 | itr #198 | Saving snapshot...\n",
            "2019-02-16 21:03:20 | itr #198 | Saved\n",
            "2019-02-16 21:03:20 | --------------------------  --------------\n",
            "2019-02-16 21:03:20 | AverageDiscountedReturn       64.3302\n",
            "2019-02-16 21:03:20 | AverageReturn                 68.7571\n",
            "2019-02-16 21:03:20 | Baseline/ExplainedVariance     0.720299\n",
            "2019-02-16 21:03:20 | Entropy                        1.763\n",
            "2019-02-16 21:03:20 | EnvExecTime                    0.752648\n",
            "2019-02-16 21:03:20 | Iteration                    198\n",
            "2019-02-16 21:03:20 | ItrTime                        4.67907\n",
            "2019-02-16 21:03:20 | MaxReturn                    110\n",
            "2019-02-16 21:03:20 | MinReturn                    -57\n",
            "2019-02-16 21:03:20 | NumTrajs                     140\n",
            "2019-02-16 21:03:20 | Perplexity                     5.82992\n",
            "2019-02-16 21:03:20 | PolicyExecTime                 3.48\n",
            "2019-02-16 21:03:20 | ProcessExecTime                0.0397627\n",
            "2019-02-16 21:03:20 | StdReturn                     46.3725\n",
            "2019-02-16 21:03:20 | Time                        1001.75\n",
            "2019-02-16 21:03:20 | policy/Entropy                 0.222296\n",
            "2019-02-16 21:03:20 | policy/KL                      0.00742462\n",
            "2019-02-16 21:03:20 | policy/KLBefore                0\n",
            "2019-02-16 21:03:20 | policy/LossAfter              -8.99029e-05\n",
            "2019-02-16 21:03:20 | policy/LossBefore             -3.76667e-09\n",
            "2019-02-16 21:03:20 | policy/dLoss                   8.98992e-05\n",
            "2019-02-16 21:03:20 | --------------------------  --------------\n",
            "2019-02-16 21:03:20 | itr #199 | Obtaining samples...\n",
            "2019-02-16 21:03:20 | itr #199 | Obtaining samples for iteration 199...\n"
          ],
          "name": "stdout"
        },
        {
          "output_type": "stream",
          "text": [
            "0% [##############################] 100% | ETA: 00:00:00"
          ],
          "name": "stderr"
        },
        {
          "output_type": "stream",
          "text": [
            "2019-02-16 21:03:25 | itr #199 | Processing samples...\n",
            "2019-02-16 21:03:25 | itr #199 | Logging diagnostics...\n",
            "2019-02-16 21:03:25 | itr #199 | Optimizing policy...\n",
            "2019-02-16 21:03:25 | itr #199 | Computing loss before\n",
            "2019-02-16 21:03:25 | itr #199 | Computing KL before\n",
            "2019-02-16 21:03:25 | itr #199 | Optimizing\n",
            "2019-02-16 21:03:25 | itr #199 | Start CG optimization: #parameters: 10528, #inputs: 141, #subsample_inputs: 141\n",
            "2019-02-16 21:03:25 | itr #199 | computing loss before\n",
            "2019-02-16 21:03:25 | itr #199 | performing update\n",
            "2019-02-16 21:03:25 | itr #199 | computing gradient\n",
            "2019-02-16 21:03:25 | itr #199 | gradient computed\n",
            "2019-02-16 21:03:25 | itr #199 | computing descent direction\n"
          ],
          "name": "stdout"
        },
        {
          "output_type": "stream",
          "text": [
            "\n",
            "Total time elapsed: 00:00:04\n"
          ],
          "name": "stderr"
        },
        {
          "output_type": "stream",
          "text": [
            "2019-02-16 21:03:25 | itr #199 | descent direction computed\n",
            "2019-02-16 21:03:25 | itr #199 | backtrack iters: 1\n",
            "2019-02-16 21:03:25 | itr #199 | computing loss after\n",
            "2019-02-16 21:03:25 | itr #199 | optimization finished\n",
            "2019-02-16 21:03:25 | itr #199 | Computing KL after\n",
            "2019-02-16 21:03:25 | itr #199 | Computing loss after\n",
            "2019-02-16 21:03:25 | itr #199 | Fitting baseline...\n",
            "2019-02-16 21:03:25 | itr #199 | Saving snapshot...\n",
            "2019-02-16 21:03:25 | itr #199 | Saved\n",
            "2019-02-16 21:03:25 | --------------------------  -------------\n",
            "2019-02-16 21:03:25 | AverageDiscountedReturn       64.4125\n",
            "2019-02-16 21:03:25 | AverageReturn                 69.1064\n",
            "2019-02-16 21:03:25 | Baseline/ExplainedVariance     0.691368\n",
            "2019-02-16 21:03:25 | Entropy                        1.85304\n",
            "2019-02-16 21:03:25 | EnvExecTime                    0.762949\n",
            "2019-02-16 21:03:25 | Iteration                    199\n",
            "2019-02-16 21:03:25 | ItrTime                        4.78872\n",
            "2019-02-16 21:03:25 | MaxReturn                    110\n",
            "2019-02-16 21:03:25 | MinReturn                    -29\n",
            "2019-02-16 21:03:25 | NumTrajs                     141\n",
            "2019-02-16 21:03:25 | Perplexity                     6.3792\n",
            "2019-02-16 21:03:25 | PolicyExecTime                 3.56397\n",
            "2019-02-16 21:03:25 | ProcessExecTime                0.0405347\n",
            "2019-02-16 21:03:25 | StdReturn                     46.4635\n",
            "2019-02-16 21:03:25 | Time                        1006.58\n",
            "2019-02-16 21:03:25 | policy/Entropy                 0.212781\n",
            "2019-02-16 21:03:25 | policy/KL                      0.00804704\n",
            "2019-02-16 21:03:25 | policy/KLBefore                0\n",
            "2019-02-16 21:03:25 | policy/LossAfter              -0.0161583\n",
            "2019-02-16 21:03:25 | policy/LossBefore             -2.0712e-08\n",
            "2019-02-16 21:03:25 | policy/dLoss                   0.0161583\n",
            "2019-02-16 21:03:25 | --------------------------  -------------\n"
          ],
          "name": "stdout"
        },
        {
          "output_type": "execute_result",
          "data": {
            "text/plain": [
              "69.1063829787234"
            ]
          },
          "metadata": {
            "tags": []
          },
          "execution_count": 22
        }
      ]
    },
    {
      "metadata": {
        "id": "zLBLdbfgi163",
        "colab_type": "text"
      },
      "cell_type": "markdown",
      "source": [
        "# Results\n",
        "\n",
        "The below shows a sample water input and the steps in the design/control process of the trained agent"
      ]
    },
    {
      "metadata": {
        "id": "5WFM_CmDfApo",
        "colab_type": "code",
        "outputId": "550d40bf-40fe-44ab-d7de-4095988e5a2f",
        "colab": {
          "base_uri": "https://localhost:8080/",
          "height": 544
        }
      },
      "cell_type": "code",
      "source": [
        "# validate with some experiment\n",
        "env.env.env.env.set_debug(False)\n",
        "obs_initial = env.reset().copy()\n",
        "dict(zip(state_keys, obs_initial))"
      ],
      "execution_count": 23,
      "outputs": [
        {
          "output_type": "execute_result",
          "data": {
            "text/plain": [
              "{'design_mode': 1,\n",
              " 'e0_bacteria': 0,\n",
              " 'e0_hardness': 100,\n",
              " 'e0_pd': 0,\n",
              " 'e0_turbidity': 0,\n",
              " 'e0_type': 0,\n",
              " 'e1_bacteria': 0,\n",
              " 'e1_hardness': 0,\n",
              " 'e1_pd': 0,\n",
              " 'e1_turbidity': 0,\n",
              " 'e1_type': 0,\n",
              " 'e2_bacteria': 0,\n",
              " 'e2_hardness': 0,\n",
              " 'e2_pd': 0,\n",
              " 'e2_turbidity': 0,\n",
              " 'e2_type': 0,\n",
              " 'e3_bacteria': 0,\n",
              " 'e3_hardness': 0,\n",
              " 'e3_pd': 0,\n",
              " 'e3_turbidity': 0,\n",
              " 'e3_type': 0,\n",
              " 'e4_bacteria': 0,\n",
              " 'e4_hardness': 0,\n",
              " 'e4_pd': 0,\n",
              " 'e4_turbidity': 0,\n",
              " 'e4_type': 0,\n",
              " 'out_bacteria': 0,\n",
              " 'out_hardness': 0,\n",
              " 'out_turbidity': 0,\n",
              " 'wl_in': 100,\n",
              " 'wl_out': 0}"
            ]
          },
          "metadata": {
            "tags": []
          },
          "execution_count": 23
        }
      ]
    },
    {
      "metadata": {
        "id": "CbkG4EZuy4Ex",
        "colab_type": "code",
        "colab": {}
      },
      "cell_type": "code",
      "source": [
        "\n",
        "# go through time steps and apply sequence of actions\n",
        "done = False\n",
        "obs_t_l = obs_initial\n",
        "solution1 = dict(obs = [], rew = [], act = [])\n",
        "while not done:\n",
        "  obs_t_d = dict(zip(state_keys, obs_t_l)) # tuple to dict\n",
        "  #print(\"obs\", obs_t_d)\n",
        "  solution1['obs'].append(obs_t_d)\n",
        "  act_t1, prob_t = policy.get_action(obs_t_l)\n",
        "  act_t2 = env.env.env.action(act_t1) # convert flat to non-flat\n",
        "  act_t2 = dict(zip(action_keys, act_t2)) # tuple to dict\n",
        "  #print(\"action\", act_t1, act_t2)\n",
        "  solution1['act'].append(act_t2)\n",
        "  obs_t_l, reward_t, done, _ = env.step(act_t1)\n",
        "  #print(\"rew\", reward_t)\n",
        "  solution1['rew'].append(reward_t)\n",
        "  if done: break"
      ],
      "execution_count": 0,
      "outputs": []
    },
    {
      "metadata": {
        "id": "cI5M0VCQgIv_",
        "colab_type": "code",
        "outputId": "a9db809d-02fd-4e8a-b6a3-070aecf1af56",
        "colab": {
          "base_uri": "https://localhost:8080/",
          "height": 654
        }
      },
      "cell_type": "code",
      "source": [
        "\n",
        "# convert to df\n",
        "solution2 = convert_lists_ObsActRew_df(solution1)\n",
        "\n",
        "# display\n",
        "with pd.option_context(\n",
        "    'display.max_colwidth', 100,\n",
        "    'expand_frame_repr', False,\n",
        "    'display.max_rows', 250,\n",
        "    'display.max_columns', 500,\n",
        "):\n",
        "  print(solution2)"
      ],
      "execution_count": 25,
      "outputs": [
        {
          "output_type": "stream",
          "text": [
            "    wl_in  wl_out  out_turbidity  out_hardness  out_bacteria  design_mode  pump_status      ei_type   rew summary_turbidity summary_hardness summary_bacteria       summary_pd   summary_status                                summary_type\n",
            "0     100       0              0             0             0            1            0     softener   9.0   0, 0, 0, 0, 0,   1, 0, 0, 0, 0,   0, 0, 0, 0, 0,   0, 0, 0, 0, 0,   0, 0, 0, 0, 1,               pipe, pipe, pipe, pipe, pipe, \n",
            "1      90      10              0             0             0            1            1         pipe  10.0   0, 0, 0, 0, 0,   1, 0, 0, 0, 0,   0, 0, 0, 0, 0,   0, 0, 0, 0, 0,   0, 1, 1, 0, 0,           softener, pipe, pipe, pipe, pipe, \n",
            "2      80      20              0             0             0            1            0         pipe  10.0   0, 0, 0, 0, 0,   1, 0, 0, 0, 0,   0, 0, 0, 0, 0,   0, 0, 0, 0, 0,   0, 0, 0, 0, 0,           softener, pipe, pipe, pipe, pipe, \n",
            "3      70      30              0             0             0            1            0     softener   6.0   0, 0, 0, 0, 0,   1, 0, 0, 0, 0,   0, 0, 0, 0, 0,   0, 0, 0, 0, 0,   0, 0, 0, 0, 0,           softener, pipe, pipe, pipe, pipe, \n",
            "4      60      40              0             0             0            1            0     softener   3.0   0, 0, 0, 0, 0,   1, 0, 0, 0, 0,   0, 0, 0, 0, 0,   0, 0, 0, 0, 0,   0, 0, 0, 0, 1,       softener, pipe, pipe, softener, pipe, \n",
            "5     100       0              0             0             0            1            0     softener   3.0   0, 0, 0, 0, 0,   1, 0, 0, 0, 0,   0, 0, 0, 0, 0,   0, 0, 0, 0, 0,   0, 0, 0, 0, 0,   softener, pipe, pipe, softener, softener, \n",
            "6      90      10              0             0             0            0            0         pipe  -1.0   0, 0, 0, 0, 0,   1, 0, 0, 0, 0,   0, 0, 0, 0, 0,   1, 0, 0, 1, 1,   1, 0, 0, 0, 0,   softener, pipe, pipe, softener, softener, \n",
            "7      90      10              0             0             0            0            0     softener  -1.0   0, 0, 0, 0, 0,   1, 0, 0, 0, 0,   0, 0, 0, 0, 0,   1, 0, 0, 1, 1,   0, 0, 0, 0, 1,   softener, pipe, pipe, softener, softener, \n",
            "8      90      10              0             0             0            0            0         pipe   0.0   0, 0, 0, 0, 0,   1, 0, 0, 0, 0,   0, 0, 0, 0, 0,   1, 0, 0, 1, 1,   0, 0, 0, 0, 0,   softener, pipe, pipe, softener, softener, \n",
            "9      90      10              0             0             0            0            0         pipe  -1.0   0, 0, 0, 0, 0,   1, 0, 0, 0, 0,   0, 0, 0, 0, 0,   1, 0, 0, 1, 1,   1, 0, 0, 0, 0,   softener, pipe, pipe, softener, softener, \n",
            "10     90      10              0             0             0            0            0  sand filter  -1.0   0, 0, 0, 0, 0,   1, 0, 0, 0, 0,   0, 0, 0, 0, 0,   1, 0, 0, 1, 1,   0, 0, 0, 0, 1,   softener, pipe, pipe, softener, softener, \n",
            "11     90      10              0             0             0            0            0  sand filter  -1.0   0, 0, 0, 0, 0,   1, 0, 0, 0, 0,   0, 0, 0, 0, 0,   1, 0, 0, 1, 1,   0, 0, 0, 0, 1,   softener, pipe, pipe, softener, softener, \n",
            "12     90      10              0             0             0            0            0     softener  -1.0   0, 0, 0, 0, 0,   1, 0, 0, 0, 0,   0, 0, 0, 0, 0,   1, 0, 0, 1, 1,   0, 0, 0, 0, 1,   softener, pipe, pipe, softener, softener, \n",
            "13     90      10              0             0             0            0            0     softener  -1.0   0, 0, 0, 0, 0,   1, 0, 0, 0, 0,   0, 0, 0, 0, 0,   1, 0, 0, 1, 1,   0, 0, 0, 0, 1,   softener, pipe, pipe, softener, softener, \n",
            "14     90      10              0             0             0            0            0     softener  -1.0   0, 0, 0, 0, 0,   1, 0, 0, 0, 0,   0, 0, 0, 0, 0,   1, 0, 0, 1, 1,   0, 0, 0, 0, 1,   softener, pipe, pipe, softener, softener, \n",
            "15     90      10              0             0             0            0            0         pipe  -1.0   0, 0, 0, 0, 0,   1, 0, 0, 0, 0,   0, 0, 0, 0, 0,   1, 0, 0, 1, 1,   1, 0, 0, 0, 0,   softener, pipe, pipe, softener, softener, \n",
            "16     90      10              0             0             0            0            0           UV  -2.0   0, 0, 0, 0, 0,   1, 0, 0, 0, 0,   0, 0, 0, 0, 0,   1, 0, 0, 1, 1,   1, 1, 1, 0, 1,   softener, pipe, pipe, softener, softener, \n",
            "17     90      10              0             0             0            0            0     softener   0.0   0, 0, 0, 0, 0,   1, 0, 0, 0, 0,   0, 0, 0, 0, 0,   1, 0, 0, 1, 1,   0, 0, 0, 0, 0,   softener, pipe, pipe, softener, softener, \n",
            "18     90      10              0             0             0            0            0         pipe  -1.0   0, 0, 0, 0, 0,   1, 0, 0, 0, 0,   0, 0, 0, 0, 0,   1, 0, 0, 1, 1,   0, 0, 0, 1, 0,   softener, pipe, pipe, softener, softener, \n",
            "19     90      10              0             0             0            0            0  sand filter  -1.0   0, 0, 0, 0, 0,   1, 0, 0, 0, 0,   0, 0, 0, 0, 0,   1, 0, 0, 1, 1,   0, 0, 0, 0, 1,   softener, pipe, pipe, softener, softener, \n",
            "20     90      10              0             0             0            0            0  sand filter  -1.0   0, 0, 0, 0, 0,   1, 0, 0, 0, 0,   0, 0, 0, 0, 0,   1, 0, 0, 1, 1,   0, 0, 0, 0, 1,   softener, pipe, pipe, softener, softener, \n",
            "21     90      10              0             0             0            0            0  sand filter  -1.0   0, 0, 0, 0, 0,   1, 0, 0, 0, 0,   0, 0, 0, 0, 0,   1, 0, 0, 1, 1,   0, 0, 0, 0, 1,   softener, pipe, pipe, softener, softener, \n",
            "22     90      10              0             0             0            0            0         pipe   0.0   0, 0, 0, 0, 0,   1, 0, 0, 0, 0,   0, 0, 0, 0, 0,   1, 0, 0, 1, 1,   0, 0, 0, 0, 0,   softener, pipe, pipe, softener, softener, \n",
            "23     90      10              0             0             0            0            0         pipe  -1.0   0, 0, 0, 0, 0,   1, 0, 0, 0, 0,   0, 0, 0, 0, 0,   1, 0, 0, 1, 1,   1, 0, 0, 0, 0,   softener, pipe, pipe, softener, softener, \n",
            "24     90      10              0             0             0            0            0     softener   0.0   0, 0, 0, 0, 0,   1, 0, 0, 0, 0,   0, 0, 0, 0, 0,   1, 0, 0, 1, 1,   0, 0, 0, 0, 0,   softener, pipe, pipe, softener, softener, \n",
            "25     90      10              0             0             0            0            0     softener   0.0   0, 0, 0, 0, 0,   1, 0, 0, 0, 0,   0, 0, 0, 0, 0,   1, 0, 0, 1, 1,   0, 0, 0, 0, 0,   softener, pipe, pipe, softener, softener, \n",
            "26     90      10              0             0             0            0            0         pipe   0.0   0, 0, 0, 0, 0,   1, 0, 0, 0, 0,   0, 0, 0, 0, 0,   1, 0, 0, 1, 1,   0, 0, 0, 0, 0,   softener, pipe, pipe, softener, softener, \n",
            "27     90      10              0             0             0            0            0     softener   0.0   0, 0, 0, 0, 0,   1, 0, 0, 0, 0,   0, 0, 0, 0, 0,   1, 0, 0, 1, 1,   0, 0, 0, 0, 0,   softener, pipe, pipe, softener, softener, \n",
            "28     90      10              0             0             0            0            0     softener   0.0   0, 0, 0, 0, 0,   1, 0, 0, 0, 0,   0, 0, 0, 0, 0,   1, 0, 0, 1, 1,   0, 0, 0, 0, 0,   softener, pipe, pipe, softener, softener, \n",
            "29     90      10              0             0             0            0            0  sand filter  -1.0   0, 0, 0, 0, 0,   1, 0, 0, 0, 0,   0, 0, 0, 0, 0,   1, 0, 0, 1, 1,   0, 0, 0, 0, 1,   softener, pipe, pipe, softener, softener, \n",
            "30     90      10              0             0             0            0            0  sand filter  -1.0   0, 0, 0, 0, 0,   1, 0, 0, 0, 0,   0, 0, 0, 0, 0,   1, 0, 0, 1, 1,   0, 0, 0, 0, 1,   softener, pipe, pipe, softener, softener, \n",
            "31     90      10              0             0             0            0            0  sand filter  -1.0   0, 0, 0, 0, 0,   1, 0, 0, 0, 0,   0, 0, 0, 0, 0,   1, 0, 0, 1, 1,   0, 0, 0, 0, 1,   softener, pipe, pipe, softener, softener, \n",
            "32     90      10              0             0             0            0            0     softener   0.0   0, 0, 0, 0, 0,   1, 0, 0, 0, 0,   0, 0, 0, 0, 0,   1, 0, 0, 1, 1,   0, 0, 0, 0, 0,   softener, pipe, pipe, softener, softener, \n",
            "33     90      10              0             0             0            0            0         pipe   0.0   0, 0, 0, 0, 0,   1, 0, 0, 0, 0,   0, 0, 0, 0, 0,   1, 0, 0, 1, 1,   0, 0, 0, 0, 0,   softener, pipe, pipe, softener, softener, \n",
            "34     90      10              0             0             0            0            0         pipe  -1.0   0, 0, 0, 0, 0,   1, 0, 0, 0, 0,   0, 0, 0, 0, 0,   1, 0, 0, 1, 1,   1, 1, 0, 0, 0,   softener, pipe, pipe, softener, softener, \n"
          ],
          "name": "stdout"
        }
      ]
    },
    {
      "metadata": {
        "id": "D4VGwkwRfAg0",
        "colab_type": "code",
        "colab": {}
      },
      "cell_type": "code",
      "source": [
        ""
      ],
      "execution_count": 0,
      "outputs": []
    },
    {
      "metadata": {
        "id": "nbhLEvkVmQHJ",
        "colab_type": "code",
        "colab": {}
      },
      "cell_type": "code",
      "source": [
        ""
      ],
      "execution_count": 0,
      "outputs": []
    }
  ]
}